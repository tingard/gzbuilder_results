{
  "cells": [
    {
      "cell_type": "code",
      "source": [
        "%load_ext autoreload\n",
        "%autoreload 2"
      ],
      "outputs": [],
      "execution_count": 1,
      "metadata": {
        "collapsed": false,
        "outputHidden": false,
        "inputHidden": false
      }
    },
    {
      "cell_type": "code",
      "source": [
        "import os\n",
        "import sys\n",
        "import json\n",
        "from time import time\n",
        "import numpy as np\n",
        "import pandas as pd\n",
        "import matplotlib.pyplot as plt\n",
        "import gzbuilder_analysis.rendering as rg\n",
        "import gzbuilder_analysis.fitting as fg\n",
        "import gzbuilder_analysis.parsing as pg\n",
        "import gzbuilder_analysis.config as cfg\n",
        "try:\n",
        "    from gzbuilder_analysis.rendering.cuda import calculate_model, oversampled_sersic_component\n",
        "except ModuleNotFoundError:\n",
        "    from gzbuilder_analysis.rendering import calculate_model, oversampled_sersic_component\n",
        "from gzbuilder_analysis.fitting.model import Model, fit_model\n",
        "from PIL import Image\n",
        "import argparse"
      ],
      "outputs": [],
      "execution_count": 2,
      "metadata": {
        "collapsed": false,
        "outputHidden": false,
        "inputHidden": false
      }
    },
    {
      "cell_type": "code",
      "source": [
        "subject_id = 20902007"
      ],
      "outputs": [],
      "execution_count": 3,
      "metadata": {
        "collapsed": false,
        "outputHidden": false,
        "inputHidden": false
      }
    },
    {
      "cell_type": "code",
      "source": [
        "im = np.array(Image.open('lib/subject_data/{}/image.png'.format(subject_id)))[::-1]\n",
        "classifications = pd.read_csv('lib/galaxy-builder-classifications.csv', index_col=0)\n",
        "fm = pd.read_pickle('lib/fitting_metadata.pkl').loc[subject_id]\n",
        "data = fm['galaxy_data']\n",
        "sigma = fm['sigma_image']\n",
        "psf = fm['psf']\n",
        "gal = pd.read_csv('lib/gal-metadata.csv', index_col=0).loc[subject_id]\n",
        "c = classifications.query('subject_ids == {}'.format(subject_id))"
      ],
      "outputs": [],
      "execution_count": 4,
      "metadata": {
        "collapsed": false,
        "outputHidden": false,
        "inputHidden": false
      }
    },
    {
      "cell_type": "code",
      "source": [
        "zoo_models = c.apply(\n",
        "    pg.parse_classification,\n",
        "    axis=1,\n",
        "    # parse_classification kwargs\n",
        "    image_size=np.array(im.shape),\n",
        "    size_diff=im.shape[0] / data.shape[0],\n",
        ")\n",
        "\n",
        "scaled_models = zoo_models.apply(\n",
        "    pg.scale_model,\n",
        "    args=(fm['size_diff'],),\n",
        ")\n",
        "\n",
        "models = scaled_models.apply(\n",
        "    pg.reproject_model,\n",
        "    wcs_in=fm['montage_wcs'], wcs_out=fm['original_wcs']\n",
        ")"
      ],
      "outputs": [],
      "execution_count": 5,
      "metadata": {
        "collapsed": false,
        "outputHidden": false,
        "inputHidden": false
      }
    },
    {
      "cell_type": "code",
      "source": [
        "print('Rendering models')\n",
        "t0 = time()\n",
        "rendered = models.apply(\n",
        "    calculate_model,\n",
        "    image_size=data.shape,\n",
        "    psf=psf,\n",
        "    oversample_n=3\n",
        ")\n",
        "print('\\tElapsed time: {:.2f}'.format(time() - t0))\n",
        "print('Calucating losses')\n",
        "t0 = time()\n",
        "chisq = rendered.apply(fg.chisq, args=(data, sigma))\n",
        "print('\\tElapsed time: {:.2f}'.format(time() - t0))"
      ],
      "outputs": [
        {
          "output_type": "stream",
          "name": "stdout",
          "text": [
            "Rendering models\n",
            "\tElapsed time: 17.84\n",
            "Calucating losses\n",
            "\tElapsed time: 0.12\n"
          ]
        }
      ],
      "execution_count": 6,
      "metadata": {
        "collapsed": false,
        "outputHidden": false,
        "inputHidden": false
      }
    },
    {
      "cell_type": "code",
      "source": [
        "idx_best = chisq.idxmin()"
      ],
      "outputs": [],
      "execution_count": 7,
      "metadata": {
        "collapsed": false,
        "outputHidden": false,
        "inputHidden": false
      }
    },
    {
      "cell_type": "code",
      "source": [
        "best_model = Model(\n",
        "    models.loc[idx_best],\n",
        "    data,\n",
        "    psf=psf,\n",
        "    sigma_image=sigma\n",
        ")\n",
        "np.allclose(\n",
        "    rg.calculate_model(models.loc[chisq.idxmin()], data.shape, psf),\n",
        "    best_model.render()\n",
        ")"
      ],
      "outputs": [
        {
          "output_type": "execute_result",
          "execution_count": 51,
          "data": {
            "text/plain": [
              "True"
            ]
          },
          "metadata": {}
        }
      ],
      "execution_count": 51,
      "metadata": {
        "collapsed": false,
        "outputHidden": false,
        "inputHidden": false
      }
    },
    {
      "cell_type": "code",
      "source": [
        "fit_model(best_model)"
      ],
      "outputs": [
        {
          "output_type": "stream",
          "name": "stderr",
          "text": [
            "chisq=2.5187: : 21it [00:37,  1.52s/it]\n"
          ]
        },
        {
          "output_type": "stream",
          "name": "stdout",
          "text": [
            "Optimizing 7 parameters\n",
            "Original chisq: 7.0361\n",
            "\n",
            "Final chisq: 2.5187\n"
          ]
        },
        {
          "output_type": "execute_result",
          "execution_count": 52,
          "data": {
            "text/plain": [
              "(      fun: 2.5187039339129247\n",
              "  hess_inv: <7x7 LbfgsInvHessProduct with dtype=float64>\n",
              "       jac: array([2.46425103e-04, 1.24344979e-06, 2.92654789e-05, 0.00000000e+00,\n",
              "        0.00000000e+00, 0.00000000e+00, 0.00000000e+00])\n",
              "   message: b'CONVERGENCE: REL_REDUCTION_OF_F_<=_FACTR*EPSMCH'\n",
              "      nfev: 200\n",
              "       nit: 21\n",
              "    status: 0\n",
              "   success: True\n",
              "         x: array([1.16230970e-01, 2.67802297e+01, 5.76192729e-01, 3.06250000e-01,\n",
              "        1.15229348e-06, 5.00057342e-01, 5.00000000e+00]),\n",
              " {'disk': {'mux': 87.56684051257048,\n",
              "   'muy': 86.88383947125118,\n",
              "   'roll': -2.8980804208499067,\n",
              "   'Re': 26.780229745703835,\n",
              "   'q': 0.5761927294857382,\n",
              "   'I': 0.11623096979859349,\n",
              "   'n': 1.0,\n",
              "   'c': 2.0},\n",
              "  'bulge': {'mux': 87.9127704084915,\n",
              "   'muy': 85.84679346085875,\n",
              "   'roll': 0.4263741818919012,\n",
              "   'Re': 1.152293478070874e-06,\n",
              "   'q': 0.5000573419008862,\n",
              "   'I': 0.30624999999999997,\n",
              "   'n': 5.0,\n",
              "   'c': 2.0},\n",
              "  'bar': None,\n",
              "  'spiral': []})"
            ]
          },
          "metadata": {}
        }
      ],
      "execution_count": 52,
      "metadata": {
        "collapsed": false,
        "outputHidden": false,
        "inputHidden": false
      }
    }
  ],
  "metadata": {
    "kernel_info": {
      "name": "python3"
    },
    "language_info": {
      "name": "python",
      "version": "3.6.7",
      "mimetype": "text/x-python",
      "codemirror_mode": {
        "name": "ipython",
        "version": 3
      },
      "pygments_lexer": "ipython3",
      "nbconvert_exporter": "python",
      "file_extension": ".py"
    },
    "kernelspec": {
      "name": "python3",
      "language": "python",
      "display_name": "Python 3"
    },
    "nteract": {
      "version": "0.15.0"
    }
  },
  "nbformat": 4,
  "nbformat_minor": 0
}