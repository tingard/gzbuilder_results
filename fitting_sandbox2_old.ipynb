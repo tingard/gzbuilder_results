{
  "cells": [
    {
      "cell_type": "code",
      "source": [
        "%load_ext autoreload\n",
        "%autoreload 2"
      ],
      "outputs": [],
      "execution_count": 1,
      "metadata": {
        "collapsed": false,
        "outputHidden": false,
        "inputHidden": false
      }
    },
    {
      "cell_type": "code",
      "source": [
        "import matplotlib.pyplot as plt\n",
        "import jax.numpy as np\n",
        "import pandas as pd\n",
        "import gzbuilder_analysis.parsing as pg\n",
        "from scipy.optimize import minimize\n",
        "from gzbuilder_analysis.rendering.jax.spiral import vmap_polyline_distance\n",
        "from gzbuilder_analysis.rendering import jax2\n",
        "from jax.config import config\n",
        "config.update(\"jax_enable_x64\", True)"
      ],
      "outputs": [],
      "execution_count": 2,
      "metadata": {
        "collapsed": false,
        "outputHidden": false,
        "inputHidden": false
      }
    },
    {
      "cell_type": "code",
      "source": [
        "diff_data_df = pd.read_pickle('lib/fitting_metadata.pkl')"
      ],
      "outputs": [],
      "execution_count": 3,
      "metadata": {
        "collapsed": false,
        "outputHidden": false,
        "inputHidden": false
      }
    },
    {
      "cell_type": "code",
      "source": [
        "subject_id = 20902040"
      ],
      "outputs": [],
      "execution_count": 4,
      "metadata": {
        "collapsed": false,
        "outputHidden": false,
        "inputHidden": false
      }
    },
    {
      "cell_type": "code",
      "source": [
        "diff_data = diff_data_df.loc[subject_id]\n",
        "psf = diff_data['psf']\n",
        "target = np.asarray(diff_data['galaxy_data'].data)\n",
        "mask = np.asarray(diff_data['galaxy_data'].mask)\n",
        "sigma = np.asarray(diff_data['sigma_image'].data)"
      ],
      "outputs": [
        {
          "output_type": "stream",
          "name": "stderr",
          "text": [
            "/Users/tlingard/anaconda3/lib/python3.6/site-packages/jax/lib/xla_bridge.py:119: UserWarning: No GPU/TPU found, falling back to CPU.\n",
            "  warnings.warn('No GPU/TPU found, falling back to CPU.')\n"
          ]
        }
      ],
      "execution_count": 5,
      "metadata": {
        "collapsed": false,
        "outputHidden": false,
        "inputHidden": false
      }
    },
    {
      "cell_type": "code",
      "source": [
        "agg_res = pd.read_pickle(f'output_files/aggregation_results/{subject_id}.pkl.gz')"
      ],
      "outputs": [],
      "execution_count": 103,
      "metadata": {
        "collapsed": false,
        "outputHidden": false,
        "inputHidden": false
      }
    },
    {
      "cell_type": "code",
      "source": [
        "m = pg.from_pandas(agg_res.params)\n",
        "new_model = jax2.restructure_model(m)\n",
        "new_model['spiral'].pop('points')\n",
        "params = jax2.to_reparametrization(new_model)\n",
        "points = [arm.reprojected_log_spiral for arm in agg_res.spiral_arms]\n",
        "errs = pg.from_pandas(agg_res.errors.reindex_like(agg_res.params).replace(np.nan, np.inf))\n",
        "errs = jax2.restructure_model(errs)\n",
        "errs['spiral'].pop('points')\n",
        "model_sigma = jax2.get_errors_in_reparmetrization(errs)"
      ],
      "outputs": [],
      "execution_count": 7,
      "metadata": {
        "collapsed": false,
        "outputHidden": false,
        "inputHidden": false
      }
    },
    {
      "cell_type": "code",
      "source": [
        "params"
      ],
      "outputs": [
        {
          "output_type": "execute_result",
          "execution_count": 53,
          "data": {
            "text/plain": [
              "{'bar': {'c': DeviceArray(2., dtype=float64),\n",
              "  'frac': DeviceArray(0.01816764, dtype=float64),\n",
              "  'mux': DeviceArray(130.4507896, dtype=float64),\n",
              "  'muy': DeviceArray(126.8407959, dtype=float64),\n",
              "  'n': DeviceArray(1., dtype=float64),\n",
              "  'q': DeviceArray(0.36805175, dtype=float64),\n",
              "  'roll': DeviceArray(2.90136117, dtype=float64),\n",
              "  'scale': DeviceArray(0.19237365, dtype=float64)},\n",
              " 'bulge': {'c': 2.0,\n",
              "  'frac': DeviceArray(0.01291912, dtype=float64),\n",
              "  'mux': DeviceArray(130.01917347, dtype=float64),\n",
              "  'muy': DeviceArray(126.36071487, dtype=float64),\n",
              "  'n': DeviceArray(1., dtype=float64),\n",
              "  'q': DeviceArray(0.52535749, dtype=float64),\n",
              "  'roll': DeviceArray(3.02955479, dtype=float64),\n",
              "  'scale': DeviceArray(0.1144037, dtype=float64)},\n",
              " 'disk': {'L': DeviceArray(590.08461735, dtype=float64),\n",
              "  'Re': DeviceArray(15.71401937, dtype=float64),\n",
              "  'c': 2.0,\n",
              "  'mux': DeviceArray(129.61708134, dtype=float64),\n",
              "  'muy': DeviceArray(127.18448237, dtype=float64),\n",
              "  'n': 1.0,\n",
              "  'q': DeviceArray(0.74322421, dtype=float64),\n",
              "  'roll': DeviceArray(2.7993005, dtype=float64)},\n",
              " 'spiral': {'I': DeviceArray([0.1, 0.1], dtype=float64),\n",
              "  'falloff': DeviceArray([1., 1.], dtype=float64),\n",
              "  'spread': DeviceArray([0.5, 0.5], dtype=float64)}}"
            ]
          },
          "metadata": {}
        }
      ],
      "execution_count": 53,
      "metadata": {
        "collapsed": false,
        "outputHidden": false,
        "inputHidden": false
      }
    },
    {
      "cell_type": "code",
      "source": [
        "agg_res.spiral_arms"
      ],
      "outputs": [
        {
          "output_type": "execute_result",
          "execution_count": 56,
          "data": {
            "text/plain": [
              "[<gzbuilder_analysis.aggregation.spirals.oo.__arm.Arm at 0x1c345f81d0>,\n",
              " <gzbuilder_analysis.aggregation.spirals.oo.__arm.Arm at 0x1c345f8a20>]"
            ]
          },
          "metadata": {}
        }
      ],
      "execution_count": 56,
      "metadata": {
        "collapsed": false,
        "outputHidden": false,
        "inputHidden": false
      }
    },
    {
      "cell_type": "code",
      "source": [
        "n = 5 # oversampling factor\n",
        "shape = target.shape\n",
        "\n",
        "x = np.arange(shape[1], dtype=np.float64)\n",
        "y = np.arange(shape[0], dtype=np.float64)\n",
        "cx, cy = np.meshgrid(x, y)\n",
        "x_super = np.linspace(0.5 / n - 0.5, shape[1] - 0.5 - 0.5 / n, shape[1] * n)\n",
        "y_super = np.linspace(0.5 / n - 0.5, shape[0] - 0.5 - 0.5 / n, shape[0] * n)\n",
        "cx_super, cy_super = np.meshgrid(x_super, y_super)"
      ],
      "outputs": [],
      "execution_count": 8,
      "metadata": {
        "collapsed": false,
        "outputHidden": false,
        "inputHidden": false
      }
    },
    {
      "cell_type": "code",
      "source": [
        "from gzbuilder_analysis.rendering.jax.sersic import sersic, _b, sersic_ltot, sersic_I"
      ],
      "outputs": [],
      "execution_count": 79,
      "metadata": {
        "collapsed": false,
        "outputHidden": false,
        "inputHidden": false
      }
    },
    {
      "cell_type": "code",
      "source": [
        "def get_fraction(comp_l, disk_l):\n",
        "    return comp_l / (disk_l + comp_l)\n"
      ],
      "outputs": [],
      "execution_count": 81,
      "metadata": {
        "collapsed": false,
        "outputHidden": false,
        "inputHidden": false
      }
    },
    {
      "cell_type": "code",
      "source": [
        "model.loc['I', 'disk'] = 1.0"
      ],
      "outputs": [],
      "execution_count": 89,
      "metadata": {
        "collapsed": false,
        "outputHidden": false,
        "inputHidden": false
      }
    },
    {
      "cell_type": "code",
      "source": [
        "ALL_PARAMS = [\n",
        "    'mux', 'muy', 'Re', 'q', 'roll', 'L', 'c', 'n',\n",
        "    'scale', 'frac',\n",
        "    'I', 'spread', 'falloff', 'A', 'phi', 'tmin', 'dt'\n",
        "]\n",
        "\n",
        "disk = agg_res.params['disk']\n",
        "bulge = agg_res.params['bulge']\n",
        "bar = agg_res.params['bar']\n",
        "spirals = pd.DataFrame([\n",
        "    agg_res.params[f'spiral{i}']\n",
        "    for i in range(len(agg_res.spiral_arms))\n",
        "])\n",
        "\n",
        "model = pd.DataFrame([], #index=ALL_PARAMS,\n",
        "                     columns=['disk', 'bulge', 'bar', 'spiral'],\n",
        "                    dtype=np.float64)\n",
        "model['disk'] = disk.copy()\n",
        "model.loc['L', 'disk'] = sersic_ltot(disk.I, disk.Re, 1.0)\n",
        "model.loc['I', 'disk'] = np.nan\n",
        "\n",
        "model['bulge'] = bulge.copy()\n",
        "model.loc['scale', 'bulge'] = bulge.Re / disk.Re\n",
        "bulge_l = sersic_ltot(bulge.I, bulge.Re, bulge.n)\n",
        "model.loc['frac', 'bulge'] = get_fraction(bulge_l, model['disk']['L'])\n",
        "model.loc['I', 'bulge'] = np.nan\n",
        "model.loc['Re', 'bulge'] = np.nan\n",
        "\n",
        "model['bar'] = bar.copy()\n",
        "model.loc['scale', 'bar'] = bar.Re / bar.Re\n",
        "bar_l = sersic_ltot(bar.I, bar.Re, bar.n)\n",
        "model.loc['frac', 'bar'] = get_fraction(bar_l, model['disk']['L'])\n",
        "model.loc['I', 'bar'] = np.nan\n",
        "model.loc['Re', 'bar'] = np.nan\n",
        "\n",
        "for i in range(len(spirals)):\n",
        "    model.loc[f'I.{i}', 'spiral'] = spirals['I'].iloc[i]\n",
        "    model.loc[f'falloff.{i}', 'spiral'] = spirals['falloff'].iloc[i]\n",
        "    model.loc[f'spread.{i}', 'spiral'] = spirals['spread'].iloc[i]\n",
        "    model.loc[f'A.{i}', 'spiral'] = agg_res.spiral_arms[i].A\n",
        "    model.loc[f'phi.{i}', 'spiral'] = agg_res.spiral_arms[i].pa * agg_res.spiral_arms[i].chirality\n",
        "    model.loc[f't_min.{i}', 'spiral'] = agg_res.spiral_arms[i].t_predict.min()\n",
        "    model.loc[f'dt.{i}', 'spiral'] = agg_res.spiral_arms[i].t_predict.max() - model.loc[f't_min.{i}', 'spiral']\n",
        "# model.loc['falloff', 'spiral'] = spirals['falloff'].values\n",
        "# model.loc['spread', 'spiral'] = spirals['spread'].values\n",
        "\n",
        "model.unstack().dropna()"
      ],
      "outputs": [
        {
          "output_type": "execute_result",
          "execution_count": 108,
          "data": {
            "text/plain": [
              "        parameter\n",
              "disk    mux          129.617081\n",
              "        muy          127.184482\n",
              "        Re            15.714019\n",
              "        q              0.743224\n",
              "        roll           2.799301\n",
              "        n              1.000000\n",
              "        c              2.000000\n",
              "        L            590.084617\n",
              "bulge   mux          130.019173\n",
              "        muy          126.360715\n",
              "        q              0.525357\n",
              "        roll           3.029555\n",
              "        n              1.000000\n",
              "        c              2.000000\n",
              "        scale          0.114404\n",
              "        frac           0.012919\n",
              "bar     mux          130.450790\n",
              "        muy          126.840796\n",
              "        q              0.368052\n",
              "        roll           2.901361\n",
              "        n              1.000000\n",
              "        c              2.000000\n",
              "        scale          1.000000\n",
              "        frac           0.018168\n",
              "spiral  I.0            0.100000\n",
              "        falloff.0      1.000000\n",
              "        spread.0       0.500000\n",
              "        A.0            9.885009\n",
              "        phi.0         14.540627\n",
              "        t_min.0        1.791734\n",
              "        dt.0           4.386107\n",
              "        I.1            0.100000\n",
              "        falloff.1      1.000000\n",
              "        spread.1       0.500000\n",
              "        A.1           20.244855\n",
              "        phi.1         18.151983\n",
              "        t_min.1       -1.995708\n",
              "        dt.1           4.533564\n",
              "dtype: float64"
            ]
          },
          "metadata": {}
        }
      ],
      "execution_count": 108,
      "metadata": {
        "collapsed": false,
        "outputHidden": false,
        "inputHidden": false
      }
    },
    {
      "cell_type": "code",
      "source": [
        "def comp_bool_indexing(df):\n",
        "    \"\"\"Quickly convert a DataFrame to a dictionary, removing any NaNs\n",
        "    \"\"\"\n",
        "    return {k: v[v.notna()].to_dict() for k, v in df.items()}\n",
        "\n",
        "comp_bool_indexing(model)"
      ],
      "outputs": [
        {
          "output_type": "execute_result",
          "execution_count": 107,
          "data": {
            "text/plain": [
              "{'disk': {'mux': 129.6170813371778,\n",
              "  'muy': 127.1844823719904,\n",
              "  'Re': 15.714019373862985,\n",
              "  'q': 0.7432242100547148,\n",
              "  'roll': 2.799300503403965,\n",
              "  'n': 1.0,\n",
              "  'c': 2.0,\n",
              "  'L': 590.0846173529989},\n",
              " 'bulge': {'mux': 130.01917347341623,\n",
              "  'muy': 126.36071487006105,\n",
              "  'q': 0.5253574864290562,\n",
              "  'roll': 3.0295547922354253,\n",
              "  'n': 1.0,\n",
              "  'c': 2.0,\n",
              "  'scale': 0.11440370060127447,\n",
              "  'frac': 0.012919118616288696},\n",
              " 'bar': {'mux': 130.4507896043422,\n",
              "  'muy': 126.8407958952581,\n",
              "  'q': 0.3680517468379793,\n",
              "  'roll': 2.901361170990977,\n",
              "  'n': 1.0,\n",
              "  'c': 2.0,\n",
              "  'scale': 1.0,\n",
              "  'frac': 0.018167639210268042},\n",
              " 'spiral': {'I.0': 0.1,\n",
              "  'falloff.0': 1.0,\n",
              "  'spread.0': 0.5,\n",
              "  'A.0': 9.885008757268894,\n",
              "  'phi.0': 14.540626946724476,\n",
              "  't_min.0': 1.7917341469488985,\n",
              "  'dt.0': 4.386107429972335,\n",
              "  'I.1': 0.1,\n",
              "  'falloff.1': 1.0,\n",
              "  'spread.1': 0.5,\n",
              "  'A.1': 20.24485531122746,\n",
              "  'phi.1': 18.151983008667745,\n",
              "  't_min.1': -1.9957077095618276,\n",
              "  'dt.1': 4.533563754850559}}"
            ]
          },
          "metadata": {}
        }
      ],
      "execution_count": 107,
      "metadata": {
        "collapsed": false,
        "outputHidden": false,
        "inputHidden": false
      }
    },
    {
      "cell_type": "code",
      "source": [
        "[f'I.{i}' for i in range(len(spirals))]"
      ],
      "outputs": [
        {
          "output_type": "execute_result",
          "execution_count": 99,
          "data": {
            "text/plain": [
              "['I.0', 'I.1']"
            ]
          },
          "metadata": {}
        }
      ],
      "execution_count": 99,
      "metadata": {
        "collapsed": false,
        "outputHidden": false,
        "inputHidden": false
      }
    },
    {
      "cell_type": "code",
      "source": [
        "pd.DataFrame(spiral)['I']"
      ],
      "outputs": [
        {
          "output_type": "execute_result",
          "execution_count": 94,
          "data": {
            "text/plain": [
              "parameter    I  spread  falloff\n",
              "model      0.1     0.5      1.0\n",
              "model      0.1     0.5      1.0"
            ],
            "text/html": [
              "<div>\n",
              "<style scoped>\n",
              "    .dataframe tbody tr th:only-of-type {\n",
              "        vertical-align: middle;\n",
              "    }\n",
              "\n",
              "    .dataframe tbody tr th {\n",
              "        vertical-align: top;\n",
              "    }\n",
              "\n",
              "    .dataframe thead th {\n",
              "        text-align: right;\n",
              "    }\n",
              "</style>\n",
              "<table border=\"1\" class=\"dataframe\">\n",
              "  <thead>\n",
              "    <tr style=\"text-align: right;\">\n",
              "      <th>parameter</th>\n",
              "      <th>I</th>\n",
              "      <th>spread</th>\n",
              "      <th>falloff</th>\n",
              "    </tr>\n",
              "  </thead>\n",
              "  <tbody>\n",
              "    <tr>\n",
              "      <th>model</th>\n",
              "      <td>0.1</td>\n",
              "      <td>0.5</td>\n",
              "      <td>1.0</td>\n",
              "    </tr>\n",
              "    <tr>\n",
              "      <th>model</th>\n",
              "      <td>0.1</td>\n",
              "      <td>0.5</td>\n",
              "      <td>1.0</td>\n",
              "    </tr>\n",
              "  </tbody>\n",
              "</table>\n",
              "</div>"
            ]
          },
          "metadata": {}
        }
      ],
      "execution_count": 94,
      "metadata": {
        "collapsed": false,
        "outputHidden": false,
        "inputHidden": false
      }
    },
    {
      "cell_type": "code",
      "source": [
        "try:\n",
        "    distances = np.stack([\n",
        "        vmap_polyline_distance(p, cx, cy)\n",
        "        for p in points\n",
        "    ], axis=-1)\n",
        "except ValueError:\n",
        "    distances = np.array([], dtype=np.float64)"
      ],
      "outputs": [],
      "execution_count": 9,
      "metadata": {
        "collapsed": false,
        "outputHidden": false,
        "inputHidden": false
      }
    },
    {
      "cell_type": "code",
      "source": [
        "plt.imshow(jax2.render(cx_super, cy_super, params, distances, psf))"
      ],
      "outputs": [
        {
          "output_type": "execute_result",
          "execution_count": 10,
          "data": {
            "text/plain": [
              "<matplotlib.image.AxesImage at 0x1c34d60390>"
            ]
          },
          "metadata": {}
        },
        {
          "output_type": "display_data",
          "data": {
            "text/plain": [
              "<Figure size 432x288 with 1 Axes>"
            ],
            "image/png": "[encoded data removed]"
          },
          "metadata": {
            "needs_background": "light"
          }
        }
      ],
      "execution_count": 10,
      "metadata": {
        "collapsed": false,
        "outputHidden": false,
        "inputHidden": false
      }
    },
    {
      "cell_type": "code",
      "source": [
        "from jax import jacfwd"
      ],
      "outputs": [],
      "execution_count": 49,
      "metadata": {
        "collapsed": false,
        "outputHidden": false,
        "inputHidden": false
      }
    },
    {
      "cell_type": "code",
      "source": [
        "@jit\n",
        "def logsp(min_t=0, delta_t=2*np.pi, A=0.1, phi=10, q=0, roll=0, mux=0, muy=0, N=1000, **kwargs):\n",
        "    theta = np.linspace(min_t, min_t + delta_t, N)\n",
        "    Rls = A * np.exp(np.tan(np.deg2rad(phi)) * theta)\n",
        "    rot_matrix = np.array((\n",
        "        (np.cos(-roll), np.sin(-roll)),\n",
        "        (-np.sin(-roll), np.cos(-roll))\n",
        "    ))\n",
        "    return np.dot(\n",
        "        rot_matrix,\n",
        "        Rls * np.array((q * np.cos(theta), np.sin(theta)))\n",
        "    ).T + np.array((mux, muy))"
      ],
      "outputs": [],
      "execution_count": null,
      "metadata": {
        "collapsed": false,
        "outputHidden": false,
        "inputHidden": false
      }
    },
    {
      "cell_type": "code",
      "source": [
        "def optimization_step(p, p0, x, y, agg_res, psf, target, sigma, mask, mu_params, sigma_params):\n",
        "    p = jax2.from_1d(\n",
        "        pd.Series(p, index=p0.index)\n",
        "    ).unstack().T\n",
        "    params = jax2.comp_bool_indexing(p)\n",
        "    kw = dict(\n",
        "        centre=np.asarray((params['disk']['mux'], params['disk']['muy'])),\n",
        "        phi=params['disk']['roll'],\n",
        "        ba=params['disk']['q'],\n",
        "    )\n",
        "    points = [arm.modify_disk(**kw) for arm in agg_res.spiral_arms]\n",
        "    try:\n",
        "        distances = np.stack([\n",
        "            vmap_polyline_distance(p, jax2.downsample(x)[:, :, 0], jax2.downsample(y)[:, :, 0])\n",
        "            for p in points\n",
        "        ], axis=-1)\n",
        "    except ValueError:\n",
        "        distances = np.array([], dtype=np.float64)\n",
        "    r = jax2.render(x, y, params, distances, psf)\n",
        "    render_delta = (r - target) / sigma\n",
        "    param_delta = np.concatenate([\n",
        "        np.reshape(np.asarray(params[k][j] - mu_params[k][j]), -1) / sigma_params[k][j]\n",
        "        for k in params for j in params[k]\n",
        "    ])\n",
        "    return -jax2.norm_nnlf(np.concatenate((render_delta.ravel(), param_delta)))\n",
        "#     return jax2.do_calc(x, y, params, distances, psf, target, sigma, mask,\n",
        "#                    mu_params, sigma_params)"
      ],
      "outputs": [],
      "execution_count": 46,
      "metadata": {
        "collapsed": false,
        "outputHidden": false,
        "inputHidden": false
      }
    },
    {
      "cell_type": "code",
      "source": [
        "jacf = jacfwd(lambda p: optimization_step(p, *args))"
      ],
      "outputs": [],
      "execution_count": 50,
      "metadata": {
        "collapsed": false,
        "outputHidden": false,
        "inputHidden": false
      }
    },
    {
      "cell_type": "code",
      "source": [
        "jac_minim = make_jac_func(*args[1:])\n",
        "_jacf = lambda p, *args: _jac(jac_minim, p, *args)\n"
      ],
      "outputs": [],
      "execution_count": null,
      "metadata": {
        "collapsed": false,
        "outputHidden": false,
        "inputHidden": false
      }
    },
    {
      "cell_type": "code",
      "source": [
        "original_p = pd.DataFrame(params).unstack().dropna()\n",
        "p0 = jax2.to_1d(original_p)"
      ],
      "outputs": [],
      "execution_count": 37,
      "metadata": {
        "collapsed": false,
        "outputHidden": false,
        "inputHidden": false
      }
    },
    {
      "cell_type": "code",
      "source": [
        "args = (p0, cx_super, cy_super, agg_res, psf, target, sigma, mask, params, model_sigma)"
      ],
      "outputs": [],
      "execution_count": 38,
      "metadata": {
        "collapsed": false,
        "outputHidden": false,
        "inputHidden": false
      }
    },
    {
      "cell_type": "code",
      "source": [
        "optimization_step(p0, *args)"
      ],
      "outputs": [
        {
          "output_type": "execute_result",
          "execution_count": 47,
          "data": {
            "text/plain": [
              "DeviceArray(457552.78069931, dtype=float64)"
            ]
          },
          "metadata": {}
        }
      ],
      "execution_count": 47,
      "metadata": {
        "collapsed": false,
        "outputHidden": false,
        "inputHidden": false
      }
    },
    {
      "cell_type": "markdown",
      "source": [
        "And now time its execution:"
      ],
      "metadata": {}
    },
    {
      "cell_type": "code",
      "source": [
        "%timeit optimization_step(p0, *args)"
      ],
      "outputs": [
        {
          "output_type": "stream",
          "name": "stdout",
          "text": [
            "8.34 s ± 530 ms per loop (mean ± std. dev. of 7 runs, 1 loop each)\n"
          ]
        }
      ],
      "execution_count": 40,
      "metadata": {
        "collapsed": false,
        "outputHidden": false,
        "inputHidden": false
      }
    },
    {
      "cell_type": "code",
      "source": [
        "# orignal_p = pd.DataFrame(model).unstack().dropna()\n",
        "# p0 = to_1d(orignal_p)\n",
        "\n",
        "# args = (p0, cx_super, cy_super, distances, psf, target, sigma, mask, model, model_sigma)\n",
        "\n",
        "# jac_minim = make_jac_func(*args[1:])\n",
        "# _jacf = lambda p, *args: _jac(jac_minim, p, *args)\n",
        "\n",
        "# with tqdm(leave=True) as pbar:\n",
        "#     def update_bar(*args):\n",
        "#             pbar.update(1)\n",
        "#     res = minimize(\n",
        "#         _func, p0.values, args=args,\n",
        "#         jac=_jacf,\n",
        "#         callback=update_bar,\n",
        "#         options=dict(maxiter=100),\n",
        "#     )\n",
        "\n",
        "# final_params = comp_bool_indexing(\n",
        "#     from_1d(pd.Series(res['x'], index=p0.index)).unstack().T\n",
        "# )"
      ],
      "outputs": [],
      "execution_count": 15,
      "metadata": {
        "collapsed": false,
        "outputHidden": false,
        "inputHidden": false
      }
    }
  ],
  "metadata": {
    "kernel_info": {
      "name": "python3"
    },
    "language_info": {
      "name": "python",
      "version": "3.6.7",
      "mimetype": "text/x-python",
      "codemirror_mode": {
        "name": "ipython",
        "version": 3
      },
      "pygments_lexer": "ipython3",
      "nbconvert_exporter": "python",
      "file_extension": ".py"
    },
    "kernelspec": {
      "name": "python3",
      "language": "python",
      "display_name": "Python 3"
    },
    "nteract": {
      "version": "0.15.0"
    }
  },
  "nbformat": 4,
  "nbformat_minor": 0
}