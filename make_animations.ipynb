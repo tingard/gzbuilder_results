{
  "cells": [
    {
      "cell_type": "markdown",
      "source": [
        "# Make animations of what component variation looks like"
      ],
      "metadata": {}
    },
    {
      "cell_type": "code",
      "source": [
        "import gzbuilder_analysis.rendering as rg\n",
        "from gzbuilder_analysis.rendering.sersic import sersic2d\n",
        "from gzbuilder_analysis.aggregation.spirals import xy_from_r_theta\n",
        "from gzbuilder_analysis.config import DEFAULT_SPIRAL, DEFAULT_DISK\n",
        "from asinh_cmap import asinh_cmap\n",
        "import os\n",
        "from scipy.optimize import minimize\n",
        "from tqdm import tqdm"
      ],
      "outputs": [],
      "execution_count": 1,
      "metadata": {
        "collapsed": false,
        "outputHidden": false,
        "inputHidden": false
      }
    },
    {
      "cell_type": "markdown",
      "source": [
        "Sersic Axis ratio, $q$"
      ],
      "metadata": {}
    },
    {
      "cell_type": "code",
      "source": [
        "os.makedirs('animations/q', exist_ok=True)\n",
        "\n",
        "cx, cy = np.mgrid[:250, :250]\n",
        "!mkdir animations\n",
        "for i, q in enumerate(np.linspace(0.3, 1, 50)):\n",
        "    im = sersic2d(cx, cy, 250/2, 250/2, 0, 50, q, 2, 1, 1)\n",
        "    plt.imshow(im, cmap=asinh_cmap)\n",
        "    plt.axis('off')\n",
        "    plt.title(f'$q={q:.2f}$')\n",
        "    plt.savefig(f'animations/q/{i:03d}.png', bbox_inches='tight')\n",
        "    plt.close()"
      ],
      "outputs": [
        {
          "output_type": "stream",
          "name": "stdout",
          "text": [
            "mkdir: animations: File exists\r\n"
          ]
        }
      ],
      "execution_count": 2,
      "metadata": {
        "collapsed": false,
        "outputHidden": false,
        "inputHidden": false
      }
    },
    {
      "cell_type": "markdown",
      "source": [
        "And convert these images into a gif:"
      ],
      "metadata": {}
    },
    {
      "cell_type": "code",
      "source": [
        "!convert animations/q/*.png animations/q/one_direction.gif\n",
        "!convert animations/q/one_direction.gif -coalesce -duplicate 1,-2-1 -quiet -layers OptimizePlus -loop 0 animations/q.gif\n",
        "!rm animations/q/one_direction.gif"
      ],
      "outputs": [],
      "execution_count": 3,
      "metadata": {
        "collapsed": false,
        "outputHidden": false,
        "inputHidden": false
      }
    },
    {
      "cell_type": "markdown",
      "source": [
        "## Sersic n\n",
        "We attempt to optimize scale and brightness to keep models as similar as possible to an exponential, otherwise models are difficult to compare"
      ],
      "metadata": {}
    },
    {
      "cell_type": "code",
      "source": [
        "os.makedirs('animations/n', exist_ok=True)\n",
        "\n",
        "I, Re = (1, 50)\n",
        "im_target = sersic2d(cx, cy, 250/2, 250/2, 0, Re, 1, 2, I, 1)\n",
        "def make_f(n):\n",
        "    def f(p):\n",
        "        I, Re = p\n",
        "        y = sersic2d(cx, cy, 250/2, 250/2, 0, Re, 1, 2, I, n)\n",
        "        return ((im_target - y)**2).sum() / im_target.size\n",
        "    return f\n",
        "\n",
        "cx, cy = np.mgrid[:250, :250]\n",
        "!mkdir animations\n",
        "with tqdm(np.linspace(0.4, 5, 50)) as bar:\n",
        "    for i, n in enumerate(bar):\n",
        "        res = minimize(make_f(n), (I, Re))\n",
        "        I, Re = res['x']\n",
        "        plt.figure(figsize=(8, 6))\n",
        "        im = sersic2d(cx, cy, 250/2, 250/2, 0, Re, 1, 2, I, n)\n",
        "        plt.imshow(im, cmap=asinh_cmap)\n",
        "        c = plt.colorbar(shrink=0.95)\n",
        "        c.ax.set_yticklabels([f'{str(i):<3s}' for i in c.ax.get_yticks()])\n",
        "        plt.axis('off')\n",
        "        plt.title(f'$n={n:.2f};\\;I={I:.2e};\\;R_e={Re:.2e}$')\n",
        "        plt.savefig(f'animations/n/{i:03d}.png', bbox_inches='tight')\n",
        "        plt.close()"
      ],
      "outputs": [
        {
          "output_type": "stream",
          "name": "stdout",
          "text": [
            "mkdir: animations: File exists\r\n"
          ]
        },
        {
          "output_type": "stream",
          "name": "stderr",
          "text": [
            "100%|██████████| 50/50 [00:54<00:00,  1.41s/it]\n"
          ]
        }
      ],
      "execution_count": 4,
      "metadata": {
        "collapsed": false,
        "outputHidden": false,
        "inputHidden": false
      }
    },
    {
      "cell_type": "code",
      "source": [
        "!convert animations/n/*.png animations/n/one_direction.gif\n",
        "!convert animations/n/one_direction.gif -coalesce -duplicate 1,-2-1 -quiet -layers OptimizePlus -loop 0 animations/n.gif\n",
        "!rm animations/n/one_direction.gif "
      ],
      "outputs": [],
      "execution_count": 5,
      "metadata": {
        "collapsed": false,
        "outputHidden": false,
        "inputHidden": false
      }
    },
    {
      "cell_type": "markdown",
      "source": [
        "Sersic Boxyness, $c$"
      ],
      "metadata": {}
    },
    {
      "cell_type": "code",
      "source": [
        "os.makedirs('animations/c', exist_ok=True)\n",
        "\n",
        "I, Re = (1, 50)\n",
        "im_target = sersic2d(cx, cy, 250/2, 250/2, 0, Re, 1, 2, I, 1)\n",
        "def make_f(n):\n",
        "    def f(p):\n",
        "        I, Re = p\n",
        "        y = sersic2d(cx, cy, 250/2, 250/2, 0, Re, 1, 2, I, n)\n",
        "        return ((im_target - y)**2).sum() / im_target.size\n",
        "    return f\n",
        "\n",
        "cx, cy = np.mgrid[:250, :250]\n",
        "!mkdir animations\n",
        "with tqdm(np.linspace(0.5, 3, 50)) as bar:\n",
        "    for i, c in enumerate(bar):\n",
        "        plt.figure(figsize=(8, 6))\n",
        "        im = sersic2d(cx, cy, 250/2, 250/2, 0, 50, 0.6, c, 1, 1)\n",
        "        plt.imshow(im, cmap=asinh_cmap)\n",
        "        plt.axis('off')\n",
        "        plt.title(f'$c={c:.2f}$')\n",
        "        plt.savefig(f'animations/c/{i:03d}.png', bbox_inches='tight')\n",
        "        plt.close()"
      ],
      "outputs": [
        {
          "output_type": "stream",
          "name": "stdout",
          "text": [
            "mkdir: animations: File exists\r\n"
          ]
        },
        {
          "output_type": "stream",
          "name": "stderr",
          "text": [
            "100%|██████████| 50/50 [00:12<00:00,  4.04it/s]\n"
          ]
        }
      ],
      "execution_count": 6,
      "metadata": {
        "collapsed": false,
        "outputHidden": false,
        "inputHidden": false
      }
    },
    {
      "cell_type": "code",
      "source": [
        "!convert animations/c/*.png animations/c/one_direction.gif\n",
        "!convert animations/c/one_direction.gif -coalesce -duplicate 1,-2-1 -quiet -layers OptimizePlus -loop 0 animations/c.gif\n",
        "!rm animations/c/one_direction.gif "
      ],
      "outputs": [],
      "execution_count": 7,
      "metadata": {
        "collapsed": false,
        "outputHidden": false,
        "inputHidden": false
      }
    },
    {
      "cell_type": "markdown",
      "source": [
        "## Spiral intensity relative to disk"
      ],
      "metadata": {}
    },
    {
      "cell_type": "code",
      "source": [
        "help(rg.calculate_model)"
      ],
      "outputs": [
        {
          "output_type": "stream",
          "name": "stdout",
          "text": [
            "Help on function calculate_model in module gzbuilder_analysis.rendering:\n",
            "\n",
            "calculate_model(model, image_size=(256, 256), psf=None, oversample_n=5)\n",
            "    Render a model and convolve it with a psf (if provided)\n",
            "\n"
          ]
        }
      ],
      "execution_count": 8,
      "metadata": {
        "collapsed": false,
        "outputHidden": false,
        "inputHidden": false
      }
    },
    {
      "cell_type": "code",
      "source": [
        "os.makedirs('animations/spiral', exist_ok=True)\n",
        "\n",
        "def log_spiral(t, phi, dt=0):\n",
        "    r = np.exp(np.tan(np.deg2rad(phi)) * t)\n",
        "    return xy_from_r_theta(r, t + dt).T\n",
        "\n",
        "t = np.linspace(0, np.pi, 50)\n",
        "phi = 15\n",
        "arms = [log_spiral(t, phi).T, log_spiral(t, phi, np.pi).T]\n",
        "plt.plot(*log_spiral(t, phi).T)\n",
        "plt.plot(*log_spiral(t, phi, np.pi).T)\n",
        "n_arms = 2\n",
        "DEFAULT_SPIRAL['spread'] = 1\n",
        "spiral = [\n",
        "    [log_spiral(t, phi, 2 * np.pi / n_arms * i) * 10 + 50, DEFAULT_SPIRAL]\n",
        "    for i in range(n_arms)\n",
        "]\n",
        "\n",
        "with tqdm(np.linspace(0, 100, 50)) as bar:\n",
        "    for i, mux in enumerate(bar):\n",
        "        model = {\n",
        "            'disk': {**DEFAULT_DISK, 'I': 0.2, 'Re': 20, 'mux': mux},\n",
        "            'bulge': None,\n",
        "            'bar': None,\n",
        "            'spiral': spiral\n",
        "        }\n",
        "        for points, _ in model['spiral']:\n",
        "            plt.plot(*points.T, 'r:', alpha=1)\n",
        "        plt.imshow(rg.calculate_model(model, (100, 100)), cmap=asinh_cmap, vmin=0, vmax=1)\n",
        "        plt.axis('off')\n",
        "        plt.savefig(f'animations/spiral/{i:03d}.png', bbox_inches='tight')\n",
        "        plt.close()"
      ],
      "outputs": [
        {
          "output_type": "stream",
          "name": "stderr",
          "text": [
            "100%|██████████| 50/50 [00:14<00:00,  3.83it/s]\n"
          ]
        }
      ],
      "execution_count": 9,
      "metadata": {
        "collapsed": false,
        "outputHidden": false,
        "inputHidden": false
      }
    },
    {
      "cell_type": "code",
      "source": [
        "!convert animations/spiral/*.png animations/spiral/one_direction.gif\n",
        "!convert animations/spiral/one_direction.gif -coalesce -duplicate 1,-2-1 -quiet -layers OptimizePlus -loop 0 animations/spiral.gif\n",
        "!rm animations/spiral/one_direction.gif "
      ],
      "outputs": [],
      "execution_count": 10,
      "metadata": {
        "collapsed": false,
        "outputHidden": false,
        "inputHidden": false
      }
    }
  ],
  "metadata": {
    "kernel_info": {
      "name": "python3"
    },
    "language_info": {
      "name": "python",
      "version": "3.6.7",
      "mimetype": "text/x-python",
      "codemirror_mode": {
        "name": "ipython",
        "version": 3
      },
      "pygments_lexer": "ipython3",
      "nbconvert_exporter": "python",
      "file_extension": ".py"
    },
    "kernelspec": {
      "name": "python3",
      "language": "python",
      "display_name": "Python 3"
    },
    "nteract": {
      "version": "0.15.0"
    }
  },
  "nbformat": 4,
  "nbformat_minor": 0
}