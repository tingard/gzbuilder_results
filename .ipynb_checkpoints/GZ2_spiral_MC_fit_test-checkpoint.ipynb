{
 "cells": [
  {
   "cell_type": "code",
   "execution_count": null,
   "metadata": {},
   "outputs": [],
   "source": [
    "import numpy as np\n",
    "import matplotlib.pyplot as plt\n",
    "import seaborn as sns\n",
    "import pymc3 as pm\n",
    "import theano.tensor as tt"
   ]
  },
  {
   "cell_type": "code",
   "execution_count": null,
   "metadata": {},
   "outputs": [],
   "source": [
    "import scipy.stats as st\n",
    "\n",
    "As = np.array((1, 3, 10, 12), dtype=float)\n",
    "\n",
    "def get_pa(p):\n",
    "    if not np.allclose(p.sum(), 1):\n",
    "        print(p, p.sum())\n",
    "        raise ValueError()\n",
    "    return sum(As * p)\n",
    "\n",
    "st.binom(10, 0.1)"
   ]
  },
  {
   "cell_type": "code",
   "execution_count": null,
   "metadata": {},
   "outputs": [],
   "source": [
    "p_ = np.random.randn(4)\n",
    "norm = lambda p: p / p.sum()\n",
    "p_ /= sum(p_)\n",
    "data = [{'pa': get_pa(norm(i)), **{f'var_{j}': val for j, val in enumerate(norm(i))}} for i in np.random.random(size=(1000, 4))]\n",
    "data = pd.DataFrame(data)\n",
    "data"
   ]
  },
  {
   "cell_type": "code",
   "execution_count": null,
   "metadata": {},
   "outputs": [],
   "source": [
    "def gen_counts(N, ps, bar=None):\n",
    "    s = 0\n",
    "    if bar:\n",
    "        bar.update(1)\n",
    "    while s != N: \n",
    "        d = pd.Series(np.concatenate([st.binom(N, p).rvs(1) for p in ps]), ps.index)\n",
    "        s = d.sum()\n",
    "    return d\n",
    "\n",
    "from tqdm import tqdm\n",
    "tqdm.pandas('Creating counts')\n",
    "with tqdm(data.index) as bar:\n",
    "    data2 = data.apply(lambda row: gen_counts(30, row.iloc[1:], bar=bar), axis=1).assign(pa=data['pa'])"
   ]
  },
  {
   "cell_type": "code",
   "execution_count": null,
   "metadata": {},
   "outputs": [],
   "source": [
    "display(data)\n",
    "data2"
   ]
  },
  {
   "cell_type": "code",
   "execution_count": null,
   "metadata": {},
   "outputs": [],
   "source": [
    "ps = data2[['var_0', 'var_1', 'var_2', 'var_3']] / 30\n",
    "err = ps * (1 - ps)\n",
    "err"
   ]
  },
  {
   "cell_type": "code",
   "execution_count": null,
   "metadata": {},
   "outputs": [],
   "source": [
    "with pm.Model() as model:\n",
    "    ps = data2[['var_0', 'var_1', 'var_2', 'var_3']] / 30\n",
    "    ps\n",
    "    ps = pm.Uniform('ps', lower=0, upper=1, shape=4)\n",
    "    var = 30 * ps\n",
    "    print(var)\n",
    "#     A = pm.Cauchy('A', shape=4)\n",
    "#     pa = pm.Normal('l', tt.sum(A * var, axis=1), observed=data2.pa.values)"
   ]
  },
  {
   "cell_type": "code",
   "execution_count": null,
   "metadata": {},
   "outputs": [],
   "source": []
  },
  {
   "cell_type": "code",
   "execution_count": null,
   "metadata": {},
   "outputs": [],
   "source": []
  },
  {
   "cell_type": "code",
   "execution_count": null,
   "metadata": {},
   "outputs": [],
   "source": []
  }
 ],
 "metadata": {
  "kernelspec": {
   "display_name": "Python 3",
   "language": "python",
   "name": "python3"
  },
  "language_info": {
   "codemirror_mode": {
    "name": "ipython",
    "version": 3
   },
   "file_extension": ".py",
   "mimetype": "text/x-python",
   "name": "python",
   "nbconvert_exporter": "python",
   "pygments_lexer": "ipython3",
   "version": "3.6.7"
  }
 },
 "nbformat": 4,
 "nbformat_minor": 4
}
