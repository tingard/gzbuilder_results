{
 "cells": [
  {
   "cell_type": "code",
   "execution_count": 1,
   "metadata": {},
   "outputs": [],
   "source": [
    "%matplotlib inline\n",
    "%load_ext autoreload\n",
    "%autoreload 2"
   ]
  },
  {
   "cell_type": "code",
   "execution_count": 8,
   "metadata": {},
   "outputs": [],
   "source": [
    "import os\n",
    "import re\n",
    "from tqdm import tqdm, trange\n",
    "import jax.numpy as np\n",
    "from jax import ops\n",
    "from jax import config\n",
    "import numpy as onp\n",
    "import pandas as pd\n",
    "import matplotlib.pyplot as plt\n",
    "import seaborn as sns\n",
    "from gzbuilder_analysis.fitting.misc import psf_conv, downsample\n",
    "from gzbuilder_analysis.fitting.optimizer import get_spirals, render_comps, Optimizer"
   ]
  },
  {
   "cell_type": "code",
   "execution_count": 9,
   "metadata": {},
   "outputs": [],
   "source": [
    "config.update(\"jax_enable_x64\", True)"
   ]
  },
  {
   "cell_type": "code",
   "execution_count": 10,
   "metadata": {},
   "outputs": [],
   "source": [
    "fitting_metadata = pd.read_pickle('lib/fitting_metadata.pkl')"
   ]
  },
  {
   "cell_type": "code",
   "execution_count": 14,
   "metadata": {},
   "outputs": [
    {
     "name": "stderr",
     "output_type": "stream",
     "text": [
      "Loading aggregation results: 100%|██████████| 296/296 [00:02<00:00, 102.15it/s]\n"
     ]
    }
   ],
   "source": [
    "agg_res_path = 'output_files/aggregation_results'\n",
    "agg_results = pd.Series([], dtype=object)\n",
    "with tqdm(os.listdir(agg_res_path), desc='Loading aggregation results') as bar:\n",
    "    for f in bar:\n",
    "         if re.match(r'[0-9]+\\.pkl.gz', f):\n",
    "                agg_results[int(f.split('.')[0])] = pd.read_pickle(\n",
    "                    os.path.join(agg_res_path, f)\n",
    "                )"
   ]
  },
  {
   "cell_type": "code",
   "execution_count": 15,
   "metadata": {},
   "outputs": [
    {
     "name": "stderr",
     "output_type": "stream",
     "text": [
      "Loading fitting results: 100%|██████████| 296/296 [00:04<00:00, 61.33it/s]\n"
     ]
    }
   ],
   "source": [
    "fit_model_path = 'output_files/tuning_results'\n",
    "fit_models = pd.Series([], dtype=object)\n",
    "with tqdm(os.listdir(fit_model_path), desc='Loading fitting results') as bar:\n",
    "    for f in bar:\n",
    "         if re.match(r'[0-9]+\\.pickle.gz', f):\n",
    "                fit_models[int(f.split('.')[0])] = pd.read_pickle(\n",
    "                    os.path.join(fit_model_path, f)\n",
    "                )\n",
    "fit_models = fit_models.apply(pd.Series)"
   ]
  },
  {
   "cell_type": "code",
   "execution_count": 13,
   "metadata": {},
   "outputs": [],
   "source": [
    "subject_id = 20902040"
   ]
  },
  {
   "cell_type": "code",
   "execution_count": 16,
   "metadata": {},
   "outputs": [
    {
     "name": "stderr",
     "output_type": "stream",
     "text": [
      "/Users/tlingard/anaconda3/lib/python3.6/site-packages/jax/lib/xla_bridge.py:122: UserWarning: No GPU/TPU found, falling back to CPU.\n",
      "  warnings.warn('No GPU/TPU found, falling back to CPU.')\n"
     ]
    }
   ],
   "source": [
    "fm = fitting_metadata.loc[subject_id]\n",
    "agg_res = pd.read_pickle(\n",
    "    'output_files/aggregation_results/{}.pkl.gz'.format(subject_id)\n",
    ")\n",
    "o = Optimizer(\n",
    "    agg_res,\n",
    "    *fm[['psf', 'galaxy_data', 'sigma_image']],\n",
    "    oversample_n=5\n",
    ")"
   ]
  },
  {
   "cell_type": "code",
   "execution_count": 35,
   "metadata": {},
   "outputs": [],
   "source": [
    "fit_res = pd.Series(fit_models.loc[subject_id])"
   ]
  },
  {
   "cell_type": "markdown",
   "metadata": {},
   "source": [
    "## Hessian Errors"
   ]
  },
  {
   "cell_type": "code",
   "execution_count": 42,
   "metadata": {},
   "outputs": [
    {
     "name": "stdout",
     "output_type": "stream",
     "text": [
      "          bar c = 4.1750 ± 0.0861\n",
      "       bar frac = 0.0495 ± 0.0049\n",
      "          bar n = 0.9309 ± 0.1095\n",
      "          bar q = 0.2265 ± 0.0174\n",
      "       bar roll = 2.9168 ± 0.0427\n",
      "      bar scale = 0.1340 ± 0.0118\n",
      "     bulge frac = 0.0230 ± 0.0084\n",
      "        bulge n = 0.5000 ± 0.0148\n",
      "        bulge q = 0.6126 ± 0.0169\n",
      "     bulge roll = 2.9028 ± 0.2797\n",
      "    bulge scale = 0.1474 ± 0.0155\n",
      "     centre mux = 128.2383 ± 0.0718\n",
      "     centre muy = 127.8199 ± 0.0258\n",
      "         disk L = 673.8897 ± 0.3820\n",
      "        disk Re = 45.1188 ± 0.2895\n",
      "       disk mux = 128.2046 ± 0.1486\n",
      "       disk muy = 129.3674 ± 0.3207\n",
      "         disk q = 0.7666 ± 0.0123\n",
      "      disk roll = 2.9676 ± 0.0289\n",
      "     spiral A.0 = 10.4750 ± 0.0282\n",
      "     spiral A.1 = 20.6104 ± 0.0155\n",
      "     spiral I.0 = 0.9687 ± 0.0625\n",
      "     spiral I.1 = 0.6812 ± 0.0246\n",
      "   spiral phi.0 = 14.6669 ± 0.2985\n",
      "   spiral phi.1 = 21.1346 ± 0.5153\n",
      "spiral spread.0 = 3.1251 ± 0.1480\n",
      "spiral spread.1 = 4.0953 ± 0.0957\n",
      " spiral t_max.0 = 6.0570 ± 0.0351\n",
      " spiral t_max.1 = 2.3915 ± 0.0280\n",
      " spiral t_min.0 = 1.6736 ± 0.0329\n",
      " spiral t_min.1 = -2.1491 ± 0.0162\n"
     ]
    }
   ],
   "source": [
    "errs = np.sqrt(max(1, abs(fit_res.res.fun)) * ftol * np.diag(fit_res.res.hess_inv.todense()))\n",
    "print('\\n'.join([\n",
    "    '{: >15} = {:.4f} ± {:.4f}'.format(\n",
    "        ' '.join(k),\n",
    "        val,\n",
    "        err,\n",
    "    )\n",
    "    for k, val, err in zip(\n",
    "        fit_res['keys'],\n",
    "        fit_res.res.x,\n",
    "        errs,\n",
    "    )\n",
    "]))"
   ]
  }
 ],
 "metadata": {
  "kernelspec": {
   "display_name": "Python 3",
   "language": "python",
   "name": "python3"
  },
  "language_info": {
   "codemirror_mode": {
    "name": "ipython",
    "version": 3
   },
   "file_extension": ".py",
   "mimetype": "text/x-python",
   "name": "python",
   "nbconvert_exporter": "python",
   "pygments_lexer": "ipython3",
   "version": "3.6.7"
  }
 },
 "nbformat": 4,
 "nbformat_minor": 4
}
