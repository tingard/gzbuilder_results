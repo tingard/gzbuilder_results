{
 "cells": [
  {
   "cell_type": "markdown",
   "metadata": {},
   "source": [
    "# Comparison to the literature of Galaxy Builder bulges and bars"
   ]
  },
  {
   "cell_type": "code",
   "execution_count": 1,
   "metadata": {
    "collapsed": false,
    "inputHidden": false,
    "jupyter": {
     "outputs_hidden": false
    },
    "outputHidden": false
   },
   "outputs": [],
   "source": [
    "%load_ext autoreload\n",
    "%autoreload 2"
   ]
  },
  {
   "cell_type": "code",
   "execution_count": 2,
   "metadata": {
    "collapsed": false,
    "inputHidden": false,
    "jupyter": {
     "outputs_hidden": false
    },
    "outputHidden": false
   },
   "outputs": [],
   "source": [
    "import numpy as np\n",
    "import pandas as pd\n",
    "import matplotlib.pyplot as plt\n",
    "import seaborn as sns\n",
    "from IPython.display import display\n",
    "import os\n",
    "from os.path import join\n",
    "from tqdm import tqdm\n",
    "import scipy.stats as st\n",
    "import json\n",
    "import lib.galaxy_utilities as gu\n",
    "import gzbuilder_analysis.parsing as pa\n",
    "import gzbuilder_analysis.fitting as fg"
   ]
  },
  {
   "cell_type": "code",
   "execution_count": 3,
   "metadata": {
    "collapsed": false,
    "inputHidden": false,
    "jupyter": {
     "outputs_hidden": false
    },
    "outputHidden": false
   },
   "outputs": [],
   "source": [
    "# %run make_bulge_bar_dataframes.py"
   ]
  },
  {
   "cell_type": "code",
   "execution_count": 4,
   "metadata": {
    "collapsed": false,
    "inputHidden": false,
    "jupyter": {
     "outputs_hidden": false
    },
    "outputHidden": false
   },
   "outputs": [],
   "source": [
    "def number_with_comp(a):\n",
    "    return sum(i is not None for i in a)\n",
    "\n",
    "def clean_column_names(df):\n",
    "    df_ = df.copy()\n",
    "    df_.columns = [i.strip().replace(' ', '_') for i in df.columns]\n",
    "    return df_\n",
    "\n",
    "def get_pbar(gal):\n",
    "    n = gal['t03_bar_a06_bar_debiased'] + gal['t03_bar_a07_no_bar_debiased']\n",
    "    return gal['t03_bar_a06_bar_debiased'] / n\n"
   ]
  },
  {
   "cell_type": "code",
   "execution_count": null,
   "metadata": {
    "collapsed": false,
    "inputHidden": false,
    "jupyter": {
     "outputs_hidden": false
    },
    "outputHidden": false
   },
   "outputs": [
    {
     "name": "stderr",
     "output_type": "stream",
     "text": [
      " 65%|██████▍   | 191/296 [00:02<00:00, 112.13it/s]"
     ]
    }
   ],
   "source": [
    "agg_res_path = 'output_files/aggregation_results'\n",
    "agg_results = pd.Series([], dtype=object)\n",
    "with tqdm(os.listdir(agg_res_path)) as bar:\n",
    "    for f in bar:\n",
    "         if re.match(r'[0-9]+\\.pkl.gz', f):\n",
    "                agg_results[int(f.split('.')[0])] = pd.read_pickle(\n",
    "                    os.path.join(agg_res_path, f)\n",
    "                )"
   ]
  },
  {
   "cell_type": "code",
   "execution_count": null,
   "metadata": {
    "collapsed": false,
    "inputHidden": false,
    "jupyter": {
     "outputs_hidden": false
    },
    "outputHidden": false
   },
   "outputs": [],
   "source": [
    "# load files contain info relating gzb subject ids to GZ2 bulge / bar results:\n",
    "bulge_df = pd.read_pickle('lib/bulge_fractions.pkl').dropna()\n",
    "bar_df = pd.read_pickle('lib/bar_fractions.pkl').dropna()"
   ]
  },
  {
   "cell_type": "code",
   "execution_count": null,
   "metadata": {
    "collapsed": false,
    "inputHidden": false,
    "jupyter": {
     "outputs_hidden": false
    },
    "outputHidden": false
   },
   "outputs": [],
   "source": [
    "comparison_df = agg_results.agg(dict(\n",
    "    cls=lambda a: len(a.input_models),\n",
    "    disk=lambda a: a.input_models.apply(lambda a: bool(a['disk'])).sum(),\n",
    "    bulge=lambda a: a.input_models.apply(lambda a: bool(a['bulge'])).sum(),\n",
    "    bar=lambda a: a.input_models.apply(lambda a: bool(a['bar'])).sum(),\n",
    ")).unstack().T\n",
    "\n",
    "comparison_df = comparison_df.assign(\n",
    "    disk_frac=comparison_df.disk / comparison_df.cls,\n",
    "    bulge_frac=comparison_df.bulge / comparison_df.cls,\n",
    "    bar_frac=comparison_df.bar / comparison_df.cls,\n",
    ")\n",
    "\n",
    "comparison_df = comparison_df.assign(\n",
    "    disk_frac_err=np.sqrt(comparison_df.disk_frac * (1 - comparison_df.disk_frac) / comparison_df.cls),\n",
    "    bulge_frac_err=np.sqrt(comparison_df.bulge_frac * (1 - comparison_df.bulge_frac) / comparison_df.cls),\n",
    "    bar_frac_err=np.sqrt(comparison_df.bar_frac * (1 - comparison_df.bar_frac) / comparison_df.cls),\n",
    ")\n",
    "\n",
    "# Let's also incorporate knowledge about the aggregagte model (did we cluster a component)\n",
    "comparison_df = comparison_df.combine_first(\n",
    "    agg_results.apply(lambda a: a.model).apply(pd.Series).applymap(bool).add_prefix('agg_')\n",
    ")\n",
    "\n",
    "# and finaly add in information about GZ2:\n",
    "comparison_df = comparison_df.assign(\n",
    "    GZ2_no_bulge=bulge_df['GZ2 no bulge'],\n",
    "    GZ2_bar_fraction=bar_df['GZ2 bar fraction'],\n",
    ").dropna().pipe(clean_column_names)"
   ]
  },
  {
   "cell_type": "markdown",
   "metadata": {},
   "source": [
    "Let's also incorporate knowledge about the aggregagte model (did we cluster a component)"
   ]
  },
  {
   "cell_type": "code",
   "execution_count": null,
   "metadata": {
    "collapsed": false,
    "inputHidden": false,
    "jupyter": {
     "outputs_hidden": false
    },
    "outputHidden": false
   },
   "outputs": [],
   "source": [
    "comparison_df.head()"
   ]
  },
  {
   "cell_type": "code",
   "execution_count": null,
   "metadata": {
    "collapsed": false,
    "inputHidden": false,
    "jupyter": {
     "outputs_hidden": false
    },
    "outputHidden": false
   },
   "outputs": [],
   "source": [
    "comparison_df.query('GZ2_bar_fraction < 0.2').bar_frac.describe()"
   ]
  },
  {
   "cell_type": "code",
   "execution_count": null,
   "metadata": {
    "collapsed": false,
    "inputHidden": false,
    "jupyter": {
     "outputs_hidden": false
    },
    "outputHidden": false
   },
   "outputs": [],
   "source": [
    "comparison_df.query('GZ2_bar_fraction > 0.5').bar_frac.describe()"
   ]
  },
  {
   "cell_type": "code",
   "execution_count": null,
   "metadata": {
    "collapsed": false,
    "inputHidden": false,
    "jupyter": {
     "outputs_hidden": false
    },
    "outputHidden": false
   },
   "outputs": [],
   "source": [
    "f, ax = plt.subplots(ncols=2, figsize=(17, 8))\n",
    "plt.sca(ax[0])\n",
    "plt.errorbar(\n",
    "    1 - comparison_df['GZ2_no_bulge'],\n",
    "    comparison_df['bulge_frac'], yerr=comparison_df['bulge_frac_err'],\n",
    "    fmt='.', c='C1', elinewidth=1, capsize=1\n",
    ")\n",
    "plt.xlim(-0.02, 1.02)\n",
    "plt.ylim(-0.02, 1.02)\n",
    "plt.gca().add_line(plt.Line2D((-10, 10), (-10, 10), c='k', alpha=0.1))\n",
    "plt.xlabel('1 - Galaxy Zoo 2 \"no bulge\" fraction')\n",
    "plt.ylabel('Fraction of classifications with a bulge in Galaxy Builder')\n",
    "\n",
    "gz2_no_bulge, gzb_bulge = comparison_df[['GZ2_no_bulge', 'bulge_frac']].dropna().values.T\n",
    "bar_corr = st.pearsonr(1 - gz2_no_bulge, gzb_bulge)\n",
    "plt.title('Pearson correlation coefficient {:.3f}, p={:.3e}'.format(*bar_corr));\n",
    "\n",
    "plt.sca(ax[1])\n",
    "plt.errorbar(\n",
    "    comparison_df['GZ2_bar_fraction'], comparison_df['bar_frac'],\n",
    "    yerr=comparison_df['bar_frac_err'],\n",
    "    fmt='.', c='C2', elinewidth=1, capsize=1\n",
    ")\n",
    "plt.xlim(-0.02, 1.02)\n",
    "plt.ylim(-0.02, 1.02)\n",
    "plt.axvline(0.2, c='k', ls=':')\n",
    "plt.axvline(0.5, c='k', ls=':')\n",
    "plt.errorbar(\n",
    "    0.1,\n",
    "    **comparison_df.query('GZ2_bar_fraction < 0.2').bar_frac.describe()\n",
    "        .rename(index=dict(mean='y', std='yerr'))[['y', 'yerr']],\n",
    "    zorder=10, fmt='o', capsize=10, color='k', ms=10\n",
    ")\n",
    "plt.errorbar(\n",
    "    0.8,\n",
    "    **comparison_df.query('GZ2_bar_fraction > 0.5').bar_frac.describe()\n",
    "        .rename(index=dict(mean='y', std='yerr'))[['y', 'yerr']],\n",
    "    zorder=10, fmt='o', capsize=10, color='k', ms=10\n",
    ")\n",
    "plt.text(0.2 - 0.01, 1.01, 'No Bar', horizontalalignment='right', verticalalignment='top')\n",
    "plt.text(0.5 + 0.01, 1.01, 'Strongly Barred', horizontalalignment='left', verticalalignment='top')\n",
    "plt.gca().add_line(plt.Line2D((-10, 10), (-10, 10), c='k', alpha=0.1))\n",
    "plt.xlabel('Galaxy Zoo 2 \"has bar\" fraction')\n",
    "plt.ylabel('Fraction of classifications with a bar in Galaxy Builder')\n",
    "bar_corr = st.pearsonr(*comparison_df[['GZ2_bar_fraction', 'bar_frac']].dropna().values.T)\n",
    "plt.title('Pearson correlation coefficient {:.3f}, p={:.2e}'.format(*bar_corr));"
   ]
  },
  {
   "cell_type": "markdown",
   "metadata": {},
   "source": [
    "Let's add in some indormation about whether the aggregate model contained this component:"
   ]
  },
  {
   "cell_type": "code",
   "execution_count": null,
   "metadata": {
    "collapsed": false,
    "inputHidden": true,
    "jupyter": {
     "outputs_hidden": false
    },
    "outputHidden": false
   },
   "outputs": [],
   "source": [
    "f, ax = plt.subplots(ncols=2, figsize=(17, 8))\n",
    "plt.sca(ax[0])\n",
    "for i in (False, True):\n",
    "    mask = comparison_df.agg_bulge == i\n",
    "    plt.errorbar(\n",
    "        1 - comparison_df['GZ2_no_bulge'][mask],\n",
    "        comparison_df['bulge_frac'][mask], yerr=comparison_df['bulge_frac_err'][mask],\n",
    "        fmt='o', c=('C2' if i else 'r'), elinewidth=1, capsize=1,\n",
    "        label=('Aggregate has bulge' if i else 'Aggregate does not have bulge')\n",
    "    )\n",
    "plt.xlim(-0.02, 1.02)\n",
    "plt.ylim(-0.02, 1.02)\n",
    "plt.gca().add_line(plt.Line2D((-10, 10), (-10, 10), c='k', alpha=0.1))\n",
    "plt.xlabel('1 - Galaxy Zoo 2 \"no bulge\" fraction')\n",
    "plt.ylabel('Fraction of classifications with a bulge in Galaxy Builder')\n",
    "\n",
    "gz2_no_bulge, gzb_bulge = comparison_df[['GZ2_no_bulge', 'bulge_frac']].dropna().values.T\n",
    "bar_corr = st.pearsonr(1 - gz2_no_bulge, gzb_bulge)\n",
    "plt.title('Pearson correlation coefficient {:.3f}, p={:.3e}'.format(*bar_corr));\n",
    "\n",
    "plt.sca(ax[1])\n",
    "for i in (False, True):\n",
    "    mask = comparison_df.agg_bar == i\n",
    "    plt.errorbar(\n",
    "        comparison_df['GZ2_bar_fraction'][mask], comparison_df['bar_frac'][mask],\n",
    "        yerr=comparison_df['bar_frac_err'][mask],\n",
    "        fmt='o', c=('C2' if i else 'r'), ms=5, elinewidth=1, capsize=1,\n",
    "        label=('Aggregate has bar' if i else 'Aggregate does not have bar')\n",
    "    )\n",
    "plt.xlim(-0.02, 1.02)\n",
    "plt.ylim(-0.02, 1.02)\n",
    "plt.axvline(0.2, c='k', ls=':')\n",
    "plt.axvline(0.5, c='k', ls=':')\n",
    "plt.errorbar(\n",
    "    0.1,\n",
    "    **comparison_df.query('GZ2_bar_fraction < 0.2').bar_frac.describe()\n",
    "        .rename(index=dict(mean='y', std='yerr'))[['y', 'yerr']],\n",
    "    zorder=10, fmt='o', capsize=10, color='k', ms=10\n",
    ")\n",
    "plt.errorbar(\n",
    "    0.8,\n",
    "    **comparison_df.query('GZ2_bar_fraction > 0.5').bar_frac.describe()\n",
    "        .rename(index=dict(mean='y', std='yerr'))[['y', 'yerr']],\n",
    "    zorder=10, fmt='o', capsize=10, color='k', ms=10\n",
    ")\n",
    "plt.text(0.2 - 0.01, 1.01, 'No Bar', horizontalalignment='right', verticalalignment='top')\n",
    "plt.text(0.5 + 0.01, 1.01, 'Strongly Barred', horizontalalignment='left', verticalalignment='top')\n",
    "plt.legend()\n",
    "plt.gca().add_line(plt.Line2D((-10, 10), (-10, 10), c='k', alpha=0.1))\n",
    "plt.xlabel('Galaxy Zoo 2 \"has bar\" fraction')\n",
    "plt.ylabel('Fraction of classifications with a bar in Galaxy Builder')\n",
    "bar_corr = st.pearsonr(*comparison_df[['GZ2_bar_fraction', 'bar_frac']].dropna().values.T)\n",
    "plt.title('Pearson correlation coefficient {:.3f}, p={:.2e}'.format(*bar_corr));"
   ]
  },
  {
   "cell_type": "markdown",
   "metadata": {},
   "source": [
    "## Relative component fractions by volunteer\n",
    "\n",
    "Do some volunteers systematically make use of bulges or bars, or is it dependant on the galaxy?"
   ]
  },
  {
   "cell_type": "code",
   "execution_count": null,
   "metadata": {
    "collapsed": false,
    "inputHidden": false,
    "jupyter": {
     "outputs_hidden": false
    },
    "outputHidden": false
   },
   "outputs": [],
   "source": [
    "%%time\n",
    "cls = pd.read_csv('lib/galaxy-builder-classifications.csv', index_col=0)\n",
    "models = (\n",
    "    cls.query('workflow_version == 61.107')\n",
    "       .apply(pa.parse_classification, image_size=(512, 512),\n",
    "              axis=1, ignore_scale=True)\n",
    "       .apply(pd.Series)\n",
    "       .assign(subject_ids=cls['subject_ids'].astype('category'))\n",
    ")\n",
    "\n",
    "\n",
    "n_cls_by_usr = (\n",
    "    cls.query('workflow_version == 61.107')\n",
    "        .user_name\n",
    "        .value_counts()\n",
    "        .sort_values()\n",
    ")\n",
    "model_freq = (\n",
    "    models.assign(user_name=cls.reindex(models.index)['user_name'])\n",
    "        .drop(columns=['spiral', 'subject_ids'])\n",
    "        .groupby('user_name')\n",
    "        .agg(number_with_comp)\n",
    "        .reindex(n_cls_by_usr.index)\n",
    "        .T \n",
    "    / n_cls_by_usr\n",
    ").T\n",
    "model_freq.assign(N_classifications=n_cls_by_usr).tail(10)"
   ]
  },
  {
   "cell_type": "markdown",
   "metadata": {},
   "source": [
    "Restricting to users with more than 30 classifications, what can we see?"
   ]
  },
  {
   "cell_type": "code",
   "execution_count": null,
   "metadata": {
    "collapsed": false,
    "inputHidden": false,
    "jupyter": {
     "outputs_hidden": false
    },
    "outputHidden": false
   },
   "outputs": [],
   "source": [
    "plt.figure(figsize=(12, 4), dpi=80)\n",
    "for c in model_freq.columns:\n",
    "    plt.hist(\n",
    "        model_freq[n_cls_by_usr > 20][c].dropna(),\n",
    "        bins='scott', density=True, label=c, alpha=0.4\n",
    "    )\n",
    "print('Identified {} users with more than 20 classifications'.format(\n",
    "    (n_cls_by_usr > 30).sum()\n",
    "))\n",
    "plt.xlabel('Fraction of classifications with component')\n",
    "plt.ylabel('Density')\n",
    "plt.legend()"
   ]
  },
  {
   "cell_type": "markdown",
   "metadata": {},
   "source": [
    "Looks like volunteers used discs and bulges almost all the time, with a wide spread in the use of bars (some never, some always)."
   ]
  },
  {
   "cell_type": "markdown",
   "metadata": {},
   "source": [
    "To be certain of this, we'll calculate the Beta conjugate prior for $N$ classifications with $s$ instances of a component:\n",
    "\n",
    "$$P(q = x | s, N) = \\frac{x^s(1 - x)^{N - s}}{B(s+1,\\ N-s+1)}$$"
   ]
  },
  {
   "cell_type": "code",
   "execution_count": null,
   "metadata": {
    "collapsed": false,
    "inputHidden": false,
    "jupyter": {
     "outputs_hidden": false
    },
    "outputHidden": false
   },
   "outputs": [],
   "source": [
    "from scipy.special import beta\n",
    "\n",
    "def updated_bn(N, s):\n",
    "    return lambda x: x**(s)*(1 - x)**(N - s) / beta(s + 1, N - s + 1)\n",
    "\n",
    "x = np.linspace(0, 1, 500)\n",
    "_f_df = (models.assign(user_name=cls.reindex(models.index)['user_name'])\n",
    "        .drop(columns=['spiral', 'subject_ids'])\n",
    "        .groupby('user_name')\n",
    "        .agg(number_with_comp)\n",
    "        .reindex(n_cls_by_usr.index)\n",
    "        .assign(n=n_cls_by_usr)\n",
    "        .query('n > 20')\n",
    "        .astype(object)\n",
    "        .apply(\n",
    "            lambda a: pd.Series(np.vectorize(\n",
    "                lambda p: updated_bn(a.n, p)\n",
    "            )(a.iloc[:-1]), index=a.index[:-1]),\n",
    "            axis=1,\n",
    "        )\n",
    "        .applymap(lambda f: f(x))\n",
    ")\n",
    "\n",
    "plt.figure(figsize=(8, 3.3), dpi=100)\n",
    "for i, k in enumerate(('disk', 'bulge', 'bar')):\n",
    "    plt.plot(x, np.mean(_f_df[k]), color=f'C{i}', label=k.capitalize())\n",
    "    plt.fill_between(x, 0, np.mean(_f_df[k]), alpha=0.2, color=f'C{i}')\n",
    "plt.xlabel(r'$p_{\\mathrm{component}}$')\n",
    "plt.xlim(0, 1)\n",
    "plt.legend()\n",
    "plt.tight_layout();"
   ]
  },
  {
   "cell_type": "code",
   "execution_count": null,
   "metadata": {},
   "outputs": [],
   "source": []
  }
 ],
 "metadata": {
  "kernel_info": {
   "name": "python3"
  },
  "kernelspec": {
   "display_name": "Python 3",
   "language": "python",
   "name": "python3"
  },
  "language_info": {
   "codemirror_mode": {
    "name": "ipython",
    "version": 3
   },
   "file_extension": ".py",
   "mimetype": "text/x-python",
   "name": "python",
   "nbconvert_exporter": "python",
   "pygments_lexer": "ipython3",
   "version": "3.6.7"
  },
  "nteract": {
   "version": "0.15.0"
  }
 },
 "nbformat": 4,
 "nbformat_minor": 4
}
