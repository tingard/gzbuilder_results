{
 "cells": [
  {
   "cell_type": "code",
   "execution_count": 1,
   "metadata": {},
   "outputs": [],
   "source": [
    "%load_ext autoreload\n",
    "%autoreload 2"
   ]
  },
  {
   "cell_type": "code",
   "execution_count": 2,
   "metadata": {},
   "outputs": [],
   "source": [
    "import numpy as np\n",
    "import pandas as pd\n",
    "import jax.numpy as jnp\n",
    "from jax.config import config\n",
    "import gzbuilder_analysis.parsing.reparametrization\n",
    "import gzbuilder_analysis.parsing\n",
    "import gzbuilder_analysis.aggregation.spirals\n",
    "import gzbuilder_analysis.aggregation.spirals.oo\n",
    "import gzbuilder_analysis.aggregation\n",
    "import gzbuilder_analysis.rendering.sersic\n",
    "import gzbuilder_analysis.rendering.spiral\n",
    "import gzbuilder_analysis.rendering.renderer as renderer\n",
    "import gzbuilder_analysis.rendering\n",
    "import gzbuilder_analysis.fitting.misc\n",
    "import gzbuilder_analysis.fitting.optimizer\n",
    "import gzbuilder_analysis.fitting.nnlf\n",
    "import gzbuilder_analysis.fitting\n",
    "import gzbuilder_analysis\n",
    "config.update(\"jax_enable_x64\", True)"
   ]
  },
  {
   "cell_type": "code",
   "execution_count": 3,
   "metadata": {},
   "outputs": [],
   "source": [
    "fitting_metadata = pd.read_pickle('lib/fitting_metadata.pkl')"
   ]
  },
  {
   "cell_type": "markdown",
   "metadata": {},
   "source": [
    "In this notebook we use a synthetic galaxy (from the *calibration subset*) to demonstrate the full process of rendering, clustering and fitting a model."
   ]
  },
  {
   "cell_type": "code",
   "execution_count": 107,
   "metadata": {},
   "outputs": [
    {
     "data": {
      "text/plain": [
       "40216830"
      ]
     },
     "execution_count": 107,
     "metadata": {},
     "output_type": "execute_result"
    }
   ],
   "source": [
    "classifications.query('user_name == \"tingard\"').iloc[-1].subject_ids"
   ]
  },
  {
   "cell_type": "code",
   "execution_count": 108,
   "metadata": {},
   "outputs": [],
   "source": [
    "classifications = pd.read_csv('lib/galaxy-builder-classifications.csv', index_col=0)\n",
    "classifications.query('subject_ids == 40216827')\\\n",
    "    .drop(columns=['user_name', 'user_id', 'user_ip', 'metadata'])\\\n",
    "    .to_csv('../gzbuilder_analysis/examples/example_classifications.csv')"
   ]
  },
  {
   "cell_type": "code",
   "execution_count": 4,
   "metadata": {},
   "outputs": [
    {
     "data": {
      "text/plain": [
       "disk    mux         67.671\n",
       "        muy         66.429\n",
       "        q            0.507\n",
       "        roll         1.341\n",
       "        Re          30.955\n",
       "        I            0.108\n",
       "bar     mux         66.963\n",
       "        muy         66.114\n",
       "        q            0.332\n",
       "        roll         0.922\n",
       "        Re           4.188\n",
       "        I            0.487\n",
       "        n            0.800\n",
       "        c            3.000\n",
       "spiral  I.0          0.463\n",
       "        spread.0     1.581\n",
       "        A.0          9.573\n",
       "        phi.0       20.000\n",
       "        t_min.0      0.323\n",
       "        t_max.0      2.965\n",
       "        I.1          0.463\n",
       "        spread.1     1.581\n",
       "        A.1         30.549\n",
       "        phi.1       17.616\n",
       "        t_min.1     -3.464\n",
       "        t_max.1     -1.000\n",
       "dtype: float64"
      ]
     },
     "execution_count": 4,
     "metadata": {},
     "output_type": "execute_result"
    }
   ],
   "source": [
    "affirmation_model = pd.read_pickle('affirmation_set_models/disk_bar_sp_model2.pkl')\n",
    "model = pd.DataFrame(affirmation_model['model']).unstack().dropna().astype(float)\n",
    "model.round(3)"
   ]
  },
  {
   "cell_type": "code",
   "execution_count": 95,
   "metadata": {},
   "outputs": [],
   "source": [
    "with open('../gzbuilder_analysis/examples/example_model.json', 'w') as f:\n",
    "    json.dump(\n",
    "        gzbuilder_analysis.df_to_dict(model.unstack().T),\n",
    "        f\n",
    "    )"
   ]
  },
  {
   "cell_type": "code",
   "execution_count": 103,
   "metadata": {},
   "outputs": [
    {
     "data": {
      "text/plain": [
       "Index(['psf', 'pixel_mask', 'galaxy_data', 'montage_wcs', 'original_wcs',\n",
       "       'multiplier', 'sigma_image', 'width', 'size_diff',\n",
       "       'rotation_correction'],\n",
       "      dtype='object')"
      ]
     },
     "execution_count": 103,
     "metadata": {},
     "output_type": "execute_result"
    }
   ],
   "source": [
    "fitting_metadata.columns"
   ]
  },
  {
   "cell_type": "code",
   "execution_count": 104,
   "metadata": {},
   "outputs": [],
   "source": [
    "with open('../gzbuilder_analysis/examples/example_metadata.json', 'w') as f:\n",
    "    json.dump(\n",
    "        fitting_metadata.loc[21686576]\n",
    "            [['size_diff', 'psf', 'pixel_mask', 'sigma_image', 'multiplier', 'galaxy_data', 'rotation_correction']]\n",
    "            .apply(lambda a: a.tolist() if isinstance(a, np.ndarray) else a)\n",
    "            .to_dict(),\n",
    "        f\n",
    "    )"
   ]
  },
  {
   "cell_type": "markdown",
   "metadata": {},
   "source": [
    "We have a disk, bar and two spiral arms (grouped under one \"spiral\" key, but there are two sets of parameters, denoted `(parameter).(index)`). Let's see what this model's isophotes look like:"
   ]
  },
  {
   "cell_type": "code",
   "execution_count": 5,
   "metadata": {},
   "outputs": [
    {
     "name": "stderr",
     "output_type": "stream",
     "text": [
      "/Users/tlingard/anaconda3/lib/python3.6/site-packages/jax/lib/xla_bridge.py:122: UserWarning: No GPU/TPU found, falling back to CPU.\n",
      "  warnings.warn('No GPU/TPU found, falling back to CPU.')\n"
     ]
    },
    {
     "data": {
      "text/plain": [
       "(30.0, 105.0, 30.0, 105.0)"
      ]
     },
     "execution_count": 5,
     "metadata": {},
     "output_type": "execute_result"
    },
    {
     "data": {
      "image/png": "[encoded data removed]",
      "text/plain": [
       "<Figure size 400x400 with 1 Axes>"
      ]
     },
     "metadata": {
      "needs_background": "light"
     },
     "output_type": "display_data"
    }
   ],
   "source": [
    "from descartes import PolygonPatch\n",
    "from shapely.affinity import scale\n",
    "\n",
    "geoms = gzbuilder_analysis.aggregation.get_geoms(model)\n",
    "f, ax = plt.subplots(figsize=(4, 4), dpi=100)\n",
    "ax.add_patch(PolygonPatch(scale(geoms['disk'], 1, 1), fc='none', ec=f'C0'))\n",
    "ax.add_patch(PolygonPatch(scale(geoms['bar'], 2, 2), fc='none', ec=f'C2'))\n",
    "plt.xlim(30, 105)\n",
    "plt.ylim(30, 105)\n",
    "spirals = gzbuilder_analysis.rendering.get_spirals(model.to_dict(), 2, model[('disk', 'roll')])\n",
    "for s in spirals:\n",
    "    plt.plot(*s.T, 'r')\n",
    "plt.axis('off')"
   ]
  },
  {
   "cell_type": "markdown",
   "metadata": {},
   "source": [
    "And let's render it into a galaxy image!"
   ]
  },
  {
   "cell_type": "code",
   "execution_count": 44,
   "metadata": {},
   "outputs": [
    {
     "ename": "ValueError",
     "evalue": "The truth value of a Series is ambiguous. Use a.empty, a.bool(), a.item(), a.any() or a.all().",
     "output_type": "error",
     "traceback": [
      "\u001b[0;31m---------------------------------------------------------------------------\u001b[0m",
      "\u001b[0;31mValueError\u001b[0m                                Traceback (most recent call last)",
      "\u001b[0;32m<ipython-input-44-6fa3642f4bcc>\u001b[0m in \u001b[0;36m<module>\u001b[0;34m\u001b[0m\n\u001b[0;32m----> 1\u001b[0;31m \u001b[0mbool\u001b[0m\u001b[0;34m(\u001b[0m\u001b[0mmodel\u001b[0m\u001b[0;34m.\u001b[0m\u001b[0mget\u001b[0m\u001b[0;34m(\u001b[0m\u001b[0;34m'bar'\u001b[0m\u001b[0;34m,\u001b[0m \u001b[0;32mFalse\u001b[0m\u001b[0;34m)\u001b[0m\u001b[0;34m)\u001b[0m\u001b[0;34m\u001b[0m\u001b[0;34m\u001b[0m\u001b[0m\n\u001b[0m",
      "\u001b[0;32m~/anaconda3/lib/python3.6/site-packages/pandas/core/generic.py\u001b[0m in \u001b[0;36m__nonzero__\u001b[0;34m(self)\u001b[0m\n\u001b[1;32m   1477\u001b[0m     \u001b[0;32mdef\u001b[0m \u001b[0m__nonzero__\u001b[0m\u001b[0;34m(\u001b[0m\u001b[0mself\u001b[0m\u001b[0;34m)\u001b[0m\u001b[0;34m:\u001b[0m\u001b[0;34m\u001b[0m\u001b[0;34m\u001b[0m\u001b[0m\n\u001b[1;32m   1478\u001b[0m         raise ValueError(\n\u001b[0;32m-> 1479\u001b[0;31m             \u001b[0;34mf\"The truth value of a {type(self).__name__} is ambiguous. \"\u001b[0m\u001b[0;34m\u001b[0m\u001b[0;34m\u001b[0m\u001b[0m\n\u001b[0m\u001b[1;32m   1480\u001b[0m             \u001b[0;34m\"Use a.empty, a.bool(), a.item(), a.any() or a.all().\"\u001b[0m\u001b[0;34m\u001b[0m\u001b[0;34m\u001b[0m\u001b[0m\n\u001b[1;32m   1481\u001b[0m         )\n",
      "\u001b[0;31mValueError\u001b[0m: The truth value of a Series is ambiguous. Use a.empty, a.bool(), a.item(), a.any() or a.all()."
     ]
    }
   ],
   "source": [
    "bool(model.get('bar', False))"
   ]
  },
  {
   "cell_type": "code",
   "execution_count": 47,
   "metadata": {},
   "outputs": [
    {
     "data": {
      "text/plain": [
       "a  1    1\n",
       "   2    2\n",
       "b  1    3\n",
       "dtype: int64"
      ]
     },
     "execution_count": 47,
     "metadata": {},
     "output_type": "execute_result"
    }
   ],
   "source": [
    "pd.Series([1,2,3], index=pd.MultiIndex.from_tuples([('a', 1), ('a', 2), ('b', 1)]))"
   ]
  },
  {
   "cell_type": "code",
   "execution_count": 45,
   "metadata": {},
   "outputs": [
    {
     "ename": "ValueError",
     "evalue": "The truth value of a Series is ambiguous. Use a.empty, a.bool(), a.item(), a.any() or a.all().",
     "output_type": "error",
     "traceback": [
      "\u001b[0;31m---------------------------------------------------------------------------\u001b[0m",
      "\u001b[0;31mValueError\u001b[0m                                Traceback (most recent call last)",
      "\u001b[0;32m<ipython-input-45-8b1af8b67247>\u001b[0m in \u001b[0;36m<module>\u001b[0;34m\u001b[0m\n\u001b[1;32m      1\u001b[0m reparametrized_model = gzbuilder_analysis.parsing.reparametrization.to_reparametrization(\n\u001b[0;32m----> 2\u001b[0;31m     \u001b[0mmodel\u001b[0m\u001b[0;34m\u001b[0m\u001b[0;34m\u001b[0m\u001b[0m\n\u001b[0m\u001b[1;32m      3\u001b[0m )\n",
      "\u001b[0;32m~/PhD/gzbuilder_collection/gzbuilder_analysis/gzbuilder_analysis/parsing/reparametrization.py\u001b[0m in \u001b[0;36mto_reparametrization\u001b[0;34m(model)\u001b[0m\n\u001b[1;32m     69\u001b[0m             \u001b[0mn\u001b[0m\u001b[0;34m=\u001b[0m\u001b[0mmodel\u001b[0m\u001b[0;34m[\u001b[0m\u001b[0;34m'bar'\u001b[0m\u001b[0;34m]\u001b[0m\u001b[0;34m[\u001b[0m\u001b[0;34m'n'\u001b[0m\u001b[0;34m]\u001b[0m\u001b[0;34m,\u001b[0m\u001b[0;34m\u001b[0m\u001b[0;34m\u001b[0m\u001b[0m\n\u001b[1;32m     70\u001b[0m             \u001b[0mc\u001b[0m\u001b[0;34m=\u001b[0m\u001b[0mmodel\u001b[0m\u001b[0;34m[\u001b[0m\u001b[0;34m'bar'\u001b[0m\u001b[0;34m]\u001b[0m\u001b[0;34m[\u001b[0m\u001b[0;34m'c'\u001b[0m\u001b[0;34m]\u001b[0m\u001b[0;34m\u001b[0m\u001b[0;34m\u001b[0m\u001b[0m\n\u001b[0;32m---> 71\u001b[0;31m         ) if bool(model.get('bar', False)) else None,\n\u001b[0m\u001b[1;32m     72\u001b[0m         centre=(\n\u001b[1;32m     73\u001b[0m             \u001b[0mget_centre\u001b[0m\u001b[0;34m(\u001b[0m\u001b[0mmodel\u001b[0m\u001b[0;34m)\u001b[0m\u001b[0;34m\u001b[0m\u001b[0;34m\u001b[0m\u001b[0m\n",
      "\u001b[0;32m~/anaconda3/lib/python3.6/site-packages/pandas/core/generic.py\u001b[0m in \u001b[0;36m__nonzero__\u001b[0;34m(self)\u001b[0m\n\u001b[1;32m   1477\u001b[0m     \u001b[0;32mdef\u001b[0m \u001b[0m__nonzero__\u001b[0m\u001b[0;34m(\u001b[0m\u001b[0mself\u001b[0m\u001b[0;34m)\u001b[0m\u001b[0;34m:\u001b[0m\u001b[0;34m\u001b[0m\u001b[0;34m\u001b[0m\u001b[0m\n\u001b[1;32m   1478\u001b[0m         raise ValueError(\n\u001b[0;32m-> 1479\u001b[0;31m             \u001b[0;34mf\"The truth value of a {type(self).__name__} is ambiguous. \"\u001b[0m\u001b[0;34m\u001b[0m\u001b[0;34m\u001b[0m\u001b[0m\n\u001b[0m\u001b[1;32m   1480\u001b[0m             \u001b[0;34m\"Use a.empty, a.bool(), a.item(), a.any() or a.all().\"\u001b[0m\u001b[0;34m\u001b[0m\u001b[0;34m\u001b[0m\u001b[0m\n\u001b[1;32m   1481\u001b[0m         )\n",
      "\u001b[0;31mValueError\u001b[0m: The truth value of a Series is ambiguous. Use a.empty, a.bool(), a.item(), a.any() or a.all()."
     ]
    }
   ],
   "source": [
    "reparametrized_model = gzbuilder_analysis.parsing.reparametrization.to_reparametrization(\n",
    "    model\n",
    ")"
   ]
  },
  {
   "cell_type": "code",
   "execution_count": 30,
   "metadata": {},
   "outputs": [
    {
     "name": "stdout",
     "output_type": "stream",
     "text": [
      "{'spread', 't_max', 'I', 't_min', 'phi', 'A'} {'spread', 't_max', 'I', 't_min', 'phi', 'A'}\n",
      "{'disk': {'mux': 67.67123062398139, 'muy': 66.42925652315009, 'q': 0.5066812196617194, 'roll': 1.3412969284930465, 'Re': 30.954606552601703, 'L': 626.4968166078835}, 'bar': {'q': 0.33175053117049247, 'roll': 0.9217655578473954, 'scale': 0.1352861073679772, 'frac': 0.1, 'n': 0.8, 'c': 3.0}, 'centre': {'mux': 66.96306227730454, 'muy': 66.1140210115531}, 'spiral': {'I.0': 0.462962962962963, 'spread.0': 1.5811388300841898, 'A.0': 9.572888732087263, 'phi.0': 20.0, 't_min.0': 0.32288614435860286, 't_max.0': 2.965410360857193, 'I.1': 0.462962962962963, 'spread.1': 1.5811388300841898, 'A.1': 30.549292838899973, 'phi.1': 17.61559130800479, 't_min.1': -3.4635495849732933, 't_max.1': -0.9999843894210629}}\n"
     ]
    },
    {
     "ename": "TypeError",
     "evalue": "Argument 'Empty DataFrame\nColumns: [mux, muy, q, roll, Re, L, scale, frac, n, c, I.0, spread.0, A.0, phi.0, t_min.0, t_max.0, I.1, spread.1, A.1, phi.1, t_min.1, t_max.1]\nIndex: []\n\n[0 rows x 22 columns]' of type <class 'pandas.core.frame.DataFrame'> is not a valid JAX type",
     "output_type": "error",
     "traceback": [
      "\u001b[0;31m---------------------------------------------------------------------------\u001b[0m",
      "\u001b[0;31mTypeError\u001b[0m                                 Traceback (most recent call last)",
      "\u001b[0;32m<ipython-input-30-81bb3f97754c>\u001b[0m in \u001b[0;36m<module>\u001b[0;34m\u001b[0m\n\u001b[1;32m      1\u001b[0m \u001b[0mr\u001b[0m \u001b[0;34m=\u001b[0m \u001b[0mrenderer\u001b[0m\u001b[0;34m.\u001b[0m\u001b[0mRenderer\u001b[0m\u001b[0;34m(\u001b[0m\u001b[0;34m)\u001b[0m\u001b[0;34m\u001b[0m\u001b[0;34m\u001b[0m\u001b[0m\n\u001b[0;32m----> 2\u001b[0;31m \u001b[0mr\u001b[0m\u001b[0;34m(\u001b[0m\u001b[0mmodel\u001b[0m\u001b[0;34m)\u001b[0m\u001b[0;34m\u001b[0m\u001b[0;34m\u001b[0m\u001b[0m\n\u001b[0m",
      "\u001b[0;32m~/PhD/gzbuilder_collection/gzbuilder_analysis/gzbuilder_analysis/rendering/renderer.py\u001b[0m in \u001b[0;36m__call__\u001b[0;34m(self, model, oversample_n, is_reparametrized)\u001b[0m\n\u001b[1;32m    101\u001b[0m         rendered_components = render_comps(\n\u001b[1;32m    102\u001b[0m             \u001b[0mmodel\u001b[0m\u001b[0;34m,\u001b[0m \u001b[0mhas_bulge\u001b[0m\u001b[0;34m,\u001b[0m \u001b[0mhas_bar\u001b[0m\u001b[0;34m,\u001b[0m \u001b[0mn_spirals\u001b[0m\u001b[0;34m,\u001b[0m \u001b[0mself\u001b[0m\u001b[0;34m.\u001b[0m\u001b[0mshape\u001b[0m\u001b[0;34m,\u001b[0m\u001b[0;34m\u001b[0m\u001b[0;34m\u001b[0m\u001b[0m\n\u001b[0;32m--> 103\u001b[0;31m             \u001b[0mself\u001b[0m\u001b[0;34m.\u001b[0m\u001b[0moversample_n\u001b[0m\u001b[0;34m,\u001b[0m \u001b[0mmodel\u001b[0m\u001b[0;34m.\u001b[0m\u001b[0mget\u001b[0m\u001b[0;34m(\u001b[0m\u001b[0;34m(\u001b[0m\u001b[0;34m'disk'\u001b[0m\u001b[0;34m,\u001b[0m \u001b[0;34m'roll'\u001b[0m\u001b[0;34m)\u001b[0m\u001b[0;34m,\u001b[0m \u001b[0;36m0\u001b[0m\u001b[0;34m)\u001b[0m\u001b[0;34m\u001b[0m\u001b[0;34m\u001b[0m\u001b[0m\n\u001b[0m\u001b[1;32m    104\u001b[0m         )\n\u001b[1;32m    105\u001b[0m         \u001b[0;31m# # PSF convolve\u001b[0m\u001b[0;34m\u001b[0m\u001b[0;34m\u001b[0m\u001b[0;34m\u001b[0m\u001b[0m\n",
      "\u001b[0;32m~/anaconda3/lib/python3.6/site-packages/jax/api.py\u001b[0m in \u001b[0;36mf_jitted\u001b[0;34m(*args, **kwargs)\u001b[0m\n\u001b[1;32m    141\u001b[0m       \u001b[0mdyn_args\u001b[0m \u001b[0;34m=\u001b[0m \u001b[0margs\u001b[0m\u001b[0;34m\u001b[0m\u001b[0;34m\u001b[0m\u001b[0m\n\u001b[1;32m    142\u001b[0m     \u001b[0margs_flat\u001b[0m\u001b[0;34m,\u001b[0m \u001b[0min_tree\u001b[0m \u001b[0;34m=\u001b[0m \u001b[0mtree_flatten\u001b[0m\u001b[0;34m(\u001b[0m\u001b[0;34m(\u001b[0m\u001b[0mdyn_args\u001b[0m\u001b[0;34m,\u001b[0m \u001b[0mkwargs\u001b[0m\u001b[0;34m)\u001b[0m\u001b[0;34m)\u001b[0m\u001b[0;34m\u001b[0m\u001b[0;34m\u001b[0m\u001b[0m\n\u001b[0;32m--> 143\u001b[0;31m     \u001b[0m_check_args\u001b[0m\u001b[0;34m(\u001b[0m\u001b[0margs_flat\u001b[0m\u001b[0;34m)\u001b[0m\u001b[0;34m\u001b[0m\u001b[0;34m\u001b[0m\u001b[0m\n\u001b[0m\u001b[1;32m    144\u001b[0m     \u001b[0mflat_fun\u001b[0m\u001b[0;34m,\u001b[0m \u001b[0mout_tree\u001b[0m \u001b[0;34m=\u001b[0m \u001b[0mflatten_fun\u001b[0m\u001b[0;34m(\u001b[0m\u001b[0mf\u001b[0m\u001b[0;34m,\u001b[0m \u001b[0min_tree\u001b[0m\u001b[0;34m)\u001b[0m\u001b[0;34m\u001b[0m\u001b[0;34m\u001b[0m\u001b[0m\n\u001b[1;32m    145\u001b[0m     out = xla.xla_call(flat_fun, *args_flat, device=device, backend=backend,\n",
      "\u001b[0;32m~/anaconda3/lib/python3.6/site-packages/jax/api.py\u001b[0m in \u001b[0;36m_check_args\u001b[0;34m(args)\u001b[0m\n\u001b[1;32m   1411\u001b[0m     \u001b[0;32mif\u001b[0m \u001b[0;32mnot\u001b[0m \u001b[0;34m(\u001b[0m\u001b[0misinstance\u001b[0m\u001b[0;34m(\u001b[0m\u001b[0marg\u001b[0m\u001b[0;34m,\u001b[0m \u001b[0mcore\u001b[0m\u001b[0;34m.\u001b[0m\u001b[0mTracer\u001b[0m\u001b[0;34m)\u001b[0m \u001b[0;32mor\u001b[0m \u001b[0m_valid_jaxtype\u001b[0m\u001b[0;34m(\u001b[0m\u001b[0marg\u001b[0m\u001b[0;34m)\u001b[0m\u001b[0;34m)\u001b[0m\u001b[0;34m:\u001b[0m\u001b[0;34m\u001b[0m\u001b[0;34m\u001b[0m\u001b[0m\n\u001b[1;32m   1412\u001b[0m       raise TypeError(\"Argument '{}' of type {} is not a valid JAX type\"\n\u001b[0;32m-> 1413\u001b[0;31m                       .format(arg, type(arg)))\n\u001b[0m\u001b[1;32m   1414\u001b[0m \u001b[0;34m\u001b[0m\u001b[0m\n\u001b[1;32m   1415\u001b[0m \u001b[0;32mdef\u001b[0m \u001b[0m_valid_jaxtype\u001b[0m\u001b[0;34m(\u001b[0m\u001b[0marg\u001b[0m\u001b[0;34m)\u001b[0m\u001b[0;34m:\u001b[0m\u001b[0;34m\u001b[0m\u001b[0;34m\u001b[0m\u001b[0m\n",
      "\u001b[0;31mTypeError\u001b[0m: Argument 'Empty DataFrame\nColumns: [mux, muy, q, roll, Re, L, scale, frac, n, c, I.0, spread.0, A.0, phi.0, t_min.0, t_max.0, I.1, spread.1, A.1, phi.1, t_min.1, t_max.1]\nIndex: []\n\n[0 rows x 22 columns]' of type <class 'pandas.core.frame.DataFrame'> is not a valid JAX type"
     ]
    }
   ],
   "source": [
    "\n",
    "r = renderer.Renderer()\n",
    "r(model)"
   ]
  },
  {
   "cell_type": "code",
   "execution_count": 31,
   "metadata": {},
   "outputs": [
    {
     "ename": "KeyError",
     "evalue": "'bulge'",
     "output_type": "error",
     "traceback": [
      "\u001b[0;31m---------------------------------------------------------------------------\u001b[0m",
      "\u001b[0;31mKeyError\u001b[0m                                  Traceback (most recent call last)",
      "\u001b[0;32m<ipython-input-31-830e511b8db4>\u001b[0m in \u001b[0;36m<module>\u001b[0;34m\u001b[0m\n\u001b[0;32m----> 1\u001b[0;31m \u001b[0mgzbuilder_analysis\u001b[0m\u001b[0;34m.\u001b[0m\u001b[0mrendering\u001b[0m\u001b[0;34m.\u001b[0m\u001b[0mcalculate_model\u001b[0m\u001b[0;34m(\u001b[0m\u001b[0mgzbuilder_analysis\u001b[0m\u001b[0;34m.\u001b[0m\u001b[0mdf_to_dict\u001b[0m\u001b[0;34m(\u001b[0m\u001b[0mmodel\u001b[0m\u001b[0;34m.\u001b[0m\u001b[0munstack\u001b[0m\u001b[0;34m(\u001b[0m\u001b[0;34m)\u001b[0m\u001b[0;34m.\u001b[0m\u001b[0mT\u001b[0m\u001b[0;34m)\u001b[0m\u001b[0;34m)\u001b[0m\u001b[0;34m\u001b[0m\u001b[0;34m\u001b[0m\u001b[0m\n\u001b[0m",
      "\u001b[0;32m~/PhD/gzbuilder_collection/gzbuilder_analysis/gzbuilder_analysis/rendering/__init__.py\u001b[0m in \u001b[0;36mcalculate_model\u001b[0;34m(model, image_size, psf, oversample_n)\u001b[0m\n\u001b[1;32m     32\u001b[0m         oversample_n=oversample_n)\n\u001b[1;32m     33\u001b[0m     bulge_arr = oversampled_sersic_component(\n\u001b[0;32m---> 34\u001b[0;31m         \u001b[0mmodel\u001b[0m\u001b[0;34m[\u001b[0m\u001b[0;34m'bulge'\u001b[0m\u001b[0;34m]\u001b[0m\u001b[0;34m,\u001b[0m\u001b[0;34m\u001b[0m\u001b[0;34m\u001b[0m\u001b[0m\n\u001b[0m\u001b[1;32m     35\u001b[0m         \u001b[0mimage_size\u001b[0m\u001b[0;34m=\u001b[0m\u001b[0mimage_size\u001b[0m\u001b[0;34m,\u001b[0m\u001b[0;34m\u001b[0m\u001b[0;34m\u001b[0m\u001b[0m\n\u001b[1;32m     36\u001b[0m         \u001b[0moversample_n\u001b[0m\u001b[0;34m=\u001b[0m\u001b[0moversample_n\u001b[0m\u001b[0;34m\u001b[0m\u001b[0;34m\u001b[0m\u001b[0m\n",
      "\u001b[0;31mKeyError\u001b[0m: 'bulge'"
     ]
    }
   ],
   "source": [
    "gzbuilder_analysis.rendering.calculate_model(gzbuilder_analysis.df_to_dict(model.unstack().T))"
   ]
  },
  {
   "cell_type": "code",
   "execution_count": null,
   "metadata": {},
   "outputs": [],
   "source": []
  },
  {
   "cell_type": "markdown",
   "metadata": {},
   "source": [
    "Loading in the Zooniverse classifications is easy with pandas:"
   ]
  },
  {
   "cell_type": "code",
   "execution_count": 64,
   "metadata": {},
   "outputs": [],
   "source": [
    "classifications = pd.read_csv('lib/galaxy-builder-classifications.csv', index_col=0)\n",
    "subjects = pd.read_csv('lib/galaxy-builder-subjects.csv', index_col=0)\n",
    "c = classifications.query('user_name == \"tingard\"').iloc[-1]\n",
    "import json\n",
    "json.loads(c.subject_data)"
   ]
  }
 ],
 "metadata": {
  "kernelspec": {
   "display_name": "Python 3",
   "language": "python",
   "name": "python3"
  },
  "language_info": {
   "codemirror_mode": {
    "name": "ipython",
    "version": 3
   },
   "file_extension": ".py",
   "mimetype": "text/x-python",
   "name": "python",
   "nbconvert_exporter": "python",
   "pygments_lexer": "ipython3",
   "version": "3.6.7"
  }
 },
 "nbformat": 4,
 "nbformat_minor": 4
}
