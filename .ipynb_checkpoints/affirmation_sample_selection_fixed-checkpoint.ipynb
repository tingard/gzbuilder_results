{
 "cells": [
  {
   "cell_type": "markdown",
   "metadata": {},
   "source": [
    "# Affirmation Sample selection"
   ]
  },
  {
   "cell_type": "code",
   "execution_count": 1,
   "metadata": {
    "collapsed": false,
    "inputHidden": false,
    "jupyter": {
     "outputs_hidden": false
    },
    "outputHidden": false
   },
   "outputs": [],
   "source": [
    "%load_ext autoreload\n",
    "%autoreload 2"
   ]
  },
  {
   "cell_type": "code",
   "execution_count": 26,
   "metadata": {
    "collapsed": false,
    "inputHidden": false,
    "jupyter": {
     "outputs_hidden": false
    },
    "outputHidden": false
   },
   "outputs": [],
   "source": [
    "import os\n",
    "from os.path import join\n",
    "import json\n",
    "import numpy as np\n",
    "import pandas as pd\n",
    "from copy import deepcopy\n",
    "import scipy.stats as st\n",
    "from scipy.optimize import minimize\n",
    "from scipy.special import gamma\n",
    "import matplotlib.pyplot as plt\n",
    "import seaborn as sns\n",
    "from tqdm import tqdm\n",
    "from gzbuilder_analysis.fitting.optimizer import get_spirals, Optimizer\n",
    "# import lib.galaxy_utilities as gu\n",
    "import gzbuilder_analysis.parsing as parsing\n",
    "import gzbuilder_analysis.aggregation as aggregation\n",
    "from gzbuilder_analysis.aggregation.spirals import inclined_log_spiral\n",
    "import gzbuilder_analysis.rendering as rendering\n",
    "from gzbuilder_analysis.rendering.jax.sersic import _b\n",
    "import gzbuilder_analysis.fitting as fitting\n",
    "from gzbuilder_analysis.fitting.reparametrization import from_reparametrization\n",
    "import gzbuilder_analysis.fitting.jax as fjx\n",
    "from asinh_cmap import asinh_cmap\n",
    "from astropy.visualization import AsinhStretch\n",
    "import lib.galaxy_utilities as gu"
   ]
  },
  {
   "cell_type": "code",
   "execution_count": 4,
   "metadata": {
    "collapsed": false,
    "inputHidden": false,
    "jupyter": {
     "outputs_hidden": false
    },
    "outputHidden": false
   },
   "outputs": [],
   "source": [
    "fm = pd.read_pickle('lib/fitting_metadata.pkl')\n",
    "gal_df = pd.read_csv('lib/gal-metadata.csv', index_col=0)\n",
    "nsa_df = pd.read_pickle('lib/df_nsa.pkl').set_index('NSAID', drop=False)"
   ]
  },
  {
   "cell_type": "code",
   "execution_count": 5,
   "metadata": {
    "collapsed": false,
    "inputHidden": false,
    "jupyter": {
     "outputs_hidden": false
    },
    "outputHidden": false
   },
   "outputs": [
    {
     "name": "stderr",
     "output_type": "stream",
     "text": [
      "100%|██████████| 10/10 [00:00<00:00, 39.62it/s]\n"
     ]
    }
   ],
   "source": [
    "import warnings\n",
    "warnings.simplefilter('ignore', UserWarning)\n",
    "agg_res_path = 'output_files/aggregation_results_affirmation'\n",
    "agg_results = pd.Series([], dtype=object)\n",
    "with tqdm(os.listdir(agg_res_path)) as bar:\n",
    "    for f in bar:\n",
    "         if re.match(r'[0-9]+\\.pkl.gz', f):\n",
    "                agg_results[int(f.split('.')[0])] = pd.read_pickle(join(agg_res_path, f))"
   ]
  },
  {
   "cell_type": "code",
   "execution_count": 6,
   "metadata": {
    "collapsed": false,
    "inputHidden": false,
    "jupyter": {
     "outputs_hidden": false
    },
    "outputHidden": false
   },
   "outputs": [],
   "source": [
    "# All of these functions are taken from gzbuilder_data_prep, *with modifications* so we don't recalculate anything\n",
    "from PIL import Image\n",
    "\n",
    "# from createSubjectsFunctions\n",
    "def stretchArray(arr, a=0.1):\n",
    "    # shift so lowest value = 0\n",
    "    shiftedArr = arr - np.amin(arr)\n",
    "    # normalise from 0 to 1\n",
    "    normalisedArr = shiftedArr / np.amax(shiftedArr)\n",
    "    # perform the stretch\n",
    "    arrOut = np.arcsinh(normalisedArr / a) / np.arcsinh(1 / a)\n",
    "    return arrOut\n",
    "\n",
    "\n",
    "def saveImage(\n",
    "        arr, fname='testImage.png', resize=False, size=(512, 512),\n",
    "        preserveAspectRatio=True, resample=Image.LANCZOS, verbose=False):\n",
    "    # ensure image is normalised to [0, 255]\n",
    "    arr = (arr.transpose() - np.amin(arr)) / np.amax(arr - np.amin(arr)) * 255\n",
    "    # cast to uint8 with a weird coordinate swap (idk why)\n",
    "    im = Image.fromarray(\n",
    "        np.uint8(np.flipud(np.swapaxes(np.flipud(arr), 0, 1)))\n",
    "    )\n",
    "    # want to preserve aspect ratio, so increase the width to provided width\n",
    "    if preserveAspectRatio:\n",
    "        correctedSize = (size[0], int(im.size[1] / im.size[0] * size[0]))\n",
    "    else:\n",
    "        correctedSize = size[:]\n",
    "    if resize:\n",
    "        im = im.resize(correctedSize, resample)\n",
    "    im.save(fname)\n",
    "    return im\n",
    "\n",
    "\n",
    "# from subjectCreator\n",
    "def makeModel(imageData, psf, resizeTo=(512, 512)):\n",
    "    return {\n",
    "        'psf': psf.tolist(),\n",
    "        'psfWidth': psf.shape[1],\n",
    "        'psfHeight': psf.shape[0],\n",
    "        'width': imageData.shape[1],\n",
    "        'height': imageData.shape[0],\n",
    "        'imageWidth': resizeTo[0],\n",
    "        'imageHeight': int(\n",
    "            imageData.shape[0] / imageData.shape[1] * resizeTo[0]\n",
    "        )\n",
    "    }\n",
    "\n",
    "\n",
    "def makeDifference(imageData, psf, mask, resizeTo=(512, 512)):\n",
    "    return {\n",
    "        'psf': psf.tolist(),\n",
    "        'psfWidth': psf.shape[1],\n",
    "        'psfHeight': psf.shape[0],\n",
    "        'mask': np.array(mask, dtype=float).tolist(),\n",
    "        'imageData': imageData.tolist(),\n",
    "        'multiplier': 1,\n",
    "        'width': imageData.shape[1],\n",
    "        'height': imageData.shape[0],\n",
    "        'imageWidth': resizeTo[0],\n",
    "        'imageHeight': int(\n",
    "            imageData.shape[0] / imageData.shape[1] * resizeTo[0]\n",
    "        ),\n",
    "    }\n",
    "\n",
    "\n",
    "def makeMetadata(galObj, extra_metadata={}):\n",
    "    return {\n",
    "        'ra': '{:05f}'.format(galObj['RA']),\n",
    "        'dec': '{:05f}'.format(galObj['DEC']),\n",
    "        'redshift': '{:05f}'.format(galObj['Z']),\n",
    "        'SDSS dr7 id': str(galObj['dr7objid']),\n",
    "        'Common name': (\n",
    "            str(galObj['IAUNAME'])\n",
    "            if galObj['IAUNAME'] else 'Unknown'\n",
    "        ),\n",
    "        'NSA id': str(galObj['NSAID']),\n",
    "        'Estimated distance': '{} * c / H_0'.format(galObj['ZDIST']),\n",
    "        'Petrosian radius (degrees)': '{:05f}'.format(galObj['PETRO_THETA']),\n",
    "        'Run': str(galObj['RUN']),\n",
    "        'Camcol': str(galObj['CAMCOL']),\n",
    "        'Field': str(galObj['FIELD']),\n",
    "        'Rerun': str(galObj['RERUN']),\n",
    "        'Sersic axis ratio': '{:05f}'.format(galObj['SERSIC_BA']),\n",
    "        'Url to view': \"[View on SkyServer](+tab+http://skyserver.sdss.org/dr14/en/tools/chart/navi.aspx?ra={ra}&dec={dec}&opt=F)\".format(\n",
    "            ra=float(galObj['RA']),\n",
    "            dec=float(galObj['DEC'])\n",
    "        ),\n",
    "        '#isModelling': True,\n",
    "        '#models': [\n",
    "            {'frame': 0, 'model': 'GALAXY_BUILDER_DIFFERENCE'},\n",
    "            {'frame': 2, 'model': 'GALAXY_BUILDER_MODEL'},\n",
    "        ],\n",
    "        **extra_metadata\n",
    "    }\n",
    "\n",
    "\n",
    "def pipeline(image_data, mask, psf, galObj, outputFolder, subjectName, extra_metadata={}, verbose=False):\n",
    "    os.makedirs(outputFolder, exist_ok=True)\n",
    "\n",
    "    maskedImageData = image_data.copy()\n",
    "    maskedImageData[mask] = 0\n",
    "\n",
    "    # generate the model json\n",
    "    model = makeModel(maskedImageData, psf)\n",
    "\n",
    "    # and the difference json\n",
    "    difference = makeDifference(maskedImageData, psf, mask)\n",
    "\n",
    "    # and the metadata\n",
    "    metadata = makeMetadata(galObj, extra_metadata)\n",
    "\n",
    "    # apply an asinh stretch and save the image to the outfolder\n",
    "    resizeTo = (512, 512)\n",
    "    saveImage(\n",
    "        stretchArray(maskedImageData[:, ::-1]),\n",
    "        fname=\"{}/image_{}.png\".format(outputFolder, subjectName),\n",
    "        resize=True,\n",
    "        size=resizeTo\n",
    "    )\n",
    "\n",
    "    # now save the model json\n",
    "    modelFileName = '{}/model_{}.json'.format(outputFolder, subjectName)\n",
    "    with open(modelFileName, 'w') as f:\n",
    "        json.dump(model, f)\n",
    "\n",
    "    # write out the difference\n",
    "    diffFileName = '{}/difference_{}.json'.format(outputFolder, subjectName)\n",
    "    with open(diffFileName, 'w') as f:\n",
    "        json.dump(difference, f)\n",
    "\n",
    "    # and the metadata!\n",
    "    metaFileName = '{}/metadata_{}.json'.format(outputFolder, subjectName)\n",
    "    with open(metaFileName, 'w') as f:\n",
    "        json.dump(metadata, f)\n",
    "\n",
    "    return [\n",
    "        \"{}/image_{}.png\".format(outputFolder, subjectName),\n",
    "        modelFileName,\n",
    "        diffFileName,\n",
    "        metaFileName\n",
    "    ]"
   ]
  },
  {
   "cell_type": "code",
   "execution_count": 23,
   "metadata": {
    "collapsed": false,
    "inputHidden": false,
    "jupyter": {
     "outputs_hidden": false
    },
    "outputHidden": false
   },
   "outputs": [],
   "source": [
    "def show_contours(model, idx, percentile=95, ax=None):\n",
    "    if ax is not None:\n",
    "        plt.sca(ax)\n",
    "    shape = fm.loc[idx]['galaxy_data'].shape\n",
    "    psf = fm.loc[idx]['psf']\n",
    "    for i, c in enumerate(model.keys()):\n",
    "        if model[c] is None or model[c] == {}:\n",
    "            continue\n",
    "        m = deepcopy(model)\n",
    "        m = {k: (\n",
    "            v\n",
    "            if k == c or (c =='spiral' and k == 'disk')\n",
    "            else (None if k != 'spiral' else [])\n",
    "        )  for k, v in m.items()}\n",
    "        if not all(v == None or v == [] for v in m.values()):\n",
    "            if c == 'spiral' and m['disk'] is not None:\n",
    "                m['disk']['I'] = 0\n",
    "            r = rendering.calculate_model(m, image_size=shape, psf=psf)\n",
    "            cs = plt.contour(\n",
    "                r, levels=[np.percentile(r.ravel(), percentile)], colors=[f'C{i}'],\n",
    "            )\n",
    "\n",
    "\n",
    "def make_model(op):\n",
    "    model = fjx.from_reparametrization(op.model)\n",
    "    arms = op.get_spirals()\n",
    "    model['spiral'] = [\n",
    "        (np.array(arms[i]), dict(I=model['spiral'][f'I.{i}'], spread=model['spiral'][f'spread.{i}'], falloff=1))\n",
    "        for i in range(op.n_spirals)\n",
    "        # some arms may have gone to zero\n",
    "        if f'I.{i}' in model['spiral']\n",
    "    ]\n",
    "    return model\n",
    "\n",
    "\n",
    "def make_noisy(model, idx):\n",
    "    shape = fm.loc[idx]['galaxy_data'].shape\n",
    "    render = rendering.calculate_model(\n",
    "        model, image_size=shape, psf=fm.loc[idx]['psf']\n",
    "    )\n",
    "    s = AsinhStretch()\n",
    "    stretched_data = s(fm.loc[idx]['galaxy_data'])\n",
    "    noisy_model = render + np.random.randn(*shape) * fm.loc[idx]['sigma_image']\n",
    "    return noisy_model\n",
    "\n",
    "\n",
    "def make_plot(op, idx, **kwargs):\n",
    "    model = make_model(op)\n",
    "    s = AsinhStretch()\n",
    "    stretched_data = s(fm.loc[idx]['galaxy_data'])\n",
    "    render = rendering.calculate_model(\n",
    "        model, image_size=stretched_data.shape, psf=fm.loc[idx]['psf']\n",
    "    )\n",
    "    noisy_model = make_noisy(model, idx)\n",
    "    stretched_noisy_model = s(noisy_model)\n",
    "    lms = dict(\n",
    "        vmin=min(stretched_data.min(), stretched_noisy_model.min()),\n",
    "        vmax=max(stretched_data.max(), stretched_noisy_model.max())\n",
    "    )\n",
    "    _, ax = plt.subplots(ncols=4, figsize=(15, 8), dpi=100)\n",
    "    ax[0].set_title('Reference galaxy')\n",
    "    ax[0].imshow(stretched_data, cmap='gray_r', **lms)\n",
    "    ax[1].set_title('Fake (Noisy)')\n",
    "    ax[1].imshow(stretched_noisy_model, cmap='gray_r', **lms)\n",
    "    ax[2].set_title('Residual')\n",
    "    d = np.array(render) - fm.loc[idx]['galaxy_data']\n",
    "    l = np.nanmax(np.abs(d))\n",
    "    ax[2].imshow(\n",
    "        np.array(render) - fm.loc[idx]['galaxy_data'],\n",
    "        cmap='seismic',\n",
    "        vmin=-l, vmax=l\n",
    "    )\n",
    "    ax[3].set_title('Fake (Contoured)')\n",
    "    ax[3].imshow(\n",
    "        s(render),\n",
    "        cmap='gray_r',\n",
    "        **lms\n",
    "    )\n",
    "    show_contours(model, idx, ax=ax[3], **kwargs)\n",
    "    for a in ax:\n",
    "        plt.sca(a)\n",
    "        plt.axis('off')\n",
    "\n",
    "\n",
    "def save_to_subject(op, idx, name):\n",
    "    pd.to_pickle(dict(name=name, idx=idx, model=fjx.remove_invisible_components(fjx.from_reparametrization(op.model))), os.path.join('affirmation_set_models', f'{name}.pkl'))\n",
    "    os.makedirs('affirmation_subjects', exist_ok=True)\n",
    "    model = make_model(op)\n",
    "    noisy_model = make_noisy(model, idx)\n",
    "\n",
    "    galaxy_data = fm.loc[idx].galaxy_data\n",
    "    psf = fm.loc[idx].psf\n",
    "    galObj = nsa_df.loc[gal_df.loc[idx]['NSAID']]\n",
    "    galObj.loc['dr7objid'] = gu.metadata.loc[idx]['SDSS dr7 id']\n",
    "#     mtd = {'#isFake': True, '#subject_reference': idx}\n",
    "#     return pipeline(noisy_model, galaxy_data.mask, psf, galObj, 'affirmation_subjects', name, extra_metadata=mtd, verbose=False)"
   ]
  },
  {
   "cell_type": "code",
   "execution_count": 8,
   "metadata": {
    "collapsed": false,
    "inputHidden": false,
    "jupyter": {
     "outputs_hidden": false
    },
    "outputHidden": false
   },
   "outputs": [],
   "source": [
    "# the way AggregationResult and Optimizer work have changed since uploading the subject set, this correction adds in the missing values\n",
    "def legacy_correction(op, agr):\n",
    "    return\n",
    "    for i in range(len(agr.spiral_arms)):\n",
    "        arm = agr.spiral_arms[i]\n",
    "        op['spiral', f'I.{i}'] = agr.params[(f'spiral{i}', 'I')]\n",
    "        op['spiral', f'spread.{i}'] = agr.params[(f'spiral{i}', 'spread')]\n",
    "        op['spiral', f'falloff.{i}'] = agr.params[(f'spiral{i}', 'falloff')]\n",
    "        op['spiral', f'A.{i}'] = arm.A\n",
    "        op['spiral', f'phi.{i}'] = arm.pa * arm.chirality\n",
    "        op['spiral', f't_min.{i}'] = arm.t_predict.min()\n",
    "        op['spiral', f't_max.{i}'] = arm.t_predict.max()\n",
    "    return op, agr"
   ]
  },
  {
   "cell_type": "code",
   "execution_count": 9,
   "metadata": {
    "collapsed": false,
    "inputHidden": false,
    "jupyter": {
     "outputs_hidden": false
    },
    "outputHidden": false
   },
   "outputs": [
    {
     "data": {
      "text/plain": [
       "disk             1\n",
       "bulge     0.555556\n",
       "spiral    0.666667\n",
       "bar       0.555556\n",
       "Name: freq, dtype: object"
      ]
     },
     "execution_count": 9,
     "metadata": {},
     "output_type": "execute_result"
    }
   ],
   "source": [
    "has_comp = agg_results.apply(\n",
    "    lambda a: {k: True for k in a.model if a.model[k]}\n",
    ").apply(pd.Series).fillna(False)\n",
    "has_comp.describe().loc['freq'] / len(agg_results)"
   ]
  },
  {
   "cell_type": "markdown",
   "metadata": {},
   "source": [
    "## Single Exponential Disk model"
   ]
  },
  {
   "cell_type": "code",
   "execution_count": 10,
   "metadata": {
    "collapsed": false,
    "inputHidden": false,
    "jupyter": {
     "outputs_hidden": false
    },
    "outputHidden": false
   },
   "outputs": [],
   "source": [
    "has_comp.query('~spiral & ~bulge & ~bar');"
   ]
  },
  {
   "cell_type": "code",
   "execution_count": 16,
   "metadata": {},
   "outputs": [
    {
     "data": {
      "text/plain": [
       "<gzbuilder_analysis.fitting.optimizer.Optimizer at 0x1a26c0ed68>"
      ]
     },
     "execution_count": 16,
     "metadata": {},
     "output_type": "execute_result"
    }
   ],
   "source": [
    "o = Optimizer(agr, *fm.loc[d_idx][['psf', 'galaxy_data', 'sigma_image']])\n",
    "o_d"
   ]
  },
  {
   "cell_type": "code",
   "execution_count": 27,
   "metadata": {
    "collapsed": false,
    "inputHidden": false,
    "jupyter": {
     "outputs_hidden": false
    },
    "outputHidden": false
   },
   "outputs": [
    {
     "ename": "KeyError",
     "evalue": "'bulge'",
     "output_type": "error",
     "traceback": [
      "\u001b[0;31m---------------------------------------------------------------------------\u001b[0m",
      "\u001b[0;31mTypeError\u001b[0m                                 Traceback (most recent call last)",
      "\u001b[0;32m~/anaconda3/lib/python3.6/site-packages/pandas/core/indexes/multi.py\u001b[0m in \u001b[0;36mget_value\u001b[0;34m(self, series, key)\u001b[0m\n\u001b[1;32m   1496\u001b[0m             \u001b[0;32mtry\u001b[0m\u001b[0;34m:\u001b[0m\u001b[0;34m\u001b[0m\u001b[0;34m\u001b[0m\u001b[0m\n\u001b[0;32m-> 1497\u001b[0;31m                 \u001b[0;32mreturn\u001b[0m \u001b[0mlibindex\u001b[0m\u001b[0;34m.\u001b[0m\u001b[0mget_value_at\u001b[0m\u001b[0;34m(\u001b[0m\u001b[0ms\u001b[0m\u001b[0;34m,\u001b[0m \u001b[0mk\u001b[0m\u001b[0;34m)\u001b[0m\u001b[0;34m\u001b[0m\u001b[0;34m\u001b[0m\u001b[0m\n\u001b[0m\u001b[1;32m   1498\u001b[0m             \u001b[0;32mexcept\u001b[0m \u001b[0mIndexError\u001b[0m\u001b[0;34m:\u001b[0m\u001b[0;34m\u001b[0m\u001b[0;34m\u001b[0m\u001b[0m\n",
      "\u001b[0;32mpandas/_libs/index.pyx\u001b[0m in \u001b[0;36mpandas._libs.index.get_value_at\u001b[0;34m()\u001b[0m\n",
      "\u001b[0;32mpandas/_libs/index.pyx\u001b[0m in \u001b[0;36mpandas._libs.index.get_value_at\u001b[0;34m()\u001b[0m\n",
      "\u001b[0;32mpandas/_libs/util.pxd\u001b[0m in \u001b[0;36mpandas._libs.util.get_value_at\u001b[0;34m()\u001b[0m\n",
      "\u001b[0;32mpandas/_libs/util.pxd\u001b[0m in \u001b[0;36mpandas._libs.util.validate_indexer\u001b[0;34m()\u001b[0m\n",
      "\u001b[0;31mTypeError\u001b[0m: 'str' object cannot be interpreted as an integer",
      "\nDuring handling of the above exception, another exception occurred:\n",
      "\u001b[0;31mKeyError\u001b[0m                                  Traceback (most recent call last)",
      "\u001b[0;32m<ipython-input-27-cad9f945fd21>\u001b[0m in \u001b[0;36m<module>\u001b[0;34m\u001b[0m\n\u001b[1;32m      4\u001b[0m \u001b[0mo_d\u001b[0m\u001b[0;34m[\u001b[0m\u001b[0;34m'disk'\u001b[0m\u001b[0;34m,\u001b[0m \u001b[0;34m'Re'\u001b[0m\u001b[0;34m]\u001b[0m \u001b[0;34m=\u001b[0m \u001b[0mo_d\u001b[0m\u001b[0;34m[\u001b[0m\u001b[0;34m'disk'\u001b[0m\u001b[0;34m,\u001b[0m \u001b[0;34m'Re'\u001b[0m\u001b[0;34m]\u001b[0m \u001b[0;34m*\u001b[0m \u001b[0;36m0.8\u001b[0m\u001b[0;34m\u001b[0m\u001b[0;34m\u001b[0m\u001b[0m\n\u001b[1;32m      5\u001b[0m \u001b[0mo_d\u001b[0m\u001b[0;34m[\u001b[0m\u001b[0;34m'disk'\u001b[0m\u001b[0;34m,\u001b[0m \u001b[0;34m'L'\u001b[0m\u001b[0;34m]\u001b[0m \u001b[0;34m=\u001b[0m \u001b[0mo_d\u001b[0m\u001b[0;34m[\u001b[0m\u001b[0;34m'disk'\u001b[0m\u001b[0;34m,\u001b[0m \u001b[0;34m'L'\u001b[0m\u001b[0;34m]\u001b[0m \u001b[0;34m*\u001b[0m \u001b[0;36m0.8\u001b[0m\u001b[0;34m\u001b[0m\u001b[0;34m\u001b[0m\u001b[0m\n\u001b[0;32m----> 6\u001b[0;31m \u001b[0mmake_plot\u001b[0m\u001b[0;34m(\u001b[0m\u001b[0mo_d\u001b[0m\u001b[0;34m,\u001b[0m \u001b[0md_idx\u001b[0m\u001b[0;34m)\u001b[0m\u001b[0;34m\u001b[0m\u001b[0;34m\u001b[0m\u001b[0m\n\u001b[0m\u001b[1;32m      7\u001b[0m \u001b[0mplt\u001b[0m\u001b[0;34m.\u001b[0m\u001b[0msavefig\u001b[0m\u001b[0;34m(\u001b[0m\u001b[0;34m'affirmation_set_models/disk_model.png'\u001b[0m\u001b[0;34m,\u001b[0m \u001b[0mbbox_inches\u001b[0m\u001b[0;34m=\u001b[0m\u001b[0;34m'tight'\u001b[0m\u001b[0;34m)\u001b[0m\u001b[0;34m\u001b[0m\u001b[0;34m\u001b[0m\u001b[0m\n\u001b[1;32m      8\u001b[0m \u001b[0md_files\u001b[0m \u001b[0;34m=\u001b[0m \u001b[0msave_to_subject\u001b[0m\u001b[0;34m(\u001b[0m\u001b[0mo_d\u001b[0m\u001b[0;34m,\u001b[0m \u001b[0md_idx\u001b[0m\u001b[0;34m,\u001b[0m \u001b[0;34m'disk_model'\u001b[0m\u001b[0;34m)\u001b[0m\u001b[0;34m\u001b[0m\u001b[0;34m\u001b[0m\u001b[0m\n",
      "\u001b[0;32m<ipython-input-23-491673eaa864>\u001b[0m in \u001b[0;36mmake_plot\u001b[0;34m(op, idx, **kwargs)\u001b[0m\n\u001b[1;32m     50\u001b[0m     \u001b[0mstretched_data\u001b[0m \u001b[0;34m=\u001b[0m \u001b[0ms\u001b[0m\u001b[0;34m(\u001b[0m\u001b[0mfm\u001b[0m\u001b[0;34m.\u001b[0m\u001b[0mloc\u001b[0m\u001b[0;34m[\u001b[0m\u001b[0midx\u001b[0m\u001b[0;34m]\u001b[0m\u001b[0;34m[\u001b[0m\u001b[0;34m'galaxy_data'\u001b[0m\u001b[0;34m]\u001b[0m\u001b[0;34m)\u001b[0m\u001b[0;34m\u001b[0m\u001b[0;34m\u001b[0m\u001b[0m\n\u001b[1;32m     51\u001b[0m     render = rendering.calculate_model(\n\u001b[0;32m---> 52\u001b[0;31m         \u001b[0mmodel\u001b[0m\u001b[0;34m,\u001b[0m \u001b[0mimage_size\u001b[0m\u001b[0;34m=\u001b[0m\u001b[0mstretched_data\u001b[0m\u001b[0;34m.\u001b[0m\u001b[0mshape\u001b[0m\u001b[0;34m,\u001b[0m \u001b[0mpsf\u001b[0m\u001b[0;34m=\u001b[0m\u001b[0mfm\u001b[0m\u001b[0;34m.\u001b[0m\u001b[0mloc\u001b[0m\u001b[0;34m[\u001b[0m\u001b[0midx\u001b[0m\u001b[0;34m]\u001b[0m\u001b[0;34m[\u001b[0m\u001b[0;34m'psf'\u001b[0m\u001b[0;34m]\u001b[0m\u001b[0;34m\u001b[0m\u001b[0;34m\u001b[0m\u001b[0m\n\u001b[0m\u001b[1;32m     53\u001b[0m     )\n\u001b[1;32m     54\u001b[0m     \u001b[0mnoisy_model\u001b[0m \u001b[0;34m=\u001b[0m \u001b[0mmake_noisy\u001b[0m\u001b[0;34m(\u001b[0m\u001b[0mmodel\u001b[0m\u001b[0;34m,\u001b[0m \u001b[0midx\u001b[0m\u001b[0;34m)\u001b[0m\u001b[0;34m\u001b[0m\u001b[0;34m\u001b[0m\u001b[0m\n",
      "\u001b[0;32m~/PhD/gzbuilder_collection/gzbuilder_analysis/gzbuilder_analysis/rendering/__init__.py\u001b[0m in \u001b[0;36mcalculate_model\u001b[0;34m(model, image_size, psf, oversample_n)\u001b[0m\n\u001b[1;32m     36\u001b[0m         oversample_n=oversample_n)\n\u001b[1;32m     37\u001b[0m     bulge_arr = oversampled_sersic_component(\n\u001b[0;32m---> 38\u001b[0;31m         \u001b[0mmodel\u001b[0m\u001b[0;34m[\u001b[0m\u001b[0;34m'bulge'\u001b[0m\u001b[0;34m]\u001b[0m\u001b[0;34m,\u001b[0m\u001b[0;34m\u001b[0m\u001b[0;34m\u001b[0m\u001b[0m\n\u001b[0m\u001b[1;32m     39\u001b[0m         \u001b[0mimage_size\u001b[0m\u001b[0;34m=\u001b[0m\u001b[0mimage_size\u001b[0m\u001b[0;34m,\u001b[0m\u001b[0;34m\u001b[0m\u001b[0;34m\u001b[0m\u001b[0m\n\u001b[1;32m     40\u001b[0m         \u001b[0moversample_n\u001b[0m\u001b[0;34m=\u001b[0m\u001b[0moversample_n\u001b[0m\u001b[0;34m\u001b[0m\u001b[0;34m\u001b[0m\u001b[0m\n",
      "\u001b[0;32m~/anaconda3/lib/python3.6/site-packages/pandas/core/series.py\u001b[0m in \u001b[0;36m__getitem__\u001b[0;34m(self, key)\u001b[0m\n\u001b[1;32m    869\u001b[0m         \u001b[0mkey\u001b[0m \u001b[0;34m=\u001b[0m \u001b[0mcom\u001b[0m\u001b[0;34m.\u001b[0m\u001b[0mapply_if_callable\u001b[0m\u001b[0;34m(\u001b[0m\u001b[0mkey\u001b[0m\u001b[0;34m,\u001b[0m \u001b[0mself\u001b[0m\u001b[0;34m)\u001b[0m\u001b[0;34m\u001b[0m\u001b[0;34m\u001b[0m\u001b[0m\n\u001b[1;32m    870\u001b[0m         \u001b[0;32mtry\u001b[0m\u001b[0;34m:\u001b[0m\u001b[0;34m\u001b[0m\u001b[0;34m\u001b[0m\u001b[0m\n\u001b[0;32m--> 871\u001b[0;31m             \u001b[0mresult\u001b[0m \u001b[0;34m=\u001b[0m \u001b[0mself\u001b[0m\u001b[0;34m.\u001b[0m\u001b[0mindex\u001b[0m\u001b[0;34m.\u001b[0m\u001b[0mget_value\u001b[0m\u001b[0;34m(\u001b[0m\u001b[0mself\u001b[0m\u001b[0;34m,\u001b[0m \u001b[0mkey\u001b[0m\u001b[0;34m)\u001b[0m\u001b[0;34m\u001b[0m\u001b[0;34m\u001b[0m\u001b[0m\n\u001b[0m\u001b[1;32m    872\u001b[0m \u001b[0;34m\u001b[0m\u001b[0m\n\u001b[1;32m    873\u001b[0m             \u001b[0;32mif\u001b[0m \u001b[0;32mnot\u001b[0m \u001b[0mis_scalar\u001b[0m\u001b[0;34m(\u001b[0m\u001b[0mresult\u001b[0m\u001b[0;34m)\u001b[0m\u001b[0;34m:\u001b[0m\u001b[0;34m\u001b[0m\u001b[0;34m\u001b[0m\u001b[0m\n",
      "\u001b[0;32m~/anaconda3/lib/python3.6/site-packages/pandas/core/indexes/multi.py\u001b[0m in \u001b[0;36mget_value\u001b[0;34m(self, series, key)\u001b[0m\n\u001b[1;32m   1503\u001b[0m                     \u001b[0;32mraise\u001b[0m \u001b[0mInvalidIndexError\u001b[0m\u001b[0;34m(\u001b[0m\u001b[0mkey\u001b[0m\u001b[0;34m)\u001b[0m\u001b[0;34m\u001b[0m\u001b[0;34m\u001b[0m\u001b[0m\n\u001b[1;32m   1504\u001b[0m                 \u001b[0;32melse\u001b[0m\u001b[0;34m:\u001b[0m\u001b[0;34m\u001b[0m\u001b[0;34m\u001b[0m\u001b[0m\n\u001b[0;32m-> 1505\u001b[0;31m                     \u001b[0;32mraise\u001b[0m \u001b[0me1\u001b[0m\u001b[0;34m\u001b[0m\u001b[0;34m\u001b[0m\u001b[0m\n\u001b[0m\u001b[1;32m   1506\u001b[0m             \u001b[0;32mexcept\u001b[0m \u001b[0mException\u001b[0m\u001b[0;34m:\u001b[0m  \u001b[0;31m# pragma: no cover\u001b[0m\u001b[0;34m\u001b[0m\u001b[0;34m\u001b[0m\u001b[0m\n\u001b[1;32m   1507\u001b[0m                 \u001b[0;32mraise\u001b[0m \u001b[0me1\u001b[0m\u001b[0;34m\u001b[0m\u001b[0;34m\u001b[0m\u001b[0m\n",
      "\u001b[0;32m~/anaconda3/lib/python3.6/site-packages/pandas/core/indexes/multi.py\u001b[0m in \u001b[0;36mget_value\u001b[0;34m(self, series, key)\u001b[0m\n\u001b[1;32m   1487\u001b[0m \u001b[0;34m\u001b[0m\u001b[0m\n\u001b[1;32m   1488\u001b[0m         \u001b[0;32mtry\u001b[0m\u001b[0;34m:\u001b[0m\u001b[0;34m\u001b[0m\u001b[0;34m\u001b[0m\u001b[0m\n\u001b[0;32m-> 1489\u001b[0;31m             \u001b[0;32mreturn\u001b[0m \u001b[0mself\u001b[0m\u001b[0;34m.\u001b[0m\u001b[0m_engine\u001b[0m\u001b[0;34m.\u001b[0m\u001b[0mget_value\u001b[0m\u001b[0;34m(\u001b[0m\u001b[0ms\u001b[0m\u001b[0;34m,\u001b[0m \u001b[0mk\u001b[0m\u001b[0;34m)\u001b[0m\u001b[0;34m\u001b[0m\u001b[0;34m\u001b[0m\u001b[0m\n\u001b[0m\u001b[1;32m   1490\u001b[0m         \u001b[0;32mexcept\u001b[0m \u001b[0mKeyError\u001b[0m \u001b[0;32mas\u001b[0m \u001b[0me1\u001b[0m\u001b[0;34m:\u001b[0m\u001b[0;34m\u001b[0m\u001b[0;34m\u001b[0m\u001b[0m\n\u001b[1;32m   1491\u001b[0m             \u001b[0;32mtry\u001b[0m\u001b[0;34m:\u001b[0m\u001b[0;34m\u001b[0m\u001b[0;34m\u001b[0m\u001b[0m\n",
      "\u001b[0;32mpandas/_libs/index.pyx\u001b[0m in \u001b[0;36mpandas._libs.index.IndexEngine.get_value\u001b[0;34m()\u001b[0m\n",
      "\u001b[0;32mpandas/_libs/index.pyx\u001b[0m in \u001b[0;36mpandas._libs.index.IndexEngine.get_value\u001b[0;34m()\u001b[0m\n",
      "\u001b[0;32mpandas/_libs/index.pyx\u001b[0m in \u001b[0;36mpandas._libs.index.IndexEngine.get_loc\u001b[0;34m()\u001b[0m\n",
      "\u001b[0;32mpandas/_libs/index.pyx\u001b[0m in \u001b[0;36mpandas._libs.index.BaseMultiIndexCodesEngine.get_loc\u001b[0;34m()\u001b[0m\n",
      "\u001b[0;31mKeyError\u001b[0m: 'bulge'"
     ]
    }
   ],
   "source": [
    "d_idx = 21686502\n",
    "agr = agg_results.loc[d_idx]\n",
    "o_d = Optimizer(agr, *fm.loc[d_idx][['psf', 'galaxy_data', 'sigma_image']])\n",
    "o_d['disk', 'Re'] = o_d['disk', 'Re'] * 0.8\n",
    "o_d['disk', 'L'] = o_d['disk', 'L'] * 0.8\n",
    "make_plot(o_d, d_idx)\n",
    "plt.savefig('affirmation_set_models/disk_model.png', bbox_inches='tight')\n",
    "d_files = save_to_subject(o_d, d_idx, 'disk_model')"
   ]
  },
  {
   "cell_type": "markdown",
   "metadata": {},
   "source": [
    "## Exponential Disk + Sersic Bulge model"
   ]
  },
  {
   "cell_type": "code",
   "execution_count": 12,
   "metadata": {
    "collapsed": false,
    "inputHidden": false,
    "jupyter": {
     "outputs_hidden": false
    },
    "outputHidden": false
   },
   "outputs": [],
   "source": [
    "has_comp.query('~spiral & bulge & ~bar');"
   ]
  },
  {
   "cell_type": "code",
   "execution_count": null,
   "metadata": {
    "collapsed": false,
    "inputHidden": false,
    "jupyter": {
     "outputs_hidden": false
    },
    "outputHidden": false
   },
   "outputs": [],
   "source": [
    "db_idx = 21686588\n",
    "agr = agg_results.loc[db_idx]\n",
    "o_db = Optimizer(agr, fm.loc[db_idx])\n",
    "o_db['disk', 'L'] *= 0.8\n",
    "o_db['bulge', 'frac'] = 0.02\n",
    "make_plot(o_db, db_idx)\n",
    "plt.savefig('affirmation_set_models/disk_bulge_model.png', bbox_inches='tight')\n",
    "db_files = save_to_subject(o_db, db_idx, 'disk_bulge_model')"
   ]
  },
  {
   "cell_type": "code",
   "execution_count": null,
   "metadata": {
    "collapsed": false,
    "inputHidden": false,
    "jupyter": {
     "outputs_hidden": false
    },
    "outputHidden": false
   },
   "outputs": [],
   "source": [
    "db2_idx = 20902038\n",
    "agr = agg_results.loc[db2_idx]\n",
    "o_db2 = Optimizer(agr, fm.loc[db2_idx])\n",
    "o_db2['disk', 'Re'] *= 0.7\n",
    "o_db2['disk', 'L'] *= 0.7**2\n",
    "o_db2['bulge', 'frac'] = 0.7\n",
    "o_db2['bulge', 'scale'] = 0.1\n",
    "o_db2['bulge', 'n'] = 3\n",
    "make_plot(o_db2, db2_idx)\n",
    "plt.savefig('affirmation_set_models/disk_bulge_model2.png', bbox_inches='tight')\n",
    "db2_files = save_to_subject(o_db2, db2_idx, 'disk_bulge_model2')"
   ]
  },
  {
   "cell_type": "markdown",
   "metadata": {},
   "source": [
    "## Exponential Disk + Sersic Bulge + Boxy Sersic Bar model"
   ]
  },
  {
   "cell_type": "code",
   "execution_count": null,
   "metadata": {
    "collapsed": false,
    "inputHidden": false,
    "jupyter": {
     "outputs_hidden": false
    },
    "outputHidden": false
   },
   "outputs": [],
   "source": [
    "has_comp.query('~spiral & bulge & bar');"
   ]
  },
  {
   "cell_type": "code",
   "execution_count": null,
   "metadata": {
    "collapsed": false,
    "inputHidden": false,
    "jupyter": {
     "outputs_hidden": false
    },
    "outputHidden": false
   },
   "outputs": [],
   "source": [
    "dbb_idx = 20902035\n",
    "agr = agg_results.loc[dbb_idx]\n",
    "o_dbb = Optimizer(agr, fm.loc[dbb_idx])\n",
    "o_dbb['bulge', 'frac'] = 0.05\n",
    "o_dbb['bar', 'c'] = 3\n",
    "o_dbb['bar', 'q'] = 0.3\n",
    "o_dbb['bar', 'frac'] = 0.07\n",
    "o_dbb['bar', 'n'] = 0.6\n",
    "o_dbb.n_spirals = 0\n",
    "o_dbb.keys = [k for k in o_dbb.keys if k[0] != 'spiral']\n",
    "o_dbb['spiral'] = {}\n",
    "make_plot(o_dbb, dbb_idx)\n",
    "plt.savefig('affirmation_set_models/disk_bulge_bar_model.png', bbox_inches='tight')\n",
    "dbb_files = save_to_subject(o_dbb, dbb_idx, 'disk_bulge_bar_model')"
   ]
  },
  {
   "cell_type": "markdown",
   "metadata": {},
   "source": [
    "## Exponential Disk + Sersic Bulge + Boxy Sersic Bar + 2 Logarithmic spirals model"
   ]
  },
  {
   "cell_type": "code",
   "execution_count": null,
   "metadata": {
    "collapsed": false,
    "inputHidden": false,
    "jupyter": {
     "outputs_hidden": false
    },
    "outputHidden": false
   },
   "outputs": [],
   "source": [
    "has_comp.query('spiral & bulge & bar');"
   ]
  },
  {
   "cell_type": "code",
   "execution_count": null,
   "metadata": {
    "collapsed": false,
    "inputHidden": false,
    "jupyter": {
     "outputs_hidden": false
    },
    "outputHidden": false
   },
   "outputs": [],
   "source": [
    "# need correct for spiral spread reparametrization ( 1/(10x) => 1/(2*x**2) )\n",
    "dbbs_idx = 21686529\n",
    "agr = agg_results.loc[dbbs_idx]\n",
    "o_dbbs = Optimizer(agr, fm.loc[dbbs_idx])\n",
    "\n",
    "# coz I'm a twit\n",
    "legacy_correction(o_dbbs, agr)\n",
    "\n",
    "o_dbbs['disk', 'L'] *= 0.4\n",
    "o_dbbs['bulge', 'frac'] = 0.02\n",
    "o_dbbs['bar', 'frac'] = 0.2\n",
    "o_dbbs['spiral', 'I.0'] = 0.02\n",
    "o_dbbs['spiral', 'spread.0'] = np.sqrt(5 * 3)\n",
    "o_dbbs['spiral', 'phi.0'] = 20\n",
    "o_dbbs['spiral', 'A.0'] = 50\n",
    "o_dbbs['spiral', 't_max.0'] = 0.7\n",
    "o_dbbs['spiral', 'I.0'] = 0.04\n",
    "o_dbbs['spiral', 'spread.1'] = np.sqrt(5 * 3)\n",
    "o_dbbs['spiral', 'I.2'] = 0\n",
    "make_plot(o_dbbs, dbbs_idx)\n",
    "plt.savefig('affirmation_set_models/disk_bulge_bar_sp_model.png', bbox_inches='tight')\n",
    "dbbs_files = save_to_subject(o_dbbs, dbbs_idx, 'disk_bulge_bar_sp_model')"
   ]
  },
  {
   "cell_type": "markdown",
   "metadata": {},
   "source": [
    "# Exponential Disk + spirals model"
   ]
  },
  {
   "cell_type": "code",
   "execution_count": null,
   "metadata": {
    "collapsed": false,
    "inputHidden": false,
    "jupyter": {
     "outputs_hidden": false
    },
    "outputHidden": false
   },
   "outputs": [],
   "source": [
    "has_comp.query('spiral & ~bulge & ~bar');"
   ]
  },
  {
   "cell_type": "code",
   "execution_count": null,
   "metadata": {
    "collapsed": false,
    "inputHidden": false,
    "jupyter": {
     "outputs_hidden": false
    },
    "outputHidden": false
   },
   "outputs": [],
   "source": [
    "ds_idx = 20902055\n",
    "agr = agg_results.loc[ds_idx]\n",
    "o_ds = Optimizer(agr, fm.loc[ds_idx])\n",
    "\n",
    "# coz I'm a twit\n",
    "legacy_correction(o_ds, agr)\n",
    "\n",
    "o_ds['disk', 'L'] *= 1.2\n",
    "\n",
    "# need correct for spiral spread reparametrization ( 1/(10x) => 1/(2*x**2) )\n",
    "for i in range(o_ds.n_spirals):\n",
    "    o_ds['spiral', f'I.{i}'] *= 1.2\n",
    "    ORIGINAL_SPREAD = 2\n",
    "    o_ds['spiral', f'spread.{i}'] = np.sqrt(5 * ORIGINAL_SPREAD)\n",
    "make_plot(o_ds, ds_idx)\n",
    "plt.savefig('affirmation_set_models/disk_sp_model.png', bbox_inches='tight')\n",
    "ds_files = save_to_subject(o_ds, ds_idx, 'disk_sp_model')"
   ]
  },
  {
   "cell_type": "markdown",
   "metadata": {},
   "source": [
    "# Disk + Bulge + Spiral model"
   ]
  },
  {
   "cell_type": "code",
   "execution_count": null,
   "metadata": {
    "collapsed": false,
    "inputHidden": false,
    "jupyter": {
     "outputs_hidden": false
    },
    "outputHidden": false
   },
   "outputs": [],
   "source": [
    "has_comp.query('spiral & bulge & ~bar');"
   ]
  },
  {
   "cell_type": "code",
   "execution_count": null,
   "metadata": {
    "collapsed": false,
    "inputHidden": false,
    "jupyter": {
     "outputs_hidden": false
    },
    "outputHidden": false
   },
   "outputs": [],
   "source": [
    "dbs_idx = 20902067\n",
    "agr = agg_results.loc[dbs_idx]\n",
    "o_dbs = Optimizer(agr, fm.loc[dbs_idx])\n",
    "\n",
    "# coz I'm a twit\n",
    "legacy_correction(o_dbs, agr)\n",
    "\n",
    "o_dbs['disk', 'L'] *= 0.5\n",
    "o_dbs['disk', 'Re'] *= 0.8\n",
    "o_dbs['bulge', 'frac'] = 0.02\n",
    "o_dbs['bulge', 'scale'] = 0.05\n",
    "# correct for spiral spread reparametrization\n",
    "for i in range(o_dbs.n_spirals):\n",
    "    ORIGINAL_SPREAD = 0.5\n",
    "    o_dbs['spiral', f'spread.{i}'] = np.sqrt(5 * ORIGINAL_SPREAD)\n",
    "\n",
    "make_plot(o_dbs, dbs_idx)\n",
    "plt.savefig('affirmation_set_models/disk_bulge_sp_model.png', bbox_inches='tight')\n",
    "dbs_files = save_to_subject(o_dbs, dbs_idx, 'disk_bulge_sp_model')"
   ]
  },
  {
   "cell_type": "markdown",
   "metadata": {},
   "source": [
    "# Disk + Bar + Spiral model"
   ]
  },
  {
   "cell_type": "code",
   "execution_count": null,
   "metadata": {
    "collapsed": false,
    "inputHidden": false,
    "jupyter": {
     "outputs_hidden": false
    },
    "outputHidden": false
   },
   "outputs": [],
   "source": [
    "has_comp.query('spiral & ~bulge & bar');"
   ]
  },
  {
   "cell_type": "code",
   "execution_count": null,
   "metadata": {
    "collapsed": false,
    "inputHidden": false,
    "jupyter": {
     "outputs_hidden": false
    },
    "outputHidden": false
   },
   "outputs": [],
   "source": [
    "dbrs_idx = 20902006\n",
    "agr = agg_results.loc[dbrs_idx]\n",
    "o_dbrs = Optimizer(agr, fm.loc[dbrs_idx])\n",
    "\n",
    "# coz I'm a twit\n",
    "legacy_correction(o_dbrs, agr)\n",
    "\n",
    "o_dbrs['disk', 'L'] *= 0.8\n",
    "o_dbrs['bar', 'frac'] = 0.05\n",
    "o_dbrs['bar', 'c'] = 4\n",
    "o_dbrs['bar', 'n'] = 0.6\n",
    "for i in range(o_dbrs.n_spirals):\n",
    "    o_dbrs['spiral', f'I.{i}'] *= 1.2\n",
    "    o_dbrs['spiral', f'spread.{i}'] = np.sqrt(5 * 2)\n",
    "o_dbrs['spiral', 't_max.0'] -= np.pi/4\n",
    "make_plot(o_dbrs, dbrs_idx)\n",
    "plt.savefig('affirmation_set_models/disk_bar_sp_model.png', bbox_inches='tight')\n",
    "dbrs_files = save_to_subject(o_dbrs, dbrs_idx, 'disk_bar_sp_model')"
   ]
  },
  {
   "cell_type": "code",
   "execution_count": null,
   "metadata": {
    "collapsed": false,
    "inputHidden": false,
    "jupyter": {
     "outputs_hidden": false
    },
    "outputHidden": false
   },
   "outputs": [],
   "source": [
    "dbrs2_idx = 21686576\n",
    "agr = agg_results.loc[dbrs2_idx]\n",
    "o_dbrs2 = Optimizer(agr, fm.loc[dbrs2_idx])\n",
    "\n",
    "# coz I'm a twit\n",
    "legacy_correction(o_dbrs2, agr)\n",
    "\n",
    "o_dbrs2['bar', 'n'] = 0.8\n",
    "o_dbrs2['bar', 'c'] = 3\n",
    "o_dbrs2['bar', 'frac'] = 0.05\n",
    "o_dbrs2['spiral', 'phi.0'] = 20\n",
    "for i in range(o_dbrs2.n_spirals):\n",
    "    o_dbrs2['spiral', f'spread.{i}'] = np.sqrt(5 * 0.5)\n",
    "make_plot(o_dbrs2, dbrs2_idx)\n",
    "plt.savefig('affirmation_set_models/disk_bar_sp_model2.png', bbox_inches='tight')\n",
    "dbrs2_files = save_to_subject(o_dbrs2, dbrs2_idx, 'disk_bar_sp_model2')"
   ]
  },
  {
   "cell_type": "code",
   "execution_count": null,
   "metadata": {
    "collapsed": false,
    "inputHidden": false,
    "jupyter": {
     "outputs_hidden": false
    },
    "outputHidden": false
   },
   "outputs": [],
   "source": [
    "# folder_name = 'affirmation_subjects'\n",
    "# subject_names = [\n",
    "#     i.group(1)\n",
    "#     for i in (\n",
    "#         re.match(r'image_(.*?).png', f)\n",
    "#         for f in os.listdir(folder_name)\n",
    "#     )\n",
    "#     if i is not None\n",
    "# ]\n",
    "# files = [\n",
    "#     [\n",
    "#         join(folder_name, file_name)\n",
    "#         for file_name in (\n",
    "#             'image_{}.png'.format(subject_name),\n",
    "#             'difference_{}.json'.format(subject_name),\n",
    "#             'model_{}.json'.format(subject_name),\n",
    "#             'metadata_{}.json'.format(subject_name),\n",
    "#         )\n",
    "#     ]\n",
    "#     for subject_name in subject_names\n",
    "# ]"
   ]
  }
 ],
 "metadata": {
  "kernel_info": {
   "name": "python3"
  },
  "kernelspec": {
   "display_name": "Python 3",
   "language": "python",
   "name": "python3"
  },
  "language_info": {
   "codemirror_mode": {
    "name": "ipython",
    "version": 3
   },
   "file_extension": ".py",
   "mimetype": "text/x-python",
   "name": "python",
   "nbconvert_exporter": "python",
   "pygments_lexer": "ipython3",
   "version": "3.6.7"
  },
  "nteract": {
   "version": "0.15.0"
  }
 },
 "nbformat": 4,
 "nbformat_minor": 4
}
