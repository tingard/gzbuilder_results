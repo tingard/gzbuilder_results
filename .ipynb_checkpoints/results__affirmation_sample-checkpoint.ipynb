{
 "cells": [
  {
   "cell_type": "markdown",
   "metadata": {},
   "source": [
    "# Examination of Results from the Calibration / Affirmation set"
   ]
  },
  {
   "cell_type": "code",
   "execution_count": 1,
   "metadata": {
    "collapsed": false,
    "inputHidden": false,
    "jupyter": {
     "outputs_hidden": false
    },
    "outputHidden": false
   },
   "outputs": [],
   "source": [
    "%load_ext autoreload\n",
    "%autoreload 2"
   ]
  },
  {
   "cell_type": "code",
   "execution_count": 2,
   "metadata": {
    "collapsed": false,
    "inputHidden": false,
    "jupyter": {
     "outputs_hidden": false
    },
    "outputHidden": false
   },
   "outputs": [],
   "source": [
    "from datetime import datetime\n",
    "import pandas as pd\n",
    "import gzbuilder_analysis.parsing as pg\n",
    "import gzbuilder_analysis.aggregation as ag\n",
    "from tqdm import tqdm\n",
    "import json\n",
    "from PIL import Image\n",
    "from IPython.display import Markdown\n",
    "from gzbuilder_analysis.rendering.jax.sersic import sersic_ltot"
   ]
  },
  {
   "cell_type": "code",
   "execution_count": 3,
   "metadata": {
    "collapsed": false,
    "inputHidden": false,
    "jupyter": {
     "outputs_hidden": false
    },
    "outputHidden": false
   },
   "outputs": [],
   "source": [
    "affirmation_set_id = 80112"
   ]
  },
  {
   "cell_type": "code",
   "execution_count": 4,
   "metadata": {
    "collapsed": false,
    "inputHidden": false,
    "jupyter": {
     "outputs_hidden": false
    },
    "outputHidden": false
   },
   "outputs": [],
   "source": [
    "classifications = pd.read_csv('lib/galaxy-builder-classifications.csv', index_col=0)\n",
    "subjects = pd.read_csv('lib/galaxy-builder-subjects.csv', index_col=0)\n",
    "fitting_metadata = pd.read_pickle('lib/fitting_metadata.pkl')"
   ]
  },
  {
   "cell_type": "code",
   "execution_count": 5,
   "metadata": {
    "collapsed": false,
    "inputHidden": false,
    "jupyter": {
     "outputs_hidden": false
    },
    "outputHidden": false
   },
   "outputs": [],
   "source": [
    "metadata = subjects.metadata.apply(json.loads).apply(pd.Series)"
   ]
  },
  {
   "cell_type": "markdown",
   "metadata": {},
   "source": [
    "Read in the required files:"
   ]
  },
  {
   "cell_type": "code",
   "execution_count": 6,
   "metadata": {
    "collapsed": false,
    "inputHidden": false,
    "jupyter": {
     "outputs_hidden": false
    },
    "outputHidden": false
   },
   "outputs": [],
   "source": [
    "base_models = pd.read_pickle(\n",
    "    'affirmation_subjects_results/base_models.pkl.gz'\n",
    ")\n",
    "base_agg_results = pd.read_pickle(\n",
    "    'affirmation_subjects_results/agg_results.pkl.gz'\n",
    ")\n",
    "diffs = pd.read_pickle(\n",
    "    'affirmation_subjects_results/affirmation_metadata.pkl.gz'\n",
    ")"
   ]
  },
  {
   "cell_type": "code",
   "execution_count": 7,
   "metadata": {},
   "outputs": [
    {
     "data": {
      "text/plain": [
       "'20902055 21686576 21686588 20902038 21686502 21686529 20902067 20902006 20902035'"
      ]
     },
     "execution_count": 7,
     "metadata": {},
     "output_type": "execute_result"
    }
   ],
   "source": [
    "' '.join(map(str, list(base_models.index)))"
   ]
  },
  {
   "cell_type": "markdown",
   "metadata": {},
   "source": [
    "Or recalculate them by uncommenting here"
   ]
  },
  {
   "cell_type": "code",
   "execution_count": 8,
   "metadata": {
    "collapsed": false,
    "inputHidden": false,
    "jupyter": {
     "outputs_hidden": false
    },
    "outputHidden": false
   },
   "outputs": [],
   "source": [
    "base_models = {}\n",
    "for f in [i for i in os.listdir('affirmation_set_models') if re.match(r'.*?\\.pkl', i)]:\n",
    "    dump = pd.read_pickle(os.path.join('affirmation_set_models', f))\n",
    "    base_models[dump['idx']] = dump\n",
    "base_models = pd.DataFrame(base_models).T.drop(columns='idx')\n",
    "base_models.to_pickle('affirmation_subjects_results/base_models.pkl.gz')"
   ]
  },
  {
   "cell_type": "code",
   "execution_count": 9,
   "metadata": {
    "collapsed": false,
    "inputHidden": false,
    "jupyter": {
     "outputs_hidden": false
    },
    "outputHidden": false
   },
   "outputs": [],
   "source": [
    "affirmation_subjects = subjects.query('subject_set_id == @affirmation_set_id').index.values"
   ]
  },
  {
   "cell_type": "code",
   "execution_count": 10,
   "metadata": {
    "collapsed": false,
    "inputHidden": false,
    "jupyter": {
     "outputs_hidden": false
    },
    "outputHidden": false
   },
   "outputs": [],
   "source": [
    "index_map = pd.DataFrame(dict(name={k: base_models.name[k] for k in base_models.index}), columns=('name', 'subject_id')).sort_index()"
   ]
  },
  {
   "cell_type": "code",
   "execution_count": 11,
   "metadata": {},
   "outputs": [],
   "source": [
    "index_map['subject_id'] = subjects.loc[affirmation_subjects]\\\n",
    "    .metadata.apply(lambda a: json.loads(a).get('#subject_reference', np.nan))\\\n",
    "    .reset_index(drop=False).set_index('metadata')"
   ]
  },
  {
   "cell_type": "code",
   "execution_count": 12,
   "metadata": {},
   "outputs": [
    {
     "data": {
      "text/html": [
       "<div>\n",
       "<style scoped>\n",
       "    .dataframe tbody tr th:only-of-type {\n",
       "        vertical-align: middle;\n",
       "    }\n",
       "\n",
       "    .dataframe tbody tr th {\n",
       "        vertical-align: top;\n",
       "    }\n",
       "\n",
       "    .dataframe thead th {\n",
       "        text-align: right;\n",
       "    }\n",
       "</style>\n",
       "<table border=\"1\" class=\"dataframe\">\n",
       "  <thead>\n",
       "    <tr style=\"text-align: right;\">\n",
       "      <th></th>\n",
       "      <th>20902006</th>\n",
       "      <th>20902035</th>\n",
       "      <th>20902038</th>\n",
       "      <th>20902055</th>\n",
       "      <th>20902067</th>\n",
       "      <th>21686502</th>\n",
       "      <th>21686529</th>\n",
       "      <th>21686576</th>\n",
       "      <th>21686588</th>\n",
       "    </tr>\n",
       "  </thead>\n",
       "  <tbody>\n",
       "    <tr>\n",
       "      <th>name</th>\n",
       "      <td>disk_bar_sp_model</td>\n",
       "      <td>disk_bulge_bar_model</td>\n",
       "      <td>disk_bulge_model2</td>\n",
       "      <td>disk_sp_model</td>\n",
       "      <td>disk_bulge_sp_model</td>\n",
       "      <td>disk_model</td>\n",
       "      <td>disk_bulge_bar_sp_model</td>\n",
       "      <td>disk_bar_sp_model2</td>\n",
       "      <td>disk_bulge_model</td>\n",
       "    </tr>\n",
       "    <tr>\n",
       "      <th>subject_id</th>\n",
       "      <td>40216824</td>\n",
       "      <td>40216835</td>\n",
       "      <td>40216821</td>\n",
       "      <td>40216817</td>\n",
       "      <td>40216840</td>\n",
       "      <td>40216837</td>\n",
       "      <td>40216832</td>\n",
       "      <td>40216827</td>\n",
       "      <td>40216830</td>\n",
       "    </tr>\n",
       "  </tbody>\n",
       "</table>\n",
       "</div>"
      ],
      "text/plain": [
       "                     20902006              20902035           20902038  \\\n",
       "name        disk_bar_sp_model  disk_bulge_bar_model  disk_bulge_model2   \n",
       "subject_id           40216824              40216835           40216821   \n",
       "\n",
       "                 20902055             20902067    21686502  \\\n",
       "name        disk_sp_model  disk_bulge_sp_model  disk_model   \n",
       "subject_id       40216817             40216840    40216837   \n",
       "\n",
       "                           21686529            21686576          21686588  \n",
       "name        disk_bulge_bar_sp_model  disk_bar_sp_model2  disk_bulge_model  \n",
       "subject_id                 40216832            40216827          40216830  "
      ]
     },
     "execution_count": 12,
     "metadata": {},
     "output_type": "execute_result"
    }
   ],
   "source": [
    "index_map.T"
   ]
  },
  {
   "cell_type": "code",
   "execution_count": 13,
   "metadata": {},
   "outputs": [
    {
     "name": "stderr",
     "output_type": "stream",
     "text": [
      "Calculating aggregation results: 100%|██████████| 9/9 [03:10<00:00, 21.18s/it]\n"
     ]
    }
   ],
   "source": [
    "gal_df = pd.read_csv('lib/gal-metadata.csv', index_col=0)\n",
    "classifications = pd.read_csv('lib/galaxy-builder-classifications.csv', index_col=0)\n",
    "\n",
    "agg_results = pd.Series(dtype=object)\n",
    "with tqdm(index_map.index, desc='Calculating aggregation results') as bar:\n",
    "    for base_subject_id in bar:\n",
    "        subject_id = index_map.loc[base_subject_id].subject_id\n",
    "        im = np.array(Image.open('lib/subject_data/{}/image.png'.format(base_subject_id)))[::-1]\n",
    "        fm = fitting_metadata.loc[base_subject_id]\n",
    "        data = fm['galaxy_data']\n",
    "\n",
    "        # take the first 30 classifications recieved for this galaxy\n",
    "        c = (classifications\n",
    "            .query('subject_ids == {}'.format(subject_id))\n",
    "            .sort_values(by='created_at')\n",
    "            .head(30)\n",
    "        )\n",
    "        zoo_models = c.apply(\n",
    "            pg.parse_classification,\n",
    "            axis=1,\n",
    "            image_size=np.array(im.shape),\n",
    "            size_diff=im.shape[0] / data.shape[0],\n",
    "            ignore_scale=True  # ignore scale slider when aggregating\n",
    "        )\n",
    "        models = zoo_models.apply(\n",
    "            pg.scale_model,\n",
    "            args=(fm['size_diff'],),\n",
    "        )\n",
    "        sanitized_models = models.apply(pg.sanitize_model)\n",
    "        agg_results.loc[base_subject_id] = ag.AggregationResult(sanitized_models, data)"
   ]
  },
  {
   "cell_type": "markdown",
   "metadata": {},
   "source": [
    "Do people know when to draw components?"
   ]
  },
  {
   "cell_type": "code",
   "execution_count": 14,
   "metadata": {
    "collapsed": false,
    "inputHidden": false,
    "jupyter": {
     "outputs_hidden": false
    },
    "outputHidden": false
   },
   "outputs": [
    {
     "data": {
      "text/html": [
       "<div>\n",
       "<style scoped>\n",
       "    .dataframe tbody tr th:only-of-type {\n",
       "        vertical-align: middle;\n",
       "    }\n",
       "\n",
       "    .dataframe tbody tr th {\n",
       "        vertical-align: top;\n",
       "    }\n",
       "\n",
       "    .dataframe thead th {\n",
       "        text-align: right;\n",
       "    }\n",
       "</style>\n",
       "<table border=\"1\" class=\"dataframe\">\n",
       "  <thead>\n",
       "    <tr style=\"text-align: right;\">\n",
       "      <th></th>\n",
       "      <th>disk</th>\n",
       "      <th>bulge</th>\n",
       "      <th>bar</th>\n",
       "    </tr>\n",
       "    <tr>\n",
       "      <th>name</th>\n",
       "      <th></th>\n",
       "      <th></th>\n",
       "      <th></th>\n",
       "    </tr>\n",
       "  </thead>\n",
       "  <tbody>\n",
       "    <tr>\n",
       "      <th>disk_model</th>\n",
       "      <td>28 / 30</td>\n",
       "      <td>12 / 30</td>\n",
       "      <td>4 / 30</td>\n",
       "    </tr>\n",
       "    <tr>\n",
       "      <th>disk_bulge_model2</th>\n",
       "      <td>28 / 30</td>\n",
       "      <td>23 / 30</td>\n",
       "      <td>5 / 30</td>\n",
       "    </tr>\n",
       "    <tr>\n",
       "      <th>disk_sp_model</th>\n",
       "      <td>27 / 30</td>\n",
       "      <td>15 / 30</td>\n",
       "      <td>5 / 30</td>\n",
       "    </tr>\n",
       "    <tr>\n",
       "      <th>disk_bulge_model</th>\n",
       "      <td>24 / 30</td>\n",
       "      <td>19 / 30</td>\n",
       "      <td>5 / 30</td>\n",
       "    </tr>\n",
       "    <tr>\n",
       "      <th>disk_bulge_sp_model</th>\n",
       "      <td>28 / 30</td>\n",
       "      <td>20 / 30</td>\n",
       "      <td>7 / 30</td>\n",
       "    </tr>\n",
       "    <tr>\n",
       "      <th>disk_bulge_bar_model</th>\n",
       "      <td>27 / 30</td>\n",
       "      <td>20 / 30</td>\n",
       "      <td>13 / 30</td>\n",
       "    </tr>\n",
       "    <tr>\n",
       "      <th>disk_bar_sp_model2</th>\n",
       "      <td>30 / 30</td>\n",
       "      <td>24 / 30</td>\n",
       "      <td>17 / 30</td>\n",
       "    </tr>\n",
       "    <tr>\n",
       "      <th>disk_bulge_bar_sp_model</th>\n",
       "      <td>27 / 30</td>\n",
       "      <td>23 / 30</td>\n",
       "      <td>20 / 30</td>\n",
       "    </tr>\n",
       "    <tr>\n",
       "      <th>disk_bar_sp_model</th>\n",
       "      <td>28 / 30</td>\n",
       "      <td>19 / 30</td>\n",
       "      <td>22 / 30</td>\n",
       "    </tr>\n",
       "  </tbody>\n",
       "</table>\n",
       "</div>"
      ],
      "text/plain": [
       "                            disk    bulge      bar\n",
       "name                                              \n",
       "disk_model               28 / 30  12 / 30   4 / 30\n",
       "disk_bulge_model2        28 / 30  23 / 30   5 / 30\n",
       "disk_sp_model            27 / 30  15 / 30   5 / 30\n",
       "disk_bulge_model         24 / 30  19 / 30   5 / 30\n",
       "disk_bulge_sp_model      28 / 30  20 / 30   7 / 30\n",
       "disk_bulge_bar_model     27 / 30  20 / 30  13 / 30\n",
       "disk_bar_sp_model2       30 / 30  24 / 30  17 / 30\n",
       "disk_bulge_bar_sp_model  27 / 30  23 / 30  20 / 30\n",
       "disk_bar_sp_model        28 / 30  19 / 30  22 / 30"
      ]
     },
     "execution_count": 14,
     "metadata": {},
     "output_type": "execute_result"
    }
   ],
   "source": [
    "n_comp_cls = pd.DataFrame({\n",
    "    k: agg_results.apply(lambda a: a.input_models.apply(lambda b: bool(b[k])).sum())\n",
    "    for k in ('disk', 'bulge', 'bar')\n",
    "})\n",
    "n_comp_cls.index = index_map.name[n_comp_cls.index]\n",
    "n_comp_cls.sort_values(by='bar').astype(str) + ' / 30'"
   ]
  },
  {
   "cell_type": "markdown",
   "metadata": {},
   "source": [
    "People consistently made use of disks, and four galaxies containing bars recieved more bar classifications than the galaxies without, but the consensus was not very high!"
   ]
  },
  {
   "cell_type": "code",
   "execution_count": 15,
   "metadata": {
    "collapsed": false,
    "inputHidden": false,
    "jupyter": {
     "outputs_hidden": false
    },
    "outputHidden": false
   },
   "outputs": [],
   "source": [
    "base_params = base_models['model'].apply(\n",
    "    lambda a: pd.Series(a).apply(pd.Series).T.unstack().dropna()\n",
    ").sort_index()\n",
    "\n",
    "recovered_params = agg_results.apply(lambda a: a.params).sort_index()"
   ]
  },
  {
   "cell_type": "code",
   "execution_count": 16,
   "metadata": {
    "collapsed": false,
    "inputHidden": false,
    "jupyter": {
     "outputs_hidden": false
    },
    "outputHidden": false
   },
   "outputs": [],
   "source": [
    "base_has_comp = pd.concat([\n",
    "    *[base_params[k]['I'].notna().rename(k) for k in ('disk', 'bulge', 'bar')],\n",
    "    *[base_params['spiral'][f'I.{i}'].notna().rename(f'spiral.{i}') for i in (int(i.group(1)) for i in (re.match(r'I.([0-9]+)', r) for r in base_params['spiral'].columns) if i)]\n",
    "], axis=1)\n",
    "\n",
    "__empty_df = pd.DataFrame([], dtype=float)\n",
    "agg_has_comp = pd.concat([\n",
    "    *[recovered_params[k]['I'].notna().rename(k) for k in ('disk', 'bulge', 'bar')],\n",
    "    *[\n",
    "        recovered_params['spiral']['I.{}'.format(int(i.group(1)))].notna().rename('spiral.{}'.format(int(i.group(1))))\n",
    "        for i in (\n",
    "            re.match(r'I.([0-9]+)', r)\n",
    "            for r in recovered_params.get('spiral', __empty_df).columns\n",
    "        )\n",
    "        if i is not None\n",
    "    ]\n",
    "], axis=1)"
   ]
  },
  {
   "cell_type": "code",
   "execution_count": 17,
   "metadata": {
    "collapsed": false,
    "inputHidden": false,
    "jupyter": {
     "outputs_hidden": false
    },
    "outputHidden": false
   },
   "outputs": [
    {
     "data": {
      "text/markdown": [
       "### Did we recover the component?:"
      ],
      "text/plain": [
       "<IPython.core.display.Markdown object>"
      ]
     },
     "metadata": {},
     "output_type": "display_data"
    },
    {
     "data": {
      "text/html": [
       "<style  type=\"text/css\" >\n",
       "    #T_33ca265a_8b87_11ea_a735_c4b301d09f4brow0_col0 {\n",
       "            color:  green;\n",
       "        }    #T_33ca265a_8b87_11ea_a735_c4b301d09f4brow0_col1 {\n",
       "            color:  red;\n",
       "        }    #T_33ca265a_8b87_11ea_a735_c4b301d09f4brow0_col2 {\n",
       "            color:  green;\n",
       "        }    #T_33ca265a_8b87_11ea_a735_c4b301d09f4brow0_col3 {\n",
       "            color:  green;\n",
       "        }    #T_33ca265a_8b87_11ea_a735_c4b301d09f4brow0_col4 {\n",
       "            color:  green;\n",
       "        }    #T_33ca265a_8b87_11ea_a735_c4b301d09f4brow0_col5 {\n",
       "            color:  red;\n",
       "        }    #T_33ca265a_8b87_11ea_a735_c4b301d09f4brow1_col0 {\n",
       "            color:  green;\n",
       "        }    #T_33ca265a_8b87_11ea_a735_c4b301d09f4brow1_col1 {\n",
       "            color:  green;\n",
       "        }    #T_33ca265a_8b87_11ea_a735_c4b301d09f4brow1_col2 {\n",
       "            color:  red;\n",
       "        }    #T_33ca265a_8b87_11ea_a735_c4b301d09f4brow1_col3 {\n",
       "            color:  red;\n",
       "        }    #T_33ca265a_8b87_11ea_a735_c4b301d09f4brow1_col4 {\n",
       "            color:  red;\n",
       "        }    #T_33ca265a_8b87_11ea_a735_c4b301d09f4brow1_col5 {\n",
       "            color:  red;\n",
       "        }    #T_33ca265a_8b87_11ea_a735_c4b301d09f4brow2_col0 {\n",
       "            color:  green;\n",
       "        }    #T_33ca265a_8b87_11ea_a735_c4b301d09f4brow2_col1 {\n",
       "            color:  green;\n",
       "        }    #T_33ca265a_8b87_11ea_a735_c4b301d09f4brow2_col2 {\n",
       "            color:  red;\n",
       "        }    #T_33ca265a_8b87_11ea_a735_c4b301d09f4brow2_col3 {\n",
       "            color:  red;\n",
       "        }    #T_33ca265a_8b87_11ea_a735_c4b301d09f4brow2_col4 {\n",
       "            color:  red;\n",
       "        }    #T_33ca265a_8b87_11ea_a735_c4b301d09f4brow2_col5 {\n",
       "            color:  red;\n",
       "        }    #T_33ca265a_8b87_11ea_a735_c4b301d09f4brow3_col0 {\n",
       "            color:  green;\n",
       "        }    #T_33ca265a_8b87_11ea_a735_c4b301d09f4brow3_col1 {\n",
       "            color:  red;\n",
       "        }    #T_33ca265a_8b87_11ea_a735_c4b301d09f4brow3_col2 {\n",
       "            color:  red;\n",
       "        }    #T_33ca265a_8b87_11ea_a735_c4b301d09f4brow3_col3 {\n",
       "            color:  green;\n",
       "        }    #T_33ca265a_8b87_11ea_a735_c4b301d09f4brow3_col4 {\n",
       "            color:  green;\n",
       "        }    #T_33ca265a_8b87_11ea_a735_c4b301d09f4brow3_col5 {\n",
       "            color:  green;\n",
       "        }    #T_33ca265a_8b87_11ea_a735_c4b301d09f4brow4_col0 {\n",
       "            color:  green;\n",
       "        }    #T_33ca265a_8b87_11ea_a735_c4b301d09f4brow4_col1 {\n",
       "            color:  green;\n",
       "        }    #T_33ca265a_8b87_11ea_a735_c4b301d09f4brow4_col2 {\n",
       "            color:  red;\n",
       "        }    #T_33ca265a_8b87_11ea_a735_c4b301d09f4brow4_col3 {\n",
       "            color:  green;\n",
       "        }    #T_33ca265a_8b87_11ea_a735_c4b301d09f4brow4_col4 {\n",
       "            color:  green;\n",
       "        }    #T_33ca265a_8b87_11ea_a735_c4b301d09f4brow4_col5 {\n",
       "            color:  red;\n",
       "        }    #T_33ca265a_8b87_11ea_a735_c4b301d09f4brow5_col0 {\n",
       "            color:  green;\n",
       "        }    #T_33ca265a_8b87_11ea_a735_c4b301d09f4brow5_col1 {\n",
       "            color:  red;\n",
       "        }    #T_33ca265a_8b87_11ea_a735_c4b301d09f4brow5_col2 {\n",
       "            color:  red;\n",
       "        }    #T_33ca265a_8b87_11ea_a735_c4b301d09f4brow5_col3 {\n",
       "            color:  red;\n",
       "        }    #T_33ca265a_8b87_11ea_a735_c4b301d09f4brow5_col4 {\n",
       "            color:  red;\n",
       "        }    #T_33ca265a_8b87_11ea_a735_c4b301d09f4brow5_col5 {\n",
       "            color:  red;\n",
       "        }    #T_33ca265a_8b87_11ea_a735_c4b301d09f4brow6_col0 {\n",
       "            color:  green;\n",
       "        }    #T_33ca265a_8b87_11ea_a735_c4b301d09f4brow6_col1 {\n",
       "            color:  green;\n",
       "        }    #T_33ca265a_8b87_11ea_a735_c4b301d09f4brow6_col2 {\n",
       "            color:  green;\n",
       "        }    #T_33ca265a_8b87_11ea_a735_c4b301d09f4brow6_col3 {\n",
       "            color:  green;\n",
       "        }    #T_33ca265a_8b87_11ea_a735_c4b301d09f4brow6_col4 {\n",
       "            color:  green;\n",
       "        }    #T_33ca265a_8b87_11ea_a735_c4b301d09f4brow6_col5 {\n",
       "            color:  red;\n",
       "        }    #T_33ca265a_8b87_11ea_a735_c4b301d09f4brow7_col0 {\n",
       "            color:  green;\n",
       "        }    #T_33ca265a_8b87_11ea_a735_c4b301d09f4brow7_col1 {\n",
       "            color:  red;\n",
       "        }    #T_33ca265a_8b87_11ea_a735_c4b301d09f4brow7_col2 {\n",
       "            color:  green;\n",
       "        }    #T_33ca265a_8b87_11ea_a735_c4b301d09f4brow7_col3 {\n",
       "            color:  green;\n",
       "        }    #T_33ca265a_8b87_11ea_a735_c4b301d09f4brow7_col4 {\n",
       "            color:  green;\n",
       "        }    #T_33ca265a_8b87_11ea_a735_c4b301d09f4brow7_col5 {\n",
       "            color:  red;\n",
       "        }    #T_33ca265a_8b87_11ea_a735_c4b301d09f4brow8_col0 {\n",
       "            color:  green;\n",
       "        }    #T_33ca265a_8b87_11ea_a735_c4b301d09f4brow8_col1 {\n",
       "            color:  green;\n",
       "        }    #T_33ca265a_8b87_11ea_a735_c4b301d09f4brow8_col2 {\n",
       "            color:  red;\n",
       "        }    #T_33ca265a_8b87_11ea_a735_c4b301d09f4brow8_col3 {\n",
       "            color:  red;\n",
       "        }    #T_33ca265a_8b87_11ea_a735_c4b301d09f4brow8_col4 {\n",
       "            color:  red;\n",
       "        }    #T_33ca265a_8b87_11ea_a735_c4b301d09f4brow8_col5 {\n",
       "            color:  red;\n",
       "        }</style><table id=\"T_33ca265a_8b87_11ea_a735_c4b301d09f4b\" ><thead>    <tr>        <th class=\"blank\" ></th>        <th class=\"blank level0\" ></th>        <th class=\"col_heading level0 col0\" >disk</th>        <th class=\"col_heading level0 col1\" >bulge</th>        <th class=\"col_heading level0 col2\" >bar</th>        <th class=\"col_heading level0 col3\" >spiral.0</th>        <th class=\"col_heading level0 col4\" >spiral.1</th>        <th class=\"col_heading level0 col5\" >spiral.2</th>    </tr>    <tr>        <th class=\"index_name level0\" >name</th>        <th class=\"index_name level1\" >base_subject_id</th>        <th class=\"blank\" ></th>        <th class=\"blank\" ></th>        <th class=\"blank\" ></th>        <th class=\"blank\" ></th>        <th class=\"blank\" ></th>        <th class=\"blank\" ></th>    </tr></thead><tbody>\n",
       "                <tr>\n",
       "                        <th id=\"T_33ca265a_8b87_11ea_a735_c4b301d09f4blevel0_row0\" class=\"row_heading level0 row0\" >disk_bar_sp_model</th>\n",
       "                        <th id=\"T_33ca265a_8b87_11ea_a735_c4b301d09f4blevel1_row0\" class=\"row_heading level1 row0\" >20902006</th>\n",
       "                        <td id=\"T_33ca265a_8b87_11ea_a735_c4b301d09f4brow0_col0\" class=\"data row0 col0\" >✔️</td>\n",
       "                        <td id=\"T_33ca265a_8b87_11ea_a735_c4b301d09f4brow0_col1\" class=\"data row0 col1\" >False Positive</td>\n",
       "                        <td id=\"T_33ca265a_8b87_11ea_a735_c4b301d09f4brow0_col2\" class=\"data row0 col2\" >✔️</td>\n",
       "                        <td id=\"T_33ca265a_8b87_11ea_a735_c4b301d09f4brow0_col3\" class=\"data row0 col3\" >✔️</td>\n",
       "                        <td id=\"T_33ca265a_8b87_11ea_a735_c4b301d09f4brow0_col4\" class=\"data row0 col4\" >✔️</td>\n",
       "                        <td id=\"T_33ca265a_8b87_11ea_a735_c4b301d09f4brow0_col5\" class=\"data row0 col5\" ></td>\n",
       "            </tr>\n",
       "            <tr>\n",
       "                        <th id=\"T_33ca265a_8b87_11ea_a735_c4b301d09f4blevel0_row1\" class=\"row_heading level0 row1\" >disk_bulge_bar_model</th>\n",
       "                        <th id=\"T_33ca265a_8b87_11ea_a735_c4b301d09f4blevel1_row1\" class=\"row_heading level1 row1\" >20902035</th>\n",
       "                        <td id=\"T_33ca265a_8b87_11ea_a735_c4b301d09f4brow1_col0\" class=\"data row1 col0\" >✔️</td>\n",
       "                        <td id=\"T_33ca265a_8b87_11ea_a735_c4b301d09f4brow1_col1\" class=\"data row1 col1\" >✔️</td>\n",
       "                        <td id=\"T_33ca265a_8b87_11ea_a735_c4b301d09f4brow1_col2\" class=\"data row1 col2\" >False Negative</td>\n",
       "                        <td id=\"T_33ca265a_8b87_11ea_a735_c4b301d09f4brow1_col3\" class=\"data row1 col3\" ></td>\n",
       "                        <td id=\"T_33ca265a_8b87_11ea_a735_c4b301d09f4brow1_col4\" class=\"data row1 col4\" ></td>\n",
       "                        <td id=\"T_33ca265a_8b87_11ea_a735_c4b301d09f4brow1_col5\" class=\"data row1 col5\" ></td>\n",
       "            </tr>\n",
       "            <tr>\n",
       "                        <th id=\"T_33ca265a_8b87_11ea_a735_c4b301d09f4blevel0_row2\" class=\"row_heading level0 row2\" >disk_bulge_model2</th>\n",
       "                        <th id=\"T_33ca265a_8b87_11ea_a735_c4b301d09f4blevel1_row2\" class=\"row_heading level1 row2\" >20902038</th>\n",
       "                        <td id=\"T_33ca265a_8b87_11ea_a735_c4b301d09f4brow2_col0\" class=\"data row2 col0\" >✔️</td>\n",
       "                        <td id=\"T_33ca265a_8b87_11ea_a735_c4b301d09f4brow2_col1\" class=\"data row2 col1\" >✔️</td>\n",
       "                        <td id=\"T_33ca265a_8b87_11ea_a735_c4b301d09f4brow2_col2\" class=\"data row2 col2\" ></td>\n",
       "                        <td id=\"T_33ca265a_8b87_11ea_a735_c4b301d09f4brow2_col3\" class=\"data row2 col3\" ></td>\n",
       "                        <td id=\"T_33ca265a_8b87_11ea_a735_c4b301d09f4brow2_col4\" class=\"data row2 col4\" ></td>\n",
       "                        <td id=\"T_33ca265a_8b87_11ea_a735_c4b301d09f4brow2_col5\" class=\"data row2 col5\" ></td>\n",
       "            </tr>\n",
       "            <tr>\n",
       "                        <th id=\"T_33ca265a_8b87_11ea_a735_c4b301d09f4blevel0_row3\" class=\"row_heading level0 row3\" >disk_sp_model</th>\n",
       "                        <th id=\"T_33ca265a_8b87_11ea_a735_c4b301d09f4blevel1_row3\" class=\"row_heading level1 row3\" >20902055</th>\n",
       "                        <td id=\"T_33ca265a_8b87_11ea_a735_c4b301d09f4brow3_col0\" class=\"data row3 col0\" >✔️</td>\n",
       "                        <td id=\"T_33ca265a_8b87_11ea_a735_c4b301d09f4brow3_col1\" class=\"data row3 col1\" ></td>\n",
       "                        <td id=\"T_33ca265a_8b87_11ea_a735_c4b301d09f4brow3_col2\" class=\"data row3 col2\" ></td>\n",
       "                        <td id=\"T_33ca265a_8b87_11ea_a735_c4b301d09f4brow3_col3\" class=\"data row3 col3\" >✔️</td>\n",
       "                        <td id=\"T_33ca265a_8b87_11ea_a735_c4b301d09f4brow3_col4\" class=\"data row3 col4\" >✔️</td>\n",
       "                        <td id=\"T_33ca265a_8b87_11ea_a735_c4b301d09f4brow3_col5\" class=\"data row3 col5\" >✔️</td>\n",
       "            </tr>\n",
       "            <tr>\n",
       "                        <th id=\"T_33ca265a_8b87_11ea_a735_c4b301d09f4blevel0_row4\" class=\"row_heading level0 row4\" >disk_bulge_sp_model</th>\n",
       "                        <th id=\"T_33ca265a_8b87_11ea_a735_c4b301d09f4blevel1_row4\" class=\"row_heading level1 row4\" >20902067</th>\n",
       "                        <td id=\"T_33ca265a_8b87_11ea_a735_c4b301d09f4brow4_col0\" class=\"data row4 col0\" >✔️</td>\n",
       "                        <td id=\"T_33ca265a_8b87_11ea_a735_c4b301d09f4brow4_col1\" class=\"data row4 col1\" >✔️</td>\n",
       "                        <td id=\"T_33ca265a_8b87_11ea_a735_c4b301d09f4brow4_col2\" class=\"data row4 col2\" ></td>\n",
       "                        <td id=\"T_33ca265a_8b87_11ea_a735_c4b301d09f4brow4_col3\" class=\"data row4 col3\" >✔️</td>\n",
       "                        <td id=\"T_33ca265a_8b87_11ea_a735_c4b301d09f4brow4_col4\" class=\"data row4 col4\" >✔️</td>\n",
       "                        <td id=\"T_33ca265a_8b87_11ea_a735_c4b301d09f4brow4_col5\" class=\"data row4 col5\" ></td>\n",
       "            </tr>\n",
       "            <tr>\n",
       "                        <th id=\"T_33ca265a_8b87_11ea_a735_c4b301d09f4blevel0_row5\" class=\"row_heading level0 row5\" >disk_model</th>\n",
       "                        <th id=\"T_33ca265a_8b87_11ea_a735_c4b301d09f4blevel1_row5\" class=\"row_heading level1 row5\" >21686502</th>\n",
       "                        <td id=\"T_33ca265a_8b87_11ea_a735_c4b301d09f4brow5_col0\" class=\"data row5 col0\" >✔️</td>\n",
       "                        <td id=\"T_33ca265a_8b87_11ea_a735_c4b301d09f4brow5_col1\" class=\"data row5 col1\" ></td>\n",
       "                        <td id=\"T_33ca265a_8b87_11ea_a735_c4b301d09f4brow5_col2\" class=\"data row5 col2\" ></td>\n",
       "                        <td id=\"T_33ca265a_8b87_11ea_a735_c4b301d09f4brow5_col3\" class=\"data row5 col3\" ></td>\n",
       "                        <td id=\"T_33ca265a_8b87_11ea_a735_c4b301d09f4brow5_col4\" class=\"data row5 col4\" ></td>\n",
       "                        <td id=\"T_33ca265a_8b87_11ea_a735_c4b301d09f4brow5_col5\" class=\"data row5 col5\" ></td>\n",
       "            </tr>\n",
       "            <tr>\n",
       "                        <th id=\"T_33ca265a_8b87_11ea_a735_c4b301d09f4blevel0_row6\" class=\"row_heading level0 row6\" >disk_bulge_bar_sp_model</th>\n",
       "                        <th id=\"T_33ca265a_8b87_11ea_a735_c4b301d09f4blevel1_row6\" class=\"row_heading level1 row6\" >21686529</th>\n",
       "                        <td id=\"T_33ca265a_8b87_11ea_a735_c4b301d09f4brow6_col0\" class=\"data row6 col0\" >✔️</td>\n",
       "                        <td id=\"T_33ca265a_8b87_11ea_a735_c4b301d09f4brow6_col1\" class=\"data row6 col1\" >✔️</td>\n",
       "                        <td id=\"T_33ca265a_8b87_11ea_a735_c4b301d09f4brow6_col2\" class=\"data row6 col2\" >✔️</td>\n",
       "                        <td id=\"T_33ca265a_8b87_11ea_a735_c4b301d09f4brow6_col3\" class=\"data row6 col3\" >✔️</td>\n",
       "                        <td id=\"T_33ca265a_8b87_11ea_a735_c4b301d09f4brow6_col4\" class=\"data row6 col4\" >✔️</td>\n",
       "                        <td id=\"T_33ca265a_8b87_11ea_a735_c4b301d09f4brow6_col5\" class=\"data row6 col5\" >False Negative</td>\n",
       "            </tr>\n",
       "            <tr>\n",
       "                        <th id=\"T_33ca265a_8b87_11ea_a735_c4b301d09f4blevel0_row7\" class=\"row_heading level0 row7\" >disk_bar_sp_model2</th>\n",
       "                        <th id=\"T_33ca265a_8b87_11ea_a735_c4b301d09f4blevel1_row7\" class=\"row_heading level1 row7\" >21686576</th>\n",
       "                        <td id=\"T_33ca265a_8b87_11ea_a735_c4b301d09f4brow7_col0\" class=\"data row7 col0\" >✔️</td>\n",
       "                        <td id=\"T_33ca265a_8b87_11ea_a735_c4b301d09f4brow7_col1\" class=\"data row7 col1\" >False Positive</td>\n",
       "                        <td id=\"T_33ca265a_8b87_11ea_a735_c4b301d09f4brow7_col2\" class=\"data row7 col2\" >✔️</td>\n",
       "                        <td id=\"T_33ca265a_8b87_11ea_a735_c4b301d09f4brow7_col3\" class=\"data row7 col3\" >✔️</td>\n",
       "                        <td id=\"T_33ca265a_8b87_11ea_a735_c4b301d09f4brow7_col4\" class=\"data row7 col4\" >✔️</td>\n",
       "                        <td id=\"T_33ca265a_8b87_11ea_a735_c4b301d09f4brow7_col5\" class=\"data row7 col5\" ></td>\n",
       "            </tr>\n",
       "            <tr>\n",
       "                        <th id=\"T_33ca265a_8b87_11ea_a735_c4b301d09f4blevel0_row8\" class=\"row_heading level0 row8\" >disk_bulge_model</th>\n",
       "                        <th id=\"T_33ca265a_8b87_11ea_a735_c4b301d09f4blevel1_row8\" class=\"row_heading level1 row8\" >21686588</th>\n",
       "                        <td id=\"T_33ca265a_8b87_11ea_a735_c4b301d09f4brow8_col0\" class=\"data row8 col0\" >✔️</td>\n",
       "                        <td id=\"T_33ca265a_8b87_11ea_a735_c4b301d09f4brow8_col1\" class=\"data row8 col1\" >✔️</td>\n",
       "                        <td id=\"T_33ca265a_8b87_11ea_a735_c4b301d09f4brow8_col2\" class=\"data row8 col2\" ></td>\n",
       "                        <td id=\"T_33ca265a_8b87_11ea_a735_c4b301d09f4brow8_col3\" class=\"data row8 col3\" ></td>\n",
       "                        <td id=\"T_33ca265a_8b87_11ea_a735_c4b301d09f4brow8_col4\" class=\"data row8 col4\" ></td>\n",
       "                        <td id=\"T_33ca265a_8b87_11ea_a735_c4b301d09f4brow8_col5\" class=\"data row8 col5\" ></td>\n",
       "            </tr>\n",
       "    </tbody></table>"
      ],
      "text/plain": [
       "<pandas.io.formats.style.Styler at 0x1a32ed5400>"
      ]
     },
     "execution_count": 17,
     "metadata": {},
     "output_type": "execute_result"
    }
   ],
   "source": [
    "base_has_comp2 = base_has_comp.copy()\n",
    "base_has_comp2.index = index_map.name[base_has_comp2.index]\n",
    "agg_has_comp2 = agg_has_comp.copy()\n",
    "agg_has_comp2.index = index_map.name[agg_has_comp2.index]\n",
    "\n",
    "def color_false_red(val):\n",
    "    color = 'green' if val == '✔️' else 'red'\n",
    "    return 'color: %s' % color\n",
    "\n",
    "display(Markdown('### Did we recover the component?:'))\n",
    "df = (base_has_comp2.astype(int) - agg_has_comp2.astype(int)).astype(object).fillna(0)\n",
    "df[~(base_has_comp2 | agg_has_comp2)] = np.nan\n",
    "df.index = pd.MultiIndex.from_arrays([index_map.name, index_map.index.rename('base_subject_id')])\n",
    "df.replace(np.nan, '').replace(1, 'False Negative').replace(-1, 'False Positive').replace(0, '✔️').style.applymap(color_false_red)"
   ]
  },
  {
   "cell_type": "code",
   "execution_count": 18,
   "metadata": {
    "collapsed": false,
    "inputHidden": false,
    "jupyter": {
     "outputs_hidden": false
    },
    "outputHidden": false
   },
   "outputs": [],
   "source": [
    "from gzbuilder_analysis.aggregation.spirals import get_drawn_arms\n",
    "from astropy.visualization import AsinhStretch\n",
    "from descartes import PolygonPatch"
   ]
  },
  {
   "cell_type": "markdown",
   "metadata": {},
   "source": [
    "Plot the models we recieved:"
   ]
  },
  {
   "cell_type": "code",
   "execution_count": 19,
   "metadata": {
    "collapsed": false,
    "inputHidden": false,
    "jupyter": {
     "outputs_hidden": false
    },
    "outputHidden": false
   },
   "outputs": [
    {
     "name": "stderr",
     "output_type": "stream",
     "text": [
      "100%|██████████| 9/9 [00:09<00:00,  1.01s/it]\n"
     ]
    }
   ],
   "source": [
    "os.makedirs('affirmation_subjects_results/classifications', exist_ok=True)\n",
    "with tqdm(base_models.index) as bar:\n",
    "    for subject_id in bar:\n",
    "        geoms = agg_results[subject_id].input_models.apply(ag.get_geoms).apply(pd.Series)\n",
    "        drawn_arms = agg_results[subject_id].input_models\n",
    "        f, ax_ = plt.subplots(nrows=2, ncols=2, sharex=True, sharey=True, figsize=(8, 9), dpi=100)\n",
    "        ax = ax_.ravel()\n",
    "        plt.suptitle(index_map.name[subject_id].replace('_', ' ').replace('sp', 'spiral').capitalize())\n",
    "        im = np.array(diffs.loc[subject_id].galaxy_data)\n",
    "        [a.axis('off') for a in ax];\n",
    "        [a.imshow(AsinhStretch()(im), cmap='gray_r') for a in ax];\n",
    "\n",
    "        for i, k in enumerate(('disk', 'bulge', 'bar')):\n",
    "            for _, g in geoms[k].iteritems():\n",
    "                if g is not None:\n",
    "                    ax[i].add_patch(PolygonPatch(g, ec='C{}'.format(i), fc='none', alpha=0.6))\n",
    "\n",
    "        for arm in get_drawn_arms(agg_results[subject_id].input_models):\n",
    "            ax[3].plot(*arm.T, c='r', alpha=0.4)\n",
    "        plt.tight_layout()\n",
    "        plt.xlim(0, im.shape[1])\n",
    "        plt.ylim(0, im.shape[0])\n",
    "        plt.savefig('affirmation_subjects_results/classifications/{}.png'.format(index_map.name[subject_id]), bbox_inches='tight')\n",
    "        plt.close()"
   ]
  },
  {
   "cell_type": "code",
   "execution_count": 20,
   "metadata": {},
   "outputs": [
    {
     "data": {
      "text/html": [
       "<div>\n",
       "<style scoped>\n",
       "    .dataframe tbody tr th:only-of-type {\n",
       "        vertical-align: middle;\n",
       "    }\n",
       "\n",
       "    .dataframe tbody tr th {\n",
       "        vertical-align: top;\n",
       "    }\n",
       "\n",
       "    .dataframe thead th {\n",
       "        text-align: right;\n",
       "    }\n",
       "</style>\n",
       "<table border=\"1\" class=\"dataframe\">\n",
       "  <thead>\n",
       "    <tr style=\"text-align: right;\">\n",
       "      <th></th>\n",
       "      <th>name</th>\n",
       "      <th>subject_id</th>\n",
       "    </tr>\n",
       "  </thead>\n",
       "  <tbody>\n",
       "    <tr>\n",
       "      <th>20902006</th>\n",
       "      <td>disk_bar_sp_model</td>\n",
       "      <td>40216824</td>\n",
       "    </tr>\n",
       "    <tr>\n",
       "      <th>20902035</th>\n",
       "      <td>disk_bulge_bar_model</td>\n",
       "      <td>40216835</td>\n",
       "    </tr>\n",
       "    <tr>\n",
       "      <th>20902038</th>\n",
       "      <td>disk_bulge_model2</td>\n",
       "      <td>40216821</td>\n",
       "    </tr>\n",
       "    <tr>\n",
       "      <th>20902055</th>\n",
       "      <td>disk_sp_model</td>\n",
       "      <td>40216817</td>\n",
       "    </tr>\n",
       "    <tr>\n",
       "      <th>20902067</th>\n",
       "      <td>disk_bulge_sp_model</td>\n",
       "      <td>40216840</td>\n",
       "    </tr>\n",
       "    <tr>\n",
       "      <th>21686502</th>\n",
       "      <td>disk_model</td>\n",
       "      <td>40216837</td>\n",
       "    </tr>\n",
       "    <tr>\n",
       "      <th>21686529</th>\n",
       "      <td>disk_bulge_bar_sp_model</td>\n",
       "      <td>40216832</td>\n",
       "    </tr>\n",
       "    <tr>\n",
       "      <th>21686576</th>\n",
       "      <td>disk_bar_sp_model2</td>\n",
       "      <td>40216827</td>\n",
       "    </tr>\n",
       "    <tr>\n",
       "      <th>21686588</th>\n",
       "      <td>disk_bulge_model</td>\n",
       "      <td>40216830</td>\n",
       "    </tr>\n",
       "  </tbody>\n",
       "</table>\n",
       "</div>"
      ],
      "text/plain": [
       "                             name  subject_id\n",
       "20902006        disk_bar_sp_model    40216824\n",
       "20902035     disk_bulge_bar_model    40216835\n",
       "20902038        disk_bulge_model2    40216821\n",
       "20902055            disk_sp_model    40216817\n",
       "20902067      disk_bulge_sp_model    40216840\n",
       "21686502               disk_model    40216837\n",
       "21686529  disk_bulge_bar_sp_model    40216832\n",
       "21686576       disk_bar_sp_model2    40216827\n",
       "21686588         disk_bulge_model    40216830"
      ]
     },
     "execution_count": 20,
     "metadata": {},
     "output_type": "execute_result"
    }
   ],
   "source": [
    "index_map"
   ]
  },
  {
   "cell_type": "code",
   "execution_count": 21,
   "metadata": {},
   "outputs": [],
   "source": [
    "render_res = pd.Series(dtype=object)\n",
    "for idx, name in index_map['name'].iteritems():\n",
    "    render_res.loc[idx] = pd.read_pickle(f'affirmation_subjects_results/optimizers/{name}.pkl')\n",
    "render_res = render_res.apply(pd.Series)"
   ]
  },
  {
   "cell_type": "markdown",
   "metadata": {},
   "source": [
    "We have performed tuning separately, let's see how models stack up:"
   ]
  },
  {
   "cell_type": "code",
   "execution_count": 22,
   "metadata": {
    "collapsed": false,
    "inputHidden": false,
    "jupyter": {
     "outputs_hidden": false
    },
    "outputHidden": false
   },
   "outputs": [],
   "source": [
    "true_models = base_models.model.apply(lambda m: pd.DataFrame(m).unstack()).T\n",
    "true_models = true_models[np.any(true_models.notna(), axis=1)]\n",
    "true_models.columns = index_map.name[true_models.columns]"
   ]
  },
  {
   "cell_type": "code",
   "execution_count": 23,
   "metadata": {},
   "outputs": [],
   "source": [
    "from gzbuilder_analysis.fitting.reparametrization import from_reparametrization"
   ]
  },
  {
   "cell_type": "code",
   "execution_count": 24,
   "metadata": {
    "collapsed": false,
    "inputHidden": false,
    "jupyter": {
     "outputs_hidden": false
    },
    "outputHidden": false
   },
   "outputs": [],
   "source": [
    "tuning_results = index_map.set_index('name', drop=False).name.apply(lambda n: pd.read_pickle(\n",
    "    f'affirmation_subjects_results/tuning_results/{n}.pickle.gz'\n",
    ")).apply(pd.Series)\n",
    "final_models = tuning_results.deparametrized.apply(pd.Series).T\n",
    "final_models = final_models[np.any(final_models.notna(), axis=1)]"
   ]
  },
  {
   "cell_type": "code",
   "execution_count": 25,
   "metadata": {
    "collapsed": false,
    "inputHidden": false,
    "jupyter": {
     "outputs_hidden": false
    },
    "outputHidden": false
   },
   "outputs": [
    {
     "data": {
      "text/plain": [
       "count    9.000000\n",
       "mean     1.029202\n",
       "std      0.080548\n",
       "min      0.995567\n",
       "25%      0.997843\n",
       "50%      1.001857\n",
       "75%      1.009127\n",
       "max      1.243431\n",
       "Name: chisq, dtype: float64"
      ]
     },
     "execution_count": 25,
     "metadata": {},
     "output_type": "execute_result"
    }
   ],
   "source": [
    "tuning_results.chisq.astype(float).describe()"
   ]
  },
  {
   "cell_type": "code",
   "execution_count": 26,
   "metadata": {
    "collapsed": false,
    "inputHidden": false,
    "jupyter": {
     "outputs_hidden": false
    },
    "outputHidden": false
   },
   "outputs": [],
   "source": [
    "fitting_df = pd.concat((true_models, final_models.T.add_suffix('_fit').T), axis=0)"
   ]
  },
  {
   "cell_type": "code",
   "execution_count": 27,
   "metadata": {},
   "outputs": [
    {
     "name": "stderr",
     "output_type": "stream",
     "text": [
      "/Users/tlingard/anaconda3/lib/python3.6/site-packages/jax/lib/xla_bridge.py:122: UserWarning: No GPU/TPU found, falling back to CPU.\n",
      "  warnings.warn('No GPU/TPU found, falling back to CPU.')\n"
     ]
    },
    {
     "data": {
      "text/html": [
       "<div>\n",
       "<style scoped>\n",
       "    .dataframe tbody tr th:only-of-type {\n",
       "        vertical-align: middle;\n",
       "    }\n",
       "\n",
       "    .dataframe tbody tr th {\n",
       "        vertical-align: top;\n",
       "    }\n",
       "\n",
       "    .dataframe thead th {\n",
       "        text-align: right;\n",
       "    }\n",
       "</style>\n",
       "<table border=\"1\" class=\"dataframe\">\n",
       "  <thead>\n",
       "    <tr style=\"text-align: right;\">\n",
       "      <th></th>\n",
       "      <th>disk</th>\n",
       "      <th>bar</th>\n",
       "      <th>bulge</th>\n",
       "      <th>spiral</th>\n",
       "      <th>total</th>\n",
       "      <th>bulge_frac</th>\n",
       "      <th>bar_frac</th>\n",
       "      <th>name</th>\n",
       "    </tr>\n",
       "  </thead>\n",
       "  <tbody>\n",
       "    <tr>\n",
       "      <th>20902006</th>\n",
       "      <td>883.443344</td>\n",
       "      <td>51.310997</td>\n",
       "      <td>NaN</td>\n",
       "      <td>91.465598</td>\n",
       "      <td>1026.219938</td>\n",
       "      <td>NaN</td>\n",
       "      <td>0.050000</td>\n",
       "      <td>disk_bar_sp_model</td>\n",
       "    </tr>\n",
       "    <tr>\n",
       "      <th>20902035</th>\n",
       "      <td>238.730943</td>\n",
       "      <td>17.968996</td>\n",
       "      <td>12.564786</td>\n",
       "      <td>NaN</td>\n",
       "      <td>269.264725</td>\n",
       "      <td>0.046663</td>\n",
       "      <td>0.066734</td>\n",
       "      <td>disk_bulge_bar_model</td>\n",
       "    </tr>\n",
       "    <tr>\n",
       "      <th>20902038</th>\n",
       "      <td>334.618739</td>\n",
       "      <td>NaN</td>\n",
       "      <td>13.942447</td>\n",
       "      <td>NaN</td>\n",
       "      <td>348.561186</td>\n",
       "      <td>0.040000</td>\n",
       "      <td>NaN</td>\n",
       "      <td>disk_bulge_model2</td>\n",
       "    </tr>\n",
       "    <tr>\n",
       "      <th>20902055</th>\n",
       "      <td>1180.295423</td>\n",
       "      <td>NaN</td>\n",
       "      <td>NaN</td>\n",
       "      <td>276.573973</td>\n",
       "      <td>1456.869396</td>\n",
       "      <td>NaN</td>\n",
       "      <td>NaN</td>\n",
       "      <td>disk_sp_model</td>\n",
       "    </tr>\n",
       "    <tr>\n",
       "      <th>20902067</th>\n",
       "      <td>167.994011</td>\n",
       "      <td>NaN</td>\n",
       "      <td>3.839569</td>\n",
       "      <td>20.144875</td>\n",
       "      <td>191.978455</td>\n",
       "      <td>0.020000</td>\n",
       "      <td>NaN</td>\n",
       "      <td>disk_bulge_sp_model</td>\n",
       "    </tr>\n",
       "    <tr>\n",
       "      <th>21686502</th>\n",
       "      <td>1146.784677</td>\n",
       "      <td>NaN</td>\n",
       "      <td>NaN</td>\n",
       "      <td>NaN</td>\n",
       "      <td>1146.784677</td>\n",
       "      <td>NaN</td>\n",
       "      <td>NaN</td>\n",
       "      <td>disk_model</td>\n",
       "    </tr>\n",
       "    <tr>\n",
       "      <th>21686529</th>\n",
       "      <td>356.544194</td>\n",
       "      <td>107.189648</td>\n",
       "      <td>5.207594</td>\n",
       "      <td>72.214399</td>\n",
       "      <td>541.155835</td>\n",
       "      <td>0.009623</td>\n",
       "      <td>0.198075</td>\n",
       "      <td>disk_bulge_bar_sp_model</td>\n",
       "    </tr>\n",
       "    <tr>\n",
       "      <th>21686576</th>\n",
       "      <td>626.496817</td>\n",
       "      <td>34.637944</td>\n",
       "      <td>NaN</td>\n",
       "      <td>31.624124</td>\n",
       "      <td>692.758885</td>\n",
       "      <td>NaN</td>\n",
       "      <td>0.050000</td>\n",
       "      <td>disk_bar_sp_model2</td>\n",
       "    </tr>\n",
       "    <tr>\n",
       "      <th>21686588</th>\n",
       "      <td>1076.410684</td>\n",
       "      <td>NaN</td>\n",
       "      <td>21.967565</td>\n",
       "      <td>NaN</td>\n",
       "      <td>1098.378249</td>\n",
       "      <td>0.020000</td>\n",
       "      <td>NaN</td>\n",
       "      <td>disk_bulge_model</td>\n",
       "    </tr>\n",
       "  </tbody>\n",
       "</table>\n",
       "</div>"
      ],
      "text/plain": [
       "                 disk         bar      bulge      spiral        total  \\\n",
       "20902006   883.443344   51.310997        NaN   91.465598  1026.219938   \n",
       "20902035   238.730943   17.968996  12.564786         NaN   269.264725   \n",
       "20902038   334.618739         NaN  13.942447         NaN   348.561186   \n",
       "20902055  1180.295423         NaN        NaN  276.573973  1456.869396   \n",
       "20902067   167.994011         NaN   3.839569   20.144875   191.978455   \n",
       "21686502  1146.784677         NaN        NaN         NaN  1146.784677   \n",
       "21686529   356.544194  107.189648   5.207594   72.214399   541.155835   \n",
       "21686576   626.496817   34.637944        NaN   31.624124   692.758885   \n",
       "21686588  1076.410684         NaN  21.967565         NaN  1098.378249   \n",
       "\n",
       "          bulge_frac  bar_frac                     name  \n",
       "20902006         NaN  0.050000        disk_bar_sp_model  \n",
       "20902035    0.046663  0.066734     disk_bulge_bar_model  \n",
       "20902038    0.040000       NaN        disk_bulge_model2  \n",
       "20902055         NaN       NaN            disk_sp_model  \n",
       "20902067    0.020000       NaN      disk_bulge_sp_model  \n",
       "21686502         NaN       NaN               disk_model  \n",
       "21686529    0.009623  0.198075  disk_bulge_bar_sp_model  \n",
       "21686576         NaN  0.050000       disk_bar_sp_model2  \n",
       "21686588    0.020000       NaN         disk_bulge_model  "
      ]
     },
     "execution_count": 27,
     "metadata": {},
     "output_type": "execute_result"
    }
   ],
   "source": [
    "def l(c):\n",
    "    if type(c) == float and np.isnan(c):\n",
    "        return np.nan\n",
    "    return sersic_ltot(c['I'], c['Re'], c['q'], c.get('n', 1), c.get('c', 2))\n",
    "\n",
    "true_luminosities = pd.concat((\n",
    "    base_models.model.apply(pd.Series).drop(columns='spiral').applymap(l),\n",
    "    render_res.comps.apply(lambda a: a.get('spiral', np.zeros(1)).sum()).rename('spiral').replace(0, np.nan),\n",
    "), axis=1).astype(float)\n",
    "\n",
    "true_luminosities['total'] = true_luminosities.apply(lambda a: a.dropna().sum(), axis=1)\n",
    "true_luminosities.eval('bulge_frac = bulge / total', inplace=True)\n",
    "true_luminosities.eval('bar_frac = bar / total', inplace=True)\n",
    "pd.concat((true_luminosities, index_map.name), axis=1)"
   ]
  },
  {
   "cell_type": "code",
   "execution_count": 28,
   "metadata": {},
   "outputs": [],
   "source": [
    "recovered_luminosities = tuning_results[['r_band_luminosity', 'bulge_frac', 'bar_frac']]\n",
    "recovered_luminosities.index = index_map.reset_index().set_index('name')['index'].loc[tuning_results.index].values"
   ]
  },
  {
   "cell_type": "code",
   "execution_count": 29,
   "metadata": {},
   "outputs": [],
   "source": [
    "multipliers = fitting_metadata.multiplier.loc[index_map.index.values]"
   ]
  },
  {
   "cell_type": "code",
   "execution_count": 30,
   "metadata": {},
   "outputs": [
    {
     "data": {
      "text/plain": [
       "name          disk_sp_model\n",
       "subject_id         40216817\n",
       "Name: 20902055, dtype: object"
      ]
     },
     "execution_count": 30,
     "metadata": {},
     "output_type": "execute_result"
    }
   ],
   "source": [
    "index_map.loc[20902055]"
   ]
  },
  {
   "cell_type": "code",
   "execution_count": 31,
   "metadata": {},
   "outputs": [
    {
     "data": {
      "text/plain": [
       "20902006    0.004212\n",
       "20902035   -0.005598\n",
       "20902038   -0.001907\n",
       "20902055   -0.007056\n",
       "20902067    0.001724\n",
       "21686502    0.001671\n",
       "21686529    0.049346\n",
       "21686576    0.008909\n",
       "21686588    0.003569\n",
       "dtype: float64"
      ]
     },
     "execution_count": 31,
     "metadata": {},
     "output_type": "execute_result"
    }
   ],
   "source": [
    "(true_luminosities['total'] - recovered_luminosities['r_band_luminosity'])/true_luminosities['total']"
   ]
  },
  {
   "cell_type": "code",
   "execution_count": 47,
   "metadata": {},
   "outputs": [
    {
     "data": {
      "image/png": "[encoded data removed]",
      "text/plain": [
       "<Figure size 1512x720 with 8 Axes>"
      ]
     },
     "metadata": {
      "needs_background": "light"
     },
     "output_type": "display_data"
    }
   ],
   "source": [
    "f, ax = plt.subplots(ncols=4, nrows=2, figsize=(4*3 + 0.6, 3*2), dpi=120)\n",
    "\n",
    "[a.axis('off') for a in ax.ravel()];\n",
    "\n",
    "def format_axis(ax):\n",
    "    ax.axis('on')\n",
    "    lims = np.stack((ax.get_xlim(), ax.get_ylim()))\n",
    "    ax.add_line(plt.Line2D((-10000, 10000), (-10000, 10000), c='k', alpha=0.2))\n",
    "    ax.set_xlim(lims[:, 0].min(), lims[:, 1].max())\n",
    "    ax.set_ylim(lims[:, 0].min(), lims[:, 1].max())    \n",
    "    ax.set_xlabel('True value')\n",
    "    ax.set_ylabel('Fit value')\n",
    "\n",
    "    \n",
    "# (0,0) is position offset (x and y) (scaled?)\n",
    "plt.sca(ax[0, 0])\n",
    "plt.title('Position offset (arcseconds)')\n",
    "plt.scatter(\n",
    "    (fitting_df.loc['disk_fit', 'mux_fit'] - fitting_df.loc['disk', 'mux']) * 0.396,\n",
    "    (fitting_df.loc['disk_fit', 'muy_fit'] - fitting_df.loc['disk', 'muy']) * 0.396,\n",
    "    alpha=0.7\n",
    ")\n",
    "plt.scatter(\n",
    "    (fitting_df.loc['bulge_fit', 'mux_fit'] - fitting_df.loc['bulge', 'mux']) * 0.396,\n",
    "    (fitting_df.loc['bulge_fit', 'muy_fit'] - fitting_df.loc['bulge', 'muy']) * 0.396,\n",
    "    c='C1', marker='*', alpha=0.7\n",
    ")\n",
    "plt.scatter(\n",
    "    (fitting_df.loc['bar_fit', 'mux_fit'] - fitting_df.loc['bar', 'mux']) * 0.396,\n",
    "    (fitting_df.loc['bar_fit', 'muy_fit'] - fitting_df.loc['bar', 'muy']) * 0.396,\n",
    "    c='C2', marker='s', alpha=0.7\n",
    ")\n",
    "plt.axis('on')\n",
    "plt.xlim(-1, 1)\n",
    "plt.ylim(-1, 1)\n",
    "plt.xlabel('x-offset')\n",
    "plt.ylabel('y-offset')\n",
    "# (0,1) is size\n",
    "plt.sca(ax[0, 1])\n",
    "plt.title(r'Effective Radius ($R_e$, arcesonds)')\n",
    "plt.scatter(\n",
    "    fitting_df.loc['disk', 'Re'] * 0.396,\n",
    "    fitting_df.loc['disk_fit', 'Re_fit'] * 0.396,\n",
    ")\n",
    "plt.scatter(\n",
    "    fitting_df.loc['bulge', 'Re'] * 0.396,\n",
    "    fitting_df.loc['bulge_fit', 'Re_fit'] * 0.396,\n",
    "    c='C1', marker='*'\n",
    ")\n",
    "plt.scatter(\n",
    "    fitting_df.loc['bar', 'Re'] * 0.396,\n",
    "    fitting_df.loc['bar_fit', 'Re_fit'] * 0.396,\n",
    "    c='C2', marker='s'\n",
    ")\n",
    "format_axis(ax[0, 1])\n",
    "# (1,2) is ellipticity\n",
    "plt.sca(ax[0, 2])\n",
    "plt.title(r'Axis ratio ($q$)')\n",
    "plt.scatter(\n",
    "    fitting_df.loc['disk', 'q'],\n",
    "    fitting_df.loc['disk_fit', 'q_fit'],\n",
    ")\n",
    "plt.scatter(\n",
    "    fitting_df.loc['bulge', 'q'],\n",
    "    fitting_df.loc['bulge_fit', 'q_fit'],\n",
    "    c='C1', marker='*'\n",
    ")\n",
    "plt.scatter(\n",
    "    fitting_df.loc['bar', 'q'],\n",
    "    fitting_df.loc['bar_fit', 'q_fit'],\n",
    "    c='C2', marker='s'\n",
    ")\n",
    "format_axis(ax[0, 2])\n",
    "\n",
    "\n",
    "# (1,0) is sersic index\n",
    "plt.sca(ax[1, 0])\n",
    "plt.title(r'Sérsic index ($n$)')\n",
    "plt.scatter(\n",
    "    fitting_df.loc['bulge', 'n'],\n",
    "    fitting_df.loc['bulge_fit', 'n_fit'],\n",
    "    c='C1', marker='*'\n",
    ")\n",
    "plt.scatter(\n",
    "    fitting_df.loc['bar', 'n'],\n",
    "    fitting_df.loc['bar_fit', 'n_fit'],\n",
    "    c='C2', marker='s'\n",
    ")\n",
    "format_axis(ax[1, 0])\n",
    "\n",
    "# (1,1) is bar boxyness\n",
    "plt.sca(ax[1, 1])\n",
    "plt.title(r'Bar Boxyness ($c$)')\n",
    "plt.scatter(\n",
    "    fitting_df.loc['bar', 'c'],\n",
    "    fitting_df.loc['bar_fit', 'c_fit'],\n",
    "    c='C2', marker='s'\n",
    ")\n",
    "format_axis(ax[1, 1])\n",
    "\n",
    "# (1,2) is bulge / bar fraction\n",
    "plt.sca(ax[1, 2])\n",
    "plt.title('Bulge / Bar fraction')\n",
    "plt.scatter(true_luminosities['bulge_frac'].reindex(recovered_luminosities.index), recovered_luminosities['bulge_frac'], c='C1', marker='*')\n",
    "plt.scatter(true_luminosities['bar_frac'].reindex(recovered_luminosities.index), recovered_luminosities['bar_frac'], c='C2', marker='s')\n",
    "format_axis(ax[1, 2])\n",
    "\n",
    "\n",
    "# (1,3) is total luminosity\n",
    "plt.sca(ax[1, 3])\n",
    "plt.title('R-band Pogson\\nmagnitude')\n",
    "\n",
    "def to_mag(L):\n",
    "    return 22.5 - 2.5 * np.log(L)\n",
    "\n",
    "plt.scatter(\n",
    "    to_mag(true_luminosities['total'].reindex(recovered_luminosities.index) * multipliers),\n",
    "    to_mag(recovered_luminosities['r_band_luminosity'] * multipliers),\n",
    "    c='k'\n",
    ")\n",
    "format_axis(ax[1, 3])\n",
    "# plt.xscale('log')\n",
    "# plt.yscale('log')\n",
    "\n",
    "\n",
    "plt.sca(ax[0, 3])\n",
    "plt.scatter([], [], label='Disc')\n",
    "plt.scatter([], [], c='C1', marker='*', label='Bulge')\n",
    "plt.scatter([], [], c='C2', marker='s', label='Bar')\n",
    "plt.scatter([], [], c='k', marker='o', label='Galaxy')\n",
    "plt.legend(loc='center')\n",
    "\n",
    "plt.tight_layout()\n",
    "plt.savefig('method-paper-plots/calibration_parameter_recovery.pdf', bbox_inches='tight')\n",
    "plt.savefig('method-paper-plots/calibration_parameter_recovery.png', bbox_inches='tight')"
   ]
  },
  {
   "cell_type": "code",
   "execution_count": 44,
   "metadata": {},
   "outputs": [
    {
     "data": {
      "text/html": [
       "<div>\n",
       "<style scoped>\n",
       "    .dataframe tbody tr th:only-of-type {\n",
       "        vertical-align: middle;\n",
       "    }\n",
       "\n",
       "    .dataframe tbody tr th {\n",
       "        vertical-align: top;\n",
       "    }\n",
       "\n",
       "    .dataframe thead th {\n",
       "        text-align: right;\n",
       "    }\n",
       "</style>\n",
       "<table border=\"1\" class=\"dataframe\">\n",
       "  <thead>\n",
       "    <tr style=\"text-align: right;\">\n",
       "      <th></th>\n",
       "      <th>name</th>\n",
       "      <th>subject_id</th>\n",
       "      <th>luminosity_err</th>\n",
       "    </tr>\n",
       "  </thead>\n",
       "  <tbody>\n",
       "    <tr>\n",
       "      <th>21686529</th>\n",
       "      <td>disk_bulge_bar_sp_model</td>\n",
       "      <td>40216832</td>\n",
       "      <td>-0.049346</td>\n",
       "    </tr>\n",
       "    <tr>\n",
       "      <th>21686576</th>\n",
       "      <td>disk_bar_sp_model2</td>\n",
       "      <td>40216827</td>\n",
       "      <td>-0.008909</td>\n",
       "    </tr>\n",
       "    <tr>\n",
       "      <th>20902006</th>\n",
       "      <td>disk_bar_sp_model</td>\n",
       "      <td>40216824</td>\n",
       "      <td>-0.004212</td>\n",
       "    </tr>\n",
       "    <tr>\n",
       "      <th>21686588</th>\n",
       "      <td>disk_bulge_model</td>\n",
       "      <td>40216830</td>\n",
       "      <td>-0.003569</td>\n",
       "    </tr>\n",
       "    <tr>\n",
       "      <th>20902067</th>\n",
       "      <td>disk_bulge_sp_model</td>\n",
       "      <td>40216840</td>\n",
       "      <td>-0.001724</td>\n",
       "    </tr>\n",
       "    <tr>\n",
       "      <th>21686502</th>\n",
       "      <td>disk_model</td>\n",
       "      <td>40216837</td>\n",
       "      <td>-0.001671</td>\n",
       "    </tr>\n",
       "    <tr>\n",
       "      <th>20902038</th>\n",
       "      <td>disk_bulge_model2</td>\n",
       "      <td>40216821</td>\n",
       "      <td>0.001907</td>\n",
       "    </tr>\n",
       "    <tr>\n",
       "      <th>20902035</th>\n",
       "      <td>disk_bulge_bar_model</td>\n",
       "      <td>40216835</td>\n",
       "      <td>0.005598</td>\n",
       "    </tr>\n",
       "    <tr>\n",
       "      <th>20902055</th>\n",
       "      <td>disk_sp_model</td>\n",
       "      <td>40216817</td>\n",
       "      <td>0.007056</td>\n",
       "    </tr>\n",
       "  </tbody>\n",
       "</table>\n",
       "</div>"
      ],
      "text/plain": [
       "                             name  subject_id  luminosity_err\n",
       "21686529  disk_bulge_bar_sp_model    40216832       -0.049346\n",
       "21686576       disk_bar_sp_model2    40216827       -0.008909\n",
       "20902006        disk_bar_sp_model    40216824       -0.004212\n",
       "21686588         disk_bulge_model    40216830       -0.003569\n",
       "20902067      disk_bulge_sp_model    40216840       -0.001724\n",
       "21686502               disk_model    40216837       -0.001671\n",
       "20902038        disk_bulge_model2    40216821        0.001907\n",
       "20902035     disk_bulge_bar_model    40216835        0.005598\n",
       "20902055            disk_sp_model    40216817        0.007056"
      ]
     },
     "execution_count": 44,
     "metadata": {},
     "output_type": "execute_result"
    }
   ],
   "source": [
    "luminosity_err = pd.concat((index_map, ((\n",
    "    recovered_luminosities['r_band_luminosity'] * multipliers\n",
    "    - true_luminosities['total'].reindex(recovered_luminosities.index) * multipliers\n",
    ") / (true_luminosities['total'].reindex(recovered_luminosities.index) * multipliers)).sort_values().rename('luminosity_err')), axis=1)\n",
    "luminosity_err.sort_values('luminosity_err')"
   ]
  },
  {
   "cell_type": "markdown",
   "metadata": {},
   "source": [
    "## Spiral pitch angle recovery"
   ]
  },
  {
   "cell_type": "code",
   "execution_count": 34,
   "metadata": {
    "collapsed": false,
    "inputHidden": false,
    "jupyter": {
     "outputs_hidden": false
    },
    "outputHidden": false
   },
   "outputs": [
    {
     "data": {
      "text/html": [
       "<div>\n",
       "<style scoped>\n",
       "    .dataframe tbody tr th:only-of-type {\n",
       "        vertical-align: middle;\n",
       "    }\n",
       "\n",
       "    .dataframe tbody tr th {\n",
       "        vertical-align: top;\n",
       "    }\n",
       "\n",
       "    .dataframe thead tr th {\n",
       "        text-align: left;\n",
       "    }\n",
       "\n",
       "    .dataframe thead tr:last-of-type th {\n",
       "        text-align: right;\n",
       "    }\n",
       "</style>\n",
       "<table border=\"1\" class=\"dataframe\">\n",
       "  <thead>\n",
       "    <tr>\n",
       "      <th></th>\n",
       "      <th colspan=\"3\" halign=\"left\">spiral_agg</th>\n",
       "    </tr>\n",
       "    <tr>\n",
       "      <th></th>\n",
       "      <th>phi.0</th>\n",
       "      <th>phi.1</th>\n",
       "      <th>phi.2</th>\n",
       "    </tr>\n",
       "    <tr>\n",
       "      <th>name</th>\n",
       "      <th></th>\n",
       "      <th></th>\n",
       "      <th></th>\n",
       "    </tr>\n",
       "  </thead>\n",
       "  <tbody>\n",
       "    <tr>\n",
       "      <th>disk_bar_sp_model</th>\n",
       "      <td>-9.739853</td>\n",
       "      <td>-8.938560</td>\n",
       "      <td>NaN</td>\n",
       "    </tr>\n",
       "    <tr>\n",
       "      <th>disk_bulge_bar_model</th>\n",
       "      <td>NaN</td>\n",
       "      <td>NaN</td>\n",
       "      <td>NaN</td>\n",
       "    </tr>\n",
       "    <tr>\n",
       "      <th>disk_bulge_model2</th>\n",
       "      <td>NaN</td>\n",
       "      <td>NaN</td>\n",
       "      <td>NaN</td>\n",
       "    </tr>\n",
       "    <tr>\n",
       "      <th>disk_sp_model</th>\n",
       "      <td>-28.283550</td>\n",
       "      <td>-25.101069</td>\n",
       "      <td>-14.936064</td>\n",
       "    </tr>\n",
       "    <tr>\n",
       "      <th>disk_bulge_sp_model</th>\n",
       "      <td>12.608113</td>\n",
       "      <td>13.633626</td>\n",
       "      <td>NaN</td>\n",
       "    </tr>\n",
       "    <tr>\n",
       "      <th>disk_model</th>\n",
       "      <td>NaN</td>\n",
       "      <td>NaN</td>\n",
       "      <td>NaN</td>\n",
       "    </tr>\n",
       "    <tr>\n",
       "      <th>disk_bulge_bar_sp_model</th>\n",
       "      <td>35.264582</td>\n",
       "      <td>19.618960</td>\n",
       "      <td>NaN</td>\n",
       "    </tr>\n",
       "    <tr>\n",
       "      <th>disk_bar_sp_model2</th>\n",
       "      <td>25.001978</td>\n",
       "      <td>21.397447</td>\n",
       "      <td>NaN</td>\n",
       "    </tr>\n",
       "    <tr>\n",
       "      <th>disk_bulge_model</th>\n",
       "      <td>NaN</td>\n",
       "      <td>NaN</td>\n",
       "      <td>NaN</td>\n",
       "    </tr>\n",
       "  </tbody>\n",
       "</table>\n",
       "</div>"
      ],
      "text/plain": [
       "                        spiral_agg                      \n",
       "                             phi.0      phi.1      phi.2\n",
       "name                                                    \n",
       "disk_bar_sp_model        -9.739853  -8.938560        NaN\n",
       "disk_bulge_bar_model           NaN        NaN        NaN\n",
       "disk_bulge_model2              NaN        NaN        NaN\n",
       "disk_sp_model           -28.283550 -25.101069 -14.936064\n",
       "disk_bulge_sp_model      12.608113  13.633626        NaN\n",
       "disk_model                     NaN        NaN        NaN\n",
       "disk_bulge_bar_sp_model  35.264582  19.618960        NaN\n",
       "disk_bar_sp_model2       25.001978  21.397447        NaN\n",
       "disk_bulge_model               NaN        NaN        NaN"
      ]
     },
     "execution_count": 34,
     "metadata": {},
     "output_type": "execute_result"
    }
   ],
   "source": [
    "agg_pitch_angles = agg_results.apply(lambda a: pd.Series([b.pa * b.chirality for b in a.spiral_arms], dtype=float))\n",
    "agg_pitch_angles.index = index_map.name[agg_pitch_angles.index]\n",
    "agg_pitch_angles.columns = pd.MultiIndex.from_product([['spiral_agg'], [f'phi.{i}' for i in agg_pitch_angles.columns]])\n",
    "agg_pitch_angles"
   ]
  },
  {
   "cell_type": "code",
   "execution_count": 35,
   "metadata": {
    "collapsed": false,
    "inputHidden": false,
    "jupyter": {
     "outputs_hidden": false
    },
    "outputHidden": false
   },
   "outputs": [],
   "source": [
    "spiral_df = pd.concat((\n",
    "    fitting_df.loc[[('spiral', f'phi.{i}') for i in range(3)]],\n",
    "    fitting_df.loc[[('spiral_fit', f'phi.{i}_fit') for i in range(3)]],\n",
    "    agg_pitch_angles.T\n",
    "), axis=0)\n",
    "\n",
    "agg_pa_err = pd.Series([], dtype=object)\n",
    "fit_pa_err = pd.Series([], dtype=object)\n",
    "for model in spiral_df.columns:\n",
    "    base_spirals = spiral_df[model].xs('spiral').reset_index(drop=True).rename('phi_base')\n",
    "    agg_spirals = spiral_df[model].xs('spiral_agg').reset_index(drop=True).rename('phi_agg')\n",
    "    fit_spirals = spiral_df[model].xs('spiral_fit').reset_index(drop=True).rename('phi_fit')\n",
    "    agg_idx = pd.MultiIndex.from_product([base_spirals.index, agg_spirals.index], names=['base', 'agg'])\n",
    "    agg_pairs = pd.concat([\n",
    "        base_spirals.reindex(agg_idx, level='base'),\n",
    "        agg_spirals.reindex(agg_idx, level='agg')\n",
    "    ], axis=1)\n",
    "    fit_idx = pd.MultiIndex.from_product([base_spirals.index, fit_spirals.index], names=['base', 'fit'])\n",
    "    fit_pairs = pd.concat([\n",
    "        base_spirals.reindex(fit_idx, level='base'),\n",
    "        fit_spirals.reindex(fit_idx, level='fit')\n",
    "    ], axis=1)\n",
    "    agg_pa_err.loc[model] = (agg_pairs.phi_base - agg_pairs.phi_agg).abs().dropna().min(level=0)    \n",
    "    fit_pa_err.loc[model] = (fit_pairs.phi_base - fit_pairs.phi_fit).abs().dropna().min(level=0)"
   ]
  },
  {
   "cell_type": "code",
   "execution_count": 36,
   "metadata": {
    "collapsed": false,
    "inputHidden": false,
    "jupyter": {
     "outputs_hidden": false
    },
    "outputHidden": false
   },
   "outputs": [
    {
     "data": {
      "text/plain": [
       "                         base\n",
       "disk_bar_sp_model        1       0.104838\n",
       "disk_bulge_bar_sp_model  0       0.381040\n",
       "disk_bar_sp_model2       0       1.397447\n",
       "disk_bulge_bar_sp_model  1       1.536476\n",
       "disk_sp_model            2       3.545086\n",
       "                         0       3.598100\n",
       "disk_bar_sp_model2       1       3.781856\n",
       "disk_sp_model            1       5.025559\n",
       "disk_bar_sp_model        0       7.315314\n",
       "disk_bulge_bar_sp_model  2       7.928868\n",
       "disk_bulge_sp_model      0       8.532579\n",
       "                         1       8.629923\n",
       "Name: aggregate, dtype: float64"
      ]
     },
     "metadata": {},
     "output_type": "display_data"
    },
    {
     "data": {
      "text/plain": [
       "                         base\n",
       "disk_bulge_sp_model      0       0.032117\n",
       "disk_sp_model            1       0.043185\n",
       "disk_bulge_sp_model      1       0.065228\n",
       "disk_sp_model            2       0.173114\n",
       "disk_bar_sp_model2       0       0.183279\n",
       "                         1       0.209249\n",
       "disk_bar_sp_model        1       0.310947\n",
       "disk_sp_model            0       0.359860\n",
       "disk_bar_sp_model        0       0.404195\n",
       "disk_bulge_bar_sp_model  2       2.909767\n",
       "                         1       5.316293\n",
       "                         0       5.400141\n",
       "Name: fit, dtype: float64"
      ]
     },
     "metadata": {},
     "output_type": "display_data"
    }
   ],
   "source": [
    "display(agg_pa_err.apply(pd.Series).T.unstack().dropna().sort_values().rename('aggregate'))\n",
    "display(fit_pa_err.apply(pd.Series).T.unstack().dropna().sort_values().rename('fit'))"
   ]
  }
 ],
 "metadata": {
  "kernel_info": {
   "name": "python3"
  },
  "kernelspec": {
   "display_name": "Python 3",
   "language": "python",
   "name": "python3"
  },
  "language_info": {
   "codemirror_mode": {
    "name": "ipython",
    "version": 3
   },
   "file_extension": ".py",
   "mimetype": "text/x-python",
   "name": "python",
   "nbconvert_exporter": "python",
   "pygments_lexer": "ipython3",
   "version": "3.6.7"
  },
  "nteract": {
   "version": "0.15.0"
  }
 },
 "nbformat": 4,
 "nbformat_minor": 4
}
