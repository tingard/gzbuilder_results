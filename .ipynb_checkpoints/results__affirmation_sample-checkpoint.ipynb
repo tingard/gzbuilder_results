{
  "cells": [
    {
      "cell_type": "markdown",
      "source": [
        "# Examination of Results from the Calibration / Affirmation set"
      ],
      "metadata": {}
    },
    {
      "cell_type": "code",
      "source": [
        "%load_ext autoreload\n",
        "%autoreload 2"
      ],
      "outputs": [],
      "execution_count": 1,
      "metadata": {
        "collapsed": false,
        "outputHidden": false,
        "inputHidden": false
      }
    },
    {
      "cell_type": "code",
      "source": [
        "from datetime import datetime\n",
        "import pandas as pd\n",
        "import gzbuilder_analysis.parsing as pg\n",
        "import gzbuilder_analysis.aggregation as ag\n",
        "from tqdm import tqdm\n",
        "import json\n",
        "from PIL import Image\n",
        "from IPython.display import Markdown"
      ],
      "outputs": [],
      "execution_count": 2,
      "metadata": {
        "collapsed": false,
        "outputHidden": false,
        "inputHidden": false
      }
    },
    {
      "cell_type": "code",
      "source": [
        "affirmation_set_id = 80112"
      ],
      "outputs": [],
      "execution_count": 3,
      "metadata": {
        "collapsed": false,
        "outputHidden": false,
        "inputHidden": false
      }
    },
    {
      "cell_type": "code",
      "source": [
        "classifications = pd.read_csv('lib/galaxy-builder-classifications.csv', index_col=0)\n",
        "subjects = pd.read_csv('lib/galaxy-builder-subjects.csv', index_col=0)\n",
        "fitting_metadata = pd.read_pickle('lib/fitting_metadata.pkl')"
      ],
      "outputs": [],
      "execution_count": 4,
      "metadata": {
        "collapsed": false,
        "outputHidden": false,
        "inputHidden": false
      }
    },
    {
      "cell_type": "code",
      "source": [
        "metadata = subjects.metadata.apply(json.loads).apply(pd.Series)"
      ],
      "outputs": [],
      "execution_count": 5,
      "metadata": {
        "collapsed": false,
        "outputHidden": false,
        "inputHidden": false
      }
    },
    {
      "cell_type": "markdown",
      "source": [
        "Read in the required files:"
      ],
      "metadata": {}
    },
    {
      "cell_type": "code",
      "source": [
        "base_models = pd.read_pickle(\n",
        "    'affirmation_subjects_results/base_models.pkl.gz'\n",
        ")\n",
        "agg_results = pd.read_pickle(\n",
        "    'affirmation_subjects_results/agg_results.pkl.gz'\n",
        ")\n",
        "diffs = pd.read_pickle(\n",
        "    'affirmation_subjects_results/affirmation_metadata.pkl.gz'\n",
        ")"
      ],
      "outputs": [],
      "execution_count": 6,
      "metadata": {
        "collapsed": false,
        "outputHidden": false,
        "inputHidden": false
      }
    },
    {
      "cell_type": "markdown",
      "source": [
        "Or recalculate them by uncommenting here"
      ],
      "metadata": {}
    },
    {
      "cell_type": "code",
      "source": [
        "# base_models = {}\n",
        "# for f in [i for i in os.listdir('affirmation_set_models') if re.match(r'.*?\\.pkl', i)]:\n",
        "#     dump = pd.read_pickle(os.path.join('affirmation_set_models', f))\n",
        "#     base_models[dump['idx']] = dump\n",
        "# base_models = pd.DataFrame(base_models).T.drop(columns='idx')"
      ],
      "outputs": [],
      "execution_count": 7,
      "metadata": {
        "collapsed": false,
        "outputHidden": false,
        "inputHidden": false
      }
    },
    {
      "cell_type": "code",
      "source": [
        "# base_models"
      ],
      "outputs": [],
      "execution_count": 8,
      "metadata": {
        "collapsed": false,
        "outputHidden": false,
        "inputHidden": false
      }
    },
    {
      "cell_type": "code",
      "source": [
        "index_map = pd.DataFrame(dict(name={k: base_models.name[k] for k in base_models.index}), columns=('name', 'subject_id')).sort_index()"
      ],
      "outputs": [],
      "execution_count": 9,
      "metadata": {
        "collapsed": false,
        "outputHidden": false,
        "inputHidden": false
      }
    },
    {
      "cell_type": "code",
      "source": [
        "affirmation_subjects = subjects.query('subject_set_id == @affirmation_set_id').index.values"
      ],
      "outputs": [],
      "execution_count": 10,
      "metadata": {
        "collapsed": false,
        "outputHidden": false,
        "inputHidden": false
      }
    },
    {
      "cell_type": "markdown",
      "source": [
        "If we need to update any clustering parameters, do it here:"
      ],
      "metadata": {}
    },
    {
      "cell_type": "code",
      "source": [
        "# from gzbuilder_analysis.config import COMPONENT_CLUSTERING_PARAMS\n",
        "# from copy import deepcopy\n",
        "\n",
        "# clustering_params = deepcopy(COMPONENT_CLUSTERING_PARAMS)"
      ],
      "outputs": [],
      "execution_count": 11,
      "metadata": {
        "collapsed": false,
        "outputHidden": false,
        "inputHidden": false
      }
    },
    {
      "cell_type": "code",
      "source": [
        "# display(clustering_params)"
      ],
      "outputs": [],
      "execution_count": 12,
      "metadata": {
        "collapsed": false,
        "outputHidden": false,
        "inputHidden": false
      }
    },
    {
      "cell_type": "code",
      "source": [
        "# agg_results = pd.Series([], dtype=object)\n",
        "# diffs = pd.Series([], dtype=object)\n",
        "# with tqdm(affirmation_subjects) as bar:\n",
        "#     for subject_id in bar:\n",
        "#         base_subject_id = int(metadata.loc[subject_id]['#subject_reference'])\n",
        "#         im = np.array(Image.open('lib/subject_data/{}/image.png'.format(base_subject_id)))[::-1]\n",
        "#         fm = fitting_metadata.loc[base_subject_id]\n",
        "\n",
        "#         base_model = base_models.loc[base_subject_id]\n",
        "#         with open('affirmation_subjects/difference_{}.json'.format(base_model['name'])) as f:\n",
        "#             diff = json.load(f)\n",
        "#         target = np.array(diff['imageData'])\n",
        "#         # take the first 30 classifications recieved for this galaxy\n",
        "#         c = (classifications\n",
        "#             .query('subject_ids == {}'.format(subject_id))\n",
        "#             .sort_values(by='created_at')\n",
        "#             .head(30)\n",
        "#         )\n",
        "#         zoo_models = c.apply(\n",
        "#             pg.parse_classification,\n",
        "#             axis=1,\n",
        "#             image_size=np.array(im.shape),\n",
        "#             size_diff=diff['width'] / diff['imageWidth'],\n",
        "#             ignore_scale=True  # ignore scale slider when aggregating\n",
        "#         )\n",
        "#         scaled_models = zoo_models.apply(\n",
        "#             pg.scale_model,\n",
        "#             args=(diff['width'] / diff['imageWidth'],),\n",
        "#         )\n",
        "#         # we don't worry about reprojecting or rotating models here as we know \n",
        "#         # things are correct\n",
        "#         sanitized_models = scaled_models.apply(pg.sanitize_model)\n",
        "#         aggregation_result = ag.AggregationResult(sanitized_models, target, clustering_params=clustering_params)\n",
        "        \n",
        "#         mask = np.array(diff['mask'])\n",
        "#         diffs.loc[base_subject_id] = pd.Series(dict(\n",
        "#             galaxy_data=np.ma.masked_array(np.array(diff['imageData']), mask),\n",
        "#             sigma_image=np.ma.masked_array(fm['sigma_image'], mask),\n",
        "#             psf=fm['psf'],\n",
        "#             multiplier=1,\n",
        "#         ), dtype=object)\n",
        "#         index_map.loc[base_subject_id, 'subject_id'] = subject_id\n",
        "# #         agg_results.loc[base_subject_id] = aggregation_result"
      ],
      "outputs": [],
      "execution_count": 13,
      "metadata": {
        "collapsed": false,
        "outputHidden": false,
        "inputHidden": false
      }
    },
    {
      "cell_type": "code",
      "source": [
        "# base_models.to_pickle('affirmation_subjects_results/base_models.pkl.gz')\n",
        "# agg_results.to_pickle('affirmation_subjects_results/agg_results.pkl.gz')\n",
        "# diffs.to_pickle('affirmation_subjects_results/affirmation_metadata.pkl.gz')"
      ],
      "outputs": [],
      "execution_count": 14,
      "metadata": {
        "collapsed": false,
        "outputHidden": false,
        "inputHidden": false
      }
    },
    {
      "cell_type": "markdown",
      "source": [
        "Do people know when to draw components?"
      ],
      "metadata": {}
    },
    {
      "cell_type": "code",
      "source": [
        "n_comp_cls = pd.DataFrame({\n",
        "    k: agg_results.apply(lambda a: a.input_models.apply(lambda b: bool(b[k])).sum())\n",
        "    for k in ('disk', 'bulge', 'bar')\n",
        "})\n",
        "n_comp_cls.index = index_map.name[n_comp_cls.index]\n",
        "n_comp_cls.sort_values(by='bar').astype(str) + ' / 30'"
      ],
      "outputs": [
        {
          "output_type": "execute_result",
          "execution_count": 15,
          "data": {
            "text/plain": [
              "                            disk    bulge      bar\n",
              "name                                              \n",
              "disk_model               28 / 30  12 / 30   4 / 30\n",
              "disk_sp_model            27 / 30  15 / 30   5 / 30\n",
              "disk_bulge_model2        28 / 30  23 / 30   5 / 30\n",
              "disk_bulge_model         24 / 30  19 / 30   5 / 30\n",
              "disk_bulge_sp_model      28 / 30  20 / 30   7 / 30\n",
              "disk_bulge_bar_model     27 / 30  20 / 30  13 / 30\n",
              "disk_bar_sp_model2       30 / 30  24 / 30  17 / 30\n",
              "disk_bulge_bar_sp_model  27 / 30  23 / 30  20 / 30\n",
              "disk_bar_sp_model        28 / 30  19 / 30  22 / 30"
            ],
            "text/html": [
              "<div>\n",
              "<style scoped>\n",
              "    .dataframe tbody tr th:only-of-type {\n",
              "        vertical-align: middle;\n",
              "    }\n",
              "\n",
              "    .dataframe tbody tr th {\n",
              "        vertical-align: top;\n",
              "    }\n",
              "\n",
              "    .dataframe thead th {\n",
              "        text-align: right;\n",
              "    }\n",
              "</style>\n",
              "<table border=\"1\" class=\"dataframe\">\n",
              "  <thead>\n",
              "    <tr style=\"text-align: right;\">\n",
              "      <th></th>\n",
              "      <th>disk</th>\n",
              "      <th>bulge</th>\n",
              "      <th>bar</th>\n",
              "    </tr>\n",
              "    <tr>\n",
              "      <th>name</th>\n",
              "      <th></th>\n",
              "      <th></th>\n",
              "      <th></th>\n",
              "    </tr>\n",
              "  </thead>\n",
              "  <tbody>\n",
              "    <tr>\n",
              "      <th>disk_model</th>\n",
              "      <td>28 / 30</td>\n",
              "      <td>12 / 30</td>\n",
              "      <td>4 / 30</td>\n",
              "    </tr>\n",
              "    <tr>\n",
              "      <th>disk_sp_model</th>\n",
              "      <td>27 / 30</td>\n",
              "      <td>15 / 30</td>\n",
              "      <td>5 / 30</td>\n",
              "    </tr>\n",
              "    <tr>\n",
              "      <th>disk_bulge_model2</th>\n",
              "      <td>28 / 30</td>\n",
              "      <td>23 / 30</td>\n",
              "      <td>5 / 30</td>\n",
              "    </tr>\n",
              "    <tr>\n",
              "      <th>disk_bulge_model</th>\n",
              "      <td>24 / 30</td>\n",
              "      <td>19 / 30</td>\n",
              "      <td>5 / 30</td>\n",
              "    </tr>\n",
              "    <tr>\n",
              "      <th>disk_bulge_sp_model</th>\n",
              "      <td>28 / 30</td>\n",
              "      <td>20 / 30</td>\n",
              "      <td>7 / 30</td>\n",
              "    </tr>\n",
              "    <tr>\n",
              "      <th>disk_bulge_bar_model</th>\n",
              "      <td>27 / 30</td>\n",
              "      <td>20 / 30</td>\n",
              "      <td>13 / 30</td>\n",
              "    </tr>\n",
              "    <tr>\n",
              "      <th>disk_bar_sp_model2</th>\n",
              "      <td>30 / 30</td>\n",
              "      <td>24 / 30</td>\n",
              "      <td>17 / 30</td>\n",
              "    </tr>\n",
              "    <tr>\n",
              "      <th>disk_bulge_bar_sp_model</th>\n",
              "      <td>27 / 30</td>\n",
              "      <td>23 / 30</td>\n",
              "      <td>20 / 30</td>\n",
              "    </tr>\n",
              "    <tr>\n",
              "      <th>disk_bar_sp_model</th>\n",
              "      <td>28 / 30</td>\n",
              "      <td>19 / 30</td>\n",
              "      <td>22 / 30</td>\n",
              "    </tr>\n",
              "  </tbody>\n",
              "</table>\n",
              "</div>"
            ]
          },
          "metadata": {}
        }
      ],
      "execution_count": 15,
      "metadata": {
        "collapsed": false,
        "outputHidden": false,
        "inputHidden": false
      }
    },
    {
      "cell_type": "code",
      "source": [
        "base_params = base_models['model'].apply(\n",
        "    lambda a: pd.Series(a).apply(pd.Series).T.unstack().dropna()\n",
        ").sort_index()\n",
        "\n",
        "recovered_params = agg_results.apply(lambda a: a.params).sort_index()"
      ],
      "outputs": [],
      "execution_count": 16,
      "metadata": {
        "collapsed": false,
        "outputHidden": false,
        "inputHidden": false
      }
    },
    {
      "cell_type": "code",
      "source": [
        "base_has_comp = pd.concat([\n",
        "    *[base_params[k]['I'].notna().rename(k) for k in ('disk', 'bulge', 'bar')],\n",
        "    *[base_params['spiral'][f'I.{i}'].notna().rename(f'spiral.{i}') for i in (int(i.group(1)) for i in (re.match(r'I.([0-9]+)', r) for r in base_params['spiral'].columns) if i)]\n",
        "], axis=1)\n",
        "\n",
        "__empty_df = pd.DataFrame([], dtype=float)\n",
        "agg_has_comp = pd.concat([\n",
        "    *[recovered_params[k]['I'].notna().rename(k) for k in ('disk', 'bulge', 'bar')],\n",
        "    *[\n",
        "        recovered_params['spiral']['I.{}'.format(int(i.group(1)))].notna().rename('spiral.{}'.format(int(i.group(1))))\n",
        "        for i in (\n",
        "            re.match(r'I.([0-9]+)', r)\n",
        "            for r in recovered_params.get('spiral', __empty_df).columns\n",
        "        )\n",
        "        if i is not None\n",
        "    ]\n",
        "], axis=1)"
      ],
      "outputs": [],
      "execution_count": 17,
      "metadata": {
        "collapsed": false,
        "outputHidden": false,
        "inputHidden": false
      }
    },
    {
      "cell_type": "code",
      "source": [
        "base_has_comp2 = base_has_comp.copy()\n",
        "base_has_comp2.index = index_map.name[base_has_comp2.index]\n",
        "agg_has_comp2 = agg_has_comp.copy()\n",
        "agg_has_comp2.index = index_map.name[agg_has_comp2.index]\n",
        "\n",
        "def color_false_red(val):\n",
        "    color = 'green' if val == '✔️' else 'red'\n",
        "    return 'color: %s' % color\n",
        "\n",
        "display(Markdown('### Did we recover the component?:'))\n",
        "df = (base_has_comp2.astype(int) - agg_has_comp2.astype(int)).astype(object).fillna(0)\n",
        "df[~(base_has_comp2 | agg_has_comp2)] = np.nan\n",
        "df.index = pd.MultiIndex.from_arrays([index_map.name, index_map.index.rename('base_subject_id')])\n",
        "df.replace(np.nan, '').replace(1, 'Type 2').replace(-1, 'Type 1').replace(0, '✔️').style.applymap(color_false_red)"
      ],
      "outputs": [
        {
          "output_type": "display_data",
          "data": {
            "text/plain": [
              "<IPython.core.display.Markdown object>"
            ],
            "text/markdown": [
              "### Did we recover the component?:"
            ]
          },
          "metadata": {}
        },
        {
          "output_type": "execute_result",
          "execution_count": 18,
          "data": {
            "text/plain": [
              "<pandas.io.formats.style.Styler at 0x1a25f3c8d0>"
            ],
            "text/html": [
              "<style  type=\"text/css\" >\n",
              "    #T_b38847c8_57ca_11ea_beb8_c4b301d09f4brow0_col0 {\n",
              "            color:  green;\n",
              "        }    #T_b38847c8_57ca_11ea_beb8_c4b301d09f4brow0_col1 {\n",
              "            color:  red;\n",
              "        }    #T_b38847c8_57ca_11ea_beb8_c4b301d09f4brow0_col2 {\n",
              "            color:  green;\n",
              "        }    #T_b38847c8_57ca_11ea_beb8_c4b301d09f4brow0_col3 {\n",
              "            color:  green;\n",
              "        }    #T_b38847c8_57ca_11ea_beb8_c4b301d09f4brow0_col4 {\n",
              "            color:  green;\n",
              "        }    #T_b38847c8_57ca_11ea_beb8_c4b301d09f4brow0_col5 {\n",
              "            color:  red;\n",
              "        }    #T_b38847c8_57ca_11ea_beb8_c4b301d09f4brow1_col0 {\n",
              "            color:  green;\n",
              "        }    #T_b38847c8_57ca_11ea_beb8_c4b301d09f4brow1_col1 {\n",
              "            color:  green;\n",
              "        }    #T_b38847c8_57ca_11ea_beb8_c4b301d09f4brow1_col2 {\n",
              "            color:  red;\n",
              "        }    #T_b38847c8_57ca_11ea_beb8_c4b301d09f4brow1_col3 {\n",
              "            color:  red;\n",
              "        }    #T_b38847c8_57ca_11ea_beb8_c4b301d09f4brow1_col4 {\n",
              "            color:  red;\n",
              "        }    #T_b38847c8_57ca_11ea_beb8_c4b301d09f4brow1_col5 {\n",
              "            color:  red;\n",
              "        }    #T_b38847c8_57ca_11ea_beb8_c4b301d09f4brow2_col0 {\n",
              "            color:  green;\n",
              "        }    #T_b38847c8_57ca_11ea_beb8_c4b301d09f4brow2_col1 {\n",
              "            color:  green;\n",
              "        }    #T_b38847c8_57ca_11ea_beb8_c4b301d09f4brow2_col2 {\n",
              "            color:  red;\n",
              "        }    #T_b38847c8_57ca_11ea_beb8_c4b301d09f4brow2_col3 {\n",
              "            color:  red;\n",
              "        }    #T_b38847c8_57ca_11ea_beb8_c4b301d09f4brow2_col4 {\n",
              "            color:  red;\n",
              "        }    #T_b38847c8_57ca_11ea_beb8_c4b301d09f4brow2_col5 {\n",
              "            color:  red;\n",
              "        }    #T_b38847c8_57ca_11ea_beb8_c4b301d09f4brow3_col0 {\n",
              "            color:  green;\n",
              "        }    #T_b38847c8_57ca_11ea_beb8_c4b301d09f4brow3_col1 {\n",
              "            color:  red;\n",
              "        }    #T_b38847c8_57ca_11ea_beb8_c4b301d09f4brow3_col2 {\n",
              "            color:  red;\n",
              "        }    #T_b38847c8_57ca_11ea_beb8_c4b301d09f4brow3_col3 {\n",
              "            color:  green;\n",
              "        }    #T_b38847c8_57ca_11ea_beb8_c4b301d09f4brow3_col4 {\n",
              "            color:  green;\n",
              "        }    #T_b38847c8_57ca_11ea_beb8_c4b301d09f4brow3_col5 {\n",
              "            color:  green;\n",
              "        }    #T_b38847c8_57ca_11ea_beb8_c4b301d09f4brow4_col0 {\n",
              "            color:  green;\n",
              "        }    #T_b38847c8_57ca_11ea_beb8_c4b301d09f4brow4_col1 {\n",
              "            color:  green;\n",
              "        }    #T_b38847c8_57ca_11ea_beb8_c4b301d09f4brow4_col2 {\n",
              "            color:  red;\n",
              "        }    #T_b38847c8_57ca_11ea_beb8_c4b301d09f4brow4_col3 {\n",
              "            color:  green;\n",
              "        }    #T_b38847c8_57ca_11ea_beb8_c4b301d09f4brow4_col4 {\n",
              "            color:  green;\n",
              "        }    #T_b38847c8_57ca_11ea_beb8_c4b301d09f4brow4_col5 {\n",
              "            color:  red;\n",
              "        }    #T_b38847c8_57ca_11ea_beb8_c4b301d09f4brow5_col0 {\n",
              "            color:  green;\n",
              "        }    #T_b38847c8_57ca_11ea_beb8_c4b301d09f4brow5_col1 {\n",
              "            color:  red;\n",
              "        }    #T_b38847c8_57ca_11ea_beb8_c4b301d09f4brow5_col2 {\n",
              "            color:  red;\n",
              "        }    #T_b38847c8_57ca_11ea_beb8_c4b301d09f4brow5_col3 {\n",
              "            color:  red;\n",
              "        }    #T_b38847c8_57ca_11ea_beb8_c4b301d09f4brow5_col4 {\n",
              "            color:  red;\n",
              "        }    #T_b38847c8_57ca_11ea_beb8_c4b301d09f4brow5_col5 {\n",
              "            color:  red;\n",
              "        }    #T_b38847c8_57ca_11ea_beb8_c4b301d09f4brow6_col0 {\n",
              "            color:  green;\n",
              "        }    #T_b38847c8_57ca_11ea_beb8_c4b301d09f4brow6_col1 {\n",
              "            color:  green;\n",
              "        }    #T_b38847c8_57ca_11ea_beb8_c4b301d09f4brow6_col2 {\n",
              "            color:  green;\n",
              "        }    #T_b38847c8_57ca_11ea_beb8_c4b301d09f4brow6_col3 {\n",
              "            color:  green;\n",
              "        }    #T_b38847c8_57ca_11ea_beb8_c4b301d09f4brow6_col4 {\n",
              "            color:  green;\n",
              "        }    #T_b38847c8_57ca_11ea_beb8_c4b301d09f4brow6_col5 {\n",
              "            color:  red;\n",
              "        }    #T_b38847c8_57ca_11ea_beb8_c4b301d09f4brow7_col0 {\n",
              "            color:  green;\n",
              "        }    #T_b38847c8_57ca_11ea_beb8_c4b301d09f4brow7_col1 {\n",
              "            color:  red;\n",
              "        }    #T_b38847c8_57ca_11ea_beb8_c4b301d09f4brow7_col2 {\n",
              "            color:  green;\n",
              "        }    #T_b38847c8_57ca_11ea_beb8_c4b301d09f4brow7_col3 {\n",
              "            color:  green;\n",
              "        }    #T_b38847c8_57ca_11ea_beb8_c4b301d09f4brow7_col4 {\n",
              "            color:  green;\n",
              "        }    #T_b38847c8_57ca_11ea_beb8_c4b301d09f4brow7_col5 {\n",
              "            color:  red;\n",
              "        }    #T_b38847c8_57ca_11ea_beb8_c4b301d09f4brow8_col0 {\n",
              "            color:  green;\n",
              "        }    #T_b38847c8_57ca_11ea_beb8_c4b301d09f4brow8_col1 {\n",
              "            color:  green;\n",
              "        }    #T_b38847c8_57ca_11ea_beb8_c4b301d09f4brow8_col2 {\n",
              "            color:  red;\n",
              "        }    #T_b38847c8_57ca_11ea_beb8_c4b301d09f4brow8_col3 {\n",
              "            color:  red;\n",
              "        }    #T_b38847c8_57ca_11ea_beb8_c4b301d09f4brow8_col4 {\n",
              "            color:  red;\n",
              "        }    #T_b38847c8_57ca_11ea_beb8_c4b301d09f4brow8_col5 {\n",
              "            color:  red;\n",
              "        }</style><table id=\"T_b38847c8_57ca_11ea_beb8_c4b301d09f4b\" ><thead>    <tr>        <th class=\"blank\" ></th>        <th class=\"blank level0\" ></th>        <th class=\"col_heading level0 col0\" >disk</th>        <th class=\"col_heading level0 col1\" >bulge</th>        <th class=\"col_heading level0 col2\" >bar</th>        <th class=\"col_heading level0 col3\" >spiral.0</th>        <th class=\"col_heading level0 col4\" >spiral.1</th>        <th class=\"col_heading level0 col5\" >spiral.2</th>    </tr>    <tr>        <th class=\"index_name level0\" >name</th>        <th class=\"index_name level1\" >base_subject_id</th>        <th class=\"blank\" ></th>        <th class=\"blank\" ></th>        <th class=\"blank\" ></th>        <th class=\"blank\" ></th>        <th class=\"blank\" ></th>        <th class=\"blank\" ></th>    </tr></thead><tbody>\n",
              "                <tr>\n",
              "                        <th id=\"T_b38847c8_57ca_11ea_beb8_c4b301d09f4blevel0_row0\" class=\"row_heading level0 row0\" >disk_bar_sp_model</th>\n",
              "                        <th id=\"T_b38847c8_57ca_11ea_beb8_c4b301d09f4blevel1_row0\" class=\"row_heading level1 row0\" >20902006</th>\n",
              "                        <td id=\"T_b38847c8_57ca_11ea_beb8_c4b301d09f4brow0_col0\" class=\"data row0 col0\" >✔️</td>\n",
              "                        <td id=\"T_b38847c8_57ca_11ea_beb8_c4b301d09f4brow0_col1\" class=\"data row0 col1\" >Type 1</td>\n",
              "                        <td id=\"T_b38847c8_57ca_11ea_beb8_c4b301d09f4brow0_col2\" class=\"data row0 col2\" >✔️</td>\n",
              "                        <td id=\"T_b38847c8_57ca_11ea_beb8_c4b301d09f4brow0_col3\" class=\"data row0 col3\" >✔️</td>\n",
              "                        <td id=\"T_b38847c8_57ca_11ea_beb8_c4b301d09f4brow0_col4\" class=\"data row0 col4\" >✔️</td>\n",
              "                        <td id=\"T_b38847c8_57ca_11ea_beb8_c4b301d09f4brow0_col5\" class=\"data row0 col5\" ></td>\n",
              "            </tr>\n",
              "            <tr>\n",
              "                        <th id=\"T_b38847c8_57ca_11ea_beb8_c4b301d09f4blevel0_row1\" class=\"row_heading level0 row1\" >disk_bulge_bar_model</th>\n",
              "                        <th id=\"T_b38847c8_57ca_11ea_beb8_c4b301d09f4blevel1_row1\" class=\"row_heading level1 row1\" >20902035</th>\n",
              "                        <td id=\"T_b38847c8_57ca_11ea_beb8_c4b301d09f4brow1_col0\" class=\"data row1 col0\" >✔️</td>\n",
              "                        <td id=\"T_b38847c8_57ca_11ea_beb8_c4b301d09f4brow1_col1\" class=\"data row1 col1\" >✔️</td>\n",
              "                        <td id=\"T_b38847c8_57ca_11ea_beb8_c4b301d09f4brow1_col2\" class=\"data row1 col2\" >Type 2</td>\n",
              "                        <td id=\"T_b38847c8_57ca_11ea_beb8_c4b301d09f4brow1_col3\" class=\"data row1 col3\" ></td>\n",
              "                        <td id=\"T_b38847c8_57ca_11ea_beb8_c4b301d09f4brow1_col4\" class=\"data row1 col4\" ></td>\n",
              "                        <td id=\"T_b38847c8_57ca_11ea_beb8_c4b301d09f4brow1_col5\" class=\"data row1 col5\" ></td>\n",
              "            </tr>\n",
              "            <tr>\n",
              "                        <th id=\"T_b38847c8_57ca_11ea_beb8_c4b301d09f4blevel0_row2\" class=\"row_heading level0 row2\" >disk_bulge_model2</th>\n",
              "                        <th id=\"T_b38847c8_57ca_11ea_beb8_c4b301d09f4blevel1_row2\" class=\"row_heading level1 row2\" >20902038</th>\n",
              "                        <td id=\"T_b38847c8_57ca_11ea_beb8_c4b301d09f4brow2_col0\" class=\"data row2 col0\" >✔️</td>\n",
              "                        <td id=\"T_b38847c8_57ca_11ea_beb8_c4b301d09f4brow2_col1\" class=\"data row2 col1\" >✔️</td>\n",
              "                        <td id=\"T_b38847c8_57ca_11ea_beb8_c4b301d09f4brow2_col2\" class=\"data row2 col2\" ></td>\n",
              "                        <td id=\"T_b38847c8_57ca_11ea_beb8_c4b301d09f4brow2_col3\" class=\"data row2 col3\" ></td>\n",
              "                        <td id=\"T_b38847c8_57ca_11ea_beb8_c4b301d09f4brow2_col4\" class=\"data row2 col4\" ></td>\n",
              "                        <td id=\"T_b38847c8_57ca_11ea_beb8_c4b301d09f4brow2_col5\" class=\"data row2 col5\" ></td>\n",
              "            </tr>\n",
              "            <tr>\n",
              "                        <th id=\"T_b38847c8_57ca_11ea_beb8_c4b301d09f4blevel0_row3\" class=\"row_heading level0 row3\" >disk_sp_model</th>\n",
              "                        <th id=\"T_b38847c8_57ca_11ea_beb8_c4b301d09f4blevel1_row3\" class=\"row_heading level1 row3\" >20902055</th>\n",
              "                        <td id=\"T_b38847c8_57ca_11ea_beb8_c4b301d09f4brow3_col0\" class=\"data row3 col0\" >✔️</td>\n",
              "                        <td id=\"T_b38847c8_57ca_11ea_beb8_c4b301d09f4brow3_col1\" class=\"data row3 col1\" ></td>\n",
              "                        <td id=\"T_b38847c8_57ca_11ea_beb8_c4b301d09f4brow3_col2\" class=\"data row3 col2\" ></td>\n",
              "                        <td id=\"T_b38847c8_57ca_11ea_beb8_c4b301d09f4brow3_col3\" class=\"data row3 col3\" >✔️</td>\n",
              "                        <td id=\"T_b38847c8_57ca_11ea_beb8_c4b301d09f4brow3_col4\" class=\"data row3 col4\" >✔️</td>\n",
              "                        <td id=\"T_b38847c8_57ca_11ea_beb8_c4b301d09f4brow3_col5\" class=\"data row3 col5\" >✔️</td>\n",
              "            </tr>\n",
              "            <tr>\n",
              "                        <th id=\"T_b38847c8_57ca_11ea_beb8_c4b301d09f4blevel0_row4\" class=\"row_heading level0 row4\" >disk_bulge_sp_model</th>\n",
              "                        <th id=\"T_b38847c8_57ca_11ea_beb8_c4b301d09f4blevel1_row4\" class=\"row_heading level1 row4\" >20902067</th>\n",
              "                        <td id=\"T_b38847c8_57ca_11ea_beb8_c4b301d09f4brow4_col0\" class=\"data row4 col0\" >✔️</td>\n",
              "                        <td id=\"T_b38847c8_57ca_11ea_beb8_c4b301d09f4brow4_col1\" class=\"data row4 col1\" >✔️</td>\n",
              "                        <td id=\"T_b38847c8_57ca_11ea_beb8_c4b301d09f4brow4_col2\" class=\"data row4 col2\" ></td>\n",
              "                        <td id=\"T_b38847c8_57ca_11ea_beb8_c4b301d09f4brow4_col3\" class=\"data row4 col3\" >✔️</td>\n",
              "                        <td id=\"T_b38847c8_57ca_11ea_beb8_c4b301d09f4brow4_col4\" class=\"data row4 col4\" >✔️</td>\n",
              "                        <td id=\"T_b38847c8_57ca_11ea_beb8_c4b301d09f4brow4_col5\" class=\"data row4 col5\" ></td>\n",
              "            </tr>\n",
              "            <tr>\n",
              "                        <th id=\"T_b38847c8_57ca_11ea_beb8_c4b301d09f4blevel0_row5\" class=\"row_heading level0 row5\" >disk_model</th>\n",
              "                        <th id=\"T_b38847c8_57ca_11ea_beb8_c4b301d09f4blevel1_row5\" class=\"row_heading level1 row5\" >21686502</th>\n",
              "                        <td id=\"T_b38847c8_57ca_11ea_beb8_c4b301d09f4brow5_col0\" class=\"data row5 col0\" >✔️</td>\n",
              "                        <td id=\"T_b38847c8_57ca_11ea_beb8_c4b301d09f4brow5_col1\" class=\"data row5 col1\" ></td>\n",
              "                        <td id=\"T_b38847c8_57ca_11ea_beb8_c4b301d09f4brow5_col2\" class=\"data row5 col2\" ></td>\n",
              "                        <td id=\"T_b38847c8_57ca_11ea_beb8_c4b301d09f4brow5_col3\" class=\"data row5 col3\" ></td>\n",
              "                        <td id=\"T_b38847c8_57ca_11ea_beb8_c4b301d09f4brow5_col4\" class=\"data row5 col4\" ></td>\n",
              "                        <td id=\"T_b38847c8_57ca_11ea_beb8_c4b301d09f4brow5_col5\" class=\"data row5 col5\" ></td>\n",
              "            </tr>\n",
              "            <tr>\n",
              "                        <th id=\"T_b38847c8_57ca_11ea_beb8_c4b301d09f4blevel0_row6\" class=\"row_heading level0 row6\" >disk_bulge_bar_sp_model</th>\n",
              "                        <th id=\"T_b38847c8_57ca_11ea_beb8_c4b301d09f4blevel1_row6\" class=\"row_heading level1 row6\" >21686529</th>\n",
              "                        <td id=\"T_b38847c8_57ca_11ea_beb8_c4b301d09f4brow6_col0\" class=\"data row6 col0\" >✔️</td>\n",
              "                        <td id=\"T_b38847c8_57ca_11ea_beb8_c4b301d09f4brow6_col1\" class=\"data row6 col1\" >✔️</td>\n",
              "                        <td id=\"T_b38847c8_57ca_11ea_beb8_c4b301d09f4brow6_col2\" class=\"data row6 col2\" >✔️</td>\n",
              "                        <td id=\"T_b38847c8_57ca_11ea_beb8_c4b301d09f4brow6_col3\" class=\"data row6 col3\" >✔️</td>\n",
              "                        <td id=\"T_b38847c8_57ca_11ea_beb8_c4b301d09f4brow6_col4\" class=\"data row6 col4\" >✔️</td>\n",
              "                        <td id=\"T_b38847c8_57ca_11ea_beb8_c4b301d09f4brow6_col5\" class=\"data row6 col5\" ></td>\n",
              "            </tr>\n",
              "            <tr>\n",
              "                        <th id=\"T_b38847c8_57ca_11ea_beb8_c4b301d09f4blevel0_row7\" class=\"row_heading level0 row7\" >disk_bar_sp_model2</th>\n",
              "                        <th id=\"T_b38847c8_57ca_11ea_beb8_c4b301d09f4blevel1_row7\" class=\"row_heading level1 row7\" >21686576</th>\n",
              "                        <td id=\"T_b38847c8_57ca_11ea_beb8_c4b301d09f4brow7_col0\" class=\"data row7 col0\" >✔️</td>\n",
              "                        <td id=\"T_b38847c8_57ca_11ea_beb8_c4b301d09f4brow7_col1\" class=\"data row7 col1\" >Type 1</td>\n",
              "                        <td id=\"T_b38847c8_57ca_11ea_beb8_c4b301d09f4brow7_col2\" class=\"data row7 col2\" >✔️</td>\n",
              "                        <td id=\"T_b38847c8_57ca_11ea_beb8_c4b301d09f4brow7_col3\" class=\"data row7 col3\" >✔️</td>\n",
              "                        <td id=\"T_b38847c8_57ca_11ea_beb8_c4b301d09f4brow7_col4\" class=\"data row7 col4\" >✔️</td>\n",
              "                        <td id=\"T_b38847c8_57ca_11ea_beb8_c4b301d09f4brow7_col5\" class=\"data row7 col5\" ></td>\n",
              "            </tr>\n",
              "            <tr>\n",
              "                        <th id=\"T_b38847c8_57ca_11ea_beb8_c4b301d09f4blevel0_row8\" class=\"row_heading level0 row8\" >disk_bulge_model</th>\n",
              "                        <th id=\"T_b38847c8_57ca_11ea_beb8_c4b301d09f4blevel1_row8\" class=\"row_heading level1 row8\" >21686588</th>\n",
              "                        <td id=\"T_b38847c8_57ca_11ea_beb8_c4b301d09f4brow8_col0\" class=\"data row8 col0\" >✔️</td>\n",
              "                        <td id=\"T_b38847c8_57ca_11ea_beb8_c4b301d09f4brow8_col1\" class=\"data row8 col1\" >✔️</td>\n",
              "                        <td id=\"T_b38847c8_57ca_11ea_beb8_c4b301d09f4brow8_col2\" class=\"data row8 col2\" ></td>\n",
              "                        <td id=\"T_b38847c8_57ca_11ea_beb8_c4b301d09f4brow8_col3\" class=\"data row8 col3\" ></td>\n",
              "                        <td id=\"T_b38847c8_57ca_11ea_beb8_c4b301d09f4brow8_col4\" class=\"data row8 col4\" ></td>\n",
              "                        <td id=\"T_b38847c8_57ca_11ea_beb8_c4b301d09f4brow8_col5\" class=\"data row8 col5\" ></td>\n",
              "            </tr>\n",
              "    </tbody></table>"
            ]
          },
          "metadata": {}
        }
      ],
      "execution_count": 18,
      "metadata": {
        "collapsed": false,
        "outputHidden": false,
        "inputHidden": false
      }
    },
    {
      "cell_type": "code",
      "source": [
        "from gzbuilder_analysis.aggregation.spirals import get_drawn_arms\n",
        "from astropy.visualization import AsinhStretch\n",
        "from descartes import PolygonPatch"
      ],
      "outputs": [],
      "execution_count": 19,
      "metadata": {
        "collapsed": false,
        "outputHidden": false,
        "inputHidden": false
      }
    },
    {
      "cell_type": "markdown",
      "source": [
        "Plot the models we recieved:"
      ],
      "metadata": {}
    },
    {
      "cell_type": "code",
      "source": [
        "os.makedirs('affirmation_subjects_results/classifications', exist_ok=True)\n",
        "with tqdm(base_models.index) as bar:\n",
        "    for subject_id in bar:\n",
        "        geoms = agg_results[subject_id].input_models.apply(ag.get_geoms).apply(pd.Series)\n",
        "        drawn_arms = agg_results[subject_id].input_models\n",
        "        f, ax_ = plt.subplots(nrows=2, ncols=2, sharex=True, sharey=True, figsize=(8, 9), dpi=100)\n",
        "        ax = ax_.ravel()\n",
        "        plt.suptitle(index_map.name[subject_id].replace('_', ' ').replace('sp', 'spiral').capitalize())\n",
        "        im = np.array(diffs.loc[subject_id].galaxy_data)\n",
        "        [a.axis('off') for a in ax];\n",
        "        [a.imshow(AsinhStretch()(im), cmap='gray_r') for a in ax];\n",
        "\n",
        "        for i, k in enumerate(('disk', 'bulge', 'bar')):\n",
        "            for _, g in geoms[k].iteritems():\n",
        "                if g is not None:\n",
        "                    ax[i].add_patch(PolygonPatch(g, ec='C{}'.format(i), fc='none', alpha=0.6))\n",
        "\n",
        "        for arm in get_drawn_arms(agg_results[subject_id].input_models):\n",
        "            ax[3].plot(*arm.T, c='r', alpha=0.4)\n",
        "        plt.tight_layout()\n",
        "        plt.xlim(0, im.shape[1])\n",
        "        plt.ylim(0, im.shape[0])\n",
        "        plt.savefig('affirmation_subjects_results/classifications/{}.png'.format(index_map.name[subject_id]), bbox_inches='tight')\n",
        "        plt.close()"
      ],
      "outputs": [
        {
          "output_type": "stream",
          "name": "stderr",
          "text": [
            "100%|██████████| 9/9 [00:09<00:00,  1.08s/it]\n"
          ]
        }
      ],
      "execution_count": 27,
      "metadata": {
        "collapsed": false,
        "outputHidden": false,
        "inputHidden": false
      }
    },
    {
      "cell_type": "markdown",
      "source": [
        "We have performed tuning separately, let's see how models stack up:"
      ],
      "metadata": {}
    },
    {
      "cell_type": "code",
      "source": [
        "true_models = base_models.model.apply(lambda m: pd.DataFrame(m).unstack()).T\n",
        "true_models = true_models[np.any(true_models.notna(), axis=1)]\n",
        "true_models.columns = index_map.name[true_models.columns]"
      ],
      "outputs": [],
      "execution_count": 28,
      "metadata": {
        "collapsed": false,
        "outputHidden": false,
        "inputHidden": false
      }
    },
    {
      "cell_type": "code",
      "source": [
        "tuning_results = index_map.set_index('name', drop=False).name.apply(lambda n: pd.read_pickle(\n",
        "    f'affirmation_subjects_results/tuning_results/{n}.pickle.gz'\n",
        ")).apply(pd.Series)\n",
        "final_models = tuning_results.final_model.apply(lambda a: pd.DataFrame(a).unstack()).T\n",
        "final_models = final_models[np.any(final_models.notna(), axis=1)]"
      ],
      "outputs": [],
      "execution_count": 29,
      "metadata": {
        "collapsed": false,
        "outputHidden": false,
        "inputHidden": false
      }
    },
    {
      "cell_type": "code",
      "source": [
        "tuning_results.chisq.astype(float).describe()"
      ],
      "outputs": [
        {
          "output_type": "execute_result",
          "execution_count": 139,
          "data": {
            "text/plain": [
              "count    9.000000\n",
              "mean     1.092940\n",
              "std      0.119289\n",
              "min      0.998171\n",
              "25%      1.016431\n",
              "50%      1.040938\n",
              "75%      1.115982\n",
              "max      1.331803\n",
              "Name: chisq, dtype: float64"
            ]
          },
          "metadata": {}
        }
      ],
      "execution_count": 139,
      "metadata": {
        "collapsed": false,
        "outputHidden": false,
        "inputHidden": false
      }
    },
    {
      "cell_type": "code",
      "source": [
        "fitting_df = pd.concat((true_models, final_models.T.add_suffix('_fit').T), axis=0)"
      ],
      "outputs": [],
      "execution_count": 30,
      "metadata": {
        "collapsed": false,
        "outputHidden": false,
        "inputHidden": false
      }
    },
    {
      "cell_type": "code",
      "source": [
        "ks = [('disk', 'q'), ('disk', 'Re'), ('bulge', 'Re'), ('bulge', 'n'), ('bar', 'q'), ('bar', 'c')]\n",
        "f, ax_ = plt.subplots(ncols=2, nrows=3, figsize=(6, 8), dpi=100)\n",
        "ax = ax_.ravel()\n",
        "for i in range(len(ks)):\n",
        "    plt.sca(ax[i])\n",
        "    k = ks[i]\n",
        "    k2 = tuple([f'{j}_fit' for j in k])\n",
        "    print(k)\n",
        "    plt.scatter(fitting_df.loc[k], fitting_df.loc[k2])\n",
        "    plt.title(' '.join(k).capitalize())\n",
        "#     plt.xlabel(' '.join(k).capitalize())\n",
        "    plt.ylabel('Fit ' + ' '.join(k))\n",
        "    ax[i].add_line(plt.Line2D((0, 1E5), (0, 1E5), c='k', alpha=0.2))\n",
        "    if 'q' in k:\n",
        "        plt.xlim(0, 1)\n",
        "        plt.ylim(0, 1)\n",
        "    else:\n",
        "        l = np.stack((plt.xlim(), plt.ylim()))\n",
        "        plt.xlim(l.min(), l.max())\n",
        "        plt.ylim(l.min(), l.max())\n",
        "plt.tight_layout()"
      ],
      "outputs": [
        {
          "output_type": "stream",
          "name": "stdout",
          "text": [
            "('disk', 'q')\n",
            "('disk', 'Re')\n",
            "('bulge', 'Re')\n",
            "('bulge', 'n')\n",
            "('bar', 'q')\n",
            "('bar', 'c')\n"
          ]
        },
        {
          "output_type": "display_data",
          "data": {
            "text/plain": [
              "<Figure size 600x800 with 6 Axes>"
            ],
            "image/png": "[encoded data removed]"
          },
          "metadata": {
            "needs_background": "light"
          }
        }
      ],
      "execution_count": 143,
      "metadata": {
        "collapsed": false,
        "outputHidden": false,
        "inputHidden": false
      }
    },
    {
      "cell_type": "markdown",
      "source": [
        "## Spiral pitch angle recovery"
      ],
      "metadata": {}
    },
    {
      "cell_type": "code",
      "source": [
        "agg_pitch_angles = agg_results.apply(lambda a: pd.Series([b.pa * b.chirality for b in a.spiral_arms], dtype=float))\n",
        "agg_pitch_angles.index = index_map.name[agg_pitch_angles.index]\n",
        "agg_pitch_angles.columns = pd.MultiIndex.from_product([['spiral_agg'], [f'phi.{i}' for i in agg_pitch_angles.columns]])\n",
        "agg_pitch_angles"
      ],
      "outputs": [
        {
          "output_type": "execute_result",
          "execution_count": 103,
          "data": {
            "text/plain": [
              "                        spiral_agg                      \n",
              "                             phi.0      phi.1      phi.2\n",
              "name                                                    \n",
              "disk_sp_model           -28.283550 -25.101069 -14.936064\n",
              "disk_bulge_model2              NaN        NaN        NaN\n",
              "disk_bar_sp_model        -9.739853  -8.938560        NaN\n",
              "disk_bar_sp_model2       25.001978  21.397447        NaN\n",
              "disk_bulge_model               NaN        NaN        NaN\n",
              "disk_bulge_bar_sp_model  35.264582  19.618960        NaN\n",
              "disk_bulge_bar_model           NaN        NaN        NaN\n",
              "disk_model                     NaN        NaN        NaN\n",
              "disk_bulge_sp_model      12.608113  13.633626        NaN"
            ],
            "text/html": [
              "<div>\n",
              "<style scoped>\n",
              "    .dataframe tbody tr th:only-of-type {\n",
              "        vertical-align: middle;\n",
              "    }\n",
              "\n",
              "    .dataframe tbody tr th {\n",
              "        vertical-align: top;\n",
              "    }\n",
              "\n",
              "    .dataframe thead tr th {\n",
              "        text-align: left;\n",
              "    }\n",
              "\n",
              "    .dataframe thead tr:last-of-type th {\n",
              "        text-align: right;\n",
              "    }\n",
              "</style>\n",
              "<table border=\"1\" class=\"dataframe\">\n",
              "  <thead>\n",
              "    <tr>\n",
              "      <th></th>\n",
              "      <th colspan=\"3\" halign=\"left\">spiral_agg</th>\n",
              "    </tr>\n",
              "    <tr>\n",
              "      <th></th>\n",
              "      <th>phi.0</th>\n",
              "      <th>phi.1</th>\n",
              "      <th>phi.2</th>\n",
              "    </tr>\n",
              "    <tr>\n",
              "      <th>name</th>\n",
              "      <th></th>\n",
              "      <th></th>\n",
              "      <th></th>\n",
              "    </tr>\n",
              "  </thead>\n",
              "  <tbody>\n",
              "    <tr>\n",
              "      <th>disk_sp_model</th>\n",
              "      <td>-28.283550</td>\n",
              "      <td>-25.101069</td>\n",
              "      <td>-14.936064</td>\n",
              "    </tr>\n",
              "    <tr>\n",
              "      <th>disk_bulge_model2</th>\n",
              "      <td>NaN</td>\n",
              "      <td>NaN</td>\n",
              "      <td>NaN</td>\n",
              "    </tr>\n",
              "    <tr>\n",
              "      <th>disk_bar_sp_model</th>\n",
              "      <td>-9.739853</td>\n",
              "      <td>-8.938560</td>\n",
              "      <td>NaN</td>\n",
              "    </tr>\n",
              "    <tr>\n",
              "      <th>disk_bar_sp_model2</th>\n",
              "      <td>25.001978</td>\n",
              "      <td>21.397447</td>\n",
              "      <td>NaN</td>\n",
              "    </tr>\n",
              "    <tr>\n",
              "      <th>disk_bulge_model</th>\n",
              "      <td>NaN</td>\n",
              "      <td>NaN</td>\n",
              "      <td>NaN</td>\n",
              "    </tr>\n",
              "    <tr>\n",
              "      <th>disk_bulge_bar_sp_model</th>\n",
              "      <td>35.264582</td>\n",
              "      <td>19.618960</td>\n",
              "      <td>NaN</td>\n",
              "    </tr>\n",
              "    <tr>\n",
              "      <th>disk_bulge_bar_model</th>\n",
              "      <td>NaN</td>\n",
              "      <td>NaN</td>\n",
              "      <td>NaN</td>\n",
              "    </tr>\n",
              "    <tr>\n",
              "      <th>disk_model</th>\n",
              "      <td>NaN</td>\n",
              "      <td>NaN</td>\n",
              "      <td>NaN</td>\n",
              "    </tr>\n",
              "    <tr>\n",
              "      <th>disk_bulge_sp_model</th>\n",
              "      <td>12.608113</td>\n",
              "      <td>13.633626</td>\n",
              "      <td>NaN</td>\n",
              "    </tr>\n",
              "  </tbody>\n",
              "</table>\n",
              "</div>"
            ]
          },
          "metadata": {}
        }
      ],
      "execution_count": 103,
      "metadata": {
        "collapsed": false,
        "outputHidden": false,
        "inputHidden": false
      }
    },
    {
      "cell_type": "code",
      "source": [
        "spiral_df = pd.concat((\n",
        "    fitting_df.loc[[('spiral', f'phi.{i}') for i in range(3)]],\n",
        "    fitting_df.loc[[('spiral_fit', f'phi.{i}_fit') for i in range(3)]],\n",
        "    agg_pitch_angles.T\n",
        "), axis=0)\n",
        "\n",
        "agg_pa_err = pd.Series([], dtype=object)\n",
        "fit_pa_err = pd.Series([], dtype=object)\n",
        "for model in spiral_df.columns:\n",
        "    base_spirals = spiral_df[model].xs('spiral').reset_index(drop=True).rename('phi_base')\n",
        "    agg_spirals = spiral_df[model].xs('spiral_agg').reset_index(drop=True).rename('phi_agg')\n",
        "    fit_spirals = spiral_df[model].xs('spiral_fit').reset_index(drop=True).rename('phi_fit')\n",
        "    agg_idx = pd.MultiIndex.from_product([base_spirals.index, agg_spirals.index], names=['base', 'agg'])\n",
        "    agg_pairs = pd.concat([\n",
        "        base_spirals.reindex(agg_idx, level='base'),\n",
        "        agg_spirals.reindex(agg_idx, level='agg')\n",
        "    ], axis=1)\n",
        "    fit_idx = pd.MultiIndex.from_product([base_spirals.index, fit_spirals.index], names=['base', 'fit'])\n",
        "    fit_pairs = pd.concat([\n",
        "        base_spirals.reindex(fit_idx, level='base'),\n",
        "        fit_spirals.reindex(fit_idx, level='fit')\n",
        "    ], axis=1)\n",
        "    agg_pa_err.loc[model] = (agg_pairs.phi_base - agg_pairs.phi_agg).abs().dropna().min(level=0)    \n",
        "    fit_pa_err.loc[model] = (fit_pairs.phi_base - fit_pairs.phi_fit).abs().dropna().min(level=0)"
      ],
      "outputs": [],
      "execution_count": 125,
      "metadata": {
        "collapsed": false,
        "outputHidden": false,
        "inputHidden": false
      }
    },
    {
      "cell_type": "code",
      "source": [
        "display(agg_pa_err.apply(pd.Series).T.unstack().dropna().sort_values().rename('aggregate'))\n",
        "display(fit_pa_err.apply(pd.Series).T.unstack().dropna().sort_values().rename('fit'))"
      ],
      "outputs": [
        {
          "output_type": "display_data",
          "data": {
            "text/plain": [
              "                         base\n",
              "disk_bar_sp_model        1       0.104838\n",
              "disk_bulge_bar_sp_model  0       0.381040\n",
              "disk_bar_sp_model2       0       1.397447\n",
              "disk_bulge_bar_sp_model  1       1.536476\n",
              "disk_sp_model            2       3.545086\n",
              "                         0       3.598100\n",
              "disk_bar_sp_model2       1       3.781856\n",
              "disk_sp_model            1       5.025559\n",
              "disk_bar_sp_model        0       7.315314\n",
              "disk_bulge_sp_model      0       8.532579\n",
              "                         1       8.629923\n",
              "Name: aggregate, dtype: float64"
            ]
          },
          "metadata": {}
        },
        {
          "output_type": "display_data",
          "data": {
            "text/plain": [
              "                         base\n",
              "disk_bar_sp_model        1       0.213410\n",
              "disk_sp_model            2       0.688996\n",
              "disk_bulge_sp_model      1       0.861062\n",
              "                         0       0.958407\n",
              "disk_bulge_bar_sp_model  0       1.428341\n",
              "disk_sp_model            0       3.104702\n",
              "disk_bar_sp_model        0       4.374244\n",
              "disk_bar_sp_model2       0       4.375897\n",
              "disk_bulge_bar_sp_model  1       4.605161\n",
              "disk_sp_model            1       4.646048\n",
              "disk_bar_sp_model2       1       6.760306\n",
              "Name: fit, dtype: float64"
            ]
          },
          "metadata": {}
        }
      ],
      "execution_count": 129,
      "metadata": {
        "collapsed": false,
        "outputHidden": false,
        "inputHidden": false
      }
    },
    {
      "cell_type": "code",
      "source": [
        "sns.kdeplot(agg_pa_err.apply(pd.Series).T.unstack().dropna().sort_values(), label='agg')\n",
        "sns.kdeplot(fit_pa_err.apply(pd.Series).T.unstack().dropna().sort_values(), label='fit')"
      ],
      "outputs": [
        {
          "output_type": "execute_result",
          "execution_count": 132,
          "data": {
            "text/plain": [
              "<matplotlib.axes._subplots.AxesSubplot at 0x1a32463160>"
            ]
          },
          "metadata": {}
        },
        {
          "output_type": "display_data",
          "data": {
            "text/plain": [
              "<Figure size 432x288 with 1 Axes>"
            ],
            "image/png": "[encoded data removed]"
          },
          "metadata": {
            "needs_background": "light"
          }
        }
      ],
      "execution_count": 132,
      "metadata": {
        "collapsed": false,
        "outputHidden": false,
        "inputHidden": false
      }
    }
  ],
  "metadata": {
    "kernel_info": {
      "name": "python3"
    },
    "language_info": {
      "name": "python",
      "version": "3.6.7",
      "mimetype": "text/x-python",
      "codemirror_mode": {
        "name": "ipython",
        "version": 3
      },
      "pygments_lexer": "ipython3",
      "nbconvert_exporter": "python",
      "file_extension": ".py"
    },
    "kernelspec": {
      "name": "python3",
      "language": "python",
      "display_name": "Python 3"
    },
    "nteract": {
      "version": "0.15.0"
    }
  },
  "nbformat": 4,
  "nbformat_minor": 0
}