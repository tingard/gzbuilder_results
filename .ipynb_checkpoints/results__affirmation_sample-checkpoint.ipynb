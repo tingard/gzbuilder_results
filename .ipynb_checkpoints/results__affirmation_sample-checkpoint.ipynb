{
 "cells": [
  {
   "cell_type": "markdown",
   "metadata": {},
   "source": [
    "# Examination of Results from the Calibration / Affirmation set"
   ]
  },
  {
   "cell_type": "code",
   "execution_count": 1,
   "metadata": {
    "collapsed": false,
    "inputHidden": false,
    "jupyter": {
     "outputs_hidden": false
    },
    "outputHidden": false
   },
   "outputs": [],
   "source": [
    "%load_ext autoreload\n",
    "%autoreload 2"
   ]
  },
  {
   "cell_type": "code",
   "execution_count": 2,
   "metadata": {
    "collapsed": false,
    "inputHidden": false,
    "jupyter": {
     "outputs_hidden": false
    },
    "outputHidden": false
   },
   "outputs": [],
   "source": [
    "from datetime import datetime\n",
    "import pandas as pd\n",
    "import gzbuilder_analysis.parsing as pg\n",
    "import gzbuilder_analysis.aggregation as ag\n",
    "from tqdm import tqdm\n",
    "import json\n",
    "from PIL import Image\n",
    "from IPython.display import Markdown"
   ]
  },
  {
   "cell_type": "code",
   "execution_count": 3,
   "metadata": {
    "collapsed": false,
    "inputHidden": false,
    "jupyter": {
     "outputs_hidden": false
    },
    "outputHidden": false
   },
   "outputs": [],
   "source": [
    "affirmation_set_id = 80112"
   ]
  },
  {
   "cell_type": "code",
   "execution_count": 4,
   "metadata": {
    "collapsed": false,
    "inputHidden": false,
    "jupyter": {
     "outputs_hidden": false
    },
    "outputHidden": false
   },
   "outputs": [],
   "source": [
    "classifications = pd.read_csv('lib/galaxy-builder-classifications.csv', index_col=0)\n",
    "subjects = pd.read_csv('lib/galaxy-builder-subjects.csv', index_col=0)\n",
    "fitting_metadata = pd.read_pickle('lib/fitting_metadata.pkl')"
   ]
  },
  {
   "cell_type": "code",
   "execution_count": 5,
   "metadata": {
    "collapsed": false,
    "inputHidden": false,
    "jupyter": {
     "outputs_hidden": false
    },
    "outputHidden": false
   },
   "outputs": [],
   "source": [
    "metadata = subjects.metadata.apply(json.loads).apply(pd.Series)"
   ]
  },
  {
   "cell_type": "markdown",
   "metadata": {},
   "source": [
    "Read in the required files:"
   ]
  },
  {
   "cell_type": "code",
   "execution_count": 121,
   "metadata": {
    "collapsed": false,
    "inputHidden": false,
    "jupyter": {
     "outputs_hidden": false
    },
    "outputHidden": false
   },
   "outputs": [],
   "source": [
    "base_models = pd.read_pickle(\n",
    "    'affirmation_subjects_results/base_models.pkl.gz'\n",
    ")\n",
    "agg_results = pd.read_pickle(\n",
    "    'affirmation_subjects_results/agg_results.pkl.gz'\n",
    ")\n",
    "diffs = pd.read_pickle(\n",
    "    'affirmation_subjects_results/affirmation_metadata.pkl.gz'\n",
    ")"
   ]
  },
  {
   "cell_type": "code",
   "execution_count": 7,
   "metadata": {},
   "outputs": [
    {
     "data": {
      "text/plain": [
       "'20902055 21686576 21686588 20902038 21686502 21686529 20902067 20902006 20902035'"
      ]
     },
     "execution_count": 7,
     "metadata": {},
     "output_type": "execute_result"
    }
   ],
   "source": [
    "' '.join(map(str, list(base_models.index)))"
   ]
  },
  {
   "cell_type": "markdown",
   "metadata": {},
   "source": [
    "Or recalculate them by uncommenting here"
   ]
  },
  {
   "cell_type": "code",
   "execution_count": 8,
   "metadata": {
    "collapsed": false,
    "inputHidden": false,
    "jupyter": {
     "outputs_hidden": false
    },
    "outputHidden": false
   },
   "outputs": [],
   "source": [
    "# base_models = {}\n",
    "# for f in [i for i in os.listdir('affirmation_set_models') if re.match(r'.*?\\.pkl', i)]:\n",
    "#     dump = pd.read_pickle(os.path.join('affirmation_set_models', f))\n",
    "#     base_models[dump['idx']] = dump\n",
    "# base_models = pd.DataFrame(base_models).T.drop(columns='idx')\n",
    "# base_models.to_pickle('affirmation_subjects_results/base_models.pkl.gz')"
   ]
  },
  {
   "cell_type": "code",
   "execution_count": 122,
   "metadata": {},
   "outputs": [
    {
     "name": "stdout",
     "output_type": "stream",
     "text": [
      "0.23999999999999996 35.8098297530763 1\n",
      "0.20000000000000004 30.954606552601703 1\n",
      "0.6317568678096231 4.1877282256087645 0.8\n",
      "0.16 36.62867188708002 1\n",
      "0.8732584303819801 2.239812838960664 1.0\n",
      "0.19999999999999998 19.44998285812958 1\n",
      "28.241443343030614 1.9449982858129582 3\n",
      "0.24999999999999997 33.21966089620397 1\n",
      "0.08000000000000002 37.891026104568674 1\n",
      "0.1401533761292916 4.089606645479096 1.0\n",
      "0.4264674389911136 8.205563771609617 1.0\n",
      "0.15624999999999997 15.180216288158633 1\n",
      "1.2755102040816322 0.7590108144079317 1.0\n",
      "0.15999999999999998 33.786283773141086 1\n",
      "0.24953715627294015 6.88832497630423 0.6\n",
      "0.20000000000000004 17.1191934377434 1\n",
      "0.5495559591365735 2.3692753489405534 1.0\n",
      "0.2968442731617448 4.278574790490993 0.6\n"
     ]
    }
   ],
   "source": [
    "from copy import deepcopy\n",
    "from jax import jit\n",
    "from jax.lax import lgamma\n",
    "import jax.numpy as jnp\n",
    "from gzbuilder_analysis.rendering.jax.sersic import _b, sersic_ltot, sersic_I\n",
    "\n",
    "def bad_sersic_ltot(I, Re, n):\n",
    "    2 * np.pi * I * Re**2 * n\n",
    "    jnp.exp(_b(n)) / _b(n)**(2 * n)\n",
    "    jnp.exp(lgamma(2.0 * n))\n",
    "    return (\n",
    "        2 * jnp.pi * I * Re**2 * n\n",
    "        * jnp.exp(_b(n)) / _b(n)**(2 * n)\n",
    "        * jnp.exp(lgamma(2.0 * n))\n",
    "    )\n",
    "\n",
    "def correct_bad_I(model):\n",
    "    _model = deepcopy(model)\n",
    "    for comp in _model:\n",
    "        if _model[comp] is None or comp == 'spiral':\n",
    "            continue\n",
    "        _model[comp]['I'] = sersic_I(\n",
    "            bad_sersic_ltot(_model[comp]['I'], _model[comp]['Re'], _model[comp].get('n', 1)),\n",
    "            _model[comp]['Re'], _model[comp]['q'], _model[comp].get('n', 1), _model[comp].get('c', 2)\n",
    "        )\n",
    "    return _model\n",
    "\n",
    "base_models['corrected_models'] = base_models.model.apply(correct_bad_I)"
   ]
  },
  {
   "cell_type": "code",
   "execution_count": 126,
   "metadata": {},
   "outputs": [
    {
     "data": {
      "text/html": [
       "<div>\n",
       "<style scoped>\n",
       "    .dataframe tbody tr th:only-of-type {\n",
       "        vertical-align: middle;\n",
       "    }\n",
       "\n",
       "    .dataframe tbody tr th {\n",
       "        vertical-align: top;\n",
       "    }\n",
       "\n",
       "    .dataframe thead th {\n",
       "        text-align: right;\n",
       "    }\n",
       "</style>\n",
       "<table border=\"1\" class=\"dataframe\">\n",
       "  <thead>\n",
       "    <tr style=\"text-align: right;\">\n",
       "      <th></th>\n",
       "      <th>model</th>\n",
       "      <th>corrected_models</th>\n",
       "    </tr>\n",
       "  </thead>\n",
       "  <tbody>\n",
       "    <tr>\n",
       "      <th>20902055</th>\n",
       "      <td>0.24000</td>\n",
       "      <td>0.31155502517640943</td>\n",
       "    </tr>\n",
       "    <tr>\n",
       "      <th>21686576</th>\n",
       "      <td>0.20000</td>\n",
       "      <td>0.39472550439806686</td>\n",
       "    </tr>\n",
       "    <tr>\n",
       "      <th>21686588</th>\n",
       "      <td>0.16000</td>\n",
       "      <td>0.200158179343059</td>\n",
       "    </tr>\n",
       "    <tr>\n",
       "      <th>20902038</th>\n",
       "      <td>0.20000</td>\n",
       "      <td>0.33081339275091476</td>\n",
       "    </tr>\n",
       "    <tr>\n",
       "      <th>21686502</th>\n",
       "      <td>0.25000</td>\n",
       "      <td>0.3862573204692168</td>\n",
       "    </tr>\n",
       "    <tr>\n",
       "      <th>21686529</th>\n",
       "      <td>0.08000</td>\n",
       "      <td>0.09237837579503415</td>\n",
       "    </tr>\n",
       "    <tr>\n",
       "      <th>20902067</th>\n",
       "      <td>0.15625</td>\n",
       "      <td>0.20006996957391807</td>\n",
       "    </tr>\n",
       "    <tr>\n",
       "      <th>20902006</th>\n",
       "      <td>0.16000</td>\n",
       "      <td>0.22231786809247225</td>\n",
       "    </tr>\n",
       "    <tr>\n",
       "      <th>20902035</th>\n",
       "      <td>0.20000</td>\n",
       "      <td>0.2816234685951408</td>\n",
       "    </tr>\n",
       "  </tbody>\n",
       "</table>\n",
       "</div>"
      ],
      "text/plain": [
       "            model     corrected_models\n",
       "20902055  0.24000  0.31155502517640943\n",
       "21686576  0.20000  0.39472550439806686\n",
       "21686588  0.16000    0.200158179343059\n",
       "20902038  0.20000  0.33081339275091476\n",
       "21686502  0.25000   0.3862573204692168\n",
       "21686529  0.08000  0.09237837579503415\n",
       "20902067  0.15625  0.20006996957391807\n",
       "20902006  0.16000  0.22231786809247225\n",
       "20902035  0.20000   0.2816234685951408"
      ]
     },
     "execution_count": 126,
     "metadata": {},
     "output_type": "execute_result"
    }
   ],
   "source": [
    "pd.concat((base_models.model.apply(lambda a: a['disk']['I']), base_models.corrected_models.apply(lambda a: a['disk']['I'])), axis=1)"
   ]
  },
  {
   "cell_type": "code",
   "execution_count": 9,
   "metadata": {
    "collapsed": false,
    "inputHidden": false,
    "jupyter": {
     "outputs_hidden": false
    },
    "outputHidden": false
   },
   "outputs": [],
   "source": [
    "index_map = pd.DataFrame(dict(name={k: base_models.name[k] for k in base_models.index}), columns=('name', 'subject_id')).sort_index()"
   ]
  },
  {
   "cell_type": "code",
   "execution_count": 10,
   "metadata": {
    "collapsed": false,
    "inputHidden": false,
    "jupyter": {
     "outputs_hidden": false
    },
    "outputHidden": false
   },
   "outputs": [],
   "source": [
    "affirmation_subjects = subjects.query('subject_set_id == @affirmation_set_id').index.values"
   ]
  },
  {
   "cell_type": "markdown",
   "metadata": {},
   "source": [
    "If we need to update any clustering parameters, do it here:"
   ]
  },
  {
   "cell_type": "markdown",
   "metadata": {},
   "source": [
    "Do people know when to draw components?"
   ]
  },
  {
   "cell_type": "code",
   "execution_count": 11,
   "metadata": {
    "collapsed": false,
    "inputHidden": false,
    "jupyter": {
     "outputs_hidden": false
    },
    "outputHidden": false
   },
   "outputs": [
    {
     "data": {
      "text/html": [
       "<div>\n",
       "<style scoped>\n",
       "    .dataframe tbody tr th:only-of-type {\n",
       "        vertical-align: middle;\n",
       "    }\n",
       "\n",
       "    .dataframe tbody tr th {\n",
       "        vertical-align: top;\n",
       "    }\n",
       "\n",
       "    .dataframe thead th {\n",
       "        text-align: right;\n",
       "    }\n",
       "</style>\n",
       "<table border=\"1\" class=\"dataframe\">\n",
       "  <thead>\n",
       "    <tr style=\"text-align: right;\">\n",
       "      <th></th>\n",
       "      <th>disk</th>\n",
       "      <th>bulge</th>\n",
       "      <th>bar</th>\n",
       "    </tr>\n",
       "    <tr>\n",
       "      <th>name</th>\n",
       "      <th></th>\n",
       "      <th></th>\n",
       "      <th></th>\n",
       "    </tr>\n",
       "  </thead>\n",
       "  <tbody>\n",
       "    <tr>\n",
       "      <th>disk_model</th>\n",
       "      <td>28 / 30</td>\n",
       "      <td>12 / 30</td>\n",
       "      <td>4 / 30</td>\n",
       "    </tr>\n",
       "    <tr>\n",
       "      <th>disk_sp_model</th>\n",
       "      <td>27 / 30</td>\n",
       "      <td>15 / 30</td>\n",
       "      <td>5 / 30</td>\n",
       "    </tr>\n",
       "    <tr>\n",
       "      <th>disk_bulge_model2</th>\n",
       "      <td>28 / 30</td>\n",
       "      <td>23 / 30</td>\n",
       "      <td>5 / 30</td>\n",
       "    </tr>\n",
       "    <tr>\n",
       "      <th>disk_bulge_model</th>\n",
       "      <td>24 / 30</td>\n",
       "      <td>19 / 30</td>\n",
       "      <td>5 / 30</td>\n",
       "    </tr>\n",
       "    <tr>\n",
       "      <th>disk_bulge_sp_model</th>\n",
       "      <td>28 / 30</td>\n",
       "      <td>20 / 30</td>\n",
       "      <td>7 / 30</td>\n",
       "    </tr>\n",
       "    <tr>\n",
       "      <th>disk_bulge_bar_model</th>\n",
       "      <td>27 / 30</td>\n",
       "      <td>20 / 30</td>\n",
       "      <td>13 / 30</td>\n",
       "    </tr>\n",
       "    <tr>\n",
       "      <th>disk_bar_sp_model2</th>\n",
       "      <td>30 / 30</td>\n",
       "      <td>24 / 30</td>\n",
       "      <td>17 / 30</td>\n",
       "    </tr>\n",
       "    <tr>\n",
       "      <th>disk_bulge_bar_sp_model</th>\n",
       "      <td>27 / 30</td>\n",
       "      <td>23 / 30</td>\n",
       "      <td>20 / 30</td>\n",
       "    </tr>\n",
       "    <tr>\n",
       "      <th>disk_bar_sp_model</th>\n",
       "      <td>28 / 30</td>\n",
       "      <td>19 / 30</td>\n",
       "      <td>22 / 30</td>\n",
       "    </tr>\n",
       "  </tbody>\n",
       "</table>\n",
       "</div>"
      ],
      "text/plain": [
       "                            disk    bulge      bar\n",
       "name                                              \n",
       "disk_model               28 / 30  12 / 30   4 / 30\n",
       "disk_sp_model            27 / 30  15 / 30   5 / 30\n",
       "disk_bulge_model2        28 / 30  23 / 30   5 / 30\n",
       "disk_bulge_model         24 / 30  19 / 30   5 / 30\n",
       "disk_bulge_sp_model      28 / 30  20 / 30   7 / 30\n",
       "disk_bulge_bar_model     27 / 30  20 / 30  13 / 30\n",
       "disk_bar_sp_model2       30 / 30  24 / 30  17 / 30\n",
       "disk_bulge_bar_sp_model  27 / 30  23 / 30  20 / 30\n",
       "disk_bar_sp_model        28 / 30  19 / 30  22 / 30"
      ]
     },
     "execution_count": 11,
     "metadata": {},
     "output_type": "execute_result"
    }
   ],
   "source": [
    "n_comp_cls = pd.DataFrame({\n",
    "    k: agg_results.apply(lambda a: a.input_models.apply(lambda b: bool(b[k])).sum())\n",
    "    for k in ('disk', 'bulge', 'bar')\n",
    "})\n",
    "n_comp_cls.index = index_map.name[n_comp_cls.index]\n",
    "n_comp_cls.sort_values(by='bar').astype(str) + ' / 30'"
   ]
  },
  {
   "cell_type": "markdown",
   "metadata": {},
   "source": [
    "People consistently made use of disks, and four galaxies containing bars recieved more bar classifications than the galaxies without, but the consensus was not very high!"
   ]
  },
  {
   "cell_type": "code",
   "execution_count": 12,
   "metadata": {
    "collapsed": false,
    "inputHidden": false,
    "jupyter": {
     "outputs_hidden": false
    },
    "outputHidden": false
   },
   "outputs": [],
   "source": [
    "base_params = base_models['model'].apply(\n",
    "    lambda a: pd.Series(a).apply(pd.Series).T.unstack().dropna()\n",
    ").sort_index()\n",
    "\n",
    "recovered_params = agg_results.apply(lambda a: a.params).sort_index()"
   ]
  },
  {
   "cell_type": "code",
   "execution_count": 13,
   "metadata": {
    "collapsed": false,
    "inputHidden": false,
    "jupyter": {
     "outputs_hidden": false
    },
    "outputHidden": false
   },
   "outputs": [],
   "source": [
    "base_has_comp = pd.concat([\n",
    "    *[base_params[k]['I'].notna().rename(k) for k in ('disk', 'bulge', 'bar')],\n",
    "    *[base_params['spiral'][f'I.{i}'].notna().rename(f'spiral.{i}') for i in (int(i.group(1)) for i in (re.match(r'I.([0-9]+)', r) for r in base_params['spiral'].columns) if i)]\n",
    "], axis=1)\n",
    "\n",
    "__empty_df = pd.DataFrame([], dtype=float)\n",
    "agg_has_comp = pd.concat([\n",
    "    *[recovered_params[k]['I'].notna().rename(k) for k in ('disk', 'bulge', 'bar')],\n",
    "    *[\n",
    "        recovered_params['spiral']['I.{}'.format(int(i.group(1)))].notna().rename('spiral.{}'.format(int(i.group(1))))\n",
    "        for i in (\n",
    "            re.match(r'I.([0-9]+)', r)\n",
    "            for r in recovered_params.get('spiral', __empty_df).columns\n",
    "        )\n",
    "        if i is not None\n",
    "    ]\n",
    "], axis=1)"
   ]
  },
  {
   "cell_type": "code",
   "execution_count": 14,
   "metadata": {
    "collapsed": false,
    "inputHidden": false,
    "jupyter": {
     "outputs_hidden": false
    },
    "outputHidden": false
   },
   "outputs": [
    {
     "data": {
      "text/markdown": [
       "### Did we recover the component?:"
      ],
      "text/plain": [
       "<IPython.core.display.Markdown object>"
      ]
     },
     "metadata": {},
     "output_type": "display_data"
    },
    {
     "data": {
      "text/html": [
       "<style  type=\"text/css\" >\n",
       "    #T_eff93200_8874_11ea_90b6_c4b301d09f4brow0_col0 {\n",
       "            color:  green;\n",
       "        }    #T_eff93200_8874_11ea_90b6_c4b301d09f4brow0_col1 {\n",
       "            color:  red;\n",
       "        }    #T_eff93200_8874_11ea_90b6_c4b301d09f4brow0_col2 {\n",
       "            color:  green;\n",
       "        }    #T_eff93200_8874_11ea_90b6_c4b301d09f4brow0_col3 {\n",
       "            color:  green;\n",
       "        }    #T_eff93200_8874_11ea_90b6_c4b301d09f4brow0_col4 {\n",
       "            color:  green;\n",
       "        }    #T_eff93200_8874_11ea_90b6_c4b301d09f4brow0_col5 {\n",
       "            color:  red;\n",
       "        }    #T_eff93200_8874_11ea_90b6_c4b301d09f4brow1_col0 {\n",
       "            color:  green;\n",
       "        }    #T_eff93200_8874_11ea_90b6_c4b301d09f4brow1_col1 {\n",
       "            color:  green;\n",
       "        }    #T_eff93200_8874_11ea_90b6_c4b301d09f4brow1_col2 {\n",
       "            color:  red;\n",
       "        }    #T_eff93200_8874_11ea_90b6_c4b301d09f4brow1_col3 {\n",
       "            color:  red;\n",
       "        }    #T_eff93200_8874_11ea_90b6_c4b301d09f4brow1_col4 {\n",
       "            color:  red;\n",
       "        }    #T_eff93200_8874_11ea_90b6_c4b301d09f4brow1_col5 {\n",
       "            color:  red;\n",
       "        }    #T_eff93200_8874_11ea_90b6_c4b301d09f4brow2_col0 {\n",
       "            color:  green;\n",
       "        }    #T_eff93200_8874_11ea_90b6_c4b301d09f4brow2_col1 {\n",
       "            color:  green;\n",
       "        }    #T_eff93200_8874_11ea_90b6_c4b301d09f4brow2_col2 {\n",
       "            color:  red;\n",
       "        }    #T_eff93200_8874_11ea_90b6_c4b301d09f4brow2_col3 {\n",
       "            color:  red;\n",
       "        }    #T_eff93200_8874_11ea_90b6_c4b301d09f4brow2_col4 {\n",
       "            color:  red;\n",
       "        }    #T_eff93200_8874_11ea_90b6_c4b301d09f4brow2_col5 {\n",
       "            color:  red;\n",
       "        }    #T_eff93200_8874_11ea_90b6_c4b301d09f4brow3_col0 {\n",
       "            color:  green;\n",
       "        }    #T_eff93200_8874_11ea_90b6_c4b301d09f4brow3_col1 {\n",
       "            color:  red;\n",
       "        }    #T_eff93200_8874_11ea_90b6_c4b301d09f4brow3_col2 {\n",
       "            color:  red;\n",
       "        }    #T_eff93200_8874_11ea_90b6_c4b301d09f4brow3_col3 {\n",
       "            color:  green;\n",
       "        }    #T_eff93200_8874_11ea_90b6_c4b301d09f4brow3_col4 {\n",
       "            color:  green;\n",
       "        }    #T_eff93200_8874_11ea_90b6_c4b301d09f4brow3_col5 {\n",
       "            color:  green;\n",
       "        }    #T_eff93200_8874_11ea_90b6_c4b301d09f4brow4_col0 {\n",
       "            color:  green;\n",
       "        }    #T_eff93200_8874_11ea_90b6_c4b301d09f4brow4_col1 {\n",
       "            color:  green;\n",
       "        }    #T_eff93200_8874_11ea_90b6_c4b301d09f4brow4_col2 {\n",
       "            color:  red;\n",
       "        }    #T_eff93200_8874_11ea_90b6_c4b301d09f4brow4_col3 {\n",
       "            color:  green;\n",
       "        }    #T_eff93200_8874_11ea_90b6_c4b301d09f4brow4_col4 {\n",
       "            color:  green;\n",
       "        }    #T_eff93200_8874_11ea_90b6_c4b301d09f4brow4_col5 {\n",
       "            color:  red;\n",
       "        }    #T_eff93200_8874_11ea_90b6_c4b301d09f4brow5_col0 {\n",
       "            color:  green;\n",
       "        }    #T_eff93200_8874_11ea_90b6_c4b301d09f4brow5_col1 {\n",
       "            color:  red;\n",
       "        }    #T_eff93200_8874_11ea_90b6_c4b301d09f4brow5_col2 {\n",
       "            color:  red;\n",
       "        }    #T_eff93200_8874_11ea_90b6_c4b301d09f4brow5_col3 {\n",
       "            color:  red;\n",
       "        }    #T_eff93200_8874_11ea_90b6_c4b301d09f4brow5_col4 {\n",
       "            color:  red;\n",
       "        }    #T_eff93200_8874_11ea_90b6_c4b301d09f4brow5_col5 {\n",
       "            color:  red;\n",
       "        }    #T_eff93200_8874_11ea_90b6_c4b301d09f4brow6_col0 {\n",
       "            color:  green;\n",
       "        }    #T_eff93200_8874_11ea_90b6_c4b301d09f4brow6_col1 {\n",
       "            color:  green;\n",
       "        }    #T_eff93200_8874_11ea_90b6_c4b301d09f4brow6_col2 {\n",
       "            color:  green;\n",
       "        }    #T_eff93200_8874_11ea_90b6_c4b301d09f4brow6_col3 {\n",
       "            color:  green;\n",
       "        }    #T_eff93200_8874_11ea_90b6_c4b301d09f4brow6_col4 {\n",
       "            color:  green;\n",
       "        }    #T_eff93200_8874_11ea_90b6_c4b301d09f4brow6_col5 {\n",
       "            color:  red;\n",
       "        }    #T_eff93200_8874_11ea_90b6_c4b301d09f4brow7_col0 {\n",
       "            color:  green;\n",
       "        }    #T_eff93200_8874_11ea_90b6_c4b301d09f4brow7_col1 {\n",
       "            color:  red;\n",
       "        }    #T_eff93200_8874_11ea_90b6_c4b301d09f4brow7_col2 {\n",
       "            color:  green;\n",
       "        }    #T_eff93200_8874_11ea_90b6_c4b301d09f4brow7_col3 {\n",
       "            color:  green;\n",
       "        }    #T_eff93200_8874_11ea_90b6_c4b301d09f4brow7_col4 {\n",
       "            color:  green;\n",
       "        }    #T_eff93200_8874_11ea_90b6_c4b301d09f4brow7_col5 {\n",
       "            color:  red;\n",
       "        }    #T_eff93200_8874_11ea_90b6_c4b301d09f4brow8_col0 {\n",
       "            color:  green;\n",
       "        }    #T_eff93200_8874_11ea_90b6_c4b301d09f4brow8_col1 {\n",
       "            color:  green;\n",
       "        }    #T_eff93200_8874_11ea_90b6_c4b301d09f4brow8_col2 {\n",
       "            color:  red;\n",
       "        }    #T_eff93200_8874_11ea_90b6_c4b301d09f4brow8_col3 {\n",
       "            color:  red;\n",
       "        }    #T_eff93200_8874_11ea_90b6_c4b301d09f4brow8_col4 {\n",
       "            color:  red;\n",
       "        }    #T_eff93200_8874_11ea_90b6_c4b301d09f4brow8_col5 {\n",
       "            color:  red;\n",
       "        }</style><table id=\"T_eff93200_8874_11ea_90b6_c4b301d09f4b\" ><thead>    <tr>        <th class=\"blank\" ></th>        <th class=\"blank level0\" ></th>        <th class=\"col_heading level0 col0\" >disk</th>        <th class=\"col_heading level0 col1\" >bulge</th>        <th class=\"col_heading level0 col2\" >bar</th>        <th class=\"col_heading level0 col3\" >spiral.0</th>        <th class=\"col_heading level0 col4\" >spiral.1</th>        <th class=\"col_heading level0 col5\" >spiral.2</th>    </tr>    <tr>        <th class=\"index_name level0\" >name</th>        <th class=\"index_name level1\" >base_subject_id</th>        <th class=\"blank\" ></th>        <th class=\"blank\" ></th>        <th class=\"blank\" ></th>        <th class=\"blank\" ></th>        <th class=\"blank\" ></th>        <th class=\"blank\" ></th>    </tr></thead><tbody>\n",
       "                <tr>\n",
       "                        <th id=\"T_eff93200_8874_11ea_90b6_c4b301d09f4blevel0_row0\" class=\"row_heading level0 row0\" >disk_bar_sp_model</th>\n",
       "                        <th id=\"T_eff93200_8874_11ea_90b6_c4b301d09f4blevel1_row0\" class=\"row_heading level1 row0\" >20902006</th>\n",
       "                        <td id=\"T_eff93200_8874_11ea_90b6_c4b301d09f4brow0_col0\" class=\"data row0 col0\" >✔️</td>\n",
       "                        <td id=\"T_eff93200_8874_11ea_90b6_c4b301d09f4brow0_col1\" class=\"data row0 col1\" >Type 1</td>\n",
       "                        <td id=\"T_eff93200_8874_11ea_90b6_c4b301d09f4brow0_col2\" class=\"data row0 col2\" >✔️</td>\n",
       "                        <td id=\"T_eff93200_8874_11ea_90b6_c4b301d09f4brow0_col3\" class=\"data row0 col3\" >✔️</td>\n",
       "                        <td id=\"T_eff93200_8874_11ea_90b6_c4b301d09f4brow0_col4\" class=\"data row0 col4\" >✔️</td>\n",
       "                        <td id=\"T_eff93200_8874_11ea_90b6_c4b301d09f4brow0_col5\" class=\"data row0 col5\" ></td>\n",
       "            </tr>\n",
       "            <tr>\n",
       "                        <th id=\"T_eff93200_8874_11ea_90b6_c4b301d09f4blevel0_row1\" class=\"row_heading level0 row1\" >disk_bulge_bar_model</th>\n",
       "                        <th id=\"T_eff93200_8874_11ea_90b6_c4b301d09f4blevel1_row1\" class=\"row_heading level1 row1\" >20902035</th>\n",
       "                        <td id=\"T_eff93200_8874_11ea_90b6_c4b301d09f4brow1_col0\" class=\"data row1 col0\" >✔️</td>\n",
       "                        <td id=\"T_eff93200_8874_11ea_90b6_c4b301d09f4brow1_col1\" class=\"data row1 col1\" >✔️</td>\n",
       "                        <td id=\"T_eff93200_8874_11ea_90b6_c4b301d09f4brow1_col2\" class=\"data row1 col2\" >Type 2</td>\n",
       "                        <td id=\"T_eff93200_8874_11ea_90b6_c4b301d09f4brow1_col3\" class=\"data row1 col3\" ></td>\n",
       "                        <td id=\"T_eff93200_8874_11ea_90b6_c4b301d09f4brow1_col4\" class=\"data row1 col4\" ></td>\n",
       "                        <td id=\"T_eff93200_8874_11ea_90b6_c4b301d09f4brow1_col5\" class=\"data row1 col5\" ></td>\n",
       "            </tr>\n",
       "            <tr>\n",
       "                        <th id=\"T_eff93200_8874_11ea_90b6_c4b301d09f4blevel0_row2\" class=\"row_heading level0 row2\" >disk_bulge_model2</th>\n",
       "                        <th id=\"T_eff93200_8874_11ea_90b6_c4b301d09f4blevel1_row2\" class=\"row_heading level1 row2\" >20902038</th>\n",
       "                        <td id=\"T_eff93200_8874_11ea_90b6_c4b301d09f4brow2_col0\" class=\"data row2 col0\" >✔️</td>\n",
       "                        <td id=\"T_eff93200_8874_11ea_90b6_c4b301d09f4brow2_col1\" class=\"data row2 col1\" >✔️</td>\n",
       "                        <td id=\"T_eff93200_8874_11ea_90b6_c4b301d09f4brow2_col2\" class=\"data row2 col2\" ></td>\n",
       "                        <td id=\"T_eff93200_8874_11ea_90b6_c4b301d09f4brow2_col3\" class=\"data row2 col3\" ></td>\n",
       "                        <td id=\"T_eff93200_8874_11ea_90b6_c4b301d09f4brow2_col4\" class=\"data row2 col4\" ></td>\n",
       "                        <td id=\"T_eff93200_8874_11ea_90b6_c4b301d09f4brow2_col5\" class=\"data row2 col5\" ></td>\n",
       "            </tr>\n",
       "            <tr>\n",
       "                        <th id=\"T_eff93200_8874_11ea_90b6_c4b301d09f4blevel0_row3\" class=\"row_heading level0 row3\" >disk_sp_model</th>\n",
       "                        <th id=\"T_eff93200_8874_11ea_90b6_c4b301d09f4blevel1_row3\" class=\"row_heading level1 row3\" >20902055</th>\n",
       "                        <td id=\"T_eff93200_8874_11ea_90b6_c4b301d09f4brow3_col0\" class=\"data row3 col0\" >✔️</td>\n",
       "                        <td id=\"T_eff93200_8874_11ea_90b6_c4b301d09f4brow3_col1\" class=\"data row3 col1\" ></td>\n",
       "                        <td id=\"T_eff93200_8874_11ea_90b6_c4b301d09f4brow3_col2\" class=\"data row3 col2\" ></td>\n",
       "                        <td id=\"T_eff93200_8874_11ea_90b6_c4b301d09f4brow3_col3\" class=\"data row3 col3\" >✔️</td>\n",
       "                        <td id=\"T_eff93200_8874_11ea_90b6_c4b301d09f4brow3_col4\" class=\"data row3 col4\" >✔️</td>\n",
       "                        <td id=\"T_eff93200_8874_11ea_90b6_c4b301d09f4brow3_col5\" class=\"data row3 col5\" >✔️</td>\n",
       "            </tr>\n",
       "            <tr>\n",
       "                        <th id=\"T_eff93200_8874_11ea_90b6_c4b301d09f4blevel0_row4\" class=\"row_heading level0 row4\" >disk_bulge_sp_model</th>\n",
       "                        <th id=\"T_eff93200_8874_11ea_90b6_c4b301d09f4blevel1_row4\" class=\"row_heading level1 row4\" >20902067</th>\n",
       "                        <td id=\"T_eff93200_8874_11ea_90b6_c4b301d09f4brow4_col0\" class=\"data row4 col0\" >✔️</td>\n",
       "                        <td id=\"T_eff93200_8874_11ea_90b6_c4b301d09f4brow4_col1\" class=\"data row4 col1\" >✔️</td>\n",
       "                        <td id=\"T_eff93200_8874_11ea_90b6_c4b301d09f4brow4_col2\" class=\"data row4 col2\" ></td>\n",
       "                        <td id=\"T_eff93200_8874_11ea_90b6_c4b301d09f4brow4_col3\" class=\"data row4 col3\" >✔️</td>\n",
       "                        <td id=\"T_eff93200_8874_11ea_90b6_c4b301d09f4brow4_col4\" class=\"data row4 col4\" >✔️</td>\n",
       "                        <td id=\"T_eff93200_8874_11ea_90b6_c4b301d09f4brow4_col5\" class=\"data row4 col5\" ></td>\n",
       "            </tr>\n",
       "            <tr>\n",
       "                        <th id=\"T_eff93200_8874_11ea_90b6_c4b301d09f4blevel0_row5\" class=\"row_heading level0 row5\" >disk_model</th>\n",
       "                        <th id=\"T_eff93200_8874_11ea_90b6_c4b301d09f4blevel1_row5\" class=\"row_heading level1 row5\" >21686502</th>\n",
       "                        <td id=\"T_eff93200_8874_11ea_90b6_c4b301d09f4brow5_col0\" class=\"data row5 col0\" >✔️</td>\n",
       "                        <td id=\"T_eff93200_8874_11ea_90b6_c4b301d09f4brow5_col1\" class=\"data row5 col1\" ></td>\n",
       "                        <td id=\"T_eff93200_8874_11ea_90b6_c4b301d09f4brow5_col2\" class=\"data row5 col2\" ></td>\n",
       "                        <td id=\"T_eff93200_8874_11ea_90b6_c4b301d09f4brow5_col3\" class=\"data row5 col3\" ></td>\n",
       "                        <td id=\"T_eff93200_8874_11ea_90b6_c4b301d09f4brow5_col4\" class=\"data row5 col4\" ></td>\n",
       "                        <td id=\"T_eff93200_8874_11ea_90b6_c4b301d09f4brow5_col5\" class=\"data row5 col5\" ></td>\n",
       "            </tr>\n",
       "            <tr>\n",
       "                        <th id=\"T_eff93200_8874_11ea_90b6_c4b301d09f4blevel0_row6\" class=\"row_heading level0 row6\" >disk_bulge_bar_sp_model</th>\n",
       "                        <th id=\"T_eff93200_8874_11ea_90b6_c4b301d09f4blevel1_row6\" class=\"row_heading level1 row6\" >21686529</th>\n",
       "                        <td id=\"T_eff93200_8874_11ea_90b6_c4b301d09f4brow6_col0\" class=\"data row6 col0\" >✔️</td>\n",
       "                        <td id=\"T_eff93200_8874_11ea_90b6_c4b301d09f4brow6_col1\" class=\"data row6 col1\" >✔️</td>\n",
       "                        <td id=\"T_eff93200_8874_11ea_90b6_c4b301d09f4brow6_col2\" class=\"data row6 col2\" >✔️</td>\n",
       "                        <td id=\"T_eff93200_8874_11ea_90b6_c4b301d09f4brow6_col3\" class=\"data row6 col3\" >✔️</td>\n",
       "                        <td id=\"T_eff93200_8874_11ea_90b6_c4b301d09f4brow6_col4\" class=\"data row6 col4\" >✔️</td>\n",
       "                        <td id=\"T_eff93200_8874_11ea_90b6_c4b301d09f4brow6_col5\" class=\"data row6 col5\" ></td>\n",
       "            </tr>\n",
       "            <tr>\n",
       "                        <th id=\"T_eff93200_8874_11ea_90b6_c4b301d09f4blevel0_row7\" class=\"row_heading level0 row7\" >disk_bar_sp_model2</th>\n",
       "                        <th id=\"T_eff93200_8874_11ea_90b6_c4b301d09f4blevel1_row7\" class=\"row_heading level1 row7\" >21686576</th>\n",
       "                        <td id=\"T_eff93200_8874_11ea_90b6_c4b301d09f4brow7_col0\" class=\"data row7 col0\" >✔️</td>\n",
       "                        <td id=\"T_eff93200_8874_11ea_90b6_c4b301d09f4brow7_col1\" class=\"data row7 col1\" >Type 1</td>\n",
       "                        <td id=\"T_eff93200_8874_11ea_90b6_c4b301d09f4brow7_col2\" class=\"data row7 col2\" >✔️</td>\n",
       "                        <td id=\"T_eff93200_8874_11ea_90b6_c4b301d09f4brow7_col3\" class=\"data row7 col3\" >✔️</td>\n",
       "                        <td id=\"T_eff93200_8874_11ea_90b6_c4b301d09f4brow7_col4\" class=\"data row7 col4\" >✔️</td>\n",
       "                        <td id=\"T_eff93200_8874_11ea_90b6_c4b301d09f4brow7_col5\" class=\"data row7 col5\" ></td>\n",
       "            </tr>\n",
       "            <tr>\n",
       "                        <th id=\"T_eff93200_8874_11ea_90b6_c4b301d09f4blevel0_row8\" class=\"row_heading level0 row8\" >disk_bulge_model</th>\n",
       "                        <th id=\"T_eff93200_8874_11ea_90b6_c4b301d09f4blevel1_row8\" class=\"row_heading level1 row8\" >21686588</th>\n",
       "                        <td id=\"T_eff93200_8874_11ea_90b6_c4b301d09f4brow8_col0\" class=\"data row8 col0\" >✔️</td>\n",
       "                        <td id=\"T_eff93200_8874_11ea_90b6_c4b301d09f4brow8_col1\" class=\"data row8 col1\" >✔️</td>\n",
       "                        <td id=\"T_eff93200_8874_11ea_90b6_c4b301d09f4brow8_col2\" class=\"data row8 col2\" ></td>\n",
       "                        <td id=\"T_eff93200_8874_11ea_90b6_c4b301d09f4brow8_col3\" class=\"data row8 col3\" ></td>\n",
       "                        <td id=\"T_eff93200_8874_11ea_90b6_c4b301d09f4brow8_col4\" class=\"data row8 col4\" ></td>\n",
       "                        <td id=\"T_eff93200_8874_11ea_90b6_c4b301d09f4brow8_col5\" class=\"data row8 col5\" ></td>\n",
       "            </tr>\n",
       "    </tbody></table>"
      ],
      "text/plain": [
       "<pandas.io.formats.style.Styler at 0x1a29c69d30>"
      ]
     },
     "execution_count": 14,
     "metadata": {},
     "output_type": "execute_result"
    }
   ],
   "source": [
    "base_has_comp2 = base_has_comp.copy()\n",
    "base_has_comp2.index = index_map.name[base_has_comp2.index]\n",
    "agg_has_comp2 = agg_has_comp.copy()\n",
    "agg_has_comp2.index = index_map.name[agg_has_comp2.index]\n",
    "\n",
    "def color_false_red(val):\n",
    "    color = 'green' if val == '✔️' else 'red'\n",
    "    return 'color: %s' % color\n",
    "\n",
    "display(Markdown('### Did we recover the component?:'))\n",
    "df = (base_has_comp2.astype(int) - agg_has_comp2.astype(int)).astype(object).fillna(0)\n",
    "df[~(base_has_comp2 | agg_has_comp2)] = np.nan\n",
    "df.index = pd.MultiIndex.from_arrays([index_map.name, index_map.index.rename('base_subject_id')])\n",
    "df.replace(np.nan, '').replace(1, 'Type 2').replace(-1, 'Type 1').replace(0, '✔️').style.applymap(color_false_red)"
   ]
  },
  {
   "cell_type": "code",
   "execution_count": 15,
   "metadata": {
    "collapsed": false,
    "inputHidden": false,
    "jupyter": {
     "outputs_hidden": false
    },
    "outputHidden": false
   },
   "outputs": [],
   "source": [
    "from gzbuilder_analysis.aggregation.spirals import get_drawn_arms\n",
    "from astropy.visualization import AsinhStretch\n",
    "from descartes import PolygonPatch"
   ]
  },
  {
   "cell_type": "markdown",
   "metadata": {},
   "source": [
    "Plot the models we recieved:"
   ]
  },
  {
   "cell_type": "code",
   "execution_count": 16,
   "metadata": {
    "collapsed": false,
    "inputHidden": false,
    "jupyter": {
     "outputs_hidden": false
    },
    "outputHidden": false
   },
   "outputs": [],
   "source": [
    "# os.makedirs('affirmation_subjects_results/classifications', exist_ok=True)\n",
    "# with tqdm(base_models.index) as bar:\n",
    "#     for subject_id in bar:\n",
    "#         geoms = agg_results[subject_id].input_models.apply(ag.get_geoms).apply(pd.Series)\n",
    "#         drawn_arms = agg_results[subject_id].input_models\n",
    "#         f, ax_ = plt.subplots(nrows=2, ncols=2, sharex=True, sharey=True, figsize=(8, 9), dpi=100)\n",
    "#         ax = ax_.ravel()\n",
    "#         plt.suptitle(index_map.name[subject_id].replace('_', ' ').replace('sp', 'spiral').capitalize())\n",
    "#         im = np.array(diffs.loc[subject_id].galaxy_data)\n",
    "#         [a.axis('off') for a in ax];\n",
    "#         [a.imshow(AsinhStretch()(im), cmap='gray_r') for a in ax];\n",
    "\n",
    "#         for i, k in enumerate(('disk', 'bulge', 'bar')):\n",
    "#             for _, g in geoms[k].iteritems():\n",
    "#                 if g is not None:\n",
    "#                     ax[i].add_patch(PolygonPatch(g, ec='C{}'.format(i), fc='none', alpha=0.6))\n",
    "\n",
    "#         for arm in get_drawn_arms(agg_results[subject_id].input_models):\n",
    "#             ax[3].plot(*arm.T, c='r', alpha=0.4)\n",
    "#         plt.tight_layout()\n",
    "#         plt.xlim(0, im.shape[1])\n",
    "#         plt.ylim(0, im.shape[0])\n",
    "#         plt.savefig('affirmation_subjects_results/classifications/{}.png'.format(index_map.name[subject_id]), bbox_inches='tight')\n",
    "#         plt.close()"
   ]
  },
  {
   "cell_type": "markdown",
   "metadata": {},
   "source": [
    "We have performed tuning separately, let's see how models stack up:"
   ]
  },
  {
   "cell_type": "code",
   "execution_count": 117,
   "metadata": {
    "collapsed": false,
    "inputHidden": false,
    "jupyter": {
     "outputs_hidden": false
    },
    "outputHidden": false
   },
   "outputs": [],
   "source": [
    "true_models = base_models.model.apply(lambda m: pd.DataFrame(m).unstack()).T\n",
    "true_models = true_models[np.any(true_models.notna(), axis=1)]\n",
    "true_models.columns = index_map.name[true_models.columns]"
   ]
  },
  {
   "cell_type": "code",
   "execution_count": 18,
   "metadata": {
    "collapsed": false,
    "inputHidden": false,
    "jupyter": {
     "outputs_hidden": false
    },
    "outputHidden": false
   },
   "outputs": [],
   "source": [
    "tuning_results = index_map.set_index('name', drop=False).name.apply(lambda n: pd.read_pickle(\n",
    "    f'affirmation_subjects_results/tuning_results/{n}.pickle.gz'\n",
    ")).apply(pd.Series)\n",
    "final_models = tuning_results.deparametrized.apply(pd.Series).T\n",
    "final_models = final_models[np.any(final_models.notna(), axis=1)]"
   ]
  },
  {
   "cell_type": "code",
   "execution_count": 19,
   "metadata": {
    "collapsed": false,
    "inputHidden": false,
    "jupyter": {
     "outputs_hidden": false
    },
    "outputHidden": false
   },
   "outputs": [
    {
     "data": {
      "text/plain": [
       "count    9.000000\n",
       "mean     1.075522\n",
       "std      0.114414\n",
       "min      1.000161\n",
       "25%      1.008510\n",
       "50%      1.014687\n",
       "75%      1.102850\n",
       "max      1.331804\n",
       "Name: chisq, dtype: float64"
      ]
     },
     "execution_count": 19,
     "metadata": {},
     "output_type": "execute_result"
    }
   ],
   "source": [
    "tuning_results.chisq.astype(float).describe()"
   ]
  },
  {
   "cell_type": "code",
   "execution_count": 118,
   "metadata": {
    "collapsed": false,
    "inputHidden": false,
    "jupyter": {
     "outputs_hidden": false
    },
    "outputHidden": false
   },
   "outputs": [],
   "source": [
    "fitting_df = pd.concat((true_models, final_models.T.add_suffix('_fit').T), axis=0)"
   ]
  },
  {
   "cell_type": "code",
   "execution_count": 119,
   "metadata": {},
   "outputs": [
    {
     "data": {
      "text/html": [
       "<div>\n",
       "<style scoped>\n",
       "    .dataframe tbody tr th:only-of-type {\n",
       "        vertical-align: middle;\n",
       "    }\n",
       "\n",
       "    .dataframe tbody tr th {\n",
       "        vertical-align: top;\n",
       "    }\n",
       "\n",
       "    .dataframe thead th {\n",
       "        text-align: right;\n",
       "    }\n",
       "</style>\n",
       "<table border=\"1\" class=\"dataframe\">\n",
       "  <thead>\n",
       "    <tr style=\"text-align: right;\">\n",
       "      <th></th>\n",
       "      <th></th>\n",
       "      <th>disk_sp_model</th>\n",
       "      <th>disk_bar_sp_model2</th>\n",
       "      <th>disk_bulge_model</th>\n",
       "      <th>disk_bulge_model2</th>\n",
       "      <th>disk_model</th>\n",
       "      <th>disk_bulge_bar_sp_model</th>\n",
       "      <th>disk_bulge_sp_model</th>\n",
       "      <th>disk_bar_sp_model</th>\n",
       "      <th>disk_bulge_bar_model</th>\n",
       "    </tr>\n",
       "  </thead>\n",
       "  <tbody>\n",
       "    <tr>\n",
       "      <th rowspan=\"5\" valign=\"top\">bar</th>\n",
       "      <th>I</th>\n",
       "      <td>None</td>\n",
       "      <td>1.6932086159615007</td>\n",
       "      <td>None</td>\n",
       "      <td>None</td>\n",
       "      <td>None</td>\n",
       "      <td>1.1664117380439887</td>\n",
       "      <td>None</td>\n",
       "      <td>0.539114970158152</td>\n",
       "      <td>0.8797910605421893</td>\n",
       "    </tr>\n",
       "    <tr>\n",
       "      <th>Re</th>\n",
       "      <td>NaN</td>\n",
       "      <td>4.18773</td>\n",
       "      <td>NaN</td>\n",
       "      <td>NaN</td>\n",
       "      <td>NaN</td>\n",
       "      <td>8.20556</td>\n",
       "      <td>NaN</td>\n",
       "      <td>6.88832</td>\n",
       "      <td>4.27857</td>\n",
       "    </tr>\n",
       "    <tr>\n",
       "      <th>c</th>\n",
       "      <td>NaN</td>\n",
       "      <td>3</td>\n",
       "      <td>NaN</td>\n",
       "      <td>NaN</td>\n",
       "      <td>NaN</td>\n",
       "      <td>2</td>\n",
       "      <td>NaN</td>\n",
       "      <td>4</td>\n",
       "      <td>3</td>\n",
       "    </tr>\n",
       "    <tr>\n",
       "      <th>mux</th>\n",
       "      <td>NaN</td>\n",
       "      <td>66.9631</td>\n",
       "      <td>NaN</td>\n",
       "      <td>NaN</td>\n",
       "      <td>NaN</td>\n",
       "      <td>127.087</td>\n",
       "      <td>NaN</td>\n",
       "      <td>99.3755</td>\n",
       "      <td>43.6809</td>\n",
       "    </tr>\n",
       "    <tr>\n",
       "      <th>muy</th>\n",
       "      <td>NaN</td>\n",
       "      <td>66.114</td>\n",
       "      <td>NaN</td>\n",
       "      <td>NaN</td>\n",
       "      <td>NaN</td>\n",
       "      <td>127.76</td>\n",
       "      <td>NaN</td>\n",
       "      <td>100.167</td>\n",
       "      <td>42.3981</td>\n",
       "    </tr>\n",
       "    <tr>\n",
       "      <th>...</th>\n",
       "      <th>...</th>\n",
       "      <td>...</td>\n",
       "      <td>...</td>\n",
       "      <td>...</td>\n",
       "      <td>...</td>\n",
       "      <td>...</td>\n",
       "      <td>...</td>\n",
       "      <td>...</td>\n",
       "      <td>...</td>\n",
       "      <td>...</td>\n",
       "    </tr>\n",
       "    <tr>\n",
       "      <th rowspan=\"5\" valign=\"top\">spiral_fit</th>\n",
       "      <th>t_max.1_fit</th>\n",
       "      <td>-2.88551</td>\n",
       "      <td>-0.552038</td>\n",
       "      <td>NaN</td>\n",
       "      <td>NaN</td>\n",
       "      <td>NaN</td>\n",
       "      <td>0.966253</td>\n",
       "      <td>1.57532</td>\n",
       "      <td>-2.32655</td>\n",
       "      <td>NaN</td>\n",
       "    </tr>\n",
       "    <tr>\n",
       "      <th>t_max.2_fit</th>\n",
       "      <td>0.535128</td>\n",
       "      <td>NaN</td>\n",
       "      <td>NaN</td>\n",
       "      <td>NaN</td>\n",
       "      <td>NaN</td>\n",
       "      <td>NaN</td>\n",
       "      <td>NaN</td>\n",
       "      <td>NaN</td>\n",
       "      <td>NaN</td>\n",
       "    </tr>\n",
       "    <tr>\n",
       "      <th>t_min.0_fit</th>\n",
       "      <td>-1.61323</td>\n",
       "      <td>0.347056</td>\n",
       "      <td>NaN</td>\n",
       "      <td>NaN</td>\n",
       "      <td>NaN</td>\n",
       "      <td>0.112566</td>\n",
       "      <td>2.63391</td>\n",
       "      <td>-2.19146</td>\n",
       "      <td>NaN</td>\n",
       "    </tr>\n",
       "    <tr>\n",
       "      <th>t_min.1_fit</th>\n",
       "      <td>-6.77695</td>\n",
       "      <td>-2.69748</td>\n",
       "      <td>NaN</td>\n",
       "      <td>NaN</td>\n",
       "      <td>NaN</td>\n",
       "      <td>-2.60523</td>\n",
       "      <td>-1.30328</td>\n",
       "      <td>-5.48193</td>\n",
       "      <td>NaN</td>\n",
       "    </tr>\n",
       "    <tr>\n",
       "      <th>t_min.2_fit</th>\n",
       "      <td>-4.87214</td>\n",
       "      <td>NaN</td>\n",
       "      <td>NaN</td>\n",
       "      <td>NaN</td>\n",
       "      <td>NaN</td>\n",
       "      <td>NaN</td>\n",
       "      <td>NaN</td>\n",
       "      <td>NaN</td>\n",
       "      <td>NaN</td>\n",
       "    </tr>\n",
       "  </tbody>\n",
       "</table>\n",
       "<p>78 rows × 9 columns</p>\n",
       "</div>"
      ],
      "text/plain": [
       "                       disk_sp_model  disk_bar_sp_model2 disk_bulge_model  \\\n",
       "bar        I                    None  1.6932086159615007             None   \n",
       "           Re                    NaN             4.18773              NaN   \n",
       "           c                     NaN                   3              NaN   \n",
       "           mux                   NaN             66.9631              NaN   \n",
       "           muy                   NaN              66.114              NaN   \n",
       "...                              ...                 ...              ...   \n",
       "spiral_fit t_max.1_fit      -2.88551           -0.552038              NaN   \n",
       "           t_max.2_fit      0.535128                 NaN              NaN   \n",
       "           t_min.0_fit      -1.61323            0.347056              NaN   \n",
       "           t_min.1_fit      -6.77695            -2.69748              NaN   \n",
       "           t_min.2_fit      -4.87214                 NaN              NaN   \n",
       "\n",
       "                       disk_bulge_model2 disk_model disk_bulge_bar_sp_model  \\\n",
       "bar        I                        None       None      1.1664117380439887   \n",
       "           Re                        NaN        NaN                 8.20556   \n",
       "           c                         NaN        NaN                       2   \n",
       "           mux                       NaN        NaN                 127.087   \n",
       "           muy                       NaN        NaN                  127.76   \n",
       "...                                  ...        ...                     ...   \n",
       "spiral_fit t_max.1_fit               NaN        NaN                0.966253   \n",
       "           t_max.2_fit               NaN        NaN                     NaN   \n",
       "           t_min.0_fit               NaN        NaN                0.112566   \n",
       "           t_min.1_fit               NaN        NaN                -2.60523   \n",
       "           t_min.2_fit               NaN        NaN                     NaN   \n",
       "\n",
       "                       disk_bulge_sp_model  disk_bar_sp_model  \\\n",
       "bar        I                          None  0.539114970158152   \n",
       "           Re                          NaN            6.88832   \n",
       "           c                           NaN                  4   \n",
       "           mux                         NaN            99.3755   \n",
       "           muy                         NaN            100.167   \n",
       "...                                    ...                ...   \n",
       "spiral_fit t_max.1_fit             1.57532           -2.32655   \n",
       "           t_max.2_fit                 NaN                NaN   \n",
       "           t_min.0_fit             2.63391           -2.19146   \n",
       "           t_min.1_fit            -1.30328           -5.48193   \n",
       "           t_min.2_fit                 NaN                NaN   \n",
       "\n",
       "                       disk_bulge_bar_model  \n",
       "bar        I             0.8797910605421893  \n",
       "           Re                       4.27857  \n",
       "           c                              3  \n",
       "           mux                      43.6809  \n",
       "           muy                      42.3981  \n",
       "...                                     ...  \n",
       "spiral_fit t_max.1_fit                  NaN  \n",
       "           t_max.2_fit                  NaN  \n",
       "           t_min.0_fit                  NaN  \n",
       "           t_min.1_fit                  NaN  \n",
       "           t_min.2_fit                  NaN  \n",
       "\n",
       "[78 rows x 9 columns]"
      ]
     },
     "execution_count": 119,
     "metadata": {},
     "output_type": "execute_result"
    }
   ],
   "source": [
    "fitting_df"
   ]
  },
  {
   "cell_type": "code",
   "execution_count": 120,
   "metadata": {
    "collapsed": false,
    "inputHidden": false,
    "jupyter": {
     "outputs_hidden": false
    },
    "outputHidden": false
   },
   "outputs": [
    {
     "name": "stdout",
     "output_type": "stream",
     "text": [
      "('disk', 'mux', '$\\\\mu_x$')\n",
      "('disk', 'muy', '$\\\\mu_y$')\n",
      "('disk', 'Re', '$R_e$')\n",
      "('disk', 'q', '$q$')\n",
      "('disk', 'I', '$I$')\n",
      "('bulge', 'mux', '$\\\\mu_x$')\n",
      "('bulge', 'muy', '$\\\\mu_y$')\n",
      "('bulge', 'Re', '$R_e$')\n",
      "('bulge', 'q', '$q$')\n",
      "('bulge', 'I', '$I$')\n",
      "('bulge', 'n', '$n$')\n",
      "('bar', 'mux', '$\\\\mu_x$')\n",
      "('bar', 'muy', '$\\\\mu_y$')\n",
      "('bar', 'Re', '$R_e$')\n",
      "('bar', 'q', '$q$')\n",
      "('bar', 'I', '$I$')\n",
      "('bar', 'n', '$n$')\n",
      "('bar', 'c', '$c$')\n"
     ]
    },
    {
     "data": {
      "image/png": "[encoded data removed]",
      "text/plain": [
       "<Figure size 2100x900 with 21 Axes>"
      ]
     },
     "metadata": {
      "needs_background": "light"
     },
     "output_type": "display_data"
    }
   ],
   "source": [
    "ks = [\n",
    "    ('disk',  'mux', r'$\\mu_x$'), ('disk', 'muy',  r'$\\mu_y$'), ('disk',  'Re', r'$R_e$'), ('disk',  'q', r'$q$'), ('disk',  'I', r'$I$'),\n",
    "    ('bulge', 'mux', r'$\\mu_x$'), ('bulge', 'muy', r'$\\mu_y$'), ('bulge', 'Re', r'$R_e$'), ('bulge', 'q', r'$q$'), ('bulge',  'I', r'$I$'), ('bulge', 'n', '$n$'),\n",
    "    ('bar',   'mux', r'$\\mu_x$'), ('bar',   'muy', r'$\\mu_y$'), ('bar',   'Re', r'$R_e$'), ('bar',   'q', r'$q$'), ('bar',  'I', r'$I$'), ('bar', 'n', '$n$'), ('bar', 'c', '$c$')\n",
    "]\n",
    "f, ax = plt.subplots(ncols=7, nrows=3, figsize=(7*3, 3*3), dpi=100)\n",
    "col_n = 0\n",
    "[a.axis('off') for a in ax.ravel()]\n",
    "for i in range(len(ks)):\n",
    "    k = ks[i]\n",
    "    row_n = {'disk': 0, 'bulge': 1, 'bar': 2}[k[0]]\n",
    "    if k[0] != ks[i-1][0]:\n",
    "        col_n = 0\n",
    "    else:\n",
    "        col_n += 1\n",
    "    plt.sca(ax[row_n, col_n])\n",
    "    ax[row_n, col_n].axis('on')\n",
    "\n",
    "    k2 = tuple([f'{j}_fit' for j in k])\n",
    "    plt.scatter(fitting_df.loc[k[:-1]], fitting_df.loc[k2[:-1]])\n",
    "    plt.title(r'{} {}'.format(k[0].capitalize(), k[2]))\n",
    "#     plt.ylabel(r'Fit {0} {2}'.format(*k))\n",
    "#     plt.xlabel(r'True {0} {2}'.format(*k))\n",
    "    print(k)\n",
    "    ax[row_n, col_n].add_line(plt.Line2D((0, 1E5), (0, 1E5), c='k', alpha=0.2))\n",
    "    if 'q' in k:\n",
    "        plt.xlim(0, 1)\n",
    "        plt.ylim(0, 1)\n",
    "    else:\n",
    "        l = np.stack((plt.xlim(), plt.ylim()))\n",
    "        plt.xlim(l.min(), l.max())\n",
    "        plt.ylim(l.min(), l.max())\n",
    "[a[0].set_ylabel('Fit value') for a in ax]\n",
    "[a.set_xlabel('True value') for a in ax[-1]]\n",
    "plt.tight_layout()\n",
    "plt.savefig('method-paper-plots/calibration_parameter_recovery.pdf', bbox_inches='tight')\n",
    "plt.savefig('method-paper-plots/calibration_parameter_recovery.png', bbox_inches='tight')"
   ]
  },
  {
   "cell_type": "markdown",
   "metadata": {},
   "source": [
    "## Bulge fraction"
   ]
  },
  {
   "cell_type": "code",
   "execution_count": 22,
   "metadata": {},
   "outputs": [],
   "source": [
    "from gzbuilder_analysis.fitting.misc import psf_conv\n",
    "from gzbuilder_analysis.fitting.optimizer import render_comps\n",
    "from gzbuilder_analysis.fitting.reparametrization import to_reparametrization\n",
    "from gzbuilder_analysis.rendering.jax.sersic import sersic_ltot"
   ]
  },
  {
   "cell_type": "code",
   "execution_count": 23,
   "metadata": {},
   "outputs": [
    {
     "name": "stderr",
     "output_type": "stream",
     "text": [
      "/Users/tlingard/anaconda3/lib/python3.6/site-packages/jax/lib/xla_bridge.py:122: UserWarning: No GPU/TPU found, falling back to CPU.\n",
      "  warnings.warn('No GPU/TPU found, falling back to CPU.')\n"
     ]
    }
   ],
   "source": [
    "def get_central_frac(idx):\n",
    "    z = np.zeros(1)\n",
    "    m_base = base_models.model.loc[idx]\n",
    "    m = pd.DataFrame(to_reparametrization(\n",
    "        m_base\n",
    "    )).unstack().dropna()\n",
    "    comps = render_comps(\n",
    "        m.to_dict(), \n",
    "        ('bulge', 'n') in m,\n",
    "        ('bar', 'c') in m,\n",
    "        len(m.get('spiral', [])) // 6,\n",
    "        diffs.loc[idx].galaxy_data.shape,\n",
    "        11,\n",
    "        m[('disk', 'roll')]\n",
    "    )\n",
    "    disk_L = sersic_ltot(m_base['disk']['I'], m_base['disk']['Re'], m_base['disk']['q'])\n",
    "    if m_base.get('bulge', None):\n",
    "        bulge_L = sersic_ltot(\n",
    "            m_base['bulge']['I'],\n",
    "            m_base['bulge']['Re'],\n",
    "            m_base['bulge']['q'],\n",
    "            n=m_base['bulge']['n']\n",
    "        )\n",
    "    else:\n",
    "        bulge_L = 0\n",
    "    if m_base.get('bar', None):\n",
    "        bar_L = sersic_ltot(\n",
    "            m_base['bar']['I'],\n",
    "            m_base['bar']['Re'],\n",
    "            m_base['bar']['q'],\n",
    "            n=m_base['bar']['n']\n",
    "        )\n",
    "    else:\n",
    "        bar_L = 0\n",
    "    gal_L = disk_L + comps.get('spiral', z).sum() + bulge_L + bar_L\n",
    "    return (bulge_L + bar_L) / gal_L\n",
    "    \n",
    "initial_fracs = base_models.index.to_series().apply(get_central_frac).rename(index_map.name.to_dict())"
   ]
  },
  {
   "cell_type": "code",
   "execution_count": 24,
   "metadata": {},
   "outputs": [],
   "source": [
    "fit_fracs = tuning_results.bulge_frac + tuning_results.bar_frac"
   ]
  },
  {
   "cell_type": "code",
   "execution_count": 25,
   "metadata": {},
   "outputs": [
    {
     "data": {
      "image/png": "[encoded data removed]",
      "text/plain": [
       "<Figure size 432x432 with 1 Axes>"
      ]
     },
     "metadata": {
      "needs_background": "light"
     },
     "output_type": "display_data"
    }
   ],
   "source": [
    "plt.figure(figsize=(6, 6))\n",
    "pd.concat((initial_fracs, fit_fracs), axis=1).plot.scatter(0, 1, ax=plt.gca())\n",
    "plt.gca().add_line(plt.Line2D((-1, 2), (-1, 2), c='k', alpha=0.2))\n",
    "plt.axis('equal')\n",
    "plt.xlim(-0.1, 1.1); plt.ylim(-0.1, 1.1);\n",
    "plt.xlabel('Original central fraction');\n",
    "plt.ylabel('Fit central fraction');"
   ]
  },
  {
   "cell_type": "markdown",
   "metadata": {},
   "source": [
    "We have one bad outlier (manual checking reveals the residual is good, but luminosities seem to have been calculated weirdly....)"
   ]
  },
  {
   "cell_type": "code",
   "execution_count": 26,
   "metadata": {},
   "outputs": [
    {
     "data": {
      "text/html": [
       "<div>\n",
       "<style scoped>\n",
       "    .dataframe tbody tr th:only-of-type {\n",
       "        vertical-align: middle;\n",
       "    }\n",
       "\n",
       "    .dataframe tbody tr th {\n",
       "        vertical-align: top;\n",
       "    }\n",
       "\n",
       "    .dataframe thead th {\n",
       "        text-align: right;\n",
       "    }\n",
       "</style>\n",
       "<table border=\"1\" class=\"dataframe\">\n",
       "  <thead>\n",
       "    <tr style=\"text-align: right;\">\n",
       "      <th></th>\n",
       "      <th>true</th>\n",
       "      <th>fit</th>\n",
       "    </tr>\n",
       "  </thead>\n",
       "  <tbody>\n",
       "    <tr>\n",
       "      <th>disk_bulge_model2</th>\n",
       "      <td>0.6984039915555335</td>\n",
       "      <td>0.040704</td>\n",
       "    </tr>\n",
       "  </tbody>\n",
       "</table>\n",
       "</div>"
      ],
      "text/plain": [
       "                                 true       fit\n",
       "disk_bulge_model2  0.6984039915555335  0.040704"
      ]
     },
     "execution_count": 26,
     "metadata": {},
     "output_type": "execute_result"
    }
   ],
   "source": [
    "pd.concat((initial_fracs, fit_fracs), axis=1).rename(columns={0: 'true', 1: 'fit'}).query('true > 0.5')"
   ]
  },
  {
   "cell_type": "markdown",
   "metadata": {},
   "source": [
    "## Spiral pitch angle recovery"
   ]
  },
  {
   "cell_type": "code",
   "execution_count": 27,
   "metadata": {
    "collapsed": false,
    "inputHidden": false,
    "jupyter": {
     "outputs_hidden": false
    },
    "outputHidden": false
   },
   "outputs": [
    {
     "data": {
      "text/html": [
       "<div>\n",
       "<style scoped>\n",
       "    .dataframe tbody tr th:only-of-type {\n",
       "        vertical-align: middle;\n",
       "    }\n",
       "\n",
       "    .dataframe tbody tr th {\n",
       "        vertical-align: top;\n",
       "    }\n",
       "\n",
       "    .dataframe thead tr th {\n",
       "        text-align: left;\n",
       "    }\n",
       "\n",
       "    .dataframe thead tr:last-of-type th {\n",
       "        text-align: right;\n",
       "    }\n",
       "</style>\n",
       "<table border=\"1\" class=\"dataframe\">\n",
       "  <thead>\n",
       "    <tr>\n",
       "      <th></th>\n",
       "      <th colspan=\"3\" halign=\"left\">spiral_agg</th>\n",
       "    </tr>\n",
       "    <tr>\n",
       "      <th></th>\n",
       "      <th>phi.0</th>\n",
       "      <th>phi.1</th>\n",
       "      <th>phi.2</th>\n",
       "    </tr>\n",
       "    <tr>\n",
       "      <th>name</th>\n",
       "      <th></th>\n",
       "      <th></th>\n",
       "      <th></th>\n",
       "    </tr>\n",
       "  </thead>\n",
       "  <tbody>\n",
       "    <tr>\n",
       "      <th>disk_sp_model</th>\n",
       "      <td>-28.283550</td>\n",
       "      <td>-25.101069</td>\n",
       "      <td>-14.936064</td>\n",
       "    </tr>\n",
       "    <tr>\n",
       "      <th>disk_bulge_model2</th>\n",
       "      <td>NaN</td>\n",
       "      <td>NaN</td>\n",
       "      <td>NaN</td>\n",
       "    </tr>\n",
       "    <tr>\n",
       "      <th>disk_bar_sp_model</th>\n",
       "      <td>-9.739853</td>\n",
       "      <td>-8.938560</td>\n",
       "      <td>NaN</td>\n",
       "    </tr>\n",
       "    <tr>\n",
       "      <th>disk_bar_sp_model2</th>\n",
       "      <td>25.001978</td>\n",
       "      <td>21.397447</td>\n",
       "      <td>NaN</td>\n",
       "    </tr>\n",
       "    <tr>\n",
       "      <th>disk_bulge_model</th>\n",
       "      <td>NaN</td>\n",
       "      <td>NaN</td>\n",
       "      <td>NaN</td>\n",
       "    </tr>\n",
       "    <tr>\n",
       "      <th>disk_bulge_bar_sp_model</th>\n",
       "      <td>35.264582</td>\n",
       "      <td>19.618960</td>\n",
       "      <td>NaN</td>\n",
       "    </tr>\n",
       "    <tr>\n",
       "      <th>disk_bulge_bar_model</th>\n",
       "      <td>NaN</td>\n",
       "      <td>NaN</td>\n",
       "      <td>NaN</td>\n",
       "    </tr>\n",
       "    <tr>\n",
       "      <th>disk_model</th>\n",
       "      <td>NaN</td>\n",
       "      <td>NaN</td>\n",
       "      <td>NaN</td>\n",
       "    </tr>\n",
       "    <tr>\n",
       "      <th>disk_bulge_sp_model</th>\n",
       "      <td>12.608113</td>\n",
       "      <td>13.633626</td>\n",
       "      <td>NaN</td>\n",
       "    </tr>\n",
       "  </tbody>\n",
       "</table>\n",
       "</div>"
      ],
      "text/plain": [
       "                        spiral_agg                      \n",
       "                             phi.0      phi.1      phi.2\n",
       "name                                                    \n",
       "disk_sp_model           -28.283550 -25.101069 -14.936064\n",
       "disk_bulge_model2              NaN        NaN        NaN\n",
       "disk_bar_sp_model        -9.739853  -8.938560        NaN\n",
       "disk_bar_sp_model2       25.001978  21.397447        NaN\n",
       "disk_bulge_model               NaN        NaN        NaN\n",
       "disk_bulge_bar_sp_model  35.264582  19.618960        NaN\n",
       "disk_bulge_bar_model           NaN        NaN        NaN\n",
       "disk_model                     NaN        NaN        NaN\n",
       "disk_bulge_sp_model      12.608113  13.633626        NaN"
      ]
     },
     "execution_count": 27,
     "metadata": {},
     "output_type": "execute_result"
    }
   ],
   "source": [
    "agg_pitch_angles = agg_results.apply(lambda a: pd.Series([b.pa * b.chirality for b in a.spiral_arms], dtype=float))\n",
    "agg_pitch_angles.index = index_map.name[agg_pitch_angles.index]\n",
    "agg_pitch_angles.columns = pd.MultiIndex.from_product([['spiral_agg'], [f'phi.{i}' for i in agg_pitch_angles.columns]])\n",
    "agg_pitch_angles"
   ]
  },
  {
   "cell_type": "code",
   "execution_count": 30,
   "metadata": {
    "collapsed": false,
    "inputHidden": false,
    "jupyter": {
     "outputs_hidden": false
    },
    "outputHidden": false
   },
   "outputs": [],
   "source": [
    "spiral_df = pd.concat((\n",
    "    fitting_df.loc[[('spiral', f'phi.{i}') for i in range(3)]],\n",
    "    fitting_df.loc[[('spiral_fit', f'phi.{i}_fit') for i in range(3)]],\n",
    "    agg_pitch_angles.T\n",
    "), axis=0)\n",
    "\n",
    "agg_pa_err = pd.Series([], dtype=object)\n",
    "fit_pa_err = pd.Series([], dtype=object)\n",
    "for model in spiral_df.columns:\n",
    "    base_spirals = spiral_df[model].xs('spiral').reset_index(drop=True).rename('phi_base')\n",
    "    agg_spirals = spiral_df[model].xs('spiral_agg').reset_index(drop=True).rename('phi_agg')\n",
    "    fit_spirals = spiral_df[model].xs('spiral_fit').reset_index(drop=True).rename('phi_fit')\n",
    "    agg_idx = pd.MultiIndex.from_product([base_spirals.index, agg_spirals.index], names=['base', 'agg'])\n",
    "    agg_pairs = pd.concat([\n",
    "        base_spirals.reindex(agg_idx, level='base'),\n",
    "        agg_spirals.reindex(agg_idx, level='agg')\n",
    "    ], axis=1)\n",
    "    fit_idx = pd.MultiIndex.from_product([base_spirals.index, fit_spirals.index], names=['base', 'fit'])\n",
    "    fit_pairs = pd.concat([\n",
    "        base_spirals.reindex(fit_idx, level='base'),\n",
    "        fit_spirals.reindex(fit_idx, level='fit')\n",
    "    ], axis=1)\n",
    "    agg_pa_err.loc[model] = (agg_pairs.phi_base - agg_pairs.phi_agg).abs().dropna().min(level=0)    \n",
    "    fit_pa_err.loc[model] = (fit_pairs.phi_base - fit_pairs.phi_fit).abs().dropna().min(level=0)"
   ]
  },
  {
   "cell_type": "code",
   "execution_count": 31,
   "metadata": {
    "collapsed": false,
    "inputHidden": false,
    "jupyter": {
     "outputs_hidden": false
    },
    "outputHidden": false
   },
   "outputs": [
    {
     "data": {
      "text/plain": [
       "                         base\n",
       "disk_bar_sp_model        1       0.104838\n",
       "disk_bulge_bar_sp_model  0       0.381040\n",
       "disk_bar_sp_model2       0       1.397447\n",
       "disk_bulge_bar_sp_model  1       1.536476\n",
       "disk_sp_model            2       3.545086\n",
       "                         0       3.598100\n",
       "disk_bar_sp_model2       1       3.781856\n",
       "disk_sp_model            1       5.025559\n",
       "disk_bar_sp_model        0       7.315314\n",
       "disk_bulge_sp_model      0       8.532579\n",
       "                         1       8.629923\n",
       "Name: aggregate, dtype: float64"
      ]
     },
     "metadata": {},
     "output_type": "display_data"
    },
    {
     "data": {
      "text/plain": [
       "                         base\n",
       "disk_bulge_bar_sp_model  1       0.082444\n",
       "disk_bar_sp_model        1       0.254269\n",
       "disk_bulge_sp_model      0       1.092665\n",
       "                         1       1.190009\n",
       "disk_sp_model            2       1.913233\n",
       "disk_bulge_bar_sp_model  0       2.945404\n",
       "disk_bar_sp_model        0       3.450311\n",
       "disk_bar_sp_model2       0       3.518028\n",
       "disk_sp_model            0       3.742464\n",
       "                         1       5.283810\n",
       "disk_bar_sp_model2       1       5.902436\n",
       "Name: fit, dtype: float64"
      ]
     },
     "metadata": {},
     "output_type": "display_data"
    }
   ],
   "source": [
    "display(agg_pa_err.apply(pd.Series).T.unstack().dropna().sort_values().rename('aggregate'))\n",
    "display(fit_pa_err.apply(pd.Series).T.unstack().dropna().sort_values().rename('fit'))"
   ]
  }
 ],
 "metadata": {
  "kernel_info": {
   "name": "python3"
  },
  "kernelspec": {
   "display_name": "Python 3",
   "language": "python",
   "name": "python3"
  },
  "language_info": {
   "codemirror_mode": {
    "name": "ipython",
    "version": 3
   },
   "file_extension": ".py",
   "mimetype": "text/x-python",
   "name": "python",
   "nbconvert_exporter": "python",
   "pygments_lexer": "ipython3",
   "version": "3.6.7"
  },
  "nteract": {
   "version": "0.15.0"
  }
 },
 "nbformat": 4,
 "nbformat_minor": 4
}
