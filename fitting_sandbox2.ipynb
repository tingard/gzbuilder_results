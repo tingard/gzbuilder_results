{
  "cells": [
    {
      "cell_type": "code",
      "source": [
        "%load_ext autoreload\n",
        "%autoreload 2"
      ],
      "outputs": [],
      "execution_count": 1,
      "metadata": {
        "collapsed": false,
        "outputHidden": false,
        "inputHidden": false
      }
    },
    {
      "cell_type": "code",
      "source": [
        "import matplotlib.pyplot as plt\n",
        "import jax.numpy as np\n",
        "from jax import jit, random, ops, jacfwd, jacrev, vmap\n",
        "import pandas as pd\n",
        "import gzbuilder_analysis.parsing as pg\n",
        "from scipy.optimize import minimize\n",
        "from gzbuilder_analysis.rendering.jax.spiral import vmap_polyline_distance\n",
        "import gzbuilder_analysis.rendering.jax.fit as fit\n",
        "\n",
        "from jax.config import config\n",
        "config.update(\"jax_enable_x64\", True)"
      ],
      "outputs": [],
      "execution_count": 2,
      "metadata": {
        "collapsed": false,
        "outputHidden": false,
        "inputHidden": false
      }
    },
    {
      "cell_type": "code",
      "source": [
        "key = random.PRNGKey(0)"
      ],
      "outputs": [],
      "execution_count": 108,
      "metadata": {
        "collapsed": false,
        "outputHidden": false,
        "inputHidden": false
      }
    },
    {
      "cell_type": "code",
      "source": [
        "diff_data_df = pd.read_pickle('lib/fitting_metadata.pkl')"
      ],
      "outputs": [],
      "execution_count": 3,
      "metadata": {
        "collapsed": false,
        "outputHidden": false,
        "inputHidden": false
      }
    },
    {
      "cell_type": "code",
      "source": [
        "subject_id = 20902040"
      ],
      "outputs": [],
      "execution_count": 4,
      "metadata": {
        "collapsed": false,
        "outputHidden": false,
        "inputHidden": false
      }
    },
    {
      "cell_type": "code",
      "source": [
        "diff_data = diff_data_df.loc[subject_id]\n",
        "psf = diff_data['psf']\n",
        "target = np.asarray(diff_data['galaxy_data'].data)\n",
        "mask = np.asarray(diff_data['galaxy_data'].mask)\n",
        "sigma = np.asarray(diff_data['sigma_image'].data)"
      ],
      "outputs": [
        {
          "output_type": "stream",
          "name": "stderr",
          "text": [
            "/Users/tlingard/anaconda3/lib/python3.6/site-packages/jax/lib/xla_bridge.py:119: UserWarning: No GPU/TPU found, falling back to CPU.\n",
            "  warnings.warn('No GPU/TPU found, falling back to CPU.')\n"
          ]
        }
      ],
      "execution_count": 5,
      "metadata": {
        "collapsed": false,
        "outputHidden": false,
        "inputHidden": false
      }
    },
    {
      "cell_type": "code",
      "source": [
        "agg_res = pd.read_pickle(f'output_files/aggregation_results/{subject_id}.pkl.gz')"
      ],
      "outputs": [],
      "execution_count": 6,
      "metadata": {
        "collapsed": false,
        "outputHidden": false,
        "inputHidden": false
      }
    },
    {
      "cell_type": "code",
      "source": [
        "fake_model = dict(\n",
        "    disk=dict(mux=125., muy=125., q=0.9, roll=0., Re=80., L=500.),\n",
        "    bulge=dict(mux=125., muy=125., q=0.9, roll=0., scale=0.3, frac=0, n=1.),\n",
        "    bar=dict(mux=50., muy=50., q=0.3, roll=0., scale=0.5, frac=0.0, n=1., c=2.),\n",
        "    spiral={},\n",
        ")\n",
        "fake_errors = dict(\n",
        "    disk=dict(mux=5., muy=5., q=0.05, roll=0.01, Re=50, L=np.inf),\n",
        "    bulge=dict(mux=5., muy=5., q=0.05, roll=0.01, scale=0.1, frac=np.inf, n=np.inf),\n",
        "    bar=dict(mux=2., muy=2., q=0.05, roll=0.01, scale=0.1, frac=np.inf, n=np.inf, c=np.inf),\n",
        ")\n",
        "starting_guess = dict(\n",
        "    disk=dict(mux=125.6, muy=122.8, q=0.9, roll=0., Re=85., L=520.),\n",
        "    bulge=dict(mux=125., muy=125., q=0.9, roll=0., scale=0.8, frac=0.2, n=1.0),\n",
        "    bar=dict(mux=50., muy=50., q=0.3, roll=0., scale=0.5, frac=0.0, n=1., c=2.),\n",
        "    spiral={},\n",
        ")"
      ],
      "outputs": [],
      "execution_count": null,
      "metadata": {
        "collapsed": false,
        "outputHidden": false,
        "inputHidden": false
      }
    },
    {
      "cell_type": "code",
      "source": [
        "keys = [(k0, k1) for k0 in fake_model for k1 in fake_model[k0]]\n",
        "keys = [v for v in keys if v[0] in {'disk',}]\n",
        "p_true = np.array([fake_model[k0][k1] for k0, k1 in keys])"
      ],
      "outputs": [],
      "execution_count": null,
      "metadata": {
        "collapsed": false,
        "outputHidden": false,
        "inputHidden": false
      }
    },
    {
      "cell_type": "code",
      "source": [
        "key, subkey = random.split(key)\n",
        "fake_galaxy = fit.create_model(p_true, keys, 0, fake_model, psf, target, 5)\n",
        "noise = random.normal(subkey, shape=fake_galaxy.shape) * sigma * 0.02\n",
        "fake_target = fake_galaxy #+ noise\n",
        "plt.imshow(fake_target)"
      ],
      "outputs": [],
      "execution_count": null,
      "metadata": {
        "collapsed": false,
        "outputHidden": false,
        "inputHidden": false
      }
    },
    {
      "cell_type": "code",
      "source": [
        "p2 = np.array([fake_model[k0][k1] for k0, k1 in keys])\n",
        "sp2 = np.array([fake_errors[k0][k1] for k0, k1 in keys])"
      ],
      "outputs": [],
      "execution_count": null,
      "metadata": {
        "collapsed": false,
        "outputHidden": false,
        "inputHidden": false
      }
    },
    {
      "cell_type": "code",
      "source": [
        "args_fake = (keys, 0, starting_guess, lims_fake_errors, psf, mask, fake_target, sigma)\n",
        "_jac = jacrev(fit.step)"
      ],
      "outputs": [],
      "execution_count": null,
      "metadata": {
        "collapsed": false,
        "outputHidden": false,
        "inputHidden": false
      }
    },
    {
      "cell_type": "code",
      "source": [
        "from scipy.optimize import minimize\n",
        "from tqdm import tqdm\n",
        "with tqdm(desc='Fitting') as pbar:\n",
        "    def callback(*args, **kwargs):\n",
        "        pbar.update(1)\n",
        "    res = minimize(fit.step, p2, args=args_fake, jac=_jac, callback=callback)"
      ],
      "outputs": [],
      "execution_count": null,
      "metadata": {
        "collapsed": false,
        "outputHidden": false,
        "inputHidden": false
      }
    },
    {
      "cell_type": "code",
      "source": [
        "plt.imshow(fit.create_model(res['x'], keys, 0, fake_model, psf, target, 5) - fake_galaxy)\n",
        "plt.colorbar()"
      ],
      "outputs": [],
      "execution_count": null,
      "metadata": {
        "collapsed": false,
        "outputHidden": false,
        "inputHidden": false
      }
    },
    {
      "cell_type": "code",
      "source": [
        "pd.concat((\n",
        "    pd.DataFrame(fit.to_dict(p_true, keys)).unstack(),\n",
        "    pd.DataFrame(fit.to_dict(res['x'], keys)).unstack(),\n",
        "), axis=1).dropna()"
      ],
      "outputs": [],
      "execution_count": null,
      "metadata": {
        "collapsed": false,
        "outputHidden": false,
        "inputHidden": false
      }
    },
    {
      "cell_type": "markdown",
      "source": [
        "## With a real model:"
      ],
      "metadata": {}
    },
    {
      "cell_type": "code",
      "source": [
        "reparametrized_model = fit.to_reparametrization(agg_res)\n",
        "reparametrized_errors = fit.get_reparametrized_erros(agg_res)\n",
        "\n",
        "keys = [(k0, k1) for k0 in reparametrized_model for k1 in reparametrized_model[k0]]\n",
        "p0 = np.array([reparametrized_model[k0][k1] for k0, k1 in keys])\n",
        "\n",
        "mu_param = p0.copy()\n",
        "sigma_param = np.array([reparametrized_errors[k0][k1] for k0, k1 in keys])"
      ],
      "outputs": [],
      "execution_count": 86,
      "metadata": {
        "collapsed": false,
        "outputHidden": false,
        "inputHidden": false
      }
    },
    {
      "cell_type": "code",
      "source": [
        "args = (keys, len(agg_res.spiral_arms), reparametrized_model, reparametrized_errors, psf, mask, target, sigma)"
      ],
      "outputs": [],
      "execution_count": 81,
      "metadata": {
        "collapsed": false,
        "outputHidden": false,
        "inputHidden": false
      }
    },
    {
      "cell_type": "markdown",
      "source": [
        "Compile the fitting function:"
      ],
      "metadata": {}
    },
    {
      "cell_type": "code",
      "source": [
        "fit.step(p0, *args).block_until_ready()"
      ],
      "outputs": [
        {
          "output_type": "execute_result",
          "execution_count": 82,
          "data": {
            "text/plain": [
              "DeviceArray(-375264.76338677, dtype=float64)"
            ]
          },
          "metadata": {}
        }
      ],
      "execution_count": 82,
      "metadata": {
        "collapsed": false,
        "outputHidden": false,
        "inputHidden": false
      }
    },
    {
      "cell_type": "markdown",
      "source": [
        "Let's see its evaluation time"
      ],
      "metadata": {}
    },
    {
      "cell_type": "code",
      "source": [
        "%timeit fit.step(p0, *args).block_until_ready()"
      ],
      "outputs": [
        {
          "output_type": "stream",
          "name": "stdout",
          "text": [
            "388 ms ± 97 ms per loop (mean ± std. dev. of 7 runs, 1 loop each)\n"
          ]
        }
      ],
      "execution_count": 10,
      "metadata": {
        "collapsed": false,
        "outputHidden": false,
        "inputHidden": false
      }
    },
    {
      "cell_type": "markdown",
      "source": [
        "We can also obtain a jacobian, which too needs to be compiled before profiling (reccomended to only run on the GPU):"
      ],
      "metadata": {}
    },
    {
      "cell_type": "code",
      "source": [
        "%%time\n",
        "_jac = jacrev(fit.step)\n",
        "_jac(p2, *args2).block_until_ready();"
      ],
      "outputs": [
        {
          "output_type": "stream",
          "name": "stdout",
          "text": [
            "CPU times: user 9.14 s, sys: 450 ms, total: 9.59 s\n",
            "Wall time: 9.13 s\n"
          ]
        },
        {
          "output_type": "execute_result",
          "execution_count": 126,
          "data": {
            "text/plain": [
              "DeviceArray([-1.99042703e+01, -1.92961206e+01, -1.00000000e+00,\n",
              "              6.27103160e+01, -2.79930050e+04,  5.39481157e-22,\n",
              "             -2.00047934e+01, -1.90901787e+01,  1.49857005e+02,\n",
              "             -3.02955479e+04,  0.00000000e+00,  1.85596299e+01,\n",
              "              3.23550227e-34], dtype=float64)"
            ]
          },
          "metadata": {}
        }
      ],
      "execution_count": 126,
      "metadata": {
        "collapsed": false,
        "outputHidden": false,
        "inputHidden": false
      }
    },
    {
      "cell_type": "code",
      "source": [
        "%%time\n",
        "_jac(p2, *args2).block_until_ready();"
      ],
      "outputs": [
        {
          "output_type": "stream",
          "name": "stdout",
          "text": [
            "CPU times: user 548 ms, sys: 179 ms, total: 727 ms\n",
            "Wall time: 415 ms\n"
          ]
        },
        {
          "output_type": "execute_result",
          "execution_count": 128,
          "data": {
            "text/plain": [
              "DeviceArray([-1.99042703e+01, -1.92961206e+01, -1.00000000e+00,\n",
              "              6.27103160e+01, -2.79930050e+04,  5.39481157e-22,\n",
              "             -2.00047934e+01, -1.90901787e+01,  1.49857005e+02,\n",
              "             -3.02955479e+04,  0.00000000e+00,  1.85596299e+01,\n",
              "              3.23550227e-34], dtype=float64)"
            ]
          },
          "metadata": {}
        }
      ],
      "execution_count": 128,
      "metadata": {
        "collapsed": false,
        "outputHidden": false,
        "inputHidden": false
      }
    }
  ],
  "metadata": {
    "kernel_info": {
      "name": "python3"
    },
    "language_info": {
      "name": "python",
      "version": "3.6.7",
      "mimetype": "text/x-python",
      "codemirror_mode": {
        "name": "ipython",
        "version": 3
      },
      "pygments_lexer": "ipython3",
      "nbconvert_exporter": "python",
      "file_extension": ".py"
    },
    "kernelspec": {
      "name": "python3",
      "language": "python",
      "display_name": "Python 3"
    },
    "nteract": {
      "version": "0.15.0"
    }
  },
  "nbformat": 4,
  "nbformat_minor": 0
}