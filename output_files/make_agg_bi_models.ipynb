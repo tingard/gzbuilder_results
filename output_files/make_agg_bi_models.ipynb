{
 "cells": [
  {
   "cell_type": "markdown",
   "metadata": {
    "papermill": {
     "duration": 0.00916,
     "end_time": "2019-08-21T13:18:23.558917",
     "exception": false,
     "start_time": "2019-08-21T13:18:23.549757",
     "status": "completed"
    },
    "tags": []
   },
   "source": [
    "# Model calculation\n",
    "\n",
    "This notebook obtains an aggregate model and a best individual classification for each model in galaxy builder's original 296 subjects."
   ]
  },
  {
   "cell_type": "code",
   "execution_count": 1,
   "metadata": {
    "collapsed": false,
    "inputHidden": false,
    "outputHidden": false,
    "papermill": {
     "duration": 0.022043,
     "end_time": "2019-08-21T13:18:23.589593",
     "exception": false,
     "start_time": "2019-08-21T13:18:23.567550",
     "status": "completed"
    },
    "tags": []
   },
   "outputs": [],
   "source": [
    "%load_ext autoreload\n",
    "%autoreload 2"
   ]
  },
  {
   "cell_type": "code",
   "execution_count": 2,
   "metadata": {
    "collapsed": false,
    "inputHidden": false,
    "outputHidden": false,
    "papermill": {
     "duration": 3.414551,
     "end_time": "2019-08-21T13:18:27.012792",
     "exception": false,
     "start_time": "2019-08-21T13:18:23.598241",
     "status": "completed"
    },
    "tags": []
   },
   "outputs": [],
   "source": [
    "import os\n",
    "import json\n",
    "import numpy as np\n",
    "import pandas as pd\n",
    "from copy import deepcopy\n",
    "import matplotlib.pyplot as plt\n",
    "from tqdm import tqdm\n",
    "import lib.galaxy_utilities as gu\n",
    "import gzbuilder_analysis.parsing as parsing\n",
    "import gzbuilder_analysis.rendering as rendering\n",
    "import gzbuilder_analysis.aggregation as aggregation\n",
    "import gzbuilder_analysis.fitting as fitting\n",
    "from gzbuilder_analysis.fitting.jupyter import UpdatableDisplay\n",
    "from IPython.display import HTML"
   ]
  },
  {
   "cell_type": "markdown",
   "metadata": {
    "papermill": {
     "duration": 0.011488,
     "end_time": "2019-08-21T13:18:27.033256",
     "exception": false,
     "start_time": "2019-08-21T13:18:27.021768",
     "status": "completed"
    },
    "tags": []
   },
   "source": [
    "Parameters of input (or output) file locations, and some opertational flags"
   ]
  },
  {
   "cell_type": "code",
   "execution_count": 3,
   "metadata": {
    "collapsed": false,
    "inputHidden": false,
    "outputHidden": false,
    "papermill": {
     "duration": 0.030929,
     "end_time": "2019-08-21T13:18:27.072563",
     "exception": false,
     "start_time": "2019-08-21T13:18:27.041634",
     "status": "completed"
    },
    "tags": [
     "parameters"
    ]
   },
   "outputs": [],
   "source": [
    "AGGREGATE_LOCATION = 'lib/aggregation_results.pickle'\n",
    "BEST_INDIVIDUAL_LOCATION = 'lib/best_individual.pickle'"
   ]
  },
  {
   "cell_type": "code",
   "execution_count": 4,
   "metadata": {
    "papermill": {
     "duration": 0.028369,
     "end_time": "2019-08-21T13:18:27.109138",
     "exception": false,
     "start_time": "2019-08-21T13:18:27.080769",
     "status": "completed"
    },
    "tags": [
     "injected-parameters"
    ]
   },
   "outputs": [],
   "source": [
    "# Parameters\n",
    "AGGREGATE_LOCATION = \"/users/tingard/gzbuilder_results/lib/aggregation_results.pickle\"\n",
    "BEST_INDIVIDUAL_LOCATION = \"/users/tingard/gzbuilder_results/lib/best_individual.pickle\"\n"
   ]
  },
  {
   "cell_type": "markdown",
   "metadata": {
    "papermill": {
     "duration": 0.008326,
     "end_time": "2019-08-21T13:18:27.126870",
     "exception": false,
     "start_time": "2019-08-21T13:18:27.118544",
     "status": "completed"
    },
    "tags": []
   },
   "source": [
    "Load in the list of subject ids to use"
   ]
  },
  {
   "cell_type": "code",
   "execution_count": 5,
   "metadata": {
    "collapsed": false,
    "inputHidden": false,
    "outputHidden": false,
    "papermill": {
     "duration": 0.131682,
     "end_time": "2019-08-21T13:18:27.267124",
     "exception": false,
     "start_time": "2019-08-21T13:18:27.135442",
     "status": "completed"
    },
    "tags": []
   },
   "outputs": [],
   "source": [
    "sid_list = np.loadtxt('lib/subject-id-list.csv', dtype='u8')\n",
    "gal_angle_df = pd.read_csv('lib/gal-metadata.csv', index_col=0)\n",
    "diff_data_df = pd.read_pickle('lib/fitting_metadata.pkl')"
   ]
  },
  {
   "cell_type": "markdown",
   "metadata": {
    "papermill": {
     "duration": 0.00805,
     "end_time": "2019-08-21T13:18:27.288459",
     "exception": false,
     "start_time": "2019-08-21T13:18:27.280409",
     "status": "completed"
    },
    "tags": []
   },
   "source": [
    "## Preparation"
   ]
  },
  {
   "cell_type": "markdown",
   "metadata": {
    "papermill": {
     "duration": 0.007716,
     "end_time": "2019-08-21T13:18:27.304851",
     "exception": false,
     "start_time": "2019-08-21T13:18:27.297135",
     "status": "completed"
    },
    "tags": []
   },
   "source": [
    "Define functions to obtain the best individual classification for a galaxy, and its aggregate model"
   ]
  },
  {
   "cell_type": "code",
   "execution_count": 6,
   "metadata": {
    "collapsed": false,
    "inputHidden": false,
    "outputHidden": false,
    "papermill": {
     "duration": 0.035808,
     "end_time": "2019-08-21T13:18:27.348415",
     "exception": false,
     "start_time": "2019-08-21T13:18:27.312607",
     "status": "completed"
    },
    "tags": []
   },
   "outputs": [],
   "source": [
    "def get_agg_model(subject_id):\n",
    "  gal = gal_angle_df.loc[subject_id]\n",
    "  angle = gal['angle']\n",
    "  diff_data = diff_data_df.loc[subject_id]\n",
    "  size_diff = diff_data['size_diff']\n",
    "  cls = gu.classifications.query(\n",
    "    'subject_ids == {}'.format(subject_id)\n",
    "  )\n",
    "  model, error, masks, arms = aggregation.make_model(\n",
    "    cls, gal, angle\n",
    "  )\n",
    "  scaled_model = parsing.scale_aggregate_model(model, size_diff=size_diff)\n",
    "  scaled_errors = parsing.scale_model_errors(error, size_diff=size_diff)\n",
    "  return scaled_model, scaled_errors, masks, arms\n",
    "  \n",
    "def get_best_cls(subject_id):\n",
    "  gal = gal_angle_df.loc[subject_id]\n",
    "  angle = gal['angle']\n",
    "  diff_data = diff_data_df.loc[subject_id]\n",
    "\n",
    "  ba = gal['PETRO_BA90']\n",
    "  psf = diff_data['psf']\n",
    "  pixel_mask = np.array(diff_data['pixel_mask'])[::-1]\n",
    "  galaxy_data = np.array(diff_data['galaxy_data'])[::-1]\n",
    "  size_diff = diff_data['size_diff']\n",
    "\n",
    "\n",
    "  cls = gu.classifications.query(\n",
    "    'subject_ids == {}'.format(subject_id)\n",
    "  )\n",
    "  annotations = cls['annotations'].apply(json.loads)\n",
    "\n",
    "  models = annotations.apply(parsing.parse_annotation, size_diff=size_diff)\n",
    "  rendered = models.apply(\n",
    "    rendering.calculate_model,\n",
    "    image_size=galaxy_data.shape[0],\n",
    "    psf=psf\n",
    "  )\n",
    "  \n",
    "  losses = rendered.apply(fitting.loss, args=(galaxy_data,), pixel_mask=pixel_mask)\n",
    "  return losses.idxmin(), models.loc[losses.idxmin()]"
   ]
  },
  {
   "cell_type": "markdown",
   "metadata": {
    "papermill": {
     "duration": 0.008118,
     "end_time": "2019-08-21T13:18:27.367599",
     "exception": false,
     "start_time": "2019-08-21T13:18:27.359481",
     "status": "completed"
    },
    "tags": []
   },
   "source": [
    "Calculate the list of best individual models"
   ]
  },
  {
   "cell_type": "code",
   "execution_count": 7,
   "metadata": {
    "collapsed": false,
    "inputHidden": false,
    "outputHidden": false,
    "papermill": {
     "duration": 1881.151626,
     "end_time": "2019-08-21T13:49:48.527049",
     "exception": false,
     "start_time": "2019-08-21T13:18:27.375423",
     "status": "completed"
    },
    "tags": []
   },
   "outputs": [
    {
     "name": "stderr",
     "output_type": "stream",
     "text": [
      "\r",
      "Finding best individual:   0%|          | 0/296 [00:00<?, ?it/s]"
     ]
    },
    {
     "name": "stderr",
     "output_type": "stream",
     "text": [
      "\r",
      "Finding best individual:   0%|          | 1/296 [00:05<29:17,  5.96s/it]"
     ]
    },
    {
     "name": "stderr",
     "output_type": "stream",
     "text": [
      "\r",
      "Finding best individual:   1%|          | 2/296 [00:12<30:45,  6.28s/it]"
     ]
    },
    {
     "name": "stderr",
     "output_type": "stream",
     "text": [
      "\r",
      "Finding best individual:   1%|          | 3/296 [00:20<33:08,  6.79s/it]"
     ]
    },
    {
     "name": "stderr",
     "output_type": "stream",
     "text": [
      "\r",
      "Finding best individual:   1%|▏         | 4/296 [00:24<28:35,  5.87s/it]"
     ]
    },
    {
     "name": "stderr",
     "output_type": "stream",
     "text": [
      "\r",
      "Finding best individual:   2%|▏         | 5/296 [00:29<27:00,  5.57s/it]"
     ]
    },
    {
     "name": "stderr",
     "output_type": "stream",
     "text": [
      "\r",
      "Finding best individual:   2%|▏         | 6/296 [00:31<21:26,  4.44s/it]"
     ]
    },
    {
     "name": "stderr",
     "output_type": "stream",
     "text": [
      "\r",
      "Finding best individual:   2%|▏         | 7/296 [00:38<25:26,  5.28s/it]"
     ]
    },
    {
     "name": "stderr",
     "output_type": "stream",
     "text": [
      "\r",
      "Finding best individual:   3%|▎         | 8/296 [00:45<27:27,  5.72s/it]"
     ]
    },
    {
     "name": "stderr",
     "output_type": "stream",
     "text": [
      "\r",
      "Finding best individual:   3%|▎         | 9/296 [00:47<21:41,  4.53s/it]"
     ]
    },
    {
     "name": "stderr",
     "output_type": "stream",
     "text": [
      "\r",
      "Finding best individual:   3%|▎         | 10/296 [00:53<24:45,  5.19s/it]"
     ]
    },
    {
     "name": "stderr",
     "output_type": "stream",
     "text": [
      "\r",
      "Finding best individual:   4%|▎         | 11/296 [01:08<38:20,  8.07s/it]"
     ]
    },
    {
     "name": "stderr",
     "output_type": "stream",
     "text": [
      "\r",
      "Finding best individual:   4%|▍         | 12/296 [01:23<48:26, 10.23s/it]"
     ]
    },
    {
     "name": "stderr",
     "output_type": "stream",
     "text": [
      "\r",
      "Finding best individual:   4%|▍         | 13/296 [01:42<59:59, 12.72s/it]"
     ]
    },
    {
     "name": "stderr",
     "output_type": "stream",
     "text": [
      "\r",
      "Finding best individual:   5%|▍         | 14/296 [01:46<48:15, 10.27s/it]"
     ]
    },
    {
     "name": "stderr",
     "output_type": "stream",
     "text": [
      "\r",
      "Finding best individual:   5%|▌         | 15/296 [01:51<40:34,  8.66s/it]"
     ]
    },
    {
     "name": "stderr",
     "output_type": "stream",
     "text": [
      "\r",
      "Finding best individual:   5%|▌         | 16/296 [02:04<45:33,  9.76s/it]"
     ]
    },
    {
     "name": "stderr",
     "output_type": "stream",
     "text": [
      "\r",
      "Finding best individual:   6%|▌         | 17/296 [02:06<34:31,  7.42s/it]"
     ]
    },
    {
     "name": "stderr",
     "output_type": "stream",
     "text": [
      "\r",
      "Finding best individual:   6%|▌         | 18/296 [02:08<27:09,  5.86s/it]"
     ]
    },
    {
     "name": "stderr",
     "output_type": "stream",
     "text": [
      "\r",
      "Finding best individual:   6%|▋         | 19/296 [02:12<24:00,  5.20s/it]"
     ]
    },
    {
     "name": "stderr",
     "output_type": "stream",
     "text": [
      "\r",
      "Finding best individual:   7%|▋         | 20/296 [02:15<21:37,  4.70s/it]"
     ]
    },
    {
     "name": "stderr",
     "output_type": "stream",
     "text": [
      "\r",
      "Finding best individual:   7%|▋         | 21/296 [02:21<22:48,  4.98s/it]"
     ]
    },
    {
     "name": "stderr",
     "output_type": "stream",
     "text": [
      "\r",
      "Finding best individual:   7%|▋         | 22/296 [02:29<27:37,  6.05s/it]"
     ]
    },
    {
     "name": "stderr",
     "output_type": "stream",
     "text": [
      "\r",
      "Finding best individual:   8%|▊         | 23/296 [02:47<44:08,  9.70s/it]"
     ]
    },
    {
     "name": "stderr",
     "output_type": "stream",
     "text": [
      "\r",
      "Finding best individual:   8%|▊         | 24/296 [02:57<43:18,  9.56s/it]"
     ]
    },
    {
     "name": "stderr",
     "output_type": "stream",
     "text": [
      "\r",
      "Finding best individual:   8%|▊         | 25/296 [03:00<35:13,  7.80s/it]"
     ]
    },
    {
     "name": "stderr",
     "output_type": "stream",
     "text": [
      "\r",
      "Finding best individual:   9%|▉         | 26/296 [03:14<43:06,  9.58s/it]"
     ]
    },
    {
     "name": "stderr",
     "output_type": "stream",
     "text": [
      "\r",
      "Finding best individual:   9%|▉         | 27/296 [03:25<44:13,  9.86s/it]"
     ]
    },
    {
     "name": "stderr",
     "output_type": "stream",
     "text": [
      "\r",
      "Finding best individual:   9%|▉         | 28/296 [03:29<36:01,  8.06s/it]"
     ]
    },
    {
     "name": "stderr",
     "output_type": "stream",
     "text": [
      "\r",
      "Finding best individual:  10%|▉         | 29/296 [03:39<39:19,  8.84s/it]"
     ]
    },
    {
     "name": "stderr",
     "output_type": "stream",
     "text": [
      "\r",
      "Finding best individual:  10%|█         | 30/296 [03:42<31:34,  7.12s/it]"
     ]
    },
    {
     "name": "stderr",
     "output_type": "stream",
     "text": [
      "\r",
      "Finding best individual:  10%|█         | 31/296 [03:46<27:16,  6.17s/it]"
     ]
    },
    {
     "name": "stderr",
     "output_type": "stream",
     "text": [
      "\r",
      "Finding best individual:  11%|█         | 32/296 [04:03<41:19,  9.39s/it]"
     ]
    },
    {
     "name": "stderr",
     "output_type": "stream",
     "text": [
      "\r",
      "Finding best individual:  11%|█         | 33/296 [04:07<34:03,  7.77s/it]"
     ]
    },
    {
     "name": "stderr",
     "output_type": "stream",
     "text": [
      "\r",
      "Finding best individual:  11%|█▏        | 34/296 [04:16<34:45,  7.96s/it]"
     ]
    },
    {
     "name": "stderr",
     "output_type": "stream",
     "text": [
      "\r",
      "Finding best individual:  12%|█▏        | 35/296 [04:19<29:09,  6.70s/it]"
     ]
    },
    {
     "name": "stderr",
     "output_type": "stream",
     "text": [
      "\r",
      "Finding best individual:  12%|█▏        | 36/296 [04:23<25:39,  5.92s/it]"
     ]
    },
    {
     "name": "stderr",
     "output_type": "stream",
     "text": [
      "\r",
      "Finding best individual:  12%|█▎        | 37/296 [04:31<27:56,  6.47s/it]"
     ]
    },
    {
     "name": "stderr",
     "output_type": "stream",
     "text": [
      "\r",
      "Finding best individual:  13%|█▎        | 38/296 [04:38<28:44,  6.68s/it]"
     ]
    },
    {
     "name": "stderr",
     "output_type": "stream",
     "text": [
      "\r",
      "Finding best individual:  13%|█▎        | 39/296 [04:42<24:26,  5.71s/it]"
     ]
    },
    {
     "name": "stderr",
     "output_type": "stream",
     "text": [
      "\r",
      "Finding best individual:  14%|█▎        | 40/296 [04:46<22:36,  5.30s/it]"
     ]
    },
    {
     "name": "stderr",
     "output_type": "stream",
     "text": [
      "\r",
      "Finding best individual:  14%|█▍        | 41/296 [04:55<27:37,  6.50s/it]"
     ]
    },
    {
     "name": "stderr",
     "output_type": "stream",
     "text": [
      "\r",
      "Finding best individual:  14%|█▍        | 42/296 [04:58<22:38,  5.35s/it]"
     ]
    },
    {
     "name": "stderr",
     "output_type": "stream",
     "text": [
      "\r",
      "Finding best individual:  15%|█▍        | 43/296 [05:01<19:25,  4.61s/it]"
     ]
    },
    {
     "name": "stderr",
     "output_type": "stream",
     "text": [
      "\r",
      "Finding best individual:  15%|█▍        | 44/296 [05:04<17:48,  4.24s/it]"
     ]
    },
    {
     "name": "stderr",
     "output_type": "stream",
     "text": [
      "\r",
      "Finding best individual:  15%|█▌        | 45/296 [05:08<16:31,  3.95s/it]"
     ]
    },
    {
     "name": "stderr",
     "output_type": "stream",
     "text": [
      "\r",
      "Finding best individual:  16%|█▌        | 46/296 [05:10<14:56,  3.59s/it]"
     ]
    },
    {
     "name": "stderr",
     "output_type": "stream",
     "text": [
      "\r",
      "Finding best individual:  16%|█▌        | 47/296 [05:19<20:55,  5.04s/it]"
     ]
    },
    {
     "name": "stderr",
     "output_type": "stream",
     "text": [
      "\r",
      "Finding best individual:  16%|█▌        | 48/296 [05:27<25:11,  6.10s/it]"
     ]
    },
    {
     "name": "stderr",
     "output_type": "stream",
     "text": [
      "\r",
      "Finding best individual:  17%|█▋        | 49/296 [05:45<39:25,  9.58s/it]"
     ]
    },
    {
     "name": "stderr",
     "output_type": "stream",
     "text": [
      "\r",
      "Finding best individual:  17%|█▋        | 50/296 [05:51<35:05,  8.56s/it]"
     ]
    },
    {
     "name": "stderr",
     "output_type": "stream",
     "text": [
      "\r",
      "Finding best individual:  17%|█▋        | 51/296 [06:05<41:43, 10.22s/it]"
     ]
    },
    {
     "name": "stderr",
     "output_type": "stream",
     "text": [
      "\r",
      "Finding best individual:  18%|█▊        | 52/296 [06:08<32:26,  7.98s/it]"
     ]
    },
    {
     "name": "stderr",
     "output_type": "stream",
     "text": [
      "\r",
      "Finding best individual:  18%|█▊        | 53/296 [06:11<26:01,  6.43s/it]"
     ]
    },
    {
     "name": "stderr",
     "output_type": "stream",
     "text": [
      "\r",
      "Finding best individual:  18%|█▊        | 54/296 [06:12<19:36,  4.86s/it]"
     ]
    },
    {
     "name": "stderr",
     "output_type": "stream",
     "text": [
      "\r",
      "Finding best individual:  19%|█▊        | 55/296 [06:17<19:36,  4.88s/it]"
     ]
    },
    {
     "name": "stderr",
     "output_type": "stream",
     "text": [
      "\r",
      "Finding best individual:  19%|█▉        | 56/296 [06:27<25:27,  6.36s/it]"
     ]
    },
    {
     "name": "stderr",
     "output_type": "stream",
     "text": [
      "\r",
      "Finding best individual:  19%|█▉        | 57/296 [06:34<25:51,  6.49s/it]"
     ]
    },
    {
     "name": "stderr",
     "output_type": "stream",
     "text": [
      "\r",
      "Finding best individual:  20%|█▉        | 58/296 [06:37<21:52,  5.52s/it]"
     ]
    },
    {
     "name": "stderr",
     "output_type": "stream",
     "text": [
      "\r",
      "Finding best individual:  20%|█▉        | 59/296 [06:44<23:17,  5.90s/it]"
     ]
    },
    {
     "name": "stderr",
     "output_type": "stream",
     "text": [
      "\r",
      "Finding best individual:  20%|██        | 60/296 [06:51<24:50,  6.31s/it]"
     ]
    },
    {
     "name": "stderr",
     "output_type": "stream",
     "text": [
      "\r",
      "Finding best individual:  21%|██        | 61/296 [06:53<19:55,  5.09s/it]"
     ]
    },
    {
     "name": "stderr",
     "output_type": "stream",
     "text": [
      "\r",
      "Finding best individual:  21%|██        | 62/296 [06:56<17:13,  4.42s/it]"
     ]
    },
    {
     "name": "stderr",
     "output_type": "stream",
     "text": [
      "\r",
      "Finding best individual:  21%|██▏       | 63/296 [07:05<22:53,  5.89s/it]"
     ]
    },
    {
     "name": "stderr",
     "output_type": "stream",
     "text": [
      "\r",
      "Finding best individual:  22%|██▏       | 64/296 [07:12<24:08,  6.24s/it]"
     ]
    },
    {
     "name": "stderr",
     "output_type": "stream",
     "text": [
      "\r",
      "Finding best individual:  22%|██▏       | 65/296 [07:18<22:43,  5.90s/it]"
     ]
    },
    {
     "name": "stderr",
     "output_type": "stream",
     "text": [
      "\r",
      "Finding best individual:  22%|██▏       | 66/296 [07:32<32:47,  8.55s/it]"
     ]
    },
    {
     "name": "stderr",
     "output_type": "stream",
     "text": [
      "\r",
      "Finding best individual:  23%|██▎       | 67/296 [07:42<33:43,  8.83s/it]"
     ]
    },
    {
     "name": "stderr",
     "output_type": "stream",
     "text": [
      "\r",
      "Finding best individual:  23%|██▎       | 68/296 [07:48<30:07,  7.93s/it]"
     ]
    },
    {
     "name": "stderr",
     "output_type": "stream",
     "text": [
      "\r",
      "Finding best individual:  23%|██▎       | 69/296 [07:53<26:43,  7.06s/it]"
     ]
    },
    {
     "name": "stderr",
     "output_type": "stream",
     "text": [
      "\r",
      "Finding best individual:  24%|██▎       | 70/296 [07:57<23:01,  6.11s/it]"
     ]
    },
    {
     "name": "stderr",
     "output_type": "stream",
     "text": [
      "\r",
      "Finding best individual:  24%|██▍       | 71/296 [08:06<27:11,  7.25s/it]"
     ]
    },
    {
     "name": "stderr",
     "output_type": "stream",
     "text": [
      "\r",
      "Finding best individual:  24%|██▍       | 72/296 [08:11<24:35,  6.59s/it]"
     ]
    },
    {
     "name": "stderr",
     "output_type": "stream",
     "text": [
      "\r",
      "Finding best individual:  25%|██▍       | 73/296 [08:19<26:05,  7.02s/it]"
     ]
    },
    {
     "name": "stderr",
     "output_type": "stream",
     "text": [
      "\r",
      "Finding best individual:  25%|██▌       | 74/296 [08:26<25:14,  6.82s/it]"
     ]
    },
    {
     "name": "stderr",
     "output_type": "stream",
     "text": [
      "\r",
      "Finding best individual:  25%|██▌       | 75/296 [08:30<22:27,  6.10s/it]"
     ]
    },
    {
     "name": "stderr",
     "output_type": "stream",
     "text": [
      "\r",
      "Finding best individual:  26%|██▌       | 76/296 [08:34<20:10,  5.50s/it]"
     ]
    },
    {
     "name": "stderr",
     "output_type": "stream",
     "text": [
      "\r",
      "Finding best individual:  26%|██▌       | 77/296 [08:41<20:59,  5.75s/it]"
     ]
    },
    {
     "name": "stderr",
     "output_type": "stream",
     "text": [
      "\r",
      "Finding best individual:  26%|██▋       | 78/296 [08:43<17:04,  4.70s/it]"
     ]
    },
    {
     "name": "stderr",
     "output_type": "stream",
     "text": [
      "\r",
      "Finding best individual:  27%|██▋       | 79/296 [08:45<14:32,  4.02s/it]"
     ]
    },
    {
     "name": "stderr",
     "output_type": "stream",
     "text": [
      "\r",
      "Finding best individual:  27%|██▋       | 80/296 [08:49<13:40,  3.80s/it]"
     ]
    },
    {
     "name": "stderr",
     "output_type": "stream",
     "text": [
      "\r",
      "Finding best individual:  27%|██▋       | 81/296 [09:08<30:44,  8.58s/it]"
     ]
    },
    {
     "name": "stderr",
     "output_type": "stream",
     "text": [
      "\r",
      "Finding best individual:  28%|██▊       | 82/296 [09:13<26:33,  7.45s/it]"
     ]
    },
    {
     "name": "stderr",
     "output_type": "stream",
     "text": [
      "\r",
      "Finding best individual:  28%|██▊       | 83/296 [09:17<22:31,  6.35s/it]"
     ]
    },
    {
     "name": "stderr",
     "output_type": "stream",
     "text": [
      "\r",
      "Finding best individual:  28%|██▊       | 84/296 [09:19<17:42,  5.01s/it]"
     ]
    },
    {
     "name": "stderr",
     "output_type": "stream",
     "text": [
      "\r",
      "Finding best individual:  29%|██▊       | 85/296 [09:22<15:32,  4.42s/it]"
     ]
    },
    {
     "name": "stderr",
     "output_type": "stream",
     "text": [
      "\r",
      "Finding best individual:  29%|██▉       | 86/296 [09:28<17:00,  4.86s/it]"
     ]
    },
    {
     "name": "stderr",
     "output_type": "stream",
     "text": [
      "\r",
      "Finding best individual:  29%|██▉       | 87/296 [09:30<14:02,  4.03s/it]"
     ]
    },
    {
     "name": "stderr",
     "output_type": "stream",
     "text": [
      "\r",
      "Finding best individual:  30%|██▉       | 88/296 [09:37<16:43,  4.83s/it]"
     ]
    },
    {
     "name": "stderr",
     "output_type": "stream",
     "text": [
      "\r",
      "Finding best individual:  30%|███       | 89/296 [09:40<15:13,  4.41s/it]"
     ]
    },
    {
     "name": "stderr",
     "output_type": "stream",
     "text": [
      "\r",
      "Finding best individual:  30%|███       | 90/296 [09:53<23:39,  6.89s/it]"
     ]
    },
    {
     "name": "stderr",
     "output_type": "stream",
     "text": [
      "\r",
      "Finding best individual:  31%|███       | 91/296 [10:00<23:41,  6.93s/it]"
     ]
    },
    {
     "name": "stderr",
     "output_type": "stream",
     "text": [
      "\r",
      "Finding best individual:  31%|███       | 92/296 [10:07<23:50,  7.01s/it]"
     ]
    },
    {
     "name": "stderr",
     "output_type": "stream",
     "text": [
      "\r",
      "Finding best individual:  31%|███▏      | 93/296 [10:13<22:15,  6.58s/it]"
     ]
    },
    {
     "name": "stderr",
     "output_type": "stream",
     "text": [
      "\r",
      "Finding best individual:  32%|███▏      | 94/296 [10:31<34:05, 10.13s/it]"
     ]
    },
    {
     "name": "stderr",
     "output_type": "stream",
     "text": [
      "\r",
      "Finding best individual:  32%|███▏      | 95/296 [10:37<29:55,  8.93s/it]"
     ]
    },
    {
     "name": "stderr",
     "output_type": "stream",
     "text": [
      "\r",
      "Finding best individual:  32%|███▏      | 96/296 [10:44<28:01,  8.41s/it]"
     ]
    },
    {
     "name": "stderr",
     "output_type": "stream",
     "text": [
      "\r",
      "Finding best individual:  33%|███▎      | 97/296 [10:49<24:00,  7.24s/it]"
     ]
    },
    {
     "name": "stderr",
     "output_type": "stream",
     "text": [
      "\r",
      "Finding best individual:  33%|███▎      | 98/296 [10:50<18:23,  5.57s/it]"
     ]
    },
    {
     "name": "stderr",
     "output_type": "stream",
     "text": [
      "\r",
      "Finding best individual:  33%|███▎      | 99/296 [10:55<17:20,  5.28s/it]"
     ]
    },
    {
     "name": "stderr",
     "output_type": "stream",
     "text": [
      "\r",
      "Finding best individual:  34%|███▍      | 100/296 [11:00<17:03,  5.22s/it]"
     ]
    },
    {
     "name": "stderr",
     "output_type": "stream",
     "text": [
      "\r",
      "Finding best individual:  34%|███▍      | 101/296 [11:08<19:42,  6.07s/it]"
     ]
    },
    {
     "name": "stderr",
     "output_type": "stream",
     "text": [
      "\r",
      "Finding best individual:  34%|███▍      | 102/296 [11:17<21:50,  6.76s/it]"
     ]
    },
    {
     "name": "stderr",
     "output_type": "stream",
     "text": [
      "\r",
      "Finding best individual:  35%|███▍      | 103/296 [11:17<16:09,  5.02s/it]"
     ]
    },
    {
     "name": "stderr",
     "output_type": "stream",
     "text": [
      "\r",
      "Finding best individual:  35%|███▌      | 104/296 [11:22<15:42,  4.91s/it]"
     ]
    },
    {
     "name": "stderr",
     "output_type": "stream",
     "text": [
      "\r",
      "Finding best individual:  35%|███▌      | 105/296 [11:28<16:18,  5.13s/it]"
     ]
    },
    {
     "name": "stderr",
     "output_type": "stream",
     "text": [
      "\r",
      "Finding best individual:  36%|███▌      | 106/296 [11:33<16:47,  5.30s/it]"
     ]
    },
    {
     "name": "stderr",
     "output_type": "stream",
     "text": [
      "\r",
      "Finding best individual:  36%|███▌      | 107/296 [11:38<16:16,  5.17s/it]"
     ]
    },
    {
     "name": "stderr",
     "output_type": "stream",
     "text": [
      "\r",
      "Finding best individual:  36%|███▋      | 108/296 [11:47<19:41,  6.29s/it]"
     ]
    },
    {
     "name": "stderr",
     "output_type": "stream",
     "text": [
      "\r",
      "Finding best individual:  37%|███▋      | 109/296 [11:52<18:30,  5.94s/it]"
     ]
    },
    {
     "name": "stderr",
     "output_type": "stream",
     "text": [
      "\r",
      "Finding best individual:  37%|███▋      | 110/296 [12:02<21:50,  7.05s/it]"
     ]
    },
    {
     "name": "stderr",
     "output_type": "stream",
     "text": [
      "\r",
      "Finding best individual:  38%|███▊      | 111/296 [12:17<28:41,  9.31s/it]"
     ]
    },
    {
     "name": "stderr",
     "output_type": "stream",
     "text": [
      "\r",
      "Finding best individual:  38%|███▊      | 112/296 [12:30<32:11, 10.50s/it]"
     ]
    },
    {
     "name": "stderr",
     "output_type": "stream",
     "text": [
      "\r",
      "Finding best individual:  38%|███▊      | 113/296 [12:32<24:17,  7.96s/it]"
     ]
    },
    {
     "name": "stderr",
     "output_type": "stream",
     "text": [
      "\r",
      "Finding best individual:  39%|███▊      | 114/296 [12:36<20:58,  6.92s/it]"
     ]
    },
    {
     "name": "stderr",
     "output_type": "stream",
     "text": [
      "\r",
      "Finding best individual:  39%|███▉      | 115/296 [12:49<26:03,  8.64s/it]"
     ]
    },
    {
     "name": "stderr",
     "output_type": "stream",
     "text": [
      "\r",
      "Finding best individual:  39%|███▉      | 116/296 [12:57<24:58,  8.32s/it]"
     ]
    },
    {
     "name": "stderr",
     "output_type": "stream",
     "text": [
      "\r",
      "Finding best individual:  40%|███▉      | 117/296 [12:58<18:46,  6.30s/it]"
     ]
    },
    {
     "name": "stderr",
     "output_type": "stream",
     "text": [
      "\r",
      "Finding best individual:  40%|███▉      | 118/296 [13:00<14:27,  4.88s/it]"
     ]
    },
    {
     "name": "stderr",
     "output_type": "stream",
     "text": [
      "\r",
      "Finding best individual:  40%|████      | 119/296 [13:05<14:45,  5.00s/it]"
     ]
    },
    {
     "name": "stderr",
     "output_type": "stream",
     "text": [
      "\r",
      "Finding best individual:  41%|████      | 120/296 [13:07<11:33,  3.94s/it]"
     ]
    },
    {
     "name": "stderr",
     "output_type": "stream",
     "text": [
      "\r",
      "Finding best individual:  41%|████      | 121/296 [13:11<11:56,  4.09s/it]"
     ]
    },
    {
     "name": "stderr",
     "output_type": "stream",
     "text": [
      "\r",
      "Finding best individual:  41%|████      | 122/296 [13:27<22:27,  7.75s/it]"
     ]
    },
    {
     "name": "stderr",
     "output_type": "stream",
     "text": [
      "\r",
      "Finding best individual:  42%|████▏     | 123/296 [13:36<23:34,  8.18s/it]"
     ]
    },
    {
     "name": "stderr",
     "output_type": "stream",
     "text": [
      "\r",
      "Finding best individual:  42%|████▏     | 124/296 [13:39<18:13,  6.36s/it]"
     ]
    },
    {
     "name": "stderr",
     "output_type": "stream",
     "text": [
      "\r",
      "Finding best individual:  42%|████▏     | 125/296 [14:18<46:08, 16.19s/it]"
     ]
    },
    {
     "name": "stderr",
     "output_type": "stream",
     "text": [
      "\r",
      "Finding best individual:  43%|████▎     | 126/296 [14:27<39:51, 14.07s/it]"
     ]
    },
    {
     "name": "stderr",
     "output_type": "stream",
     "text": [
      "\r",
      "Finding best individual:  43%|████▎     | 127/296 [14:48<46:04, 16.36s/it]"
     ]
    },
    {
     "name": "stderr",
     "output_type": "stream",
     "text": [
      "\r",
      "Finding best individual:  43%|████▎     | 128/296 [14:50<33:41, 12.03s/it]"
     ]
    },
    {
     "name": "stderr",
     "output_type": "stream",
     "text": [
      "\r",
      "Finding best individual:  44%|████▎     | 129/296 [14:52<24:22,  8.76s/it]"
     ]
    },
    {
     "name": "stderr",
     "output_type": "stream",
     "text": [
      "\r",
      "Finding best individual:  44%|████▍     | 130/296 [14:58<22:41,  8.20s/it]"
     ]
    },
    {
     "name": "stderr",
     "output_type": "stream",
     "text": [
      "\r",
      "Finding best individual:  44%|████▍     | 131/296 [15:08<23:23,  8.51s/it]"
     ]
    },
    {
     "name": "stderr",
     "output_type": "stream",
     "text": [
      "\r",
      "Finding best individual:  45%|████▍     | 132/296 [15:10<18:02,  6.60s/it]"
     ]
    },
    {
     "name": "stderr",
     "output_type": "stream",
     "text": [
      "\r",
      "Finding best individual:  45%|████▍     | 133/296 [15:13<15:26,  5.68s/it]"
     ]
    },
    {
     "name": "stderr",
     "output_type": "stream",
     "text": [
      "\r",
      "Finding best individual:  45%|████▌     | 134/296 [15:19<15:30,  5.74s/it]"
     ]
    },
    {
     "name": "stderr",
     "output_type": "stream",
     "text": [
      "\r",
      "Finding best individual:  46%|████▌     | 135/296 [15:29<18:59,  7.08s/it]"
     ]
    },
    {
     "name": "stderr",
     "output_type": "stream",
     "text": [
      "\r",
      "Finding best individual:  46%|████▌     | 136/296 [15:36<18:42,  7.02s/it]"
     ]
    },
    {
     "name": "stderr",
     "output_type": "stream",
     "text": [
      "\r",
      "Finding best individual:  46%|████▋     | 137/296 [15:39<15:26,  5.83s/it]"
     ]
    },
    {
     "name": "stderr",
     "output_type": "stream",
     "text": [
      "\r",
      "Finding best individual:  47%|████▋     | 138/296 [15:46<15:48,  6.00s/it]"
     ]
    },
    {
     "name": "stderr",
     "output_type": "stream",
     "text": [
      "\r",
      "Finding best individual:  47%|████▋     | 139/296 [15:49<13:32,  5.17s/it]"
     ]
    },
    {
     "name": "stderr",
     "output_type": "stream",
     "text": [
      "\r",
      "Finding best individual:  47%|████▋     | 140/296 [15:54<13:40,  5.26s/it]"
     ]
    },
    {
     "name": "stderr",
     "output_type": "stream",
     "text": [
      "\r",
      "Finding best individual:  48%|████▊     | 141/296 [15:58<12:31,  4.85s/it]"
     ]
    },
    {
     "name": "stderr",
     "output_type": "stream",
     "text": [
      "\r",
      "Finding best individual:  48%|████▊     | 142/296 [16:12<18:51,  7.34s/it]"
     ]
    },
    {
     "name": "stderr",
     "output_type": "stream",
     "text": [
      "\r",
      "Finding best individual:  48%|████▊     | 143/296 [16:23<21:39,  8.49s/it]"
     ]
    },
    {
     "name": "stderr",
     "output_type": "stream",
     "text": [
      "\r",
      "Finding best individual:  49%|████▊     | 144/296 [16:24<15:55,  6.28s/it]"
     ]
    },
    {
     "name": "stderr",
     "output_type": "stream",
     "text": [
      "\r",
      "Finding best individual:  49%|████▉     | 145/296 [16:33<18:03,  7.17s/it]"
     ]
    },
    {
     "name": "stderr",
     "output_type": "stream",
     "text": [
      "\r",
      "Finding best individual:  49%|████▉     | 146/296 [16:37<15:26,  6.18s/it]"
     ]
    },
    {
     "name": "stderr",
     "output_type": "stream",
     "text": [
      "\r",
      "Finding best individual:  50%|████▉     | 147/296 [16:38<11:44,  4.73s/it]"
     ]
    },
    {
     "name": "stderr",
     "output_type": "stream",
     "text": [
      "\r",
      "Finding best individual:  50%|█████     | 148/296 [16:40<09:42,  3.94s/it]"
     ]
    },
    {
     "name": "stderr",
     "output_type": "stream",
     "text": [
      "\r",
      "Finding best individual:  50%|█████     | 149/296 [16:42<08:14,  3.36s/it]"
     ]
    },
    {
     "name": "stderr",
     "output_type": "stream",
     "text": [
      "\r",
      "Finding best individual:  51%|█████     | 150/296 [16:45<07:31,  3.09s/it]"
     ]
    },
    {
     "name": "stderr",
     "output_type": "stream",
     "text": [
      "\r",
      "Finding best individual:  51%|█████     | 151/296 [16:55<12:24,  5.13s/it]"
     ]
    },
    {
     "name": "stderr",
     "output_type": "stream",
     "text": [
      "\r",
      "Finding best individual:  51%|█████▏    | 152/296 [16:59<11:58,  4.99s/it]"
     ]
    },
    {
     "name": "stderr",
     "output_type": "stream",
     "text": [
      "\r",
      "Finding best individual:  52%|█████▏    | 153/296 [17:02<10:06,  4.24s/it]"
     ]
    },
    {
     "name": "stderr",
     "output_type": "stream",
     "text": [
      "\r",
      "Finding best individual:  52%|█████▏    | 154/296 [17:09<12:21,  5.22s/it]"
     ]
    },
    {
     "name": "stderr",
     "output_type": "stream",
     "text": [
      "\r",
      "Finding best individual:  52%|█████▏    | 155/296 [17:11<09:47,  4.17s/it]"
     ]
    },
    {
     "name": "stderr",
     "output_type": "stream",
     "text": [
      "\r",
      "Finding best individual:  53%|█████▎    | 156/296 [17:13<08:15,  3.54s/it]"
     ]
    },
    {
     "name": "stderr",
     "output_type": "stream",
     "text": [
      "\r",
      "Finding best individual:  53%|█████▎    | 157/296 [17:32<18:44,  8.09s/it]"
     ]
    },
    {
     "name": "stderr",
     "output_type": "stream",
     "text": [
      "\r",
      "Finding best individual:  53%|█████▎    | 158/296 [17:42<20:08,  8.76s/it]"
     ]
    },
    {
     "name": "stderr",
     "output_type": "stream",
     "text": [
      "\r",
      "Finding best individual:  54%|█████▎    | 159/296 [17:49<18:25,  8.07s/it]"
     ]
    },
    {
     "name": "stderr",
     "output_type": "stream",
     "text": [
      "\r",
      "Finding best individual:  54%|█████▍    | 160/296 [17:54<16:08,  7.12s/it]"
     ]
    },
    {
     "name": "stderr",
     "output_type": "stream",
     "text": [
      "\r",
      "Finding best individual:  54%|█████▍    | 161/296 [18:01<16:08,  7.17s/it]"
     ]
    },
    {
     "name": "stderr",
     "output_type": "stream",
     "text": [
      "\r",
      "Finding best individual:  55%|█████▍    | 162/296 [18:07<15:25,  6.90s/it]"
     ]
    },
    {
     "name": "stderr",
     "output_type": "stream",
     "text": [
      "\r",
      "Finding best individual:  55%|█████▌    | 163/296 [18:08<11:24,  5.15s/it]"
     ]
    },
    {
     "name": "stderr",
     "output_type": "stream",
     "text": [
      "\r",
      "Finding best individual:  55%|█████▌    | 164/296 [18:12<10:22,  4.71s/it]"
     ]
    },
    {
     "name": "stderr",
     "output_type": "stream",
     "text": [
      "\r",
      "Finding best individual:  56%|█████▌    | 165/296 [18:15<09:19,  4.27s/it]"
     ]
    },
    {
     "name": "stderr",
     "output_type": "stream",
     "text": [
      "\r",
      "Finding best individual:  56%|█████▌    | 166/296 [18:28<14:45,  6.81s/it]"
     ]
    },
    {
     "name": "stderr",
     "output_type": "stream",
     "text": [
      "\r",
      "Finding best individual:  56%|█████▋    | 167/296 [18:31<12:01,  5.60s/it]"
     ]
    },
    {
     "name": "stderr",
     "output_type": "stream",
     "text": [
      "\r",
      "Finding best individual:  57%|█████▋    | 168/296 [18:34<10:49,  5.07s/it]"
     ]
    },
    {
     "name": "stderr",
     "output_type": "stream",
     "text": [
      "\r",
      "Finding best individual:  57%|█████▋    | 169/296 [18:40<10:56,  5.17s/it]"
     ]
    },
    {
     "name": "stderr",
     "output_type": "stream",
     "text": [
      "\r",
      "Finding best individual:  57%|█████▋    | 170/296 [18:45<10:39,  5.07s/it]"
     ]
    },
    {
     "name": "stderr",
     "output_type": "stream",
     "text": [
      "\r",
      "Finding best individual:  58%|█████▊    | 171/296 [18:46<08:22,  4.02s/it]"
     ]
    },
    {
     "name": "stderr",
     "output_type": "stream",
     "text": [
      "\r",
      "Finding best individual:  58%|█████▊    | 172/296 [18:54<10:42,  5.18s/it]"
     ]
    },
    {
     "name": "stderr",
     "output_type": "stream",
     "text": [
      "\r",
      "Finding best individual:  58%|█████▊    | 173/296 [19:00<11:18,  5.51s/it]"
     ]
    },
    {
     "name": "stderr",
     "output_type": "stream",
     "text": [
      "\r",
      "Finding best individual:  59%|█████▉    | 174/296 [19:03<09:16,  4.56s/it]"
     ]
    },
    {
     "name": "stderr",
     "output_type": "stream",
     "text": [
      "\r",
      "Finding best individual:  59%|█████▉    | 175/296 [19:06<08:26,  4.18s/it]"
     ]
    },
    {
     "name": "stderr",
     "output_type": "stream",
     "text": [
      "\r",
      "Finding best individual:  59%|█████▉    | 176/296 [19:09<07:23,  3.70s/it]"
     ]
    },
    {
     "name": "stderr",
     "output_type": "stream",
     "text": [
      "\r",
      "Finding best individual:  60%|█████▉    | 177/296 [19:10<06:11,  3.12s/it]"
     ]
    },
    {
     "name": "stderr",
     "output_type": "stream",
     "text": [
      "\r",
      "Finding best individual:  60%|██████    | 178/296 [19:25<12:54,  6.56s/it]"
     ]
    },
    {
     "name": "stderr",
     "output_type": "stream",
     "text": [
      "\r",
      "Finding best individual:  60%|██████    | 179/296 [19:28<10:58,  5.63s/it]"
     ]
    },
    {
     "name": "stderr",
     "output_type": "stream",
     "text": [
      "\r",
      "Finding best individual:  61%|██████    | 180/296 [19:34<10:52,  5.62s/it]"
     ]
    },
    {
     "name": "stderr",
     "output_type": "stream",
     "text": [
      "\r",
      "Finding best individual:  61%|██████    | 181/296 [19:36<08:49,  4.61s/it]"
     ]
    },
    {
     "name": "stderr",
     "output_type": "stream",
     "text": [
      "\r",
      "Finding best individual:  61%|██████▏   | 182/296 [19:40<07:58,  4.20s/it]"
     ]
    },
    {
     "name": "stderr",
     "output_type": "stream",
     "text": [
      "\r",
      "Finding best individual:  62%|██████▏   | 183/296 [19:43<07:41,  4.08s/it]"
     ]
    },
    {
     "name": "stderr",
     "output_type": "stream",
     "text": [
      "\r",
      "Finding best individual:  62%|██████▏   | 184/296 [19:50<09:01,  4.84s/it]"
     ]
    },
    {
     "name": "stderr",
     "output_type": "stream",
     "text": [
      "\r",
      "Finding best individual:  62%|██████▎   | 185/296 [19:56<09:22,  5.06s/it]"
     ]
    },
    {
     "name": "stderr",
     "output_type": "stream",
     "text": [
      "\r",
      "Finding best individual:  63%|██████▎   | 186/296 [20:13<16:01,  8.74s/it]"
     ]
    },
    {
     "name": "stderr",
     "output_type": "stream",
     "text": [
      "\r",
      "Finding best individual:  63%|██████▎   | 187/296 [20:15<12:30,  6.89s/it]"
     ]
    },
    {
     "name": "stderr",
     "output_type": "stream",
     "text": [
      "\r",
      "Finding best individual:  64%|██████▎   | 188/296 [20:29<16:12,  9.01s/it]"
     ]
    },
    {
     "name": "stderr",
     "output_type": "stream",
     "text": [
      "\r",
      "Finding best individual:  64%|██████▍   | 189/296 [20:32<12:51,  7.21s/it]"
     ]
    },
    {
     "name": "stderr",
     "output_type": "stream",
     "text": [
      "\r",
      "Finding best individual:  64%|██████▍   | 190/296 [20:38<11:41,  6.62s/it]"
     ]
    },
    {
     "name": "stderr",
     "output_type": "stream",
     "text": [
      "\r",
      "Finding best individual:  65%|██████▍   | 191/296 [20:55<17:12,  9.83s/it]"
     ]
    },
    {
     "name": "stderr",
     "output_type": "stream",
     "text": [
      "\r",
      "Finding best individual:  65%|██████▍   | 192/296 [21:08<18:31, 10.69s/it]"
     ]
    },
    {
     "name": "stderr",
     "output_type": "stream",
     "text": [
      "\r",
      "Finding best individual:  65%|██████▌   | 193/296 [21:17<17:28, 10.18s/it]"
     ]
    },
    {
     "name": "stderr",
     "output_type": "stream",
     "text": [
      "\r",
      "Finding best individual:  66%|██████▌   | 194/296 [21:25<16:14,  9.56s/it]"
     ]
    },
    {
     "name": "stderr",
     "output_type": "stream",
     "text": [
      "\r",
      "Finding best individual:  66%|██████▌   | 195/296 [21:30<13:48,  8.20s/it]"
     ]
    },
    {
     "name": "stderr",
     "output_type": "stream",
     "text": [
      "\r",
      "Finding best individual:  66%|██████▌   | 196/296 [21:34<11:37,  6.97s/it]"
     ]
    },
    {
     "name": "stderr",
     "output_type": "stream",
     "text": [
      "\r",
      "Finding best individual:  67%|██████▋   | 197/296 [21:39<10:46,  6.53s/it]"
     ]
    },
    {
     "name": "stderr",
     "output_type": "stream",
     "text": [
      "\r",
      "Finding best individual:  67%|██████▋   | 198/296 [21:42<08:36,  5.27s/it]"
     ]
    },
    {
     "name": "stderr",
     "output_type": "stream",
     "text": [
      "\r",
      "Finding best individual:  67%|██████▋   | 199/296 [21:48<08:47,  5.44s/it]"
     ]
    },
    {
     "name": "stderr",
     "output_type": "stream",
     "text": [
      "\r",
      "Finding best individual:  68%|██████▊   | 200/296 [21:55<09:31,  5.95s/it]"
     ]
    },
    {
     "name": "stderr",
     "output_type": "stream",
     "text": [
      "\r",
      "Finding best individual:  68%|██████▊   | 201/296 [22:01<09:44,  6.16s/it]"
     ]
    },
    {
     "name": "stderr",
     "output_type": "stream",
     "text": [
      "\r",
      "Finding best individual:  68%|██████▊   | 202/296 [22:18<14:40,  9.36s/it]"
     ]
    },
    {
     "name": "stderr",
     "output_type": "stream",
     "text": [
      "\r",
      "Finding best individual:  69%|██████▊   | 203/296 [22:19<10:39,  6.88s/it]"
     ]
    },
    {
     "name": "stderr",
     "output_type": "stream",
     "text": [
      "\r",
      "Finding best individual:  69%|██████▉   | 204/296 [22:24<09:26,  6.16s/it]"
     ]
    },
    {
     "name": "stderr",
     "output_type": "stream",
     "text": [
      "\r",
      "Finding best individual:  69%|██████▉   | 205/296 [22:27<08:10,  5.39s/it]"
     ]
    },
    {
     "name": "stderr",
     "output_type": "stream",
     "text": [
      "\r",
      "Finding best individual:  70%|██████▉   | 206/296 [22:29<06:19,  4.22s/it]"
     ]
    },
    {
     "name": "stderr",
     "output_type": "stream",
     "text": [
      "\r",
      "Finding best individual:  70%|██████▉   | 207/296 [22:35<07:16,  4.90s/it]"
     ]
    },
    {
     "name": "stderr",
     "output_type": "stream",
     "text": [
      "\r",
      "Finding best individual:  70%|███████   | 208/296 [22:56<14:09,  9.66s/it]"
     ]
    },
    {
     "name": "stderr",
     "output_type": "stream",
     "text": [
      "\r",
      "Finding best individual:  71%|███████   | 209/296 [23:00<11:41,  8.07s/it]"
     ]
    },
    {
     "name": "stderr",
     "output_type": "stream",
     "text": [
      "\r",
      "Finding best individual:  71%|███████   | 210/296 [23:03<09:19,  6.50s/it]"
     ]
    },
    {
     "name": "stderr",
     "output_type": "stream",
     "text": [
      "\r",
      "Finding best individual:  71%|███████▏  | 211/296 [23:07<08:12,  5.79s/it]"
     ]
    },
    {
     "name": "stderr",
     "output_type": "stream",
     "text": [
      "\r",
      "Finding best individual:  72%|███████▏  | 212/296 [23:12<07:34,  5.41s/it]"
     ]
    },
    {
     "name": "stderr",
     "output_type": "stream",
     "text": [
      "\r",
      "Finding best individual:  72%|███████▏  | 213/296 [23:14<05:54,  4.27s/it]"
     ]
    },
    {
     "name": "stderr",
     "output_type": "stream",
     "text": [
      "\r",
      "Finding best individual:  72%|███████▏  | 214/296 [23:19<06:21,  4.65s/it]"
     ]
    },
    {
     "name": "stderr",
     "output_type": "stream",
     "text": [
      "\r",
      "Finding best individual:  73%|███████▎  | 215/296 [23:30<08:56,  6.63s/it]"
     ]
    },
    {
     "name": "stderr",
     "output_type": "stream",
     "text": [
      "\r",
      "Finding best individual:  73%|███████▎  | 216/296 [23:37<08:49,  6.62s/it]"
     ]
    },
    {
     "name": "stderr",
     "output_type": "stream",
     "text": [
      "\r",
      "Finding best individual:  73%|███████▎  | 217/296 [23:42<08:09,  6.20s/it]"
     ]
    },
    {
     "name": "stderr",
     "output_type": "stream",
     "text": [
      "\r",
      "Finding best individual:  74%|███████▎  | 218/296 [23:46<07:00,  5.39s/it]"
     ]
    },
    {
     "name": "stderr",
     "output_type": "stream",
     "text": [
      "\r",
      "Finding best individual:  74%|███████▍  | 219/296 [23:48<05:49,  4.54s/it]"
     ]
    },
    {
     "name": "stderr",
     "output_type": "stream",
     "text": [
      "\r",
      "Finding best individual:  74%|███████▍  | 220/296 [23:51<05:10,  4.08s/it]"
     ]
    },
    {
     "name": "stderr",
     "output_type": "stream",
     "text": [
      "\r",
      "Finding best individual:  75%|███████▍  | 221/296 [24:01<07:03,  5.65s/it]"
     ]
    },
    {
     "name": "stderr",
     "output_type": "stream",
     "text": [
      "\r",
      "Finding best individual:  75%|███████▌  | 222/296 [24:13<09:25,  7.64s/it]"
     ]
    },
    {
     "name": "stderr",
     "output_type": "stream",
     "text": [
      "\r",
      "Finding best individual:  75%|███████▌  | 223/296 [24:34<14:04, 11.57s/it]"
     ]
    },
    {
     "name": "stderr",
     "output_type": "stream",
     "text": [
      "\r",
      "Finding best individual:  76%|███████▌  | 224/296 [24:39<11:44,  9.78s/it]"
     ]
    },
    {
     "name": "stderr",
     "output_type": "stream",
     "text": [
      "\r",
      "Finding best individual:  76%|███████▌  | 225/296 [24:50<11:57, 10.11s/it]"
     ]
    },
    {
     "name": "stderr",
     "output_type": "stream",
     "text": [
      "\r",
      "Finding best individual:  76%|███████▋  | 226/296 [24:57<10:49,  9.28s/it]"
     ]
    },
    {
     "name": "stderr",
     "output_type": "stream",
     "text": [
      "\r",
      "Finding best individual:  77%|███████▋  | 227/296 [25:16<13:44, 11.95s/it]"
     ]
    },
    {
     "name": "stderr",
     "output_type": "stream",
     "text": [
      "\r",
      "Finding best individual:  77%|███████▋  | 228/296 [25:18<10:24,  9.18s/it]"
     ]
    },
    {
     "name": "stderr",
     "output_type": "stream",
     "text": [
      "\r",
      "Finding best individual:  77%|███████▋  | 229/296 [25:25<09:20,  8.36s/it]"
     ]
    },
    {
     "name": "stderr",
     "output_type": "stream",
     "text": [
      "\r",
      "Finding best individual:  78%|███████▊  | 230/296 [25:26<07:00,  6.37s/it]"
     ]
    },
    {
     "name": "stderr",
     "output_type": "stream",
     "text": [
      "\r",
      "Finding best individual:  78%|███████▊  | 231/296 [25:30<06:07,  5.65s/it]"
     ]
    },
    {
     "name": "stderr",
     "output_type": "stream",
     "text": [
      "\r",
      "Finding best individual:  78%|███████▊  | 232/296 [25:38<06:40,  6.25s/it]"
     ]
    },
    {
     "name": "stderr",
     "output_type": "stream",
     "text": [
      "\r",
      "Finding best individual:  79%|███████▊  | 233/296 [25:48<07:38,  7.27s/it]"
     ]
    },
    {
     "name": "stderr",
     "output_type": "stream",
     "text": [
      "\r",
      "Finding best individual:  79%|███████▉  | 234/296 [25:54<07:04,  6.85s/it]"
     ]
    },
    {
     "name": "stderr",
     "output_type": "stream",
     "text": [
      "\r",
      "Finding best individual:  79%|███████▉  | 235/296 [26:00<06:45,  6.64s/it]"
     ]
    },
    {
     "name": "stderr",
     "output_type": "stream",
     "text": [
      "\r",
      "Finding best individual:  80%|███████▉  | 236/296 [26:03<05:36,  5.61s/it]"
     ]
    },
    {
     "name": "stderr",
     "output_type": "stream",
     "text": [
      "\r",
      "Finding best individual:  80%|████████  | 237/296 [26:05<04:22,  4.46s/it]"
     ]
    },
    {
     "name": "stderr",
     "output_type": "stream",
     "text": [
      "\r",
      "Finding best individual:  80%|████████  | 238/296 [26:09<04:17,  4.43s/it]"
     ]
    },
    {
     "name": "stderr",
     "output_type": "stream",
     "text": [
      "\r",
      "Finding best individual:  81%|████████  | 239/296 [26:13<03:57,  4.17s/it]"
     ]
    },
    {
     "name": "stderr",
     "output_type": "stream",
     "text": [
      "\r",
      "Finding best individual:  81%|████████  | 240/296 [26:17<04:03,  4.35s/it]"
     ]
    },
    {
     "name": "stderr",
     "output_type": "stream",
     "text": [
      "\r",
      "Finding best individual:  81%|████████▏ | 241/296 [26:20<03:22,  3.68s/it]"
     ]
    },
    {
     "name": "stderr",
     "output_type": "stream",
     "text": [
      "\r",
      "Finding best individual:  82%|████████▏ | 242/296 [26:30<05:16,  5.86s/it]"
     ]
    },
    {
     "name": "stderr",
     "output_type": "stream",
     "text": [
      "\r",
      "Finding best individual:  82%|████████▏ | 243/296 [26:47<07:52,  8.92s/it]"
     ]
    },
    {
     "name": "stderr",
     "output_type": "stream",
     "text": [
      "\r",
      "Finding best individual:  82%|████████▏ | 244/296 [26:50<06:15,  7.23s/it]"
     ]
    },
    {
     "name": "stderr",
     "output_type": "stream",
     "text": [
      "\r",
      "Finding best individual:  83%|████████▎ | 245/296 [26:54<05:24,  6.37s/it]"
     ]
    },
    {
     "name": "stderr",
     "output_type": "stream",
     "text": [
      "\r",
      "Finding best individual:  83%|████████▎ | 246/296 [26:57<04:29,  5.40s/it]"
     ]
    },
    {
     "name": "stderr",
     "output_type": "stream",
     "text": [
      "\r",
      "Finding best individual:  83%|████████▎ | 247/296 [27:00<03:38,  4.46s/it]"
     ]
    },
    {
     "name": "stderr",
     "output_type": "stream",
     "text": [
      "\r",
      "Finding best individual:  84%|████████▍ | 248/296 [27:03<03:19,  4.16s/it]"
     ]
    },
    {
     "name": "stderr",
     "output_type": "stream",
     "text": [
      "\r",
      "Finding best individual:  84%|████████▍ | 249/296 [27:08<03:24,  4.36s/it]"
     ]
    },
    {
     "name": "stderr",
     "output_type": "stream",
     "text": [
      "\r",
      "Finding best individual:  84%|████████▍ | 250/296 [27:13<03:33,  4.63s/it]"
     ]
    },
    {
     "name": "stderr",
     "output_type": "stream",
     "text": [
      "\r",
      "Finding best individual:  85%|████████▍ | 251/296 [27:15<02:55,  3.89s/it]"
     ]
    },
    {
     "name": "stderr",
     "output_type": "stream",
     "text": [
      "\r",
      "Finding best individual:  85%|████████▌ | 252/296 [27:19<02:49,  3.84s/it]"
     ]
    },
    {
     "name": "stderr",
     "output_type": "stream",
     "text": [
      "\r",
      "Finding best individual:  85%|████████▌ | 253/296 [27:26<03:24,  4.75s/it]"
     ]
    },
    {
     "name": "stderr",
     "output_type": "stream",
     "text": [
      "\r",
      "Finding best individual:  86%|████████▌ | 254/296 [27:34<04:01,  5.75s/it]"
     ]
    },
    {
     "name": "stderr",
     "output_type": "stream",
     "text": [
      "\r",
      "Finding best individual:  86%|████████▌ | 255/296 [27:48<05:42,  8.36s/it]"
     ]
    },
    {
     "name": "stderr",
     "output_type": "stream",
     "text": [
      "\r",
      "Finding best individual:  86%|████████▋ | 256/296 [27:54<04:56,  7.41s/it]"
     ]
    },
    {
     "name": "stderr",
     "output_type": "stream",
     "text": [
      "\r",
      "Finding best individual:  87%|████████▋ | 257/296 [27:56<03:52,  5.97s/it]"
     ]
    },
    {
     "name": "stderr",
     "output_type": "stream",
     "text": [
      "\r",
      "Finding best individual:  87%|████████▋ | 258/296 [27:58<03:04,  4.85s/it]"
     ]
    },
    {
     "name": "stderr",
     "output_type": "stream",
     "text": [
      "\r",
      "Finding best individual:  88%|████████▊ | 259/296 [28:02<02:40,  4.33s/it]"
     ]
    },
    {
     "name": "stderr",
     "output_type": "stream",
     "text": [
      "\r",
      "Finding best individual:  88%|████████▊ | 260/296 [28:04<02:17,  3.82s/it]"
     ]
    },
    {
     "name": "stderr",
     "output_type": "stream",
     "text": [
      "\r",
      "Finding best individual:  88%|████████▊ | 261/296 [28:07<01:59,  3.41s/it]"
     ]
    },
    {
     "name": "stderr",
     "output_type": "stream",
     "text": [
      "\r",
      "Finding best individual:  89%|████████▊ | 262/296 [28:13<02:24,  4.24s/it]"
     ]
    },
    {
     "name": "stderr",
     "output_type": "stream",
     "text": [
      "\r",
      "Finding best individual:  89%|████████▉ | 263/296 [28:18<02:26,  4.45s/it]"
     ]
    },
    {
     "name": "stderr",
     "output_type": "stream",
     "text": [
      "\r",
      "Finding best individual:  89%|████████▉ | 264/296 [28:22<02:15,  4.22s/it]"
     ]
    },
    {
     "name": "stderr",
     "output_type": "stream",
     "text": [
      "\r",
      "Finding best individual:  90%|████████▉ | 265/296 [28:26<02:11,  4.23s/it]"
     ]
    },
    {
     "name": "stderr",
     "output_type": "stream",
     "text": [
      "\r",
      "Finding best individual:  90%|████████▉ | 266/296 [28:31<02:11,  4.39s/it]"
     ]
    },
    {
     "name": "stderr",
     "output_type": "stream",
     "text": [
      "\r",
      "Finding best individual:  90%|█████████ | 267/296 [28:32<01:41,  3.50s/it]"
     ]
    },
    {
     "name": "stderr",
     "output_type": "stream",
     "text": [
      "\r",
      "Finding best individual:  91%|█████████ | 268/296 [28:35<01:38,  3.51s/it]"
     ]
    },
    {
     "name": "stderr",
     "output_type": "stream",
     "text": [
      "\r",
      "Finding best individual:  91%|█████████ | 269/296 [28:52<03:16,  7.27s/it]"
     ]
    },
    {
     "name": "stderr",
     "output_type": "stream",
     "text": [
      "\r",
      "Finding best individual:  91%|█████████ | 270/296 [28:58<03:02,  7.00s/it]"
     ]
    },
    {
     "name": "stderr",
     "output_type": "stream",
     "text": [
      "\r",
      "Finding best individual:  92%|█████████▏| 271/296 [29:04<02:47,  6.70s/it]"
     ]
    },
    {
     "name": "stderr",
     "output_type": "stream",
     "text": [
      "\r",
      "Finding best individual:  92%|█████████▏| 272/296 [29:09<02:27,  6.14s/it]"
     ]
    },
    {
     "name": "stderr",
     "output_type": "stream",
     "text": [
      "\r",
      "Finding best individual:  92%|█████████▏| 273/296 [29:14<02:12,  5.78s/it]"
     ]
    },
    {
     "name": "stderr",
     "output_type": "stream",
     "text": [
      "\r",
      "Finding best individual:  93%|█████████▎| 274/296 [29:20<02:12,  6.00s/it]"
     ]
    },
    {
     "name": "stderr",
     "output_type": "stream",
     "text": [
      "\r",
      "Finding best individual:  93%|█████████▎| 275/296 [29:25<01:59,  5.70s/it]"
     ]
    },
    {
     "name": "stderr",
     "output_type": "stream",
     "text": [
      "\r",
      "Finding best individual:  93%|█████████▎| 276/296 [29:27<01:33,  4.67s/it]"
     ]
    },
    {
     "name": "stderr",
     "output_type": "stream",
     "text": [
      "\r",
      "Finding best individual:  94%|█████████▎| 277/296 [29:30<01:17,  4.10s/it]"
     ]
    },
    {
     "name": "stderr",
     "output_type": "stream",
     "text": [
      "\r",
      "Finding best individual:  94%|█████████▍| 278/296 [29:37<01:30,  5.05s/it]"
     ]
    },
    {
     "name": "stderr",
     "output_type": "stream",
     "text": [
      "\r",
      "Finding best individual:  94%|█████████▍| 279/296 [29:41<01:18,  4.61s/it]"
     ]
    },
    {
     "name": "stderr",
     "output_type": "stream",
     "text": [
      "\r",
      "Finding best individual:  95%|█████████▍| 280/296 [29:44<01:04,  4.06s/it]"
     ]
    },
    {
     "name": "stderr",
     "output_type": "stream",
     "text": [
      "\r",
      "Finding best individual:  95%|█████████▍| 281/296 [29:48<01:02,  4.19s/it]"
     ]
    },
    {
     "name": "stderr",
     "output_type": "stream",
     "text": [
      "\r",
      "Finding best individual:  95%|█████████▌| 282/296 [29:57<01:15,  5.42s/it]"
     ]
    },
    {
     "name": "stderr",
     "output_type": "stream",
     "text": [
      "\r",
      "Finding best individual:  96%|█████████▌| 283/296 [30:05<01:22,  6.31s/it]"
     ]
    },
    {
     "name": "stderr",
     "output_type": "stream",
     "text": [
      "\r",
      "Finding best individual:  96%|█████████▌| 284/296 [30:11<01:15,  6.29s/it]"
     ]
    },
    {
     "name": "stderr",
     "output_type": "stream",
     "text": [
      "\r",
      "Finding best individual:  96%|█████████▋| 285/296 [30:23<01:27,  7.95s/it]"
     ]
    },
    {
     "name": "stderr",
     "output_type": "stream",
     "text": [
      "\r",
      "Finding best individual:  97%|█████████▋| 286/296 [30:28<01:10,  7.04s/it]"
     ]
    },
    {
     "name": "stderr",
     "output_type": "stream",
     "text": [
      "\r",
      "Finding best individual:  97%|█████████▋| 287/296 [30:30<00:49,  5.55s/it]"
     ]
    },
    {
     "name": "stderr",
     "output_type": "stream",
     "text": [
      "\r",
      "Finding best individual:  97%|█████████▋| 288/296 [30:42<00:59,  7.47s/it]"
     ]
    },
    {
     "name": "stderr",
     "output_type": "stream",
     "text": [
      "\r",
      "Finding best individual:  98%|█████████▊| 289/296 [30:47<00:47,  6.72s/it]"
     ]
    },
    {
     "name": "stderr",
     "output_type": "stream",
     "text": [
      "\r",
      "Finding best individual:  98%|█████████▊| 290/296 [30:55<00:42,  7.16s/it]"
     ]
    },
    {
     "name": "stderr",
     "output_type": "stream",
     "text": [
      "\r",
      "Finding best individual:  98%|█████████▊| 291/296 [31:09<00:46,  9.27s/it]"
     ]
    },
    {
     "name": "stderr",
     "output_type": "stream",
     "text": [
      "\r",
      "Finding best individual:  99%|█████████▊| 292/296 [31:11<00:27,  6.99s/it]"
     ]
    },
    {
     "name": "stderr",
     "output_type": "stream",
     "text": [
      "\r",
      "Finding best individual:  99%|█████████▉| 293/296 [31:16<00:18,  6.29s/it]"
     ]
    },
    {
     "name": "stderr",
     "output_type": "stream",
     "text": [
      "\r",
      "Finding best individual:  99%|█████████▉| 294/296 [31:17<00:09,  4.77s/it]"
     ]
    },
    {
     "name": "stderr",
     "output_type": "stream",
     "text": [
      "\r",
      "Finding best individual: 100%|█████████▉| 295/296 [31:18<00:03,  3.65s/it]"
     ]
    },
    {
     "name": "stderr",
     "output_type": "stream",
     "text": [
      "\r",
      "Finding best individual: 100%|██████████| 296/296 [31:20<00:00,  3.30s/it]"
     ]
    },
    {
     "name": "stderr",
     "output_type": "stream",
     "text": [
      "\n"
     ]
    }
   ],
   "source": [
    "best_indiv = pd.Series([])\n",
    "with tqdm(sid_list, desc='Finding best individual', leave=True) as bar:\n",
    "  for subject_id in bar:\n",
    "    best_indiv.loc[subject_id] = get_best_cls(subject_id)\n",
    "best_indiv = best_indiv.apply(pd.Series)\n",
    "best_indiv.columns = ('Index', 'Model')\n",
    "best_indiv.to_pickle(BEST_INDIVIDUAL_LOCATION)"
   ]
  },
  {
   "cell_type": "code",
   "execution_count": 8,
   "metadata": {
    "collapsed": false,
    "inputHidden": false,
    "outputHidden": false,
    "papermill": {
     "duration": 0.617856,
     "end_time": "2019-08-21T13:49:49.205442",
     "exception": false,
     "start_time": "2019-08-21T13:49:48.587586",
     "status": "completed"
    },
    "tags": []
   },
   "outputs": [
    {
     "data": {
      "text/html": [
       "<div>\n",
       "<style scoped>\n",
       "    .dataframe tbody tr th:only-of-type {\n",
       "        vertical-align: middle;\n",
       "    }\n",
       "\n",
       "    .dataframe tbody tr th {\n",
       "        vertical-align: top;\n",
       "    }\n",
       "\n",
       "    .dataframe thead th {\n",
       "        text-align: right;\n",
       "    }\n",
       "</style>\n",
       "<table border=\"1\" class=\"dataframe\">\n",
       "  <thead>\n",
       "    <tr style=\"text-align: right;\">\n",
       "      <th></th>\n",
       "      <th>Index</th>\n",
       "      <th>Model</th>\n",
       "    </tr>\n",
       "  </thead>\n",
       "  <tbody>\n",
       "    <tr>\n",
       "      <th>20901989</th>\n",
       "      <td>7582</td>\n",
       "      <td>{'disk': {'mu': [32.534912109375, 32.5390625],...</td>\n",
       "    </tr>\n",
       "    <tr>\n",
       "      <th>20902000</th>\n",
       "      <td>8746</td>\n",
       "      <td>{'disk': {'mu': [90.19638061523438, 90.1840209...</td>\n",
       "    </tr>\n",
       "    <tr>\n",
       "      <th>20902007</th>\n",
       "      <td>5745</td>\n",
       "      <td>{'disk': {'mu': [89.22597867250443, 88.0966779...</td>\n",
       "    </tr>\n",
       "    <tr>\n",
       "      <th>20902023</th>\n",
       "      <td>9462</td>\n",
       "      <td>{'disk': {'mu': [74.94947856664658, 76.0800154...</td>\n",
       "    </tr>\n",
       "    <tr>\n",
       "      <th>20902031</th>\n",
       "      <td>2002</td>\n",
       "      <td>{'disk': {'mu': [80.5333251953125, 78.87945556...</td>\n",
       "    </tr>\n",
       "    <tr>\n",
       "      <th>20902048</th>\n",
       "      <td>1206</td>\n",
       "      <td>{'disk': {'mu': [43.26777309179306, 44.0041029...</td>\n",
       "    </tr>\n",
       "    <tr>\n",
       "      <th>20902059</th>\n",
       "      <td>9841</td>\n",
       "      <td>{'disk': {'mu': [92.6253662109375, 93.36328125...</td>\n",
       "    </tr>\n",
       "    <tr>\n",
       "      <th>20902062</th>\n",
       "      <td>2171</td>\n",
       "      <td>{'disk': {'mu': [93.27083259820938, 92.1266250...</td>\n",
       "    </tr>\n",
       "    <tr>\n",
       "      <th>20902073</th>\n",
       "      <td>7139</td>\n",
       "      <td>{'disk': {'mu': [35.0528963804245, 39.63281702...</td>\n",
       "    </tr>\n",
       "    <tr>\n",
       "      <th>20902086</th>\n",
       "      <td>4486</td>\n",
       "      <td>{'disk': {'mu': [50.139723122119904, 51.853604...</td>\n",
       "    </tr>\n",
       "    <tr>\n",
       "      <th>20902008</th>\n",
       "      <td>5177</td>\n",
       "      <td>{'disk': {'mu': [126.48834228515625, 120.83862...</td>\n",
       "    </tr>\n",
       "    <tr>\n",
       "      <th>20902018</th>\n",
       "      <td>10245</td>\n",
       "      <td>{'disk': {'mu': [126.53458592295647, 126.67789...</td>\n",
       "    </tr>\n",
       "    <tr>\n",
       "      <th>20902040</th>\n",
       "      <td>4681</td>\n",
       "      <td>{'disk': {'mu': [126.41048347949982, 128.45410...</td>\n",
       "    </tr>\n",
       "    <tr>\n",
       "      <th>20902052</th>\n",
       "      <td>2284</td>\n",
       "      <td>{'disk': {'mu': [69.8001708984375, 69.70330810...</td>\n",
       "    </tr>\n",
       "    <tr>\n",
       "      <th>20902053</th>\n",
       "      <td>6312</td>\n",
       "      <td>{'disk': {'mu': [64.67049407958984, 62.9299926...</td>\n",
       "    </tr>\n",
       "    <tr>\n",
       "      <th>20902055</th>\n",
       "      <td>7094</td>\n",
       "      <td>{'disk': {'mu': [116.64576721191406, 115.97914...</td>\n",
       "    </tr>\n",
       "    <tr>\n",
       "      <th>20902060</th>\n",
       "      <td>9096</td>\n",
       "      <td>{'disk': {'mu': [43.74957275390625, 42.8203125...</td>\n",
       "    </tr>\n",
       "    <tr>\n",
       "      <th>20902061</th>\n",
       "      <td>2383</td>\n",
       "      <td>{'disk': {'mu': [43.23980712890625, 42.9265136...</td>\n",
       "    </tr>\n",
       "    <tr>\n",
       "      <th>20902064</th>\n",
       "      <td>2283</td>\n",
       "      <td>{'disk': {'mu': [56.399847865104675, 55.177710...</td>\n",
       "    </tr>\n",
       "    <tr>\n",
       "      <th>20902065</th>\n",
       "      <td>2003</td>\n",
       "      <td>{'disk': {'mu': [58.446044921875, 57.830078125...</td>\n",
       "    </tr>\n",
       "    <tr>\n",
       "      <th>20901992</th>\n",
       "      <td>9950</td>\n",
       "      <td>{'disk': {'mu': [86.32049560546875, 87.5242309...</td>\n",
       "    </tr>\n",
       "    <tr>\n",
       "      <th>20901996</th>\n",
       "      <td>1222</td>\n",
       "      <td>{'disk': {'mu': [91.11985605955124, 88.0899116...</td>\n",
       "    </tr>\n",
       "    <tr>\n",
       "      <th>20902002</th>\n",
       "      <td>8697</td>\n",
       "      <td>{'disk': {'mu': [143.092041015625, 142.0], 'ro...</td>\n",
       "    </tr>\n",
       "    <tr>\n",
       "      <th>20902013</th>\n",
       "      <td>7741</td>\n",
       "      <td>{'disk': {'mu': [99.39218139648438, 98.8089904...</td>\n",
       "    </tr>\n",
       "    <tr>\n",
       "      <th>20902015</th>\n",
       "      <td>7580</td>\n",
       "      <td>{'disk': {'mu': [63.7421875, 62.75], 'roll': -...</td>\n",
       "    </tr>\n",
       "    <tr>\n",
       "      <th>20902017</th>\n",
       "      <td>1560</td>\n",
       "      <td>{'disk': {'mu': [127.07444149255753, 125.91642...</td>\n",
       "    </tr>\n",
       "    <tr>\n",
       "      <th>20901998</th>\n",
       "      <td>1503</td>\n",
       "      <td>{'disk': {'mu': [108.6328125, 108.829690933227...</td>\n",
       "    </tr>\n",
       "    <tr>\n",
       "      <th>20902005</th>\n",
       "      <td>9290</td>\n",
       "      <td>{'disk': {'mu': [69.5306396484375, 68.89892578...</td>\n",
       "    </tr>\n",
       "    <tr>\n",
       "      <th>20902016</th>\n",
       "      <td>6589</td>\n",
       "      <td>{'disk': {'mu': [117.63593655824661, 118.94746...</td>\n",
       "    </tr>\n",
       "    <tr>\n",
       "      <th>20902051</th>\n",
       "      <td>6077</td>\n",
       "      <td>{'disk': {'mu': [50.04231631755829, 49.2415368...</td>\n",
       "    </tr>\n",
       "    <tr>\n",
       "      <th>...</th>\n",
       "      <td>...</td>\n",
       "      <td>...</td>\n",
       "    </tr>\n",
       "    <tr>\n",
       "      <th>21686596</th>\n",
       "      <td>4141</td>\n",
       "      <td>{'disk': {'mu': [37.373046576976776, 37.963870...</td>\n",
       "    </tr>\n",
       "    <tr>\n",
       "      <th>21686500</th>\n",
       "      <td>4255</td>\n",
       "      <td>{'disk': {'mu': [66.62446838617325, 67.0384738...</td>\n",
       "    </tr>\n",
       "    <tr>\n",
       "      <th>21686569</th>\n",
       "      <td>3975</td>\n",
       "      <td>{'disk': {'mu': [128.98384925723076, 127.76300...</td>\n",
       "    </tr>\n",
       "    <tr>\n",
       "      <th>21686496</th>\n",
       "      <td>3607</td>\n",
       "      <td>{'disk': {'mu': [89.66387939453125, 89.8496093...</td>\n",
       "    </tr>\n",
       "    <tr>\n",
       "      <th>21686519</th>\n",
       "      <td>6454</td>\n",
       "      <td>{'disk': {'mu': [81.14682006835938, 79.2105484...</td>\n",
       "    </tr>\n",
       "    <tr>\n",
       "      <th>21686550</th>\n",
       "      <td>9865</td>\n",
       "      <td>{'disk': {'mu': [71.7099609375, 71.95166015625...</td>\n",
       "    </tr>\n",
       "    <tr>\n",
       "      <th>21686499</th>\n",
       "      <td>6239</td>\n",
       "      <td>{'disk': {'mu': [77.26865887641907, 78.0893940...</td>\n",
       "    </tr>\n",
       "    <tr>\n",
       "      <th>21686526</th>\n",
       "      <td>5790</td>\n",
       "      <td>{'disk': {'mu': [88.90331679582596, 88.5823112...</td>\n",
       "    </tr>\n",
       "    <tr>\n",
       "      <th>21686576</th>\n",
       "      <td>4151</td>\n",
       "      <td>{'disk': {'mu': [68.28277587890625, 65.8149719...</td>\n",
       "    </tr>\n",
       "    <tr>\n",
       "      <th>21686614</th>\n",
       "      <td>10435</td>\n",
       "      <td>{'disk': {'mu': [49.3768310546875, 49.92114257...</td>\n",
       "    </tr>\n",
       "    <tr>\n",
       "      <th>21686611</th>\n",
       "      <td>4142</td>\n",
       "      <td>{'disk': {'mu': [60.531509935855865, 60.775720...</td>\n",
       "    </tr>\n",
       "    <tr>\n",
       "      <th>21686508</th>\n",
       "      <td>3633</td>\n",
       "      <td>{'disk': {'mu': [101.987548828125, 101.203125]...</td>\n",
       "    </tr>\n",
       "    <tr>\n",
       "      <th>21686535</th>\n",
       "      <td>3734</td>\n",
       "      <td>{'disk': {'mu': [56.4823215007782, 55.24658203...</td>\n",
       "    </tr>\n",
       "    <tr>\n",
       "      <th>21686580</th>\n",
       "      <td>3730</td>\n",
       "      <td>{'disk': {'mu': [49.35058653354645, 50.8056640...</td>\n",
       "    </tr>\n",
       "    <tr>\n",
       "      <th>21686562</th>\n",
       "      <td>3721</td>\n",
       "      <td>{'disk': {'mu': [77.23762959241867, 77.7926456...</td>\n",
       "    </tr>\n",
       "    <tr>\n",
       "      <th>21686591</th>\n",
       "      <td>7606</td>\n",
       "      <td>{'disk': {'mu': [93.39485168457031, 91.7773437...</td>\n",
       "    </tr>\n",
       "    <tr>\n",
       "      <th>21686545</th>\n",
       "      <td>3837</td>\n",
       "      <td>{'disk': {'mu': [116.63397216796875, 118.78207...</td>\n",
       "    </tr>\n",
       "    <tr>\n",
       "      <th>21686543</th>\n",
       "      <td>4421</td>\n",
       "      <td>{'disk': {'mu': [89.8582763671875, 88.86962890...</td>\n",
       "    </tr>\n",
       "    <tr>\n",
       "      <th>21686505</th>\n",
       "      <td>4148</td>\n",
       "      <td>{'disk': {'mu': [108.40869140625, 107.41333007...</td>\n",
       "    </tr>\n",
       "    <tr>\n",
       "      <th>21686586</th>\n",
       "      <td>7784</td>\n",
       "      <td>{'disk': {'mu': [69.94061279296875, 70.5], 'ro...</td>\n",
       "    </tr>\n",
       "    <tr>\n",
       "      <th>21686589</th>\n",
       "      <td>4282</td>\n",
       "      <td>{'disk': {'mu': [43.4114972949028, 43.43273752...</td>\n",
       "    </tr>\n",
       "    <tr>\n",
       "      <th>21686584</th>\n",
       "      <td>3979</td>\n",
       "      <td>{'disk': {'mu': [115.81027221679688, 116.86975...</td>\n",
       "    </tr>\n",
       "    <tr>\n",
       "      <th>21686560</th>\n",
       "      <td>9056</td>\n",
       "      <td>{'disk': {'mu': [78.95901489257812, 78.5334930...</td>\n",
       "    </tr>\n",
       "    <tr>\n",
       "      <th>21686551</th>\n",
       "      <td>6883</td>\n",
       "      <td>{'disk': {'mu': [88.9891357421875, 88.3046875]...</td>\n",
       "    </tr>\n",
       "    <tr>\n",
       "      <th>21686547</th>\n",
       "      <td>3802</td>\n",
       "      <td>{'disk': {'mu': [127.32767951488495, 126.5], '...</td>\n",
       "    </tr>\n",
       "    <tr>\n",
       "      <th>21686590</th>\n",
       "      <td>7377</td>\n",
       "      <td>{'disk': {'mu': [43.330078125, 42.576755046844...</td>\n",
       "    </tr>\n",
       "    <tr>\n",
       "      <th>21686581</th>\n",
       "      <td>7550</td>\n",
       "      <td>{'disk': {'mu': [69.50852966308594, 70.3087005...</td>\n",
       "    </tr>\n",
       "    <tr>\n",
       "      <th>21686609</th>\n",
       "      <td>10439</td>\n",
       "      <td>{'disk': {'mu': [36.7064208984375, 36.68383789...</td>\n",
       "    </tr>\n",
       "    <tr>\n",
       "      <th>21686601</th>\n",
       "      <td>3957</td>\n",
       "      <td>{'disk': {'mu': [30.9962158203125, 30.22613525...</td>\n",
       "    </tr>\n",
       "    <tr>\n",
       "      <th>21686565</th>\n",
       "      <td>3973</td>\n",
       "      <td>{'disk': {'mu': [53.67682248353958, 54.1522790...</td>\n",
       "    </tr>\n",
       "  </tbody>\n",
       "</table>\n",
       "<p>296 rows × 2 columns</p>\n",
       "</div>"
      ],
      "text/plain": [
       "          Index                                              Model\n",
       "20901989   7582  {'disk': {'mu': [32.534912109375, 32.5390625],...\n",
       "20902000   8746  {'disk': {'mu': [90.19638061523438, 90.1840209...\n",
       "20902007   5745  {'disk': {'mu': [89.22597867250443, 88.0966779...\n",
       "20902023   9462  {'disk': {'mu': [74.94947856664658, 76.0800154...\n",
       "20902031   2002  {'disk': {'mu': [80.5333251953125, 78.87945556...\n",
       "20902048   1206  {'disk': {'mu': [43.26777309179306, 44.0041029...\n",
       "20902059   9841  {'disk': {'mu': [92.6253662109375, 93.36328125...\n",
       "20902062   2171  {'disk': {'mu': [93.27083259820938, 92.1266250...\n",
       "20902073   7139  {'disk': {'mu': [35.0528963804245, 39.63281702...\n",
       "20902086   4486  {'disk': {'mu': [50.139723122119904, 51.853604...\n",
       "20902008   5177  {'disk': {'mu': [126.48834228515625, 120.83862...\n",
       "20902018  10245  {'disk': {'mu': [126.53458592295647, 126.67789...\n",
       "20902040   4681  {'disk': {'mu': [126.41048347949982, 128.45410...\n",
       "20902052   2284  {'disk': {'mu': [69.8001708984375, 69.70330810...\n",
       "20902053   6312  {'disk': {'mu': [64.67049407958984, 62.9299926...\n",
       "20902055   7094  {'disk': {'mu': [116.64576721191406, 115.97914...\n",
       "20902060   9096  {'disk': {'mu': [43.74957275390625, 42.8203125...\n",
       "20902061   2383  {'disk': {'mu': [43.23980712890625, 42.9265136...\n",
       "20902064   2283  {'disk': {'mu': [56.399847865104675, 55.177710...\n",
       "20902065   2003  {'disk': {'mu': [58.446044921875, 57.830078125...\n",
       "20901992   9950  {'disk': {'mu': [86.32049560546875, 87.5242309...\n",
       "20901996   1222  {'disk': {'mu': [91.11985605955124, 88.0899116...\n",
       "20902002   8697  {'disk': {'mu': [143.092041015625, 142.0], 'ro...\n",
       "20902013   7741  {'disk': {'mu': [99.39218139648438, 98.8089904...\n",
       "20902015   7580  {'disk': {'mu': [63.7421875, 62.75], 'roll': -...\n",
       "20902017   1560  {'disk': {'mu': [127.07444149255753, 125.91642...\n",
       "20901998   1503  {'disk': {'mu': [108.6328125, 108.829690933227...\n",
       "20902005   9290  {'disk': {'mu': [69.5306396484375, 68.89892578...\n",
       "20902016   6589  {'disk': {'mu': [117.63593655824661, 118.94746...\n",
       "20902051   6077  {'disk': {'mu': [50.04231631755829, 49.2415368...\n",
       "...         ...                                                ...\n",
       "21686596   4141  {'disk': {'mu': [37.373046576976776, 37.963870...\n",
       "21686500   4255  {'disk': {'mu': [66.62446838617325, 67.0384738...\n",
       "21686569   3975  {'disk': {'mu': [128.98384925723076, 127.76300...\n",
       "21686496   3607  {'disk': {'mu': [89.66387939453125, 89.8496093...\n",
       "21686519   6454  {'disk': {'mu': [81.14682006835938, 79.2105484...\n",
       "21686550   9865  {'disk': {'mu': [71.7099609375, 71.95166015625...\n",
       "21686499   6239  {'disk': {'mu': [77.26865887641907, 78.0893940...\n",
       "21686526   5790  {'disk': {'mu': [88.90331679582596, 88.5823112...\n",
       "21686576   4151  {'disk': {'mu': [68.28277587890625, 65.8149719...\n",
       "21686614  10435  {'disk': {'mu': [49.3768310546875, 49.92114257...\n",
       "21686611   4142  {'disk': {'mu': [60.531509935855865, 60.775720...\n",
       "21686508   3633  {'disk': {'mu': [101.987548828125, 101.203125]...\n",
       "21686535   3734  {'disk': {'mu': [56.4823215007782, 55.24658203...\n",
       "21686580   3730  {'disk': {'mu': [49.35058653354645, 50.8056640...\n",
       "21686562   3721  {'disk': {'mu': [77.23762959241867, 77.7926456...\n",
       "21686591   7606  {'disk': {'mu': [93.39485168457031, 91.7773437...\n",
       "21686545   3837  {'disk': {'mu': [116.63397216796875, 118.78207...\n",
       "21686543   4421  {'disk': {'mu': [89.8582763671875, 88.86962890...\n",
       "21686505   4148  {'disk': {'mu': [108.40869140625, 107.41333007...\n",
       "21686586   7784  {'disk': {'mu': [69.94061279296875, 70.5], 'ro...\n",
       "21686589   4282  {'disk': {'mu': [43.4114972949028, 43.43273752...\n",
       "21686584   3979  {'disk': {'mu': [115.81027221679688, 116.86975...\n",
       "21686560   9056  {'disk': {'mu': [78.95901489257812, 78.5334930...\n",
       "21686551   6883  {'disk': {'mu': [88.9891357421875, 88.3046875]...\n",
       "21686547   3802  {'disk': {'mu': [127.32767951488495, 126.5], '...\n",
       "21686590   7377  {'disk': {'mu': [43.330078125, 42.576755046844...\n",
       "21686581   7550  {'disk': {'mu': [69.50852966308594, 70.3087005...\n",
       "21686609  10439  {'disk': {'mu': [36.7064208984375, 36.68383789...\n",
       "21686601   3957  {'disk': {'mu': [30.9962158203125, 30.22613525...\n",
       "21686565   3973  {'disk': {'mu': [53.67682248353958, 54.1522790...\n",
       "\n",
       "[296 rows x 2 columns]"
      ]
     },
     "execution_count": 8,
     "metadata": {},
     "output_type": "execute_result"
    }
   ],
   "source": [
    "best_indiv"
   ]
  },
  {
   "cell_type": "markdown",
   "metadata": {
    "papermill": {
     "duration": 0.059898,
     "end_time": "2019-08-21T13:49:49.326352",
     "exception": false,
     "start_time": "2019-08-21T13:49:49.266454",
     "status": "completed"
    },
    "tags": []
   },
   "source": [
    "Calculate the list of aggregate models"
   ]
  },
  {
   "cell_type": "code",
   "execution_count": 9,
   "metadata": {
    "collapsed": false,
    "inputHidden": false,
    "outputHidden": false,
    "papermill": {
     "duration": 2228.273897,
     "end_time": "2019-08-21T14:26:57.661445",
     "exception": false,
     "start_time": "2019-08-21T13:49:49.387548",
     "status": "completed"
    },
    "tags": []
   },
   "outputs": [
    {
     "name": "stderr",
     "output_type": "stream",
     "text": [
      "\r",
      "Calculating aggregate:   0%|          | 0/296 [00:00<?, ?it/s]"
     ]
    },
    {
     "name": "stderr",
     "output_type": "stream",
     "text": [
      "\r",
      "Calculating aggregate:   1%|          | 2/296 [00:03<09:24,  1.92s/it]"
     ]
    },
    {
     "name": "stderr",
     "output_type": "stream",
     "text": [
      "\r",
      "Calculating aggregate:   1%|          | 3/296 [00:08<13:07,  2.69s/it]"
     ]
    },
    {
     "name": "stderr",
     "output_type": "stream",
     "text": [
      "\r",
      "Calculating aggregate:   1%|▏         | 4/296 [00:16<21:23,  4.39s/it]"
     ]
    },
    {
     "name": "stderr",
     "output_type": "stream",
     "text": [
      "\r",
      "Calculating aggregate:   2%|▏         | 5/296 [00:19<18:53,  3.89s/it]"
     ]
    },
    {
     "name": "stderr",
     "output_type": "stream",
     "text": [
      "\r",
      "Calculating aggregate:   2%|▏         | 6/296 [00:29<27:42,  5.73s/it]"
     ]
    },
    {
     "name": "stderr",
     "output_type": "stream",
     "text": [
      "\r",
      "Calculating aggregate:   2%|▏         | 7/296 [00:31<22:45,  4.72s/it]"
     ]
    },
    {
     "name": "stderr",
     "output_type": "stream",
     "text": [
      "\r",
      "Calculating aggregate:   3%|▎         | 8/296 [00:36<22:19,  4.65s/it]"
     ]
    },
    {
     "name": "stderr",
     "output_type": "stream",
     "text": [
      "\r",
      "Calculating aggregate:   3%|▎         | 9/296 [00:39<20:03,  4.19s/it]"
     ]
    },
    {
     "name": "stderr",
     "output_type": "stream",
     "text": [
      "\r",
      "Calculating aggregate:   3%|▎         | 10/296 [00:44<21:47,  4.57s/it]"
     ]
    },
    {
     "name": "stderr",
     "output_type": "stream",
     "text": [
      "\r",
      "Calculating aggregate:   4%|▎         | 11/296 [00:57<32:41,  6.88s/it]"
     ]
    },
    {
     "name": "stderr",
     "output_type": "stream",
     "text": [
      "\r",
      "Calculating aggregate:   4%|▍         | 12/296 [01:07<38:05,  8.05s/it]"
     ]
    },
    {
     "name": "stderr",
     "output_type": "stream",
     "text": [
      "\r",
      "Calculating aggregate:   4%|▍         | 13/296 [01:12<32:35,  6.91s/it]"
     ]
    },
    {
     "name": "stderr",
     "output_type": "stream",
     "text": [
      "\r",
      "Calculating aggregate:   5%|▍         | 14/296 [01:26<43:06,  9.17s/it]"
     ]
    },
    {
     "name": "stderr",
     "output_type": "stream",
     "text": [
      "\r",
      "Calculating aggregate:   5%|▌         | 15/296 [01:39<47:37, 10.17s/it]"
     ]
    },
    {
     "name": "stderr",
     "output_type": "stream",
     "text": [
      "\r",
      "Calculating aggregate:   5%|▌         | 16/296 [01:50<49:31, 10.61s/it]"
     ]
    },
    {
     "name": "stderr",
     "output_type": "stream",
     "text": [
      "\r",
      "Calculating aggregate:   6%|▌         | 17/296 [02:00<47:47, 10.28s/it]"
     ]
    },
    {
     "name": "stderr",
     "output_type": "stream",
     "text": [
      "\r",
      "Calculating aggregate:   6%|▌         | 18/296 [02:06<42:36,  9.20s/it]"
     ]
    },
    {
     "name": "stderr",
     "output_type": "stream",
     "text": [
      "\r",
      "Calculating aggregate:   6%|▋         | 19/296 [02:11<35:54,  7.78s/it]"
     ]
    },
    {
     "name": "stderr",
     "output_type": "stream",
     "text": [
      "\r",
      "Calculating aggregate:   7%|▋         | 20/296 [02:21<38:24,  8.35s/it]"
     ]
    },
    {
     "name": "stderr",
     "output_type": "stream",
     "text": [
      "\r",
      "Calculating aggregate:   7%|▋         | 21/296 [02:28<37:29,  8.18s/it]"
     ]
    },
    {
     "name": "stderr",
     "output_type": "stream",
     "text": [
      "\r",
      "Calculating aggregate:   7%|▋         | 22/296 [02:33<32:27,  7.11s/it]"
     ]
    },
    {
     "name": "stderr",
     "output_type": "stream",
     "text": [
      "\r",
      "Calculating aggregate:   8%|▊         | 23/296 [02:43<36:17,  7.98s/it]"
     ]
    },
    {
     "name": "stderr",
     "output_type": "stream",
     "text": [
      "\r",
      "Calculating aggregate:   8%|▊         | 24/296 [02:50<34:27,  7.60s/it]"
     ]
    },
    {
     "name": "stderr",
     "output_type": "stream",
     "text": [
      "\r",
      "Calculating aggregate:   8%|▊         | 25/296 [02:56<32:18,  7.15s/it]"
     ]
    },
    {
     "name": "stderr",
     "output_type": "stream",
     "text": [
      "\r",
      "Calculating aggregate:   9%|▉         | 26/296 [02:59<26:47,  5.95s/it]"
     ]
    },
    {
     "name": "stderr",
     "output_type": "stream",
     "text": [
      "\r",
      "Calculating aggregate:   9%|▉         | 27/296 [03:02<22:55,  5.11s/it]"
     ]
    },
    {
     "name": "stderr",
     "output_type": "stream",
     "text": [
      "\r",
      "Calculating aggregate:   9%|▉         | 28/296 [03:14<31:41,  7.09s/it]"
     ]
    },
    {
     "name": "stderr",
     "output_type": "stream",
     "text": [
      "\r",
      "Calculating aggregate:  10%|▉         | 29/296 [03:18<27:46,  6.24s/it]"
     ]
    },
    {
     "name": "stderr",
     "output_type": "stream",
     "text": [
      "\r",
      "Calculating aggregate:  10%|█         | 30/296 [03:22<23:58,  5.41s/it]"
     ]
    },
    {
     "name": "stderr",
     "output_type": "stream",
     "text": [
      "\r",
      "Calculating aggregate:  10%|█         | 31/296 [03:33<32:16,  7.31s/it]"
     ]
    },
    {
     "name": "stderr",
     "output_type": "stream",
     "text": [
      "\r",
      "Calculating aggregate:  11%|█         | 32/296 [03:44<37:16,  8.47s/it]"
     ]
    },
    {
     "name": "stderr",
     "output_type": "stream",
     "text": [
      "\r",
      "Calculating aggregate:  11%|█         | 33/296 [03:50<33:45,  7.70s/it]"
     ]
    },
    {
     "name": "stderr",
     "output_type": "stream",
     "text": [
      "\r",
      "Calculating aggregate:  11%|█▏        | 34/296 [03:53<26:23,  6.04s/it]"
     ]
    },
    {
     "name": "stderr",
     "output_type": "stream",
     "text": [
      "\r",
      "Calculating aggregate:  12%|█▏        | 35/296 [04:02<30:27,  7.00s/it]"
     ]
    },
    {
     "name": "stderr",
     "output_type": "stream",
     "text": [
      "\r",
      "Calculating aggregate:  12%|█▏        | 36/296 [04:08<28:49,  6.65s/it]"
     ]
    },
    {
     "name": "stderr",
     "output_type": "stream",
     "text": [
      "\r",
      "Calculating aggregate:  12%|█▎        | 37/296 [04:11<24:14,  5.62s/it]"
     ]
    },
    {
     "name": "stderr",
     "output_type": "stream",
     "text": [
      "\r",
      "Calculating aggregate:  13%|█▎        | 38/296 [04:16<23:35,  5.49s/it]"
     ]
    },
    {
     "name": "stderr",
     "output_type": "stream",
     "text": [
      "\r",
      "Calculating aggregate:  13%|█▎        | 39/296 [04:20<22:11,  5.18s/it]"
     ]
    },
    {
     "name": "stderr",
     "output_type": "stream",
     "text": [
      "\r",
      "Calculating aggregate:  14%|█▎        | 40/296 [04:28<25:11,  5.90s/it]"
     ]
    },
    {
     "name": "stderr",
     "output_type": "stream",
     "text": [
      "\r",
      "Calculating aggregate:  14%|█▍        | 41/296 [04:35<26:16,  6.18s/it]"
     ]
    },
    {
     "name": "stderr",
     "output_type": "stream",
     "text": [
      "\r",
      "Calculating aggregate:  14%|█▍        | 42/296 [04:38<22:38,  5.35s/it]"
     ]
    },
    {
     "name": "stderr",
     "output_type": "stream",
     "text": [
      "\r",
      "Calculating aggregate:  15%|█▍        | 43/296 [04:44<23:28,  5.57s/it]"
     ]
    },
    {
     "name": "stderr",
     "output_type": "stream",
     "text": [
      "\r",
      "Calculating aggregate:  15%|█▍        | 44/296 [04:47<19:42,  4.69s/it]"
     ]
    },
    {
     "name": "stderr",
     "output_type": "stream",
     "text": [
      "\r",
      "Calculating aggregate:  15%|█▌        | 45/296 [04:54<21:55,  5.24s/it]"
     ]
    },
    {
     "name": "stderr",
     "output_type": "stream",
     "text": [
      "\r",
      "Calculating aggregate:  16%|█▌        | 46/296 [05:01<24:31,  5.89s/it]"
     ]
    },
    {
     "name": "stderr",
     "output_type": "stream",
     "text": [
      "\r",
      "Calculating aggregate:  16%|█▌        | 47/296 [05:10<27:51,  6.71s/it]"
     ]
    },
    {
     "name": "stderr",
     "output_type": "stream",
     "text": [
      "\r",
      "Calculating aggregate:  16%|█▌        | 48/296 [05:22<34:24,  8.32s/it]"
     ]
    },
    {
     "name": "stderr",
     "output_type": "stream",
     "text": [
      "\r",
      "Calculating aggregate:  17%|█▋        | 49/296 [05:31<35:50,  8.71s/it]"
     ]
    },
    {
     "name": "stderr",
     "output_type": "stream",
     "text": [
      "\r",
      "Calculating aggregate:  17%|█▋        | 50/296 [05:40<36:08,  8.82s/it]"
     ]
    },
    {
     "name": "stderr",
     "output_type": "stream",
     "text": [
      "\r",
      "Calculating aggregate:  17%|█▋        | 51/296 [05:48<34:28,  8.44s/it]"
     ]
    },
    {
     "name": "stderr",
     "output_type": "stream",
     "text": [
      "\r",
      "Calculating aggregate:  18%|█▊        | 52/296 [05:57<35:25,  8.71s/it]"
     ]
    },
    {
     "name": "stderr",
     "output_type": "stream",
     "text": [
      "\r",
      "Calculating aggregate:  18%|█▊        | 53/296 [06:09<38:29,  9.50s/it]"
     ]
    },
    {
     "name": "stderr",
     "output_type": "stream",
     "text": [
      "\r",
      "Calculating aggregate:  18%|█▊        | 54/296 [06:15<34:23,  8.53s/it]"
     ]
    },
    {
     "name": "stderr",
     "output_type": "stream",
     "text": [
      "\r",
      "Calculating aggregate:  19%|█▊        | 55/296 [06:25<35:46,  8.91s/it]"
     ]
    },
    {
     "name": "stderr",
     "output_type": "stream",
     "text": [
      "\r",
      "Calculating aggregate:  19%|█▉        | 56/296 [06:36<38:27,  9.61s/it]"
     ]
    },
    {
     "name": "stderr",
     "output_type": "stream",
     "text": [
      "\r",
      "Calculating aggregate:  19%|█▉        | 57/296 [06:57<52:17, 13.13s/it]"
     ]
    },
    {
     "name": "stderr",
     "output_type": "stream",
     "text": [
      "\r",
      "Calculating aggregate:  20%|█▉        | 58/296 [07:06<46:48, 11.80s/it]"
     ]
    },
    {
     "name": "stderr",
     "output_type": "stream",
     "text": [
      "\r",
      "Calculating aggregate:  20%|█▉        | 59/296 [07:11<38:03,  9.63s/it]"
     ]
    },
    {
     "name": "stderr",
     "output_type": "stream",
     "text": [
      "\r",
      "Calculating aggregate:  20%|██        | 60/296 [07:20<37:50,  9.62s/it]"
     ]
    },
    {
     "name": "stderr",
     "output_type": "stream",
     "text": [
      "\r",
      "Calculating aggregate:  21%|██        | 61/296 [07:22<28:26,  7.26s/it]"
     ]
    },
    {
     "name": "stderr",
     "output_type": "stream",
     "text": [
      "\r",
      "Calculating aggregate:  21%|██        | 62/296 [07:29<28:03,  7.20s/it]"
     ]
    },
    {
     "name": "stderr",
     "output_type": "stream",
     "text": [
      "\r",
      "Calculating aggregate:  21%|██▏       | 63/296 [07:38<30:09,  7.77s/it]"
     ]
    },
    {
     "name": "stderr",
     "output_type": "stream",
     "text": [
      "\r",
      "Calculating aggregate:  22%|██▏       | 64/296 [07:46<29:56,  7.74s/it]"
     ]
    },
    {
     "name": "stderr",
     "output_type": "stream",
     "text": [
      "\r",
      "Calculating aggregate:  22%|██▏       | 65/296 [08:04<41:38, 10.82s/it]"
     ]
    },
    {
     "name": "stderr",
     "output_type": "stream",
     "text": [
      "\r",
      "Calculating aggregate:  22%|██▏       | 66/296 [08:10<36:45,  9.59s/it]"
     ]
    },
    {
     "name": "stderr",
     "output_type": "stream",
     "text": [
      "\r",
      "Calculating aggregate:  23%|██▎       | 67/296 [08:15<31:11,  8.17s/it]"
     ]
    },
    {
     "name": "stderr",
     "output_type": "stream",
     "text": [
      "\r",
      "Calculating aggregate:  23%|██▎       | 68/296 [08:22<29:13,  7.69s/it]"
     ]
    },
    {
     "name": "stderr",
     "output_type": "stream",
     "text": [
      "\r",
      "Calculating aggregate:  23%|██▎       | 69/296 [08:26<25:31,  6.75s/it]"
     ]
    },
    {
     "name": "stderr",
     "output_type": "stream",
     "text": [
      "\r",
      "Calculating aggregate:  24%|██▎       | 70/296 [08:30<21:21,  5.67s/it]"
     ]
    },
    {
     "name": "stderr",
     "output_type": "stream",
     "text": [
      "\r",
      "Calculating aggregate:  24%|██▍       | 71/296 [08:36<22:21,  5.96s/it]"
     ]
    },
    {
     "name": "stderr",
     "output_type": "stream",
     "text": [
      "\r",
      "Calculating aggregate:  24%|██▍       | 72/296 [08:49<30:03,  8.05s/it]"
     ]
    },
    {
     "name": "stderr",
     "output_type": "stream",
     "text": [
      "\r",
      "Calculating aggregate:  25%|██▍       | 73/296 [08:51<23:33,  6.34s/it]"
     ]
    },
    {
     "name": "stderr",
     "output_type": "stream",
     "text": [
      "\r",
      "Calculating aggregate:  25%|██▌       | 74/296 [09:06<32:25,  8.76s/it]"
     ]
    },
    {
     "name": "stderr",
     "output_type": "stream",
     "text": [
      "\r",
      "Calculating aggregate:  25%|██▌       | 75/296 [09:16<33:21,  9.06s/it]"
     ]
    },
    {
     "name": "stderr",
     "output_type": "stream",
     "text": [
      "\r",
      "Calculating aggregate:  26%|██▌       | 76/296 [09:20<28:28,  7.77s/it]"
     ]
    },
    {
     "name": "stderr",
     "output_type": "stream",
     "text": [
      "\r",
      "Calculating aggregate:  26%|██▌       | 77/296 [09:24<23:38,  6.48s/it]"
     ]
    },
    {
     "name": "stderr",
     "output_type": "stream",
     "text": [
      "\r",
      "Calculating aggregate:  26%|██▋       | 78/296 [09:36<29:44,  8.18s/it]"
     ]
    },
    {
     "name": "stderr",
     "output_type": "stream",
     "text": [
      "\r",
      "Calculating aggregate:  27%|██▋       | 79/296 [09:39<23:47,  6.58s/it]"
     ]
    },
    {
     "name": "stderr",
     "output_type": "stream",
     "text": [
      "\r",
      "Calculating aggregate:  27%|██▋       | 80/296 [09:48<26:51,  7.46s/it]"
     ]
    },
    {
     "name": "stderr",
     "output_type": "stream",
     "text": [
      "\r",
      "Calculating aggregate:  27%|██▋       | 81/296 [09:51<21:54,  6.11s/it]"
     ]
    },
    {
     "name": "stderr",
     "output_type": "stream",
     "text": [
      "\r",
      "Calculating aggregate:  28%|██▊       | 82/296 [10:02<26:19,  7.38s/it]"
     ]
    },
    {
     "name": "stderr",
     "output_type": "stream",
     "text": [
      "\r",
      "Calculating aggregate:  28%|██▊       | 83/296 [10:10<27:20,  7.70s/it]"
     ]
    },
    {
     "name": "stderr",
     "output_type": "stream",
     "text": [
      "\r",
      "Calculating aggregate:  28%|██▊       | 84/296 [10:13<22:35,  6.39s/it]"
     ]
    },
    {
     "name": "stderr",
     "output_type": "stream",
     "text": [
      "\r",
      "Calculating aggregate:  29%|██▊       | 85/296 [10:15<16:56,  4.82s/it]"
     ]
    },
    {
     "name": "stderr",
     "output_type": "stream",
     "text": [
      "\r",
      "Calculating aggregate:  29%|██▉       | 86/296 [10:26<24:06,  6.89s/it]"
     ]
    },
    {
     "name": "stderr",
     "output_type": "stream",
     "text": [
      "\r",
      "Calculating aggregate:  29%|██▉       | 87/296 [10:37<27:32,  7.91s/it]"
     ]
    },
    {
     "name": "stderr",
     "output_type": "stream",
     "text": [
      "\r",
      "Calculating aggregate:  30%|██▉       | 88/296 [10:43<26:18,  7.59s/it]"
     ]
    },
    {
     "name": "stderr",
     "output_type": "stream",
     "text": [
      "\r",
      "Calculating aggregate:  30%|███       | 89/296 [11:02<37:52, 10.98s/it]"
     ]
    },
    {
     "name": "stderr",
     "output_type": "stream",
     "text": [
      "\r",
      "Calculating aggregate:  30%|███       | 90/296 [11:10<34:06,  9.93s/it]"
     ]
    },
    {
     "name": "stderr",
     "output_type": "stream",
     "text": [
      "\r",
      "Calculating aggregate:  31%|███       | 91/296 [11:36<51:02, 14.94s/it]"
     ]
    },
    {
     "name": "stderr",
     "output_type": "stream",
     "text": [
      "\r",
      "Calculating aggregate:  31%|███       | 92/296 [11:47<46:12, 13.59s/it]"
     ]
    },
    {
     "name": "stderr",
     "output_type": "stream",
     "text": [
      "\r",
      "Calculating aggregate:  31%|███▏      | 93/296 [12:21<1:06:29, 19.65s/it]"
     ]
    },
    {
     "name": "stderr",
     "output_type": "stream",
     "text": [
      "\r",
      "Calculating aggregate:  32%|███▏      | 94/296 [12:24<49:19, 14.65s/it]  "
     ]
    },
    {
     "name": "stderr",
     "output_type": "stream",
     "text": [
      "\r",
      "Calculating aggregate:  32%|███▏      | 95/296 [12:37<47:16, 14.11s/it]"
     ]
    },
    {
     "name": "stderr",
     "output_type": "stream",
     "text": [
      "\r",
      "Calculating aggregate:  32%|███▏      | 96/296 [12:40<36:21, 10.91s/it]"
     ]
    },
    {
     "name": "stderr",
     "output_type": "stream",
     "text": [
      "\r",
      "Calculating aggregate:  33%|███▎      | 97/296 [12:49<34:05, 10.28s/it]"
     ]
    },
    {
     "name": "stderr",
     "output_type": "stream",
     "text": [
      "\r",
      "Calculating aggregate:  33%|███▎      | 98/296 [12:56<31:23,  9.51s/it]"
     ]
    },
    {
     "name": "stderr",
     "output_type": "stream",
     "text": [
      "\r",
      "Calculating aggregate:  33%|███▎      | 99/296 [13:06<31:03,  9.46s/it]"
     ]
    },
    {
     "name": "stderr",
     "output_type": "stream",
     "text": [
      "\r",
      "Calculating aggregate:  34%|███▍      | 100/296 [13:14<30:05,  9.21s/it]"
     ]
    },
    {
     "name": "stderr",
     "output_type": "stream",
     "text": [
      "\r",
      "Calculating aggregate:  34%|███▍      | 101/296 [13:21<27:44,  8.53s/it]"
     ]
    },
    {
     "name": "stderr",
     "output_type": "stream",
     "text": [
      "\r",
      "Calculating aggregate:  34%|███▍      | 102/296 [13:33<30:04,  9.30s/it]"
     ]
    },
    {
     "name": "stderr",
     "output_type": "stream",
     "text": [
      "\r",
      "Calculating aggregate:  35%|███▍      | 103/296 [13:51<38:34, 11.99s/it]"
     ]
    },
    {
     "name": "stderr",
     "output_type": "stream",
     "text": [
      "\r",
      "Calculating aggregate:  35%|███▌      | 104/296 [13:54<29:47,  9.31s/it]"
     ]
    },
    {
     "name": "stderr",
     "output_type": "stream",
     "text": [
      "\r",
      "Calculating aggregate:  35%|███▌      | 105/296 [13:58<24:18,  7.64s/it]"
     ]
    },
    {
     "name": "stderr",
     "output_type": "stream",
     "text": [
      "\r",
      "Calculating aggregate:  36%|███▌      | 106/296 [14:05<23:49,  7.52s/it]"
     ]
    },
    {
     "name": "stderr",
     "output_type": "stream",
     "text": [
      "\r",
      "Calculating aggregate:  36%|███▌      | 107/296 [14:10<21:08,  6.71s/it]"
     ]
    },
    {
     "name": "stderr",
     "output_type": "stream",
     "text": [
      "\r",
      "Calculating aggregate:  36%|███▋      | 108/296 [14:16<20:28,  6.53s/it]"
     ]
    },
    {
     "name": "stderr",
     "output_type": "stream",
     "text": [
      "\r",
      "Calculating aggregate:  37%|███▋      | 109/296 [14:28<25:38,  8.23s/it]"
     ]
    },
    {
     "name": "stderr",
     "output_type": "stream",
     "text": [
      "\r",
      "Calculating aggregate:  37%|███▋      | 110/296 [14:34<23:42,  7.65s/it]"
     ]
    },
    {
     "name": "stderr",
     "output_type": "stream",
     "text": [
      "\r",
      "Calculating aggregate:  38%|███▊      | 111/296 [14:42<23:56,  7.77s/it]"
     ]
    },
    {
     "name": "stderr",
     "output_type": "stream",
     "text": [
      "\r",
      "Calculating aggregate:  38%|███▊      | 112/296 [14:45<19:32,  6.37s/it]"
     ]
    },
    {
     "name": "stderr",
     "output_type": "stream",
     "text": [
      "\r",
      "Calculating aggregate:  38%|███▊      | 113/296 [14:53<20:59,  6.88s/it]"
     ]
    },
    {
     "name": "stderr",
     "output_type": "stream",
     "text": [
      "\r",
      "Calculating aggregate:  39%|███▊      | 114/296 [15:00<20:21,  6.71s/it]"
     ]
    },
    {
     "name": "stderr",
     "output_type": "stream",
     "text": [
      "\r",
      "Calculating aggregate:  39%|███▉      | 115/296 [15:07<20:40,  6.85s/it]"
     ]
    },
    {
     "name": "stderr",
     "output_type": "stream",
     "text": [
      "\r",
      "Calculating aggregate:  39%|███▉      | 116/296 [15:17<23:17,  7.77s/it]"
     ]
    },
    {
     "name": "stderr",
     "output_type": "stream",
     "text": [
      "\r",
      "Calculating aggregate:  40%|███▉      | 117/296 [15:21<20:03,  6.73s/it]"
     ]
    },
    {
     "name": "stderr",
     "output_type": "stream",
     "text": [
      "\r",
      "Calculating aggregate:  40%|███▉      | 118/296 [15:28<20:29,  6.91s/it]"
     ]
    },
    {
     "name": "stderr",
     "output_type": "stream",
     "text": [
      "\r",
      "Calculating aggregate:  40%|████      | 119/296 [15:35<19:55,  6.75s/it]"
     ]
    },
    {
     "name": "stderr",
     "output_type": "stream",
     "text": [
      "\r",
      "Calculating aggregate:  41%|████      | 120/296 [15:53<29:48, 10.16s/it]"
     ]
    },
    {
     "name": "stderr",
     "output_type": "stream",
     "text": [
      "\r",
      "Calculating aggregate:  41%|████      | 121/296 [16:01<27:18,  9.36s/it]"
     ]
    },
    {
     "name": "stderr",
     "output_type": "stream",
     "text": [
      "\r",
      "Calculating aggregate:  41%|████      | 122/296 [16:13<29:59, 10.34s/it]"
     ]
    },
    {
     "name": "stderr",
     "output_type": "stream",
     "text": [
      "\r",
      "Calculating aggregate:  42%|████▏     | 123/296 [16:17<24:39,  8.55s/it]"
     ]
    },
    {
     "name": "stderr",
     "output_type": "stream",
     "text": [
      "\r",
      "Calculating aggregate:  42%|████▏     | 124/296 [16:22<21:18,  7.43s/it]"
     ]
    },
    {
     "name": "stderr",
     "output_type": "stream",
     "text": [
      "\r",
      "Calculating aggregate:  42%|████▏     | 125/296 [16:31<22:06,  7.76s/it]"
     ]
    },
    {
     "name": "stderr",
     "output_type": "stream",
     "text": [
      "\r",
      "Calculating aggregate:  43%|████▎     | 126/296 [16:39<22:18,  7.87s/it]"
     ]
    },
    {
     "name": "stderr",
     "output_type": "stream",
     "text": [
      "\r",
      "Calculating aggregate:  43%|████▎     | 127/296 [16:52<26:42,  9.48s/it]"
     ]
    },
    {
     "name": "stderr",
     "output_type": "stream",
     "text": [
      "\r",
      "Calculating aggregate:  43%|████▎     | 128/296 [16:58<23:38,  8.44s/it]"
     ]
    },
    {
     "name": "stderr",
     "output_type": "stream",
     "text": [
      "\r",
      "Calculating aggregate:  44%|████▎     | 129/296 [17:11<26:49,  9.64s/it]"
     ]
    },
    {
     "name": "stderr",
     "output_type": "stream",
     "text": [
      "\r",
      "Calculating aggregate:  44%|████▍     | 130/296 [17:13<20:42,  7.48s/it]"
     ]
    },
    {
     "name": "stderr",
     "output_type": "stream",
     "text": [
      "\r",
      "Calculating aggregate:  44%|████▍     | 131/296 [17:29<27:39, 10.06s/it]"
     ]
    },
    {
     "name": "stderr",
     "output_type": "stream",
     "text": [
      "\r",
      "Calculating aggregate:  45%|████▍     | 132/296 [17:34<23:10,  8.48s/it]"
     ]
    },
    {
     "name": "stderr",
     "output_type": "stream",
     "text": [
      "\r",
      "Calculating aggregate:  45%|████▍     | 133/296 [17:36<18:08,  6.68s/it]"
     ]
    },
    {
     "name": "stderr",
     "output_type": "stream",
     "text": [
      "\r",
      "Calculating aggregate:  45%|████▌     | 134/296 [17:42<16:52,  6.25s/it]"
     ]
    },
    {
     "name": "stderr",
     "output_type": "stream",
     "text": [
      "\r",
      "Calculating aggregate:  46%|████▌     | 135/296 [17:58<24:37,  9.17s/it]"
     ]
    },
    {
     "name": "stderr",
     "output_type": "stream",
     "text": [
      "\r",
      "Calculating aggregate:  46%|████▌     | 136/296 [18:13<28:58, 10.86s/it]"
     ]
    },
    {
     "name": "stderr",
     "output_type": "stream",
     "text": [
      "\r",
      "Calculating aggregate:  46%|████▋     | 137/296 [18:19<25:34,  9.65s/it]"
     ]
    },
    {
     "name": "stderr",
     "output_type": "stream",
     "text": [
      "\r",
      "Calculating aggregate:  47%|████▋     | 138/296 [18:37<31:42, 12.04s/it]"
     ]
    },
    {
     "name": "stderr",
     "output_type": "stream",
     "text": [
      "\r",
      "Calculating aggregate:  47%|████▋     | 139/296 [18:43<26:45, 10.23s/it]"
     ]
    },
    {
     "name": "stderr",
     "output_type": "stream",
     "text": [
      "\r",
      "Calculating aggregate:  47%|████▋     | 140/296 [18:46<21:22,  8.22s/it]"
     ]
    },
    {
     "name": "stderr",
     "output_type": "stream",
     "text": [
      "\r",
      "Calculating aggregate:  48%|████▊     | 141/296 [19:01<25:57, 10.05s/it]"
     ]
    },
    {
     "name": "stderr",
     "output_type": "stream",
     "text": [
      "\r",
      "Calculating aggregate:  48%|████▊     | 142/296 [19:06<21:56,  8.55s/it]"
     ]
    },
    {
     "name": "stderr",
     "output_type": "stream",
     "text": [
      "\r",
      "Calculating aggregate:  48%|████▊     | 143/296 [19:15<22:09,  8.69s/it]"
     ]
    },
    {
     "name": "stderr",
     "output_type": "stream",
     "text": [
      "\r",
      "Calculating aggregate:  49%|████▊     | 144/296 [19:18<17:33,  6.93s/it]"
     ]
    },
    {
     "name": "stderr",
     "output_type": "stream",
     "text": [
      "\r",
      "Calculating aggregate:  49%|████▉     | 145/296 [19:22<15:20,  6.09s/it]"
     ]
    },
    {
     "name": "stderr",
     "output_type": "stream",
     "text": [
      "\r",
      "Calculating aggregate:  49%|████▉     | 146/296 [19:34<19:47,  7.92s/it]"
     ]
    },
    {
     "name": "stderr",
     "output_type": "stream",
     "text": [
      "\r",
      "Calculating aggregate:  50%|████▉     | 147/296 [19:38<17:00,  6.85s/it]"
     ]
    },
    {
     "name": "stderr",
     "output_type": "stream",
     "text": [
      "\r",
      "Calculating aggregate:  50%|█████     | 148/296 [19:44<16:18,  6.61s/it]"
     ]
    },
    {
     "name": "stderr",
     "output_type": "stream",
     "text": [
      "\r",
      "Calculating aggregate:  50%|█████     | 149/296 [19:53<17:55,  7.32s/it]"
     ]
    },
    {
     "name": "stderr",
     "output_type": "stream",
     "text": [
      "\r",
      "Calculating aggregate:  51%|█████     | 150/296 [19:58<15:42,  6.46s/it]"
     ]
    },
    {
     "name": "stderr",
     "output_type": "stream",
     "text": [
      "\r",
      "Calculating aggregate:  51%|█████     | 151/296 [20:04<15:06,  6.25s/it]"
     ]
    },
    {
     "name": "stderr",
     "output_type": "stream",
     "text": [
      "\r",
      "Calculating aggregate:  51%|█████▏    | 152/296 [20:10<15:02,  6.27s/it]"
     ]
    },
    {
     "name": "stderr",
     "output_type": "stream",
     "text": [
      "\r",
      "Calculating aggregate:  52%|█████▏    | 153/296 [20:17<15:18,  6.42s/it]"
     ]
    },
    {
     "name": "stderr",
     "output_type": "stream",
     "text": [
      "\r",
      "Calculating aggregate:  52%|█████▏    | 154/296 [20:31<20:44,  8.76s/it]"
     ]
    },
    {
     "name": "stderr",
     "output_type": "stream",
     "text": [
      "\r",
      "Calculating aggregate:  52%|█████▏    | 155/296 [20:39<19:47,  8.42s/it]"
     ]
    },
    {
     "name": "stderr",
     "output_type": "stream",
     "text": [
      "\r",
      "Calculating aggregate:  53%|█████▎    | 156/296 [20:43<16:43,  7.17s/it]"
     ]
    },
    {
     "name": "stderr",
     "output_type": "stream",
     "text": [
      "\r",
      "Calculating aggregate:  53%|█████▎    | 157/296 [20:48<15:34,  6.73s/it]"
     ]
    },
    {
     "name": "stderr",
     "output_type": "stream",
     "text": [
      "\r",
      "Calculating aggregate:  53%|█████▎    | 158/296 [21:07<23:47, 10.35s/it]"
     ]
    },
    {
     "name": "stderr",
     "output_type": "stream",
     "text": [
      "\r",
      "Calculating aggregate:  54%|█████▎    | 159/296 [21:11<19:17,  8.45s/it]"
     ]
    },
    {
     "name": "stderr",
     "output_type": "stream",
     "text": [
      "\r",
      "Calculating aggregate:  54%|█████▍    | 160/296 [21:16<16:25,  7.25s/it]"
     ]
    },
    {
     "name": "stderr",
     "output_type": "stream",
     "text": [
      "\r",
      "Calculating aggregate:  54%|█████▍    | 161/296 [21:20<14:29,  6.44s/it]"
     ]
    },
    {
     "name": "stderr",
     "output_type": "stream",
     "text": [
      "\r",
      "Calculating aggregate:  55%|█████▍    | 162/296 [21:39<22:42, 10.16s/it]"
     ]
    },
    {
     "name": "stderr",
     "output_type": "stream",
     "text": [
      "\r",
      "Calculating aggregate:  55%|█████▌    | 163/296 [21:49<22:02,  9.95s/it]"
     ]
    },
    {
     "name": "stderr",
     "output_type": "stream",
     "text": [
      "\r",
      "Calculating aggregate:  55%|█████▌    | 164/296 [21:50<16:31,  7.51s/it]"
     ]
    },
    {
     "name": "stderr",
     "output_type": "stream",
     "text": [
      "\r",
      "Calculating aggregate:  56%|█████▌    | 165/296 [21:55<14:15,  6.53s/it]"
     ]
    },
    {
     "name": "stderr",
     "output_type": "stream",
     "text": [
      "\r",
      "Calculating aggregate:  56%|█████▌    | 166/296 [21:59<12:27,  5.75s/it]"
     ]
    },
    {
     "name": "stderr",
     "output_type": "stream",
     "text": [
      "\r",
      "Calculating aggregate:  56%|█████▋    | 167/296 [22:11<16:57,  7.89s/it]"
     ]
    },
    {
     "name": "stderr",
     "output_type": "stream",
     "text": [
      "\r",
      "Calculating aggregate:  57%|█████▋    | 168/296 [22:23<19:17,  9.04s/it]"
     ]
    },
    {
     "name": "stderr",
     "output_type": "stream",
     "text": [
      "\r",
      "Calculating aggregate:  57%|█████▋    | 169/296 [22:32<19:12,  9.08s/it]"
     ]
    },
    {
     "name": "stderr",
     "output_type": "stream",
     "text": [
      "\r",
      "Calculating aggregate:  57%|█████▋    | 170/296 [22:39<17:28,  8.32s/it]"
     ]
    },
    {
     "name": "stderr",
     "output_type": "stream",
     "text": [
      "\r",
      "Calculating aggregate:  58%|█████▊    | 171/296 [22:50<18:51,  9.05s/it]"
     ]
    },
    {
     "name": "stderr",
     "output_type": "stream",
     "text": [
      "\r",
      "Calculating aggregate:  58%|█████▊    | 172/296 [22:56<16:46,  8.12s/it]"
     ]
    },
    {
     "name": "stderr",
     "output_type": "stream",
     "text": [
      "\r",
      "Calculating aggregate:  58%|█████▊    | 173/296 [23:06<17:51,  8.71s/it]"
     ]
    },
    {
     "name": "stderr",
     "output_type": "stream",
     "text": [
      "\r",
      "Calculating aggregate:  59%|█████▉    | 174/296 [23:14<17:17,  8.50s/it]"
     ]
    },
    {
     "name": "stderr",
     "output_type": "stream",
     "text": [
      "\r",
      "Calculating aggregate:  59%|█████▉    | 175/296 [23:25<18:45,  9.30s/it]"
     ]
    },
    {
     "name": "stderr",
     "output_type": "stream",
     "text": [
      "\r",
      "Calculating aggregate:  59%|█████▉    | 176/296 [23:29<15:42,  7.86s/it]"
     ]
    },
    {
     "name": "stderr",
     "output_type": "stream",
     "text": [
      "\r",
      "Calculating aggregate:  60%|█████▉    | 177/296 [23:34<13:23,  6.75s/it]"
     ]
    },
    {
     "name": "stderr",
     "output_type": "stream",
     "text": [
      "\r",
      "Calculating aggregate:  60%|██████    | 178/296 [23:35<10:26,  5.31s/it]"
     ]
    },
    {
     "name": "stderr",
     "output_type": "stream",
     "text": [
      "\r",
      "Calculating aggregate:  60%|██████    | 179/296 [23:43<11:46,  6.04s/it]"
     ]
    },
    {
     "name": "stderr",
     "output_type": "stream",
     "text": [
      "\r",
      "Calculating aggregate:  61%|██████    | 180/296 [23:49<11:30,  5.96s/it]"
     ]
    },
    {
     "name": "stderr",
     "output_type": "stream",
     "text": [
      "\r",
      "Calculating aggregate:  61%|██████    | 181/296 [24:12<20:56, 10.93s/it]"
     ]
    },
    {
     "name": "stderr",
     "output_type": "stream",
     "text": [
      "\r",
      "Calculating aggregate:  61%|██████▏   | 182/296 [24:16<17:13,  9.07s/it]"
     ]
    },
    {
     "name": "stderr",
     "output_type": "stream",
     "text": [
      "\r",
      "Calculating aggregate:  62%|██████▏   | 183/296 [24:26<17:29,  9.29s/it]"
     ]
    },
    {
     "name": "stderr",
     "output_type": "stream",
     "text": [
      "\r",
      "Calculating aggregate:  62%|██████▏   | 184/296 [24:31<14:45,  7.91s/it]"
     ]
    },
    {
     "name": "stderr",
     "output_type": "stream",
     "text": [
      "\r",
      "Calculating aggregate:  62%|██████▎   | 185/296 [24:34<12:01,  6.50s/it]"
     ]
    },
    {
     "name": "stderr",
     "output_type": "stream",
     "text": [
      "\r",
      "Calculating aggregate:  63%|██████▎   | 186/296 [24:45<14:17,  7.80s/it]"
     ]
    },
    {
     "name": "stderr",
     "output_type": "stream",
     "text": [
      "\r",
      "Calculating aggregate:  63%|██████▎   | 187/296 [24:54<14:48,  8.15s/it]"
     ]
    },
    {
     "name": "stderr",
     "output_type": "stream",
     "text": [
      "\r",
      "Calculating aggregate:  64%|██████▎   | 188/296 [25:03<15:22,  8.55s/it]"
     ]
    },
    {
     "name": "stderr",
     "output_type": "stream",
     "text": [
      "\r",
      "Calculating aggregate:  64%|██████▍   | 189/296 [25:09<13:42,  7.68s/it]"
     ]
    },
    {
     "name": "stderr",
     "output_type": "stream",
     "text": [
      "\r",
      "Calculating aggregate:  64%|██████▍   | 190/296 [25:17<13:33,  7.67s/it]"
     ]
    },
    {
     "name": "stderr",
     "output_type": "stream",
     "text": [
      "\r",
      "Calculating aggregate:  65%|██████▍   | 191/296 [25:21<11:31,  6.59s/it]"
     ]
    },
    {
     "name": "stderr",
     "output_type": "stream",
     "text": [
      "\r",
      "Calculating aggregate:  65%|██████▍   | 192/296 [25:22<08:55,  5.15s/it]"
     ]
    },
    {
     "name": "stderr",
     "output_type": "stream",
     "text": [
      "\r",
      "Calculating aggregate:  65%|██████▌   | 193/296 [25:32<11:18,  6.59s/it]"
     ]
    },
    {
     "name": "stderr",
     "output_type": "stream",
     "text": [
      "\r",
      "Calculating aggregate:  66%|██████▌   | 194/296 [25:45<14:23,  8.47s/it]"
     ]
    },
    {
     "name": "stderr",
     "output_type": "stream",
     "text": [
      "\r",
      "Calculating aggregate:  66%|██████▌   | 195/296 [25:52<13:36,  8.09s/it]"
     ]
    },
    {
     "name": "stderr",
     "output_type": "stream",
     "text": [
      "\r",
      "Calculating aggregate:  66%|██████▌   | 196/296 [26:01<13:37,  8.18s/it]"
     ]
    },
    {
     "name": "stderr",
     "output_type": "stream",
     "text": [
      "\r",
      "Calculating aggregate:  67%|██████▋   | 197/296 [26:06<12:07,  7.35s/it]"
     ]
    },
    {
     "name": "stderr",
     "output_type": "stream",
     "text": [
      "\r",
      "Calculating aggregate:  67%|██████▋   | 198/296 [26:11<10:55,  6.69s/it]"
     ]
    },
    {
     "name": "stderr",
     "output_type": "stream",
     "text": [
      "\r",
      "Calculating aggregate:  67%|██████▋   | 199/296 [26:17<10:05,  6.25s/it]"
     ]
    },
    {
     "name": "stderr",
     "output_type": "stream",
     "text": [
      "\r",
      "Calculating aggregate:  68%|██████▊   | 200/296 [26:23<10:13,  6.39s/it]"
     ]
    },
    {
     "name": "stderr",
     "output_type": "stream",
     "text": [
      "\r",
      "Calculating aggregate:  68%|██████▊   | 201/296 [26:40<15:11,  9.60s/it]"
     ]
    },
    {
     "name": "stderr",
     "output_type": "stream",
     "text": [
      "\r",
      "Calculating aggregate:  68%|██████▊   | 202/296 [26:42<11:26,  7.31s/it]"
     ]
    },
    {
     "name": "stderr",
     "output_type": "stream",
     "text": [
      "\r",
      "Calculating aggregate:  69%|██████▊   | 203/296 [26:45<09:06,  5.88s/it]"
     ]
    },
    {
     "name": "stderr",
     "output_type": "stream",
     "text": [
      "\r",
      "Calculating aggregate:  69%|██████▉   | 204/296 [26:51<09:10,  5.99s/it]"
     ]
    },
    {
     "name": "stderr",
     "output_type": "stream",
     "text": [
      "\r",
      "Calculating aggregate:  69%|██████▉   | 205/296 [26:56<08:48,  5.81s/it]"
     ]
    },
    {
     "name": "stderr",
     "output_type": "stream",
     "text": [
      "\r",
      "Calculating aggregate:  70%|██████▉   | 206/296 [27:01<08:05,  5.39s/it]"
     ]
    },
    {
     "name": "stderr",
     "output_type": "stream",
     "text": [
      "\r",
      "Calculating aggregate:  70%|██████▉   | 207/296 [27:04<06:56,  4.68s/it]"
     ]
    },
    {
     "name": "stderr",
     "output_type": "stream",
     "text": [
      "\r",
      "Calculating aggregate:  70%|███████   | 208/296 [27:08<06:38,  4.53s/it]"
     ]
    },
    {
     "name": "stderr",
     "output_type": "stream",
     "text": [
      "\r",
      "Calculating aggregate:  71%|███████   | 209/296 [27:17<08:21,  5.77s/it]"
     ]
    },
    {
     "name": "stderr",
     "output_type": "stream",
     "text": [
      "\r",
      "Calculating aggregate:  71%|███████   | 210/296 [27:20<07:14,  5.05s/it]"
     ]
    },
    {
     "name": "stderr",
     "output_type": "stream",
     "text": [
      "\r",
      "Calculating aggregate:  71%|███████▏  | 211/296 [27:23<06:24,  4.53s/it]"
     ]
    },
    {
     "name": "stderr",
     "output_type": "stream",
     "text": [
      "\r",
      "Calculating aggregate:  72%|███████▏  | 212/296 [27:29<06:38,  4.74s/it]"
     ]
    },
    {
     "name": "stderr",
     "output_type": "stream",
     "text": [
      "\r",
      "Calculating aggregate:  72%|███████▏  | 213/296 [27:35<07:12,  5.21s/it]"
     ]
    },
    {
     "name": "stderr",
     "output_type": "stream",
     "text": [
      "\r",
      "Calculating aggregate:  72%|███████▏  | 214/296 [27:37<05:50,  4.28s/it]"
     ]
    },
    {
     "name": "stderr",
     "output_type": "stream",
     "text": [
      "\r",
      "Calculating aggregate:  73%|███████▎  | 215/296 [27:48<08:38,  6.40s/it]"
     ]
    },
    {
     "name": "stderr",
     "output_type": "stream",
     "text": [
      "\r",
      "Calculating aggregate:  73%|███████▎  | 216/296 [27:52<07:29,  5.61s/it]"
     ]
    },
    {
     "name": "stderr",
     "output_type": "stream",
     "text": [
      "\r",
      "Calculating aggregate:  73%|███████▎  | 217/296 [27:54<05:56,  4.51s/it]"
     ]
    },
    {
     "name": "stderr",
     "output_type": "stream",
     "text": [
      "\r",
      "Calculating aggregate:  74%|███████▎  | 218/296 [28:04<07:56,  6.11s/it]"
     ]
    },
    {
     "name": "stderr",
     "output_type": "stream",
     "text": [
      "\r",
      "Calculating aggregate:  74%|███████▍  | 219/296 [28:07<06:30,  5.07s/it]"
     ]
    },
    {
     "name": "stderr",
     "output_type": "stream",
     "text": [
      "\r",
      "Calculating aggregate:  74%|███████▍  | 220/296 [28:12<06:29,  5.13s/it]"
     ]
    },
    {
     "name": "stderr",
     "output_type": "stream",
     "text": [
      "\r",
      "Calculating aggregate:  75%|███████▍  | 221/296 [28:24<09:08,  7.31s/it]"
     ]
    },
    {
     "name": "stderr",
     "output_type": "stream",
     "text": [
      "\r",
      "Calculating aggregate:  75%|███████▌  | 222/296 [28:38<11:17,  9.16s/it]"
     ]
    },
    {
     "name": "stderr",
     "output_type": "stream",
     "text": [
      "\r",
      "Calculating aggregate:  75%|███████▌  | 223/296 [28:46<10:56,  8.99s/it]"
     ]
    },
    {
     "name": "stderr",
     "output_type": "stream",
     "text": [
      "\r",
      "Calculating aggregate:  76%|███████▌  | 224/296 [29:00<12:23, 10.33s/it]"
     ]
    },
    {
     "name": "stderr",
     "output_type": "stream",
     "text": [
      "\r",
      "Calculating aggregate:  76%|███████▌  | 225/296 [29:04<09:55,  8.39s/it]"
     ]
    },
    {
     "name": "stderr",
     "output_type": "stream",
     "text": [
      "\r",
      "Calculating aggregate:  76%|███████▋  | 226/296 [29:13<10:07,  8.68s/it]"
     ]
    },
    {
     "name": "stderr",
     "output_type": "stream",
     "text": [
      "\r",
      "Calculating aggregate:  77%|███████▋  | 227/296 [29:17<08:18,  7.22s/it]"
     ]
    },
    {
     "name": "stderr",
     "output_type": "stream",
     "text": [
      "\r",
      "Calculating aggregate:  77%|███████▋  | 228/296 [29:29<10:00,  8.83s/it]"
     ]
    },
    {
     "name": "stderr",
     "output_type": "stream",
     "text": [
      "\r",
      "Calculating aggregate:  77%|███████▋  | 229/296 [29:40<10:15,  9.19s/it]"
     ]
    },
    {
     "name": "stderr",
     "output_type": "stream",
     "text": [
      "\r",
      "Calculating aggregate:  78%|███████▊  | 230/296 [29:51<11:01, 10.03s/it]"
     ]
    },
    {
     "name": "stderr",
     "output_type": "stream",
     "text": [
      "\r",
      "Calculating aggregate:  78%|███████▊  | 231/296 [29:55<08:51,  8.17s/it]"
     ]
    },
    {
     "name": "stderr",
     "output_type": "stream",
     "text": [
      "\r",
      "Calculating aggregate:  78%|███████▊  | 232/296 [30:02<08:12,  7.70s/it]"
     ]
    },
    {
     "name": "stderr",
     "output_type": "stream",
     "text": [
      "\r",
      "Calculating aggregate:  79%|███████▊  | 233/296 [30:07<07:22,  7.02s/it]"
     ]
    },
    {
     "name": "stderr",
     "output_type": "stream",
     "text": [
      "\r",
      "Calculating aggregate:  79%|███████▉  | 234/296 [30:16<07:36,  7.36s/it]"
     ]
    },
    {
     "name": "stderr",
     "output_type": "stream",
     "text": [
      "\r",
      "Calculating aggregate:  79%|███████▉  | 235/296 [30:21<06:56,  6.83s/it]"
     ]
    },
    {
     "name": "stderr",
     "output_type": "stream",
     "text": [
      "\r",
      "Calculating aggregate:  80%|███████▉  | 236/296 [30:23<05:29,  5.50s/it]"
     ]
    },
    {
     "name": "stderr",
     "output_type": "stream",
     "text": [
      "\r",
      "Calculating aggregate:  80%|████████  | 237/296 [30:42<09:22,  9.53s/it]"
     ]
    },
    {
     "name": "stderr",
     "output_type": "stream",
     "text": [
      "\r",
      "Calculating aggregate:  80%|████████  | 238/296 [30:49<08:20,  8.64s/it]"
     ]
    },
    {
     "name": "stderr",
     "output_type": "stream",
     "text": [
      "\r",
      "Calculating aggregate:  81%|████████  | 239/296 [31:02<09:23,  9.89s/it]"
     ]
    },
    {
     "name": "stderr",
     "output_type": "stream",
     "text": [
      "\r",
      "Calculating aggregate:  81%|████████  | 240/296 [31:04<07:06,  7.62s/it]"
     ]
    },
    {
     "name": "stderr",
     "output_type": "stream",
     "text": [
      "\r",
      "Calculating aggregate:  81%|████████▏ | 241/296 [31:05<05:07,  5.59s/it]"
     ]
    },
    {
     "name": "stderr",
     "output_type": "stream",
     "text": [
      "\r",
      "Calculating aggregate:  82%|████████▏ | 242/296 [31:08<04:15,  4.74s/it]"
     ]
    },
    {
     "name": "stderr",
     "output_type": "stream",
     "text": [
      "\r",
      "Calculating aggregate:  82%|████████▏ | 243/296 [31:10<03:37,  4.10s/it]"
     ]
    },
    {
     "name": "stderr",
     "output_type": "stream",
     "text": [
      "\r",
      "Calculating aggregate:  82%|████████▏ | 244/296 [31:13<03:09,  3.64s/it]"
     ]
    },
    {
     "name": "stderr",
     "output_type": "stream",
     "text": [
      "\r",
      "Calculating aggregate:  83%|████████▎ | 245/296 [31:17<03:11,  3.76s/it]"
     ]
    },
    {
     "name": "stderr",
     "output_type": "stream",
     "text": [
      "\r",
      "Calculating aggregate:  83%|████████▎ | 246/296 [31:20<02:55,  3.51s/it]"
     ]
    },
    {
     "name": "stderr",
     "output_type": "stream",
     "text": [
      "\r",
      "Calculating aggregate:  83%|████████▎ | 247/296 [31:26<03:32,  4.33s/it]"
     ]
    },
    {
     "name": "stderr",
     "output_type": "stream",
     "text": [
      "\r",
      "Calculating aggregate:  84%|████████▍ | 248/296 [31:30<03:20,  4.18s/it]"
     ]
    },
    {
     "name": "stderr",
     "output_type": "stream",
     "text": [
      "\r",
      "Calculating aggregate:  84%|████████▍ | 249/296 [31:35<03:25,  4.37s/it]"
     ]
    },
    {
     "name": "stderr",
     "output_type": "stream",
     "text": [
      "\r",
      "Calculating aggregate:  84%|████████▍ | 250/296 [31:48<05:18,  6.92s/it]"
     ]
    },
    {
     "name": "stderr",
     "output_type": "stream",
     "text": [
      "\r",
      "Calculating aggregate:  85%|████████▍ | 251/296 [31:58<05:54,  7.88s/it]"
     ]
    },
    {
     "name": "stderr",
     "output_type": "stream",
     "text": [
      "\r",
      "Calculating aggregate:  85%|████████▌ | 252/296 [32:04<05:26,  7.43s/it]"
     ]
    },
    {
     "name": "stderr",
     "output_type": "stream",
     "text": [
      "\r",
      "Calculating aggregate:  85%|████████▌ | 253/296 [32:14<05:51,  8.17s/it]"
     ]
    },
    {
     "name": "stderr",
     "output_type": "stream",
     "text": [
      "\r",
      "Calculating aggregate:  86%|████████▌ | 254/296 [32:18<04:50,  6.93s/it]"
     ]
    },
    {
     "name": "stderr",
     "output_type": "stream",
     "text": [
      "\r",
      "Calculating aggregate:  86%|████████▌ | 255/296 [32:24<04:26,  6.50s/it]"
     ]
    },
    {
     "name": "stderr",
     "output_type": "stream",
     "text": [
      "\r",
      "Calculating aggregate:  86%|████████▋ | 256/296 [32:34<05:04,  7.61s/it]"
     ]
    },
    {
     "name": "stderr",
     "output_type": "stream",
     "text": [
      "\r",
      "Calculating aggregate:  87%|████████▋ | 257/296 [32:44<05:26,  8.38s/it]"
     ]
    },
    {
     "name": "stderr",
     "output_type": "stream",
     "text": [
      "\r",
      "Calculating aggregate:  87%|████████▋ | 258/296 [32:53<05:25,  8.57s/it]"
     ]
    },
    {
     "name": "stderr",
     "output_type": "stream",
     "text": [
      "\r",
      "Calculating aggregate:  88%|████████▊ | 259/296 [32:58<04:41,  7.62s/it]"
     ]
    },
    {
     "name": "stderr",
     "output_type": "stream",
     "text": [
      "\r",
      "Calculating aggregate:  88%|████████▊ | 260/296 [33:01<03:38,  6.07s/it]"
     ]
    },
    {
     "name": "stderr",
     "output_type": "stream",
     "text": [
      "\r",
      "Calculating aggregate:  88%|████████▊ | 261/296 [33:07<03:32,  6.09s/it]"
     ]
    },
    {
     "name": "stderr",
     "output_type": "stream",
     "text": [
      "\r",
      "Calculating aggregate:  89%|████████▊ | 262/296 [33:15<03:51,  6.81s/it]"
     ]
    },
    {
     "name": "stderr",
     "output_type": "stream",
     "text": [
      "\r",
      "Calculating aggregate:  89%|████████▉ | 263/296 [33:21<03:29,  6.35s/it]"
     ]
    },
    {
     "name": "stderr",
     "output_type": "stream",
     "text": [
      "\r",
      "Calculating aggregate:  89%|████████▉ | 264/296 [33:27<03:20,  6.26s/it]"
     ]
    },
    {
     "name": "stderr",
     "output_type": "stream",
     "text": [
      "\r",
      "Calculating aggregate:  90%|████████▉ | 265/296 [33:45<05:07,  9.92s/it]"
     ]
    },
    {
     "name": "stderr",
     "output_type": "stream",
     "text": [
      "\r",
      "Calculating aggregate:  90%|████████▉ | 266/296 [33:48<03:50,  7.69s/it]"
     ]
    },
    {
     "name": "stderr",
     "output_type": "stream",
     "text": [
      "\r",
      "Calculating aggregate:  90%|█████████ | 267/296 [33:51<03:04,  6.35s/it]"
     ]
    },
    {
     "name": "stderr",
     "output_type": "stream",
     "text": [
      "\r",
      "Calculating aggregate:  91%|█████████ | 268/296 [34:04<03:50,  8.24s/it]"
     ]
    },
    {
     "name": "stderr",
     "output_type": "stream",
     "text": [
      "\r",
      "Calculating aggregate:  91%|█████████ | 269/296 [34:05<02:50,  6.32s/it]"
     ]
    },
    {
     "name": "stderr",
     "output_type": "stream",
     "text": [
      "\r",
      "Calculating aggregate:  91%|█████████ | 270/296 [34:09<02:22,  5.47s/it]"
     ]
    },
    {
     "name": "stderr",
     "output_type": "stream",
     "text": [
      "\r",
      "Calculating aggregate:  92%|█████████▏| 271/296 [34:20<02:56,  7.05s/it]"
     ]
    },
    {
     "name": "stderr",
     "output_type": "stream",
     "text": [
      "\r",
      "Calculating aggregate:  92%|█████████▏| 272/296 [34:26<02:41,  6.74s/it]"
     ]
    },
    {
     "name": "stderr",
     "output_type": "stream",
     "text": [
      "\r",
      "Calculating aggregate:  92%|█████████▏| 273/296 [34:33<02:37,  6.86s/it]"
     ]
    },
    {
     "name": "stderr",
     "output_type": "stream",
     "text": [
      "\r",
      "Calculating aggregate:  93%|█████████▎| 274/296 [34:37<02:14,  6.10s/it]"
     ]
    },
    {
     "name": "stderr",
     "output_type": "stream",
     "text": [
      "\r",
      "Calculating aggregate:  93%|█████████▎| 275/296 [34:44<02:14,  6.42s/it]"
     ]
    },
    {
     "name": "stderr",
     "output_type": "stream",
     "text": [
      "\r",
      "Calculating aggregate:  93%|█████████▎| 276/296 [34:56<02:37,  7.87s/it]"
     ]
    },
    {
     "name": "stderr",
     "output_type": "stream",
     "text": [
      "\r",
      "Calculating aggregate:  94%|█████████▎| 277/296 [34:59<02:04,  6.56s/it]"
     ]
    },
    {
     "name": "stderr",
     "output_type": "stream",
     "text": [
      "\r",
      "Calculating aggregate:  94%|█████████▍| 278/296 [35:02<01:40,  5.58s/it]"
     ]
    },
    {
     "name": "stderr",
     "output_type": "stream",
     "text": [
      "\r",
      "Calculating aggregate:  94%|█████████▍| 279/296 [35:04<01:14,  4.36s/it]"
     ]
    },
    {
     "name": "stderr",
     "output_type": "stream",
     "text": [
      "\r",
      "Calculating aggregate:  95%|█████████▍| 280/296 [35:09<01:15,  4.70s/it]"
     ]
    },
    {
     "name": "stderr",
     "output_type": "stream",
     "text": [
      "\r",
      "Calculating aggregate:  95%|█████████▍| 281/296 [35:21<01:39,  6.66s/it]"
     ]
    },
    {
     "name": "stderr",
     "output_type": "stream",
     "text": [
      "\r",
      "Calculating aggregate:  95%|█████████▌| 282/296 [35:23<01:16,  5.45s/it]"
     ]
    },
    {
     "name": "stderr",
     "output_type": "stream",
     "text": [
      "\r",
      "Calculating aggregate:  96%|█████████▌| 283/296 [35:34<01:30,  6.93s/it]"
     ]
    },
    {
     "name": "stderr",
     "output_type": "stream",
     "text": [
      "\r",
      "Calculating aggregate:  96%|█████████▌| 284/296 [35:38<01:12,  6.05s/it]"
     ]
    },
    {
     "name": "stderr",
     "output_type": "stream",
     "text": [
      "\r",
      "Calculating aggregate:  96%|█████████▋| 285/296 [35:40<00:55,  5.05s/it]"
     ]
    },
    {
     "name": "stderr",
     "output_type": "stream",
     "text": [
      "\r",
      "Calculating aggregate:  97%|█████████▋| 286/296 [35:49<01:01,  6.17s/it]"
     ]
    },
    {
     "name": "stderr",
     "output_type": "stream",
     "text": [
      "\r",
      "Calculating aggregate:  97%|█████████▋| 287/296 [35:55<00:53,  5.98s/it]"
     ]
    },
    {
     "name": "stderr",
     "output_type": "stream",
     "text": [
      "\r",
      "Calculating aggregate:  97%|█████████▋| 288/296 [36:05<00:57,  7.17s/it]"
     ]
    },
    {
     "name": "stderr",
     "output_type": "stream",
     "text": [
      "\r",
      "Calculating aggregate:  98%|█████████▊| 289/296 [36:14<00:55,  7.89s/it]"
     ]
    },
    {
     "name": "stderr",
     "output_type": "stream",
     "text": [
      "\r",
      "Calculating aggregate:  98%|█████████▊| 290/296 [36:17<00:38,  6.39s/it]"
     ]
    },
    {
     "name": "stderr",
     "output_type": "stream",
     "text": [
      "\r",
      "Calculating aggregate:  98%|█████████▊| 291/296 [36:28<00:39,  7.85s/it]"
     ]
    },
    {
     "name": "stderr",
     "output_type": "stream",
     "text": [
      "\r",
      "Calculating aggregate:  99%|█████████▊| 292/296 [36:34<00:29,  7.26s/it]"
     ]
    },
    {
     "name": "stderr",
     "output_type": "stream",
     "text": [
      "\r",
      "Calculating aggregate:  99%|█████████▉| 293/296 [36:39<00:20,  6.68s/it]"
     ]
    },
    {
     "name": "stderr",
     "output_type": "stream",
     "text": [
      "\r",
      "Calculating aggregate:  99%|█████████▉| 294/296 [36:48<00:14,  7.27s/it]"
     ]
    },
    {
     "name": "stderr",
     "output_type": "stream",
     "text": [
      "\r",
      "Calculating aggregate: 100%|█████████▉| 295/296 [36:55<00:07,  7.16s/it]"
     ]
    },
    {
     "name": "stderr",
     "output_type": "stream",
     "text": [
      "\r",
      "Calculating aggregate: 100%|██████████| 296/296 [37:02<00:00,  7.05s/it]"
     ]
    },
    {
     "name": "stderr",
     "output_type": "stream",
     "text": [
      "\n"
     ]
    }
   ],
   "source": [
    "tqdm.pandas(desc='Calculating aggregate', leave=True)\n",
    "aggregation_results = pd.Series(\n",
    "  sid_list, index=sid_list\n",
    ").progress_apply(get_agg_model)\\\n",
    "  .apply(pd.Series)\n",
    "aggregation_results.columns = ('Model', 'Errors', 'Masks', 'Arms')\n",
    "aggregation_results.to_pickle(AGGREGATE_LOCATION)"
   ]
  }
 ],
 "metadata": {
  "kernel_info": {
   "name": "python3"
  },
  "kernelspec": {
   "display_name": "Python 3",
   "language": "python",
   "name": "python3"
  },
  "language_info": {
   "codemirror_mode": {
    "name": "ipython",
    "version": 3
   },
   "file_extension": ".py",
   "mimetype": "text/x-python",
   "name": "python",
   "nbconvert_exporter": "python",
   "pygments_lexer": "ipython3",
   "version": "3.7.3"
  },
  "nteract": {
   "version": "0.14.3"
  },
  "papermill": {
   "duration": 4116.315092,
   "end_time": "2019-08-21T14:26:58.497634",
   "environment_variables": {},
   "exception": null,
   "input_path": "/users/tingard/gzbuilder_results/input_files/make_agg_bi_models.ipynb",
   "output_path": "/users/tingard/gzbuilder_results/output_files/make_agg_bi_models.ipynb",
   "parameters": {
    "AGGREGATE_LOCATION": "/users/tingard/gzbuilder_results/lib/aggregation_results.pickle",
    "BEST_INDIVIDUAL_LOCATION": "/users/tingard/gzbuilder_results/lib/best_individual.pickle"
   },
   "start_time": "2019-08-21T13:18:22.182542",
   "version": "1.0.1"
  }
 },
 "nbformat": 4,
 "nbformat_minor": 0
}