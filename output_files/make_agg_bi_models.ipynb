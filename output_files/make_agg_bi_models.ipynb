{
 "cells": [
  {
   "cell_type": "markdown",
   "metadata": {
    "papermill": {
     "duration": 0.009986,
     "end_time": "2019-08-19T15:46:42.295684",
     "exception": false,
     "start_time": "2019-08-19T15:46:42.285698",
     "status": "completed"
    },
    "tags": []
   },
   "source": [
    "# Model calculation\n",
    "\n",
    "This notebook obtains an aggregate model and a best individual classification for each model in galaxy builder's original 296 subjects."
   ]
  },
  {
   "cell_type": "code",
   "execution_count": 1,
   "metadata": {
    "collapsed": false,
    "inputHidden": false,
    "outputHidden": false,
    "papermill": {
     "duration": 0.025449,
     "end_time": "2019-08-19T15:46:42.330118",
     "exception": false,
     "start_time": "2019-08-19T15:46:42.304669",
     "status": "completed"
    },
    "tags": []
   },
   "outputs": [],
   "source": [
    "%load_ext autoreload\n",
    "%autoreload 2"
   ]
  },
  {
   "cell_type": "code",
   "execution_count": 2,
   "metadata": {
    "collapsed": false,
    "inputHidden": false,
    "outputHidden": false,
    "papermill": {
     "duration": 3.731478,
     "end_time": "2019-08-19T15:46:46.070573",
     "exception": false,
     "start_time": "2019-08-19T15:46:42.339095",
     "status": "completed"
    },
    "tags": []
   },
   "outputs": [],
   "source": [
    "import os\n",
    "import json\n",
    "import numpy as np\n",
    "import pandas as pd\n",
    "from copy import deepcopy\n",
    "import matplotlib.pyplot as plt\n",
    "from tqdm import tqdm\n",
    "import lib.galaxy_utilities as gu\n",
    "import gzbuilder_analysis.parsing as parsing\n",
    "import gzbuilder_analysis.rendering as rendering\n",
    "import gzbuilder_analysis.aggregation as aggregation\n",
    "import gzbuilder_analysis.fitting as fitting\n",
    "from gzbuilder_analysis.fitting.jupyter import UpdatableDisplay\n",
    "from IPython.display import HTML"
   ]
  },
  {
   "cell_type": "markdown",
   "metadata": {
    "papermill": {
     "duration": 0.008456,
     "end_time": "2019-08-19T15:46:46.087960",
     "exception": false,
     "start_time": "2019-08-19T15:46:46.079504",
     "status": "completed"
    },
    "tags": []
   },
   "source": [
    "Parameters of input (or output) file locations, and some opertational flags"
   ]
  },
  {
   "cell_type": "code",
   "execution_count": 3,
   "metadata": {
    "collapsed": false,
    "inputHidden": false,
    "outputHidden": false,
    "papermill": {
     "duration": 0.035761,
     "end_time": "2019-08-19T15:46:46.132500",
     "exception": false,
     "start_time": "2019-08-19T15:46:46.096739",
     "status": "completed"
    },
    "tags": [
     "parameters"
    ]
   },
   "outputs": [],
   "source": [
    "AGGREGATE_LOCATION = 'lib/aggregation_results.pickle'\n",
    "BEST_INDIVIDUAL_LOCATION = 'lib/best_individual.pickle'"
   ]
  },
  {
   "cell_type": "markdown",
   "metadata": {
    "papermill": {
     "duration": 0.008631,
     "end_time": "2019-08-19T15:46:46.149589",
     "exception": false,
     "start_time": "2019-08-19T15:46:46.140958",
     "status": "completed"
    },
    "tags": []
   },
   "source": [
    "Load in the list of subject ids to use"
   ]
  },
  {
   "cell_type": "code",
   "execution_count": 4,
   "metadata": {
    "collapsed": false,
    "inputHidden": false,
    "outputHidden": false,
    "papermill": {
     "duration": 0.160359,
     "end_time": "2019-08-19T15:46:46.319368",
     "exception": false,
     "start_time": "2019-08-19T15:46:46.159009",
     "status": "completed"
    },
    "tags": []
   },
   "outputs": [],
   "source": [
    "sid_list = np.loadtxt('lib/subject-id-list.csv', dtype='u8')\n",
    "gal_angle_df = pd.read_csv('lib/gal-metadata.csv', index_col=0)\n",
    "diff_data_df = pd.read_pickle('lib/fitting_metadata.pkl')"
   ]
  },
  {
   "cell_type": "markdown",
   "metadata": {
    "papermill": {
     "duration": 0.008537,
     "end_time": "2019-08-19T15:46:46.337203",
     "exception": false,
     "start_time": "2019-08-19T15:46:46.328666",
     "status": "completed"
    },
    "tags": []
   },
   "source": [
    "## Preparation"
   ]
  },
  {
   "cell_type": "markdown",
   "metadata": {
    "papermill": {
     "duration": 0.00931,
     "end_time": "2019-08-19T15:46:46.355222",
     "exception": false,
     "start_time": "2019-08-19T15:46:46.345912",
     "status": "completed"
    },
    "tags": []
   },
   "source": [
    "Define functions to obtain the best individual classification for a galaxy, and its aggregate model"
   ]
  },
  {
   "cell_type": "code",
   "execution_count": 5,
   "metadata": {
    "collapsed": false,
    "inputHidden": false,
    "outputHidden": false,
    "papermill": {
     "duration": 0.043488,
     "end_time": "2019-08-19T15:46:46.407407",
     "exception": false,
     "start_time": "2019-08-19T15:46:46.363919",
     "status": "completed"
    },
    "tags": []
   },
   "outputs": [],
   "source": [
    "def get_agg_model(subject_id):\n",
    "  gal = gal_angle_df.loc[subject_id]\n",
    "  angle = gal['angle']\n",
    "  diff_data = diff_data_df.loc[subject_id]\n",
    "  size_diff = diff_data['size_diff']\n",
    "  cls = gu.classifications.query(\n",
    "    'subject_ids == {}'.format(subject_id)\n",
    "  )\n",
    "  model, error, masks, arms = aggregation.make_model(\n",
    "    cls, gal, angle\n",
    "  )\n",
    "  scaled_model = parsing.scale_aggregate_model(model, size_diff=size_diff)\n",
    "  scaled_errors = parsing.scale_model_errors(error, size_diff=size_diff)\n",
    "  return scaled_model, scaled_errors, masks, arms\n",
    "  \n",
    "def get_best_cls(subject_id):\n",
    "  gal = gal_angle_df.loc[subject_id]\n",
    "  angle = gal['angle']\n",
    "  diff_data = diff_data_df.loc[subject_id]\n",
    "\n",
    "  ba = gal['PETRO_BA90']\n",
    "  psf = diff_data['psf']\n",
    "  pixel_mask = np.array(diff_data['pixel_mask'])[::-1]\n",
    "  galaxy_data = np.array(diff_data['galaxy_data'])[::-1]\n",
    "  size_diff = diff_data['size_diff']\n",
    "\n",
    "\n",
    "  cls = gu.classifications.query(\n",
    "    'subject_ids == {}'.format(subject_id)\n",
    "  )\n",
    "  annotations = cls['annotations'].apply(json.loads)\n",
    "\n",
    "  models = annotations.apply(parsing.parse_annotation, size_diff=size_diff)\n",
    "  rendered = models.apply(\n",
    "    rendering.calculate_model,\n",
    "    image_size=galaxy_data.shape[0],\n",
    "    psf=psf\n",
    "  )\n",
    "  \n",
    "  losses = rendered.apply(fitting.loss, args=(galaxy_data,), pixel_mask=pixel_mask)\n",
    "  return losses.idxmin(), models.loc[losses.idxmin()]"
   ]
  },
  {
   "cell_type": "markdown",
   "metadata": {
    "papermill": {
     "duration": 0.008355,
     "end_time": "2019-08-19T15:46:46.424282",
     "exception": false,
     "start_time": "2019-08-19T15:46:46.415927",
     "status": "completed"
    },
    "tags": []
   },
   "source": [
    "Calculate the list of best individual models"
   ]
  },
  {
   "cell_type": "code",
   "execution_count": 6,
   "metadata": {
    "collapsed": false,
    "inputHidden": false,
    "outputHidden": false,
    "papermill": {
     "duration": 2803.391354,
     "end_time": "2019-08-19T16:33:29.824409",
     "exception": false,
     "start_time": "2019-08-19T15:46:46.433055",
     "status": "completed"
    },
    "tags": []
   },
   "outputs": [
    {
     "name": "stderr",
     "output_type": "stream",
     "text": [
      "\r",
      "Finding best individual:   0%|          | 0/296 [00:00<?, ?it/s]"
     ]
    },
    {
     "name": "stderr",
     "output_type": "stream",
     "text": [
      "\r",
      "Finding best individual:   0%|          | 1/296 [00:08<40:44,  8.29s/it]"
     ]
    },
    {
     "name": "stderr",
     "output_type": "stream",
     "text": [
      "\r",
      "Finding best individual:   1%|          | 2/296 [00:19<44:13,  9.02s/it]"
     ]
    },
    {
     "name": "stderr",
     "output_type": "stream",
     "text": [
      "\r",
      "Finding best individual:   1%|          | 3/296 [00:31<49:27, 10.13s/it]"
     ]
    },
    {
     "name": "stderr",
     "output_type": "stream",
     "text": [
      "\r",
      "Finding best individual:   1%|▏         | 4/296 [00:37<42:57,  8.83s/it]"
     ]
    },
    {
     "name": "stderr",
     "output_type": "stream",
     "text": [
      "\r",
      "Finding best individual:   2%|▏         | 5/296 [00:44<40:39,  8.38s/it]"
     ]
    },
    {
     "name": "stderr",
     "output_type": "stream",
     "text": [
      "\r",
      "Finding best individual:   2%|▏         | 6/296 [00:48<33:08,  6.86s/it]"
     ]
    },
    {
     "name": "stderr",
     "output_type": "stream",
     "text": [
      "\r",
      "Finding best individual:   2%|▏         | 7/296 [01:00<40:31,  8.41s/it]"
     ]
    },
    {
     "name": "stderr",
     "output_type": "stream",
     "text": [
      "\r",
      "Finding best individual:   3%|▎         | 8/296 [01:11<44:22,  9.25s/it]"
     ]
    },
    {
     "name": "stderr",
     "output_type": "stream",
     "text": [
      "\r",
      "Finding best individual:   3%|▎         | 9/296 [01:16<37:45,  7.89s/it]"
     ]
    },
    {
     "name": "stderr",
     "output_type": "stream",
     "text": [
      "\r",
      "Finding best individual:   3%|▎         | 10/296 [01:29<44:51,  9.41s/it]"
     ]
    },
    {
     "name": "stderr",
     "output_type": "stream",
     "text": [
      "\r",
      "Finding best individual:   4%|▎         | 11/296 [01:52<1:04:41, 13.62s/it]"
     ]
    },
    {
     "name": "stderr",
     "output_type": "stream",
     "text": [
      "\r",
      "Finding best individual:   4%|▍         | 12/296 [02:16<1:19:15, 16.74s/it]"
     ]
    },
    {
     "name": "stderr",
     "output_type": "stream",
     "text": [
      "\r",
      "Finding best individual:   4%|▍         | 13/296 [02:45<1:36:08, 20.38s/it]"
     ]
    },
    {
     "name": "stderr",
     "output_type": "stream",
     "text": [
      "\r",
      "Finding best individual:   5%|▍         | 14/296 [02:53<1:18:47, 16.77s/it]"
     ]
    },
    {
     "name": "stderr",
     "output_type": "stream",
     "text": [
      "\r",
      "Finding best individual:   5%|▌         | 15/296 [03:02<1:07:04, 14.32s/it]"
     ]
    },
    {
     "name": "stderr",
     "output_type": "stream",
     "text": [
      "\r",
      "Finding best individual:   5%|▌         | 16/296 [03:22<1:15:06, 16.10s/it]"
     ]
    },
    {
     "name": "stderr",
     "output_type": "stream",
     "text": [
      "\r",
      "Finding best individual:   6%|▌         | 17/296 [03:27<59:06, 12.71s/it]  "
     ]
    },
    {
     "name": "stderr",
     "output_type": "stream",
     "text": [
      "\r",
      "Finding best individual:   6%|▌         | 18/296 [03:31<47:19, 10.22s/it]"
     ]
    },
    {
     "name": "stderr",
     "output_type": "stream",
     "text": [
      "\r",
      "Finding best individual:   6%|▋         | 19/296 [03:38<42:49,  9.28s/it]"
     ]
    },
    {
     "name": "stderr",
     "output_type": "stream",
     "text": [
      "\r",
      "Finding best individual:   7%|▋         | 20/296 [03:44<37:51,  8.23s/it]"
     ]
    },
    {
     "name": "stderr",
     "output_type": "stream",
     "text": [
      "\r",
      "Finding best individual:   7%|▋         | 21/296 [03:53<39:01,  8.51s/it]"
     ]
    },
    {
     "name": "stderr",
     "output_type": "stream",
     "text": [
      "\r",
      "Finding best individual:   7%|▋         | 22/296 [04:07<45:52, 10.05s/it]"
     ]
    },
    {
     "name": "stderr",
     "output_type": "stream",
     "text": [
      "\r",
      "Finding best individual:   8%|▊         | 23/296 [04:34<1:08:16, 15.00s/it]"
     ]
    },
    {
     "name": "stderr",
     "output_type": "stream",
     "text": [
      "\r",
      "Finding best individual:   8%|▊         | 24/296 [04:49<1:08:20, 15.08s/it]"
     ]
    },
    {
     "name": "stderr",
     "output_type": "stream",
     "text": [
      "\r",
      "Finding best individual:   8%|▊         | 25/296 [04:55<56:25, 12.49s/it]  "
     ]
    },
    {
     "name": "stderr",
     "output_type": "stream",
     "text": [
      "\r",
      "Finding best individual:   9%|▉         | 26/296 [05:16<1:06:40, 14.82s/it]"
     ]
    },
    {
     "name": "stderr",
     "output_type": "stream",
     "text": [
      "\r",
      "Finding best individual:   9%|▉         | 27/296 [05:33<1:09:49, 15.57s/it]"
     ]
    },
    {
     "name": "stderr",
     "output_type": "stream",
     "text": [
      "\r",
      "Finding best individual:   9%|▉         | 28/296 [05:39<57:02, 12.77s/it]  "
     ]
    },
    {
     "name": "stderr",
     "output_type": "stream",
     "text": [
      "\r",
      "Finding best individual:  10%|▉         | 29/296 [05:55<1:01:39, 13.86s/it]"
     ]
    },
    {
     "name": "stderr",
     "output_type": "stream",
     "text": [
      "\r",
      "Finding best individual:  10%|█         | 30/296 [06:01<50:04, 11.30s/it]  "
     ]
    },
    {
     "name": "stderr",
     "output_type": "stream",
     "text": [
      "\r",
      "Finding best individual:  10%|█         | 31/296 [06:09<46:06, 10.44s/it]"
     ]
    },
    {
     "name": "stderr",
     "output_type": "stream",
     "text": [
      "\r",
      "Finding best individual:  11%|█         | 32/296 [06:34<1:05:07, 14.80s/it]"
     ]
    },
    {
     "name": "stderr",
     "output_type": "stream",
     "text": [
      "\r",
      "Finding best individual:  11%|█         | 33/296 [06:40<53:35, 12.22s/it]  "
     ]
    },
    {
     "name": "stderr",
     "output_type": "stream",
     "text": [
      "\r",
      "Finding best individual:  11%|█▏        | 34/296 [06:54<55:41, 12.75s/it]"
     ]
    },
    {
     "name": "stderr",
     "output_type": "stream",
     "text": [
      "\r",
      "Finding best individual:  12%|█▏        | 35/296 [07:01<47:04, 10.82s/it]"
     ]
    },
    {
     "name": "stderr",
     "output_type": "stream",
     "text": [
      "\r",
      "Finding best individual:  12%|█▏        | 36/296 [07:07<40:41,  9.39s/it]"
     ]
    },
    {
     "name": "stderr",
     "output_type": "stream",
     "text": [
      "\r",
      "Finding best individual:  12%|█▎        | 37/296 [07:20<45:06, 10.45s/it]"
     ]
    },
    {
     "name": "stderr",
     "output_type": "stream",
     "text": [
      "\r",
      "Finding best individual:  13%|█▎        | 38/296 [07:30<44:32, 10.36s/it]"
     ]
    },
    {
     "name": "stderr",
     "output_type": "stream",
     "text": [
      "\r",
      "Finding best individual:  13%|█▎        | 39/296 [07:37<40:26,  9.44s/it]"
     ]
    },
    {
     "name": "stderr",
     "output_type": "stream",
     "text": [
      "\r",
      "Finding best individual:  14%|█▎        | 40/296 [07:45<38:18,  8.98s/it]"
     ]
    },
    {
     "name": "stderr",
     "output_type": "stream",
     "text": [
      "\r",
      "Finding best individual:  14%|█▍        | 41/296 [07:59<44:00, 10.36s/it]"
     ]
    },
    {
     "name": "stderr",
     "output_type": "stream",
     "text": [
      "\r",
      "Finding best individual:  14%|█▍        | 42/296 [08:03<36:27,  8.61s/it]"
     ]
    },
    {
     "name": "stderr",
     "output_type": "stream",
     "text": [
      "\r",
      "Finding best individual:  15%|█▍        | 43/296 [08:08<31:19,  7.43s/it]"
     ]
    },
    {
     "name": "stderr",
     "output_type": "stream",
     "text": [
      "\r",
      "Finding best individual:  15%|█▍        | 44/296 [08:13<28:52,  6.88s/it]"
     ]
    },
    {
     "name": "stderr",
     "output_type": "stream",
     "text": [
      "\r",
      "Finding best individual:  15%|█▌        | 45/296 [08:19<26:49,  6.41s/it]"
     ]
    },
    {
     "name": "stderr",
     "output_type": "stream",
     "text": [
      "\r",
      "Finding best individual:  16%|█▌        | 46/296 [08:25<26:03,  6.25s/it]"
     ]
    },
    {
     "name": "stderr",
     "output_type": "stream",
     "text": [
      "\r",
      "Finding best individual:  16%|█▌        | 47/296 [08:39<36:18,  8.75s/it]"
     ]
    },
    {
     "name": "stderr",
     "output_type": "stream",
     "text": [
      "\r",
      "Finding best individual:  16%|█▌        | 48/296 [08:54<43:32, 10.53s/it]"
     ]
    },
    {
     "name": "stderr",
     "output_type": "stream",
     "text": [
      "\r",
      "Finding best individual:  17%|█▋        | 49/296 [09:22<1:05:01, 15.79s/it]"
     ]
    },
    {
     "name": "stderr",
     "output_type": "stream",
     "text": [
      "\r",
      "Finding best individual:  17%|█▋        | 50/296 [09:32<57:47, 14.10s/it]  "
     ]
    },
    {
     "name": "stderr",
     "output_type": "stream",
     "text": [
      "\r",
      "Finding best individual:  17%|█▋        | 51/296 [09:55<1:08:46, 16.84s/it]"
     ]
    },
    {
     "name": "stderr",
     "output_type": "stream",
     "text": [
      "\r",
      "Finding best individual:  18%|█▊        | 52/296 [10:01<55:01, 13.53s/it]  "
     ]
    },
    {
     "name": "stderr",
     "output_type": "stream",
     "text": [
      "\r",
      "Finding best individual:  18%|█▊        | 53/296 [10:07<44:56, 11.10s/it]"
     ]
    },
    {
     "name": "stderr",
     "output_type": "stream",
     "text": [
      "\r",
      "Finding best individual:  18%|█▊        | 54/296 [10:10<35:22,  8.77s/it]"
     ]
    },
    {
     "name": "stderr",
     "output_type": "stream",
     "text": [
      "\r",
      "Finding best individual:  19%|█▊        | 55/296 [10:19<35:29,  8.84s/it]"
     ]
    },
    {
     "name": "stderr",
     "output_type": "stream",
     "text": [
      "\r",
      "Finding best individual:  19%|█▉        | 56/296 [10:33<42:00, 10.50s/it]"
     ]
    },
    {
     "name": "stderr",
     "output_type": "stream",
     "text": [
      "\r",
      "Finding best individual:  19%|█▉        | 57/296 [10:44<42:23, 10.64s/it]"
     ]
    },
    {
     "name": "stderr",
     "output_type": "stream",
     "text": [
      "\r",
      "Finding best individual:  20%|█▉        | 58/296 [10:50<35:56,  9.06s/it]"
     ]
    },
    {
     "name": "stderr",
     "output_type": "stream",
     "text": [
      "\r",
      "Finding best individual:  20%|█▉        | 59/296 [11:01<37:56,  9.60s/it]"
     ]
    },
    {
     "name": "stderr",
     "output_type": "stream",
     "text": [
      "\r",
      "Finding best individual:  20%|██        | 60/296 [11:12<39:29, 10.04s/it]"
     ]
    },
    {
     "name": "stderr",
     "output_type": "stream",
     "text": [
      "\r",
      "Finding best individual:  21%|██        | 61/296 [11:16<32:21,  8.26s/it]"
     ]
    },
    {
     "name": "stderr",
     "output_type": "stream",
     "text": [
      "\r",
      "Finding best individual:  21%|██        | 62/296 [11:22<30:19,  7.78s/it]"
     ]
    },
    {
     "name": "stderr",
     "output_type": "stream",
     "text": [
      "\r",
      "Finding best individual:  21%|██▏       | 63/296 [11:37<38:21,  9.88s/it]"
     ]
    },
    {
     "name": "stderr",
     "output_type": "stream",
     "text": [
      "\r",
      "Finding best individual:  22%|██▏       | 64/296 [11:48<39:57, 10.33s/it]"
     ]
    },
    {
     "name": "stderr",
     "output_type": "stream",
     "text": [
      "\r",
      "Finding best individual:  22%|██▏       | 65/296 [11:57<38:03,  9.89s/it]"
     ]
    },
    {
     "name": "stderr",
     "output_type": "stream",
     "text": [
      "\r",
      "Finding best individual:  22%|██▏       | 66/296 [12:19<51:46, 13.51s/it]"
     ]
    },
    {
     "name": "stderr",
     "output_type": "stream",
     "text": [
      "\r",
      "Finding best individual:  23%|██▎       | 67/296 [12:35<53:52, 14.12s/it]"
     ]
    },
    {
     "name": "stderr",
     "output_type": "stream",
     "text": [
      "\r",
      "Finding best individual:  23%|██▎       | 68/296 [12:45<49:03, 12.91s/it]"
     ]
    },
    {
     "name": "stderr",
     "output_type": "stream",
     "text": [
      "\r",
      "Finding best individual:  23%|██▎       | 69/296 [12:54<44:31, 11.77s/it]"
     ]
    },
    {
     "name": "stderr",
     "output_type": "stream",
     "text": [
      "\r",
      "Finding best individual:  24%|██▎       | 70/296 [13:00<38:04, 10.11s/it]"
     ]
    },
    {
     "name": "stderr",
     "output_type": "stream",
     "text": [
      "\r",
      "Finding best individual:  24%|██▍       | 71/296 [13:17<45:29, 12.13s/it]"
     ]
    },
    {
     "name": "stderr",
     "output_type": "stream",
     "text": [
      "\r",
      "Finding best individual:  24%|██▍       | 72/296 [13:24<39:29, 10.58s/it]"
     ]
    },
    {
     "name": "stderr",
     "output_type": "stream",
     "text": [
      "\r",
      "Finding best individual:  25%|██▍       | 73/296 [13:36<40:17, 10.84s/it]"
     ]
    },
    {
     "name": "stderr",
     "output_type": "stream",
     "text": [
      "\r",
      "Finding best individual:  25%|██▌       | 74/296 [13:46<39:35, 10.70s/it]"
     ]
    },
    {
     "name": "stderr",
     "output_type": "stream",
     "text": [
      "\r",
      "Finding best individual:  25%|██▌       | 75/296 [13:53<35:52,  9.74s/it]"
     ]
    },
    {
     "name": "stderr",
     "output_type": "stream",
     "text": [
      "\r",
      "Finding best individual:  26%|██▌       | 76/296 [13:59<31:39,  8.63s/it]"
     ]
    },
    {
     "name": "stderr",
     "output_type": "stream",
     "text": [
      "\r",
      "Finding best individual:  26%|██▌       | 77/296 [14:10<33:19,  9.13s/it]"
     ]
    },
    {
     "name": "stderr",
     "output_type": "stream",
     "text": [
      "\r",
      "Finding best individual:  26%|██▋       | 78/296 [14:16<29:36,  8.15s/it]"
     ]
    },
    {
     "name": "stderr",
     "output_type": "stream",
     "text": [
      "\r",
      "Finding best individual:  27%|██▋       | 79/296 [14:22<27:12,  7.52s/it]"
     ]
    },
    {
     "name": "stderr",
     "output_type": "stream",
     "text": [
      "\r",
      "Finding best individual:  27%|██▋       | 80/296 [14:27<25:14,  7.01s/it]"
     ]
    },
    {
     "name": "stderr",
     "output_type": "stream",
     "text": [
      "\r",
      "Finding best individual:  27%|██▋       | 81/296 [14:56<48:22, 13.50s/it]"
     ]
    },
    {
     "name": "stderr",
     "output_type": "stream",
     "text": [
      "\r",
      "Finding best individual:  28%|██▊       | 82/296 [15:05<42:55, 12.03s/it]"
     ]
    },
    {
     "name": "stderr",
     "output_type": "stream",
     "text": [
      "\r",
      "Finding best individual:  28%|██▊       | 83/296 [15:12<37:13, 10.48s/it]"
     ]
    },
    {
     "name": "stderr",
     "output_type": "stream",
     "text": [
      "\r",
      "Finding best individual:  28%|██▊       | 84/296 [15:15<29:35,  8.38s/it]"
     ]
    },
    {
     "name": "stderr",
     "output_type": "stream",
     "text": [
      "\r",
      "Finding best individual:  29%|██▊       | 85/296 [15:22<27:35,  7.85s/it]"
     ]
    },
    {
     "name": "stderr",
     "output_type": "stream",
     "text": [
      "\r",
      "Finding best individual:  29%|██▉       | 86/296 [15:34<31:39,  9.05s/it]"
     ]
    },
    {
     "name": "stderr",
     "output_type": "stream",
     "text": [
      "\r",
      "Finding best individual:  29%|██▉       | 87/296 [15:37<25:50,  7.42s/it]"
     ]
    },
    {
     "name": "stderr",
     "output_type": "stream",
     "text": [
      "\r",
      "Finding best individual:  30%|██▉       | 88/296 [15:49<30:27,  8.79s/it]"
     ]
    },
    {
     "name": "stderr",
     "output_type": "stream",
     "text": [
      "\r",
      "Finding best individual:  30%|███       | 89/296 [15:56<27:51,  8.07s/it]"
     ]
    },
    {
     "name": "stderr",
     "output_type": "stream",
     "text": [
      "\r",
      "Finding best individual:  30%|███       | 90/296 [16:17<41:30, 12.09s/it]"
     ]
    },
    {
     "name": "stderr",
     "output_type": "stream",
     "text": [
      "\r",
      "Finding best individual:  31%|███       | 91/296 [16:27<39:32, 11.57s/it]"
     ]
    },
    {
     "name": "stderr",
     "output_type": "stream",
     "text": [
      "\r",
      "Finding best individual:  31%|███       | 92/296 [16:43<43:45, 12.87s/it]"
     ]
    },
    {
     "name": "stderr",
     "output_type": "stream",
     "text": [
      "\r",
      "Finding best individual:  31%|███▏      | 93/296 [16:52<39:18, 11.62s/it]"
     ]
    },
    {
     "name": "stderr",
     "output_type": "stream",
     "text": [
      "\r",
      "Finding best individual:  32%|███▏      | 94/296 [17:19<54:42, 16.25s/it]"
     ]
    },
    {
     "name": "stderr",
     "output_type": "stream",
     "text": [
      "\r",
      "Finding best individual:  32%|███▏      | 95/296 [17:27<46:36, 13.91s/it]"
     ]
    },
    {
     "name": "stderr",
     "output_type": "stream",
     "text": [
      "\r",
      "Finding best individual:  32%|███▏      | 96/296 [17:39<43:42, 13.11s/it]"
     ]
    },
    {
     "name": "stderr",
     "output_type": "stream",
     "text": [
      "\r",
      "Finding best individual:  33%|███▎      | 97/296 [17:46<37:22, 11.27s/it]"
     ]
    },
    {
     "name": "stderr",
     "output_type": "stream",
     "text": [
      "\r",
      "Finding best individual:  33%|███▎      | 98/296 [17:49<29:05,  8.81s/it]"
     ]
    },
    {
     "name": "stderr",
     "output_type": "stream",
     "text": [
      "\r",
      "Finding best individual:  33%|███▎      | 99/296 [17:55<26:49,  8.17s/it]"
     ]
    },
    {
     "name": "stderr",
     "output_type": "stream",
     "text": [
      "\r",
      "Finding best individual:  34%|███▍      | 100/296 [18:04<26:47,  8.20s/it]"
     ]
    },
    {
     "name": "stderr",
     "output_type": "stream",
     "text": [
      "\r",
      "Finding best individual:  34%|███▍      | 101/296 [18:15<30:01,  9.24s/it]"
     ]
    },
    {
     "name": "stderr",
     "output_type": "stream",
     "text": [
      "\r",
      "Finding best individual:  34%|███▍      | 102/296 [18:30<34:48, 10.77s/it]"
     ]
    },
    {
     "name": "stderr",
     "output_type": "stream",
     "text": [
      "\r",
      "Finding best individual:  35%|███▍      | 103/296 [18:31<25:21,  7.89s/it]"
     ]
    },
    {
     "name": "stderr",
     "output_type": "stream",
     "text": [
      "\r",
      "Finding best individual:  35%|███▌      | 104/296 [18:38<24:03,  7.52s/it]"
     ]
    },
    {
     "name": "stderr",
     "output_type": "stream",
     "text": [
      "\r",
      "Finding best individual:  35%|███▌      | 105/296 [18:46<25:15,  7.93s/it]"
     ]
    },
    {
     "name": "stderr",
     "output_type": "stream",
     "text": [
      "\r",
      "Finding best individual:  36%|███▌      | 106/296 [18:56<26:21,  8.32s/it]"
     ]
    },
    {
     "name": "stderr",
     "output_type": "stream",
     "text": [
      "\r",
      "Finding best individual:  36%|███▌      | 107/296 [19:04<26:31,  8.42s/it]"
     ]
    },
    {
     "name": "stderr",
     "output_type": "stream",
     "text": [
      "\r",
      "Finding best individual:  36%|███▋      | 108/296 [19:19<32:39, 10.42s/it]"
     ]
    },
    {
     "name": "stderr",
     "output_type": "stream",
     "text": [
      "\r",
      "Finding best individual:  37%|███▋      | 109/296 [19:27<29:51,  9.58s/it]"
     ]
    },
    {
     "name": "stderr",
     "output_type": "stream",
     "text": [
      "\r",
      "Finding best individual:  37%|███▋      | 110/296 [19:41<33:26, 10.79s/it]"
     ]
    },
    {
     "name": "stderr",
     "output_type": "stream",
     "text": [
      "\r",
      "Finding best individual:  38%|███▊      | 111/296 [20:08<49:02, 15.90s/it]"
     ]
    },
    {
     "name": "stderr",
     "output_type": "stream",
     "text": [
      "\r",
      "Finding best individual:  38%|███▊      | 112/296 [20:28<52:14, 17.04s/it]"
     ]
    },
    {
     "name": "stderr",
     "output_type": "stream",
     "text": [
      "\r",
      "Finding best individual:  38%|███▊      | 113/296 [20:31<38:43, 12.70s/it]"
     ]
    },
    {
     "name": "stderr",
     "output_type": "stream",
     "text": [
      "\r",
      "Finding best individual:  39%|███▊      | 114/296 [20:37<32:53, 10.84s/it]"
     ]
    },
    {
     "name": "stderr",
     "output_type": "stream",
     "text": [
      "\r",
      "Finding best individual:  39%|███▉      | 115/296 [20:57<41:09, 13.64s/it]"
     ]
    },
    {
     "name": "stderr",
     "output_type": "stream",
     "text": [
      "\r",
      "Finding best individual:  39%|███▉      | 116/296 [21:14<43:16, 14.42s/it]"
     ]
    },
    {
     "name": "stderr",
     "output_type": "stream",
     "text": [
      "\r",
      "Finding best individual:  40%|███▉      | 117/296 [21:17<32:43, 10.97s/it]"
     ]
    },
    {
     "name": "stderr",
     "output_type": "stream",
     "text": [
      "\r",
      "Finding best individual:  40%|███▉      | 118/296 [21:19<25:18,  8.53s/it]"
     ]
    },
    {
     "name": "stderr",
     "output_type": "stream",
     "text": [
      "\r",
      "Finding best individual:  40%|████      | 119/296 [21:28<25:29,  8.64s/it]"
     ]
    },
    {
     "name": "stderr",
     "output_type": "stream",
     "text": [
      "\r",
      "Finding best individual:  41%|████      | 120/296 [21:31<20:07,  6.86s/it]"
     ]
    },
    {
     "name": "stderr",
     "output_type": "stream",
     "text": [
      "\r",
      "Finding best individual:  41%|████      | 121/296 [21:39<21:02,  7.21s/it]"
     ]
    },
    {
     "name": "stderr",
     "output_type": "stream",
     "text": [
      "\r",
      "Finding best individual:  41%|████      | 122/296 [22:03<35:19, 12.18s/it]"
     ]
    },
    {
     "name": "stderr",
     "output_type": "stream",
     "text": [
      "\r",
      "Finding best individual:  42%|████▏     | 123/296 [22:15<35:10, 12.20s/it]"
     ]
    },
    {
     "name": "stderr",
     "output_type": "stream",
     "text": [
      "\r",
      "Finding best individual:  42%|████▏     | 124/296 [22:18<26:46,  9.34s/it]"
     ]
    },
    {
     "name": "stderr",
     "output_type": "stream",
     "text": [
      "\r",
      "Finding best individual:  42%|████▏     | 125/296 [23:12<1:05:06, 22.84s/it]"
     ]
    },
    {
     "name": "stderr",
     "output_type": "stream",
     "text": [
      "\r",
      "Finding best individual:  43%|████▎     | 126/296 [23:25<56:30, 19.94s/it]  "
     ]
    },
    {
     "name": "stderr",
     "output_type": "stream",
     "text": [
      "\r",
      "Finding best individual:  43%|████▎     | 127/296 [23:57<1:06:29, 23.60s/it]"
     ]
    },
    {
     "name": "stderr",
     "output_type": "stream",
     "text": [
      "\r",
      "Finding best individual:  43%|████▎     | 128/296 [24:02<50:16, 17.96s/it]  "
     ]
    },
    {
     "name": "stderr",
     "output_type": "stream",
     "text": [
      "\r",
      "Finding best individual:  44%|████▎     | 129/296 [24:05<37:19, 13.41s/it]"
     ]
    },
    {
     "name": "stderr",
     "output_type": "stream",
     "text": [
      "\r",
      "Finding best individual:  44%|████▍     | 130/296 [24:16<34:49, 12.59s/it]"
     ]
    },
    {
     "name": "stderr",
     "output_type": "stream",
     "text": [
      "\r",
      "Finding best individual:  44%|████▍     | 131/296 [24:29<35:04, 12.76s/it]"
     ]
    },
    {
     "name": "stderr",
     "output_type": "stream",
     "text": [
      "\r",
      "Finding best individual:  45%|████▍     | 132/296 [24:32<26:52,  9.83s/it]"
     ]
    },
    {
     "name": "stderr",
     "output_type": "stream",
     "text": [
      "\r",
      "Finding best individual:  45%|████▍     | 133/296 [24:37<22:53,  8.43s/it]"
     ]
    },
    {
     "name": "stderr",
     "output_type": "stream",
     "text": [
      "\r",
      "Finding best individual:  45%|████▌     | 134/296 [24:46<22:53,  8.48s/it]"
     ]
    },
    {
     "name": "stderr",
     "output_type": "stream",
     "text": [
      "\r",
      "Finding best individual:  46%|████▌     | 135/296 [25:00<27:56, 10.41s/it]"
     ]
    },
    {
     "name": "stderr",
     "output_type": "stream",
     "text": [
      "\r",
      "Finding best individual:  46%|████▌     | 136/296 [25:10<27:15, 10.22s/it]"
     ]
    },
    {
     "name": "stderr",
     "output_type": "stream",
     "text": [
      "\r",
      "Finding best individual:  46%|████▋     | 137/296 [25:15<22:27,  8.47s/it]"
     ]
    },
    {
     "name": "stderr",
     "output_type": "stream",
     "text": [
      "\r",
      "Finding best individual:  47%|████▋     | 138/296 [25:24<22:59,  8.73s/it]"
     ]
    },
    {
     "name": "stderr",
     "output_type": "stream",
     "text": [
      "\r",
      "Finding best individual:  47%|████▋     | 139/296 [25:28<19:08,  7.31s/it]"
     ]
    },
    {
     "name": "stderr",
     "output_type": "stream",
     "text": [
      "\r",
      "Finding best individual:  47%|████▋     | 140/296 [25:36<19:37,  7.55s/it]"
     ]
    },
    {
     "name": "stderr",
     "output_type": "stream",
     "text": [
      "\r",
      "Finding best individual:  48%|████▊     | 141/296 [25:43<18:38,  7.22s/it]"
     ]
    },
    {
     "name": "stderr",
     "output_type": "stream",
     "text": [
      "\r",
      "Finding best individual:  48%|████▊     | 142/296 [26:03<29:00, 11.30s/it]"
     ]
    },
    {
     "name": "stderr",
     "output_type": "stream",
     "text": [
      "\r",
      "Finding best individual:  48%|████▊     | 143/296 [26:19<32:02, 12.57s/it]"
     ]
    },
    {
     "name": "stderr",
     "output_type": "stream",
     "text": [
      "\r",
      "Finding best individual:  49%|████▊     | 144/296 [26:21<23:54,  9.44s/it]"
     ]
    },
    {
     "name": "stderr",
     "output_type": "stream",
     "text": [
      "\r",
      "Finding best individual:  49%|████▉     | 145/296 [26:44<33:58, 13.50s/it]"
     ]
    },
    {
     "name": "stderr",
     "output_type": "stream",
     "text": [
      "\r",
      "Finding best individual:  49%|████▉     | 146/296 [26:49<27:33, 11.03s/it]"
     ]
    },
    {
     "name": "stderr",
     "output_type": "stream",
     "text": [
      "\r",
      "Finding best individual:  50%|████▉     | 147/296 [26:51<20:22,  8.20s/it]"
     ]
    },
    {
     "name": "stderr",
     "output_type": "stream",
     "text": [
      "\r",
      "Finding best individual:  50%|█████     | 148/296 [26:54<16:34,  6.72s/it]"
     ]
    },
    {
     "name": "stderr",
     "output_type": "stream",
     "text": [
      "\r",
      "Finding best individual:  50%|█████     | 149/296 [26:58<14:19,  5.85s/it]"
     ]
    },
    {
     "name": "stderr",
     "output_type": "stream",
     "text": [
      "\r",
      "Finding best individual:  51%|█████     | 150/296 [27:02<12:44,  5.23s/it]"
     ]
    },
    {
     "name": "stderr",
     "output_type": "stream",
     "text": [
      "\r",
      "Finding best individual:  51%|█████     | 151/296 [27:15<18:17,  7.57s/it]"
     ]
    },
    {
     "name": "stderr",
     "output_type": "stream",
     "text": [
      "\r",
      "Finding best individual:  51%|█████▏    | 152/296 [27:21<16:57,  7.07s/it]"
     ]
    },
    {
     "name": "stderr",
     "output_type": "stream",
     "text": [
      "\r",
      "Finding best individual:  52%|█████▏    | 153/296 [27:25<15:09,  6.36s/it]"
     ]
    },
    {
     "name": "stderr",
     "output_type": "stream",
     "text": [
      "\r",
      "Finding best individual:  52%|█████▏    | 154/296 [27:36<18:20,  7.75s/it]"
     ]
    },
    {
     "name": "stderr",
     "output_type": "stream",
     "text": [
      "\r",
      "Finding best individual:  52%|█████▏    | 155/296 [27:41<16:17,  6.93s/it]"
     ]
    },
    {
     "name": "stderr",
     "output_type": "stream",
     "text": [
      "\r",
      "Finding best individual:  53%|█████▎    | 156/296 [27:44<13:06,  5.62s/it]"
     ]
    },
    {
     "name": "stderr",
     "output_type": "stream",
     "text": [
      "\r",
      "Finding best individual:  53%|█████▎    | 157/296 [28:10<27:02, 11.67s/it]"
     ]
    },
    {
     "name": "stderr",
     "output_type": "stream",
     "text": [
      "\r",
      "Finding best individual:  53%|█████▎    | 158/296 [28:21<26:40, 11.60s/it]"
     ]
    },
    {
     "name": "stderr",
     "output_type": "stream",
     "text": [
      "\r",
      "Finding best individual:  54%|█████▎    | 159/296 [28:28<22:59, 10.07s/it]"
     ]
    },
    {
     "name": "stderr",
     "output_type": "stream",
     "text": [
      "\r",
      "Finding best individual:  54%|█████▍    | 160/296 [28:33<19:17,  8.51s/it]"
     ]
    },
    {
     "name": "stderr",
     "output_type": "stream",
     "text": [
      "\r",
      "Finding best individual:  54%|█████▍    | 161/296 [28:40<18:18,  8.14s/it]"
     ]
    },
    {
     "name": "stderr",
     "output_type": "stream",
     "text": [
      "\r",
      "Finding best individual:  55%|█████▍    | 162/296 [28:46<16:58,  7.60s/it]"
     ]
    },
    {
     "name": "stderr",
     "output_type": "stream",
     "text": [
      "\r",
      "Finding best individual:  55%|█████▌    | 163/296 [28:47<12:29,  5.63s/it]"
     ]
    },
    {
     "name": "stderr",
     "output_type": "stream",
     "text": [
      "\r",
      "Finding best individual:  55%|█████▌    | 164/296 [28:51<11:12,  5.09s/it]"
     ]
    },
    {
     "name": "stderr",
     "output_type": "stream",
     "text": [
      "\r",
      "Finding best individual:  56%|█████▌    | 165/296 [28:56<10:43,  4.91s/it]"
     ]
    },
    {
     "name": "stderr",
     "output_type": "stream",
     "text": [
      "\r",
      "Finding best individual:  56%|█████▌    | 166/296 [29:11<17:32,  8.09s/it]"
     ]
    },
    {
     "name": "stderr",
     "output_type": "stream",
     "text": [
      "\r",
      "Finding best individual:  56%|█████▋    | 167/296 [29:14<14:24,  6.70s/it]"
     ]
    },
    {
     "name": "stderr",
     "output_type": "stream",
     "text": [
      "\r",
      "Finding best individual:  57%|█████▋    | 168/296 [29:20<13:19,  6.24s/it]"
     ]
    },
    {
     "name": "stderr",
     "output_type": "stream",
     "text": [
      "\r",
      "Finding best individual:  57%|█████▋    | 169/296 [29:27<13:45,  6.50s/it]"
     ]
    },
    {
     "name": "stderr",
     "output_type": "stream",
     "text": [
      "\r",
      "Finding best individual:  57%|█████▋    | 170/296 [29:33<13:27,  6.41s/it]"
     ]
    },
    {
     "name": "stderr",
     "output_type": "stream",
     "text": [
      "\r",
      "Finding best individual:  58%|█████▊    | 171/296 [29:35<10:32,  5.06s/it]"
     ]
    },
    {
     "name": "stderr",
     "output_type": "stream",
     "text": [
      "\r",
      "Finding best individual:  58%|█████▊    | 172/296 [29:45<13:22,  6.47s/it]"
     ]
    },
    {
     "name": "stderr",
     "output_type": "stream",
     "text": [
      "\r",
      "Finding best individual:  58%|█████▊    | 173/296 [30:05<21:53, 10.68s/it]"
     ]
    },
    {
     "name": "stderr",
     "output_type": "stream",
     "text": [
      "\r",
      "Finding best individual:  59%|█████▉    | 174/296 [30:08<17:11,  8.45s/it]"
     ]
    },
    {
     "name": "stderr",
     "output_type": "stream",
     "text": [
      "\r",
      "Finding best individual:  59%|█████▉    | 175/296 [30:20<19:06,  9.48s/it]"
     ]
    },
    {
     "name": "stderr",
     "output_type": "stream",
     "text": [
      "\r",
      "Finding best individual:  59%|█████▉    | 176/296 [30:23<15:12,  7.61s/it]"
     ]
    },
    {
     "name": "stderr",
     "output_type": "stream",
     "text": [
      "\r",
      "Finding best individual:  60%|█████▉    | 177/296 [30:26<11:50,  5.97s/it]"
     ]
    },
    {
     "name": "stderr",
     "output_type": "stream",
     "text": [
      "\r",
      "Finding best individual:  60%|██████    | 178/296 [30:45<19:37,  9.98s/it]"
     ]
    },
    {
     "name": "stderr",
     "output_type": "stream",
     "text": [
      "\r",
      "Finding best individual:  60%|██████    | 179/296 [30:49<16:07,  8.27s/it]"
     ]
    },
    {
     "name": "stderr",
     "output_type": "stream",
     "text": [
      "\r",
      "Finding best individual:  61%|██████    | 180/296 [31:05<20:10, 10.43s/it]"
     ]
    },
    {
     "name": "stderr",
     "output_type": "stream",
     "text": [
      "\r",
      "Finding best individual:  61%|██████    | 181/296 [31:08<15:42,  8.20s/it]"
     ]
    },
    {
     "name": "stderr",
     "output_type": "stream",
     "text": [
      "\r",
      "Finding best individual:  61%|██████▏   | 182/296 [31:12<13:28,  7.09s/it]"
     ]
    },
    {
     "name": "stderr",
     "output_type": "stream",
     "text": [
      "\r",
      "Finding best individual:  62%|██████▏   | 183/296 [31:21<14:28,  7.69s/it]"
     ]
    },
    {
     "name": "stderr",
     "output_type": "stream",
     "text": [
      "\r",
      "Finding best individual:  62%|██████▏   | 184/296 [31:31<15:19,  8.21s/it]"
     ]
    },
    {
     "name": "stderr",
     "output_type": "stream",
     "text": [
      "\r",
      "Finding best individual:  62%|██████▎   | 185/296 [31:37<14:11,  7.67s/it]"
     ]
    },
    {
     "name": "stderr",
     "output_type": "stream",
     "text": [
      "\r",
      "Finding best individual:  63%|██████▎   | 186/296 [32:00<22:28, 12.25s/it]"
     ]
    },
    {
     "name": "stderr",
     "output_type": "stream",
     "text": [
      "\r",
      "Finding best individual:  63%|██████▎   | 187/296 [32:04<17:37,  9.70s/it]"
     ]
    },
    {
     "name": "stderr",
     "output_type": "stream",
     "text": [
      "\r",
      "Finding best individual:  64%|██████▎   | 188/296 [32:22<22:03, 12.25s/it]"
     ]
    },
    {
     "name": "stderr",
     "output_type": "stream",
     "text": [
      "\r",
      "Finding best individual:  64%|██████▍   | 189/296 [32:26<17:34,  9.85s/it]"
     ]
    },
    {
     "name": "stderr",
     "output_type": "stream",
     "text": [
      "\r",
      "Finding best individual:  64%|██████▍   | 190/296 [32:33<15:39,  8.86s/it]"
     ]
    },
    {
     "name": "stderr",
     "output_type": "stream",
     "text": [
      "\r",
      "Finding best individual:  65%|██████▍   | 191/296 [32:57<23:19, 13.33s/it]"
     ]
    },
    {
     "name": "stderr",
     "output_type": "stream",
     "text": [
      "\r",
      "Finding best individual:  65%|██████▍   | 192/296 [33:14<25:12, 14.54s/it]"
     ]
    },
    {
     "name": "stderr",
     "output_type": "stream",
     "text": [
      "\r",
      "Finding best individual:  65%|██████▌   | 193/296 [33:35<28:22, 16.53s/it]"
     ]
    },
    {
     "name": "stderr",
     "output_type": "stream",
     "text": [
      "\r",
      "Finding best individual:  66%|██████▌   | 194/296 [33:45<24:52, 14.63s/it]"
     ]
    },
    {
     "name": "stderr",
     "output_type": "stream",
     "text": [
      "\r",
      "Finding best individual:  66%|██████▌   | 195/296 [33:52<20:24, 12.13s/it]"
     ]
    },
    {
     "name": "stderr",
     "output_type": "stream",
     "text": [
      "\r",
      "Finding best individual:  66%|██████▌   | 196/296 [33:56<16:32,  9.92s/it]"
     ]
    },
    {
     "name": "stderr",
     "output_type": "stream",
     "text": [
      "\r",
      "Finding best individual:  67%|██████▋   | 197/296 [34:04<15:14,  9.24s/it]"
     ]
    },
    {
     "name": "stderr",
     "output_type": "stream",
     "text": [
      "\r",
      "Finding best individual:  67%|██████▋   | 198/296 [34:07<12:09,  7.44s/it]"
     ]
    },
    {
     "name": "stderr",
     "output_type": "stream",
     "text": [
      "\r",
      "Finding best individual:  67%|██████▋   | 199/296 [34:15<12:02,  7.45s/it]"
     ]
    },
    {
     "name": "stderr",
     "output_type": "stream",
     "text": [
      "\r",
      "Finding best individual:  68%|██████▊   | 200/296 [34:23<12:28,  7.80s/it]"
     ]
    },
    {
     "name": "stderr",
     "output_type": "stream",
     "text": [
      "\r",
      "Finding best individual:  68%|██████▊   | 201/296 [34:32<12:41,  8.01s/it]"
     ]
    },
    {
     "name": "stderr",
     "output_type": "stream",
     "text": [
      "\r",
      "Finding best individual:  68%|██████▊   | 202/296 [34:54<19:01, 12.15s/it]"
     ]
    },
    {
     "name": "stderr",
     "output_type": "stream",
     "text": [
      "\r",
      "Finding best individual:  69%|██████▊   | 203/296 [34:55<13:59,  9.03s/it]"
     ]
    },
    {
     "name": "stderr",
     "output_type": "stream",
     "text": [
      "\r",
      "Finding best individual:  69%|██████▉   | 204/296 [35:02<12:33,  8.20s/it]"
     ]
    },
    {
     "name": "stderr",
     "output_type": "stream",
     "text": [
      "\r",
      "Finding best individual:  69%|██████▉   | 205/296 [35:06<10:42,  7.06s/it]"
     ]
    },
    {
     "name": "stderr",
     "output_type": "stream",
     "text": [
      "\r",
      "Finding best individual:  70%|██████▉   | 206/296 [35:08<08:18,  5.54s/it]"
     ]
    },
    {
     "name": "stderr",
     "output_type": "stream",
     "text": [
      "\r",
      "Finding best individual:  70%|██████▉   | 207/296 [35:17<09:34,  6.46s/it]"
     ]
    },
    {
     "name": "stderr",
     "output_type": "stream",
     "text": [
      "\r",
      "Finding best individual:  70%|███████   | 208/296 [35:44<18:27, 12.58s/it]"
     ]
    },
    {
     "name": "stderr",
     "output_type": "stream",
     "text": [
      "\r",
      "Finding best individual:  71%|███████   | 209/296 [35:49<14:58, 10.33s/it]"
     ]
    },
    {
     "name": "stderr",
     "output_type": "stream",
     "text": [
      "\r",
      "Finding best individual:  71%|███████   | 210/296 [35:53<12:20,  8.61s/it]"
     ]
    },
    {
     "name": "stderr",
     "output_type": "stream",
     "text": [
      "\r",
      "Finding best individual:  71%|███████▏  | 211/296 [35:59<10:50,  7.66s/it]"
     ]
    },
    {
     "name": "stderr",
     "output_type": "stream",
     "text": [
      "\r",
      "Finding best individual:  72%|███████▏  | 212/296 [36:04<09:55,  7.09s/it]"
     ]
    },
    {
     "name": "stderr",
     "output_type": "stream",
     "text": [
      "\r",
      "Finding best individual:  72%|███████▏  | 213/296 [36:06<07:40,  5.55s/it]"
     ]
    },
    {
     "name": "stderr",
     "output_type": "stream",
     "text": [
      "\r",
      "Finding best individual:  72%|███████▏  | 214/296 [36:13<08:11,  5.99s/it]"
     ]
    },
    {
     "name": "stderr",
     "output_type": "stream",
     "text": [
      "\r",
      "Finding best individual:  73%|███████▎  | 215/296 [36:28<11:32,  8.55s/it]"
     ]
    },
    {
     "name": "stderr",
     "output_type": "stream",
     "text": [
      "\r",
      "Finding best individual:  73%|███████▎  | 216/296 [36:36<11:15,  8.44s/it]"
     ]
    },
    {
     "name": "stderr",
     "output_type": "stream",
     "text": [
      "\r",
      "Finding best individual:  73%|███████▎  | 217/296 [36:42<10:12,  7.76s/it]"
     ]
    },
    {
     "name": "stderr",
     "output_type": "stream",
     "text": [
      "\r",
      "Finding best individual:  74%|███████▎  | 218/296 [36:47<08:47,  6.76s/it]"
     ]
    },
    {
     "name": "stderr",
     "output_type": "stream",
     "text": [
      "\r",
      "Finding best individual:  74%|███████▍  | 219/296 [36:50<07:19,  5.70s/it]"
     ]
    },
    {
     "name": "stderr",
     "output_type": "stream",
     "text": [
      "\r",
      "Finding best individual:  74%|███████▍  | 220/296 [36:54<06:42,  5.30s/it]"
     ]
    },
    {
     "name": "stderr",
     "output_type": "stream",
     "text": [
      "\r",
      "Finding best individual:  75%|███████▍  | 221/296 [37:06<08:51,  7.09s/it]"
     ]
    },
    {
     "name": "stderr",
     "output_type": "stream",
     "text": [
      "\r",
      "Finding best individual:  75%|███████▌  | 222/296 [37:21<11:50,  9.60s/it]"
     ]
    },
    {
     "name": "stderr",
     "output_type": "stream",
     "text": [
      "\r",
      "Finding best individual:  75%|███████▌  | 223/296 [37:48<17:54, 14.72s/it]"
     ]
    },
    {
     "name": "stderr",
     "output_type": "stream",
     "text": [
      "\r",
      "Finding best individual:  76%|███████▌  | 224/296 [37:55<14:59, 12.49s/it]"
     ]
    },
    {
     "name": "stderr",
     "output_type": "stream",
     "text": [
      "\r",
      "Finding best individual:  76%|███████▌  | 225/296 [38:08<15:06, 12.76s/it]"
     ]
    },
    {
     "name": "stderr",
     "output_type": "stream",
     "text": [
      "\r",
      "Finding best individual:  76%|███████▋  | 226/296 [38:18<13:47, 11.82s/it]"
     ]
    },
    {
     "name": "stderr",
     "output_type": "stream",
     "text": [
      "\r",
      "Finding best individual:  77%|███████▋  | 227/296 [38:41<17:31, 15.23s/it]"
     ]
    },
    {
     "name": "stderr",
     "output_type": "stream",
     "text": [
      "\r",
      "Finding best individual:  77%|███████▋  | 228/296 [38:46<13:32, 11.95s/it]"
     ]
    },
    {
     "name": "stderr",
     "output_type": "stream",
     "text": [
      "\r",
      "Finding best individual:  77%|███████▋  | 229/296 [38:53<11:55, 10.68s/it]"
     ]
    },
    {
     "name": "stderr",
     "output_type": "stream",
     "text": [
      "\r",
      "Finding best individual:  78%|███████▊  | 230/296 [38:55<08:53,  8.08s/it]"
     ]
    },
    {
     "name": "stderr",
     "output_type": "stream",
     "text": [
      "\r",
      "Finding best individual:  78%|███████▊  | 231/296 [39:00<07:37,  7.04s/it]"
     ]
    },
    {
     "name": "stderr",
     "output_type": "stream",
     "text": [
      "\r",
      "Finding best individual:  78%|███████▊  | 232/296 [39:09<08:17,  7.77s/it]"
     ]
    },
    {
     "name": "stderr",
     "output_type": "stream",
     "text": [
      "\r",
      "Finding best individual:  79%|███████▊  | 233/296 [39:21<09:31,  9.07s/it]"
     ]
    },
    {
     "name": "stderr",
     "output_type": "stream",
     "text": [
      "\r",
      "Finding best individual:  79%|███████▉  | 234/296 [39:29<08:56,  8.65s/it]"
     ]
    },
    {
     "name": "stderr",
     "output_type": "stream",
     "text": [
      "\r",
      "Finding best individual:  79%|███████▉  | 235/296 [39:37<08:31,  8.38s/it]"
     ]
    },
    {
     "name": "stderr",
     "output_type": "stream",
     "text": [
      "\r",
      "Finding best individual:  80%|███████▉  | 236/296 [39:42<07:29,  7.49s/it]"
     ]
    },
    {
     "name": "stderr",
     "output_type": "stream",
     "text": [
      "\r",
      "Finding best individual:  80%|████████  | 237/296 [39:45<05:56,  6.04s/it]"
     ]
    },
    {
     "name": "stderr",
     "output_type": "stream",
     "text": [
      "\r",
      "Finding best individual:  80%|████████  | 238/296 [39:51<05:47,  5.99s/it]"
     ]
    },
    {
     "name": "stderr",
     "output_type": "stream",
     "text": [
      "\r",
      "Finding best individual:  81%|████████  | 239/296 [39:55<05:15,  5.54s/it]"
     ]
    },
    {
     "name": "stderr",
     "output_type": "stream",
     "text": [
      "\r",
      "Finding best individual:  81%|████████  | 240/296 [40:02<05:26,  5.83s/it]"
     ]
    },
    {
     "name": "stderr",
     "output_type": "stream",
     "text": [
      "\r",
      "Finding best individual:  81%|████████▏ | 241/296 [40:05<04:29,  4.90s/it]"
     ]
    },
    {
     "name": "stderr",
     "output_type": "stream",
     "text": [
      "\r",
      "Finding best individual:  82%|████████▏ | 242/296 [40:19<07:03,  7.84s/it]"
     ]
    },
    {
     "name": "stderr",
     "output_type": "stream",
     "text": [
      "\r",
      "Finding best individual:  82%|████████▏ | 243/296 [40:40<10:23, 11.76s/it]"
     ]
    },
    {
     "name": "stderr",
     "output_type": "stream",
     "text": [
      "\r",
      "Finding best individual:  82%|████████▏ | 244/296 [40:44<08:10,  9.42s/it]"
     ]
    },
    {
     "name": "stderr",
     "output_type": "stream",
     "text": [
      "\r",
      "Finding best individual:  83%|████████▎ | 245/296 [40:50<07:01,  8.26s/it]"
     ]
    },
    {
     "name": "stderr",
     "output_type": "stream",
     "text": [
      "\r",
      "Finding best individual:  83%|████████▎ | 246/296 [40:54<06:01,  7.23s/it]"
     ]
    },
    {
     "name": "stderr",
     "output_type": "stream",
     "text": [
      "\r",
      "Finding best individual:  83%|████████▎ | 247/296 [40:57<04:45,  5.83s/it]"
     ]
    },
    {
     "name": "stderr",
     "output_type": "stream",
     "text": [
      "\r",
      "Finding best individual:  84%|████████▍ | 248/296 [41:02<04:21,  5.44s/it]"
     ]
    },
    {
     "name": "stderr",
     "output_type": "stream",
     "text": [
      "\r",
      "Finding best individual:  84%|████████▍ | 249/296 [41:08<04:28,  5.72s/it]"
     ]
    },
    {
     "name": "stderr",
     "output_type": "stream",
     "text": [
      "\r",
      "Finding best individual:  84%|████████▍ | 250/296 [41:14<04:27,  5.81s/it]"
     ]
    },
    {
     "name": "stderr",
     "output_type": "stream",
     "text": [
      "\r",
      "Finding best individual:  85%|████████▍ | 251/296 [41:18<03:53,  5.18s/it]"
     ]
    },
    {
     "name": "stderr",
     "output_type": "stream",
     "text": [
      "\r",
      "Finding best individual:  85%|████████▌ | 252/296 [41:22<03:40,  5.00s/it]"
     ]
    },
    {
     "name": "stderr",
     "output_type": "stream",
     "text": [
      "\r",
      "Finding best individual:  85%|████████▌ | 253/296 [41:32<04:31,  6.32s/it]"
     ]
    },
    {
     "name": "stderr",
     "output_type": "stream",
     "text": [
      "\r",
      "Finding best individual:  86%|████████▌ | 254/296 [41:42<05:17,  7.55s/it]"
     ]
    },
    {
     "name": "stderr",
     "output_type": "stream",
     "text": [
      "\r",
      "Finding best individual:  86%|████████▌ | 255/296 [42:03<07:48, 11.43s/it]"
     ]
    },
    {
     "name": "stderr",
     "output_type": "stream",
     "text": [
      "\r",
      "Finding best individual:  86%|████████▋ | 256/296 [42:09<06:35,  9.90s/it]"
     ]
    },
    {
     "name": "stderr",
     "output_type": "stream",
     "text": [
      "\r",
      "Finding best individual:  87%|████████▋ | 257/296 [42:13<05:13,  8.04s/it]"
     ]
    },
    {
     "name": "stderr",
     "output_type": "stream",
     "text": [
      "\r",
      "Finding best individual:  87%|████████▋ | 258/296 [42:16<04:13,  6.67s/it]"
     ]
    },
    {
     "name": "stderr",
     "output_type": "stream",
     "text": [
      "\r",
      "Finding best individual:  88%|████████▊ | 259/296 [42:20<03:32,  5.75s/it]"
     ]
    },
    {
     "name": "stderr",
     "output_type": "stream",
     "text": [
      "\r",
      "Finding best individual:  88%|████████▊ | 260/296 [42:23<03:04,  5.11s/it]"
     ]
    },
    {
     "name": "stderr",
     "output_type": "stream",
     "text": [
      "\r",
      "Finding best individual:  88%|████████▊ | 261/296 [42:27<02:47,  4.78s/it]"
     ]
    },
    {
     "name": "stderr",
     "output_type": "stream",
     "text": [
      "\r",
      "Finding best individual:  89%|████████▊ | 262/296 [42:36<03:27,  6.10s/it]"
     ]
    },
    {
     "name": "stderr",
     "output_type": "stream",
     "text": [
      "\r",
      "Finding best individual:  89%|████████▉ | 263/296 [42:44<03:33,  6.48s/it]"
     ]
    },
    {
     "name": "stderr",
     "output_type": "stream",
     "text": [
      "\r",
      "Finding best individual:  89%|████████▉ | 264/296 [42:49<03:15,  6.11s/it]"
     ]
    },
    {
     "name": "stderr",
     "output_type": "stream",
     "text": [
      "\r",
      "Finding best individual:  90%|████████▉ | 265/296 [42:55<03:04,  5.95s/it]"
     ]
    },
    {
     "name": "stderr",
     "output_type": "stream",
     "text": [
      "\r",
      "Finding best individual:  90%|████████▉ | 266/296 [43:01<03:02,  6.09s/it]"
     ]
    },
    {
     "name": "stderr",
     "output_type": "stream",
     "text": [
      "\r",
      "Finding best individual:  90%|█████████ | 267/296 [43:03<02:22,  4.90s/it]"
     ]
    },
    {
     "name": "stderr",
     "output_type": "stream",
     "text": [
      "\r",
      "Finding best individual:  91%|█████████ | 268/296 [43:08<02:13,  4.78s/it]"
     ]
    },
    {
     "name": "stderr",
     "output_type": "stream",
     "text": [
      "\r",
      "Finding best individual:  91%|█████████ | 269/296 [43:29<04:19,  9.60s/it]"
     ]
    },
    {
     "name": "stderr",
     "output_type": "stream",
     "text": [
      "\r",
      "Finding best individual:  91%|█████████ | 270/296 [43:37<03:57,  9.13s/it]"
     ]
    },
    {
     "name": "stderr",
     "output_type": "stream",
     "text": [
      "\r",
      "Finding best individual:  92%|█████████▏| 271/296 [43:44<03:35,  8.60s/it]"
     ]
    },
    {
     "name": "stderr",
     "output_type": "stream",
     "text": [
      "\r",
      "Finding best individual:  92%|█████████▏| 272/296 [43:50<03:08,  7.86s/it]"
     ]
    },
    {
     "name": "stderr",
     "output_type": "stream",
     "text": [
      "\r",
      "Finding best individual:  92%|█████████▏| 273/296 [43:56<02:50,  7.39s/it]"
     ]
    },
    {
     "name": "stderr",
     "output_type": "stream",
     "text": [
      "\r",
      "Finding best individual:  93%|█████████▎| 274/296 [44:05<02:49,  7.68s/it]"
     ]
    },
    {
     "name": "stderr",
     "output_type": "stream",
     "text": [
      "\r",
      "Finding best individual:  93%|█████████▎| 275/296 [44:11<02:32,  7.28s/it]"
     ]
    },
    {
     "name": "stderr",
     "output_type": "stream",
     "text": [
      "\r",
      "Finding best individual:  93%|█████████▎| 276/296 [44:14<01:58,  5.90s/it]"
     ]
    },
    {
     "name": "stderr",
     "output_type": "stream",
     "text": [
      "\r",
      "Finding best individual:  94%|█████████▎| 277/296 [44:17<01:36,  5.09s/it]"
     ]
    },
    {
     "name": "stderr",
     "output_type": "stream",
     "text": [
      "\r",
      "Finding best individual:  94%|█████████▍| 278/296 [44:26<01:53,  6.31s/it]"
     ]
    },
    {
     "name": "stderr",
     "output_type": "stream",
     "text": [
      "\r",
      "Finding best individual:  94%|█████████▍| 279/296 [44:30<01:37,  5.72s/it]"
     ]
    },
    {
     "name": "stderr",
     "output_type": "stream",
     "text": [
      "\r",
      "Finding best individual:  95%|█████████▍| 280/296 [44:35<01:26,  5.40s/it]"
     ]
    },
    {
     "name": "stderr",
     "output_type": "stream",
     "text": [
      "\r",
      "Finding best individual:  95%|█████████▍| 281/296 [44:42<01:25,  5.69s/it]"
     ]
    },
    {
     "name": "stderr",
     "output_type": "stream",
     "text": [
      "\r",
      "Finding best individual:  95%|█████████▌| 282/296 [44:53<01:44,  7.49s/it]"
     ]
    },
    {
     "name": "stderr",
     "output_type": "stream",
     "text": [
      "\r",
      "Finding best individual:  96%|█████████▌| 283/296 [45:04<01:51,  8.57s/it]"
     ]
    },
    {
     "name": "stderr",
     "output_type": "stream",
     "text": [
      "\r",
      "Finding best individual:  96%|█████████▌| 284/296 [45:12<01:41,  8.45s/it]"
     ]
    },
    {
     "name": "stderr",
     "output_type": "stream",
     "text": [
      "\r",
      "Finding best individual:  96%|█████████▋| 285/296 [45:28<01:56, 10.56s/it]"
     ]
    },
    {
     "name": "stderr",
     "output_type": "stream",
     "text": [
      "\r",
      "Finding best individual:  97%|█████████▋| 286/296 [45:34<01:31,  9.17s/it]"
     ]
    },
    {
     "name": "stderr",
     "output_type": "stream",
     "text": [
      "\r",
      "Finding best individual:  97%|█████████▋| 287/296 [45:37<01:05,  7.26s/it]"
     ]
    },
    {
     "name": "stderr",
     "output_type": "stream",
     "text": [
      "\r",
      "Finding best individual:  97%|█████████▋| 288/296 [45:53<01:19,  9.89s/it]"
     ]
    },
    {
     "name": "stderr",
     "output_type": "stream",
     "text": [
      "\r",
      "Finding best individual:  98%|█████████▊| 289/296 [45:59<01:02,  8.86s/it]"
     ]
    },
    {
     "name": "stderr",
     "output_type": "stream",
     "text": [
      "\r",
      "Finding best individual:  98%|█████████▊| 290/296 [46:09<00:55,  9.28s/it]"
     ]
    },
    {
     "name": "stderr",
     "output_type": "stream",
     "text": [
      "\r",
      "Finding best individual:  98%|█████████▊| 291/296 [46:29<01:01, 12.24s/it]"
     ]
    },
    {
     "name": "stderr",
     "output_type": "stream",
     "text": [
      "\r",
      "Finding best individual:  99%|█████████▊| 292/296 [46:31<00:36,  9.17s/it]"
     ]
    },
    {
     "name": "stderr",
     "output_type": "stream",
     "text": [
      "\r",
      "Finding best individual:  99%|█████████▉| 293/296 [46:36<00:24,  8.09s/it]"
     ]
    },
    {
     "name": "stderr",
     "output_type": "stream",
     "text": [
      "\r",
      "Finding best individual:  99%|█████████▉| 294/296 [46:38<00:12,  6.11s/it]"
     ]
    },
    {
     "name": "stderr",
     "output_type": "stream",
     "text": [
      "\r",
      "Finding best individual: 100%|█████████▉| 295/296 [46:39<00:04,  4.77s/it]"
     ]
    },
    {
     "name": "stderr",
     "output_type": "stream",
     "text": [
      "\r",
      "Finding best individual: 100%|██████████| 296/296 [46:43<00:00,  4.36s/it]"
     ]
    },
    {
     "name": "stderr",
     "output_type": "stream",
     "text": [
      "\n"
     ]
    }
   ],
   "source": [
    "best_indiv = pd.Series([])\n",
    "with tqdm(sid_list, desc='Finding best individual', leave=True) as bar:\n",
    "  for subject_id in bar:\n",
    "    best_indiv.loc[subject_id] = get_best_cls(subject_id)\n",
    "best_indiv = best_indiv.apply(pd.Series)\n",
    "best_indiv.columns = ('Index', 'Model')\n",
    "best_indiv.to_pickle(BEST_INDIVIDUAL_LOCATION)"
   ]
  },
  {
   "cell_type": "code",
   "execution_count": 7,
   "metadata": {
    "collapsed": false,
    "inputHidden": false,
    "outputHidden": false,
    "papermill": {
     "duration": 0.613192,
     "end_time": "2019-08-19T16:33:30.507234",
     "exception": false,
     "start_time": "2019-08-19T16:33:29.894042",
     "status": "completed"
    },
    "tags": []
   },
   "outputs": [
    {
     "data": {
      "text/html": [
       "<div>\n",
       "<style scoped>\n",
       "    .dataframe tbody tr th:only-of-type {\n",
       "        vertical-align: middle;\n",
       "    }\n",
       "\n",
       "    .dataframe tbody tr th {\n",
       "        vertical-align: top;\n",
       "    }\n",
       "\n",
       "    .dataframe thead th {\n",
       "        text-align: right;\n",
       "    }\n",
       "</style>\n",
       "<table border=\"1\" class=\"dataframe\">\n",
       "  <thead>\n",
       "    <tr style=\"text-align: right;\">\n",
       "      <th></th>\n",
       "      <th>Index</th>\n",
       "      <th>Model</th>\n",
       "    </tr>\n",
       "  </thead>\n",
       "  <tbody>\n",
       "    <tr>\n",
       "      <th>20901989</th>\n",
       "      <td>7582</td>\n",
       "      <td>{'disk': {'mu': [32.534912109375, 32.5390625],...</td>\n",
       "    </tr>\n",
       "    <tr>\n",
       "      <th>20902000</th>\n",
       "      <td>8746</td>\n",
       "      <td>{'disk': {'mu': [90.19638061523438, 90.1840209...</td>\n",
       "    </tr>\n",
       "    <tr>\n",
       "      <th>20902007</th>\n",
       "      <td>5745</td>\n",
       "      <td>{'disk': {'mu': [89.22597867250443, 88.0966779...</td>\n",
       "    </tr>\n",
       "    <tr>\n",
       "      <th>20902023</th>\n",
       "      <td>9462</td>\n",
       "      <td>{'disk': {'mu': [74.94947856664658, 76.0800154...</td>\n",
       "    </tr>\n",
       "    <tr>\n",
       "      <th>20902031</th>\n",
       "      <td>2002</td>\n",
       "      <td>{'disk': {'mu': [80.5333251953125, 78.87945556...</td>\n",
       "    </tr>\n",
       "    <tr>\n",
       "      <th>20902048</th>\n",
       "      <td>1206</td>\n",
       "      <td>{'disk': {'mu': [43.26777309179306, 44.0041029...</td>\n",
       "    </tr>\n",
       "    <tr>\n",
       "      <th>20902059</th>\n",
       "      <td>9841</td>\n",
       "      <td>{'disk': {'mu': [92.6253662109375, 93.36328125...</td>\n",
       "    </tr>\n",
       "    <tr>\n",
       "      <th>20902062</th>\n",
       "      <td>2171</td>\n",
       "      <td>{'disk': {'mu': [93.27083259820938, 92.1266250...</td>\n",
       "    </tr>\n",
       "    <tr>\n",
       "      <th>20902073</th>\n",
       "      <td>7139</td>\n",
       "      <td>{'disk': {'mu': [35.0528963804245, 39.63281702...</td>\n",
       "    </tr>\n",
       "    <tr>\n",
       "      <th>20902086</th>\n",
       "      <td>4486</td>\n",
       "      <td>{'disk': {'mu': [50.139723122119904, 51.853604...</td>\n",
       "    </tr>\n",
       "    <tr>\n",
       "      <th>20902008</th>\n",
       "      <td>5177</td>\n",
       "      <td>{'disk': {'mu': [126.48834228515625, 120.83862...</td>\n",
       "    </tr>\n",
       "    <tr>\n",
       "      <th>20902018</th>\n",
       "      <td>10245</td>\n",
       "      <td>{'disk': {'mu': [126.53458592295647, 126.67789...</td>\n",
       "    </tr>\n",
       "    <tr>\n",
       "      <th>20902040</th>\n",
       "      <td>4681</td>\n",
       "      <td>{'disk': {'mu': [126.41048347949982, 128.45410...</td>\n",
       "    </tr>\n",
       "    <tr>\n",
       "      <th>20902052</th>\n",
       "      <td>2284</td>\n",
       "      <td>{'disk': {'mu': [69.8001708984375, 69.70330810...</td>\n",
       "    </tr>\n",
       "    <tr>\n",
       "      <th>20902053</th>\n",
       "      <td>6312</td>\n",
       "      <td>{'disk': {'mu': [64.67049407958984, 62.9299926...</td>\n",
       "    </tr>\n",
       "    <tr>\n",
       "      <th>20902055</th>\n",
       "      <td>7094</td>\n",
       "      <td>{'disk': {'mu': [116.64576721191406, 115.97914...</td>\n",
       "    </tr>\n",
       "    <tr>\n",
       "      <th>20902060</th>\n",
       "      <td>9096</td>\n",
       "      <td>{'disk': {'mu': [43.74957275390625, 42.8203125...</td>\n",
       "    </tr>\n",
       "    <tr>\n",
       "      <th>20902061</th>\n",
       "      <td>2383</td>\n",
       "      <td>{'disk': {'mu': [43.23980712890625, 42.9265136...</td>\n",
       "    </tr>\n",
       "    <tr>\n",
       "      <th>20902064</th>\n",
       "      <td>2283</td>\n",
       "      <td>{'disk': {'mu': [56.399847865104675, 55.177710...</td>\n",
       "    </tr>\n",
       "    <tr>\n",
       "      <th>20902065</th>\n",
       "      <td>2003</td>\n",
       "      <td>{'disk': {'mu': [58.446044921875, 57.830078125...</td>\n",
       "    </tr>\n",
       "    <tr>\n",
       "      <th>20901992</th>\n",
       "      <td>9950</td>\n",
       "      <td>{'disk': {'mu': [86.32049560546875, 87.5242309...</td>\n",
       "    </tr>\n",
       "    <tr>\n",
       "      <th>20901996</th>\n",
       "      <td>1222</td>\n",
       "      <td>{'disk': {'mu': [91.11985605955124, 88.0899116...</td>\n",
       "    </tr>\n",
       "    <tr>\n",
       "      <th>20902002</th>\n",
       "      <td>8697</td>\n",
       "      <td>{'disk': {'mu': [143.092041015625, 142.0], 'ro...</td>\n",
       "    </tr>\n",
       "    <tr>\n",
       "      <th>20902013</th>\n",
       "      <td>7741</td>\n",
       "      <td>{'disk': {'mu': [99.39218139648438, 98.8089904...</td>\n",
       "    </tr>\n",
       "    <tr>\n",
       "      <th>20902015</th>\n",
       "      <td>7580</td>\n",
       "      <td>{'disk': {'mu': [63.7421875, 62.75], 'roll': -...</td>\n",
       "    </tr>\n",
       "    <tr>\n",
       "      <th>20902017</th>\n",
       "      <td>1560</td>\n",
       "      <td>{'disk': {'mu': [127.07444149255753, 125.91642...</td>\n",
       "    </tr>\n",
       "    <tr>\n",
       "      <th>20901998</th>\n",
       "      <td>1503</td>\n",
       "      <td>{'disk': {'mu': [108.6328125, 108.829690933227...</td>\n",
       "    </tr>\n",
       "    <tr>\n",
       "      <th>20902005</th>\n",
       "      <td>9290</td>\n",
       "      <td>{'disk': {'mu': [69.5306396484375, 68.89892578...</td>\n",
       "    </tr>\n",
       "    <tr>\n",
       "      <th>20902016</th>\n",
       "      <td>6589</td>\n",
       "      <td>{'disk': {'mu': [117.63593655824661, 118.94746...</td>\n",
       "    </tr>\n",
       "    <tr>\n",
       "      <th>20902051</th>\n",
       "      <td>6077</td>\n",
       "      <td>{'disk': {'mu': [50.04231631755829, 49.2415368...</td>\n",
       "    </tr>\n",
       "    <tr>\n",
       "      <th>...</th>\n",
       "      <td>...</td>\n",
       "      <td>...</td>\n",
       "    </tr>\n",
       "    <tr>\n",
       "      <th>21686596</th>\n",
       "      <td>4141</td>\n",
       "      <td>{'disk': {'mu': [37.373046576976776, 37.963870...</td>\n",
       "    </tr>\n",
       "    <tr>\n",
       "      <th>21686500</th>\n",
       "      <td>4255</td>\n",
       "      <td>{'disk': {'mu': [66.62446838617325, 67.0384738...</td>\n",
       "    </tr>\n",
       "    <tr>\n",
       "      <th>21686569</th>\n",
       "      <td>3975</td>\n",
       "      <td>{'disk': {'mu': [128.98384925723076, 127.76300...</td>\n",
       "    </tr>\n",
       "    <tr>\n",
       "      <th>21686496</th>\n",
       "      <td>3607</td>\n",
       "      <td>{'disk': {'mu': [89.66387939453125, 89.8496093...</td>\n",
       "    </tr>\n",
       "    <tr>\n",
       "      <th>21686519</th>\n",
       "      <td>6454</td>\n",
       "      <td>{'disk': {'mu': [81.14682006835938, 79.2105484...</td>\n",
       "    </tr>\n",
       "    <tr>\n",
       "      <th>21686550</th>\n",
       "      <td>9865</td>\n",
       "      <td>{'disk': {'mu': [71.7099609375, 71.95166015625...</td>\n",
       "    </tr>\n",
       "    <tr>\n",
       "      <th>21686499</th>\n",
       "      <td>6239</td>\n",
       "      <td>{'disk': {'mu': [77.26865887641907, 78.0893940...</td>\n",
       "    </tr>\n",
       "    <tr>\n",
       "      <th>21686526</th>\n",
       "      <td>5790</td>\n",
       "      <td>{'disk': {'mu': [88.90331679582596, 88.5823112...</td>\n",
       "    </tr>\n",
       "    <tr>\n",
       "      <th>21686576</th>\n",
       "      <td>4151</td>\n",
       "      <td>{'disk': {'mu': [68.28277587890625, 65.8149719...</td>\n",
       "    </tr>\n",
       "    <tr>\n",
       "      <th>21686614</th>\n",
       "      <td>10435</td>\n",
       "      <td>{'disk': {'mu': [49.3768310546875, 49.92114257...</td>\n",
       "    </tr>\n",
       "    <tr>\n",
       "      <th>21686611</th>\n",
       "      <td>4142</td>\n",
       "      <td>{'disk': {'mu': [60.531509935855865, 60.775720...</td>\n",
       "    </tr>\n",
       "    <tr>\n",
       "      <th>21686508</th>\n",
       "      <td>3633</td>\n",
       "      <td>{'disk': {'mu': [101.987548828125, 101.203125]...</td>\n",
       "    </tr>\n",
       "    <tr>\n",
       "      <th>21686535</th>\n",
       "      <td>3734</td>\n",
       "      <td>{'disk': {'mu': [56.4823215007782, 55.24658203...</td>\n",
       "    </tr>\n",
       "    <tr>\n",
       "      <th>21686580</th>\n",
       "      <td>3730</td>\n",
       "      <td>{'disk': {'mu': [49.35058653354645, 50.8056640...</td>\n",
       "    </tr>\n",
       "    <tr>\n",
       "      <th>21686562</th>\n",
       "      <td>3721</td>\n",
       "      <td>{'disk': {'mu': [77.23762959241867, 77.7926456...</td>\n",
       "    </tr>\n",
       "    <tr>\n",
       "      <th>21686591</th>\n",
       "      <td>7606</td>\n",
       "      <td>{'disk': {'mu': [93.39485168457031, 91.7773437...</td>\n",
       "    </tr>\n",
       "    <tr>\n",
       "      <th>21686545</th>\n",
       "      <td>3837</td>\n",
       "      <td>{'disk': {'mu': [116.63397216796875, 118.78207...</td>\n",
       "    </tr>\n",
       "    <tr>\n",
       "      <th>21686543</th>\n",
       "      <td>4421</td>\n",
       "      <td>{'disk': {'mu': [89.8582763671875, 88.86962890...</td>\n",
       "    </tr>\n",
       "    <tr>\n",
       "      <th>21686505</th>\n",
       "      <td>4148</td>\n",
       "      <td>{'disk': {'mu': [108.40869140625, 107.41333007...</td>\n",
       "    </tr>\n",
       "    <tr>\n",
       "      <th>21686586</th>\n",
       "      <td>7784</td>\n",
       "      <td>{'disk': {'mu': [69.94061279296875, 70.5], 'ro...</td>\n",
       "    </tr>\n",
       "    <tr>\n",
       "      <th>21686589</th>\n",
       "      <td>4282</td>\n",
       "      <td>{'disk': {'mu': [43.4114972949028, 43.43273752...</td>\n",
       "    </tr>\n",
       "    <tr>\n",
       "      <th>21686584</th>\n",
       "      <td>3979</td>\n",
       "      <td>{'disk': {'mu': [115.81027221679688, 116.86975...</td>\n",
       "    </tr>\n",
       "    <tr>\n",
       "      <th>21686560</th>\n",
       "      <td>9056</td>\n",
       "      <td>{'disk': {'mu': [78.95901489257812, 78.5334930...</td>\n",
       "    </tr>\n",
       "    <tr>\n",
       "      <th>21686551</th>\n",
       "      <td>6883</td>\n",
       "      <td>{'disk': {'mu': [88.9891357421875, 88.3046875]...</td>\n",
       "    </tr>\n",
       "    <tr>\n",
       "      <th>21686547</th>\n",
       "      <td>3802</td>\n",
       "      <td>{'disk': {'mu': [127.32767951488495, 126.5], '...</td>\n",
       "    </tr>\n",
       "    <tr>\n",
       "      <th>21686590</th>\n",
       "      <td>7377</td>\n",
       "      <td>{'disk': {'mu': [43.330078125, 42.576755046844...</td>\n",
       "    </tr>\n",
       "    <tr>\n",
       "      <th>21686581</th>\n",
       "      <td>7550</td>\n",
       "      <td>{'disk': {'mu': [69.50852966308594, 70.3087005...</td>\n",
       "    </tr>\n",
       "    <tr>\n",
       "      <th>21686609</th>\n",
       "      <td>10439</td>\n",
       "      <td>{'disk': {'mu': [36.7064208984375, 36.68383789...</td>\n",
       "    </tr>\n",
       "    <tr>\n",
       "      <th>21686601</th>\n",
       "      <td>3957</td>\n",
       "      <td>{'disk': {'mu': [30.9962158203125, 30.22613525...</td>\n",
       "    </tr>\n",
       "    <tr>\n",
       "      <th>21686565</th>\n",
       "      <td>3973</td>\n",
       "      <td>{'disk': {'mu': [53.67682248353958, 54.1522790...</td>\n",
       "    </tr>\n",
       "  </tbody>\n",
       "</table>\n",
       "<p>296 rows × 2 columns</p>\n",
       "</div>"
      ],
      "text/plain": [
       "          Index                                              Model\n",
       "20901989   7582  {'disk': {'mu': [32.534912109375, 32.5390625],...\n",
       "20902000   8746  {'disk': {'mu': [90.19638061523438, 90.1840209...\n",
       "20902007   5745  {'disk': {'mu': [89.22597867250443, 88.0966779...\n",
       "20902023   9462  {'disk': {'mu': [74.94947856664658, 76.0800154...\n",
       "20902031   2002  {'disk': {'mu': [80.5333251953125, 78.87945556...\n",
       "20902048   1206  {'disk': {'mu': [43.26777309179306, 44.0041029...\n",
       "20902059   9841  {'disk': {'mu': [92.6253662109375, 93.36328125...\n",
       "20902062   2171  {'disk': {'mu': [93.27083259820938, 92.1266250...\n",
       "20902073   7139  {'disk': {'mu': [35.0528963804245, 39.63281702...\n",
       "20902086   4486  {'disk': {'mu': [50.139723122119904, 51.853604...\n",
       "20902008   5177  {'disk': {'mu': [126.48834228515625, 120.83862...\n",
       "20902018  10245  {'disk': {'mu': [126.53458592295647, 126.67789...\n",
       "20902040   4681  {'disk': {'mu': [126.41048347949982, 128.45410...\n",
       "20902052   2284  {'disk': {'mu': [69.8001708984375, 69.70330810...\n",
       "20902053   6312  {'disk': {'mu': [64.67049407958984, 62.9299926...\n",
       "20902055   7094  {'disk': {'mu': [116.64576721191406, 115.97914...\n",
       "20902060   9096  {'disk': {'mu': [43.74957275390625, 42.8203125...\n",
       "20902061   2383  {'disk': {'mu': [43.23980712890625, 42.9265136...\n",
       "20902064   2283  {'disk': {'mu': [56.399847865104675, 55.177710...\n",
       "20902065   2003  {'disk': {'mu': [58.446044921875, 57.830078125...\n",
       "20901992   9950  {'disk': {'mu': [86.32049560546875, 87.5242309...\n",
       "20901996   1222  {'disk': {'mu': [91.11985605955124, 88.0899116...\n",
       "20902002   8697  {'disk': {'mu': [143.092041015625, 142.0], 'ro...\n",
       "20902013   7741  {'disk': {'mu': [99.39218139648438, 98.8089904...\n",
       "20902015   7580  {'disk': {'mu': [63.7421875, 62.75], 'roll': -...\n",
       "20902017   1560  {'disk': {'mu': [127.07444149255753, 125.91642...\n",
       "20901998   1503  {'disk': {'mu': [108.6328125, 108.829690933227...\n",
       "20902005   9290  {'disk': {'mu': [69.5306396484375, 68.89892578...\n",
       "20902016   6589  {'disk': {'mu': [117.63593655824661, 118.94746...\n",
       "20902051   6077  {'disk': {'mu': [50.04231631755829, 49.2415368...\n",
       "...         ...                                                ...\n",
       "21686596   4141  {'disk': {'mu': [37.373046576976776, 37.963870...\n",
       "21686500   4255  {'disk': {'mu': [66.62446838617325, 67.0384738...\n",
       "21686569   3975  {'disk': {'mu': [128.98384925723076, 127.76300...\n",
       "21686496   3607  {'disk': {'mu': [89.66387939453125, 89.8496093...\n",
       "21686519   6454  {'disk': {'mu': [81.14682006835938, 79.2105484...\n",
       "21686550   9865  {'disk': {'mu': [71.7099609375, 71.95166015625...\n",
       "21686499   6239  {'disk': {'mu': [77.26865887641907, 78.0893940...\n",
       "21686526   5790  {'disk': {'mu': [88.90331679582596, 88.5823112...\n",
       "21686576   4151  {'disk': {'mu': [68.28277587890625, 65.8149719...\n",
       "21686614  10435  {'disk': {'mu': [49.3768310546875, 49.92114257...\n",
       "21686611   4142  {'disk': {'mu': [60.531509935855865, 60.775720...\n",
       "21686508   3633  {'disk': {'mu': [101.987548828125, 101.203125]...\n",
       "21686535   3734  {'disk': {'mu': [56.4823215007782, 55.24658203...\n",
       "21686580   3730  {'disk': {'mu': [49.35058653354645, 50.8056640...\n",
       "21686562   3721  {'disk': {'mu': [77.23762959241867, 77.7926456...\n",
       "21686591   7606  {'disk': {'mu': [93.39485168457031, 91.7773437...\n",
       "21686545   3837  {'disk': {'mu': [116.63397216796875, 118.78207...\n",
       "21686543   4421  {'disk': {'mu': [89.8582763671875, 88.86962890...\n",
       "21686505   4148  {'disk': {'mu': [108.40869140625, 107.41333007...\n",
       "21686586   7784  {'disk': {'mu': [69.94061279296875, 70.5], 'ro...\n",
       "21686589   4282  {'disk': {'mu': [43.4114972949028, 43.43273752...\n",
       "21686584   3979  {'disk': {'mu': [115.81027221679688, 116.86975...\n",
       "21686560   9056  {'disk': {'mu': [78.95901489257812, 78.5334930...\n",
       "21686551   6883  {'disk': {'mu': [88.9891357421875, 88.3046875]...\n",
       "21686547   3802  {'disk': {'mu': [127.32767951488495, 126.5], '...\n",
       "21686590   7377  {'disk': {'mu': [43.330078125, 42.576755046844...\n",
       "21686581   7550  {'disk': {'mu': [69.50852966308594, 70.3087005...\n",
       "21686609  10439  {'disk': {'mu': [36.7064208984375, 36.68383789...\n",
       "21686601   3957  {'disk': {'mu': [30.9962158203125, 30.22613525...\n",
       "21686565   3973  {'disk': {'mu': [53.67682248353958, 54.1522790...\n",
       "\n",
       "[296 rows x 2 columns]"
      ]
     },
     "execution_count": 7,
     "metadata": {},
     "output_type": "execute_result"
    }
   ],
   "source": [
    "best_indiv"
   ]
  },
  {
   "cell_type": "markdown",
   "metadata": {
    "papermill": {
     "duration": 0.070577,
     "end_time": "2019-08-19T16:33:30.652199",
     "exception": false,
     "start_time": "2019-08-19T16:33:30.581622",
     "status": "completed"
    },
    "tags": []
   },
   "source": [
    "Calculate the list of aggregate models"
   ]
  },
  {
   "cell_type": "code",
   "execution_count": 8,
   "metadata": {
    "collapsed": false,
    "inputHidden": false,
    "outputHidden": false,
    "papermill": {
     "duration": 2365.73417,
     "end_time": "2019-08-19T17:12:56.458146",
     "exception": false,
     "start_time": "2019-08-19T16:33:30.723976",
     "status": "completed"
    },
    "tags": []
   },
   "outputs": [
    {
     "name": "stderr",
     "output_type": "stream",
     "text": [
      "\r",
      "Calculating aggregate:   0%|          | 0/296 [00:00<?, ?it/s]"
     ]
    },
    {
     "name": "stderr",
     "output_type": "stream",
     "text": [
      "\r",
      "Calculating aggregate:   1%|          | 2/296 [00:05<13:32,  2.76s/it]"
     ]
    },
    {
     "name": "stderr",
     "output_type": "stream",
     "text": [
      "\r",
      "Calculating aggregate:   1%|          | 3/296 [00:11<18:24,  3.77s/it]"
     ]
    },
    {
     "name": "stderr",
     "output_type": "stream",
     "text": [
      "\r",
      "Calculating aggregate:   1%|▏         | 4/296 [00:21<27:21,  5.62s/it]"
     ]
    },
    {
     "name": "stderr",
     "output_type": "stream",
     "text": [
      "\r",
      "Calculating aggregate:   2%|▏         | 5/296 [00:25<24:29,  5.05s/it]"
     ]
    },
    {
     "name": "stderr",
     "output_type": "stream",
     "text": [
      "\r",
      "Calculating aggregate:   2%|▏         | 6/296 [00:39<38:08,  7.89s/it]"
     ]
    },
    {
     "name": "stderr",
     "output_type": "stream",
     "text": [
      "\r",
      "Calculating aggregate:   2%|▏         | 7/296 [00:43<31:18,  6.50s/it]"
     ]
    },
    {
     "name": "stderr",
     "output_type": "stream",
     "text": [
      "\r",
      "Calculating aggregate:   3%|▎         | 8/296 [00:48<30:06,  6.27s/it]"
     ]
    },
    {
     "name": "stderr",
     "output_type": "stream",
     "text": [
      "\r",
      "Calculating aggregate:   3%|▎         | 9/296 [00:53<27:09,  5.68s/it]"
     ]
    },
    {
     "name": "stderr",
     "output_type": "stream",
     "text": [
      "\r",
      "Calculating aggregate:   3%|▎         | 10/296 [00:59<27:36,  5.79s/it]"
     ]
    },
    {
     "name": "stderr",
     "output_type": "stream",
     "text": [
      "\r",
      "Calculating aggregate:   4%|▎         | 11/296 [01:13<40:15,  8.47s/it]"
     ]
    },
    {
     "name": "stderr",
     "output_type": "stream",
     "text": [
      "\r",
      "Calculating aggregate:   4%|▍         | 12/296 [01:26<46:12,  9.76s/it]"
     ]
    },
    {
     "name": "stderr",
     "output_type": "stream",
     "text": [
      "\r",
      "Calculating aggregate:   4%|▍         | 13/296 [01:32<40:29,  8.58s/it]"
     ]
    },
    {
     "name": "stderr",
     "output_type": "stream",
     "text": [
      "\r",
      "Calculating aggregate:   5%|▍         | 14/296 [01:48<50:56, 10.84s/it]"
     ]
    },
    {
     "name": "stderr",
     "output_type": "stream",
     "text": [
      "\r",
      "Calculating aggregate:   5%|▌         | 15/296 [02:04<58:30, 12.49s/it]"
     ]
    },
    {
     "name": "stderr",
     "output_type": "stream",
     "text": [
      "\r",
      "Calculating aggregate:   5%|▌         | 16/296 [02:18<1:00:24, 12.94s/it]"
     ]
    },
    {
     "name": "stderr",
     "output_type": "stream",
     "text": [
      "\r",
      "Calculating aggregate:   6%|▌         | 17/296 [02:29<57:10, 12.30s/it]  "
     ]
    },
    {
     "name": "stderr",
     "output_type": "stream",
     "text": [
      "\r",
      "Calculating aggregate:   6%|▌         | 18/296 [02:38<51:32, 11.13s/it]"
     ]
    },
    {
     "name": "stderr",
     "output_type": "stream",
     "text": [
      "\r",
      "Calculating aggregate:   6%|▋         | 19/296 [02:44<45:00,  9.75s/it]"
     ]
    },
    {
     "name": "stderr",
     "output_type": "stream",
     "text": [
      "\r",
      "Calculating aggregate:   7%|▋         | 20/296 [02:57<48:59, 10.65s/it]"
     ]
    },
    {
     "name": "stderr",
     "output_type": "stream",
     "text": [
      "\r",
      "Calculating aggregate:   7%|▋         | 21/296 [03:07<48:19, 10.55s/it]"
     ]
    },
    {
     "name": "stderr",
     "output_type": "stream",
     "text": [
      "\r",
      "Calculating aggregate:   7%|▋         | 22/296 [03:13<41:52,  9.17s/it]"
     ]
    },
    {
     "name": "stderr",
     "output_type": "stream",
     "text": [
      "\r",
      "Calculating aggregate:   8%|▊         | 23/296 [03:25<45:53, 10.09s/it]"
     ]
    },
    {
     "name": "stderr",
     "output_type": "stream",
     "text": [
      "\r",
      "Calculating aggregate:   8%|▊         | 24/296 [03:34<44:17,  9.77s/it]"
     ]
    },
    {
     "name": "stderr",
     "output_type": "stream",
     "text": [
      "\r",
      "Calculating aggregate:   8%|▊         | 25/296 [03:42<40:39,  9.00s/it]"
     ]
    },
    {
     "name": "stderr",
     "output_type": "stream",
     "text": [
      "\r",
      "Calculating aggregate:   9%|▉         | 26/296 [03:46<33:57,  7.54s/it]"
     ]
    },
    {
     "name": "stderr",
     "output_type": "stream",
     "text": [
      "\r",
      "Calculating aggregate:   9%|▉         | 27/296 [03:50<29:46,  6.64s/it]"
     ]
    },
    {
     "name": "stderr",
     "output_type": "stream",
     "text": [
      "\r",
      "Calculating aggregate:   9%|▉         | 28/296 [04:05<40:41,  9.11s/it]"
     ]
    },
    {
     "name": "stderr",
     "output_type": "stream",
     "text": [
      "\r",
      "Calculating aggregate:  10%|▉         | 29/296 [04:11<36:33,  8.22s/it]"
     ]
    },
    {
     "name": "stderr",
     "output_type": "stream",
     "text": [
      "\r",
      "Calculating aggregate:  10%|█         | 30/296 [04:16<31:59,  7.22s/it]"
     ]
    },
    {
     "name": "stderr",
     "output_type": "stream",
     "text": [
      "\r",
      "Calculating aggregate:  10%|█         | 31/296 [04:30<40:28,  9.16s/it]"
     ]
    },
    {
     "name": "stderr",
     "output_type": "stream",
     "text": [
      "\r",
      "Calculating aggregate:  11%|█         | 32/296 [04:44<46:34, 10.59s/it]"
     ]
    },
    {
     "name": "stderr",
     "output_type": "stream",
     "text": [
      "\r",
      "Calculating aggregate:  11%|█         | 33/296 [04:51<42:08,  9.61s/it]"
     ]
    },
    {
     "name": "stderr",
     "output_type": "stream",
     "text": [
      "\r",
      "Calculating aggregate:  11%|█▏        | 34/296 [04:54<33:17,  7.63s/it]"
     ]
    },
    {
     "name": "stderr",
     "output_type": "stream",
     "text": [
      "\r",
      "Calculating aggregate:  12%|█▏        | 35/296 [05:05<37:12,  8.55s/it]"
     ]
    },
    {
     "name": "stderr",
     "output_type": "stream",
     "text": [
      "\r",
      "Calculating aggregate:  12%|█▏        | 36/296 [05:13<36:09,  8.34s/it]"
     ]
    },
    {
     "name": "stderr",
     "output_type": "stream",
     "text": [
      "\r",
      "Calculating aggregate:  12%|█▎        | 37/296 [05:17<30:56,  7.17s/it]"
     ]
    },
    {
     "name": "stderr",
     "output_type": "stream",
     "text": [
      "\r",
      "Calculating aggregate:  13%|█▎        | 38/296 [05:24<30:17,  7.05s/it]"
     ]
    },
    {
     "name": "stderr",
     "output_type": "stream",
     "text": [
      "\r",
      "Calculating aggregate:  13%|█▎        | 39/296 [05:30<28:43,  6.71s/it]"
     ]
    },
    {
     "name": "stderr",
     "output_type": "stream",
     "text": [
      "\r",
      "Calculating aggregate:  14%|█▎        | 40/296 [05:39<31:23,  7.36s/it]"
     ]
    },
    {
     "name": "stderr",
     "output_type": "stream",
     "text": [
      "\r",
      "Calculating aggregate:  14%|█▍        | 41/296 [05:47<32:24,  7.62s/it]"
     ]
    },
    {
     "name": "stderr",
     "output_type": "stream",
     "text": [
      "\r",
      "Calculating aggregate:  14%|█▍        | 42/296 [05:52<28:23,  6.71s/it]"
     ]
    },
    {
     "name": "stderr",
     "output_type": "stream",
     "text": [
      "\r",
      "Calculating aggregate:  15%|█▍        | 43/296 [06:00<30:09,  7.15s/it]"
     ]
    },
    {
     "name": "stderr",
     "output_type": "stream",
     "text": [
      "\r",
      "Calculating aggregate:  15%|█▍        | 44/296 [06:03<25:29,  6.07s/it]"
     ]
    },
    {
     "name": "stderr",
     "output_type": "stream",
     "text": [
      "\r",
      "Calculating aggregate:  15%|█▌        | 45/296 [06:11<27:35,  6.59s/it]"
     ]
    },
    {
     "name": "stderr",
     "output_type": "stream",
     "text": [
      "\r",
      "Calculating aggregate:  16%|█▌        | 46/296 [06:20<30:33,  7.33s/it]"
     ]
    },
    {
     "name": "stderr",
     "output_type": "stream",
     "text": [
      "\r",
      "Calculating aggregate:  16%|█▌        | 47/296 [06:30<33:37,  8.10s/it]"
     ]
    },
    {
     "name": "stderr",
     "output_type": "stream",
     "text": [
      "\r",
      "Calculating aggregate:  16%|█▌        | 48/296 [06:45<42:31, 10.29s/it]"
     ]
    },
    {
     "name": "stderr",
     "output_type": "stream",
     "text": [
      "\r",
      "Calculating aggregate:  17%|█▋        | 49/296 [06:57<44:16, 10.75s/it]"
     ]
    },
    {
     "name": "stderr",
     "output_type": "stream",
     "text": [
      "\r",
      "Calculating aggregate:  17%|█▋        | 50/296 [07:07<42:55, 10.47s/it]"
     ]
    },
    {
     "name": "stderr",
     "output_type": "stream",
     "text": [
      "\r",
      "Calculating aggregate:  17%|█▋        | 51/296 [07:16<40:46,  9.99s/it]"
     ]
    },
    {
     "name": "stderr",
     "output_type": "stream",
     "text": [
      "\r",
      "Calculating aggregate:  18%|█▊        | 52/296 [07:26<40:42, 10.01s/it]"
     ]
    },
    {
     "name": "stderr",
     "output_type": "stream",
     "text": [
      "\r",
      "Calculating aggregate:  18%|█▊        | 53/296 [07:39<43:40, 10.79s/it]"
     ]
    },
    {
     "name": "stderr",
     "output_type": "stream",
     "text": [
      "\r",
      "Calculating aggregate:  18%|█▊        | 54/296 [07:46<39:10,  9.71s/it]"
     ]
    },
    {
     "name": "stderr",
     "output_type": "stream",
     "text": [
      "\r",
      "Calculating aggregate:  19%|█▊        | 55/296 [07:57<41:08, 10.24s/it]"
     ]
    },
    {
     "name": "stderr",
     "output_type": "stream",
     "text": [
      "\r",
      "Calculating aggregate:  19%|█▉        | 56/296 [08:11<44:49, 11.21s/it]"
     ]
    },
    {
     "name": "stderr",
     "output_type": "stream",
     "text": [
      "\r",
      "Calculating aggregate:  19%|█▉        | 57/296 [08:34<58:38, 14.72s/it]"
     ]
    },
    {
     "name": "stderr",
     "output_type": "stream",
     "text": [
      "\r",
      "Calculating aggregate:  20%|█▉        | 58/296 [08:44<52:47, 13.31s/it]"
     ]
    },
    {
     "name": "stderr",
     "output_type": "stream",
     "text": [
      "\r",
      "Calculating aggregate:  20%|█▉        | 59/296 [08:49<42:52, 10.86s/it]"
     ]
    },
    {
     "name": "stderr",
     "output_type": "stream",
     "text": [
      "\r",
      "Calculating aggregate:  20%|██        | 60/296 [08:59<42:24, 10.78s/it]"
     ]
    },
    {
     "name": "stderr",
     "output_type": "stream",
     "text": [
      "\r",
      "Calculating aggregate:  21%|██        | 61/296 [09:01<31:59,  8.17s/it]"
     ]
    },
    {
     "name": "stderr",
     "output_type": "stream",
     "text": [
      "\r",
      "Calculating aggregate:  21%|██        | 62/296 [09:09<31:14,  8.01s/it]"
     ]
    },
    {
     "name": "stderr",
     "output_type": "stream",
     "text": [
      "\r",
      "Calculating aggregate:  21%|██▏       | 63/296 [09:19<33:37,  8.66s/it]"
     ]
    },
    {
     "name": "stderr",
     "output_type": "stream",
     "text": [
      "\r",
      "Calculating aggregate:  22%|██▏       | 64/296 [09:28<33:08,  8.57s/it]"
     ]
    },
    {
     "name": "stderr",
     "output_type": "stream",
     "text": [
      "\r",
      "Calculating aggregate:  22%|██▏       | 65/296 [09:48<46:08, 11.98s/it]"
     ]
    },
    {
     "name": "stderr",
     "output_type": "stream",
     "text": [
      "\r",
      "Calculating aggregate:  22%|██▏       | 66/296 [09:55<40:21, 10.53s/it]"
     ]
    },
    {
     "name": "stderr",
     "output_type": "stream",
     "text": [
      "\r",
      "Calculating aggregate:  23%|██▎       | 67/296 [10:00<34:23,  9.01s/it]"
     ]
    },
    {
     "name": "stderr",
     "output_type": "stream",
     "text": [
      "\r",
      "Calculating aggregate:  23%|██▎       | 68/296 [10:07<32:10,  8.47s/it]"
     ]
    },
    {
     "name": "stderr",
     "output_type": "stream",
     "text": [
      "\r",
      "Calculating aggregate:  23%|██▎       | 69/296 [10:12<27:56,  7.38s/it]"
     ]
    },
    {
     "name": "stderr",
     "output_type": "stream",
     "text": [
      "\r",
      "Calculating aggregate:  24%|██▎       | 70/296 [10:16<23:32,  6.25s/it]"
     ]
    },
    {
     "name": "stderr",
     "output_type": "stream",
     "text": [
      "\r",
      "Calculating aggregate:  24%|██▍       | 71/296 [10:23<24:24,  6.51s/it]"
     ]
    },
    {
     "name": "stderr",
     "output_type": "stream",
     "text": [
      "\r",
      "Calculating aggregate:  24%|██▍       | 72/296 [10:36<32:03,  8.59s/it]"
     ]
    },
    {
     "name": "stderr",
     "output_type": "stream",
     "text": [
      "\r",
      "Calculating aggregate:  25%|██▍       | 73/296 [10:39<25:06,  6.76s/it]"
     ]
    },
    {
     "name": "stderr",
     "output_type": "stream",
     "text": [
      "\r",
      "Calculating aggregate:  25%|██▌       | 74/296 [10:54<34:23,  9.29s/it]"
     ]
    },
    {
     "name": "stderr",
     "output_type": "stream",
     "text": [
      "\r",
      "Calculating aggregate:  25%|██▌       | 75/296 [11:04<34:56,  9.49s/it]"
     ]
    },
    {
     "name": "stderr",
     "output_type": "stream",
     "text": [
      "\r",
      "Calculating aggregate:  26%|██▌       | 76/296 [11:09<29:40,  8.09s/it]"
     ]
    },
    {
     "name": "stderr",
     "output_type": "stream",
     "text": [
      "\r",
      "Calculating aggregate:  26%|██▌       | 77/296 [11:12<24:37,  6.75s/it]"
     ]
    },
    {
     "name": "stderr",
     "output_type": "stream",
     "text": [
      "\r",
      "Calculating aggregate:  26%|██▋       | 78/296 [11:25<30:43,  8.46s/it]"
     ]
    },
    {
     "name": "stderr",
     "output_type": "stream",
     "text": [
      "\r",
      "Calculating aggregate:  27%|██▋       | 79/296 [11:28<24:41,  6.82s/it]"
     ]
    },
    {
     "name": "stderr",
     "output_type": "stream",
     "text": [
      "\r",
      "Calculating aggregate:  27%|██▋       | 80/296 [11:38<27:49,  7.73s/it]"
     ]
    },
    {
     "name": "stderr",
     "output_type": "stream",
     "text": [
      "\r",
      "Calculating aggregate:  27%|██▋       | 81/296 [11:41<22:45,  6.35s/it]"
     ]
    },
    {
     "name": "stderr",
     "output_type": "stream",
     "text": [
      "\r",
      "Calculating aggregate:  28%|██▊       | 82/296 [11:51<27:07,  7.60s/it]"
     ]
    },
    {
     "name": "stderr",
     "output_type": "stream",
     "text": [
      "\r",
      "Calculating aggregate:  28%|██▊       | 83/296 [12:00<28:00,  7.89s/it]"
     ]
    },
    {
     "name": "stderr",
     "output_type": "stream",
     "text": [
      "\r",
      "Calculating aggregate:  28%|██▊       | 84/296 [12:04<23:14,  6.58s/it]"
     ]
    },
    {
     "name": "stderr",
     "output_type": "stream",
     "text": [
      "\r",
      "Calculating aggregate:  29%|██▊       | 85/296 [12:05<17:24,  4.95s/it]"
     ]
    },
    {
     "name": "stderr",
     "output_type": "stream",
     "text": [
      "\r",
      "Calculating aggregate:  29%|██▉       | 86/296 [12:17<24:33,  7.01s/it]"
     ]
    },
    {
     "name": "stderr",
     "output_type": "stream",
     "text": [
      "\r",
      "Calculating aggregate:  29%|██▉       | 87/296 [12:27<28:00,  8.04s/it]"
     ]
    },
    {
     "name": "stderr",
     "output_type": "stream",
     "text": [
      "\r",
      "Calculating aggregate:  30%|██▉       | 88/296 [12:34<26:41,  7.70s/it]"
     ]
    },
    {
     "name": "stderr",
     "output_type": "stream",
     "text": [
      "\r",
      "Calculating aggregate:  30%|███       | 89/296 [12:53<38:31, 11.17s/it]"
     ]
    },
    {
     "name": "stderr",
     "output_type": "stream",
     "text": [
      "\r",
      "Calculating aggregate:  30%|███       | 90/296 [13:01<34:50, 10.15s/it]"
     ]
    },
    {
     "name": "stderr",
     "output_type": "stream",
     "text": [
      "\r",
      "Calculating aggregate:  31%|███       | 91/296 [13:28<51:40, 15.13s/it]"
     ]
    },
    {
     "name": "stderr",
     "output_type": "stream",
     "text": [
      "\r",
      "Calculating aggregate:  31%|███       | 92/296 [13:38<46:31, 13.68s/it]"
     ]
    },
    {
     "name": "stderr",
     "output_type": "stream",
     "text": [
      "\r",
      "Calculating aggregate:  31%|███▏      | 93/296 [14:12<1:06:30, 19.66s/it]"
     ]
    },
    {
     "name": "stderr",
     "output_type": "stream",
     "text": [
      "\r",
      "Calculating aggregate:  32%|███▏      | 94/296 [14:15<49:22, 14.66s/it]  "
     ]
    },
    {
     "name": "stderr",
     "output_type": "stream",
     "text": [
      "\r",
      "Calculating aggregate:  32%|███▏      | 95/296 [14:27<47:17, 14.12s/it]"
     ]
    },
    {
     "name": "stderr",
     "output_type": "stream",
     "text": [
      "\r",
      "Calculating aggregate:  32%|███▏      | 96/296 [14:31<36:32, 10.96s/it]"
     ]
    },
    {
     "name": "stderr",
     "output_type": "stream",
     "text": [
      "\r",
      "Calculating aggregate:  33%|███▎      | 97/296 [14:40<34:22, 10.36s/it]"
     ]
    },
    {
     "name": "stderr",
     "output_type": "stream",
     "text": [
      "\r",
      "Calculating aggregate:  33%|███▎      | 98/296 [14:48<31:39,  9.59s/it]"
     ]
    },
    {
     "name": "stderr",
     "output_type": "stream",
     "text": [
      "\r",
      "Calculating aggregate:  33%|███▎      | 99/296 [14:57<31:15,  9.52s/it]"
     ]
    },
    {
     "name": "stderr",
     "output_type": "stream",
     "text": [
      "\r",
      "Calculating aggregate:  34%|███▍      | 100/296 [15:06<30:21,  9.29s/it]"
     ]
    },
    {
     "name": "stderr",
     "output_type": "stream",
     "text": [
      "\r",
      "Calculating aggregate:  34%|███▍      | 101/296 [15:13<28:00,  8.62s/it]"
     ]
    },
    {
     "name": "stderr",
     "output_type": "stream",
     "text": [
      "\r",
      "Calculating aggregate:  34%|███▍      | 102/296 [15:24<30:16,  9.36s/it]"
     ]
    },
    {
     "name": "stderr",
     "output_type": "stream",
     "text": [
      "\r",
      "Calculating aggregate:  35%|███▍      | 103/296 [15:42<38:37, 12.01s/it]"
     ]
    },
    {
     "name": "stderr",
     "output_type": "stream",
     "text": [
      "\r",
      "Calculating aggregate:  35%|███▌      | 104/296 [15:45<29:39,  9.27s/it]"
     ]
    },
    {
     "name": "stderr",
     "output_type": "stream",
     "text": [
      "\r",
      "Calculating aggregate:  35%|███▌      | 105/296 [15:49<24:08,  7.58s/it]"
     ]
    },
    {
     "name": "stderr",
     "output_type": "stream",
     "text": [
      "\r",
      "Calculating aggregate:  36%|███▌      | 106/296 [15:56<23:34,  7.44s/it]"
     ]
    },
    {
     "name": "stderr",
     "output_type": "stream",
     "text": [
      "\r",
      "Calculating aggregate:  36%|███▌      | 107/296 [16:00<20:41,  6.57s/it]"
     ]
    },
    {
     "name": "stderr",
     "output_type": "stream",
     "text": [
      "\r",
      "Calculating aggregate:  36%|███▋      | 108/296 [16:07<20:14,  6.46s/it]"
     ]
    },
    {
     "name": "stderr",
     "output_type": "stream",
     "text": [
      "\r",
      "Calculating aggregate:  37%|███▋      | 109/296 [16:19<25:16,  8.11s/it]"
     ]
    },
    {
     "name": "stderr",
     "output_type": "stream",
     "text": [
      "\r",
      "Calculating aggregate:  37%|███▋      | 110/296 [16:25<23:21,  7.53s/it]"
     ]
    },
    {
     "name": "stderr",
     "output_type": "stream",
     "text": [
      "\r",
      "Calculating aggregate:  38%|███▊      | 111/296 [16:33<23:38,  7.67s/it]"
     ]
    },
    {
     "name": "stderr",
     "output_type": "stream",
     "text": [
      "\r",
      "Calculating aggregate:  38%|███▊      | 112/296 [16:36<19:13,  6.27s/it]"
     ]
    },
    {
     "name": "stderr",
     "output_type": "stream",
     "text": [
      "\r",
      "Calculating aggregate:  38%|███▊      | 113/296 [16:44<20:44,  6.80s/it]"
     ]
    },
    {
     "name": "stderr",
     "output_type": "stream",
     "text": [
      "\r",
      "Calculating aggregate:  39%|███▊      | 114/296 [16:50<20:07,  6.64s/it]"
     ]
    },
    {
     "name": "stderr",
     "output_type": "stream",
     "text": [
      "\r",
      "Calculating aggregate:  39%|███▉      | 115/296 [16:57<20:18,  6.73s/it]"
     ]
    },
    {
     "name": "stderr",
     "output_type": "stream",
     "text": [
      "\r",
      "Calculating aggregate:  39%|███▉      | 116/296 [17:07<22:48,  7.60s/it]"
     ]
    },
    {
     "name": "stderr",
     "output_type": "stream",
     "text": [
      "\r",
      "Calculating aggregate:  40%|███▉      | 117/296 [17:11<19:42,  6.60s/it]"
     ]
    },
    {
     "name": "stderr",
     "output_type": "stream",
     "text": [
      "\r",
      "Calculating aggregate:  40%|███▉      | 118/296 [17:18<20:08,  6.79s/it]"
     ]
    },
    {
     "name": "stderr",
     "output_type": "stream",
     "text": [
      "\r",
      "Calculating aggregate:  40%|████      | 119/296 [17:24<19:33,  6.63s/it]"
     ]
    },
    {
     "name": "stderr",
     "output_type": "stream",
     "text": [
      "\r",
      "Calculating aggregate:  41%|████      | 120/296 [17:42<29:26, 10.04s/it]"
     ]
    },
    {
     "name": "stderr",
     "output_type": "stream",
     "text": [
      "\r",
      "Calculating aggregate:  41%|████      | 121/296 [17:50<26:46,  9.18s/it]"
     ]
    },
    {
     "name": "stderr",
     "output_type": "stream",
     "text": [
      "\r",
      "Calculating aggregate:  41%|████      | 122/296 [18:02<29:37, 10.22s/it]"
     ]
    },
    {
     "name": "stderr",
     "output_type": "stream",
     "text": [
      "\r",
      "Calculating aggregate:  42%|████▏     | 123/296 [18:06<24:21,  8.45s/it]"
     ]
    },
    {
     "name": "stderr",
     "output_type": "stream",
     "text": [
      "\r",
      "Calculating aggregate:  42%|████▏     | 124/296 [18:11<21:02,  7.34s/it]"
     ]
    },
    {
     "name": "stderr",
     "output_type": "stream",
     "text": [
      "\r",
      "Calculating aggregate:  42%|████▏     | 125/296 [18:20<21:48,  7.65s/it]"
     ]
    },
    {
     "name": "stderr",
     "output_type": "stream",
     "text": [
      "\r",
      "Calculating aggregate:  43%|████▎     | 126/296 [18:28<22:03,  7.79s/it]"
     ]
    },
    {
     "name": "stderr",
     "output_type": "stream",
     "text": [
      "\r",
      "Calculating aggregate:  43%|████▎     | 127/296 [18:41<26:25,  9.38s/it]"
     ]
    },
    {
     "name": "stderr",
     "output_type": "stream",
     "text": [
      "\r",
      "Calculating aggregate:  43%|████▎     | 128/296 [18:47<23:26,  8.37s/it]"
     ]
    },
    {
     "name": "stderr",
     "output_type": "stream",
     "text": [
      "\r",
      "Calculating aggregate:  44%|████▎     | 129/296 [18:59<26:40,  9.58s/it]"
     ]
    },
    {
     "name": "stderr",
     "output_type": "stream",
     "text": [
      "\r",
      "Calculating aggregate:  44%|████▍     | 130/296 [19:02<20:33,  7.43s/it]"
     ]
    },
    {
     "name": "stderr",
     "output_type": "stream",
     "text": [
      "\r",
      "Calculating aggregate:  44%|████▍     | 131/296 [19:18<27:30, 10.00s/it]"
     ]
    },
    {
     "name": "stderr",
     "output_type": "stream",
     "text": [
      "\r",
      "Calculating aggregate:  45%|████▍     | 132/296 [19:22<23:00,  8.42s/it]"
     ]
    },
    {
     "name": "stderr",
     "output_type": "stream",
     "text": [
      "\r",
      "Calculating aggregate:  45%|████▍     | 133/296 [19:25<17:57,  6.61s/it]"
     ]
    },
    {
     "name": "stderr",
     "output_type": "stream",
     "text": [
      "\r",
      "Calculating aggregate:  45%|████▌     | 134/296 [19:30<16:44,  6.20s/it]"
     ]
    },
    {
     "name": "stderr",
     "output_type": "stream",
     "text": [
      "\r",
      "Calculating aggregate:  46%|████▌     | 135/296 [19:46<24:26,  9.11s/it]"
     ]
    },
    {
     "name": "stderr",
     "output_type": "stream",
     "text": [
      "\r",
      "Calculating aggregate:  46%|████▌     | 136/296 [20:01<28:50, 10.81s/it]"
     ]
    },
    {
     "name": "stderr",
     "output_type": "stream",
     "text": [
      "\r",
      "Calculating aggregate:  46%|████▋     | 137/296 [20:07<25:25,  9.59s/it]"
     ]
    },
    {
     "name": "stderr",
     "output_type": "stream",
     "text": [
      "\r",
      "Calculating aggregate:  47%|████▋     | 138/296 [20:25<31:28, 11.95s/it]"
     ]
    },
    {
     "name": "stderr",
     "output_type": "stream",
     "text": [
      "\r",
      "Calculating aggregate:  47%|████▋     | 139/296 [20:31<26:35, 10.16s/it]"
     ]
    },
    {
     "name": "stderr",
     "output_type": "stream",
     "text": [
      "\r",
      "Calculating aggregate:  47%|████▋     | 140/296 [20:34<21:14,  8.17s/it]"
     ]
    },
    {
     "name": "stderr",
     "output_type": "stream",
     "text": [
      "\r",
      "Calculating aggregate:  48%|████▊     | 141/296 [20:49<26:05, 10.10s/it]"
     ]
    },
    {
     "name": "stderr",
     "output_type": "stream",
     "text": [
      "\r",
      "Calculating aggregate:  48%|████▊     | 142/296 [20:54<21:58,  8.56s/it]"
     ]
    },
    {
     "name": "stderr",
     "output_type": "stream",
     "text": [
      "\r",
      "Calculating aggregate:  48%|████▊     | 143/296 [21:03<22:11,  8.70s/it]"
     ]
    },
    {
     "name": "stderr",
     "output_type": "stream",
     "text": [
      "\r",
      "Calculating aggregate:  49%|████▊     | 144/296 [21:06<17:37,  6.96s/it]"
     ]
    },
    {
     "name": "stderr",
     "output_type": "stream",
     "text": [
      "\r",
      "Calculating aggregate:  49%|████▉     | 145/296 [21:10<15:22,  6.11s/it]"
     ]
    },
    {
     "name": "stderr",
     "output_type": "stream",
     "text": [
      "\r",
      "Calculating aggregate:  49%|████▉     | 146/296 [21:22<19:43,  7.89s/it]"
     ]
    },
    {
     "name": "stderr",
     "output_type": "stream",
     "text": [
      "\r",
      "Calculating aggregate:  50%|████▉     | 147/296 [21:26<16:58,  6.83s/it]"
     ]
    },
    {
     "name": "stderr",
     "output_type": "stream",
     "text": [
      "\r",
      "Calculating aggregate:  50%|█████     | 148/296 [21:32<16:16,  6.60s/it]"
     ]
    },
    {
     "name": "stderr",
     "output_type": "stream",
     "text": [
      "\r",
      "Calculating aggregate:  50%|█████     | 149/296 [21:41<17:56,  7.32s/it]"
     ]
    },
    {
     "name": "stderr",
     "output_type": "stream",
     "text": [
      "\r",
      "Calculating aggregate:  51%|█████     | 150/296 [21:46<15:43,  6.46s/it]"
     ]
    },
    {
     "name": "stderr",
     "output_type": "stream",
     "text": [
      "\r",
      "Calculating aggregate:  51%|█████     | 151/296 [21:52<15:06,  6.25s/it]"
     ]
    },
    {
     "name": "stderr",
     "output_type": "stream",
     "text": [
      "\r",
      "Calculating aggregate:  51%|█████▏    | 152/296 [21:58<15:03,  6.28s/it]"
     ]
    },
    {
     "name": "stderr",
     "output_type": "stream",
     "text": [
      "\r",
      "Calculating aggregate:  52%|█████▏    | 153/296 [22:05<15:15,  6.40s/it]"
     ]
    },
    {
     "name": "stderr",
     "output_type": "stream",
     "text": [
      "\r",
      "Calculating aggregate:  52%|█████▏    | 154/296 [22:19<20:46,  8.78s/it]"
     ]
    },
    {
     "name": "stderr",
     "output_type": "stream",
     "text": [
      "\r",
      "Calculating aggregate:  52%|█████▏    | 155/296 [22:27<19:41,  8.38s/it]"
     ]
    },
    {
     "name": "stderr",
     "output_type": "stream",
     "text": [
      "\r",
      "Calculating aggregate:  53%|█████▎    | 156/296 [22:31<16:35,  7.11s/it]"
     ]
    },
    {
     "name": "stderr",
     "output_type": "stream",
     "text": [
      "\r",
      "Calculating aggregate:  53%|█████▎    | 157/296 [22:36<15:25,  6.66s/it]"
     ]
    },
    {
     "name": "stderr",
     "output_type": "stream",
     "text": [
      "\r",
      "Calculating aggregate:  53%|█████▎    | 158/296 [22:55<23:41, 10.30s/it]"
     ]
    },
    {
     "name": "stderr",
     "output_type": "stream",
     "text": [
      "\r",
      "Calculating aggregate:  54%|█████▎    | 159/296 [22:59<19:09,  8.39s/it]"
     ]
    },
    {
     "name": "stderr",
     "output_type": "stream",
     "text": [
      "\r",
      "Calculating aggregate:  54%|█████▍    | 160/296 [23:03<16:19,  7.21s/it]"
     ]
    },
    {
     "name": "stderr",
     "output_type": "stream",
     "text": [
      "\r",
      "Calculating aggregate:  54%|█████▍    | 161/296 [23:08<14:30,  6.45s/it]"
     ]
    },
    {
     "name": "stderr",
     "output_type": "stream",
     "text": [
      "\r",
      "Calculating aggregate:  55%|█████▍    | 162/296 [23:27<22:37, 10.13s/it]"
     ]
    },
    {
     "name": "stderr",
     "output_type": "stream",
     "text": [
      "\r",
      "Calculating aggregate:  55%|█████▌    | 163/296 [23:36<21:57,  9.90s/it]"
     ]
    },
    {
     "name": "stderr",
     "output_type": "stream",
     "text": [
      "\r",
      "Calculating aggregate:  55%|█████▌    | 164/296 [23:38<16:27,  7.48s/it]"
     ]
    },
    {
     "name": "stderr",
     "output_type": "stream",
     "text": [
      "\r",
      "Calculating aggregate:  56%|█████▌    | 165/296 [23:42<14:10,  6.49s/it]"
     ]
    },
    {
     "name": "stderr",
     "output_type": "stream",
     "text": [
      "\r",
      "Calculating aggregate:  56%|█████▌    | 166/296 [23:46<12:23,  5.72s/it]"
     ]
    },
    {
     "name": "stderr",
     "output_type": "stream",
     "text": [
      "\r",
      "Calculating aggregate:  56%|█████▋    | 167/296 [23:59<16:48,  7.82s/it]"
     ]
    },
    {
     "name": "stderr",
     "output_type": "stream",
     "text": [
      "\r",
      "Calculating aggregate:  57%|█████▋    | 168/296 [24:11<19:08,  8.97s/it]"
     ]
    },
    {
     "name": "stderr",
     "output_type": "stream",
     "text": [
      "\r",
      "Calculating aggregate:  57%|█████▋    | 169/296 [24:20<19:07,  9.04s/it]"
     ]
    },
    {
     "name": "stderr",
     "output_type": "stream",
     "text": [
      "\r",
      "Calculating aggregate:  57%|█████▋    | 170/296 [24:26<17:23,  8.28s/it]"
     ]
    },
    {
     "name": "stderr",
     "output_type": "stream",
     "text": [
      "\r",
      "Calculating aggregate:  58%|█████▊    | 171/296 [24:37<18:48,  9.03s/it]"
     ]
    },
    {
     "name": "stderr",
     "output_type": "stream",
     "text": [
      "\r",
      "Calculating aggregate:  58%|█████▊    | 172/296 [24:43<16:44,  8.10s/it]"
     ]
    },
    {
     "name": "stderr",
     "output_type": "stream",
     "text": [
      "\r",
      "Calculating aggregate:  58%|█████▊    | 173/296 [24:53<17:49,  8.69s/it]"
     ]
    },
    {
     "name": "stderr",
     "output_type": "stream",
     "text": [
      "\r",
      "Calculating aggregate:  59%|█████▉    | 174/296 [25:01<17:24,  8.56s/it]"
     ]
    },
    {
     "name": "stderr",
     "output_type": "stream",
     "text": [
      "\r",
      "Calculating aggregate:  59%|█████▉    | 175/296 [25:13<18:59,  9.41s/it]"
     ]
    },
    {
     "name": "stderr",
     "output_type": "stream",
     "text": [
      "\r",
      "Calculating aggregate:  59%|█████▉    | 176/296 [25:17<15:51,  7.93s/it]"
     ]
    },
    {
     "name": "stderr",
     "output_type": "stream",
     "text": [
      "\r",
      "Calculating aggregate:  60%|█████▉    | 177/296 [25:21<13:26,  6.78s/it]"
     ]
    },
    {
     "name": "stderr",
     "output_type": "stream",
     "text": [
      "\r",
      "Calculating aggregate:  60%|██████    | 178/296 [25:23<10:27,  5.32s/it]"
     ]
    },
    {
     "name": "stderr",
     "output_type": "stream",
     "text": [
      "\r",
      "Calculating aggregate:  60%|██████    | 179/296 [25:31<11:46,  6.04s/it]"
     ]
    },
    {
     "name": "stderr",
     "output_type": "stream",
     "text": [
      "\r",
      "Calculating aggregate:  61%|██████    | 180/296 [25:37<11:28,  5.94s/it]"
     ]
    },
    {
     "name": "stderr",
     "output_type": "stream",
     "text": [
      "\r",
      "Calculating aggregate:  61%|██████    | 181/296 [25:59<20:51, 10.88s/it]"
     ]
    },
    {
     "name": "stderr",
     "output_type": "stream",
     "text": [
      "\r",
      "Calculating aggregate:  61%|██████▏   | 182/296 [26:04<17:12,  9.05s/it]"
     ]
    },
    {
     "name": "stderr",
     "output_type": "stream",
     "text": [
      "\r",
      "Calculating aggregate:  62%|██████▏   | 183/296 [26:14<17:36,  9.35s/it]"
     ]
    },
    {
     "name": "stderr",
     "output_type": "stream",
     "text": [
      "\r",
      "Calculating aggregate:  62%|██████▏   | 184/296 [26:19<14:51,  7.96s/it]"
     ]
    },
    {
     "name": "stderr",
     "output_type": "stream",
     "text": [
      "\r",
      "Calculating aggregate:  62%|██████▎   | 185/296 [26:22<12:11,  6.59s/it]"
     ]
    },
    {
     "name": "stderr",
     "output_type": "stream",
     "text": [
      "\r",
      "Calculating aggregate:  63%|██████▎   | 186/296 [26:33<14:24,  7.86s/it]"
     ]
    },
    {
     "name": "stderr",
     "output_type": "stream",
     "text": [
      "\r",
      "Calculating aggregate:  63%|██████▎   | 187/296 [26:42<14:52,  8.19s/it]"
     ]
    },
    {
     "name": "stderr",
     "output_type": "stream",
     "text": [
      "\r",
      "Calculating aggregate:  64%|██████▎   | 188/296 [26:51<15:23,  8.56s/it]"
     ]
    },
    {
     "name": "stderr",
     "output_type": "stream",
     "text": [
      "\r",
      "Calculating aggregate:  64%|██████▍   | 189/296 [26:57<13:42,  7.68s/it]"
     ]
    },
    {
     "name": "stderr",
     "output_type": "stream",
     "text": [
      "\r",
      "Calculating aggregate:  64%|██████▍   | 190/296 [27:05<13:41,  7.75s/it]"
     ]
    },
    {
     "name": "stderr",
     "output_type": "stream",
     "text": [
      "\r",
      "Calculating aggregate:  65%|██████▍   | 191/296 [27:09<11:41,  6.68s/it]"
     ]
    },
    {
     "name": "stderr",
     "output_type": "stream",
     "text": [
      "\r",
      "Calculating aggregate:  65%|██████▍   | 192/296 [27:11<09:02,  5.22s/it]"
     ]
    },
    {
     "name": "stderr",
     "output_type": "stream",
     "text": [
      "\r",
      "Calculating aggregate:  65%|██████▌   | 193/296 [27:21<11:23,  6.63s/it]"
     ]
    },
    {
     "name": "stderr",
     "output_type": "stream",
     "text": [
      "\r",
      "Calculating aggregate:  66%|██████▌   | 194/296 [27:33<14:25,  8.49s/it]"
     ]
    },
    {
     "name": "stderr",
     "output_type": "stream",
     "text": [
      "\r",
      "Calculating aggregate:  66%|██████▌   | 195/296 [27:41<13:38,  8.10s/it]"
     ]
    },
    {
     "name": "stderr",
     "output_type": "stream",
     "text": [
      "\r",
      "Calculating aggregate:  66%|██████▌   | 196/296 [27:49<13:38,  8.19s/it]"
     ]
    },
    {
     "name": "stderr",
     "output_type": "stream",
     "text": [
      "\r",
      "Calculating aggregate:  67%|██████▋   | 197/296 [27:54<12:07,  7.35s/it]"
     ]
    },
    {
     "name": "stderr",
     "output_type": "stream",
     "text": [
      "\r",
      "Calculating aggregate:  67%|██████▋   | 198/296 [28:00<10:55,  6.69s/it]"
     ]
    },
    {
     "name": "stderr",
     "output_type": "stream",
     "text": [
      "\r",
      "Calculating aggregate:  67%|██████▋   | 199/296 [28:05<10:05,  6.24s/it]"
     ]
    },
    {
     "name": "stderr",
     "output_type": "stream",
     "text": [
      "\r",
      "Calculating aggregate:  68%|██████▊   | 200/296 [28:11<10:13,  6.39s/it]"
     ]
    },
    {
     "name": "stderr",
     "output_type": "stream",
     "text": [
      "\r",
      "Calculating aggregate:  68%|██████▊   | 201/296 [28:28<15:09,  9.58s/it]"
     ]
    },
    {
     "name": "stderr",
     "output_type": "stream",
     "text": [
      "\r",
      "Calculating aggregate:  68%|██████▊   | 202/296 [28:30<11:26,  7.30s/it]"
     ]
    },
    {
     "name": "stderr",
     "output_type": "stream",
     "text": [
      "\r",
      "Calculating aggregate:  69%|██████▊   | 203/296 [28:33<09:06,  5.88s/it]"
     ]
    },
    {
     "name": "stderr",
     "output_type": "stream",
     "text": [
      "\r",
      "Calculating aggregate:  69%|██████▉   | 204/296 [28:39<09:10,  5.98s/it]"
     ]
    },
    {
     "name": "stderr",
     "output_type": "stream",
     "text": [
      "\r",
      "Calculating aggregate:  69%|██████▉   | 205/296 [28:45<08:46,  5.79s/it]"
     ]
    },
    {
     "name": "stderr",
     "output_type": "stream",
     "text": [
      "\r",
      "Calculating aggregate:  70%|██████▉   | 206/296 [28:49<08:04,  5.38s/it]"
     ]
    },
    {
     "name": "stderr",
     "output_type": "stream",
     "text": [
      "\r",
      "Calculating aggregate:  70%|██████▉   | 207/296 [28:52<06:58,  4.70s/it]"
     ]
    },
    {
     "name": "stderr",
     "output_type": "stream",
     "text": [
      "\r",
      "Calculating aggregate:  70%|███████   | 208/296 [28:56<06:39,  4.53s/it]"
     ]
    },
    {
     "name": "stderr",
     "output_type": "stream",
     "text": [
      "\r",
      "Calculating aggregate:  71%|███████   | 209/296 [29:10<10:22,  7.15s/it]"
     ]
    },
    {
     "name": "stderr",
     "output_type": "stream",
     "text": [
      "\r",
      "Calculating aggregate:  71%|███████   | 210/296 [29:13<08:35,  6.00s/it]"
     ]
    },
    {
     "name": "stderr",
     "output_type": "stream",
     "text": [
      "\r",
      "Calculating aggregate:  71%|███████▏  | 211/296 [29:16<07:19,  5.17s/it]"
     ]
    },
    {
     "name": "stderr",
     "output_type": "stream",
     "text": [
      "\r",
      "Calculating aggregate:  72%|███████▏  | 212/296 [29:21<07:15,  5.19s/it]"
     ]
    },
    {
     "name": "stderr",
     "output_type": "stream",
     "text": [
      "\r",
      "Calculating aggregate:  72%|███████▏  | 213/296 [29:28<07:35,  5.49s/it]"
     ]
    },
    {
     "name": "stderr",
     "output_type": "stream",
     "text": [
      "\r",
      "Calculating aggregate:  72%|███████▏  | 214/296 [29:42<11:08,  8.16s/it]"
     ]
    },
    {
     "name": "stderr",
     "output_type": "stream",
     "text": [
      "\r",
      "Calculating aggregate:  73%|███████▎  | 215/296 [29:53<12:17,  9.11s/it]"
     ]
    },
    {
     "name": "stderr",
     "output_type": "stream",
     "text": [
      "\r",
      "Calculating aggregate:  73%|███████▎  | 216/296 [29:57<10:00,  7.51s/it]"
     ]
    },
    {
     "name": "stderr",
     "output_type": "stream",
     "text": [
      "\r",
      "Calculating aggregate:  73%|███████▎  | 217/296 [29:59<07:38,  5.81s/it]"
     ]
    },
    {
     "name": "stderr",
     "output_type": "stream",
     "text": [
      "\r",
      "Calculating aggregate:  74%|███████▎  | 218/296 [30:11<09:55,  7.64s/it]"
     ]
    },
    {
     "name": "stderr",
     "output_type": "stream",
     "text": [
      "\r",
      "Calculating aggregate:  74%|███████▍  | 219/296 [30:13<07:52,  6.13s/it]"
     ]
    },
    {
     "name": "stderr",
     "output_type": "stream",
     "text": [
      "\r",
      "Calculating aggregate:  74%|███████▍  | 220/296 [30:19<07:25,  5.86s/it]"
     ]
    },
    {
     "name": "stderr",
     "output_type": "stream",
     "text": [
      "\r",
      "Calculating aggregate:  75%|███████▍  | 221/296 [30:32<10:00,  8.01s/it]"
     ]
    },
    {
     "name": "stderr",
     "output_type": "stream",
     "text": [
      "\r",
      "Calculating aggregate:  75%|███████▌  | 222/296 [30:45<11:52,  9.63s/it]"
     ]
    },
    {
     "name": "stderr",
     "output_type": "stream",
     "text": [
      "\r",
      "Calculating aggregate:  75%|███████▌  | 223/296 [30:54<11:19,  9.31s/it]"
     ]
    },
    {
     "name": "stderr",
     "output_type": "stream",
     "text": [
      "\r",
      "Calculating aggregate:  76%|███████▌  | 224/296 [31:07<12:37, 10.52s/it]"
     ]
    },
    {
     "name": "stderr",
     "output_type": "stream",
     "text": [
      "\r",
      "Calculating aggregate:  76%|███████▌  | 225/296 [31:11<10:04,  8.51s/it]"
     ]
    },
    {
     "name": "stderr",
     "output_type": "stream",
     "text": [
      "\r",
      "Calculating aggregate:  76%|███████▋  | 226/296 [31:20<10:13,  8.76s/it]"
     ]
    },
    {
     "name": "stderr",
     "output_type": "stream",
     "text": [
      "\r",
      "Calculating aggregate:  77%|███████▋  | 227/296 [31:24<08:21,  7.27s/it]"
     ]
    },
    {
     "name": "stderr",
     "output_type": "stream",
     "text": [
      "\r",
      "Calculating aggregate:  77%|███████▋  | 228/296 [31:36<10:01,  8.85s/it]"
     ]
    },
    {
     "name": "stderr",
     "output_type": "stream",
     "text": [
      "\r",
      "Calculating aggregate:  77%|███████▋  | 229/296 [31:46<10:15,  9.19s/it]"
     ]
    },
    {
     "name": "stderr",
     "output_type": "stream",
     "text": [
      "\r",
      "Calculating aggregate:  78%|███████▊  | 230/296 [31:58<11:00, 10.01s/it]"
     ]
    },
    {
     "name": "stderr",
     "output_type": "stream",
     "text": [
      "\r",
      "Calculating aggregate:  78%|███████▊  | 231/296 [32:02<08:49,  8.14s/it]"
     ]
    },
    {
     "name": "stderr",
     "output_type": "stream",
     "text": [
      "\r",
      "Calculating aggregate:  78%|███████▊  | 232/296 [32:09<08:08,  7.64s/it]"
     ]
    },
    {
     "name": "stderr",
     "output_type": "stream",
     "text": [
      "\r",
      "Calculating aggregate:  79%|███████▊  | 233/296 [32:14<07:22,  7.03s/it]"
     ]
    },
    {
     "name": "stderr",
     "output_type": "stream",
     "text": [
      "\r",
      "Calculating aggregate:  79%|███████▉  | 234/296 [32:22<07:36,  7.37s/it]"
     ]
    },
    {
     "name": "stderr",
     "output_type": "stream",
     "text": [
      "\r",
      "Calculating aggregate:  79%|███████▉  | 235/296 [32:28<06:55,  6.81s/it]"
     ]
    },
    {
     "name": "stderr",
     "output_type": "stream",
     "text": [
      "\r",
      "Calculating aggregate:  80%|███████▉  | 236/296 [32:30<05:28,  5.48s/it]"
     ]
    },
    {
     "name": "stderr",
     "output_type": "stream",
     "text": [
      "\r",
      "Calculating aggregate:  80%|████████  | 237/296 [32:49<09:18,  9.46s/it]"
     ]
    },
    {
     "name": "stderr",
     "output_type": "stream",
     "text": [
      "\r",
      "Calculating aggregate:  80%|████████  | 238/296 [32:56<08:17,  8.58s/it]"
     ]
    },
    {
     "name": "stderr",
     "output_type": "stream",
     "text": [
      "\r",
      "Calculating aggregate:  81%|████████  | 239/296 [33:08<09:21,  9.86s/it]"
     ]
    },
    {
     "name": "stderr",
     "output_type": "stream",
     "text": [
      "\r",
      "Calculating aggregate:  81%|████████  | 240/296 [33:11<07:05,  7.59s/it]"
     ]
    },
    {
     "name": "stderr",
     "output_type": "stream",
     "text": [
      "\r",
      "Calculating aggregate:  81%|████████▏ | 241/296 [33:12<05:07,  5.59s/it]"
     ]
    },
    {
     "name": "stderr",
     "output_type": "stream",
     "text": [
      "\r",
      "Calculating aggregate:  82%|████████▏ | 242/296 [33:14<04:16,  4.76s/it]"
     ]
    },
    {
     "name": "stderr",
     "output_type": "stream",
     "text": [
      "\r",
      "Calculating aggregate:  82%|████████▏ | 243/296 [33:17<03:37,  4.10s/it]"
     ]
    },
    {
     "name": "stderr",
     "output_type": "stream",
     "text": [
      "\r",
      "Calculating aggregate:  82%|████████▏ | 244/296 [33:20<03:09,  3.64s/it]"
     ]
    },
    {
     "name": "stderr",
     "output_type": "stream",
     "text": [
      "\r",
      "Calculating aggregate:  83%|████████▎ | 245/296 [33:24<03:11,  3.76s/it]"
     ]
    },
    {
     "name": "stderr",
     "output_type": "stream",
     "text": [
      "\r",
      "Calculating aggregate:  83%|████████▎ | 246/296 [33:26<02:55,  3.51s/it]"
     ]
    },
    {
     "name": "stderr",
     "output_type": "stream",
     "text": [
      "\r",
      "Calculating aggregate:  83%|████████▎ | 247/296 [33:33<03:32,  4.33s/it]"
     ]
    },
    {
     "name": "stderr",
     "output_type": "stream",
     "text": [
      "\r",
      "Calculating aggregate:  84%|████████▍ | 248/296 [33:37<03:22,  4.21s/it]"
     ]
    },
    {
     "name": "stderr",
     "output_type": "stream",
     "text": [
      "\r",
      "Calculating aggregate:  84%|████████▍ | 249/296 [33:42<03:28,  4.44s/it]"
     ]
    },
    {
     "name": "stderr",
     "output_type": "stream",
     "text": [
      "\r",
      "Calculating aggregate:  84%|████████▍ | 250/296 [33:54<05:20,  6.96s/it]"
     ]
    },
    {
     "name": "stderr",
     "output_type": "stream",
     "text": [
      "\r",
      "Calculating aggregate:  85%|████████▍ | 251/296 [34:05<05:55,  7.90s/it]"
     ]
    },
    {
     "name": "stderr",
     "output_type": "stream",
     "text": [
      "\r",
      "Calculating aggregate:  85%|████████▌ | 252/296 [34:11<05:27,  7.44s/it]"
     ]
    },
    {
     "name": "stderr",
     "output_type": "stream",
     "text": [
      "\r",
      "Calculating aggregate:  85%|████████▌ | 253/296 [34:21<05:51,  8.18s/it]"
     ]
    },
    {
     "name": "stderr",
     "output_type": "stream",
     "text": [
      "\r",
      "Calculating aggregate:  86%|████████▌ | 254/296 [34:25<04:51,  6.94s/it]"
     ]
    },
    {
     "name": "stderr",
     "output_type": "stream",
     "text": [
      "\r",
      "Calculating aggregate:  86%|████████▌ | 255/296 [34:30<04:26,  6.50s/it]"
     ]
    },
    {
     "name": "stderr",
     "output_type": "stream",
     "text": [
      "\r",
      "Calculating aggregate:  86%|████████▋ | 256/296 [34:40<05:02,  7.55s/it]"
     ]
    },
    {
     "name": "stderr",
     "output_type": "stream",
     "text": [
      "\r",
      "Calculating aggregate:  87%|████████▋ | 257/296 [34:51<05:25,  8.35s/it]"
     ]
    },
    {
     "name": "stderr",
     "output_type": "stream",
     "text": [
      "\r",
      "Calculating aggregate:  87%|████████▋ | 258/296 [35:08<07:04, 11.17s/it]"
     ]
    },
    {
     "name": "stderr",
     "output_type": "stream",
     "text": [
      "\r",
      "Calculating aggregate:  88%|████████▊ | 259/296 [35:14<05:49,  9.44s/it]"
     ]
    },
    {
     "name": "stderr",
     "output_type": "stream",
     "text": [
      "\r",
      "Calculating aggregate:  88%|████████▊ | 260/296 [35:16<04:24,  7.34s/it]"
     ]
    },
    {
     "name": "stderr",
     "output_type": "stream",
     "text": [
      "\r",
      "Calculating aggregate:  88%|████████▊ | 261/296 [35:23<04:08,  7.11s/it]"
     ]
    },
    {
     "name": "stderr",
     "output_type": "stream",
     "text": [
      "\r",
      "Calculating aggregate:  89%|████████▊ | 262/296 [35:31<04:15,  7.53s/it]"
     ]
    },
    {
     "name": "stderr",
     "output_type": "stream",
     "text": [
      "\r",
      "Calculating aggregate:  89%|████████▉ | 263/296 [35:37<03:46,  6.85s/it]"
     ]
    },
    {
     "name": "stderr",
     "output_type": "stream",
     "text": [
      "\r",
      "Calculating aggregate:  89%|████████▉ | 264/296 [35:43<03:31,  6.61s/it]"
     ]
    },
    {
     "name": "stderr",
     "output_type": "stream",
     "text": [
      "\r",
      "Calculating aggregate:  90%|████████▉ | 265/296 [36:03<05:32, 10.71s/it]"
     ]
    },
    {
     "name": "stderr",
     "output_type": "stream",
     "text": [
      "\r",
      "Calculating aggregate:  90%|████████▉ | 266/296 [36:05<04:06,  8.23s/it]"
     ]
    },
    {
     "name": "stderr",
     "output_type": "stream",
     "text": [
      "\r",
      "Calculating aggregate:  90%|█████████ | 267/296 [36:08<03:14,  6.72s/it]"
     ]
    },
    {
     "name": "stderr",
     "output_type": "stream",
     "text": [
      "\r",
      "Calculating aggregate:  91%|█████████ | 268/296 [36:21<03:57,  8.47s/it]"
     ]
    },
    {
     "name": "stderr",
     "output_type": "stream",
     "text": [
      "\r",
      "Calculating aggregate:  91%|█████████ | 269/296 [36:23<02:54,  6.46s/it]"
     ]
    },
    {
     "name": "stderr",
     "output_type": "stream",
     "text": [
      "\r",
      "Calculating aggregate:  91%|█████████ | 270/296 [36:26<02:24,  5.57s/it]"
     ]
    },
    {
     "name": "stderr",
     "output_type": "stream",
     "text": [
      "\r",
      "Calculating aggregate:  92%|█████████▏| 271/296 [36:37<02:57,  7.09s/it]"
     ]
    },
    {
     "name": "stderr",
     "output_type": "stream",
     "text": [
      "\r",
      "Calculating aggregate:  92%|█████████▏| 272/296 [36:43<02:42,  6.76s/it]"
     ]
    },
    {
     "name": "stderr",
     "output_type": "stream",
     "text": [
      "\r",
      "Calculating aggregate:  92%|█████████▏| 273/296 [36:50<02:37,  6.87s/it]"
     ]
    },
    {
     "name": "stderr",
     "output_type": "stream",
     "text": [
      "\r",
      "Calculating aggregate:  93%|█████████▎| 274/296 [36:54<02:14,  6.11s/it]"
     ]
    },
    {
     "name": "stderr",
     "output_type": "stream",
     "text": [
      "\r",
      "Calculating aggregate:  93%|█████████▎| 275/296 [37:02<02:14,  6.42s/it]"
     ]
    },
    {
     "name": "stderr",
     "output_type": "stream",
     "text": [
      "\r",
      "Calculating aggregate:  93%|█████████▎| 276/296 [37:13<02:37,  7.86s/it]"
     ]
    },
    {
     "name": "stderr",
     "output_type": "stream",
     "text": [
      "\r",
      "Calculating aggregate:  94%|█████████▎| 277/296 [37:16<02:04,  6.55s/it]"
     ]
    },
    {
     "name": "stderr",
     "output_type": "stream",
     "text": [
      "\r",
      "Calculating aggregate:  94%|█████████▍| 278/296 [37:20<01:40,  5.57s/it]"
     ]
    },
    {
     "name": "stderr",
     "output_type": "stream",
     "text": [
      "\r",
      "Calculating aggregate:  94%|█████████▍| 279/296 [37:21<01:14,  4.35s/it]"
     ]
    },
    {
     "name": "stderr",
     "output_type": "stream",
     "text": [
      "\r",
      "Calculating aggregate:  95%|█████████▍| 280/296 [37:27<01:15,  4.70s/it]"
     ]
    },
    {
     "name": "stderr",
     "output_type": "stream",
     "text": [
      "\r",
      "Calculating aggregate:  95%|█████████▍| 281/296 [37:38<01:39,  6.64s/it]"
     ]
    },
    {
     "name": "stderr",
     "output_type": "stream",
     "text": [
      "\r",
      "Calculating aggregate:  95%|█████████▌| 282/296 [37:40<01:16,  5.44s/it]"
     ]
    },
    {
     "name": "stderr",
     "output_type": "stream",
     "text": [
      "\r",
      "Calculating aggregate:  96%|█████████▌| 283/296 [37:51<01:29,  6.91s/it]"
     ]
    },
    {
     "name": "stderr",
     "output_type": "stream",
     "text": [
      "\r",
      "Calculating aggregate:  96%|█████████▌| 284/296 [37:55<01:12,  6.04s/it]"
     ]
    },
    {
     "name": "stderr",
     "output_type": "stream",
     "text": [
      "\r",
      "Calculating aggregate:  96%|█████████▋| 285/296 [37:58<00:55,  5.08s/it]"
     ]
    },
    {
     "name": "stderr",
     "output_type": "stream",
     "text": [
      "\r",
      "Calculating aggregate:  97%|█████████▋| 286/296 [38:06<01:01,  6.19s/it]"
     ]
    },
    {
     "name": "stderr",
     "output_type": "stream",
     "text": [
      "\r",
      "Calculating aggregate:  97%|█████████▋| 287/296 [38:12<00:54,  6.01s/it]"
     ]
    },
    {
     "name": "stderr",
     "output_type": "stream",
     "text": [
      "\r",
      "Calculating aggregate:  97%|█████████▋| 288/296 [38:22<00:57,  7.19s/it]"
     ]
    },
    {
     "name": "stderr",
     "output_type": "stream",
     "text": [
      "\r",
      "Calculating aggregate:  98%|█████████▊| 289/296 [38:31<00:55,  7.92s/it]"
     ]
    },
    {
     "name": "stderr",
     "output_type": "stream",
     "text": [
      "\r",
      "Calculating aggregate:  98%|█████████▊| 290/296 [38:34<00:38,  6.42s/it]"
     ]
    },
    {
     "name": "stderr",
     "output_type": "stream",
     "text": [
      "\r",
      "Calculating aggregate:  98%|█████████▊| 291/296 [38:46<00:39,  7.86s/it]"
     ]
    },
    {
     "name": "stderr",
     "output_type": "stream",
     "text": [
      "\r",
      "Calculating aggregate:  99%|█████████▊| 292/296 [38:52<00:29,  7.27s/it]"
     ]
    },
    {
     "name": "stderr",
     "output_type": "stream",
     "text": [
      "\r",
      "Calculating aggregate:  99%|█████████▉| 293/296 [38:57<00:20,  6.70s/it]"
     ]
    },
    {
     "name": "stderr",
     "output_type": "stream",
     "text": [
      "\r",
      "Calculating aggregate:  99%|█████████▉| 294/296 [39:06<00:14,  7.28s/it]"
     ]
    },
    {
     "name": "stderr",
     "output_type": "stream",
     "text": [
      "\r",
      "Calculating aggregate: 100%|█████████▉| 295/296 [39:12<00:07,  7.17s/it]"
     ]
    },
    {
     "name": "stderr",
     "output_type": "stream",
     "text": [
      "\r",
      "Calculating aggregate: 100%|██████████| 296/296 [39:19<00:00,  7.05s/it]"
     ]
    },
    {
     "name": "stderr",
     "output_type": "stream",
     "text": [
      "\n"
     ]
    }
   ],
   "source": [
    "tqdm.pandas(desc='Calculating aggregate', leave=True)\n",
    "aggregation_results = pd.Series(\n",
    "  sid_list, index=sid_list\n",
    ").progress_apply(get_agg_model)\\\n",
    "  .apply(pd.Series)\n",
    "aggregation_results.columns = ('Model', 'Errors', 'Masks', 'Arms')\n",
    "aggregation_results.to_pickle(AGGREGATE_LOCATION)"
   ]
  }
 ],
 "metadata": {
  "kernel_info": {
   "name": "python3"
  },
  "kernelspec": {
   "display_name": "Python 3",
   "language": "python",
   "name": "python3"
  },
  "language_info": {
   "codemirror_mode": {
    "name": "ipython",
    "version": 3
   },
   "file_extension": ".py",
   "mimetype": "text/x-python",
   "name": "python",
   "nbconvert_exporter": "python",
   "pygments_lexer": "ipython3",
   "version": "3.7.3"
  },
  "nteract": {
   "version": "0.14.3"
  },
  "papermill": {
   "duration": 5178.041705,
   "end_time": "2019-08-19T17:12:57.639738",
   "environment_variables": {},
   "exception": null,
   "input_path": "/users/tingard/gzbuilder_results/make_agg_bi_models.ipynb",
   "output_path": "/users/tingard/gzbuilder_results/output_notebooks/make_agg_bi_models.ipynb",
   "parameters": {},
   "start_time": "2019-08-19T15:46:39.598033",
   "version": "1.0.1"
  }
 },
 "nbformat": 4,
 "nbformat_minor": 0
}