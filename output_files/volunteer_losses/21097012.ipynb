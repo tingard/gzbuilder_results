{
 "cells": [
  {
   "cell_type": "markdown",
   "metadata": {
    "papermill": {
     "duration": 0.008044,
     "end_time": "2019-09-02T10:20:16.033168",
     "exception": false,
     "start_time": "2019-09-02T10:20:16.025124",
     "status": "completed"
    },
    "tags": []
   },
   "source": [
    "# Volunteer model loss calculation\n",
    "\n",
    "This notebook takes a `subject_id` and calculates the MSE of each volunteer's model to the galaxy data. These losses are then glued to the notebook for use elsewhere."
   ]
  },
  {
   "cell_type": "code",
   "execution_count": 1,
   "metadata": {
    "collapsed": false,
    "inputHidden": false,
    "outputHidden": false,
    "papermill": {
     "duration": 0.024283,
     "end_time": "2019-09-02T10:20:16.064620",
     "exception": false,
     "start_time": "2019-09-02T10:20:16.040337",
     "status": "completed"
    },
    "tags": []
   },
   "outputs": [],
   "source": [
    "%load_ext autoreload\n",
    "%autoreload 2"
   ]
  },
  {
   "cell_type": "code",
   "execution_count": 2,
   "metadata": {
    "collapsed": false,
    "inputHidden": false,
    "outputHidden": false,
    "papermill": {
     "duration": 6.551527,
     "end_time": "2019-09-02T10:20:22.623146",
     "exception": false,
     "start_time": "2019-09-02T10:20:16.071619",
     "status": "completed"
    },
    "tags": []
   },
   "outputs": [
    {
     "name": "stderr",
     "output_type": "stream",
     "text": [
      "/opt/apps/pkgs/anaconda3/2019.03/intel64/lib/python3.7/site-packages/dask/config.py:168: YAMLLoadWarning: calling yaml.load() without Loader=... is deprecated, as the default Loader is unsafe. Please read https://msg.pyyaml.org/load for full details.\n",
      "  data = yaml.load(f.read()) or {}\n"
     ]
    }
   ],
   "source": [
    "import json\n",
    "import numpy as np\n",
    "import pandas as pd\n",
    "from tqdm import tqdm\n",
    "import matplotlib.pyplot as plt\n",
    "import seaborn as sns\n",
    "from gzbuilder_analysis import parsing, rendering, fitting\n",
    "import lib.galaxy_utilities as gu\n",
    "import scrapbook as sb"
   ]
  },
  {
   "cell_type": "code",
   "execution_count": 3,
   "metadata": {
    "collapsed": false,
    "inputHidden": false,
    "outputHidden": false,
    "papermill": {
     "duration": 0.045962,
     "end_time": "2019-09-02T10:20:22.678097",
     "exception": false,
     "start_time": "2019-09-02T10:20:22.632135",
     "status": "completed"
    },
    "tags": [
     "parameters"
    ]
   },
   "outputs": [],
   "source": [
    "subject_id = 20902040"
   ]
  },
  {
   "cell_type": "code",
   "execution_count": 4,
   "metadata": {
    "papermill": {
     "duration": 0.046429,
     "end_time": "2019-09-02T10:20:22.734303",
     "exception": false,
     "start_time": "2019-09-02T10:20:22.687874",
     "status": "completed"
    },
    "tags": [
     "injected-parameters"
    ]
   },
   "outputs": [],
   "source": [
    "# Parameters\n",
    "subject_id = 21097012\n"
   ]
  },
  {
   "cell_type": "code",
   "execution_count": 5,
   "metadata": {
    "collapsed": false,
    "inputHidden": false,
    "outputHidden": false,
    "papermill": {
     "duration": 0.173693,
     "end_time": "2019-09-02T10:20:22.916042",
     "exception": false,
     "start_time": "2019-09-02T10:20:22.742349",
     "status": "completed"
    },
    "tags": []
   },
   "outputs": [],
   "source": [
    "diff_data_df = pd.read_pickle('lib/fitting_metadata.pkl')"
   ]
  },
  {
   "cell_type": "code",
   "execution_count": 6,
   "metadata": {
    "collapsed": false,
    "inputHidden": false,
    "outputHidden": false,
    "papermill": {
     "duration": 0.052034,
     "end_time": "2019-09-02T10:20:22.976282",
     "exception": false,
     "start_time": "2019-09-02T10:20:22.924248",
     "status": "completed"
    },
    "tags": []
   },
   "outputs": [],
   "source": [
    "def get_losses_by_user(subject_id):\n",
    "  diff_data = diff_data_df.loc[subject_id]\n",
    "  psf = diff_data['psf']\n",
    "  pixel_mask = np.array(diff_data['pixel_mask'])[::-1]\n",
    "  galaxy_data = np.array(diff_data['galaxy_data'])[::-1]\n",
    "  image_size = galaxy_data.shape[0]\n",
    "  size_diff = diff_data['size_diff']\n",
    "  \n",
    "  cls = gu.classifications.query('subject_ids == {}'.format(subject_id))\n",
    "  names = cls.user_name \n",
    "  annotations = cls['annotations'].apply(json.loads)\n",
    "\n",
    "  models = annotations.apply(\n",
    "    parsing.parse_annotation,\n",
    "    size_diff=size_diff\n",
    "  )\n",
    "\n",
    "  tqdm.pandas(\n",
    "    desc='Rendering models'.format(subject_id),\n",
    "    leave=False\n",
    "  )\n",
    "  rendered = models.progress_apply(\n",
    "    rendering.calculate_model,\n",
    "    image_size=image_size,\n",
    "    psf=psf\n",
    "  ).rename('rendered')\n",
    "\n",
    "  tqdm.pandas(\n",
    "    desc='Calculating differences'.format(subject_id),\n",
    "    leave=False\n",
    "  )\n",
    "  losses = rendered.apply(\n",
    "    fitting.loss,\n",
    "    args=(galaxy_data, pixel_mask)\n",
    "  ).rename('loss')\n",
    "  all_losses = pd.Series(\n",
    "    losses.values,\n",
    "    index=names.values\n",
    "  ).rename(subject_id)\n",
    "  best_losses = pd.concat((\n",
    "    all_losses.where(\n",
    "      ~all_losses.duplicated(keep=False)\n",
    "    ).dropna(), # all non-duplicates\n",
    "    all_losses.where(\n",
    "      all_losses.duplicated(keep=False)\n",
    "    ).dropna().groupby(level=0).min() # best value of duplicates\n",
    "  ), axis=0)\n",
    "  return best_losses"
   ]
  },
  {
   "cell_type": "code",
   "execution_count": 7,
   "metadata": {
    "collapsed": false,
    "inputHidden": false,
    "outputHidden": false,
    "papermill": {
     "duration": 10.46291,
     "end_time": "2019-09-02T10:20:33.448264",
     "exception": false,
     "start_time": "2019-09-02T10:20:22.985354",
     "status": "completed"
    },
    "tags": []
   },
   "outputs": [
    {
     "name": "stderr",
     "output_type": "stream",
     "text": [
      "\r",
      "Rendering models:   0%|          | 0/30 [00:00<?, ?it/s]"
     ]
    },
    {
     "name": "stderr",
     "output_type": "stream",
     "text": [
      "\r",
      "Rendering models:   7%|▋         | 2/30 [00:05<01:15,  2.71s/it]"
     ]
    },
    {
     "name": "stderr",
     "output_type": "stream",
     "text": [
      "\r",
      "Rendering models:  10%|█         | 3/30 [00:06<01:03,  2.35s/it]"
     ]
    },
    {
     "name": "stderr",
     "output_type": "stream",
     "text": [
      "\r",
      "Rendering models:  17%|█▋        | 5/30 [00:07<00:41,  1.66s/it]"
     ]
    },
    {
     "name": "stderr",
     "output_type": "stream",
     "text": [
      "\r",
      "Rendering models:  23%|██▎       | 7/30 [00:07<00:27,  1.18s/it]"
     ]
    },
    {
     "name": "stderr",
     "output_type": "stream",
     "text": [
      "\r",
      "Rendering models:  30%|███       | 9/30 [00:07<00:17,  1.18it/s]"
     ]
    },
    {
     "name": "stderr",
     "output_type": "stream",
     "text": [
      "\r",
      "Rendering models:  37%|███▋      | 11/30 [00:07<00:11,  1.61it/s]"
     ]
    },
    {
     "name": "stderr",
     "output_type": "stream",
     "text": [
      "\r",
      "Rendering models:  43%|████▎     | 13/30 [00:07<00:07,  2.21it/s]"
     ]
    },
    {
     "name": "stderr",
     "output_type": "stream",
     "text": [
      "\r",
      "Rendering models:  50%|█████     | 15/30 [00:07<00:05,  2.98it/s]"
     ]
    },
    {
     "name": "stderr",
     "output_type": "stream",
     "text": [
      "\r",
      "Rendering models:  63%|██████▎   | 19/30 [00:07<00:02,  4.04it/s]"
     ]
    },
    {
     "name": "stderr",
     "output_type": "stream",
     "text": [
      "\r",
      "Rendering models:  77%|███████▋  | 23/30 [00:08<00:01,  5.45it/s]"
     ]
    },
    {
     "name": "stderr",
     "output_type": "stream",
     "text": [
      "\r",
      "Rendering models:  87%|████████▋ | 26/30 [00:08<00:00,  6.99it/s]"
     ]
    },
    {
     "name": "stderr",
     "output_type": "stream",
     "text": [
      "\r",
      "Rendering models:  97%|█████████▋| 29/30 [00:08<00:00,  8.33it/s]"
     ]
    },
    {
     "name": "stderr",
     "output_type": "stream",
     "text": [
      "\r",
      "                                                                 "
     ]
    },
    {
     "name": "stderr",
     "output_type": "stream",
     "text": [
      "\r"
     ]
    },
    {
     "data": {
      "text/plain": [
       "not-logged-in-3b0b929f4475fd276561    0.004006\n",
       "not-logged-in-3b0b929f4475fd276561    0.000318\n",
       "Jnursssmith5263                       0.001918\n",
       "not-logged-in-673e227f920b24558cc1    0.000552\n",
       "rupertcalvert                         0.008242\n",
       "ElisabethB                            0.000325\n",
       "PRivate_pAuLa                         0.000581\n",
       "ellivc                                0.000321\n",
       "not-logged-in-906d0937c18c013d2c32    0.002880\n",
       "JoshMcflurry                          0.182541\n",
       "Jessica_Korkmaz                       0.003318\n",
       "Heckrex                               0.004125\n",
       "not-logged-in-5f30b2bb9b7f9d49da41    0.388384\n",
       "DarioB                                0.000538\n",
       "pangeli5                              0.005987\n",
       "peakscience7                          0.001608\n",
       "not-logged-in-3ae935e3afaee843f530    0.000682\n",
       "not-logged-in-db4d0b52f3105920643a    0.000232\n",
       "Lavadude                              0.001690\n",
       "ts135992                              0.000184\n",
       "not-logged-in-3591469ee2ac3f75cbf7    0.002993\n",
       "ZoshiePoshie                          0.000261\n",
       "r.sundstrom3                          0.000284\n",
       "jzeiszler                             0.004579\n",
       "jiipee                                0.002683\n",
       "Fortnitesucks                         0.003519\n",
       "h4ranek                               0.001855\n",
       "TRISTANM18                            0.004783\n",
       "crush202020                           0.004783\n",
       "not-logged-in-99f88b556527a7802ec1    0.004783\n",
       "Name: 21097012, dtype: float64"
      ]
     },
     "execution_count": 7,
     "metadata": {},
     "output_type": "execute_result"
    }
   ],
   "source": [
    "losses = get_losses_by_user(subject_id)\n",
    "losses"
   ]
  },
  {
   "cell_type": "code",
   "execution_count": 8,
   "metadata": {
    "collapsed": false,
    "inputHidden": false,
    "outputHidden": false,
    "papermill": {
     "duration": 0.071832,
     "end_time": "2019-09-02T10:20:33.531554",
     "exception": false,
     "start_time": "2019-09-02T10:20:33.459722",
     "status": "completed"
    },
    "tags": []
   },
   "outputs": [
    {
     "data": {
      "application/scrapbook.scrap.json+json": {
       "data": 21097012,
       "encoder": "json",
       "name": "subject_id",
       "version": 1
      }
     },
     "metadata": {
      "scrapbook": {
       "data": true,
       "display": false,
       "name": "subject_id"
      }
     },
     "output_type": "display_data"
    },
    {
     "data": {
      "application/scrapbook.scrap.json+json": {
       "data": {
        "DarioB": 0.0005378998937402773,
        "ElisabethB": 0.00032468820600771377,
        "Fortnitesucks": 0.0035188677748392576,
        "Heckrex": 0.004125229966184136,
        "Jessica_Korkmaz": 0.003318327911102863,
        "Jnursssmith5263": 0.001917902658510706,
        "JoshMcflurry": 0.1825406642607917,
        "Lavadude": 0.0016899665848651635,
        "PRivate_pAuLa": 0.0005810432733223884,
        "TRISTANM18": 0.004783355606115137,
        "ZoshiePoshie": 0.00026113584854646173,
        "crush202020": 0.004783355606115137,
        "ellivc": 0.0003213119023190233,
        "h4ranek": 0.0018552555281494793,
        "jiipee": 0.0026827170803055255,
        "jzeiszler": 0.004579166455492614,
        "not-logged-in-3591469ee2ac3f75cbf7": 0.0029934716247161926,
        "not-logged-in-3ae935e3afaee843f530": 0.0006816686459687388,
        "not-logged-in-3b0b929f4475fd276561": 0.0003177172090846069,
        "not-logged-in-5f30b2bb9b7f9d49da41": 0.38838367966049553,
        "not-logged-in-673e227f920b24558cc1": 0.0005523339881642085,
        "not-logged-in-906d0937c18c013d2c32": 0.0028802553988877652,
        "not-logged-in-99f88b556527a7802ec1": 0.004783355606115137,
        "not-logged-in-db4d0b52f3105920643a": 0.00023215722245337108,
        "pangeli5": 0.005986990510309099,
        "peakscience7": 0.0016076960670036902,
        "r.sundstrom3": 0.00028387015373536876,
        "rupertcalvert": 0.00824158209349429,
        "ts135992": 0.00018422090386158415
       },
       "encoder": "json",
       "name": "losses",
       "version": 1
      }
     },
     "metadata": {
      "scrapbook": {
       "data": true,
       "display": false,
       "name": "losses"
      }
     },
     "output_type": "display_data"
    }
   ],
   "source": [
    "sb.glue('subject_id', subject_id)\n",
    "sb.glue('losses', losses.to_dict())"
   ]
  }
 ],
 "metadata": {
  "kernel_info": {
   "name": "python3"
  },
  "kernelspec": {
   "display_name": "Python 3",
   "language": "python",
   "name": "python3"
  },
  "language_info": {
   "codemirror_mode": {
    "name": "ipython",
    "version": 3
   },
   "file_extension": ".py",
   "mimetype": "text/x-python",
   "name": "python",
   "nbconvert_exporter": "python",
   "pygments_lexer": "ipython3",
   "version": "3.7.3"
  },
  "nteract": {
   "version": "0.14.3"
  },
  "papermill": {
   "duration": 21.012184,
   "end_time": "2019-09-02T10:20:35.260622",
   "environment_variables": {},
   "exception": null,
   "input_path": "/users/tingard/gzbuilder_results/input_files/volunteer_losses.ipynb",
   "output_path": "/users/tingard/gzbuilder_results/output_files/volunteer_losses/21097012.ipynb",
   "parameters": {
    "subject_id": 21097012
   },
   "start_time": "2019-09-02T10:20:14.248438",
   "version": "1.0.1"
  }
 },
 "nbformat": 4,
 "nbformat_minor": 0
}