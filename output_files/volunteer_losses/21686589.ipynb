{
 "cells": [
  {
   "cell_type": "markdown",
   "metadata": {
    "papermill": {
     "duration": 0.008684,
     "end_time": "2019-09-02T10:21:10.677259",
     "exception": false,
     "start_time": "2019-09-02T10:21:10.668575",
     "status": "completed"
    },
    "tags": []
   },
   "source": [
    "# Volunteer model loss calculation\n",
    "\n",
    "This notebook takes a `subject_id` and calculates the MSE of each volunteer's model to the galaxy data. These losses are then glued to the notebook for use elsewhere."
   ]
  },
  {
   "cell_type": "code",
   "execution_count": 1,
   "metadata": {
    "collapsed": false,
    "inputHidden": false,
    "outputHidden": false,
    "papermill": {
     "duration": 0.033841,
     "end_time": "2019-09-02T10:21:10.718775",
     "exception": false,
     "start_time": "2019-09-02T10:21:10.684934",
     "status": "completed"
    },
    "tags": []
   },
   "outputs": [],
   "source": [
    "%load_ext autoreload\n",
    "%autoreload 2"
   ]
  },
  {
   "cell_type": "code",
   "execution_count": 2,
   "metadata": {
    "collapsed": false,
    "inputHidden": false,
    "outputHidden": false,
    "papermill": {
     "duration": 4.132703,
     "end_time": "2019-09-02T10:21:14.859248",
     "exception": false,
     "start_time": "2019-09-02T10:21:10.726545",
     "status": "completed"
    },
    "tags": []
   },
   "outputs": [
    {
     "name": "stderr",
     "output_type": "stream",
     "text": [
      "/opt/apps/pkgs/anaconda3/2019.03/intel64/lib/python3.7/site-packages/dask/config.py:168: YAMLLoadWarning: calling yaml.load() without Loader=... is deprecated, as the default Loader is unsafe. Please read https://msg.pyyaml.org/load for full details.\n",
      "  data = yaml.load(f.read()) or {}\n"
     ]
    }
   ],
   "source": [
    "import json\n",
    "import numpy as np\n",
    "import pandas as pd\n",
    "from tqdm import tqdm\n",
    "import matplotlib.pyplot as plt\n",
    "import seaborn as sns\n",
    "from gzbuilder_analysis import parsing, rendering, fitting\n",
    "import lib.galaxy_utilities as gu\n",
    "import scrapbook as sb"
   ]
  },
  {
   "cell_type": "code",
   "execution_count": 3,
   "metadata": {
    "collapsed": false,
    "inputHidden": false,
    "outputHidden": false,
    "papermill": {
     "duration": 0.051838,
     "end_time": "2019-09-02T10:21:14.920263",
     "exception": false,
     "start_time": "2019-09-02T10:21:14.868425",
     "status": "completed"
    },
    "tags": [
     "parameters"
    ]
   },
   "outputs": [],
   "source": [
    "subject_id = 20902040"
   ]
  },
  {
   "cell_type": "code",
   "execution_count": 4,
   "metadata": {
    "papermill": {
     "duration": 0.047168,
     "end_time": "2019-09-02T10:21:14.977238",
     "exception": false,
     "start_time": "2019-09-02T10:21:14.930070",
     "status": "completed"
    },
    "tags": [
     "injected-parameters"
    ]
   },
   "outputs": [],
   "source": [
    "# Parameters\n",
    "subject_id = 21686589\n"
   ]
  },
  {
   "cell_type": "code",
   "execution_count": 5,
   "metadata": {
    "collapsed": false,
    "inputHidden": false,
    "outputHidden": false,
    "papermill": {
     "duration": 0.164876,
     "end_time": "2019-09-02T10:21:15.149634",
     "exception": false,
     "start_time": "2019-09-02T10:21:14.984758",
     "status": "completed"
    },
    "tags": []
   },
   "outputs": [],
   "source": [
    "diff_data_df = pd.read_pickle('lib/fitting_metadata.pkl')"
   ]
  },
  {
   "cell_type": "code",
   "execution_count": 6,
   "metadata": {
    "collapsed": false,
    "inputHidden": false,
    "outputHidden": false,
    "papermill": {
     "duration": 0.232424,
     "end_time": "2019-09-02T10:21:15.390642",
     "exception": false,
     "start_time": "2019-09-02T10:21:15.158218",
     "status": "completed"
    },
    "tags": []
   },
   "outputs": [],
   "source": [
    "def get_losses_by_user(subject_id):\n",
    "  diff_data = diff_data_df.loc[subject_id]\n",
    "  psf = diff_data['psf']\n",
    "  pixel_mask = np.array(diff_data['pixel_mask'])[::-1]\n",
    "  galaxy_data = np.array(diff_data['galaxy_data'])[::-1]\n",
    "  image_size = galaxy_data.shape[0]\n",
    "  size_diff = diff_data['size_diff']\n",
    "  \n",
    "  cls = gu.classifications.query('subject_ids == {}'.format(subject_id))\n",
    "  names = cls.user_name \n",
    "  annotations = cls['annotations'].apply(json.loads)\n",
    "\n",
    "  models = annotations.apply(\n",
    "    parsing.parse_annotation,\n",
    "    size_diff=size_diff\n",
    "  )\n",
    "\n",
    "  tqdm.pandas(\n",
    "    desc='Rendering models'.format(subject_id),\n",
    "    leave=False\n",
    "  )\n",
    "  rendered = models.progress_apply(\n",
    "    rendering.calculate_model,\n",
    "    image_size=image_size,\n",
    "    psf=psf\n",
    "  ).rename('rendered')\n",
    "\n",
    "  tqdm.pandas(\n",
    "    desc='Calculating differences'.format(subject_id),\n",
    "    leave=False\n",
    "  )\n",
    "  losses = rendered.apply(\n",
    "    fitting.loss,\n",
    "    args=(galaxy_data, pixel_mask)\n",
    "  ).rename('loss')\n",
    "  all_losses = pd.Series(\n",
    "    losses.values,\n",
    "    index=names.values\n",
    "  ).rename(subject_id)\n",
    "  best_losses = pd.concat((\n",
    "    all_losses.where(\n",
    "      ~all_losses.duplicated(keep=False)\n",
    "    ).dropna(), # all non-duplicates\n",
    "    all_losses.where(\n",
    "      all_losses.duplicated(keep=False)\n",
    "    ).dropna().groupby(level=0).min() # best value of duplicates\n",
    "  ), axis=0)\n",
    "  return best_losses"
   ]
  },
  {
   "cell_type": "code",
   "execution_count": 7,
   "metadata": {
    "collapsed": false,
    "inputHidden": false,
    "outputHidden": false,
    "papermill": {
     "duration": 8.41167,
     "end_time": "2019-09-02T10:21:23.811073",
     "exception": false,
     "start_time": "2019-09-02T10:21:15.399403",
     "status": "completed"
    },
    "tags": []
   },
   "outputs": [
    {
     "name": "stderr",
     "output_type": "stream",
     "text": [
      "\r",
      "Rendering models:   0%|          | 0/30 [00:00<?, ?it/s]"
     ]
    },
    {
     "name": "stderr",
     "output_type": "stream",
     "text": [
      "\r",
      "Rendering models:   7%|▋         | 2/30 [00:05<01:11,  2.57s/it]"
     ]
    },
    {
     "name": "stderr",
     "output_type": "stream",
     "text": [
      "\r",
      "Rendering models:  10%|█         | 3/30 [00:06<00:59,  2.22s/it]"
     ]
    },
    {
     "name": "stderr",
     "output_type": "stream",
     "text": [
      "\r",
      "Rendering models:  17%|█▋        | 5/30 [00:06<00:39,  1.57s/it]"
     ]
    },
    {
     "name": "stderr",
     "output_type": "stream",
     "text": [
      "\r",
      "Rendering models:  23%|██▎       | 7/30 [00:06<00:25,  1.11s/it]"
     ]
    },
    {
     "name": "stderr",
     "output_type": "stream",
     "text": [
      "\r",
      "Rendering models:  30%|███       | 9/30 [00:06<00:16,  1.26it/s]"
     ]
    },
    {
     "name": "stderr",
     "output_type": "stream",
     "text": [
      "\r",
      "Rendering models:  37%|███▋      | 11/30 [00:06<00:10,  1.75it/s]"
     ]
    },
    {
     "name": "stderr",
     "output_type": "stream",
     "text": [
      "\r",
      "Rendering models:  43%|████▎     | 13/30 [00:07<00:07,  2.33it/s]"
     ]
    },
    {
     "name": "stderr",
     "output_type": "stream",
     "text": [
      "\r",
      "Rendering models:  53%|█████▎    | 16/30 [00:07<00:04,  3.21it/s]"
     ]
    },
    {
     "name": "stderr",
     "output_type": "stream",
     "text": [
      "\r",
      "Rendering models:  63%|██████▎   | 19/30 [00:07<00:02,  4.30it/s]"
     ]
    },
    {
     "name": "stderr",
     "output_type": "stream",
     "text": [
      "\r",
      "Rendering models:  70%|███████   | 21/30 [00:07<00:01,  5.06it/s]"
     ]
    },
    {
     "name": "stderr",
     "output_type": "stream",
     "text": [
      "\r",
      "Rendering models:  77%|███████▋  | 23/30 [00:07<00:01,  6.45it/s]"
     ]
    },
    {
     "name": "stderr",
     "output_type": "stream",
     "text": [
      "\r",
      "Rendering models:  83%|████████▎ | 25/30 [00:07<00:00,  7.48it/s]"
     ]
    },
    {
     "name": "stderr",
     "output_type": "stream",
     "text": [
      "\r",
      "Rendering models:  90%|█████████ | 27/30 [00:08<00:00,  8.42it/s]"
     ]
    },
    {
     "name": "stderr",
     "output_type": "stream",
     "text": [
      "\r",
      "Rendering models:  97%|█████████▋| 29/30 [00:08<00:00,  9.64it/s]"
     ]
    },
    {
     "name": "stderr",
     "output_type": "stream",
     "text": [
      "\r",
      "                                                                 "
     ]
    },
    {
     "name": "stderr",
     "output_type": "stream",
     "text": [
      "\r"
     ]
    },
    {
     "data": {
      "text/plain": [
       "not-logged-in-f6fac0763296d5759c01    0.000174\n",
       "shirogane                             0.001387\n",
       "Dynamatt                              0.000676\n",
       "Camelron                              0.000200\n",
       "not-logged-in-7e36d1f05e1fdd4c2b64    0.001526\n",
       "shocko61                              0.001773\n",
       "kcarte13                              0.000273\n",
       "bldelacr                              0.000161\n",
       "justsomenoodles                       0.000222\n",
       "jmfranci                              0.001926\n",
       "wrxtminecrafter                       0.001264\n",
       "not-logged-in-4ec54f98b3c226b9b959    0.012121\n",
       "not-logged-in-9a813f8c400d5fedde5d    0.008429\n",
       "not-logged-in-ecd063175905f82056dc    0.000618\n",
       "not-logged-in-f46775ec80a9b6e163ce    0.002417\n",
       "BirdLeaf                              0.007870\n",
       "not-logged-in-314d48142a3a122ba666    0.005076\n",
       "not-logged-in-f8c2f88355fba4282271    0.001981\n",
       "clairedeu                             0.000310\n",
       "pangeli5                              0.000228\n",
       "not-logged-in-3569dcff4dbd0ee90f50    0.345032\n",
       "crush202020                           0.000499\n",
       "Lavadude                              0.002319\n",
       "not-logged-in-264a1fa937b3fe35ace6    0.002425\n",
       "not-logged-in-6ea7dd94a335e5238780    0.002209\n",
       "clars915                              0.000276\n",
       "ShirleyL                              0.000217\n",
       "Simminho                              0.124489\n",
       "Bambura                               0.000427\n",
       "not-logged-in-571884d6f9908438fbc5    0.006129\n",
       "Name: 21686589, dtype: float64"
      ]
     },
     "execution_count": 7,
     "metadata": {},
     "output_type": "execute_result"
    }
   ],
   "source": [
    "losses = get_losses_by_user(subject_id)\n",
    "losses"
   ]
  },
  {
   "cell_type": "code",
   "execution_count": 8,
   "metadata": {
    "collapsed": false,
    "inputHidden": false,
    "outputHidden": false,
    "papermill": {
     "duration": 0.058332,
     "end_time": "2019-09-02T10:21:23.881018",
     "exception": false,
     "start_time": "2019-09-02T10:21:23.822686",
     "status": "completed"
    },
    "tags": []
   },
   "outputs": [
    {
     "data": {
      "application/scrapbook.scrap.json+json": {
       "data": 21686589,
       "encoder": "json",
       "name": "subject_id",
       "version": 1
      }
     },
     "metadata": {
      "scrapbook": {
       "data": true,
       "display": false,
       "name": "subject_id"
      }
     },
     "output_type": "display_data"
    },
    {
     "data": {
      "application/scrapbook.scrap.json+json": {
       "data": {
        "Bambura": 0.000426576931655731,
        "BirdLeaf": 0.00786977061001377,
        "Camelron": 0.00020043779486690898,
        "Dynamatt": 0.0006760644680801626,
        "Lavadude": 0.002318873000382607,
        "ShirleyL": 0.00021665237532617233,
        "Simminho": 0.12448909335875061,
        "bldelacr": 0.00016123724277720318,
        "clairedeu": 0.0003097596478534977,
        "clars915": 0.0002756157835908607,
        "crush202020": 0.0004993200258146594,
        "jmfranci": 0.00192611333089124,
        "justsomenoodles": 0.00022247003683401335,
        "kcarte13": 0.00027319421426954805,
        "not-logged-in-264a1fa937b3fe35ace6": 0.002424902720147301,
        "not-logged-in-314d48142a3a122ba666": 0.005075968328760934,
        "not-logged-in-3569dcff4dbd0ee90f50": 0.3450321329810692,
        "not-logged-in-4ec54f98b3c226b9b959": 0.012121007936958465,
        "not-logged-in-571884d6f9908438fbc5": 0.006129485512488398,
        "not-logged-in-6ea7dd94a335e5238780": 0.002209350838591699,
        "not-logged-in-7e36d1f05e1fdd4c2b64": 0.0015263836960322452,
        "not-logged-in-9a813f8c400d5fedde5d": 0.008428958776891237,
        "not-logged-in-ecd063175905f82056dc": 0.000618162468692304,
        "not-logged-in-f46775ec80a9b6e163ce": 0.0024173665970383374,
        "not-logged-in-f6fac0763296d5759c01": 0.00017427462161468665,
        "not-logged-in-f8c2f88355fba4282271": 0.0019812014075251873,
        "pangeli5": 0.00022770195091998796,
        "shirogane": 0.0013869032782292655,
        "shocko61": 0.00177338157929455,
        "wrxtminecrafter": 0.00126394715337585
       },
       "encoder": "json",
       "name": "losses",
       "version": 1
      }
     },
     "metadata": {
      "scrapbook": {
       "data": true,
       "display": false,
       "name": "losses"
      }
     },
     "output_type": "display_data"
    }
   ],
   "source": [
    "sb.glue('subject_id', subject_id)\n",
    "sb.glue('losses', losses.to_dict())"
   ]
  }
 ],
 "metadata": {
  "kernel_info": {
   "name": "python3"
  },
  "kernelspec": {
   "display_name": "Python 3",
   "language": "python",
   "name": "python3"
  },
  "language_info": {
   "codemirror_mode": {
    "name": "ipython",
    "version": 3
   },
   "file_extension": ".py",
   "mimetype": "text/x-python",
   "name": "python",
   "nbconvert_exporter": "python",
   "pygments_lexer": "ipython3",
   "version": "3.7.3"
  },
  "nteract": {
   "version": "0.14.3"
  },
  "papermill": {
   "duration": 15.998126,
   "end_time": "2019-09-02T10:21:24.975450",
   "environment_variables": {},
   "exception": null,
   "input_path": "/users/tingard/gzbuilder_results/input_files/volunteer_losses.ipynb",
   "output_path": "/users/tingard/gzbuilder_results/output_files/volunteer_losses/21686589.ipynb",
   "parameters": {
    "subject_id": 21686589
   },
   "start_time": "2019-09-02T10:21:08.977324",
   "version": "1.0.1"
  }
 },
 "nbformat": 4,
 "nbformat_minor": 0
}