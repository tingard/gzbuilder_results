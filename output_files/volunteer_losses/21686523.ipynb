{
 "cells": [
  {
   "cell_type": "markdown",
   "metadata": {
    "papermill": {
     "duration": 0.007898,
     "end_time": "2019-09-02T10:20:53.659111",
     "exception": false,
     "start_time": "2019-09-02T10:20:53.651213",
     "status": "completed"
    },
    "tags": []
   },
   "source": [
    "# Volunteer model loss calculation\n",
    "\n",
    "This notebook takes a `subject_id` and calculates the MSE of each volunteer's model to the galaxy data. These losses are then glued to the notebook for use elsewhere."
   ]
  },
  {
   "cell_type": "code",
   "execution_count": 1,
   "metadata": {
    "collapsed": false,
    "inputHidden": false,
    "outputHidden": false,
    "papermill": {
     "duration": 0.025302,
     "end_time": "2019-09-02T10:20:53.691734",
     "exception": false,
     "start_time": "2019-09-02T10:20:53.666432",
     "status": "completed"
    },
    "tags": []
   },
   "outputs": [],
   "source": [
    "%load_ext autoreload\n",
    "%autoreload 2"
   ]
  },
  {
   "cell_type": "code",
   "execution_count": 2,
   "metadata": {
    "collapsed": false,
    "inputHidden": false,
    "outputHidden": false,
    "papermill": {
     "duration": 4.510976,
     "end_time": "2019-09-02T10:20:58.209666",
     "exception": false,
     "start_time": "2019-09-02T10:20:53.698690",
     "status": "completed"
    },
    "tags": []
   },
   "outputs": [
    {
     "name": "stderr",
     "output_type": "stream",
     "text": [
      "/opt/apps/pkgs/anaconda3/2019.03/intel64/lib/python3.7/site-packages/dask/config.py:168: YAMLLoadWarning: calling yaml.load() without Loader=... is deprecated, as the default Loader is unsafe. Please read https://msg.pyyaml.org/load for full details.\n",
      "  data = yaml.load(f.read()) or {}\n"
     ]
    }
   ],
   "source": [
    "import json\n",
    "import numpy as np\n",
    "import pandas as pd\n",
    "from tqdm import tqdm\n",
    "import matplotlib.pyplot as plt\n",
    "import seaborn as sns\n",
    "from gzbuilder_analysis import parsing, rendering, fitting\n",
    "import lib.galaxy_utilities as gu\n",
    "import scrapbook as sb"
   ]
  },
  {
   "cell_type": "code",
   "execution_count": 3,
   "metadata": {
    "collapsed": false,
    "inputHidden": false,
    "outputHidden": false,
    "papermill": {
     "duration": 0.048117,
     "end_time": "2019-09-02T10:20:58.266257",
     "exception": false,
     "start_time": "2019-09-02T10:20:58.218140",
     "status": "completed"
    },
    "tags": [
     "parameters"
    ]
   },
   "outputs": [],
   "source": [
    "subject_id = 20902040"
   ]
  },
  {
   "cell_type": "code",
   "execution_count": 4,
   "metadata": {
    "papermill": {
     "duration": 0.043269,
     "end_time": "2019-09-02T10:20:58.317820",
     "exception": false,
     "start_time": "2019-09-02T10:20:58.274551",
     "status": "completed"
    },
    "tags": [
     "injected-parameters"
    ]
   },
   "outputs": [],
   "source": [
    "# Parameters\n",
    "subject_id = 21686523\n"
   ]
  },
  {
   "cell_type": "code",
   "execution_count": 5,
   "metadata": {
    "collapsed": false,
    "inputHidden": false,
    "outputHidden": false,
    "papermill": {
     "duration": 0.152128,
     "end_time": "2019-09-02T10:20:58.478551",
     "exception": false,
     "start_time": "2019-09-02T10:20:58.326423",
     "status": "completed"
    },
    "tags": []
   },
   "outputs": [],
   "source": [
    "diff_data_df = pd.read_pickle('lib/fitting_metadata.pkl')"
   ]
  },
  {
   "cell_type": "code",
   "execution_count": 6,
   "metadata": {
    "collapsed": false,
    "inputHidden": false,
    "outputHidden": false,
    "papermill": {
     "duration": 0.049258,
     "end_time": "2019-09-02T10:20:58.535625",
     "exception": false,
     "start_time": "2019-09-02T10:20:58.486367",
     "status": "completed"
    },
    "tags": []
   },
   "outputs": [],
   "source": [
    "def get_losses_by_user(subject_id):\n",
    "  diff_data = diff_data_df.loc[subject_id]\n",
    "  psf = diff_data['psf']\n",
    "  pixel_mask = np.array(diff_data['pixel_mask'])[::-1]\n",
    "  galaxy_data = np.array(diff_data['galaxy_data'])[::-1]\n",
    "  image_size = galaxy_data.shape[0]\n",
    "  size_diff = diff_data['size_diff']\n",
    "  \n",
    "  cls = gu.classifications.query('subject_ids == {}'.format(subject_id))\n",
    "  names = cls.user_name \n",
    "  annotations = cls['annotations'].apply(json.loads)\n",
    "\n",
    "  models = annotations.apply(\n",
    "    parsing.parse_annotation,\n",
    "    size_diff=size_diff\n",
    "  )\n",
    "\n",
    "  tqdm.pandas(\n",
    "    desc='Rendering models'.format(subject_id),\n",
    "    leave=False\n",
    "  )\n",
    "  rendered = models.progress_apply(\n",
    "    rendering.calculate_model,\n",
    "    image_size=image_size,\n",
    "    psf=psf\n",
    "  ).rename('rendered')\n",
    "\n",
    "  tqdm.pandas(\n",
    "    desc='Calculating differences'.format(subject_id),\n",
    "    leave=False\n",
    "  )\n",
    "  losses = rendered.apply(\n",
    "    fitting.loss,\n",
    "    args=(galaxy_data, pixel_mask)\n",
    "  ).rename('loss')\n",
    "  all_losses = pd.Series(\n",
    "    losses.values,\n",
    "    index=names.values\n",
    "  ).rename(subject_id)\n",
    "  best_losses = pd.concat((\n",
    "    all_losses.where(\n",
    "      ~all_losses.duplicated(keep=False)\n",
    "    ).dropna(), # all non-duplicates\n",
    "    all_losses.where(\n",
    "      all_losses.duplicated(keep=False)\n",
    "    ).dropna().groupby(level=0).min() # best value of duplicates\n",
    "  ), axis=0)\n",
    "  return best_losses"
   ]
  },
  {
   "cell_type": "code",
   "execution_count": 7,
   "metadata": {
    "collapsed": false,
    "inputHidden": false,
    "outputHidden": false,
    "papermill": {
     "duration": 19.826312,
     "end_time": "2019-09-02T10:21:18.369186",
     "exception": false,
     "start_time": "2019-09-02T10:20:58.542874",
     "status": "completed"
    },
    "tags": []
   },
   "outputs": [
    {
     "name": "stderr",
     "output_type": "stream",
     "text": [
      "\r",
      "Rendering models:   0%|          | 0/32 [00:00<?, ?it/s]"
     ]
    },
    {
     "name": "stderr",
     "output_type": "stream",
     "text": [
      "\r",
      "Rendering models:   6%|▋         | 2/32 [00:05<01:27,  2.90s/it]"
     ]
    },
    {
     "name": "stderr",
     "output_type": "stream",
     "text": [
      "\r",
      "Rendering models:   9%|▉         | 3/32 [00:07<01:13,  2.54s/it]"
     ]
    },
    {
     "name": "stderr",
     "output_type": "stream",
     "text": [
      "\r",
      "Rendering models:  12%|█▎        | 4/32 [00:08<00:54,  1.95s/it]"
     ]
    },
    {
     "name": "stderr",
     "output_type": "stream",
     "text": [
      "\r",
      "Rendering models:  16%|█▌        | 5/32 [00:08<00:40,  1.50s/it]"
     ]
    },
    {
     "name": "stderr",
     "output_type": "stream",
     "text": [
      "\r",
      "Rendering models:  19%|█▉        | 6/32 [00:08<00:29,  1.15s/it]"
     ]
    },
    {
     "name": "stderr",
     "output_type": "stream",
     "text": [
      "\r",
      "Rendering models:  22%|██▏       | 7/32 [00:09<00:25,  1.03s/it]"
     ]
    },
    {
     "name": "stderr",
     "output_type": "stream",
     "text": [
      "\r",
      "Rendering models:  28%|██▊       | 9/32 [00:10<00:18,  1.27it/s]"
     ]
    },
    {
     "name": "stderr",
     "output_type": "stream",
     "text": [
      "\r",
      "Rendering models:  31%|███▏      | 10/32 [00:10<00:16,  1.32it/s]"
     ]
    },
    {
     "name": "stderr",
     "output_type": "stream",
     "text": [
      "\r",
      "Rendering models:  34%|███▍      | 11/32 [00:11<00:14,  1.46it/s]"
     ]
    },
    {
     "name": "stderr",
     "output_type": "stream",
     "text": [
      "\r",
      "Rendering models:  38%|███▊      | 12/32 [00:11<00:12,  1.64it/s]"
     ]
    },
    {
     "name": "stderr",
     "output_type": "stream",
     "text": [
      "\r",
      "Rendering models:  41%|████      | 13/32 [00:12<00:10,  1.73it/s]"
     ]
    },
    {
     "name": "stderr",
     "output_type": "stream",
     "text": [
      "\r",
      "Rendering models:  44%|████▍     | 14/32 [00:12<00:10,  1.80it/s]"
     ]
    },
    {
     "name": "stderr",
     "output_type": "stream",
     "text": [
      "\r",
      "Rendering models:  47%|████▋     | 15/32 [00:13<00:09,  1.84it/s]"
     ]
    },
    {
     "name": "stderr",
     "output_type": "stream",
     "text": [
      "\r",
      "Rendering models:  50%|█████     | 16/32 [00:13<00:08,  1.96it/s]"
     ]
    },
    {
     "name": "stderr",
     "output_type": "stream",
     "text": [
      "\r",
      "Rendering models:  53%|█████▎    | 17/32 [00:14<00:07,  2.06it/s]"
     ]
    },
    {
     "name": "stderr",
     "output_type": "stream",
     "text": [
      "\r",
      "Rendering models:  56%|█████▋    | 18/32 [00:14<00:06,  2.15it/s]"
     ]
    },
    {
     "name": "stderr",
     "output_type": "stream",
     "text": [
      "\r",
      "Rendering models:  59%|█████▉    | 19/32 [00:14<00:05,  2.47it/s]"
     ]
    },
    {
     "name": "stderr",
     "output_type": "stream",
     "text": [
      "\r",
      "Rendering models:  62%|██████▎   | 20/32 [00:15<00:05,  2.34it/s]"
     ]
    },
    {
     "name": "stderr",
     "output_type": "stream",
     "text": [
      "\r",
      "Rendering models:  66%|██████▌   | 21/32 [00:15<00:04,  2.28it/s]"
     ]
    },
    {
     "name": "stderr",
     "output_type": "stream",
     "text": [
      "\r",
      "Rendering models:  75%|███████▌  | 24/32 [00:15<00:02,  3.07it/s]"
     ]
    },
    {
     "name": "stderr",
     "output_type": "stream",
     "text": [
      "\r",
      "Rendering models:  78%|███████▊  | 25/32 [00:16<00:02,  3.18it/s]"
     ]
    },
    {
     "name": "stderr",
     "output_type": "stream",
     "text": [
      "\r",
      "Rendering models:  81%|████████▏ | 26/32 [00:16<00:02,  2.77it/s]"
     ]
    },
    {
     "name": "stderr",
     "output_type": "stream",
     "text": [
      "\r",
      "Rendering models:  84%|████████▍ | 27/32 [00:17<00:02,  2.24it/s]"
     ]
    },
    {
     "name": "stderr",
     "output_type": "stream",
     "text": [
      "\r",
      "Rendering models:  88%|████████▊ | 28/32 [00:17<00:02,  1.95it/s]"
     ]
    },
    {
     "name": "stderr",
     "output_type": "stream",
     "text": [
      "\r",
      "Rendering models:  94%|█████████▍| 30/32 [00:18<00:00,  2.23it/s]"
     ]
    },
    {
     "name": "stderr",
     "output_type": "stream",
     "text": [
      "\r",
      "Rendering models:  97%|█████████▋| 31/32 [00:19<00:00,  2.21it/s]"
     ]
    },
    {
     "name": "stderr",
     "output_type": "stream",
     "text": [
      "\r",
      "Rendering models: 100%|██████████| 32/32 [00:19<00:00,  2.45it/s]"
     ]
    },
    {
     "name": "stderr",
     "output_type": "stream",
     "text": [
      "\r",
      "                                                                 "
     ]
    },
    {
     "name": "stderr",
     "output_type": "stream",
     "text": [
      "\r"
     ]
    },
    {
     "data": {
      "text/plain": [
       "CamiloRuano                           0.006285\n",
       "not-logged-in-68d3d82149e88f995533    0.004977\n",
       "not-logged-in-bc5fdb9ea8d611e60b8b    0.001282\n",
       "Almudys                               0.001457\n",
       "not-logged-in-f7e2260ed4a9517a3e4a    0.002755\n",
       "shirogane                             0.000601\n",
       "asucich                               0.000491\n",
       "austingasbarra                        0.000870\n",
       "kjkavene                              0.000674\n",
       "not-logged-in-c24ad414f260877715a6    0.000607\n",
       "not-logged-in-2908c5b97527b9f7279b    0.001857\n",
       "Roksolana                             0.000692\n",
       "lattecuc                              0.002589\n",
       "sn346808                              0.043261\n",
       "sn346808                              0.034402\n",
       "sn346808                              0.022090\n",
       "LeeJoseph                             0.001021\n",
       "not-logged-in-ffc5c906399855f5ef0f    0.000450\n",
       "KrisKeogh                             0.001330\n",
       "ayluminati                            0.002192\n",
       "KevinKosa                             0.000645\n",
       "plankjames                            0.000470\n",
       "not-logged-in-ba324ee3b4d3535f4fe7    0.000794\n",
       "Algimk                                0.255124\n",
       "ElisabethB                            0.000501\n",
       "leticiahgg                            0.006644\n",
       "not-logged-in-cfa7f79c52a086b311d3    0.002740\n",
       "voodoogirl360                         0.000623\n",
       "kokotje2323                           0.002452\n",
       "not-logged-in-45f31e19855d06bcf5df    0.002452\n",
       "not-logged-in-623cb7cd00f5dbcaf5ac    0.002452\n",
       "not-logged-in-f5ac928c4dcd4e9cb619    0.002452\n",
       "Name: 21686523, dtype: float64"
      ]
     },
     "execution_count": 7,
     "metadata": {},
     "output_type": "execute_result"
    }
   ],
   "source": [
    "losses = get_losses_by_user(subject_id)\n",
    "losses"
   ]
  },
  {
   "cell_type": "code",
   "execution_count": 8,
   "metadata": {
    "collapsed": false,
    "inputHidden": false,
    "outputHidden": false,
    "papermill": {
     "duration": 0.069133,
     "end_time": "2019-09-02T10:21:18.453136",
     "exception": false,
     "start_time": "2019-09-02T10:21:18.384003",
     "status": "completed"
    },
    "tags": []
   },
   "outputs": [
    {
     "data": {
      "application/scrapbook.scrap.json+json": {
       "data": 21686523,
       "encoder": "json",
       "name": "subject_id",
       "version": 1
      }
     },
     "metadata": {
      "scrapbook": {
       "data": true,
       "display": false,
       "name": "subject_id"
      }
     },
     "output_type": "display_data"
    },
    {
     "data": {
      "application/scrapbook.scrap.json+json": {
       "data": {
        "Algimk": 0.2551241653377649,
        "Almudys": 0.0014574420300555754,
        "CamiloRuano": 0.00628514433110768,
        "ElisabethB": 0.0005009916368042485,
        "KevinKosa": 0.0006445091254825313,
        "KrisKeogh": 0.0013299385285517804,
        "LeeJoseph": 0.0010210557976834517,
        "Roksolana": 0.0006918886394631297,
        "asucich": 0.000490669332666663,
        "austingasbarra": 0.0008697541934059404,
        "ayluminati": 0.0021916051739655083,
        "kjkavene": 0.0006739389646705739,
        "kokotje2323": 0.0024524814359380884,
        "lattecuc": 0.002588545711983796,
        "leticiahgg": 0.006644401547479368,
        "not-logged-in-2908c5b97527b9f7279b": 0.0018569879845872913,
        "not-logged-in-45f31e19855d06bcf5df": 0.0024524814359380884,
        "not-logged-in-623cb7cd00f5dbcaf5ac": 0.0024524814359380884,
        "not-logged-in-68d3d82149e88f995533": 0.0049769277790028136,
        "not-logged-in-ba324ee3b4d3535f4fe7": 0.0007943647626014618,
        "not-logged-in-bc5fdb9ea8d611e60b8b": 0.0012815313930000535,
        "not-logged-in-c24ad414f260877715a6": 0.000606654848656576,
        "not-logged-in-cfa7f79c52a086b311d3": 0.0027397556262742976,
        "not-logged-in-f5ac928c4dcd4e9cb619": 0.0024524814359380884,
        "not-logged-in-f7e2260ed4a9517a3e4a": 0.002755279502810649,
        "not-logged-in-ffc5c906399855f5ef0f": 0.00045047715182211875,
        "plankjames": 0.0004701678898136915,
        "shirogane": 0.0006011100205871881,
        "sn346808": 0.022089793057886498,
        "voodoogirl360": 0.0006228410499524321
       },
       "encoder": "json",
       "name": "losses",
       "version": 1
      }
     },
     "metadata": {
      "scrapbook": {
       "data": true,
       "display": false,
       "name": "losses"
      }
     },
     "output_type": "display_data"
    }
   ],
   "source": [
    "sb.glue('subject_id', subject_id)\n",
    "sb.glue('losses', losses.to_dict())"
   ]
  }
 ],
 "metadata": {
  "kernel_info": {
   "name": "python3"
  },
  "kernelspec": {
   "display_name": "Python 3",
   "language": "python",
   "name": "python3"
  },
  "language_info": {
   "codemirror_mode": {
    "name": "ipython",
    "version": 3
   },
   "file_extension": ".py",
   "mimetype": "text/x-python",
   "name": "python",
   "nbconvert_exporter": "python",
   "pygments_lexer": "ipython3",
   "version": "3.7.3"
  },
  "nteract": {
   "version": "0.14.3"
  },
  "papermill": {
   "duration": 27.908112,
   "end_time": "2019-09-02T10:21:19.909859",
   "environment_variables": {},
   "exception": null,
   "input_path": "/users/tingard/gzbuilder_results/input_files/volunteer_losses.ipynb",
   "output_path": "/users/tingard/gzbuilder_results/output_files/volunteer_losses/21686523.ipynb",
   "parameters": {
    "subject_id": 21686523
   },
   "start_time": "2019-09-02T10:20:52.001747",
   "version": "1.0.1"
  }
 },
 "nbformat": 4,
 "nbformat_minor": 0
}