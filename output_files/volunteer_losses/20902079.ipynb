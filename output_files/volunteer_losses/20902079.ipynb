{
 "cells": [
  {
   "cell_type": "markdown",
   "metadata": {
    "papermill": {
     "duration": 0.011023,
     "end_time": "2019-09-02T10:20:16.312118",
     "exception": false,
     "start_time": "2019-09-02T10:20:16.301095",
     "status": "completed"
    },
    "tags": []
   },
   "source": [
    "# Volunteer model loss calculation\n",
    "\n",
    "This notebook takes a `subject_id` and calculates the MSE of each volunteer's model to the galaxy data. These losses are then glued to the notebook for use elsewhere."
   ]
  },
  {
   "cell_type": "code",
   "execution_count": 1,
   "metadata": {
    "collapsed": false,
    "inputHidden": false,
    "outputHidden": false,
    "papermill": {
     "duration": 0.033552,
     "end_time": "2019-09-02T10:20:16.364730",
     "exception": false,
     "start_time": "2019-09-02T10:20:16.331178",
     "status": "completed"
    },
    "tags": []
   },
   "outputs": [],
   "source": [
    "%load_ext autoreload\n",
    "%autoreload 2"
   ]
  },
  {
   "cell_type": "code",
   "execution_count": 2,
   "metadata": {
    "collapsed": false,
    "inputHidden": false,
    "outputHidden": false,
    "papermill": {
     "duration": 9.010085,
     "end_time": "2019-09-02T10:20:25.388578",
     "exception": false,
     "start_time": "2019-09-02T10:20:16.378493",
     "status": "completed"
    },
    "tags": []
   },
   "outputs": [
    {
     "name": "stderr",
     "output_type": "stream",
     "text": [
      "/opt/apps/pkgs/anaconda3/2019.03/intel64/lib/python3.7/site-packages/dask/config.py:168: YAMLLoadWarning: calling yaml.load() without Loader=... is deprecated, as the default Loader is unsafe. Please read https://msg.pyyaml.org/load for full details.\n",
      "  data = yaml.load(f.read()) or {}\n"
     ]
    }
   ],
   "source": [
    "import json\n",
    "import numpy as np\n",
    "import pandas as pd\n",
    "from tqdm import tqdm\n",
    "import matplotlib.pyplot as plt\n",
    "import seaborn as sns\n",
    "from gzbuilder_analysis import parsing, rendering, fitting\n",
    "import lib.galaxy_utilities as gu\n",
    "import scrapbook as sb"
   ]
  },
  {
   "cell_type": "code",
   "execution_count": 3,
   "metadata": {
    "collapsed": false,
    "inputHidden": false,
    "outputHidden": false,
    "papermill": {
     "duration": 0.044664,
     "end_time": "2019-09-02T10:20:25.449772",
     "exception": false,
     "start_time": "2019-09-02T10:20:25.405108",
     "status": "completed"
    },
    "tags": [
     "parameters"
    ]
   },
   "outputs": [],
   "source": [
    "subject_id = 20902040"
   ]
  },
  {
   "cell_type": "code",
   "execution_count": 4,
   "metadata": {
    "papermill": {
     "duration": 1.562814,
     "end_time": "2019-09-02T10:20:27.020157",
     "exception": false,
     "start_time": "2019-09-02T10:20:25.457343",
     "status": "completed"
    },
    "tags": [
     "injected-parameters"
    ]
   },
   "outputs": [],
   "source": [
    "# Parameters\n",
    "subject_id = 20902079\n"
   ]
  },
  {
   "cell_type": "code",
   "execution_count": 5,
   "metadata": {
    "collapsed": false,
    "inputHidden": false,
    "outputHidden": false,
    "papermill": {
     "duration": 0.152378,
     "end_time": "2019-09-02T10:20:27.181546",
     "exception": false,
     "start_time": "2019-09-02T10:20:27.029168",
     "status": "completed"
    },
    "tags": []
   },
   "outputs": [],
   "source": [
    "diff_data_df = pd.read_pickle('lib/fitting_metadata.pkl')"
   ]
  },
  {
   "cell_type": "code",
   "execution_count": 6,
   "metadata": {
    "collapsed": false,
    "inputHidden": false,
    "outputHidden": false,
    "papermill": {
     "duration": 0.053149,
     "end_time": "2019-09-02T10:20:27.242961",
     "exception": false,
     "start_time": "2019-09-02T10:20:27.189812",
     "status": "completed"
    },
    "tags": []
   },
   "outputs": [],
   "source": [
    "def get_losses_by_user(subject_id):\n",
    "  diff_data = diff_data_df.loc[subject_id]\n",
    "  psf = diff_data['psf']\n",
    "  pixel_mask = np.array(diff_data['pixel_mask'])[::-1]\n",
    "  galaxy_data = np.array(diff_data['galaxy_data'])[::-1]\n",
    "  image_size = galaxy_data.shape[0]\n",
    "  size_diff = diff_data['size_diff']\n",
    "  \n",
    "  cls = gu.classifications.query('subject_ids == {}'.format(subject_id))\n",
    "  names = cls.user_name \n",
    "  annotations = cls['annotations'].apply(json.loads)\n",
    "\n",
    "  models = annotations.apply(\n",
    "    parsing.parse_annotation,\n",
    "    size_diff=size_diff\n",
    "  )\n",
    "\n",
    "  tqdm.pandas(\n",
    "    desc='Rendering models'.format(subject_id),\n",
    "    leave=False\n",
    "  )\n",
    "  rendered = models.progress_apply(\n",
    "    rendering.calculate_model,\n",
    "    image_size=image_size,\n",
    "    psf=psf\n",
    "  ).rename('rendered')\n",
    "\n",
    "  tqdm.pandas(\n",
    "    desc='Calculating differences'.format(subject_id),\n",
    "    leave=False\n",
    "  )\n",
    "  losses = rendered.apply(\n",
    "    fitting.loss,\n",
    "    args=(galaxy_data, pixel_mask)\n",
    "  ).rename('loss')\n",
    "  all_losses = pd.Series(\n",
    "    losses.values,\n",
    "    index=names.values\n",
    "  ).rename(subject_id)\n",
    "  best_losses = pd.concat((\n",
    "    all_losses.where(\n",
    "      ~all_losses.duplicated(keep=False)\n",
    "    ).dropna(), # all non-duplicates\n",
    "    all_losses.where(\n",
    "      all_losses.duplicated(keep=False)\n",
    "    ).dropna().groupby(level=0).min() # best value of duplicates\n",
    "  ), axis=0)\n",
    "  return best_losses"
   ]
  },
  {
   "cell_type": "code",
   "execution_count": 7,
   "metadata": {
    "collapsed": false,
    "inputHidden": false,
    "outputHidden": false,
    "papermill": {
     "duration": 13.114403,
     "end_time": "2019-09-02T10:20:40.366058",
     "exception": false,
     "start_time": "2019-09-02T10:20:27.251655",
     "status": "completed"
    },
    "tags": []
   },
   "outputs": [
    {
     "name": "stderr",
     "output_type": "stream",
     "text": [
      "\r",
      "Rendering models:   0%|          | 0/111 [00:00<?, ?it/s]"
     ]
    },
    {
     "name": "stderr",
     "output_type": "stream",
     "text": [
      "\r",
      "Rendering models:   2%|▏         | 2/111 [00:02<02:33,  1.41s/it]"
     ]
    },
    {
     "name": "stderr",
     "output_type": "stream",
     "text": [
      "\r",
      "Rendering models:   4%|▎         | 4/111 [00:04<02:09,  1.21s/it]"
     ]
    },
    {
     "name": "stderr",
     "output_type": "stream",
     "text": [
      "\r",
      "Rendering models:   5%|▌         | 6/111 [00:04<01:30,  1.15it/s]"
     ]
    },
    {
     "name": "stderr",
     "output_type": "stream",
     "text": [
      "\r",
      "Rendering models:   8%|▊         | 9/111 [00:04<01:03,  1.61it/s]"
     ]
    },
    {
     "name": "stderr",
     "output_type": "stream",
     "text": [
      "\r",
      "Rendering models:  10%|▉         | 11/111 [00:07<01:22,  1.21it/s]"
     ]
    },
    {
     "name": "stderr",
     "output_type": "stream",
     "text": [
      "\r",
      "Rendering models:  12%|█▏        | 13/111 [00:07<00:58,  1.68it/s]"
     ]
    },
    {
     "name": "stderr",
     "output_type": "stream",
     "text": [
      "\r",
      "Rendering models:  14%|█▍        | 16/111 [00:07<00:41,  2.29it/s]"
     ]
    },
    {
     "name": "stderr",
     "output_type": "stream",
     "text": [
      "\r",
      "Rendering models:  16%|█▌        | 18/111 [00:07<00:30,  3.03it/s]"
     ]
    },
    {
     "name": "stderr",
     "output_type": "stream",
     "text": [
      "\r",
      "Rendering models:  18%|█▊        | 20/111 [00:07<00:23,  3.81it/s]"
     ]
    },
    {
     "name": "stderr",
     "output_type": "stream",
     "text": [
      "\r",
      "Rendering models:  21%|██        | 23/111 [00:08<00:17,  5.07it/s]"
     ]
    },
    {
     "name": "stderr",
     "output_type": "stream",
     "text": [
      "\r",
      "Rendering models:  23%|██▎       | 25/111 [00:08<00:13,  6.51it/s]"
     ]
    },
    {
     "name": "stderr",
     "output_type": "stream",
     "text": [
      "\r",
      "Rendering models:  28%|██▊       | 31/111 [00:08<00:09,  8.75it/s]"
     ]
    },
    {
     "name": "stderr",
     "output_type": "stream",
     "text": [
      "\r",
      "Rendering models:  31%|███       | 34/111 [00:08<00:07, 10.32it/s]"
     ]
    },
    {
     "name": "stderr",
     "output_type": "stream",
     "text": [
      "\r",
      "Rendering models:  33%|███▎      | 37/111 [00:08<00:06, 11.10it/s]"
     ]
    },
    {
     "name": "stderr",
     "output_type": "stream",
     "text": [
      "\r",
      "Rendering models:  35%|███▌      | 39/111 [00:08<00:05, 12.26it/s]"
     ]
    },
    {
     "name": "stderr",
     "output_type": "stream",
     "text": [
      "\r",
      "Rendering models:  37%|███▋      | 41/111 [00:08<00:05, 12.52it/s]"
     ]
    },
    {
     "name": "stderr",
     "output_type": "stream",
     "text": [
      "\r",
      "Rendering models:  39%|███▊      | 43/111 [00:09<00:05, 13.49it/s]"
     ]
    },
    {
     "name": "stderr",
     "output_type": "stream",
     "text": [
      "\r",
      "Rendering models:  41%|████▏     | 46/111 [00:09<00:04, 13.07it/s]"
     ]
    },
    {
     "name": "stderr",
     "output_type": "stream",
     "text": [
      "\r",
      "Rendering models:  43%|████▎     | 48/111 [00:09<00:04, 13.94it/s]"
     ]
    },
    {
     "name": "stderr",
     "output_type": "stream",
     "text": [
      "\r",
      "Rendering models:  45%|████▌     | 50/111 [00:09<00:04, 13.05it/s]"
     ]
    },
    {
     "name": "stderr",
     "output_type": "stream",
     "text": [
      "\r",
      "Rendering models:  47%|████▋     | 52/111 [00:09<00:04, 13.15it/s]"
     ]
    },
    {
     "name": "stderr",
     "output_type": "stream",
     "text": [
      "\r",
      "Rendering models:  49%|████▊     | 54/111 [00:09<00:04, 12.21it/s]"
     ]
    },
    {
     "name": "stderr",
     "output_type": "stream",
     "text": [
      "\r",
      "Rendering models:  50%|█████     | 56/111 [00:10<00:04, 12.45it/s]"
     ]
    },
    {
     "name": "stderr",
     "output_type": "stream",
     "text": [
      "\r",
      "Rendering models:  52%|█████▏    | 58/111 [00:10<00:04, 12.19it/s]"
     ]
    },
    {
     "name": "stderr",
     "output_type": "stream",
     "text": [
      "\r",
      "Rendering models:  54%|█████▍    | 60/111 [00:10<00:04, 12.55it/s]"
     ]
    },
    {
     "name": "stderr",
     "output_type": "stream",
     "text": [
      "\r",
      "Rendering models:  57%|█████▋    | 63/111 [00:10<00:03, 14.56it/s]"
     ]
    },
    {
     "name": "stderr",
     "output_type": "stream",
     "text": [
      "\r",
      "Rendering models:  59%|█████▊    | 65/111 [00:10<00:03, 14.61it/s]"
     ]
    },
    {
     "name": "stderr",
     "output_type": "stream",
     "text": [
      "\r",
      "Rendering models:  60%|██████    | 67/111 [00:10<00:03, 13.91it/s]"
     ]
    },
    {
     "name": "stderr",
     "output_type": "stream",
     "text": [
      "\r",
      "Rendering models:  62%|██████▏   | 69/111 [00:11<00:03, 12.98it/s]"
     ]
    },
    {
     "name": "stderr",
     "output_type": "stream",
     "text": [
      "\r",
      "Rendering models:  64%|██████▍   | 71/111 [00:11<00:03, 12.82it/s]"
     ]
    },
    {
     "name": "stderr",
     "output_type": "stream",
     "text": [
      "\r",
      "Rendering models:  67%|██████▋   | 74/111 [00:11<00:02, 14.33it/s]"
     ]
    },
    {
     "name": "stderr",
     "output_type": "stream",
     "text": [
      "\r",
      "Rendering models:  68%|██████▊   | 76/111 [00:11<00:02, 13.58it/s]"
     ]
    },
    {
     "name": "stderr",
     "output_type": "stream",
     "text": [
      "\r",
      "Rendering models:  76%|███████▌  | 84/111 [00:11<00:01, 17.28it/s]"
     ]
    },
    {
     "name": "stderr",
     "output_type": "stream",
     "text": [
      "\r",
      "Rendering models:  78%|███████▊  | 87/111 [00:11<00:01, 16.75it/s]"
     ]
    },
    {
     "name": "stderr",
     "output_type": "stream",
     "text": [
      "\r",
      "Rendering models:  81%|████████  | 90/111 [00:11<00:01, 17.60it/s]"
     ]
    },
    {
     "name": "stderr",
     "output_type": "stream",
     "text": [
      "\r",
      "Rendering models:  84%|████████▍ | 93/111 [00:12<00:00, 18.80it/s]"
     ]
    },
    {
     "name": "stderr",
     "output_type": "stream",
     "text": [
      "\r",
      "Rendering models:  86%|████████▋ | 96/111 [00:12<00:00, 18.37it/s]"
     ]
    },
    {
     "name": "stderr",
     "output_type": "stream",
     "text": [
      "\r",
      "Rendering models:  92%|█████████▏| 102/111 [00:12<00:00, 21.97it/s]"
     ]
    },
    {
     "name": "stderr",
     "output_type": "stream",
     "text": [
      "\r",
      "Rendering models:  95%|█████████▌| 106/111 [00:12<00:00, 24.48it/s]"
     ]
    },
    {
     "name": "stderr",
     "output_type": "stream",
     "text": [
      "\r",
      "Rendering models:  98%|█████████▊| 109/111 [00:12<00:00, 23.25it/s]"
     ]
    },
    {
     "name": "stderr",
     "output_type": "stream",
     "text": [
      "\r",
      "                                                                   "
     ]
    },
    {
     "name": "stderr",
     "output_type": "stream",
     "text": [
      "\r"
     ]
    },
    {
     "data": {
      "text/plain": [
       "equidad1                              0.000383\n",
       "kayleebug2017                         0.001793\n",
       "DrJackie                              0.000980\n",
       "Thedunkmasta                          0.001720\n",
       "Thedunkmasta                          0.001626\n",
       "Thedunkmasta                          0.001825\n",
       "Thedunkmasta                          0.001809\n",
       "Thedunkmasta                          0.002383\n",
       "Thedunkmasta                          0.001943\n",
       "Thedunkmasta                          0.002040\n",
       "Thedunkmasta                          0.001756\n",
       "Thedunkmasta                          0.001722\n",
       "DavidCastillo1702                     0.001012\n",
       "not-logged-in-769e51a01946aca9871e    0.569979\n",
       "sinjinza1984                          0.000459\n",
       "graciegirl                            0.000534\n",
       "Michidisperso                         0.000410\n",
       "Paddy_van_CH                          0.000490\n",
       "not-logged-in-a0164d241f30411408f0    0.000782\n",
       "clizardo                              0.000454\n",
       "mkirms                                0.000859\n",
       "clizardo                              0.000394\n",
       "M_Mij                                 0.000789\n",
       "mchaffin                              0.000392\n",
       "djcameron                             0.000479\n",
       "wthammas                              0.000504\n",
       "djcameron                             0.000391\n",
       "atinkess                              0.003570\n",
       "not-logged-in-d4bf4d941a1b00de226b    0.000842\n",
       "creinbol                              0.000406\n",
       "                                        ...   \n",
       "campanellimichael13                   0.003507\n",
       "campanellimichael13                   0.004212\n",
       "not-logged-in-812b279e0836b083d452    0.000540\n",
       "not-logged-in-812b279e0836b083d452    0.000717\n",
       "not-logged-in-812b279e0836b083d452    0.000333\n",
       "not-logged-in-812b279e0836b083d452    0.000411\n",
       "not-logged-in-cd6a5cac0334cc279337    0.001414\n",
       "not-logged-in-ac7795b7ecbeeb1a3b7b    0.105461\n",
       "liamthepilot                          0.001719\n",
       "ksheahon                              0.001781\n",
       "lmhob14                               0.000469\n",
       "not-logged-in-2daa211295057b4c7b90    0.001683\n",
       "not-logged-in-0e3e70e1d3b18f36e427    0.058054\n",
       "Lavadude                              0.004643\n",
       "bigdeath                              0.004643\n",
       "campanellimichael13                   0.004643\n",
       "cchen88                               0.004643\n",
       "ckkmomma                              0.004643\n",
       "gfess                                 0.001868\n",
       "heathmonie                            0.004643\n",
       "ksheahon                              0.004643\n",
       "lam123ghjkl                           0.004643\n",
       "ncaro                                 0.004643\n",
       "not-logged-in-2cac6e8c2f9094b92049    0.004643\n",
       "not-logged-in-5e4e60b2e9587579f2ef    0.004643\n",
       "not-logged-in-812b279e0836b083d452    0.004643\n",
       "not-logged-in-b06422295a849c2d2c3d    0.477615\n",
       "not-logged-in-c377baab2abd03e411f8    0.004643\n",
       "not-logged-in-cd6a5cac0334cc279337    0.004643\n",
       "not-logged-in-ea8ed61a7274cfb6a43b    0.303572\n",
       "Name: 20902079, Length: 95, dtype: float64"
      ]
     },
     "execution_count": 7,
     "metadata": {},
     "output_type": "execute_result"
    }
   ],
   "source": [
    "losses = get_losses_by_user(subject_id)\n",
    "losses"
   ]
  },
  {
   "cell_type": "code",
   "execution_count": 8,
   "metadata": {
    "collapsed": false,
    "inputHidden": false,
    "outputHidden": false,
    "papermill": {
     "duration": 0.07022,
     "end_time": "2019-09-02T10:20:40.455012",
     "exception": false,
     "start_time": "2019-09-02T10:20:40.384792",
     "status": "completed"
    },
    "tags": []
   },
   "outputs": [
    {
     "data": {
      "application/scrapbook.scrap.json+json": {
       "data": 20902079,
       "encoder": "json",
       "name": "subject_id",
       "version": 1
      }
     },
     "metadata": {
      "scrapbook": {
       "data": true,
       "display": false,
       "name": "subject_id"
      }
     },
     "output_type": "display_data"
    },
    {
     "data": {
      "application/scrapbook.scrap.json+json": {
       "data": {
        "Baileygillum": 0.0004804549080251251,
        "CBAIN25": 0.0007462226438794372,
        "CScampstudent": 0.1956773208475653,
        "Corradini004": 0.0004428973103166555,
        "DavidCastillo1702": 0.001011787741381567,
        "Diamon22": 0.0011144348940049207,
        "DrJackie": 0.00098010163564751,
        "Lavadude": 0.0046434982778544714,
        "M_Mij": 0.0007887899599655826,
        "Michidisperso": 0.0004095627673691719,
        "Paddy_van_CH": 0.0004898407516745119,
        "Rian_NL": 0.00455877319258649,
        "Thedunkmasta": 0.0017219574783294556,
        "adventures": 0.27131628876113023,
        "atinkess": 0.0035701105153375435,
        "bigdeath": 0.0046434982778544714,
        "campanellimichael13": 0.0046434982778544714,
        "cchen88": 0.0046434982778544714,
        "ckkmomma": 0.0046434982778544714,
        "clizardo": 0.0003942161646649244,
        "creinbol": 0.0005004807325938916,
        "denzel.ayala": 0.0012744667254473512,
        "djcameron": 0.0003914840790570025,
        "dmosier13": 0.000489108833702619,
        "edgardo.e.nogueira": 0.004378358494514213,
        "equidad1": 0.0003827005396861653,
        "gfess": 0.0018680809558344407,
        "graciegirl": 0.0005343183135327643,
        "heathmonie": 0.0046434982778544714,
        "kayleebug2017": 0.0017928195257767066,
        "ksheahon": 0.0046434982778544714,
        "lam123ghjkl": 0.0046434982778544714,
        "liamthepilot": 0.0017186879935207988,
        "lmhob14": 0.00046858033441400676,
        "maryum": 0.0010993301115797924,
        "mchaffin": 0.00039211379584236665,
        "mkirms": 0.0008586269020458677,
        "ncaro": 0.0046434982778544714,
        "not-logged-in-0e3e70e1d3b18f36e427": 0.05805398328395364,
        "not-logged-in-2cac6e8c2f9094b92049": 0.0046434982778544714,
        "not-logged-in-2daa211295057b4c7b90": 0.0016828194183837282,
        "not-logged-in-44f245cd4f87737eb838": 0.00041402568815407755,
        "not-logged-in-5e4e60b2e9587579f2ef": 0.0046434982778544714,
        "not-logged-in-666ec8d326b84bd03ae7": 0.0017916987128308065,
        "not-logged-in-769e51a01946aca9871e": 0.5699791918957264,
        "not-logged-in-80141d8153f2c339eea0": 0.13357543480148532,
        "not-logged-in-812b279e0836b083d452": 0.0046434982778544714,
        "not-logged-in-a0164d241f30411408f0": 0.0007818263775799775,
        "not-logged-in-ac7795b7ecbeeb1a3b7b": 0.1054613018400755,
        "not-logged-in-b06422295a849c2d2c3d": 0.47761534411336853,
        "not-logged-in-b2405a00b7424e04af17": 0.0015246936555930763,
        "not-logged-in-c377baab2abd03e411f8": 0.0046434982778544714,
        "not-logged-in-c93a3be1e310155084ca": 0.0011175988718841188,
        "not-logged-in-cd264b9dcb74a8a123a9": 0.0032643123704835875,
        "not-logged-in-cd6a5cac0334cc279337": 0.0046434982778544714,
        "not-logged-in-d4bf4d941a1b00de226b": 0.0008415427881420274,
        "not-logged-in-ea8ed61a7274cfb6a43b": 0.30357223136947814,
        "not-logged-in-f7e2260ed4a9517a3e4a": 0.0017155342391564432,
        "pi20": 0.003973819385556959,
        "sinjinza1984": 0.00045918805859797713,
        "sn346808": 0.024045888534757257,
        "tdrabic": 0.0006339672939015947,
        "wthammas": 0.0005040139036221242
       },
       "encoder": "json",
       "name": "losses",
       "version": 1
      }
     },
     "metadata": {
      "scrapbook": {
       "data": true,
       "display": false,
       "name": "losses"
      }
     },
     "output_type": "display_data"
    }
   ],
   "source": [
    "sb.glue('subject_id', subject_id)\n",
    "sb.glue('losses', losses.to_dict())"
   ]
  }
 ],
 "metadata": {
  "kernel_info": {
   "name": "python3"
  },
  "kernelspec": {
   "display_name": "Python 3",
   "language": "python",
   "name": "python3"
  },
  "language_info": {
   "codemirror_mode": {
    "name": "ipython",
    "version": 3
   },
   "file_extension": ".py",
   "mimetype": "text/x-python",
   "name": "python",
   "nbconvert_exporter": "python",
   "pygments_lexer": "ipython3",
   "version": "3.7.3"
  },
  "nteract": {
   "version": "0.14.3"
  },
  "papermill": {
   "duration": 28.132559,
   "end_time": "2019-09-02T10:20:41.792666",
   "environment_variables": {},
   "exception": null,
   "input_path": "/users/tingard/gzbuilder_results/input_files/volunteer_losses.ipynb",
   "output_path": "/users/tingard/gzbuilder_results/output_files/volunteer_losses/20902079.ipynb",
   "parameters": {
    "subject_id": 20902079
   },
   "start_time": "2019-09-02T10:20:13.660107",
   "version": "1.0.1"
  }
 },
 "nbformat": 4,
 "nbformat_minor": 0
}