{
 "cells": [
  {
   "cell_type": "markdown",
   "metadata": {
    "papermill": {
     "duration": 0.008112,
     "end_time": "2019-09-02T10:20:47.362689",
     "exception": false,
     "start_time": "2019-09-02T10:20:47.354577",
     "status": "completed"
    },
    "tags": []
   },
   "source": [
    "# Volunteer model loss calculation\n",
    "\n",
    "This notebook takes a `subject_id` and calculates the MSE of each volunteer's model to the galaxy data. These losses are then glued to the notebook for use elsewhere."
   ]
  },
  {
   "cell_type": "code",
   "execution_count": 1,
   "metadata": {
    "collapsed": false,
    "inputHidden": false,
    "outputHidden": false,
    "papermill": {
     "duration": 0.02527,
     "end_time": "2019-09-02T10:20:47.395483",
     "exception": false,
     "start_time": "2019-09-02T10:20:47.370213",
     "status": "completed"
    },
    "tags": []
   },
   "outputs": [],
   "source": [
    "%load_ext autoreload\n",
    "%autoreload 2"
   ]
  },
  {
   "cell_type": "code",
   "execution_count": 2,
   "metadata": {
    "collapsed": false,
    "inputHidden": false,
    "outputHidden": false,
    "papermill": {
     "duration": 4.300088,
     "end_time": "2019-09-02T10:20:51.702905",
     "exception": false,
     "start_time": "2019-09-02T10:20:47.402817",
     "status": "completed"
    },
    "tags": []
   },
   "outputs": [
    {
     "name": "stderr",
     "output_type": "stream",
     "text": [
      "/opt/apps/pkgs/anaconda3/2019.03/intel64/lib/python3.7/site-packages/dask/config.py:168: YAMLLoadWarning: calling yaml.load() without Loader=... is deprecated, as the default Loader is unsafe. Please read https://msg.pyyaml.org/load for full details.\n",
      "  data = yaml.load(f.read()) or {}\n"
     ]
    }
   ],
   "source": [
    "import json\n",
    "import numpy as np\n",
    "import pandas as pd\n",
    "from tqdm import tqdm\n",
    "import matplotlib.pyplot as plt\n",
    "import seaborn as sns\n",
    "from gzbuilder_analysis import parsing, rendering, fitting\n",
    "import lib.galaxy_utilities as gu\n",
    "import scrapbook as sb"
   ]
  },
  {
   "cell_type": "code",
   "execution_count": 3,
   "metadata": {
    "collapsed": false,
    "inputHidden": false,
    "outputHidden": false,
    "papermill": {
     "duration": 0.047124,
     "end_time": "2019-09-02T10:20:51.758128",
     "exception": false,
     "start_time": "2019-09-02T10:20:51.711004",
     "status": "completed"
    },
    "tags": [
     "parameters"
    ]
   },
   "outputs": [],
   "source": [
    "subject_id = 20902040"
   ]
  },
  {
   "cell_type": "code",
   "execution_count": 4,
   "metadata": {
    "papermill": {
     "duration": 1.261381,
     "end_time": "2019-09-02T10:20:53.027610",
     "exception": false,
     "start_time": "2019-09-02T10:20:51.766229",
     "status": "completed"
    },
    "tags": [
     "injected-parameters"
    ]
   },
   "outputs": [],
   "source": [
    "# Parameters\n",
    "subject_id = 21096895\n"
   ]
  },
  {
   "cell_type": "code",
   "execution_count": 5,
   "metadata": {
    "collapsed": false,
    "inputHidden": false,
    "outputHidden": false,
    "papermill": {
     "duration": 0.15025,
     "end_time": "2019-09-02T10:20:53.186610",
     "exception": false,
     "start_time": "2019-09-02T10:20:53.036360",
     "status": "completed"
    },
    "tags": []
   },
   "outputs": [],
   "source": [
    "diff_data_df = pd.read_pickle('lib/fitting_metadata.pkl')"
   ]
  },
  {
   "cell_type": "code",
   "execution_count": 6,
   "metadata": {
    "collapsed": false,
    "inputHidden": false,
    "outputHidden": false,
    "papermill": {
     "duration": 0.244185,
     "end_time": "2019-09-02T10:20:53.440822",
     "exception": false,
     "start_time": "2019-09-02T10:20:53.196637",
     "status": "completed"
    },
    "tags": []
   },
   "outputs": [],
   "source": [
    "def get_losses_by_user(subject_id):\n",
    "  diff_data = diff_data_df.loc[subject_id]\n",
    "  psf = diff_data['psf']\n",
    "  pixel_mask = np.array(diff_data['pixel_mask'])[::-1]\n",
    "  galaxy_data = np.array(diff_data['galaxy_data'])[::-1]\n",
    "  image_size = galaxy_data.shape[0]\n",
    "  size_diff = diff_data['size_diff']\n",
    "  \n",
    "  cls = gu.classifications.query('subject_ids == {}'.format(subject_id))\n",
    "  names = cls.user_name \n",
    "  annotations = cls['annotations'].apply(json.loads)\n",
    "\n",
    "  models = annotations.apply(\n",
    "    parsing.parse_annotation,\n",
    "    size_diff=size_diff\n",
    "  )\n",
    "\n",
    "  tqdm.pandas(\n",
    "    desc='Rendering models'.format(subject_id),\n",
    "    leave=False\n",
    "  )\n",
    "  rendered = models.progress_apply(\n",
    "    rendering.calculate_model,\n",
    "    image_size=image_size,\n",
    "    psf=psf\n",
    "  ).rename('rendered')\n",
    "\n",
    "  tqdm.pandas(\n",
    "    desc='Calculating differences'.format(subject_id),\n",
    "    leave=False\n",
    "  )\n",
    "  losses = rendered.apply(\n",
    "    fitting.loss,\n",
    "    args=(galaxy_data, pixel_mask)\n",
    "  ).rename('loss')\n",
    "  all_losses = pd.Series(\n",
    "    losses.values,\n",
    "    index=names.values\n",
    "  ).rename(subject_id)\n",
    "  best_losses = pd.concat((\n",
    "    all_losses.where(\n",
    "      ~all_losses.duplicated(keep=False)\n",
    "    ).dropna(), # all non-duplicates\n",
    "    all_losses.where(\n",
    "      all_losses.duplicated(keep=False)\n",
    "    ).dropna().groupby(level=0).min() # best value of duplicates\n",
    "  ), axis=0)\n",
    "  return best_losses"
   ]
  },
  {
   "cell_type": "code",
   "execution_count": 7,
   "metadata": {
    "collapsed": false,
    "inputHidden": false,
    "outputHidden": false,
    "papermill": {
     "duration": 11.842344,
     "end_time": "2019-09-02T10:21:05.291134",
     "exception": false,
     "start_time": "2019-09-02T10:20:53.448790",
     "status": "completed"
    },
    "tags": []
   },
   "outputs": [
    {
     "name": "stderr",
     "output_type": "stream",
     "text": [
      "\r",
      "Rendering models:   0%|          | 0/34 [00:00<?, ?it/s]"
     ]
    },
    {
     "name": "stderr",
     "output_type": "stream",
     "text": [
      "\r",
      "Rendering models:   6%|▌         | 2/34 [00:06<01:50,  3.44s/it]"
     ]
    },
    {
     "name": "stderr",
     "output_type": "stream",
     "text": [
      "\r",
      "Rendering models:   9%|▉         | 3/34 [00:06<01:15,  2.44s/it]"
     ]
    },
    {
     "name": "stderr",
     "output_type": "stream",
     "text": [
      "\r",
      "Rendering models:  12%|█▏        | 4/34 [00:07<00:53,  1.80s/it]"
     ]
    },
    {
     "name": "stderr",
     "output_type": "stream",
     "text": [
      "\r",
      "Rendering models:  15%|█▍        | 5/34 [00:07<00:37,  1.31s/it]"
     ]
    },
    {
     "name": "stderr",
     "output_type": "stream",
     "text": [
      "\r",
      "Rendering models:  18%|█▊        | 6/34 [00:07<00:26,  1.04it/s]"
     ]
    },
    {
     "name": "stderr",
     "output_type": "stream",
     "text": [
      "\r",
      "Rendering models:  21%|██        | 7/34 [00:07<00:19,  1.40it/s]"
     ]
    },
    {
     "name": "stderr",
     "output_type": "stream",
     "text": [
      "\r",
      "Rendering models:  24%|██▎       | 8/34 [00:07<00:14,  1.78it/s]"
     ]
    },
    {
     "name": "stderr",
     "output_type": "stream",
     "text": [
      "\r",
      "Rendering models:  26%|██▋       | 9/34 [00:08<00:11,  2.27it/s]"
     ]
    },
    {
     "name": "stderr",
     "output_type": "stream",
     "text": [
      "\r",
      "Rendering models:  32%|███▏      | 11/34 [00:08<00:07,  3.03it/s]"
     ]
    },
    {
     "name": "stderr",
     "output_type": "stream",
     "text": [
      "\r",
      "Rendering models:  35%|███▌      | 12/34 [00:08<00:06,  3.54it/s]"
     ]
    },
    {
     "name": "stderr",
     "output_type": "stream",
     "text": [
      "\r",
      "Rendering models:  38%|███▊      | 13/34 [00:08<00:06,  3.46it/s]"
     ]
    },
    {
     "name": "stderr",
     "output_type": "stream",
     "text": [
      "\r",
      "Rendering models:  50%|█████     | 17/34 [00:08<00:03,  4.62it/s]"
     ]
    },
    {
     "name": "stderr",
     "output_type": "stream",
     "text": [
      "\r",
      "Rendering models:  56%|█████▌    | 19/34 [00:09<00:03,  4.58it/s]"
     ]
    },
    {
     "name": "stderr",
     "output_type": "stream",
     "text": [
      "\r",
      "Rendering models:  62%|██████▏   | 21/34 [00:09<00:02,  5.21it/s]"
     ]
    },
    {
     "name": "stderr",
     "output_type": "stream",
     "text": [
      "\r",
      "Rendering models:  65%|██████▍   | 22/34 [00:09<00:02,  4.89it/s]"
     ]
    },
    {
     "name": "stderr",
     "output_type": "stream",
     "text": [
      "\r",
      "Rendering models:  71%|███████   | 24/34 [00:10<00:01,  5.50it/s]"
     ]
    },
    {
     "name": "stderr",
     "output_type": "stream",
     "text": [
      "\r",
      "Rendering models:  76%|███████▋  | 26/34 [00:10<00:01,  6.78it/s]"
     ]
    },
    {
     "name": "stderr",
     "output_type": "stream",
     "text": [
      "\r",
      "Rendering models:  79%|███████▉  | 27/34 [00:10<00:01,  6.89it/s]"
     ]
    },
    {
     "name": "stderr",
     "output_type": "stream",
     "text": [
      "\r",
      "Rendering models:  85%|████████▌ | 29/34 [00:10<00:00,  7.14it/s]"
     ]
    },
    {
     "name": "stderr",
     "output_type": "stream",
     "text": [
      "\r",
      "Rendering models:  88%|████████▊ | 30/34 [00:10<00:00,  6.76it/s]"
     ]
    },
    {
     "name": "stderr",
     "output_type": "stream",
     "text": [
      "\r",
      "Rendering models:  91%|█████████ | 31/34 [00:10<00:00,  6.41it/s]"
     ]
    },
    {
     "name": "stderr",
     "output_type": "stream",
     "text": [
      "\r",
      "Rendering models:  94%|█████████▍| 32/34 [00:11<00:00,  6.04it/s]"
     ]
    },
    {
     "name": "stderr",
     "output_type": "stream",
     "text": [
      "\r",
      "Rendering models:  97%|█████████▋| 33/34 [00:11<00:00,  6.16it/s]"
     ]
    },
    {
     "name": "stderr",
     "output_type": "stream",
     "text": [
      "\r",
      "Rendering models: 100%|██████████| 34/34 [00:11<00:00,  6.62it/s]"
     ]
    },
    {
     "name": "stderr",
     "output_type": "stream",
     "text": [
      "\r",
      "                                                                 "
     ]
    },
    {
     "name": "stderr",
     "output_type": "stream",
     "text": [
      "\r"
     ]
    },
    {
     "data": {
      "text/plain": [
       "not-logged-in-0c68db93566efd3108c4    0.001855\n",
       "not-logged-in-7edd9b2ab9752961abc1    0.030128\n",
       "jnarayanbvg                           0.000326\n",
       "c196948                               0.003238\n",
       "awright5                              0.005036\n",
       "not-logged-in-c6917d9b19f41e6c2995    0.002137\n",
       "TSM_Ginga                             0.000805\n",
       "ElisabethB                            0.066872\n",
       "not-logged-in-c7fa0939ae81c509c79f    0.001853\n",
       "not-logged-in-3b165c705d7744fc4c51    0.001056\n",
       "not-logged-in-7c0e3b1ae8dc7fbb6b66    0.003885\n",
       "maybeadayoff                          0.000503\n",
       "pangeli5                              0.000434\n",
       "pangeli5                              0.000403\n",
       "AlexYoung35                           0.000601\n",
       "XxBABYGRUFFALOxX                      0.002071\n",
       "clairedeu                             0.000911\n",
       "tominas                               0.006520\n",
       "tominas                               0.000478\n",
       "not-logged-in-300dca7f45d1a5d1dd58    0.032148\n",
       "alexmnelson18                         0.000382\n",
       "Mr_DMan                               0.001060\n",
       "rhondacard                            0.003297\n",
       "Lavadude                              0.007858\n",
       "not-logged-in-264a1fa937b3fe35ace6    0.000955\n",
       "snhammes                              0.011798\n",
       "not-logged-in-3429675089c67c4fccb8    0.007089\n",
       "kgenere                               0.001260\n",
       "dhaywoo                               0.001026\n",
       "not-logged-in-3a93234a2311f6df1afd    0.000390\n",
       "Ellaaa666                             0.003971\n",
       "dxjdxjhhhh                            0.003971\n",
       "Name: 21096895, dtype: float64"
      ]
     },
     "execution_count": 7,
     "metadata": {},
     "output_type": "execute_result"
    }
   ],
   "source": [
    "losses = get_losses_by_user(subject_id)\n",
    "losses"
   ]
  },
  {
   "cell_type": "code",
   "execution_count": 8,
   "metadata": {
    "collapsed": false,
    "inputHidden": false,
    "outputHidden": false,
    "papermill": {
     "duration": 0.070615,
     "end_time": "2019-09-02T10:21:05.375963",
     "exception": false,
     "start_time": "2019-09-02T10:21:05.305348",
     "status": "completed"
    },
    "tags": []
   },
   "outputs": [
    {
     "data": {
      "application/scrapbook.scrap.json+json": {
       "data": 21096895,
       "encoder": "json",
       "name": "subject_id",
       "version": 1
      }
     },
     "metadata": {
      "scrapbook": {
       "data": true,
       "display": false,
       "name": "subject_id"
      }
     },
     "output_type": "display_data"
    },
    {
     "data": {
      "application/scrapbook.scrap.json+json": {
       "data": {
        "AlexYoung35": 0.0006014092251428413,
        "ElisabethB": 0.06687236382995096,
        "Ellaaa666": 0.003971046277548031,
        "Lavadude": 0.007858496183015028,
        "Mr_DMan": 0.001059659612583933,
        "TSM_Ginga": 0.0008047769664844404,
        "XxBABYGRUFFALOxX": 0.002071207854150285,
        "alexmnelson18": 0.0003817958732775947,
        "awright5": 0.005036061262554227,
        "c196948": 0.0032383486524732944,
        "clairedeu": 0.0009110324419503527,
        "dhaywoo": 0.001025514624132878,
        "dxjdxjhhhh": 0.003971046277548031,
        "jnarayanbvg": 0.0003258983765077134,
        "kgenere": 0.0012598051376327111,
        "maybeadayoff": 0.0005027933707621051,
        "not-logged-in-0c68db93566efd3108c4": 0.0018551679588444895,
        "not-logged-in-264a1fa937b3fe35ace6": 0.0009549554430126682,
        "not-logged-in-300dca7f45d1a5d1dd58": 0.03214837916257775,
        "not-logged-in-3429675089c67c4fccb8": 0.007088780670262777,
        "not-logged-in-3a93234a2311f6df1afd": 0.00038961042442773556,
        "not-logged-in-3b165c705d7744fc4c51": 0.0010563405090094804,
        "not-logged-in-7c0e3b1ae8dc7fbb6b66": 0.00388470125300561,
        "not-logged-in-7edd9b2ab9752961abc1": 0.03012808164930406,
        "not-logged-in-c6917d9b19f41e6c2995": 0.002136555954542586,
        "not-logged-in-c7fa0939ae81c509c79f": 0.001853289998426358,
        "pangeli5": 0.00040251523849940967,
        "rhondacard": 0.0032970053941451245,
        "snhammes": 0.011798334565363647,
        "tominas": 0.0004776956416113165
       },
       "encoder": "json",
       "name": "losses",
       "version": 1
      }
     },
     "metadata": {
      "scrapbook": {
       "data": true,
       "display": false,
       "name": "losses"
      }
     },
     "output_type": "display_data"
    }
   ],
   "source": [
    "sb.glue('subject_id', subject_id)\n",
    "sb.glue('losses', losses.to_dict())"
   ]
  }
 ],
 "metadata": {
  "kernel_info": {
   "name": "python3"
  },
  "kernelspec": {
   "display_name": "Python 3",
   "language": "python",
   "name": "python3"
  },
  "language_info": {
   "codemirror_mode": {
    "name": "ipython",
    "version": 3
   },
   "file_extension": ".py",
   "mimetype": "text/x-python",
   "name": "python",
   "nbconvert_exporter": "python",
   "pygments_lexer": "ipython3",
   "version": "3.7.3"
  },
  "nteract": {
   "version": "0.14.3"
  },
  "papermill": {
   "duration": 21.002908,
   "end_time": "2019-09-02T10:21:06.492511",
   "environment_variables": {},
   "exception": null,
   "input_path": "/users/tingard/gzbuilder_results/input_files/volunteer_losses.ipynb",
   "output_path": "/users/tingard/gzbuilder_results/output_files/volunteer_losses/21096895.ipynb",
   "parameters": {
    "subject_id": 21096895
   },
   "start_time": "2019-09-02T10:20:45.489603",
   "version": "1.0.1"
  }
 },
 "nbformat": 4,
 "nbformat_minor": 0
}