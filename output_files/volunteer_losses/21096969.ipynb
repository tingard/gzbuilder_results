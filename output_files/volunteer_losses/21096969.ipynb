{
 "cells": [
  {
   "cell_type": "markdown",
   "metadata": {
    "papermill": {
     "duration": 0.009551,
     "end_time": "2019-09-02T10:20:41.055979",
     "exception": false,
     "start_time": "2019-09-02T10:20:41.046428",
     "status": "completed"
    },
    "tags": []
   },
   "source": [
    "# Volunteer model loss calculation\n",
    "\n",
    "This notebook takes a `subject_id` and calculates the MSE of each volunteer's model to the galaxy data. These losses are then glued to the notebook for use elsewhere."
   ]
  },
  {
   "cell_type": "code",
   "execution_count": 1,
   "metadata": {
    "collapsed": false,
    "inputHidden": false,
    "outputHidden": false,
    "papermill": {
     "duration": 0.028073,
     "end_time": "2019-09-02T10:20:41.091872",
     "exception": false,
     "start_time": "2019-09-02T10:20:41.063799",
     "status": "completed"
    },
    "tags": []
   },
   "outputs": [],
   "source": [
    "%load_ext autoreload\n",
    "%autoreload 2"
   ]
  },
  {
   "cell_type": "code",
   "execution_count": 2,
   "metadata": {
    "collapsed": false,
    "inputHidden": false,
    "outputHidden": false,
    "papermill": {
     "duration": 4.462411,
     "end_time": "2019-09-02T10:20:45.562309",
     "exception": false,
     "start_time": "2019-09-02T10:20:41.099898",
     "status": "completed"
    },
    "tags": []
   },
   "outputs": [
    {
     "name": "stderr",
     "output_type": "stream",
     "text": [
      "/opt/apps/pkgs/anaconda3/2019.03/intel64/lib/python3.7/site-packages/dask/config.py:168: YAMLLoadWarning: calling yaml.load() without Loader=... is deprecated, as the default Loader is unsafe. Please read https://msg.pyyaml.org/load for full details.\n",
      "  data = yaml.load(f.read()) or {}\n"
     ]
    }
   ],
   "source": [
    "import json\n",
    "import numpy as np\n",
    "import pandas as pd\n",
    "from tqdm import tqdm\n",
    "import matplotlib.pyplot as plt\n",
    "import seaborn as sns\n",
    "from gzbuilder_analysis import parsing, rendering, fitting\n",
    "import lib.galaxy_utilities as gu\n",
    "import scrapbook as sb"
   ]
  },
  {
   "cell_type": "code",
   "execution_count": 3,
   "metadata": {
    "collapsed": false,
    "inputHidden": false,
    "outputHidden": false,
    "papermill": {
     "duration": 0.048355,
     "end_time": "2019-09-02T10:20:45.619483",
     "exception": false,
     "start_time": "2019-09-02T10:20:45.571128",
     "status": "completed"
    },
    "tags": [
     "parameters"
    ]
   },
   "outputs": [],
   "source": [
    "subject_id = 20902040"
   ]
  },
  {
   "cell_type": "code",
   "execution_count": 4,
   "metadata": {
    "papermill": {
     "duration": 0.061755,
     "end_time": "2019-09-02T10:20:45.688924",
     "exception": false,
     "start_time": "2019-09-02T10:20:45.627169",
     "status": "completed"
    },
    "tags": [
     "injected-parameters"
    ]
   },
   "outputs": [],
   "source": [
    "# Parameters\n",
    "subject_id = 21096969\n"
   ]
  },
  {
   "cell_type": "code",
   "execution_count": 5,
   "metadata": {
    "collapsed": false,
    "inputHidden": false,
    "outputHidden": false,
    "papermill": {
     "duration": 0.159652,
     "end_time": "2019-09-02T10:20:45.857760",
     "exception": false,
     "start_time": "2019-09-02T10:20:45.698108",
     "status": "completed"
    },
    "tags": []
   },
   "outputs": [],
   "source": [
    "diff_data_df = pd.read_pickle('lib/fitting_metadata.pkl')"
   ]
  },
  {
   "cell_type": "code",
   "execution_count": 6,
   "metadata": {
    "collapsed": false,
    "inputHidden": false,
    "outputHidden": false,
    "papermill": {
     "duration": 0.052584,
     "end_time": "2019-09-02T10:20:45.918933",
     "exception": false,
     "start_time": "2019-09-02T10:20:45.866349",
     "status": "completed"
    },
    "tags": []
   },
   "outputs": [],
   "source": [
    "def get_losses_by_user(subject_id):\n",
    "  diff_data = diff_data_df.loc[subject_id]\n",
    "  psf = diff_data['psf']\n",
    "  pixel_mask = np.array(diff_data['pixel_mask'])[::-1]\n",
    "  galaxy_data = np.array(diff_data['galaxy_data'])[::-1]\n",
    "  image_size = galaxy_data.shape[0]\n",
    "  size_diff = diff_data['size_diff']\n",
    "  \n",
    "  cls = gu.classifications.query('subject_ids == {}'.format(subject_id))\n",
    "  names = cls.user_name \n",
    "  annotations = cls['annotations'].apply(json.loads)\n",
    "\n",
    "  models = annotations.apply(\n",
    "    parsing.parse_annotation,\n",
    "    size_diff=size_diff\n",
    "  )\n",
    "\n",
    "  tqdm.pandas(\n",
    "    desc='Rendering models'.format(subject_id),\n",
    "    leave=False\n",
    "  )\n",
    "  rendered = models.progress_apply(\n",
    "    rendering.calculate_model,\n",
    "    image_size=image_size,\n",
    "    psf=psf\n",
    "  ).rename('rendered')\n",
    "\n",
    "  tqdm.pandas(\n",
    "    desc='Calculating differences'.format(subject_id),\n",
    "    leave=False\n",
    "  )\n",
    "  losses = rendered.apply(\n",
    "    fitting.loss,\n",
    "    args=(galaxy_data, pixel_mask)\n",
    "  ).rename('loss')\n",
    "  all_losses = pd.Series(\n",
    "    losses.values,\n",
    "    index=names.values\n",
    "  ).rename(subject_id)\n",
    "  best_losses = pd.concat((\n",
    "    all_losses.where(\n",
    "      ~all_losses.duplicated(keep=False)\n",
    "    ).dropna(), # all non-duplicates\n",
    "    all_losses.where(\n",
    "      all_losses.duplicated(keep=False)\n",
    "    ).dropna().groupby(level=0).min() # best value of duplicates\n",
    "  ), axis=0)\n",
    "  return best_losses"
   ]
  },
  {
   "cell_type": "code",
   "execution_count": 7,
   "metadata": {
    "collapsed": false,
    "inputHidden": false,
    "outputHidden": false,
    "papermill": {
     "duration": 8.063507,
     "end_time": "2019-09-02T10:20:53.991048",
     "exception": false,
     "start_time": "2019-09-02T10:20:45.927541",
     "status": "completed"
    },
    "tags": []
   },
   "outputs": [
    {
     "name": "stderr",
     "output_type": "stream",
     "text": [
      "\r",
      "Rendering models:   0%|          | 0/30 [00:00<?, ?it/s]"
     ]
    },
    {
     "name": "stderr",
     "output_type": "stream",
     "text": [
      "\r",
      "Rendering models:   7%|▋         | 2/30 [00:02<00:39,  1.42s/it]"
     ]
    },
    {
     "name": "stderr",
     "output_type": "stream",
     "text": [
      "\r",
      "Rendering models:  13%|█▎        | 4/30 [00:06<00:41,  1.59s/it]"
     ]
    },
    {
     "name": "stderr",
     "output_type": "stream",
     "text": [
      "\r",
      "Rendering models:  20%|██        | 6/30 [00:06<00:27,  1.13s/it]"
     ]
    },
    {
     "name": "stderr",
     "output_type": "stream",
     "text": [
      "\r",
      "Rendering models:  30%|███       | 9/30 [00:07<00:16,  1.24it/s]"
     ]
    },
    {
     "name": "stderr",
     "output_type": "stream",
     "text": [
      "\r",
      "Rendering models:  37%|███▋      | 11/30 [00:07<00:11,  1.73it/s]"
     ]
    },
    {
     "name": "stderr",
     "output_type": "stream",
     "text": [
      "\r",
      "Rendering models:  53%|█████▎    | 16/30 [00:07<00:05,  2.42it/s]"
     ]
    },
    {
     "name": "stderr",
     "output_type": "stream",
     "text": [
      "\r",
      "Rendering models:  63%|██████▎   | 19/30 [00:07<00:03,  3.32it/s]"
     ]
    },
    {
     "name": "stderr",
     "output_type": "stream",
     "text": [
      "\r",
      "Rendering models:  73%|███████▎  | 22/30 [00:07<00:01,  4.41it/s]"
     ]
    },
    {
     "name": "stderr",
     "output_type": "stream",
     "text": [
      "\r",
      "Rendering models:  83%|████████▎ | 25/30 [00:07<00:00,  5.79it/s]"
     ]
    },
    {
     "name": "stderr",
     "output_type": "stream",
     "text": [
      "\r",
      "Rendering models:  97%|█████████▋| 29/30 [00:07<00:00,  7.57it/s]"
     ]
    },
    {
     "name": "stderr",
     "output_type": "stream",
     "text": [
      "\r",
      "                                                                 "
     ]
    },
    {
     "name": "stderr",
     "output_type": "stream",
     "text": [
      "\r"
     ]
    },
    {
     "data": {
      "text/plain": [
       "not-logged-in-3b0b929f4475fd276561    0.001830\n",
       "not-logged-in-3b0b929f4475fd276561    0.001060\n",
       "not-logged-in-3b0b929f4475fd276561    0.000281\n",
       "aliabdulhameed                        0.000712\n",
       "Khai_Noct                             0.000480\n",
       "not-logged-in-8cf2e6929490167ca6ab    0.008249\n",
       "jnarayanbvg                           0.008210\n",
       "gracie_solveig                        0.000901\n",
       "jaksonA                               0.001362\n",
       "miyosolange                           0.001361\n",
       "not-logged-in-22877e3a7af4aafb750a    0.000630\n",
       "not-logged-in-ae4aeb5d055d833e37bc    0.001578\n",
       "crush202020                           0.000263\n",
       "Maverna                               0.003651\n",
       "AlexYoung35                           0.000746\n",
       "acapirala                             0.000240\n",
       "not-logged-in-4c6d97421fdb5b2fcda3    0.000778\n",
       "Lavadude                              0.022558\n",
       "jordanrushworth                       0.001627\n",
       "2022Logan                             0.000323\n",
       "OneMorePerson                         0.000224\n",
       "astronautlady                         0.000211\n",
       "not-logged-in-46add7c5081591f11000    0.113288\n",
       "Cosmos1                               0.000631\n",
       "nyoung55                              0.002372\n",
       "not-logged-in-d5c52aed2534703878c3    0.000845\n",
       "dhaywoo                               0.000829\n",
       "not-logged-in-fc0fffd0b7fe097394c8    0.000287\n",
       "jthrasher                             0.000516\n",
       "not-logged-in-5705240139e20f66405a    0.035915\n",
       "Name: 21096969, dtype: float64"
      ]
     },
     "execution_count": 7,
     "metadata": {},
     "output_type": "execute_result"
    }
   ],
   "source": [
    "losses = get_losses_by_user(subject_id)\n",
    "losses"
   ]
  },
  {
   "cell_type": "code",
   "execution_count": 8,
   "metadata": {
    "collapsed": false,
    "inputHidden": false,
    "outputHidden": false,
    "papermill": {
     "duration": 0.068843,
     "end_time": "2019-09-02T10:20:54.071010",
     "exception": false,
     "start_time": "2019-09-02T10:20:54.002167",
     "status": "completed"
    },
    "tags": []
   },
   "outputs": [
    {
     "data": {
      "application/scrapbook.scrap.json+json": {
       "data": 21096969,
       "encoder": "json",
       "name": "subject_id",
       "version": 1
      }
     },
     "metadata": {
      "scrapbook": {
       "data": true,
       "display": false,
       "name": "subject_id"
      }
     },
     "output_type": "display_data"
    },
    {
     "data": {
      "application/scrapbook.scrap.json+json": {
       "data": {
        "2022Logan": 0.00032318576001634926,
        "AlexYoung35": 0.0007456601051615256,
        "Cosmos1": 0.0006309565224895539,
        "Khai_Noct": 0.0004804380452536192,
        "Lavadude": 0.0225578998041543,
        "Maverna": 0.003650524145426911,
        "OneMorePerson": 0.00022367600820425777,
        "acapirala": 0.0002402089105209177,
        "aliabdulhameed": 0.000711653812632772,
        "astronautlady": 0.00021131306491491684,
        "crush202020": 0.00026294783251915374,
        "dhaywoo": 0.0008294306876744664,
        "gracie_solveig": 0.00090058189240756,
        "jaksonA": 0.00136226324697599,
        "jnarayanbvg": 0.008209858712749691,
        "jordanrushworth": 0.0016269496431777378,
        "jthrasher": 0.0005161974271738066,
        "miyosolange": 0.0013605540540935117,
        "not-logged-in-22877e3a7af4aafb750a": 0.0006298185581051095,
        "not-logged-in-3b0b929f4475fd276561": 0.00028130004183144814,
        "not-logged-in-46add7c5081591f11000": 0.1132880236955378,
        "not-logged-in-4c6d97421fdb5b2fcda3": 0.0007777033657962875,
        "not-logged-in-5705240139e20f66405a": 0.035915366840086456,
        "not-logged-in-8cf2e6929490167ca6ab": 0.008249221120349516,
        "not-logged-in-ae4aeb5d055d833e37bc": 0.0015783172531455023,
        "not-logged-in-d5c52aed2534703878c3": 0.0008454884062979388,
        "not-logged-in-fc0fffd0b7fe097394c8": 0.00028738618123237854,
        "nyoung55": 0.002372279474092745
       },
       "encoder": "json",
       "name": "losses",
       "version": 1
      }
     },
     "metadata": {
      "scrapbook": {
       "data": true,
       "display": false,
       "name": "losses"
      }
     },
     "output_type": "display_data"
    }
   ],
   "source": [
    "sb.glue('subject_id', subject_id)\n",
    "sb.glue('losses', losses.to_dict())"
   ]
  }
 ],
 "metadata": {
  "kernel_info": {
   "name": "python3"
  },
  "kernelspec": {
   "display_name": "Python 3",
   "language": "python",
   "name": "python3"
  },
  "language_info": {
   "codemirror_mode": {
    "name": "ipython",
    "version": 3
   },
   "file_extension": ".py",
   "mimetype": "text/x-python",
   "name": "python",
   "nbconvert_exporter": "python",
   "pygments_lexer": "ipython3",
   "version": "3.7.3"
  },
  "nteract": {
   "version": "0.14.3"
  },
  "papermill": {
   "duration": 16.005294,
   "end_time": "2019-09-02T10:20:55.389198",
   "environment_variables": {},
   "exception": null,
   "input_path": "/users/tingard/gzbuilder_results/input_files/volunteer_losses.ipynb",
   "output_path": "/users/tingard/gzbuilder_results/output_files/volunteer_losses/21096969.ipynb",
   "parameters": {
    "subject_id": 21096969
   },
   "start_time": "2019-09-02T10:20:39.383904",
   "version": "1.0.1"
  }
 },
 "nbformat": 4,
 "nbformat_minor": 0
}