{
 "cells": [
  {
   "cell_type": "markdown",
   "metadata": {
    "papermill": {
     "duration": 0.010763,
     "end_time": "2019-09-02T10:20:15.624764",
     "exception": false,
     "start_time": "2019-09-02T10:20:15.614001",
     "status": "completed"
    },
    "tags": []
   },
   "source": [
    "# Volunteer model loss calculation\n",
    "\n",
    "This notebook takes a `subject_id` and calculates the MSE of each volunteer's model to the galaxy data. These losses are then glued to the notebook for use elsewhere."
   ]
  },
  {
   "cell_type": "code",
   "execution_count": 1,
   "metadata": {
    "collapsed": false,
    "inputHidden": false,
    "outputHidden": false,
    "papermill": {
     "duration": 0.029133,
     "end_time": "2019-09-02T10:20:15.664007",
     "exception": false,
     "start_time": "2019-09-02T10:20:15.634874",
     "status": "completed"
    },
    "tags": []
   },
   "outputs": [],
   "source": [
    "%load_ext autoreload\n",
    "%autoreload 2"
   ]
  },
  {
   "cell_type": "code",
   "execution_count": 2,
   "metadata": {
    "collapsed": false,
    "inputHidden": false,
    "outputHidden": false,
    "papermill": {
     "duration": 5.025479,
     "end_time": "2019-09-02T10:20:20.698761",
     "exception": false,
     "start_time": "2019-09-02T10:20:15.673282",
     "status": "completed"
    },
    "tags": []
   },
   "outputs": [
    {
     "name": "stderr",
     "output_type": "stream",
     "text": [
      "/opt/apps/pkgs/anaconda3/2019.03/intel64/lib/python3.7/site-packages/dask/config.py:168: YAMLLoadWarning: calling yaml.load() without Loader=... is deprecated, as the default Loader is unsafe. Please read https://msg.pyyaml.org/load for full details.\n",
      "  data = yaml.load(f.read()) or {}\n"
     ]
    }
   ],
   "source": [
    "import json\n",
    "import numpy as np\n",
    "import pandas as pd\n",
    "from tqdm import tqdm\n",
    "import matplotlib.pyplot as plt\n",
    "import seaborn as sns\n",
    "from gzbuilder_analysis import parsing, rendering, fitting\n",
    "import lib.galaxy_utilities as gu\n",
    "import scrapbook as sb"
   ]
  },
  {
   "cell_type": "code",
   "execution_count": 3,
   "metadata": {
    "collapsed": false,
    "inputHidden": false,
    "outputHidden": false,
    "papermill": {
     "duration": 0.040858,
     "end_time": "2019-09-02T10:20:20.749620",
     "exception": false,
     "start_time": "2019-09-02T10:20:20.708762",
     "status": "completed"
    },
    "tags": [
     "parameters"
    ]
   },
   "outputs": [],
   "source": [
    "subject_id = 20902040"
   ]
  },
  {
   "cell_type": "code",
   "execution_count": 4,
   "metadata": {
    "papermill": {
     "duration": 1.651992,
     "end_time": "2019-09-02T10:20:22.409164",
     "exception": false,
     "start_time": "2019-09-02T10:20:20.757172",
     "status": "completed"
    },
    "tags": [
     "injected-parameters"
    ]
   },
   "outputs": [],
   "source": [
    "# Parameters\n",
    "subject_id = 20902073\n"
   ]
  },
  {
   "cell_type": "code",
   "execution_count": 5,
   "metadata": {
    "collapsed": false,
    "inputHidden": false,
    "outputHidden": false,
    "papermill": {
     "duration": 0.147964,
     "end_time": "2019-09-02T10:20:22.564563",
     "exception": false,
     "start_time": "2019-09-02T10:20:22.416599",
     "status": "completed"
    },
    "tags": []
   },
   "outputs": [],
   "source": [
    "diff_data_df = pd.read_pickle('lib/fitting_metadata.pkl')"
   ]
  },
  {
   "cell_type": "code",
   "execution_count": 6,
   "metadata": {
    "collapsed": false,
    "inputHidden": false,
    "outputHidden": false,
    "papermill": {
     "duration": 0.050375,
     "end_time": "2019-09-02T10:20:22.622471",
     "exception": false,
     "start_time": "2019-09-02T10:20:22.572096",
     "status": "completed"
    },
    "tags": []
   },
   "outputs": [],
   "source": [
    "def get_losses_by_user(subject_id):\n",
    "  diff_data = diff_data_df.loc[subject_id]\n",
    "  psf = diff_data['psf']\n",
    "  pixel_mask = np.array(diff_data['pixel_mask'])[::-1]\n",
    "  galaxy_data = np.array(diff_data['galaxy_data'])[::-1]\n",
    "  image_size = galaxy_data.shape[0]\n",
    "  size_diff = diff_data['size_diff']\n",
    "  \n",
    "  cls = gu.classifications.query('subject_ids == {}'.format(subject_id))\n",
    "  names = cls.user_name \n",
    "  annotations = cls['annotations'].apply(json.loads)\n",
    "\n",
    "  models = annotations.apply(\n",
    "    parsing.parse_annotation,\n",
    "    size_diff=size_diff\n",
    "  )\n",
    "\n",
    "  tqdm.pandas(\n",
    "    desc='Rendering models'.format(subject_id),\n",
    "    leave=False\n",
    "  )\n",
    "  rendered = models.progress_apply(\n",
    "    rendering.calculate_model,\n",
    "    image_size=image_size,\n",
    "    psf=psf\n",
    "  ).rename('rendered')\n",
    "\n",
    "  tqdm.pandas(\n",
    "    desc='Calculating differences'.format(subject_id),\n",
    "    leave=False\n",
    "  )\n",
    "  losses = rendered.apply(\n",
    "    fitting.loss,\n",
    "    args=(galaxy_data, pixel_mask)\n",
    "  ).rename('loss')\n",
    "  all_losses = pd.Series(\n",
    "    losses.values,\n",
    "    index=names.values\n",
    "  ).rename(subject_id)\n",
    "  best_losses = pd.concat((\n",
    "    all_losses.where(\n",
    "      ~all_losses.duplicated(keep=False)\n",
    "    ).dropna(), # all non-duplicates\n",
    "    all_losses.where(\n",
    "      all_losses.duplicated(keep=False)\n",
    "    ).dropna().groupby(level=0).min() # best value of duplicates\n",
    "  ), axis=0)\n",
    "  return best_losses"
   ]
  },
  {
   "cell_type": "code",
   "execution_count": 7,
   "metadata": {
    "collapsed": false,
    "inputHidden": false,
    "outputHidden": false,
    "papermill": {
     "duration": 8.897471,
     "end_time": "2019-09-02T10:20:31.528623",
     "exception": false,
     "start_time": "2019-09-02T10:20:22.631152",
     "status": "completed"
    },
    "tags": []
   },
   "outputs": [
    {
     "name": "stderr",
     "output_type": "stream",
     "text": [
      "\r",
      "Rendering models:   0%|          | 0/31 [00:00<?, ?it/s]"
     ]
    },
    {
     "name": "stderr",
     "output_type": "stream",
     "text": [
      "\r",
      "Rendering models:  10%|▉         | 3/31 [00:06<01:03,  2.26s/it]"
     ]
    },
    {
     "name": "stderr",
     "output_type": "stream",
     "text": [
      "\r",
      "Rendering models:  19%|█▉        | 6/31 [00:06<00:40,  1.60s/it]"
     ]
    },
    {
     "name": "stderr",
     "output_type": "stream",
     "text": [
      "\r",
      "Rendering models:  29%|██▉       | 9/31 [00:07<00:25,  1.14s/it]"
     ]
    },
    {
     "name": "stderr",
     "output_type": "stream",
     "text": [
      "\r",
      "Rendering models:  35%|███▌      | 11/31 [00:07<00:16,  1.22it/s]"
     ]
    },
    {
     "name": "stderr",
     "output_type": "stream",
     "text": [
      "\r",
      "Rendering models:  42%|████▏     | 13/31 [00:07<00:10,  1.68it/s]"
     ]
    },
    {
     "name": "stderr",
     "output_type": "stream",
     "text": [
      "\r",
      "Rendering models:  48%|████▊     | 15/31 [00:07<00:07,  2.21it/s]"
     ]
    },
    {
     "name": "stderr",
     "output_type": "stream",
     "text": [
      "\r",
      "Rendering models:  55%|█████▍    | 17/31 [00:07<00:04,  2.93it/s]"
     ]
    },
    {
     "name": "stderr",
     "output_type": "stream",
     "text": [
      "\r",
      "Rendering models:  65%|██████▍   | 20/31 [00:08<00:02,  3.88it/s]"
     ]
    },
    {
     "name": "stderr",
     "output_type": "stream",
     "text": [
      "\r",
      "Rendering models:  74%|███████▍  | 23/31 [00:08<00:01,  5.16it/s]"
     ]
    },
    {
     "name": "stderr",
     "output_type": "stream",
     "text": [
      "\r",
      "Rendering models:  84%|████████▍ | 26/31 [00:08<00:00,  6.65it/s]"
     ]
    },
    {
     "name": "stderr",
     "output_type": "stream",
     "text": [
      "\r",
      "Rendering models:  90%|█████████ | 28/31 [00:08<00:00,  7.39it/s]"
     ]
    },
    {
     "name": "stderr",
     "output_type": "stream",
     "text": [
      "\r",
      "Rendering models: 100%|██████████| 31/31 [00:08<00:00,  9.31it/s]"
     ]
    },
    {
     "name": "stderr",
     "output_type": "stream",
     "text": [
      "\r",
      "                                                                 "
     ]
    },
    {
     "name": "stderr",
     "output_type": "stream",
     "text": [
      "\r"
     ]
    },
    {
     "data": {
      "text/plain": [
       "not-logged-in-bf4cef763ffa750a7579    2.246235\n",
       "Thedunkmasta                          0.001781\n",
       "not-logged-in-a9a92f25ca4015279a03    0.011694\n",
       "EastonH                               0.003094\n",
       "ElisabethB                            0.049061\n",
       "not-logged-in-ea8ed61a7274cfb6a43b    0.006145\n",
       "JEBala                                0.007806\n",
       "SohaKawtharani                        0.003862\n",
       "stekenxu                              0.043591\n",
       "not-logged-in-fc6db6f8fca5399a40ba    0.001681\n",
       "mattchat                              0.016590\n",
       "not-logged-in-a0164d241f30411408f0    0.001159\n",
       "not-logged-in-a0164d241f30411408f0    0.001500\n",
       "not-logged-in-5f30b2bb9b7f9d49da41    0.067989\n",
       "clairedeu                             0.000500\n",
       "peakscience7                          0.125840\n",
       "pangeli5                              0.000957\n",
       "Saharisunshine                        0.002910\n",
       "acapirala                             0.000620\n",
       "not-logged-in-04ed9ae880f18762cd9e    0.102171\n",
       "helios1235                            0.001166\n",
       "Lavadude                              0.027557\n",
       "clars915                              0.003003\n",
       "KiraHuter                             0.003762\n",
       "not-logged-in-243ecd760a5ad294f57a    0.377211\n",
       "LAMBO101799                           0.008520\n",
       "cazze74                               0.008520\n",
       "equidad1                              0.008520\n",
       "holte116                              0.008520\n",
       "keiontaanderson                       0.008520\n",
       "rhondacard                            0.008520\n",
       "Name: 20902073, dtype: float64"
      ]
     },
     "execution_count": 7,
     "metadata": {},
     "output_type": "execute_result"
    }
   ],
   "source": [
    "losses = get_losses_by_user(subject_id)\n",
    "losses"
   ]
  },
  {
   "cell_type": "code",
   "execution_count": 8,
   "metadata": {
    "collapsed": false,
    "inputHidden": false,
    "outputHidden": false,
    "papermill": {
     "duration": 0.071317,
     "end_time": "2019-09-02T10:20:31.611379",
     "exception": false,
     "start_time": "2019-09-02T10:20:31.540062",
     "status": "completed"
    },
    "tags": []
   },
   "outputs": [
    {
     "data": {
      "application/scrapbook.scrap.json+json": {
       "data": 20902073,
       "encoder": "json",
       "name": "subject_id",
       "version": 1
      }
     },
     "metadata": {
      "scrapbook": {
       "data": true,
       "display": false,
       "name": "subject_id"
      }
     },
     "output_type": "display_data"
    },
    {
     "data": {
      "application/scrapbook.scrap.json+json": {
       "data": {
        "EastonH": 0.003093887918351265,
        "ElisabethB": 0.04906101369259054,
        "JEBala": 0.007805524804783247,
        "KiraHuter": 0.0037622080828444873,
        "LAMBO101799": 0.008520237707056193,
        "Lavadude": 0.027557451319687867,
        "Saharisunshine": 0.002910348426645783,
        "SohaKawtharani": 0.0038616447888701723,
        "Thedunkmasta": 0.0017806978078227075,
        "acapirala": 0.0006199080165577986,
        "cazze74": 0.008520237707056193,
        "clairedeu": 0.0005004552676753824,
        "clars915": 0.0030027040302573384,
        "equidad1": 0.008520237707056193,
        "helios1235": 0.0011658064218234578,
        "holte116": 0.008520237707056193,
        "keiontaanderson": 0.008520237707056193,
        "mattchat": 0.01659035090017438,
        "not-logged-in-04ed9ae880f18762cd9e": 0.10217090560888724,
        "not-logged-in-243ecd760a5ad294f57a": 0.37721102697131637,
        "not-logged-in-5f30b2bb9b7f9d49da41": 0.06798883818605995,
        "not-logged-in-a0164d241f30411408f0": 0.0014997011533198457,
        "not-logged-in-a9a92f25ca4015279a03": 0.011694089119804192,
        "not-logged-in-bf4cef763ffa750a7579": 2.2462352529114473,
        "not-logged-in-ea8ed61a7274cfb6a43b": 0.0061451792957098045,
        "not-logged-in-fc6db6f8fca5399a40ba": 0.0016811177377080695,
        "pangeli5": 0.0009571620134464153,
        "peakscience7": 0.1258404409168574,
        "rhondacard": 0.008520237707056193,
        "stekenxu": 0.043591213613111045
       },
       "encoder": "json",
       "name": "losses",
       "version": 1
      }
     },
     "metadata": {
      "scrapbook": {
       "data": true,
       "display": false,
       "name": "losses"
      }
     },
     "output_type": "display_data"
    }
   ],
   "source": [
    "sb.glue('subject_id', subject_id)\n",
    "sb.glue('losses', losses.to_dict())"
   ]
  }
 ],
 "metadata": {
  "kernel_info": {
   "name": "python3"
  },
  "kernelspec": {
   "display_name": "Python 3",
   "language": "python",
   "name": "python3"
  },
  "language_info": {
   "codemirror_mode": {
    "name": "ipython",
    "version": 3
   },
   "file_extension": ".py",
   "mimetype": "text/x-python",
   "name": "python",
   "nbconvert_exporter": "python",
   "pygments_lexer": "ipython3",
   "version": "3.7.3"
  },
  "nteract": {
   "version": "0.14.3"
  },
  "papermill": {
   "duration": 21.199027,
   "end_time": "2019-09-02T10:20:32.932982",
   "environment_variables": {},
   "exception": null,
   "input_path": "/users/tingard/gzbuilder_results/input_files/volunteer_losses.ipynb",
   "output_path": "/users/tingard/gzbuilder_results/output_files/volunteer_losses/20902073.ipynb",
   "parameters": {
    "subject_id": 20902073
   },
   "start_time": "2019-09-02T10:20:11.733955",
   "version": "1.0.1"
  }
 },
 "nbformat": 4,
 "nbformat_minor": 0
}