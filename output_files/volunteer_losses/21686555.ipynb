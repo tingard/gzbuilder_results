{
 "cells": [
  {
   "cell_type": "markdown",
   "metadata": {
    "papermill": {
     "duration": 0.008826,
     "end_time": "2019-09-02T10:21:04.173818",
     "exception": false,
     "start_time": "2019-09-02T10:21:04.164992",
     "status": "completed"
    },
    "tags": []
   },
   "source": [
    "# Volunteer model loss calculation\n",
    "\n",
    "This notebook takes a `subject_id` and calculates the MSE of each volunteer's model to the galaxy data. These losses are then glued to the notebook for use elsewhere."
   ]
  },
  {
   "cell_type": "code",
   "execution_count": 1,
   "metadata": {
    "collapsed": false,
    "inputHidden": false,
    "outputHidden": false,
    "papermill": {
     "duration": 0.02667,
     "end_time": "2019-09-02T10:21:04.209194",
     "exception": false,
     "start_time": "2019-09-02T10:21:04.182524",
     "status": "completed"
    },
    "tags": []
   },
   "outputs": [],
   "source": [
    "%load_ext autoreload\n",
    "%autoreload 2"
   ]
  },
  {
   "cell_type": "code",
   "execution_count": 2,
   "metadata": {
    "collapsed": false,
    "inputHidden": false,
    "outputHidden": false,
    "papermill": {
     "duration": 4.759133,
     "end_time": "2019-09-02T10:21:08.977353",
     "exception": false,
     "start_time": "2019-09-02T10:21:04.218220",
     "status": "completed"
    },
    "tags": []
   },
   "outputs": [
    {
     "name": "stderr",
     "output_type": "stream",
     "text": [
      "/opt/apps/pkgs/anaconda3/2019.03/intel64/lib/python3.7/site-packages/dask/config.py:168: YAMLLoadWarning: calling yaml.load() without Loader=... is deprecated, as the default Loader is unsafe. Please read https://msg.pyyaml.org/load for full details.\n",
      "  data = yaml.load(f.read()) or {}\n"
     ]
    }
   ],
   "source": [
    "import json\n",
    "import numpy as np\n",
    "import pandas as pd\n",
    "from tqdm import tqdm\n",
    "import matplotlib.pyplot as plt\n",
    "import seaborn as sns\n",
    "from gzbuilder_analysis import parsing, rendering, fitting\n",
    "import lib.galaxy_utilities as gu\n",
    "import scrapbook as sb"
   ]
  },
  {
   "cell_type": "code",
   "execution_count": 3,
   "metadata": {
    "collapsed": false,
    "inputHidden": false,
    "outputHidden": false,
    "papermill": {
     "duration": 0.051451,
     "end_time": "2019-09-02T10:21:09.036809",
     "exception": false,
     "start_time": "2019-09-02T10:21:08.985358",
     "status": "completed"
    },
    "tags": [
     "parameters"
    ]
   },
   "outputs": [],
   "source": [
    "subject_id = 20902040"
   ]
  },
  {
   "cell_type": "code",
   "execution_count": 4,
   "metadata": {
    "papermill": {
     "duration": 0.144899,
     "end_time": "2019-09-02T10:21:09.189829",
     "exception": false,
     "start_time": "2019-09-02T10:21:09.044930",
     "status": "completed"
    },
    "tags": [
     "injected-parameters"
    ]
   },
   "outputs": [],
   "source": [
    "# Parameters\n",
    "subject_id = 21686555\n"
   ]
  },
  {
   "cell_type": "code",
   "execution_count": 5,
   "metadata": {
    "collapsed": false,
    "inputHidden": false,
    "outputHidden": false,
    "papermill": {
     "duration": 0.153817,
     "end_time": "2019-09-02T10:21:09.352650",
     "exception": false,
     "start_time": "2019-09-02T10:21:09.198833",
     "status": "completed"
    },
    "tags": []
   },
   "outputs": [],
   "source": [
    "diff_data_df = pd.read_pickle('lib/fitting_metadata.pkl')"
   ]
  },
  {
   "cell_type": "code",
   "execution_count": 6,
   "metadata": {
    "collapsed": false,
    "inputHidden": false,
    "outputHidden": false,
    "papermill": {
     "duration": 0.050198,
     "end_time": "2019-09-02T10:21:09.411624",
     "exception": false,
     "start_time": "2019-09-02T10:21:09.361426",
     "status": "completed"
    },
    "tags": []
   },
   "outputs": [],
   "source": [
    "def get_losses_by_user(subject_id):\n",
    "  diff_data = diff_data_df.loc[subject_id]\n",
    "  psf = diff_data['psf']\n",
    "  pixel_mask = np.array(diff_data['pixel_mask'])[::-1]\n",
    "  galaxy_data = np.array(diff_data['galaxy_data'])[::-1]\n",
    "  image_size = galaxy_data.shape[0]\n",
    "  size_diff = diff_data['size_diff']\n",
    "  \n",
    "  cls = gu.classifications.query('subject_ids == {}'.format(subject_id))\n",
    "  names = cls.user_name \n",
    "  annotations = cls['annotations'].apply(json.loads)\n",
    "\n",
    "  models = annotations.apply(\n",
    "    parsing.parse_annotation,\n",
    "    size_diff=size_diff\n",
    "  )\n",
    "\n",
    "  tqdm.pandas(\n",
    "    desc='Rendering models'.format(subject_id),\n",
    "    leave=False\n",
    "  )\n",
    "  rendered = models.progress_apply(\n",
    "    rendering.calculate_model,\n",
    "    image_size=image_size,\n",
    "    psf=psf\n",
    "  ).rename('rendered')\n",
    "\n",
    "  tqdm.pandas(\n",
    "    desc='Calculating differences'.format(subject_id),\n",
    "    leave=False\n",
    "  )\n",
    "  losses = rendered.apply(\n",
    "    fitting.loss,\n",
    "    args=(galaxy_data, pixel_mask)\n",
    "  ).rename('loss')\n",
    "  all_losses = pd.Series(\n",
    "    losses.values,\n",
    "    index=names.values\n",
    "  ).rename(subject_id)\n",
    "  best_losses = pd.concat((\n",
    "    all_losses.where(\n",
    "      ~all_losses.duplicated(keep=False)\n",
    "    ).dropna(), # all non-duplicates\n",
    "    all_losses.where(\n",
    "      all_losses.duplicated(keep=False)\n",
    "    ).dropna().groupby(level=0).min() # best value of duplicates\n",
    "  ), axis=0)\n",
    "  return best_losses"
   ]
  },
  {
   "cell_type": "code",
   "execution_count": 7,
   "metadata": {
    "collapsed": false,
    "inputHidden": false,
    "outputHidden": false,
    "papermill": {
     "duration": 9.461373,
     "end_time": "2019-09-02T10:21:18.884139",
     "exception": false,
     "start_time": "2019-09-02T10:21:09.422766",
     "status": "completed"
    },
    "tags": []
   },
   "outputs": [
    {
     "name": "stderr",
     "output_type": "stream",
     "text": [
      "\r",
      "Rendering models:   0%|          | 0/30 [00:00<?, ?it/s]"
     ]
    },
    {
     "name": "stderr",
     "output_type": "stream",
     "text": [
      "\r",
      "Rendering models:   7%|▋         | 2/30 [00:04<01:00,  2.16s/it]"
     ]
    },
    {
     "name": "stderr",
     "output_type": "stream",
     "text": [
      "\r",
      "Rendering models:  10%|█         | 3/30 [00:05<00:50,  1.86s/it]"
     ]
    },
    {
     "name": "stderr",
     "output_type": "stream",
     "text": [
      "\r",
      "Rendering models:  13%|█▎        | 4/30 [00:05<00:34,  1.33s/it]"
     ]
    },
    {
     "name": "stderr",
     "output_type": "stream",
     "text": [
      "\r",
      "Rendering models:  20%|██        | 6/30 [00:05<00:23,  1.03it/s]"
     ]
    },
    {
     "name": "stderr",
     "output_type": "stream",
     "text": [
      "\r",
      "Rendering models:  23%|██▎       | 7/30 [00:05<00:16,  1.41it/s]"
     ]
    },
    {
     "name": "stderr",
     "output_type": "stream",
     "text": [
      "\r",
      "Rendering models:  27%|██▋       | 8/30 [00:06<00:11,  1.88it/s]"
     ]
    },
    {
     "name": "stderr",
     "output_type": "stream",
     "text": [
      "\r",
      "Rendering models:  33%|███▎      | 10/30 [00:06<00:07,  2.51it/s]"
     ]
    },
    {
     "name": "stderr",
     "output_type": "stream",
     "text": [
      "\r",
      "Rendering models:  40%|████      | 12/30 [00:06<00:05,  3.24it/s]"
     ]
    },
    {
     "name": "stderr",
     "output_type": "stream",
     "text": [
      "\r",
      "Rendering models:  47%|████▋     | 14/30 [00:07<00:07,  2.26it/s]"
     ]
    },
    {
     "name": "stderr",
     "output_type": "stream",
     "text": [
      "\r",
      "Rendering models:  50%|█████     | 15/30 [00:08<00:05,  2.89it/s]"
     ]
    },
    {
     "name": "stderr",
     "output_type": "stream",
     "text": [
      "\r",
      "Rendering models:  63%|██████▎   | 19/30 [00:08<00:02,  3.93it/s]"
     ]
    },
    {
     "name": "stderr",
     "output_type": "stream",
     "text": [
      "\r",
      "Rendering models:  70%|███████   | 21/30 [00:08<00:01,  4.65it/s]"
     ]
    },
    {
     "name": "stderr",
     "output_type": "stream",
     "text": [
      "\r",
      "Rendering models:  80%|████████  | 24/30 [00:08<00:01,  5.96it/s]"
     ]
    },
    {
     "name": "stderr",
     "output_type": "stream",
     "text": [
      "\r",
      "Rendering models:  87%|████████▋ | 26/30 [00:08<00:00,  6.77it/s]"
     ]
    },
    {
     "name": "stderr",
     "output_type": "stream",
     "text": [
      "\r",
      "Rendering models:  93%|█████████▎| 28/30 [00:08<00:00,  8.09it/s]"
     ]
    },
    {
     "name": "stderr",
     "output_type": "stream",
     "text": [
      "\r",
      "Rendering models: 100%|██████████| 30/30 [00:09<00:00,  7.57it/s]"
     ]
    },
    {
     "name": "stderr",
     "output_type": "stream",
     "text": [
      "\r",
      "                                                                 "
     ]
    },
    {
     "name": "stderr",
     "output_type": "stream",
     "text": [
      "\r"
     ]
    },
    {
     "data": {
      "text/plain": [
       "not-logged-in-ec4ead1d8579ea060634    0.000405\n",
       "shirogane                             0.000742\n",
       "cschwefl                              0.000968\n",
       "not-logged-in-f5ac928c4dcd4e9cb619    0.512225\n",
       "Dynamatt                              0.000929\n",
       "shocko61                              0.039881\n",
       "not-logged-in-2159616075e1803d6325    0.001442\n",
       "kjkavene                              0.000941\n",
       "justsomenoodles                       0.000556\n",
       "not-logged-in-f09819078c043556a4da    0.000925\n",
       "BokGlobule                            0.132212\n",
       "not-logged-in-14849be8c56260e26d09    0.004339\n",
       "Jessica_Korkmaz                       0.007949\n",
       "not-logged-in-5f30b2bb9b7f9d49da41    0.014287\n",
       "not-logged-in-dddbb97cfd84354416f5    0.001233\n",
       "not-logged-in-4c6d97421fdb5b2fcda3    0.007939\n",
       "acapirala                             0.079881\n",
       "ShirleyL                              0.000660\n",
       "Lavadude                              0.003763\n",
       "ts135992                              0.000837\n",
       "not-logged-in-8700ff8251e0704f745c    0.000658\n",
       "not-logged-in-bb57f718deab35cff5b8    0.001357\n",
       "syt18                                 0.001771\n",
       "not-logged-in-6cdc6c36435b7c7ca90e    0.002037\n",
       "not-logged-in-2eae7b0564bc4d8d974c    0.001560\n",
       "mlee195                               0.003041\n",
       "not-logged-in-20a275b53abec8db9f41    0.003041\n",
       "not-logged-in-5f30b2bb9b7f9d49da41    0.003041\n",
       "not-logged-in-7e3b259c448a4246dbc8    0.003041\n",
       "rhondacard                            0.003041\n",
       "Name: 21686555, dtype: float64"
      ]
     },
     "execution_count": 7,
     "metadata": {},
     "output_type": "execute_result"
    }
   ],
   "source": [
    "losses = get_losses_by_user(subject_id)\n",
    "losses"
   ]
  },
  {
   "cell_type": "code",
   "execution_count": 8,
   "metadata": {
    "collapsed": false,
    "inputHidden": false,
    "outputHidden": false,
    "papermill": {
     "duration": 0.064598,
     "end_time": "2019-09-02T10:21:18.963482",
     "exception": false,
     "start_time": "2019-09-02T10:21:18.898884",
     "status": "completed"
    },
    "tags": []
   },
   "outputs": [
    {
     "data": {
      "application/scrapbook.scrap.json+json": {
       "data": 21686555,
       "encoder": "json",
       "name": "subject_id",
       "version": 1
      }
     },
     "metadata": {
      "scrapbook": {
       "data": true,
       "display": false,
       "name": "subject_id"
      }
     },
     "output_type": "display_data"
    },
    {
     "data": {
      "application/scrapbook.scrap.json+json": {
       "data": {
        "BokGlobule": 0.13221171490345382,
        "Dynamatt": 0.0009294178420841175,
        "Jessica_Korkmaz": 0.00794881837841114,
        "Lavadude": 0.003763152294195535,
        "ShirleyL": 0.0006595591376857846,
        "acapirala": 0.07988078391454316,
        "cschwefl": 0.0009677994879481464,
        "justsomenoodles": 0.000556479382775201,
        "kjkavene": 0.0009412410009013432,
        "mlee195": 0.003041115179066172,
        "not-logged-in-14849be8c56260e26d09": 0.00433867731911672,
        "not-logged-in-20a275b53abec8db9f41": 0.003041115179066172,
        "not-logged-in-2159616075e1803d6325": 0.0014419062200682587,
        "not-logged-in-2eae7b0564bc4d8d974c": 0.001560216675344918,
        "not-logged-in-4c6d97421fdb5b2fcda3": 0.007939360184754163,
        "not-logged-in-5f30b2bb9b7f9d49da41": 0.003041115179066172,
        "not-logged-in-6cdc6c36435b7c7ca90e": 0.0020370684742825034,
        "not-logged-in-7e3b259c448a4246dbc8": 0.003041115179066172,
        "not-logged-in-8700ff8251e0704f745c": 0.0006580519723279094,
        "not-logged-in-bb57f718deab35cff5b8": 0.0013573872726690029,
        "not-logged-in-dddbb97cfd84354416f5": 0.0012329884331386072,
        "not-logged-in-ec4ead1d8579ea060634": 0.00040452770563952734,
        "not-logged-in-f09819078c043556a4da": 0.0009253088295200736,
        "not-logged-in-f5ac928c4dcd4e9cb619": 0.5122254697881472,
        "rhondacard": 0.003041115179066172,
        "shirogane": 0.0007415446530620751,
        "shocko61": 0.03988124524830882,
        "syt18": 0.0017712011688705627,
        "ts135992": 0.000836866620982186
       },
       "encoder": "json",
       "name": "losses",
       "version": 1
      }
     },
     "metadata": {
      "scrapbook": {
       "data": true,
       "display": false,
       "name": "losses"
      }
     },
     "output_type": "display_data"
    }
   ],
   "source": [
    "sb.glue('subject_id', subject_id)\n",
    "sb.glue('losses', losses.to_dict())"
   ]
  }
 ],
 "metadata": {
  "kernel_info": {
   "name": "python3"
  },
  "kernelspec": {
   "display_name": "Python 3",
   "language": "python",
   "name": "python3"
  },
  "language_info": {
   "codemirror_mode": {
    "name": "ipython",
    "version": 3
   },
   "file_extension": ".py",
   "mimetype": "text/x-python",
   "name": "python",
   "nbconvert_exporter": "python",
   "pygments_lexer": "ipython3",
   "version": "3.7.3"
  },
  "nteract": {
   "version": "0.14.3"
  },
  "papermill": {
   "duration": 17.905946,
   "end_time": "2019-09-02T10:21:20.335449",
   "environment_variables": {},
   "exception": null,
   "input_path": "/users/tingard/gzbuilder_results/input_files/volunteer_losses.ipynb",
   "output_path": "/users/tingard/gzbuilder_results/output_files/volunteer_losses/21686555.ipynb",
   "parameters": {
    "subject_id": 21686555
   },
   "start_time": "2019-09-02T10:21:02.429503",
   "version": "1.0.1"
  }
 },
 "nbformat": 4,
 "nbformat_minor": 0
}