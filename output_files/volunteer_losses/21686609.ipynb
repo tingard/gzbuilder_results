{
 "cells": [
  {
   "cell_type": "markdown",
   "metadata": {
    "papermill": {
     "duration": 0.008353,
     "end_time": "2019-09-02T10:21:10.770437",
     "exception": false,
     "start_time": "2019-09-02T10:21:10.762084",
     "status": "completed"
    },
    "tags": []
   },
   "source": [
    "# Volunteer model loss calculation\n",
    "\n",
    "This notebook takes a `subject_id` and calculates the MSE of each volunteer's model to the galaxy data. These losses are then glued to the notebook for use elsewhere."
   ]
  },
  {
   "cell_type": "code",
   "execution_count": 1,
   "metadata": {
    "collapsed": false,
    "inputHidden": false,
    "outputHidden": false,
    "papermill": {
     "duration": 0.026423,
     "end_time": "2019-09-02T10:21:10.805209",
     "exception": false,
     "start_time": "2019-09-02T10:21:10.778786",
     "status": "completed"
    },
    "tags": []
   },
   "outputs": [],
   "source": [
    "%load_ext autoreload\n",
    "%autoreload 2"
   ]
  },
  {
   "cell_type": "code",
   "execution_count": 2,
   "metadata": {
    "collapsed": false,
    "inputHidden": false,
    "outputHidden": false,
    "papermill": {
     "duration": 3.980267,
     "end_time": "2019-09-02T10:21:14.793624",
     "exception": false,
     "start_time": "2019-09-02T10:21:10.813357",
     "status": "completed"
    },
    "tags": []
   },
   "outputs": [
    {
     "name": "stderr",
     "output_type": "stream",
     "text": [
      "/opt/apps/pkgs/anaconda3/2019.03/intel64/lib/python3.7/site-packages/dask/config.py:168: YAMLLoadWarning: calling yaml.load() without Loader=... is deprecated, as the default Loader is unsafe. Please read https://msg.pyyaml.org/load for full details.\n",
      "  data = yaml.load(f.read()) or {}\n"
     ]
    }
   ],
   "source": [
    "import json\n",
    "import numpy as np\n",
    "import pandas as pd\n",
    "from tqdm import tqdm\n",
    "import matplotlib.pyplot as plt\n",
    "import seaborn as sns\n",
    "from gzbuilder_analysis import parsing, rendering, fitting\n",
    "import lib.galaxy_utilities as gu\n",
    "import scrapbook as sb"
   ]
  },
  {
   "cell_type": "code",
   "execution_count": 3,
   "metadata": {
    "collapsed": false,
    "inputHidden": false,
    "outputHidden": false,
    "papermill": {
     "duration": 0.047875,
     "end_time": "2019-09-02T10:21:14.849631",
     "exception": false,
     "start_time": "2019-09-02T10:21:14.801756",
     "status": "completed"
    },
    "tags": [
     "parameters"
    ]
   },
   "outputs": [],
   "source": [
    "subject_id = 20902040"
   ]
  },
  {
   "cell_type": "code",
   "execution_count": 4,
   "metadata": {
    "papermill": {
     "duration": 0.648786,
     "end_time": "2019-09-02T10:21:15.508050",
     "exception": false,
     "start_time": "2019-09-02T10:21:14.859264",
     "status": "completed"
    },
    "tags": [
     "injected-parameters"
    ]
   },
   "outputs": [],
   "source": [
    "# Parameters\n",
    "subject_id = 21686609\n"
   ]
  },
  {
   "cell_type": "code",
   "execution_count": 5,
   "metadata": {
    "collapsed": false,
    "inputHidden": false,
    "outputHidden": false,
    "papermill": {
     "duration": 0.143215,
     "end_time": "2019-09-02T10:21:15.658704",
     "exception": false,
     "start_time": "2019-09-02T10:21:15.515489",
     "status": "completed"
    },
    "tags": []
   },
   "outputs": [],
   "source": [
    "diff_data_df = pd.read_pickle('lib/fitting_metadata.pkl')"
   ]
  },
  {
   "cell_type": "code",
   "execution_count": 6,
   "metadata": {
    "collapsed": false,
    "inputHidden": false,
    "outputHidden": false,
    "papermill": {
     "duration": 0.062908,
     "end_time": "2019-09-02T10:21:15.729327",
     "exception": false,
     "start_time": "2019-09-02T10:21:15.666419",
     "status": "completed"
    },
    "tags": []
   },
   "outputs": [],
   "source": [
    "def get_losses_by_user(subject_id):\n",
    "  diff_data = diff_data_df.loc[subject_id]\n",
    "  psf = diff_data['psf']\n",
    "  pixel_mask = np.array(diff_data['pixel_mask'])[::-1]\n",
    "  galaxy_data = np.array(diff_data['galaxy_data'])[::-1]\n",
    "  image_size = galaxy_data.shape[0]\n",
    "  size_diff = diff_data['size_diff']\n",
    "  \n",
    "  cls = gu.classifications.query('subject_ids == {}'.format(subject_id))\n",
    "  names = cls.user_name \n",
    "  annotations = cls['annotations'].apply(json.loads)\n",
    "\n",
    "  models = annotations.apply(\n",
    "    parsing.parse_annotation,\n",
    "    size_diff=size_diff\n",
    "  )\n",
    "\n",
    "  tqdm.pandas(\n",
    "    desc='Rendering models'.format(subject_id),\n",
    "    leave=False\n",
    "  )\n",
    "  rendered = models.progress_apply(\n",
    "    rendering.calculate_model,\n",
    "    image_size=image_size,\n",
    "    psf=psf\n",
    "  ).rename('rendered')\n",
    "\n",
    "  tqdm.pandas(\n",
    "    desc='Calculating differences'.format(subject_id),\n",
    "    leave=False\n",
    "  )\n",
    "  losses = rendered.apply(\n",
    "    fitting.loss,\n",
    "    args=(galaxy_data, pixel_mask)\n",
    "  ).rename('loss')\n",
    "  all_losses = pd.Series(\n",
    "    losses.values,\n",
    "    index=names.values\n",
    "  ).rename(subject_id)\n",
    "  best_losses = pd.concat((\n",
    "    all_losses.where(\n",
    "      ~all_losses.duplicated(keep=False)\n",
    "    ).dropna(), # all non-duplicates\n",
    "    all_losses.where(\n",
    "      all_losses.duplicated(keep=False)\n",
    "    ).dropna().groupby(level=0).min() # best value of duplicates\n",
    "  ), axis=0)\n",
    "  return best_losses"
   ]
  },
  {
   "cell_type": "code",
   "execution_count": 7,
   "metadata": {
    "collapsed": false,
    "inputHidden": false,
    "outputHidden": false,
    "papermill": {
     "duration": 7.170465,
     "end_time": "2019-09-02T10:21:22.908704",
     "exception": false,
     "start_time": "2019-09-02T10:21:15.738239",
     "status": "completed"
    },
    "tags": []
   },
   "outputs": [
    {
     "name": "stderr",
     "output_type": "stream",
     "text": [
      "\r",
      "Rendering models:   0%|          | 0/30 [00:00<?, ?it/s]"
     ]
    },
    {
     "name": "stderr",
     "output_type": "stream",
     "text": [
      "\r",
      "Rendering models:   7%|▋         | 2/30 [00:06<01:24,  3.01s/it]"
     ]
    },
    {
     "name": "stderr",
     "output_type": "stream",
     "text": [
      "\r",
      "Rendering models:  23%|██▎       | 7/30 [00:06<00:48,  2.11s/it]"
     ]
    },
    {
     "name": "stderr",
     "output_type": "stream",
     "text": [
      "\r",
      "Rendering models:  30%|███       | 9/30 [00:06<00:31,  1.49s/it]"
     ]
    },
    {
     "name": "stderr",
     "output_type": "stream",
     "text": [
      "\r",
      "Rendering models:  40%|████      | 12/30 [00:06<00:19,  1.06s/it]"
     ]
    },
    {
     "name": "stderr",
     "output_type": "stream",
     "text": [
      "\r",
      "Rendering models:  50%|█████     | 15/30 [00:06<00:11,  1.33it/s]"
     ]
    },
    {
     "name": "stderr",
     "output_type": "stream",
     "text": [
      "\r",
      "Rendering models:  60%|██████    | 18/30 [00:06<00:06,  1.87it/s]"
     ]
    },
    {
     "name": "stderr",
     "output_type": "stream",
     "text": [
      "\r",
      "Rendering models:  70%|███████   | 21/30 [00:06<00:03,  2.59it/s]"
     ]
    },
    {
     "name": "stderr",
     "output_type": "stream",
     "text": [
      "\r",
      "Rendering models:  80%|████████  | 24/30 [00:06<00:01,  3.53it/s]"
     ]
    },
    {
     "name": "stderr",
     "output_type": "stream",
     "text": [
      "\r",
      "Rendering models:  90%|█████████ | 27/30 [00:06<00:00,  4.76it/s]"
     ]
    },
    {
     "name": "stderr",
     "output_type": "stream",
     "text": [
      "\r",
      "Rendering models: 100%|██████████| 30/30 [00:07<00:00,  6.33it/s]"
     ]
    },
    {
     "name": "stderr",
     "output_type": "stream",
     "text": [
      "\r",
      "                                                                 "
     ]
    },
    {
     "name": "stderr",
     "output_type": "stream",
     "text": [
      "\r"
     ]
    },
    {
     "data": {
      "text/plain": [
       "cschwefl                               0.045223\n",
       "Dynamatt                               0.000262\n",
       "asucich                                0.000225\n",
       "djswanso                               0.073251\n",
       "thedarktree                            0.000272\n",
       "not-logged-in-a7f3c0eb6d81d69e04a2     0.001765\n",
       "acohen12                               0.000234\n",
       "rnevils                                0.000326\n",
       "carolynjoy                             0.000495\n",
       "spider_pig                             0.002307\n",
       "pangeli5                               0.000621\n",
       "froggler                               0.000266\n",
       "Lavadude                               0.022944\n",
       "hpatss1                                0.000218\n",
       "Tessaje04                              0.000858\n",
       "not-logged-in-36a6cd4ee9f5f5a4f610     0.000586\n",
       "jmacd297                               0.001184\n",
       "not-logged-in-3429675089c67c4fccb8     0.005079\n",
       "cooper.hull                           67.903064\n",
       "not-logged-in-ec641b5d49aaa15bc8a9     0.004052\n",
       "not-logged-in-8250d4496dd19b9ab401     0.000645\n",
       "Octavius_Augustus                      0.000195\n",
       "THarnish                               0.001971\n",
       "spannerfarm                            0.000378\n",
       "Camelron                               0.004894\n",
       "ckkmomma                               0.004894\n",
       "holte116                               0.004894\n",
       "mariafarhat                            0.004894\n",
       "not-logged-in-490f77176b83d659546b     0.004894\n",
       "not-logged-in-f5ac928c4dcd4e9cb619     0.004894\n",
       "Name: 21686609, dtype: float64"
      ]
     },
     "execution_count": 7,
     "metadata": {},
     "output_type": "execute_result"
    }
   ],
   "source": [
    "losses = get_losses_by_user(subject_id)\n",
    "losses"
   ]
  },
  {
   "cell_type": "code",
   "execution_count": 8,
   "metadata": {
    "collapsed": false,
    "inputHidden": false,
    "outputHidden": false,
    "papermill": {
     "duration": 0.059492,
     "end_time": "2019-09-02T10:21:22.980106",
     "exception": false,
     "start_time": "2019-09-02T10:21:22.920614",
     "status": "completed"
    },
    "tags": []
   },
   "outputs": [
    {
     "data": {
      "application/scrapbook.scrap.json+json": {
       "data": 21686609,
       "encoder": "json",
       "name": "subject_id",
       "version": 1
      }
     },
     "metadata": {
      "scrapbook": {
       "data": true,
       "display": false,
       "name": "subject_id"
      }
     },
     "output_type": "display_data"
    },
    {
     "data": {
      "application/scrapbook.scrap.json+json": {
       "data": {
        "Camelron": 0.004894402705796824,
        "Dynamatt": 0.0002618335058733031,
        "Lavadude": 0.022944263625003153,
        "Octavius_Augustus": 0.0001953303008071753,
        "THarnish": 0.001970853414346766,
        "Tessaje04": 0.0008583741948912226,
        "acohen12": 0.0002338015050354172,
        "asucich": 0.00022453787163812016,
        "carolynjoy": 0.0004954318865079367,
        "ckkmomma": 0.004894402705796824,
        "cooper.hull": 67.90306352379282,
        "cschwefl": 0.04522346171247902,
        "djswanso": 0.07325118941390918,
        "froggler": 0.00026596567209843724,
        "holte116": 0.004894402705796824,
        "hpatss1": 0.00021757671675862986,
        "jmacd297": 0.001183701286972154,
        "mariafarhat": 0.004894402705796824,
        "not-logged-in-3429675089c67c4fccb8": 0.0050789538361764,
        "not-logged-in-36a6cd4ee9f5f5a4f610": 0.0005864406792338414,
        "not-logged-in-490f77176b83d659546b": 0.004894402705796824,
        "not-logged-in-8250d4496dd19b9ab401": 0.0006447740352168968,
        "not-logged-in-a7f3c0eb6d81d69e04a2": 0.0017649113294228274,
        "not-logged-in-ec641b5d49aaa15bc8a9": 0.00405235635853453,
        "not-logged-in-f5ac928c4dcd4e9cb619": 0.004894402705796824,
        "pangeli5": 0.0006209864906330275,
        "rnevils": 0.0003257549688328685,
        "spannerfarm": 0.0003775522280055947,
        "spider_pig": 0.0023073329613946727,
        "thedarktree": 0.00027151024767661455
       },
       "encoder": "json",
       "name": "losses",
       "version": 1
      }
     },
     "metadata": {
      "scrapbook": {
       "data": true,
       "display": false,
       "name": "losses"
      }
     },
     "output_type": "display_data"
    }
   ],
   "source": [
    "sb.glue('subject_id', subject_id)\n",
    "sb.glue('losses', losses.to_dict())"
   ]
  }
 ],
 "metadata": {
  "kernel_info": {
   "name": "python3"
  },
  "kernelspec": {
   "display_name": "Python 3",
   "language": "python",
   "name": "python3"
  },
  "language_info": {
   "codemirror_mode": {
    "name": "ipython",
    "version": 3
   },
   "file_extension": ".py",
   "mimetype": "text/x-python",
   "name": "python",
   "nbconvert_exporter": "python",
   "pygments_lexer": "ipython3",
   "version": "3.7.3"
  },
  "nteract": {
   "version": "0.14.3"
  },
  "papermill": {
   "duration": 14.892492,
   "end_time": "2019-09-02T10:21:24.039001",
   "environment_variables": {},
   "exception": null,
   "input_path": "/users/tingard/gzbuilder_results/input_files/volunteer_losses.ipynb",
   "output_path": "/users/tingard/gzbuilder_results/output_files/volunteer_losses/21686609.ipynb",
   "parameters": {
    "subject_id": 21686609
   },
   "start_time": "2019-09-02T10:21:09.146509",
   "version": "1.0.1"
  }
 },
 "nbformat": 4,
 "nbformat_minor": 0
}