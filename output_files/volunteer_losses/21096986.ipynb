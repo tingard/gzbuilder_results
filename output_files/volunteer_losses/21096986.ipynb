{
 "cells": [
  {
   "cell_type": "markdown",
   "metadata": {
    "papermill": {
     "duration": 0.008672,
     "end_time": "2019-09-02T10:20:16.806496",
     "exception": false,
     "start_time": "2019-09-02T10:20:16.797824",
     "status": "completed"
    },
    "tags": []
   },
   "source": [
    "# Volunteer model loss calculation\n",
    "\n",
    "This notebook takes a `subject_id` and calculates the MSE of each volunteer's model to the galaxy data. These losses are then glued to the notebook for use elsewhere."
   ]
  },
  {
   "cell_type": "code",
   "execution_count": 1,
   "metadata": {
    "collapsed": false,
    "inputHidden": false,
    "outputHidden": false,
    "papermill": {
     "duration": 0.024615,
     "end_time": "2019-09-02T10:20:16.838539",
     "exception": false,
     "start_time": "2019-09-02T10:20:16.813924",
     "status": "completed"
    },
    "tags": []
   },
   "outputs": [],
   "source": [
    "%load_ext autoreload\n",
    "%autoreload 2"
   ]
  },
  {
   "cell_type": "code",
   "execution_count": 2,
   "metadata": {
    "collapsed": false,
    "inputHidden": false,
    "outputHidden": false,
    "papermill": {
     "duration": 7.097271,
     "end_time": "2019-09-02T10:20:23.943122",
     "exception": false,
     "start_time": "2019-09-02T10:20:16.845851",
     "status": "completed"
    },
    "tags": []
   },
   "outputs": [
    {
     "name": "stderr",
     "output_type": "stream",
     "text": [
      "/opt/apps/pkgs/anaconda3/2019.03/intel64/lib/python3.7/site-packages/dask/config.py:168: YAMLLoadWarning: calling yaml.load() without Loader=... is deprecated, as the default Loader is unsafe. Please read https://msg.pyyaml.org/load for full details.\n",
      "  data = yaml.load(f.read()) or {}\n"
     ]
    }
   ],
   "source": [
    "import json\n",
    "import numpy as np\n",
    "import pandas as pd\n",
    "from tqdm import tqdm\n",
    "import matplotlib.pyplot as plt\n",
    "import seaborn as sns\n",
    "from gzbuilder_analysis import parsing, rendering, fitting\n",
    "import lib.galaxy_utilities as gu\n",
    "import scrapbook as sb"
   ]
  },
  {
   "cell_type": "code",
   "execution_count": 3,
   "metadata": {
    "collapsed": false,
    "inputHidden": false,
    "outputHidden": false,
    "papermill": {
     "duration": 0.044957,
     "end_time": "2019-09-02T10:20:23.997208",
     "exception": false,
     "start_time": "2019-09-02T10:20:23.952251",
     "status": "completed"
    },
    "tags": [
     "parameters"
    ]
   },
   "outputs": [],
   "source": [
    "subject_id = 20902040"
   ]
  },
  {
   "cell_type": "code",
   "execution_count": 4,
   "metadata": {
    "papermill": {
     "duration": 0.239908,
     "end_time": "2019-09-02T10:20:24.245216",
     "exception": false,
     "start_time": "2019-09-02T10:20:24.005308",
     "status": "completed"
    },
    "tags": [
     "injected-parameters"
    ]
   },
   "outputs": [],
   "source": [
    "# Parameters\n",
    "subject_id = 21096986\n"
   ]
  },
  {
   "cell_type": "code",
   "execution_count": 5,
   "metadata": {
    "collapsed": false,
    "inputHidden": false,
    "outputHidden": false,
    "papermill": {
     "duration": 0.151275,
     "end_time": "2019-09-02T10:20:24.404495",
     "exception": false,
     "start_time": "2019-09-02T10:20:24.253220",
     "status": "completed"
    },
    "tags": []
   },
   "outputs": [],
   "source": [
    "diff_data_df = pd.read_pickle('lib/fitting_metadata.pkl')"
   ]
  },
  {
   "cell_type": "code",
   "execution_count": 6,
   "metadata": {
    "collapsed": false,
    "inputHidden": false,
    "outputHidden": false,
    "papermill": {
     "duration": 2.209062,
     "end_time": "2019-09-02T10:20:26.620861",
     "exception": false,
     "start_time": "2019-09-02T10:20:24.411799",
     "status": "completed"
    },
    "tags": []
   },
   "outputs": [],
   "source": [
    "def get_losses_by_user(subject_id):\n",
    "  diff_data = diff_data_df.loc[subject_id]\n",
    "  psf = diff_data['psf']\n",
    "  pixel_mask = np.array(diff_data['pixel_mask'])[::-1]\n",
    "  galaxy_data = np.array(diff_data['galaxy_data'])[::-1]\n",
    "  image_size = galaxy_data.shape[0]\n",
    "  size_diff = diff_data['size_diff']\n",
    "  \n",
    "  cls = gu.classifications.query('subject_ids == {}'.format(subject_id))\n",
    "  names = cls.user_name \n",
    "  annotations = cls['annotations'].apply(json.loads)\n",
    "\n",
    "  models = annotations.apply(\n",
    "    parsing.parse_annotation,\n",
    "    size_diff=size_diff\n",
    "  )\n",
    "\n",
    "  tqdm.pandas(\n",
    "    desc='Rendering models'.format(subject_id),\n",
    "    leave=False\n",
    "  )\n",
    "  rendered = models.progress_apply(\n",
    "    rendering.calculate_model,\n",
    "    image_size=image_size,\n",
    "    psf=psf\n",
    "  ).rename('rendered')\n",
    "\n",
    "  tqdm.pandas(\n",
    "    desc='Calculating differences'.format(subject_id),\n",
    "    leave=False\n",
    "  )\n",
    "  losses = rendered.apply(\n",
    "    fitting.loss,\n",
    "    args=(galaxy_data, pixel_mask)\n",
    "  ).rename('loss')\n",
    "  all_losses = pd.Series(\n",
    "    losses.values,\n",
    "    index=names.values\n",
    "  ).rename(subject_id)\n",
    "  best_losses = pd.concat((\n",
    "    all_losses.where(\n",
    "      ~all_losses.duplicated(keep=False)\n",
    "    ).dropna(), # all non-duplicates\n",
    "    all_losses.where(\n",
    "      all_losses.duplicated(keep=False)\n",
    "    ).dropna().groupby(level=0).min() # best value of duplicates\n",
    "  ), axis=0)\n",
    "  return best_losses"
   ]
  },
  {
   "cell_type": "code",
   "execution_count": 7,
   "metadata": {
    "collapsed": false,
    "inputHidden": false,
    "outputHidden": false,
    "papermill": {
     "duration": 8.569929,
     "end_time": "2019-09-02T10:20:35.200339",
     "exception": false,
     "start_time": "2019-09-02T10:20:26.630410",
     "status": "completed"
    },
    "tags": []
   },
   "outputs": [
    {
     "name": "stderr",
     "output_type": "stream",
     "text": [
      "\r",
      "Rendering models:   0%|          | 0/30 [00:00<?, ?it/s]"
     ]
    },
    {
     "name": "stderr",
     "output_type": "stream",
     "text": [
      "\r",
      "Rendering models:   7%|▋         | 2/30 [00:01<00:23,  1.18it/s]"
     ]
    },
    {
     "name": "stderr",
     "output_type": "stream",
     "text": [
      "\r",
      "Rendering models:  10%|█         | 3/30 [00:05<00:45,  1.70s/it]"
     ]
    },
    {
     "name": "stderr",
     "output_type": "stream",
     "text": [
      "\r",
      "Rendering models:  17%|█▋        | 5/30 [00:07<00:35,  1.43s/it]"
     ]
    },
    {
     "name": "stderr",
     "output_type": "stream",
     "text": [
      "\r",
      "Rendering models:  20%|██        | 6/30 [00:07<00:24,  1.04s/it]"
     ]
    },
    {
     "name": "stderr",
     "output_type": "stream",
     "text": [
      "\r",
      "Rendering models:  27%|██▋       | 8/30 [00:07<00:16,  1.35it/s]"
     ]
    },
    {
     "name": "stderr",
     "output_type": "stream",
     "text": [
      "\r",
      "Rendering models:  33%|███▎      | 10/30 [00:07<00:10,  1.86it/s]"
     ]
    },
    {
     "name": "stderr",
     "output_type": "stream",
     "text": [
      "\r",
      "Rendering models:  37%|███▋      | 11/30 [00:07<00:07,  2.44it/s]"
     ]
    },
    {
     "name": "stderr",
     "output_type": "stream",
     "text": [
      "\r",
      "Rendering models:  43%|████▎     | 13/30 [00:07<00:05,  3.29it/s]"
     ]
    },
    {
     "name": "stderr",
     "output_type": "stream",
     "text": [
      "\r",
      "Rendering models:  50%|█████     | 15/30 [00:07<00:03,  4.21it/s]"
     ]
    },
    {
     "name": "stderr",
     "output_type": "stream",
     "text": [
      "\r",
      "Rendering models:  57%|█████▋    | 17/30 [00:07<00:02,  5.30it/s]"
     ]
    },
    {
     "name": "stderr",
     "output_type": "stream",
     "text": [
      "\r",
      "Rendering models:  70%|███████   | 21/30 [00:08<00:01,  6.90it/s]"
     ]
    },
    {
     "name": "stderr",
     "output_type": "stream",
     "text": [
      "\r",
      "Rendering models:  80%|████████  | 24/30 [00:08<00:00,  8.68it/s]"
     ]
    },
    {
     "name": "stderr",
     "output_type": "stream",
     "text": [
      "\r",
      "Rendering models:  87%|████████▋ | 26/30 [00:08<00:00, 10.23it/s]"
     ]
    },
    {
     "name": "stderr",
     "output_type": "stream",
     "text": [
      "\r",
      "Rendering models:  93%|█████████▎| 28/30 [00:08<00:00, 11.84it/s]"
     ]
    },
    {
     "name": "stderr",
     "output_type": "stream",
     "text": [
      "\r",
      "                                                                 "
     ]
    },
    {
     "name": "stderr",
     "output_type": "stream",
     "text": [
      "\r"
     ]
    },
    {
     "data": {
      "text/plain": [
       "not-logged-in-3b0b929f4475fd276561    0.000799\n",
       "OregonHiker                           0.000705\n",
       "not-logged-in-07e6a4fb0102a346c69f    0.025756\n",
       "Karl_Knopf                            0.001450\n",
       "Kartoon1x                             0.000644\n",
       "mwalsh868                             0.000558\n",
       "not-logged-in-a4cf4d6534661ba8c651    0.000505\n",
       "Quarkgc                               0.000900\n",
       "not-logged-in-e7932b1588574fe4dae2    0.002478\n",
       "24declanfm                            0.000633\n",
       "not-logged-in-5704ea8f3a0f12b5bfb2    0.010044\n",
       "not-logged-in-240a8f8da7f1bec60bbe    0.003585\n",
       "Boogy33                               0.007823\n",
       "41Letters                             0.000580\n",
       "tominas                               0.001189\n",
       "aidenr                                0.001055\n",
       "aisha3540                             0.074410\n",
       "rhondacard                            0.004536\n",
       "helios1235                            0.000626\n",
       "Lavadude                              0.036213\n",
       "saferguson                            0.001157\n",
       "Bambura                               0.193001\n",
       "Charly10                              0.001219\n",
       "Jassels2                              0.003737\n",
       "rcauchi3                              0.003812\n",
       "jiipee                                0.030623\n",
       "TRISTANM18                            0.004781\n",
       "crush202020                           0.004781\n",
       "not-logged-in-008bad404e76fb7ba2fd    0.004781\n",
       "not-logged-in-cb9a3afe2ea33dfd2fb1    0.004781\n",
       "Name: 21096986, dtype: float64"
      ]
     },
     "execution_count": 7,
     "metadata": {},
     "output_type": "execute_result"
    }
   ],
   "source": [
    "losses = get_losses_by_user(subject_id)\n",
    "losses"
   ]
  },
  {
   "cell_type": "code",
   "execution_count": 8,
   "metadata": {
    "collapsed": false,
    "inputHidden": false,
    "outputHidden": false,
    "papermill": {
     "duration": 0.058357,
     "end_time": "2019-09-02T10:20:35.272808",
     "exception": false,
     "start_time": "2019-09-02T10:20:35.214451",
     "status": "completed"
    },
    "tags": []
   },
   "outputs": [
    {
     "data": {
      "application/scrapbook.scrap.json+json": {
       "data": 21096986,
       "encoder": "json",
       "name": "subject_id",
       "version": 1
      }
     },
     "metadata": {
      "scrapbook": {
       "data": true,
       "display": false,
       "name": "subject_id"
      }
     },
     "output_type": "display_data"
    },
    {
     "data": {
      "application/scrapbook.scrap.json+json": {
       "data": {
        "24declanfm": 0.0006330113501112497,
        "41Letters": 0.0005797046811536449,
        "Bambura": 0.19300130067073085,
        "Boogy33": 0.007823359014873254,
        "Charly10": 0.0012187045842664667,
        "Jassels2": 0.0037366911982146043,
        "Karl_Knopf": 0.0014501008031685167,
        "Kartoon1x": 0.0006438931659004559,
        "Lavadude": 0.03621340563877798,
        "OregonHiker": 0.0007049828896926384,
        "Quarkgc": 0.0009001130383714699,
        "TRISTANM18": 0.004780908323586648,
        "aidenr": 0.0010549914734027399,
        "aisha3540": 0.07441018970371764,
        "crush202020": 0.004780908323586648,
        "helios1235": 0.0006262521255210868,
        "jiipee": 0.030622758010116356,
        "mwalsh868": 0.000557589616078929,
        "not-logged-in-008bad404e76fb7ba2fd": 0.004780908323586648,
        "not-logged-in-07e6a4fb0102a346c69f": 0.025756027908899477,
        "not-logged-in-240a8f8da7f1bec60bbe": 0.0035853531269630966,
        "not-logged-in-3b0b929f4475fd276561": 0.0007989522921938361,
        "not-logged-in-5704ea8f3a0f12b5bfb2": 0.010043784780401457,
        "not-logged-in-a4cf4d6534661ba8c651": 0.0005045007192475872,
        "not-logged-in-cb9a3afe2ea33dfd2fb1": 0.004780908323586648,
        "not-logged-in-e7932b1588574fe4dae2": 0.002478213421317916,
        "rcauchi3": 0.003812134987903091,
        "rhondacard": 0.004536309180931791,
        "saferguson": 0.0011573988817774872,
        "tominas": 0.0011892358522421383
       },
       "encoder": "json",
       "name": "losses",
       "version": 1
      }
     },
     "metadata": {
      "scrapbook": {
       "data": true,
       "display": false,
       "name": "losses"
      }
     },
     "output_type": "display_data"
    }
   ],
   "source": [
    "sb.glue('subject_id', subject_id)\n",
    "sb.glue('losses', losses.to_dict())"
   ]
  }
 ],
 "metadata": {
  "kernel_info": {
   "name": "python3"
  },
  "kernelspec": {
   "display_name": "Python 3",
   "language": "python",
   "name": "python3"
  },
  "language_info": {
   "codemirror_mode": {
    "name": "ipython",
    "version": 3
   },
   "file_extension": ".py",
   "mimetype": "text/x-python",
   "name": "python",
   "nbconvert_exporter": "python",
   "pygments_lexer": "ipython3",
   "version": "3.7.3"
  },
  "nteract": {
   "version": "0.14.3"
  },
  "papermill": {
   "duration": 21.923905,
   "end_time": "2019-09-02T10:20:36.195556",
   "environment_variables": {},
   "exception": null,
   "input_path": "/users/tingard/gzbuilder_results/input_files/volunteer_losses.ipynb",
   "output_path": "/users/tingard/gzbuilder_results/output_files/volunteer_losses/21096986.ipynb",
   "parameters": {
    "subject_id": 21096986
   },
   "start_time": "2019-09-02T10:20:14.271651",
   "version": "1.0.1"
  }
 },
 "nbformat": 4,
 "nbformat_minor": 0
}