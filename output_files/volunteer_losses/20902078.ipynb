{
 "cells": [
  {
   "cell_type": "markdown",
   "metadata": {
    "papermill": {
     "duration": 0.009393,
     "end_time": "2019-09-02T10:20:21.221198",
     "exception": false,
     "start_time": "2019-09-02T10:20:21.211805",
     "status": "completed"
    },
    "tags": []
   },
   "source": [
    "# Volunteer model loss calculation\n",
    "\n",
    "This notebook takes a `subject_id` and calculates the MSE of each volunteer's model to the galaxy data. These losses are then glued to the notebook for use elsewhere."
   ]
  },
  {
   "cell_type": "code",
   "execution_count": 1,
   "metadata": {
    "collapsed": false,
    "inputHidden": false,
    "outputHidden": false,
    "papermill": {
     "duration": 0.042545,
     "end_time": "2019-09-02T10:20:21.271150",
     "exception": false,
     "start_time": "2019-09-02T10:20:21.228605",
     "status": "completed"
    },
    "tags": []
   },
   "outputs": [],
   "source": [
    "%load_ext autoreload\n",
    "%autoreload 2"
   ]
  },
  {
   "cell_type": "code",
   "execution_count": 2,
   "metadata": {
    "collapsed": false,
    "inputHidden": false,
    "outputHidden": false,
    "papermill": {
     "duration": 7.002066,
     "end_time": "2019-09-02T10:20:28.283101",
     "exception": false,
     "start_time": "2019-09-02T10:20:21.281035",
     "status": "completed"
    },
    "tags": []
   },
   "outputs": [
    {
     "name": "stderr",
     "output_type": "stream",
     "text": [
      "/opt/apps/pkgs/anaconda3/2019.03/intel64/lib/python3.7/site-packages/dask/config.py:168: YAMLLoadWarning: calling yaml.load() without Loader=... is deprecated, as the default Loader is unsafe. Please read https://msg.pyyaml.org/load for full details.\n",
      "  data = yaml.load(f.read()) or {}\n"
     ]
    }
   ],
   "source": [
    "import json\n",
    "import numpy as np\n",
    "import pandas as pd\n",
    "from tqdm import tqdm\n",
    "import matplotlib.pyplot as plt\n",
    "import seaborn as sns\n",
    "from gzbuilder_analysis import parsing, rendering, fitting\n",
    "import lib.galaxy_utilities as gu\n",
    "import scrapbook as sb"
   ]
  },
  {
   "cell_type": "code",
   "execution_count": 3,
   "metadata": {
    "collapsed": false,
    "inputHidden": false,
    "outputHidden": false,
    "papermill": {
     "duration": 0.042451,
     "end_time": "2019-09-02T10:20:28.335778",
     "exception": false,
     "start_time": "2019-09-02T10:20:28.293327",
     "status": "completed"
    },
    "tags": [
     "parameters"
    ]
   },
   "outputs": [],
   "source": [
    "subject_id = 20902040"
   ]
  },
  {
   "cell_type": "code",
   "execution_count": 4,
   "metadata": {
    "papermill": {
     "duration": 0.04144,
     "end_time": "2019-09-02T10:20:28.386270",
     "exception": false,
     "start_time": "2019-09-02T10:20:28.344830",
     "status": "completed"
    },
    "tags": [
     "injected-parameters"
    ]
   },
   "outputs": [],
   "source": [
    "# Parameters\n",
    "subject_id = 20902078\n"
   ]
  },
  {
   "cell_type": "code",
   "execution_count": 5,
   "metadata": {
    "collapsed": false,
    "inputHidden": false,
    "outputHidden": false,
    "papermill": {
     "duration": 0.146345,
     "end_time": "2019-09-02T10:20:28.540582",
     "exception": false,
     "start_time": "2019-09-02T10:20:28.394237",
     "status": "completed"
    },
    "tags": []
   },
   "outputs": [],
   "source": [
    "diff_data_df = pd.read_pickle('lib/fitting_metadata.pkl')"
   ]
  },
  {
   "cell_type": "code",
   "execution_count": 6,
   "metadata": {
    "collapsed": false,
    "inputHidden": false,
    "outputHidden": false,
    "papermill": {
     "duration": 0.057207,
     "end_time": "2019-09-02T10:20:28.606540",
     "exception": false,
     "start_time": "2019-09-02T10:20:28.549333",
     "status": "completed"
    },
    "tags": []
   },
   "outputs": [],
   "source": [
    "def get_losses_by_user(subject_id):\n",
    "  diff_data = diff_data_df.loc[subject_id]\n",
    "  psf = diff_data['psf']\n",
    "  pixel_mask = np.array(diff_data['pixel_mask'])[::-1]\n",
    "  galaxy_data = np.array(diff_data['galaxy_data'])[::-1]\n",
    "  image_size = galaxy_data.shape[0]\n",
    "  size_diff = diff_data['size_diff']\n",
    "  \n",
    "  cls = gu.classifications.query('subject_ids == {}'.format(subject_id))\n",
    "  names = cls.user_name \n",
    "  annotations = cls['annotations'].apply(json.loads)\n",
    "\n",
    "  models = annotations.apply(\n",
    "    parsing.parse_annotation,\n",
    "    size_diff=size_diff\n",
    "  )\n",
    "\n",
    "  tqdm.pandas(\n",
    "    desc='Rendering models'.format(subject_id),\n",
    "    leave=False\n",
    "  )\n",
    "  rendered = models.progress_apply(\n",
    "    rendering.calculate_model,\n",
    "    image_size=image_size,\n",
    "    psf=psf\n",
    "  ).rename('rendered')\n",
    "\n",
    "  tqdm.pandas(\n",
    "    desc='Calculating differences'.format(subject_id),\n",
    "    leave=False\n",
    "  )\n",
    "  losses = rendered.apply(\n",
    "    fitting.loss,\n",
    "    args=(galaxy_data, pixel_mask)\n",
    "  ).rename('loss')\n",
    "  all_losses = pd.Series(\n",
    "    losses.values,\n",
    "    index=names.values\n",
    "  ).rename(subject_id)\n",
    "  best_losses = pd.concat((\n",
    "    all_losses.where(\n",
    "      ~all_losses.duplicated(keep=False)\n",
    "    ).dropna(), # all non-duplicates\n",
    "    all_losses.where(\n",
    "      all_losses.duplicated(keep=False)\n",
    "    ).dropna().groupby(level=0).min() # best value of duplicates\n",
    "  ), axis=0)\n",
    "  return best_losses"
   ]
  },
  {
   "cell_type": "code",
   "execution_count": 7,
   "metadata": {
    "collapsed": false,
    "inputHidden": false,
    "outputHidden": false,
    "papermill": {
     "duration": 17.165518,
     "end_time": "2019-09-02T10:20:45.780675",
     "exception": false,
     "start_time": "2019-09-02T10:20:28.615157",
     "status": "completed"
    },
    "tags": []
   },
   "outputs": [
    {
     "name": "stderr",
     "output_type": "stream",
     "text": [
      "\r",
      "Rendering models:   0%|          | 0/78 [00:00<?, ?it/s]"
     ]
    },
    {
     "name": "stderr",
     "output_type": "stream",
     "text": [
      "\r",
      "Rendering models:   3%|▎         | 2/78 [00:05<03:30,  2.77s/it]"
     ]
    },
    {
     "name": "stderr",
     "output_type": "stream",
     "text": [
      "\r",
      "Rendering models:   4%|▍         | 3/78 [00:05<02:28,  1.98s/it]"
     ]
    },
    {
     "name": "stderr",
     "output_type": "stream",
     "text": [
      "\r",
      "Rendering models:   5%|▌         | 4/78 [00:07<02:21,  1.92s/it]"
     ]
    },
    {
     "name": "stderr",
     "output_type": "stream",
     "text": [
      "\r",
      "Rendering models:   6%|▋         | 5/78 [00:07<01:44,  1.44s/it]"
     ]
    },
    {
     "name": "stderr",
     "output_type": "stream",
     "text": [
      "\r",
      "Rendering models:   8%|▊         | 6/78 [00:08<01:19,  1.10s/it]"
     ]
    },
    {
     "name": "stderr",
     "output_type": "stream",
     "text": [
      "\r",
      "Rendering models:   9%|▉         | 7/78 [00:08<00:57,  1.23it/s]"
     ]
    },
    {
     "name": "stderr",
     "output_type": "stream",
     "text": [
      "\r",
      "Rendering models:  10%|█         | 8/78 [00:08<00:42,  1.64it/s]"
     ]
    },
    {
     "name": "stderr",
     "output_type": "stream",
     "text": [
      "\r",
      "Rendering models:  12%|█▏        | 9/78 [00:08<00:32,  2.13it/s]"
     ]
    },
    {
     "name": "stderr",
     "output_type": "stream",
     "text": [
      "\r",
      "Rendering models:  15%|█▌        | 12/78 [00:08<00:24,  2.74it/s]"
     ]
    },
    {
     "name": "stderr",
     "output_type": "stream",
     "text": [
      "\r",
      "Rendering models:  17%|█▋        | 13/78 [00:09<00:19,  3.30it/s]"
     ]
    },
    {
     "name": "stderr",
     "output_type": "stream",
     "text": [
      "\r",
      "Rendering models:  26%|██▌       | 20/78 [00:09<00:12,  4.50it/s]"
     ]
    },
    {
     "name": "stderr",
     "output_type": "stream",
     "text": [
      "\r",
      "Rendering models:  28%|██▊       | 22/78 [00:09<00:13,  4.21it/s]"
     ]
    },
    {
     "name": "stderr",
     "output_type": "stream",
     "text": [
      "\r",
      "Rendering models:  31%|███       | 24/78 [00:10<00:11,  4.87it/s]"
     ]
    },
    {
     "name": "stderr",
     "output_type": "stream",
     "text": [
      "\r",
      "Rendering models:  32%|███▏      | 25/78 [00:10<00:11,  4.49it/s]"
     ]
    },
    {
     "name": "stderr",
     "output_type": "stream",
     "text": [
      "\r",
      "Rendering models:  33%|███▎      | 26/78 [00:10<00:09,  5.20it/s]"
     ]
    },
    {
     "name": "stderr",
     "output_type": "stream",
     "text": [
      "\r",
      "Rendering models:  35%|███▍      | 27/78 [00:10<00:09,  5.23it/s]"
     ]
    },
    {
     "name": "stderr",
     "output_type": "stream",
     "text": [
      "\r",
      "Rendering models:  36%|███▌      | 28/78 [00:10<00:09,  5.55it/s]"
     ]
    },
    {
     "name": "stderr",
     "output_type": "stream",
     "text": [
      "\r",
      "Rendering models:  37%|███▋      | 29/78 [00:10<00:08,  5.83it/s]"
     ]
    },
    {
     "name": "stderr",
     "output_type": "stream",
     "text": [
      "\r",
      "Rendering models:  38%|███▊      | 30/78 [00:11<00:09,  5.16it/s]"
     ]
    },
    {
     "name": "stderr",
     "output_type": "stream",
     "text": [
      "\r",
      "Rendering models:  40%|███▉      | 31/78 [00:11<00:08,  5.25it/s]"
     ]
    },
    {
     "name": "stderr",
     "output_type": "stream",
     "text": [
      "\r",
      "Rendering models:  44%|████▎     | 34/78 [00:11<00:06,  6.76it/s]"
     ]
    },
    {
     "name": "stderr",
     "output_type": "stream",
     "text": [
      "\r",
      "Rendering models:  46%|████▌     | 36/78 [00:11<00:05,  7.61it/s]"
     ]
    },
    {
     "name": "stderr",
     "output_type": "stream",
     "text": [
      "\r",
      "Rendering models:  49%|████▊     | 38/78 [00:12<00:05,  7.25it/s]"
     ]
    },
    {
     "name": "stderr",
     "output_type": "stream",
     "text": [
      "\r",
      "Rendering models:  50%|█████     | 39/78 [00:12<00:05,  6.58it/s]"
     ]
    },
    {
     "name": "stderr",
     "output_type": "stream",
     "text": [
      "\r",
      "Rendering models:  51%|█████▏    | 40/78 [00:12<00:06,  6.17it/s]"
     ]
    },
    {
     "name": "stderr",
     "output_type": "stream",
     "text": [
      "\r",
      "Rendering models:  53%|█████▎    | 41/78 [00:12<00:05,  6.29it/s]"
     ]
    },
    {
     "name": "stderr",
     "output_type": "stream",
     "text": [
      "\r",
      "Rendering models:  54%|█████▍    | 42/78 [00:12<00:05,  6.36it/s]"
     ]
    },
    {
     "name": "stderr",
     "output_type": "stream",
     "text": [
      "\r",
      "Rendering models:  55%|█████▌    | 43/78 [00:12<00:06,  5.04it/s]"
     ]
    },
    {
     "name": "stderr",
     "output_type": "stream",
     "text": [
      "\r",
      "Rendering models:  56%|█████▋    | 44/78 [00:13<00:06,  5.11it/s]"
     ]
    },
    {
     "name": "stderr",
     "output_type": "stream",
     "text": [
      "\r",
      "Rendering models:  58%|█████▊    | 45/78 [00:13<00:06,  5.23it/s]"
     ]
    },
    {
     "name": "stderr",
     "output_type": "stream",
     "text": [
      "\r",
      "Rendering models:  59%|█████▉    | 46/78 [00:13<00:06,  5.26it/s]"
     ]
    },
    {
     "name": "stderr",
     "output_type": "stream",
     "text": [
      "\r",
      "Rendering models:  60%|██████    | 47/78 [00:13<00:05,  5.35it/s]"
     ]
    },
    {
     "name": "stderr",
     "output_type": "stream",
     "text": [
      "\r",
      "Rendering models:  62%|██████▏   | 48/78 [00:13<00:05,  5.38it/s]"
     ]
    },
    {
     "name": "stderr",
     "output_type": "stream",
     "text": [
      "\r",
      "Rendering models:  64%|██████▍   | 50/78 [00:14<00:04,  6.30it/s]"
     ]
    },
    {
     "name": "stderr",
     "output_type": "stream",
     "text": [
      "\r",
      "Rendering models:  65%|██████▌   | 51/78 [00:14<00:04,  5.96it/s]"
     ]
    },
    {
     "name": "stderr",
     "output_type": "stream",
     "text": [
      "\r",
      "Rendering models:  73%|███████▎  | 57/78 [00:14<00:02,  7.80it/s]"
     ]
    },
    {
     "name": "stderr",
     "output_type": "stream",
     "text": [
      "\r",
      "Rendering models:  76%|███████▌  | 59/78 [00:14<00:02,  7.03it/s]"
     ]
    },
    {
     "name": "stderr",
     "output_type": "stream",
     "text": [
      "\r",
      "Rendering models:  78%|███████▊  | 61/78 [00:15<00:02,  6.84it/s]"
     ]
    },
    {
     "name": "stderr",
     "output_type": "stream",
     "text": [
      "\r",
      "Rendering models:  79%|███████▉  | 62/78 [00:15<00:02,  7.23it/s]"
     ]
    },
    {
     "name": "stderr",
     "output_type": "stream",
     "text": [
      "\r",
      "Rendering models:  81%|████████  | 63/78 [00:15<00:01,  7.63it/s]"
     ]
    },
    {
     "name": "stderr",
     "output_type": "stream",
     "text": [
      "\r",
      "Rendering models:  83%|████████▎ | 65/78 [00:15<00:01,  8.60it/s]"
     ]
    },
    {
     "name": "stderr",
     "output_type": "stream",
     "text": [
      "\r",
      "Rendering models:  85%|████████▍ | 66/78 [00:15<00:01,  7.87it/s]"
     ]
    },
    {
     "name": "stderr",
     "output_type": "stream",
     "text": [
      "\r",
      "Rendering models:  86%|████████▌ | 67/78 [00:15<00:01,  8.03it/s]"
     ]
    },
    {
     "name": "stderr",
     "output_type": "stream",
     "text": [
      "\r",
      "Rendering models:  87%|████████▋ | 68/78 [00:15<00:01,  7.57it/s]"
     ]
    },
    {
     "name": "stderr",
     "output_type": "stream",
     "text": [
      "\r",
      "Rendering models:  88%|████████▊ | 69/78 [00:16<00:01,  7.80it/s]"
     ]
    },
    {
     "name": "stderr",
     "output_type": "stream",
     "text": [
      "\r",
      "Rendering models:  90%|████████▉ | 70/78 [00:16<00:01,  5.88it/s]"
     ]
    },
    {
     "name": "stderr",
     "output_type": "stream",
     "text": [
      "\r",
      "Rendering models:  96%|█████████▌| 75/78 [00:16<00:00,  7.53it/s]"
     ]
    },
    {
     "name": "stderr",
     "output_type": "stream",
     "text": [
      "\r",
      "Rendering models:  99%|█████████▊| 77/78 [00:16<00:00,  7.76it/s]"
     ]
    },
    {
     "name": "stderr",
     "output_type": "stream",
     "text": [
      "\r",
      "                                                                 "
     ]
    },
    {
     "name": "stderr",
     "output_type": "stream",
     "text": [
      "\r"
     ]
    },
    {
     "data": {
      "text/plain": [
       "equidad1                              0.076352\n",
       "kayleebug2017                         0.001191\n",
       "JessieDawn                            0.162679\n",
       "ElisabethB                            0.003074\n",
       "not-logged-in-0b0736c8991a7cc2017a    0.000435\n",
       "not-logged-in-587a4e9ad373b8ff5983    0.000454\n",
       "Thedunkmasta                          0.002250\n",
       "Thedunkmasta                          0.002241\n",
       "Finlord63                             0.000497\n",
       "sinjinza1984                          0.000334\n",
       "not-logged-in-ab1612bc18cd7aab85db    0.000221\n",
       "msalin03                              0.000143\n",
       "msross                                0.000502\n",
       "clizardo                              0.000646\n",
       "mkirms                                0.000203\n",
       "mkirms                                0.000427\n",
       "djcameron                             0.000191\n",
       "wthammas                              0.000130\n",
       "denzel.ayala                          0.000352\n",
       "not-logged-in-d4bf4d941a1b00de226b    0.000184\n",
       "creinbol                              0.000428\n",
       "cchen88                               0.000580\n",
       "denzel.ayala                          0.002395\n",
       "not-logged-in-f7e2260ed4a9517a3e4a    0.000445\n",
       "not-logged-in-65b11d07c026c3352be7    0.000949\n",
       "sn346808                              0.021981\n",
       "Diamon22                              0.001315\n",
       "edgardo.e.nogueira                    0.000695\n",
       "edgardo.e.nogueira                    0.001569\n",
       "edgardo.e.nogueira                    0.003643\n",
       "                                        ...   \n",
       "Lavadude                              0.046068\n",
       "Lavadude                              0.032751\n",
       "dmosier13                             0.000310\n",
       "dmosier13                             0.000355\n",
       "CBAIN25                               0.000742\n",
       "dmosier13                             0.000528\n",
       "tdrabic                               0.000253\n",
       "campanellimichael13                   0.001340\n",
       "campanellimichael13                   0.001208\n",
       "not-logged-in-812b279e0836b083d452    0.001447\n",
       "not-logged-in-812b279e0836b083d452    0.000178\n",
       "not-logged-in-812b279e0836b083d452    0.000244\n",
       "not-logged-in-812b279e0836b083d452    0.000209\n",
       "not-logged-in-cd6a5cac0334cc279337    0.000355\n",
       "not-logged-in-2a1f5badd63f1820cd31    0.004231\n",
       "heathmonie                            0.000248\n",
       "lmhob14                               0.000926\n",
       "not-logged-in-9c7a4edfcb19cc7d91a1    0.002868\n",
       "Getrekt10127                          0.002746\n",
       "not-logged-in-f7998eb24652de36f102    0.000497\n",
       "Cloke1                                0.001663\n",
       "Lavadude                              0.001663\n",
       "campanellimichael13                   0.001663\n",
       "ckkmomma                              0.001663\n",
       "collinxXgrimreap                      0.001663\n",
       "heathmonie                            0.001663\n",
       "helm0883                              0.001663\n",
       "irwansyah                             0.001663\n",
       "ksheahon                              0.001663\n",
       "ncaro                                 0.001663\n",
       "Name: 20902078, Length: 68, dtype: float64"
      ]
     },
     "execution_count": 7,
     "metadata": {},
     "output_type": "execute_result"
    }
   ],
   "source": [
    "losses = get_losses_by_user(subject_id)\n",
    "losses"
   ]
  },
  {
   "cell_type": "code",
   "execution_count": 8,
   "metadata": {
    "collapsed": false,
    "inputHidden": false,
    "outputHidden": false,
    "papermill": {
     "duration": 0.069699,
     "end_time": "2019-09-02T10:20:45.871652",
     "exception": false,
     "start_time": "2019-09-02T10:20:45.801953",
     "status": "completed"
    },
    "tags": []
   },
   "outputs": [
    {
     "data": {
      "application/scrapbook.scrap.json+json": {
       "data": 20902078,
       "encoder": "json",
       "name": "subject_id",
       "version": 1
      }
     },
     "metadata": {
      "scrapbook": {
       "data": true,
       "display": false,
       "name": "subject_id"
      }
     },
     "output_type": "display_data"
    },
    {
     "data": {
      "application/scrapbook.scrap.json+json": {
       "data": {
        "CBAIN25": 0.0007419479057227009,
        "Cloke1": 0.0016630559788237548,
        "Diamon22": 0.0013154498720500095,
        "ElisabethB": 0.003073514936296907,
        "Finlord63": 0.0004974709314771892,
        "Getrekt10127": 0.002746206035214382,
        "ITS_SHYGUY_HERE": 0.006671328848292774,
        "Jboy2000": 0.4388344453519756,
        "JessieDawn": 0.162678567468584,
        "Lavadude": 0.0016630559788237548,
        "Memefinder": 0.0001253180447642537,
        "Thedunkmasta": 0.0022414159410990985,
        "campanellimichael13": 0.0016630559788237548,
        "cchen88": 0.0005802758666379839,
        "ckkmomma": 0.0016630559788237548,
        "clizardo": 0.0006460715734949022,
        "collinxXgrimreap": 0.0016630559788237548,
        "creinbol": 0.0004284405270630952,
        "denzel.ayala": 0.0023951370453926305,
        "djcameron": 0.0001913336650449561,
        "dmosier13": 0.0005278242177564709,
        "edgardo.e.nogueira": 0.003643155606579583,
        "equidad1": 0.07635204587913617,
        "heathmonie": 0.0016630559788237548,
        "helm0883": 0.0016630559788237548,
        "irwansyah": 0.0016630559788237548,
        "kayleebug2017": 0.0011912308844305955,
        "ksheahon": 0.0016630559788237548,
        "lmhob14": 0.0009261861444114203,
        "mkirms": 0.00042718027786954615,
        "msalin03": 0.00014250134180551194,
        "msross": 0.000501846974383109,
        "ncaro": 0.0016630559788237548,
        "not-logged-in-043727947bf31bfd6dcd": 0.0002788313911907866,
        "not-logged-in-0b0736c8991a7cc2017a": 0.000435216089833622,
        "not-logged-in-2a1f5badd63f1820cd31": 0.0042312050100691435,
        "not-logged-in-587a4e9ad373b8ff5983": 0.000454297915968797,
        "not-logged-in-65b11d07c026c3352be7": 0.000949427423206393,
        "not-logged-in-812b279e0836b083d452": 0.000209261322303933,
        "not-logged-in-9c7a4edfcb19cc7d91a1": 0.002867945569767161,
        "not-logged-in-ab1612bc18cd7aab85db": 0.00022058799753392147,
        "not-logged-in-cd6a5cac0334cc279337": 0.00035485477121494796,
        "not-logged-in-d4bf4d941a1b00de226b": 0.00018402501391412247,
        "not-logged-in-f7998eb24652de36f102": 0.000497485379319844,
        "not-logged-in-f7e2260ed4a9517a3e4a": 0.0004446717704312394,
        "sinjinza1984": 0.00033384951842065595,
        "sn346808": 0.021980903882582323,
        "tdrabic": 0.00025265571996620917,
        "wthammas": 0.000130047090307272
       },
       "encoder": "json",
       "name": "losses",
       "version": 1
      }
     },
     "metadata": {
      "scrapbook": {
       "data": true,
       "display": false,
       "name": "losses"
      }
     },
     "output_type": "display_data"
    }
   ],
   "source": [
    "sb.glue('subject_id', subject_id)\n",
    "sb.glue('losses', losses.to_dict())"
   ]
  }
 ],
 "metadata": {
  "kernel_info": {
   "name": "python3"
  },
  "kernelspec": {
   "display_name": "Python 3",
   "language": "python",
   "name": "python3"
  },
  "language_info": {
   "codemirror_mode": {
    "name": "ipython",
    "version": 3
   },
   "file_extension": ".py",
   "mimetype": "text/x-python",
   "name": "python",
   "nbconvert_exporter": "python",
   "pygments_lexer": "ipython3",
   "version": "3.7.3"
  },
  "nteract": {
   "version": "0.14.3"
  },
  "papermill": {
   "duration": 33.235012,
   "end_time": "2019-09-02T10:20:46.895595",
   "environment_variables": {},
   "exception": null,
   "input_path": "/users/tingard/gzbuilder_results/input_files/volunteer_losses.ipynb",
   "output_path": "/users/tingard/gzbuilder_results/output_files/volunteer_losses/20902078.ipynb",
   "parameters": {
    "subject_id": 20902078
   },
   "start_time": "2019-09-02T10:20:13.660583",
   "version": "1.0.1"
  }
 },
 "nbformat": 4,
 "nbformat_minor": 0
}