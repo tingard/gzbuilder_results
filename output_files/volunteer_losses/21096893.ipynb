{
 "cells": [
  {
   "cell_type": "markdown",
   "metadata": {
    "papermill": {
     "duration": 0.008636,
     "end_time": "2019-09-02T10:20:46.735737",
     "exception": false,
     "start_time": "2019-09-02T10:20:46.727101",
     "status": "completed"
    },
    "tags": []
   },
   "source": [
    "# Volunteer model loss calculation\n",
    "\n",
    "This notebook takes a `subject_id` and calculates the MSE of each volunteer's model to the galaxy data. These losses are then glued to the notebook for use elsewhere."
   ]
  },
  {
   "cell_type": "code",
   "execution_count": 1,
   "metadata": {
    "collapsed": false,
    "inputHidden": false,
    "outputHidden": false,
    "papermill": {
     "duration": 0.02813,
     "end_time": "2019-09-02T10:20:46.772916",
     "exception": false,
     "start_time": "2019-09-02T10:20:46.744786",
     "status": "completed"
    },
    "tags": []
   },
   "outputs": [],
   "source": [
    "%load_ext autoreload\n",
    "%autoreload 2"
   ]
  },
  {
   "cell_type": "code",
   "execution_count": 2,
   "metadata": {
    "collapsed": false,
    "inputHidden": false,
    "outputHidden": false,
    "papermill": {
     "duration": 4.204343,
     "end_time": "2019-09-02T10:20:50.985424",
     "exception": false,
     "start_time": "2019-09-02T10:20:46.781081",
     "status": "completed"
    },
    "tags": []
   },
   "outputs": [
    {
     "name": "stderr",
     "output_type": "stream",
     "text": [
      "/opt/apps/pkgs/anaconda3/2019.03/intel64/lib/python3.7/site-packages/dask/config.py:168: YAMLLoadWarning: calling yaml.load() without Loader=... is deprecated, as the default Loader is unsafe. Please read https://msg.pyyaml.org/load for full details.\n",
      "  data = yaml.load(f.read()) or {}\n"
     ]
    }
   ],
   "source": [
    "import json\n",
    "import numpy as np\n",
    "import pandas as pd\n",
    "from tqdm import tqdm\n",
    "import matplotlib.pyplot as plt\n",
    "import seaborn as sns\n",
    "from gzbuilder_analysis import parsing, rendering, fitting\n",
    "import lib.galaxy_utilities as gu\n",
    "import scrapbook as sb"
   ]
  },
  {
   "cell_type": "code",
   "execution_count": 3,
   "metadata": {
    "collapsed": false,
    "inputHidden": false,
    "outputHidden": false,
    "papermill": {
     "duration": 0.047097,
     "end_time": "2019-09-02T10:20:51.041764",
     "exception": false,
     "start_time": "2019-09-02T10:20:50.994667",
     "status": "completed"
    },
    "tags": [
     "parameters"
    ]
   },
   "outputs": [],
   "source": [
    "subject_id = 20902040"
   ]
  },
  {
   "cell_type": "code",
   "execution_count": 4,
   "metadata": {
    "papermill": {
     "duration": 0.044378,
     "end_time": "2019-09-02T10:20:51.095282",
     "exception": false,
     "start_time": "2019-09-02T10:20:51.050904",
     "status": "completed"
    },
    "tags": [
     "injected-parameters"
    ]
   },
   "outputs": [],
   "source": [
    "# Parameters\n",
    "subject_id = 21096893\n"
   ]
  },
  {
   "cell_type": "code",
   "execution_count": 5,
   "metadata": {
    "collapsed": false,
    "inputHidden": false,
    "outputHidden": false,
    "papermill": {
     "duration": 0.159157,
     "end_time": "2019-09-02T10:20:51.262610",
     "exception": false,
     "start_time": "2019-09-02T10:20:51.103453",
     "status": "completed"
    },
    "tags": []
   },
   "outputs": [],
   "source": [
    "diff_data_df = pd.read_pickle('lib/fitting_metadata.pkl')"
   ]
  },
  {
   "cell_type": "code",
   "execution_count": 6,
   "metadata": {
    "collapsed": false,
    "inputHidden": false,
    "outputHidden": false,
    "papermill": {
     "duration": 0.050281,
     "end_time": "2019-09-02T10:20:51.321165",
     "exception": false,
     "start_time": "2019-09-02T10:20:51.270884",
     "status": "completed"
    },
    "tags": []
   },
   "outputs": [],
   "source": [
    "def get_losses_by_user(subject_id):\n",
    "  diff_data = diff_data_df.loc[subject_id]\n",
    "  psf = diff_data['psf']\n",
    "  pixel_mask = np.array(diff_data['pixel_mask'])[::-1]\n",
    "  galaxy_data = np.array(diff_data['galaxy_data'])[::-1]\n",
    "  image_size = galaxy_data.shape[0]\n",
    "  size_diff = diff_data['size_diff']\n",
    "  \n",
    "  cls = gu.classifications.query('subject_ids == {}'.format(subject_id))\n",
    "  names = cls.user_name \n",
    "  annotations = cls['annotations'].apply(json.loads)\n",
    "\n",
    "  models = annotations.apply(\n",
    "    parsing.parse_annotation,\n",
    "    size_diff=size_diff\n",
    "  )\n",
    "\n",
    "  tqdm.pandas(\n",
    "    desc='Rendering models'.format(subject_id),\n",
    "    leave=False\n",
    "  )\n",
    "  rendered = models.progress_apply(\n",
    "    rendering.calculate_model,\n",
    "    image_size=image_size,\n",
    "    psf=psf\n",
    "  ).rename('rendered')\n",
    "\n",
    "  tqdm.pandas(\n",
    "    desc='Calculating differences'.format(subject_id),\n",
    "    leave=False\n",
    "  )\n",
    "  losses = rendered.apply(\n",
    "    fitting.loss,\n",
    "    args=(galaxy_data, pixel_mask)\n",
    "  ).rename('loss')\n",
    "  all_losses = pd.Series(\n",
    "    losses.values,\n",
    "    index=names.values\n",
    "  ).rename(subject_id)\n",
    "  best_losses = pd.concat((\n",
    "    all_losses.where(\n",
    "      ~all_losses.duplicated(keep=False)\n",
    "    ).dropna(), # all non-duplicates\n",
    "    all_losses.where(\n",
    "      all_losses.duplicated(keep=False)\n",
    "    ).dropna().groupby(level=0).min() # best value of duplicates\n",
    "  ), axis=0)\n",
    "  return best_losses"
   ]
  },
  {
   "cell_type": "code",
   "execution_count": 7,
   "metadata": {
    "collapsed": false,
    "inputHidden": false,
    "outputHidden": false,
    "papermill": {
     "duration": 9.017588,
     "end_time": "2019-09-02T10:21:00.347124",
     "exception": false,
     "start_time": "2019-09-02T10:20:51.329536",
     "status": "completed"
    },
    "tags": []
   },
   "outputs": [
    {
     "name": "stderr",
     "output_type": "stream",
     "text": [
      "\r",
      "Rendering models:   0%|          | 0/30 [00:00<?, ?it/s]"
     ]
    },
    {
     "name": "stderr",
     "output_type": "stream",
     "text": [
      "\r",
      "Rendering models:   7%|▋         | 2/30 [00:02<00:38,  1.37s/it]"
     ]
    },
    {
     "name": "stderr",
     "output_type": "stream",
     "text": [
      "\r",
      "Rendering models:  13%|█▎        | 4/30 [00:06<00:41,  1.59s/it]"
     ]
    },
    {
     "name": "stderr",
     "output_type": "stream",
     "text": [
      "\r",
      "Rendering models:  20%|██        | 6/30 [00:07<00:27,  1.13s/it]"
     ]
    },
    {
     "name": "stderr",
     "output_type": "stream",
     "text": [
      "\r",
      "Rendering models:  27%|██▋       | 8/30 [00:07<00:17,  1.23it/s]"
     ]
    },
    {
     "name": "stderr",
     "output_type": "stream",
     "text": [
      "\r",
      "Rendering models:  30%|███       | 9/30 [00:07<00:12,  1.66it/s]"
     ]
    },
    {
     "name": "stderr",
     "output_type": "stream",
     "text": [
      "\r",
      "Rendering models:  37%|███▋      | 11/30 [00:07<00:08,  2.26it/s]"
     ]
    },
    {
     "name": "stderr",
     "output_type": "stream",
     "text": [
      "\r",
      "Rendering models:  47%|████▋     | 14/30 [00:07<00:05,  3.06it/s]"
     ]
    },
    {
     "name": "stderr",
     "output_type": "stream",
     "text": [
      "\r",
      "Rendering models:  53%|█████▎    | 16/30 [00:07<00:03,  4.04it/s]"
     ]
    },
    {
     "name": "stderr",
     "output_type": "stream",
     "text": [
      "\r",
      "Rendering models:  60%|██████    | 18/30 [00:07<00:02,  4.91it/s]"
     ]
    },
    {
     "name": "stderr",
     "output_type": "stream",
     "text": [
      "\r",
      "Rendering models:  70%|███████   | 21/30 [00:08<00:01,  6.48it/s]"
     ]
    },
    {
     "name": "stderr",
     "output_type": "stream",
     "text": [
      "\r",
      "Rendering models:  77%|███████▋  | 23/30 [00:08<00:00,  7.21it/s]"
     ]
    },
    {
     "name": "stderr",
     "output_type": "stream",
     "text": [
      "\r",
      "Rendering models:  83%|████████▎ | 25/30 [00:08<00:00,  8.44it/s]"
     ]
    },
    {
     "name": "stderr",
     "output_type": "stream",
     "text": [
      "\r",
      "Rendering models:  90%|█████████ | 27/30 [00:08<00:00,  9.92it/s]"
     ]
    },
    {
     "name": "stderr",
     "output_type": "stream",
     "text": [
      "\r",
      "Rendering models: 100%|██████████| 30/30 [00:08<00:00, 11.52it/s]"
     ]
    },
    {
     "name": "stderr",
     "output_type": "stream",
     "text": [
      "\r",
      "                                                                 "
     ]
    },
    {
     "name": "stderr",
     "output_type": "stream",
     "text": [
      "\r"
     ]
    },
    {
     "data": {
      "text/plain": [
       "Jnursssmith5263                       0.000200\n",
       "jnarayanbvg                           0.000168\n",
       "not-logged-in-c6917d9b19f41e6c2995    0.006899\n",
       "awright5                              0.000873\n",
       "not-logged-in-74261f68b83c7ae82ce3    0.000176\n",
       "AaronWallage117                       0.000314\n",
       "salmi.a01                             0.000413\n",
       "not-logged-in-e5015a872e4a0f43792d    7.476447\n",
       "rmz4160                               0.000195\n",
       "bentleyghioda                         0.000139\n",
       "lore98                                0.000120\n",
       "Planetme                              0.004172\n",
       "Saharisunshine                        0.000249\n",
       "Tarskii                               0.000818\n",
       "RaulE                                 0.000238\n",
       "sallymcshane                          0.128032\n",
       "Lavadude                              0.018418\n",
       "not-logged-in-de31fdc547666aaf592d    0.000181\n",
       "AspenTreez                            0.000561\n",
       "Jassels2                              0.000792\n",
       "lord_oles                             0.000139\n",
       "FortnitEboi                           0.000364\n",
       "ldissouk                              0.000308\n",
       "jiipee                                0.000243\n",
       "syt18                                 0.000142\n",
       "McMaster.Sam                          0.000166\n",
       "Carnd743                              0.000883\n",
       "not-logged-in-339e195446d34a6a3878    0.000883\n",
       "not-logged-in-db9d29b8645120434357    0.000883\n",
       "rcauchi3                              0.000883\n",
       "Name: 21096893, dtype: float64"
      ]
     },
     "execution_count": 7,
     "metadata": {},
     "output_type": "execute_result"
    }
   ],
   "source": [
    "losses = get_losses_by_user(subject_id)\n",
    "losses"
   ]
  },
  {
   "cell_type": "code",
   "execution_count": 8,
   "metadata": {
    "collapsed": false,
    "inputHidden": false,
    "outputHidden": false,
    "papermill": {
     "duration": 0.070132,
     "end_time": "2019-09-02T10:21:00.429559",
     "exception": false,
     "start_time": "2019-09-02T10:21:00.359427",
     "status": "completed"
    },
    "tags": []
   },
   "outputs": [
    {
     "data": {
      "application/scrapbook.scrap.json+json": {
       "data": 21096893,
       "encoder": "json",
       "name": "subject_id",
       "version": 1
      }
     },
     "metadata": {
      "scrapbook": {
       "data": true,
       "display": false,
       "name": "subject_id"
      }
     },
     "output_type": "display_data"
    },
    {
     "data": {
      "application/scrapbook.scrap.json+json": {
       "data": {
        "AaronWallage117": 0.000313952443424324,
        "AspenTreez": 0.000561160391864679,
        "Carnd743": 0.0008832754251591818,
        "FortnitEboi": 0.0003638086520657036,
        "Jassels2": 0.0007921199682292267,
        "Jnursssmith5263": 0.00019996316092457293,
        "Lavadude": 0.018418095380288577,
        "McMaster.Sam": 0.0001660745630892081,
        "Planetme": 0.004172206154952788,
        "RaulE": 0.0002375660178337119,
        "Saharisunshine": 0.0002490324818813395,
        "Tarskii": 0.0008178506928025552,
        "awright5": 0.0008727948478623995,
        "bentleyghioda": 0.00013945661930033813,
        "jiipee": 0.0002426277501885796,
        "jnarayanbvg": 0.00016817347138764612,
        "ldissouk": 0.0003075698932558184,
        "lord_oles": 0.000138707948842379,
        "lore98": 0.00011988778414358815,
        "not-logged-in-339e195446d34a6a3878": 0.0008832754251591818,
        "not-logged-in-74261f68b83c7ae82ce3": 0.00017636205638248722,
        "not-logged-in-c6917d9b19f41e6c2995": 0.006898810232450657,
        "not-logged-in-db9d29b8645120434357": 0.0008832754251591818,
        "not-logged-in-de31fdc547666aaf592d": 0.00018101433365544958,
        "not-logged-in-e5015a872e4a0f43792d": 7.4764465015630694,
        "rcauchi3": 0.0008832754251591818,
        "rmz4160": 0.00019518801752330903,
        "sallymcshane": 0.12803159494883887,
        "salmi.a01": 0.0004131416617776557,
        "syt18": 0.00014177821899057801
       },
       "encoder": "json",
       "name": "losses",
       "version": 1
      }
     },
     "metadata": {
      "scrapbook": {
       "data": true,
       "display": false,
       "name": "losses"
      }
     },
     "output_type": "display_data"
    }
   ],
   "source": [
    "sb.glue('subject_id', subject_id)\n",
    "sb.glue('losses', losses.to_dict())"
   ]
  }
 ],
 "metadata": {
  "kernel_info": {
   "name": "python3"
  },
  "kernelspec": {
   "display_name": "Python 3",
   "language": "python",
   "name": "python3"
  },
  "language_info": {
   "codemirror_mode": {
    "name": "ipython",
    "version": 3
   },
   "file_extension": ".py",
   "mimetype": "text/x-python",
   "name": "python",
   "nbconvert_exporter": "python",
   "pygments_lexer": "ipython3",
   "version": "3.7.3"
  },
  "nteract": {
   "version": "0.14.3"
  },
  "papermill": {
   "duration": 18.227891,
   "end_time": "2019-09-02T10:21:01.921731",
   "environment_variables": {},
   "exception": null,
   "input_path": "/users/tingard/gzbuilder_results/input_files/volunteer_losses.ipynb",
   "output_path": "/users/tingard/gzbuilder_results/output_files/volunteer_losses/21096893.ipynb",
   "parameters": {
    "subject_id": 21096893
   },
   "start_time": "2019-09-02T10:20:43.693840",
   "version": "1.0.1"
  }
 },
 "nbformat": 4,
 "nbformat_minor": 0
}