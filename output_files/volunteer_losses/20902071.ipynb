{
 "cells": [
  {
   "cell_type": "markdown",
   "metadata": {
    "papermill": {
     "duration": 0.007528,
     "end_time": "2019-09-02T10:20:16.205258",
     "exception": false,
     "start_time": "2019-09-02T10:20:16.197730",
     "status": "completed"
    },
    "tags": []
   },
   "source": [
    "# Volunteer model loss calculation\n",
    "\n",
    "This notebook takes a `subject_id` and calculates the MSE of each volunteer's model to the galaxy data. These losses are then glued to the notebook for use elsewhere."
   ]
  },
  {
   "cell_type": "code",
   "execution_count": 1,
   "metadata": {
    "collapsed": false,
    "inputHidden": false,
    "outputHidden": false,
    "papermill": {
     "duration": 0.063255,
     "end_time": "2019-09-02T10:20:16.275297",
     "exception": false,
     "start_time": "2019-09-02T10:20:16.212042",
     "status": "completed"
    },
    "tags": []
   },
   "outputs": [],
   "source": [
    "%load_ext autoreload\n",
    "%autoreload 2"
   ]
  },
  {
   "cell_type": "code",
   "execution_count": 2,
   "metadata": {
    "collapsed": false,
    "inputHidden": false,
    "outputHidden": false,
    "papermill": {
     "duration": 9.112535,
     "end_time": "2019-09-02T10:20:25.394869",
     "exception": false,
     "start_time": "2019-09-02T10:20:16.282334",
     "status": "completed"
    },
    "tags": []
   },
   "outputs": [
    {
     "name": "stderr",
     "output_type": "stream",
     "text": [
      "/opt/apps/pkgs/anaconda3/2019.03/intel64/lib/python3.7/site-packages/dask/config.py:168: YAMLLoadWarning: calling yaml.load() without Loader=... is deprecated, as the default Loader is unsafe. Please read https://msg.pyyaml.org/load for full details.\n",
      "  data = yaml.load(f.read()) or {}\n"
     ]
    }
   ],
   "source": [
    "import json\n",
    "import numpy as np\n",
    "import pandas as pd\n",
    "from tqdm import tqdm\n",
    "import matplotlib.pyplot as plt\n",
    "import seaborn as sns\n",
    "from gzbuilder_analysis import parsing, rendering, fitting\n",
    "import lib.galaxy_utilities as gu\n",
    "import scrapbook as sb"
   ]
  },
  {
   "cell_type": "code",
   "execution_count": 3,
   "metadata": {
    "collapsed": false,
    "inputHidden": false,
    "outputHidden": false,
    "papermill": {
     "duration": 0.047387,
     "end_time": "2019-09-02T10:20:25.451628",
     "exception": false,
     "start_time": "2019-09-02T10:20:25.404241",
     "status": "completed"
    },
    "tags": [
     "parameters"
    ]
   },
   "outputs": [],
   "source": [
    "subject_id = 20902040"
   ]
  },
  {
   "cell_type": "code",
   "execution_count": 4,
   "metadata": {
    "papermill": {
     "duration": 3.529274,
     "end_time": "2019-09-02T10:20:28.990651",
     "exception": false,
     "start_time": "2019-09-02T10:20:25.461377",
     "status": "completed"
    },
    "tags": [
     "injected-parameters"
    ]
   },
   "outputs": [],
   "source": [
    "# Parameters\n",
    "subject_id = 20902071\n"
   ]
  },
  {
   "cell_type": "code",
   "execution_count": 5,
   "metadata": {
    "collapsed": false,
    "inputHidden": false,
    "outputHidden": false,
    "papermill": {
     "duration": 0.154936,
     "end_time": "2019-09-02T10:20:29.154643",
     "exception": false,
     "start_time": "2019-09-02T10:20:28.999707",
     "status": "completed"
    },
    "tags": []
   },
   "outputs": [],
   "source": [
    "diff_data_df = pd.read_pickle('lib/fitting_metadata.pkl')"
   ]
  },
  {
   "cell_type": "code",
   "execution_count": 6,
   "metadata": {
    "collapsed": false,
    "inputHidden": false,
    "outputHidden": false,
    "papermill": {
     "duration": 0.079056,
     "end_time": "2019-09-02T10:20:29.241682",
     "exception": false,
     "start_time": "2019-09-02T10:20:29.162626",
     "status": "completed"
    },
    "tags": []
   },
   "outputs": [],
   "source": [
    "def get_losses_by_user(subject_id):\n",
    "  diff_data = diff_data_df.loc[subject_id]\n",
    "  psf = diff_data['psf']\n",
    "  pixel_mask = np.array(diff_data['pixel_mask'])[::-1]\n",
    "  galaxy_data = np.array(diff_data['galaxy_data'])[::-1]\n",
    "  image_size = galaxy_data.shape[0]\n",
    "  size_diff = diff_data['size_diff']\n",
    "  \n",
    "  cls = gu.classifications.query('subject_ids == {}'.format(subject_id))\n",
    "  names = cls.user_name \n",
    "  annotations = cls['annotations'].apply(json.loads)\n",
    "\n",
    "  models = annotations.apply(\n",
    "    parsing.parse_annotation,\n",
    "    size_diff=size_diff\n",
    "  )\n",
    "\n",
    "  tqdm.pandas(\n",
    "    desc='Rendering models'.format(subject_id),\n",
    "    leave=False\n",
    "  )\n",
    "  rendered = models.progress_apply(\n",
    "    rendering.calculate_model,\n",
    "    image_size=image_size,\n",
    "    psf=psf\n",
    "  ).rename('rendered')\n",
    "\n",
    "  tqdm.pandas(\n",
    "    desc='Calculating differences'.format(subject_id),\n",
    "    leave=False\n",
    "  )\n",
    "  losses = rendered.apply(\n",
    "    fitting.loss,\n",
    "    args=(galaxy_data, pixel_mask)\n",
    "  ).rename('loss')\n",
    "  all_losses = pd.Series(\n",
    "    losses.values,\n",
    "    index=names.values\n",
    "  ).rename(subject_id)\n",
    "  best_losses = pd.concat((\n",
    "    all_losses.where(\n",
    "      ~all_losses.duplicated(keep=False)\n",
    "    ).dropna(), # all non-duplicates\n",
    "    all_losses.where(\n",
    "      all_losses.duplicated(keep=False)\n",
    "    ).dropna().groupby(level=0).min() # best value of duplicates\n",
    "  ), axis=0)\n",
    "  return best_losses"
   ]
  },
  {
   "cell_type": "code",
   "execution_count": 7,
   "metadata": {
    "collapsed": false,
    "inputHidden": false,
    "outputHidden": false,
    "papermill": {
     "duration": 10.528774,
     "end_time": "2019-09-02T10:20:39.782099",
     "exception": false,
     "start_time": "2019-09-02T10:20:29.253325",
     "status": "completed"
    },
    "tags": []
   },
   "outputs": [
    {
     "name": "stderr",
     "output_type": "stream",
     "text": [
      "\r",
      "Rendering models:   0%|          | 0/31 [00:00<?, ?it/s]"
     ]
    },
    {
     "name": "stderr",
     "output_type": "stream",
     "text": [
      "\r",
      "Rendering models:   6%|▋         | 2/31 [00:02<00:40,  1.40s/it]"
     ]
    },
    {
     "name": "stderr",
     "output_type": "stream",
     "text": [
      "\r",
      "Rendering models:  10%|▉         | 3/31 [00:05<00:50,  1.81s/it]"
     ]
    },
    {
     "name": "stderr",
     "output_type": "stream",
     "text": [
      "\r",
      "Rendering models:  13%|█▎        | 4/31 [00:05<00:34,  1.30s/it]"
     ]
    },
    {
     "name": "stderr",
     "output_type": "stream",
     "text": [
      "\r",
      "Rendering models:  16%|█▌        | 5/31 [00:07<00:37,  1.46s/it]"
     ]
    },
    {
     "name": "stderr",
     "output_type": "stream",
     "text": [
      "\r",
      "Rendering models:  19%|█▉        | 6/31 [00:07<00:27,  1.08s/it]"
     ]
    },
    {
     "name": "stderr",
     "output_type": "stream",
     "text": [
      "\r",
      "Rendering models:  26%|██▌       | 8/31 [00:07<00:18,  1.27it/s]"
     ]
    },
    {
     "name": "stderr",
     "output_type": "stream",
     "text": [
      "\r",
      "Rendering models:  29%|██▉       | 9/31 [00:08<00:13,  1.64it/s]"
     ]
    },
    {
     "name": "stderr",
     "output_type": "stream",
     "text": [
      "\r",
      "Rendering models:  32%|███▏      | 10/31 [00:08<00:09,  2.12it/s]"
     ]
    },
    {
     "name": "stderr",
     "output_type": "stream",
     "text": [
      "\r",
      "Rendering models:  35%|███▌      | 11/31 [00:08<00:07,  2.57it/s]"
     ]
    },
    {
     "name": "stderr",
     "output_type": "stream",
     "text": [
      "\r",
      "Rendering models:  39%|███▊      | 12/31 [00:08<00:05,  3.22it/s]"
     ]
    },
    {
     "name": "stderr",
     "output_type": "stream",
     "text": [
      "\r",
      "Rendering models:  42%|████▏     | 13/31 [00:08<00:04,  3.61it/s]"
     ]
    },
    {
     "name": "stderr",
     "output_type": "stream",
     "text": [
      "\r",
      "Rendering models:  45%|████▌     | 14/31 [00:08<00:04,  4.16it/s]"
     ]
    },
    {
     "name": "stderr",
     "output_type": "stream",
     "text": [
      "\r",
      "Rendering models:  48%|████▊     | 15/31 [00:09<00:03,  4.76it/s]"
     ]
    },
    {
     "name": "stderr",
     "output_type": "stream",
     "text": [
      "\r",
      "Rendering models:  55%|█████▍    | 17/31 [00:09<00:02,  5.77it/s]"
     ]
    },
    {
     "name": "stderr",
     "output_type": "stream",
     "text": [
      "\r",
      "Rendering models:  65%|██████▍   | 20/31 [00:09<00:01,  7.09it/s]"
     ]
    },
    {
     "name": "stderr",
     "output_type": "stream",
     "text": [
      "\r",
      "Rendering models:  71%|███████   | 22/31 [00:09<00:01,  7.66it/s]"
     ]
    },
    {
     "name": "stderr",
     "output_type": "stream",
     "text": [
      "\r",
      "Rendering models:  74%|███████▍  | 23/31 [00:09<00:00,  8.12it/s]"
     ]
    },
    {
     "name": "stderr",
     "output_type": "stream",
     "text": [
      "\r",
      "Rendering models:  77%|███████▋  | 24/31 [00:09<00:01,  6.85it/s]"
     ]
    },
    {
     "name": "stderr",
     "output_type": "stream",
     "text": [
      "\r",
      "Rendering models:  84%|████████▍ | 26/31 [00:10<00:00,  7.62it/s]"
     ]
    },
    {
     "name": "stderr",
     "output_type": "stream",
     "text": [
      "\r",
      "Rendering models:  90%|█████████ | 28/31 [00:10<00:00,  9.21it/s]"
     ]
    },
    {
     "name": "stderr",
     "output_type": "stream",
     "text": [
      "\r",
      "                                                                 "
     ]
    },
    {
     "name": "stderr",
     "output_type": "stream",
     "text": [
      "\r"
     ]
    },
    {
     "data": {
      "text/plain": [
       "equidad1                              0.000130\n",
       "not-logged-in-cae133427d99aac1e554    0.000109\n",
       "kayleebug2017                         0.000513\n",
       "not-logged-in-0b0736c8991a7cc2017a    0.000124\n",
       "ElisabethB                            0.004388\n",
       "Drew_Farnsworth                       0.000108\n",
       "Thedunkmasta                          0.001937\n",
       "BirdLeaf                              0.000087\n",
       "not-logged-in-460b94aefeb0ead1b0f0    0.375562\n",
       "HexBerry                              0.000121\n",
       "not-logged-in-846e14e9f3e0f594a568    0.000264\n",
       "DrJackie                              0.000097\n",
       "not-logged-in-66748d0532f903be0737    0.000660\n",
       "not-logged-in-66748d0532f903be0737    0.008137\n",
       "jmartinez468                          0.004708\n",
       "not-logged-in-300dca7f45d1a5d1dd58    0.000146\n",
       "pangeli5                              0.000580\n",
       "helios1235                            0.000078\n",
       "Lavadude                              0.090635\n",
       "ShirleyL                              0.000109\n",
       "sirtylerli                            0.000085\n",
       "brigi.baumann                         0.000120\n",
       "cooper.hull                           3.512110\n",
       "not-logged-in-490f77176b83d659546b    0.001221\n",
       "not-logged-in-1755ac2ee129bf731a07    0.001008\n",
       "not-logged-in-e7d47cfbd2797c0815be    0.000164\n",
       "Maverna                               0.001201\n",
       "ckkmomma                              0.001201\n",
       "mariafarhat                           0.001201\n",
       "not-logged-in-34b006be9c3572a1e09b    0.001201\n",
       "not-logged-in-e9a86add65d9566ff1b6    0.001201\n",
       "Name: 20902071, dtype: float64"
      ]
     },
     "execution_count": 7,
     "metadata": {},
     "output_type": "execute_result"
    }
   ],
   "source": [
    "losses = get_losses_by_user(subject_id)\n",
    "losses"
   ]
  },
  {
   "cell_type": "code",
   "execution_count": 8,
   "metadata": {
    "collapsed": false,
    "inputHidden": false,
    "outputHidden": false,
    "papermill": {
     "duration": 0.079678,
     "end_time": "2019-09-02T10:20:39.875162",
     "exception": false,
     "start_time": "2019-09-02T10:20:39.795484",
     "status": "completed"
    },
    "tags": []
   },
   "outputs": [
    {
     "data": {
      "application/scrapbook.scrap.json+json": {
       "data": 20902071,
       "encoder": "json",
       "name": "subject_id",
       "version": 1
      }
     },
     "metadata": {
      "scrapbook": {
       "data": true,
       "display": false,
       "name": "subject_id"
      }
     },
     "output_type": "display_data"
    },
    {
     "data": {
      "application/scrapbook.scrap.json+json": {
       "data": {
        "BirdLeaf": 8.744944096488022e-05,
        "DrJackie": 9.716440966762295e-05,
        "Drew_Farnsworth": 0.00010776758228804504,
        "ElisabethB": 0.004388378004455532,
        "HexBerry": 0.00012101664315628862,
        "Lavadude": 0.09063499291014827,
        "Maverna": 0.0012007295285511668,
        "ShirleyL": 0.00010886338457001042,
        "Thedunkmasta": 0.0019373330124052598,
        "brigi.baumann": 0.00012008032412882342,
        "ckkmomma": 0.0012007295285511668,
        "cooper.hull": 3.5121096216220495,
        "equidad1": 0.00012982701068541848,
        "helios1235": 7.848669746954927e-05,
        "jmartinez468": 0.004707707817676953,
        "kayleebug2017": 0.0005126324848079016,
        "mariafarhat": 0.0012007295285511668,
        "not-logged-in-0b0736c8991a7cc2017a": 0.00012350326607267516,
        "not-logged-in-1755ac2ee129bf731a07": 0.0010082859464570812,
        "not-logged-in-300dca7f45d1a5d1dd58": 0.00014576131470424788,
        "not-logged-in-34b006be9c3572a1e09b": 0.0012007295285511668,
        "not-logged-in-460b94aefeb0ead1b0f0": 0.3755615651681131,
        "not-logged-in-490f77176b83d659546b": 0.0012213506522358454,
        "not-logged-in-66748d0532f903be0737": 0.008137010439565225,
        "not-logged-in-846e14e9f3e0f594a568": 0.000263931632991669,
        "not-logged-in-cae133427d99aac1e554": 0.00010861423691053225,
        "not-logged-in-e7d47cfbd2797c0815be": 0.00016384175719234454,
        "not-logged-in-e9a86add65d9566ff1b6": 0.0012007295285511668,
        "pangeli5": 0.0005795893950327383,
        "sirtylerli": 8.502714183811758e-05
       },
       "encoder": "json",
       "name": "losses",
       "version": 1
      }
     },
     "metadata": {
      "scrapbook": {
       "data": true,
       "display": false,
       "name": "losses"
      }
     },
     "output_type": "display_data"
    }
   ],
   "source": [
    "sb.glue('subject_id', subject_id)\n",
    "sb.glue('losses', losses.to_dict())"
   ]
  }
 ],
 "metadata": {
  "kernel_info": {
   "name": "python3"
  },
  "kernelspec": {
   "display_name": "Python 3",
   "language": "python",
   "name": "python3"
  },
  "language_info": {
   "codemirror_mode": {
    "name": "ipython",
    "version": 3
   },
   "file_extension": ".py",
   "mimetype": "text/x-python",
   "name": "python",
   "nbconvert_exporter": "python",
   "pygments_lexer": "ipython3",
   "version": "3.7.3"
  },
  "nteract": {
   "version": "0.14.3"
  },
  "papermill": {
   "duration": 27.352355,
   "end_time": "2019-09-02T10:20:41.012719",
   "environment_variables": {},
   "exception": null,
   "input_path": "/users/tingard/gzbuilder_results/input_files/volunteer_losses.ipynb",
   "output_path": "/users/tingard/gzbuilder_results/output_files/volunteer_losses/20902071.ipynb",
   "parameters": {
    "subject_id": 20902071
   },
   "start_time": "2019-09-02T10:20:13.660364",
   "version": "1.0.1"
  }
 },
 "nbformat": 4,
 "nbformat_minor": 0
}