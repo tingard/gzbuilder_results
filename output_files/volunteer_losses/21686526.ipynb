{
 "cells": [
  {
   "cell_type": "markdown",
   "metadata": {
    "papermill": {
     "duration": 0.008017,
     "end_time": "2019-09-02T10:21:06.735047",
     "exception": false,
     "start_time": "2019-09-02T10:21:06.727030",
     "status": "completed"
    },
    "tags": []
   },
   "source": [
    "# Volunteer model loss calculation\n",
    "\n",
    "This notebook takes a `subject_id` and calculates the MSE of each volunteer's model to the galaxy data. These losses are then glued to the notebook for use elsewhere."
   ]
  },
  {
   "cell_type": "code",
   "execution_count": 1,
   "metadata": {
    "collapsed": false,
    "inputHidden": false,
    "outputHidden": false,
    "papermill": {
     "duration": 0.024915,
     "end_time": "2019-09-02T10:21:06.767710",
     "exception": false,
     "start_time": "2019-09-02T10:21:06.742795",
     "status": "completed"
    },
    "tags": []
   },
   "outputs": [],
   "source": [
    "%load_ext autoreload\n",
    "%autoreload 2"
   ]
  },
  {
   "cell_type": "code",
   "execution_count": 2,
   "metadata": {
    "collapsed": false,
    "inputHidden": false,
    "outputHidden": false,
    "papermill": {
     "duration": 4.324707,
     "end_time": "2019-09-02T10:21:11.099886",
     "exception": false,
     "start_time": "2019-09-02T10:21:06.775179",
     "status": "completed"
    },
    "tags": []
   },
   "outputs": [
    {
     "name": "stderr",
     "output_type": "stream",
     "text": [
      "/opt/apps/pkgs/anaconda3/2019.03/intel64/lib/python3.7/site-packages/dask/config.py:168: YAMLLoadWarning: calling yaml.load() without Loader=... is deprecated, as the default Loader is unsafe. Please read https://msg.pyyaml.org/load for full details.\n",
      "  data = yaml.load(f.read()) or {}\n"
     ]
    }
   ],
   "source": [
    "import json\n",
    "import numpy as np\n",
    "import pandas as pd\n",
    "from tqdm import tqdm\n",
    "import matplotlib.pyplot as plt\n",
    "import seaborn as sns\n",
    "from gzbuilder_analysis import parsing, rendering, fitting\n",
    "import lib.galaxy_utilities as gu\n",
    "import scrapbook as sb"
   ]
  },
  {
   "cell_type": "code",
   "execution_count": 3,
   "metadata": {
    "collapsed": false,
    "inputHidden": false,
    "outputHidden": false,
    "papermill": {
     "duration": 0.043254,
     "end_time": "2019-09-02T10:21:11.151200",
     "exception": false,
     "start_time": "2019-09-02T10:21:11.107946",
     "status": "completed"
    },
    "tags": [
     "parameters"
    ]
   },
   "outputs": [],
   "source": [
    "subject_id = 20902040"
   ]
  },
  {
   "cell_type": "code",
   "execution_count": 4,
   "metadata": {
    "papermill": {
     "duration": 0.339556,
     "end_time": "2019-09-02T10:21:11.498107",
     "exception": false,
     "start_time": "2019-09-02T10:21:11.158551",
     "status": "completed"
    },
    "tags": [
     "injected-parameters"
    ]
   },
   "outputs": [],
   "source": [
    "# Parameters\n",
    "subject_id = 21686526\n"
   ]
  },
  {
   "cell_type": "code",
   "execution_count": 5,
   "metadata": {
    "collapsed": false,
    "inputHidden": false,
    "outputHidden": false,
    "papermill": {
     "duration": 0.29699,
     "end_time": "2019-09-02T10:21:11.803654",
     "exception": false,
     "start_time": "2019-09-02T10:21:11.506664",
     "status": "completed"
    },
    "tags": []
   },
   "outputs": [],
   "source": [
    "diff_data_df = pd.read_pickle('lib/fitting_metadata.pkl')"
   ]
  },
  {
   "cell_type": "code",
   "execution_count": 6,
   "metadata": {
    "collapsed": false,
    "inputHidden": false,
    "outputHidden": false,
    "papermill": {
     "duration": 0.053566,
     "end_time": "2019-09-02T10:21:11.865035",
     "exception": false,
     "start_time": "2019-09-02T10:21:11.811469",
     "status": "completed"
    },
    "tags": []
   },
   "outputs": [],
   "source": [
    "def get_losses_by_user(subject_id):\n",
    "  diff_data = diff_data_df.loc[subject_id]\n",
    "  psf = diff_data['psf']\n",
    "  pixel_mask = np.array(diff_data['pixel_mask'])[::-1]\n",
    "  galaxy_data = np.array(diff_data['galaxy_data'])[::-1]\n",
    "  image_size = galaxy_data.shape[0]\n",
    "  size_diff = diff_data['size_diff']\n",
    "  \n",
    "  cls = gu.classifications.query('subject_ids == {}'.format(subject_id))\n",
    "  names = cls.user_name \n",
    "  annotations = cls['annotations'].apply(json.loads)\n",
    "\n",
    "  models = annotations.apply(\n",
    "    parsing.parse_annotation,\n",
    "    size_diff=size_diff\n",
    "  )\n",
    "\n",
    "  tqdm.pandas(\n",
    "    desc='Rendering models'.format(subject_id),\n",
    "    leave=False\n",
    "  )\n",
    "  rendered = models.progress_apply(\n",
    "    rendering.calculate_model,\n",
    "    image_size=image_size,\n",
    "    psf=psf\n",
    "  ).rename('rendered')\n",
    "\n",
    "  tqdm.pandas(\n",
    "    desc='Calculating differences'.format(subject_id),\n",
    "    leave=False\n",
    "  )\n",
    "  losses = rendered.apply(\n",
    "    fitting.loss,\n",
    "    args=(galaxy_data, pixel_mask)\n",
    "  ).rename('loss')\n",
    "  all_losses = pd.Series(\n",
    "    losses.values,\n",
    "    index=names.values\n",
    "  ).rename(subject_id)\n",
    "  best_losses = pd.concat((\n",
    "    all_losses.where(\n",
    "      ~all_losses.duplicated(keep=False)\n",
    "    ).dropna(), # all non-duplicates\n",
    "    all_losses.where(\n",
    "      all_losses.duplicated(keep=False)\n",
    "    ).dropna().groupby(level=0).min() # best value of duplicates\n",
    "  ), axis=0)\n",
    "  return best_losses"
   ]
  },
  {
   "cell_type": "code",
   "execution_count": 7,
   "metadata": {
    "collapsed": false,
    "inputHidden": false,
    "outputHidden": false,
    "papermill": {
     "duration": 13.290291,
     "end_time": "2019-09-02T10:21:25.163491",
     "exception": false,
     "start_time": "2019-09-02T10:21:11.873200",
     "status": "completed"
    },
    "tags": []
   },
   "outputs": [
    {
     "name": "stderr",
     "output_type": "stream",
     "text": [
      "\r",
      "Rendering models:   0%|          | 0/30 [00:00<?, ?it/s]"
     ]
    },
    {
     "name": "stderr",
     "output_type": "stream",
     "text": [
      "\r",
      "Rendering models:   7%|▋         | 2/30 [00:05<01:14,  2.65s/it]"
     ]
    },
    {
     "name": "stderr",
     "output_type": "stream",
     "text": [
      "\r",
      "Rendering models:  10%|█         | 3/30 [00:06<01:03,  2.34s/it]"
     ]
    },
    {
     "name": "stderr",
     "output_type": "stream",
     "text": [
      "\r",
      "Rendering models:  13%|█▎        | 4/30 [00:07<00:44,  1.72s/it]"
     ]
    },
    {
     "name": "stderr",
     "output_type": "stream",
     "text": [
      "\r",
      "Rendering models:  17%|█▋        | 5/30 [00:07<00:32,  1.29s/it]"
     ]
    },
    {
     "name": "stderr",
     "output_type": "stream",
     "text": [
      "\r",
      "Rendering models:  20%|██        | 6/30 [00:07<00:23,  1.03it/s]"
     ]
    },
    {
     "name": "stderr",
     "output_type": "stream",
     "text": [
      "\r",
      "Rendering models:  23%|██▎       | 7/30 [00:07<00:17,  1.32it/s]"
     ]
    },
    {
     "name": "stderr",
     "output_type": "stream",
     "text": [
      "\r",
      "Rendering models:  27%|██▋       | 8/30 [00:08<00:13,  1.63it/s]"
     ]
    },
    {
     "name": "stderr",
     "output_type": "stream",
     "text": [
      "\r",
      "Rendering models:  33%|███▎      | 10/30 [00:08<00:09,  2.16it/s]"
     ]
    },
    {
     "name": "stderr",
     "output_type": "stream",
     "text": [
      "\r",
      "Rendering models:  37%|███▋      | 11/30 [00:08<00:07,  2.48it/s]"
     ]
    },
    {
     "name": "stderr",
     "output_type": "stream",
     "text": [
      "\r",
      "Rendering models:  40%|████      | 12/30 [00:08<00:06,  2.72it/s]"
     ]
    },
    {
     "name": "stderr",
     "output_type": "stream",
     "text": [
      "\r",
      "Rendering models:  43%|████▎     | 13/30 [00:09<00:04,  3.45it/s]"
     ]
    },
    {
     "name": "stderr",
     "output_type": "stream",
     "text": [
      "\r",
      "Rendering models:  47%|████▋     | 14/30 [00:09<00:04,  3.72it/s]"
     ]
    },
    {
     "name": "stderr",
     "output_type": "stream",
     "text": [
      "\r",
      "Rendering models:  50%|█████     | 15/30 [00:09<00:04,  3.41it/s]"
     ]
    },
    {
     "name": "stderr",
     "output_type": "stream",
     "text": [
      "\r",
      "Rendering models:  53%|█████▎    | 16/30 [00:09<00:04,  3.39it/s]"
     ]
    },
    {
     "name": "stderr",
     "output_type": "stream",
     "text": [
      "\r",
      "Rendering models:  60%|██████    | 18/30 [00:10<00:03,  3.94it/s]"
     ]
    },
    {
     "name": "stderr",
     "output_type": "stream",
     "text": [
      "\r",
      "Rendering models:  63%|██████▎   | 19/30 [00:10<00:02,  3.76it/s]"
     ]
    },
    {
     "name": "stderr",
     "output_type": "stream",
     "text": [
      "\r",
      "Rendering models:  67%|██████▋   | 20/30 [00:11<00:03,  3.19it/s]"
     ]
    },
    {
     "name": "stderr",
     "output_type": "stream",
     "text": [
      "\r",
      "Rendering models:  70%|███████   | 21/30 [00:11<00:02,  3.37it/s]"
     ]
    },
    {
     "name": "stderr",
     "output_type": "stream",
     "text": [
      "\r",
      "Rendering models:  73%|███████▎  | 22/30 [00:11<00:02,  3.46it/s]"
     ]
    },
    {
     "name": "stderr",
     "output_type": "stream",
     "text": [
      "\r",
      "Rendering models:  77%|███████▋  | 23/30 [00:11<00:01,  3.58it/s]"
     ]
    },
    {
     "name": "stderr",
     "output_type": "stream",
     "text": [
      "\r",
      "Rendering models:  80%|████████  | 24/30 [00:12<00:01,  3.52it/s]"
     ]
    },
    {
     "name": "stderr",
     "output_type": "stream",
     "text": [
      "\r",
      "Rendering models:  87%|████████▋ | 26/30 [00:12<00:00,  4.12it/s]"
     ]
    },
    {
     "name": "stderr",
     "output_type": "stream",
     "text": [
      "\r",
      "Rendering models:  93%|█████████▎| 28/30 [00:12<00:00,  4.64it/s]"
     ]
    },
    {
     "name": "stderr",
     "output_type": "stream",
     "text": [
      "\r",
      "Rendering models:  97%|█████████▋| 29/30 [00:12<00:00,  5.41it/s]"
     ]
    },
    {
     "name": "stderr",
     "output_type": "stream",
     "text": [
      "\r",
      "Rendering models: 100%|██████████| 30/30 [00:12<00:00,  6.05it/s]"
     ]
    },
    {
     "name": "stderr",
     "output_type": "stream",
     "text": [
      "\r",
      "                                                                 "
     ]
    },
    {
     "name": "stderr",
     "output_type": "stream",
     "text": [
      "\r"
     ]
    },
    {
     "data": {
      "text/plain": [
       "zac8151                               0.000293\n",
       "Carteige                              0.008396\n",
       "jammiedodgers                         0.001872\n",
       "lucyxnorth                            0.017698\n",
       "ctiborekskutr                         0.029498\n",
       "not-logged-in-975ec4b89e5ce0be836b    0.000432\n",
       "not-logged-in-f87bd5afe536165d6b05    0.065481\n",
       "djswanso                              0.000181\n",
       "thedarktree                           0.003470\n",
       "mr_willock                            0.000153\n",
       "not-logged-in-6ead6661c7dcef165774    0.005104\n",
       "ferlin1998                            0.000574\n",
       "Jack_07                               0.000526\n",
       "not-logged-in-5f30b2bb9b7f9d49da41    0.072646\n",
       "machine9898                           0.002765\n",
       "jmartinez468                          0.023889\n",
       "sepsamadi                             0.029023\n",
       "41Letters                             0.000504\n",
       "aidenr                                0.000531\n",
       "acapirala                             0.002199\n",
       "Lavadude                              0.055447\n",
       "ShirleyL                              0.010164\n",
       "jzeiszler                             0.001684\n",
       "not-logged-in-4547ae44a9d1b19c695b    0.063065\n",
       "zarisi                                0.001122\n",
       "mcooke27                              0.000327\n",
       "W7252291                              0.002186\n",
       "mariafarhat                           0.002186\n",
       "ncaro                                 0.002186\n",
       "zubir                                 0.002186\n",
       "Name: 21686526, dtype: float64"
      ]
     },
     "execution_count": 7,
     "metadata": {},
     "output_type": "execute_result"
    }
   ],
   "source": [
    "losses = get_losses_by_user(subject_id)\n",
    "losses"
   ]
  },
  {
   "cell_type": "code",
   "execution_count": 8,
   "metadata": {
    "collapsed": false,
    "inputHidden": false,
    "outputHidden": false,
    "papermill": {
     "duration": 0.063658,
     "end_time": "2019-09-02T10:21:25.240566",
     "exception": false,
     "start_time": "2019-09-02T10:21:25.176908",
     "status": "completed"
    },
    "tags": []
   },
   "outputs": [
    {
     "data": {
      "application/scrapbook.scrap.json+json": {
       "data": 21686526,
       "encoder": "json",
       "name": "subject_id",
       "version": 1
      }
     },
     "metadata": {
      "scrapbook": {
       "data": true,
       "display": false,
       "name": "subject_id"
      }
     },
     "output_type": "display_data"
    },
    {
     "data": {
      "application/scrapbook.scrap.json+json": {
       "data": {
        "41Letters": 0.000503696710483718,
        "Carteige": 0.008396230217979908,
        "Jack_07": 0.0005263542512560707,
        "Lavadude": 0.055447290335256263,
        "ShirleyL": 0.010163651525018884,
        "W7252291": 0.002186219078321317,
        "acapirala": 0.0021989042613015956,
        "aidenr": 0.0005314265427196033,
        "ctiborekskutr": 0.029497883618631048,
        "djswanso": 0.0001814418599468185,
        "ferlin1998": 0.0005744086491580477,
        "jammiedodgers": 0.0018717587111842212,
        "jmartinez468": 0.023888859826110078,
        "jzeiszler": 0.0016835009735619174,
        "lucyxnorth": 0.01769840121952153,
        "machine9898": 0.0027654101278589433,
        "mariafarhat": 0.002186219078321317,
        "mcooke27": 0.00032720046942366307,
        "mr_willock": 0.00015344660325881772,
        "ncaro": 0.002186219078321317,
        "not-logged-in-4547ae44a9d1b19c695b": 0.06306467129963884,
        "not-logged-in-5f30b2bb9b7f9d49da41": 0.07264565810461729,
        "not-logged-in-6ead6661c7dcef165774": 0.005104333866170114,
        "not-logged-in-975ec4b89e5ce0be836b": 0.0004324447611405803,
        "not-logged-in-f87bd5afe536165d6b05": 0.06548079930177556,
        "sepsamadi": 0.02902296806825064,
        "thedarktree": 0.0034697492666400614,
        "zac8151": 0.00029336320884739743,
        "zarisi": 0.0011219715327605824,
        "zubir": 0.002186219078321317
       },
       "encoder": "json",
       "name": "losses",
       "version": 1
      }
     },
     "metadata": {
      "scrapbook": {
       "data": true,
       "display": false,
       "name": "losses"
      }
     },
     "output_type": "display_data"
    }
   ],
   "source": [
    "sb.glue('subject_id', subject_id)\n",
    "sb.glue('losses', losses.to_dict())"
   ]
  }
 ],
 "metadata": {
  "kernel_info": {
   "name": "python3"
  },
  "kernelspec": {
   "display_name": "Python 3",
   "language": "python",
   "name": "python3"
  },
  "language_info": {
   "codemirror_mode": {
    "name": "ipython",
    "version": 3
   },
   "file_extension": ".py",
   "mimetype": "text/x-python",
   "name": "python",
   "nbconvert_exporter": "python",
   "pygments_lexer": "ipython3",
   "version": "3.7.3"
  },
  "nteract": {
   "version": "0.14.3"
  },
  "papermill": {
   "duration": 21.912581,
   "end_time": "2019-09-02T10:21:26.962827",
   "environment_variables": {},
   "exception": null,
   "input_path": "/users/tingard/gzbuilder_results/input_files/volunteer_losses.ipynb",
   "output_path": "/users/tingard/gzbuilder_results/output_files/volunteer_losses/21686526.ipynb",
   "parameters": {
    "subject_id": 21686526
   },
   "start_time": "2019-09-02T10:21:05.050246",
   "version": "1.0.1"
  }
 },
 "nbformat": 4,
 "nbformat_minor": 0
}