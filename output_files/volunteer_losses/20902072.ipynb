{
 "cells": [
  {
   "cell_type": "markdown",
   "metadata": {
    "papermill": {
     "duration": 0.010949,
     "end_time": "2019-09-02T10:20:21.223520",
     "exception": false,
     "start_time": "2019-09-02T10:20:21.212571",
     "status": "completed"
    },
    "tags": []
   },
   "source": [
    "# Volunteer model loss calculation\n",
    "\n",
    "This notebook takes a `subject_id` and calculates the MSE of each volunteer's model to the galaxy data. These losses are then glued to the notebook for use elsewhere."
   ]
  },
  {
   "cell_type": "code",
   "execution_count": 1,
   "metadata": {
    "collapsed": false,
    "inputHidden": false,
    "outputHidden": false,
    "papermill": {
     "duration": 0.036254,
     "end_time": "2019-09-02T10:20:21.270848",
     "exception": false,
     "start_time": "2019-09-02T10:20:21.234594",
     "status": "completed"
    },
    "tags": []
   },
   "outputs": [],
   "source": [
    "%load_ext autoreload\n",
    "%autoreload 2"
   ]
  },
  {
   "cell_type": "code",
   "execution_count": 2,
   "metadata": {
    "collapsed": false,
    "inputHidden": false,
    "outputHidden": false,
    "papermill": {
     "duration": 7.024383,
     "end_time": "2019-09-02T10:20:28.305401",
     "exception": false,
     "start_time": "2019-09-02T10:20:21.281018",
     "status": "completed"
    },
    "tags": []
   },
   "outputs": [
    {
     "name": "stderr",
     "output_type": "stream",
     "text": [
      "/opt/apps/pkgs/anaconda3/2019.03/intel64/lib/python3.7/site-packages/dask/config.py:168: YAMLLoadWarning: calling yaml.load() without Loader=... is deprecated, as the default Loader is unsafe. Please read https://msg.pyyaml.org/load for full details.\n",
      "  data = yaml.load(f.read()) or {}\n"
     ]
    }
   ],
   "source": [
    "import json\n",
    "import numpy as np\n",
    "import pandas as pd\n",
    "from tqdm import tqdm\n",
    "import matplotlib.pyplot as plt\n",
    "import seaborn as sns\n",
    "from gzbuilder_analysis import parsing, rendering, fitting\n",
    "import lib.galaxy_utilities as gu\n",
    "import scrapbook as sb"
   ]
  },
  {
   "cell_type": "code",
   "execution_count": 3,
   "metadata": {
    "collapsed": false,
    "inputHidden": false,
    "outputHidden": false,
    "papermill": {
     "duration": 0.045849,
     "end_time": "2019-09-02T10:20:28.359589",
     "exception": false,
     "start_time": "2019-09-02T10:20:28.313740",
     "status": "completed"
    },
    "tags": [
     "parameters"
    ]
   },
   "outputs": [],
   "source": [
    "subject_id = 20902040"
   ]
  },
  {
   "cell_type": "code",
   "execution_count": 4,
   "metadata": {
    "papermill": {
     "duration": 0.046911,
     "end_time": "2019-09-02T10:20:28.414364",
     "exception": false,
     "start_time": "2019-09-02T10:20:28.367453",
     "status": "completed"
    },
    "tags": [
     "injected-parameters"
    ]
   },
   "outputs": [],
   "source": [
    "# Parameters\n",
    "subject_id = 20902072\n"
   ]
  },
  {
   "cell_type": "code",
   "execution_count": 5,
   "metadata": {
    "collapsed": false,
    "inputHidden": false,
    "outputHidden": false,
    "papermill": {
     "duration": 0.154837,
     "end_time": "2019-09-02T10:20:28.576439",
     "exception": false,
     "start_time": "2019-09-02T10:20:28.421602",
     "status": "completed"
    },
    "tags": []
   },
   "outputs": [],
   "source": [
    "diff_data_df = pd.read_pickle('lib/fitting_metadata.pkl')"
   ]
  },
  {
   "cell_type": "code",
   "execution_count": 6,
   "metadata": {
    "collapsed": false,
    "inputHidden": false,
    "outputHidden": false,
    "papermill": {
     "duration": 0.050638,
     "end_time": "2019-09-02T10:20:28.636472",
     "exception": false,
     "start_time": "2019-09-02T10:20:28.585834",
     "status": "completed"
    },
    "tags": []
   },
   "outputs": [],
   "source": [
    "def get_losses_by_user(subject_id):\n",
    "  diff_data = diff_data_df.loc[subject_id]\n",
    "  psf = diff_data['psf']\n",
    "  pixel_mask = np.array(diff_data['pixel_mask'])[::-1]\n",
    "  galaxy_data = np.array(diff_data['galaxy_data'])[::-1]\n",
    "  image_size = galaxy_data.shape[0]\n",
    "  size_diff = diff_data['size_diff']\n",
    "  \n",
    "  cls = gu.classifications.query('subject_ids == {}'.format(subject_id))\n",
    "  names = cls.user_name \n",
    "  annotations = cls['annotations'].apply(json.loads)\n",
    "\n",
    "  models = annotations.apply(\n",
    "    parsing.parse_annotation,\n",
    "    size_diff=size_diff\n",
    "  )\n",
    "\n",
    "  tqdm.pandas(\n",
    "    desc='Rendering models'.format(subject_id),\n",
    "    leave=False\n",
    "  )\n",
    "  rendered = models.progress_apply(\n",
    "    rendering.calculate_model,\n",
    "    image_size=image_size,\n",
    "    psf=psf\n",
    "  ).rename('rendered')\n",
    "\n",
    "  tqdm.pandas(\n",
    "    desc='Calculating differences'.format(subject_id),\n",
    "    leave=False\n",
    "  )\n",
    "  losses = rendered.apply(\n",
    "    fitting.loss,\n",
    "    args=(galaxy_data, pixel_mask)\n",
    "  ).rename('loss')\n",
    "  all_losses = pd.Series(\n",
    "    losses.values,\n",
    "    index=names.values\n",
    "  ).rename(subject_id)\n",
    "  best_losses = pd.concat((\n",
    "    all_losses.where(\n",
    "      ~all_losses.duplicated(keep=False)\n",
    "    ).dropna(), # all non-duplicates\n",
    "    all_losses.where(\n",
    "      all_losses.duplicated(keep=False)\n",
    "    ).dropna().groupby(level=0).min() # best value of duplicates\n",
    "  ), axis=0)\n",
    "  return best_losses"
   ]
  },
  {
   "cell_type": "code",
   "execution_count": 7,
   "metadata": {
    "collapsed": false,
    "inputHidden": false,
    "outputHidden": false,
    "papermill": {
     "duration": 8.298406,
     "end_time": "2019-09-02T10:20:36.942952",
     "exception": false,
     "start_time": "2019-09-02T10:20:28.644546",
     "status": "completed"
    },
    "tags": []
   },
   "outputs": [
    {
     "name": "stderr",
     "output_type": "stream",
     "text": [
      "\r",
      "Rendering models:   0%|          | 0/32 [00:00<?, ?it/s]"
     ]
    },
    {
     "name": "stderr",
     "output_type": "stream",
     "text": [
      "\r",
      "Rendering models:   6%|▋         | 2/32 [00:02<00:41,  1.38s/it]"
     ]
    },
    {
     "name": "stderr",
     "output_type": "stream",
     "text": [
      "\r",
      "Rendering models:  16%|█▌        | 5/32 [00:05<00:33,  1.22s/it]"
     ]
    },
    {
     "name": "stderr",
     "output_type": "stream",
     "text": [
      "\r",
      "Rendering models:  25%|██▌       | 8/32 [00:07<00:24,  1.02s/it]"
     ]
    },
    {
     "name": "stderr",
     "output_type": "stream",
     "text": [
      "\r",
      "Rendering models:  34%|███▍      | 11/32 [00:07<00:15,  1.38it/s]"
     ]
    },
    {
     "name": "stderr",
     "output_type": "stream",
     "text": [
      "\r",
      "Rendering models:  41%|████      | 13/32 [00:07<00:10,  1.89it/s]"
     ]
    },
    {
     "name": "stderr",
     "output_type": "stream",
     "text": [
      "\r",
      "Rendering models:  50%|█████     | 16/32 [00:07<00:06,  2.58it/s]"
     ]
    },
    {
     "name": "stderr",
     "output_type": "stream",
     "text": [
      "\r",
      "Rendering models:  56%|█████▋    | 18/32 [00:07<00:04,  3.47it/s]"
     ]
    },
    {
     "name": "stderr",
     "output_type": "stream",
     "text": [
      "\r",
      "Rendering models:  62%|██████▎   | 20/32 [00:07<00:02,  4.55it/s]"
     ]
    },
    {
     "name": "stderr",
     "output_type": "stream",
     "text": [
      "\r",
      "Rendering models:  75%|███████▌  | 24/32 [00:07<00:01,  5.98it/s]"
     ]
    },
    {
     "name": "stderr",
     "output_type": "stream",
     "text": [
      "\r",
      "Rendering models:  84%|████████▍ | 27/32 [00:07<00:00,  7.83it/s]"
     ]
    },
    {
     "name": "stderr",
     "output_type": "stream",
     "text": [
      "\r",
      "Rendering models:  94%|█████████▍| 30/32 [00:08<00:00,  9.61it/s]"
     ]
    },
    {
     "name": "stderr",
     "output_type": "stream",
     "text": [
      "\r",
      "                                                                 "
     ]
    },
    {
     "name": "stderr",
     "output_type": "stream",
     "text": [
      "\r"
     ]
    },
    {
     "data": {
      "text/plain": [
       "equidad1                              0.000262\n",
       "kayleebug2017                         0.003117\n",
       "Thedunkmasta                          0.001596\n",
       "not-logged-in-d254cc3304773762c2aa    0.001395\n",
       "BirdLeaf                              0.415712\n",
       "amazedogog                            0.009167\n",
       "not-logged-in-ab1612bc18cd7aab85db    0.000342\n",
       "ElisabethB                            0.567293\n",
       "not-logged-in-2ef7f191c8c973ce093e    0.000211\n",
       "next_ghost                            0.000208\n",
       "mattchat                              0.019650\n",
       "Vbgil13                               0.002321\n",
       "Paddy_van_CH                          0.000212\n",
       "not-logged-in-a0164d241f30411408f0    0.000462\n",
       "GabeGramy                             0.002143\n",
       "Alexander00                           0.000387\n",
       "OmGupta                               0.000281\n",
       "ericmalani                            0.001425\n",
       "JoseA.G.v                             0.001391\n",
       "pantatoo                              0.000788\n",
       "not-logged-in-d9deb066f884063b530c    0.082897\n",
       "BraxtonKinney                         0.000494\n",
       "aidenr                                0.000313\n",
       "aidenr                                0.001420\n",
       "Lavadude                              0.030413\n",
       "not-logged-in-ab5f58ee1e61681e9014    0.124266\n",
       "helios1235                            0.000236\n",
       "ShirleyL                              0.000225\n",
       "LAMBO101799                           0.004827\n",
       "Saharisunshine                        0.004827\n",
       "holte116                              0.004827\n",
       "not-logged-in-2759a0d3788b7061ccc5    0.004827\n",
       "Name: 20902072, dtype: float64"
      ]
     },
     "execution_count": 7,
     "metadata": {},
     "output_type": "execute_result"
    }
   ],
   "source": [
    "losses = get_losses_by_user(subject_id)\n",
    "losses"
   ]
  },
  {
   "cell_type": "code",
   "execution_count": 8,
   "metadata": {
    "collapsed": false,
    "inputHidden": false,
    "outputHidden": false,
    "papermill": {
     "duration": 0.349193,
     "end_time": "2019-09-02T10:20:37.303445",
     "exception": false,
     "start_time": "2019-09-02T10:20:36.954252",
     "status": "completed"
    },
    "tags": []
   },
   "outputs": [
    {
     "data": {
      "application/scrapbook.scrap.json+json": {
       "data": 20902072,
       "encoder": "json",
       "name": "subject_id",
       "version": 1
      }
     },
     "metadata": {
      "scrapbook": {
       "data": true,
       "display": false,
       "name": "subject_id"
      }
     },
     "output_type": "display_data"
    },
    {
     "data": {
      "application/scrapbook.scrap.json+json": {
       "data": {
        "Alexander00": 0.00038697467472857466,
        "BirdLeaf": 0.4157116355345587,
        "BraxtonKinney": 0.0004941290330930278,
        "ElisabethB": 0.5672930545873581,
        "GabeGramy": 0.0021431683254485166,
        "JoseA.G.v": 0.0013911069220083146,
        "LAMBO101799": 0.004826572743470265,
        "Lavadude": 0.03041307041756731,
        "OmGupta": 0.0002810007774361092,
        "Paddy_van_CH": 0.00021169835916394985,
        "Saharisunshine": 0.004826572743470265,
        "ShirleyL": 0.00022537979968431055,
        "Thedunkmasta": 0.0015962310995318064,
        "Vbgil13": 0.002320681033905124,
        "aidenr": 0.0014202563418674414,
        "amazedogog": 0.009166909556592306,
        "equidad1": 0.0002616052492573682,
        "ericmalani": 0.0014249147927698923,
        "helios1235": 0.00023592817323686783,
        "holte116": 0.004826572743470265,
        "kayleebug2017": 0.003117484709063747,
        "mattchat": 0.01964950186757193,
        "next_ghost": 0.00020777519048912615,
        "not-logged-in-2759a0d3788b7061ccc5": 0.004826572743470265,
        "not-logged-in-2ef7f191c8c973ce093e": 0.00021099147336917564,
        "not-logged-in-a0164d241f30411408f0": 0.00046217541497860253,
        "not-logged-in-ab1612bc18cd7aab85db": 0.00034198661823410775,
        "not-logged-in-ab5f58ee1e61681e9014": 0.12426628468345986,
        "not-logged-in-d254cc3304773762c2aa": 0.001394989098970881,
        "not-logged-in-d9deb066f884063b530c": 0.08289732662346236,
        "pantatoo": 0.000788204202693782
       },
       "encoder": "json",
       "name": "losses",
       "version": 1
      }
     },
     "metadata": {
      "scrapbook": {
       "data": true,
       "display": false,
       "name": "losses"
      }
     },
     "output_type": "display_data"
    }
   ],
   "source": [
    "sb.glue('subject_id', subject_id)\n",
    "sb.glue('losses', losses.to_dict())"
   ]
  }
 ],
 "metadata": {
  "kernel_info": {
   "name": "python3"
  },
  "kernelspec": {
   "display_name": "Python 3",
   "language": "python",
   "name": "python3"
  },
  "language_info": {
   "codemirror_mode": {
    "name": "ipython",
    "version": 3
   },
   "file_extension": ".py",
   "mimetype": "text/x-python",
   "name": "python",
   "nbconvert_exporter": "python",
   "pygments_lexer": "ipython3",
   "version": "3.7.3"
  },
  "nteract": {
   "version": "0.14.3"
  },
  "papermill": {
   "duration": 25.330904,
   "end_time": "2019-09-02T10:20:38.989521",
   "environment_variables": {},
   "exception": null,
   "input_path": "/users/tingard/gzbuilder_results/input_files/volunteer_losses.ipynb",
   "output_path": "/users/tingard/gzbuilder_results/output_files/volunteer_losses/20902072.ipynb",
   "parameters": {
    "subject_id": 20902072
   },
   "start_time": "2019-09-02T10:20:13.658617",
   "version": "1.0.1"
  }
 },
 "nbformat": 4,
 "nbformat_minor": 0
}