{
 "cells": [
  {
   "cell_type": "markdown",
   "metadata": {
    "papermill": {
     "duration": 0.009107,
     "end_time": "2019-09-02T10:20:49.209368",
     "exception": false,
     "start_time": "2019-09-02T10:20:49.200261",
     "status": "completed"
    },
    "tags": []
   },
   "source": [
    "# Volunteer model loss calculation\n",
    "\n",
    "This notebook takes a `subject_id` and calculates the MSE of each volunteer's model to the galaxy data. These losses are then glued to the notebook for use elsewhere."
   ]
  },
  {
   "cell_type": "code",
   "execution_count": 1,
   "metadata": {
    "collapsed": false,
    "inputHidden": false,
    "outputHidden": false,
    "papermill": {
     "duration": 0.0288,
     "end_time": "2019-09-02T10:20:49.246526",
     "exception": false,
     "start_time": "2019-09-02T10:20:49.217726",
     "status": "completed"
    },
    "tags": []
   },
   "outputs": [],
   "source": [
    "%load_ext autoreload\n",
    "%autoreload 2"
   ]
  },
  {
   "cell_type": "code",
   "execution_count": 2,
   "metadata": {
    "collapsed": false,
    "inputHidden": false,
    "outputHidden": false,
    "papermill": {
     "duration": 4.504376,
     "end_time": "2019-09-02T10:20:53.758874",
     "exception": false,
     "start_time": "2019-09-02T10:20:49.254498",
     "status": "completed"
    },
    "tags": []
   },
   "outputs": [
    {
     "name": "stderr",
     "output_type": "stream",
     "text": [
      "/opt/apps/pkgs/anaconda3/2019.03/intel64/lib/python3.7/site-packages/dask/config.py:168: YAMLLoadWarning: calling yaml.load() without Loader=... is deprecated, as the default Loader is unsafe. Please read https://msg.pyyaml.org/load for full details.\n",
      "  data = yaml.load(f.read()) or {}\n"
     ]
    }
   ],
   "source": [
    "import json\n",
    "import numpy as np\n",
    "import pandas as pd\n",
    "from tqdm import tqdm\n",
    "import matplotlib.pyplot as plt\n",
    "import seaborn as sns\n",
    "from gzbuilder_analysis import parsing, rendering, fitting\n",
    "import lib.galaxy_utilities as gu\n",
    "import scrapbook as sb"
   ]
  },
  {
   "cell_type": "code",
   "execution_count": 3,
   "metadata": {
    "collapsed": false,
    "inputHidden": false,
    "outputHidden": false,
    "papermill": {
     "duration": 0.045354,
     "end_time": "2019-09-02T10:20:53.813312",
     "exception": false,
     "start_time": "2019-09-02T10:20:53.767958",
     "status": "completed"
    },
    "tags": [
     "parameters"
    ]
   },
   "outputs": [],
   "source": [
    "subject_id = 20902040"
   ]
  },
  {
   "cell_type": "code",
   "execution_count": 4,
   "metadata": {
    "papermill": {
     "duration": 0.045182,
     "end_time": "2019-09-02T10:20:53.867005",
     "exception": false,
     "start_time": "2019-09-02T10:20:53.821823",
     "status": "completed"
    },
    "tags": [
     "injected-parameters"
    ]
   },
   "outputs": [],
   "source": [
    "# Parameters\n",
    "subject_id = 21686495\n"
   ]
  },
  {
   "cell_type": "code",
   "execution_count": 5,
   "metadata": {
    "collapsed": false,
    "inputHidden": false,
    "outputHidden": false,
    "papermill": {
     "duration": 0.148943,
     "end_time": "2019-09-02T10:20:54.023622",
     "exception": false,
     "start_time": "2019-09-02T10:20:53.874679",
     "status": "completed"
    },
    "tags": []
   },
   "outputs": [],
   "source": [
    "diff_data_df = pd.read_pickle('lib/fitting_metadata.pkl')"
   ]
  },
  {
   "cell_type": "code",
   "execution_count": 6,
   "metadata": {
    "collapsed": false,
    "inputHidden": false,
    "outputHidden": false,
    "papermill": {
     "duration": 0.051803,
     "end_time": "2019-09-02T10:20:54.083669",
     "exception": false,
     "start_time": "2019-09-02T10:20:54.031866",
     "status": "completed"
    },
    "tags": []
   },
   "outputs": [],
   "source": [
    "def get_losses_by_user(subject_id):\n",
    "  diff_data = diff_data_df.loc[subject_id]\n",
    "  psf = diff_data['psf']\n",
    "  pixel_mask = np.array(diff_data['pixel_mask'])[::-1]\n",
    "  galaxy_data = np.array(diff_data['galaxy_data'])[::-1]\n",
    "  image_size = galaxy_data.shape[0]\n",
    "  size_diff = diff_data['size_diff']\n",
    "  \n",
    "  cls = gu.classifications.query('subject_ids == {}'.format(subject_id))\n",
    "  names = cls.user_name \n",
    "  annotations = cls['annotations'].apply(json.loads)\n",
    "\n",
    "  models = annotations.apply(\n",
    "    parsing.parse_annotation,\n",
    "    size_diff=size_diff\n",
    "  )\n",
    "\n",
    "  tqdm.pandas(\n",
    "    desc='Rendering models'.format(subject_id),\n",
    "    leave=False\n",
    "  )\n",
    "  rendered = models.progress_apply(\n",
    "    rendering.calculate_model,\n",
    "    image_size=image_size,\n",
    "    psf=psf\n",
    "  ).rename('rendered')\n",
    "\n",
    "  tqdm.pandas(\n",
    "    desc='Calculating differences'.format(subject_id),\n",
    "    leave=False\n",
    "  )\n",
    "  losses = rendered.apply(\n",
    "    fitting.loss,\n",
    "    args=(galaxy_data, pixel_mask)\n",
    "  ).rename('loss')\n",
    "  all_losses = pd.Series(\n",
    "    losses.values,\n",
    "    index=names.values\n",
    "  ).rename(subject_id)\n",
    "  best_losses = pd.concat((\n",
    "    all_losses.where(\n",
    "      ~all_losses.duplicated(keep=False)\n",
    "    ).dropna(), # all non-duplicates\n",
    "    all_losses.where(\n",
    "      all_losses.duplicated(keep=False)\n",
    "    ).dropna().groupby(level=0).min() # best value of duplicates\n",
    "  ), axis=0)\n",
    "  return best_losses"
   ]
  },
  {
   "cell_type": "code",
   "execution_count": 7,
   "metadata": {
    "collapsed": false,
    "inputHidden": false,
    "outputHidden": false,
    "papermill": {
     "duration": 8.120052,
     "end_time": "2019-09-02T10:21:02.211460",
     "exception": false,
     "start_time": "2019-09-02T10:20:54.091408",
     "status": "completed"
    },
    "tags": []
   },
   "outputs": [
    {
     "name": "stderr",
     "output_type": "stream",
     "text": [
      "\r",
      "Rendering models:   0%|          | 0/30 [00:00<?, ?it/s]"
     ]
    },
    {
     "name": "stderr",
     "output_type": "stream",
     "text": [
      "\r",
      "Rendering models:   7%|▋         | 2/30 [00:04<00:59,  2.14s/it]"
     ]
    },
    {
     "name": "stderr",
     "output_type": "stream",
     "text": [
      "\r",
      "Rendering models:  13%|█▎        | 4/30 [00:06<00:49,  1.89s/it]"
     ]
    },
    {
     "name": "stderr",
     "output_type": "stream",
     "text": [
      "\r",
      "Rendering models:  20%|██        | 6/30 [00:07<00:32,  1.34s/it]"
     ]
    },
    {
     "name": "stderr",
     "output_type": "stream",
     "text": [
      "\r",
      "Rendering models:  33%|███▎      | 10/30 [00:07<00:18,  1.05it/s]"
     ]
    },
    {
     "name": "stderr",
     "output_type": "stream",
     "text": [
      "\r",
      "Rendering models:  40%|████      | 12/30 [00:07<00:12,  1.47it/s]"
     ]
    },
    {
     "name": "stderr",
     "output_type": "stream",
     "text": [
      "\r",
      "Rendering models:  57%|█████▋    | 17/30 [00:07<00:06,  2.06it/s]"
     ]
    },
    {
     "name": "stderr",
     "output_type": "stream",
     "text": [
      "\r",
      "Rendering models:  67%|██████▋   | 20/30 [00:07<00:03,  2.85it/s]"
     ]
    },
    {
     "name": "stderr",
     "output_type": "stream",
     "text": [
      "\r",
      "Rendering models:  77%|███████▋  | 23/30 [00:07<00:01,  3.85it/s]"
     ]
    },
    {
     "name": "stderr",
     "output_type": "stream",
     "text": [
      "\r",
      "Rendering models:  87%|████████▋ | 26/30 [00:07<00:00,  5.05it/s]"
     ]
    },
    {
     "name": "stderr",
     "output_type": "stream",
     "text": [
      "\r",
      "Rendering models:  97%|█████████▋| 29/30 [00:07<00:00,  6.61it/s]"
     ]
    },
    {
     "name": "stderr",
     "output_type": "stream",
     "text": [
      "\r",
      "                                                                 "
     ]
    },
    {
     "name": "stderr",
     "output_type": "stream",
     "text": [
      "\r"
     ]
    },
    {
     "data": {
      "text/plain": [
       "ElisabethB                            0.000312\n",
       "not-logged-in-20a275b53abec8db9f41    0.047180\n",
       "T_atom                                0.001349\n",
       "not-logged-in-a9247261537fa1da33fe    2.136226\n",
       "Andy_Carleen                          0.000464\n",
       "Camelron                              0.000402\n",
       "shocko61                              0.000213\n",
       "djswanso                              0.000674\n",
       "not-logged-in-5a8bb7be433678ade709    0.079893\n",
       "lsautter                              0.000525\n",
       "not-logged-in-5f30b2bb9b7f9d49da41    0.004175\n",
       "orzechowskijacek                      0.000605\n",
       "acapirala                             0.000409\n",
       "arad98                                0.000438\n",
       "Lavadude                              0.192010\n",
       "clars915                              0.001436\n",
       "jordanrushworth                       0.003585\n",
       "Tessaje04                             0.007253\n",
       "LeusaneLordelo                        0.001108\n",
       "FrezeON                               0.000484\n",
       "ykuzmits                              0.000345\n",
       "mhaloftis                             0.000381\n",
       "mstew.27                              0.002622\n",
       "not-logged-in-490f77176b83d659546b    0.017610\n",
       "tingard                               0.000434\n",
       "Hippocampoi                           0.004524\n",
       "JeremyR                               0.004524\n",
       "LAMBO101799                           0.004524\n",
       "crush202020                           0.004524\n",
       "rhondacard                            0.004524\n",
       "Name: 21686495, dtype: float64"
      ]
     },
     "execution_count": 7,
     "metadata": {},
     "output_type": "execute_result"
    }
   ],
   "source": [
    "losses = get_losses_by_user(subject_id)\n",
    "losses"
   ]
  },
  {
   "cell_type": "code",
   "execution_count": 8,
   "metadata": {
    "collapsed": false,
    "inputHidden": false,
    "outputHidden": false,
    "papermill": {
     "duration": 0.065157,
     "end_time": "2019-09-02T10:21:02.292070",
     "exception": false,
     "start_time": "2019-09-02T10:21:02.226913",
     "status": "completed"
    },
    "tags": []
   },
   "outputs": [
    {
     "data": {
      "application/scrapbook.scrap.json+json": {
       "data": 21686495,
       "encoder": "json",
       "name": "subject_id",
       "version": 1
      }
     },
     "metadata": {
      "scrapbook": {
       "data": true,
       "display": false,
       "name": "subject_id"
      }
     },
     "output_type": "display_data"
    },
    {
     "data": {
      "application/scrapbook.scrap.json+json": {
       "data": {
        "Andy_Carleen": 0.0004642804137625068,
        "Camelron": 0.0004024495916461163,
        "ElisabethB": 0.0003115059036210525,
        "FrezeON": 0.00048441280906668706,
        "Hippocampoi": 0.004524181837167,
        "JeremyR": 0.004524181837167,
        "LAMBO101799": 0.004524181837167,
        "Lavadude": 0.1920096103238285,
        "LeusaneLordelo": 0.001107945240473319,
        "T_atom": 0.001349085672299067,
        "Tessaje04": 0.007252580773356332,
        "acapirala": 0.0004091803746722663,
        "arad98": 0.0004382154610856525,
        "clars915": 0.0014362938140502412,
        "crush202020": 0.004524181837167,
        "djswanso": 0.0006741767780264196,
        "jordanrushworth": 0.0035854069979568207,
        "lsautter": 0.0005246621808122766,
        "mhaloftis": 0.0003811056895648447,
        "mstew.27": 0.002622420916086967,
        "not-logged-in-20a275b53abec8db9f41": 0.0471796589870019,
        "not-logged-in-490f77176b83d659546b": 0.017610134684627642,
        "not-logged-in-5a8bb7be433678ade709": 0.07989328635090893,
        "not-logged-in-5f30b2bb9b7f9d49da41": 0.004174531599570506,
        "not-logged-in-a9247261537fa1da33fe": 2.1362261457422784,
        "orzechowskijacek": 0.0006054051076881602,
        "rhondacard": 0.004524181837167,
        "shocko61": 0.00021317686399183105,
        "tingard": 0.00043393007562614636,
        "ykuzmits": 0.0003448791743940256
       },
       "encoder": "json",
       "name": "losses",
       "version": 1
      }
     },
     "metadata": {
      "scrapbook": {
       "data": true,
       "display": false,
       "name": "losses"
      }
     },
     "output_type": "display_data"
    }
   ],
   "source": [
    "sb.glue('subject_id', subject_id)\n",
    "sb.glue('losses', losses.to_dict())"
   ]
  }
 ],
 "metadata": {
  "kernel_info": {
   "name": "python3"
  },
  "kernelspec": {
   "display_name": "Python 3",
   "language": "python",
   "name": "python3"
  },
  "language_info": {
   "codemirror_mode": {
    "name": "ipython",
    "version": 3
   },
   "file_extension": ".py",
   "mimetype": "text/x-python",
   "name": "python",
   "nbconvert_exporter": "python",
   "pygments_lexer": "ipython3",
   "version": "3.7.3"
  },
  "nteract": {
   "version": "0.14.3"
  },
  "papermill": {
   "duration": 15.998348,
   "end_time": "2019-09-02T10:21:03.431697",
   "environment_variables": {},
   "exception": null,
   "input_path": "/users/tingard/gzbuilder_results/input_files/volunteer_losses.ipynb",
   "output_path": "/users/tingard/gzbuilder_results/output_files/volunteer_losses/21686495.ipynb",
   "parameters": {
    "subject_id": 21686495
   },
   "start_time": "2019-09-02T10:20:47.433349",
   "version": "1.0.1"
  }
 },
 "nbformat": 4,
 "nbformat_minor": 0
}