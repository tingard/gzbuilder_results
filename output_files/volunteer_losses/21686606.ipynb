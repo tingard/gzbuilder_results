{
 "cells": [
  {
   "cell_type": "markdown",
   "metadata": {
    "papermill": {
     "duration": 0.008023,
     "end_time": "2019-09-02T10:20:51.721500",
     "exception": false,
     "start_time": "2019-09-02T10:20:51.713477",
     "status": "completed"
    },
    "tags": []
   },
   "source": [
    "# Volunteer model loss calculation\n",
    "\n",
    "This notebook takes a `subject_id` and calculates the MSE of each volunteer's model to the galaxy data. These losses are then glued to the notebook for use elsewhere."
   ]
  },
  {
   "cell_type": "code",
   "execution_count": 1,
   "metadata": {
    "collapsed": false,
    "inputHidden": false,
    "outputHidden": false,
    "papermill": {
     "duration": 0.026145,
     "end_time": "2019-09-02T10:20:51.754973",
     "exception": false,
     "start_time": "2019-09-02T10:20:51.728828",
     "status": "completed"
    },
    "tags": []
   },
   "outputs": [],
   "source": [
    "%load_ext autoreload\n",
    "%autoreload 2"
   ]
  },
  {
   "cell_type": "code",
   "execution_count": 2,
   "metadata": {
    "collapsed": false,
    "inputHidden": false,
    "outputHidden": false,
    "papermill": {
     "duration": 4.236534,
     "end_time": "2019-09-02T10:20:55.998589",
     "exception": false,
     "start_time": "2019-09-02T10:20:51.762055",
     "status": "completed"
    },
    "tags": []
   },
   "outputs": [
    {
     "name": "stderr",
     "output_type": "stream",
     "text": [
      "/opt/apps/pkgs/anaconda3/2019.03/intel64/lib/python3.7/site-packages/dask/config.py:168: YAMLLoadWarning: calling yaml.load() without Loader=... is deprecated, as the default Loader is unsafe. Please read https://msg.pyyaml.org/load for full details.\n",
      "  data = yaml.load(f.read()) or {}\n"
     ]
    }
   ],
   "source": [
    "import json\n",
    "import numpy as np\n",
    "import pandas as pd\n",
    "from tqdm import tqdm\n",
    "import matplotlib.pyplot as plt\n",
    "import seaborn as sns\n",
    "from gzbuilder_analysis import parsing, rendering, fitting\n",
    "import lib.galaxy_utilities as gu\n",
    "import scrapbook as sb"
   ]
  },
  {
   "cell_type": "code",
   "execution_count": 3,
   "metadata": {
    "collapsed": false,
    "inputHidden": false,
    "outputHidden": false,
    "papermill": {
     "duration": 0.051625,
     "end_time": "2019-09-02T10:20:56.058477",
     "exception": false,
     "start_time": "2019-09-02T10:20:56.006852",
     "status": "completed"
    },
    "tags": [
     "parameters"
    ]
   },
   "outputs": [],
   "source": [
    "subject_id = 20902040"
   ]
  },
  {
   "cell_type": "code",
   "execution_count": 4,
   "metadata": {
    "papermill": {
     "duration": 0.089806,
     "end_time": "2019-09-02T10:20:56.156054",
     "exception": false,
     "start_time": "2019-09-02T10:20:56.066248",
     "status": "completed"
    },
    "tags": [
     "injected-parameters"
    ]
   },
   "outputs": [],
   "source": [
    "# Parameters\n",
    "subject_id = 21686606\n"
   ]
  },
  {
   "cell_type": "code",
   "execution_count": 5,
   "metadata": {
    "collapsed": false,
    "inputHidden": false,
    "outputHidden": false,
    "papermill": {
     "duration": 0.845866,
     "end_time": "2019-09-02T10:20:57.014755",
     "exception": false,
     "start_time": "2019-09-02T10:20:56.168889",
     "status": "completed"
    },
    "tags": []
   },
   "outputs": [],
   "source": [
    "diff_data_df = pd.read_pickle('lib/fitting_metadata.pkl')"
   ]
  },
  {
   "cell_type": "code",
   "execution_count": 6,
   "metadata": {
    "collapsed": false,
    "inputHidden": false,
    "outputHidden": false,
    "papermill": {
     "duration": 0.052725,
     "end_time": "2019-09-02T10:20:57.075678",
     "exception": false,
     "start_time": "2019-09-02T10:20:57.022953",
     "status": "completed"
    },
    "tags": []
   },
   "outputs": [],
   "source": [
    "def get_losses_by_user(subject_id):\n",
    "  diff_data = diff_data_df.loc[subject_id]\n",
    "  psf = diff_data['psf']\n",
    "  pixel_mask = np.array(diff_data['pixel_mask'])[::-1]\n",
    "  galaxy_data = np.array(diff_data['galaxy_data'])[::-1]\n",
    "  image_size = galaxy_data.shape[0]\n",
    "  size_diff = diff_data['size_diff']\n",
    "  \n",
    "  cls = gu.classifications.query('subject_ids == {}'.format(subject_id))\n",
    "  names = cls.user_name \n",
    "  annotations = cls['annotations'].apply(json.loads)\n",
    "\n",
    "  models = annotations.apply(\n",
    "    parsing.parse_annotation,\n",
    "    size_diff=size_diff\n",
    "  )\n",
    "\n",
    "  tqdm.pandas(\n",
    "    desc='Rendering models'.format(subject_id),\n",
    "    leave=False\n",
    "  )\n",
    "  rendered = models.progress_apply(\n",
    "    rendering.calculate_model,\n",
    "    image_size=image_size,\n",
    "    psf=psf\n",
    "  ).rename('rendered')\n",
    "\n",
    "  tqdm.pandas(\n",
    "    desc='Calculating differences'.format(subject_id),\n",
    "    leave=False\n",
    "  )\n",
    "  losses = rendered.apply(\n",
    "    fitting.loss,\n",
    "    args=(galaxy_data, pixel_mask)\n",
    "  ).rename('loss')\n",
    "  all_losses = pd.Series(\n",
    "    losses.values,\n",
    "    index=names.values\n",
    "  ).rename(subject_id)\n",
    "  best_losses = pd.concat((\n",
    "    all_losses.where(\n",
    "      ~all_losses.duplicated(keep=False)\n",
    "    ).dropna(), # all non-duplicates\n",
    "    all_losses.where(\n",
    "      all_losses.duplicated(keep=False)\n",
    "    ).dropna().groupby(level=0).min() # best value of duplicates\n",
    "  ), axis=0)\n",
    "  return best_losses"
   ]
  },
  {
   "cell_type": "code",
   "execution_count": 7,
   "metadata": {
    "collapsed": false,
    "inputHidden": false,
    "outputHidden": false,
    "papermill": {
     "duration": 10.233292,
     "end_time": "2019-09-02T10:21:07.344157",
     "exception": false,
     "start_time": "2019-09-02T10:20:57.110865",
     "status": "completed"
    },
    "tags": []
   },
   "outputs": [
    {
     "name": "stderr",
     "output_type": "stream",
     "text": [
      "\r",
      "Rendering models:   0%|          | 0/31 [00:00<?, ?it/s]"
     ]
    },
    {
     "name": "stderr",
     "output_type": "stream",
     "text": [
      "\r",
      "Rendering models:   6%|▋         | 2/31 [00:06<01:40,  3.47s/it]"
     ]
    },
    {
     "name": "stderr",
     "output_type": "stream",
     "text": [
      "\r",
      "Rendering models:  13%|█▎        | 4/31 [00:07<01:06,  2.45s/it]"
     ]
    },
    {
     "name": "stderr",
     "output_type": "stream",
     "text": [
      "\r",
      "Rendering models:  19%|█▉        | 6/31 [00:07<00:43,  1.76s/it]"
     ]
    },
    {
     "name": "stderr",
     "output_type": "stream",
     "text": [
      "\r",
      "Rendering models:  26%|██▌       | 8/31 [00:07<00:28,  1.26s/it]"
     ]
    },
    {
     "name": "stderr",
     "output_type": "stream",
     "text": [
      "\r",
      "Rendering models:  32%|███▏      | 10/31 [00:07<00:19,  1.10it/s]"
     ]
    },
    {
     "name": "stderr",
     "output_type": "stream",
     "text": [
      "\r",
      "Rendering models:  35%|███▌      | 11/31 [00:07<00:13,  1.44it/s]"
     ]
    },
    {
     "name": "stderr",
     "output_type": "stream",
     "text": [
      "\r",
      "Rendering models:  42%|████▏     | 13/31 [00:08<00:09,  1.93it/s]"
     ]
    },
    {
     "name": "stderr",
     "output_type": "stream",
     "text": [
      "\r",
      "Rendering models:  52%|█████▏    | 16/31 [00:08<00:05,  2.56it/s]"
     ]
    },
    {
     "name": "stderr",
     "output_type": "stream",
     "text": [
      "\r",
      "Rendering models:  55%|█████▍    | 17/31 [00:08<00:04,  3.27it/s]"
     ]
    },
    {
     "name": "stderr",
     "output_type": "stream",
     "text": [
      "\r",
      "Rendering models:  61%|██████▏   | 19/31 [00:08<00:03,  3.91it/s]"
     ]
    },
    {
     "name": "stderr",
     "output_type": "stream",
     "text": [
      "\r",
      "Rendering models:  68%|██████▊   | 21/31 [00:09<00:02,  4.73it/s]"
     ]
    },
    {
     "name": "stderr",
     "output_type": "stream",
     "text": [
      "\r",
      "Rendering models:  74%|███████▍  | 23/31 [00:09<00:01,  5.97it/s]"
     ]
    },
    {
     "name": "stderr",
     "output_type": "stream",
     "text": [
      "\r",
      "Rendering models:  81%|████████  | 25/31 [00:09<00:00,  6.77it/s]"
     ]
    },
    {
     "name": "stderr",
     "output_type": "stream",
     "text": [
      "\r",
      "Rendering models:  87%|████████▋ | 27/31 [00:09<00:00,  7.75it/s]"
     ]
    },
    {
     "name": "stderr",
     "output_type": "stream",
     "text": [
      "\r",
      "Rendering models:  94%|█████████▎| 29/31 [00:09<00:00,  7.94it/s]"
     ]
    },
    {
     "name": "stderr",
     "output_type": "stream",
     "text": [
      "\r",
      "Rendering models: 100%|██████████| 31/31 [00:10<00:00,  8.31it/s]"
     ]
    },
    {
     "name": "stderr",
     "output_type": "stream",
     "text": [
      "\r",
      "                                                                 "
     ]
    },
    {
     "name": "stderr",
     "output_type": "stream",
     "text": [
      "\r"
     ]
    },
    {
     "data": {
      "text/plain": [
       "not-logged-in-552245d05ec0c4718543    0.001808\n",
       "not-logged-in-8e0ce538cfce67a074d4    0.000562\n",
       "not-logged-in-f6fac0763296d5759c01    0.003257\n",
       "Almudys                               0.003256\n",
       "not-logged-in-fceaf6f9645a2f020c34    0.032905\n",
       "Dynamatt                              0.000548\n",
       "SavinSpaceEngineer                    0.000680\n",
       "kjkavene                              0.000490\n",
       "not-logged-in-c3e2bb63f9ec3bdeea91    0.000644\n",
       "CThomas                               0.001443\n",
       "ferlin1998                            0.005230\n",
       "Jessica_Korkmaz                       0.004358\n",
       "Samuel_Liuwe                          0.000867\n",
       "Maverna                               0.045776\n",
       "withadnotat                           0.000821\n",
       "Saharisunshine                        0.001322\n",
       "not-logged-in-214814e52004b42491a4    0.022101\n",
       "BraxtonKinney                         0.000775\n",
       "Lavadude                              0.050948\n",
       "not-logged-in-4ea23f5fffc8b98635af    0.001024\n",
       "clars915                              0.000954\n",
       "atayl233                              0.001241\n",
       "Alissa18                              0.000670\n",
       "nicholas.                             0.007812\n",
       "not-logged-in-6cdc6c36435b7c7ca90e    0.007511\n",
       "syt18                                 0.001914\n",
       "dhaywoo                               0.004872\n",
       "Peyton.Harvey                         0.008671\n",
       "Peyton.Harvey                         0.023113\n",
       "ErickRico                             0.005764\n",
       "W7252291                              0.005764\n",
       "Name: 21686606, dtype: float64"
      ]
     },
     "execution_count": 7,
     "metadata": {},
     "output_type": "execute_result"
    }
   ],
   "source": [
    "losses = get_losses_by_user(subject_id)\n",
    "losses"
   ]
  },
  {
   "cell_type": "code",
   "execution_count": 8,
   "metadata": {
    "collapsed": false,
    "inputHidden": false,
    "outputHidden": false,
    "papermill": {
     "duration": 0.0662,
     "end_time": "2019-09-02T10:21:07.422976",
     "exception": false,
     "start_time": "2019-09-02T10:21:07.356776",
     "status": "completed"
    },
    "tags": []
   },
   "outputs": [
    {
     "data": {
      "application/scrapbook.scrap.json+json": {
       "data": 21686606,
       "encoder": "json",
       "name": "subject_id",
       "version": 1
      }
     },
     "metadata": {
      "scrapbook": {
       "data": true,
       "display": false,
       "name": "subject_id"
      }
     },
     "output_type": "display_data"
    },
    {
     "data": {
      "application/scrapbook.scrap.json+json": {
       "data": {
        "Alissa18": 0.0006700913217465263,
        "Almudys": 0.0032559619796469243,
        "BraxtonKinney": 0.0007749022148319878,
        "CThomas": 0.001442811242249049,
        "Dynamatt": 0.0005481239956220138,
        "ErickRico": 0.005764285675651465,
        "Jessica_Korkmaz": 0.004357834040946632,
        "Lavadude": 0.05094789759163652,
        "Maverna": 0.04577619475131841,
        "Peyton.Harvey": 0.023112770346286355,
        "Saharisunshine": 0.0013217291888594559,
        "Samuel_Liuwe": 0.0008672341915828953,
        "SavinSpaceEngineer": 0.0006801114016241171,
        "W7252291": 0.005764285675651465,
        "atayl233": 0.0012413182112837903,
        "clars915": 0.0009538126214631728,
        "dhaywoo": 0.004871581274950702,
        "ferlin1998": 0.005230331331060721,
        "kjkavene": 0.0004897959891995375,
        "nicholas.": 0.007812240172178621,
        "not-logged-in-214814e52004b42491a4": 0.022101389777350607,
        "not-logged-in-4ea23f5fffc8b98635af": 0.0010235162185133911,
        "not-logged-in-552245d05ec0c4718543": 0.001808280253507617,
        "not-logged-in-6cdc6c36435b7c7ca90e": 0.007510911366360619,
        "not-logged-in-8e0ce538cfce67a074d4": 0.0005623618757299758,
        "not-logged-in-c3e2bb63f9ec3bdeea91": 0.0006444371259430773,
        "not-logged-in-f6fac0763296d5759c01": 0.003257446323290448,
        "not-logged-in-fceaf6f9645a2f020c34": 0.03290472599425641,
        "syt18": 0.0019135830777518201,
        "withadnotat": 0.0008212768767871356
       },
       "encoder": "json",
       "name": "losses",
       "version": 1
      }
     },
     "metadata": {
      "scrapbook": {
       "data": true,
       "display": false,
       "name": "losses"
      }
     },
     "output_type": "display_data"
    }
   ],
   "source": [
    "sb.glue('subject_id', subject_id)\n",
    "sb.glue('losses', losses.to_dict())"
   ]
  }
 ],
 "metadata": {
  "kernel_info": {
   "name": "python3"
  },
  "kernelspec": {
   "display_name": "Python 3",
   "language": "python",
   "name": "python3"
  },
  "language_info": {
   "codemirror_mode": {
    "name": "ipython",
    "version": 3
   },
   "file_extension": ".py",
   "mimetype": "text/x-python",
   "name": "python",
   "nbconvert_exporter": "python",
   "pygments_lexer": "ipython3",
   "version": "3.7.3"
  },
  "nteract": {
   "version": "0.14.3"
  },
  "papermill": {
   "duration": 18.929112,
   "end_time": "2019-09-02T10:21:08.835208",
   "environment_variables": {},
   "exception": null,
   "input_path": "/users/tingard/gzbuilder_results/input_files/volunteer_losses.ipynb",
   "output_path": "/users/tingard/gzbuilder_results/output_files/volunteer_losses/21686606.ipynb",
   "parameters": {
    "subject_id": 21686606
   },
   "start_time": "2019-09-02T10:20:49.906096",
   "version": "1.0.1"
  }
 },
 "nbformat": 4,
 "nbformat_minor": 0
}