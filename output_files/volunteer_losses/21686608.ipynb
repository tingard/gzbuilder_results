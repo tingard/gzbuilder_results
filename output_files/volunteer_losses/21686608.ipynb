{
 "cells": [
  {
   "cell_type": "markdown",
   "metadata": {
    "papermill": {
     "duration": 0.008363,
     "end_time": "2019-09-02T10:20:49.098178",
     "exception": false,
     "start_time": "2019-09-02T10:20:49.089815",
     "status": "completed"
    },
    "tags": []
   },
   "source": [
    "# Volunteer model loss calculation\n",
    "\n",
    "This notebook takes a `subject_id` and calculates the MSE of each volunteer's model to the galaxy data. These losses are then glued to the notebook for use elsewhere."
   ]
  },
  {
   "cell_type": "code",
   "execution_count": 1,
   "metadata": {
    "collapsed": false,
    "inputHidden": false,
    "outputHidden": false,
    "papermill": {
     "duration": 0.025668,
     "end_time": "2019-09-02T10:20:49.131950",
     "exception": false,
     "start_time": "2019-09-02T10:20:49.106282",
     "status": "completed"
    },
    "tags": []
   },
   "outputs": [],
   "source": [
    "%load_ext autoreload\n",
    "%autoreload 2"
   ]
  },
  {
   "cell_type": "code",
   "execution_count": 2,
   "metadata": {
    "collapsed": false,
    "inputHidden": false,
    "outputHidden": false,
    "papermill": {
     "duration": 4.299603,
     "end_time": "2019-09-02T10:20:53.438798",
     "exception": false,
     "start_time": "2019-09-02T10:20:49.139195",
     "status": "completed"
    },
    "tags": []
   },
   "outputs": [
    {
     "name": "stderr",
     "output_type": "stream",
     "text": [
      "/opt/apps/pkgs/anaconda3/2019.03/intel64/lib/python3.7/site-packages/dask/config.py:168: YAMLLoadWarning: calling yaml.load() without Loader=... is deprecated, as the default Loader is unsafe. Please read https://msg.pyyaml.org/load for full details.\n",
      "  data = yaml.load(f.read()) or {}\n"
     ]
    }
   ],
   "source": [
    "import json\n",
    "import numpy as np\n",
    "import pandas as pd\n",
    "from tqdm import tqdm\n",
    "import matplotlib.pyplot as plt\n",
    "import seaborn as sns\n",
    "from gzbuilder_analysis import parsing, rendering, fitting\n",
    "import lib.galaxy_utilities as gu\n",
    "import scrapbook as sb"
   ]
  },
  {
   "cell_type": "code",
   "execution_count": 3,
   "metadata": {
    "collapsed": false,
    "inputHidden": false,
    "outputHidden": false,
    "papermill": {
     "duration": 0.047981,
     "end_time": "2019-09-02T10:20:53.494624",
     "exception": false,
     "start_time": "2019-09-02T10:20:53.446643",
     "status": "completed"
    },
    "tags": [
     "parameters"
    ]
   },
   "outputs": [],
   "source": [
    "subject_id = 20902040"
   ]
  },
  {
   "cell_type": "code",
   "execution_count": 4,
   "metadata": {
    "papermill": {
     "duration": 0.244879,
     "end_time": "2019-09-02T10:20:53.747757",
     "exception": false,
     "start_time": "2019-09-02T10:20:53.502878",
     "status": "completed"
    },
    "tags": [
     "injected-parameters"
    ]
   },
   "outputs": [],
   "source": [
    "# Parameters\n",
    "subject_id = 21686608\n"
   ]
  },
  {
   "cell_type": "code",
   "execution_count": 5,
   "metadata": {
    "collapsed": false,
    "inputHidden": false,
    "outputHidden": false,
    "papermill": {
     "duration": 0.157363,
     "end_time": "2019-09-02T10:20:53.912615",
     "exception": false,
     "start_time": "2019-09-02T10:20:53.755252",
     "status": "completed"
    },
    "tags": []
   },
   "outputs": [],
   "source": [
    "diff_data_df = pd.read_pickle('lib/fitting_metadata.pkl')"
   ]
  },
  {
   "cell_type": "code",
   "execution_count": 6,
   "metadata": {
    "collapsed": false,
    "inputHidden": false,
    "outputHidden": false,
    "papermill": {
     "duration": 0.051831,
     "end_time": "2019-09-02T10:20:53.972496",
     "exception": false,
     "start_time": "2019-09-02T10:20:53.920665",
     "status": "completed"
    },
    "tags": []
   },
   "outputs": [],
   "source": [
    "def get_losses_by_user(subject_id):\n",
    "  diff_data = diff_data_df.loc[subject_id]\n",
    "  psf = diff_data['psf']\n",
    "  pixel_mask = np.array(diff_data['pixel_mask'])[::-1]\n",
    "  galaxy_data = np.array(diff_data['galaxy_data'])[::-1]\n",
    "  image_size = galaxy_data.shape[0]\n",
    "  size_diff = diff_data['size_diff']\n",
    "  \n",
    "  cls = gu.classifications.query('subject_ids == {}'.format(subject_id))\n",
    "  names = cls.user_name \n",
    "  annotations = cls['annotations'].apply(json.loads)\n",
    "\n",
    "  models = annotations.apply(\n",
    "    parsing.parse_annotation,\n",
    "    size_diff=size_diff\n",
    "  )\n",
    "\n",
    "  tqdm.pandas(\n",
    "    desc='Rendering models'.format(subject_id),\n",
    "    leave=False\n",
    "  )\n",
    "  rendered = models.progress_apply(\n",
    "    rendering.calculate_model,\n",
    "    image_size=image_size,\n",
    "    psf=psf\n",
    "  ).rename('rendered')\n",
    "\n",
    "  tqdm.pandas(\n",
    "    desc='Calculating differences'.format(subject_id),\n",
    "    leave=False\n",
    "  )\n",
    "  losses = rendered.apply(\n",
    "    fitting.loss,\n",
    "    args=(galaxy_data, pixel_mask)\n",
    "  ).rename('loss')\n",
    "  all_losses = pd.Series(\n",
    "    losses.values,\n",
    "    index=names.values\n",
    "  ).rename(subject_id)\n",
    "  best_losses = pd.concat((\n",
    "    all_losses.where(\n",
    "      ~all_losses.duplicated(keep=False)\n",
    "    ).dropna(), # all non-duplicates\n",
    "    all_losses.where(\n",
    "      all_losses.duplicated(keep=False)\n",
    "    ).dropna().groupby(level=0).min() # best value of duplicates\n",
    "  ), axis=0)\n",
    "  return best_losses"
   ]
  },
  {
   "cell_type": "code",
   "execution_count": 7,
   "metadata": {
    "collapsed": false,
    "inputHidden": false,
    "outputHidden": false,
    "papermill": {
     "duration": 8.714806,
     "end_time": "2019-09-02T10:21:02.695641",
     "exception": false,
     "start_time": "2019-09-02T10:20:53.980835",
     "status": "completed"
    },
    "tags": []
   },
   "outputs": [
    {
     "name": "stderr",
     "output_type": "stream",
     "text": [
      "\r",
      "Rendering models:   0%|          | 0/31 [00:00<?, ?it/s]"
     ]
    },
    {
     "name": "stderr",
     "output_type": "stream",
     "text": [
      "\r",
      "Rendering models:   6%|▋         | 2/31 [00:02<00:41,  1.42s/it]"
     ]
    },
    {
     "name": "stderr",
     "output_type": "stream",
     "text": [
      "\r",
      "Rendering models:  13%|█▎        | 4/31 [00:04<00:33,  1.23s/it]"
     ]
    },
    {
     "name": "stderr",
     "output_type": "stream",
     "text": [
      "\r",
      "Rendering models:  19%|█▉        | 6/31 [00:04<00:21,  1.14it/s]"
     ]
    },
    {
     "name": "stderr",
     "output_type": "stream",
     "text": [
      "\r",
      "Rendering models:  23%|██▎       | 7/31 [00:07<00:34,  1.45s/it]"
     ]
    },
    {
     "name": "stderr",
     "output_type": "stream",
     "text": [
      "\r",
      "Rendering models:  26%|██▌       | 8/31 [00:07<00:24,  1.05s/it]"
     ]
    },
    {
     "name": "stderr",
     "output_type": "stream",
     "text": [
      "\r",
      "Rendering models:  32%|███▏      | 10/31 [00:07<00:15,  1.33it/s]"
     ]
    },
    {
     "name": "stderr",
     "output_type": "stream",
     "text": [
      "\r",
      "Rendering models:  42%|████▏     | 13/31 [00:07<00:09,  1.85it/s]"
     ]
    },
    {
     "name": "stderr",
     "output_type": "stream",
     "text": [
      "\r",
      "Rendering models:  48%|████▊     | 15/31 [00:07<00:06,  2.54it/s]"
     ]
    },
    {
     "name": "stderr",
     "output_type": "stream",
     "text": [
      "\r",
      "Rendering models:  55%|█████▍    | 17/31 [00:07<00:04,  3.37it/s]"
     ]
    },
    {
     "name": "stderr",
     "output_type": "stream",
     "text": [
      "\r",
      "Rendering models:  61%|██████▏   | 19/31 [00:08<00:02,  4.40it/s]"
     ]
    },
    {
     "name": "stderr",
     "output_type": "stream",
     "text": [
      "\r",
      "Rendering models:  71%|███████   | 22/31 [00:08<00:01,  5.78it/s]"
     ]
    },
    {
     "name": "stderr",
     "output_type": "stream",
     "text": [
      "\r",
      "Rendering models:  77%|███████▋  | 24/31 [00:08<00:00,  7.34it/s]"
     ]
    },
    {
     "name": "stderr",
     "output_type": "stream",
     "text": [
      "\r",
      "Rendering models:  84%|████████▍ | 26/31 [00:08<00:00,  9.06it/s]"
     ]
    },
    {
     "name": "stderr",
     "output_type": "stream",
     "text": [
      "\r",
      "Rendering models:  97%|█████████▋| 30/31 [00:08<00:00, 11.33it/s]"
     ]
    },
    {
     "name": "stderr",
     "output_type": "stream",
     "text": [
      "\r",
      "                                                                 "
     ]
    },
    {
     "name": "stderr",
     "output_type": "stream",
     "text": [
      "\r"
     ]
    },
    {
     "data": {
      "text/plain": [
       "AlphaPositif                          0.000481\n",
       "MissDonkey                            0.000355\n",
       "not-logged-in-f6fac0763296d5759c01    0.000375\n",
       "not-logged-in-975ec4b89e5ce0be836b    0.000560\n",
       "not-logged-in-f5ac928c4dcd4e9cb619    0.000444\n",
       "Dynamatt                              0.000336\n",
       "not-logged-in-f7e2260ed4a9517a3e4a    0.877638\n",
       "djswanso                              0.000330\n",
       "not-logged-in-c6917d9b19f41e6c2995    0.003148\n",
       "not-logged-in-c3e2bb63f9ec3bdeea91    0.000293\n",
       "not-logged-in-9a813f8c400d5fedde5d    0.002920\n",
       "not-logged-in-8998bdc9c49d01c69c85    0.008519\n",
       "PuZaw                                 0.000691\n",
       "not-logged-in-5f30b2bb9b7f9d49da41    0.002593\n",
       "coyotes54                             0.000356\n",
       "not-logged-in-92faad50242904ab5ca3    0.001547\n",
       "AlexYoung35                           0.000576\n",
       "Planetme                              0.008888\n",
       "rhondacard                            0.004026\n",
       "Lavadude                              0.042489\n",
       "Lavadude                              0.031762\n",
       "not-logged-in-347273494665e173c7ac    0.002733\n",
       "not-logged-in-3c0e02e8a8d50da1dd43    0.000908\n",
       "not-logged-in-15498ebaa693dd5a198d    0.000545\n",
       "Bambura                               0.004692\n",
       "fanboy_deluxe                         0.001883\n",
       "daniela.araya.monge                   0.001550\n",
       "holte116                              0.004643\n",
       "not-logged-in-3e9c4c00ace2121132a7    0.004643\n",
       "not-logged-in-59096a83d89ab5a9471b    0.004643\n",
       "not-logged-in-5a8bb7be433678ade709    0.004643\n",
       "Name: 21686608, dtype: float64"
      ]
     },
     "execution_count": 7,
     "metadata": {},
     "output_type": "execute_result"
    }
   ],
   "source": [
    "losses = get_losses_by_user(subject_id)\n",
    "losses"
   ]
  },
  {
   "cell_type": "code",
   "execution_count": 8,
   "metadata": {
    "collapsed": false,
    "inputHidden": false,
    "outputHidden": false,
    "papermill": {
     "duration": 0.067352,
     "end_time": "2019-09-02T10:21:02.776373",
     "exception": false,
     "start_time": "2019-09-02T10:21:02.709021",
     "status": "completed"
    },
    "tags": []
   },
   "outputs": [
    {
     "data": {
      "application/scrapbook.scrap.json+json": {
       "data": 21686608,
       "encoder": "json",
       "name": "subject_id",
       "version": 1
      }
     },
     "metadata": {
      "scrapbook": {
       "data": true,
       "display": false,
       "name": "subject_id"
      }
     },
     "output_type": "display_data"
    },
    {
     "data": {
      "application/scrapbook.scrap.json+json": {
       "data": {
        "AlexYoung35": 0.0005759876948230274,
        "AlphaPositif": 0.00048140940108963234,
        "Bambura": 0.004692313904596333,
        "Dynamatt": 0.0003363035834765772,
        "Lavadude": 0.0317624151638206,
        "MissDonkey": 0.00035484423458803546,
        "Planetme": 0.008888111314699465,
        "PuZaw": 0.0006906281012565324,
        "coyotes54": 0.0003560301778509076,
        "daniela.araya.monge": 0.0015496702786133806,
        "djswanso": 0.0003302113737371315,
        "fanboy_deluxe": 0.00188308942524604,
        "holte116": 0.0046434982778544714,
        "not-logged-in-15498ebaa693dd5a198d": 0.0005454198449522062,
        "not-logged-in-347273494665e173c7ac": 0.0027330831878733092,
        "not-logged-in-3c0e02e8a8d50da1dd43": 0.0009079313300315714,
        "not-logged-in-3e9c4c00ace2121132a7": 0.0046434982778544714,
        "not-logged-in-59096a83d89ab5a9471b": 0.0046434982778544714,
        "not-logged-in-5a8bb7be433678ade709": 0.0046434982778544714,
        "not-logged-in-5f30b2bb9b7f9d49da41": 0.0025932195295473876,
        "not-logged-in-8998bdc9c49d01c69c85": 0.008519127617498857,
        "not-logged-in-92faad50242904ab5ca3": 0.0015465723857086189,
        "not-logged-in-975ec4b89e5ce0be836b": 0.0005595873207958821,
        "not-logged-in-9a813f8c400d5fedde5d": 0.0029199545834343605,
        "not-logged-in-c3e2bb63f9ec3bdeea91": 0.00029309206418969913,
        "not-logged-in-c6917d9b19f41e6c2995": 0.003147768739749676,
        "not-logged-in-f5ac928c4dcd4e9cb619": 0.0004443336487493792,
        "not-logged-in-f6fac0763296d5759c01": 0.0003746273139730457,
        "not-logged-in-f7e2260ed4a9517a3e4a": 0.877638498894319,
        "rhondacard": 0.0040259048137335825
       },
       "encoder": "json",
       "name": "losses",
       "version": 1
      }
     },
     "metadata": {
      "scrapbook": {
       "data": true,
       "display": false,
       "name": "losses"
      }
     },
     "output_type": "display_data"
    }
   ],
   "source": [
    "sb.glue('subject_id', subject_id)\n",
    "sb.glue('losses', losses.to_dict())"
   ]
  }
 ],
 "metadata": {
  "kernel_info": {
   "name": "python3"
  },
  "kernelspec": {
   "display_name": "Python 3",
   "language": "python",
   "name": "python3"
  },
  "language_info": {
   "codemirror_mode": {
    "name": "ipython",
    "version": 3
   },
   "file_extension": ".py",
   "mimetype": "text/x-python",
   "name": "python",
   "nbconvert_exporter": "python",
   "pygments_lexer": "ipython3",
   "version": "3.7.3"
  },
  "nteract": {
   "version": "0.14.3"
  },
  "papermill": {
   "duration": 17.109763,
   "end_time": "2019-09-02T10:21:04.538268",
   "environment_variables": {},
   "exception": null,
   "input_path": "/users/tingard/gzbuilder_results/input_files/volunteer_losses.ipynb",
   "output_path": "/users/tingard/gzbuilder_results/output_files/volunteer_losses/21686608.ipynb",
   "parameters": {
    "subject_id": 21686608
   },
   "start_time": "2019-09-02T10:20:47.428505",
   "version": "1.0.1"
  }
 },
 "nbformat": 4,
 "nbformat_minor": 0
}