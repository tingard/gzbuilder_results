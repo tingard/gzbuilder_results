{
 "cells": [
  {
   "cell_type": "markdown",
   "metadata": {
    "papermill": {
     "duration": 0.008471,
     "end_time": "2019-09-02T10:21:10.600729",
     "exception": false,
     "start_time": "2019-09-02T10:21:10.592258",
     "status": "completed"
    },
    "tags": []
   },
   "source": [
    "# Volunteer model loss calculation\n",
    "\n",
    "This notebook takes a `subject_id` and calculates the MSE of each volunteer's model to the galaxy data. These losses are then glued to the notebook for use elsewhere."
   ]
  },
  {
   "cell_type": "code",
   "execution_count": 1,
   "metadata": {
    "collapsed": false,
    "inputHidden": false,
    "outputHidden": false,
    "papermill": {
     "duration": 0.031495,
     "end_time": "2019-09-02T10:21:10.640006",
     "exception": false,
     "start_time": "2019-09-02T10:21:10.608511",
     "status": "completed"
    },
    "tags": []
   },
   "outputs": [],
   "source": [
    "%load_ext autoreload\n",
    "%autoreload 2"
   ]
  },
  {
   "cell_type": "code",
   "execution_count": 2,
   "metadata": {
    "collapsed": false,
    "inputHidden": false,
    "outputHidden": false,
    "papermill": {
     "duration": 4.032924,
     "end_time": "2019-09-02T10:21:14.680750",
     "exception": false,
     "start_time": "2019-09-02T10:21:10.647826",
     "status": "completed"
    },
    "tags": []
   },
   "outputs": [
    {
     "name": "stderr",
     "output_type": "stream",
     "text": [
      "/opt/apps/pkgs/anaconda3/2019.03/intel64/lib/python3.7/site-packages/dask/config.py:168: YAMLLoadWarning: calling yaml.load() without Loader=... is deprecated, as the default Loader is unsafe. Please read https://msg.pyyaml.org/load for full details.\n",
      "  data = yaml.load(f.read()) or {}\n"
     ]
    }
   ],
   "source": [
    "import json\n",
    "import numpy as np\n",
    "import pandas as pd\n",
    "from tqdm import tqdm\n",
    "import matplotlib.pyplot as plt\n",
    "import seaborn as sns\n",
    "from gzbuilder_analysis import parsing, rendering, fitting\n",
    "import lib.galaxy_utilities as gu\n",
    "import scrapbook as sb"
   ]
  },
  {
   "cell_type": "code",
   "execution_count": 3,
   "metadata": {
    "collapsed": false,
    "inputHidden": false,
    "outputHidden": false,
    "papermill": {
     "duration": 0.047105,
     "end_time": "2019-09-02T10:21:14.736074",
     "exception": false,
     "start_time": "2019-09-02T10:21:14.688969",
     "status": "completed"
    },
    "tags": [
     "parameters"
    ]
   },
   "outputs": [],
   "source": [
    "subject_id = 20902040"
   ]
  },
  {
   "cell_type": "code",
   "execution_count": 4,
   "metadata": {
    "papermill": {
     "duration": 0.050727,
     "end_time": "2019-09-02T10:21:14.794493",
     "exception": false,
     "start_time": "2019-09-02T10:21:14.743766",
     "status": "completed"
    },
    "tags": [
     "injected-parameters"
    ]
   },
   "outputs": [],
   "source": [
    "# Parameters\n",
    "subject_id = 21686565\n"
   ]
  },
  {
   "cell_type": "code",
   "execution_count": 5,
   "metadata": {
    "collapsed": false,
    "inputHidden": false,
    "outputHidden": false,
    "papermill": {
     "duration": 0.150167,
     "end_time": "2019-09-02T10:21:14.953703",
     "exception": false,
     "start_time": "2019-09-02T10:21:14.803536",
     "status": "completed"
    },
    "tags": []
   },
   "outputs": [],
   "source": [
    "diff_data_df = pd.read_pickle('lib/fitting_metadata.pkl')"
   ]
  },
  {
   "cell_type": "code",
   "execution_count": 6,
   "metadata": {
    "collapsed": false,
    "inputHidden": false,
    "outputHidden": false,
    "papermill": {
     "duration": 0.070576,
     "end_time": "2019-09-02T10:21:15.033211",
     "exception": false,
     "start_time": "2019-09-02T10:21:14.962635",
     "status": "completed"
    },
    "tags": []
   },
   "outputs": [],
   "source": [
    "def get_losses_by_user(subject_id):\n",
    "  diff_data = diff_data_df.loc[subject_id]\n",
    "  psf = diff_data['psf']\n",
    "  pixel_mask = np.array(diff_data['pixel_mask'])[::-1]\n",
    "  galaxy_data = np.array(diff_data['galaxy_data'])[::-1]\n",
    "  image_size = galaxy_data.shape[0]\n",
    "  size_diff = diff_data['size_diff']\n",
    "  \n",
    "  cls = gu.classifications.query('subject_ids == {}'.format(subject_id))\n",
    "  names = cls.user_name \n",
    "  annotations = cls['annotations'].apply(json.loads)\n",
    "\n",
    "  models = annotations.apply(\n",
    "    parsing.parse_annotation,\n",
    "    size_diff=size_diff\n",
    "  )\n",
    "\n",
    "  tqdm.pandas(\n",
    "    desc='Rendering models'.format(subject_id),\n",
    "    leave=False\n",
    "  )\n",
    "  rendered = models.progress_apply(\n",
    "    rendering.calculate_model,\n",
    "    image_size=image_size,\n",
    "    psf=psf\n",
    "  ).rename('rendered')\n",
    "\n",
    "  tqdm.pandas(\n",
    "    desc='Calculating differences'.format(subject_id),\n",
    "    leave=False\n",
    "  )\n",
    "  losses = rendered.apply(\n",
    "    fitting.loss,\n",
    "    args=(galaxy_data, pixel_mask)\n",
    "  ).rename('loss')\n",
    "  all_losses = pd.Series(\n",
    "    losses.values,\n",
    "    index=names.values\n",
    "  ).rename(subject_id)\n",
    "  best_losses = pd.concat((\n",
    "    all_losses.where(\n",
    "      ~all_losses.duplicated(keep=False)\n",
    "    ).dropna(), # all non-duplicates\n",
    "    all_losses.where(\n",
    "      all_losses.duplicated(keep=False)\n",
    "    ).dropna().groupby(level=0).min() # best value of duplicates\n",
    "  ), axis=0)\n",
    "  return best_losses"
   ]
  },
  {
   "cell_type": "code",
   "execution_count": 7,
   "metadata": {
    "collapsed": false,
    "inputHidden": false,
    "outputHidden": false,
    "papermill": {
     "duration": 8.553982,
     "end_time": "2019-09-02T10:21:23.595828",
     "exception": false,
     "start_time": "2019-09-02T10:21:15.041846",
     "status": "completed"
    },
    "tags": []
   },
   "outputs": [
    {
     "name": "stderr",
     "output_type": "stream",
     "text": [
      "\r",
      "Rendering models:   0%|          | 0/30 [00:00<?, ?it/s]"
     ]
    },
    {
     "name": "stderr",
     "output_type": "stream",
     "text": [
      "\r",
      "Rendering models:   7%|▋         | 2/30 [00:02<00:36,  1.31s/it]"
     ]
    },
    {
     "name": "stderr",
     "output_type": "stream",
     "text": [
      "\r",
      "Rendering models:  10%|█         | 3/30 [00:05<00:44,  1.63s/it]"
     ]
    },
    {
     "name": "stderr",
     "output_type": "stream",
     "text": [
      "\r",
      "Rendering models:  13%|█▎        | 4/30 [00:06<00:40,  1.54s/it]"
     ]
    },
    {
     "name": "stderr",
     "output_type": "stream",
     "text": [
      "\r",
      "Rendering models:  20%|██        | 6/30 [00:06<00:26,  1.11s/it]"
     ]
    },
    {
     "name": "stderr",
     "output_type": "stream",
     "text": [
      "\r",
      "Rendering models:  30%|███       | 9/30 [00:06<00:16,  1.26it/s]"
     ]
    },
    {
     "name": "stderr",
     "output_type": "stream",
     "text": [
      "\r",
      "Rendering models:  37%|███▋      | 11/30 [00:06<00:10,  1.73it/s]"
     ]
    },
    {
     "name": "stderr",
     "output_type": "stream",
     "text": [
      "\r",
      "Rendering models:  40%|████      | 12/30 [00:07<00:08,  2.23it/s]"
     ]
    },
    {
     "name": "stderr",
     "output_type": "stream",
     "text": [
      "\r",
      "Rendering models:  43%|████▎     | 13/30 [00:07<00:06,  2.69it/s]"
     ]
    },
    {
     "name": "stderr",
     "output_type": "stream",
     "text": [
      "\r",
      "Rendering models:  50%|█████     | 15/30 [00:07<00:04,  3.37it/s]"
     ]
    },
    {
     "name": "stderr",
     "output_type": "stream",
     "text": [
      "\r",
      "Rendering models:  60%|██████    | 18/30 [00:07<00:02,  4.43it/s]"
     ]
    },
    {
     "name": "stderr",
     "output_type": "stream",
     "text": [
      "\r",
      "Rendering models:  73%|███████▎  | 22/30 [00:07<00:01,  5.87it/s]"
     ]
    },
    {
     "name": "stderr",
     "output_type": "stream",
     "text": [
      "\r",
      "Rendering models:  80%|████████  | 24/30 [00:07<00:00,  7.05it/s]"
     ]
    },
    {
     "name": "stderr",
     "output_type": "stream",
     "text": [
      "\r",
      "Rendering models:  87%|████████▋ | 26/30 [00:08<00:00,  8.47it/s]"
     ]
    },
    {
     "name": "stderr",
     "output_type": "stream",
     "text": [
      "\r",
      "Rendering models:  93%|█████████▎| 28/30 [00:08<00:00,  8.35it/s]"
     ]
    },
    {
     "name": "stderr",
     "output_type": "stream",
     "text": [
      "\r",
      "Rendering models: 100%|██████████| 30/30 [00:08<00:00,  9.48it/s]"
     ]
    },
    {
     "name": "stderr",
     "output_type": "stream",
     "text": [
      "\r",
      "                                                                 "
     ]
    },
    {
     "name": "stderr",
     "output_type": "stream",
     "text": [
      "\r"
     ]
    },
    {
     "data": {
      "text/plain": [
       "not-logged-in-7e36d1f05e1fdd4c2b64    0.000106\n",
       "kjkavene                              0.000314\n",
       "mtajnai                               0.001427\n",
       "bldelacr                              0.000168\n",
       "justsomenoodles                       0.000126\n",
       "jmfranci                              0.000533\n",
       "mbaker23                              0.003526\n",
       "not-logged-in-ef704c739eb8412f355e    0.000175\n",
       "msalin03                              0.000577\n",
       "Jboy2000                              0.045091\n",
       "not-logged-in-3a93234a2311f6df1afd    0.089764\n",
       "not-logged-in-9a45911eb71184fe7c7f    0.000427\n",
       "not-logged-in-4c7a90b2649bf349f121    0.001502\n",
       "acapirala                             0.000117\n",
       "TRISTANM18                            0.000229\n",
       "Lavadude                              0.002452\n",
       "not-logged-in-6ea7dd94a335e5238780    0.000333\n",
       "w7250369                              0.000489\n",
       "Biloute                               0.000127\n",
       "not-logged-in-f8c2f88355fba4282271    0.009256\n",
       "not-logged-in-340a28051a320c10499e    0.021260\n",
       "cheez__it                             0.001469\n",
       "not-logged-in-34b006be9c3572a1e09b    0.000192\n",
       "h4ranek                               0.000490\n",
       "Ellaaa666                             0.001368\n",
       "aisha3540                             0.001368\n",
       "mariafarhat                           0.001368\n",
       "ncaro                                 0.001368\n",
       "not-logged-in-5d4fca2aa094522177b9    0.001368\n",
       "not-logged-in-db9d29b8645120434357    0.001368\n",
       "Name: 21686565, dtype: float64"
      ]
     },
     "execution_count": 7,
     "metadata": {},
     "output_type": "execute_result"
    }
   ],
   "source": [
    "losses = get_losses_by_user(subject_id)\n",
    "losses"
   ]
  },
  {
   "cell_type": "code",
   "execution_count": 8,
   "metadata": {
    "collapsed": false,
    "inputHidden": false,
    "outputHidden": false,
    "papermill": {
     "duration": 0.053928,
     "end_time": "2019-09-02T10:21:23.661115",
     "exception": false,
     "start_time": "2019-09-02T10:21:23.607187",
     "status": "completed"
    },
    "tags": []
   },
   "outputs": [
    {
     "data": {
      "application/scrapbook.scrap.json+json": {
       "data": 21686565,
       "encoder": "json",
       "name": "subject_id",
       "version": 1
      }
     },
     "metadata": {
      "scrapbook": {
       "data": true,
       "display": false,
       "name": "subject_id"
      }
     },
     "output_type": "display_data"
    },
    {
     "data": {
      "application/scrapbook.scrap.json+json": {
       "data": {
        "Biloute": 0.00012728138746516155,
        "Ellaaa666": 0.001367887472309592,
        "Jboy2000": 0.04509101100865737,
        "Lavadude": 0.002451507941885541,
        "TRISTANM18": 0.00022925139768137774,
        "acapirala": 0.00011671860477189179,
        "aisha3540": 0.001367887472309592,
        "bldelacr": 0.00016841546060312944,
        "cheez__it": 0.0014694078665181184,
        "h4ranek": 0.000489605455225377,
        "jmfranci": 0.0005329126708506308,
        "justsomenoodles": 0.00012646702257346128,
        "kjkavene": 0.00031443043732632883,
        "mariafarhat": 0.001367887472309592,
        "mbaker23": 0.003526070766654083,
        "msalin03": 0.0005766256391138115,
        "mtajnai": 0.0014271326498482215,
        "ncaro": 0.001367887472309592,
        "not-logged-in-340a28051a320c10499e": 0.021260427095517218,
        "not-logged-in-34b006be9c3572a1e09b": 0.00019167856320947323,
        "not-logged-in-3a93234a2311f6df1afd": 0.08976433735062819,
        "not-logged-in-4c7a90b2649bf349f121": 0.0015024763973972123,
        "not-logged-in-5d4fca2aa094522177b9": 0.001367887472309592,
        "not-logged-in-6ea7dd94a335e5238780": 0.0003333431449730392,
        "not-logged-in-7e36d1f05e1fdd4c2b64": 0.00010604881563100707,
        "not-logged-in-9a45911eb71184fe7c7f": 0.00042692940832158476,
        "not-logged-in-db9d29b8645120434357": 0.001367887472309592,
        "not-logged-in-ef704c739eb8412f355e": 0.00017457088226758798,
        "not-logged-in-f8c2f88355fba4282271": 0.009255649025179908,
        "w7250369": 0.0004887458605090561
       },
       "encoder": "json",
       "name": "losses",
       "version": 1
      }
     },
     "metadata": {
      "scrapbook": {
       "data": true,
       "display": false,
       "name": "losses"
      }
     },
     "output_type": "display_data"
    }
   ],
   "source": [
    "sb.glue('subject_id', subject_id)\n",
    "sb.glue('losses', losses.to_dict())"
   ]
  }
 ],
 "metadata": {
  "kernel_info": {
   "name": "python3"
  },
  "kernelspec": {
   "display_name": "Python 3",
   "language": "python",
   "name": "python3"
  },
  "language_info": {
   "codemirror_mode": {
    "name": "ipython",
    "version": 3
   },
   "file_extension": ".py",
   "mimetype": "text/x-python",
   "name": "python",
   "nbconvert_exporter": "python",
   "pygments_lexer": "ipython3",
   "version": "3.7.3"
  },
  "nteract": {
   "version": "0.14.3"
  },
  "papermill": {
   "duration": 16.008298,
   "end_time": "2019-09-02T10:21:24.921998",
   "environment_variables": {},
   "exception": null,
   "input_path": "/users/tingard/gzbuilder_results/input_files/volunteer_losses.ipynb",
   "output_path": "/users/tingard/gzbuilder_results/output_files/volunteer_losses/21686565.ipynb",
   "parameters": {
    "subject_id": 21686565
   },
   "start_time": "2019-09-02T10:21:08.913700",
   "version": "1.0.1"
  }
 },
 "nbformat": 4,
 "nbformat_minor": 0
}