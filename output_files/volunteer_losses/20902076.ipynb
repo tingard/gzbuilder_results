{
 "cells": [
  {
   "cell_type": "markdown",
   "metadata": {
    "papermill": {
     "duration": 0.010314,
     "end_time": "2019-09-02T10:20:21.222624",
     "exception": false,
     "start_time": "2019-09-02T10:20:21.212310",
     "status": "completed"
    },
    "tags": []
   },
   "source": [
    "# Volunteer model loss calculation\n",
    "\n",
    "This notebook takes a `subject_id` and calculates the MSE of each volunteer's model to the galaxy data. These losses are then glued to the notebook for use elsewhere."
   ]
  },
  {
   "cell_type": "code",
   "execution_count": 1,
   "metadata": {
    "collapsed": false,
    "inputHidden": false,
    "outputHidden": false,
    "papermill": {
     "duration": 0.038751,
     "end_time": "2019-09-02T10:20:21.270539",
     "exception": false,
     "start_time": "2019-09-02T10:20:21.231788",
     "status": "completed"
    },
    "tags": []
   },
   "outputs": [],
   "source": [
    "%load_ext autoreload\n",
    "%autoreload 2"
   ]
  },
  {
   "cell_type": "code",
   "execution_count": 2,
   "metadata": {
    "collapsed": false,
    "inputHidden": false,
    "outputHidden": false,
    "papermill": {
     "duration": 7.024904,
     "end_time": "2019-09-02T10:20:28.302991",
     "exception": false,
     "start_time": "2019-09-02T10:20:21.278087",
     "status": "completed"
    },
    "tags": []
   },
   "outputs": [
    {
     "name": "stderr",
     "output_type": "stream",
     "text": [
      "/opt/apps/pkgs/anaconda3/2019.03/intel64/lib/python3.7/site-packages/dask/config.py:168: YAMLLoadWarning: calling yaml.load() without Loader=... is deprecated, as the default Loader is unsafe. Please read https://msg.pyyaml.org/load for full details.\n",
      "  data = yaml.load(f.read()) or {}\n"
     ]
    }
   ],
   "source": [
    "import json\n",
    "import numpy as np\n",
    "import pandas as pd\n",
    "from tqdm import tqdm\n",
    "import matplotlib.pyplot as plt\n",
    "import seaborn as sns\n",
    "from gzbuilder_analysis import parsing, rendering, fitting\n",
    "import lib.galaxy_utilities as gu\n",
    "import scrapbook as sb"
   ]
  },
  {
   "cell_type": "code",
   "execution_count": 3,
   "metadata": {
    "collapsed": false,
    "inputHidden": false,
    "outputHidden": false,
    "papermill": {
     "duration": 0.044611,
     "end_time": "2019-09-02T10:20:28.356133",
     "exception": false,
     "start_time": "2019-09-02T10:20:28.311522",
     "status": "completed"
    },
    "tags": [
     "parameters"
    ]
   },
   "outputs": [],
   "source": [
    "subject_id = 20902040"
   ]
  },
  {
   "cell_type": "code",
   "execution_count": 4,
   "metadata": {
    "papermill": {
     "duration": 0.045426,
     "end_time": "2019-09-02T10:20:28.408909",
     "exception": false,
     "start_time": "2019-09-02T10:20:28.363483",
     "status": "completed"
    },
    "tags": [
     "injected-parameters"
    ]
   },
   "outputs": [],
   "source": [
    "# Parameters\n",
    "subject_id = 20902076\n"
   ]
  },
  {
   "cell_type": "code",
   "execution_count": 5,
   "metadata": {
    "collapsed": false,
    "inputHidden": false,
    "outputHidden": false,
    "papermill": {
     "duration": 0.152961,
     "end_time": "2019-09-02T10:20:28.569429",
     "exception": false,
     "start_time": "2019-09-02T10:20:28.416468",
     "status": "completed"
    },
    "tags": []
   },
   "outputs": [],
   "source": [
    "diff_data_df = pd.read_pickle('lib/fitting_metadata.pkl')"
   ]
  },
  {
   "cell_type": "code",
   "execution_count": 6,
   "metadata": {
    "collapsed": false,
    "inputHidden": false,
    "outputHidden": false,
    "papermill": {
     "duration": 0.052469,
     "end_time": "2019-09-02T10:20:28.629616",
     "exception": false,
     "start_time": "2019-09-02T10:20:28.577147",
     "status": "completed"
    },
    "tags": []
   },
   "outputs": [],
   "source": [
    "def get_losses_by_user(subject_id):\n",
    "  diff_data = diff_data_df.loc[subject_id]\n",
    "  psf = diff_data['psf']\n",
    "  pixel_mask = np.array(diff_data['pixel_mask'])[::-1]\n",
    "  galaxy_data = np.array(diff_data['galaxy_data'])[::-1]\n",
    "  image_size = galaxy_data.shape[0]\n",
    "  size_diff = diff_data['size_diff']\n",
    "  \n",
    "  cls = gu.classifications.query('subject_ids == {}'.format(subject_id))\n",
    "  names = cls.user_name \n",
    "  annotations = cls['annotations'].apply(json.loads)\n",
    "\n",
    "  models = annotations.apply(\n",
    "    parsing.parse_annotation,\n",
    "    size_diff=size_diff\n",
    "  )\n",
    "\n",
    "  tqdm.pandas(\n",
    "    desc='Rendering models'.format(subject_id),\n",
    "    leave=False\n",
    "  )\n",
    "  rendered = models.progress_apply(\n",
    "    rendering.calculate_model,\n",
    "    image_size=image_size,\n",
    "    psf=psf\n",
    "  ).rename('rendered')\n",
    "\n",
    "  tqdm.pandas(\n",
    "    desc='Calculating differences'.format(subject_id),\n",
    "    leave=False\n",
    "  )\n",
    "  losses = rendered.apply(\n",
    "    fitting.loss,\n",
    "    args=(galaxy_data, pixel_mask)\n",
    "  ).rename('loss')\n",
    "  all_losses = pd.Series(\n",
    "    losses.values,\n",
    "    index=names.values\n",
    "  ).rename(subject_id)\n",
    "  best_losses = pd.concat((\n",
    "    all_losses.where(\n",
    "      ~all_losses.duplicated(keep=False)\n",
    "    ).dropna(), # all non-duplicates\n",
    "    all_losses.where(\n",
    "      all_losses.duplicated(keep=False)\n",
    "    ).dropna().groupby(level=0).min() # best value of duplicates\n",
    "  ), axis=0)\n",
    "  return best_losses"
   ]
  },
  {
   "cell_type": "code",
   "execution_count": 7,
   "metadata": {
    "collapsed": false,
    "inputHidden": false,
    "outputHidden": false,
    "papermill": {
     "duration": 10.065936,
     "end_time": "2019-09-02T10:20:38.705385",
     "exception": false,
     "start_time": "2019-09-02T10:20:28.639449",
     "status": "completed"
    },
    "tags": []
   },
   "outputs": [
    {
     "name": "stderr",
     "output_type": "stream",
     "text": [
      "\r",
      "Rendering models:   0%|          | 0/32 [00:00<?, ?it/s]"
     ]
    },
    {
     "name": "stderr",
     "output_type": "stream",
     "text": [
      "\r",
      "Rendering models:   6%|▋         | 2/32 [00:01<00:26,  1.14it/s]"
     ]
    },
    {
     "name": "stderr",
     "output_type": "stream",
     "text": [
      "\r",
      "Rendering models:   9%|▉         | 3/32 [00:05<00:49,  1.72s/it]"
     ]
    },
    {
     "name": "stderr",
     "output_type": "stream",
     "text": [
      "\r",
      "Rendering models:  16%|█▌        | 5/32 [00:05<00:33,  1.23s/it]"
     ]
    },
    {
     "name": "stderr",
     "output_type": "stream",
     "text": [
      "\r",
      "Rendering models:  19%|█▉        | 6/32 [00:07<00:35,  1.38s/it]"
     ]
    },
    {
     "name": "stderr",
     "output_type": "stream",
     "text": [
      "\r",
      "Rendering models:  22%|██▏       | 7/32 [00:07<00:25,  1.02s/it]"
     ]
    },
    {
     "name": "stderr",
     "output_type": "stream",
     "text": [
      "\r",
      "Rendering models:  25%|██▌       | 8/32 [00:07<00:17,  1.34it/s]"
     ]
    },
    {
     "name": "stderr",
     "output_type": "stream",
     "text": [
      "\r",
      "Rendering models:  28%|██▊       | 9/32 [00:07<00:13,  1.76it/s]"
     ]
    },
    {
     "name": "stderr",
     "output_type": "stream",
     "text": [
      "\r",
      "Rendering models:  31%|███▏      | 10/32 [00:07<00:09,  2.29it/s]"
     ]
    },
    {
     "name": "stderr",
     "output_type": "stream",
     "text": [
      "\r",
      "Rendering models:  41%|████      | 13/32 [00:08<00:06,  3.00it/s]"
     ]
    },
    {
     "name": "stderr",
     "output_type": "stream",
     "text": [
      "\r",
      "Rendering models:  47%|████▋     | 15/32 [00:08<00:04,  3.77it/s]"
     ]
    },
    {
     "name": "stderr",
     "output_type": "stream",
     "text": [
      "\r",
      "Rendering models:  50%|█████     | 16/32 [00:08<00:03,  4.57it/s]"
     ]
    },
    {
     "name": "stderr",
     "output_type": "stream",
     "text": [
      "\r",
      "Rendering models:  56%|█████▋    | 18/32 [00:08<00:02,  5.68it/s]"
     ]
    },
    {
     "name": "stderr",
     "output_type": "stream",
     "text": [
      "\r",
      "Rendering models:  62%|██████▎   | 20/32 [00:08<00:01,  6.16it/s]"
     ]
    },
    {
     "name": "stderr",
     "output_type": "stream",
     "text": [
      "\r",
      "Rendering models:  72%|███████▏  | 23/32 [00:09<00:01,  7.74it/s]"
     ]
    },
    {
     "name": "stderr",
     "output_type": "stream",
     "text": [
      "\r",
      "Rendering models:  78%|███████▊  | 25/32 [00:09<00:00,  7.76it/s]"
     ]
    },
    {
     "name": "stderr",
     "output_type": "stream",
     "text": [
      "\r",
      "Rendering models:  84%|████████▍ | 27/32 [00:09<00:00,  7.92it/s]"
     ]
    },
    {
     "name": "stderr",
     "output_type": "stream",
     "text": [
      "\r",
      "Rendering models:  91%|█████████ | 29/32 [00:09<00:00,  8.93it/s]"
     ]
    },
    {
     "name": "stderr",
     "output_type": "stream",
     "text": [
      "\r",
      "Rendering models:  97%|█████████▋| 31/32 [00:09<00:00,  9.64it/s]"
     ]
    },
    {
     "name": "stderr",
     "output_type": "stream",
     "text": [
      "\r",
      "                                                                 "
     ]
    },
    {
     "name": "stderr",
     "output_type": "stream",
     "text": [
      "\r"
     ]
    },
    {
     "data": {
      "text/plain": [
       "equidad1                              0.000801\n",
       "eatyourgreens                         0.000908\n",
       "Thedunkmasta                          0.002598\n",
       "OregonHiker                           0.001407\n",
       "sum0                                  0.017227\n",
       "not-logged-in-460b94aefeb0ead1b0f0    1.485858\n",
       "47degreesnorth                        0.004448\n",
       "ElisabethB                            0.155543\n",
       "mlang2017                             0.009568\n",
       "not-logged-in-783570dae2c2970c42b4    0.422290\n",
       "smart16                               0.001512\n",
       "smiralexx                             0.116809\n",
       "not-logged-in-214814e52004b42491a4    0.126093\n",
       "not-logged-in-9f30f411df9d28d2c541    0.002017\n",
       "pangeli5                              0.000594\n",
       "acapirala                             0.002942\n",
       "Lavadude                              0.005032\n",
       "helios1235                            0.000468\n",
       "not-logged-in-8700ff8251e0704f745c    0.000534\n",
       "Bambura                               0.002666\n",
       "not-logged-in-36a6cd4ee9f5f5a4f610    0.045812\n",
       "barrowwright                          0.000426\n",
       "not-logged-in-37e203002afa1179a0e6    0.006056\n",
       "rmacmi2                               0.000680\n",
       "not-logged-in-bcb47e9f47c739d02fb3    0.059725\n",
       "mstew.27                              0.001140\n",
       "mstew.27                              0.017025\n",
       "FR4N1O                                0.003243\n",
       "Octavius_Augustus                     0.001632\n",
       "not-logged-in-e97053a49d713a76954c    0.007625\n",
       "ckkmomma                              0.005747\n",
       "holte116                              0.005747\n",
       "Name: 20902076, dtype: float64"
      ]
     },
     "execution_count": 7,
     "metadata": {},
     "output_type": "execute_result"
    }
   ],
   "source": [
    "losses = get_losses_by_user(subject_id)\n",
    "losses"
   ]
  },
  {
   "cell_type": "code",
   "execution_count": 8,
   "metadata": {
    "collapsed": false,
    "inputHidden": false,
    "outputHidden": false,
    "papermill": {
     "duration": 0.073031,
     "end_time": "2019-09-02T10:20:38.792074",
     "exception": false,
     "start_time": "2019-09-02T10:20:38.719043",
     "status": "completed"
    },
    "tags": []
   },
   "outputs": [
    {
     "data": {
      "application/scrapbook.scrap.json+json": {
       "data": 20902076,
       "encoder": "json",
       "name": "subject_id",
       "version": 1
      }
     },
     "metadata": {
      "scrapbook": {
       "data": true,
       "display": false,
       "name": "subject_id"
      }
     },
     "output_type": "display_data"
    },
    {
     "data": {
      "application/scrapbook.scrap.json+json": {
       "data": {
        "47degreesnorth": 0.004447546218880904,
        "Bambura": 0.002666368882652718,
        "ElisabethB": 0.15554332500071025,
        "FR4N1O": 0.0032425829013717246,
        "Lavadude": 0.005032494278787864,
        "Octavius_Augustus": 0.001632092125284873,
        "OregonHiker": 0.0014074473191970516,
        "Thedunkmasta": 0.0025980111595604173,
        "acapirala": 0.0029424923091080067,
        "barrowwright": 0.00042581668307471927,
        "ckkmomma": 0.005747103585471854,
        "eatyourgreens": 0.0009080691122315972,
        "equidad1": 0.0008013714789199568,
        "helios1235": 0.0004684309825274184,
        "holte116": 0.005747103585471854,
        "mlang2017": 0.00956825475772796,
        "mstew.27": 0.017024854681547987,
        "not-logged-in-214814e52004b42491a4": 0.12609330403685784,
        "not-logged-in-36a6cd4ee9f5f5a4f610": 0.04581218383771079,
        "not-logged-in-37e203002afa1179a0e6": 0.006055918862662902,
        "not-logged-in-460b94aefeb0ead1b0f0": 1.4858579731311008,
        "not-logged-in-783570dae2c2970c42b4": 0.4222899155478318,
        "not-logged-in-8700ff8251e0704f745c": 0.0005335643112060391,
        "not-logged-in-9f30f411df9d28d2c541": 0.002016507325813424,
        "not-logged-in-bcb47e9f47c739d02fb3": 0.05972518185077923,
        "not-logged-in-e97053a49d713a76954c": 0.007625156678628013,
        "pangeli5": 0.0005940631767873452,
        "rmacmi2": 0.0006799980234001587,
        "smart16": 0.0015123098438719973,
        "smiralexx": 0.11680896631006189,
        "sum0": 0.017226596993086478
       },
       "encoder": "json",
       "name": "losses",
       "version": 1
      }
     },
     "metadata": {
      "scrapbook": {
       "data": true,
       "display": false,
       "name": "losses"
      }
     },
     "output_type": "display_data"
    }
   ],
   "source": [
    "sb.glue('subject_id', subject_id)\n",
    "sb.glue('losses', losses.to_dict())"
   ]
  }
 ],
 "metadata": {
  "kernel_info": {
   "name": "python3"
  },
  "kernelspec": {
   "display_name": "Python 3",
   "language": "python",
   "name": "python3"
  },
  "language_info": {
   "codemirror_mode": {
    "name": "ipython",
    "version": 3
   },
   "file_extension": ".py",
   "mimetype": "text/x-python",
   "name": "python",
   "nbconvert_exporter": "python",
   "pygments_lexer": "ipython3",
   "version": "3.7.3"
  },
  "nteract": {
   "version": "0.14.3"
  },
  "papermill": {
   "duration": 26.202311,
   "end_time": "2019-09-02T10:20:39.860673",
   "environment_variables": {},
   "exception": null,
   "input_path": "/users/tingard/gzbuilder_results/input_files/volunteer_losses.ipynb",
   "output_path": "/users/tingard/gzbuilder_results/output_files/volunteer_losses/20902076.ipynb",
   "parameters": {
    "subject_id": 20902076
   },
   "start_time": "2019-09-02T10:20:13.658362",
   "version": "1.0.1"
  }
 },
 "nbformat": 4,
 "nbformat_minor": 0
}