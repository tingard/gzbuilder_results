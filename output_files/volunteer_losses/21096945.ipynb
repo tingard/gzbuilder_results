{
 "cells": [
  {
   "cell_type": "markdown",
   "metadata": {
    "papermill": {
     "duration": 0.008216,
     "end_time": "2019-09-02T10:20:43.195537",
     "exception": false,
     "start_time": "2019-09-02T10:20:43.187321",
     "status": "completed"
    },
    "tags": []
   },
   "source": [
    "# Volunteer model loss calculation\n",
    "\n",
    "This notebook takes a `subject_id` and calculates the MSE of each volunteer's model to the galaxy data. These losses are then glued to the notebook for use elsewhere."
   ]
  },
  {
   "cell_type": "code",
   "execution_count": 1,
   "metadata": {
    "collapsed": false,
    "inputHidden": false,
    "outputHidden": false,
    "papermill": {
     "duration": 0.033267,
     "end_time": "2019-09-02T10:20:43.236522",
     "exception": false,
     "start_time": "2019-09-02T10:20:43.203255",
     "status": "completed"
    },
    "tags": []
   },
   "outputs": [],
   "source": [
    "%load_ext autoreload\n",
    "%autoreload 2"
   ]
  },
  {
   "cell_type": "code",
   "execution_count": 2,
   "metadata": {
    "collapsed": false,
    "inputHidden": false,
    "outputHidden": false,
    "papermill": {
     "duration": 4.263451,
     "end_time": "2019-09-02T10:20:47.507931",
     "exception": false,
     "start_time": "2019-09-02T10:20:43.244480",
     "status": "completed"
    },
    "tags": []
   },
   "outputs": [
    {
     "name": "stderr",
     "output_type": "stream",
     "text": [
      "/opt/apps/pkgs/anaconda3/2019.03/intel64/lib/python3.7/site-packages/dask/config.py:168: YAMLLoadWarning: calling yaml.load() without Loader=... is deprecated, as the default Loader is unsafe. Please read https://msg.pyyaml.org/load for full details.\n",
      "  data = yaml.load(f.read()) or {}\n"
     ]
    }
   ],
   "source": [
    "import json\n",
    "import numpy as np\n",
    "import pandas as pd\n",
    "from tqdm import tqdm\n",
    "import matplotlib.pyplot as plt\n",
    "import seaborn as sns\n",
    "from gzbuilder_analysis import parsing, rendering, fitting\n",
    "import lib.galaxy_utilities as gu\n",
    "import scrapbook as sb"
   ]
  },
  {
   "cell_type": "code",
   "execution_count": 3,
   "metadata": {
    "collapsed": false,
    "inputHidden": false,
    "outputHidden": false,
    "papermill": {
     "duration": 0.052804,
     "end_time": "2019-09-02T10:20:47.568719",
     "exception": false,
     "start_time": "2019-09-02T10:20:47.515915",
     "status": "completed"
    },
    "tags": [
     "parameters"
    ]
   },
   "outputs": [],
   "source": [
    "subject_id = 20902040"
   ]
  },
  {
   "cell_type": "code",
   "execution_count": 4,
   "metadata": {
    "papermill": {
     "duration": 0.045775,
     "end_time": "2019-09-02T10:20:47.622772",
     "exception": false,
     "start_time": "2019-09-02T10:20:47.576997",
     "status": "completed"
    },
    "tags": [
     "injected-parameters"
    ]
   },
   "outputs": [],
   "source": [
    "# Parameters\n",
    "subject_id = 21096945\n"
   ]
  },
  {
   "cell_type": "code",
   "execution_count": 5,
   "metadata": {
    "collapsed": false,
    "inputHidden": false,
    "outputHidden": false,
    "papermill": {
     "duration": 0.962112,
     "end_time": "2019-09-02T10:20:48.592307",
     "exception": false,
     "start_time": "2019-09-02T10:20:47.630195",
     "status": "completed"
    },
    "tags": []
   },
   "outputs": [],
   "source": [
    "diff_data_df = pd.read_pickle('lib/fitting_metadata.pkl')"
   ]
  },
  {
   "cell_type": "code",
   "execution_count": 6,
   "metadata": {
    "collapsed": false,
    "inputHidden": false,
    "outputHidden": false,
    "papermill": {
     "duration": 0.049773,
     "end_time": "2019-09-02T10:20:48.649360",
     "exception": false,
     "start_time": "2019-09-02T10:20:48.599587",
     "status": "completed"
    },
    "tags": []
   },
   "outputs": [],
   "source": [
    "def get_losses_by_user(subject_id):\n",
    "  diff_data = diff_data_df.loc[subject_id]\n",
    "  psf = diff_data['psf']\n",
    "  pixel_mask = np.array(diff_data['pixel_mask'])[::-1]\n",
    "  galaxy_data = np.array(diff_data['galaxy_data'])[::-1]\n",
    "  image_size = galaxy_data.shape[0]\n",
    "  size_diff = diff_data['size_diff']\n",
    "  \n",
    "  cls = gu.classifications.query('subject_ids == {}'.format(subject_id))\n",
    "  names = cls.user_name \n",
    "  annotations = cls['annotations'].apply(json.loads)\n",
    "\n",
    "  models = annotations.apply(\n",
    "    parsing.parse_annotation,\n",
    "    size_diff=size_diff\n",
    "  )\n",
    "\n",
    "  tqdm.pandas(\n",
    "    desc='Rendering models'.format(subject_id),\n",
    "    leave=False\n",
    "  )\n",
    "  rendered = models.progress_apply(\n",
    "    rendering.calculate_model,\n",
    "    image_size=image_size,\n",
    "    psf=psf\n",
    "  ).rename('rendered')\n",
    "\n",
    "  tqdm.pandas(\n",
    "    desc='Calculating differences'.format(subject_id),\n",
    "    leave=False\n",
    "  )\n",
    "  losses = rendered.apply(\n",
    "    fitting.loss,\n",
    "    args=(galaxy_data, pixel_mask)\n",
    "  ).rename('loss')\n",
    "  all_losses = pd.Series(\n",
    "    losses.values,\n",
    "    index=names.values\n",
    "  ).rename(subject_id)\n",
    "  best_losses = pd.concat((\n",
    "    all_losses.where(\n",
    "      ~all_losses.duplicated(keep=False)\n",
    "    ).dropna(), # all non-duplicates\n",
    "    all_losses.where(\n",
    "      all_losses.duplicated(keep=False)\n",
    "    ).dropna().groupby(level=0).min() # best value of duplicates\n",
    "  ), axis=0)\n",
    "  return best_losses"
   ]
  },
  {
   "cell_type": "code",
   "execution_count": 7,
   "metadata": {
    "collapsed": false,
    "inputHidden": false,
    "outputHidden": false,
    "papermill": {
     "duration": 8.694078,
     "end_time": "2019-09-02T10:20:57.350793",
     "exception": false,
     "start_time": "2019-09-02T10:20:48.656715",
     "status": "completed"
    },
    "tags": []
   },
   "outputs": [
    {
     "name": "stderr",
     "output_type": "stream",
     "text": [
      "\r",
      "Rendering models:   0%|          | 0/30 [00:00<?, ?it/s]"
     ]
    },
    {
     "name": "stderr",
     "output_type": "stream",
     "text": [
      "\r",
      "Rendering models:   7%|▋         | 2/30 [00:04<00:59,  2.12s/it]"
     ]
    },
    {
     "name": "stderr",
     "output_type": "stream",
     "text": [
      "\r",
      "Rendering models:  13%|█▎        | 4/30 [00:06<00:48,  1.88s/it]"
     ]
    },
    {
     "name": "stderr",
     "output_type": "stream",
     "text": [
      "\r",
      "Rendering models:  23%|██▎       | 7/30 [00:07<00:30,  1.33s/it]"
     ]
    },
    {
     "name": "stderr",
     "output_type": "stream",
     "text": [
      "\r",
      "Rendering models:  30%|███       | 9/30 [00:07<00:20,  1.05it/s]"
     ]
    },
    {
     "name": "stderr",
     "output_type": "stream",
     "text": [
      "\r",
      "Rendering models:  37%|███▋      | 11/30 [00:07<00:13,  1.46it/s]"
     ]
    },
    {
     "name": "stderr",
     "output_type": "stream",
     "text": [
      "\r",
      "Rendering models:  43%|████▎     | 13/30 [00:07<00:08,  1.97it/s]"
     ]
    },
    {
     "name": "stderr",
     "output_type": "stream",
     "text": [
      "\r",
      "Rendering models:  57%|█████▋    | 17/30 [00:07<00:04,  2.71it/s]"
     ]
    },
    {
     "name": "stderr",
     "output_type": "stream",
     "text": [
      "\r",
      "Rendering models:  63%|██████▎   | 19/30 [00:07<00:03,  3.61it/s]"
     ]
    },
    {
     "name": "stderr",
     "output_type": "stream",
     "text": [
      "\r",
      "Rendering models:  70%|███████   | 21/30 [00:07<00:01,  4.53it/s]"
     ]
    },
    {
     "name": "stderr",
     "output_type": "stream",
     "text": [
      "\r",
      "Rendering models:  77%|███████▋  | 23/30 [00:08<00:01,  5.28it/s]"
     ]
    },
    {
     "name": "stderr",
     "output_type": "stream",
     "text": [
      "\r",
      "Rendering models:  87%|████████▋ | 26/30 [00:08<00:00,  6.62it/s]"
     ]
    },
    {
     "name": "stderr",
     "output_type": "stream",
     "text": [
      "\r",
      "Rendering models:  93%|█████████▎| 28/30 [00:08<00:00,  7.91it/s]"
     ]
    },
    {
     "name": "stderr",
     "output_type": "stream",
     "text": [
      "\r",
      "                                                                 "
     ]
    },
    {
     "name": "stderr",
     "output_type": "stream",
     "text": [
      "\r"
     ]
    },
    {
     "data": {
      "text/plain": [
       "not-logged-in-3b0b929f4475fd276561      0.000137\n",
       "Jnursssmith5263                         0.001099\n",
       "not-logged-in-461bf2f260fc99e4866e      0.003183\n",
       "Alexander00                             0.000261\n",
       "jnarayanbvg                             0.000177\n",
       "not-logged-in-c6917d9b19f41e6c2995      0.003280\n",
       "salmi.a01                               0.001079\n",
       "jaksonA                                 0.005335\n",
       "TSM_Fatboy                              0.002883\n",
       "xStormmyy                               0.001212\n",
       "TRISTANM18                              0.000140\n",
       "pangeli5                                0.001144\n",
       "not-logged-in-9f30f411df9d28d2c541      0.002329\n",
       "acapirala                               0.000256\n",
       "Lavadude                              185.277725\n",
       "helios1235                              0.000173\n",
       "Tessaje04                               6.385110\n",
       "equidad1                                0.000218\n",
       "maxe83                                  0.002364\n",
       "kgenere                                 0.000252\n",
       "syt18                                   0.000355\n",
       "McMaster.Sam                            0.000180\n",
       "not-logged-in-490f77176b83d659546b      0.000461\n",
       "Elssy.mdawar                            0.001566\n",
       "Hunting_X                               0.001566\n",
       "ckkmomma                                0.001566\n",
       "concordesst99                           0.001566\n",
       "gmann2023                               0.001566\n",
       "not-logged-in-6ead6661c7dcef165774      0.001566\n",
       "not-logged-in-8fc584188a90e1b9c7a1      0.001566\n",
       "Name: 21096945, dtype: float64"
      ]
     },
     "execution_count": 7,
     "metadata": {},
     "output_type": "execute_result"
    }
   ],
   "source": [
    "losses = get_losses_by_user(subject_id)\n",
    "losses"
   ]
  },
  {
   "cell_type": "code",
   "execution_count": 8,
   "metadata": {
    "collapsed": false,
    "inputHidden": false,
    "outputHidden": false,
    "papermill": {
     "duration": 0.092768,
     "end_time": "2019-09-02T10:20:57.455170",
     "exception": false,
     "start_time": "2019-09-02T10:20:57.362402",
     "status": "completed"
    },
    "tags": []
   },
   "outputs": [
    {
     "data": {
      "application/scrapbook.scrap.json+json": {
       "data": 21096945,
       "encoder": "json",
       "name": "subject_id",
       "version": 1
      }
     },
     "metadata": {
      "scrapbook": {
       "data": true,
       "display": false,
       "name": "subject_id"
      }
     },
     "output_type": "display_data"
    },
    {
     "data": {
      "application/scrapbook.scrap.json+json": {
       "data": {
        "Alexander00": 0.0002613056240074779,
        "Elssy.mdawar": 0.001565721711676928,
        "Hunting_X": 0.001565721711676928,
        "Jnursssmith5263": 0.0010992407312386938,
        "Lavadude": 185.27772538596565,
        "McMaster.Sam": 0.0001800548392779721,
        "TRISTANM18": 0.00013990063892361387,
        "TSM_Fatboy": 0.0028832615000514068,
        "Tessaje04": 6.385109844807305,
        "acapirala": 0.00025636273278719355,
        "ckkmomma": 0.001565721711676928,
        "concordesst99": 0.001565721711676928,
        "equidad1": 0.00021770076495990443,
        "gmann2023": 0.001565721711676928,
        "helios1235": 0.00017290163575251735,
        "jaksonA": 0.005335329858597929,
        "jnarayanbvg": 0.00017697723771313383,
        "kgenere": 0.00025220342560774105,
        "maxe83": 0.002364133542354867,
        "not-logged-in-3b0b929f4475fd276561": 0.00013665338197988932,
        "not-logged-in-461bf2f260fc99e4866e": 0.00318339606144136,
        "not-logged-in-490f77176b83d659546b": 0.0004609518542544372,
        "not-logged-in-6ead6661c7dcef165774": 0.001565721711676928,
        "not-logged-in-8fc584188a90e1b9c7a1": 0.001565721711676928,
        "not-logged-in-9f30f411df9d28d2c541": 0.0023293042437691203,
        "not-logged-in-c6917d9b19f41e6c2995": 0.003279728218873889,
        "pangeli5": 0.0011440571193283052,
        "salmi.a01": 0.0010789435936920857,
        "syt18": 0.0003553076701677046,
        "xStormmyy": 0.0012116538418655775
       },
       "encoder": "json",
       "name": "losses",
       "version": 1
      }
     },
     "metadata": {
      "scrapbook": {
       "data": true,
       "display": false,
       "name": "losses"
      }
     },
     "output_type": "display_data"
    }
   ],
   "source": [
    "sb.glue('subject_id', subject_id)\n",
    "sb.glue('losses', losses.to_dict())"
   ]
  }
 ],
 "metadata": {
  "kernel_info": {
   "name": "python3"
  },
  "kernelspec": {
   "display_name": "Python 3",
   "language": "python",
   "name": "python3"
  },
  "language_info": {
   "codemirror_mode": {
    "name": "ipython",
    "version": 3
   },
   "file_extension": ".py",
   "mimetype": "text/x-python",
   "name": "python",
   "nbconvert_exporter": "python",
   "pygments_lexer": "ipython3",
   "version": "3.7.3"
  },
  "nteract": {
   "version": "0.14.3"
  },
  "papermill": {
   "duration": 17.00723,
   "end_time": "2019-09-02T10:20:58.455223",
   "environment_variables": {},
   "exception": null,
   "input_path": "/users/tingard/gzbuilder_results/input_files/volunteer_losses.ipynb",
   "output_path": "/users/tingard/gzbuilder_results/output_files/volunteer_losses/21096945.ipynb",
   "parameters": {
    "subject_id": 21096945
   },
   "start_time": "2019-09-02T10:20:41.447993",
   "version": "1.0.1"
  }
 },
 "nbformat": 4,
 "nbformat_minor": 0
}