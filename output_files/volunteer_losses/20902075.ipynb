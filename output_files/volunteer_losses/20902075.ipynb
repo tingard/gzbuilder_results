{
 "cells": [
  {
   "cell_type": "markdown",
   "metadata": {
    "papermill": {
     "duration": 0.006887,
     "end_time": "2019-09-02T10:20:15.441862",
     "exception": false,
     "start_time": "2019-09-02T10:20:15.434975",
     "status": "completed"
    },
    "tags": []
   },
   "source": [
    "# Volunteer model loss calculation\n",
    "\n",
    "This notebook takes a `subject_id` and calculates the MSE of each volunteer's model to the galaxy data. These losses are then glued to the notebook for use elsewhere."
   ]
  },
  {
   "cell_type": "code",
   "execution_count": 1,
   "metadata": {
    "collapsed": false,
    "inputHidden": false,
    "outputHidden": false,
    "papermill": {
     "duration": 0.089806,
     "end_time": "2019-09-02T10:20:15.538027",
     "exception": false,
     "start_time": "2019-09-02T10:20:15.448221",
     "status": "completed"
    },
    "tags": []
   },
   "outputs": [],
   "source": [
    "%load_ext autoreload\n",
    "%autoreload 2"
   ]
  },
  {
   "cell_type": "code",
   "execution_count": 2,
   "metadata": {
    "collapsed": false,
    "inputHidden": false,
    "outputHidden": false,
    "papermill": {
     "duration": 7.405701,
     "end_time": "2019-09-02T10:20:22.952078",
     "exception": false,
     "start_time": "2019-09-02T10:20:15.546377",
     "status": "completed"
    },
    "tags": []
   },
   "outputs": [
    {
     "name": "stderr",
     "output_type": "stream",
     "text": [
      "/opt/apps/pkgs/anaconda3/2019.03/intel64/lib/python3.7/site-packages/dask/config.py:168: YAMLLoadWarning: calling yaml.load() without Loader=... is deprecated, as the default Loader is unsafe. Please read https://msg.pyyaml.org/load for full details.\n",
      "  data = yaml.load(f.read()) or {}\n"
     ]
    }
   ],
   "source": [
    "import json\n",
    "import numpy as np\n",
    "import pandas as pd\n",
    "from tqdm import tqdm\n",
    "import matplotlib.pyplot as plt\n",
    "import seaborn as sns\n",
    "from gzbuilder_analysis import parsing, rendering, fitting\n",
    "import lib.galaxy_utilities as gu\n",
    "import scrapbook as sb"
   ]
  },
  {
   "cell_type": "code",
   "execution_count": 3,
   "metadata": {
    "collapsed": false,
    "inputHidden": false,
    "outputHidden": false,
    "papermill": {
     "duration": 0.046054,
     "end_time": "2019-09-02T10:20:23.007152",
     "exception": false,
     "start_time": "2019-09-02T10:20:22.961098",
     "status": "completed"
    },
    "tags": [
     "parameters"
    ]
   },
   "outputs": [],
   "source": [
    "subject_id = 20902040"
   ]
  },
  {
   "cell_type": "code",
   "execution_count": 4,
   "metadata": {
    "papermill": {
     "duration": 0.084629,
     "end_time": "2019-09-02T10:20:23.100043",
     "exception": false,
     "start_time": "2019-09-02T10:20:23.015414",
     "status": "completed"
    },
    "tags": [
     "injected-parameters"
    ]
   },
   "outputs": [],
   "source": [
    "# Parameters\n",
    "subject_id = 20902075\n"
   ]
  },
  {
   "cell_type": "code",
   "execution_count": 5,
   "metadata": {
    "collapsed": false,
    "inputHidden": false,
    "outputHidden": false,
    "papermill": {
     "duration": 1.899738,
     "end_time": "2019-09-02T10:20:25.008637",
     "exception": false,
     "start_time": "2019-09-02T10:20:23.108899",
     "status": "completed"
    },
    "tags": []
   },
   "outputs": [],
   "source": [
    "diff_data_df = pd.read_pickle('lib/fitting_metadata.pkl')"
   ]
  },
  {
   "cell_type": "code",
   "execution_count": 6,
   "metadata": {
    "collapsed": false,
    "inputHidden": false,
    "outputHidden": false,
    "papermill": {
     "duration": 2.094493,
     "end_time": "2019-09-02T10:20:27.111827",
     "exception": false,
     "start_time": "2019-09-02T10:20:25.017334",
     "status": "completed"
    },
    "tags": []
   },
   "outputs": [],
   "source": [
    "def get_losses_by_user(subject_id):\n",
    "  diff_data = diff_data_df.loc[subject_id]\n",
    "  psf = diff_data['psf']\n",
    "  pixel_mask = np.array(diff_data['pixel_mask'])[::-1]\n",
    "  galaxy_data = np.array(diff_data['galaxy_data'])[::-1]\n",
    "  image_size = galaxy_data.shape[0]\n",
    "  size_diff = diff_data['size_diff']\n",
    "  \n",
    "  cls = gu.classifications.query('subject_ids == {}'.format(subject_id))\n",
    "  names = cls.user_name \n",
    "  annotations = cls['annotations'].apply(json.loads)\n",
    "\n",
    "  models = annotations.apply(\n",
    "    parsing.parse_annotation,\n",
    "    size_diff=size_diff\n",
    "  )\n",
    "\n",
    "  tqdm.pandas(\n",
    "    desc='Rendering models'.format(subject_id),\n",
    "    leave=False\n",
    "  )\n",
    "  rendered = models.progress_apply(\n",
    "    rendering.calculate_model,\n",
    "    image_size=image_size,\n",
    "    psf=psf\n",
    "  ).rename('rendered')\n",
    "\n",
    "  tqdm.pandas(\n",
    "    desc='Calculating differences'.format(subject_id),\n",
    "    leave=False\n",
    "  )\n",
    "  losses = rendered.apply(\n",
    "    fitting.loss,\n",
    "    args=(galaxy_data, pixel_mask)\n",
    "  ).rename('loss')\n",
    "  all_losses = pd.Series(\n",
    "    losses.values,\n",
    "    index=names.values\n",
    "  ).rename(subject_id)\n",
    "  best_losses = pd.concat((\n",
    "    all_losses.where(\n",
    "      ~all_losses.duplicated(keep=False)\n",
    "    ).dropna(), # all non-duplicates\n",
    "    all_losses.where(\n",
    "      all_losses.duplicated(keep=False)\n",
    "    ).dropna().groupby(level=0).min() # best value of duplicates\n",
    "  ), axis=0)\n",
    "  return best_losses"
   ]
  },
  {
   "cell_type": "code",
   "execution_count": 7,
   "metadata": {
    "collapsed": false,
    "inputHidden": false,
    "outputHidden": false,
    "papermill": {
     "duration": 9.265737,
     "end_time": "2019-09-02T10:20:36.386542",
     "exception": false,
     "start_time": "2019-09-02T10:20:27.120805",
     "status": "completed"
    },
    "tags": []
   },
   "outputs": [
    {
     "name": "stderr",
     "output_type": "stream",
     "text": [
      "\r",
      "Rendering models:   0%|          | 0/30 [00:00<?, ?it/s]"
     ]
    },
    {
     "name": "stderr",
     "output_type": "stream",
     "text": [
      "\r",
      "Rendering models:   7%|▋         | 2/30 [00:05<01:15,  2.70s/it]"
     ]
    },
    {
     "name": "stderr",
     "output_type": "stream",
     "text": [
      "\r",
      "Rendering models:  13%|█▎        | 4/30 [00:05<00:49,  1.91s/it]"
     ]
    },
    {
     "name": "stderr",
     "output_type": "stream",
     "text": [
      "\r",
      "Rendering models:  23%|██▎       | 7/30 [00:05<00:31,  1.35s/it]"
     ]
    },
    {
     "name": "stderr",
     "output_type": "stream",
     "text": [
      "\r",
      "Rendering models:  30%|███       | 9/30 [00:07<00:25,  1.20s/it]"
     ]
    },
    {
     "name": "stderr",
     "output_type": "stream",
     "text": [
      "\r",
      "Rendering models:  37%|███▋      | 11/30 [00:07<00:16,  1.15it/s]"
     ]
    },
    {
     "name": "stderr",
     "output_type": "stream",
     "text": [
      "\r",
      "Rendering models:  43%|████▎     | 13/30 [00:07<00:10,  1.58it/s]"
     ]
    },
    {
     "name": "stderr",
     "output_type": "stream",
     "text": [
      "\r",
      "Rendering models:  50%|█████     | 15/30 [00:07<00:07,  2.13it/s]"
     ]
    },
    {
     "name": "stderr",
     "output_type": "stream",
     "text": [
      "\r",
      "Rendering models:  53%|█████▎    | 16/30 [00:08<00:05,  2.69it/s]"
     ]
    },
    {
     "name": "stderr",
     "output_type": "stream",
     "text": [
      "\r",
      "Rendering models:  63%|██████▎   | 19/30 [00:08<00:02,  3.67it/s]"
     ]
    },
    {
     "name": "stderr",
     "output_type": "stream",
     "text": [
      "\r",
      "Rendering models:  70%|███████   | 21/30 [00:08<00:01,  4.66it/s]"
     ]
    },
    {
     "name": "stderr",
     "output_type": "stream",
     "text": [
      "\r",
      "Rendering models:  77%|███████▋  | 23/30 [00:08<00:01,  5.81it/s]"
     ]
    },
    {
     "name": "stderr",
     "output_type": "stream",
     "text": [
      "\r",
      "Rendering models:  83%|████████▎ | 25/30 [00:08<00:00,  6.78it/s]"
     ]
    },
    {
     "name": "stderr",
     "output_type": "stream",
     "text": [
      "\r",
      "Rendering models:  90%|█████████ | 27/30 [00:08<00:00,  8.13it/s]"
     ]
    },
    {
     "name": "stderr",
     "output_type": "stream",
     "text": [
      "\r",
      "Rendering models:  97%|█████████▋| 29/30 [00:08<00:00,  9.65it/s]"
     ]
    },
    {
     "name": "stderr",
     "output_type": "stream",
     "text": [
      "\r",
      "                                                                 "
     ]
    },
    {
     "name": "stderr",
     "output_type": "stream",
     "text": [
      "\r"
     ]
    },
    {
     "data": {
      "text/plain": [
       "equidad1                              0.142927\n",
       "kayleebug2017                         0.004187\n",
       "JessieDawn                            0.001813\n",
       "not-logged-in-c66140310d6a5859bd6c    0.004047\n",
       "vehementscythe1337                    0.000855\n",
       "Thedunkmasta                          0.003211\n",
       "ElisabethB                            0.169865\n",
       "FrancescoGullo                        0.002033\n",
       "sinjinza1984                          0.001236\n",
       "not-logged-in-6e654a118e00ea29ed67    0.030295\n",
       "not-logged-in-22877e3a7af4aafb750a    0.002948\n",
       "tingard                               0.000264\n",
       "not-logged-in-4ddf669750977b537491    0.003696\n",
       "Mckay_Oyler                           0.000346\n",
       "TRISTANM18                            0.000356\n",
       "acapirala                             0.005630\n",
       "Lavadude                              0.005395\n",
       "not-logged-in-15498ebaa693dd5a198d    0.000302\n",
       "inhtih                                0.000704\n",
       "ShirleyL                              0.000691\n",
       "hunchoquavo                           6.129066\n",
       "atayl233                              0.008145\n",
       "not-logged-in-490f77176b83d659546b    0.159621\n",
       "not-logged-in-490f77176b83d659546b    0.001878\n",
       "not-logged-in-b7ad217dd74ab65a977b    0.051658\n",
       "not-logged-in-1161c3bef5302dc5adec    0.006297\n",
       "not-logged-in-57ff077d752173d27f79    0.006297\n",
       "not-logged-in-6ea7dd94a335e5238780    0.006297\n",
       "not-logged-in-bf4cef763ffa750a7579    0.006297\n",
       "oshMint                               0.006297\n",
       "Name: 20902075, dtype: float64"
      ]
     },
     "execution_count": 7,
     "metadata": {},
     "output_type": "execute_result"
    }
   ],
   "source": [
    "losses = get_losses_by_user(subject_id)\n",
    "losses"
   ]
  },
  {
   "cell_type": "code",
   "execution_count": 8,
   "metadata": {
    "collapsed": false,
    "inputHidden": false,
    "outputHidden": false,
    "papermill": {
     "duration": 0.166863,
     "end_time": "2019-09-02T10:20:36.578750",
     "exception": false,
     "start_time": "2019-09-02T10:20:36.411887",
     "status": "completed"
    },
    "tags": []
   },
   "outputs": [
    {
     "data": {
      "application/scrapbook.scrap.json+json": {
       "data": 20902075,
       "encoder": "json",
       "name": "subject_id",
       "version": 1
      }
     },
     "metadata": {
      "scrapbook": {
       "data": true,
       "display": false,
       "name": "subject_id"
      }
     },
     "output_type": "display_data"
    },
    {
     "data": {
      "application/scrapbook.scrap.json+json": {
       "data": {
        "ElisabethB": 0.16986506484405575,
        "FrancescoGullo": 0.0020325124360503237,
        "JessieDawn": 0.0018125191855822458,
        "Lavadude": 0.005394852916025066,
        "Mckay_Oyler": 0.00034580529217798566,
        "ShirleyL": 0.0006910526544323336,
        "TRISTANM18": 0.0003558862252475239,
        "Thedunkmasta": 0.0032108660779913097,
        "acapirala": 0.005630429293057647,
        "atayl233": 0.008144588037878183,
        "equidad1": 0.14292748566626862,
        "hunchoquavo": 6.129065851599665,
        "inhtih": 0.0007036118219248522,
        "kayleebug2017": 0.004186692569841736,
        "not-logged-in-1161c3bef5302dc5adec": 0.0062965421983448054,
        "not-logged-in-15498ebaa693dd5a198d": 0.00030224562370332155,
        "not-logged-in-22877e3a7af4aafb750a": 0.00294791529544173,
        "not-logged-in-490f77176b83d659546b": 0.0018775002369634632,
        "not-logged-in-4ddf669750977b537491": 0.003696116835189521,
        "not-logged-in-57ff077d752173d27f79": 0.0062965421983448054,
        "not-logged-in-6e654a118e00ea29ed67": 0.030294668058442154,
        "not-logged-in-6ea7dd94a335e5238780": 0.0062965421983448054,
        "not-logged-in-b7ad217dd74ab65a977b": 0.05165836025820242,
        "not-logged-in-bf4cef763ffa750a7579": 0.0062965421983448054,
        "not-logged-in-c66140310d6a5859bd6c": 0.004047130486934804,
        "oshMint": 0.0062965421983448054,
        "sinjinza1984": 0.0012355887885590509,
        "tingard": 0.00026437703384968195,
        "vehementscythe1337": 0.0008545803911854502
       },
       "encoder": "json",
       "name": "losses",
       "version": 1
      }
     },
     "metadata": {
      "scrapbook": {
       "data": true,
       "display": false,
       "name": "losses"
      }
     },
     "output_type": "display_data"
    }
   ],
   "source": [
    "sb.glue('subject_id', subject_id)\n",
    "sb.glue('losses', losses.to_dict())"
   ]
  }
 ],
 "metadata": {
  "kernel_info": {
   "name": "python3"
  },
  "kernelspec": {
   "display_name": "Python 3",
   "language": "python",
   "name": "python3"
  },
  "language_info": {
   "codemirror_mode": {
    "name": "ipython",
    "version": 3
   },
   "file_extension": ".py",
   "mimetype": "text/x-python",
   "name": "python",
   "nbconvert_exporter": "python",
   "pygments_lexer": "ipython3",
   "version": "3.7.3"
  },
  "nteract": {
   "version": "0.14.3"
  },
  "papermill": {
   "duration": 25.199706,
   "end_time": "2019-09-02T10:20:38.252519",
   "environment_variables": {},
   "exception": null,
   "input_path": "/users/tingard/gzbuilder_results/input_files/volunteer_losses.ipynb",
   "output_path": "/users/tingard/gzbuilder_results/output_files/volunteer_losses/20902075.ipynb",
   "parameters": {
    "subject_id": 20902075
   },
   "start_time": "2019-09-02T10:20:13.052813",
   "version": "1.0.1"
  }
 },
 "nbformat": 4,
 "nbformat_minor": 0
}