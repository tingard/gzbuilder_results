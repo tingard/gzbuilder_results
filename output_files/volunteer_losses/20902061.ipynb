{
 "cells": [
  {
   "cell_type": "markdown",
   "metadata": {
    "papermill": {
     "duration": 0.009853,
     "end_time": "2019-09-02T10:20:13.703224",
     "exception": false,
     "start_time": "2019-09-02T10:20:13.693371",
     "status": "completed"
    },
    "tags": []
   },
   "source": [
    "# Volunteer model loss calculation\n",
    "\n",
    "This notebook takes a `subject_id` and calculates the MSE of each volunteer's model to the galaxy data. These losses are then glued to the notebook for use elsewhere."
   ]
  },
  {
   "cell_type": "code",
   "execution_count": 1,
   "metadata": {
    "collapsed": false,
    "inputHidden": false,
    "outputHidden": false,
    "papermill": {
     "duration": 0.021139,
     "end_time": "2019-09-02T10:20:13.731168",
     "exception": false,
     "start_time": "2019-09-02T10:20:13.710029",
     "status": "completed"
    },
    "tags": []
   },
   "outputs": [],
   "source": [
    "%load_ext autoreload\n",
    "%autoreload 2"
   ]
  },
  {
   "cell_type": "code",
   "execution_count": 2,
   "metadata": {
    "collapsed": false,
    "inputHidden": false,
    "outputHidden": false,
    "papermill": {
     "duration": 5.691905,
     "end_time": "2019-09-02T10:20:19.429592",
     "exception": false,
     "start_time": "2019-09-02T10:20:13.737687",
     "status": "completed"
    },
    "tags": []
   },
   "outputs": [
    {
     "name": "stderr",
     "output_type": "stream",
     "text": [
      "/opt/apps/pkgs/anaconda3/2019.03/intel64/lib/python3.7/site-packages/dask/config.py:168: YAMLLoadWarning: calling yaml.load() without Loader=... is deprecated, as the default Loader is unsafe. Please read https://msg.pyyaml.org/load for full details.\n",
      "  data = yaml.load(f.read()) or {}\n"
     ]
    }
   ],
   "source": [
    "import json\n",
    "import numpy as np\n",
    "import pandas as pd\n",
    "from tqdm import tqdm\n",
    "import matplotlib.pyplot as plt\n",
    "import seaborn as sns\n",
    "from gzbuilder_analysis import parsing, rendering, fitting\n",
    "import lib.galaxy_utilities as gu\n",
    "import scrapbook as sb"
   ]
  },
  {
   "cell_type": "code",
   "execution_count": 3,
   "metadata": {
    "collapsed": false,
    "inputHidden": false,
    "outputHidden": false,
    "papermill": {
     "duration": 0.045321,
     "end_time": "2019-09-02T10:20:19.483267",
     "exception": false,
     "start_time": "2019-09-02T10:20:19.437946",
     "status": "completed"
    },
    "tags": [
     "parameters"
    ]
   },
   "outputs": [],
   "source": [
    "subject_id = 20902040"
   ]
  },
  {
   "cell_type": "code",
   "execution_count": 4,
   "metadata": {
    "papermill": {
     "duration": 2.546448,
     "end_time": "2019-09-02T10:20:22.038696",
     "exception": false,
     "start_time": "2019-09-02T10:20:19.492248",
     "status": "completed"
    },
    "tags": [
     "injected-parameters"
    ]
   },
   "outputs": [],
   "source": [
    "# Parameters\n",
    "subject_id = 20902061\n"
   ]
  },
  {
   "cell_type": "code",
   "execution_count": 5,
   "metadata": {
    "collapsed": false,
    "inputHidden": false,
    "outputHidden": false,
    "papermill": {
     "duration": 0.143139,
     "end_time": "2019-09-02T10:20:22.189331",
     "exception": false,
     "start_time": "2019-09-02T10:20:22.046192",
     "status": "completed"
    },
    "tags": []
   },
   "outputs": [],
   "source": [
    "diff_data_df = pd.read_pickle('lib/fitting_metadata.pkl')"
   ]
  },
  {
   "cell_type": "code",
   "execution_count": 6,
   "metadata": {
    "collapsed": false,
    "inputHidden": false,
    "outputHidden": false,
    "papermill": {
     "duration": 0.050364,
     "end_time": "2019-09-02T10:20:22.247803",
     "exception": false,
     "start_time": "2019-09-02T10:20:22.197439",
     "status": "completed"
    },
    "tags": []
   },
   "outputs": [],
   "source": [
    "def get_losses_by_user(subject_id):\n",
    "  diff_data = diff_data_df.loc[subject_id]\n",
    "  psf = diff_data['psf']\n",
    "  pixel_mask = np.array(diff_data['pixel_mask'])[::-1]\n",
    "  galaxy_data = np.array(diff_data['galaxy_data'])[::-1]\n",
    "  image_size = galaxy_data.shape[0]\n",
    "  size_diff = diff_data['size_diff']\n",
    "  \n",
    "  cls = gu.classifications.query('subject_ids == {}'.format(subject_id))\n",
    "  names = cls.user_name \n",
    "  annotations = cls['annotations'].apply(json.loads)\n",
    "\n",
    "  models = annotations.apply(\n",
    "    parsing.parse_annotation,\n",
    "    size_diff=size_diff\n",
    "  )\n",
    "\n",
    "  tqdm.pandas(\n",
    "    desc='Rendering models'.format(subject_id),\n",
    "    leave=False\n",
    "  )\n",
    "  rendered = models.progress_apply(\n",
    "    rendering.calculate_model,\n",
    "    image_size=image_size,\n",
    "    psf=psf\n",
    "  ).rename('rendered')\n",
    "\n",
    "  tqdm.pandas(\n",
    "    desc='Calculating differences'.format(subject_id),\n",
    "    leave=False\n",
    "  )\n",
    "  losses = rendered.apply(\n",
    "    fitting.loss,\n",
    "    args=(galaxy_data, pixel_mask)\n",
    "  ).rename('loss')\n",
    "  all_losses = pd.Series(\n",
    "    losses.values,\n",
    "    index=names.values\n",
    "  ).rename(subject_id)\n",
    "  best_losses = pd.concat((\n",
    "    all_losses.where(\n",
    "      ~all_losses.duplicated(keep=False)\n",
    "    ).dropna(), # all non-duplicates\n",
    "    all_losses.where(\n",
    "      all_losses.duplicated(keep=False)\n",
    "    ).dropna().groupby(level=0).min() # best value of duplicates\n",
    "  ), axis=0)\n",
    "  return best_losses"
   ]
  },
  {
   "cell_type": "code",
   "execution_count": 7,
   "metadata": {
    "collapsed": false,
    "inputHidden": false,
    "outputHidden": false,
    "papermill": {
     "duration": 9.280081,
     "end_time": "2019-09-02T10:20:31.536212",
     "exception": false,
     "start_time": "2019-09-02T10:20:22.256131",
     "status": "completed"
    },
    "tags": []
   },
   "outputs": [
    {
     "name": "stderr",
     "output_type": "stream",
     "text": [
      "\r",
      "Rendering models:   0%|          | 0/39 [00:00<?, ?it/s]"
     ]
    },
    {
     "name": "stderr",
     "output_type": "stream",
     "text": [
      "\r",
      "Rendering models:   5%|▌         | 2/39 [00:03<00:57,  1.55s/it]"
     ]
    },
    {
     "name": "stderr",
     "output_type": "stream",
     "text": [
      "\r",
      "Rendering models:  10%|█         | 4/39 [00:06<00:56,  1.62s/it]"
     ]
    },
    {
     "name": "stderr",
     "output_type": "stream",
     "text": [
      "\r",
      "Rendering models:  15%|█▌        | 6/39 [00:06<00:37,  1.15s/it]"
     ]
    },
    {
     "name": "stderr",
     "output_type": "stream",
     "text": [
      "\r",
      "Rendering models:  21%|██        | 8/39 [00:06<00:25,  1.21it/s]"
     ]
    },
    {
     "name": "stderr",
     "output_type": "stream",
     "text": [
      "\r",
      "Rendering models:  26%|██▌       | 10/39 [00:07<00:17,  1.67it/s]"
     ]
    },
    {
     "name": "stderr",
     "output_type": "stream",
     "text": [
      "\r",
      "Rendering models:  31%|███       | 12/39 [00:07<00:11,  2.28it/s]"
     ]
    },
    {
     "name": "stderr",
     "output_type": "stream",
     "text": [
      "\r",
      "Rendering models:  36%|███▌      | 14/39 [00:07<00:08,  2.95it/s]"
     ]
    },
    {
     "name": "stderr",
     "output_type": "stream",
     "text": [
      "\r",
      "Rendering models:  41%|████      | 16/39 [00:07<00:06,  3.67it/s]"
     ]
    },
    {
     "name": "stderr",
     "output_type": "stream",
     "text": [
      "\r",
      "Rendering models:  46%|████▌     | 18/39 [00:07<00:04,  4.81it/s]"
     ]
    },
    {
     "name": "stderr",
     "output_type": "stream",
     "text": [
      "\r",
      "Rendering models:  51%|█████▏    | 20/39 [00:07<00:03,  6.02it/s]"
     ]
    },
    {
     "name": "stderr",
     "output_type": "stream",
     "text": [
      "\r",
      "Rendering models:  56%|█████▋    | 22/39 [00:08<00:02,  7.19it/s]"
     ]
    },
    {
     "name": "stderr",
     "output_type": "stream",
     "text": [
      "\r",
      "Rendering models:  62%|██████▏   | 24/39 [00:08<00:01,  8.44it/s]"
     ]
    },
    {
     "name": "stderr",
     "output_type": "stream",
     "text": [
      "\r",
      "Rendering models:  69%|██████▉   | 27/39 [00:08<00:01, 10.01it/s]"
     ]
    },
    {
     "name": "stderr",
     "output_type": "stream",
     "text": [
      "\r",
      "Rendering models:  74%|███████▍  | 29/39 [00:08<00:00, 11.29it/s]"
     ]
    },
    {
     "name": "stderr",
     "output_type": "stream",
     "text": [
      "\r",
      "Rendering models:  82%|████████▏ | 32/39 [00:08<00:00, 13.22it/s]"
     ]
    },
    {
     "name": "stderr",
     "output_type": "stream",
     "text": [
      "\r",
      "Rendering models:  87%|████████▋ | 34/39 [00:08<00:00, 13.16it/s]"
     ]
    },
    {
     "name": "stderr",
     "output_type": "stream",
     "text": [
      "\r",
      "Rendering models:  92%|█████████▏| 36/39 [00:08<00:00, 13.04it/s]"
     ]
    },
    {
     "name": "stderr",
     "output_type": "stream",
     "text": [
      "\r",
      "Rendering models:  97%|█████████▋| 38/39 [00:09<00:00, 14.21it/s]"
     ]
    },
    {
     "name": "stderr",
     "output_type": "stream",
     "text": [
      "\r",
      "                                                                 "
     ]
    },
    {
     "name": "stderr",
     "output_type": "stream",
     "text": [
      "\r"
     ]
    },
    {
     "data": {
      "text/plain": [
       "equidad1                              0.000212\n",
       "Drew_Farnsworth                       0.007728\n",
       "Thedunkmasta                          0.000379\n",
       "Thedunkmasta                          0.001355\n",
       "Thedunkmasta                          0.001478\n",
       "Thedunkmasta                          0.001049\n",
       "Thedunkmasta                          0.001026\n",
       "Thedunkmasta                          0.000673\n",
       "Thedunkmasta                          0.000707\n",
       "Thedunkmasta                          0.000909\n",
       "Thedunkmasta                          0.000747\n",
       "ElisabethB                            0.352881\n",
       "not-logged-in-1a3690080e09876c6142    0.000166\n",
       "not-logged-in-ea8ed61a7274cfb6a43b    0.000660\n",
       "AC01010                               0.000136\n",
       "SohaKawtharani                        0.000546\n",
       "not-logged-in-1124b2639e37eb70f4c6    0.000119\n",
       "lam123ghjkl                           0.000191\n",
       "Paddy_van_CH                          0.000117\n",
       "not-logged-in-a0164d241f30411408f0    0.001253\n",
       "not-logged-in-d41f38f63cdf5ae721ea    0.000466\n",
       "ferlin1998                            0.001463\n",
       "WyattEarp                             0.001659\n",
       "jmartinez468                          0.000486\n",
       "41Letters                             0.000175\n",
       "Lavadude                              0.000660\n",
       "bboyle23                              0.000278\n",
       "not-logged-in-5f07e987ea0617aea3ae    0.152720\n",
       "not-logged-in-ec641b5d49aaa15bc8a9    0.000809\n",
       "Mkcls                                 0.001198\n",
       "ckkmomma                              0.000136\n",
       "uwe_eggert                            0.000409\n",
       "spannerfarm                           0.000141\n",
       "Elewis56                              0.000224\n",
       "not-logged-in-69a26341776fb04c5355    0.000174\n",
       "holte116                              0.001076\n",
       "kayleebug2017                         0.001076\n",
       "not-logged-in-507d21e626885b7e7b69    0.001076\n",
       "rhondacard                            0.001076\n",
       "Name: 20902061, dtype: float64"
      ]
     },
     "execution_count": 7,
     "metadata": {},
     "output_type": "execute_result"
    }
   ],
   "source": [
    "losses = get_losses_by_user(subject_id)\n",
    "losses"
   ]
  },
  {
   "cell_type": "code",
   "execution_count": 8,
   "metadata": {
    "collapsed": false,
    "inputHidden": false,
    "outputHidden": false,
    "papermill": {
     "duration": 0.082145,
     "end_time": "2019-09-02T10:20:31.631143",
     "exception": false,
     "start_time": "2019-09-02T10:20:31.548998",
     "status": "completed"
    },
    "tags": []
   },
   "outputs": [
    {
     "data": {
      "application/scrapbook.scrap.json+json": {
       "data": 20902061,
       "encoder": "json",
       "name": "subject_id",
       "version": 1
      }
     },
     "metadata": {
      "scrapbook": {
       "data": true,
       "display": false,
       "name": "subject_id"
      }
     },
     "output_type": "display_data"
    },
    {
     "data": {
      "application/scrapbook.scrap.json+json": {
       "data": {
        "41Letters": 0.00017462263390610784,
        "AC01010": 0.00013601383796558238,
        "Drew_Farnsworth": 0.007727744357556076,
        "Elewis56": 0.00022427418204310097,
        "ElisabethB": 0.3528805992155777,
        "Lavadude": 0.0006600807780566608,
        "Mkcls": 0.0011983384847003885,
        "Paddy_van_CH": 0.00011721790371186429,
        "SohaKawtharani": 0.0005464415730677474,
        "Thedunkmasta": 0.0007467595073305416,
        "WyattEarp": 0.0016594226841279782,
        "bboyle23": 0.00027807767715211926,
        "ckkmomma": 0.00013643243161380497,
        "equidad1": 0.00021163841288794133,
        "ferlin1998": 0.0014634865227387526,
        "holte116": 0.0010757164979362406,
        "jmartinez468": 0.00048590654466729204,
        "kayleebug2017": 0.0010757164979362406,
        "lam123ghjkl": 0.0001908855370196512,
        "not-logged-in-1124b2639e37eb70f4c6": 0.00011890038433857356,
        "not-logged-in-1a3690080e09876c6142": 0.00016635789493806537,
        "not-logged-in-507d21e626885b7e7b69": 0.0010757164979362406,
        "not-logged-in-5f07e987ea0617aea3ae": 0.15272048213299555,
        "not-logged-in-69a26341776fb04c5355": 0.0001735178792818543,
        "not-logged-in-a0164d241f30411408f0": 0.0012526235014000766,
        "not-logged-in-d41f38f63cdf5ae721ea": 0.0004658662050125565,
        "not-logged-in-ea8ed61a7274cfb6a43b": 0.000659574286884164,
        "not-logged-in-ec641b5d49aaa15bc8a9": 0.0008085987380855321,
        "rhondacard": 0.0010757164979362406,
        "spannerfarm": 0.00014135303302344765,
        "uwe_eggert": 0.0004090689641516976
       },
       "encoder": "json",
       "name": "losses",
       "version": 1
      }
     },
     "metadata": {
      "scrapbook": {
       "data": true,
       "display": false,
       "name": "losses"
      }
     },
     "output_type": "display_data"
    }
   ],
   "source": [
    "sb.glue('subject_id', subject_id)\n",
    "sb.glue('losses', losses.to_dict())"
   ]
  }
 ],
 "metadata": {
  "kernel_info": {
   "name": "python3"
  },
  "kernelspec": {
   "display_name": "Python 3",
   "language": "python",
   "name": "python3"
  },
  "language_info": {
   "codemirror_mode": {
    "name": "ipython",
    "version": 3
   },
   "file_extension": ".py",
   "mimetype": "text/x-python",
   "name": "python",
   "nbconvert_exporter": "python",
   "pygments_lexer": "ipython3",
   "version": "3.7.3"
  },
  "nteract": {
   "version": "0.14.3"
  },
  "papermill": {
   "duration": 21.104732,
   "end_time": "2019-09-02T10:20:32.837683",
   "environment_variables": {},
   "exception": null,
   "input_path": "/users/tingard/gzbuilder_results/input_files/volunteer_losses.ipynb",
   "output_path": "/users/tingard/gzbuilder_results/output_files/volunteer_losses/20902061.ipynb",
   "parameters": {
    "subject_id": 20902061
   },
   "start_time": "2019-09-02T10:20:11.732951",
   "version": "1.0.1"
  }
 },
 "nbformat": 4,
 "nbformat_minor": 0
}