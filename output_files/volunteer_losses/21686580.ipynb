{
 "cells": [
  {
   "cell_type": "markdown",
   "metadata": {
    "papermill": {
     "duration": 0.008748,
     "end_time": "2019-09-02T10:21:08.699634",
     "exception": false,
     "start_time": "2019-09-02T10:21:08.690886",
     "status": "completed"
    },
    "tags": []
   },
   "source": [
    "# Volunteer model loss calculation\n",
    "\n",
    "This notebook takes a `subject_id` and calculates the MSE of each volunteer's model to the galaxy data. These losses are then glued to the notebook for use elsewhere."
   ]
  },
  {
   "cell_type": "code",
   "execution_count": 1,
   "metadata": {
    "collapsed": false,
    "inputHidden": false,
    "outputHidden": false,
    "papermill": {
     "duration": 0.027651,
     "end_time": "2019-09-02T10:21:08.734815",
     "exception": false,
     "start_time": "2019-09-02T10:21:08.707164",
     "status": "completed"
    },
    "tags": []
   },
   "outputs": [],
   "source": [
    "%load_ext autoreload\n",
    "%autoreload 2"
   ]
  },
  {
   "cell_type": "code",
   "execution_count": 2,
   "metadata": {
    "collapsed": false,
    "inputHidden": false,
    "outputHidden": false,
    "papermill": {
     "duration": 4.037674,
     "end_time": "2019-09-02T10:21:12.782049",
     "exception": false,
     "start_time": "2019-09-02T10:21:08.744375",
     "status": "completed"
    },
    "tags": []
   },
   "outputs": [
    {
     "name": "stderr",
     "output_type": "stream",
     "text": [
      "/opt/apps/pkgs/anaconda3/2019.03/intel64/lib/python3.7/site-packages/dask/config.py:168: YAMLLoadWarning: calling yaml.load() without Loader=... is deprecated, as the default Loader is unsafe. Please read https://msg.pyyaml.org/load for full details.\n",
      "  data = yaml.load(f.read()) or {}\n"
     ]
    }
   ],
   "source": [
    "import json\n",
    "import numpy as np\n",
    "import pandas as pd\n",
    "from tqdm import tqdm\n",
    "import matplotlib.pyplot as plt\n",
    "import seaborn as sns\n",
    "from gzbuilder_analysis import parsing, rendering, fitting\n",
    "import lib.galaxy_utilities as gu\n",
    "import scrapbook as sb"
   ]
  },
  {
   "cell_type": "code",
   "execution_count": 3,
   "metadata": {
    "collapsed": false,
    "inputHidden": false,
    "outputHidden": false,
    "papermill": {
     "duration": 0.044739,
     "end_time": "2019-09-02T10:21:12.835761",
     "exception": false,
     "start_time": "2019-09-02T10:21:12.791022",
     "status": "completed"
    },
    "tags": [
     "parameters"
    ]
   },
   "outputs": [],
   "source": [
    "subject_id = 20902040"
   ]
  },
  {
   "cell_type": "code",
   "execution_count": 4,
   "metadata": {
    "papermill": {
     "duration": 0.043597,
     "end_time": "2019-09-02T10:21:12.886765",
     "exception": false,
     "start_time": "2019-09-02T10:21:12.843168",
     "status": "completed"
    },
    "tags": [
     "injected-parameters"
    ]
   },
   "outputs": [],
   "source": [
    "# Parameters\n",
    "subject_id = 21686580\n"
   ]
  },
  {
   "cell_type": "code",
   "execution_count": 5,
   "metadata": {
    "collapsed": false,
    "inputHidden": false,
    "outputHidden": false,
    "papermill": {
     "duration": 0.16116,
     "end_time": "2019-09-02T10:21:13.056058",
     "exception": false,
     "start_time": "2019-09-02T10:21:12.894898",
     "status": "completed"
    },
    "tags": []
   },
   "outputs": [],
   "source": [
    "diff_data_df = pd.read_pickle('lib/fitting_metadata.pkl')"
   ]
  },
  {
   "cell_type": "code",
   "execution_count": 6,
   "metadata": {
    "collapsed": false,
    "inputHidden": false,
    "outputHidden": false,
    "papermill": {
     "duration": 0.053921,
     "end_time": "2019-09-02T10:21:13.118070",
     "exception": false,
     "start_time": "2019-09-02T10:21:13.064149",
     "status": "completed"
    },
    "tags": []
   },
   "outputs": [],
   "source": [
    "def get_losses_by_user(subject_id):\n",
    "  diff_data = diff_data_df.loc[subject_id]\n",
    "  psf = diff_data['psf']\n",
    "  pixel_mask = np.array(diff_data['pixel_mask'])[::-1]\n",
    "  galaxy_data = np.array(diff_data['galaxy_data'])[::-1]\n",
    "  image_size = galaxy_data.shape[0]\n",
    "  size_diff = diff_data['size_diff']\n",
    "  \n",
    "  cls = gu.classifications.query('subject_ids == {}'.format(subject_id))\n",
    "  names = cls.user_name \n",
    "  annotations = cls['annotations'].apply(json.loads)\n",
    "\n",
    "  models = annotations.apply(\n",
    "    parsing.parse_annotation,\n",
    "    size_diff=size_diff\n",
    "  )\n",
    "\n",
    "  tqdm.pandas(\n",
    "    desc='Rendering models'.format(subject_id),\n",
    "    leave=False\n",
    "  )\n",
    "  rendered = models.progress_apply(\n",
    "    rendering.calculate_model,\n",
    "    image_size=image_size,\n",
    "    psf=psf\n",
    "  ).rename('rendered')\n",
    "\n",
    "  tqdm.pandas(\n",
    "    desc='Calculating differences'.format(subject_id),\n",
    "    leave=False\n",
    "  )\n",
    "  losses = rendered.apply(\n",
    "    fitting.loss,\n",
    "    args=(galaxy_data, pixel_mask)\n",
    "  ).rename('loss')\n",
    "  all_losses = pd.Series(\n",
    "    losses.values,\n",
    "    index=names.values\n",
    "  ).rename(subject_id)\n",
    "  best_losses = pd.concat((\n",
    "    all_losses.where(\n",
    "      ~all_losses.duplicated(keep=False)\n",
    "    ).dropna(), # all non-duplicates\n",
    "    all_losses.where(\n",
    "      all_losses.duplicated(keep=False)\n",
    "    ).dropna().groupby(level=0).min() # best value of duplicates\n",
    "  ), axis=0)\n",
    "  return best_losses"
   ]
  },
  {
   "cell_type": "code",
   "execution_count": 7,
   "metadata": {
    "collapsed": false,
    "inputHidden": false,
    "outputHidden": false,
    "papermill": {
     "duration": 8.632383,
     "end_time": "2019-09-02T10:21:21.759859",
     "exception": false,
     "start_time": "2019-09-02T10:21:13.127476",
     "status": "completed"
    },
    "tags": []
   },
   "outputs": [
    {
     "name": "stderr",
     "output_type": "stream",
     "text": [
      "\r",
      "Rendering models:   0%|          | 0/30 [00:00<?, ?it/s]"
     ]
    },
    {
     "name": "stderr",
     "output_type": "stream",
     "text": [
      "\r",
      "Rendering models:   7%|▋         | 2/30 [00:06<01:24,  3.01s/it]"
     ]
    },
    {
     "name": "stderr",
     "output_type": "stream",
     "text": [
      "\r",
      "Rendering models:  10%|█         | 3/30 [00:06<00:58,  2.16s/it]"
     ]
    },
    {
     "name": "stderr",
     "output_type": "stream",
     "text": [
      "\r",
      "Rendering models:  17%|█▋        | 5/30 [00:06<00:38,  1.53s/it]"
     ]
    },
    {
     "name": "stderr",
     "output_type": "stream",
     "text": [
      "\r",
      "Rendering models:  23%|██▎       | 7/30 [00:06<00:25,  1.10s/it]"
     ]
    },
    {
     "name": "stderr",
     "output_type": "stream",
     "text": [
      "\r",
      "Rendering models:  30%|███       | 9/30 [00:06<00:16,  1.26it/s]"
     ]
    },
    {
     "name": "stderr",
     "output_type": "stream",
     "text": [
      "\r",
      "Rendering models:  37%|███▋      | 11/30 [00:06<00:10,  1.75it/s]"
     ]
    },
    {
     "name": "stderr",
     "output_type": "stream",
     "text": [
      "\r",
      "Rendering models:  43%|████▎     | 13/30 [00:06<00:07,  2.35it/s]"
     ]
    },
    {
     "name": "stderr",
     "output_type": "stream",
     "text": [
      "\r",
      "Rendering models:  50%|█████     | 15/30 [00:07<00:04,  3.09it/s]"
     ]
    },
    {
     "name": "stderr",
     "output_type": "stream",
     "text": [
      "\r",
      "Rendering models:  57%|█████▋    | 17/30 [00:07<00:03,  4.06it/s]"
     ]
    },
    {
     "name": "stderr",
     "output_type": "stream",
     "text": [
      "\r",
      "Rendering models:  67%|██████▋   | 20/30 [00:07<00:01,  5.36it/s]"
     ]
    },
    {
     "name": "stderr",
     "output_type": "stream",
     "text": [
      "\r",
      "Rendering models:  73%|███████▎  | 22/30 [00:07<00:01,  5.96it/s]"
     ]
    },
    {
     "name": "stderr",
     "output_type": "stream",
     "text": [
      "\r",
      "Rendering models:  80%|████████  | 24/30 [00:07<00:00,  6.33it/s]"
     ]
    },
    {
     "name": "stderr",
     "output_type": "stream",
     "text": [
      "\r",
      "Rendering models:  87%|████████▋ | 26/30 [00:08<00:00,  6.88it/s]"
     ]
    },
    {
     "name": "stderr",
     "output_type": "stream",
     "text": [
      "\r",
      "Rendering models:  93%|█████████▎| 28/30 [00:08<00:00,  8.17it/s]"
     ]
    },
    {
     "name": "stderr",
     "output_type": "stream",
     "text": [
      "\r",
      "Rendering models: 100%|██████████| 30/30 [00:08<00:00,  9.13it/s]"
     ]
    },
    {
     "name": "stderr",
     "output_type": "stream",
     "text": [
      "\r",
      "                                                                 "
     ]
    },
    {
     "name": "stderr",
     "output_type": "stream",
     "text": [
      "\r"
     ]
    },
    {
     "data": {
      "text/plain": [
       "firefighterwolf13                     0.002615\n",
       "smithkurtis                           0.000199\n",
       "richiemac                             0.000133\n",
       "Camelron                              0.000191\n",
       "Staceyann116                          0.015025\n",
       "asucich                               0.000333\n",
       "djswanso                              0.018828\n",
       "kjkavene                              0.000188\n",
       "not-logged-in-ff40b895d06514783cbc    0.002834\n",
       "bldelacr                              0.004241\n",
       "ncaro                                 0.001194\n",
       "pollux2728                            0.007493\n",
       "not-logged-in-388222ff3e4deda2c904    0.074718\n",
       "coyotes54                             0.000136\n",
       "Dylano                                0.000810\n",
       "not-logged-in-dddbb97cfd84354416f5    0.000475\n",
       "pangeli5                              0.000288\n",
       "RaulE                                 0.000587\n",
       "not-logged-in-447d0673a41f48ce6d98    0.000960\n",
       "acapirala                             0.000631\n",
       "Lavadude                              0.005210\n",
       "not-logged-in-873227d79645e4708632    0.002893\n",
       "clars915                              0.000654\n",
       "equidad1                              0.000155\n",
       "ivl1705                               0.000162\n",
       "not-logged-in-37a20a558610a9b26a63    0.001439\n",
       "slambier                              0.000812\n",
       "crush202020                           0.002988\n",
       "donny1423                             0.002988\n",
       "mariafarhat                           0.002988\n",
       "Name: 21686580, dtype: float64"
      ]
     },
     "execution_count": 7,
     "metadata": {},
     "output_type": "execute_result"
    }
   ],
   "source": [
    "losses = get_losses_by_user(subject_id)\n",
    "losses"
   ]
  },
  {
   "cell_type": "code",
   "execution_count": 8,
   "metadata": {
    "collapsed": false,
    "inputHidden": false,
    "outputHidden": false,
    "papermill": {
     "duration": 0.060253,
     "end_time": "2019-09-02T10:21:21.832002",
     "exception": false,
     "start_time": "2019-09-02T10:21:21.771749",
     "status": "completed"
    },
    "tags": []
   },
   "outputs": [
    {
     "data": {
      "application/scrapbook.scrap.json+json": {
       "data": 21686580,
       "encoder": "json",
       "name": "subject_id",
       "version": 1
      }
     },
     "metadata": {
      "scrapbook": {
       "data": true,
       "display": false,
       "name": "subject_id"
      }
     },
     "output_type": "display_data"
    },
    {
     "data": {
      "application/scrapbook.scrap.json+json": {
       "data": {
        "Camelron": 0.0001909329318388769,
        "Dylano": 0.000810222972011635,
        "Lavadude": 0.00520955126618,
        "RaulE": 0.0005868340737114581,
        "Staceyann116": 0.015024587232463355,
        "acapirala": 0.000631094040286118,
        "asucich": 0.0003331495914948086,
        "bldelacr": 0.004241485130014921,
        "clars915": 0.0006538167567941375,
        "coyotes54": 0.00013640679682150458,
        "crush202020": 0.002987663014018129,
        "djswanso": 0.018827729233755582,
        "donny1423": 0.002987663014018129,
        "equidad1": 0.00015548440551531255,
        "firefighterwolf13": 0.0026153515159454423,
        "ivl1705": 0.00016246439703369888,
        "kjkavene": 0.00018843912761387145,
        "mariafarhat": 0.002987663014018129,
        "ncaro": 0.0011943409874137251,
        "not-logged-in-37a20a558610a9b26a63": 0.0014388941295814862,
        "not-logged-in-388222ff3e4deda2c904": 0.07471788185698781,
        "not-logged-in-447d0673a41f48ce6d98": 0.0009596567070438963,
        "not-logged-in-873227d79645e4708632": 0.002892909423854167,
        "not-logged-in-dddbb97cfd84354416f5": 0.00047525858548841995,
        "not-logged-in-ff40b895d06514783cbc": 0.00283385244854919,
        "pangeli5": 0.00028776494898244805,
        "pollux2728": 0.007492543168427456,
        "richiemac": 0.0001328898993283165,
        "slambier": 0.0008120391576465019,
        "smithkurtis": 0.0001987523748847723
       },
       "encoder": "json",
       "name": "losses",
       "version": 1
      }
     },
     "metadata": {
      "scrapbook": {
       "data": true,
       "display": false,
       "name": "losses"
      }
     },
     "output_type": "display_data"
    }
   ],
   "source": [
    "sb.glue('subject_id', subject_id)\n",
    "sb.glue('losses', losses.to_dict())"
   ]
  }
 ],
 "metadata": {
  "kernel_info": {
   "name": "python3"
  },
  "kernelspec": {
   "display_name": "Python 3",
   "language": "python",
   "name": "python3"
  },
  "language_info": {
   "codemirror_mode": {
    "name": "ipython",
    "version": 3
   },
   "file_extension": ".py",
   "mimetype": "text/x-python",
   "name": "python",
   "nbconvert_exporter": "python",
   "pygments_lexer": "ipython3",
   "version": "3.7.3"
  },
  "nteract": {
   "version": "0.14.3"
  },
  "papermill": {
   "duration": 16.004963,
   "end_time": "2019-09-02T10:21:23.018966",
   "environment_variables": {},
   "exception": null,
   "input_path": "/users/tingard/gzbuilder_results/input_files/volunteer_losses.ipynb",
   "output_path": "/users/tingard/gzbuilder_results/output_files/volunteer_losses/21686580.ipynb",
   "parameters": {
    "subject_id": 21686580
   },
   "start_time": "2019-09-02T10:21:07.014003",
   "version": "1.0.1"
  }
 },
 "nbformat": 4,
 "nbformat_minor": 0
}