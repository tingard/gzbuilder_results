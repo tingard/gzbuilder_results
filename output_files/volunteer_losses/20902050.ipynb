{
 "cells": [
  {
   "cell_type": "markdown",
   "metadata": {
    "papermill": {
     "duration": 0.009056,
     "end_time": "2019-09-02T10:20:15.504113",
     "exception": false,
     "start_time": "2019-09-02T10:20:15.495057",
     "status": "completed"
    },
    "tags": []
   },
   "source": [
    "# Volunteer model loss calculation\n",
    "\n",
    "This notebook takes a `subject_id` and calculates the MSE of each volunteer's model to the galaxy data. These losses are then glued to the notebook for use elsewhere."
   ]
  },
  {
   "cell_type": "code",
   "execution_count": 1,
   "metadata": {
    "collapsed": false,
    "inputHidden": false,
    "outputHidden": false,
    "papermill": {
     "duration": 0.025751,
     "end_time": "2019-09-02T10:20:15.537243",
     "exception": false,
     "start_time": "2019-09-02T10:20:15.511492",
     "status": "completed"
    },
    "tags": []
   },
   "outputs": [],
   "source": [
    "%load_ext autoreload\n",
    "%autoreload 2"
   ]
  },
  {
   "cell_type": "code",
   "execution_count": 2,
   "metadata": {
    "collapsed": false,
    "inputHidden": false,
    "outputHidden": false,
    "papermill": {
     "duration": 7.431533,
     "end_time": "2019-09-02T10:20:22.977044",
     "exception": false,
     "start_time": "2019-09-02T10:20:15.545511",
     "status": "completed"
    },
    "tags": []
   },
   "outputs": [
    {
     "name": "stderr",
     "output_type": "stream",
     "text": [
      "/opt/apps/pkgs/anaconda3/2019.03/intel64/lib/python3.7/site-packages/dask/config.py:168: YAMLLoadWarning: calling yaml.load() without Loader=... is deprecated, as the default Loader is unsafe. Please read https://msg.pyyaml.org/load for full details.\n",
      "  data = yaml.load(f.read()) or {}\n"
     ]
    }
   ],
   "source": [
    "import json\n",
    "import numpy as np\n",
    "import pandas as pd\n",
    "from tqdm import tqdm\n",
    "import matplotlib.pyplot as plt\n",
    "import seaborn as sns\n",
    "from gzbuilder_analysis import parsing, rendering, fitting\n",
    "import lib.galaxy_utilities as gu\n",
    "import scrapbook as sb"
   ]
  },
  {
   "cell_type": "code",
   "execution_count": 3,
   "metadata": {
    "collapsed": false,
    "inputHidden": false,
    "outputHidden": false,
    "papermill": {
     "duration": 0.046977,
     "end_time": "2019-09-02T10:20:23.033546",
     "exception": false,
     "start_time": "2019-09-02T10:20:22.986569",
     "status": "completed"
    },
    "tags": [
     "parameters"
    ]
   },
   "outputs": [],
   "source": [
    "subject_id = 20902040"
   ]
  },
  {
   "cell_type": "code",
   "execution_count": 4,
   "metadata": {
    "papermill": {
     "duration": 4.876772,
     "end_time": "2019-09-02T10:20:27.919855",
     "exception": false,
     "start_time": "2019-09-02T10:20:23.043083",
     "status": "completed"
    },
    "tags": [
     "injected-parameters"
    ]
   },
   "outputs": [],
   "source": [
    "# Parameters\n",
    "subject_id = 20902050\n"
   ]
  },
  {
   "cell_type": "code",
   "execution_count": 5,
   "metadata": {
    "collapsed": false,
    "inputHidden": false,
    "outputHidden": false,
    "papermill": {
     "duration": 0.157829,
     "end_time": "2019-09-02T10:20:28.085349",
     "exception": false,
     "start_time": "2019-09-02T10:20:27.927520",
     "status": "completed"
    },
    "tags": []
   },
   "outputs": [],
   "source": [
    "diff_data_df = pd.read_pickle('lib/fitting_metadata.pkl')"
   ]
  },
  {
   "cell_type": "code",
   "execution_count": 6,
   "metadata": {
    "collapsed": false,
    "inputHidden": false,
    "outputHidden": false,
    "papermill": {
     "duration": 0.052477,
     "end_time": "2019-09-02T10:20:28.145547",
     "exception": false,
     "start_time": "2019-09-02T10:20:28.093070",
     "status": "completed"
    },
    "tags": []
   },
   "outputs": [],
   "source": [
    "def get_losses_by_user(subject_id):\n",
    "  diff_data = diff_data_df.loc[subject_id]\n",
    "  psf = diff_data['psf']\n",
    "  pixel_mask = np.array(diff_data['pixel_mask'])[::-1]\n",
    "  galaxy_data = np.array(diff_data['galaxy_data'])[::-1]\n",
    "  image_size = galaxy_data.shape[0]\n",
    "  size_diff = diff_data['size_diff']\n",
    "  \n",
    "  cls = gu.classifications.query('subject_ids == {}'.format(subject_id))\n",
    "  names = cls.user_name \n",
    "  annotations = cls['annotations'].apply(json.loads)\n",
    "\n",
    "  models = annotations.apply(\n",
    "    parsing.parse_annotation,\n",
    "    size_diff=size_diff\n",
    "  )\n",
    "\n",
    "  tqdm.pandas(\n",
    "    desc='Rendering models'.format(subject_id),\n",
    "    leave=False\n",
    "  )\n",
    "  rendered = models.progress_apply(\n",
    "    rendering.calculate_model,\n",
    "    image_size=image_size,\n",
    "    psf=psf\n",
    "  ).rename('rendered')\n",
    "\n",
    "  tqdm.pandas(\n",
    "    desc='Calculating differences'.format(subject_id),\n",
    "    leave=False\n",
    "  )\n",
    "  losses = rendered.apply(\n",
    "    fitting.loss,\n",
    "    args=(galaxy_data, pixel_mask)\n",
    "  ).rename('loss')\n",
    "  all_losses = pd.Series(\n",
    "    losses.values,\n",
    "    index=names.values\n",
    "  ).rename(subject_id)\n",
    "  best_losses = pd.concat((\n",
    "    all_losses.where(\n",
    "      ~all_losses.duplicated(keep=False)\n",
    "    ).dropna(), # all non-duplicates\n",
    "    all_losses.where(\n",
    "      all_losses.duplicated(keep=False)\n",
    "    ).dropna().groupby(level=0).min() # best value of duplicates\n",
    "  ), axis=0)\n",
    "  return best_losses"
   ]
  },
  {
   "cell_type": "code",
   "execution_count": 7,
   "metadata": {
    "collapsed": false,
    "inputHidden": false,
    "outputHidden": false,
    "papermill": {
     "duration": 14.171408,
     "end_time": "2019-09-02T10:20:42.327176",
     "exception": false,
     "start_time": "2019-09-02T10:20:28.155768",
     "status": "completed"
    },
    "tags": []
   },
   "outputs": [
    {
     "name": "stderr",
     "output_type": "stream",
     "text": [
      "\r",
      "Rendering models:   0%|          | 0/31 [00:00<?, ?it/s]"
     ]
    },
    {
     "name": "stderr",
     "output_type": "stream",
     "text": [
      "\r",
      "Rendering models:  10%|▉         | 3/31 [00:07<01:08,  2.44s/it]"
     ]
    },
    {
     "name": "stderr",
     "output_type": "stream",
     "text": [
      "\r",
      "Rendering models:  13%|█▎        | 4/31 [00:07<00:48,  1.80s/it]"
     ]
    },
    {
     "name": "stderr",
     "output_type": "stream",
     "text": [
      "\r",
      "Rendering models:  16%|█▌        | 5/31 [00:07<00:34,  1.33s/it]"
     ]
    },
    {
     "name": "stderr",
     "output_type": "stream",
     "text": [
      "\r",
      "Rendering models:  19%|█▉        | 6/31 [00:08<00:25,  1.02s/it]"
     ]
    },
    {
     "name": "stderr",
     "output_type": "stream",
     "text": [
      "\r",
      "Rendering models:  23%|██▎       | 7/31 [00:08<00:18,  1.32it/s]"
     ]
    },
    {
     "name": "stderr",
     "output_type": "stream",
     "text": [
      "\r",
      "Rendering models:  26%|██▌       | 8/31 [00:08<00:16,  1.44it/s]"
     ]
    },
    {
     "name": "stderr",
     "output_type": "stream",
     "text": [
      "\r",
      "Rendering models:  29%|██▉       | 9/31 [00:09<00:12,  1.79it/s]"
     ]
    },
    {
     "name": "stderr",
     "output_type": "stream",
     "text": [
      "\r",
      "Rendering models:  32%|███▏      | 10/31 [00:09<00:10,  2.06it/s]"
     ]
    },
    {
     "name": "stderr",
     "output_type": "stream",
     "text": [
      "\r",
      "Rendering models:  35%|███▌      | 11/31 [00:09<00:08,  2.40it/s]"
     ]
    },
    {
     "name": "stderr",
     "output_type": "stream",
     "text": [
      "\r",
      "Rendering models:  39%|███▊      | 12/31 [00:09<00:07,  2.60it/s]"
     ]
    },
    {
     "name": "stderr",
     "output_type": "stream",
     "text": [
      "\r",
      "Rendering models:  42%|████▏     | 13/31 [00:10<00:06,  2.78it/s]"
     ]
    },
    {
     "name": "stderr",
     "output_type": "stream",
     "text": [
      "\r",
      "Rendering models:  45%|████▌     | 14/31 [00:10<00:05,  3.18it/s]"
     ]
    },
    {
     "name": "stderr",
     "output_type": "stream",
     "text": [
      "\r",
      "Rendering models:  48%|████▊     | 15/31 [00:10<00:04,  3.93it/s]"
     ]
    },
    {
     "name": "stderr",
     "output_type": "stream",
     "text": [
      "\r",
      "Rendering models:  52%|█████▏    | 16/31 [00:10<00:03,  4.10it/s]"
     ]
    },
    {
     "name": "stderr",
     "output_type": "stream",
     "text": [
      "\r",
      "Rendering models:  55%|█████▍    | 17/31 [00:11<00:03,  4.29it/s]"
     ]
    },
    {
     "name": "stderr",
     "output_type": "stream",
     "text": [
      "\r",
      "Rendering models:  65%|██████▍   | 20/31 [00:11<00:02,  5.35it/s]"
     ]
    },
    {
     "name": "stderr",
     "output_type": "stream",
     "text": [
      "\r",
      "Rendering models:  68%|██████▊   | 21/31 [00:11<00:01,  5.12it/s]"
     ]
    },
    {
     "name": "stderr",
     "output_type": "stream",
     "text": [
      "\r",
      "Rendering models:  71%|███████   | 22/31 [00:11<00:01,  5.11it/s]"
     ]
    },
    {
     "name": "stderr",
     "output_type": "stream",
     "text": [
      "\r",
      "Rendering models:  74%|███████▍  | 23/31 [00:11<00:01,  4.77it/s]"
     ]
    },
    {
     "name": "stderr",
     "output_type": "stream",
     "text": [
      "\r",
      "Rendering models:  77%|███████▋  | 24/31 [00:12<00:02,  3.46it/s]"
     ]
    },
    {
     "name": "stderr",
     "output_type": "stream",
     "text": [
      "\r",
      "Rendering models:  81%|████████  | 25/31 [00:12<00:01,  4.29it/s]"
     ]
    },
    {
     "name": "stderr",
     "output_type": "stream",
     "text": [
      "\r",
      "Rendering models:  84%|████████▍ | 26/31 [00:12<00:01,  3.74it/s]"
     ]
    },
    {
     "name": "stderr",
     "output_type": "stream",
     "text": [
      "\r",
      "Rendering models:  87%|████████▋ | 27/31 [00:13<00:00,  4.03it/s]"
     ]
    },
    {
     "name": "stderr",
     "output_type": "stream",
     "text": [
      "\r",
      "Rendering models:  90%|█████████ | 28/31 [00:13<00:00,  4.31it/s]"
     ]
    },
    {
     "name": "stderr",
     "output_type": "stream",
     "text": [
      "\r",
      "Rendering models:  94%|█████████▎| 29/31 [00:13<00:00,  4.27it/s]"
     ]
    },
    {
     "name": "stderr",
     "output_type": "stream",
     "text": [
      "\r",
      "Rendering models:  97%|█████████▋| 30/31 [00:13<00:00,  4.51it/s]"
     ]
    },
    {
     "name": "stderr",
     "output_type": "stream",
     "text": [
      "\r",
      "Rendering models: 100%|██████████| 31/31 [00:13<00:00,  4.22it/s]"
     ]
    },
    {
     "name": "stderr",
     "output_type": "stream",
     "text": [
      "\r",
      "                                                                 "
     ]
    },
    {
     "name": "stderr",
     "output_type": "stream",
     "text": [
      "\r"
     ]
    },
    {
     "data": {
      "text/plain": [
       "equidad1                              0.141965\n",
       "ElisabethB                            0.000149\n",
       "Thedunkmasta                          0.000157\n",
       "DrJackie                              0.000482\n",
       "not-logged-in-305e3fb3bdeb23dda397    0.000568\n",
       "Elemat                                0.003124\n",
       "FrancescoGullo                        0.004246\n",
       "EastonH                               0.000308\n",
       "AllyOpps                              0.001703\n",
       "not-logged-in-6cd9487f1f13f15d1751    0.000940\n",
       "sn346808                              0.000292\n",
       "jheadlee                              0.000305\n",
       "not-logged-in-a2291ffe48f33f96a1a5    0.014951\n",
       "Arbitrationer                         0.000697\n",
       "ryanwong                              0.000161\n",
       "koshmarus                             0.000233\n",
       "Tenorclef                             0.000113\n",
       "nbloewen                              0.000234\n",
       "ccarles.100                           0.000999\n",
       "ccarles.100                           0.000119\n",
       "not-logged-in-92785a29f032fd3d6f9b    0.000466\n",
       "VirK_QSO                              0.000147\n",
       "kevinlacaille                         0.000100\n",
       "not-logged-in-ca0e5c102eb9a9d65ed3    0.678966\n",
       "not-logged-in-f6b1f435fed99e7b2252    0.000129\n",
       "not-logged-in-367bd6e77d55462e60dc    0.000210\n",
       "not-logged-in-be875f27f6119e1941de    0.057196\n",
       "kayleebug2017                         0.000766\n",
       "not-logged-in-14d09f70263c1fe15cc3    0.000766\n",
       "not-logged-in-1c11880c3bb995ec61b3    0.000766\n",
       "not-logged-in-65b11d07c026c3352be7    0.000766\n",
       "Name: 20902050, dtype: float64"
      ]
     },
     "execution_count": 7,
     "metadata": {},
     "output_type": "execute_result"
    }
   ],
   "source": [
    "losses = get_losses_by_user(subject_id)\n",
    "losses"
   ]
  },
  {
   "cell_type": "code",
   "execution_count": 8,
   "metadata": {
    "collapsed": false,
    "inputHidden": false,
    "outputHidden": false,
    "papermill": {
     "duration": 0.076352,
     "end_time": "2019-09-02T10:20:42.421237",
     "exception": false,
     "start_time": "2019-09-02T10:20:42.344885",
     "status": "completed"
    },
    "tags": []
   },
   "outputs": [
    {
     "data": {
      "application/scrapbook.scrap.json+json": {
       "data": 20902050,
       "encoder": "json",
       "name": "subject_id",
       "version": 1
      }
     },
     "metadata": {
      "scrapbook": {
       "data": true,
       "display": false,
       "name": "subject_id"
      }
     },
     "output_type": "display_data"
    },
    {
     "data": {
      "application/scrapbook.scrap.json+json": {
       "data": {
        "AllyOpps": 0.001702578496866718,
        "Arbitrationer": 0.0006974161498368943,
        "DrJackie": 0.000482489483878084,
        "EastonH": 0.0003075457580113329,
        "Elemat": 0.0031235792268672785,
        "ElisabethB": 0.00014926863418348614,
        "FrancescoGullo": 0.004246005833477927,
        "Tenorclef": 0.00011318176776783813,
        "Thedunkmasta": 0.0001569448213967427,
        "VirK_QSO": 0.00014675836882179874,
        "ccarles.100": 0.00011895396376795087,
        "equidad1": 0.14196455015260181,
        "jheadlee": 0.000304877374297924,
        "kayleebug2017": 0.0007662604270839565,
        "kevinlacaille": 0.00010027843928083906,
        "koshmarus": 0.00023273760826748863,
        "nbloewen": 0.00023359023814871645,
        "not-logged-in-14d09f70263c1fe15cc3": 0.0007662604270839565,
        "not-logged-in-1c11880c3bb995ec61b3": 0.0007662604270839565,
        "not-logged-in-305e3fb3bdeb23dda397": 0.0005676471845980406,
        "not-logged-in-367bd6e77d55462e60dc": 0.0002104660805860413,
        "not-logged-in-65b11d07c026c3352be7": 0.0007662604270839565,
        "not-logged-in-6cd9487f1f13f15d1751": 0.0009402585022274089,
        "not-logged-in-92785a29f032fd3d6f9b": 0.00046553287198627724,
        "not-logged-in-a2291ffe48f33f96a1a5": 0.014951461722625688,
        "not-logged-in-be875f27f6119e1941de": 0.05719566581642506,
        "not-logged-in-ca0e5c102eb9a9d65ed3": 0.6789656824632425,
        "not-logged-in-f6b1f435fed99e7b2252": 0.0001291139684268874,
        "ryanwong": 0.00016059711215780183,
        "sn346808": 0.0002921821311912678
       },
       "encoder": "json",
       "name": "losses",
       "version": 1
      }
     },
     "metadata": {
      "scrapbook": {
       "data": true,
       "display": false,
       "name": "losses"
      }
     },
     "output_type": "display_data"
    }
   ],
   "source": [
    "sb.glue('subject_id', subject_id)\n",
    "sb.glue('losses', losses.to_dict())"
   ]
  }
 ],
 "metadata": {
  "kernel_info": {
   "name": "python3"
  },
  "kernelspec": {
   "display_name": "Python 3",
   "language": "python",
   "name": "python3"
  },
  "language_info": {
   "codemirror_mode": {
    "name": "ipython",
    "version": 3
   },
   "file_extension": ".py",
   "mimetype": "text/x-python",
   "name": "python",
   "nbconvert_exporter": "python",
   "pygments_lexer": "ipython3",
   "version": "3.7.3"
  },
  "nteract": {
   "version": "0.14.3"
  },
  "papermill": {
   "duration": 31.917003,
   "end_time": "2019-09-02T10:20:44.969232",
   "environment_variables": {},
   "exception": null,
   "input_path": "/users/tingard/gzbuilder_results/input_files/volunteer_losses.ipynb",
   "output_path": "/users/tingard/gzbuilder_results/output_files/volunteer_losses/20902050.ipynb",
   "parameters": {
    "subject_id": 20902050
   },
   "start_time": "2019-09-02T10:20:13.052229",
   "version": "1.0.1"
  }
 },
 "nbformat": 4,
 "nbformat_minor": 0
}