{
 "cells": [
  {
   "cell_type": "markdown",
   "metadata": {
    "papermill": {
     "duration": 0.008382,
     "end_time": "2019-09-02T10:20:13.904169",
     "exception": false,
     "start_time": "2019-09-02T10:20:13.895787",
     "status": "completed"
    },
    "tags": []
   },
   "source": [
    "# Volunteer model loss calculation\n",
    "\n",
    "This notebook takes a `subject_id` and calculates the MSE of each volunteer's model to the galaxy data. These losses are then glued to the notebook for use elsewhere."
   ]
  },
  {
   "cell_type": "code",
   "execution_count": 1,
   "metadata": {
    "collapsed": false,
    "inputHidden": false,
    "outputHidden": false,
    "papermill": {
     "duration": 0.024757,
     "end_time": "2019-09-02T10:20:13.936233",
     "exception": false,
     "start_time": "2019-09-02T10:20:13.911476",
     "status": "completed"
    },
    "tags": []
   },
   "outputs": [],
   "source": [
    "%load_ext autoreload\n",
    "%autoreload 2"
   ]
  },
  {
   "cell_type": "code",
   "execution_count": 2,
   "metadata": {
    "collapsed": false,
    "inputHidden": false,
    "outputHidden": false,
    "papermill": {
     "duration": 5.552513,
     "end_time": "2019-09-02T10:20:19.496647",
     "exception": false,
     "start_time": "2019-09-02T10:20:13.944134",
     "status": "completed"
    },
    "tags": []
   },
   "outputs": [
    {
     "name": "stderr",
     "output_type": "stream",
     "text": [
      "/opt/apps/pkgs/anaconda3/2019.03/intel64/lib/python3.7/site-packages/dask/config.py:168: YAMLLoadWarning: calling yaml.load() without Loader=... is deprecated, as the default Loader is unsafe. Please read https://msg.pyyaml.org/load for full details.\n",
      "  data = yaml.load(f.read()) or {}\n"
     ]
    }
   ],
   "source": [
    "import json\n",
    "import numpy as np\n",
    "import pandas as pd\n",
    "from tqdm import tqdm\n",
    "import matplotlib.pyplot as plt\n",
    "import seaborn as sns\n",
    "from gzbuilder_analysis import parsing, rendering, fitting\n",
    "import lib.galaxy_utilities as gu\n",
    "import scrapbook as sb"
   ]
  },
  {
   "cell_type": "code",
   "execution_count": 3,
   "metadata": {
    "collapsed": false,
    "inputHidden": false,
    "outputHidden": false,
    "papermill": {
     "duration": 0.048461,
     "end_time": "2019-09-02T10:20:19.553983",
     "exception": false,
     "start_time": "2019-09-02T10:20:19.505522",
     "status": "completed"
    },
    "tags": [
     "parameters"
    ]
   },
   "outputs": [],
   "source": [
    "subject_id = 20902040"
   ]
  },
  {
   "cell_type": "code",
   "execution_count": 4,
   "metadata": {
    "papermill": {
     "duration": 0.997361,
     "end_time": "2019-09-02T10:20:20.559705",
     "exception": false,
     "start_time": "2019-09-02T10:20:19.562344",
     "status": "completed"
    },
    "tags": [
     "injected-parameters"
    ]
   },
   "outputs": [],
   "source": [
    "# Parameters\n",
    "subject_id = 20902017\n"
   ]
  },
  {
   "cell_type": "code",
   "execution_count": 5,
   "metadata": {
    "collapsed": false,
    "inputHidden": false,
    "outputHidden": false,
    "papermill": {
     "duration": 0.166948,
     "end_time": "2019-09-02T10:20:20.733719",
     "exception": false,
     "start_time": "2019-09-02T10:20:20.566771",
     "status": "completed"
    },
    "tags": []
   },
   "outputs": [],
   "source": [
    "diff_data_df = pd.read_pickle('lib/fitting_metadata.pkl')"
   ]
  },
  {
   "cell_type": "code",
   "execution_count": 6,
   "metadata": {
    "collapsed": false,
    "inputHidden": false,
    "outputHidden": false,
    "papermill": {
     "duration": 0.046244,
     "end_time": "2019-09-02T10:20:20.787353",
     "exception": false,
     "start_time": "2019-09-02T10:20:20.741109",
     "status": "completed"
    },
    "tags": []
   },
   "outputs": [],
   "source": [
    "def get_losses_by_user(subject_id):\n",
    "  diff_data = diff_data_df.loc[subject_id]\n",
    "  psf = diff_data['psf']\n",
    "  pixel_mask = np.array(diff_data['pixel_mask'])[::-1]\n",
    "  galaxy_data = np.array(diff_data['galaxy_data'])[::-1]\n",
    "  image_size = galaxy_data.shape[0]\n",
    "  size_diff = diff_data['size_diff']\n",
    "  \n",
    "  cls = gu.classifications.query('subject_ids == {}'.format(subject_id))\n",
    "  names = cls.user_name \n",
    "  annotations = cls['annotations'].apply(json.loads)\n",
    "\n",
    "  models = annotations.apply(\n",
    "    parsing.parse_annotation,\n",
    "    size_diff=size_diff\n",
    "  )\n",
    "\n",
    "  tqdm.pandas(\n",
    "    desc='Rendering models'.format(subject_id),\n",
    "    leave=False\n",
    "  )\n",
    "  rendered = models.progress_apply(\n",
    "    rendering.calculate_model,\n",
    "    image_size=image_size,\n",
    "    psf=psf\n",
    "  ).rename('rendered')\n",
    "\n",
    "  tqdm.pandas(\n",
    "    desc='Calculating differences'.format(subject_id),\n",
    "    leave=False\n",
    "  )\n",
    "  losses = rendered.apply(\n",
    "    fitting.loss,\n",
    "    args=(galaxy_data, pixel_mask)\n",
    "  ).rename('loss')\n",
    "  all_losses = pd.Series(\n",
    "    losses.values,\n",
    "    index=names.values\n",
    "  ).rename(subject_id)\n",
    "  best_losses = pd.concat((\n",
    "    all_losses.where(\n",
    "      ~all_losses.duplicated(keep=False)\n",
    "    ).dropna(), # all non-duplicates\n",
    "    all_losses.where(\n",
    "      all_losses.duplicated(keep=False)\n",
    "    ).dropna().groupby(level=0).min() # best value of duplicates\n",
    "  ), axis=0)\n",
    "  return best_losses"
   ]
  },
  {
   "cell_type": "code",
   "execution_count": 7,
   "metadata": {
    "collapsed": false,
    "inputHidden": false,
    "outputHidden": false,
    "papermill": {
     "duration": 26.369762,
     "end_time": "2019-09-02T10:20:47.164585",
     "exception": false,
     "start_time": "2019-09-02T10:20:20.794823",
     "status": "completed"
    },
    "tags": []
   },
   "outputs": [
    {
     "name": "stderr",
     "output_type": "stream",
     "text": [
      "\r",
      "Rendering models:   0%|          | 0/32 [00:00<?, ?it/s]"
     ]
    },
    {
     "name": "stderr",
     "output_type": "stream",
     "text": [
      "\r",
      "Rendering models:   6%|▋         | 2/32 [00:06<01:37,  3.26s/it]"
     ]
    },
    {
     "name": "stderr",
     "output_type": "stream",
     "text": [
      "\r",
      "Rendering models:   9%|▉         | 3/32 [00:08<01:20,  2.77s/it]"
     ]
    },
    {
     "name": "stderr",
     "output_type": "stream",
     "text": [
      "\r",
      "Rendering models:  12%|█▎        | 4/32 [00:08<00:59,  2.11s/it]"
     ]
    },
    {
     "name": "stderr",
     "output_type": "stream",
     "text": [
      "\r",
      "Rendering models:  16%|█▌        | 5/32 [00:09<00:45,  1.67s/it]"
     ]
    },
    {
     "name": "stderr",
     "output_type": "stream",
     "text": [
      "\r",
      "Rendering models:  19%|█▉        | 6/32 [00:09<00:32,  1.25s/it]"
     ]
    },
    {
     "name": "stderr",
     "output_type": "stream",
     "text": [
      "\r",
      "Rendering models:  22%|██▏       | 7/32 [00:10<00:27,  1.09s/it]"
     ]
    },
    {
     "name": "stderr",
     "output_type": "stream",
     "text": [
      "\r",
      "Rendering models:  25%|██▌       | 8/32 [00:10<00:22,  1.08it/s]"
     ]
    },
    {
     "name": "stderr",
     "output_type": "stream",
     "text": [
      "\r",
      "Rendering models:  28%|██▊       | 9/32 [00:11<00:20,  1.14it/s]"
     ]
    },
    {
     "name": "stderr",
     "output_type": "stream",
     "text": [
      "\r",
      "Rendering models:  31%|███▏      | 10/32 [00:12<00:17,  1.29it/s]"
     ]
    },
    {
     "name": "stderr",
     "output_type": "stream",
     "text": [
      "\r",
      "Rendering models:  34%|███▍      | 11/32 [00:12<00:15,  1.36it/s]"
     ]
    },
    {
     "name": "stderr",
     "output_type": "stream",
     "text": [
      "\r",
      "Rendering models:  38%|███▊      | 12/32 [00:13<00:14,  1.39it/s]"
     ]
    },
    {
     "name": "stderr",
     "output_type": "stream",
     "text": [
      "\r",
      "Rendering models:  41%|████      | 13/32 [00:14<00:15,  1.20it/s]"
     ]
    },
    {
     "name": "stderr",
     "output_type": "stream",
     "text": [
      "\r",
      "Rendering models:  44%|████▍     | 14/32 [00:15<00:14,  1.28it/s]"
     ]
    },
    {
     "name": "stderr",
     "output_type": "stream",
     "text": [
      "\r",
      "Rendering models:  47%|████▋     | 15/32 [00:15<00:11,  1.44it/s]"
     ]
    },
    {
     "name": "stderr",
     "output_type": "stream",
     "text": [
      "\r",
      "Rendering models:  56%|█████▋    | 18/32 [00:16<00:08,  1.73it/s]"
     ]
    },
    {
     "name": "stderr",
     "output_type": "stream",
     "text": [
      "\r",
      "Rendering models:  59%|█████▉    | 19/32 [00:17<00:07,  1.68it/s]"
     ]
    },
    {
     "name": "stderr",
     "output_type": "stream",
     "text": [
      "\r",
      "Rendering models:  62%|██████▎   | 20/32 [00:17<00:07,  1.61it/s]"
     ]
    },
    {
     "name": "stderr",
     "output_type": "stream",
     "text": [
      "\r",
      "Rendering models:  66%|██████▌   | 21/32 [00:19<00:08,  1.33it/s]"
     ]
    },
    {
     "name": "stderr",
     "output_type": "stream",
     "text": [
      "\r",
      "Rendering models:  69%|██████▉   | 22/32 [00:19<00:07,  1.33it/s]"
     ]
    },
    {
     "name": "stderr",
     "output_type": "stream",
     "text": [
      "\r",
      "Rendering models:  72%|███████▏  | 23/32 [00:20<00:05,  1.64it/s]"
     ]
    },
    {
     "name": "stderr",
     "output_type": "stream",
     "text": [
      "\r",
      "Rendering models:  75%|███████▌  | 24/32 [00:20<00:04,  1.62it/s]"
     ]
    },
    {
     "name": "stderr",
     "output_type": "stream",
     "text": [
      "\r",
      "Rendering models:  81%|████████▏ | 26/32 [00:21<00:03,  1.82it/s]"
     ]
    },
    {
     "name": "stderr",
     "output_type": "stream",
     "text": [
      "\r",
      "Rendering models:  84%|████████▍ | 27/32 [00:22<00:02,  1.75it/s]"
     ]
    },
    {
     "name": "stderr",
     "output_type": "stream",
     "text": [
      "\r",
      "Rendering models:  88%|████████▊ | 28/32 [00:22<00:02,  1.79it/s]"
     ]
    },
    {
     "name": "stderr",
     "output_type": "stream",
     "text": [
      "\r",
      "Rendering models:  91%|█████████ | 29/32 [00:23<00:01,  1.72it/s]"
     ]
    },
    {
     "name": "stderr",
     "output_type": "stream",
     "text": [
      "\r",
      "Rendering models:  94%|█████████▍| 30/32 [00:23<00:01,  1.65it/s]"
     ]
    },
    {
     "name": "stderr",
     "output_type": "stream",
     "text": [
      "\r",
      "Rendering models:  97%|█████████▋| 31/32 [00:24<00:00,  1.51it/s]"
     ]
    },
    {
     "name": "stderr",
     "output_type": "stream",
     "text": [
      "\r",
      "                                                                 "
     ]
    },
    {
     "name": "stderr",
     "output_type": "stream",
     "text": [
      "\r"
     ]
    },
    {
     "data": {
      "text/plain": [
       "equidad1                              0.054411\n",
       "klmasters                             0.000115\n",
       "BeNjEsSePh                            0.000099\n",
       "Khaazel                               0.000093\n",
       "kayleebug2017                         0.000376\n",
       "bronzesword                           0.000147\n",
       "JessieDawn                            0.000805\n",
       "not-logged-in-ea8ed61a7274cfb6a43b    0.002188\n",
       "Linda_J._Berkel                       0.000164\n",
       "not-logged-in-0b0736c8991a7cc2017a    0.000349\n",
       "StephAChamber                         0.000154\n",
       "ImArobot                              0.003863\n",
       "browny811                             0.000268\n",
       "MeepTastic                            0.000204\n",
       "addison.brooks                        0.003727\n",
       "41Letters                             0.000159\n",
       "pangeli5                              0.000144\n",
       "not-logged-in-9f30f411df9d28d2c541    0.003739\n",
       "mjcb4                                 0.001406\n",
       "not-logged-in-05a6abd41fcd16a89d67    0.000743\n",
       "Mr_DMan                               0.000318\n",
       "Lavadude                              0.034980\n",
       "dragonbits                            0.000536\n",
       "IdeasInSpace                          0.000155\n",
       "not-logged-in-f7a74c3ff6a9f758494e    0.000274\n",
       "DrFloyd                               0.011379\n",
       "Peyton.Harvey                         0.021658\n",
       "not-logged-in-90fc338643bde869b870    0.000720\n",
       "donny1423                             0.001182\n",
       "mariafarhat                           0.001182\n",
       "not-logged-in-906234f52dd4bb00491f    0.001182\n",
       "not-logged-in-906a639f625f28229b9a    0.001182\n",
       "Name: 20902017, dtype: float64"
      ]
     },
     "execution_count": 7,
     "metadata": {},
     "output_type": "execute_result"
    }
   ],
   "source": [
    "losses = get_losses_by_user(subject_id)\n",
    "losses"
   ]
  },
  {
   "cell_type": "code",
   "execution_count": 8,
   "metadata": {
    "collapsed": false,
    "inputHidden": false,
    "outputHidden": false,
    "papermill": {
     "duration": 0.069483,
     "end_time": "2019-09-02T10:20:47.256977",
     "exception": false,
     "start_time": "2019-09-02T10:20:47.187494",
     "status": "completed"
    },
    "tags": []
   },
   "outputs": [
    {
     "data": {
      "application/scrapbook.scrap.json+json": {
       "data": 20902017,
       "encoder": "json",
       "name": "subject_id",
       "version": 1
      }
     },
     "metadata": {
      "scrapbook": {
       "data": true,
       "display": false,
       "name": "subject_id"
      }
     },
     "output_type": "display_data"
    },
    {
     "data": {
      "application/scrapbook.scrap.json+json": {
       "data": {
        "41Letters": 0.00015917851153647797,
        "BeNjEsSePh": 9.91691197374422e-05,
        "DrFloyd": 0.0113788782026466,
        "IdeasInSpace": 0.00015523518567524394,
        "ImArobot": 0.0038634336223048395,
        "JessieDawn": 0.0008052529427272306,
        "Khaazel": 9.335069918899505e-05,
        "Lavadude": 0.03498019229836989,
        "Linda_J._Berkel": 0.0001640474053806508,
        "MeepTastic": 0.0002038975594725707,
        "Mr_DMan": 0.000318068332984554,
        "Peyton.Harvey": 0.021657698166049805,
        "StephAChamber": 0.00015424136667050527,
        "addison.brooks": 0.00372749758312644,
        "bronzesword": 0.00014659168171596564,
        "browny811": 0.0002684915809783445,
        "donny1423": 0.00118220567153159,
        "dragonbits": 0.000535720490774736,
        "equidad1": 0.05441097822650419,
        "kayleebug2017": 0.00037623311790350105,
        "klmasters": 0.00011534134722498205,
        "mariafarhat": 0.00118220567153159,
        "mjcb4": 0.0014062837448387457,
        "not-logged-in-05a6abd41fcd16a89d67": 0.0007428803309829525,
        "not-logged-in-0b0736c8991a7cc2017a": 0.00034927235342151094,
        "not-logged-in-906234f52dd4bb00491f": 0.00118220567153159,
        "not-logged-in-906a639f625f28229b9a": 0.00118220567153159,
        "not-logged-in-90fc338643bde869b870": 0.0007204747345913429,
        "not-logged-in-9f30f411df9d28d2c541": 0.003738555372229773,
        "not-logged-in-ea8ed61a7274cfb6a43b": 0.0021883270027776335,
        "not-logged-in-f7a74c3ff6a9f758494e": 0.0002744588626133608,
        "pangeli5": 0.00014399404648319294
       },
       "encoder": "json",
       "name": "losses",
       "version": 1
      }
     },
     "metadata": {
      "scrapbook": {
       "data": true,
       "display": false,
       "name": "losses"
      }
     },
     "output_type": "display_data"
    }
   ],
   "source": [
    "sb.glue('subject_id', subject_id)\n",
    "sb.glue('losses', losses.to_dict())"
   ]
  }
 ],
 "metadata": {
  "kernel_info": {
   "name": "python3"
  },
  "kernelspec": {
   "display_name": "Python 3",
   "language": "python",
   "name": "python3"
  },
  "language_info": {
   "codemirror_mode": {
    "name": "ipython",
    "version": 3
   },
   "file_extension": ".py",
   "mimetype": "text/x-python",
   "name": "python",
   "nbconvert_exporter": "python",
   "pygments_lexer": "ipython3",
   "version": "3.7.3"
  },
  "nteract": {
   "version": "0.14.3"
  },
  "papermill": {
   "duration": 37.026457,
   "end_time": "2019-09-02T10:20:48.759156",
   "environment_variables": {},
   "exception": null,
   "input_path": "/users/tingard/gzbuilder_results/input_files/volunteer_losses.ipynb",
   "output_path": "/users/tingard/gzbuilder_results/output_files/volunteer_losses/20902017.ipynb",
   "parameters": {
    "subject_id": 20902017
   },
   "start_time": "2019-09-02T10:20:11.732699",
   "version": "1.0.1"
  }
 },
 "nbformat": 4,
 "nbformat_minor": 0
}