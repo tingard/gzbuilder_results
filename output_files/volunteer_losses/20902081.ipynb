{
 "cells": [
  {
   "cell_type": "markdown",
   "metadata": {
    "papermill": {
     "duration": 0.007666,
     "end_time": "2019-09-02T10:20:15.430476",
     "exception": false,
     "start_time": "2019-09-02T10:20:15.422810",
     "status": "completed"
    },
    "tags": []
   },
   "source": [
    "# Volunteer model loss calculation\n",
    "\n",
    "This notebook takes a `subject_id` and calculates the MSE of each volunteer's model to the galaxy data. These losses are then glued to the notebook for use elsewhere."
   ]
  },
  {
   "cell_type": "code",
   "execution_count": 1,
   "metadata": {
    "collapsed": false,
    "inputHidden": false,
    "outputHidden": false,
    "papermill": {
     "duration": 0.100199,
     "end_time": "2019-09-02T10:20:15.537964",
     "exception": false,
     "start_time": "2019-09-02T10:20:15.437765",
     "status": "completed"
    },
    "tags": []
   },
   "outputs": [],
   "source": [
    "%load_ext autoreload\n",
    "%autoreload 2"
   ]
  },
  {
   "cell_type": "code",
   "execution_count": 2,
   "metadata": {
    "collapsed": false,
    "inputHidden": false,
    "outputHidden": false,
    "papermill": {
     "duration": 7.389649,
     "end_time": "2019-09-02T10:20:22.936099",
     "exception": false,
     "start_time": "2019-09-02T10:20:15.546450",
     "status": "completed"
    },
    "tags": []
   },
   "outputs": [
    {
     "name": "stderr",
     "output_type": "stream",
     "text": [
      "/opt/apps/pkgs/anaconda3/2019.03/intel64/lib/python3.7/site-packages/dask/config.py:168: YAMLLoadWarning: calling yaml.load() without Loader=... is deprecated, as the default Loader is unsafe. Please read https://msg.pyyaml.org/load for full details.\n",
      "  data = yaml.load(f.read()) or {}\n"
     ]
    }
   ],
   "source": [
    "import json\n",
    "import numpy as np\n",
    "import pandas as pd\n",
    "from tqdm import tqdm\n",
    "import matplotlib.pyplot as plt\n",
    "import seaborn as sns\n",
    "from gzbuilder_analysis import parsing, rendering, fitting\n",
    "import lib.galaxy_utilities as gu\n",
    "import scrapbook as sb"
   ]
  },
  {
   "cell_type": "code",
   "execution_count": 3,
   "metadata": {
    "collapsed": false,
    "inputHidden": false,
    "outputHidden": false,
    "papermill": {
     "duration": 0.043383,
     "end_time": "2019-09-02T10:20:22.989312",
     "exception": false,
     "start_time": "2019-09-02T10:20:22.945929",
     "status": "completed"
    },
    "tags": [
     "parameters"
    ]
   },
   "outputs": [],
   "source": [
    "subject_id = 20902040"
   ]
  },
  {
   "cell_type": "code",
   "execution_count": 4,
   "metadata": {
    "papermill": {
     "duration": 5.49982,
     "end_time": "2019-09-02T10:20:28.499963",
     "exception": false,
     "start_time": "2019-09-02T10:20:23.000143",
     "status": "completed"
    },
    "tags": [
     "injected-parameters"
    ]
   },
   "outputs": [
    {
     "name": "stdout",
     "output_type": "stream",
     "text": [
      "The history saving thread hit an unexpected error (OperationalError('database is locked')).History will not be written to the database."
     ]
    },
    {
     "name": "stdout",
     "output_type": "stream",
     "text": [
      "\n"
     ]
    }
   ],
   "source": [
    "# Parameters\n",
    "subject_id = 20902081\n"
   ]
  },
  {
   "cell_type": "code",
   "execution_count": 5,
   "metadata": {
    "collapsed": false,
    "inputHidden": false,
    "outputHidden": false,
    "papermill": {
     "duration": 0.157386,
     "end_time": "2019-09-02T10:20:28.665242",
     "exception": false,
     "start_time": "2019-09-02T10:20:28.507856",
     "status": "completed"
    },
    "tags": []
   },
   "outputs": [],
   "source": [
    "diff_data_df = pd.read_pickle('lib/fitting_metadata.pkl')"
   ]
  },
  {
   "cell_type": "code",
   "execution_count": 6,
   "metadata": {
    "collapsed": false,
    "inputHidden": false,
    "outputHidden": false,
    "papermill": {
     "duration": 0.055625,
     "end_time": "2019-09-02T10:20:28.729963",
     "exception": false,
     "start_time": "2019-09-02T10:20:28.674338",
     "status": "completed"
    },
    "tags": []
   },
   "outputs": [],
   "source": [
    "def get_losses_by_user(subject_id):\n",
    "  diff_data = diff_data_df.loc[subject_id]\n",
    "  psf = diff_data['psf']\n",
    "  pixel_mask = np.array(diff_data['pixel_mask'])[::-1]\n",
    "  galaxy_data = np.array(diff_data['galaxy_data'])[::-1]\n",
    "  image_size = galaxy_data.shape[0]\n",
    "  size_diff = diff_data['size_diff']\n",
    "  \n",
    "  cls = gu.classifications.query('subject_ids == {}'.format(subject_id))\n",
    "  names = cls.user_name \n",
    "  annotations = cls['annotations'].apply(json.loads)\n",
    "\n",
    "  models = annotations.apply(\n",
    "    parsing.parse_annotation,\n",
    "    size_diff=size_diff\n",
    "  )\n",
    "\n",
    "  tqdm.pandas(\n",
    "    desc='Rendering models'.format(subject_id),\n",
    "    leave=False\n",
    "  )\n",
    "  rendered = models.progress_apply(\n",
    "    rendering.calculate_model,\n",
    "    image_size=image_size,\n",
    "    psf=psf\n",
    "  ).rename('rendered')\n",
    "\n",
    "  tqdm.pandas(\n",
    "    desc='Calculating differences'.format(subject_id),\n",
    "    leave=False\n",
    "  )\n",
    "  losses = rendered.apply(\n",
    "    fitting.loss,\n",
    "    args=(galaxy_data, pixel_mask)\n",
    "  ).rename('loss')\n",
    "  all_losses = pd.Series(\n",
    "    losses.values,\n",
    "    index=names.values\n",
    "  ).rename(subject_id)\n",
    "  best_losses = pd.concat((\n",
    "    all_losses.where(\n",
    "      ~all_losses.duplicated(keep=False)\n",
    "    ).dropna(), # all non-duplicates\n",
    "    all_losses.where(\n",
    "      all_losses.duplicated(keep=False)\n",
    "    ).dropna().groupby(level=0).min() # best value of duplicates\n",
    "  ), axis=0)\n",
    "  return best_losses"
   ]
  },
  {
   "cell_type": "code",
   "execution_count": 7,
   "metadata": {
    "collapsed": false,
    "inputHidden": false,
    "outputHidden": false,
    "papermill": {
     "duration": 21.500706,
     "end_time": "2019-09-02T10:20:50.240742",
     "exception": false,
     "start_time": "2019-09-02T10:20:28.740036",
     "status": "completed"
    },
    "tags": []
   },
   "outputs": [
    {
     "name": "stderr",
     "output_type": "stream",
     "text": [
      "\r",
      "Rendering models:   0%|          | 0/98 [00:00<?, ?it/s]"
     ]
    },
    {
     "name": "stderr",
     "output_type": "stream",
     "text": [
      "\r",
      "Rendering models:   2%|▏         | 2/98 [00:02<02:20,  1.46s/it]"
     ]
    },
    {
     "name": "stderr",
     "output_type": "stream",
     "text": [
      "\r",
      "Rendering models:   3%|▎         | 3/98 [00:05<02:58,  1.87s/it]"
     ]
    },
    {
     "name": "stderr",
     "output_type": "stream",
     "text": [
      "\r",
      "Rendering models:   4%|▍         | 4/98 [00:05<02:07,  1.35s/it]"
     ]
    },
    {
     "name": "stderr",
     "output_type": "stream",
     "text": [
      "\r",
      "Rendering models:   5%|▌         | 5/98 [00:06<01:32,  1.01it/s]"
     ]
    },
    {
     "name": "stderr",
     "output_type": "stream",
     "text": [
      "\r",
      "Rendering models:   6%|▌         | 6/98 [00:06<01:08,  1.35it/s]"
     ]
    },
    {
     "name": "stderr",
     "output_type": "stream",
     "text": [
      "\r",
      "Rendering models:   7%|▋         | 7/98 [00:06<00:51,  1.77it/s]"
     ]
    },
    {
     "name": "stderr",
     "output_type": "stream",
     "text": [
      "\r",
      "Rendering models:   8%|▊         | 8/98 [00:06<00:40,  2.22it/s]"
     ]
    },
    {
     "name": "stderr",
     "output_type": "stream",
     "text": [
      "\r",
      "Rendering models:   9%|▉         | 9/98 [00:06<00:32,  2.74it/s]"
     ]
    },
    {
     "name": "stderr",
     "output_type": "stream",
     "text": [
      "\r",
      "Rendering models:  10%|█         | 10/98 [00:06<00:26,  3.33it/s]"
     ]
    },
    {
     "name": "stderr",
     "output_type": "stream",
     "text": [
      "\r",
      "Rendering models:  11%|█         | 11/98 [00:07<00:22,  3.93it/s]"
     ]
    },
    {
     "name": "stderr",
     "output_type": "stream",
     "text": [
      "\r",
      "Rendering models:  12%|█▏        | 12/98 [00:07<00:20,  4.17it/s]"
     ]
    },
    {
     "name": "stderr",
     "output_type": "stream",
     "text": [
      "\r",
      "Rendering models:  13%|█▎        | 13/98 [00:07<00:18,  4.62it/s]"
     ]
    },
    {
     "name": "stderr",
     "output_type": "stream",
     "text": [
      "\r",
      "Rendering models:  15%|█▌        | 15/98 [00:09<00:36,  2.27it/s]"
     ]
    },
    {
     "name": "stderr",
     "output_type": "stream",
     "text": [
      "\r",
      "Rendering models:  16%|█▋        | 16/98 [00:09<00:29,  2.77it/s]"
     ]
    },
    {
     "name": "stderr",
     "output_type": "stream",
     "text": [
      "\r",
      "Rendering models:  17%|█▋        | 17/98 [00:09<00:24,  3.29it/s]"
     ]
    },
    {
     "name": "stderr",
     "output_type": "stream",
     "text": [
      "\r",
      "Rendering models:  18%|█▊        | 18/98 [00:09<00:21,  3.70it/s]"
     ]
    },
    {
     "name": "stderr",
     "output_type": "stream",
     "text": [
      "\r",
      "Rendering models:  19%|█▉        | 19/98 [00:10<00:19,  4.03it/s]"
     ]
    },
    {
     "name": "stderr",
     "output_type": "stream",
     "text": [
      "\r",
      "Rendering models:  20%|██        | 20/98 [00:10<00:16,  4.63it/s]"
     ]
    },
    {
     "name": "stderr",
     "output_type": "stream",
     "text": [
      "\r",
      "Rendering models:  21%|██▏       | 21/98 [00:10<00:15,  5.08it/s]"
     ]
    },
    {
     "name": "stderr",
     "output_type": "stream",
     "text": [
      "\r",
      "Rendering models:  27%|██▋       | 26/98 [00:10<00:10,  6.60it/s]"
     ]
    },
    {
     "name": "stderr",
     "output_type": "stream",
     "text": [
      "\r",
      "Rendering models:  29%|██▊       | 28/98 [00:10<00:10,  6.50it/s]"
     ]
    },
    {
     "name": "stderr",
     "output_type": "stream",
     "text": [
      "\r",
      "Rendering models:  30%|██▉       | 29/98 [00:11<00:11,  6.21it/s]"
     ]
    },
    {
     "name": "stderr",
     "output_type": "stream",
     "text": [
      "\r",
      "Rendering models:  31%|███       | 30/98 [00:11<00:10,  6.34it/s]"
     ]
    },
    {
     "name": "stderr",
     "output_type": "stream",
     "text": [
      "\r",
      "Rendering models:  32%|███▏      | 31/98 [00:11<00:11,  5.80it/s]"
     ]
    },
    {
     "name": "stderr",
     "output_type": "stream",
     "text": [
      "\r",
      "Rendering models:  33%|███▎      | 32/98 [00:11<00:14,  4.57it/s]"
     ]
    },
    {
     "name": "stderr",
     "output_type": "stream",
     "text": [
      "\r",
      "Rendering models:  34%|███▎      | 33/98 [00:11<00:12,  5.18it/s]"
     ]
    },
    {
     "name": "stderr",
     "output_type": "stream",
     "text": [
      "\r",
      "Rendering models:  35%|███▍      | 34/98 [00:12<00:12,  5.28it/s]"
     ]
    },
    {
     "name": "stderr",
     "output_type": "stream",
     "text": [
      "\r",
      "Rendering models:  37%|███▋      | 36/98 [00:12<00:10,  6.09it/s]"
     ]
    },
    {
     "name": "stderr",
     "output_type": "stream",
     "text": [
      "\r",
      "Rendering models:  38%|███▊      | 37/98 [00:12<00:10,  5.94it/s]"
     ]
    },
    {
     "name": "stderr",
     "output_type": "stream",
     "text": [
      "\r",
      "Rendering models:  39%|███▉      | 38/98 [00:12<00:12,  4.67it/s]"
     ]
    },
    {
     "name": "stderr",
     "output_type": "stream",
     "text": [
      "\r",
      "Rendering models:  40%|███▉      | 39/98 [00:12<00:11,  5.14it/s]"
     ]
    },
    {
     "name": "stderr",
     "output_type": "stream",
     "text": [
      "\r",
      "Rendering models:  41%|████      | 40/98 [00:13<00:14,  4.12it/s]"
     ]
    },
    {
     "name": "stderr",
     "output_type": "stream",
     "text": [
      "\r",
      "Rendering models:  42%|████▏     | 41/98 [00:13<00:15,  3.68it/s]"
     ]
    },
    {
     "name": "stderr",
     "output_type": "stream",
     "text": [
      "\r",
      "Rendering models:  43%|████▎     | 42/98 [00:13<00:14,  3.97it/s]"
     ]
    },
    {
     "name": "stderr",
     "output_type": "stream",
     "text": [
      "\r",
      "Rendering models:  45%|████▍     | 44/98 [00:13<00:10,  5.03it/s]"
     ]
    },
    {
     "name": "stderr",
     "output_type": "stream",
     "text": [
      "\r",
      "Rendering models:  46%|████▌     | 45/98 [00:14<00:10,  5.16it/s]"
     ]
    },
    {
     "name": "stderr",
     "output_type": "stream",
     "text": [
      "\r",
      "Rendering models:  47%|████▋     | 46/98 [00:14<00:12,  4.30it/s]"
     ]
    },
    {
     "name": "stderr",
     "output_type": "stream",
     "text": [
      "\r",
      "Rendering models:  48%|████▊     | 47/98 [00:14<00:11,  4.55it/s]"
     ]
    },
    {
     "name": "stderr",
     "output_type": "stream",
     "text": [
      "\r",
      "Rendering models:  49%|████▉     | 48/98 [00:14<00:10,  4.84it/s]"
     ]
    },
    {
     "name": "stderr",
     "output_type": "stream",
     "text": [
      "\r",
      "Rendering models:  51%|█████     | 50/98 [00:15<00:08,  5.71it/s]"
     ]
    },
    {
     "name": "stderr",
     "output_type": "stream",
     "text": [
      "\r",
      "Rendering models:  52%|█████▏    | 51/98 [00:15<00:08,  5.45it/s]"
     ]
    },
    {
     "name": "stderr",
     "output_type": "stream",
     "text": [
      "\r",
      "Rendering models:  54%|█████▍    | 53/98 [00:15<00:08,  5.59it/s]"
     ]
    },
    {
     "name": "stderr",
     "output_type": "stream",
     "text": [
      "\r",
      "Rendering models:  55%|█████▌    | 54/98 [00:15<00:08,  5.43it/s]"
     ]
    },
    {
     "name": "stderr",
     "output_type": "stream",
     "text": [
      "\r",
      "Rendering models:  56%|█████▌    | 55/98 [00:15<00:08,  5.34it/s]"
     ]
    },
    {
     "name": "stderr",
     "output_type": "stream",
     "text": [
      "\r",
      "Rendering models:  57%|█████▋    | 56/98 [00:16<00:08,  5.21it/s]"
     ]
    },
    {
     "name": "stderr",
     "output_type": "stream",
     "text": [
      "\r",
      "Rendering models:  58%|█████▊    | 57/98 [00:16<00:08,  4.94it/s]"
     ]
    },
    {
     "name": "stderr",
     "output_type": "stream",
     "text": [
      "\r",
      "Rendering models:  61%|██████    | 60/98 [00:16<00:05,  6.41it/s]"
     ]
    },
    {
     "name": "stderr",
     "output_type": "stream",
     "text": [
      "\r",
      "Rendering models:  62%|██████▏   | 61/98 [00:16<00:06,  6.01it/s]"
     ]
    },
    {
     "name": "stderr",
     "output_type": "stream",
     "text": [
      "\r",
      "Rendering models:  63%|██████▎   | 62/98 [00:16<00:06,  5.76it/s]"
     ]
    },
    {
     "name": "stderr",
     "output_type": "stream",
     "text": [
      "\r",
      "Rendering models:  64%|██████▍   | 63/98 [00:17<00:06,  5.60it/s]"
     ]
    },
    {
     "name": "stderr",
     "output_type": "stream",
     "text": [
      "\r",
      "Rendering models:  66%|██████▋   | 65/98 [00:17<00:05,  6.12it/s]"
     ]
    },
    {
     "name": "stderr",
     "output_type": "stream",
     "text": [
      "\r",
      "Rendering models:  69%|██████▉   | 68/98 [00:17<00:04,  7.43it/s]"
     ]
    },
    {
     "name": "stderr",
     "output_type": "stream",
     "text": [
      "\r",
      "Rendering models:  70%|███████   | 69/98 [00:17<00:04,  6.54it/s]"
     ]
    },
    {
     "name": "stderr",
     "output_type": "stream",
     "text": [
      "\r",
      "Rendering models:  71%|███████▏  | 70/98 [00:17<00:04,  6.05it/s]"
     ]
    },
    {
     "name": "stderr",
     "output_type": "stream",
     "text": [
      "\r",
      "Rendering models:  78%|███████▊  | 76/98 [00:18<00:02,  8.08it/s]"
     ]
    },
    {
     "name": "stderr",
     "output_type": "stream",
     "text": [
      "\r",
      "Rendering models:  80%|███████▉  | 78/98 [00:18<00:02,  7.37it/s]"
     ]
    },
    {
     "name": "stderr",
     "output_type": "stream",
     "text": [
      "\r",
      "Rendering models:  82%|████████▏ | 80/98 [00:18<00:02,  7.11it/s]"
     ]
    },
    {
     "name": "stderr",
     "output_type": "stream",
     "text": [
      "\r",
      "Rendering models:  84%|████████▎ | 82/98 [00:18<00:02,  7.75it/s]"
     ]
    },
    {
     "name": "stderr",
     "output_type": "stream",
     "text": [
      "\r",
      "Rendering models:  86%|████████▌ | 84/98 [00:19<00:01,  8.91it/s]"
     ]
    },
    {
     "name": "stderr",
     "output_type": "stream",
     "text": [
      "\r",
      "Rendering models:  88%|████████▊ | 86/98 [00:19<00:01,  8.35it/s]"
     ]
    },
    {
     "name": "stderr",
     "output_type": "stream",
     "text": [
      "\r",
      "Rendering models:  90%|████████▉ | 88/98 [00:19<00:01,  7.83it/s]"
     ]
    },
    {
     "name": "stderr",
     "output_type": "stream",
     "text": [
      "\r",
      "Rendering models:  91%|█████████ | 89/98 [00:19<00:01,  7.66it/s]"
     ]
    },
    {
     "name": "stderr",
     "output_type": "stream",
     "text": [
      "\r",
      "Rendering models:  92%|█████████▏| 90/98 [00:20<00:01,  5.30it/s]"
     ]
    },
    {
     "name": "stderr",
     "output_type": "stream",
     "text": [
      "\r",
      "Rendering models:  93%|█████████▎| 91/98 [00:20<00:01,  5.02it/s]"
     ]
    },
    {
     "name": "stderr",
     "output_type": "stream",
     "text": [
      "\r",
      "Rendering models:  95%|█████████▍| 93/98 [00:20<00:00,  5.55it/s]"
     ]
    },
    {
     "name": "stderr",
     "output_type": "stream",
     "text": [
      "\r",
      "Rendering models:  96%|█████████▌| 94/98 [00:20<00:00,  6.00it/s]"
     ]
    },
    {
     "name": "stderr",
     "output_type": "stream",
     "text": [
      "\r",
      "Rendering models:  98%|█████████▊| 96/98 [00:20<00:00,  6.61it/s]"
     ]
    },
    {
     "name": "stderr",
     "output_type": "stream",
     "text": [
      "\r",
      "Rendering models: 100%|██████████| 98/98 [00:21<00:00,  6.84it/s]"
     ]
    },
    {
     "name": "stderr",
     "output_type": "stream",
     "text": [
      "\r",
      "                                                                 "
     ]
    },
    {
     "name": "stderr",
     "output_type": "stream",
     "text": [
      "\r"
     ]
    },
    {
     "data": {
      "text/plain": [
       "kayleebug2017                         0.001192\n",
       "equidad1                              0.115000\n",
       "not-logged-in-587a4e9ad373b8ff5983    0.000501\n",
       "Thedunkmasta                          0.002865\n",
       "Thedunkmasta                          0.001094\n",
       "Thedunkmasta                          0.003193\n",
       "Thedunkmasta                          0.002366\n",
       "Thedunkmasta                          0.002922\n",
       "Thedunkmasta                          0.002102\n",
       "Thedunkmasta                          0.002041\n",
       "not-logged-in-7526601586eaa938b3ee    0.000991\n",
       "Thedunkmasta                          0.002052\n",
       "mlang2017                             0.004587\n",
       "ElisabethB                            0.143156\n",
       "not-logged-in-f696328c08d99f1bed52    0.039911\n",
       "Linda_J._Berkel                       0.000158\n",
       "Jeff_H1117                            0.000665\n",
       "next_ghost                            0.000296\n",
       "5404                                  0.004036\n",
       "GabeGramy                             0.073031\n",
       "msalin03                              0.000235\n",
       "clizardo                              0.000200\n",
       "msross                                0.000289\n",
       "clizardo                              0.000273\n",
       "mkirms                                0.000206\n",
       "msross                                0.000287\n",
       "M_Mij                                 0.002749\n",
       "not-logged-in-988154c28a4325297d39    0.000271\n",
       "djcameron                             0.045088\n",
       "wthammas                              0.000262\n",
       "                                        ...   \n",
       "CBAIN25                               0.233556\n",
       "dmosier13                             0.000850\n",
       "not-logged-in-666ec8d326b84bd03ae7    0.013801\n",
       "tdrabic                               0.000607\n",
       "campanellimichael13                   0.001284\n",
       "not-logged-in-812b279e0836b083d452    0.000179\n",
       "not-logged-in-812b279e0836b083d452    0.000359\n",
       "not-logged-in-812b279e0836b083d452    0.000228\n",
       "not-logged-in-812b279e0836b083d452    0.000180\n",
       "not-logged-in-812b279e0836b083d452    0.000173\n",
       "not-logged-in-cd6a5cac0334cc279337    0.000701\n",
       "not-logged-in-d411d5962a8683bacd26    0.000375\n",
       "not-logged-in-2a1f5badd63f1820cd31    0.011866\n",
       "heathmonie                            0.001356\n",
       "aardvark321                           0.000670\n",
       "ksheahon                              0.001460\n",
       "lmhob14                               0.000494\n",
       "aardvark321                           0.001110\n",
       "Getrekt10127                          0.319442\n",
       "collinxXgrimreap                      0.741971\n",
       "Lavadude                              0.001676\n",
       "campanellimichael13                   0.001676\n",
       "ckkmomma                              0.001676\n",
       "ksheahon                              0.001676\n",
       "ncaro                                 0.001676\n",
       "not-logged-in-5c839cae495725bc5ca6    0.001676\n",
       "not-logged-in-a45684d5dcbc9f255b0d    0.001676\n",
       "not-logged-in-a6b3db41189fc06a8f24    0.001676\n",
       "not-logged-in-bcf0a63d16e116a99e14    0.001676\n",
       "not-logged-in-f7e2260ed4a9517a3e4a    0.001676\n",
       "Name: 20902081, Length: 89, dtype: float64"
      ]
     },
     "execution_count": 7,
     "metadata": {},
     "output_type": "execute_result"
    }
   ],
   "source": [
    "losses = get_losses_by_user(subject_id)\n",
    "losses"
   ]
  },
  {
   "cell_type": "code",
   "execution_count": 8,
   "metadata": {
    "collapsed": false,
    "inputHidden": false,
    "outputHidden": false,
    "papermill": {
     "duration": 0.07994,
     "end_time": "2019-09-02T10:20:50.345756",
     "exception": false,
     "start_time": "2019-09-02T10:20:50.265816",
     "status": "completed"
    },
    "tags": []
   },
   "outputs": [
    {
     "data": {
      "application/scrapbook.scrap.json+json": {
       "data": 20902081,
       "encoder": "json",
       "name": "subject_id",
       "version": 1
      }
     },
     "metadata": {
      "scrapbook": {
       "data": true,
       "display": false,
       "name": "subject_id"
      }
     },
     "output_type": "display_data"
    },
    {
     "data": {
      "application/scrapbook.scrap.json+json": {
       "data": {
        "5404": 0.004036218595523493,
        "AlyasTheGrey": 0.11589572626750098,
        "BENbesabe": 0.0024269987507185456,
        "CBAIN25": 0.23355598314174594,
        "ElisabethB": 0.14315585032710482,
        "GabeGramy": 0.07303111729739804,
        "Getrekt10127": 0.3194419045054031,
        "Jeff_H1117": 0.0006649705440318049,
        "Lavadude": 0.0016756217201790247,
        "Linda_J._Berkel": 0.00015795731774199175,
        "M_Mij": 0.0027491577966945987,
        "Rian_NL": 0.034303227986622796,
        "Thedunkmasta": 0.002052399705555969,
        "aardvark321": 0.0011095493150427053,
        "campanellimichael13": 0.0016756217201790247,
        "cchen88": 0.00024140821751889857,
        "ckkmomma": 0.0016756217201790247,
        "clizardo": 0.0002726259519216392,
        "coleman73": 0.0002337911388075762,
        "collinxXgrimreap": 0.741970741359066,
        "creinbol": 0.00030733394878119957,
        "denzel.ayala": 0.00432801437226305,
        "djcameron": 0.04508842563387396,
        "dmosier13": 0.000850010085647636,
        "edgardo.e.nogueira": 0.008253874773825871,
        "equidad1": 0.1149995561461072,
        "heathmonie": 0.0013562433866151427,
        "kayleebug2017": 0.0011924795025996594,
        "ksheahon": 0.0016756217201790247,
        "lmhob14": 0.0004935078554367162,
        "mkirms": 0.00020555512885918513,
        "mlang2017": 0.0045870100903415345,
        "msalin03": 0.00023506343691580213,
        "msross": 0.0002868621637026807,
        "ncaro": 0.0016756217201790247,
        "next_ghost": 0.00029605122772022037,
        "not-logged-in-1aabaffcb04e9101cafc": 0.000210631034755758,
        "not-logged-in-2a1f5badd63f1820cd31": 0.011866169567279697,
        "not-logged-in-587a4e9ad373b8ff5983": 0.0005005708425159131,
        "not-logged-in-5c839cae495725bc5ca6": 0.0016756217201790247,
        "not-logged-in-666ec8d326b84bd03ae7": 0.013800896547200051,
        "not-logged-in-7526601586eaa938b3ee": 0.000991173324178955,
        "not-logged-in-753d372f0bb2bf727eb3": 0.0004034554496160942,
        "not-logged-in-812b279e0836b083d452": 0.00017282959511767904,
        "not-logged-in-8725d092ae2eab632e17": 0.2296114264311936,
        "not-logged-in-988154c28a4325297d39": 0.00027132807733923114,
        "not-logged-in-a45684d5dcbc9f255b0d": 0.0016756217201790247,
        "not-logged-in-a6b3db41189fc06a8f24": 0.0016756217201790247,
        "not-logged-in-a6f538990ba1cfbce226": 10.108387963316959,
        "not-logged-in-ab698bcb134647deaa71": 0.06309944635284301,
        "not-logged-in-b2405a00b7424e04af17": 0.006055254354148736,
        "not-logged-in-bcf0a63d16e116a99e14": 0.0016756217201790247,
        "not-logged-in-cd6a5cac0334cc279337": 0.0007009876127979669,
        "not-logged-in-d411d5962a8683bacd26": 0.000375367673449741,
        "not-logged-in-f696328c08d99f1bed52": 0.03991059659263226,
        "not-logged-in-f7e2260ed4a9517a3e4a": 0.0016756217201790247,
        "sn346808": 0.01635470604600129,
        "tdrabic": 0.0006065541286170681,
        "wthammas": 0.00026172112749989104
       },
       "encoder": "json",
       "name": "losses",
       "version": 1
      }
     },
     "metadata": {
      "scrapbook": {
       "data": true,
       "display": false,
       "name": "losses"
      }
     },
     "output_type": "display_data"
    }
   ],
   "source": [
    "sb.glue('subject_id', subject_id)\n",
    "sb.glue('losses', losses.to_dict())"
   ]
  }
 ],
 "metadata": {
  "kernel_info": {
   "name": "python3"
  },
  "kernelspec": {
   "display_name": "Python 3",
   "language": "python",
   "name": "python3"
  },
  "language_info": {
   "codemirror_mode": {
    "name": "ipython",
    "version": 3
   },
   "file_extension": ".py",
   "mimetype": "text/x-python",
   "name": "python",
   "nbconvert_exporter": "python",
   "pygments_lexer": "ipython3",
   "version": "3.7.3"
  },
  "nteract": {
   "version": "0.14.3"
  },
  "papermill": {
   "duration": 39.326578,
   "end_time": "2019-09-02T10:20:52.376414",
   "environment_variables": {},
   "exception": null,
   "input_path": "/users/tingard/gzbuilder_results/input_files/volunteer_losses.ipynb",
   "output_path": "/users/tingard/gzbuilder_results/output_files/volunteer_losses/20902081.ipynb",
   "parameters": {
    "subject_id": 20902081
   },
   "start_time": "2019-09-02T10:20:13.049836",
   "version": "1.0.1"
  }
 },
 "nbformat": 4,
 "nbformat_minor": 0
}