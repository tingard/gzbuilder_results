{
 "cells": [
  {
   "cell_type": "markdown",
   "metadata": {
    "papermill": {
     "duration": 0.008809,
     "end_time": "2019-09-02T10:20:14.303372",
     "exception": false,
     "start_time": "2019-09-02T10:20:14.294563",
     "status": "completed"
    },
    "tags": []
   },
   "source": [
    "# Volunteer model loss calculation\n",
    "\n",
    "This notebook takes a `subject_id` and calculates the MSE of each volunteer's model to the galaxy data. These losses are then glued to the notebook for use elsewhere."
   ]
  },
  {
   "cell_type": "code",
   "execution_count": 1,
   "metadata": {
    "collapsed": false,
    "inputHidden": false,
    "outputHidden": false,
    "papermill": {
     "duration": 0.024262,
     "end_time": "2019-09-02T10:20:14.336618",
     "exception": false,
     "start_time": "2019-09-02T10:20:14.312356",
     "status": "completed"
    },
    "tags": []
   },
   "outputs": [],
   "source": [
    "%load_ext autoreload\n",
    "%autoreload 2"
   ]
  },
  {
   "cell_type": "code",
   "execution_count": 2,
   "metadata": {
    "collapsed": false,
    "inputHidden": false,
    "outputHidden": false,
    "papermill": {
     "duration": 5.15199,
     "end_time": "2019-09-02T10:20:19.495914",
     "exception": false,
     "start_time": "2019-09-02T10:20:14.343924",
     "status": "completed"
    },
    "tags": []
   },
   "outputs": [
    {
     "name": "stderr",
     "output_type": "stream",
     "text": [
      "/opt/apps/pkgs/anaconda3/2019.03/intel64/lib/python3.7/site-packages/dask/config.py:168: YAMLLoadWarning: calling yaml.load() without Loader=... is deprecated, as the default Loader is unsafe. Please read https://msg.pyyaml.org/load for full details.\n",
      "  data = yaml.load(f.read()) or {}\n"
     ]
    }
   ],
   "source": [
    "import json\n",
    "import numpy as np\n",
    "import pandas as pd\n",
    "from tqdm import tqdm\n",
    "import matplotlib.pyplot as plt\n",
    "import seaborn as sns\n",
    "from gzbuilder_analysis import parsing, rendering, fitting\n",
    "import lib.galaxy_utilities as gu\n",
    "import scrapbook as sb"
   ]
  },
  {
   "cell_type": "code",
   "execution_count": 3,
   "metadata": {
    "collapsed": false,
    "inputHidden": false,
    "outputHidden": false,
    "papermill": {
     "duration": 0.047679,
     "end_time": "2019-09-02T10:20:19.552131",
     "exception": false,
     "start_time": "2019-09-02T10:20:19.504452",
     "status": "completed"
    },
    "tags": [
     "parameters"
    ]
   },
   "outputs": [],
   "source": [
    "subject_id = 20902040"
   ]
  },
  {
   "cell_type": "code",
   "execution_count": 4,
   "metadata": {
    "papermill": {
     "duration": 0.08626,
     "end_time": "2019-09-02T10:20:19.647182",
     "exception": false,
     "start_time": "2019-09-02T10:20:19.560922",
     "status": "completed"
    },
    "tags": [
     "injected-parameters"
    ]
   },
   "outputs": [],
   "source": [
    "# Parameters\n",
    "subject_id = 20902086\n"
   ]
  },
  {
   "cell_type": "code",
   "execution_count": 5,
   "metadata": {
    "collapsed": false,
    "inputHidden": false,
    "outputHidden": false,
    "papermill": {
     "duration": 0.342506,
     "end_time": "2019-09-02T10:20:19.999045",
     "exception": false,
     "start_time": "2019-09-02T10:20:19.656539",
     "status": "completed"
    },
    "tags": []
   },
   "outputs": [],
   "source": [
    "diff_data_df = pd.read_pickle('lib/fitting_metadata.pkl')"
   ]
  },
  {
   "cell_type": "code",
   "execution_count": 6,
   "metadata": {
    "collapsed": false,
    "inputHidden": false,
    "outputHidden": false,
    "papermill": {
     "duration": 0.04463,
     "end_time": "2019-09-02T10:20:20.050922",
     "exception": false,
     "start_time": "2019-09-02T10:20:20.006292",
     "status": "completed"
    },
    "tags": []
   },
   "outputs": [],
   "source": [
    "def get_losses_by_user(subject_id):\n",
    "  diff_data = diff_data_df.loc[subject_id]\n",
    "  psf = diff_data['psf']\n",
    "  pixel_mask = np.array(diff_data['pixel_mask'])[::-1]\n",
    "  galaxy_data = np.array(diff_data['galaxy_data'])[::-1]\n",
    "  image_size = galaxy_data.shape[0]\n",
    "  size_diff = diff_data['size_diff']\n",
    "  \n",
    "  cls = gu.classifications.query('subject_ids == {}'.format(subject_id))\n",
    "  names = cls.user_name \n",
    "  annotations = cls['annotations'].apply(json.loads)\n",
    "\n",
    "  models = annotations.apply(\n",
    "    parsing.parse_annotation,\n",
    "    size_diff=size_diff\n",
    "  )\n",
    "\n",
    "  tqdm.pandas(\n",
    "    desc='Rendering models'.format(subject_id),\n",
    "    leave=False\n",
    "  )\n",
    "  rendered = models.progress_apply(\n",
    "    rendering.calculate_model,\n",
    "    image_size=image_size,\n",
    "    psf=psf\n",
    "  ).rename('rendered')\n",
    "\n",
    "  tqdm.pandas(\n",
    "    desc='Calculating differences'.format(subject_id),\n",
    "    leave=False\n",
    "  )\n",
    "  losses = rendered.apply(\n",
    "    fitting.loss,\n",
    "    args=(galaxy_data, pixel_mask)\n",
    "  ).rename('loss')\n",
    "  all_losses = pd.Series(\n",
    "    losses.values,\n",
    "    index=names.values\n",
    "  ).rename(subject_id)\n",
    "  best_losses = pd.concat((\n",
    "    all_losses.where(\n",
    "      ~all_losses.duplicated(keep=False)\n",
    "    ).dropna(), # all non-duplicates\n",
    "    all_losses.where(\n",
    "      all_losses.duplicated(keep=False)\n",
    "    ).dropna().groupby(level=0).min() # best value of duplicates\n",
    "  ), axis=0)\n",
    "  return best_losses"
   ]
  },
  {
   "cell_type": "code",
   "execution_count": 7,
   "metadata": {
    "collapsed": false,
    "inputHidden": false,
    "outputHidden": false,
    "papermill": {
     "duration": 14.366419,
     "end_time": "2019-09-02T10:20:34.424279",
     "exception": false,
     "start_time": "2019-09-02T10:20:20.057860",
     "status": "completed"
    },
    "tags": []
   },
   "outputs": [
    {
     "name": "stderr",
     "output_type": "stream",
     "text": [
      "\r",
      "Rendering models:   0%|          | 0/89 [00:00<?, ?it/s]"
     ]
    },
    {
     "name": "stderr",
     "output_type": "stream",
     "text": [
      "\r",
      "Rendering models:   2%|▏         | 2/89 [00:06<04:42,  3.24s/it]"
     ]
    },
    {
     "name": "stderr",
     "output_type": "stream",
     "text": [
      "\r",
      "Rendering models:   3%|▎         | 3/89 [00:06<03:18,  2.31s/it]"
     ]
    },
    {
     "name": "stderr",
     "output_type": "stream",
     "text": [
      "\r",
      "Rendering models:   4%|▍         | 4/89 [00:06<02:21,  1.67s/it]"
     ]
    },
    {
     "name": "stderr",
     "output_type": "stream",
     "text": [
      "\r",
      "Rendering models:   6%|▌         | 5/89 [00:06<01:41,  1.21s/it]"
     ]
    },
    {
     "name": "stderr",
     "output_type": "stream",
     "text": [
      "\r",
      "Rendering models:   8%|▊         | 7/89 [00:07<01:12,  1.13it/s]"
     ]
    },
    {
     "name": "stderr",
     "output_type": "stream",
     "text": [
      "\r",
      "Rendering models:  10%|█         | 9/89 [00:07<00:52,  1.54it/s]"
     ]
    },
    {
     "name": "stderr",
     "output_type": "stream",
     "text": [
      "\r",
      "Rendering models:  12%|█▏        | 11/89 [00:07<00:37,  2.07it/s]"
     ]
    },
    {
     "name": "stderr",
     "output_type": "stream",
     "text": [
      "\r",
      "Rendering models:  13%|█▎        | 12/89 [00:07<00:29,  2.58it/s]"
     ]
    },
    {
     "name": "stderr",
     "output_type": "stream",
     "text": [
      "\r",
      "Rendering models:  15%|█▍        | 13/89 [00:07<00:23,  3.25it/s]"
     ]
    },
    {
     "name": "stderr",
     "output_type": "stream",
     "text": [
      "\r",
      "Rendering models:  16%|█▌        | 14/89 [00:07<00:18,  4.01it/s]"
     ]
    },
    {
     "name": "stderr",
     "output_type": "stream",
     "text": [
      "\r",
      "Rendering models:  22%|██▏       | 20/89 [00:08<00:12,  5.54it/s]"
     ]
    },
    {
     "name": "stderr",
     "output_type": "stream",
     "text": [
      "\r",
      "Rendering models:  26%|██▌       | 23/89 [00:08<00:10,  6.47it/s]"
     ]
    },
    {
     "name": "stderr",
     "output_type": "stream",
     "text": [
      "\r",
      "Rendering models:  28%|██▊       | 25/89 [00:08<00:08,  7.23it/s]"
     ]
    },
    {
     "name": "stderr",
     "output_type": "stream",
     "text": [
      "\r",
      "Rendering models:  30%|███       | 27/89 [00:08<00:08,  7.75it/s]"
     ]
    },
    {
     "name": "stderr",
     "output_type": "stream",
     "text": [
      "\r",
      "Rendering models:  33%|███▎      | 29/89 [00:09<00:07,  7.81it/s]"
     ]
    },
    {
     "name": "stderr",
     "output_type": "stream",
     "text": [
      "\r",
      "Rendering models:  35%|███▍      | 31/89 [00:09<00:07,  8.02it/s]"
     ]
    },
    {
     "name": "stderr",
     "output_type": "stream",
     "text": [
      "\r",
      "Rendering models:  37%|███▋      | 33/89 [00:09<00:06,  8.32it/s]"
     ]
    },
    {
     "name": "stderr",
     "output_type": "stream",
     "text": [
      "\r",
      "Rendering models:  39%|███▉      | 35/89 [00:09<00:06,  8.19it/s]"
     ]
    },
    {
     "name": "stderr",
     "output_type": "stream",
     "text": [
      "\r",
      "Rendering models:  40%|████      | 36/89 [00:09<00:06,  7.87it/s]"
     ]
    },
    {
     "name": "stderr",
     "output_type": "stream",
     "text": [
      "\r",
      "Rendering models:  42%|████▏     | 37/89 [00:10<00:06,  7.82it/s]"
     ]
    },
    {
     "name": "stderr",
     "output_type": "stream",
     "text": [
      "\r",
      "Rendering models:  44%|████▍     | 39/89 [00:10<00:05,  9.27it/s]"
     ]
    },
    {
     "name": "stderr",
     "output_type": "stream",
     "text": [
      "\r",
      "Rendering models:  46%|████▌     | 41/89 [00:10<00:05,  9.35it/s]"
     ]
    },
    {
     "name": "stderr",
     "output_type": "stream",
     "text": [
      "\r",
      "Rendering models:  48%|████▊     | 43/89 [00:10<00:04,  9.67it/s]"
     ]
    },
    {
     "name": "stderr",
     "output_type": "stream",
     "text": [
      "\r",
      "Rendering models:  51%|█████     | 45/89 [00:10<00:04,  9.04it/s]"
     ]
    },
    {
     "name": "stderr",
     "output_type": "stream",
     "text": [
      "\r",
      "Rendering models:  52%|█████▏    | 46/89 [00:10<00:04,  8.74it/s]"
     ]
    },
    {
     "name": "stderr",
     "output_type": "stream",
     "text": [
      "\r",
      "Rendering models:  53%|█████▎    | 47/89 [00:11<00:05,  8.37it/s]"
     ]
    },
    {
     "name": "stderr",
     "output_type": "stream",
     "text": [
      "\r",
      "Rendering models:  55%|█████▌    | 49/89 [00:11<00:03, 10.09it/s]"
     ]
    },
    {
     "name": "stderr",
     "output_type": "stream",
     "text": [
      "\r",
      "Rendering models:  58%|█████▊    | 52/89 [00:11<00:02, 12.49it/s]"
     ]
    },
    {
     "name": "stderr",
     "output_type": "stream",
     "text": [
      "\r",
      "Rendering models:  61%|██████    | 54/89 [00:11<00:02, 13.36it/s]"
     ]
    },
    {
     "name": "stderr",
     "output_type": "stream",
     "text": [
      "\r",
      "Rendering models:  63%|██████▎   | 56/89 [00:11<00:03, 10.46it/s]"
     ]
    },
    {
     "name": "stderr",
     "output_type": "stream",
     "text": [
      "\r",
      "Rendering models:  65%|██████▌   | 58/89 [00:11<00:03,  9.19it/s]"
     ]
    },
    {
     "name": "stderr",
     "output_type": "stream",
     "text": [
      "\r",
      "Rendering models:  69%|██████▊   | 61/89 [00:12<00:02, 10.19it/s]"
     ]
    },
    {
     "name": "stderr",
     "output_type": "stream",
     "text": [
      "\r",
      "Rendering models:  71%|███████   | 63/89 [00:12<00:02, 11.44it/s]"
     ]
    },
    {
     "name": "stderr",
     "output_type": "stream",
     "text": [
      "\r",
      "Rendering models:  78%|███████▊  | 69/89 [00:12<00:01, 14.19it/s]"
     ]
    },
    {
     "name": "stderr",
     "output_type": "stream",
     "text": [
      "\r",
      "Rendering models:  80%|███████▉  | 71/89 [00:12<00:01, 13.27it/s]"
     ]
    },
    {
     "name": "stderr",
     "output_type": "stream",
     "text": [
      "\r",
      "Rendering models:  82%|████████▏ | 73/89 [00:12<00:01, 12.12it/s]"
     ]
    },
    {
     "name": "stderr",
     "output_type": "stream",
     "text": [
      "\r",
      "Rendering models:  84%|████████▍ | 75/89 [00:13<00:01, 11.43it/s]"
     ]
    },
    {
     "name": "stderr",
     "output_type": "stream",
     "text": [
      "\r",
      "Rendering models:  89%|████████▉ | 79/89 [00:13<00:00, 13.13it/s]"
     ]
    },
    {
     "name": "stderr",
     "output_type": "stream",
     "text": [
      "\r",
      "Rendering models:  91%|█████████ | 81/89 [00:13<00:00, 12.16it/s]"
     ]
    },
    {
     "name": "stderr",
     "output_type": "stream",
     "text": [
      "\r",
      "Rendering models:  93%|█████████▎| 83/89 [00:13<00:00,  9.95it/s]"
     ]
    },
    {
     "name": "stderr",
     "output_type": "stream",
     "text": [
      "\r",
      "Rendering models:  99%|█████████▉| 88/89 [00:13<00:00, 12.18it/s]"
     ]
    },
    {
     "name": "stderr",
     "output_type": "stream",
     "text": [
      "\r",
      "                                                                 "
     ]
    },
    {
     "name": "stderr",
     "output_type": "stream",
     "text": [
      "\r"
     ]
    },
    {
     "data": {
      "text/plain": [
       "equidad1                               0.114109\n",
       "kayleebug2017                          0.002239\n",
       "yafeat                                 0.000985\n",
       "not-logged-in-7fda7748d862237450e1     0.000297\n",
       "not-logged-in-12e9cbecd83afb2188a8     0.000235\n",
       "Drew_Farnsworth                        0.000543\n",
       "Thedunkmasta                           0.001121\n",
       "not-logged-in-6d073ad4cbbd00d3ccf3    12.693358\n",
       "Thedunkmasta                           0.001208\n",
       "47degreesnorth                         0.000261\n",
       "not-logged-in-a2035c44f0ad873d19d7     0.021644\n",
       "Alexander00                            0.001391\n",
       "msross                                 0.002175\n",
       "clizardo                               0.000107\n",
       "clizardo                               0.000489\n",
       "clizardo                               0.000384\n",
       "mkirms                                 0.000420\n",
       "msross                                 0.000450\n",
       "mchaffin                               0.000220\n",
       "djcameron                              0.000258\n",
       "stgomes                                0.000266\n",
       "djcameron                              0.000220\n",
       "CScampstudent                          0.235027\n",
       "creinbol                               0.000224\n",
       "cchen88                                0.000302\n",
       "not-logged-in-a9c404b9b1b4325c3341     0.001203\n",
       "not-logged-in-8c0c95c9a1ffedd94033     0.268730\n",
       "denzel.ayala                           0.000805\n",
       "not-logged-in-f7e2260ed4a9517a3e4a     0.006390\n",
       "sn346808                               0.031917\n",
       "                                        ...    \n",
       "dmosier13                              0.000490\n",
       "CBAIN25                                0.000224\n",
       "dmosier13                              0.000492\n",
       "kayla2198                              0.000261\n",
       "dmosier13                              0.000565\n",
       "tdrabic                                0.013553\n",
       "campanellimichael13                    0.001397\n",
       "not-logged-in-812b279e0836b083d452     0.007032\n",
       "not-logged-in-812b279e0836b083d452     0.000493\n",
       "not-logged-in-812b279e0836b083d452     0.000239\n",
       "not-logged-in-812b279e0836b083d452     0.000293\n",
       "not-logged-in-812b279e0836b083d452     0.000239\n",
       "not-logged-in-d411d5962a8683bacd26     0.002326\n",
       "heathmonie                             0.008284\n",
       "not-logged-in-ab5f58ee1e61681e9014     0.280489\n",
       "not-logged-in-fe508ec7336652811a08     0.000513\n",
       "Getrekt10127                           0.004072\n",
       "Lavadude                               0.001958\n",
       "campanellimichael13                    0.001958\n",
       "cchen88                                0.001958\n",
       "ckkmomma                               0.001958\n",
       "heathmonie                             0.001958\n",
       "ksheahon                               0.001958\n",
       "ncaro                                  0.001958\n",
       "not-logged-in-052198bc8f2655501c63     0.001958\n",
       "not-logged-in-12f5b588840552ab1c35     0.067011\n",
       "not-logged-in-409241128adb6e9c5c86     0.001958\n",
       "not-logged-in-6144658f8b3ac8370f5b     0.001958\n",
       "not-logged-in-703cae1b2bc68e172b7a     0.001958\n",
       "not-logged-in-769e51a01946aca9871e     0.001958\n",
       "Name: 20902086, Length: 75, dtype: float64"
      ]
     },
     "execution_count": 7,
     "metadata": {},
     "output_type": "execute_result"
    }
   ],
   "source": [
    "losses = get_losses_by_user(subject_id)\n",
    "losses"
   ]
  },
  {
   "cell_type": "code",
   "execution_count": 8,
   "metadata": {
    "collapsed": false,
    "inputHidden": false,
    "outputHidden": false,
    "papermill": {
     "duration": 0.098779,
     "end_time": "2019-09-02T10:20:34.540852",
     "exception": false,
     "start_time": "2019-09-02T10:20:34.442073",
     "status": "completed"
    },
    "tags": []
   },
   "outputs": [
    {
     "data": {
      "application/scrapbook.scrap.json+json": {
       "data": 20902086,
       "encoder": "json",
       "name": "subject_id",
       "version": 1
      }
     },
     "metadata": {
      "scrapbook": {
       "data": true,
       "display": false,
       "name": "subject_id"
      }
     },
     "output_type": "display_data"
    },
    {
     "data": {
      "application/scrapbook.scrap.json+json": {
       "data": {
        "47degreesnorth": 0.0002611878899909278,
        "Alexander00": 0.001390793070968402,
        "CBAIN25": 0.00022411178608906955,
        "CScampstudent": 0.23502720700644708,
        "Drew_Farnsworth": 0.0005429720665499996,
        "Getrekt10127": 0.004072350072625426,
        "Lavadude": 0.001958143556178262,
        "Rian_NL": 0.0002666121072982505,
        "Thedunkmasta": 0.001208169803612603,
        "campanellimichael13": 0.001958143556178262,
        "cchen88": 0.001958143556178262,
        "ckkmomma": 0.001958143556178262,
        "clizardo": 0.000383644500425182,
        "creinbol": 0.0002239851833265419,
        "denzel.ayala": 0.0008051017065744134,
        "djcameron": 0.00021976543162169137,
        "dmosier13": 0.0005653584192424882,
        "edgardo.e.nogueira": 0.0050893969075310255,
        "equidad1": 0.11410912801205225,
        "heathmonie": 0.001958143556178262,
        "kayla2198": 0.00026141157017985463,
        "kayleebug2017": 0.002239060411701561,
        "ksheahon": 0.001958143556178262,
        "mchaffin": 0.00021971949247605915,
        "mkirms": 0.0004197829000711213,
        "msross": 0.00045002363180843936,
        "ncaro": 0.001958143556178262,
        "not-logged-in-052198bc8f2655501c63": 0.001958143556178262,
        "not-logged-in-12e9cbecd83afb2188a8": 0.00023524591498363695,
        "not-logged-in-12f5b588840552ab1c35": 0.0670107600920935,
        "not-logged-in-409241128adb6e9c5c86": 0.001958143556178262,
        "not-logged-in-6144658f8b3ac8370f5b": 0.001958143556178262,
        "not-logged-in-6d073ad4cbbd00d3ccf3": 12.693357712837692,
        "not-logged-in-703cae1b2bc68e172b7a": 0.001958143556178262,
        "not-logged-in-769e51a01946aca9871e": 0.001958143556178262,
        "not-logged-in-7fda7748d862237450e1": 0.00029730940740633555,
        "not-logged-in-812b279e0836b083d452": 0.00023949815016542292,
        "not-logged-in-8c0c95c9a1ffedd94033": 0.2687295560652777,
        "not-logged-in-a2035c44f0ad873d19d7": 0.021644014986651174,
        "not-logged-in-a9c404b9b1b4325c3341": 0.0012029810210118683,
        "not-logged-in-ab5f58ee1e61681e9014": 0.2804888334631782,
        "not-logged-in-b2405a00b7424e04af17": 0.0010605385591240185,
        "not-logged-in-bcf0a63d16e116a99e14": 0.0026980226200947087,
        "not-logged-in-c93a3be1e310155084ca": 0.004312843296236311,
        "not-logged-in-cd264b9dcb74a8a123a9": 0.001180261553213626,
        "not-logged-in-d411d5962a8683bacd26": 0.0023261337884308867,
        "not-logged-in-f7e2260ed4a9517a3e4a": 0.00638951978639619,
        "not-logged-in-fe508ec7336652811a08": 0.0005132878292407231,
        "sn346808": 0.03191724313541416,
        "stgomes": 0.000266051815090101,
        "tdrabic": 0.013553306866446294,
        "yafeat": 0.0009845222458485627
       },
       "encoder": "json",
       "name": "losses",
       "version": 1
      }
     },
     "metadata": {
      "scrapbook": {
       "data": true,
       "display": false,
       "name": "losses"
      }
     },
     "output_type": "display_data"
    }
   ],
   "source": [
    "sb.glue('subject_id', subject_id)\n",
    "sb.glue('losses', losses.to_dict())"
   ]
  }
 ],
 "metadata": {
  "kernel_info": {
   "name": "python3"
  },
  "kernelspec": {
   "display_name": "Python 3",
   "language": "python",
   "name": "python3"
  },
  "language_info": {
   "codemirror_mode": {
    "name": "ipython",
    "version": 3
   },
   "file_extension": ".py",
   "mimetype": "text/x-python",
   "name": "python",
   "nbconvert_exporter": "python",
   "pygments_lexer": "ipython3",
   "version": "3.7.3"
  },
  "nteract": {
   "version": "0.14.3"
  },
  "papermill": {
   "duration": 24.117289,
   "end_time": "2019-09-02T10:20:35.851269",
   "environment_variables": {},
   "exception": null,
   "input_path": "/users/tingard/gzbuilder_results/input_files/volunteer_losses.ipynb",
   "output_path": "/users/tingard/gzbuilder_results/output_files/volunteer_losses/20902086.ipynb",
   "parameters": {
    "subject_id": 20902086
   },
   "start_time": "2019-09-02T10:20:11.733980",
   "version": "1.0.1"
  }
 },
 "nbformat": 4,
 "nbformat_minor": 0
}