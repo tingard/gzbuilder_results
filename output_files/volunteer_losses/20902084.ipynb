{
 "cells": [
  {
   "cell_type": "markdown",
   "metadata": {
    "papermill": {
     "duration": 0.007882,
     "end_time": "2019-09-02T10:20:16.156901",
     "exception": false,
     "start_time": "2019-09-02T10:20:16.149019",
     "status": "completed"
    },
    "tags": []
   },
   "source": [
    "# Volunteer model loss calculation\n",
    "\n",
    "This notebook takes a `subject_id` and calculates the MSE of each volunteer's model to the galaxy data. These losses are then glued to the notebook for use elsewhere."
   ]
  },
  {
   "cell_type": "code",
   "execution_count": 1,
   "metadata": {
    "collapsed": false,
    "inputHidden": false,
    "outputHidden": false,
    "papermill": {
     "duration": 0.034781,
     "end_time": "2019-09-02T10:20:16.198765",
     "exception": false,
     "start_time": "2019-09-02T10:20:16.163984",
     "status": "completed"
    },
    "tags": []
   },
   "outputs": [],
   "source": [
    "%load_ext autoreload\n",
    "%autoreload 2"
   ]
  },
  {
   "cell_type": "code",
   "execution_count": 2,
   "metadata": {
    "collapsed": false,
    "inputHidden": false,
    "outputHidden": false,
    "papermill": {
     "duration": 6.72964,
     "end_time": "2019-09-02T10:20:22.935639",
     "exception": false,
     "start_time": "2019-09-02T10:20:16.205999",
     "status": "completed"
    },
    "tags": []
   },
   "outputs": [
    {
     "name": "stderr",
     "output_type": "stream",
     "text": [
      "/opt/apps/pkgs/anaconda3/2019.03/intel64/lib/python3.7/site-packages/dask/config.py:168: YAMLLoadWarning: calling yaml.load() without Loader=... is deprecated, as the default Loader is unsafe. Please read https://msg.pyyaml.org/load for full details.\n",
      "  data = yaml.load(f.read()) or {}\n"
     ]
    }
   ],
   "source": [
    "import json\n",
    "import numpy as np\n",
    "import pandas as pd\n",
    "from tqdm import tqdm\n",
    "import matplotlib.pyplot as plt\n",
    "import seaborn as sns\n",
    "from gzbuilder_analysis import parsing, rendering, fitting\n",
    "import lib.galaxy_utilities as gu\n",
    "import scrapbook as sb"
   ]
  },
  {
   "cell_type": "code",
   "execution_count": 3,
   "metadata": {
    "collapsed": false,
    "inputHidden": false,
    "outputHidden": false,
    "papermill": {
     "duration": 0.044057,
     "end_time": "2019-09-02T10:20:22.989074",
     "exception": false,
     "start_time": "2019-09-02T10:20:22.945017",
     "status": "completed"
    },
    "tags": [
     "parameters"
    ]
   },
   "outputs": [],
   "source": [
    "subject_id = 20902040"
   ]
  },
  {
   "cell_type": "code",
   "execution_count": 4,
   "metadata": {
    "papermill": {
     "duration": 3.101264,
     "end_time": "2019-09-02T10:20:26.099399",
     "exception": false,
     "start_time": "2019-09-02T10:20:22.998135",
     "status": "completed"
    },
    "tags": [
     "injected-parameters"
    ]
   },
   "outputs": [],
   "source": [
    "# Parameters\n",
    "subject_id = 20902084\n"
   ]
  },
  {
   "cell_type": "code",
   "execution_count": 5,
   "metadata": {
    "collapsed": false,
    "inputHidden": false,
    "outputHidden": false,
    "papermill": {
     "duration": 0.149979,
     "end_time": "2019-09-02T10:20:26.257085",
     "exception": false,
     "start_time": "2019-09-02T10:20:26.107106",
     "status": "completed"
    },
    "tags": []
   },
   "outputs": [],
   "source": [
    "diff_data_df = pd.read_pickle('lib/fitting_metadata.pkl')"
   ]
  },
  {
   "cell_type": "code",
   "execution_count": 6,
   "metadata": {
    "collapsed": false,
    "inputHidden": false,
    "outputHidden": false,
    "papermill": {
     "duration": 0.051981,
     "end_time": "2019-09-02T10:20:26.317152",
     "exception": false,
     "start_time": "2019-09-02T10:20:26.265171",
     "status": "completed"
    },
    "tags": []
   },
   "outputs": [],
   "source": [
    "def get_losses_by_user(subject_id):\n",
    "  diff_data = diff_data_df.loc[subject_id]\n",
    "  psf = diff_data['psf']\n",
    "  pixel_mask = np.array(diff_data['pixel_mask'])[::-1]\n",
    "  galaxy_data = np.array(diff_data['galaxy_data'])[::-1]\n",
    "  image_size = galaxy_data.shape[0]\n",
    "  size_diff = diff_data['size_diff']\n",
    "  \n",
    "  cls = gu.classifications.query('subject_ids == {}'.format(subject_id))\n",
    "  names = cls.user_name \n",
    "  annotations = cls['annotations'].apply(json.loads)\n",
    "\n",
    "  models = annotations.apply(\n",
    "    parsing.parse_annotation,\n",
    "    size_diff=size_diff\n",
    "  )\n",
    "\n",
    "  tqdm.pandas(\n",
    "    desc='Rendering models'.format(subject_id),\n",
    "    leave=False\n",
    "  )\n",
    "  rendered = models.progress_apply(\n",
    "    rendering.calculate_model,\n",
    "    image_size=image_size,\n",
    "    psf=psf\n",
    "  ).rename('rendered')\n",
    "\n",
    "  tqdm.pandas(\n",
    "    desc='Calculating differences'.format(subject_id),\n",
    "    leave=False\n",
    "  )\n",
    "  losses = rendered.apply(\n",
    "    fitting.loss,\n",
    "    args=(galaxy_data, pixel_mask)\n",
    "  ).rename('loss')\n",
    "  all_losses = pd.Series(\n",
    "    losses.values,\n",
    "    index=names.values\n",
    "  ).rename(subject_id)\n",
    "  best_losses = pd.concat((\n",
    "    all_losses.where(\n",
    "      ~all_losses.duplicated(keep=False)\n",
    "    ).dropna(), # all non-duplicates\n",
    "    all_losses.where(\n",
    "      all_losses.duplicated(keep=False)\n",
    "    ).dropna().groupby(level=0).min() # best value of duplicates\n",
    "  ), axis=0)\n",
    "  return best_losses"
   ]
  },
  {
   "cell_type": "code",
   "execution_count": 7,
   "metadata": {
    "collapsed": false,
    "inputHidden": false,
    "outputHidden": false,
    "papermill": {
     "duration": 31.110406,
     "end_time": "2019-09-02T10:20:57.435920",
     "exception": false,
     "start_time": "2019-09-02T10:20:26.325514",
     "status": "completed"
    },
    "tags": []
   },
   "outputs": [
    {
     "name": "stderr",
     "output_type": "stream",
     "text": [
      "\r",
      "Rendering models:   0%|          | 0/86 [00:00<?, ?it/s]"
     ]
    },
    {
     "name": "stderr",
     "output_type": "stream",
     "text": [
      "\r",
      "Rendering models:   3%|▎         | 3/86 [00:01<00:52,  1.59it/s]"
     ]
    },
    {
     "name": "stderr",
     "output_type": "stream",
     "text": [
      "\r",
      "Rendering models:   5%|▍         | 4/86 [00:03<01:07,  1.21it/s]"
     ]
    },
    {
     "name": "stderr",
     "output_type": "stream",
     "text": [
      "\r",
      "Rendering models:   6%|▌         | 5/86 [00:05<01:35,  1.18s/it]"
     ]
    },
    {
     "name": "stderr",
     "output_type": "stream",
     "text": [
      "\r",
      "Rendering models:   7%|▋         | 6/86 [00:05<01:13,  1.10it/s]"
     ]
    },
    {
     "name": "stderr",
     "output_type": "stream",
     "text": [
      "\r",
      "Rendering models:   8%|▊         | 7/86 [00:05<00:54,  1.46it/s]"
     ]
    },
    {
     "name": "stderr",
     "output_type": "stream",
     "text": [
      "\r",
      "Rendering models:   9%|▉         | 8/86 [00:05<00:43,  1.78it/s]"
     ]
    },
    {
     "name": "stderr",
     "output_type": "stream",
     "text": [
      "\r",
      "Rendering models:  10%|█         | 9/86 [00:08<01:31,  1.19s/it]"
     ]
    },
    {
     "name": "stderr",
     "output_type": "stream",
     "text": [
      "\r",
      "Rendering models:  12%|█▏        | 10/86 [00:08<01:12,  1.05it/s]"
     ]
    },
    {
     "name": "stderr",
     "output_type": "stream",
     "text": [
      "\r",
      "Rendering models:  13%|█▎        | 11/86 [00:09<00:58,  1.27it/s]"
     ]
    },
    {
     "name": "stderr",
     "output_type": "stream",
     "text": [
      "\r",
      "Rendering models:  14%|█▍        | 12/86 [00:09<00:48,  1.53it/s]"
     ]
    },
    {
     "name": "stderr",
     "output_type": "stream",
     "text": [
      "\r",
      "Rendering models:  20%|█▉        | 17/86 [00:10<00:33,  2.06it/s]"
     ]
    },
    {
     "name": "stderr",
     "output_type": "stream",
     "text": [
      "\r",
      "Rendering models:  21%|██        | 18/86 [00:10<00:30,  2.24it/s]"
     ]
    },
    {
     "name": "stderr",
     "output_type": "stream",
     "text": [
      "\r",
      "Rendering models:  22%|██▏       | 19/86 [00:10<00:28,  2.34it/s]"
     ]
    },
    {
     "name": "stderr",
     "output_type": "stream",
     "text": [
      "\r",
      "Rendering models:  23%|██▎       | 20/86 [00:11<00:27,  2.39it/s]"
     ]
    },
    {
     "name": "stderr",
     "output_type": "stream",
     "text": [
      "\r",
      "Rendering models:  24%|██▍       | 21/86 [00:11<00:25,  2.59it/s]"
     ]
    },
    {
     "name": "stderr",
     "output_type": "stream",
     "text": [
      "\r",
      "Rendering models:  26%|██▌       | 22/86 [00:11<00:23,  2.77it/s]"
     ]
    },
    {
     "name": "stderr",
     "output_type": "stream",
     "text": [
      "\r",
      "Rendering models:  27%|██▋       | 23/86 [00:12<00:21,  2.93it/s]"
     ]
    },
    {
     "name": "stderr",
     "output_type": "stream",
     "text": [
      "\r",
      "Rendering models:  28%|██▊       | 24/86 [00:12<00:17,  3.48it/s]"
     ]
    },
    {
     "name": "stderr",
     "output_type": "stream",
     "text": [
      "\r",
      "Rendering models:  29%|██▉       | 25/86 [00:12<00:19,  3.17it/s]"
     ]
    },
    {
     "name": "stderr",
     "output_type": "stream",
     "text": [
      "\r",
      "Rendering models:  30%|███       | 26/86 [00:13<00:19,  3.01it/s]"
     ]
    },
    {
     "name": "stderr",
     "output_type": "stream",
     "text": [
      "\r",
      "Rendering models:  31%|███▏      | 27/86 [00:13<00:18,  3.13it/s]"
     ]
    },
    {
     "name": "stderr",
     "output_type": "stream",
     "text": [
      "\r",
      "Rendering models:  33%|███▎      | 28/86 [00:13<00:19,  3.03it/s]"
     ]
    },
    {
     "name": "stderr",
     "output_type": "stream",
     "text": [
      "\r",
      "Rendering models:  34%|███▎      | 29/86 [00:14<00:19,  2.96it/s]"
     ]
    },
    {
     "name": "stderr",
     "output_type": "stream",
     "text": [
      "\r",
      "Rendering models:  35%|███▍      | 30/86 [00:14<00:19,  2.90it/s]"
     ]
    },
    {
     "name": "stderr",
     "output_type": "stream",
     "text": [
      "\r",
      "Rendering models:  36%|███▌      | 31/86 [00:14<00:21,  2.59it/s]"
     ]
    },
    {
     "name": "stderr",
     "output_type": "stream",
     "text": [
      "\r",
      "Rendering models:  37%|███▋      | 32/86 [00:15<00:17,  3.18it/s]"
     ]
    },
    {
     "name": "stderr",
     "output_type": "stream",
     "text": [
      "\r",
      "Rendering models:  38%|███▊      | 33/86 [00:15<00:16,  3.28it/s]"
     ]
    },
    {
     "name": "stderr",
     "output_type": "stream",
     "text": [
      "\r",
      "Rendering models:  40%|███▉      | 34/86 [00:15<00:16,  3.14it/s]"
     ]
    },
    {
     "name": "stderr",
     "output_type": "stream",
     "text": [
      "\r",
      "Rendering models:  41%|████      | 35/86 [00:16<00:20,  2.45it/s]"
     ]
    },
    {
     "name": "stderr",
     "output_type": "stream",
     "text": [
      "\r",
      "Rendering models:  43%|████▎     | 37/86 [00:16<00:17,  2.84it/s]"
     ]
    },
    {
     "name": "stderr",
     "output_type": "stream",
     "text": [
      "\r",
      "Rendering models:  44%|████▍     | 38/86 [00:17<00:17,  2.80it/s]"
     ]
    },
    {
     "name": "stderr",
     "output_type": "stream",
     "text": [
      "\r",
      "Rendering models:  45%|████▌     | 39/86 [00:17<00:17,  2.66it/s]"
     ]
    },
    {
     "name": "stderr",
     "output_type": "stream",
     "text": [
      "\r",
      "Rendering models:  47%|████▋     | 40/86 [00:18<00:18,  2.55it/s]"
     ]
    },
    {
     "name": "stderr",
     "output_type": "stream",
     "text": [
      "\r",
      "Rendering models:  48%|████▊     | 41/86 [00:18<00:18,  2.49it/s]"
     ]
    },
    {
     "name": "stderr",
     "output_type": "stream",
     "text": [
      "\r",
      "Rendering models:  49%|████▉     | 42/86 [00:19<00:21,  2.07it/s]"
     ]
    },
    {
     "name": "stderr",
     "output_type": "stream",
     "text": [
      "\r",
      "Rendering models:  52%|█████▏    | 45/86 [00:19<00:14,  2.82it/s]"
     ]
    },
    {
     "name": "stderr",
     "output_type": "stream",
     "text": [
      "\r",
      "Rendering models:  53%|█████▎    | 46/86 [00:19<00:13,  3.02it/s]"
     ]
    },
    {
     "name": "stderr",
     "output_type": "stream",
     "text": [
      "\r",
      "Rendering models:  55%|█████▍    | 47/86 [00:19<00:13,  2.92it/s]"
     ]
    },
    {
     "name": "stderr",
     "output_type": "stream",
     "text": [
      "\r",
      "Rendering models:  56%|█████▌    | 48/86 [00:20<00:13,  2.73it/s]"
     ]
    },
    {
     "name": "stderr",
     "output_type": "stream",
     "text": [
      "\r",
      "Rendering models:  57%|█████▋    | 49/86 [00:20<00:14,  2.59it/s]"
     ]
    },
    {
     "name": "stderr",
     "output_type": "stream",
     "text": [
      "\r",
      "Rendering models:  58%|█████▊    | 50/86 [00:21<00:14,  2.51it/s]"
     ]
    },
    {
     "name": "stderr",
     "output_type": "stream",
     "text": [
      "\r",
      "Rendering models:  59%|█████▉    | 51/86 [00:21<00:14,  2.46it/s]"
     ]
    },
    {
     "name": "stderr",
     "output_type": "stream",
     "text": [
      "\r",
      "Rendering models:  60%|██████    | 52/86 [00:22<00:14,  2.42it/s]"
     ]
    },
    {
     "name": "stderr",
     "output_type": "stream",
     "text": [
      "\r",
      "Rendering models:  62%|██████▏   | 53/86 [00:22<00:13,  2.38it/s]"
     ]
    },
    {
     "name": "stderr",
     "output_type": "stream",
     "text": [
      "\r",
      "Rendering models:  63%|██████▎   | 54/86 [00:22<00:13,  2.36it/s]"
     ]
    },
    {
     "name": "stderr",
     "output_type": "stream",
     "text": [
      "\r",
      "Rendering models:  64%|██████▍   | 55/86 [00:23<00:13,  2.37it/s]"
     ]
    },
    {
     "name": "stderr",
     "output_type": "stream",
     "text": [
      "\r",
      "Rendering models:  71%|███████   | 61/86 [00:23<00:07,  3.13it/s]"
     ]
    },
    {
     "name": "stderr",
     "output_type": "stream",
     "text": [
      "\r",
      "Rendering models:  72%|███████▏  | 62/86 [00:24<00:08,  2.85it/s]"
     ]
    },
    {
     "name": "stderr",
     "output_type": "stream",
     "text": [
      "\r",
      "Rendering models:  73%|███████▎  | 63/86 [00:24<00:06,  3.44it/s]"
     ]
    },
    {
     "name": "stderr",
     "output_type": "stream",
     "text": [
      "\r",
      "Rendering models:  74%|███████▍  | 64/86 [00:24<00:07,  3.04it/s]"
     ]
    },
    {
     "name": "stderr",
     "output_type": "stream",
     "text": [
      "\r",
      "Rendering models:  76%|███████▌  | 65/86 [00:25<00:07,  2.93it/s]"
     ]
    },
    {
     "name": "stderr",
     "output_type": "stream",
     "text": [
      "\r",
      "Rendering models:  77%|███████▋  | 66/86 [00:25<00:06,  2.91it/s]"
     ]
    },
    {
     "name": "stderr",
     "output_type": "stream",
     "text": [
      "\r",
      "Rendering models:  78%|███████▊  | 67/86 [00:25<00:06,  3.08it/s]"
     ]
    },
    {
     "name": "stderr",
     "output_type": "stream",
     "text": [
      "\r",
      "Rendering models:  79%|███████▉  | 68/86 [00:25<00:04,  3.64it/s]"
     ]
    },
    {
     "name": "stderr",
     "output_type": "stream",
     "text": [
      "\r",
      "Rendering models:  80%|████████  | 69/86 [00:26<00:06,  2.71it/s]"
     ]
    },
    {
     "name": "stderr",
     "output_type": "stream",
     "text": [
      "\r",
      "Rendering models:  84%|████████▎ | 72/86 [00:26<00:03,  3.62it/s]"
     ]
    },
    {
     "name": "stderr",
     "output_type": "stream",
     "text": [
      "\r",
      "Rendering models:  85%|████████▍ | 73/86 [00:27<00:03,  3.35it/s]"
     ]
    },
    {
     "name": "stderr",
     "output_type": "stream",
     "text": [
      "\r",
      "Rendering models:  86%|████████▌ | 74/86 [00:27<00:03,  3.18it/s]"
     ]
    },
    {
     "name": "stderr",
     "output_type": "stream",
     "text": [
      "\r",
      "Rendering models:  87%|████████▋ | 75/86 [00:27<00:03,  3.28it/s]"
     ]
    },
    {
     "name": "stderr",
     "output_type": "stream",
     "text": [
      "\r",
      "Rendering models:  88%|████████▊ | 76/86 [00:28<00:02,  3.35it/s]"
     ]
    },
    {
     "name": "stderr",
     "output_type": "stream",
     "text": [
      "\r",
      "Rendering models:  91%|█████████ | 78/86 [00:28<00:02,  3.65it/s]"
     ]
    },
    {
     "name": "stderr",
     "output_type": "stream",
     "text": [
      "\r",
      "Rendering models:  92%|█████████▏| 79/86 [00:28<00:02,  2.92it/s]"
     ]
    },
    {
     "name": "stderr",
     "output_type": "stream",
     "text": [
      "\r",
      "Rendering models:  93%|█████████▎| 80/86 [00:29<00:01,  3.52it/s]"
     ]
    },
    {
     "name": "stderr",
     "output_type": "stream",
     "text": [
      "\r",
      "Rendering models:  94%|█████████▍| 81/86 [00:29<00:01,  4.11it/s]"
     ]
    },
    {
     "name": "stderr",
     "output_type": "stream",
     "text": [
      "\r",
      "Rendering models:  95%|█████████▌| 82/86 [00:29<00:01,  3.39it/s]"
     ]
    },
    {
     "name": "stderr",
     "output_type": "stream",
     "text": [
      "\r",
      "Rendering models:  98%|█████████▊| 84/86 [00:30<00:00,  3.82it/s]"
     ]
    },
    {
     "name": "stderr",
     "output_type": "stream",
     "text": [
      "\r",
      "Rendering models:  99%|█████████▉| 85/86 [00:30<00:00,  3.80it/s]"
     ]
    },
    {
     "name": "stderr",
     "output_type": "stream",
     "text": [
      "\r",
      "Rendering models: 100%|██████████| 86/86 [00:30<00:00,  2.98it/s]"
     ]
    },
    {
     "name": "stderr",
     "output_type": "stream",
     "text": [
      "\r",
      "                                                                 "
     ]
    },
    {
     "name": "stderr",
     "output_type": "stream",
     "text": [
      "\r"
     ]
    },
    {
     "data": {
      "text/plain": [
       "not-logged-in-b46631f292b19e67bda4      0.010674\n",
       "not-logged-in-d26daff360c1608523df      0.000133\n",
       "not-logged-in-621b62a5f3840545c538      0.006567\n",
       "Thedunkmasta                            0.000210\n",
       "not-logged-in-0997cfcba8da23453381      0.475591\n",
       "Thedunkmasta                            0.000201\n",
       "mlang2017                               0.016056\n",
       "rcbeck                                  0.000085\n",
       "sinjinza1984                            0.000081\n",
       "NikkaAlinea                             0.000185\n",
       "msalin03                                0.000118\n",
       "msalin03                                0.000077\n",
       "msross                                  0.000125\n",
       "clizardo                                0.000081\n",
       "mkirms                                  0.000094\n",
       "mkirms                                  0.000079\n",
       "M_Mij                                   0.000073\n",
       "not-logged-in-988154c28a4325297d39      0.000178\n",
       "djcameron                               0.000071\n",
       "mchaffin                                0.000119\n",
       "wthammas                                0.000135\n",
       "djcameron                               0.000083\n",
       "Aech                                    0.000405\n",
       "creinbol                                0.000122\n",
       "Corradini028                            4.179472\n",
       "denzel.ayala                            0.000119\n",
       "not-logged-in-703cae1b2bc68e172b7a      0.000097\n",
       "James_Alkion                            0.242465\n",
       "sn346808                                0.029721\n",
       "Rian_NL                                 0.000091\n",
       "                                         ...    \n",
       "tdrabic                                 0.000137\n",
       "tdrabic                                 0.000117\n",
       "not-logged-in-4eca74726daa55b796a5      0.001082\n",
       "campanellimichael13                     0.000335\n",
       "areed25                                 0.000057\n",
       "not-logged-in-812b279e0836b083d452      0.000097\n",
       "not-logged-in-812b279e0836b083d452      0.000093\n",
       "not-logged-in-812b279e0836b083d452      0.000110\n",
       "not-logged-in-812b279e0836b083d452      0.000081\n",
       "not-logged-in-5ac154f0432676b57e90      0.000378\n",
       "not-logged-in-b5d420593f7d306ae643      0.012546\n",
       "heathmonie                              0.000306\n",
       "liamthepilot                            0.000144\n",
       "ksheahon                                0.000650\n",
       "lmhob14                                 0.000209\n",
       "Getrekt10127                          179.534897\n",
       "Corradini028                            0.000507\n",
       "Lavadude                                0.000507\n",
       "campanellimichael13                     0.000507\n",
       "ckkmomma                                0.000507\n",
       "coleman73                               0.000507\n",
       "drpark                                  0.000507\n",
       "kayleebug2017                           0.000507\n",
       "ksheahon                                0.000507\n",
       "ncaro                                   0.000507\n",
       "not-logged-in-8c0c95c9a1ffedd94033      0.000507\n",
       "not-logged-in-906a639f625f28229b9a      0.000507\n",
       "not-logged-in-cd6a5cac0334cc279337      0.000507\n",
       "not-logged-in-ea8ed61a7274cfb6a43b      0.000507\n",
       "turquoise29                             0.000507\n",
       "Name: 20902084, Length: 79, dtype: float64"
      ]
     },
     "execution_count": 7,
     "metadata": {},
     "output_type": "execute_result"
    }
   ],
   "source": [
    "losses = get_losses_by_user(subject_id)\n",
    "losses"
   ]
  },
  {
   "cell_type": "code",
   "execution_count": 8,
   "metadata": {
    "collapsed": false,
    "inputHidden": false,
    "outputHidden": false,
    "papermill": {
     "duration": 0.081573,
     "end_time": "2019-09-02T10:20:57.541509",
     "exception": false,
     "start_time": "2019-09-02T10:20:57.459936",
     "status": "completed"
    },
    "tags": []
   },
   "outputs": [
    {
     "data": {
      "application/scrapbook.scrap.json+json": {
       "data": 20902084,
       "encoder": "json",
       "name": "subject_id",
       "version": 1
      }
     },
     "metadata": {
      "scrapbook": {
       "data": true,
       "display": false,
       "name": "subject_id"
      }
     },
     "output_type": "display_data"
    },
    {
     "data": {
      "application/scrapbook.scrap.json+json": {
       "data": {
        "Aech": 0.0004046364615097051,
        "Corradini028": 0.0005070329059249667,
        "Getrekt10127": 179.53489693918345,
        "James_Alkion": 0.24246458754500516,
        "Lavadude": 0.0005070329059249667,
        "M_Mij": 7.30612401082723e-05,
        "NikkaAlinea": 0.00018509696547761581,
        "Rian_NL": 9.1085093169579e-05,
        "Thedunkmasta": 0.000200613532546464,
        "acorcor4": 0.00011667953188726897,
        "areed25": 5.744045538512464e-05,
        "campanellimichael13": 0.0005070329059249667,
        "ckkmomma": 0.0005070329059249667,
        "clizardo": 8.118333571757987e-05,
        "coleman73": 0.0005070329059249667,
        "creinbol": 0.0001220353350417279,
        "denzel.ayala": 0.00011855170482545753,
        "djcameron": 8.314713310107958e-05,
        "dmosier13": 0.0001692459335236325,
        "drpark": 0.0005070329059249667,
        "edgardo.e.nogueira": 0.003057155376586381,
        "gavinrider": 0.02854914147936839,
        "heathmonie": 0.0003064595731194803,
        "kayleebug2017": 0.0005070329059249667,
        "ksheahon": 0.0005070329059249667,
        "liamthepilot": 0.00014430261672238962,
        "lmhob14": 0.00020864069005025403,
        "mchaffin": 0.00011871245947155661,
        "mcraft2019": 0.02289445168366992,
        "mkirms": 7.852106273700183e-05,
        "mlang2017": 0.016056139572766862,
        "msalin03": 7.718226345578947e-05,
        "msross": 0.00012500437586574642,
        "ncaro": 0.0005070329059249667,
        "not-logged-in-0997cfcba8da23453381": 0.47559086606702766,
        "not-logged-in-40766e04a4e4595c49cd": 0.13324667617193345,
        "not-logged-in-4eca74726daa55b796a5": 0.0010824366160947986,
        "not-logged-in-5ac154f0432676b57e90": 0.00037775790272292993,
        "not-logged-in-621b62a5f3840545c538": 0.0065667084317666494,
        "not-logged-in-703cae1b2bc68e172b7a": 9.747352951086616e-05,
        "not-logged-in-812b279e0836b083d452": 8.072574108655071e-05,
        "not-logged-in-8c0c95c9a1ffedd94033": 0.0005070329059249667,
        "not-logged-in-906a639f625f28229b9a": 0.0005070329059249667,
        "not-logged-in-988154c28a4325297d39": 0.00017788752505076317,
        "not-logged-in-b46631f292b19e67bda4": 0.010673980884113091,
        "not-logged-in-b5d420593f7d306ae643": 0.012545805437122923,
        "not-logged-in-cd6a5cac0334cc279337": 0.0005070329059249667,
        "not-logged-in-d26daff360c1608523df": 0.00013251190174576606,
        "not-logged-in-d3195e2b20d00e378940": 0.0053117402199819915,
        "not-logged-in-ea8ed61a7274cfb6a43b": 0.0005070329059249667,
        "rcbeck": 8.522123215438148e-05,
        "sinjinza1984": 8.134458122706756e-05,
        "sn346808": 0.029721001364853648,
        "tdrabic": 0.00011668598726097403,
        "turquoise29": 0.0005070329059249667,
        "wrxtminecrafter": 0.00035272471050107524,
        "wthammas": 0.00013511852356135523
       },
       "encoder": "json",
       "name": "losses",
       "version": 1
      }
     },
     "metadata": {
      "scrapbook": {
       "data": true,
       "display": false,
       "name": "losses"
      }
     },
     "output_type": "display_data"
    }
   ],
   "source": [
    "sb.glue('subject_id', subject_id)\n",
    "sb.glue('losses', losses.to_dict())"
   ]
  }
 ],
 "metadata": {
  "kernel_info": {
   "name": "python3"
  },
  "kernelspec": {
   "display_name": "Python 3",
   "language": "python",
   "name": "python3"
  },
  "language_info": {
   "codemirror_mode": {
    "name": "ipython",
    "version": 3
   },
   "file_extension": ".py",
   "mimetype": "text/x-python",
   "name": "python",
   "nbconvert_exporter": "python",
   "pygments_lexer": "ipython3",
   "version": "3.7.3"
  },
  "nteract": {
   "version": "0.14.3"
  },
  "papermill": {
   "duration": 46.123116,
   "end_time": "2019-09-02T10:20:59.179180",
   "environment_variables": {},
   "exception": null,
   "input_path": "/users/tingard/gzbuilder_results/input_files/volunteer_losses.ipynb",
   "output_path": "/users/tingard/gzbuilder_results/output_files/volunteer_losses/20902084.ipynb",
   "parameters": {
    "subject_id": 20902084
   },
   "start_time": "2019-09-02T10:20:13.056064",
   "version": "1.0.1"
  }
 },
 "nbformat": 4,
 "nbformat_minor": 0
}