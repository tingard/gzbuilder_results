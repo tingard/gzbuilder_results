{
 "cells": [
  {
   "cell_type": "markdown",
   "metadata": {
    "papermill": {
     "duration": 0.008261,
     "end_time": "2019-09-02T10:21:10.785674",
     "exception": false,
     "start_time": "2019-09-02T10:21:10.777413",
     "status": "completed"
    },
    "tags": []
   },
   "source": [
    "# Volunteer model loss calculation\n",
    "\n",
    "This notebook takes a `subject_id` and calculates the MSE of each volunteer's model to the galaxy data. These losses are then glued to the notebook for use elsewhere."
   ]
  },
  {
   "cell_type": "code",
   "execution_count": 1,
   "metadata": {
    "collapsed": false,
    "inputHidden": false,
    "outputHidden": false,
    "papermill": {
     "duration": 0.025606,
     "end_time": "2019-09-02T10:21:10.819193",
     "exception": false,
     "start_time": "2019-09-02T10:21:10.793587",
     "status": "completed"
    },
    "tags": []
   },
   "outputs": [],
   "source": [
    "%load_ext autoreload\n",
    "%autoreload 2"
   ]
  },
  {
   "cell_type": "code",
   "execution_count": 2,
   "metadata": {
    "collapsed": false,
    "inputHidden": false,
    "outputHidden": false,
    "papermill": {
     "duration": 4.063216,
     "end_time": "2019-09-02T10:21:14.889664",
     "exception": false,
     "start_time": "2019-09-02T10:21:10.826448",
     "status": "completed"
    },
    "tags": []
   },
   "outputs": [
    {
     "name": "stderr",
     "output_type": "stream",
     "text": [
      "/opt/apps/pkgs/anaconda3/2019.03/intel64/lib/python3.7/site-packages/dask/config.py:168: YAMLLoadWarning: calling yaml.load() without Loader=... is deprecated, as the default Loader is unsafe. Please read https://msg.pyyaml.org/load for full details.\n",
      "  data = yaml.load(f.read()) or {}\n"
     ]
    }
   ],
   "source": [
    "import json\n",
    "import numpy as np\n",
    "import pandas as pd\n",
    "from tqdm import tqdm\n",
    "import matplotlib.pyplot as plt\n",
    "import seaborn as sns\n",
    "from gzbuilder_analysis import parsing, rendering, fitting\n",
    "import lib.galaxy_utilities as gu\n",
    "import scrapbook as sb"
   ]
  },
  {
   "cell_type": "code",
   "execution_count": 3,
   "metadata": {
    "collapsed": false,
    "inputHidden": false,
    "outputHidden": false,
    "papermill": {
     "duration": 0.045665,
     "end_time": "2019-09-02T10:21:14.944973",
     "exception": false,
     "start_time": "2019-09-02T10:21:14.899308",
     "status": "completed"
    },
    "tags": [
     "parameters"
    ]
   },
   "outputs": [],
   "source": [
    "subject_id = 20902040"
   ]
  },
  {
   "cell_type": "code",
   "execution_count": 4,
   "metadata": {
    "papermill": {
     "duration": 0.044722,
     "end_time": "2019-09-02T10:21:14.998885",
     "exception": false,
     "start_time": "2019-09-02T10:21:14.954163",
     "status": "completed"
    },
    "tags": [
     "injected-parameters"
    ]
   },
   "outputs": [],
   "source": [
    "# Parameters\n",
    "subject_id = 21686601\n"
   ]
  },
  {
   "cell_type": "code",
   "execution_count": 5,
   "metadata": {
    "collapsed": false,
    "inputHidden": false,
    "outputHidden": false,
    "papermill": {
     "duration": 0.155693,
     "end_time": "2019-09-02T10:21:15.162077",
     "exception": false,
     "start_time": "2019-09-02T10:21:15.006384",
     "status": "completed"
    },
    "tags": []
   },
   "outputs": [],
   "source": [
    "diff_data_df = pd.read_pickle('lib/fitting_metadata.pkl')"
   ]
  },
  {
   "cell_type": "code",
   "execution_count": 6,
   "metadata": {
    "collapsed": false,
    "inputHidden": false,
    "outputHidden": false,
    "papermill": {
     "duration": 0.048068,
     "end_time": "2019-09-02T10:21:15.217706",
     "exception": false,
     "start_time": "2019-09-02T10:21:15.169638",
     "status": "completed"
    },
    "tags": []
   },
   "outputs": [],
   "source": [
    "def get_losses_by_user(subject_id):\n",
    "  diff_data = diff_data_df.loc[subject_id]\n",
    "  psf = diff_data['psf']\n",
    "  pixel_mask = np.array(diff_data['pixel_mask'])[::-1]\n",
    "  galaxy_data = np.array(diff_data['galaxy_data'])[::-1]\n",
    "  image_size = galaxy_data.shape[0]\n",
    "  size_diff = diff_data['size_diff']\n",
    "  \n",
    "  cls = gu.classifications.query('subject_ids == {}'.format(subject_id))\n",
    "  names = cls.user_name \n",
    "  annotations = cls['annotations'].apply(json.loads)\n",
    "\n",
    "  models = annotations.apply(\n",
    "    parsing.parse_annotation,\n",
    "    size_diff=size_diff\n",
    "  )\n",
    "\n",
    "  tqdm.pandas(\n",
    "    desc='Rendering models'.format(subject_id),\n",
    "    leave=False\n",
    "  )\n",
    "  rendered = models.progress_apply(\n",
    "    rendering.calculate_model,\n",
    "    image_size=image_size,\n",
    "    psf=psf\n",
    "  ).rename('rendered')\n",
    "\n",
    "  tqdm.pandas(\n",
    "    desc='Calculating differences'.format(subject_id),\n",
    "    leave=False\n",
    "  )\n",
    "  losses = rendered.apply(\n",
    "    fitting.loss,\n",
    "    args=(galaxy_data, pixel_mask)\n",
    "  ).rename('loss')\n",
    "  all_losses = pd.Series(\n",
    "    losses.values,\n",
    "    index=names.values\n",
    "  ).rename(subject_id)\n",
    "  best_losses = pd.concat((\n",
    "    all_losses.where(\n",
    "      ~all_losses.duplicated(keep=False)\n",
    "    ).dropna(), # all non-duplicates\n",
    "    all_losses.where(\n",
    "      all_losses.duplicated(keep=False)\n",
    "    ).dropna().groupby(level=0).min() # best value of duplicates\n",
    "  ), axis=0)\n",
    "  return best_losses"
   ]
  },
  {
   "cell_type": "code",
   "execution_count": 7,
   "metadata": {
    "collapsed": false,
    "inputHidden": false,
    "outputHidden": false,
    "papermill": {
     "duration": 6.827944,
     "end_time": "2019-09-02T10:21:22.053242",
     "exception": false,
     "start_time": "2019-09-02T10:21:15.225298",
     "status": "completed"
    },
    "tags": []
   },
   "outputs": [
    {
     "name": "stderr",
     "output_type": "stream",
     "text": [
      "\r",
      "Rendering models:   0%|          | 0/30 [00:00<?, ?it/s]"
     ]
    },
    {
     "name": "stderr",
     "output_type": "stream",
     "text": [
      "\r",
      "Rendering models:  10%|█         | 3/30 [00:04<00:42,  1.57s/it]"
     ]
    },
    {
     "name": "stderr",
     "output_type": "stream",
     "text": [
      "\r",
      "Rendering models:  20%|██        | 6/30 [00:04<00:26,  1.11s/it]"
     ]
    },
    {
     "name": "stderr",
     "output_type": "stream",
     "text": [
      "\r",
      "Rendering models:  23%|██▎       | 7/30 [00:06<00:26,  1.14s/it]"
     ]
    },
    {
     "name": "stderr",
     "output_type": "stream",
     "text": [
      "\r",
      "Rendering models:  40%|████      | 12/30 [00:06<00:14,  1.24it/s]"
     ]
    },
    {
     "name": "stderr",
     "output_type": "stream",
     "text": [
      "\r",
      "Rendering models:  50%|█████     | 15/30 [00:06<00:08,  1.73it/s]"
     ]
    },
    {
     "name": "stderr",
     "output_type": "stream",
     "text": [
      "\r",
      "Rendering models:  63%|██████▎   | 19/30 [00:06<00:04,  2.42it/s]"
     ]
    },
    {
     "name": "stderr",
     "output_type": "stream",
     "text": [
      "\r",
      "Rendering models:  73%|███████▎  | 22/30 [00:06<00:02,  3.31it/s]"
     ]
    },
    {
     "name": "stderr",
     "output_type": "stream",
     "text": [
      "\r",
      "Rendering models:  83%|████████▎ | 25/30 [00:06<00:01,  4.51it/s]"
     ]
    },
    {
     "name": "stderr",
     "output_type": "stream",
     "text": [
      "\r",
      "                                                                 "
     ]
    },
    {
     "name": "stderr",
     "output_type": "stream",
     "text": [
      "\r"
     ]
    },
    {
     "data": {
      "text/plain": [
       "SavinSpaceEngineer                    0.000175\n",
       "mkehrli                               0.000709\n",
       "thedarktree                           0.000548\n",
       "kjkavene                              0.000275\n",
       "shocko61                              0.000414\n",
       "jmfranci                              0.001431\n",
       "tosnyder                              0.000471\n",
       "mbaker23                              0.003501\n",
       "not-logged-in-fd43696c853d81e3a866    0.035069\n",
       "FelipedaFonseca                       0.000784\n",
       "not-logged-in-ad174108f92057f38166    0.048315\n",
       "clars915                              0.004118\n",
       "not-logged-in-85b8889f1dc046a97347    0.002650\n",
       "crush202020                           0.000434\n",
       "not-logged-in-9f30f411df9d28d2c541    0.002394\n",
       "acapirala                             0.000257\n",
       "not-logged-in-04ed9ae880f18762cd9e    0.170847\n",
       "Lavadude                              0.027394\n",
       "layne.woodward2701                    0.015138\n",
       "Windstar187                           0.001484\n",
       "ShirleyL                              0.000272\n",
       "onustu                                0.105922\n",
       "DanielEsteves                         0.009500\n",
       "robertcockcroft                       0.000530\n",
       "syt18                                 0.001276\n",
       "LAMBO101799                           0.004827\n",
       "chandanniel                           0.004827\n",
       "ncaro                                 0.004827\n",
       "not-logged-in-f5ac928c4dcd4e9cb619    0.004827\n",
       "simon_harding                         0.004827\n",
       "Name: 21686601, dtype: float64"
      ]
     },
     "execution_count": 7,
     "metadata": {},
     "output_type": "execute_result"
    }
   ],
   "source": [
    "losses = get_losses_by_user(subject_id)\n",
    "losses"
   ]
  },
  {
   "cell_type": "code",
   "execution_count": 8,
   "metadata": {
    "collapsed": false,
    "inputHidden": false,
    "outputHidden": false,
    "papermill": {
     "duration": 0.051768,
     "end_time": "2019-09-02T10:21:22.115662",
     "exception": false,
     "start_time": "2019-09-02T10:21:22.063894",
     "status": "completed"
    },
    "tags": []
   },
   "outputs": [
    {
     "data": {
      "application/scrapbook.scrap.json+json": {
       "data": 21686601,
       "encoder": "json",
       "name": "subject_id",
       "version": 1
      }
     },
     "metadata": {
      "scrapbook": {
       "data": true,
       "display": false,
       "name": "subject_id"
      }
     },
     "output_type": "display_data"
    },
    {
     "data": {
      "application/scrapbook.scrap.json+json": {
       "data": {
        "DanielEsteves": 0.0094996654133662,
        "FelipedaFonseca": 0.0007842131543585659,
        "LAMBO101799": 0.004826572743470265,
        "Lavadude": 0.027393900631312595,
        "SavinSpaceEngineer": 0.0001754778255257415,
        "ShirleyL": 0.0002716718641256653,
        "Windstar187": 0.001484368094657263,
        "acapirala": 0.00025739299041392986,
        "chandanniel": 0.004826572743470265,
        "clars915": 0.004117988235605009,
        "crush202020": 0.0004343976891980616,
        "jmfranci": 0.0014314714756010847,
        "kjkavene": 0.00027542582925658434,
        "layne.woodward2701": 0.015137848035027686,
        "mbaker23": 0.0035014523508799106,
        "mkehrli": 0.0007089650977850094,
        "ncaro": 0.004826572743470265,
        "not-logged-in-04ed9ae880f18762cd9e": 0.1708474189231828,
        "not-logged-in-85b8889f1dc046a97347": 0.0026495201575891503,
        "not-logged-in-9f30f411df9d28d2c541": 0.002393900779867043,
        "not-logged-in-ad174108f92057f38166": 0.048314523944808944,
        "not-logged-in-f5ac928c4dcd4e9cb619": 0.004826572743470265,
        "not-logged-in-fd43696c853d81e3a866": 0.03506945148415592,
        "onustu": 0.10592204462704051,
        "robertcockcroft": 0.0005295937979603988,
        "shocko61": 0.00041398337318837835,
        "simon_harding": 0.004826572743470265,
        "syt18": 0.0012764172724838588,
        "thedarktree": 0.0005484976882246898,
        "tosnyder": 0.00047147954434824965
       },
       "encoder": "json",
       "name": "losses",
       "version": 1
      }
     },
     "metadata": {
      "scrapbook": {
       "data": true,
       "display": false,
       "name": "losses"
      }
     },
     "output_type": "display_data"
    }
   ],
   "source": [
    "sb.glue('subject_id', subject_id)\n",
    "sb.glue('losses', losses.to_dict())"
   ]
  }
 ],
 "metadata": {
  "kernel_info": {
   "name": "python3"
  },
  "kernelspec": {
   "display_name": "Python 3",
   "language": "python",
   "name": "python3"
  },
  "language_info": {
   "codemirror_mode": {
    "name": "ipython",
    "version": 3
   },
   "file_extension": ".py",
   "mimetype": "text/x-python",
   "name": "python",
   "nbconvert_exporter": "python",
   "pygments_lexer": "ipython3",
   "version": "3.7.3"
  },
  "nteract": {
   "version": "0.14.3"
  },
  "papermill": {
   "duration": 13.900838,
   "end_time": "2019-09-02T10:21:23.017329",
   "environment_variables": {},
   "exception": null,
   "input_path": "/users/tingard/gzbuilder_results/input_files/volunteer_losses.ipynb",
   "output_path": "/users/tingard/gzbuilder_results/output_files/volunteer_losses/21686601.ipynb",
   "parameters": {
    "subject_id": 21686601
   },
   "start_time": "2019-09-02T10:21:09.116491",
   "version": "1.0.1"
  }
 },
 "nbformat": 4,
 "nbformat_minor": 0
}