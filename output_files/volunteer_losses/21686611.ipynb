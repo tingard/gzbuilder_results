{
 "cells": [
  {
   "cell_type": "markdown",
   "metadata": {
    "papermill": {
     "duration": 0.009289,
     "end_time": "2019-09-02T10:21:08.672560",
     "exception": false,
     "start_time": "2019-09-02T10:21:08.663271",
     "status": "completed"
    },
    "tags": []
   },
   "source": [
    "# Volunteer model loss calculation\n",
    "\n",
    "This notebook takes a `subject_id` and calculates the MSE of each volunteer's model to the galaxy data. These losses are then glued to the notebook for use elsewhere."
   ]
  },
  {
   "cell_type": "code",
   "execution_count": 1,
   "metadata": {
    "collapsed": false,
    "inputHidden": false,
    "outputHidden": false,
    "papermill": {
     "duration": 0.026782,
     "end_time": "2019-09-02T10:21:08.707972",
     "exception": false,
     "start_time": "2019-09-02T10:21:08.681190",
     "status": "completed"
    },
    "tags": []
   },
   "outputs": [],
   "source": [
    "%load_ext autoreload\n",
    "%autoreload 2"
   ]
  },
  {
   "cell_type": "code",
   "execution_count": 2,
   "metadata": {
    "collapsed": false,
    "inputHidden": false,
    "outputHidden": false,
    "papermill": {
     "duration": 4.14095,
     "end_time": "2019-09-02T10:21:12.856407",
     "exception": false,
     "start_time": "2019-09-02T10:21:08.715457",
     "status": "completed"
    },
    "tags": []
   },
   "outputs": [
    {
     "name": "stderr",
     "output_type": "stream",
     "text": [
      "/opt/apps/pkgs/anaconda3/2019.03/intel64/lib/python3.7/site-packages/dask/config.py:168: YAMLLoadWarning: calling yaml.load() without Loader=... is deprecated, as the default Loader is unsafe. Please read https://msg.pyyaml.org/load for full details.\n",
      "  data = yaml.load(f.read()) or {}\n"
     ]
    }
   ],
   "source": [
    "import json\n",
    "import numpy as np\n",
    "import pandas as pd\n",
    "from tqdm import tqdm\n",
    "import matplotlib.pyplot as plt\n",
    "import seaborn as sns\n",
    "from gzbuilder_analysis import parsing, rendering, fitting\n",
    "import lib.galaxy_utilities as gu\n",
    "import scrapbook as sb"
   ]
  },
  {
   "cell_type": "code",
   "execution_count": 3,
   "metadata": {
    "collapsed": false,
    "inputHidden": false,
    "outputHidden": false,
    "papermill": {
     "duration": 0.049462,
     "end_time": "2019-09-02T10:21:12.916889",
     "exception": false,
     "start_time": "2019-09-02T10:21:12.867427",
     "status": "completed"
    },
    "tags": [
     "parameters"
    ]
   },
   "outputs": [],
   "source": [
    "subject_id = 20902040"
   ]
  },
  {
   "cell_type": "code",
   "execution_count": 4,
   "metadata": {
    "papermill": {
     "duration": 0.045421,
     "end_time": "2019-09-02T10:21:12.969753",
     "exception": false,
     "start_time": "2019-09-02T10:21:12.924332",
     "status": "completed"
    },
    "tags": [
     "injected-parameters"
    ]
   },
   "outputs": [],
   "source": [
    "# Parameters\n",
    "subject_id = 21686611\n"
   ]
  },
  {
   "cell_type": "code",
   "execution_count": 5,
   "metadata": {
    "collapsed": false,
    "inputHidden": false,
    "outputHidden": false,
    "papermill": {
     "duration": 0.150396,
     "end_time": "2019-09-02T10:21:13.128006",
     "exception": false,
     "start_time": "2019-09-02T10:21:12.977610",
     "status": "completed"
    },
    "tags": []
   },
   "outputs": [],
   "source": [
    "diff_data_df = pd.read_pickle('lib/fitting_metadata.pkl')"
   ]
  },
  {
   "cell_type": "code",
   "execution_count": 6,
   "metadata": {
    "collapsed": false,
    "inputHidden": false,
    "outputHidden": false,
    "papermill": {
     "duration": 0.05463,
     "end_time": "2019-09-02T10:21:13.190333",
     "exception": false,
     "start_time": "2019-09-02T10:21:13.135703",
     "status": "completed"
    },
    "tags": []
   },
   "outputs": [],
   "source": [
    "def get_losses_by_user(subject_id):\n",
    "  diff_data = diff_data_df.loc[subject_id]\n",
    "  psf = diff_data['psf']\n",
    "  pixel_mask = np.array(diff_data['pixel_mask'])[::-1]\n",
    "  galaxy_data = np.array(diff_data['galaxy_data'])[::-1]\n",
    "  image_size = galaxy_data.shape[0]\n",
    "  size_diff = diff_data['size_diff']\n",
    "  \n",
    "  cls = gu.classifications.query('subject_ids == {}'.format(subject_id))\n",
    "  names = cls.user_name \n",
    "  annotations = cls['annotations'].apply(json.loads)\n",
    "\n",
    "  models = annotations.apply(\n",
    "    parsing.parse_annotation,\n",
    "    size_diff=size_diff\n",
    "  )\n",
    "\n",
    "  tqdm.pandas(\n",
    "    desc='Rendering models'.format(subject_id),\n",
    "    leave=False\n",
    "  )\n",
    "  rendered = models.progress_apply(\n",
    "    rendering.calculate_model,\n",
    "    image_size=image_size,\n",
    "    psf=psf\n",
    "  ).rename('rendered')\n",
    "\n",
    "  tqdm.pandas(\n",
    "    desc='Calculating differences'.format(subject_id),\n",
    "    leave=False\n",
    "  )\n",
    "  losses = rendered.apply(\n",
    "    fitting.loss,\n",
    "    args=(galaxy_data, pixel_mask)\n",
    "  ).rename('loss')\n",
    "  all_losses = pd.Series(\n",
    "    losses.values,\n",
    "    index=names.values\n",
    "  ).rename(subject_id)\n",
    "  best_losses = pd.concat((\n",
    "    all_losses.where(\n",
    "      ~all_losses.duplicated(keep=False)\n",
    "    ).dropna(), # all non-duplicates\n",
    "    all_losses.where(\n",
    "      all_losses.duplicated(keep=False)\n",
    "    ).dropna().groupby(level=0).min() # best value of duplicates\n",
    "  ), axis=0)\n",
    "  return best_losses"
   ]
  },
  {
   "cell_type": "code",
   "execution_count": 7,
   "metadata": {
    "collapsed": false,
    "inputHidden": false,
    "outputHidden": false,
    "papermill": {
     "duration": 8.712083,
     "end_time": "2019-09-02T10:21:21.910850",
     "exception": false,
     "start_time": "2019-09-02T10:21:13.198767",
     "status": "completed"
    },
    "tags": []
   },
   "outputs": [
    {
     "name": "stderr",
     "output_type": "stream",
     "text": [
      "\r",
      "Rendering models:   0%|          | 0/32 [00:00<?, ?it/s]"
     ]
    },
    {
     "name": "stderr",
     "output_type": "stream",
     "text": [
      "\r",
      "Rendering models:   9%|▉         | 3/32 [00:02<00:25,  1.12it/s]"
     ]
    },
    {
     "name": "stderr",
     "output_type": "stream",
     "text": [
      "\r",
      "Rendering models:  12%|█▎        | 4/32 [00:02<00:18,  1.53it/s]"
     ]
    },
    {
     "name": "stderr",
     "output_type": "stream",
     "text": [
      "\r",
      "Rendering models:  25%|██▌       | 8/32 [00:02<00:11,  2.12it/s]"
     ]
    },
    {
     "name": "stderr",
     "output_type": "stream",
     "text": [
      "\r",
      "Rendering models:  28%|██▊       | 9/32 [00:05<00:22,  1.01it/s]"
     ]
    },
    {
     "name": "stderr",
     "output_type": "stream",
     "text": [
      "\r",
      "Rendering models:  34%|███▍      | 11/32 [00:05<00:15,  1.38it/s]"
     ]
    },
    {
     "name": "stderr",
     "output_type": "stream",
     "text": [
      "\r",
      "Rendering models:  38%|███▊      | 12/32 [00:05<00:10,  1.85it/s]"
     ]
    },
    {
     "name": "stderr",
     "output_type": "stream",
     "text": [
      "\r",
      "Rendering models:  41%|████      | 13/32 [00:06<00:14,  1.28it/s]"
     ]
    },
    {
     "name": "stderr",
     "output_type": "stream",
     "text": [
      "\r",
      "Rendering models:  44%|████▍     | 14/32 [00:06<00:10,  1.72it/s]"
     ]
    },
    {
     "name": "stderr",
     "output_type": "stream",
     "text": [
      "\r",
      "Rendering models:  50%|█████     | 16/32 [00:07<00:07,  2.28it/s]"
     ]
    },
    {
     "name": "stderr",
     "output_type": "stream",
     "text": [
      "\r",
      "Rendering models:  56%|█████▋    | 18/32 [00:07<00:04,  3.08it/s]"
     ]
    },
    {
     "name": "stderr",
     "output_type": "stream",
     "text": [
      "\r",
      "Rendering models:  62%|██████▎   | 20/32 [00:07<00:03,  3.83it/s]"
     ]
    },
    {
     "name": "stderr",
     "output_type": "stream",
     "text": [
      "\r",
      "Rendering models:  66%|██████▌   | 21/32 [00:07<00:02,  4.63it/s]"
     ]
    },
    {
     "name": "stderr",
     "output_type": "stream",
     "text": [
      "\r",
      "Rendering models:  69%|██████▉   | 22/32 [00:07<00:02,  4.82it/s]"
     ]
    },
    {
     "name": "stderr",
     "output_type": "stream",
     "text": [
      "\r",
      "Rendering models:  78%|███████▊  | 25/32 [00:07<00:01,  6.06it/s]"
     ]
    },
    {
     "name": "stderr",
     "output_type": "stream",
     "text": [
      "\r",
      "Rendering models:  84%|████████▍ | 27/32 [00:08<00:00,  6.67it/s]"
     ]
    },
    {
     "name": "stderr",
     "output_type": "stream",
     "text": [
      "\r",
      "Rendering models:  94%|█████████▍| 30/32 [00:08<00:00,  8.66it/s]"
     ]
    },
    {
     "name": "stderr",
     "output_type": "stream",
     "text": [
      "\r",
      "Rendering models: 100%|██████████| 32/32 [00:08<00:00,  8.86it/s]"
     ]
    },
    {
     "name": "stderr",
     "output_type": "stream",
     "text": [
      "\r",
      "                                                                 "
     ]
    },
    {
     "name": "stderr",
     "output_type": "stream",
     "text": [
      "\r"
     ]
    },
    {
     "data": {
      "text/plain": [
       "not-logged-in-bc5fdb9ea8d611e60b8b    0.000881\n",
       "Almudys                               0.001290\n",
       "Camelron                              0.000663\n",
       "shocko61                              0.000499\n",
       "shocko61                              0.000471\n",
       "not-logged-in-83c90d58182a261c0405    0.005660\n",
       "kjkavene                              0.000774\n",
       "not-logged-in-c3e2bb63f9ec3bdeea91    0.000501\n",
       "not-logged-in-f65c325548a8d20ddd46    0.001715\n",
       "lsautter                              0.000490\n",
       "not-logged-in-a92559927bfd05e023e7    0.001929\n",
       "clars915                              0.000532\n",
       "froggler                              0.000517\n",
       "acapirala                             0.000564\n",
       "Lavadude                              0.024852\n",
       "ts135992                              0.000551\n",
       "not-logged-in-8700ff8251e0704f745c    0.000510\n",
       "not-logged-in-0582d7599288fe425356    0.000714\n",
       "a-ikiso                               0.000990\n",
       "r.sundstrom3                          0.000547\n",
       "Daylyn                                0.000918\n",
       "dhaywoo                               0.001049\n",
       "Getrekt10127                          0.000806\n",
       "Fazal.H                               0.000666\n",
       "ckkmomma                              0.000637\n",
       "Tessaje04                             0.002255\n",
       "andy65killer                          0.002991\n",
       "donny1423                             0.002991\n",
       "mkehrli                               0.002991\n",
       "ncaro                                 0.002991\n",
       "not-logged-in-6cf01ec1c1cb535db647    0.002991\n",
       "Name: 21686611, dtype: float64"
      ]
     },
     "execution_count": 7,
     "metadata": {},
     "output_type": "execute_result"
    }
   ],
   "source": [
    "losses = get_losses_by_user(subject_id)\n",
    "losses"
   ]
  },
  {
   "cell_type": "code",
   "execution_count": 8,
   "metadata": {
    "collapsed": false,
    "inputHidden": false,
    "outputHidden": false,
    "papermill": {
     "duration": 0.056484,
     "end_time": "2019-09-02T10:21:21.980263",
     "exception": false,
     "start_time": "2019-09-02T10:21:21.923779",
     "status": "completed"
    },
    "tags": []
   },
   "outputs": [
    {
     "data": {
      "application/scrapbook.scrap.json+json": {
       "data": 21686611,
       "encoder": "json",
       "name": "subject_id",
       "version": 1
      }
     },
     "metadata": {
      "scrapbook": {
       "data": true,
       "display": false,
       "name": "subject_id"
      }
     },
     "output_type": "display_data"
    },
    {
     "data": {
      "application/scrapbook.scrap.json+json": {
       "data": {
        "Almudys": 0.0012896757602581617,
        "Camelron": 0.0006629633902378924,
        "Daylyn": 0.000917955584736444,
        "Fazal.H": 0.0006663620225483968,
        "Getrekt10127": 0.0008060674929186522,
        "Lavadude": 0.024851762967966547,
        "Tessaje04": 0.002254910724447967,
        "a-ikiso": 0.0009902450614014022,
        "acapirala": 0.0005644378268498518,
        "andy65killer": 0.002990763119014865,
        "ckkmomma": 0.0006373874644581831,
        "clars915": 0.0005318066215651785,
        "dhaywoo": 0.001049040090822555,
        "donny1423": 0.002990763119014865,
        "froggler": 0.000516774817112505,
        "kjkavene": 0.0007735259188114226,
        "lsautter": 0.0004895776519580958,
        "mkehrli": 0.002990763119014865,
        "ncaro": 0.002990763119014865,
        "not-logged-in-0582d7599288fe425356": 0.0007142179039291225,
        "not-logged-in-6cf01ec1c1cb535db647": 0.002990763119014865,
        "not-logged-in-83c90d58182a261c0405": 0.005659914935220286,
        "not-logged-in-8700ff8251e0704f745c": 0.000510019462017666,
        "not-logged-in-a92559927bfd05e023e7": 0.001929277816208871,
        "not-logged-in-bc5fdb9ea8d611e60b8b": 0.0008812562991176319,
        "not-logged-in-c3e2bb63f9ec3bdeea91": 0.0005013194256303899,
        "not-logged-in-f65c325548a8d20ddd46": 0.001714654289036212,
        "r.sundstrom3": 0.000546702553224039,
        "shocko61": 0.00047072973904808746,
        "ts135992": 0.0005511461810911452
       },
       "encoder": "json",
       "name": "losses",
       "version": 1
      }
     },
     "metadata": {
      "scrapbook": {
       "data": true,
       "display": false,
       "name": "losses"
      }
     },
     "output_type": "display_data"
    }
   ],
   "source": [
    "sb.glue('subject_id', subject_id)\n",
    "sb.glue('losses', losses.to_dict())"
   ]
  }
 ],
 "metadata": {
  "kernel_info": {
   "name": "python3"
  },
  "kernelspec": {
   "display_name": "Python 3",
   "language": "python",
   "name": "python3"
  },
  "language_info": {
   "codemirror_mode": {
    "name": "ipython",
    "version": 3
   },
   "file_extension": ".py",
   "mimetype": "text/x-python",
   "name": "python",
   "nbconvert_exporter": "python",
   "pygments_lexer": "ipython3",
   "version": "3.7.3"
  },
  "nteract": {
   "version": "0.14.3"
  },
  "papermill": {
   "duration": 16.913123,
   "end_time": "2019-09-02T10:21:23.710973",
   "environment_variables": {},
   "exception": null,
   "input_path": "/users/tingard/gzbuilder_results/input_files/volunteer_losses.ipynb",
   "output_path": "/users/tingard/gzbuilder_results/output_files/volunteer_losses/21686611.ipynb",
   "parameters": {
    "subject_id": 21686611
   },
   "start_time": "2019-09-02T10:21:06.797850",
   "version": "1.0.1"
  }
 },
 "nbformat": 4,
 "nbformat_minor": 0
}