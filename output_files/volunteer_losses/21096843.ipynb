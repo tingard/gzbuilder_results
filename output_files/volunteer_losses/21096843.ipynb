{
 "cells": [
  {
   "cell_type": "markdown",
   "metadata": {
    "papermill": {
     "duration": 0.008261,
     "end_time": "2019-09-02T10:20:16.177531",
     "exception": false,
     "start_time": "2019-09-02T10:20:16.169270",
     "status": "completed"
    },
    "tags": []
   },
   "source": [
    "# Volunteer model loss calculation\n",
    "\n",
    "This notebook takes a `subject_id` and calculates the MSE of each volunteer's model to the galaxy data. These losses are then glued to the notebook for use elsewhere."
   ]
  },
  {
   "cell_type": "code",
   "execution_count": 1,
   "metadata": {
    "collapsed": false,
    "inputHidden": false,
    "outputHidden": false,
    "papermill": {
     "duration": 0.022669,
     "end_time": "2019-09-02T10:20:16.207668",
     "exception": false,
     "start_time": "2019-09-02T10:20:16.184999",
     "status": "completed"
    },
    "tags": []
   },
   "outputs": [],
   "source": [
    "%load_ext autoreload\n",
    "%autoreload 2"
   ]
  },
  {
   "cell_type": "code",
   "execution_count": 2,
   "metadata": {
    "collapsed": false,
    "inputHidden": false,
    "outputHidden": false,
    "papermill": {
     "duration": 7.684822,
     "end_time": "2019-09-02T10:20:23.900025",
     "exception": false,
     "start_time": "2019-09-02T10:20:16.215203",
     "status": "completed"
    },
    "tags": []
   },
   "outputs": [
    {
     "name": "stderr",
     "output_type": "stream",
     "text": [
      "/opt/apps/pkgs/anaconda3/2019.03/intel64/lib/python3.7/site-packages/dask/config.py:168: YAMLLoadWarning: calling yaml.load() without Loader=... is deprecated, as the default Loader is unsafe. Please read https://msg.pyyaml.org/load for full details.\n",
      "  data = yaml.load(f.read()) or {}\n"
     ]
    }
   ],
   "source": [
    "import json\n",
    "import numpy as np\n",
    "import pandas as pd\n",
    "from tqdm import tqdm\n",
    "import matplotlib.pyplot as plt\n",
    "import seaborn as sns\n",
    "from gzbuilder_analysis import parsing, rendering, fitting\n",
    "import lib.galaxy_utilities as gu\n",
    "import scrapbook as sb"
   ]
  },
  {
   "cell_type": "code",
   "execution_count": 3,
   "metadata": {
    "collapsed": false,
    "inputHidden": false,
    "outputHidden": false,
    "papermill": {
     "duration": 0.04382,
     "end_time": "2019-09-02T10:20:23.954281",
     "exception": false,
     "start_time": "2019-09-02T10:20:23.910461",
     "status": "completed"
    },
    "tags": [
     "parameters"
    ]
   },
   "outputs": [],
   "source": [
    "subject_id = 20902040"
   ]
  },
  {
   "cell_type": "code",
   "execution_count": 4,
   "metadata": {
    "papermill": {
     "duration": 0.107899,
     "end_time": "2019-09-02T10:20:24.071044",
     "exception": false,
     "start_time": "2019-09-02T10:20:23.963145",
     "status": "completed"
    },
    "tags": [
     "injected-parameters"
    ]
   },
   "outputs": [],
   "source": [
    "# Parameters\n",
    "subject_id = 21096843\n"
   ]
  },
  {
   "cell_type": "code",
   "execution_count": 5,
   "metadata": {
    "collapsed": false,
    "inputHidden": false,
    "outputHidden": false,
    "papermill": {
     "duration": 0.156516,
     "end_time": "2019-09-02T10:20:24.235961",
     "exception": false,
     "start_time": "2019-09-02T10:20:24.079445",
     "status": "completed"
    },
    "tags": []
   },
   "outputs": [],
   "source": [
    "diff_data_df = pd.read_pickle('lib/fitting_metadata.pkl')"
   ]
  },
  {
   "cell_type": "code",
   "execution_count": 6,
   "metadata": {
    "collapsed": false,
    "inputHidden": false,
    "outputHidden": false,
    "papermill": {
     "duration": 0.051093,
     "end_time": "2019-09-02T10:20:24.296784",
     "exception": false,
     "start_time": "2019-09-02T10:20:24.245691",
     "status": "completed"
    },
    "tags": []
   },
   "outputs": [],
   "source": [
    "def get_losses_by_user(subject_id):\n",
    "  diff_data = diff_data_df.loc[subject_id]\n",
    "  psf = diff_data['psf']\n",
    "  pixel_mask = np.array(diff_data['pixel_mask'])[::-1]\n",
    "  galaxy_data = np.array(diff_data['galaxy_data'])[::-1]\n",
    "  image_size = galaxy_data.shape[0]\n",
    "  size_diff = diff_data['size_diff']\n",
    "  \n",
    "  cls = gu.classifications.query('subject_ids == {}'.format(subject_id))\n",
    "  names = cls.user_name \n",
    "  annotations = cls['annotations'].apply(json.loads)\n",
    "\n",
    "  models = annotations.apply(\n",
    "    parsing.parse_annotation,\n",
    "    size_diff=size_diff\n",
    "  )\n",
    "\n",
    "  tqdm.pandas(\n",
    "    desc='Rendering models'.format(subject_id),\n",
    "    leave=False\n",
    "  )\n",
    "  rendered = models.progress_apply(\n",
    "    rendering.calculate_model,\n",
    "    image_size=image_size,\n",
    "    psf=psf\n",
    "  ).rename('rendered')\n",
    "\n",
    "  tqdm.pandas(\n",
    "    desc='Calculating differences'.format(subject_id),\n",
    "    leave=False\n",
    "  )\n",
    "  losses = rendered.apply(\n",
    "    fitting.loss,\n",
    "    args=(galaxy_data, pixel_mask)\n",
    "  ).rename('loss')\n",
    "  all_losses = pd.Series(\n",
    "    losses.values,\n",
    "    index=names.values\n",
    "  ).rename(subject_id)\n",
    "  best_losses = pd.concat((\n",
    "    all_losses.where(\n",
    "      ~all_losses.duplicated(keep=False)\n",
    "    ).dropna(), # all non-duplicates\n",
    "    all_losses.where(\n",
    "      all_losses.duplicated(keep=False)\n",
    "    ).dropna().groupby(level=0).min() # best value of duplicates\n",
    "  ), axis=0)\n",
    "  return best_losses"
   ]
  },
  {
   "cell_type": "code",
   "execution_count": 7,
   "metadata": {
    "collapsed": false,
    "inputHidden": false,
    "outputHidden": false,
    "papermill": {
     "duration": 23.317097,
     "end_time": "2019-09-02T10:20:47.624566",
     "exception": false,
     "start_time": "2019-09-02T10:20:24.307469",
     "status": "completed"
    },
    "tags": []
   },
   "outputs": [
    {
     "name": "stderr",
     "output_type": "stream",
     "text": [
      "\r",
      "Rendering models:   0%|          | 0/30 [00:00<?, ?it/s]"
     ]
    },
    {
     "name": "stderr",
     "output_type": "stream",
     "text": [
      "\r",
      "Rendering models:  10%|█         | 3/30 [00:07<01:07,  2.49s/it]"
     ]
    },
    {
     "name": "stderr",
     "output_type": "stream",
     "text": [
      "\r",
      "Rendering models:  17%|█▋        | 5/30 [00:08<00:45,  1.83s/it]"
     ]
    },
    {
     "name": "stderr",
     "output_type": "stream",
     "text": [
      "\r",
      "Rendering models:  20%|██        | 6/30 [00:08<00:34,  1.44s/it]"
     ]
    },
    {
     "name": "stderr",
     "output_type": "stream",
     "text": [
      "\r",
      "Rendering models:  23%|██▎       | 7/30 [00:09<00:30,  1.32s/it]"
     ]
    },
    {
     "name": "stderr",
     "output_type": "stream",
     "text": [
      "\r",
      "Rendering models:  27%|██▋       | 8/30 [00:10<00:25,  1.17s/it]"
     ]
    },
    {
     "name": "stderr",
     "output_type": "stream",
     "text": [
      "\r",
      "Rendering models:  30%|███       | 9/30 [00:10<00:18,  1.12it/s]"
     ]
    },
    {
     "name": "stderr",
     "output_type": "stream",
     "text": [
      "\r",
      "Rendering models:  33%|███▎      | 10/30 [00:11<00:17,  1.16it/s]"
     ]
    },
    {
     "name": "stderr",
     "output_type": "stream",
     "text": [
      "\r",
      "Rendering models:  37%|███▋      | 11/30 [00:12<00:15,  1.26it/s]"
     ]
    },
    {
     "name": "stderr",
     "output_type": "stream",
     "text": [
      "\r",
      "Rendering models:  40%|████      | 12/30 [00:12<00:14,  1.29it/s]"
     ]
    },
    {
     "name": "stderr",
     "output_type": "stream",
     "text": [
      "\r",
      "Rendering models:  43%|████▎     | 13/30 [00:13<00:14,  1.19it/s]"
     ]
    },
    {
     "name": "stderr",
     "output_type": "stream",
     "text": [
      "\r",
      "Rendering models:  47%|████▋     | 14/30 [00:14<00:12,  1.32it/s]"
     ]
    },
    {
     "name": "stderr",
     "output_type": "stream",
     "text": [
      "\r",
      "Rendering models:  50%|█████     | 15/30 [00:15<00:11,  1.26it/s]"
     ]
    },
    {
     "name": "stderr",
     "output_type": "stream",
     "text": [
      "\r",
      "Rendering models:  60%|██████    | 18/30 [00:15<00:07,  1.60it/s]"
     ]
    },
    {
     "name": "stderr",
     "output_type": "stream",
     "text": [
      "\r",
      "Rendering models:  63%|██████▎   | 19/30 [00:16<00:07,  1.57it/s]"
     ]
    },
    {
     "name": "stderr",
     "output_type": "stream",
     "text": [
      "\r",
      "Rendering models:  67%|██████▋   | 20/30 [00:17<00:06,  1.55it/s]"
     ]
    },
    {
     "name": "stderr",
     "output_type": "stream",
     "text": [
      "\r",
      "Rendering models:  70%|███████   | 21/30 [00:17<00:05,  1.56it/s]"
     ]
    },
    {
     "name": "stderr",
     "output_type": "stream",
     "text": [
      "\r",
      "Rendering models:  73%|███████▎  | 22/30 [00:18<00:05,  1.41it/s]"
     ]
    },
    {
     "name": "stderr",
     "output_type": "stream",
     "text": [
      "\r",
      "Rendering models:  77%|███████▋  | 23/30 [00:19<00:04,  1.47it/s]"
     ]
    },
    {
     "name": "stderr",
     "output_type": "stream",
     "text": [
      "\r",
      "Rendering models:  80%|████████  | 24/30 [00:20<00:04,  1.45it/s]"
     ]
    },
    {
     "name": "stderr",
     "output_type": "stream",
     "text": [
      "\r",
      "Rendering models:  87%|████████▋ | 26/30 [00:21<00:02,  1.57it/s]"
     ]
    },
    {
     "name": "stderr",
     "output_type": "stream",
     "text": [
      "\r",
      "Rendering models:  90%|█████████ | 27/30 [00:21<00:01,  1.75it/s]"
     ]
    },
    {
     "name": "stderr",
     "output_type": "stream",
     "text": [
      "\r",
      "Rendering models:  93%|█████████▎| 28/30 [00:22<00:01,  1.72it/s]"
     ]
    },
    {
     "name": "stderr",
     "output_type": "stream",
     "text": [
      "\r",
      "Rendering models:  97%|█████████▋| 29/30 [00:22<00:00,  1.70it/s]"
     ]
    },
    {
     "name": "stderr",
     "output_type": "stream",
     "text": [
      "\r",
      "Rendering models: 100%|██████████| 30/30 [00:23<00:00,  1.87it/s]"
     ]
    },
    {
     "name": "stderr",
     "output_type": "stream",
     "text": [
      "\r",
      "                                                                 "
     ]
    },
    {
     "name": "stderr",
     "output_type": "stream",
     "text": [
      "\r"
     ]
    },
    {
     "data": {
      "text/plain": [
       "not-logged-in-3b0b929f4475fd276561    0.002308\n",
       "jnarayanbvg                           0.000590\n",
       "awright5                              0.008550\n",
       "deivad                                0.040944\n",
       "claney99                              0.001487\n",
       "not-logged-in-d78ab5a3057206e8280b    1.212846\n",
       "framosuw                              0.000363\n",
       "M4kc                                  0.000594\n",
       "not-logged-in-a6e512f458a49544fc6d    0.001770\n",
       "lsautter                              0.000417\n",
       "not-logged-in-3bf20897ad3067a962a6    0.000568\n",
       "earthling001                          0.000977\n",
       "coyotes54                             0.000499\n",
       "not-logged-in-9f30f411df9d28d2c541    0.000744\n",
       "TRISTANM18                            0.000499\n",
       "Lavadude                              0.008760\n",
       "clars915                              0.000386\n",
       "lgonzalez62                           0.002142\n",
       "r.sundstrom3                          0.000836\n",
       "not-logged-in-e9900be6759309fd7692    0.000504\n",
       "jmacd297                              0.000734\n",
       "h4ranek                               0.000703\n",
       "LAMBO101799                           0.001974\n",
       "not-logged-in-04a9ceae95d36fd70b9a    0.000704\n",
       "not-logged-in-744a6fd88f0eab44525e    0.001974\n",
       "not-logged-in-82a2ebab429e7d7a4d6b    0.001974\n",
       "not-logged-in-832f377d2bce879e2745    0.001974\n",
       "not-logged-in-d97d30e0779c5959b0f6    0.001974\n",
       "shelagh.mccarthy                      0.001974\n",
       "Name: 21096843, dtype: float64"
      ]
     },
     "execution_count": 7,
     "metadata": {},
     "output_type": "execute_result"
    }
   ],
   "source": [
    "losses = get_losses_by_user(subject_id)\n",
    "losses"
   ]
  },
  {
   "cell_type": "code",
   "execution_count": 8,
   "metadata": {
    "collapsed": false,
    "inputHidden": false,
    "outputHidden": false,
    "papermill": {
     "duration": 0.063823,
     "end_time": "2019-09-02T10:20:47.706172",
     "exception": false,
     "start_time": "2019-09-02T10:20:47.642349",
     "status": "completed"
    },
    "tags": []
   },
   "outputs": [
    {
     "data": {
      "application/scrapbook.scrap.json+json": {
       "data": 21096843,
       "encoder": "json",
       "name": "subject_id",
       "version": 1
      }
     },
     "metadata": {
      "scrapbook": {
       "data": true,
       "display": false,
       "name": "subject_id"
      }
     },
     "output_type": "display_data"
    },
    {
     "data": {
      "application/scrapbook.scrap.json+json": {
       "data": {
        "LAMBO101799": 0.0019738938203055566,
        "Lavadude": 0.008759546475779428,
        "M4kc": 0.0005941172799821444,
        "TRISTANM18": 0.0004986213817124768,
        "awright5": 0.008549683767582672,
        "claney99": 0.001487161560965852,
        "clars915": 0.0003864359592773206,
        "coyotes54": 0.0004988462192739662,
        "deivad": 0.04094413734962847,
        "earthling001": 0.0009772402589696043,
        "framosuw": 0.0003625873046370114,
        "h4ranek": 0.0007029818896492541,
        "jmacd297": 0.0007343781393508521,
        "jnarayanbvg": 0.0005895076682750906,
        "lgonzalez62": 0.0021419139123579982,
        "lsautter": 0.00041726772856066235,
        "not-logged-in-04a9ceae95d36fd70b9a": 0.0007043666671217197,
        "not-logged-in-3b0b929f4475fd276561": 0.0023083233984193346,
        "not-logged-in-3bf20897ad3067a962a6": 0.0005675717776754323,
        "not-logged-in-744a6fd88f0eab44525e": 0.0019738938203055566,
        "not-logged-in-82a2ebab429e7d7a4d6b": 0.0019738938203055566,
        "not-logged-in-832f377d2bce879e2745": 0.0019738938203055566,
        "not-logged-in-9f30f411df9d28d2c541": 0.0007435109193474591,
        "not-logged-in-a6e512f458a49544fc6d": 0.0017699054376853242,
        "not-logged-in-d78ab5a3057206e8280b": 1.2128458610604587,
        "not-logged-in-d97d30e0779c5959b0f6": 0.0019738938203055566,
        "not-logged-in-e9900be6759309fd7692": 0.0005035532137432751,
        "r.sundstrom3": 0.0008359186333423611,
        "shelagh.mccarthy": 0.0019738938203055566
       },
       "encoder": "json",
       "name": "losses",
       "version": 1
      }
     },
     "metadata": {
      "scrapbook": {
       "data": true,
       "display": false,
       "name": "losses"
      }
     },
     "output_type": "display_data"
    }
   ],
   "source": [
    "sb.glue('subject_id', subject_id)\n",
    "sb.glue('losses', losses.to_dict())"
   ]
  }
 ],
 "metadata": {
  "kernel_info": {
   "name": "python3"
  },
  "kernelspec": {
   "display_name": "Python 3",
   "language": "python",
   "name": "python3"
  },
  "language_info": {
   "codemirror_mode": {
    "name": "ipython",
    "version": 3
   },
   "file_extension": ".py",
   "mimetype": "text/x-python",
   "name": "python",
   "nbconvert_exporter": "python",
   "pygments_lexer": "ipython3",
   "version": "3.7.3"
  },
  "nteract": {
   "version": "0.14.3"
  },
  "papermill": {
   "duration": 35.435902,
   "end_time": "2019-09-02T10:20:49.709340",
   "environment_variables": {},
   "exception": null,
   "input_path": "/users/tingard/gzbuilder_results/input_files/volunteer_losses.ipynb",
   "output_path": "/users/tingard/gzbuilder_results/output_files/volunteer_losses/21096843.ipynb",
   "parameters": {
    "subject_id": 21096843
   },
   "start_time": "2019-09-02T10:20:14.273438",
   "version": "1.0.1"
  }
 },
 "nbformat": 4,
 "nbformat_minor": 0
}