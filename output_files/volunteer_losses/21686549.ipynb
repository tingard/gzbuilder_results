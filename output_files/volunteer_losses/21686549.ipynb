{
 "cells": [
  {
   "cell_type": "markdown",
   "metadata": {
    "papermill": {
     "duration": 0.009806,
     "end_time": "2019-09-02T10:21:06.657546",
     "exception": false,
     "start_time": "2019-09-02T10:21:06.647740",
     "status": "completed"
    },
    "tags": []
   },
   "source": [
    "# Volunteer model loss calculation\n",
    "\n",
    "This notebook takes a `subject_id` and calculates the MSE of each volunteer's model to the galaxy data. These losses are then glued to the notebook for use elsewhere."
   ]
  },
  {
   "cell_type": "code",
   "execution_count": 1,
   "metadata": {
    "collapsed": false,
    "inputHidden": false,
    "outputHidden": false,
    "papermill": {
     "duration": 0.027733,
     "end_time": "2019-09-02T10:21:06.693108",
     "exception": false,
     "start_time": "2019-09-02T10:21:06.665375",
     "status": "completed"
    },
    "tags": []
   },
   "outputs": [],
   "source": [
    "%load_ext autoreload\n",
    "%autoreload 2"
   ]
  },
  {
   "cell_type": "code",
   "execution_count": 2,
   "metadata": {
    "collapsed": false,
    "inputHidden": false,
    "outputHidden": false,
    "papermill": {
     "duration": 4.30015,
     "end_time": "2019-09-02T10:21:11.000794",
     "exception": false,
     "start_time": "2019-09-02T10:21:06.700644",
     "status": "completed"
    },
    "tags": []
   },
   "outputs": [
    {
     "name": "stderr",
     "output_type": "stream",
     "text": [
      "/opt/apps/pkgs/anaconda3/2019.03/intel64/lib/python3.7/site-packages/dask/config.py:168: YAMLLoadWarning: calling yaml.load() without Loader=... is deprecated, as the default Loader is unsafe. Please read https://msg.pyyaml.org/load for full details.\n",
      "  data = yaml.load(f.read()) or {}\n"
     ]
    }
   ],
   "source": [
    "import json\n",
    "import numpy as np\n",
    "import pandas as pd\n",
    "from tqdm import tqdm\n",
    "import matplotlib.pyplot as plt\n",
    "import seaborn as sns\n",
    "from gzbuilder_analysis import parsing, rendering, fitting\n",
    "import lib.galaxy_utilities as gu\n",
    "import scrapbook as sb"
   ]
  },
  {
   "cell_type": "code",
   "execution_count": 3,
   "metadata": {
    "collapsed": false,
    "inputHidden": false,
    "outputHidden": false,
    "papermill": {
     "duration": 0.048422,
     "end_time": "2019-09-02T10:21:11.057891",
     "exception": false,
     "start_time": "2019-09-02T10:21:11.009469",
     "status": "completed"
    },
    "tags": [
     "parameters"
    ]
   },
   "outputs": [],
   "source": [
    "subject_id = 20902040"
   ]
  },
  {
   "cell_type": "code",
   "execution_count": 4,
   "metadata": {
    "papermill": {
     "duration": 0.05063,
     "end_time": "2019-09-02T10:21:11.117078",
     "exception": false,
     "start_time": "2019-09-02T10:21:11.066448",
     "status": "completed"
    },
    "tags": [
     "injected-parameters"
    ]
   },
   "outputs": [],
   "source": [
    "# Parameters\n",
    "subject_id = 21686549\n"
   ]
  },
  {
   "cell_type": "code",
   "execution_count": 5,
   "metadata": {
    "collapsed": false,
    "inputHidden": false,
    "outputHidden": false,
    "papermill": {
     "duration": 0.156716,
     "end_time": "2019-09-02T10:21:11.281362",
     "exception": false,
     "start_time": "2019-09-02T10:21:11.124646",
     "status": "completed"
    },
    "tags": []
   },
   "outputs": [],
   "source": [
    "diff_data_df = pd.read_pickle('lib/fitting_metadata.pkl')"
   ]
  },
  {
   "cell_type": "code",
   "execution_count": 6,
   "metadata": {
    "collapsed": false,
    "inputHidden": false,
    "outputHidden": false,
    "papermill": {
     "duration": 0.049934,
     "end_time": "2019-09-02T10:21:11.338810",
     "exception": false,
     "start_time": "2019-09-02T10:21:11.288876",
     "status": "completed"
    },
    "tags": []
   },
   "outputs": [],
   "source": [
    "def get_losses_by_user(subject_id):\n",
    "  diff_data = diff_data_df.loc[subject_id]\n",
    "  psf = diff_data['psf']\n",
    "  pixel_mask = np.array(diff_data['pixel_mask'])[::-1]\n",
    "  galaxy_data = np.array(diff_data['galaxy_data'])[::-1]\n",
    "  image_size = galaxy_data.shape[0]\n",
    "  size_diff = diff_data['size_diff']\n",
    "  \n",
    "  cls = gu.classifications.query('subject_ids == {}'.format(subject_id))\n",
    "  names = cls.user_name \n",
    "  annotations = cls['annotations'].apply(json.loads)\n",
    "\n",
    "  models = annotations.apply(\n",
    "    parsing.parse_annotation,\n",
    "    size_diff=size_diff\n",
    "  )\n",
    "\n",
    "  tqdm.pandas(\n",
    "    desc='Rendering models'.format(subject_id),\n",
    "    leave=False\n",
    "  )\n",
    "  rendered = models.progress_apply(\n",
    "    rendering.calculate_model,\n",
    "    image_size=image_size,\n",
    "    psf=psf\n",
    "  ).rename('rendered')\n",
    "\n",
    "  tqdm.pandas(\n",
    "    desc='Calculating differences'.format(subject_id),\n",
    "    leave=False\n",
    "  )\n",
    "  losses = rendered.apply(\n",
    "    fitting.loss,\n",
    "    args=(galaxy_data, pixel_mask)\n",
    "  ).rename('loss')\n",
    "  all_losses = pd.Series(\n",
    "    losses.values,\n",
    "    index=names.values\n",
    "  ).rename(subject_id)\n",
    "  best_losses = pd.concat((\n",
    "    all_losses.where(\n",
    "      ~all_losses.duplicated(keep=False)\n",
    "    ).dropna(), # all non-duplicates\n",
    "    all_losses.where(\n",
    "      all_losses.duplicated(keep=False)\n",
    "    ).dropna().groupby(level=0).min() # best value of duplicates\n",
    "  ), axis=0)\n",
    "  return best_losses"
   ]
  },
  {
   "cell_type": "code",
   "execution_count": 7,
   "metadata": {
    "collapsed": false,
    "inputHidden": false,
    "outputHidden": false,
    "papermill": {
     "duration": 11.589333,
     "end_time": "2019-09-02T10:21:22.937322",
     "exception": false,
     "start_time": "2019-09-02T10:21:11.347989",
     "status": "completed"
    },
    "tags": []
   },
   "outputs": [
    {
     "name": "stderr",
     "output_type": "stream",
     "text": [
      "\r",
      "Rendering models:   0%|          | 0/30 [00:00<?, ?it/s]"
     ]
    },
    {
     "name": "stderr",
     "output_type": "stream",
     "text": [
      "\r",
      "Rendering models:   7%|▋         | 2/30 [00:04<00:59,  2.12s/it]"
     ]
    },
    {
     "name": "stderr",
     "output_type": "stream",
     "text": [
      "\r",
      "Rendering models:  10%|█         | 3/30 [00:06<01:02,  2.30s/it]"
     ]
    },
    {
     "name": "stderr",
     "output_type": "stream",
     "text": [
      "\r",
      "Rendering models:  13%|█▎        | 4/30 [00:07<00:43,  1.66s/it]"
     ]
    },
    {
     "name": "stderr",
     "output_type": "stream",
     "text": [
      "\r",
      "Rendering models:  17%|█▋        | 5/30 [00:07<00:30,  1.20s/it]"
     ]
    },
    {
     "name": "stderr",
     "output_type": "stream",
     "text": [
      "\r",
      "Rendering models:  20%|██        | 6/30 [00:07<00:21,  1.11it/s]"
     ]
    },
    {
     "name": "stderr",
     "output_type": "stream",
     "text": [
      "\r",
      "Rendering models:  23%|██▎       | 7/30 [00:07<00:16,  1.38it/s]"
     ]
    },
    {
     "name": "stderr",
     "output_type": "stream",
     "text": [
      "\r",
      "Rendering models:  27%|██▋       | 8/30 [00:07<00:11,  1.84it/s]"
     ]
    },
    {
     "name": "stderr",
     "output_type": "stream",
     "text": [
      "\r",
      "Rendering models:  30%|███       | 9/30 [00:08<00:09,  2.16it/s]"
     ]
    },
    {
     "name": "stderr",
     "output_type": "stream",
     "text": [
      "\r",
      "Rendering models:  40%|████      | 12/30 [00:08<00:06,  2.87it/s]"
     ]
    },
    {
     "name": "stderr",
     "output_type": "stream",
     "text": [
      "\r",
      "Rendering models:  43%|████▎     | 13/30 [00:08<00:05,  3.33it/s]"
     ]
    },
    {
     "name": "stderr",
     "output_type": "stream",
     "text": [
      "\r",
      "Rendering models:  47%|████▋     | 14/30 [00:08<00:04,  3.28it/s]"
     ]
    },
    {
     "name": "stderr",
     "output_type": "stream",
     "text": [
      "\r",
      "Rendering models:  53%|█████▎    | 16/30 [00:09<00:03,  4.11it/s]"
     ]
    },
    {
     "name": "stderr",
     "output_type": "stream",
     "text": [
      "\r",
      "Rendering models:  57%|█████▋    | 17/30 [00:09<00:03,  3.92it/s]"
     ]
    },
    {
     "name": "stderr",
     "output_type": "stream",
     "text": [
      "\r",
      "Rendering models:  63%|██████▎   | 19/30 [00:09<00:02,  4.36it/s]"
     ]
    },
    {
     "name": "stderr",
     "output_type": "stream",
     "text": [
      "\r",
      "Rendering models:  67%|██████▋   | 20/30 [00:09<00:02,  4.97it/s]"
     ]
    },
    {
     "name": "stderr",
     "output_type": "stream",
     "text": [
      "\r",
      "Rendering models:  70%|███████   | 21/30 [00:10<00:01,  5.13it/s]"
     ]
    },
    {
     "name": "stderr",
     "output_type": "stream",
     "text": [
      "\r",
      "Rendering models:  77%|███████▋  | 23/30 [00:10<00:01,  5.98it/s]"
     ]
    },
    {
     "name": "stderr",
     "output_type": "stream",
     "text": [
      "\r",
      "Rendering models:  83%|████████▎ | 25/30 [00:10<00:00,  6.92it/s]"
     ]
    },
    {
     "name": "stderr",
     "output_type": "stream",
     "text": [
      "\r",
      "Rendering models:  87%|████████▋ | 26/30 [00:10<00:00,  6.74it/s]"
     ]
    },
    {
     "name": "stderr",
     "output_type": "stream",
     "text": [
      "\r",
      "Rendering models:  93%|█████████▎| 28/30 [00:10<00:00,  7.64it/s]"
     ]
    },
    {
     "name": "stderr",
     "output_type": "stream",
     "text": [
      "\r",
      "Rendering models:  97%|█████████▋| 29/30 [00:11<00:00,  6.15it/s]"
     ]
    },
    {
     "name": "stderr",
     "output_type": "stream",
     "text": [
      "\r",
      "Rendering models: 100%|██████████| 30/30 [00:11<00:00,  5.14it/s]"
     ]
    },
    {
     "name": "stderr",
     "output_type": "stream",
     "text": [
      "\r",
      "                                                                 "
     ]
    },
    {
     "name": "stderr",
     "output_type": "stream",
     "text": [
      "\r"
     ]
    },
    {
     "data": {
      "text/plain": [
       "not-logged-in-20a275b53abec8db9f41    0.090311\n",
       "not-logged-in-2b79727b9f49d75f32d0    0.000686\n",
       "Dynamatt                              0.000379\n",
       "suncoup                               0.000361\n",
       "asucich                               0.000552\n",
       "CThomas                               0.001233\n",
       "jmfranci                              0.001344\n",
       "acohen12                              0.006720\n",
       "tosnyder                              0.000724\n",
       "not-logged-in-89733ae083faff644c04    0.002039\n",
       "not-logged-in-c1baf067dee2ae342bf7    0.001911\n",
       "lsautter                              0.001439\n",
       "not-logged-in-5f30b2bb9b7f9d49da41    0.010059\n",
       "Planetme                              0.001684\n",
       "not-logged-in-9f30f411df9d28d2c541    0.000757\n",
       "not-logged-in-3ae935e3afaee843f530    0.000424\n",
       "dinosora                              0.000379\n",
       "Lavadude                              0.017971\n",
       "Charred240                            0.004485\n",
       "crush202020                           0.000462\n",
       "fanboy_deluxe                         0.004379\n",
       "jzeiszler                             0.001268\n",
       "AspenTreez                            0.002646\n",
       "not-logged-in-c62da8ffa432b982b990    0.000296\n",
       "Rday019                               0.115063\n",
       "tingard                               0.000526\n",
       "JessaJokes33                          0.003334\n",
       "holte116                              0.003334\n",
       "ncaro                                 0.003334\n",
       "not-logged-in-3ae935e3afaee843f530    0.003334\n",
       "Name: 21686549, dtype: float64"
      ]
     },
     "execution_count": 7,
     "metadata": {},
     "output_type": "execute_result"
    }
   ],
   "source": [
    "losses = get_losses_by_user(subject_id)\n",
    "losses"
   ]
  },
  {
   "cell_type": "code",
   "execution_count": 8,
   "metadata": {
    "collapsed": false,
    "inputHidden": false,
    "outputHidden": false,
    "papermill": {
     "duration": 0.056387,
     "end_time": "2019-09-02T10:21:23.006203",
     "exception": false,
     "start_time": "2019-09-02T10:21:22.949816",
     "status": "completed"
    },
    "tags": []
   },
   "outputs": [
    {
     "data": {
      "application/scrapbook.scrap.json+json": {
       "data": 21686549,
       "encoder": "json",
       "name": "subject_id",
       "version": 1
      }
     },
     "metadata": {
      "scrapbook": {
       "data": true,
       "display": false,
       "name": "subject_id"
      }
     },
     "output_type": "display_data"
    },
    {
     "data": {
      "application/scrapbook.scrap.json+json": {
       "data": {
        "AspenTreez": 0.0026459930914431926,
        "CThomas": 0.0012328676230917285,
        "Charred240": 0.004485376776074195,
        "Dynamatt": 0.00037888413478896304,
        "JessaJokes33": 0.003334083723221617,
        "Lavadude": 0.01797144458661843,
        "Planetme": 0.0016842529368454406,
        "Rday019": 0.11506269361508255,
        "acohen12": 0.006720236865317842,
        "asucich": 0.0005521077032056773,
        "crush202020": 0.0004619917161175131,
        "dinosora": 0.00037866511828629805,
        "fanboy_deluxe": 0.0043787131347340115,
        "holte116": 0.003334083723221617,
        "jmfranci": 0.0013440166365648659,
        "jzeiszler": 0.0012680285836265768,
        "lsautter": 0.0014385537555518762,
        "ncaro": 0.003334083723221617,
        "not-logged-in-20a275b53abec8db9f41": 0.09031114967794102,
        "not-logged-in-2b79727b9f49d75f32d0": 0.0006858640859510923,
        "not-logged-in-3ae935e3afaee843f530": 0.003334083723221617,
        "not-logged-in-5f30b2bb9b7f9d49da41": 0.010058947730003815,
        "not-logged-in-89733ae083faff644c04": 0.0020393700611862635,
        "not-logged-in-9f30f411df9d28d2c541": 0.0007569416857564965,
        "not-logged-in-c1baf067dee2ae342bf7": 0.001911173018163175,
        "not-logged-in-c62da8ffa432b982b990": 0.0002955189745547855,
        "suncoup": 0.0003614159425500588,
        "tingard": 0.0005262973572249564,
        "tosnyder": 0.000723997552167969
       },
       "encoder": "json",
       "name": "losses",
       "version": 1
      }
     },
     "metadata": {
      "scrapbook": {
       "data": true,
       "display": false,
       "name": "losses"
      }
     },
     "output_type": "display_data"
    }
   ],
   "source": [
    "sb.glue('subject_id', subject_id)\n",
    "sb.glue('losses', losses.to_dict())"
   ]
  }
 ],
 "metadata": {
  "kernel_info": {
   "name": "python3"
  },
  "kernelspec": {
   "display_name": "Python 3",
   "language": "python",
   "name": "python3"
  },
  "language_info": {
   "codemirror_mode": {
    "name": "ipython",
    "version": 3
   },
   "file_extension": ".py",
   "mimetype": "text/x-python",
   "name": "python",
   "nbconvert_exporter": "python",
   "pygments_lexer": "ipython3",
   "version": "3.7.3"
  },
  "nteract": {
   "version": "0.14.3"
  },
  "papermill": {
   "duration": 19.923115,
   "end_time": "2019-09-02T10:21:24.822873",
   "environment_variables": {},
   "exception": null,
   "input_path": "/users/tingard/gzbuilder_results/input_files/volunteer_losses.ipynb",
   "output_path": "/users/tingard/gzbuilder_results/output_files/volunteer_losses/21686549.ipynb",
   "parameters": {
    "subject_id": 21686549
   },
   "start_time": "2019-09-02T10:21:04.899758",
   "version": "1.0.1"
  }
 },
 "nbformat": 4,
 "nbformat_minor": 0
}