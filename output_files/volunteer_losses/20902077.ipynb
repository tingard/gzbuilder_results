{
 "cells": [
  {
   "cell_type": "markdown",
   "metadata": {
    "papermill": {
     "duration": 0.286287,
     "end_time": "2019-09-02T10:20:21.607795",
     "exception": false,
     "start_time": "2019-09-02T10:20:21.321508",
     "status": "completed"
    },
    "tags": []
   },
   "source": [
    "# Volunteer model loss calculation\n",
    "\n",
    "This notebook takes a `subject_id` and calculates the MSE of each volunteer's model to the galaxy data. These losses are then glued to the notebook for use elsewhere."
   ]
  },
  {
   "cell_type": "code",
   "execution_count": 1,
   "metadata": {
    "collapsed": false,
    "inputHidden": false,
    "outputHidden": false,
    "papermill": {
     "duration": 0.13783,
     "end_time": "2019-09-02T10:20:21.800423",
     "exception": false,
     "start_time": "2019-09-02T10:20:21.662593",
     "status": "completed"
    },
    "tags": []
   },
   "outputs": [],
   "source": [
    "%load_ext autoreload\n",
    "%autoreload 2"
   ]
  },
  {
   "cell_type": "code",
   "execution_count": 2,
   "metadata": {
    "collapsed": false,
    "inputHidden": false,
    "outputHidden": false,
    "papermill": {
     "duration": 5.944579,
     "end_time": "2019-09-02T10:20:27.753647",
     "exception": false,
     "start_time": "2019-09-02T10:20:21.809068",
     "status": "completed"
    },
    "tags": []
   },
   "outputs": [
    {
     "name": "stderr",
     "output_type": "stream",
     "text": [
      "/opt/apps/pkgs/anaconda3/2019.03/intel64/lib/python3.7/site-packages/dask/config.py:168: YAMLLoadWarning: calling yaml.load() without Loader=... is deprecated, as the default Loader is unsafe. Please read https://msg.pyyaml.org/load for full details.\n",
      "  data = yaml.load(f.read()) or {}\n"
     ]
    }
   ],
   "source": [
    "import json\n",
    "import numpy as np\n",
    "import pandas as pd\n",
    "from tqdm import tqdm\n",
    "import matplotlib.pyplot as plt\n",
    "import seaborn as sns\n",
    "from gzbuilder_analysis import parsing, rendering, fitting\n",
    "import lib.galaxy_utilities as gu\n",
    "import scrapbook as sb"
   ]
  },
  {
   "cell_type": "code",
   "execution_count": 3,
   "metadata": {
    "collapsed": false,
    "inputHidden": false,
    "outputHidden": false,
    "papermill": {
     "duration": 0.044161,
     "end_time": "2019-09-02T10:20:27.806516",
     "exception": false,
     "start_time": "2019-09-02T10:20:27.762355",
     "status": "completed"
    },
    "tags": [
     "parameters"
    ]
   },
   "outputs": [],
   "source": [
    "subject_id = 20902040"
   ]
  },
  {
   "cell_type": "code",
   "execution_count": 4,
   "metadata": {
    "papermill": {
     "duration": 0.042525,
     "end_time": "2019-09-02T10:20:27.857222",
     "exception": false,
     "start_time": "2019-09-02T10:20:27.814697",
     "status": "completed"
    },
    "tags": [
     "injected-parameters"
    ]
   },
   "outputs": [],
   "source": [
    "# Parameters\n",
    "subject_id = 20902077\n"
   ]
  },
  {
   "cell_type": "code",
   "execution_count": 5,
   "metadata": {
    "collapsed": false,
    "inputHidden": false,
    "outputHidden": false,
    "papermill": {
     "duration": 0.151666,
     "end_time": "2019-09-02T10:20:28.016411",
     "exception": false,
     "start_time": "2019-09-02T10:20:27.864745",
     "status": "completed"
    },
    "tags": []
   },
   "outputs": [],
   "source": [
    "diff_data_df = pd.read_pickle('lib/fitting_metadata.pkl')"
   ]
  },
  {
   "cell_type": "code",
   "execution_count": 6,
   "metadata": {
    "collapsed": false,
    "inputHidden": false,
    "outputHidden": false,
    "papermill": {
     "duration": 0.050447,
     "end_time": "2019-09-02T10:20:28.074693",
     "exception": false,
     "start_time": "2019-09-02T10:20:28.024246",
     "status": "completed"
    },
    "tags": []
   },
   "outputs": [],
   "source": [
    "def get_losses_by_user(subject_id):\n",
    "  diff_data = diff_data_df.loc[subject_id]\n",
    "  psf = diff_data['psf']\n",
    "  pixel_mask = np.array(diff_data['pixel_mask'])[::-1]\n",
    "  galaxy_data = np.array(diff_data['galaxy_data'])[::-1]\n",
    "  image_size = galaxy_data.shape[0]\n",
    "  size_diff = diff_data['size_diff']\n",
    "  \n",
    "  cls = gu.classifications.query('subject_ids == {}'.format(subject_id))\n",
    "  names = cls.user_name \n",
    "  annotations = cls['annotations'].apply(json.loads)\n",
    "\n",
    "  models = annotations.apply(\n",
    "    parsing.parse_annotation,\n",
    "    size_diff=size_diff\n",
    "  )\n",
    "\n",
    "  tqdm.pandas(\n",
    "    desc='Rendering models'.format(subject_id),\n",
    "    leave=False\n",
    "  )\n",
    "  rendered = models.progress_apply(\n",
    "    rendering.calculate_model,\n",
    "    image_size=image_size,\n",
    "    psf=psf\n",
    "  ).rename('rendered')\n",
    "\n",
    "  tqdm.pandas(\n",
    "    desc='Calculating differences'.format(subject_id),\n",
    "    leave=False\n",
    "  )\n",
    "  losses = rendered.apply(\n",
    "    fitting.loss,\n",
    "    args=(galaxy_data, pixel_mask)\n",
    "  ).rename('loss')\n",
    "  all_losses = pd.Series(\n",
    "    losses.values,\n",
    "    index=names.values\n",
    "  ).rename(subject_id)\n",
    "  best_losses = pd.concat((\n",
    "    all_losses.where(\n",
    "      ~all_losses.duplicated(keep=False)\n",
    "    ).dropna(), # all non-duplicates\n",
    "    all_losses.where(\n",
    "      all_losses.duplicated(keep=False)\n",
    "    ).dropna().groupby(level=0).min() # best value of duplicates\n",
    "  ), axis=0)\n",
    "  return best_losses"
   ]
  },
  {
   "cell_type": "code",
   "execution_count": 7,
   "metadata": {
    "collapsed": false,
    "inputHidden": false,
    "outputHidden": false,
    "papermill": {
     "duration": 14.753207,
     "end_time": "2019-09-02T10:20:42.835968",
     "exception": false,
     "start_time": "2019-09-02T10:20:28.082761",
     "status": "completed"
    },
    "tags": []
   },
   "outputs": [
    {
     "name": "stderr",
     "output_type": "stream",
     "text": [
      "\r",
      "Rendering models:   0%|          | 0/88 [00:00<?, ?it/s]"
     ]
    },
    {
     "name": "stderr",
     "output_type": "stream",
     "text": [
      "\r",
      "Rendering models:   2%|▏         | 2/88 [00:01<01:12,  1.18it/s]"
     ]
    },
    {
     "name": "stderr",
     "output_type": "stream",
     "text": [
      "\r",
      "Rendering models:   3%|▎         | 3/88 [00:05<02:21,  1.66s/it]"
     ]
    },
    {
     "name": "stderr",
     "output_type": "stream",
     "text": [
      "\r",
      "Rendering models:   5%|▍         | 4/88 [00:05<01:40,  1.20s/it]"
     ]
    },
    {
     "name": "stderr",
     "output_type": "stream",
     "text": [
      "\r",
      "Rendering models:   6%|▌         | 5/88 [00:07<01:51,  1.34s/it]"
     ]
    },
    {
     "name": "stderr",
     "output_type": "stream",
     "text": [
      "\r",
      "Rendering models:   8%|▊         | 7/88 [00:07<01:18,  1.03it/s]"
     ]
    },
    {
     "name": "stderr",
     "output_type": "stream",
     "text": [
      "\r",
      "Rendering models:  10%|█         | 9/88 [00:07<00:56,  1.41it/s]"
     ]
    },
    {
     "name": "stderr",
     "output_type": "stream",
     "text": [
      "\r",
      "Rendering models:  11%|█▏        | 10/88 [00:07<00:44,  1.76it/s]"
     ]
    },
    {
     "name": "stderr",
     "output_type": "stream",
     "text": [
      "\r",
      "Rendering models:  14%|█▎        | 12/88 [00:07<00:32,  2.32it/s]"
     ]
    },
    {
     "name": "stderr",
     "output_type": "stream",
     "text": [
      "\r",
      "Rendering models:  22%|██▏       | 19/88 [00:08<00:21,  3.21it/s]"
     ]
    },
    {
     "name": "stderr",
     "output_type": "stream",
     "text": [
      "\r",
      "Rendering models:  24%|██▍       | 21/88 [00:08<00:16,  3.98it/s]"
     ]
    },
    {
     "name": "stderr",
     "output_type": "stream",
     "text": [
      "\r",
      "Rendering models:  26%|██▌       | 23/88 [00:08<00:14,  4.55it/s]"
     ]
    },
    {
     "name": "stderr",
     "output_type": "stream",
     "text": [
      "\r",
      "Rendering models:  28%|██▊       | 25/88 [00:08<00:12,  5.09it/s]"
     ]
    },
    {
     "name": "stderr",
     "output_type": "stream",
     "text": [
      "\r",
      "Rendering models:  30%|██▉       | 26/88 [00:09<00:10,  5.92it/s]"
     ]
    },
    {
     "name": "stderr",
     "output_type": "stream",
     "text": [
      "\r",
      "Rendering models:  31%|███       | 27/88 [00:09<00:09,  6.48it/s]"
     ]
    },
    {
     "name": "stderr",
     "output_type": "stream",
     "text": [
      "\r",
      "Rendering models:  33%|███▎      | 29/88 [00:09<00:08,  7.22it/s]"
     ]
    },
    {
     "name": "stderr",
     "output_type": "stream",
     "text": [
      "\r",
      "Rendering models:  34%|███▍      | 30/88 [00:09<00:07,  7.30it/s]"
     ]
    },
    {
     "name": "stderr",
     "output_type": "stream",
     "text": [
      "\r",
      "Rendering models:  35%|███▌      | 31/88 [00:09<00:07,  7.81it/s]"
     ]
    },
    {
     "name": "stderr",
     "output_type": "stream",
     "text": [
      "\r",
      "Rendering models:  36%|███▋      | 32/88 [00:09<00:07,  7.65it/s]"
     ]
    },
    {
     "name": "stderr",
     "output_type": "stream",
     "text": [
      "\r",
      "Rendering models:  40%|███▉      | 35/88 [00:10<00:06,  8.40it/s]"
     ]
    },
    {
     "name": "stderr",
     "output_type": "stream",
     "text": [
      "\r",
      "Rendering models:  41%|████      | 36/88 [00:10<00:06,  8.28it/s]"
     ]
    },
    {
     "name": "stderr",
     "output_type": "stream",
     "text": [
      "\r",
      "Rendering models:  42%|████▏     | 37/88 [00:10<00:06,  8.00it/s]"
     ]
    },
    {
     "name": "stderr",
     "output_type": "stream",
     "text": [
      "\r",
      "Rendering models:  44%|████▍     | 39/88 [00:10<00:05,  9.23it/s]"
     ]
    },
    {
     "name": "stderr",
     "output_type": "stream",
     "text": [
      "\r",
      "Rendering models:  47%|████▋     | 41/88 [00:10<00:05,  8.12it/s]"
     ]
    },
    {
     "name": "stderr",
     "output_type": "stream",
     "text": [
      "\r",
      "Rendering models:  48%|████▊     | 42/88 [00:10<00:05,  7.90it/s]"
     ]
    },
    {
     "name": "stderr",
     "output_type": "stream",
     "text": [
      "\r",
      "Rendering models:  49%|████▉     | 43/88 [00:11<00:05,  7.89it/s]"
     ]
    },
    {
     "name": "stderr",
     "output_type": "stream",
     "text": [
      "\r",
      "Rendering models:  50%|█████     | 44/88 [00:11<00:05,  7.95it/s]"
     ]
    },
    {
     "name": "stderr",
     "output_type": "stream",
     "text": [
      "\r",
      "Rendering models:  51%|█████     | 45/88 [00:11<00:05,  7.96it/s]"
     ]
    },
    {
     "name": "stderr",
     "output_type": "stream",
     "text": [
      "\r",
      "Rendering models:  55%|█████▍    | 48/88 [00:11<00:04,  9.43it/s]"
     ]
    },
    {
     "name": "stderr",
     "output_type": "stream",
     "text": [
      "\r",
      "Rendering models:  57%|█████▋    | 50/88 [00:11<00:04,  8.11it/s]"
     ]
    },
    {
     "name": "stderr",
     "output_type": "stream",
     "text": [
      "\r",
      "Rendering models:  58%|█████▊    | 51/88 [00:11<00:04,  8.02it/s]"
     ]
    },
    {
     "name": "stderr",
     "output_type": "stream",
     "text": [
      "\r",
      "Rendering models:  59%|█████▉    | 52/88 [00:12<00:04,  8.13it/s]"
     ]
    },
    {
     "name": "stderr",
     "output_type": "stream",
     "text": [
      "\r",
      "Rendering models:  60%|██████    | 53/88 [00:12<00:04,  8.20it/s]"
     ]
    },
    {
     "name": "stderr",
     "output_type": "stream",
     "text": [
      "\r",
      "Rendering models:  64%|██████▎   | 56/88 [00:12<00:03, 10.15it/s]"
     ]
    },
    {
     "name": "stderr",
     "output_type": "stream",
     "text": [
      "\r",
      "Rendering models:  66%|██████▌   | 58/88 [00:12<00:03,  9.51it/s]"
     ]
    },
    {
     "name": "stderr",
     "output_type": "stream",
     "text": [
      "\r",
      "Rendering models:  74%|███████▍  | 65/88 [00:12<00:01, 12.79it/s]"
     ]
    },
    {
     "name": "stderr",
     "output_type": "stream",
     "text": [
      "\r",
      "Rendering models:  77%|███████▋  | 68/88 [00:12<00:01, 11.79it/s]"
     ]
    },
    {
     "name": "stderr",
     "output_type": "stream",
     "text": [
      "\r",
      "Rendering models:  81%|████████  | 71/88 [00:13<00:01, 11.93it/s]"
     ]
    },
    {
     "name": "stderr",
     "output_type": "stream",
     "text": [
      "\r",
      "Rendering models:  83%|████████▎ | 73/88 [00:13<00:01, 12.67it/s]"
     ]
    },
    {
     "name": "stderr",
     "output_type": "stream",
     "text": [
      "\r",
      "Rendering models:  85%|████████▌ | 75/88 [00:13<00:01, 10.05it/s]"
     ]
    },
    {
     "name": "stderr",
     "output_type": "stream",
     "text": [
      "\r",
      "Rendering models:  88%|████████▊ | 77/88 [00:13<00:00, 11.78it/s]"
     ]
    },
    {
     "name": "stderr",
     "output_type": "stream",
     "text": [
      "\r",
      "Rendering models:  90%|████████▉ | 79/88 [00:13<00:00, 11.62it/s]"
     ]
    },
    {
     "name": "stderr",
     "output_type": "stream",
     "text": [
      "\r",
      "Rendering models:  92%|█████████▏| 81/88 [00:14<00:00, 11.08it/s]"
     ]
    },
    {
     "name": "stderr",
     "output_type": "stream",
     "text": [
      "\r",
      "Rendering models:  94%|█████████▍| 83/88 [00:14<00:00, 12.17it/s]"
     ]
    },
    {
     "name": "stderr",
     "output_type": "stream",
     "text": [
      "\r",
      "Rendering models:  98%|█████████▊| 86/88 [00:14<00:00, 13.29it/s]"
     ]
    },
    {
     "name": "stderr",
     "output_type": "stream",
     "text": [
      "\r",
      "Rendering models: 100%|██████████| 88/88 [00:14<00:00, 14.48it/s]"
     ]
    },
    {
     "name": "stderr",
     "output_type": "stream",
     "text": [
      "\r",
      "                                                                 "
     ]
    },
    {
     "name": "stderr",
     "output_type": "stream",
     "text": [
      "\r"
     ]
    },
    {
     "data": {
      "text/plain": [
       "kayleebug2017                         0.001895\n",
       "JessieDawn                            0.075392\n",
       "not-logged-in-5ab67c604320a0edd4c1    0.000680\n",
       "not-logged-in-0b0736c8991a7cc2017a    0.001157\n",
       "Wain-PalmerM                          0.002263\n",
       "not-logged-in-8c0c44faf754d344b18a    0.021061\n",
       "Thedunkmasta                          0.002593\n",
       "DrJackie                              0.001706\n",
       "klangon88                             0.001105\n",
       "Thedunkmasta                          0.004879\n",
       "msalin03                              0.000836\n",
       "clizardo                              0.001081\n",
       "clizardo                              0.001902\n",
       "mkirms                                0.000657\n",
       "msross                                0.000587\n",
       "M_Mij                                 0.000590\n",
       "gfess                                 0.006664\n",
       "acohen12                              0.001106\n",
       "mchaffin                              0.000432\n",
       "djcameron                             0.000621\n",
       "stgomes                               0.029350\n",
       "wthammas                              0.060241\n",
       "djcameron                             0.000723\n",
       "zenparticle                           0.018412\n",
       "creinbol                              0.000629\n",
       "cchen88                               0.000425\n",
       "denzel.ayala                          0.001743\n",
       "sn346808                              0.040973\n",
       "not-logged-in-bcf0a63d16e116a99e14    0.011744\n",
       "not-logged-in-3d3e30aac1d39bd6db71    0.000506\n",
       "                                        ...   \n",
       "dmosier13                             0.002027\n",
       "dmosier13                             0.002156\n",
       "mami2019                              0.003254\n",
       "dmosier13                             0.001608\n",
       "ywan3529                              0.003521\n",
       "tdrabic                               0.000910\n",
       "tdrabic                               0.001207\n",
       "campanellimichael13                   0.004340\n",
       "campanellimichael13                   0.073784\n",
       "not-logged-in-812b279e0836b083d452    0.000669\n",
       "not-logged-in-812b279e0836b083d452    0.001034\n",
       "not-logged-in-812b279e0836b083d452    0.000688\n",
       "not-logged-in-812b279e0836b083d452    0.000634\n",
       "not-logged-in-812b279e0836b083d452    0.000550\n",
       "not-logged-in-cd6a5cac0334cc279337    0.002368\n",
       "heathmonie                            0.001887\n",
       "heathmonie                            0.001671\n",
       "ksheahon                              0.001245\n",
       "lmhob14                               0.071010\n",
       "Getrekt10127                          0.025884\n",
       "Lavadude                              0.005764\n",
       "campanellimichael13                   0.005764\n",
       "ckkmomma                              0.005764\n",
       "ksheahon                              0.005764\n",
       "ncaro                                 0.005764\n",
       "not-logged-in-5e4e60b2e9587579f2ef    0.005764\n",
       "not-logged-in-6144658f8b3ac8370f5b    0.005764\n",
       "not-logged-in-7be2ab5b99cd33eba4f5    0.005764\n",
       "not-logged-in-bcf0a63d16e116a99e14    0.005764\n",
       "not-logged-in-d4bf4d941a1b00de226b    0.005764\n",
       "Name: 20902077, Length: 77, dtype: float64"
      ]
     },
     "execution_count": 7,
     "metadata": {},
     "output_type": "execute_result"
    }
   ],
   "source": [
    "losses = get_losses_by_user(subject_id)\n",
    "losses"
   ]
  },
  {
   "cell_type": "code",
   "execution_count": 8,
   "metadata": {
    "collapsed": false,
    "inputHidden": false,
    "outputHidden": false,
    "papermill": {
     "duration": 0.072074,
     "end_time": "2019-09-02T10:20:42.930751",
     "exception": false,
     "start_time": "2019-09-02T10:20:42.858677",
     "status": "completed"
    },
    "tags": []
   },
   "outputs": [
    {
     "data": {
      "application/scrapbook.scrap.json+json": {
       "data": 20902077,
       "encoder": "json",
       "name": "subject_id",
       "version": 1
      }
     },
     "metadata": {
      "scrapbook": {
       "data": true,
       "display": false,
       "name": "subject_id"
      }
     },
     "output_type": "display_data"
    },
    {
     "data": {
      "application/scrapbook.scrap.json+json": {
       "data": {
        "CBAIN25": 0.10865416412049174,
        "DrJackie": 0.0017062636870276186,
        "Getrekt10127": 0.025884394369507686,
        "JessieDawn": 0.07539178186893947,
        "Lavadude": 0.005764285675651465,
        "M_Mij": 0.0005897781422504094,
        "Thedunkmasta": 0.004879417435917259,
        "Wain-PalmerM": 0.00226282686991794,
        "acohen12": 0.0011058806351453504,
        "campanellimichael13": 0.005764285675651465,
        "cchen88": 0.000424538049931988,
        "ckkmomma": 0.005764285675651465,
        "clizardo": 0.001901540830603442,
        "creinbol": 0.0006286099716602492,
        "denzel.ayala": 0.001743236396112862,
        "djcameron": 0.0007229665954759585,
        "dmosier13": 0.001608151014103968,
        "edgardo.e.nogueira": 0.003611810134341703,
        "gfess": 0.006663667670820568,
        "heathmonie": 0.001671402743764767,
        "kayleebug2017": 0.0018951699761788692,
        "klangon88": 0.001104692730473243,
        "ksheahon": 0.005764285675651465,
        "lmhob14": 0.07100992501144589,
        "mami2019": 0.0032544588444383227,
        "maryum": 0.0021002145914336885,
        "mchaffin": 0.00043234245927355116,
        "mkirms": 0.0006566714108544055,
        "msalin03": 0.0008357659998682538,
        "msross": 0.0005867036226493429,
        "ncaro": 0.005764285675651465,
        "not-logged-in-0b0736c8991a7cc2017a": 0.0011568670119490665,
        "not-logged-in-3d3e30aac1d39bd6db71": 0.000506187007894748,
        "not-logged-in-5ab67c604320a0edd4c1": 0.0006799613271007432,
        "not-logged-in-5e4e60b2e9587579f2ef": 0.005764285675651465,
        "not-logged-in-6144658f8b3ac8370f5b": 0.005764285675651465,
        "not-logged-in-7be2ab5b99cd33eba4f5": 0.005764285675651465,
        "not-logged-in-7dfcf4aca2cf0f2abfda": 0.015120988241342188,
        "not-logged-in-812b279e0836b083d452": 0.0005496462761010228,
        "not-logged-in-8c0c44faf754d344b18a": 0.021061478980660523,
        "not-logged-in-bcf0a63d16e116a99e14": 0.005764285675651465,
        "not-logged-in-c82bb0549d6cff996665": 0.001303351323999327,
        "not-logged-in-cd6a5cac0334cc279337": 0.002367895645821254,
        "not-logged-in-d4bf4d941a1b00de226b": 0.005764285675651465,
        "not-logged-in-f09819078c043556a4da": 0.07413179026992885,
        "sn346808": 0.04097335921573533,
        "stgomes": 0.029350386575221772,
        "tdrabic": 0.0012065565407652253,
        "wrxtminecrafter": 0.0026724419311334254,
        "wthammas": 0.06024077817049477,
        "ywan3529": 0.003520784199393461,
        "zenparticle": 0.018412385520272002
       },
       "encoder": "json",
       "name": "losses",
       "version": 1
      }
     },
     "metadata": {
      "scrapbook": {
       "data": true,
       "display": false,
       "name": "losses"
      }
     },
     "output_type": "display_data"
    }
   ],
   "source": [
    "sb.glue('subject_id', subject_id)\n",
    "sb.glue('losses', losses.to_dict())"
   ]
  }
 ],
 "metadata": {
  "kernel_info": {
   "name": "python3"
  },
  "kernelspec": {
   "display_name": "Python 3",
   "language": "python",
   "name": "python3"
  },
  "language_info": {
   "codemirror_mode": {
    "name": "ipython",
    "version": 3
   },
   "file_extension": ".py",
   "mimetype": "text/x-python",
   "name": "python",
   "nbconvert_exporter": "python",
   "pygments_lexer": "ipython3",
   "version": "3.7.3"
  },
  "nteract": {
   "version": "0.14.3"
  },
  "papermill": {
   "duration": 31.200583,
   "end_time": "2019-09-02T10:20:44.251184",
   "environment_variables": {},
   "exception": null,
   "input_path": "/users/tingard/gzbuilder_results/input_files/volunteer_losses.ipynb",
   "output_path": "/users/tingard/gzbuilder_results/output_files/volunteer_losses/20902077.ipynb",
   "parameters": {
    "subject_id": 20902077
   },
   "start_time": "2019-09-02T10:20:13.050601",
   "version": "1.0.1"
  }
 },
 "nbformat": 4,
 "nbformat_minor": 0
}