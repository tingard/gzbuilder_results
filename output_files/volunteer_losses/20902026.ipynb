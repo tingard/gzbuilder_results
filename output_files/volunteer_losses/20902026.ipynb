{
 "cells": [
  {
   "cell_type": "markdown",
   "metadata": {
    "papermill": {
     "duration": 0.010354,
     "end_time": "2019-09-02T10:20:21.222622",
     "exception": false,
     "start_time": "2019-09-02T10:20:21.212268",
     "status": "completed"
    },
    "tags": []
   },
   "source": [
    "# Volunteer model loss calculation\n",
    "\n",
    "This notebook takes a `subject_id` and calculates the MSE of each volunteer's model to the galaxy data. These losses are then glued to the notebook for use elsewhere."
   ]
  },
  {
   "cell_type": "code",
   "execution_count": 1,
   "metadata": {
    "collapsed": false,
    "inputHidden": false,
    "outputHidden": false,
    "papermill": {
     "duration": 0.039636,
     "end_time": "2019-09-02T10:20:21.271671",
     "exception": false,
     "start_time": "2019-09-02T10:20:21.232035",
     "status": "completed"
    },
    "tags": []
   },
   "outputs": [],
   "source": [
    "%load_ext autoreload\n",
    "%autoreload 2"
   ]
  },
  {
   "cell_type": "code",
   "execution_count": 2,
   "metadata": {
    "collapsed": false,
    "inputHidden": false,
    "outputHidden": false,
    "papermill": {
     "duration": 7.021617,
     "end_time": "2019-09-02T10:20:28.303412",
     "exception": false,
     "start_time": "2019-09-02T10:20:21.281795",
     "status": "completed"
    },
    "tags": []
   },
   "outputs": [
    {
     "name": "stderr",
     "output_type": "stream",
     "text": [
      "/opt/apps/pkgs/anaconda3/2019.03/intel64/lib/python3.7/site-packages/dask/config.py:168: YAMLLoadWarning: calling yaml.load() without Loader=... is deprecated, as the default Loader is unsafe. Please read https://msg.pyyaml.org/load for full details.\n",
      "  data = yaml.load(f.read()) or {}\n"
     ]
    }
   ],
   "source": [
    "import json\n",
    "import numpy as np\n",
    "import pandas as pd\n",
    "from tqdm import tqdm\n",
    "import matplotlib.pyplot as plt\n",
    "import seaborn as sns\n",
    "from gzbuilder_analysis import parsing, rendering, fitting\n",
    "import lib.galaxy_utilities as gu\n",
    "import scrapbook as sb"
   ]
  },
  {
   "cell_type": "code",
   "execution_count": 3,
   "metadata": {
    "collapsed": false,
    "inputHidden": false,
    "outputHidden": false,
    "papermill": {
     "duration": 0.04356,
     "end_time": "2019-09-02T10:20:28.356793",
     "exception": false,
     "start_time": "2019-09-02T10:20:28.313233",
     "status": "completed"
    },
    "tags": [
     "parameters"
    ]
   },
   "outputs": [],
   "source": [
    "subject_id = 20902040"
   ]
  },
  {
   "cell_type": "code",
   "execution_count": 4,
   "metadata": {
    "papermill": {
     "duration": 0.043872,
     "end_time": "2019-09-02T10:20:28.408407",
     "exception": false,
     "start_time": "2019-09-02T10:20:28.364535",
     "status": "completed"
    },
    "tags": [
     "injected-parameters"
    ]
   },
   "outputs": [],
   "source": [
    "# Parameters\n",
    "subject_id = 20902026\n"
   ]
  },
  {
   "cell_type": "code",
   "execution_count": 5,
   "metadata": {
    "collapsed": false,
    "inputHidden": false,
    "outputHidden": false,
    "papermill": {
     "duration": 0.152989,
     "end_time": "2019-09-02T10:20:28.569470",
     "exception": false,
     "start_time": "2019-09-02T10:20:28.416481",
     "status": "completed"
    },
    "tags": []
   },
   "outputs": [],
   "source": [
    "diff_data_df = pd.read_pickle('lib/fitting_metadata.pkl')"
   ]
  },
  {
   "cell_type": "code",
   "execution_count": 6,
   "metadata": {
    "collapsed": false,
    "inputHidden": false,
    "outputHidden": false,
    "papermill": {
     "duration": 0.051481,
     "end_time": "2019-09-02T10:20:28.629566",
     "exception": false,
     "start_time": "2019-09-02T10:20:28.578085",
     "status": "completed"
    },
    "tags": []
   },
   "outputs": [],
   "source": [
    "def get_losses_by_user(subject_id):\n",
    "  diff_data = diff_data_df.loc[subject_id]\n",
    "  psf = diff_data['psf']\n",
    "  pixel_mask = np.array(diff_data['pixel_mask'])[::-1]\n",
    "  galaxy_data = np.array(diff_data['galaxy_data'])[::-1]\n",
    "  image_size = galaxy_data.shape[0]\n",
    "  size_diff = diff_data['size_diff']\n",
    "  \n",
    "  cls = gu.classifications.query('subject_ids == {}'.format(subject_id))\n",
    "  names = cls.user_name \n",
    "  annotations = cls['annotations'].apply(json.loads)\n",
    "\n",
    "  models = annotations.apply(\n",
    "    parsing.parse_annotation,\n",
    "    size_diff=size_diff\n",
    "  )\n",
    "\n",
    "  tqdm.pandas(\n",
    "    desc='Rendering models'.format(subject_id),\n",
    "    leave=False\n",
    "  )\n",
    "  rendered = models.progress_apply(\n",
    "    rendering.calculate_model,\n",
    "    image_size=image_size,\n",
    "    psf=psf\n",
    "  ).rename('rendered')\n",
    "\n",
    "  tqdm.pandas(\n",
    "    desc='Calculating differences'.format(subject_id),\n",
    "    leave=False\n",
    "  )\n",
    "  losses = rendered.apply(\n",
    "    fitting.loss,\n",
    "    args=(galaxy_data, pixel_mask)\n",
    "  ).rename('loss')\n",
    "  all_losses = pd.Series(\n",
    "    losses.values,\n",
    "    index=names.values\n",
    "  ).rename(subject_id)\n",
    "  best_losses = pd.concat((\n",
    "    all_losses.where(\n",
    "      ~all_losses.duplicated(keep=False)\n",
    "    ).dropna(), # all non-duplicates\n",
    "    all_losses.where(\n",
    "      all_losses.duplicated(keep=False)\n",
    "    ).dropna().groupby(level=0).min() # best value of duplicates\n",
    "  ), axis=0)\n",
    "  return best_losses"
   ]
  },
  {
   "cell_type": "code",
   "execution_count": 7,
   "metadata": {
    "collapsed": false,
    "inputHidden": false,
    "outputHidden": false,
    "papermill": {
     "duration": 10.916921,
     "end_time": "2019-09-02T10:20:39.555415",
     "exception": false,
     "start_time": "2019-09-02T10:20:28.638494",
     "status": "completed"
    },
    "tags": []
   },
   "outputs": [
    {
     "name": "stderr",
     "output_type": "stream",
     "text": [
      "\r",
      "Rendering models:   0%|          | 0/39 [00:00<?, ?it/s]"
     ]
    },
    {
     "name": "stderr",
     "output_type": "stream",
     "text": [
      "\r",
      "Rendering models:   5%|▌         | 2/39 [00:01<00:33,  1.12it/s]"
     ]
    },
    {
     "name": "stderr",
     "output_type": "stream",
     "text": [
      "\r",
      "Rendering models:   8%|▊         | 3/39 [00:07<01:19,  2.20s/it]"
     ]
    },
    {
     "name": "stderr",
     "output_type": "stream",
     "text": [
      "\r",
      "Rendering models:  10%|█         | 4/39 [00:07<00:55,  1.59s/it]"
     ]
    },
    {
     "name": "stderr",
     "output_type": "stream",
     "text": [
      "\r",
      "Rendering models:  13%|█▎        | 5/39 [00:07<00:38,  1.15s/it]"
     ]
    },
    {
     "name": "stderr",
     "output_type": "stream",
     "text": [
      "\r",
      "Rendering models:  18%|█▊        | 7/39 [00:07<00:26,  1.21it/s]"
     ]
    },
    {
     "name": "stderr",
     "output_type": "stream",
     "text": [
      "\r",
      "Rendering models:  21%|██        | 8/39 [00:07<00:19,  1.61it/s]"
     ]
    },
    {
     "name": "stderr",
     "output_type": "stream",
     "text": [
      "\r",
      "Rendering models:  26%|██▌       | 10/39 [00:07<00:13,  2.16it/s]"
     ]
    },
    {
     "name": "stderr",
     "output_type": "stream",
     "text": [
      "\r",
      "Rendering models:  31%|███       | 12/39 [00:07<00:09,  2.83it/s]"
     ]
    },
    {
     "name": "stderr",
     "output_type": "stream",
     "text": [
      "\r",
      "Rendering models:  33%|███▎      | 13/39 [00:08<00:07,  3.55it/s]"
     ]
    },
    {
     "name": "stderr",
     "output_type": "stream",
     "text": [
      "\r",
      "Rendering models:  36%|███▌      | 14/39 [00:08<00:05,  4.38it/s]"
     ]
    },
    {
     "name": "stderr",
     "output_type": "stream",
     "text": [
      "\r",
      "Rendering models:  41%|████      | 16/39 [00:08<00:04,  5.25it/s]"
     ]
    },
    {
     "name": "stderr",
     "output_type": "stream",
     "text": [
      "\r",
      "Rendering models:  44%|████▎     | 17/39 [00:08<00:03,  6.08it/s]"
     ]
    },
    {
     "name": "stderr",
     "output_type": "stream",
     "text": [
      "\r",
      "Rendering models:  49%|████▊     | 19/39 [00:08<00:02,  6.93it/s]"
     ]
    },
    {
     "name": "stderr",
     "output_type": "stream",
     "text": [
      "\r",
      "Rendering models:  51%|█████▏    | 20/39 [00:08<00:02,  6.82it/s]"
     ]
    },
    {
     "name": "stderr",
     "output_type": "stream",
     "text": [
      "\r",
      "Rendering models:  54%|█████▍    | 21/39 [00:08<00:02,  7.29it/s]"
     ]
    },
    {
     "name": "stderr",
     "output_type": "stream",
     "text": [
      "\r",
      "Rendering models:  62%|██████▏   | 24/39 [00:09<00:01,  8.73it/s]"
     ]
    },
    {
     "name": "stderr",
     "output_type": "stream",
     "text": [
      "\r",
      "Rendering models:  67%|██████▋   | 26/39 [00:09<00:01,  8.53it/s]"
     ]
    },
    {
     "name": "stderr",
     "output_type": "stream",
     "text": [
      "\r",
      "Rendering models:  72%|███████▏  | 28/39 [00:09<00:01,  8.48it/s]"
     ]
    },
    {
     "name": "stderr",
     "output_type": "stream",
     "text": [
      "\r",
      "Rendering models:  74%|███████▍  | 29/39 [00:09<00:01,  7.11it/s]"
     ]
    },
    {
     "name": "stderr",
     "output_type": "stream",
     "text": [
      "\r",
      "Rendering models:  79%|███████▉  | 31/39 [00:10<00:00,  8.06it/s]"
     ]
    },
    {
     "name": "stderr",
     "output_type": "stream",
     "text": [
      "\r",
      "Rendering models:  85%|████████▍ | 33/39 [00:10<00:00,  8.70it/s]"
     ]
    },
    {
     "name": "stderr",
     "output_type": "stream",
     "text": [
      "\r",
      "Rendering models:  87%|████████▋ | 34/39 [00:10<00:00,  8.65it/s]"
     ]
    },
    {
     "name": "stderr",
     "output_type": "stream",
     "text": [
      "\r",
      "Rendering models:  92%|█████████▏| 36/39 [00:10<00:00,  7.73it/s]"
     ]
    },
    {
     "name": "stderr",
     "output_type": "stream",
     "text": [
      "\r",
      "Rendering models:  97%|█████████▋| 38/39 [00:10<00:00,  9.06it/s]"
     ]
    },
    {
     "name": "stderr",
     "output_type": "stream",
     "text": [
      "\r",
      "                                                                 "
     ]
    },
    {
     "name": "stderr",
     "output_type": "stream",
     "text": [
      "\r"
     ]
    },
    {
     "data": {
      "text/plain": [
       "equidad1                              0.000898\n",
       "not-logged-in-cae133427d99aac1e554    0.000688\n",
       "Khaazel                               0.000766\n",
       "Huskynator                            0.000707\n",
       "kayleebug2017                         0.001712\n",
       "not-logged-in-8c0c44faf754d344b18a    0.009286\n",
       "not-logged-in-9f66093d0c2b8fe22169    0.001405\n",
       "not-logged-in-71f9718462c58a56588f    0.001039\n",
       "not-logged-in-8c0c44faf754d344b18a    0.038611\n",
       "Thedunkmasta                          0.003079\n",
       "Thedunkmasta                          0.003077\n",
       "Thedunkmasta                          0.002806\n",
       "Thedunkmasta                          0.004327\n",
       "Thedunkmasta                          0.002550\n",
       "Thedunkmasta                          0.003553\n",
       "Thedunkmasta                          0.003764\n",
       "Thedunkmasta                          0.003062\n",
       "Thedunkmasta                          0.002766\n",
       "not-logged-in-846e14e9f3e0f594a568    0.004785\n",
       "Synapsestar                           0.000450\n",
       "not-logged-in-314d48142a3a122ba666    0.002555\n",
       "crush202020                           0.000573\n",
       "pangeli5                              0.002401\n",
       "Planetme                              0.003861\n",
       "RaulE                                 0.000862\n",
       "merkosh                               0.000831\n",
       "BraxtonKinney                         0.000887\n",
       "Lavadude                              0.136357\n",
       "jordanrushworth                       0.002534\n",
       "w7250369                              0.001601\n",
       "a-ikiso                               0.007281\n",
       "Lewyke                                0.001332\n",
       "TortleBoi                             0.084364\n",
       "not-logged-in-b87d405aa70b06c44d64    0.001179\n",
       "ckkmomma                              0.003041\n",
       "mariafarhat                           0.003041\n",
       "not-logged-in-490f77176b83d659546b    0.003041\n",
       "rcauchi3                              0.003041\n",
       "rhondacard                            0.003041\n",
       "Name: 20902026, dtype: float64"
      ]
     },
     "execution_count": 7,
     "metadata": {},
     "output_type": "execute_result"
    }
   ],
   "source": [
    "losses = get_losses_by_user(subject_id)\n",
    "losses"
   ]
  },
  {
   "cell_type": "code",
   "execution_count": 8,
   "metadata": {
    "collapsed": false,
    "inputHidden": false,
    "outputHidden": false,
    "papermill": {
     "duration": 0.068941,
     "end_time": "2019-09-02T10:20:39.638636",
     "exception": false,
     "start_time": "2019-09-02T10:20:39.569695",
     "status": "completed"
    },
    "tags": []
   },
   "outputs": [
    {
     "data": {
      "application/scrapbook.scrap.json+json": {
       "data": 20902026,
       "encoder": "json",
       "name": "subject_id",
       "version": 1
      }
     },
     "metadata": {
      "scrapbook": {
       "data": true,
       "display": false,
       "name": "subject_id"
      }
     },
     "output_type": "display_data"
    },
    {
     "data": {
      "application/scrapbook.scrap.json+json": {
       "data": {
        "BraxtonKinney": 0.0008866500290358779,
        "Huskynator": 0.0007073813258956023,
        "Khaazel": 0.000765521041468853,
        "Lavadude": 0.13635698040341038,
        "Lewyke": 0.0013315027645996892,
        "Planetme": 0.003861254744162229,
        "RaulE": 0.0008621054494446962,
        "Synapsestar": 0.000449836172759545,
        "Thedunkmasta": 0.0027661311399860135,
        "TortleBoi": 0.08436363946523333,
        "a-ikiso": 0.007281059789470598,
        "ckkmomma": 0.003041115179066172,
        "crush202020": 0.0005731250116433126,
        "equidad1": 0.0008979017347262643,
        "jordanrushworth": 0.002534462605006935,
        "kayleebug2017": 0.0017117380157561602,
        "mariafarhat": 0.003041115179066172,
        "merkosh": 0.0008305988119370653,
        "not-logged-in-314d48142a3a122ba666": 0.0025553385204289897,
        "not-logged-in-490f77176b83d659546b": 0.003041115179066172,
        "not-logged-in-71f9718462c58a56588f": 0.001039277422157734,
        "not-logged-in-846e14e9f3e0f594a568": 0.004784848291740568,
        "not-logged-in-8c0c44faf754d344b18a": 0.03861136054066581,
        "not-logged-in-9f66093d0c2b8fe22169": 0.001404751520832619,
        "not-logged-in-b87d405aa70b06c44d64": 0.0011790138286568506,
        "not-logged-in-cae133427d99aac1e554": 0.000687691779349557,
        "pangeli5": 0.0024013804081302603,
        "rcauchi3": 0.003041115179066172,
        "rhondacard": 0.003041115179066172,
        "w7250369": 0.0016007608709800274
       },
       "encoder": "json",
       "name": "losses",
       "version": 1
      }
     },
     "metadata": {
      "scrapbook": {
       "data": true,
       "display": false,
       "name": "losses"
      }
     },
     "output_type": "display_data"
    }
   ],
   "source": [
    "sb.glue('subject_id', subject_id)\n",
    "sb.glue('losses', losses.to_dict())"
   ]
  }
 ],
 "metadata": {
  "kernel_info": {
   "name": "python3"
  },
  "kernelspec": {
   "display_name": "Python 3",
   "language": "python",
   "name": "python3"
  },
  "language_info": {
   "codemirror_mode": {
    "name": "ipython",
    "version": 3
   },
   "file_extension": ".py",
   "mimetype": "text/x-python",
   "name": "python",
   "nbconvert_exporter": "python",
   "pygments_lexer": "ipython3",
   "version": "3.7.3"
  },
  "nteract": {
   "version": "0.14.3"
  },
  "papermill": {
   "duration": 27.230474,
   "end_time": "2019-09-02T10:20:40.890763",
   "environment_variables": {},
   "exception": null,
   "input_path": "/users/tingard/gzbuilder_results/input_files/volunteer_losses.ipynb",
   "output_path": "/users/tingard/gzbuilder_results/output_files/volunteer_losses/20902026.ipynb",
   "parameters": {
    "subject_id": 20902026
   },
   "start_time": "2019-09-02T10:20:13.660289",
   "version": "1.0.1"
  }
 },
 "nbformat": 4,
 "nbformat_minor": 0
}