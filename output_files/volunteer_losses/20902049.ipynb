{
 "cells": [
  {
   "cell_type": "markdown",
   "metadata": {
    "papermill": {
     "duration": 0.009504,
     "end_time": "2019-09-02T10:20:19.248256",
     "exception": false,
     "start_time": "2019-09-02T10:20:19.238752",
     "status": "completed"
    },
    "tags": []
   },
   "source": [
    "# Volunteer model loss calculation\n",
    "\n",
    "This notebook takes a `subject_id` and calculates the MSE of each volunteer's model to the galaxy data. These losses are then glued to the notebook for use elsewhere."
   ]
  },
  {
   "cell_type": "code",
   "execution_count": 1,
   "metadata": {
    "collapsed": false,
    "inputHidden": false,
    "outputHidden": false,
    "papermill": {
     "duration": 0.024538,
     "end_time": "2019-09-02T10:20:19.282419",
     "exception": false,
     "start_time": "2019-09-02T10:20:19.257881",
     "status": "completed"
    },
    "tags": []
   },
   "outputs": [],
   "source": [
    "%load_ext autoreload\n",
    "%autoreload 2"
   ]
  },
  {
   "cell_type": "code",
   "execution_count": 2,
   "metadata": {
    "collapsed": false,
    "inputHidden": false,
    "outputHidden": false,
    "papermill": {
     "duration": 6.114965,
     "end_time": "2019-09-02T10:20:25.404811",
     "exception": false,
     "start_time": "2019-09-02T10:20:19.289846",
     "status": "completed"
    },
    "tags": []
   },
   "outputs": [
    {
     "name": "stderr",
     "output_type": "stream",
     "text": [
      "/opt/apps/pkgs/anaconda3/2019.03/intel64/lib/python3.7/site-packages/dask/config.py:168: YAMLLoadWarning: calling yaml.load() without Loader=... is deprecated, as the default Loader is unsafe. Please read https://msg.pyyaml.org/load for full details.\n",
      "  data = yaml.load(f.read()) or {}\n"
     ]
    }
   ],
   "source": [
    "import json\n",
    "import numpy as np\n",
    "import pandas as pd\n",
    "from tqdm import tqdm\n",
    "import matplotlib.pyplot as plt\n",
    "import seaborn as sns\n",
    "from gzbuilder_analysis import parsing, rendering, fitting\n",
    "import lib.galaxy_utilities as gu\n",
    "import scrapbook as sb"
   ]
  },
  {
   "cell_type": "code",
   "execution_count": 3,
   "metadata": {
    "collapsed": false,
    "inputHidden": false,
    "outputHidden": false,
    "papermill": {
     "duration": 0.044036,
     "end_time": "2019-09-02T10:20:25.457596",
     "exception": false,
     "start_time": "2019-09-02T10:20:25.413560",
     "status": "completed"
    },
    "tags": [
     "parameters"
    ]
   },
   "outputs": [],
   "source": [
    "subject_id = 20902040"
   ]
  },
  {
   "cell_type": "code",
   "execution_count": 4,
   "metadata": {
    "papermill": {
     "duration": 0.04358,
     "end_time": "2019-09-02T10:20:25.509248",
     "exception": false,
     "start_time": "2019-09-02T10:20:25.465668",
     "status": "completed"
    },
    "tags": [
     "injected-parameters"
    ]
   },
   "outputs": [],
   "source": [
    "# Parameters\n",
    "subject_id = 20902049\n"
   ]
  },
  {
   "cell_type": "code",
   "execution_count": 5,
   "metadata": {
    "collapsed": false,
    "inputHidden": false,
    "outputHidden": false,
    "papermill": {
     "duration": 2.856001,
     "end_time": "2019-09-02T10:20:28.373860",
     "exception": false,
     "start_time": "2019-09-02T10:20:25.517859",
     "status": "completed"
    },
    "tags": []
   },
   "outputs": [],
   "source": [
    "diff_data_df = pd.read_pickle('lib/fitting_metadata.pkl')"
   ]
  },
  {
   "cell_type": "code",
   "execution_count": 6,
   "metadata": {
    "collapsed": false,
    "inputHidden": false,
    "outputHidden": false,
    "papermill": {
     "duration": 0.049413,
     "end_time": "2019-09-02T10:20:28.430487",
     "exception": false,
     "start_time": "2019-09-02T10:20:28.381074",
     "status": "completed"
    },
    "tags": []
   },
   "outputs": [],
   "source": [
    "def get_losses_by_user(subject_id):\n",
    "  diff_data = diff_data_df.loc[subject_id]\n",
    "  psf = diff_data['psf']\n",
    "  pixel_mask = np.array(diff_data['pixel_mask'])[::-1]\n",
    "  galaxy_data = np.array(diff_data['galaxy_data'])[::-1]\n",
    "  image_size = galaxy_data.shape[0]\n",
    "  size_diff = diff_data['size_diff']\n",
    "  \n",
    "  cls = gu.classifications.query('subject_ids == {}'.format(subject_id))\n",
    "  names = cls.user_name \n",
    "  annotations = cls['annotations'].apply(json.loads)\n",
    "\n",
    "  models = annotations.apply(\n",
    "    parsing.parse_annotation,\n",
    "    size_diff=size_diff\n",
    "  )\n",
    "\n",
    "  tqdm.pandas(\n",
    "    desc='Rendering models'.format(subject_id),\n",
    "    leave=False\n",
    "  )\n",
    "  rendered = models.progress_apply(\n",
    "    rendering.calculate_model,\n",
    "    image_size=image_size,\n",
    "    psf=psf\n",
    "  ).rename('rendered')\n",
    "\n",
    "  tqdm.pandas(\n",
    "    desc='Calculating differences'.format(subject_id),\n",
    "    leave=False\n",
    "  )\n",
    "  losses = rendered.apply(\n",
    "    fitting.loss,\n",
    "    args=(galaxy_data, pixel_mask)\n",
    "  ).rename('loss')\n",
    "  all_losses = pd.Series(\n",
    "    losses.values,\n",
    "    index=names.values\n",
    "  ).rename(subject_id)\n",
    "  best_losses = pd.concat((\n",
    "    all_losses.where(\n",
    "      ~all_losses.duplicated(keep=False)\n",
    "    ).dropna(), # all non-duplicates\n",
    "    all_losses.where(\n",
    "      all_losses.duplicated(keep=False)\n",
    "    ).dropna().groupby(level=0).min() # best value of duplicates\n",
    "  ), axis=0)\n",
    "  return best_losses"
   ]
  },
  {
   "cell_type": "code",
   "execution_count": 7,
   "metadata": {
    "collapsed": false,
    "inputHidden": false,
    "outputHidden": false,
    "papermill": {
     "duration": 10.356402,
     "end_time": "2019-09-02T10:20:38.795133",
     "exception": false,
     "start_time": "2019-09-02T10:20:28.438731",
     "status": "completed"
    },
    "tags": []
   },
   "outputs": [
    {
     "name": "stderr",
     "output_type": "stream",
     "text": [
      "\r",
      "Rendering models:   0%|          | 0/33 [00:00<?, ?it/s]"
     ]
    },
    {
     "name": "stderr",
     "output_type": "stream",
     "text": [
      "\r",
      "Rendering models:   6%|▌         | 2/33 [00:02<00:43,  1.40s/it]"
     ]
    },
    {
     "name": "stderr",
     "output_type": "stream",
     "text": [
      "\r",
      "Rendering models:   9%|▉         | 3/33 [00:02<00:30,  1.01s/it]"
     ]
    },
    {
     "name": "stderr",
     "output_type": "stream",
     "text": [
      "\r",
      "Rendering models:  12%|█▏        | 4/33 [00:03<00:21,  1.35it/s]"
     ]
    },
    {
     "name": "stderr",
     "output_type": "stream",
     "text": [
      "\r",
      "Rendering models:  15%|█▌        | 5/33 [00:03<00:15,  1.82it/s]"
     ]
    },
    {
     "name": "stderr",
     "output_type": "stream",
     "text": [
      "\r",
      "Rendering models:  18%|█▊        | 6/33 [00:03<00:11,  2.35it/s]"
     ]
    },
    {
     "name": "stderr",
     "output_type": "stream",
     "text": [
      "\r",
      "Rendering models:  21%|██        | 7/33 [00:03<00:08,  3.03it/s]"
     ]
    },
    {
     "name": "stderr",
     "output_type": "stream",
     "text": [
      "\r",
      "Rendering models:  30%|███       | 10/33 [00:03<00:05,  3.98it/s]"
     ]
    },
    {
     "name": "stderr",
     "output_type": "stream",
     "text": [
      "\r",
      "Rendering models:  33%|███▎      | 11/33 [00:03<00:04,  4.81it/s]"
     ]
    },
    {
     "name": "stderr",
     "output_type": "stream",
     "text": [
      "\r",
      "Rendering models:  36%|███▋      | 12/33 [00:03<00:03,  5.59it/s]"
     ]
    },
    {
     "name": "stderr",
     "output_type": "stream",
     "text": [
      "\r",
      "Rendering models:  39%|███▉      | 13/33 [00:03<00:03,  6.03it/s]"
     ]
    },
    {
     "name": "stderr",
     "output_type": "stream",
     "text": [
      "\r",
      "Rendering models:  42%|████▏     | 14/33 [00:05<00:10,  1.75it/s]"
     ]
    },
    {
     "name": "stderr",
     "output_type": "stream",
     "text": [
      "\r",
      "Rendering models:  45%|████▌     | 15/33 [00:08<00:22,  1.26s/it]"
     ]
    },
    {
     "name": "stderr",
     "output_type": "stream",
     "text": [
      "\r",
      "Rendering models:  55%|█████▍    | 18/33 [00:08<00:13,  1.12it/s]"
     ]
    },
    {
     "name": "stderr",
     "output_type": "stream",
     "text": [
      "\r",
      "Rendering models:  58%|█████▊    | 19/33 [00:08<00:09,  1.49it/s]"
     ]
    },
    {
     "name": "stderr",
     "output_type": "stream",
     "text": [
      "\r",
      "Rendering models:  61%|██████    | 20/33 [00:08<00:06,  1.91it/s]"
     ]
    },
    {
     "name": "stderr",
     "output_type": "stream",
     "text": [
      "\r",
      "Rendering models:  64%|██████▎   | 21/33 [00:08<00:05,  2.31it/s]"
     ]
    },
    {
     "name": "stderr",
     "output_type": "stream",
     "text": [
      "\r",
      "Rendering models:  67%|██████▋   | 22/33 [00:09<00:03,  2.97it/s]"
     ]
    },
    {
     "name": "stderr",
     "output_type": "stream",
     "text": [
      "\r",
      "Rendering models:  70%|██████▉   | 23/33 [00:09<00:02,  3.73it/s]"
     ]
    },
    {
     "name": "stderr",
     "output_type": "stream",
     "text": [
      "\r",
      "Rendering models:  73%|███████▎  | 24/33 [00:09<00:02,  4.14it/s]"
     ]
    },
    {
     "name": "stderr",
     "output_type": "stream",
     "text": [
      "\r",
      "Rendering models:  79%|███████▉  | 26/33 [00:09<00:01,  5.00it/s]"
     ]
    },
    {
     "name": "stderr",
     "output_type": "stream",
     "text": [
      "\r",
      "Rendering models:  82%|████████▏ | 27/33 [00:09<00:01,  5.70it/s]"
     ]
    },
    {
     "name": "stderr",
     "output_type": "stream",
     "text": [
      "\r",
      "Rendering models:  85%|████████▍ | 28/33 [00:09<00:00,  6.44it/s]"
     ]
    },
    {
     "name": "stderr",
     "output_type": "stream",
     "text": [
      "\r",
      "Rendering models:  88%|████████▊ | 29/33 [00:09<00:00,  7.01it/s]"
     ]
    },
    {
     "name": "stderr",
     "output_type": "stream",
     "text": [
      "\r",
      "Rendering models: 100%|██████████| 33/33 [00:10<00:00,  8.84it/s]"
     ]
    },
    {
     "name": "stderr",
     "output_type": "stream",
     "text": [
      "\r",
      "                                                                 "
     ]
    },
    {
     "name": "stderr",
     "output_type": "stream",
     "text": [
      "\r"
     ]
    },
    {
     "data": {
      "text/plain": [
       "equidad1                              0.000119\n",
       "StephAChamber                         0.000078\n",
       "Wain-PalmerM                          0.000069\n",
       "not-logged-in-0c20e1f083ae2ffe33bd    0.000064\n",
       "not-logged-in-8c0c44faf754d344b18a    0.000094\n",
       "Thedunkmasta                          0.000300\n",
       "citystars                             0.000088\n",
       "not-logged-in-20487e5808245554c355    0.000089\n",
       "not-logged-in-efcb79850891fdd4daf8    0.000075\n",
       "DavidCastillo1702                     0.000212\n",
       "lsautter                              0.000103\n",
       "FelipedaFonseca                       0.000129\n",
       "not-logged-in-5f30b2bb9b7f9d49da41    0.017017\n",
       "Planetme                              0.000608\n",
       "acapirala                             0.000082\n",
       "aidenr                                0.000433\n",
       "haydenmanninen                        0.000078\n",
       "chavez01                              0.000186\n",
       "Lavadude                              0.027770\n",
       "layne.woodward2701                    0.000065\n",
       "not-logged-in-15498ebaa693dd5a198d    0.000085\n",
       "w7250369                              0.000275\n",
       "MeltingSun                            0.000238\n",
       "simon_harding                         0.000275\n",
       "not-logged-in-e439d8846231b99a776b    0.000502\n",
       "Chrisle206                            0.000121\n",
       "Giantjack14                           0.000655\n",
       "W7252291                              0.000655\n",
       "cazze74                               0.000655\n",
       "not-logged-in-bf33732dec964ab76582    0.000655\n",
       "rhondacard                            0.000655\n",
       "Name: 20902049, dtype: float64"
      ]
     },
     "execution_count": 7,
     "metadata": {},
     "output_type": "execute_result"
    }
   ],
   "source": [
    "losses = get_losses_by_user(subject_id)\n",
    "losses"
   ]
  },
  {
   "cell_type": "code",
   "execution_count": 8,
   "metadata": {
    "collapsed": false,
    "inputHidden": false,
    "outputHidden": false,
    "papermill": {
     "duration": 0.067755,
     "end_time": "2019-09-02T10:20:38.882750",
     "exception": false,
     "start_time": "2019-09-02T10:20:38.814995",
     "status": "completed"
    },
    "tags": []
   },
   "outputs": [
    {
     "data": {
      "application/scrapbook.scrap.json+json": {
       "data": 20902049,
       "encoder": "json",
       "name": "subject_id",
       "version": 1
      }
     },
     "metadata": {
      "scrapbook": {
       "data": true,
       "display": false,
       "name": "subject_id"
      }
     },
     "output_type": "display_data"
    },
    {
     "data": {
      "application/scrapbook.scrap.json+json": {
       "data": {
        "Chrisle206": 0.00012052494011396991,
        "DavidCastillo1702": 0.00021158524840925421,
        "FelipedaFonseca": 0.00012934280057012176,
        "Giantjack14": 0.000655061056115089,
        "Lavadude": 0.027769720800259332,
        "MeltingSun": 0.00023812379766760406,
        "Planetme": 0.0006081406542836263,
        "StephAChamber": 7.839489257002765e-05,
        "Thedunkmasta": 0.00029976151604744995,
        "W7252291": 0.000655061056115089,
        "Wain-PalmerM": 6.856055383570154e-05,
        "acapirala": 8.23010995941665e-05,
        "aidenr": 0.0004334262935543788,
        "cazze74": 0.000655061056115089,
        "chavez01": 0.00018587205901201612,
        "citystars": 8.825836219262078e-05,
        "equidad1": 0.00011929832386605008,
        "haydenmanninen": 7.786451749862753e-05,
        "layne.woodward2701": 6.456076257325673e-05,
        "lsautter": 0.0001031433244988403,
        "not-logged-in-0c20e1f083ae2ffe33bd": 6.42092355166246e-05,
        "not-logged-in-15498ebaa693dd5a198d": 8.52745415215892e-05,
        "not-logged-in-20487e5808245554c355": 8.921261651637522e-05,
        "not-logged-in-5f30b2bb9b7f9d49da41": 0.017017094229861376,
        "not-logged-in-8c0c44faf754d344b18a": 9.41926416483447e-05,
        "not-logged-in-bf33732dec964ab76582": 0.000655061056115089,
        "not-logged-in-e439d8846231b99a776b": 0.0005017946077070136,
        "not-logged-in-efcb79850891fdd4daf8": 7.450097642624618e-05,
        "rhondacard": 0.000655061056115089,
        "simon_harding": 0.0002753605676149178,
        "w7250369": 0.0002749747328684214
       },
       "encoder": "json",
       "name": "losses",
       "version": 1
      }
     },
     "metadata": {
      "scrapbook": {
       "data": true,
       "display": false,
       "name": "losses"
      }
     },
     "output_type": "display_data"
    }
   ],
   "source": [
    "sb.glue('subject_id', subject_id)\n",
    "sb.glue('losses', losses.to_dict())"
   ]
  }
 ],
 "metadata": {
  "kernel_info": {
   "name": "python3"
  },
  "kernelspec": {
   "display_name": "Python 3",
   "language": "python",
   "name": "python3"
  },
  "language_info": {
   "codemirror_mode": {
    "name": "ipython",
    "version": 3
   },
   "file_extension": ".py",
   "mimetype": "text/x-python",
   "name": "python",
   "nbconvert_exporter": "python",
   "pygments_lexer": "ipython3",
   "version": "3.7.3"
  },
  "nteract": {
   "version": "0.14.3"
  },
  "papermill": {
   "duration": 26.255101,
   "end_time": "2019-09-02T10:20:39.913479",
   "environment_variables": {},
   "exception": null,
   "input_path": "/users/tingard/gzbuilder_results/input_files/volunteer_losses.ipynb",
   "output_path": "/users/tingard/gzbuilder_results/output_files/volunteer_losses/20902049.ipynb",
   "parameters": {
    "subject_id": 20902049
   },
   "start_time": "2019-09-02T10:20:13.658378",
   "version": "1.0.1"
  }
 },
 "nbformat": 4,
 "nbformat_minor": 0
}