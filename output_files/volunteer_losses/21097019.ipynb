{
 "cells": [
  {
   "cell_type": "markdown",
   "metadata": {
    "papermill": {
     "duration": 0.008717,
     "end_time": "2019-09-02T10:20:41.073714",
     "exception": false,
     "start_time": "2019-09-02T10:20:41.064997",
     "status": "completed"
    },
    "tags": []
   },
   "source": [
    "# Volunteer model loss calculation\n",
    "\n",
    "This notebook takes a `subject_id` and calculates the MSE of each volunteer's model to the galaxy data. These losses are then glued to the notebook for use elsewhere."
   ]
  },
  {
   "cell_type": "code",
   "execution_count": 1,
   "metadata": {
    "collapsed": false,
    "inputHidden": false,
    "outputHidden": false,
    "papermill": {
     "duration": 0.028147,
     "end_time": "2019-09-02T10:20:41.112026",
     "exception": false,
     "start_time": "2019-09-02T10:20:41.083879",
     "status": "completed"
    },
    "tags": []
   },
   "outputs": [],
   "source": [
    "%load_ext autoreload\n",
    "%autoreload 2"
   ]
  },
  {
   "cell_type": "code",
   "execution_count": 2,
   "metadata": {
    "collapsed": false,
    "inputHidden": false,
    "outputHidden": false,
    "papermill": {
     "duration": 4.930358,
     "end_time": "2019-09-02T10:20:46.049951",
     "exception": false,
     "start_time": "2019-09-02T10:20:41.119593",
     "status": "completed"
    },
    "tags": []
   },
   "outputs": [
    {
     "name": "stderr",
     "output_type": "stream",
     "text": [
      "/opt/apps/pkgs/anaconda3/2019.03/intel64/lib/python3.7/site-packages/dask/config.py:168: YAMLLoadWarning: calling yaml.load() without Loader=... is deprecated, as the default Loader is unsafe. Please read https://msg.pyyaml.org/load for full details.\n",
      "  data = yaml.load(f.read()) or {}\n"
     ]
    }
   ],
   "source": [
    "import json\n",
    "import numpy as np\n",
    "import pandas as pd\n",
    "from tqdm import tqdm\n",
    "import matplotlib.pyplot as plt\n",
    "import seaborn as sns\n",
    "from gzbuilder_analysis import parsing, rendering, fitting\n",
    "import lib.galaxy_utilities as gu\n",
    "import scrapbook as sb"
   ]
  },
  {
   "cell_type": "code",
   "execution_count": 3,
   "metadata": {
    "collapsed": false,
    "inputHidden": false,
    "outputHidden": false,
    "papermill": {
     "duration": 0.046995,
     "end_time": "2019-09-02T10:20:46.106267",
     "exception": false,
     "start_time": "2019-09-02T10:20:46.059272",
     "status": "completed"
    },
    "tags": [
     "parameters"
    ]
   },
   "outputs": [],
   "source": [
    "subject_id = 20902040"
   ]
  },
  {
   "cell_type": "code",
   "execution_count": 4,
   "metadata": {
    "papermill": {
     "duration": 0.545583,
     "end_time": "2019-09-02T10:20:46.661169",
     "exception": false,
     "start_time": "2019-09-02T10:20:46.115586",
     "status": "completed"
    },
    "tags": [
     "injected-parameters"
    ]
   },
   "outputs": [],
   "source": [
    "# Parameters\n",
    "subject_id = 21097019\n"
   ]
  },
  {
   "cell_type": "code",
   "execution_count": 5,
   "metadata": {
    "collapsed": false,
    "inputHidden": false,
    "outputHidden": false,
    "papermill": {
     "duration": 0.191308,
     "end_time": "2019-09-02T10:20:46.860195",
     "exception": false,
     "start_time": "2019-09-02T10:20:46.668887",
     "status": "completed"
    },
    "tags": []
   },
   "outputs": [],
   "source": [
    "diff_data_df = pd.read_pickle('lib/fitting_metadata.pkl')"
   ]
  },
  {
   "cell_type": "code",
   "execution_count": 6,
   "metadata": {
    "collapsed": false,
    "inputHidden": false,
    "outputHidden": false,
    "papermill": {
     "duration": 0.05327,
     "end_time": "2019-09-02T10:20:46.920881",
     "exception": false,
     "start_time": "2019-09-02T10:20:46.867611",
     "status": "completed"
    },
    "tags": []
   },
   "outputs": [],
   "source": [
    "def get_losses_by_user(subject_id):\n",
    "  diff_data = diff_data_df.loc[subject_id]\n",
    "  psf = diff_data['psf']\n",
    "  pixel_mask = np.array(diff_data['pixel_mask'])[::-1]\n",
    "  galaxy_data = np.array(diff_data['galaxy_data'])[::-1]\n",
    "  image_size = galaxy_data.shape[0]\n",
    "  size_diff = diff_data['size_diff']\n",
    "  \n",
    "  cls = gu.classifications.query('subject_ids == {}'.format(subject_id))\n",
    "  names = cls.user_name \n",
    "  annotations = cls['annotations'].apply(json.loads)\n",
    "\n",
    "  models = annotations.apply(\n",
    "    parsing.parse_annotation,\n",
    "    size_diff=size_diff\n",
    "  )\n",
    "\n",
    "  tqdm.pandas(\n",
    "    desc='Rendering models'.format(subject_id),\n",
    "    leave=False\n",
    "  )\n",
    "  rendered = models.progress_apply(\n",
    "    rendering.calculate_model,\n",
    "    image_size=image_size,\n",
    "    psf=psf\n",
    "  ).rename('rendered')\n",
    "\n",
    "  tqdm.pandas(\n",
    "    desc='Calculating differences'.format(subject_id),\n",
    "    leave=False\n",
    "  )\n",
    "  losses = rendered.apply(\n",
    "    fitting.loss,\n",
    "    args=(galaxy_data, pixel_mask)\n",
    "  ).rename('loss')\n",
    "  all_losses = pd.Series(\n",
    "    losses.values,\n",
    "    index=names.values\n",
    "  ).rename(subject_id)\n",
    "  best_losses = pd.concat((\n",
    "    all_losses.where(\n",
    "      ~all_losses.duplicated(keep=False)\n",
    "    ).dropna(), # all non-duplicates\n",
    "    all_losses.where(\n",
    "      all_losses.duplicated(keep=False)\n",
    "    ).dropna().groupby(level=0).min() # best value of duplicates\n",
    "  ), axis=0)\n",
    "  return best_losses"
   ]
  },
  {
   "cell_type": "code",
   "execution_count": 7,
   "metadata": {
    "collapsed": false,
    "inputHidden": false,
    "outputHidden": false,
    "papermill": {
     "duration": 9.854154,
     "end_time": "2019-09-02T10:20:56.782872",
     "exception": false,
     "start_time": "2019-09-02T10:20:46.928718",
     "status": "completed"
    },
    "tags": []
   },
   "outputs": [
    {
     "name": "stderr",
     "output_type": "stream",
     "text": [
      "\r",
      "Rendering models:   0%|          | 0/30 [00:00<?, ?it/s]"
     ]
    },
    {
     "name": "stderr",
     "output_type": "stream",
     "text": [
      "\r",
      "Rendering models:   7%|▋         | 2/30 [00:06<01:37,  3.48s/it]"
     ]
    },
    {
     "name": "stderr",
     "output_type": "stream",
     "text": [
      "\r",
      "Rendering models:  17%|█▋        | 5/30 [00:07<01:01,  2.45s/it]"
     ]
    },
    {
     "name": "stderr",
     "output_type": "stream",
     "text": [
      "\r",
      "Rendering models:  23%|██▎       | 7/30 [00:07<00:39,  1.74s/it]"
     ]
    },
    {
     "name": "stderr",
     "output_type": "stream",
     "text": [
      "\r",
      "Rendering models:  30%|███       | 9/30 [00:07<00:25,  1.23s/it]"
     ]
    },
    {
     "name": "stderr",
     "output_type": "stream",
     "text": [
      "\r",
      "Rendering models:  37%|███▋      | 11/30 [00:07<00:16,  1.14it/s]"
     ]
    },
    {
     "name": "stderr",
     "output_type": "stream",
     "text": [
      "\r",
      "Rendering models:  47%|████▋     | 14/30 [00:07<00:10,  1.60it/s]"
     ]
    },
    {
     "name": "stderr",
     "output_type": "stream",
     "text": [
      "\r",
      "Rendering models:  57%|█████▋    | 17/30 [00:07<00:05,  2.22it/s]"
     ]
    },
    {
     "name": "stderr",
     "output_type": "stream",
     "text": [
      "\r",
      "Rendering models:  67%|██████▋   | 20/30 [00:07<00:03,  3.05it/s]"
     ]
    },
    {
     "name": "stderr",
     "output_type": "stream",
     "text": [
      "\r",
      "Rendering models:  77%|███████▋  | 23/30 [00:07<00:01,  4.09it/s]"
     ]
    },
    {
     "name": "stderr",
     "output_type": "stream",
     "text": [
      "\r",
      "Rendering models:  87%|████████▋ | 26/30 [00:08<00:00,  5.35it/s]"
     ]
    },
    {
     "name": "stderr",
     "output_type": "stream",
     "text": [
      "\r",
      "Rendering models:  97%|█████████▋| 29/30 [00:08<00:00,  7.03it/s]"
     ]
    },
    {
     "name": "stderr",
     "output_type": "stream",
     "text": [
      "\r",
      "                                                                 "
     ]
    },
    {
     "name": "stderr",
     "output_type": "stream",
     "text": [
      "\r"
     ]
    },
    {
     "data": {
      "text/plain": [
       "not-logged-in-3b0b929f4475fd276561    0.000762\n",
       "Jnursssmith5263                       0.002372\n",
       "martianmax                            0.000155\n",
       "Jonas_Cross                           0.000161\n",
       "not-logged-in-42aeec5653762437f6b7    0.000191\n",
       "not-logged-in-c6917d9b19f41e6c2995    0.000620\n",
       "awright5                              0.000500\n",
       "SciKid10                              0.001459\n",
       "Username12345678                      0.030300\n",
       "not-logged-in-d7c7d6d93e6fb6e1814e    0.006373\n",
       "girlsclub2018                         0.000293\n",
       "not-logged-in-9a45911eb71184fe7c7f    0.001174\n",
       "not-logged-in-f82a6d15a1dafa9bbfae    0.000341\n",
       "pangeli5                              0.000292\n",
       "TiaIsHere                             0.001275\n",
       "peakscience7                          0.000194\n",
       "Planetme                              0.000523\n",
       "froggler                              0.000179\n",
       "acapirala                             0.000226\n",
       "jordanrushworth                       0.004362\n",
       "cowslip                               0.004741\n",
       "ts135992                              0.000167\n",
       "TanlerP                               0.002001\n",
       "TateNachampassak                      0.000512\n",
       "clars915                              0.000944\n",
       "fanboy_deluxe                         0.000797\n",
       "Cinimod                               0.000545\n",
       "Lavadude                              0.002798\n",
       "not-logged-in-7ff314d100c2c36cdebe    0.002798\n",
       "not-logged-in-ec6b0ba15e19e7cffebf    0.002798\n",
       "Name: 21097019, dtype: float64"
      ]
     },
     "execution_count": 7,
     "metadata": {},
     "output_type": "execute_result"
    }
   ],
   "source": [
    "losses = get_losses_by_user(subject_id)\n",
    "losses"
   ]
  },
  {
   "cell_type": "code",
   "execution_count": 8,
   "metadata": {
    "collapsed": false,
    "inputHidden": false,
    "outputHidden": false,
    "papermill": {
     "duration": 0.072064,
     "end_time": "2019-09-02T10:20:56.868208",
     "exception": false,
     "start_time": "2019-09-02T10:20:56.796144",
     "status": "completed"
    },
    "tags": []
   },
   "outputs": [
    {
     "data": {
      "application/scrapbook.scrap.json+json": {
       "data": 21097019,
       "encoder": "json",
       "name": "subject_id",
       "version": 1
      }
     },
     "metadata": {
      "scrapbook": {
       "data": true,
       "display": false,
       "name": "subject_id"
      }
     },
     "output_type": "display_data"
    },
    {
     "data": {
      "application/scrapbook.scrap.json+json": {
       "data": {
        "Cinimod": 0.0005450226674074383,
        "Jnursssmith5263": 0.002371746145958336,
        "Jonas_Cross": 0.00016050180398622798,
        "Lavadude": 0.002797579598604633,
        "Planetme": 0.000523219320766694,
        "SciKid10": 0.0014589799766714917,
        "TanlerP": 0.0020011477246210437,
        "TateNachampassak": 0.0005119113158573035,
        "TiaIsHere": 0.0012750112528477713,
        "Username12345678": 0.030300390686021784,
        "acapirala": 0.00022596590538730968,
        "awright5": 0.0005003861516144037,
        "clars915": 0.000944360856762926,
        "cowslip": 0.004741237640798109,
        "fanboy_deluxe": 0.0007970906457559046,
        "froggler": 0.00017944320235983751,
        "girlsclub2018": 0.0002930582172283699,
        "jordanrushworth": 0.004362113925567373,
        "martianmax": 0.00015546963323941396,
        "not-logged-in-3b0b929f4475fd276561": 0.000761710898241131,
        "not-logged-in-42aeec5653762437f6b7": 0.00019071719412632544,
        "not-logged-in-7ff314d100c2c36cdebe": 0.002797579598604633,
        "not-logged-in-9a45911eb71184fe7c7f": 0.001173503886199954,
        "not-logged-in-c6917d9b19f41e6c2995": 0.0006202810157460837,
        "not-logged-in-d7c7d6d93e6fb6e1814e": 0.00637317189734873,
        "not-logged-in-ec6b0ba15e19e7cffebf": 0.002797579598604633,
        "not-logged-in-f82a6d15a1dafa9bbfae": 0.0003409573812113184,
        "pangeli5": 0.0002917807877636528,
        "peakscience7": 0.00019440682150616395,
        "ts135992": 0.0001669128625367933
       },
       "encoder": "json",
       "name": "losses",
       "version": 1
      }
     },
     "metadata": {
      "scrapbook": {
       "data": true,
       "display": false,
       "name": "losses"
      }
     },
     "output_type": "display_data"
    }
   ],
   "source": [
    "sb.glue('subject_id', subject_id)\n",
    "sb.glue('losses', losses.to_dict())"
   ]
  }
 ],
 "metadata": {
  "kernel_info": {
   "name": "python3"
  },
  "kernelspec": {
   "display_name": "Python 3",
   "language": "python",
   "name": "python3"
  },
  "language_info": {
   "codemirror_mode": {
    "name": "ipython",
    "version": 3
   },
   "file_extension": ".py",
   "mimetype": "text/x-python",
   "name": "python",
   "nbconvert_exporter": "python",
   "pygments_lexer": "ipython3",
   "version": "3.7.3"
  },
  "nteract": {
   "version": "0.14.3"
  },
  "papermill": {
   "duration": 19.110619,
   "end_time": "2019-09-02T10:20:58.505817",
   "environment_variables": {},
   "exception": null,
   "input_path": "/users/tingard/gzbuilder_results/input_files/volunteer_losses.ipynb",
   "output_path": "/users/tingard/gzbuilder_results/output_files/volunteer_losses/21097019.ipynb",
   "parameters": {
    "subject_id": 21097019
   },
   "start_time": "2019-09-02T10:20:39.395198",
   "version": "1.0.1"
  }
 },
 "nbformat": 4,
 "nbformat_minor": 0
}