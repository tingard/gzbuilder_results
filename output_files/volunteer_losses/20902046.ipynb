{
 "cells": [
  {
   "cell_type": "markdown",
   "metadata": {
    "papermill": {
     "duration": 0.008134,
     "end_time": "2019-09-02T10:20:17.483008",
     "exception": false,
     "start_time": "2019-09-02T10:20:17.474874",
     "status": "completed"
    },
    "tags": []
   },
   "source": [
    "# Volunteer model loss calculation\n",
    "\n",
    "This notebook takes a `subject_id` and calculates the MSE of each volunteer's model to the galaxy data. These losses are then glued to the notebook for use elsewhere."
   ]
  },
  {
   "cell_type": "code",
   "execution_count": 1,
   "metadata": {
    "collapsed": false,
    "inputHidden": false,
    "outputHidden": false,
    "papermill": {
     "duration": 0.026756,
     "end_time": "2019-09-02T10:20:17.519204",
     "exception": false,
     "start_time": "2019-09-02T10:20:17.492448",
     "status": "completed"
    },
    "tags": []
   },
   "outputs": [],
   "source": [
    "%load_ext autoreload\n",
    "%autoreload 2"
   ]
  },
  {
   "cell_type": "code",
   "execution_count": 2,
   "metadata": {
    "collapsed": false,
    "inputHidden": false,
    "outputHidden": false,
    "papermill": {
     "duration": 7.789592,
     "end_time": "2019-09-02T10:20:25.315987",
     "exception": false,
     "start_time": "2019-09-02T10:20:17.526395",
     "status": "completed"
    },
    "tags": []
   },
   "outputs": [
    {
     "name": "stderr",
     "output_type": "stream",
     "text": [
      "/opt/apps/pkgs/anaconda3/2019.03/intel64/lib/python3.7/site-packages/dask/config.py:168: YAMLLoadWarning: calling yaml.load() without Loader=... is deprecated, as the default Loader is unsafe. Please read https://msg.pyyaml.org/load for full details.\n",
      "  data = yaml.load(f.read()) or {}\n"
     ]
    }
   ],
   "source": [
    "import json\n",
    "import numpy as np\n",
    "import pandas as pd\n",
    "from tqdm import tqdm\n",
    "import matplotlib.pyplot as plt\n",
    "import seaborn as sns\n",
    "from gzbuilder_analysis import parsing, rendering, fitting\n",
    "import lib.galaxy_utilities as gu\n",
    "import scrapbook as sb"
   ]
  },
  {
   "cell_type": "code",
   "execution_count": 3,
   "metadata": {
    "collapsed": false,
    "inputHidden": false,
    "outputHidden": false,
    "papermill": {
     "duration": 0.042507,
     "end_time": "2019-09-02T10:20:25.368023",
     "exception": false,
     "start_time": "2019-09-02T10:20:25.325516",
     "status": "completed"
    },
    "tags": [
     "parameters"
    ]
   },
   "outputs": [],
   "source": [
    "subject_id = 20902040"
   ]
  },
  {
   "cell_type": "code",
   "execution_count": 4,
   "metadata": {
    "papermill": {
     "duration": 0.040224,
     "end_time": "2019-09-02T10:20:25.416835",
     "exception": false,
     "start_time": "2019-09-02T10:20:25.376611",
     "status": "completed"
    },
    "tags": [
     "injected-parameters"
    ]
   },
   "outputs": [],
   "source": [
    "# Parameters\n",
    "subject_id = 20902046\n"
   ]
  },
  {
   "cell_type": "code",
   "execution_count": 5,
   "metadata": {
    "collapsed": false,
    "inputHidden": false,
    "outputHidden": false,
    "papermill": {
     "duration": 0.659291,
     "end_time": "2019-09-02T10:20:26.083512",
     "exception": false,
     "start_time": "2019-09-02T10:20:25.424221",
     "status": "completed"
    },
    "tags": []
   },
   "outputs": [],
   "source": [
    "diff_data_df = pd.read_pickle('lib/fitting_metadata.pkl')"
   ]
  },
  {
   "cell_type": "code",
   "execution_count": 6,
   "metadata": {
    "collapsed": false,
    "inputHidden": false,
    "outputHidden": false,
    "papermill": {
     "duration": 0.052766,
     "end_time": "2019-09-02T10:20:26.144248",
     "exception": false,
     "start_time": "2019-09-02T10:20:26.091482",
     "status": "completed"
    },
    "tags": []
   },
   "outputs": [],
   "source": [
    "def get_losses_by_user(subject_id):\n",
    "  diff_data = diff_data_df.loc[subject_id]\n",
    "  psf = diff_data['psf']\n",
    "  pixel_mask = np.array(diff_data['pixel_mask'])[::-1]\n",
    "  galaxy_data = np.array(diff_data['galaxy_data'])[::-1]\n",
    "  image_size = galaxy_data.shape[0]\n",
    "  size_diff = diff_data['size_diff']\n",
    "  \n",
    "  cls = gu.classifications.query('subject_ids == {}'.format(subject_id))\n",
    "  names = cls.user_name \n",
    "  annotations = cls['annotations'].apply(json.loads)\n",
    "\n",
    "  models = annotations.apply(\n",
    "    parsing.parse_annotation,\n",
    "    size_diff=size_diff\n",
    "  )\n",
    "\n",
    "  tqdm.pandas(\n",
    "    desc='Rendering models'.format(subject_id),\n",
    "    leave=False\n",
    "  )\n",
    "  rendered = models.progress_apply(\n",
    "    rendering.calculate_model,\n",
    "    image_size=image_size,\n",
    "    psf=psf\n",
    "  ).rename('rendered')\n",
    "\n",
    "  tqdm.pandas(\n",
    "    desc='Calculating differences'.format(subject_id),\n",
    "    leave=False\n",
    "  )\n",
    "  losses = rendered.apply(\n",
    "    fitting.loss,\n",
    "    args=(galaxy_data, pixel_mask)\n",
    "  ).rename('loss')\n",
    "  all_losses = pd.Series(\n",
    "    losses.values,\n",
    "    index=names.values\n",
    "  ).rename(subject_id)\n",
    "  best_losses = pd.concat((\n",
    "    all_losses.where(\n",
    "      ~all_losses.duplicated(keep=False)\n",
    "    ).dropna(), # all non-duplicates\n",
    "    all_losses.where(\n",
    "      all_losses.duplicated(keep=False)\n",
    "    ).dropna().groupby(level=0).min() # best value of duplicates\n",
    "  ), axis=0)\n",
    "  return best_losses"
   ]
  },
  {
   "cell_type": "code",
   "execution_count": 7,
   "metadata": {
    "collapsed": false,
    "inputHidden": false,
    "outputHidden": false,
    "papermill": {
     "duration": 18.580608,
     "end_time": "2019-09-02T10:20:44.732763",
     "exception": false,
     "start_time": "2019-09-02T10:20:26.152155",
     "status": "completed"
    },
    "tags": []
   },
   "outputs": [
    {
     "name": "stderr",
     "output_type": "stream",
     "text": [
      "\r",
      "Rendering models:   0%|          | 0/39 [00:00<?, ?it/s]"
     ]
    },
    {
     "name": "stderr",
     "output_type": "stream",
     "text": [
      "\r",
      "Rendering models:   8%|▊         | 3/39 [00:01<00:21,  1.65it/s]"
     ]
    },
    {
     "name": "stderr",
     "output_type": "stream",
     "text": [
      "\r",
      "Rendering models:  10%|█         | 4/39 [00:05<00:54,  1.57s/it]"
     ]
    },
    {
     "name": "stderr",
     "output_type": "stream",
     "text": [
      "\r",
      "Rendering models:  13%|█▎        | 5/39 [00:05<00:40,  1.19s/it]"
     ]
    },
    {
     "name": "stderr",
     "output_type": "stream",
     "text": [
      "\r",
      "Rendering models:  15%|█▌        | 6/39 [00:06<00:30,  1.08it/s]"
     ]
    },
    {
     "name": "stderr",
     "output_type": "stream",
     "text": [
      "\r",
      "Rendering models:  18%|█▊        | 7/39 [00:07<00:34,  1.09s/it]"
     ]
    },
    {
     "name": "stderr",
     "output_type": "stream",
     "text": [
      "\r",
      "Rendering models:  21%|██        | 8/39 [00:08<00:26,  1.17it/s]"
     ]
    },
    {
     "name": "stderr",
     "output_type": "stream",
     "text": [
      "\r",
      "Rendering models:  23%|██▎       | 9/39 [00:08<00:20,  1.49it/s]"
     ]
    },
    {
     "name": "stderr",
     "output_type": "stream",
     "text": [
      "\r",
      "Rendering models:  26%|██▌       | 10/39 [00:08<00:16,  1.72it/s]"
     ]
    },
    {
     "name": "stderr",
     "output_type": "stream",
     "text": [
      "\r",
      "Rendering models:  28%|██▊       | 11/39 [00:08<00:13,  2.08it/s]"
     ]
    },
    {
     "name": "stderr",
     "output_type": "stream",
     "text": [
      "\r",
      "Rendering models:  31%|███       | 12/39 [00:09<00:11,  2.42it/s]"
     ]
    },
    {
     "name": "stderr",
     "output_type": "stream",
     "text": [
      "\r",
      "Rendering models:  33%|███▎      | 13/39 [00:09<00:09,  2.71it/s]"
     ]
    },
    {
     "name": "stderr",
     "output_type": "stream",
     "text": [
      "\r",
      "Rendering models:  36%|███▌      | 14/39 [00:09<00:08,  2.96it/s]"
     ]
    },
    {
     "name": "stderr",
     "output_type": "stream",
     "text": [
      "\r",
      "Rendering models:  38%|███▊      | 15/39 [00:09<00:07,  3.21it/s]"
     ]
    },
    {
     "name": "stderr",
     "output_type": "stream",
     "text": [
      "\r",
      "Rendering models:  41%|████      | 16/39 [00:10<00:08,  2.60it/s]"
     ]
    },
    {
     "name": "stderr",
     "output_type": "stream",
     "text": [
      "\r",
      "Rendering models:  44%|████▎     | 17/39 [00:10<00:07,  2.90it/s]"
     ]
    },
    {
     "name": "stderr",
     "output_type": "stream",
     "text": [
      "\r",
      "Rendering models:  46%|████▌     | 18/39 [00:10<00:06,  3.13it/s]"
     ]
    },
    {
     "name": "stderr",
     "output_type": "stream",
     "text": [
      "\r",
      "Rendering models:  49%|████▊     | 19/39 [00:11<00:06,  3.12it/s]"
     ]
    },
    {
     "name": "stderr",
     "output_type": "stream",
     "text": [
      "\r",
      "Rendering models:  51%|█████▏    | 20/39 [00:11<00:05,  3.32it/s]"
     ]
    },
    {
     "name": "stderr",
     "output_type": "stream",
     "text": [
      "\r",
      "Rendering models:  54%|█████▍    | 21/39 [00:12<00:07,  2.51it/s]"
     ]
    },
    {
     "name": "stderr",
     "output_type": "stream",
     "text": [
      "\r",
      "Rendering models:  56%|█████▋    | 22/39 [00:12<00:06,  2.57it/s]"
     ]
    },
    {
     "name": "stderr",
     "output_type": "stream",
     "text": [
      "\r",
      "Rendering models:  59%|█████▉    | 23/39 [00:12<00:05,  2.86it/s]"
     ]
    },
    {
     "name": "stderr",
     "output_type": "stream",
     "text": [
      "\r",
      "Rendering models:  62%|██████▏   | 24/39 [00:13<00:05,  2.50it/s]"
     ]
    },
    {
     "name": "stderr",
     "output_type": "stream",
     "text": [
      "\r",
      "Rendering models:  64%|██████▍   | 25/39 [00:13<00:04,  2.87it/s]"
     ]
    },
    {
     "name": "stderr",
     "output_type": "stream",
     "text": [
      "\r",
      "Rendering models:  69%|██████▉   | 27/39 [00:13<00:03,  3.52it/s]"
     ]
    },
    {
     "name": "stderr",
     "output_type": "stream",
     "text": [
      "\r",
      "Rendering models:  72%|███████▏  | 28/39 [00:14<00:03,  3.26it/s]"
     ]
    },
    {
     "name": "stderr",
     "output_type": "stream",
     "text": [
      "\r",
      "Rendering models:  74%|███████▍  | 29/39 [00:14<00:03,  2.56it/s]"
     ]
    },
    {
     "name": "stderr",
     "output_type": "stream",
     "text": [
      "\r",
      "Rendering models:  77%|███████▋  | 30/39 [00:15<00:03,  2.37it/s]"
     ]
    },
    {
     "name": "stderr",
     "output_type": "stream",
     "text": [
      "\r",
      "Rendering models:  79%|███████▉  | 31/39 [00:15<00:03,  2.18it/s]"
     ]
    },
    {
     "name": "stderr",
     "output_type": "stream",
     "text": [
      "\r",
      "Rendering models:  82%|████████▏ | 32/39 [00:16<00:02,  2.49it/s]"
     ]
    },
    {
     "name": "stderr",
     "output_type": "stream",
     "text": [
      "\r",
      "Rendering models:  85%|████████▍ | 33/39 [00:16<00:02,  2.53it/s]"
     ]
    },
    {
     "name": "stderr",
     "output_type": "stream",
     "text": [
      "\r",
      "Rendering models:  87%|████████▋ | 34/39 [00:16<00:01,  2.82it/s]"
     ]
    },
    {
     "name": "stderr",
     "output_type": "stream",
     "text": [
      "\r",
      "Rendering models:  90%|████████▉ | 35/39 [00:16<00:01,  3.05it/s]"
     ]
    },
    {
     "name": "stderr",
     "output_type": "stream",
     "text": [
      "\r",
      "Rendering models:  92%|█████████▏| 36/39 [00:17<00:00,  3.22it/s]"
     ]
    },
    {
     "name": "stderr",
     "output_type": "stream",
     "text": [
      "\r",
      "Rendering models:  95%|█████████▍| 37/39 [00:17<00:00,  3.51it/s]"
     ]
    },
    {
     "name": "stderr",
     "output_type": "stream",
     "text": [
      "\r",
      "Rendering models:  97%|█████████▋| 38/39 [00:17<00:00,  2.91it/s]"
     ]
    },
    {
     "name": "stderr",
     "output_type": "stream",
     "text": [
      "\r",
      "                                                                 "
     ]
    },
    {
     "name": "stderr",
     "output_type": "stream",
     "text": [
      "\r"
     ]
    },
    {
     "data": {
      "text/plain": [
       "kayleebug2017                          0.001127\n",
       "nickoftona                             0.000403\n",
       "Linda_J._Berkel                        0.000211\n",
       "equidad1                               0.074850\n",
       "not-logged-in-05ca4a4e98bc7b8f1b53     0.008870\n",
       "DrJackie                               0.004242\n",
       "Thedunkmasta                           0.002353\n",
       "Thedunkmasta                           0.004128\n",
       "Thedunkmasta                           0.003756\n",
       "Thedunkmasta                           0.003142\n",
       "Thedunkmasta                           0.004007\n",
       "Thedunkmasta                           0.004259\n",
       "Thedunkmasta                           0.003703\n",
       "not-logged-in-8f952918713304e53755     0.000327\n",
       "Thedunkmasta                           0.002181\n",
       "Thedunkmasta                           0.004108\n",
       "rcbeck                                 0.000230\n",
       "not-logged-in-61a0765eeab9a5074a2a     0.000232\n",
       "not-logged-in-4ec54f98b3c226b9b959     0.064822\n",
       "not-logged-in-5f30b2bb9b7f9d49da41     0.004312\n",
       "not-logged-in-5f30b2bb9b7f9d49da41     0.538377\n",
       "coyotes54                              0.000261\n",
       "not-logged-in-75e0b81dd6080af33b88     0.001072\n",
       "not-logged-in-314d48142a3a122ba666     0.002654\n",
       "LunaMoona                              0.000375\n",
       "not-logged-in-214814e52004b42491a4    23.656275\n",
       "not-logged-in-9f30f411df9d28d2c541     0.000469\n",
       "not-logged-in-9f30f411df9d28d2c541     0.007113\n",
       "acapirala                              0.000281\n",
       "Lavadude                               0.091503\n",
       "not-logged-in-2027f1f6703c19b00bd8     0.000572\n",
       "atoderov                               0.001299\n",
       "not-logged-in-6cdc6c36435b7c7ca90e     0.002330\n",
       "karl_stark                             0.002686\n",
       "not-logged-in-052198bc8f2655501c63     0.002723\n",
       "not-logged-in-e439d8846231b99a776b     0.002723\n",
       "rcauchi3                               0.002723\n",
       "taisribeiro                            0.002723\n",
       "Name: 20902046, dtype: float64"
      ]
     },
     "execution_count": 7,
     "metadata": {},
     "output_type": "execute_result"
    }
   ],
   "source": [
    "losses = get_losses_by_user(subject_id)\n",
    "losses"
   ]
  },
  {
   "cell_type": "code",
   "execution_count": 8,
   "metadata": {
    "collapsed": false,
    "inputHidden": false,
    "outputHidden": false,
    "papermill": {
     "duration": 0.072356,
     "end_time": "2019-09-02T10:20:44.821877",
     "exception": false,
     "start_time": "2019-09-02T10:20:44.749521",
     "status": "completed"
    },
    "tags": []
   },
   "outputs": [
    {
     "data": {
      "application/scrapbook.scrap.json+json": {
       "data": 20902046,
       "encoder": "json",
       "name": "subject_id",
       "version": 1
      }
     },
     "metadata": {
      "scrapbook": {
       "data": true,
       "display": false,
       "name": "subject_id"
      }
     },
     "output_type": "display_data"
    },
    {
     "data": {
      "application/scrapbook.scrap.json+json": {
       "data": {
        "DrJackie": 0.0042421160179997724,
        "Lavadude": 0.09150286973268204,
        "Linda_J._Berkel": 0.00021136522415730243,
        "LunaMoona": 0.00037507013440235494,
        "Thedunkmasta": 0.004108317871222672,
        "acapirala": 0.00028071640975734267,
        "atoderov": 0.0012987025591511725,
        "coyotes54": 0.0002605919804917251,
        "equidad1": 0.07485049058854552,
        "karl_stark": 0.0026855105228883324,
        "kayleebug2017": 0.0011267179422436765,
        "nickoftona": 0.0004034826858124497,
        "not-logged-in-052198bc8f2655501c63": 0.0027226220448163933,
        "not-logged-in-05ca4a4e98bc7b8f1b53": 0.008870495862273701,
        "not-logged-in-2027f1f6703c19b00bd8": 0.0005719644020371538,
        "not-logged-in-214814e52004b42491a4": 23.656275320390677,
        "not-logged-in-314d48142a3a122ba666": 0.002653978753578763,
        "not-logged-in-4ec54f98b3c226b9b959": 0.06482178451885014,
        "not-logged-in-5f30b2bb9b7f9d49da41": 0.5383771168727268,
        "not-logged-in-61a0765eeab9a5074a2a": 0.0002323701579884895,
        "not-logged-in-6cdc6c36435b7c7ca90e": 0.0023297507959713667,
        "not-logged-in-75e0b81dd6080af33b88": 0.0010715468280618336,
        "not-logged-in-8f952918713304e53755": 0.00032712595155814006,
        "not-logged-in-9f30f411df9d28d2c541": 0.007112760665174118,
        "not-logged-in-e439d8846231b99a776b": 0.0027226220448163933,
        "rcauchi3": 0.0027226220448163933,
        "rcbeck": 0.00023001930635948794,
        "taisribeiro": 0.0027226220448163933
       },
       "encoder": "json",
       "name": "losses",
       "version": 1
      }
     },
     "metadata": {
      "scrapbook": {
       "data": true,
       "display": false,
       "name": "losses"
      }
     },
     "output_type": "display_data"
    }
   ],
   "source": [
    "sb.glue('subject_id', subject_id)\n",
    "sb.glue('losses', losses.to_dict())"
   ]
  }
 ],
 "metadata": {
  "kernel_info": {
   "name": "python3"
  },
  "kernelspec": {
   "display_name": "Python 3",
   "language": "python",
   "name": "python3"
  },
  "language_info": {
   "codemirror_mode": {
    "name": "ipython",
    "version": 3
   },
   "file_extension": ".py",
   "mimetype": "text/x-python",
   "name": "python",
   "nbconvert_exporter": "python",
   "pygments_lexer": "ipython3",
   "version": "3.7.3"
  },
  "nteract": {
   "version": "0.14.3"
  },
  "papermill": {
   "duration": 33.816946,
   "end_time": "2019-09-02T10:20:46.867110",
   "environment_variables": {},
   "exception": null,
   "input_path": "/users/tingard/gzbuilder_results/input_files/volunteer_losses.ipynb",
   "output_path": "/users/tingard/gzbuilder_results/output_files/volunteer_losses/20902046.ipynb",
   "parameters": {
    "subject_id": 20902046
   },
   "start_time": "2019-09-02T10:20:13.050164",
   "version": "1.0.1"
  }
 },
 "nbformat": 4,
 "nbformat_minor": 0
}