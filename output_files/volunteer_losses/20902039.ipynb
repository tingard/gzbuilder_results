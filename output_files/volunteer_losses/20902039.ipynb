{
 "cells": [
  {
   "cell_type": "markdown",
   "metadata": {
    "papermill": {
     "duration": 0.273641,
     "end_time": "2019-09-02T10:20:21.594585",
     "exception": false,
     "start_time": "2019-09-02T10:20:21.320944",
     "status": "completed"
    },
    "tags": []
   },
   "source": [
    "# Volunteer model loss calculation\n",
    "\n",
    "This notebook takes a `subject_id` and calculates the MSE of each volunteer's model to the galaxy data. These losses are then glued to the notebook for use elsewhere."
   ]
  },
  {
   "cell_type": "code",
   "execution_count": 1,
   "metadata": {
    "collapsed": false,
    "inputHidden": false,
    "outputHidden": false,
    "papermill": {
     "duration": 0.15657,
     "end_time": "2019-09-02T10:20:21.806571",
     "exception": false,
     "start_time": "2019-09-02T10:20:21.650001",
     "status": "completed"
    },
    "tags": []
   },
   "outputs": [],
   "source": [
    "%load_ext autoreload\n",
    "%autoreload 2"
   ]
  },
  {
   "cell_type": "code",
   "execution_count": 2,
   "metadata": {
    "collapsed": false,
    "inputHidden": false,
    "outputHidden": false,
    "papermill": {
     "duration": 5.968885,
     "end_time": "2019-09-02T10:20:27.783491",
     "exception": false,
     "start_time": "2019-09-02T10:20:21.814606",
     "status": "completed"
    },
    "tags": []
   },
   "outputs": [
    {
     "name": "stderr",
     "output_type": "stream",
     "text": [
      "/opt/apps/pkgs/anaconda3/2019.03/intel64/lib/python3.7/site-packages/dask/config.py:168: YAMLLoadWarning: calling yaml.load() without Loader=... is deprecated, as the default Loader is unsafe. Please read https://msg.pyyaml.org/load for full details.\n",
      "  data = yaml.load(f.read()) or {}\n"
     ]
    }
   ],
   "source": [
    "import json\n",
    "import numpy as np\n",
    "import pandas as pd\n",
    "from tqdm import tqdm\n",
    "import matplotlib.pyplot as plt\n",
    "import seaborn as sns\n",
    "from gzbuilder_analysis import parsing, rendering, fitting\n",
    "import lib.galaxy_utilities as gu\n",
    "import scrapbook as sb"
   ]
  },
  {
   "cell_type": "code",
   "execution_count": 3,
   "metadata": {
    "collapsed": false,
    "inputHidden": false,
    "outputHidden": false,
    "papermill": {
     "duration": 0.04285,
     "end_time": "2019-09-02T10:20:27.835753",
     "exception": false,
     "start_time": "2019-09-02T10:20:27.792903",
     "status": "completed"
    },
    "tags": [
     "parameters"
    ]
   },
   "outputs": [],
   "source": [
    "subject_id = 20902040"
   ]
  },
  {
   "cell_type": "code",
   "execution_count": 4,
   "metadata": {
    "papermill": {
     "duration": 0.042628,
     "end_time": "2019-09-02T10:20:27.886984",
     "exception": false,
     "start_time": "2019-09-02T10:20:27.844356",
     "status": "completed"
    },
    "tags": [
     "injected-parameters"
    ]
   },
   "outputs": [],
   "source": [
    "# Parameters\n",
    "subject_id = 20902039\n"
   ]
  },
  {
   "cell_type": "code",
   "execution_count": 5,
   "metadata": {
    "collapsed": false,
    "inputHidden": false,
    "outputHidden": false,
    "papermill": {
     "duration": 0.152732,
     "end_time": "2019-09-02T10:20:28.047450",
     "exception": false,
     "start_time": "2019-09-02T10:20:27.894718",
     "status": "completed"
    },
    "tags": []
   },
   "outputs": [],
   "source": [
    "diff_data_df = pd.read_pickle('lib/fitting_metadata.pkl')"
   ]
  },
  {
   "cell_type": "code",
   "execution_count": 6,
   "metadata": {
    "collapsed": false,
    "inputHidden": false,
    "outputHidden": false,
    "papermill": {
     "duration": 0.051889,
     "end_time": "2019-09-02T10:20:28.107449",
     "exception": false,
     "start_time": "2019-09-02T10:20:28.055560",
     "status": "completed"
    },
    "tags": []
   },
   "outputs": [],
   "source": [
    "def get_losses_by_user(subject_id):\n",
    "  diff_data = diff_data_df.loc[subject_id]\n",
    "  psf = diff_data['psf']\n",
    "  pixel_mask = np.array(diff_data['pixel_mask'])[::-1]\n",
    "  galaxy_data = np.array(diff_data['galaxy_data'])[::-1]\n",
    "  image_size = galaxy_data.shape[0]\n",
    "  size_diff = diff_data['size_diff']\n",
    "  \n",
    "  cls = gu.classifications.query('subject_ids == {}'.format(subject_id))\n",
    "  names = cls.user_name \n",
    "  annotations = cls['annotations'].apply(json.loads)\n",
    "\n",
    "  models = annotations.apply(\n",
    "    parsing.parse_annotation,\n",
    "    size_diff=size_diff\n",
    "  )\n",
    "\n",
    "  tqdm.pandas(\n",
    "    desc='Rendering models'.format(subject_id),\n",
    "    leave=False\n",
    "  )\n",
    "  rendered = models.progress_apply(\n",
    "    rendering.calculate_model,\n",
    "    image_size=image_size,\n",
    "    psf=psf\n",
    "  ).rename('rendered')\n",
    "\n",
    "  tqdm.pandas(\n",
    "    desc='Calculating differences'.format(subject_id),\n",
    "    leave=False\n",
    "  )\n",
    "  losses = rendered.apply(\n",
    "    fitting.loss,\n",
    "    args=(galaxy_data, pixel_mask)\n",
    "  ).rename('loss')\n",
    "  all_losses = pd.Series(\n",
    "    losses.values,\n",
    "    index=names.values\n",
    "  ).rename(subject_id)\n",
    "  best_losses = pd.concat((\n",
    "    all_losses.where(\n",
    "      ~all_losses.duplicated(keep=False)\n",
    "    ).dropna(), # all non-duplicates\n",
    "    all_losses.where(\n",
    "      all_losses.duplicated(keep=False)\n",
    "    ).dropna().groupby(level=0).min() # best value of duplicates\n",
    "  ), axis=0)\n",
    "  return best_losses"
   ]
  },
  {
   "cell_type": "code",
   "execution_count": 7,
   "metadata": {
    "collapsed": false,
    "inputHidden": false,
    "outputHidden": false,
    "papermill": {
     "duration": 14.751253,
     "end_time": "2019-09-02T10:20:42.867318",
     "exception": false,
     "start_time": "2019-09-02T10:20:28.116065",
     "status": "completed"
    },
    "tags": []
   },
   "outputs": [
    {
     "name": "stderr",
     "output_type": "stream",
     "text": [
      "\r",
      "Rendering models:   0%|          | 0/33 [00:00<?, ?it/s]"
     ]
    },
    {
     "name": "stderr",
     "output_type": "stream",
     "text": [
      "\r",
      "Rendering models:   6%|▌         | 2/33 [00:07<01:53,  3.68s/it]"
     ]
    },
    {
     "name": "stderr",
     "output_type": "stream",
     "text": [
      "\r",
      "Rendering models:   9%|▉         | 3/33 [00:07<01:19,  2.64s/it]"
     ]
    },
    {
     "name": "stderr",
     "output_type": "stream",
     "text": [
      "\r",
      "Rendering models:  12%|█▏        | 4/33 [00:07<00:56,  1.94s/it]"
     ]
    },
    {
     "name": "stderr",
     "output_type": "stream",
     "text": [
      "\r",
      "Rendering models:  15%|█▌        | 5/33 [00:07<00:38,  1.39s/it]"
     ]
    },
    {
     "name": "stderr",
     "output_type": "stream",
     "text": [
      "\r",
      "Rendering models:  18%|█▊        | 6/33 [00:08<00:27,  1.01s/it]"
     ]
    },
    {
     "name": "stderr",
     "output_type": "stream",
     "text": [
      "\r",
      "Rendering models:  21%|██        | 7/33 [00:08<00:20,  1.25it/s]"
     ]
    },
    {
     "name": "stderr",
     "output_type": "stream",
     "text": [
      "\r",
      "Rendering models:  24%|██▍       | 8/33 [00:08<00:16,  1.55it/s]"
     ]
    },
    {
     "name": "stderr",
     "output_type": "stream",
     "text": [
      "\r",
      "Rendering models:  27%|██▋       | 9/33 [00:08<00:12,  1.85it/s]"
     ]
    },
    {
     "name": "stderr",
     "output_type": "stream",
     "text": [
      "\r",
      "Rendering models:  30%|███       | 10/33 [00:09<00:10,  2.21it/s]"
     ]
    },
    {
     "name": "stderr",
     "output_type": "stream",
     "text": [
      "\r",
      "Rendering models:  33%|███▎      | 11/33 [00:09<00:08,  2.47it/s]"
     ]
    },
    {
     "name": "stderr",
     "output_type": "stream",
     "text": [
      "\r",
      "Rendering models:  36%|███▋      | 12/33 [00:09<00:07,  2.91it/s]"
     ]
    },
    {
     "name": "stderr",
     "output_type": "stream",
     "text": [
      "\r",
      "Rendering models:  39%|███▉      | 13/33 [00:10<00:06,  3.08it/s]"
     ]
    },
    {
     "name": "stderr",
     "output_type": "stream",
     "text": [
      "\r",
      "Rendering models:  42%|████▏     | 14/33 [00:10<00:05,  3.23it/s]"
     ]
    },
    {
     "name": "stderr",
     "output_type": "stream",
     "text": [
      "\r",
      "Rendering models:  45%|████▌     | 15/33 [00:10<00:05,  3.36it/s]"
     ]
    },
    {
     "name": "stderr",
     "output_type": "stream",
     "text": [
      "\r",
      "Rendering models:  48%|████▊     | 16/33 [00:10<00:04,  3.62it/s]"
     ]
    },
    {
     "name": "stderr",
     "output_type": "stream",
     "text": [
      "\r",
      "Rendering models:  52%|█████▏    | 17/33 [00:11<00:05,  3.03it/s]"
     ]
    },
    {
     "name": "stderr",
     "output_type": "stream",
     "text": [
      "\r",
      "Rendering models:  58%|█████▊    | 19/33 [00:11<00:03,  4.03it/s]"
     ]
    },
    {
     "name": "stderr",
     "output_type": "stream",
     "text": [
      "\r",
      "Rendering models:  61%|██████    | 20/33 [00:11<00:03,  4.28it/s]"
     ]
    },
    {
     "name": "stderr",
     "output_type": "stream",
     "text": [
      "\r",
      "Rendering models:  64%|██████▎   | 21/33 [00:11<00:02,  4.31it/s]"
     ]
    },
    {
     "name": "stderr",
     "output_type": "stream",
     "text": [
      "\r",
      "Rendering models:  67%|██████▋   | 22/33 [00:11<00:02,  4.54it/s]"
     ]
    },
    {
     "name": "stderr",
     "output_type": "stream",
     "text": [
      "\r",
      "Rendering models:  70%|██████▉   | 23/33 [00:12<00:02,  4.70it/s]"
     ]
    },
    {
     "name": "stderr",
     "output_type": "stream",
     "text": [
      "\r",
      "Rendering models:  73%|███████▎  | 24/33 [00:12<00:02,  3.46it/s]"
     ]
    },
    {
     "name": "stderr",
     "output_type": "stream",
     "text": [
      "\r",
      "Rendering models:  76%|███████▌  | 25/33 [00:12<00:02,  3.83it/s]"
     ]
    },
    {
     "name": "stderr",
     "output_type": "stream",
     "text": [
      "\r",
      "Rendering models:  79%|███████▉  | 26/33 [00:13<00:01,  3.88it/s]"
     ]
    },
    {
     "name": "stderr",
     "output_type": "stream",
     "text": [
      "\r",
      "Rendering models:  82%|████████▏ | 27/33 [00:13<00:01,  4.08it/s]"
     ]
    },
    {
     "name": "stderr",
     "output_type": "stream",
     "text": [
      "\r",
      "Rendering models:  88%|████████▊ | 29/33 [00:13<00:00,  5.02it/s]"
     ]
    },
    {
     "name": "stderr",
     "output_type": "stream",
     "text": [
      "\r",
      "Rendering models:  91%|█████████ | 30/33 [00:13<00:00,  4.65it/s]"
     ]
    },
    {
     "name": "stderr",
     "output_type": "stream",
     "text": [
      "\r",
      "Rendering models:  94%|█████████▍| 31/33 [00:13<00:00,  4.80it/s]"
     ]
    },
    {
     "name": "stderr",
     "output_type": "stream",
     "text": [
      "\r",
      "Rendering models:  97%|█████████▋| 32/33 [00:14<00:00,  4.52it/s]"
     ]
    },
    {
     "name": "stderr",
     "output_type": "stream",
     "text": [
      "\r",
      "                                                                 "
     ]
    },
    {
     "name": "stderr",
     "output_type": "stream",
     "text": [
      "\r"
     ]
    },
    {
     "data": {
      "text/plain": [
       "ElisabethB                            0.000377\n",
       "not-logged-in-cae133427d99aac1e554    0.000237\n",
       "nickoftona                            0.000294\n",
       "kayleebug2017                         0.001973\n",
       "not-logged-in-aac1a549b28981db19c0    0.002393\n",
       "tingard                               0.000188\n",
       "BrownEyedGirl                         0.009803\n",
       "Gorislavna                            0.001690\n",
       "Poupoussin                            0.003910\n",
       "Thedunkmasta                          0.003081\n",
       "theetick                              0.003401\n",
       "sn346808                              0.049337\n",
       "sn346808                              0.022325\n",
       "sn346808                              0.032018\n",
       "not-logged-in-14d09f70263c1fe15cc3    0.001307\n",
       "stellarastronomyisstellar             2.698752\n",
       "ayluminati                            0.001974\n",
       "Tenorclef                             0.002049\n",
       "astronphoenix                         0.000228\n",
       "not-logged-in-7b20cc95ac8c47c75645    0.000895\n",
       "amidou                                0.002274\n",
       "nthibert1                             0.000229\n",
       "AmelieDumont                          0.000181\n",
       "gadam8                                0.000334\n",
       "not-logged-in-93d4e7296ee4ce449c82    0.003188\n",
       "not-logged-in-e23c11d8538d9848a6a5    0.001125\n",
       "not-logged-in-732cfb174800512573ee    0.002925\n",
       "not-logged-in-efddf89a860b650db2b6    0.002295\n",
       "BigSean                               0.000158\n",
       "not-logged-in-7be2ab5b99cd33eba4f5    0.002911\n",
       "not-logged-in-2eb38841187e4efc56ae    0.003149\n",
       "not-logged-in-623cb7cd00f5dbcaf5ac    0.003149\n",
       "not-logged-in-7be2ab5b99cd33eba4f5    0.003149\n",
       "Name: 20902039, dtype: float64"
      ]
     },
     "execution_count": 7,
     "metadata": {},
     "output_type": "execute_result"
    }
   ],
   "source": [
    "losses = get_losses_by_user(subject_id)\n",
    "losses"
   ]
  },
  {
   "cell_type": "code",
   "execution_count": 8,
   "metadata": {
    "collapsed": false,
    "inputHidden": false,
    "outputHidden": false,
    "papermill": {
     "duration": 0.078081,
     "end_time": "2019-09-02T10:20:42.961373",
     "exception": false,
     "start_time": "2019-09-02T10:20:42.883292",
     "status": "completed"
    },
    "tags": []
   },
   "outputs": [
    {
     "data": {
      "application/scrapbook.scrap.json+json": {
       "data": 20902039,
       "encoder": "json",
       "name": "subject_id",
       "version": 1
      }
     },
     "metadata": {
      "scrapbook": {
       "data": true,
       "display": false,
       "name": "subject_id"
      }
     },
     "output_type": "display_data"
    },
    {
     "data": {
      "application/scrapbook.scrap.json+json": {
       "data": {
        "AmelieDumont": 0.00018070602079999604,
        "BigSean": 0.0001576403134328312,
        "BrownEyedGirl": 0.009802818818000245,
        "ElisabethB": 0.0003768339775755815,
        "Gorislavna": 0.0016898967078949115,
        "Poupoussin": 0.003909604441637125,
        "Tenorclef": 0.002048785051698631,
        "Thedunkmasta": 0.003081196408495847,
        "amidou": 0.002274353078869423,
        "astronphoenix": 0.00022786166130496895,
        "ayluminati": 0.001973603873973535,
        "gadam8": 0.00033379613082833945,
        "kayleebug2017": 0.001972568566134796,
        "nickoftona": 0.0002939269096641528,
        "not-logged-in-14d09f70263c1fe15cc3": 0.0013072998313924176,
        "not-logged-in-2eb38841187e4efc56ae": 0.003149140337027549,
        "not-logged-in-623cb7cd00f5dbcaf5ac": 0.003149140337027549,
        "not-logged-in-732cfb174800512573ee": 0.002925182211147253,
        "not-logged-in-7b20cc95ac8c47c75645": 0.000894570672389227,
        "not-logged-in-7be2ab5b99cd33eba4f5": 0.003149140337027549,
        "not-logged-in-93d4e7296ee4ce449c82": 0.0031880154640467617,
        "not-logged-in-aac1a549b28981db19c0": 0.00239344693333713,
        "not-logged-in-cae133427d99aac1e554": 0.0002372454314468928,
        "not-logged-in-e23c11d8538d9848a6a5": 0.001124979485869658,
        "not-logged-in-efddf89a860b650db2b6": 0.0022950411368681785,
        "nthibert1": 0.00022919777975376435,
        "sn346808": 0.03201770319827695,
        "stellarastronomyisstellar": 2.698752191674393,
        "theetick": 0.0034006396161239175,
        "tingard": 0.00018766924627529357
       },
       "encoder": "json",
       "name": "losses",
       "version": 1
      }
     },
     "metadata": {
      "scrapbook": {
       "data": true,
       "display": false,
       "name": "losses"
      }
     },
     "output_type": "display_data"
    }
   ],
   "source": [
    "sb.glue('subject_id', subject_id)\n",
    "sb.glue('losses', losses.to_dict())"
   ]
  }
 ],
 "metadata": {
  "kernel_info": {
   "name": "python3"
  },
  "kernelspec": {
   "display_name": "Python 3",
   "language": "python",
   "name": "python3"
  },
  "language_info": {
   "codemirror_mode": {
    "name": "ipython",
    "version": 3
   },
   "file_extension": ".py",
   "mimetype": "text/x-python",
   "name": "python",
   "nbconvert_exporter": "python",
   "pygments_lexer": "ipython3",
   "version": "3.7.3"
  },
  "nteract": {
   "version": "0.14.3"
  },
  "papermill": {
   "duration": 31.408055,
   "end_time": "2019-09-02T10:20:44.458398",
   "environment_variables": {},
   "exception": null,
   "input_path": "/users/tingard/gzbuilder_results/input_files/volunteer_losses.ipynb",
   "output_path": "/users/tingard/gzbuilder_results/output_files/volunteer_losses/20902039.ipynb",
   "parameters": {
    "subject_id": 20902039
   },
   "start_time": "2019-09-02T10:20:13.050343",
   "version": "1.0.1"
  }
 },
 "nbformat": 4,
 "nbformat_minor": 0
}