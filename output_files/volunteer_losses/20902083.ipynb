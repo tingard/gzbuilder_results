{
 "cells": [
  {
   "cell_type": "markdown",
   "metadata": {
    "papermill": {
     "duration": 0.010946,
     "end_time": "2019-09-02T10:20:21.223519",
     "exception": false,
     "start_time": "2019-09-02T10:20:21.212573",
     "status": "completed"
    },
    "tags": []
   },
   "source": [
    "# Volunteer model loss calculation\n",
    "\n",
    "This notebook takes a `subject_id` and calculates the MSE of each volunteer's model to the galaxy data. These losses are then glued to the notebook for use elsewhere."
   ]
  },
  {
   "cell_type": "code",
   "execution_count": 1,
   "metadata": {
    "collapsed": false,
    "inputHidden": false,
    "outputHidden": false,
    "papermill": {
     "duration": 0.037195,
     "end_time": "2019-09-02T10:20:21.270854",
     "exception": false,
     "start_time": "2019-09-02T10:20:21.233659",
     "status": "completed"
    },
    "tags": []
   },
   "outputs": [],
   "source": [
    "%load_ext autoreload\n",
    "%autoreload 2"
   ]
  },
  {
   "cell_type": "code",
   "execution_count": 2,
   "metadata": {
    "collapsed": false,
    "inputHidden": false,
    "outputHidden": false,
    "papermill": {
     "duration": 7.039923,
     "end_time": "2019-09-02T10:20:28.320064",
     "exception": false,
     "start_time": "2019-09-02T10:20:21.280141",
     "status": "completed"
    },
    "tags": []
   },
   "outputs": [
    {
     "name": "stderr",
     "output_type": "stream",
     "text": [
      "/opt/apps/pkgs/anaconda3/2019.03/intel64/lib/python3.7/site-packages/dask/config.py:168: YAMLLoadWarning: calling yaml.load() without Loader=... is deprecated, as the default Loader is unsafe. Please read https://msg.pyyaml.org/load for full details.\n",
      "  data = yaml.load(f.read()) or {}\n"
     ]
    }
   ],
   "source": [
    "import json\n",
    "import numpy as np\n",
    "import pandas as pd\n",
    "from tqdm import tqdm\n",
    "import matplotlib.pyplot as plt\n",
    "import seaborn as sns\n",
    "from gzbuilder_analysis import parsing, rendering, fitting\n",
    "import lib.galaxy_utilities as gu\n",
    "import scrapbook as sb"
   ]
  },
  {
   "cell_type": "code",
   "execution_count": 3,
   "metadata": {
    "collapsed": false,
    "inputHidden": false,
    "outputHidden": false,
    "papermill": {
     "duration": 0.04586,
     "end_time": "2019-09-02T10:20:28.373915",
     "exception": false,
     "start_time": "2019-09-02T10:20:28.328055",
     "status": "completed"
    },
    "tags": [
     "parameters"
    ]
   },
   "outputs": [],
   "source": [
    "subject_id = 20902040"
   ]
  },
  {
   "cell_type": "code",
   "execution_count": 4,
   "metadata": {
    "papermill": {
     "duration": 0.04499,
     "end_time": "2019-09-02T10:20:28.428213",
     "exception": false,
     "start_time": "2019-09-02T10:20:28.383223",
     "status": "completed"
    },
    "tags": [
     "injected-parameters"
    ]
   },
   "outputs": [],
   "source": [
    "# Parameters\n",
    "subject_id = 20902083\n"
   ]
  },
  {
   "cell_type": "code",
   "execution_count": 5,
   "metadata": {
    "collapsed": false,
    "inputHidden": false,
    "outputHidden": false,
    "papermill": {
     "duration": 0.151847,
     "end_time": "2019-09-02T10:20:28.587487",
     "exception": false,
     "start_time": "2019-09-02T10:20:28.435640",
     "status": "completed"
    },
    "tags": []
   },
   "outputs": [],
   "source": [
    "diff_data_df = pd.read_pickle('lib/fitting_metadata.pkl')"
   ]
  },
  {
   "cell_type": "code",
   "execution_count": 6,
   "metadata": {
    "collapsed": false,
    "inputHidden": false,
    "outputHidden": false,
    "papermill": {
     "duration": 0.048399,
     "end_time": "2019-09-02T10:20:28.644175",
     "exception": false,
     "start_time": "2019-09-02T10:20:28.595776",
     "status": "completed"
    },
    "tags": []
   },
   "outputs": [],
   "source": [
    "def get_losses_by_user(subject_id):\n",
    "  diff_data = diff_data_df.loc[subject_id]\n",
    "  psf = diff_data['psf']\n",
    "  pixel_mask = np.array(diff_data['pixel_mask'])[::-1]\n",
    "  galaxy_data = np.array(diff_data['galaxy_data'])[::-1]\n",
    "  image_size = galaxy_data.shape[0]\n",
    "  size_diff = diff_data['size_diff']\n",
    "  \n",
    "  cls = gu.classifications.query('subject_ids == {}'.format(subject_id))\n",
    "  names = cls.user_name \n",
    "  annotations = cls['annotations'].apply(json.loads)\n",
    "\n",
    "  models = annotations.apply(\n",
    "    parsing.parse_annotation,\n",
    "    size_diff=size_diff\n",
    "  )\n",
    "\n",
    "  tqdm.pandas(\n",
    "    desc='Rendering models'.format(subject_id),\n",
    "    leave=False\n",
    "  )\n",
    "  rendered = models.progress_apply(\n",
    "    rendering.calculate_model,\n",
    "    image_size=image_size,\n",
    "    psf=psf\n",
    "  ).rename('rendered')\n",
    "\n",
    "  tqdm.pandas(\n",
    "    desc='Calculating differences'.format(subject_id),\n",
    "    leave=False\n",
    "  )\n",
    "  losses = rendered.apply(\n",
    "    fitting.loss,\n",
    "    args=(galaxy_data, pixel_mask)\n",
    "  ).rename('loss')\n",
    "  all_losses = pd.Series(\n",
    "    losses.values,\n",
    "    index=names.values\n",
    "  ).rename(subject_id)\n",
    "  best_losses = pd.concat((\n",
    "    all_losses.where(\n",
    "      ~all_losses.duplicated(keep=False)\n",
    "    ).dropna(), # all non-duplicates\n",
    "    all_losses.where(\n",
    "      all_losses.duplicated(keep=False)\n",
    "    ).dropna().groupby(level=0).min() # best value of duplicates\n",
    "  ), axis=0)\n",
    "  return best_losses"
   ]
  },
  {
   "cell_type": "code",
   "execution_count": 7,
   "metadata": {
    "collapsed": false,
    "inputHidden": false,
    "outputHidden": false,
    "papermill": {
     "duration": 17.922415,
     "end_time": "2019-09-02T10:20:46.573772",
     "exception": false,
     "start_time": "2019-09-02T10:20:28.651357",
     "status": "completed"
    },
    "tags": []
   },
   "outputs": [
    {
     "name": "stderr",
     "output_type": "stream",
     "text": [
      "\r",
      "Rendering models:   0%|          | 0/92 [00:00<?, ?it/s]"
     ]
    },
    {
     "name": "stderr",
     "output_type": "stream",
     "text": [
      "\r",
      "Rendering models:   2%|▏         | 2/92 [00:05<03:59,  2.66s/it]"
     ]
    },
    {
     "name": "stderr",
     "output_type": "stream",
     "text": [
      "\r",
      "Rendering models:   3%|▎         | 3/92 [00:07<03:31,  2.37s/it]"
     ]
    },
    {
     "name": "stderr",
     "output_type": "stream",
     "text": [
      "\r",
      "Rendering models:   4%|▍         | 4/92 [00:07<02:34,  1.75s/it]"
     ]
    },
    {
     "name": "stderr",
     "output_type": "stream",
     "text": [
      "\r",
      "Rendering models:   5%|▌         | 5/92 [00:07<01:50,  1.26s/it]"
     ]
    },
    {
     "name": "stderr",
     "output_type": "stream",
     "text": [
      "\r",
      "Rendering models:   8%|▊         | 7/92 [00:07<01:17,  1.10it/s]"
     ]
    },
    {
     "name": "stderr",
     "output_type": "stream",
     "text": [
      "\r",
      "Rendering models:  10%|▉         | 9/92 [00:07<00:55,  1.50it/s]"
     ]
    },
    {
     "name": "stderr",
     "output_type": "stream",
     "text": [
      "\r",
      "Rendering models:  11%|█         | 10/92 [00:08<00:43,  1.91it/s]"
     ]
    },
    {
     "name": "stderr",
     "output_type": "stream",
     "text": [
      "\r",
      "Rendering models:  12%|█▏        | 11/92 [00:08<00:33,  2.40it/s]"
     ]
    },
    {
     "name": "stderr",
     "output_type": "stream",
     "text": [
      "\r",
      "Rendering models:  13%|█▎        | 12/92 [00:08<00:26,  3.01it/s]"
     ]
    },
    {
     "name": "stderr",
     "output_type": "stream",
     "text": [
      "\r",
      "Rendering models:  14%|█▍        | 13/92 [00:08<00:22,  3.57it/s]"
     ]
    },
    {
     "name": "stderr",
     "output_type": "stream",
     "text": [
      "\r",
      "Rendering models:  22%|██▏       | 20/92 [00:08<00:14,  4.88it/s]"
     ]
    },
    {
     "name": "stderr",
     "output_type": "stream",
     "text": [
      "\r",
      "Rendering models:  24%|██▍       | 22/92 [00:08<00:12,  5.44it/s]"
     ]
    },
    {
     "name": "stderr",
     "output_type": "stream",
     "text": [
      "\r",
      "Rendering models:  26%|██▌       | 24/92 [00:09<00:11,  5.87it/s]"
     ]
    },
    {
     "name": "stderr",
     "output_type": "stream",
     "text": [
      "\r",
      "Rendering models:  28%|██▊       | 26/92 [00:09<00:10,  6.41it/s]"
     ]
    },
    {
     "name": "stderr",
     "output_type": "stream",
     "text": [
      "\r",
      "Rendering models:  30%|███       | 28/92 [00:09<00:09,  6.88it/s]"
     ]
    },
    {
     "name": "stderr",
     "output_type": "stream",
     "text": [
      "\r",
      "Rendering models:  32%|███▏      | 29/92 [00:09<00:08,  7.26it/s]"
     ]
    },
    {
     "name": "stderr",
     "output_type": "stream",
     "text": [
      "\r",
      "Rendering models:  33%|███▎      | 30/92 [00:09<00:08,  7.57it/s]"
     ]
    },
    {
     "name": "stderr",
     "output_type": "stream",
     "text": [
      "\r",
      "Rendering models:  34%|███▎      | 31/92 [00:10<00:10,  5.65it/s]"
     ]
    },
    {
     "name": "stderr",
     "output_type": "stream",
     "text": [
      "\r",
      "Rendering models:  35%|███▍      | 32/92 [00:10<00:10,  5.95it/s]"
     ]
    },
    {
     "name": "stderr",
     "output_type": "stream",
     "text": [
      "\r",
      "Rendering models:  36%|███▌      | 33/92 [00:10<00:11,  5.04it/s]"
     ]
    },
    {
     "name": "stderr",
     "output_type": "stream",
     "text": [
      "\r",
      "Rendering models:  37%|███▋      | 34/92 [00:10<00:10,  5.67it/s]"
     ]
    },
    {
     "name": "stderr",
     "output_type": "stream",
     "text": [
      "\r",
      "Rendering models:  38%|███▊      | 35/92 [00:10<00:09,  6.15it/s]"
     ]
    },
    {
     "name": "stderr",
     "output_type": "stream",
     "text": [
      "\r",
      "Rendering models:  39%|███▉      | 36/92 [00:11<00:09,  6.09it/s]"
     ]
    },
    {
     "name": "stderr",
     "output_type": "stream",
     "text": [
      "\r",
      "Rendering models:  41%|████▏     | 38/92 [00:11<00:08,  6.21it/s]"
     ]
    },
    {
     "name": "stderr",
     "output_type": "stream",
     "text": [
      "\r",
      "Rendering models:  43%|████▎     | 40/92 [00:11<00:08,  6.45it/s]"
     ]
    },
    {
     "name": "stderr",
     "output_type": "stream",
     "text": [
      "\r",
      "Rendering models:  45%|████▍     | 41/92 [00:11<00:09,  5.25it/s]"
     ]
    },
    {
     "name": "stderr",
     "output_type": "stream",
     "text": [
      "\r",
      "Rendering models:  46%|████▌     | 42/92 [00:12<00:08,  5.72it/s]"
     ]
    },
    {
     "name": "stderr",
     "output_type": "stream",
     "text": [
      "\r",
      "Rendering models:  47%|████▋     | 43/92 [00:12<00:08,  5.78it/s]"
     ]
    },
    {
     "name": "stderr",
     "output_type": "stream",
     "text": [
      "\r",
      "Rendering models:  48%|████▊     | 44/92 [00:12<00:08,  5.81it/s]"
     ]
    },
    {
     "name": "stderr",
     "output_type": "stream",
     "text": [
      "\r",
      "Rendering models:  49%|████▉     | 45/92 [00:12<00:08,  5.86it/s]"
     ]
    },
    {
     "name": "stderr",
     "output_type": "stream",
     "text": [
      "\r",
      "Rendering models:  50%|█████     | 46/92 [00:12<00:07,  5.86it/s]"
     ]
    },
    {
     "name": "stderr",
     "output_type": "stream",
     "text": [
      "\r",
      "Rendering models:  52%|█████▏    | 48/92 [00:12<00:06,  6.33it/s]"
     ]
    },
    {
     "name": "stderr",
     "output_type": "stream",
     "text": [
      "\r",
      "Rendering models:  53%|█████▎    | 49/92 [00:13<00:06,  6.66it/s]"
     ]
    },
    {
     "name": "stderr",
     "output_type": "stream",
     "text": [
      "\r",
      "Rendering models:  54%|█████▍    | 50/92 [00:13<00:06,  6.46it/s]"
     ]
    },
    {
     "name": "stderr",
     "output_type": "stream",
     "text": [
      "\r",
      "Rendering models:  55%|█████▌    | 51/92 [00:13<00:06,  6.25it/s]"
     ]
    },
    {
     "name": "stderr",
     "output_type": "stream",
     "text": [
      "\r",
      "Rendering models:  57%|█████▋    | 52/92 [00:13<00:06,  6.19it/s]"
     ]
    },
    {
     "name": "stderr",
     "output_type": "stream",
     "text": [
      "\r",
      "Rendering models:  58%|█████▊    | 53/92 [00:13<00:06,  6.07it/s]"
     ]
    },
    {
     "name": "stderr",
     "output_type": "stream",
     "text": [
      "\r",
      "Rendering models:  59%|█████▊    | 54/92 [00:13<00:06,  6.02it/s]"
     ]
    },
    {
     "name": "stderr",
     "output_type": "stream",
     "text": [
      "\r",
      "Rendering models:  61%|██████    | 56/92 [00:14<00:05,  6.99it/s]"
     ]
    },
    {
     "name": "stderr",
     "output_type": "stream",
     "text": [
      "\r",
      "Rendering models:  63%|██████▎   | 58/92 [00:14<00:04,  7.87it/s]"
     ]
    },
    {
     "name": "stderr",
     "output_type": "stream",
     "text": [
      "\r",
      "Rendering models:  64%|██████▍   | 59/92 [00:14<00:04,  7.25it/s]"
     ]
    },
    {
     "name": "stderr",
     "output_type": "stream",
     "text": [
      "\r",
      "Rendering models:  71%|███████   | 65/92 [00:14<00:02,  9.62it/s]"
     ]
    },
    {
     "name": "stderr",
     "output_type": "stream",
     "text": [
      "\r",
      "Rendering models:  73%|███████▎  | 67/92 [00:14<00:02,  9.35it/s]"
     ]
    },
    {
     "name": "stderr",
     "output_type": "stream",
     "text": [
      "\r",
      "Rendering models:  75%|███████▌  | 69/92 [00:15<00:02,  8.73it/s]"
     ]
    },
    {
     "name": "stderr",
     "output_type": "stream",
     "text": [
      "\r",
      "Rendering models:  77%|███████▋  | 71/92 [00:15<00:02,  8.49it/s]"
     ]
    },
    {
     "name": "stderr",
     "output_type": "stream",
     "text": [
      "\r",
      "Rendering models:  79%|███████▉  | 73/92 [00:15<00:02,  9.22it/s]"
     ]
    },
    {
     "name": "stderr",
     "output_type": "stream",
     "text": [
      "\r",
      "Rendering models:  82%|████████▏ | 75/92 [00:15<00:02,  7.48it/s]"
     ]
    },
    {
     "name": "stderr",
     "output_type": "stream",
     "text": [
      "\r",
      "Rendering models:  83%|████████▎ | 76/92 [00:16<00:02,  7.77it/s]"
     ]
    },
    {
     "name": "stderr",
     "output_type": "stream",
     "text": [
      "\r",
      "Rendering models:  84%|████████▎ | 77/92 [00:16<00:02,  7.48it/s]"
     ]
    },
    {
     "name": "stderr",
     "output_type": "stream",
     "text": [
      "\r",
      "Rendering models:  85%|████████▍ | 78/92 [00:16<00:01,  7.74it/s]"
     ]
    },
    {
     "name": "stderr",
     "output_type": "stream",
     "text": [
      "\r",
      "Rendering models:  87%|████████▋ | 80/92 [00:16<00:01,  7.61it/s]"
     ]
    },
    {
     "name": "stderr",
     "output_type": "stream",
     "text": [
      "\r",
      "Rendering models:  90%|█████████ | 83/92 [00:16<00:00,  9.10it/s]"
     ]
    },
    {
     "name": "stderr",
     "output_type": "stream",
     "text": [
      "\r",
      "Rendering models:  92%|█████████▏| 85/92 [00:16<00:00, 10.52it/s]"
     ]
    },
    {
     "name": "stderr",
     "output_type": "stream",
     "text": [
      "\r",
      "Rendering models:  95%|█████████▍| 87/92 [00:17<00:00,  9.36it/s]"
     ]
    },
    {
     "name": "stderr",
     "output_type": "stream",
     "text": [
      "\r",
      "Rendering models:  97%|█████████▋| 89/92 [00:17<00:00,  8.62it/s]"
     ]
    },
    {
     "name": "stderr",
     "output_type": "stream",
     "text": [
      "\r",
      "Rendering models:  99%|█████████▉| 91/92 [00:17<00:00,  9.00it/s]"
     ]
    },
    {
     "name": "stderr",
     "output_type": "stream",
     "text": [
      "\r",
      "Rendering models: 100%|██████████| 92/92 [00:17<00:00,  8.89it/s]"
     ]
    },
    {
     "name": "stderr",
     "output_type": "stream",
     "text": [
      "\r",
      "                                                                 "
     ]
    },
    {
     "name": "stderr",
     "output_type": "stream",
     "text": [
      "\r"
     ]
    },
    {
     "data": {
      "text/plain": [
       "equidad1                              0.089444\n",
       "kayleebug2017                         0.000862\n",
       "StephAChamber                         0.000363\n",
       "Thedunkmasta                          0.002885\n",
       "brodicius                             0.000437\n",
       "not-logged-in-0997cfcba8da23453381    0.000195\n",
       "Thedunkmasta                          0.002686\n",
       "not-logged-in-846e14e9f3e0f594a568    0.006706\n",
       "sinjinza1984                          0.000132\n",
       "Ella7777                              0.000155\n",
       "graciegirl                            0.000899\n",
       "msross                                0.000149\n",
       "clizardo                              0.000119\n",
       "mkirms                                0.000101\n",
       "clizardo                              0.000172\n",
       "msross                                0.000152\n",
       "djcameron                             0.000135\n",
       "mchaffin                              0.000193\n",
       "mchaffin                              0.000198\n",
       "wthammas                              0.000426\n",
       "djcameron                             0.000228\n",
       "atinkess                              0.000706\n",
       "creinbol                              0.001161\n",
       "creinbol                              0.000169\n",
       "cchen88                               0.000188\n",
       "creinbol                              0.000246\n",
       "denzel.ayala                          0.000751\n",
       "helm0883                              0.000988\n",
       "not-logged-in-f7e2260ed4a9517a3e4a    0.000232\n",
       "CScampstudent                         0.315441\n",
       "                                        ...   \n",
       "dmosier13                             0.000181\n",
       "mtorok                                0.008243\n",
       "tdrabic                               0.000527\n",
       "campanellimichael13                   0.000932\n",
       "not-logged-in-812b279e0836b083d452    0.000386\n",
       "not-logged-in-812b279e0836b083d452    0.000188\n",
       "not-logged-in-812b279e0836b083d452    0.000160\n",
       "not-logged-in-812b279e0836b083d452    0.000179\n",
       "not-logged-in-b9e3b390f2bb098e5564    0.002398\n",
       "heathmonie                            0.000459\n",
       "liamthepilot                          0.001035\n",
       "ksheahon                              0.000801\n",
       "Getrekt10127                          5.720975\n",
       "not-logged-in-1a5972962e827cc6ccf5    0.001828\n",
       "not-logged-in-f7998eb24652de36f102    0.000123\n",
       "Lavadude                              0.001173\n",
       "campanellimichael13                   0.001173\n",
       "ckkmomma                              0.001173\n",
       "collinxXgrimreap                      0.001173\n",
       "drpark                                0.001173\n",
       "heathmonie                            0.001173\n",
       "ksheahon                              0.001173\n",
       "lmhob14                               0.000170\n",
       "ncaro                                 0.001173\n",
       "not-logged-in-0997cfcba8da23453381    0.001173\n",
       "not-logged-in-6144658f8b3ac8370f5b    0.001173\n",
       "not-logged-in-812b279e0836b083d452    0.001173\n",
       "not-logged-in-a6f538990ba1cfbce226    0.955392\n",
       "not-logged-in-b0466bb979ade73f32f1    0.001173\n",
       "turquoise29                           0.001173\n",
       "Name: 20902083, Length: 79, dtype: float64"
      ]
     },
     "execution_count": 7,
     "metadata": {},
     "output_type": "execute_result"
    }
   ],
   "source": [
    "losses = get_losses_by_user(subject_id)\n",
    "losses"
   ]
  },
  {
   "cell_type": "code",
   "execution_count": 8,
   "metadata": {
    "collapsed": false,
    "inputHidden": false,
    "outputHidden": false,
    "papermill": {
     "duration": 0.070818,
     "end_time": "2019-09-02T10:20:46.666300",
     "exception": false,
     "start_time": "2019-09-02T10:20:46.595482",
     "status": "completed"
    },
    "tags": []
   },
   "outputs": [
    {
     "data": {
      "application/scrapbook.scrap.json+json": {
       "data": 20902083,
       "encoder": "json",
       "name": "subject_id",
       "version": 1
      }
     },
     "metadata": {
      "scrapbook": {
       "data": true,
       "display": false,
       "name": "subject_id"
      }
     },
     "output_type": "display_data"
    },
    {
     "data": {
      "application/scrapbook.scrap.json+json": {
       "data": {
        "CBAIN25": 0.08413897673594124,
        "CScampstudent": 0.3154409798417044,
        "Ella7777": 0.0001546448964134228,
        "Getrekt10127": 5.720974690938101,
        "Lavadude": 0.0011727412235539355,
        "StephAChamber": 0.00036263669045049994,
        "Thedunkmasta": 0.002685889525778176,
        "atinkess": 0.0007062456078707791,
        "brodicius": 0.00043744043908124113,
        "campanellimichael13": 0.0011727412235539355,
        "cchen88": 0.00018809100323123517,
        "ckkmomma": 0.0011727412235539355,
        "clizardo": 0.00017166950594458725,
        "collinxXgrimreap": 0.0011727412235539355,
        "creinbol": 0.0002459867150727398,
        "denzel.ayala": 0.0007514861293938113,
        "djcameron": 0.00022789185348587383,
        "dmosier13": 0.0001807024646903597,
        "drpark": 0.0011727412235539355,
        "edgardo.e.nogueira": 0.006457188483486274,
        "equidad1": 0.08944364939597732,
        "graciegirl": 0.0008986718662612652,
        "heathmonie": 0.0011727412235539355,
        "helm0883": 0.0009880226558427,
        "kayleebug2017": 0.0008619958764347034,
        "ksheahon": 0.0011727412235539355,
        "liamthepilot": 0.0010347440443199542,
        "lmhob14": 0.00017013602230007795,
        "mchaffin": 0.00019805944775026825,
        "mkirms": 0.00010068977679727613,
        "msross": 0.0001522915888383173,
        "mtorok": 0.00824267933857088,
        "ncaro": 0.0011727412235539355,
        "not-logged-in-0997cfcba8da23453381": 0.0011727412235539355,
        "not-logged-in-1a5972962e827cc6ccf5": 0.0018280080137877176,
        "not-logged-in-3d3e30aac1d39bd6db71": 0.0002062025229845395,
        "not-logged-in-6144658f8b3ac8370f5b": 0.0011727412235539355,
        "not-logged-in-7dfcf4aca2cf0f2abfda": 0.03179115266567558,
        "not-logged-in-812b279e0836b083d452": 0.0011727412235539355,
        "not-logged-in-846e14e9f3e0f594a568": 0.00670579907201511,
        "not-logged-in-8780647ed8868bf9aafc": 0.0006305772681091887,
        "not-logged-in-9a813f8c400d5fedde5d": 0.04325794091039728,
        "not-logged-in-a6f538990ba1cfbce226": 0.955392062562205,
        "not-logged-in-b0466bb979ade73f32f1": 0.0011727412235539355,
        "not-logged-in-b9e3b390f2bb098e5564": 0.0023978797098483493,
        "not-logged-in-ea8ed61a7274cfb6a43b": 0.0031844315030204132,
        "not-logged-in-f7998eb24652de36f102": 0.0001232248979856182,
        "not-logged-in-f7e2260ed4a9517a3e4a": 0.0002321015053505838,
        "sinjinza1984": 0.00013206100711926513,
        "tdrabic": 0.0005271859094465918,
        "turquoise29": 0.0011727412235539355,
        "wthammas": 0.0004257828496061764
       },
       "encoder": "json",
       "name": "losses",
       "version": 1
      }
     },
     "metadata": {
      "scrapbook": {
       "data": true,
       "display": false,
       "name": "losses"
      }
     },
     "output_type": "display_data"
    }
   ],
   "source": [
    "sb.glue('subject_id', subject_id)\n",
    "sb.glue('losses', losses.to_dict())"
   ]
  }
 ],
 "metadata": {
  "kernel_info": {
   "name": "python3"
  },
  "kernelspec": {
   "display_name": "Python 3",
   "language": "python",
   "name": "python3"
  },
  "language_info": {
   "codemirror_mode": {
    "name": "ipython",
    "version": 3
   },
   "file_extension": ".py",
   "mimetype": "text/x-python",
   "name": "python",
   "nbconvert_exporter": "python",
   "pygments_lexer": "ipython3",
   "version": "3.7.3"
  },
  "nteract": {
   "version": "0.14.3"
  },
  "papermill": {
   "duration": 34.151758,
   "end_time": "2019-09-02T10:20:47.810331",
   "environment_variables": {},
   "exception": null,
   "input_path": "/users/tingard/gzbuilder_results/input_files/volunteer_losses.ipynb",
   "output_path": "/users/tingard/gzbuilder_results/output_files/volunteer_losses/20902083.ipynb",
   "parameters": {
    "subject_id": 20902083
   },
   "start_time": "2019-09-02T10:20:13.658573",
   "version": "1.0.1"
  }
 },
 "nbformat": 4,
 "nbformat_minor": 0
}