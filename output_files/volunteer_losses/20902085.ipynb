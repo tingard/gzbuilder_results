{
 "cells": [
  {
   "cell_type": "markdown",
   "metadata": {
    "papermill": {
     "duration": 0.278683,
     "end_time": "2019-09-02T10:20:21.599514",
     "exception": false,
     "start_time": "2019-09-02T10:20:21.320831",
     "status": "completed"
    },
    "tags": []
   },
   "source": [
    "# Volunteer model loss calculation\n",
    "\n",
    "This notebook takes a `subject_id` and calculates the MSE of each volunteer's model to the galaxy data. These losses are then glued to the notebook for use elsewhere."
   ]
  },
  {
   "cell_type": "code",
   "execution_count": 1,
   "metadata": {
    "collapsed": false,
    "inputHidden": false,
    "outputHidden": false,
    "papermill": {
     "duration": 0.148472,
     "end_time": "2019-09-02T10:20:21.806859",
     "exception": false,
     "start_time": "2019-09-02T10:20:21.658387",
     "status": "completed"
    },
    "tags": []
   },
   "outputs": [],
   "source": [
    "%load_ext autoreload\n",
    "%autoreload 2"
   ]
  },
  {
   "cell_type": "code",
   "execution_count": 2,
   "metadata": {
    "collapsed": false,
    "inputHidden": false,
    "outputHidden": false,
    "papermill": {
     "duration": 5.990859,
     "end_time": "2019-09-02T10:20:27.806667",
     "exception": false,
     "start_time": "2019-09-02T10:20:21.815808",
     "status": "completed"
    },
    "tags": []
   },
   "outputs": [
    {
     "name": "stderr",
     "output_type": "stream",
     "text": [
      "/opt/apps/pkgs/anaconda3/2019.03/intel64/lib/python3.7/site-packages/dask/config.py:168: YAMLLoadWarning: calling yaml.load() without Loader=... is deprecated, as the default Loader is unsafe. Please read https://msg.pyyaml.org/load for full details.\n",
      "  data = yaml.load(f.read()) or {}\n"
     ]
    }
   ],
   "source": [
    "import json\n",
    "import numpy as np\n",
    "import pandas as pd\n",
    "from tqdm import tqdm\n",
    "import matplotlib.pyplot as plt\n",
    "import seaborn as sns\n",
    "from gzbuilder_analysis import parsing, rendering, fitting\n",
    "import lib.galaxy_utilities as gu\n",
    "import scrapbook as sb"
   ]
  },
  {
   "cell_type": "code",
   "execution_count": 3,
   "metadata": {
    "collapsed": false,
    "inputHidden": false,
    "outputHidden": false,
    "papermill": {
     "duration": 0.04302,
     "end_time": "2019-09-02T10:20:27.858964",
     "exception": false,
     "start_time": "2019-09-02T10:20:27.815944",
     "status": "completed"
    },
    "tags": [
     "parameters"
    ]
   },
   "outputs": [],
   "source": [
    "subject_id = 20902040"
   ]
  },
  {
   "cell_type": "code",
   "execution_count": 4,
   "metadata": {
    "papermill": {
     "duration": 0.046441,
     "end_time": "2019-09-02T10:20:27.913592",
     "exception": false,
     "start_time": "2019-09-02T10:20:27.867151",
     "status": "completed"
    },
    "tags": [
     "injected-parameters"
    ]
   },
   "outputs": [],
   "source": [
    "# Parameters\n",
    "subject_id = 20902085\n"
   ]
  },
  {
   "cell_type": "code",
   "execution_count": 5,
   "metadata": {
    "collapsed": false,
    "inputHidden": false,
    "outputHidden": false,
    "papermill": {
     "duration": 0.159617,
     "end_time": "2019-09-02T10:20:28.082425",
     "exception": false,
     "start_time": "2019-09-02T10:20:27.922808",
     "status": "completed"
    },
    "tags": []
   },
   "outputs": [],
   "source": [
    "diff_data_df = pd.read_pickle('lib/fitting_metadata.pkl')"
   ]
  },
  {
   "cell_type": "code",
   "execution_count": 6,
   "metadata": {
    "collapsed": false,
    "inputHidden": false,
    "outputHidden": false,
    "papermill": {
     "duration": 0.055534,
     "end_time": "2019-09-02T10:20:28.145626",
     "exception": false,
     "start_time": "2019-09-02T10:20:28.090092",
     "status": "completed"
    },
    "tags": []
   },
   "outputs": [],
   "source": [
    "def get_losses_by_user(subject_id):\n",
    "  diff_data = diff_data_df.loc[subject_id]\n",
    "  psf = diff_data['psf']\n",
    "  pixel_mask = np.array(diff_data['pixel_mask'])[::-1]\n",
    "  galaxy_data = np.array(diff_data['galaxy_data'])[::-1]\n",
    "  image_size = galaxy_data.shape[0]\n",
    "  size_diff = diff_data['size_diff']\n",
    "  \n",
    "  cls = gu.classifications.query('subject_ids == {}'.format(subject_id))\n",
    "  names = cls.user_name \n",
    "  annotations = cls['annotations'].apply(json.loads)\n",
    "\n",
    "  models = annotations.apply(\n",
    "    parsing.parse_annotation,\n",
    "    size_diff=size_diff\n",
    "  )\n",
    "\n",
    "  tqdm.pandas(\n",
    "    desc='Rendering models'.format(subject_id),\n",
    "    leave=False\n",
    "  )\n",
    "  rendered = models.progress_apply(\n",
    "    rendering.calculate_model,\n",
    "    image_size=image_size,\n",
    "    psf=psf\n",
    "  ).rename('rendered')\n",
    "\n",
    "  tqdm.pandas(\n",
    "    desc='Calculating differences'.format(subject_id),\n",
    "    leave=False\n",
    "  )\n",
    "  losses = rendered.apply(\n",
    "    fitting.loss,\n",
    "    args=(galaxy_data, pixel_mask)\n",
    "  ).rename('loss')\n",
    "  all_losses = pd.Series(\n",
    "    losses.values,\n",
    "    index=names.values\n",
    "  ).rename(subject_id)\n",
    "  best_losses = pd.concat((\n",
    "    all_losses.where(\n",
    "      ~all_losses.duplicated(keep=False)\n",
    "    ).dropna(), # all non-duplicates\n",
    "    all_losses.where(\n",
    "      all_losses.duplicated(keep=False)\n",
    "    ).dropna().groupby(level=0).min() # best value of duplicates\n",
    "  ), axis=0)\n",
    "  return best_losses"
   ]
  },
  {
   "cell_type": "code",
   "execution_count": 7,
   "metadata": {
    "collapsed": false,
    "inputHidden": false,
    "outputHidden": false,
    "papermill": {
     "duration": 14.347518,
     "end_time": "2019-09-02T10:20:42.501628",
     "exception": false,
     "start_time": "2019-09-02T10:20:28.154110",
     "status": "completed"
    },
    "tags": []
   },
   "outputs": [
    {
     "name": "stderr",
     "output_type": "stream",
     "text": [
      "\r",
      "Rendering models:   0%|          | 0/104 [00:00<?, ?it/s]"
     ]
    },
    {
     "name": "stderr",
     "output_type": "stream",
     "text": [
      "\r",
      "Rendering models:   2%|▏         | 2/104 [00:05<04:41,  2.76s/it]"
     ]
    },
    {
     "name": "stderr",
     "output_type": "stream",
     "text": [
      "\r",
      "Rendering models:   3%|▎         | 3/104 [00:05<03:18,  1.96s/it]"
     ]
    },
    {
     "name": "stderr",
     "output_type": "stream",
     "text": [
      "\r",
      "Rendering models:   5%|▍         | 5/104 [00:05<02:18,  1.40s/it]"
     ]
    },
    {
     "name": "stderr",
     "output_type": "stream",
     "text": [
      "\r",
      "Rendering models:   6%|▌         | 6/104 [00:07<02:26,  1.49s/it]"
     ]
    },
    {
     "name": "stderr",
     "output_type": "stream",
     "text": [
      "\r",
      "Rendering models:   8%|▊         | 8/104 [00:07<01:43,  1.08s/it]"
     ]
    },
    {
     "name": "stderr",
     "output_type": "stream",
     "text": [
      "\r",
      "Rendering models:   9%|▊         | 9/104 [00:07<01:15,  1.26it/s]"
     ]
    },
    {
     "name": "stderr",
     "output_type": "stream",
     "text": [
      "\r",
      "Rendering models:  11%|█         | 11/104 [00:08<00:54,  1.72it/s]"
     ]
    },
    {
     "name": "stderr",
     "output_type": "stream",
     "text": [
      "\r",
      "Rendering models:  12%|█▏        | 12/104 [00:08<00:41,  2.24it/s]"
     ]
    },
    {
     "name": "stderr",
     "output_type": "stream",
     "text": [
      "\r",
      "Rendering models:  12%|█▎        | 13/104 [00:08<00:31,  2.86it/s]"
     ]
    },
    {
     "name": "stderr",
     "output_type": "stream",
     "text": [
      "\r",
      "Rendering models:  13%|█▎        | 14/104 [00:08<00:26,  3.43it/s]"
     ]
    },
    {
     "name": "stderr",
     "output_type": "stream",
     "text": [
      "\r",
      "Rendering models:  15%|█▌        | 16/104 [00:08<00:19,  4.44it/s]"
     ]
    },
    {
     "name": "stderr",
     "output_type": "stream",
     "text": [
      "\r",
      "Rendering models:  16%|█▋        | 17/104 [00:08<00:16,  5.33it/s]"
     ]
    },
    {
     "name": "stderr",
     "output_type": "stream",
     "text": [
      "\r",
      "Rendering models:  17%|█▋        | 18/104 [00:08<00:14,  6.14it/s]"
     ]
    },
    {
     "name": "stderr",
     "output_type": "stream",
     "text": [
      "\r",
      "Rendering models:  19%|█▉        | 20/104 [00:09<00:12,  6.80it/s]"
     ]
    },
    {
     "name": "stderr",
     "output_type": "stream",
     "text": [
      "\r",
      "Rendering models:  26%|██▌       | 27/104 [00:09<00:08,  9.32it/s]"
     ]
    },
    {
     "name": "stderr",
     "output_type": "stream",
     "text": [
      "\r",
      "Rendering models:  29%|██▉       | 30/104 [00:09<00:07,  9.97it/s]"
     ]
    },
    {
     "name": "stderr",
     "output_type": "stream",
     "text": [
      "\r",
      "Rendering models:  32%|███▏      | 33/104 [00:09<00:07, 10.11it/s]"
     ]
    },
    {
     "name": "stderr",
     "output_type": "stream",
     "text": [
      "\r",
      "Rendering models:  34%|███▎      | 35/104 [00:09<00:06,  9.90it/s]"
     ]
    },
    {
     "name": "stderr",
     "output_type": "stream",
     "text": [
      "\r",
      "Rendering models:  36%|███▌      | 37/104 [00:09<00:06, 11.12it/s]"
     ]
    },
    {
     "name": "stderr",
     "output_type": "stream",
     "text": [
      "\r",
      "Rendering models:  38%|███▊      | 39/104 [00:10<00:05, 11.08it/s]"
     ]
    },
    {
     "name": "stderr",
     "output_type": "stream",
     "text": [
      "\r",
      "Rendering models:  39%|███▉      | 41/104 [00:10<00:05, 10.82it/s]"
     ]
    },
    {
     "name": "stderr",
     "output_type": "stream",
     "text": [
      "\r",
      "Rendering models:  41%|████▏     | 43/104 [00:10<00:05, 10.93it/s]"
     ]
    },
    {
     "name": "stderr",
     "output_type": "stream",
     "text": [
      "\r",
      "Rendering models:  43%|████▎     | 45/104 [00:10<00:04, 12.28it/s]"
     ]
    },
    {
     "name": "stderr",
     "output_type": "stream",
     "text": [
      "\r",
      "Rendering models:  45%|████▌     | 47/104 [00:10<00:04, 13.33it/s]"
     ]
    },
    {
     "name": "stderr",
     "output_type": "stream",
     "text": [
      "\r",
      "Rendering models:  47%|████▋     | 49/104 [00:10<00:04, 11.89it/s]"
     ]
    },
    {
     "name": "stderr",
     "output_type": "stream",
     "text": [
      "\r",
      "Rendering models:  49%|████▉     | 51/104 [00:11<00:04, 11.49it/s]"
     ]
    },
    {
     "name": "stderr",
     "output_type": "stream",
     "text": [
      "\r",
      "Rendering models:  51%|█████     | 53/104 [00:11<00:04, 10.70it/s]"
     ]
    },
    {
     "name": "stderr",
     "output_type": "stream",
     "text": [
      "\r",
      "Rendering models:  53%|█████▎    | 55/104 [00:11<00:04,  9.98it/s]"
     ]
    },
    {
     "name": "stderr",
     "output_type": "stream",
     "text": [
      "\r",
      "Rendering models:  55%|█████▍    | 57/104 [00:11<00:04, 11.15it/s]"
     ]
    },
    {
     "name": "stderr",
     "output_type": "stream",
     "text": [
      "\r",
      "Rendering models:  57%|█████▋    | 59/104 [00:11<00:04, 10.84it/s]"
     ]
    },
    {
     "name": "stderr",
     "output_type": "stream",
     "text": [
      "\r",
      "Rendering models:  59%|█████▊    | 61/104 [00:12<00:03, 12.32it/s]"
     ]
    },
    {
     "name": "stderr",
     "output_type": "stream",
     "text": [
      "\r",
      "Rendering models:  61%|██████    | 63/104 [00:12<00:03, 11.14it/s]"
     ]
    },
    {
     "name": "stderr",
     "output_type": "stream",
     "text": [
      "\r",
      "Rendering models:  62%|██████▎   | 65/104 [00:12<00:03, 11.73it/s]"
     ]
    },
    {
     "name": "stderr",
     "output_type": "stream",
     "text": [
      "\r",
      "Rendering models:  64%|██████▍   | 67/104 [00:12<00:02, 13.09it/s]"
     ]
    },
    {
     "name": "stderr",
     "output_type": "stream",
     "text": [
      "\r",
      "Rendering models:  68%|██████▊   | 71/104 [00:12<00:02, 15.89it/s]"
     ]
    },
    {
     "name": "stderr",
     "output_type": "stream",
     "text": [
      "\r",
      "Rendering models:  70%|███████   | 73/104 [00:12<00:02, 13.10it/s]"
     ]
    },
    {
     "name": "stderr",
     "output_type": "stream",
     "text": [
      "\r",
      "Rendering models:  77%|███████▋  | 80/104 [00:13<00:01, 16.75it/s]"
     ]
    },
    {
     "name": "stderr",
     "output_type": "stream",
     "text": [
      "\r",
      "Rendering models:  80%|███████▉  | 83/104 [00:13<00:01, 17.50it/s]"
     ]
    },
    {
     "name": "stderr",
     "output_type": "stream",
     "text": [
      "\r",
      "Rendering models:  83%|████████▎ | 86/104 [00:13<00:01, 15.99it/s]"
     ]
    },
    {
     "name": "stderr",
     "output_type": "stream",
     "text": [
      "\r",
      "Rendering models:  86%|████████▌ | 89/104 [00:13<00:00, 18.09it/s]"
     ]
    },
    {
     "name": "stderr",
     "output_type": "stream",
     "text": [
      "\r",
      "Rendering models:  89%|████████▉ | 93/104 [00:13<00:00, 19.31it/s]"
     ]
    },
    {
     "name": "stderr",
     "output_type": "stream",
     "text": [
      "\r",
      "Rendering models:  93%|█████████▎| 97/104 [00:13<00:00, 21.99it/s]"
     ]
    },
    {
     "name": "stderr",
     "output_type": "stream",
     "text": [
      "\r",
      "Rendering models:  99%|█████████▉| 103/104 [00:14<00:00, 24.35it/s]"
     ]
    },
    {
     "name": "stderr",
     "output_type": "stream",
     "text": [
      "\r",
      "                                                                   "
     ]
    },
    {
     "name": "stderr",
     "output_type": "stream",
     "text": [
      "\r"
     ]
    },
    {
     "data": {
      "text/plain": [
       "equidad1                              0.077407\n",
       "ElisabethB                            0.000335\n",
       "not-logged-in-03b60317d6ee47942c58    0.000671\n",
       "Thedunkmasta                          0.002346\n",
       "Thedunkmasta                          0.001595\n",
       "Thedunkmasta                          0.001763\n",
       "Thedunkmasta                          0.001911\n",
       "Thedunkmasta                          0.002457\n",
       "Thedunkmasta                          0.003096\n",
       "Thedunkmasta                          0.002019\n",
       "Thedunkmasta                          0.002428\n",
       "Thedunkmasta                          0.001685\n",
       "Thedunkmasta                          0.003550\n",
       "mlang2017                             0.008855\n",
       "rcbeck                                0.000686\n",
       "sinjinza1984                          0.000211\n",
       "JEBala                                0.000574\n",
       "not-logged-in-aac1a66e38768e0fe308    0.001276\n",
       "not-logged-in-ea8ed61a7274cfb6a43b    0.044619\n",
       "stekenxu                              0.000240\n",
       "msross                                0.000549\n",
       "clizardo                              0.000455\n",
       "mkirms                                0.001123\n",
       "mkirms                                0.000645\n",
       "msross                                0.000205\n",
       "M_Mij                                 0.001633\n",
       "djcameron                             0.000642\n",
       "mchaffin                              0.000333\n",
       "wthammas                              0.000428\n",
       "Aech                                  0.002229\n",
       "                                        ...   \n",
       "dmosier13                             0.001758\n",
       "kayla2198                             0.002232\n",
       "kayla2198                             0.002741\n",
       "tdrabic                               0.000902\n",
       "campanellimichael13                   0.004464\n",
       "not-logged-in-812b279e0836b083d452    0.000218\n",
       "not-logged-in-812b279e0836b083d452    0.000283\n",
       "not-logged-in-cd6a5cac0334cc279337    0.005345\n",
       "not-logged-in-e4a293db88e6337c76d5    0.003161\n",
       "ksheahon                              0.002449\n",
       "lmhob14                               0.000413\n",
       "drpark                                0.003618\n",
       "Getrekt10127                          0.004758\n",
       "Corradini028                          0.005345\n",
       "Lavadude                              0.005345\n",
       "bigdeath                              0.005345\n",
       "campanellimichael13                   0.005345\n",
       "ckkmomma                              0.005345\n",
       "coleman73                             0.005345\n",
       "heathmonie                            0.005345\n",
       "kokotje2323                           0.005345\n",
       "ksheahon                              0.005345\n",
       "lam123ghjkl                           0.005345\n",
       "mcooke27                              0.005345\n",
       "ncaro                                 0.005345\n",
       "not-logged-in-666ec8d326b84bd03ae7    0.005345\n",
       "not-logged-in-7464e89f9da4ecce2274    0.005345\n",
       "not-logged-in-7f2f980dfb593d423491    0.005345\n",
       "not-logged-in-812b279e0836b083d452    0.005345\n",
       "not-logged-in-bcf0a63d16e116a99e14    0.005345\n",
       "Name: 20902085, Length: 90, dtype: float64"
      ]
     },
     "execution_count": 7,
     "metadata": {},
     "output_type": "execute_result"
    }
   ],
   "source": [
    "losses = get_losses_by_user(subject_id)\n",
    "losses"
   ]
  },
  {
   "cell_type": "code",
   "execution_count": 8,
   "metadata": {
    "collapsed": false,
    "inputHidden": false,
    "outputHidden": false,
    "papermill": {
     "duration": 0.073991,
     "end_time": "2019-09-02T10:20:42.595112",
     "exception": false,
     "start_time": "2019-09-02T10:20:42.521121",
     "status": "completed"
    },
    "tags": []
   },
   "outputs": [
    {
     "data": {
      "application/scrapbook.scrap.json+json": {
       "data": 20902085,
       "encoder": "json",
       "name": "subject_id",
       "version": 1
      }
     },
     "metadata": {
      "scrapbook": {
       "data": true,
       "display": false,
       "name": "subject_id"
      }
     },
     "output_type": "display_data"
    },
    {
     "data": {
      "application/scrapbook.scrap.json+json": {
       "data": {
        "Aech": 0.0022286495416079933,
        "CBAIN25": 0.0005016734324637608,
        "Corradini028": 0.005344744002383395,
        "Diamon22": 0.0008148803839598057,
        "ElisabethB": 0.0003347025744040537,
        "Getrekt10127": 0.00475781657421118,
        "JEBala": 0.000574238819976722,
        "Lavadude": 0.005344744002383395,
        "M_Mij": 0.0016328030477568737,
        "Rian_NL": 0.0034471740071105707,
        "Thedunkmasta": 0.0035504711587839477,
        "atinkess": 0.0009608939907459105,
        "bigdeath": 0.005344744002383395,
        "campanellimichael13": 0.005344744002383395,
        "cchen88": 0.00019029794542119744,
        "ckkmomma": 0.005344744002383395,
        "clizardo": 0.00045477694015694416,
        "coleman73": 0.005344744002383395,
        "creinbol": 0.000993511757024877,
        "denzel.ayala": 0.0010297912858278514,
        "djcameron": 0.0006421329144975085,
        "dmosier13": 0.0017578777743397357,
        "drpark": 0.00361765855565342,
        "edgardo.e.nogueira": 0.00206277595835568,
        "equidad1": 0.07740711691247289,
        "heathmonie": 0.005344744002383395,
        "helm0883": 0.0014590185575804682,
        "kayla2198": 0.0027410003883109827,
        "kokotje2323": 0.005344744002383395,
        "ksheahon": 0.005344744002383395,
        "lam123ghjkl": 0.005344744002383395,
        "lmhob14": 0.0004125968493299217,
        "mchaffin": 0.00033346711657652014,
        "mcooke27": 0.005344744002383395,
        "mkirms": 0.000645355496554336,
        "mlang2017": 0.008854531587762738,
        "msross": 0.00020471816315086245,
        "ncaro": 0.005344744002383395,
        "not-logged-in-03b60317d6ee47942c58": 0.0006711414650582698,
        "not-logged-in-666ec8d326b84bd03ae7": 0.005344744002383395,
        "not-logged-in-7464e89f9da4ecce2274": 0.005344744002383395,
        "not-logged-in-7f2f980dfb593d423491": 0.005344744002383395,
        "not-logged-in-812b279e0836b083d452": 0.005344744002383395,
        "not-logged-in-a6f538990ba1cfbce226": 21.087241011930328,
        "not-logged-in-aac1a66e38768e0fe308": 0.001275639963476343,
        "not-logged-in-b48f5b396bb5986801e0": 0.00249659517450091,
        "not-logged-in-bcf0a63d16e116a99e14": 0.005344744002383395,
        "not-logged-in-c63c509f09cb3baf14e5": 0.00024049369358105288,
        "not-logged-in-cd264b9dcb74a8a123a9": 0.0021786231650970443,
        "not-logged-in-cd6a5cac0334cc279337": 0.005344668477382044,
        "not-logged-in-d4bf4d941a1b00de226b": 0.0010154972748264493,
        "not-logged-in-e4a293db88e6337c76d5": 0.003160874499582962,
        "not-logged-in-ea8ed61a7274cfb6a43b": 0.04461893590082287,
        "rcbeck": 0.0006859395232129441,
        "sinjinza1984": 0.00021123468233803425,
        "sn346808": 0.0322866445985172,
        "stekenxu": 0.00023980174197811053,
        "tdrabic": 0.0009017083921203891,
        "wthammas": 0.00042803756025173556
       },
       "encoder": "json",
       "name": "losses",
       "version": 1
      }
     },
     "metadata": {
      "scrapbook": {
       "data": true,
       "display": false,
       "name": "losses"
      }
     },
     "output_type": "display_data"
    }
   ],
   "source": [
    "sb.glue('subject_id', subject_id)\n",
    "sb.glue('losses', losses.to_dict())"
   ]
  }
 ],
 "metadata": {
  "kernel_info": {
   "name": "python3"
  },
  "kernelspec": {
   "display_name": "Python 3",
   "language": "python",
   "name": "python3"
  },
  "language_info": {
   "codemirror_mode": {
    "name": "ipython",
    "version": 3
   },
   "file_extension": ".py",
   "mimetype": "text/x-python",
   "name": "python",
   "nbconvert_exporter": "python",
   "pygments_lexer": "ipython3",
   "version": "3.7.3"
  },
  "nteract": {
   "version": "0.14.3"
  },
  "papermill": {
   "duration": 31.912242,
   "end_time": "2019-09-02T10:20:44.963182",
   "environment_variables": {},
   "exception": null,
   "input_path": "/users/tingard/gzbuilder_results/input_files/volunteer_losses.ipynb",
   "output_path": "/users/tingard/gzbuilder_results/output_files/volunteer_losses/20902085.ipynb",
   "parameters": {
    "subject_id": 20902085
   },
   "start_time": "2019-09-02T10:20:13.050940",
   "version": "1.0.1"
  }
 },
 "nbformat": 4,
 "nbformat_minor": 0
}