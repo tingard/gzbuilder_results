{
 "cells": [
  {
   "cell_type": "markdown",
   "metadata": {
    "papermill": {
     "duration": 0.029522,
     "end_time": "2019-09-02T10:20:17.725500",
     "exception": false,
     "start_time": "2019-09-02T10:20:17.695978",
     "status": "completed"
    },
    "tags": []
   },
   "source": [
    "# Volunteer model loss calculation\n",
    "\n",
    "This notebook takes a `subject_id` and calculates the MSE of each volunteer's model to the galaxy data. These losses are then glued to the notebook for use elsewhere."
   ]
  },
  {
   "cell_type": "code",
   "execution_count": 1,
   "metadata": {
    "collapsed": false,
    "inputHidden": false,
    "outputHidden": false,
    "papermill": {
     "duration": 0.047324,
     "end_time": "2019-09-02T10:20:17.804272",
     "exception": false,
     "start_time": "2019-09-02T10:20:17.756948",
     "status": "completed"
    },
    "tags": []
   },
   "outputs": [],
   "source": [
    "%load_ext autoreload\n",
    "%autoreload 2"
   ]
  },
  {
   "cell_type": "code",
   "execution_count": 2,
   "metadata": {
    "collapsed": false,
    "inputHidden": false,
    "outputHidden": false,
    "papermill": {
     "duration": 6.821548,
     "end_time": "2019-09-02T10:20:24.640282",
     "exception": false,
     "start_time": "2019-09-02T10:20:17.818734",
     "status": "completed"
    },
    "tags": []
   },
   "outputs": [
    {
     "name": "stderr",
     "output_type": "stream",
     "text": [
      "/opt/apps/pkgs/anaconda3/2019.03/intel64/lib/python3.7/site-packages/dask/config.py:168: YAMLLoadWarning: calling yaml.load() without Loader=... is deprecated, as the default Loader is unsafe. Please read https://msg.pyyaml.org/load for full details.\n",
      "  data = yaml.load(f.read()) or {}\n"
     ]
    }
   ],
   "source": [
    "import json\n",
    "import numpy as np\n",
    "import pandas as pd\n",
    "from tqdm import tqdm\n",
    "import matplotlib.pyplot as plt\n",
    "import seaborn as sns\n",
    "from gzbuilder_analysis import parsing, rendering, fitting\n",
    "import lib.galaxy_utilities as gu\n",
    "import scrapbook as sb"
   ]
  },
  {
   "cell_type": "code",
   "execution_count": 3,
   "metadata": {
    "collapsed": false,
    "inputHidden": false,
    "outputHidden": false,
    "papermill": {
     "duration": 0.046005,
     "end_time": "2019-09-02T10:20:24.695804",
     "exception": false,
     "start_time": "2019-09-02T10:20:24.649799",
     "status": "completed"
    },
    "tags": [
     "parameters"
    ]
   },
   "outputs": [],
   "source": [
    "subject_id = 20902040"
   ]
  },
  {
   "cell_type": "code",
   "execution_count": 4,
   "metadata": {
    "papermill": {
     "duration": 0.04451,
     "end_time": "2019-09-02T10:20:24.748032",
     "exception": false,
     "start_time": "2019-09-02T10:20:24.703522",
     "status": "completed"
    },
    "tags": [
     "injected-parameters"
    ]
   },
   "outputs": [],
   "source": [
    "# Parameters\n",
    "subject_id = 21096976\n"
   ]
  },
  {
   "cell_type": "code",
   "execution_count": 5,
   "metadata": {
    "collapsed": false,
    "inputHidden": false,
    "outputHidden": false,
    "papermill": {
     "duration": 0.150877,
     "end_time": "2019-09-02T10:20:24.906666",
     "exception": false,
     "start_time": "2019-09-02T10:20:24.755789",
     "status": "completed"
    },
    "tags": []
   },
   "outputs": [],
   "source": [
    "diff_data_df = pd.read_pickle('lib/fitting_metadata.pkl')"
   ]
  },
  {
   "cell_type": "code",
   "execution_count": 6,
   "metadata": {
    "collapsed": false,
    "inputHidden": false,
    "outputHidden": false,
    "papermill": {
     "duration": 0.051377,
     "end_time": "2019-09-02T10:20:24.965683",
     "exception": false,
     "start_time": "2019-09-02T10:20:24.914306",
     "status": "completed"
    },
    "tags": []
   },
   "outputs": [],
   "source": [
    "def get_losses_by_user(subject_id):\n",
    "  diff_data = diff_data_df.loc[subject_id]\n",
    "  psf = diff_data['psf']\n",
    "  pixel_mask = np.array(diff_data['pixel_mask'])[::-1]\n",
    "  galaxy_data = np.array(diff_data['galaxy_data'])[::-1]\n",
    "  image_size = galaxy_data.shape[0]\n",
    "  size_diff = diff_data['size_diff']\n",
    "  \n",
    "  cls = gu.classifications.query('subject_ids == {}'.format(subject_id))\n",
    "  names = cls.user_name \n",
    "  annotations = cls['annotations'].apply(json.loads)\n",
    "\n",
    "  models = annotations.apply(\n",
    "    parsing.parse_annotation,\n",
    "    size_diff=size_diff\n",
    "  )\n",
    "\n",
    "  tqdm.pandas(\n",
    "    desc='Rendering models'.format(subject_id),\n",
    "    leave=False\n",
    "  )\n",
    "  rendered = models.progress_apply(\n",
    "    rendering.calculate_model,\n",
    "    image_size=image_size,\n",
    "    psf=psf\n",
    "  ).rename('rendered')\n",
    "\n",
    "  tqdm.pandas(\n",
    "    desc='Calculating differences'.format(subject_id),\n",
    "    leave=False\n",
    "  )\n",
    "  losses = rendered.apply(\n",
    "    fitting.loss,\n",
    "    args=(galaxy_data, pixel_mask)\n",
    "  ).rename('loss')\n",
    "  all_losses = pd.Series(\n",
    "    losses.values,\n",
    "    index=names.values\n",
    "  ).rename(subject_id)\n",
    "  best_losses = pd.concat((\n",
    "    all_losses.where(\n",
    "      ~all_losses.duplicated(keep=False)\n",
    "    ).dropna(), # all non-duplicates\n",
    "    all_losses.where(\n",
    "      all_losses.duplicated(keep=False)\n",
    "    ).dropna().groupby(level=0).min() # best value of duplicates\n",
    "  ), axis=0)\n",
    "  return best_losses"
   ]
  },
  {
   "cell_type": "code",
   "execution_count": 7,
   "metadata": {
    "collapsed": false,
    "inputHidden": false,
    "outputHidden": false,
    "papermill": {
     "duration": 8.89242,
     "end_time": "2019-09-02T10:20:33.866050",
     "exception": false,
     "start_time": "2019-09-02T10:20:24.973630",
     "status": "completed"
    },
    "tags": []
   },
   "outputs": [
    {
     "name": "stderr",
     "output_type": "stream",
     "text": [
      "\r",
      "Rendering models:   0%|          | 0/33 [00:00<?, ?it/s]"
     ]
    },
    {
     "name": "stderr",
     "output_type": "stream",
     "text": [
      "\r",
      "Rendering models:   6%|▌         | 2/33 [00:05<01:21,  2.64s/it]"
     ]
    },
    {
     "name": "stderr",
     "output_type": "stream",
     "text": [
      "\r",
      "Rendering models:  12%|█▏        | 4/33 [00:06<01:00,  2.08s/it]"
     ]
    },
    {
     "name": "stderr",
     "output_type": "stream",
     "text": [
      "\r",
      "Rendering models:  18%|█▊        | 6/33 [00:06<00:39,  1.47s/it]"
     ]
    },
    {
     "name": "stderr",
     "output_type": "stream",
     "text": [
      "\r",
      "Rendering models:  24%|██▍       | 8/33 [00:07<00:26,  1.05s/it]"
     ]
    },
    {
     "name": "stderr",
     "output_type": "stream",
     "text": [
      "\r",
      "Rendering models:  27%|██▋       | 9/33 [00:07<00:18,  1.30it/s]"
     ]
    },
    {
     "name": "stderr",
     "output_type": "stream",
     "text": [
      "\r",
      "Rendering models:  36%|███▋      | 12/33 [00:07<00:11,  1.80it/s]"
     ]
    },
    {
     "name": "stderr",
     "output_type": "stream",
     "text": [
      "\r",
      "Rendering models:  42%|████▏     | 14/33 [00:07<00:07,  2.45it/s]"
     ]
    },
    {
     "name": "stderr",
     "output_type": "stream",
     "text": [
      "\r",
      "Rendering models:  48%|████▊     | 16/33 [00:07<00:05,  3.28it/s]"
     ]
    },
    {
     "name": "stderr",
     "output_type": "stream",
     "text": [
      "\r",
      "Rendering models:  55%|█████▍    | 18/33 [00:07<00:03,  4.22it/s]"
     ]
    },
    {
     "name": "stderr",
     "output_type": "stream",
     "text": [
      "\r",
      "Rendering models:  67%|██████▋   | 22/33 [00:07<00:01,  5.66it/s]"
     ]
    },
    {
     "name": "stderr",
     "output_type": "stream",
     "text": [
      "\r",
      "Rendering models:  73%|███████▎  | 24/33 [00:08<00:01,  6.88it/s]"
     ]
    },
    {
     "name": "stderr",
     "output_type": "stream",
     "text": [
      "\r",
      "Rendering models:  79%|███████▉  | 26/33 [00:08<00:00,  7.78it/s]"
     ]
    },
    {
     "name": "stderr",
     "output_type": "stream",
     "text": [
      "\r",
      "Rendering models:  88%|████████▊ | 29/33 [00:08<00:00,  9.16it/s]"
     ]
    },
    {
     "name": "stderr",
     "output_type": "stream",
     "text": [
      "\r",
      "Rendering models:  94%|█████████▍| 31/33 [00:08<00:00,  9.89it/s]"
     ]
    },
    {
     "name": "stderr",
     "output_type": "stream",
     "text": [
      "\r",
      "Rendering models: 100%|██████████| 33/33 [00:08<00:00, 11.34it/s]"
     ]
    },
    {
     "name": "stderr",
     "output_type": "stream",
     "text": [
      "\r",
      "                                                                 "
     ]
    },
    {
     "name": "stderr",
     "output_type": "stream",
     "text": [
      "\r"
     ]
    },
    {
     "data": {
      "text/plain": [
       "not-logged-in-3b0b929f4475fd276561    0.004114\n",
       "not-logged-in-52d766b03306c0c1f279    0.001449\n",
       "Alexander00                           0.000599\n",
       "not-logged-in-561399b67c6761e990ff    0.000990\n",
       "not-logged-in-8cf2e6929490167ca6ab    0.001751\n",
       "jnarayanbvg                           0.002996\n",
       "awright5                              0.004503\n",
       "not-logged-in-37432d74053c6a167ecb    0.074689\n",
       "not-logged-in-c6917d9b19f41e6c2995    0.003748\n",
       "nasseem                               0.192076\n",
       "not-logged-in-4447ff92852aa7c13340    0.000580\n",
       "theetick                              0.003848\n",
       "casbee                                0.003541\n",
       "Roksolana                             0.000296\n",
       "sn346808                              0.047933\n",
       "sn346808                              0.050824\n",
       "sn346808                              0.039708\n",
       "sn346808                              0.014904\n",
       "not-logged-in-116eef09a8f6e73ef4da    0.003439\n",
       "KrisKeogh                             0.013169\n",
       "Sylverone                             0.000586\n",
       "MaximeRoyer1993                       0.106945\n",
       "not-logged-in-9dfe008ef2c8408f69b2    0.000246\n",
       "KevinKosa                             0.000510\n",
       "ElisabethB                            0.001035\n",
       "not-logged-in-7be2ab5b99cd33eba4f5    0.104020\n",
       "Ghost_Sheep_SWR                       0.000464\n",
       "M4kc                                  0.001417\n",
       "Cosmic_Jerk                           0.263969\n",
       "Isambert                              0.000923\n",
       "impfrost                              0.000462\n",
       "Algimk                                0.002791\n",
       "jbc9962                               0.002791\n",
       "Name: 21096976, dtype: float64"
      ]
     },
     "execution_count": 7,
     "metadata": {},
     "output_type": "execute_result"
    }
   ],
   "source": [
    "losses = get_losses_by_user(subject_id)\n",
    "losses"
   ]
  },
  {
   "cell_type": "code",
   "execution_count": 8,
   "metadata": {
    "collapsed": false,
    "inputHidden": false,
    "outputHidden": false,
    "papermill": {
     "duration": 0.070669,
     "end_time": "2019-09-02T10:20:33.953801",
     "exception": false,
     "start_time": "2019-09-02T10:20:33.883132",
     "status": "completed"
    },
    "tags": []
   },
   "outputs": [
    {
     "data": {
      "application/scrapbook.scrap.json+json": {
       "data": 21096976,
       "encoder": "json",
       "name": "subject_id",
       "version": 1
      }
     },
     "metadata": {
      "scrapbook": {
       "data": true,
       "display": false,
       "name": "subject_id"
      }
     },
     "output_type": "display_data"
    },
    {
     "data": {
      "application/scrapbook.scrap.json+json": {
       "data": {
        "Alexander00": 0.0005987232078314891,
        "Algimk": 0.002791199500609556,
        "Cosmic_Jerk": 0.26396915636895196,
        "ElisabethB": 0.0010349276780026518,
        "Ghost_Sheep_SWR": 0.00046370307334997024,
        "Isambert": 0.000922795484128038,
        "KevinKosa": 0.0005097824083087251,
        "KrisKeogh": 0.01316893537149672,
        "M4kc": 0.0014167406374618278,
        "MaximeRoyer1993": 0.10694478373568207,
        "Roksolana": 0.00029585268359595625,
        "Sylverone": 0.000585534155837381,
        "awright5": 0.004503006376521743,
        "casbee": 0.003541376878700883,
        "impfrost": 0.0004623206809424189,
        "jbc9962": 0.002791199500609556,
        "jnarayanbvg": 0.0029960210538475217,
        "nasseem": 0.19207637503031413,
        "not-logged-in-116eef09a8f6e73ef4da": 0.0034394635546393616,
        "not-logged-in-37432d74053c6a167ecb": 0.07468860054883278,
        "not-logged-in-3b0b929f4475fd276561": 0.00411432968818313,
        "not-logged-in-4447ff92852aa7c13340": 0.0005800802973877049,
        "not-logged-in-52d766b03306c0c1f279": 0.0014494077874026485,
        "not-logged-in-561399b67c6761e990ff": 0.00099040606544897,
        "not-logged-in-7be2ab5b99cd33eba4f5": 0.1040196776296942,
        "not-logged-in-8cf2e6929490167ca6ab": 0.0017507036609130495,
        "not-logged-in-9dfe008ef2c8408f69b2": 0.00024604034873649167,
        "not-logged-in-c6917d9b19f41e6c2995": 0.0037479255753028536,
        "sn346808": 0.014903951808689878,
        "theetick": 0.003848337687973905
       },
       "encoder": "json",
       "name": "losses",
       "version": 1
      }
     },
     "metadata": {
      "scrapbook": {
       "data": true,
       "display": false,
       "name": "losses"
      }
     },
     "output_type": "display_data"
    }
   ],
   "source": [
    "sb.glue('subject_id', subject_id)\n",
    "sb.glue('losses', losses.to_dict())"
   ]
  }
 ],
 "metadata": {
  "kernel_info": {
   "name": "python3"
  },
  "kernelspec": {
   "display_name": "Python 3",
   "language": "python",
   "name": "python3"
  },
  "language_info": {
   "codemirror_mode": {
    "name": "ipython",
    "version": 3
   },
   "file_extension": ".py",
   "mimetype": "text/x-python",
   "name": "python",
   "nbconvert_exporter": "python",
   "pygments_lexer": "ipython3",
   "version": "3.7.3"
  },
  "nteract": {
   "version": "0.14.3"
  },
  "papermill": {
   "duration": 21.118173,
   "end_time": "2019-09-02T10:20:35.410750",
   "environment_variables": {},
   "exception": null,
   "input_path": "/users/tingard/gzbuilder_results/input_files/volunteer_losses.ipynb",
   "output_path": "/users/tingard/gzbuilder_results/output_files/volunteer_losses/21096976.ipynb",
   "parameters": {
    "subject_id": 21096976
   },
   "start_time": "2019-09-02T10:20:14.292577",
   "version": "1.0.1"
  }
 },
 "nbformat": 4,
 "nbformat_minor": 0
}