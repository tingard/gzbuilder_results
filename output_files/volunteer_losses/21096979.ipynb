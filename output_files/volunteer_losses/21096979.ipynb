{
 "cells": [
  {
   "cell_type": "markdown",
   "metadata": {
    "papermill": {
     "duration": 0.008319,
     "end_time": "2019-09-02T10:20:45.427317",
     "exception": false,
     "start_time": "2019-09-02T10:20:45.418998",
     "status": "completed"
    },
    "tags": []
   },
   "source": [
    "# Volunteer model loss calculation\n",
    "\n",
    "This notebook takes a `subject_id` and calculates the MSE of each volunteer's model to the galaxy data. These losses are then glued to the notebook for use elsewhere."
   ]
  },
  {
   "cell_type": "code",
   "execution_count": 1,
   "metadata": {
    "collapsed": false,
    "inputHidden": false,
    "outputHidden": false,
    "papermill": {
     "duration": 0.027437,
     "end_time": "2019-09-02T10:20:45.462040",
     "exception": false,
     "start_time": "2019-09-02T10:20:45.434603",
     "status": "completed"
    },
    "tags": []
   },
   "outputs": [],
   "source": [
    "%load_ext autoreload\n",
    "%autoreload 2"
   ]
  },
  {
   "cell_type": "code",
   "execution_count": 2,
   "metadata": {
    "collapsed": false,
    "inputHidden": false,
    "outputHidden": false,
    "papermill": {
     "duration": 4.189758,
     "end_time": "2019-09-02T10:20:49.659216",
     "exception": false,
     "start_time": "2019-09-02T10:20:45.469458",
     "status": "completed"
    },
    "tags": []
   },
   "outputs": [
    {
     "name": "stderr",
     "output_type": "stream",
     "text": [
      "/opt/apps/pkgs/anaconda3/2019.03/intel64/lib/python3.7/site-packages/dask/config.py:168: YAMLLoadWarning: calling yaml.load() without Loader=... is deprecated, as the default Loader is unsafe. Please read https://msg.pyyaml.org/load for full details.\n",
      "  data = yaml.load(f.read()) or {}\n"
     ]
    }
   ],
   "source": [
    "import json\n",
    "import numpy as np\n",
    "import pandas as pd\n",
    "from tqdm import tqdm\n",
    "import matplotlib.pyplot as plt\n",
    "import seaborn as sns\n",
    "from gzbuilder_analysis import parsing, rendering, fitting\n",
    "import lib.galaxy_utilities as gu\n",
    "import scrapbook as sb"
   ]
  },
  {
   "cell_type": "code",
   "execution_count": 3,
   "metadata": {
    "collapsed": false,
    "inputHidden": false,
    "outputHidden": false,
    "papermill": {
     "duration": 0.047235,
     "end_time": "2019-09-02T10:20:49.715787",
     "exception": false,
     "start_time": "2019-09-02T10:20:49.668552",
     "status": "completed"
    },
    "tags": [
     "parameters"
    ]
   },
   "outputs": [],
   "source": [
    "subject_id = 20902040"
   ]
  },
  {
   "cell_type": "code",
   "execution_count": 4,
   "metadata": {
    "papermill": {
     "duration": 0.051412,
     "end_time": "2019-09-02T10:20:49.775485",
     "exception": false,
     "start_time": "2019-09-02T10:20:49.724073",
     "status": "completed"
    },
    "tags": [
     "injected-parameters"
    ]
   },
   "outputs": [],
   "source": [
    "# Parameters\n",
    "subject_id = 21096979\n"
   ]
  },
  {
   "cell_type": "code",
   "execution_count": 5,
   "metadata": {
    "collapsed": false,
    "inputHidden": false,
    "outputHidden": false,
    "papermill": {
     "duration": 0.305899,
     "end_time": "2019-09-02T10:20:50.089106",
     "exception": false,
     "start_time": "2019-09-02T10:20:49.783207",
     "status": "completed"
    },
    "tags": []
   },
   "outputs": [],
   "source": [
    "diff_data_df = pd.read_pickle('lib/fitting_metadata.pkl')"
   ]
  },
  {
   "cell_type": "code",
   "execution_count": 6,
   "metadata": {
    "collapsed": false,
    "inputHidden": false,
    "outputHidden": false,
    "papermill": {
     "duration": 0.05362,
     "end_time": "2019-09-02T10:20:50.151383",
     "exception": false,
     "start_time": "2019-09-02T10:20:50.097763",
     "status": "completed"
    },
    "tags": []
   },
   "outputs": [],
   "source": [
    "def get_losses_by_user(subject_id):\n",
    "  diff_data = diff_data_df.loc[subject_id]\n",
    "  psf = diff_data['psf']\n",
    "  pixel_mask = np.array(diff_data['pixel_mask'])[::-1]\n",
    "  galaxy_data = np.array(diff_data['galaxy_data'])[::-1]\n",
    "  image_size = galaxy_data.shape[0]\n",
    "  size_diff = diff_data['size_diff']\n",
    "  \n",
    "  cls = gu.classifications.query('subject_ids == {}'.format(subject_id))\n",
    "  names = cls.user_name \n",
    "  annotations = cls['annotations'].apply(json.loads)\n",
    "\n",
    "  models = annotations.apply(\n",
    "    parsing.parse_annotation,\n",
    "    size_diff=size_diff\n",
    "  )\n",
    "\n",
    "  tqdm.pandas(\n",
    "    desc='Rendering models'.format(subject_id),\n",
    "    leave=False\n",
    "  )\n",
    "  rendered = models.progress_apply(\n",
    "    rendering.calculate_model,\n",
    "    image_size=image_size,\n",
    "    psf=psf\n",
    "  ).rename('rendered')\n",
    "\n",
    "  tqdm.pandas(\n",
    "    desc='Calculating differences'.format(subject_id),\n",
    "    leave=False\n",
    "  )\n",
    "  losses = rendered.apply(\n",
    "    fitting.loss,\n",
    "    args=(galaxy_data, pixel_mask)\n",
    "  ).rename('loss')\n",
    "  all_losses = pd.Series(\n",
    "    losses.values,\n",
    "    index=names.values\n",
    "  ).rename(subject_id)\n",
    "  best_losses = pd.concat((\n",
    "    all_losses.where(\n",
    "      ~all_losses.duplicated(keep=False)\n",
    "    ).dropna(), # all non-duplicates\n",
    "    all_losses.where(\n",
    "      all_losses.duplicated(keep=False)\n",
    "    ).dropna().groupby(level=0).min() # best value of duplicates\n",
    "  ), axis=0)\n",
    "  return best_losses"
   ]
  },
  {
   "cell_type": "code",
   "execution_count": 7,
   "metadata": {
    "collapsed": false,
    "inputHidden": false,
    "outputHidden": false,
    "papermill": {
     "duration": 9.019844,
     "end_time": "2019-09-02T10:20:59.178839",
     "exception": false,
     "start_time": "2019-09-02T10:20:50.158995",
     "status": "completed"
    },
    "tags": []
   },
   "outputs": [
    {
     "name": "stderr",
     "output_type": "stream",
     "text": [
      "\r",
      "Rendering models:   0%|          | 0/30 [00:00<?, ?it/s]"
     ]
    },
    {
     "name": "stderr",
     "output_type": "stream",
     "text": [
      "\r",
      "Rendering models:   7%|▋         | 2/30 [00:02<00:39,  1.41s/it]"
     ]
    },
    {
     "name": "stderr",
     "output_type": "stream",
     "text": [
      "\r",
      "Rendering models:  10%|█         | 3/30 [00:04<00:38,  1.43s/it]"
     ]
    },
    {
     "name": "stderr",
     "output_type": "stream",
     "text": [
      "\r",
      "Rendering models:  17%|█▋        | 5/30 [00:04<00:25,  1.02s/it]"
     ]
    },
    {
     "name": "stderr",
     "output_type": "stream",
     "text": [
      "\r",
      "Rendering models:  23%|██▎       | 7/30 [00:04<00:16,  1.37it/s]"
     ]
    },
    {
     "name": "stderr",
     "output_type": "stream",
     "text": [
      "\r",
      "Rendering models:  30%|███       | 9/30 [00:04<00:11,  1.90it/s]"
     ]
    },
    {
     "name": "stderr",
     "output_type": "stream",
     "text": [
      "\r",
      "Rendering models:  40%|████      | 12/30 [00:04<00:06,  2.61it/s]"
     ]
    },
    {
     "name": "stderr",
     "output_type": "stream",
     "text": [
      "\r",
      "Rendering models:  47%|████▋     | 14/30 [00:04<00:04,  3.47it/s]"
     ]
    },
    {
     "name": "stderr",
     "output_type": "stream",
     "text": [
      "\r",
      "Rendering models:  70%|███████   | 21/30 [00:07<00:02,  3.09it/s]"
     ]
    },
    {
     "name": "stderr",
     "output_type": "stream",
     "text": [
      "\r",
      "Rendering models:  77%|███████▋  | 23/30 [00:07<00:01,  4.08it/s]"
     ]
    },
    {
     "name": "stderr",
     "output_type": "stream",
     "text": [
      "\r",
      "Rendering models:  83%|████████▎ | 25/30 [00:08<00:00,  5.01it/s]"
     ]
    },
    {
     "name": "stderr",
     "output_type": "stream",
     "text": [
      "\r",
      "Rendering models:  93%|█████████▎| 28/30 [00:08<00:00,  6.66it/s]"
     ]
    },
    {
     "name": "stderr",
     "output_type": "stream",
     "text": [
      "\r",
      "                                                                 "
     ]
    },
    {
     "name": "stderr",
     "output_type": "stream",
     "text": [
      "\r"
     ]
    },
    {
     "data": {
      "text/plain": [
       "not-logged-in-673e227f920b24558cc1    0.000313\n",
       "Jnursssmith5263                       0.000471\n",
       "DannyU                                0.000181\n",
       "TateK                                 0.000400\n",
       "jnarayanbvg                           0.000189\n",
       "Jonas_Cross                           0.000375\n",
       "not-logged-in-db23dc032fc427a4e4d9    0.000228\n",
       "awright5                              0.001567\n",
       "not-logged-in-74261f68b83c7ae82ce3    0.000181\n",
       "lsautter                              0.000224\n",
       "Zopin                                 0.016018\n",
       "Synapsestar                           0.000303\n",
       "dinosora                              0.000202\n",
       "Lavadude                              0.002549\n",
       "not-logged-in-4a99265f22da29adddc5    0.001072\n",
       "not-logged-in-153517196e8c4276bfd0    0.003914\n",
       "cooper.hull                           0.025659\n",
       "not-logged-in-5992679fdf3537b5607f    0.025942\n",
       "cheez__it                             0.000311\n",
       "SatanSoo                              0.000542\n",
       "Getrekt10127                          0.977019\n",
       "h4ranek                               0.000744\n",
       "Saharisunshine                        0.002136\n",
       "Susymuller                            0.002136\n",
       "ckkmomma                              0.002136\n",
       "jaksonA                               0.002136\n",
       "mariafarhat                           0.002136\n",
       "not-logged-in-5f30b2bb9b7f9d49da41    0.002136\n",
       "not-logged-in-abf721ced534ab9c4f3b    0.002136\n",
       "rhondacard                            0.002136\n",
       "Name: 21096979, dtype: float64"
      ]
     },
     "execution_count": 7,
     "metadata": {},
     "output_type": "execute_result"
    }
   ],
   "source": [
    "losses = get_losses_by_user(subject_id)\n",
    "losses"
   ]
  },
  {
   "cell_type": "code",
   "execution_count": 8,
   "metadata": {
    "collapsed": false,
    "inputHidden": false,
    "outputHidden": false,
    "papermill": {
     "duration": 0.058972,
     "end_time": "2019-09-02T10:20:59.251062",
     "exception": false,
     "start_time": "2019-09-02T10:20:59.192090",
     "status": "completed"
    },
    "tags": []
   },
   "outputs": [
    {
     "data": {
      "application/scrapbook.scrap.json+json": {
       "data": 21096979,
       "encoder": "json",
       "name": "subject_id",
       "version": 1
      }
     },
     "metadata": {
      "scrapbook": {
       "data": true,
       "display": false,
       "name": "subject_id"
      }
     },
     "output_type": "display_data"
    },
    {
     "data": {
      "application/scrapbook.scrap.json+json": {
       "data": {
        "DannyU": 0.0001807996740181858,
        "Getrekt10127": 0.9770188221146868,
        "Jnursssmith5263": 0.00047077637368432215,
        "Jonas_Cross": 0.0003747713280335346,
        "Lavadude": 0.0025490846870258104,
        "Saharisunshine": 0.0021364238988730573,
        "SatanSoo": 0.0005420831229514191,
        "Susymuller": 0.0021364238988730573,
        "Synapsestar": 0.0003025904649960673,
        "TateK": 0.0004002949693383154,
        "Zopin": 0.016017899083866954,
        "awright5": 0.0015670717524898538,
        "cheez__it": 0.00031087497673299363,
        "ckkmomma": 0.0021364238988730573,
        "cooper.hull": 0.025658576630224937,
        "dinosora": 0.00020211019225648572,
        "h4ranek": 0.0007441871394575541,
        "jaksonA": 0.0021364238988730573,
        "jnarayanbvg": 0.0001892798026151448,
        "lsautter": 0.00022423198814897739,
        "mariafarhat": 0.0021364238988730573,
        "not-logged-in-153517196e8c4276bfd0": 0.00391436003609481,
        "not-logged-in-4a99265f22da29adddc5": 0.0010718987149378125,
        "not-logged-in-5992679fdf3537b5607f": 0.02594192100974683,
        "not-logged-in-5f30b2bb9b7f9d49da41": 0.0021364238988730573,
        "not-logged-in-673e227f920b24558cc1": 0.0003127444516457688,
        "not-logged-in-74261f68b83c7ae82ce3": 0.00018129989582222765,
        "not-logged-in-abf721ced534ab9c4f3b": 0.0021364238988730573,
        "not-logged-in-db23dc032fc427a4e4d9": 0.00022849506038147765,
        "rhondacard": 0.0021364238988730573
       },
       "encoder": "json",
       "name": "losses",
       "version": 1
      }
     },
     "metadata": {
      "scrapbook": {
       "data": true,
       "display": false,
       "name": "losses"
      }
     },
     "output_type": "display_data"
    }
   ],
   "source": [
    "sb.glue('subject_id', subject_id)\n",
    "sb.glue('losses', losses.to_dict())"
   ]
  }
 ],
 "metadata": {
  "kernel_info": {
   "name": "python3"
  },
  "kernelspec": {
   "display_name": "Python 3",
   "language": "python",
   "name": "python3"
  },
  "language_info": {
   "codemirror_mode": {
    "name": "ipython",
    "version": 3
   },
   "file_extension": ".py",
   "mimetype": "text/x-python",
   "name": "python",
   "nbconvert_exporter": "python",
   "pygments_lexer": "ipython3",
   "version": "3.7.3"
  },
  "nteract": {
   "version": "0.14.3"
  },
  "papermill": {
   "duration": 17.120761,
   "end_time": "2019-09-02T10:21:00.713106",
   "environment_variables": {},
   "exception": null,
   "input_path": "/users/tingard/gzbuilder_results/input_files/volunteer_losses.ipynb",
   "output_path": "/users/tingard/gzbuilder_results/output_files/volunteer_losses/21096979.ipynb",
   "parameters": {
    "subject_id": 21096979
   },
   "start_time": "2019-09-02T10:20:43.592345",
   "version": "1.0.1"
  }
 },
 "nbformat": 4,
 "nbformat_minor": 0
}