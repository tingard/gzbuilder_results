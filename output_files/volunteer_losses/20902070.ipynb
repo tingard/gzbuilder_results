{
 "cells": [
  {
   "cell_type": "markdown",
   "metadata": {
    "papermill": {
     "duration": 0.007826,
     "end_time": "2019-09-02T10:20:16.216112",
     "exception": false,
     "start_time": "2019-09-02T10:20:16.208286",
     "status": "completed"
    },
    "tags": []
   },
   "source": [
    "# Volunteer model loss calculation\n",
    "\n",
    "This notebook takes a `subject_id` and calculates the MSE of each volunteer's model to the galaxy data. These losses are then glued to the notebook for use elsewhere."
   ]
  },
  {
   "cell_type": "code",
   "execution_count": 1,
   "metadata": {
    "collapsed": false,
    "inputHidden": false,
    "outputHidden": false,
    "papermill": {
     "duration": 0.052429,
     "end_time": "2019-09-02T10:20:16.275056",
     "exception": false,
     "start_time": "2019-09-02T10:20:16.222627",
     "status": "completed"
    },
    "tags": []
   },
   "outputs": [],
   "source": [
    "%load_ext autoreload\n",
    "%autoreload 2"
   ]
  },
  {
   "cell_type": "code",
   "execution_count": 2,
   "metadata": {
    "collapsed": false,
    "inputHidden": false,
    "outputHidden": false,
    "papermill": {
     "duration": 9.10034,
     "end_time": "2019-09-02T10:20:25.382587",
     "exception": false,
     "start_time": "2019-09-02T10:20:16.282247",
     "status": "completed"
    },
    "tags": []
   },
   "outputs": [
    {
     "name": "stderr",
     "output_type": "stream",
     "text": [
      "/opt/apps/pkgs/anaconda3/2019.03/intel64/lib/python3.7/site-packages/dask/config.py:168: YAMLLoadWarning: calling yaml.load() without Loader=... is deprecated, as the default Loader is unsafe. Please read https://msg.pyyaml.org/load for full details.\n",
      "  data = yaml.load(f.read()) or {}\n"
     ]
    }
   ],
   "source": [
    "import json\n",
    "import numpy as np\n",
    "import pandas as pd\n",
    "from tqdm import tqdm\n",
    "import matplotlib.pyplot as plt\n",
    "import seaborn as sns\n",
    "from gzbuilder_analysis import parsing, rendering, fitting\n",
    "import lib.galaxy_utilities as gu\n",
    "import scrapbook as sb"
   ]
  },
  {
   "cell_type": "code",
   "execution_count": 3,
   "metadata": {
    "collapsed": false,
    "inputHidden": false,
    "outputHidden": false,
    "papermill": {
     "duration": 0.059189,
     "end_time": "2019-09-02T10:20:25.450769",
     "exception": false,
     "start_time": "2019-09-02T10:20:25.391580",
     "status": "completed"
    },
    "tags": [
     "parameters"
    ]
   },
   "outputs": [],
   "source": [
    "subject_id = 20902040"
   ]
  },
  {
   "cell_type": "code",
   "execution_count": 4,
   "metadata": {
    "papermill": {
     "duration": 2.265821,
     "end_time": "2019-09-02T10:20:27.725148",
     "exception": false,
     "start_time": "2019-09-02T10:20:25.459327",
     "status": "completed"
    },
    "tags": [
     "injected-parameters"
    ]
   },
   "outputs": [],
   "source": [
    "# Parameters\n",
    "subject_id = 20902070\n"
   ]
  },
  {
   "cell_type": "code",
   "execution_count": 5,
   "metadata": {
    "collapsed": false,
    "inputHidden": false,
    "outputHidden": false,
    "papermill": {
     "duration": 0.151524,
     "end_time": "2019-09-02T10:20:27.884404",
     "exception": false,
     "start_time": "2019-09-02T10:20:27.732880",
     "status": "completed"
    },
    "tags": []
   },
   "outputs": [],
   "source": [
    "diff_data_df = pd.read_pickle('lib/fitting_metadata.pkl')"
   ]
  },
  {
   "cell_type": "code",
   "execution_count": 6,
   "metadata": {
    "collapsed": false,
    "inputHidden": false,
    "outputHidden": false,
    "papermill": {
     "duration": 0.073435,
     "end_time": "2019-09-02T10:20:27.967180",
     "exception": false,
     "start_time": "2019-09-02T10:20:27.893745",
     "status": "completed"
    },
    "tags": []
   },
   "outputs": [],
   "source": [
    "def get_losses_by_user(subject_id):\n",
    "  diff_data = diff_data_df.loc[subject_id]\n",
    "  psf = diff_data['psf']\n",
    "  pixel_mask = np.array(diff_data['pixel_mask'])[::-1]\n",
    "  galaxy_data = np.array(diff_data['galaxy_data'])[::-1]\n",
    "  image_size = galaxy_data.shape[0]\n",
    "  size_diff = diff_data['size_diff']\n",
    "  \n",
    "  cls = gu.classifications.query('subject_ids == {}'.format(subject_id))\n",
    "  names = cls.user_name \n",
    "  annotations = cls['annotations'].apply(json.loads)\n",
    "\n",
    "  models = annotations.apply(\n",
    "    parsing.parse_annotation,\n",
    "    size_diff=size_diff\n",
    "  )\n",
    "\n",
    "  tqdm.pandas(\n",
    "    desc='Rendering models'.format(subject_id),\n",
    "    leave=False\n",
    "  )\n",
    "  rendered = models.progress_apply(\n",
    "    rendering.calculate_model,\n",
    "    image_size=image_size,\n",
    "    psf=psf\n",
    "  ).rename('rendered')\n",
    "\n",
    "  tqdm.pandas(\n",
    "    desc='Calculating differences'.format(subject_id),\n",
    "    leave=False\n",
    "  )\n",
    "  losses = rendered.apply(\n",
    "    fitting.loss,\n",
    "    args=(galaxy_data, pixel_mask)\n",
    "  ).rename('loss')\n",
    "  all_losses = pd.Series(\n",
    "    losses.values,\n",
    "    index=names.values\n",
    "  ).rename(subject_id)\n",
    "  best_losses = pd.concat((\n",
    "    all_losses.where(\n",
    "      ~all_losses.duplicated(keep=False)\n",
    "    ).dropna(), # all non-duplicates\n",
    "    all_losses.where(\n",
    "      all_losses.duplicated(keep=False)\n",
    "    ).dropna().groupby(level=0).min() # best value of duplicates\n",
    "  ), axis=0)\n",
    "  return best_losses"
   ]
  },
  {
   "cell_type": "code",
   "execution_count": 7,
   "metadata": {
    "collapsed": false,
    "inputHidden": false,
    "outputHidden": false,
    "papermill": {
     "duration": 10.38268,
     "end_time": "2019-09-02T10:20:38.357638",
     "exception": false,
     "start_time": "2019-09-02T10:20:27.974958",
     "status": "completed"
    },
    "tags": []
   },
   "outputs": [
    {
     "name": "stderr",
     "output_type": "stream",
     "text": [
      "\r",
      "Rendering models:   0%|          | 0/32 [00:00<?, ?it/s]"
     ]
    },
    {
     "name": "stderr",
     "output_type": "stream",
     "text": [
      "\r",
      "Rendering models:   6%|▋         | 2/32 [00:05<01:22,  2.74s/it]"
     ]
    },
    {
     "name": "stderr",
     "output_type": "stream",
     "text": [
      "\r",
      "Rendering models:  12%|█▎        | 4/32 [00:05<00:54,  1.94s/it]"
     ]
    },
    {
     "name": "stderr",
     "output_type": "stream",
     "text": [
      "\r",
      "Rendering models:  19%|█▉        | 6/32 [00:05<00:35,  1.38s/it]"
     ]
    },
    {
     "name": "stderr",
     "output_type": "stream",
     "text": [
      "\r",
      "Rendering models:  22%|██▏       | 7/32 [00:07<00:36,  1.45s/it]"
     ]
    },
    {
     "name": "stderr",
     "output_type": "stream",
     "text": [
      "\r",
      "Rendering models:  28%|██▊       | 9/32 [00:07<00:23,  1.04s/it]"
     ]
    },
    {
     "name": "stderr",
     "output_type": "stream",
     "text": [
      "\r",
      "Rendering models:  31%|███▏      | 10/32 [00:07<00:16,  1.32it/s]"
     ]
    },
    {
     "name": "stderr",
     "output_type": "stream",
     "text": [
      "\r",
      "Rendering models:  38%|███▊      | 12/32 [00:07<00:11,  1.78it/s]"
     ]
    },
    {
     "name": "stderr",
     "output_type": "stream",
     "text": [
      "\r",
      "Rendering models:  41%|████      | 13/32 [00:07<00:08,  2.34it/s]"
     ]
    },
    {
     "name": "stderr",
     "output_type": "stream",
     "text": [
      "\r",
      "Rendering models:  47%|████▋     | 15/32 [00:08<00:05,  3.06it/s]"
     ]
    },
    {
     "name": "stderr",
     "output_type": "stream",
     "text": [
      "\r",
      "Rendering models:  53%|█████▎    | 17/32 [00:08<00:03,  4.01it/s]"
     ]
    },
    {
     "name": "stderr",
     "output_type": "stream",
     "text": [
      "\r",
      "Rendering models:  59%|█████▉    | 19/32 [00:08<00:02,  4.63it/s]"
     ]
    },
    {
     "name": "stderr",
     "output_type": "stream",
     "text": [
      "\r",
      "Rendering models:  62%|██████▎   | 20/32 [00:08<00:02,  4.82it/s]"
     ]
    },
    {
     "name": "stderr",
     "output_type": "stream",
     "text": [
      "\r",
      "Rendering models:  66%|██████▌   | 21/32 [00:08<00:02,  5.46it/s]"
     ]
    },
    {
     "name": "stderr",
     "output_type": "stream",
     "text": [
      "\r",
      "Rendering models:  72%|███████▏  | 23/32 [00:09<00:01,  5.84it/s]"
     ]
    },
    {
     "name": "stderr",
     "output_type": "stream",
     "text": [
      "\r",
      "Rendering models:  81%|████████▏ | 26/32 [00:09<00:00,  6.80it/s]"
     ]
    },
    {
     "name": "stderr",
     "output_type": "stream",
     "text": [
      "\r",
      "Rendering models:  88%|████████▊ | 28/32 [00:09<00:00,  7.61it/s]"
     ]
    },
    {
     "name": "stderr",
     "output_type": "stream",
     "text": [
      "\r",
      "Rendering models:  91%|█████████ | 29/32 [00:09<00:00,  7.03it/s]"
     ]
    },
    {
     "name": "stderr",
     "output_type": "stream",
     "text": [
      "\r",
      "Rendering models:  94%|█████████▍| 30/32 [00:09<00:00,  6.52it/s]"
     ]
    },
    {
     "name": "stderr",
     "output_type": "stream",
     "text": [
      "\r",
      "Rendering models: 100%|██████████| 32/32 [00:10<00:00,  7.70it/s]"
     ]
    },
    {
     "name": "stderr",
     "output_type": "stream",
     "text": [
      "\r",
      "                                                                 "
     ]
    },
    {
     "name": "stderr",
     "output_type": "stream",
     "text": [
      "\r"
     ]
    },
    {
     "data": {
      "text/plain": [
       "equidad1                              0.089831\n",
       "kayleebug2017                         0.002092\n",
       "JessieDawn                            0.207486\n",
       "not-logged-in-621b62a5f3840545c538    0.003850\n",
       "Thedunkmasta                          0.001430\n",
       "BirdLeaf                              0.000454\n",
       "mlang2017                             0.032239\n",
       "EastonH                               0.003268\n",
       "not-logged-in-1bfb5ea67e2d65ad84ff    0.001452\n",
       "Linda_J._Berkel                       0.000193\n",
       "next_ghost                            0.000444\n",
       "Vbgil13                               0.000628\n",
       "Paddy_van_CH                          0.000171\n",
       "Paddy_van_CH                          0.000386\n",
       "JEBala                                0.000284\n",
       "maevepower                            0.002388\n",
       "lsautter                              0.000206\n",
       "not-logged-in-7c0e3b1ae8dc7fbb6b66    0.001140\n",
       "ElisabethB                            0.000154\n",
       "kawaboy                               0.007960\n",
       "jamesrc72                             0.037028\n",
       "Samuel_Liuwe                          0.109429\n",
       "pangeli5                              0.000290\n",
       "peakscience7                          0.005272\n",
       "Ellaaa666                             0.002802\n",
       "not-logged-in-3569dcff4dbd0ee90f50    0.001249\n",
       "arad98                                0.002183\n",
       "Lavadude                              0.002368\n",
       "boguia                                0.001824\n",
       "not-logged-in-c7a59e6c778a7f3aa6aa    0.000251\n",
       "mariafarhat                           0.002466\n",
       "not-logged-in-5f30b2bb9b7f9d49da41    0.002466\n",
       "Name: 20902070, dtype: float64"
      ]
     },
     "execution_count": 7,
     "metadata": {},
     "output_type": "execute_result"
    }
   ],
   "source": [
    "losses = get_losses_by_user(subject_id)\n",
    "losses"
   ]
  },
  {
   "cell_type": "code",
   "execution_count": 8,
   "metadata": {
    "collapsed": false,
    "inputHidden": false,
    "outputHidden": false,
    "papermill": {
     "duration": 0.085857,
     "end_time": "2019-09-02T10:20:38.457860",
     "exception": false,
     "start_time": "2019-09-02T10:20:38.372003",
     "status": "completed"
    },
    "tags": []
   },
   "outputs": [
    {
     "data": {
      "application/scrapbook.scrap.json+json": {
       "data": 20902070,
       "encoder": "json",
       "name": "subject_id",
       "version": 1
      }
     },
     "metadata": {
      "scrapbook": {
       "data": true,
       "display": false,
       "name": "subject_id"
      }
     },
     "output_type": "display_data"
    },
    {
     "data": {
      "application/scrapbook.scrap.json+json": {
       "data": {
        "BirdLeaf": 0.00045406321956590625,
        "EastonH": 0.003267562212890018,
        "ElisabethB": 0.00015425940055185255,
        "Ellaaa666": 0.002801636517126392,
        "JEBala": 0.0002841473521926216,
        "JessieDawn": 0.20748647571940787,
        "Lavadude": 0.0023677167097280053,
        "Linda_J._Berkel": 0.00019342456808907926,
        "Paddy_van_CH": 0.0003863763044465045,
        "Samuel_Liuwe": 0.10942877242404794,
        "Thedunkmasta": 0.0014300162233509195,
        "Vbgil13": 0.0006281464382702121,
        "arad98": 0.002183339294508518,
        "boguia": 0.001823625146954164,
        "equidad1": 0.08983143717224057,
        "jamesrc72": 0.03702789263344496,
        "kawaboy": 0.007960361679578656,
        "kayleebug2017": 0.0020915011930183096,
        "lsautter": 0.0002058896885466161,
        "maevepower": 0.002387780383083405,
        "mariafarhat": 0.0024663239404342525,
        "mlang2017": 0.032238571997893116,
        "next_ghost": 0.00044385716283031236,
        "not-logged-in-1bfb5ea67e2d65ad84ff": 0.001451964769087316,
        "not-logged-in-3569dcff4dbd0ee90f50": 0.001248715354127386,
        "not-logged-in-5f30b2bb9b7f9d49da41": 0.0024663239404342525,
        "not-logged-in-621b62a5f3840545c538": 0.0038495961663485103,
        "not-logged-in-7c0e3b1ae8dc7fbb6b66": 0.001139712336184758,
        "not-logged-in-c7a59e6c778a7f3aa6aa": 0.0002511658919213266,
        "pangeli5": 0.00029021350518334816,
        "peakscience7": 0.005271555267492668
       },
       "encoder": "json",
       "name": "losses",
       "version": 1
      }
     },
     "metadata": {
      "scrapbook": {
       "data": true,
       "display": false,
       "name": "losses"
      }
     },
     "output_type": "display_data"
    }
   ],
   "source": [
    "sb.glue('subject_id', subject_id)\n",
    "sb.glue('losses', losses.to_dict())"
   ]
  }
 ],
 "metadata": {
  "kernel_info": {
   "name": "python3"
  },
  "kernelspec": {
   "display_name": "Python 3",
   "language": "python",
   "name": "python3"
  },
  "language_info": {
   "codemirror_mode": {
    "name": "ipython",
    "version": 3
   },
   "file_extension": ".py",
   "mimetype": "text/x-python",
   "name": "python",
   "nbconvert_exporter": "python",
   "pygments_lexer": "ipython3",
   "version": "3.7.3"
  },
  "nteract": {
   "version": "0.14.3"
  },
  "papermill": {
   "duration": 26.233839,
   "end_time": "2019-09-02T10:20:39.893554",
   "environment_variables": {},
   "exception": null,
   "input_path": "/users/tingard/gzbuilder_results/input_files/volunteer_losses.ipynb",
   "output_path": "/users/tingard/gzbuilder_results/output_files/volunteer_losses/20902070.ipynb",
   "parameters": {
    "subject_id": 20902070
   },
   "start_time": "2019-09-02T10:20:13.659715",
   "version": "1.0.1"
  }
 },
 "nbformat": 4,
 "nbformat_minor": 0
}