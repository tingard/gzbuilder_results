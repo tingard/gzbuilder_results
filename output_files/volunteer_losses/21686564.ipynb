{
 "cells": [
  {
   "cell_type": "markdown",
   "metadata": {
    "papermill": {
     "duration": 0.008709,
     "end_time": "2019-09-02T10:21:01.747707",
     "exception": false,
     "start_time": "2019-09-02T10:21:01.738998",
     "status": "completed"
    },
    "tags": []
   },
   "source": [
    "# Volunteer model loss calculation\n",
    "\n",
    "This notebook takes a `subject_id` and calculates the MSE of each volunteer's model to the galaxy data. These losses are then glued to the notebook for use elsewhere."
   ]
  },
  {
   "cell_type": "code",
   "execution_count": 1,
   "metadata": {
    "collapsed": false,
    "inputHidden": false,
    "outputHidden": false,
    "papermill": {
     "duration": 0.026598,
     "end_time": "2019-09-02T10:21:01.783531",
     "exception": false,
     "start_time": "2019-09-02T10:21:01.756933",
     "status": "completed"
    },
    "tags": []
   },
   "outputs": [],
   "source": [
    "%load_ext autoreload\n",
    "%autoreload 2"
   ]
  },
  {
   "cell_type": "code",
   "execution_count": 2,
   "metadata": {
    "collapsed": false,
    "inputHidden": false,
    "outputHidden": false,
    "papermill": {
     "duration": 4.463803,
     "end_time": "2019-09-02T10:21:06.254772",
     "exception": false,
     "start_time": "2019-09-02T10:21:01.790969",
     "status": "completed"
    },
    "tags": []
   },
   "outputs": [
    {
     "name": "stderr",
     "output_type": "stream",
     "text": [
      "/opt/apps/pkgs/anaconda3/2019.03/intel64/lib/python3.7/site-packages/dask/config.py:168: YAMLLoadWarning: calling yaml.load() without Loader=... is deprecated, as the default Loader is unsafe. Please read https://msg.pyyaml.org/load for full details.\n",
      "  data = yaml.load(f.read()) or {}\n"
     ]
    }
   ],
   "source": [
    "import json\n",
    "import numpy as np\n",
    "import pandas as pd\n",
    "from tqdm import tqdm\n",
    "import matplotlib.pyplot as plt\n",
    "import seaborn as sns\n",
    "from gzbuilder_analysis import parsing, rendering, fitting\n",
    "import lib.galaxy_utilities as gu\n",
    "import scrapbook as sb"
   ]
  },
  {
   "cell_type": "code",
   "execution_count": 3,
   "metadata": {
    "collapsed": false,
    "inputHidden": false,
    "outputHidden": false,
    "papermill": {
     "duration": 0.048684,
     "end_time": "2019-09-02T10:21:06.313506",
     "exception": false,
     "start_time": "2019-09-02T10:21:06.264822",
     "status": "completed"
    },
    "tags": [
     "parameters"
    ]
   },
   "outputs": [],
   "source": [
    "subject_id = 20902040"
   ]
  },
  {
   "cell_type": "code",
   "execution_count": 4,
   "metadata": {
    "papermill": {
     "duration": 0.044808,
     "end_time": "2019-09-02T10:21:06.365856",
     "exception": false,
     "start_time": "2019-09-02T10:21:06.321048",
     "status": "completed"
    },
    "tags": [
     "injected-parameters"
    ]
   },
   "outputs": [],
   "source": [
    "# Parameters\n",
    "subject_id = 21686564\n"
   ]
  },
  {
   "cell_type": "code",
   "execution_count": 5,
   "metadata": {
    "collapsed": false,
    "inputHidden": false,
    "outputHidden": false,
    "papermill": {
     "duration": 0.195714,
     "end_time": "2019-09-02T10:21:06.569523",
     "exception": false,
     "start_time": "2019-09-02T10:21:06.373809",
     "status": "completed"
    },
    "tags": []
   },
   "outputs": [],
   "source": [
    "diff_data_df = pd.read_pickle('lib/fitting_metadata.pkl')"
   ]
  },
  {
   "cell_type": "code",
   "execution_count": 6,
   "metadata": {
    "collapsed": false,
    "inputHidden": false,
    "outputHidden": false,
    "papermill": {
     "duration": 0.050519,
     "end_time": "2019-09-02T10:21:06.628091",
     "exception": false,
     "start_time": "2019-09-02T10:21:06.577572",
     "status": "completed"
    },
    "tags": []
   },
   "outputs": [],
   "source": [
    "def get_losses_by_user(subject_id):\n",
    "  diff_data = diff_data_df.loc[subject_id]\n",
    "  psf = diff_data['psf']\n",
    "  pixel_mask = np.array(diff_data['pixel_mask'])[::-1]\n",
    "  galaxy_data = np.array(diff_data['galaxy_data'])[::-1]\n",
    "  image_size = galaxy_data.shape[0]\n",
    "  size_diff = diff_data['size_diff']\n",
    "  \n",
    "  cls = gu.classifications.query('subject_ids == {}'.format(subject_id))\n",
    "  names = cls.user_name \n",
    "  annotations = cls['annotations'].apply(json.loads)\n",
    "\n",
    "  models = annotations.apply(\n",
    "    parsing.parse_annotation,\n",
    "    size_diff=size_diff\n",
    "  )\n",
    "\n",
    "  tqdm.pandas(\n",
    "    desc='Rendering models'.format(subject_id),\n",
    "    leave=False\n",
    "  )\n",
    "  rendered = models.progress_apply(\n",
    "    rendering.calculate_model,\n",
    "    image_size=image_size,\n",
    "    psf=psf\n",
    "  ).rename('rendered')\n",
    "\n",
    "  tqdm.pandas(\n",
    "    desc='Calculating differences'.format(subject_id),\n",
    "    leave=False\n",
    "  )\n",
    "  losses = rendered.apply(\n",
    "    fitting.loss,\n",
    "    args=(galaxy_data, pixel_mask)\n",
    "  ).rename('loss')\n",
    "  all_losses = pd.Series(\n",
    "    losses.values,\n",
    "    index=names.values\n",
    "  ).rename(subject_id)\n",
    "  best_losses = pd.concat((\n",
    "    all_losses.where(\n",
    "      ~all_losses.duplicated(keep=False)\n",
    "    ).dropna(), # all non-duplicates\n",
    "    all_losses.where(\n",
    "      all_losses.duplicated(keep=False)\n",
    "    ).dropna().groupby(level=0).min() # best value of duplicates\n",
    "  ), axis=0)\n",
    "  return best_losses"
   ]
  },
  {
   "cell_type": "code",
   "execution_count": 7,
   "metadata": {
    "collapsed": false,
    "inputHidden": false,
    "outputHidden": false,
    "papermill": {
     "duration": 9.023029,
     "end_time": "2019-09-02T10:21:15.659749",
     "exception": false,
     "start_time": "2019-09-02T10:21:06.636720",
     "status": "completed"
    },
    "tags": []
   },
   "outputs": [
    {
     "name": "stderr",
     "output_type": "stream",
     "text": [
      "\r",
      "Rendering models:   0%|          | 0/30 [00:00<?, ?it/s]"
     ]
    },
    {
     "name": "stderr",
     "output_type": "stream",
     "text": [
      "\r",
      "Rendering models:   7%|▋         | 2/30 [00:01<00:25,  1.11it/s]"
     ]
    },
    {
     "name": "stderr",
     "output_type": "stream",
     "text": [
      "\r",
      "Rendering models:  10%|█         | 3/30 [00:06<00:57,  2.13s/it]"
     ]
    },
    {
     "name": "stderr",
     "output_type": "stream",
     "text": [
      "\r",
      "Rendering models:  13%|█▎        | 4/30 [00:06<00:39,  1.53s/it]"
     ]
    },
    {
     "name": "stderr",
     "output_type": "stream",
     "text": [
      "\r",
      "Rendering models:  17%|█▋        | 5/30 [00:07<00:27,  1.11s/it]"
     ]
    },
    {
     "name": "stderr",
     "output_type": "stream",
     "text": [
      "\r",
      "Rendering models:  23%|██▎       | 7/30 [00:07<00:18,  1.25it/s]"
     ]
    },
    {
     "name": "stderr",
     "output_type": "stream",
     "text": [
      "\r",
      "Rendering models:  33%|███▎      | 10/30 [00:07<00:11,  1.74it/s]"
     ]
    },
    {
     "name": "stderr",
     "output_type": "stream",
     "text": [
      "\r",
      "Rendering models:  40%|████      | 12/30 [00:07<00:07,  2.36it/s]"
     ]
    },
    {
     "name": "stderr",
     "output_type": "stream",
     "text": [
      "\r",
      "Rendering models:  47%|████▋     | 14/30 [00:07<00:05,  3.05it/s]"
     ]
    },
    {
     "name": "stderr",
     "output_type": "stream",
     "text": [
      "\r",
      "Rendering models:  57%|█████▋    | 17/30 [00:07<00:03,  4.08it/s]"
     ]
    },
    {
     "name": "stderr",
     "output_type": "stream",
     "text": [
      "\r",
      "Rendering models:  63%|██████▎   | 19/30 [00:08<00:02,  5.17it/s]"
     ]
    },
    {
     "name": "stderr",
     "output_type": "stream",
     "text": [
      "\r",
      "Rendering models:  73%|███████▎  | 22/30 [00:08<00:01,  6.65it/s]"
     ]
    },
    {
     "name": "stderr",
     "output_type": "stream",
     "text": [
      "\r",
      "Rendering models:  80%|████████  | 24/30 [00:08<00:00,  7.33it/s]"
     ]
    },
    {
     "name": "stderr",
     "output_type": "stream",
     "text": [
      "\r",
      "Rendering models:  87%|████████▋ | 26/30 [00:08<00:00,  8.11it/s]"
     ]
    },
    {
     "name": "stderr",
     "output_type": "stream",
     "text": [
      "\r",
      "Rendering models:  93%|█████████▎| 28/30 [00:08<00:00,  9.18it/s]"
     ]
    },
    {
     "name": "stderr",
     "output_type": "stream",
     "text": [
      "\r",
      "                                                                 "
     ]
    },
    {
     "name": "stderr",
     "output_type": "stream",
     "text": [
      "\r"
     ]
    },
    {
     "data": {
      "text/plain": [
       "CThomas                               0.051653\n",
       "not-logged-in-f7e2260ed4a9517a3e4a    0.001501\n",
       "cschwefl                              0.072509\n",
       "not-logged-in-975ec4b89e5ce0be836b    0.000297\n",
       "yooman12                              0.000350\n",
       "Camelron                              0.000378\n",
       "ellianderjoy                          0.006825\n",
       "djswanso                              0.000502\n",
       "not-logged-in-83c90d58182a261c0405    0.002795\n",
       "Brandan                               0.001725\n",
       "not-logged-in-5ba79dfc2e6bd33509ae    0.042015\n",
       "Jessica_Korkmaz                       0.010623\n",
       "not-logged-in-5f30b2bb9b7f9d49da41    0.005698\n",
       "not-logged-in-5f30b2bb9b7f9d49da41    0.005085\n",
       "raisamaduro                           0.000904\n",
       "not-logged-in-09330e0b15263888ee9d    0.001776\n",
       "tullmejs                              0.000475\n",
       "DarioB                                0.000787\n",
       "not-logged-in-24db7619b192ada33b8d    0.053061\n",
       "JulieHedglin                          0.000399\n",
       "Saharisunshine                        0.001921\n",
       "RaulE                                 0.001185\n",
       "acapirala                             0.095537\n",
       "pangeli5                              0.000322\n",
       "Lavadude                              0.014610\n",
       "ts135992                              0.000362\n",
       "lgonzalez62                           0.000650\n",
       "W7252291                              0.004158\n",
       "mariafarhat                           0.004158\n",
       "not-logged-in-951cd9f9b9ca0ab1c4a4    0.004158\n",
       "Name: 21686564, dtype: float64"
      ]
     },
     "execution_count": 7,
     "metadata": {},
     "output_type": "execute_result"
    }
   ],
   "source": [
    "losses = get_losses_by_user(subject_id)\n",
    "losses"
   ]
  },
  {
   "cell_type": "code",
   "execution_count": 8,
   "metadata": {
    "collapsed": false,
    "inputHidden": false,
    "outputHidden": false,
    "papermill": {
     "duration": 0.074192,
     "end_time": "2019-09-02T10:21:15.747295",
     "exception": false,
     "start_time": "2019-09-02T10:21:15.673103",
     "status": "completed"
    },
    "tags": []
   },
   "outputs": [
    {
     "data": {
      "application/scrapbook.scrap.json+json": {
       "data": 21686564,
       "encoder": "json",
       "name": "subject_id",
       "version": 1
      }
     },
     "metadata": {
      "scrapbook": {
       "data": true,
       "display": false,
       "name": "subject_id"
      }
     },
     "output_type": "display_data"
    },
    {
     "data": {
      "application/scrapbook.scrap.json+json": {
       "data": {
        "Brandan": 0.0017252314327629555,
        "CThomas": 0.051653163033418735,
        "Camelron": 0.0003780220742118346,
        "DarioB": 0.0007865369025938268,
        "Jessica_Korkmaz": 0.010623031651984593,
        "JulieHedglin": 0.0003988160374853122,
        "Lavadude": 0.014609572739651,
        "RaulE": 0.0011850362450884903,
        "Saharisunshine": 0.0019208885183517328,
        "W7252291": 0.004158223733588051,
        "acapirala": 0.09553657687997075,
        "cschwefl": 0.07250895722984456,
        "djswanso": 0.0005019920157706003,
        "ellianderjoy": 0.006825125286560884,
        "lgonzalez62": 0.0006498447396914629,
        "mariafarhat": 0.004158223733588051,
        "not-logged-in-09330e0b15263888ee9d": 0.0017762930962415514,
        "not-logged-in-24db7619b192ada33b8d": 0.053061251241180475,
        "not-logged-in-5ba79dfc2e6bd33509ae": 0.04201518073859031,
        "not-logged-in-5f30b2bb9b7f9d49da41": 0.005084724508674029,
        "not-logged-in-83c90d58182a261c0405": 0.002795416523715806,
        "not-logged-in-951cd9f9b9ca0ab1c4a4": 0.004158223733588051,
        "not-logged-in-975ec4b89e5ce0be836b": 0.0002968431075848714,
        "not-logged-in-f7e2260ed4a9517a3e4a": 0.0015011177378104119,
        "pangeli5": 0.000321577460369515,
        "raisamaduro": 0.0009040990826397493,
        "ts135992": 0.00036224620398815334,
        "tullmejs": 0.0004751153934144908,
        "yooman12": 0.0003504970385950818
       },
       "encoder": "json",
       "name": "losses",
       "version": 1
      }
     },
     "metadata": {
      "scrapbook": {
       "data": true,
       "display": false,
       "name": "losses"
      }
     },
     "output_type": "display_data"
    }
   ],
   "source": [
    "sb.glue('subject_id', subject_id)\n",
    "sb.glue('losses', losses.to_dict())"
   ]
  }
 ],
 "metadata": {
  "kernel_info": {
   "name": "python3"
  },
  "kernelspec": {
   "display_name": "Python 3",
   "language": "python",
   "name": "python3"
  },
  "language_info": {
   "codemirror_mode": {
    "name": "ipython",
    "version": 3
   },
   "file_extension": ".py",
   "mimetype": "text/x-python",
   "name": "python",
   "nbconvert_exporter": "python",
   "pygments_lexer": "ipython3",
   "version": "3.7.3"
  },
  "nteract": {
   "version": "0.14.3"
  },
  "papermill": {
   "duration": 17.002962,
   "end_time": "2019-09-02T10:21:17.053663",
   "environment_variables": {},
   "exception": null,
   "input_path": "/users/tingard/gzbuilder_results/input_files/volunteer_losses.ipynb",
   "output_path": "/users/tingard/gzbuilder_results/output_files/volunteer_losses/21686564.ipynb",
   "parameters": {
    "subject_id": 21686564
   },
   "start_time": "2019-09-02T10:21:00.050701",
   "version": "1.0.1"
  }
 },
 "nbformat": 4,
 "nbformat_minor": 0
}