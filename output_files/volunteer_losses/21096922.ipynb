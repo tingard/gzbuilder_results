{
 "cells": [
  {
   "cell_type": "markdown",
   "metadata": {
    "papermill": {
     "duration": 0.008417,
     "end_time": "2019-09-02T10:20:40.986128",
     "exception": false,
     "start_time": "2019-09-02T10:20:40.977711",
     "status": "completed"
    },
    "tags": []
   },
   "source": [
    "# Volunteer model loss calculation\n",
    "\n",
    "This notebook takes a `subject_id` and calculates the MSE of each volunteer's model to the galaxy data. These losses are then glued to the notebook for use elsewhere."
   ]
  },
  {
   "cell_type": "code",
   "execution_count": 1,
   "metadata": {
    "collapsed": false,
    "inputHidden": false,
    "outputHidden": false,
    "papermill": {
     "duration": 0.024645,
     "end_time": "2019-09-02T10:20:41.018539",
     "exception": false,
     "start_time": "2019-09-02T10:20:40.993894",
     "status": "completed"
    },
    "tags": []
   },
   "outputs": [],
   "source": [
    "%load_ext autoreload\n",
    "%autoreload 2"
   ]
  },
  {
   "cell_type": "code",
   "execution_count": 2,
   "metadata": {
    "collapsed": false,
    "inputHidden": false,
    "outputHidden": false,
    "papermill": {
     "duration": 4.412136,
     "end_time": "2019-09-02T10:20:45.440106",
     "exception": false,
     "start_time": "2019-09-02T10:20:41.027970",
     "status": "completed"
    },
    "tags": []
   },
   "outputs": [
    {
     "name": "stderr",
     "output_type": "stream",
     "text": [
      "/opt/apps/pkgs/anaconda3/2019.03/intel64/lib/python3.7/site-packages/dask/config.py:168: YAMLLoadWarning: calling yaml.load() without Loader=... is deprecated, as the default Loader is unsafe. Please read https://msg.pyyaml.org/load for full details.\n",
      "  data = yaml.load(f.read()) or {}\n"
     ]
    }
   ],
   "source": [
    "import json\n",
    "import numpy as np\n",
    "import pandas as pd\n",
    "from tqdm import tqdm\n",
    "import matplotlib.pyplot as plt\n",
    "import seaborn as sns\n",
    "from gzbuilder_analysis import parsing, rendering, fitting\n",
    "import lib.galaxy_utilities as gu\n",
    "import scrapbook as sb"
   ]
  },
  {
   "cell_type": "code",
   "execution_count": 3,
   "metadata": {
    "collapsed": false,
    "inputHidden": false,
    "outputHidden": false,
    "papermill": {
     "duration": 0.051355,
     "end_time": "2019-09-02T10:20:45.501489",
     "exception": false,
     "start_time": "2019-09-02T10:20:45.450134",
     "status": "completed"
    },
    "tags": [
     "parameters"
    ]
   },
   "outputs": [],
   "source": [
    "subject_id = 20902040"
   ]
  },
  {
   "cell_type": "code",
   "execution_count": 4,
   "metadata": {
    "papermill": {
     "duration": 0.346178,
     "end_time": "2019-09-02T10:20:45.856121",
     "exception": false,
     "start_time": "2019-09-02T10:20:45.509943",
     "status": "completed"
    },
    "tags": [
     "injected-parameters"
    ]
   },
   "outputs": [],
   "source": [
    "# Parameters\n",
    "subject_id = 21096922\n"
   ]
  },
  {
   "cell_type": "code",
   "execution_count": 5,
   "metadata": {
    "collapsed": false,
    "inputHidden": false,
    "outputHidden": false,
    "papermill": {
     "duration": 0.299085,
     "end_time": "2019-09-02T10:20:46.163618",
     "exception": false,
     "start_time": "2019-09-02T10:20:45.864533",
     "status": "completed"
    },
    "tags": []
   },
   "outputs": [],
   "source": [
    "diff_data_df = pd.read_pickle('lib/fitting_metadata.pkl')"
   ]
  },
  {
   "cell_type": "code",
   "execution_count": 6,
   "metadata": {
    "collapsed": false,
    "inputHidden": false,
    "outputHidden": false,
    "papermill": {
     "duration": 0.05112,
     "end_time": "2019-09-02T10:20:46.222936",
     "exception": false,
     "start_time": "2019-09-02T10:20:46.171816",
     "status": "completed"
    },
    "tags": []
   },
   "outputs": [],
   "source": [
    "def get_losses_by_user(subject_id):\n",
    "  diff_data = diff_data_df.loc[subject_id]\n",
    "  psf = diff_data['psf']\n",
    "  pixel_mask = np.array(diff_data['pixel_mask'])[::-1]\n",
    "  galaxy_data = np.array(diff_data['galaxy_data'])[::-1]\n",
    "  image_size = galaxy_data.shape[0]\n",
    "  size_diff = diff_data['size_diff']\n",
    "  \n",
    "  cls = gu.classifications.query('subject_ids == {}'.format(subject_id))\n",
    "  names = cls.user_name \n",
    "  annotations = cls['annotations'].apply(json.loads)\n",
    "\n",
    "  models = annotations.apply(\n",
    "    parsing.parse_annotation,\n",
    "    size_diff=size_diff\n",
    "  )\n",
    "\n",
    "  tqdm.pandas(\n",
    "    desc='Rendering models'.format(subject_id),\n",
    "    leave=False\n",
    "  )\n",
    "  rendered = models.progress_apply(\n",
    "    rendering.calculate_model,\n",
    "    image_size=image_size,\n",
    "    psf=psf\n",
    "  ).rename('rendered')\n",
    "\n",
    "  tqdm.pandas(\n",
    "    desc='Calculating differences'.format(subject_id),\n",
    "    leave=False\n",
    "  )\n",
    "  losses = rendered.apply(\n",
    "    fitting.loss,\n",
    "    args=(galaxy_data, pixel_mask)\n",
    "  ).rename('loss')\n",
    "  all_losses = pd.Series(\n",
    "    losses.values,\n",
    "    index=names.values\n",
    "  ).rename(subject_id)\n",
    "  best_losses = pd.concat((\n",
    "    all_losses.where(\n",
    "      ~all_losses.duplicated(keep=False)\n",
    "    ).dropna(), # all non-duplicates\n",
    "    all_losses.where(\n",
    "      all_losses.duplicated(keep=False)\n",
    "    ).dropna().groupby(level=0).min() # best value of duplicates\n",
    "  ), axis=0)\n",
    "  return best_losses"
   ]
  },
  {
   "cell_type": "code",
   "execution_count": 7,
   "metadata": {
    "collapsed": false,
    "inputHidden": false,
    "outputHidden": false,
    "papermill": {
     "duration": 11.314206,
     "end_time": "2019-09-02T10:20:57.544841",
     "exception": false,
     "start_time": "2019-09-02T10:20:46.230635",
     "status": "completed"
    },
    "tags": []
   },
   "outputs": [
    {
     "name": "stderr",
     "output_type": "stream",
     "text": [
      "\r",
      "Rendering models:   0%|          | 0/32 [00:00<?, ?it/s]"
     ]
    },
    {
     "name": "stderr",
     "output_type": "stream",
     "text": [
      "\r",
      "Rendering models:   6%|▋         | 2/32 [00:02<00:42,  1.41s/it]"
     ]
    },
    {
     "name": "stderr",
     "output_type": "stream",
     "text": [
      "\r",
      "Rendering models:   9%|▉         | 3/32 [00:05<00:51,  1.77s/it]"
     ]
    },
    {
     "name": "stderr",
     "output_type": "stream",
     "text": [
      "\r",
      "Rendering models:  12%|█▎        | 4/32 [00:05<00:36,  1.30s/it]"
     ]
    },
    {
     "name": "stderr",
     "output_type": "stream",
     "text": [
      "\r",
      "Rendering models:  16%|█▌        | 5/32 [00:07<00:37,  1.38s/it]"
     ]
    },
    {
     "name": "stderr",
     "output_type": "stream",
     "text": [
      "\r",
      "Rendering models:  19%|█▉        | 6/32 [00:07<00:26,  1.01s/it]"
     ]
    },
    {
     "name": "stderr",
     "output_type": "stream",
     "text": [
      "\r",
      "Rendering models:  22%|██▏       | 7/32 [00:07<00:18,  1.34it/s]"
     ]
    },
    {
     "name": "stderr",
     "output_type": "stream",
     "text": [
      "\r",
      "Rendering models:  25%|██▌       | 8/32 [00:07<00:13,  1.73it/s]"
     ]
    },
    {
     "name": "stderr",
     "output_type": "stream",
     "text": [
      "\r",
      "Rendering models:  28%|██▊       | 9/32 [00:07<00:10,  2.16it/s]"
     ]
    },
    {
     "name": "stderr",
     "output_type": "stream",
     "text": [
      "\r",
      "Rendering models:  31%|███▏      | 10/32 [00:08<00:08,  2.71it/s]"
     ]
    },
    {
     "name": "stderr",
     "output_type": "stream",
     "text": [
      "\r",
      "Rendering models:  34%|███▍      | 11/32 [00:08<00:06,  3.41it/s]"
     ]
    },
    {
     "name": "stderr",
     "output_type": "stream",
     "text": [
      "\r",
      "Rendering models:  41%|████      | 13/32 [00:08<00:04,  4.31it/s]"
     ]
    },
    {
     "name": "stderr",
     "output_type": "stream",
     "text": [
      "\r",
      "Rendering models:  44%|████▍     | 14/32 [00:08<00:03,  4.96it/s]"
     ]
    },
    {
     "name": "stderr",
     "output_type": "stream",
     "text": [
      "\r",
      "Rendering models:  47%|████▋     | 15/32 [00:08<00:03,  5.09it/s]"
     ]
    },
    {
     "name": "stderr",
     "output_type": "stream",
     "text": [
      "\r",
      "Rendering models:  50%|█████     | 16/32 [00:08<00:03,  5.04it/s]"
     ]
    },
    {
     "name": "stderr",
     "output_type": "stream",
     "text": [
      "\r",
      "Rendering models:  53%|█████▎    | 17/32 [00:08<00:02,  5.18it/s]"
     ]
    },
    {
     "name": "stderr",
     "output_type": "stream",
     "text": [
      "\r",
      "Rendering models:  56%|█████▋    | 18/32 [00:09<00:02,  5.33it/s]"
     ]
    },
    {
     "name": "stderr",
     "output_type": "stream",
     "text": [
      "\r",
      "Rendering models:  62%|██████▎   | 20/32 [00:09<00:01,  6.04it/s]"
     ]
    },
    {
     "name": "stderr",
     "output_type": "stream",
     "text": [
      "\r",
      "Rendering models:  66%|██████▌   | 21/32 [00:09<00:01,  5.94it/s]"
     ]
    },
    {
     "name": "stderr",
     "output_type": "stream",
     "text": [
      "\r",
      "Rendering models:  69%|██████▉   | 22/32 [00:09<00:01,  6.52it/s]"
     ]
    },
    {
     "name": "stderr",
     "output_type": "stream",
     "text": [
      "\r",
      "Rendering models:  72%|███████▏  | 23/32 [00:09<00:01,  6.49it/s]"
     ]
    },
    {
     "name": "stderr",
     "output_type": "stream",
     "text": [
      "\r",
      "Rendering models:  78%|███████▊  | 25/32 [00:09<00:00,  7.73it/s]"
     ]
    },
    {
     "name": "stderr",
     "output_type": "stream",
     "text": [
      "\r",
      "Rendering models:  81%|████████▏ | 26/32 [00:10<00:00,  7.10it/s]"
     ]
    },
    {
     "name": "stderr",
     "output_type": "stream",
     "text": [
      "\r",
      "Rendering models:  88%|████████▊ | 28/32 [00:10<00:00,  7.88it/s]"
     ]
    },
    {
     "name": "stderr",
     "output_type": "stream",
     "text": [
      "\r",
      "Rendering models:  91%|█████████ | 29/32 [00:10<00:00,  7.15it/s]"
     ]
    },
    {
     "name": "stderr",
     "output_type": "stream",
     "text": [
      "\r",
      "Rendering models:  94%|█████████▍| 30/32 [00:10<00:00,  7.46it/s]"
     ]
    },
    {
     "name": "stderr",
     "output_type": "stream",
     "text": [
      "\r",
      "Rendering models:  97%|█████████▋| 31/32 [00:10<00:00,  6.26it/s]"
     ]
    },
    {
     "name": "stderr",
     "output_type": "stream",
     "text": [
      "\r",
      "Rendering models: 100%|██████████| 32/32 [00:10<00:00,  6.56it/s]"
     ]
    },
    {
     "name": "stderr",
     "output_type": "stream",
     "text": [
      "\r",
      "                                                                 "
     ]
    },
    {
     "name": "stderr",
     "output_type": "stream",
     "text": [
      "\r"
     ]
    },
    {
     "data": {
      "text/plain": [
       "not-logged-in-3b0b929f4475fd276561    0.001806\n",
       "Linda_J._Berkel                       0.000135\n",
       "DrJackie                              0.000278\n",
       "Jnursssmith5263                       0.000672\n",
       "not-logged-in-7d01fb53d3c3d3999bca    0.000102\n",
       "Jonas_Cross                           0.000139\n",
       "awright5                              0.002178\n",
       "not-logged-in-42aeec5653762437f6b7    0.000863\n",
       "thiagoxxxx                            0.000112\n",
       "TSM_Fatboy                            0.030440\n",
       "MartyMcflurry                         0.004848\n",
       "not-logged-in-2908c5b97527b9f7279b    0.000753\n",
       "Galaxy-one                            0.000120\n",
       "MakenzieHoward                        0.032796\n",
       "sn346808                              0.036453\n",
       "sn346808                              0.031098\n",
       "sn346808                              0.008754\n",
       "sn345012                              0.002665\n",
       "ToriPizza                             0.000379\n",
       "LeeJoseph                             0.009562\n",
       "koshmarus                             0.000099\n",
       "puic                                  0.000155\n",
       "not-logged-in-031a28f6a61337278d4a    0.050707\n",
       "fbaron                                0.000268\n",
       "not-logged-in-b6c36b5cc960deaa5422    0.000244\n",
       "not-logged-in-ca0e5c102eb9a9d65ed3    0.050504\n",
       "not-logged-in-e23c11d8538d9848a6a5    0.002657\n",
       "umtuck1                               0.000440\n",
       "MFinCatfish                           0.000963\n",
       "ElisabethB                            0.000126\n",
       "not-logged-in-085876c74dd331f00baa    0.003589\n",
       "SuchANerd                             0.000665\n",
       "Name: 21096922, dtype: float64"
      ]
     },
     "execution_count": 7,
     "metadata": {},
     "output_type": "execute_result"
    }
   ],
   "source": [
    "losses = get_losses_by_user(subject_id)\n",
    "losses"
   ]
  },
  {
   "cell_type": "code",
   "execution_count": 8,
   "metadata": {
    "collapsed": false,
    "inputHidden": false,
    "outputHidden": false,
    "papermill": {
     "duration": 0.070021,
     "end_time": "2019-09-02T10:20:57.630455",
     "exception": false,
     "start_time": "2019-09-02T10:20:57.560434",
     "status": "completed"
    },
    "tags": []
   },
   "outputs": [
    {
     "data": {
      "application/scrapbook.scrap.json+json": {
       "data": 21096922,
       "encoder": "json",
       "name": "subject_id",
       "version": 1
      }
     },
     "metadata": {
      "scrapbook": {
       "data": true,
       "display": false,
       "name": "subject_id"
      }
     },
     "output_type": "display_data"
    },
    {
     "data": {
      "application/scrapbook.scrap.json+json": {
       "data": {
        "DrJackie": 0.0002775562810050035,
        "ElisabethB": 0.0001256393631449136,
        "Galaxy-one": 0.00012033953553532845,
        "Jnursssmith5263": 0.0006724585507290156,
        "Jonas_Cross": 0.00013851412975306122,
        "LeeJoseph": 0.009562355900998736,
        "Linda_J._Berkel": 0.00013545968408006564,
        "MFinCatfish": 0.0009629113280984551,
        "MakenzieHoward": 0.03279643976574138,
        "MartyMcflurry": 0.004847822038699238,
        "SuchANerd": 0.0006654659896581796,
        "TSM_Fatboy": 0.030440172327298513,
        "ToriPizza": 0.0003793609572858883,
        "awright5": 0.0021780127666403224,
        "fbaron": 0.0002678026349106422,
        "koshmarus": 9.870807643009228e-05,
        "not-logged-in-031a28f6a61337278d4a": 0.05070732443863177,
        "not-logged-in-085876c74dd331f00baa": 0.003588521347309335,
        "not-logged-in-2908c5b97527b9f7279b": 0.0007530803871373813,
        "not-logged-in-3b0b929f4475fd276561": 0.0018055934583092216,
        "not-logged-in-42aeec5653762437f6b7": 0.0008627733514267861,
        "not-logged-in-7d01fb53d3c3d3999bca": 0.00010246053926501103,
        "not-logged-in-b6c36b5cc960deaa5422": 0.0002437544995527806,
        "not-logged-in-ca0e5c102eb9a9d65ed3": 0.05050352605026653,
        "not-logged-in-e23c11d8538d9848a6a5": 0.0026567242310581423,
        "puic": 0.00015501255094842333,
        "sn345012": 0.0026652088976549795,
        "sn346808": 0.008753610793760977,
        "thiagoxxxx": 0.00011191825567084728,
        "umtuck1": 0.00044005014863924576
       },
       "encoder": "json",
       "name": "losses",
       "version": 1
      }
     },
     "metadata": {
      "scrapbook": {
       "data": true,
       "display": false,
       "name": "losses"
      }
     },
     "output_type": "display_data"
    }
   ],
   "source": [
    "sb.glue('subject_id', subject_id)\n",
    "sb.glue('losses', losses.to_dict())"
   ]
  }
 ],
 "metadata": {
  "kernel_info": {
   "name": "python3"
  },
  "kernelspec": {
   "display_name": "Python 3",
   "language": "python",
   "name": "python3"
  },
  "language_info": {
   "codemirror_mode": {
    "name": "ipython",
    "version": 3
   },
   "file_extension": ".py",
   "mimetype": "text/x-python",
   "name": "python",
   "nbconvert_exporter": "python",
   "pygments_lexer": "ipython3",
   "version": "3.7.3"
  },
  "nteract": {
   "version": "0.14.3"
  },
  "papermill": {
   "duration": 20.011827,
   "end_time": "2019-09-02T10:20:59.316021",
   "environment_variables": {},
   "exception": null,
   "input_path": "/users/tingard/gzbuilder_results/input_files/volunteer_losses.ipynb",
   "output_path": "/users/tingard/gzbuilder_results/output_files/volunteer_losses/21096922.ipynb",
   "parameters": {
    "subject_id": 21096922
   },
   "start_time": "2019-09-02T10:20:39.304194",
   "version": "1.0.1"
  }
 },
 "nbformat": 4,
 "nbformat_minor": 0
}