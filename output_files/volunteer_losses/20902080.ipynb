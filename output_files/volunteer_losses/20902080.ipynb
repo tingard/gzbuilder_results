{
 "cells": [
  {
   "cell_type": "markdown",
   "metadata": {
    "papermill": {
     "duration": 0.007886,
     "end_time": "2019-09-02T10:20:15.470484",
     "exception": false,
     "start_time": "2019-09-02T10:20:15.462598",
     "status": "completed"
    },
    "tags": []
   },
   "source": [
    "# Volunteer model loss calculation\n",
    "\n",
    "This notebook takes a `subject_id` and calculates the MSE of each volunteer's model to the galaxy data. These losses are then glued to the notebook for use elsewhere."
   ]
  },
  {
   "cell_type": "code",
   "execution_count": 1,
   "metadata": {
    "collapsed": false,
    "inputHidden": false,
    "outputHidden": false,
    "papermill": {
     "duration": 0.057715,
     "end_time": "2019-09-02T10:20:15.537609",
     "exception": false,
     "start_time": "2019-09-02T10:20:15.479894",
     "status": "completed"
    },
    "tags": []
   },
   "outputs": [],
   "source": [
    "%load_ext autoreload\n",
    "%autoreload 2"
   ]
  },
  {
   "cell_type": "code",
   "execution_count": 2,
   "metadata": {
    "collapsed": false,
    "inputHidden": false,
    "outputHidden": false,
    "papermill": {
     "duration": 7.389735,
     "end_time": "2019-09-02T10:20:22.935155",
     "exception": false,
     "start_time": "2019-09-02T10:20:15.545420",
     "status": "completed"
    },
    "tags": []
   },
   "outputs": [
    {
     "name": "stderr",
     "output_type": "stream",
     "text": [
      "/opt/apps/pkgs/anaconda3/2019.03/intel64/lib/python3.7/site-packages/dask/config.py:168: YAMLLoadWarning: calling yaml.load() without Loader=... is deprecated, as the default Loader is unsafe. Please read https://msg.pyyaml.org/load for full details.\n",
      "  data = yaml.load(f.read()) or {}\n"
     ]
    }
   ],
   "source": [
    "import json\n",
    "import numpy as np\n",
    "import pandas as pd\n",
    "from tqdm import tqdm\n",
    "import matplotlib.pyplot as plt\n",
    "import seaborn as sns\n",
    "from gzbuilder_analysis import parsing, rendering, fitting\n",
    "import lib.galaxy_utilities as gu\n",
    "import scrapbook as sb"
   ]
  },
  {
   "cell_type": "code",
   "execution_count": 3,
   "metadata": {
    "collapsed": false,
    "inputHidden": false,
    "outputHidden": false,
    "papermill": {
     "duration": 0.044981,
     "end_time": "2019-09-02T10:20:22.989246",
     "exception": false,
     "start_time": "2019-09-02T10:20:22.944265",
     "status": "completed"
    },
    "tags": [
     "parameters"
    ]
   },
   "outputs": [],
   "source": [
    "subject_id = 20902040"
   ]
  },
  {
   "cell_type": "code",
   "execution_count": 4,
   "metadata": {
    "papermill": {
     "duration": 3.383491,
     "end_time": "2019-09-02T10:20:26.383765",
     "exception": false,
     "start_time": "2019-09-02T10:20:23.000274",
     "status": "completed"
    },
    "tags": [
     "injected-parameters"
    ]
   },
   "outputs": [],
   "source": [
    "# Parameters\n",
    "subject_id = 20902080\n"
   ]
  },
  {
   "cell_type": "code",
   "execution_count": 5,
   "metadata": {
    "collapsed": false,
    "inputHidden": false,
    "outputHidden": false,
    "papermill": {
     "duration": 0.153943,
     "end_time": "2019-09-02T10:20:26.545937",
     "exception": false,
     "start_time": "2019-09-02T10:20:26.391994",
     "status": "completed"
    },
    "tags": []
   },
   "outputs": [],
   "source": [
    "diff_data_df = pd.read_pickle('lib/fitting_metadata.pkl')"
   ]
  },
  {
   "cell_type": "code",
   "execution_count": 6,
   "metadata": {
    "collapsed": false,
    "inputHidden": false,
    "outputHidden": false,
    "papermill": {
     "duration": 0.052968,
     "end_time": "2019-09-02T10:20:26.606393",
     "exception": false,
     "start_time": "2019-09-02T10:20:26.553425",
     "status": "completed"
    },
    "tags": []
   },
   "outputs": [],
   "source": [
    "def get_losses_by_user(subject_id):\n",
    "  diff_data = diff_data_df.loc[subject_id]\n",
    "  psf = diff_data['psf']\n",
    "  pixel_mask = np.array(diff_data['pixel_mask'])[::-1]\n",
    "  galaxy_data = np.array(diff_data['galaxy_data'])[::-1]\n",
    "  image_size = galaxy_data.shape[0]\n",
    "  size_diff = diff_data['size_diff']\n",
    "  \n",
    "  cls = gu.classifications.query('subject_ids == {}'.format(subject_id))\n",
    "  names = cls.user_name \n",
    "  annotations = cls['annotations'].apply(json.loads)\n",
    "\n",
    "  models = annotations.apply(\n",
    "    parsing.parse_annotation,\n",
    "    size_diff=size_diff\n",
    "  )\n",
    "\n",
    "  tqdm.pandas(\n",
    "    desc='Rendering models'.format(subject_id),\n",
    "    leave=False\n",
    "  )\n",
    "  rendered = models.progress_apply(\n",
    "    rendering.calculate_model,\n",
    "    image_size=image_size,\n",
    "    psf=psf\n",
    "  ).rename('rendered')\n",
    "\n",
    "  tqdm.pandas(\n",
    "    desc='Calculating differences'.format(subject_id),\n",
    "    leave=False\n",
    "  )\n",
    "  losses = rendered.apply(\n",
    "    fitting.loss,\n",
    "    args=(galaxy_data, pixel_mask)\n",
    "  ).rename('loss')\n",
    "  all_losses = pd.Series(\n",
    "    losses.values,\n",
    "    index=names.values\n",
    "  ).rename(subject_id)\n",
    "  best_losses = pd.concat((\n",
    "    all_losses.where(\n",
    "      ~all_losses.duplicated(keep=False)\n",
    "    ).dropna(), # all non-duplicates\n",
    "    all_losses.where(\n",
    "      all_losses.duplicated(keep=False)\n",
    "    ).dropna().groupby(level=0).min() # best value of duplicates\n",
    "  ), axis=0)\n",
    "  return best_losses"
   ]
  },
  {
   "cell_type": "code",
   "execution_count": 7,
   "metadata": {
    "collapsed": false,
    "inputHidden": false,
    "outputHidden": false,
    "papermill": {
     "duration": 10.360258,
     "end_time": "2019-09-02T10:20:36.975871",
     "exception": false,
     "start_time": "2019-09-02T10:20:26.615613",
     "status": "completed"
    },
    "tags": []
   },
   "outputs": [
    {
     "name": "stderr",
     "output_type": "stream",
     "text": [
      "\r",
      "Rendering models:   0%|          | 0/83 [00:00<?, ?it/s]"
     ]
    },
    {
     "name": "stderr",
     "output_type": "stream",
     "text": [
      "\r",
      "Rendering models:   2%|▏         | 2/83 [00:05<03:30,  2.60s/it]"
     ]
    },
    {
     "name": "stderr",
     "output_type": "stream",
     "text": [
      "\r",
      "Rendering models:   6%|▌         | 5/83 [00:05<02:22,  1.83s/it]"
     ]
    },
    {
     "name": "stderr",
     "output_type": "stream",
     "text": [
      "\r",
      "Rendering models:   7%|▋         | 6/83 [00:06<02:12,  1.71s/it]"
     ]
    },
    {
     "name": "stderr",
     "output_type": "stream",
     "text": [
      "\r",
      "Rendering models:  10%|▉         | 8/83 [00:06<01:31,  1.22s/it]"
     ]
    },
    {
     "name": "stderr",
     "output_type": "stream",
     "text": [
      "\r",
      "Rendering models:  12%|█▏        | 10/83 [00:06<01:03,  1.15it/s]"
     ]
    },
    {
     "name": "stderr",
     "output_type": "stream",
     "text": [
      "\r",
      "Rendering models:  23%|██▎       | 19/83 [00:07<00:39,  1.63it/s]"
     ]
    },
    {
     "name": "stderr",
     "output_type": "stream",
     "text": [
      "\r",
      "Rendering models:  27%|██▋       | 22/83 [00:07<00:27,  2.25it/s]"
     ]
    },
    {
     "name": "stderr",
     "output_type": "stream",
     "text": [
      "\r",
      "Rendering models:  30%|███       | 25/83 [00:07<00:19,  3.03it/s]"
     ]
    },
    {
     "name": "stderr",
     "output_type": "stream",
     "text": [
      "\r",
      "Rendering models:  34%|███▎      | 28/83 [00:07<00:13,  4.06it/s]"
     ]
    },
    {
     "name": "stderr",
     "output_type": "stream",
     "text": [
      "\r",
      "Rendering models:  37%|███▋      | 31/83 [00:07<00:09,  5.49it/s]"
     ]
    },
    {
     "name": "stderr",
     "output_type": "stream",
     "text": [
      "\r",
      "Rendering models:  41%|████      | 34/83 [00:07<00:06,  7.22it/s]"
     ]
    },
    {
     "name": "stderr",
     "output_type": "stream",
     "text": [
      "\r",
      "Rendering models:  45%|████▍     | 37/83 [00:07<00:05,  9.04it/s]"
     ]
    },
    {
     "name": "stderr",
     "output_type": "stream",
     "text": [
      "\r",
      "Rendering models:  48%|████▊     | 40/83 [00:08<00:03, 11.18it/s]"
     ]
    },
    {
     "name": "stderr",
     "output_type": "stream",
     "text": [
      "\r",
      "Rendering models:  52%|█████▏    | 43/83 [00:08<00:03, 11.98it/s]"
     ]
    },
    {
     "name": "stderr",
     "output_type": "stream",
     "text": [
      "\r",
      "Rendering models:  55%|█████▌    | 46/83 [00:08<00:02, 12.54it/s]"
     ]
    },
    {
     "name": "stderr",
     "output_type": "stream",
     "text": [
      "\r",
      "Rendering models:  58%|█████▊    | 48/83 [00:08<00:02, 13.58it/s]"
     ]
    },
    {
     "name": "stderr",
     "output_type": "stream",
     "text": [
      "\r",
      "Rendering models:  63%|██████▎   | 52/83 [00:08<00:01, 16.49it/s]"
     ]
    },
    {
     "name": "stderr",
     "output_type": "stream",
     "text": [
      "\r",
      "Rendering models:  66%|██████▋   | 55/83 [00:08<00:01, 17.00it/s]"
     ]
    },
    {
     "name": "stderr",
     "output_type": "stream",
     "text": [
      "\r",
      "Rendering models:  75%|███████▍  | 62/83 [00:09<00:01, 20.58it/s]"
     ]
    },
    {
     "name": "stderr",
     "output_type": "stream",
     "text": [
      "\r",
      "Rendering models:  78%|███████▊  | 65/83 [00:09<00:00, 18.59it/s]"
     ]
    },
    {
     "name": "stderr",
     "output_type": "stream",
     "text": [
      "\r",
      "Rendering models:  82%|████████▏ | 68/83 [00:09<00:00, 18.94it/s]"
     ]
    },
    {
     "name": "stderr",
     "output_type": "stream",
     "text": [
      "\r",
      "Rendering models:  86%|████████▌ | 71/83 [00:09<00:00, 20.01it/s]"
     ]
    },
    {
     "name": "stderr",
     "output_type": "stream",
     "text": [
      "\r",
      "Rendering models:  89%|████████▉ | 74/83 [00:09<00:00, 21.67it/s]"
     ]
    },
    {
     "name": "stderr",
     "output_type": "stream",
     "text": [
      "\r",
      "Rendering models:  96%|█████████▋| 80/83 [00:09<00:00, 25.67it/s]"
     ]
    },
    {
     "name": "stderr",
     "output_type": "stream",
     "text": [
      "\r",
      "                                                                 "
     ]
    },
    {
     "name": "stderr",
     "output_type": "stream",
     "text": [
      "\r"
     ]
    },
    {
     "data": {
      "text/plain": [
       "equidad1                              0.173237\n",
       "Linda_J._Berkel                       0.000296\n",
       "not-logged-in-587a4e9ad373b8ff5983    0.001576\n",
       "alochiatto                            0.000597\n",
       "Thedunkmasta                          0.001857\n",
       "Thedunkmasta                          0.001864\n",
       "DrJackie                              0.025696\n",
       "insert_name                           0.007809\n",
       "not-logged-in-56b19a5e192cb0454662    0.001250\n",
       "not-logged-in-ab1612bc18cd7aab85db    0.000200\n",
       "msross                                0.000308\n",
       "clizardo                              0.002827\n",
       "mkirms                                0.000247\n",
       "msross                                0.000545\n",
       "not-logged-in-988154c28a4325297d39    0.003109\n",
       "djcameron                             0.000607\n",
       "mchaffin                              0.000299\n",
       "atinkess                              0.002358\n",
       "denzel.ayala                          0.001002\n",
       "creinbol                              0.000635\n",
       "cchen88                               0.048315\n",
       "denzel.ayala                          0.001453\n",
       "not-logged-in-f7e2260ed4a9517a3e4a    0.001855\n",
       "helm0883                              0.001804\n",
       "PROF.LEO_                             0.000474\n",
       "sn346808                              0.046411\n",
       "adventures                            0.026823\n",
       "Rian_NL                               0.027579\n",
       "edgardo.e.nogueira                    0.005039\n",
       "edgardo.e.nogueira                    0.004079\n",
       "                                        ...   \n",
       "dmosier13                             0.001355\n",
       "kayla2198                             0.000578\n",
       "eajeffords1990                        0.000199\n",
       "dmosier13                             0.001242\n",
       "tdrabic                               0.000362\n",
       "campanellimichael13                   0.001720\n",
       "not-logged-in-812b279e0836b083d452    0.000496\n",
       "not-logged-in-812b279e0836b083d452    0.003126\n",
       "not-logged-in-812b279e0836b083d452    0.000195\n",
       "not-logged-in-812b279e0836b083d452    0.000297\n",
       "heathmonie                            0.001491\n",
       "liamthepilot                          0.003627\n",
       "ksheahon                              0.001966\n",
       "lmhob14                               0.000322\n",
       "Getrekt10127                          0.007318\n",
       "Lavadude                              0.004894\n",
       "Max343                                0.004894\n",
       "bigdeath                              0.004894\n",
       "campanellimichael13                   0.004894\n",
       "ckkmomma                              0.004894\n",
       "heathmonie                            0.004894\n",
       "kayleebug2017                         0.004894\n",
       "ksheahon                              0.004894\n",
       "ncaro                                 0.004894\n",
       "not-logged-in-7be2ab5b99cd33eba4f5    0.004894\n",
       "not-logged-in-812b279e0836b083d452    0.004894\n",
       "not-logged-in-8725d092ae2eab632e17    0.004894\n",
       "not-logged-in-b8ebeb833db2658fd08d    0.004894\n",
       "not-logged-in-e2c5eddc01d991507481    0.004894\n",
       "rmz4160                               0.004894\n",
       "Name: 20902080, Length: 73, dtype: float64"
      ]
     },
     "execution_count": 7,
     "metadata": {},
     "output_type": "execute_result"
    }
   ],
   "source": [
    "losses = get_losses_by_user(subject_id)\n",
    "losses"
   ]
  },
  {
   "cell_type": "code",
   "execution_count": 8,
   "metadata": {
    "collapsed": false,
    "inputHidden": false,
    "outputHidden": false,
    "papermill": {
     "duration": 0.073001,
     "end_time": "2019-09-02T10:20:37.078727",
     "exception": false,
     "start_time": "2019-09-02T10:20:37.005726",
     "status": "completed"
    },
    "tags": []
   },
   "outputs": [
    {
     "data": {
      "application/scrapbook.scrap.json+json": {
       "data": 20902080,
       "encoder": "json",
       "name": "subject_id",
       "version": 1
      }
     },
     "metadata": {
      "scrapbook": {
       "data": true,
       "display": false,
       "name": "subject_id"
      }
     },
     "output_type": "display_data"
    },
    {
     "data": {
      "application/scrapbook.scrap.json+json": {
       "data": {
        "CBAIN25": 0.0003986554392820132,
        "DrJackie": 0.02569612050464781,
        "Getrekt10127": 0.007317952746605831,
        "Lavadude": 0.004894402705796824,
        "Linda_J._Berkel": 0.0002956993618638834,
        "Max343": 0.004894402705796824,
        "PROF.LEO_": 0.0004742376096376115,
        "Rian_NL": 0.027578533346723652,
        "Thedunkmasta": 0.0018637423011382758,
        "adventures": 0.0268229553824668,
        "alochiatto": 0.0005973466455196457,
        "atinkess": 0.002358040991375829,
        "bigdeath": 0.004894402705796824,
        "campanellimichael13": 0.004894402705796824,
        "cchen88": 0.0483154181321234,
        "ckkmomma": 0.004894402705796824,
        "clizardo": 0.002826528454545789,
        "creinbol": 0.0006345280516700463,
        "denzel.ayala": 0.0014529286633543533,
        "djcameron": 0.0006071893782962772,
        "dmosier13": 0.0012415864165441926,
        "eajeffords1990": 0.00019865656329267936,
        "edgardo.e.nogueira": 0.002568245121916394,
        "equidad1": 0.17323706345669934,
        "heathmonie": 0.004894402705796824,
        "helm0883": 0.0018039980474854696,
        "insert_name": 0.007809279860450355,
        "kayla2198": 0.0005784668799803748,
        "kayleebug2017": 0.004894402705796824,
        "ksheahon": 0.004894402705796824,
        "liamthepilot": 0.0036266117900082963,
        "lmhob14": 0.00032194988475974304,
        "mchaffin": 0.0002989555808897439,
        "mkirms": 0.00024711687170295865,
        "msross": 0.0005453163359216777,
        "ncaro": 0.004894402705796824,
        "not-logged-in-14849be8c56260e26d09": 0.006071615957555651,
        "not-logged-in-1a33f40316cfa7ec4f74": 5.430430510272511,
        "not-logged-in-56b19a5e192cb0454662": 0.0012499251294394657,
        "not-logged-in-587a4e9ad373b8ff5983": 0.0015759781058953051,
        "not-logged-in-7be2ab5b99cd33eba4f5": 0.004894402705796824,
        "not-logged-in-812b279e0836b083d452": 0.004894402705796824,
        "not-logged-in-8725d092ae2eab632e17": 0.004894402705796824,
        "not-logged-in-988154c28a4325297d39": 0.003109333915642236,
        "not-logged-in-ab1612bc18cd7aab85db": 0.00020015676700782365,
        "not-logged-in-b8ebeb833db2658fd08d": 0.004894402705796824,
        "not-logged-in-e2c5eddc01d991507481": 0.004894402705796824,
        "not-logged-in-ea8ed61a7274cfb6a43b": 0.001686728361546166,
        "not-logged-in-f7e2260ed4a9517a3e4a": 0.001855412369124685,
        "rmz4160": 0.004894402705796824,
        "sn346808": 0.04641085115727682,
        "tdrabic": 0.00036246152093738244
       },
       "encoder": "json",
       "name": "losses",
       "version": 1
      }
     },
     "metadata": {
      "scrapbook": {
       "data": true,
       "display": false,
       "name": "losses"
      }
     },
     "output_type": "display_data"
    }
   ],
   "source": [
    "sb.glue('subject_id', subject_id)\n",
    "sb.glue('losses', losses.to_dict())"
   ]
  }
 ],
 "metadata": {
  "kernel_info": {
   "name": "python3"
  },
  "kernelspec": {
   "display_name": "Python 3",
   "language": "python",
   "name": "python3"
  },
  "language_info": {
   "codemirror_mode": {
    "name": "ipython",
    "version": 3
   },
   "file_extension": ".py",
   "mimetype": "text/x-python",
   "name": "python",
   "nbconvert_exporter": "python",
   "pygments_lexer": "ipython3",
   "version": "3.7.3"
  },
  "nteract": {
   "version": "0.14.3"
  },
  "papermill": {
   "duration": 25.205797,
   "end_time": "2019-09-02T10:20:38.258879",
   "environment_variables": {},
   "exception": null,
   "input_path": "/users/tingard/gzbuilder_results/input_files/volunteer_losses.ipynb",
   "output_path": "/users/tingard/gzbuilder_results/output_files/volunteer_losses/20902080.ipynb",
   "parameters": {
    "subject_id": 20902080
   },
   "start_time": "2019-09-02T10:20:13.053082",
   "version": "1.0.1"
  }
 },
 "nbformat": 4,
 "nbformat_minor": 0
}