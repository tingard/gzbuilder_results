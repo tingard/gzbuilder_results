{
 "cells": [
  {
   "cell_type": "markdown",
   "metadata": {
    "papermill": {
     "duration": 0.008379,
     "end_time": "2019-09-02T10:20:53.641456",
     "exception": false,
     "start_time": "2019-09-02T10:20:53.633077",
     "status": "completed"
    },
    "tags": []
   },
   "source": [
    "# Volunteer model loss calculation\n",
    "\n",
    "This notebook takes a `subject_id` and calculates the MSE of each volunteer's model to the galaxy data. These losses are then glued to the notebook for use elsewhere."
   ]
  },
  {
   "cell_type": "code",
   "execution_count": 1,
   "metadata": {
    "collapsed": false,
    "inputHidden": false,
    "outputHidden": false,
    "papermill": {
     "duration": 0.024724,
     "end_time": "2019-09-02T10:20:53.673816",
     "exception": false,
     "start_time": "2019-09-02T10:20:53.649092",
     "status": "completed"
    },
    "tags": []
   },
   "outputs": [],
   "source": [
    "%load_ext autoreload\n",
    "%autoreload 2"
   ]
  },
  {
   "cell_type": "code",
   "execution_count": 2,
   "metadata": {
    "collapsed": false,
    "inputHidden": false,
    "outputHidden": false,
    "papermill": {
     "duration": 4.458983,
     "end_time": "2019-09-02T10:20:58.140920",
     "exception": false,
     "start_time": "2019-09-02T10:20:53.681937",
     "status": "completed"
    },
    "tags": []
   },
   "outputs": [
    {
     "name": "stderr",
     "output_type": "stream",
     "text": [
      "/opt/apps/pkgs/anaconda3/2019.03/intel64/lib/python3.7/site-packages/dask/config.py:168: YAMLLoadWarning: calling yaml.load() without Loader=... is deprecated, as the default Loader is unsafe. Please read https://msg.pyyaml.org/load for full details.\n",
      "  data = yaml.load(f.read()) or {}\n"
     ]
    }
   ],
   "source": [
    "import json\n",
    "import numpy as np\n",
    "import pandas as pd\n",
    "from tqdm import tqdm\n",
    "import matplotlib.pyplot as plt\n",
    "import seaborn as sns\n",
    "from gzbuilder_analysis import parsing, rendering, fitting\n",
    "import lib.galaxy_utilities as gu\n",
    "import scrapbook as sb"
   ]
  },
  {
   "cell_type": "code",
   "execution_count": 3,
   "metadata": {
    "collapsed": false,
    "inputHidden": false,
    "outputHidden": false,
    "papermill": {
     "duration": 0.051351,
     "end_time": "2019-09-02T10:20:58.200578",
     "exception": false,
     "start_time": "2019-09-02T10:20:58.149227",
     "status": "completed"
    },
    "tags": [
     "parameters"
    ]
   },
   "outputs": [],
   "source": [
    "subject_id = 20902040"
   ]
  },
  {
   "cell_type": "code",
   "execution_count": 4,
   "metadata": {
    "papermill": {
     "duration": 0.046235,
     "end_time": "2019-09-02T10:20:58.255638",
     "exception": false,
     "start_time": "2019-09-02T10:20:58.209403",
     "status": "completed"
    },
    "tags": [
     "injected-parameters"
    ]
   },
   "outputs": [],
   "source": [
    "# Parameters\n",
    "subject_id = 21686585\n"
   ]
  },
  {
   "cell_type": "code",
   "execution_count": 5,
   "metadata": {
    "collapsed": false,
    "inputHidden": false,
    "outputHidden": false,
    "papermill": {
     "duration": 0.168289,
     "end_time": "2019-09-02T10:20:58.432855",
     "exception": false,
     "start_time": "2019-09-02T10:20:58.264566",
     "status": "completed"
    },
    "tags": []
   },
   "outputs": [],
   "source": [
    "diff_data_df = pd.read_pickle('lib/fitting_metadata.pkl')"
   ]
  },
  {
   "cell_type": "code",
   "execution_count": 6,
   "metadata": {
    "collapsed": false,
    "inputHidden": false,
    "outputHidden": false,
    "papermill": {
     "duration": 0.056111,
     "end_time": "2019-09-02T10:20:58.496474",
     "exception": false,
     "start_time": "2019-09-02T10:20:58.440363",
     "status": "completed"
    },
    "tags": []
   },
   "outputs": [],
   "source": [
    "def get_losses_by_user(subject_id):\n",
    "  diff_data = diff_data_df.loc[subject_id]\n",
    "  psf = diff_data['psf']\n",
    "  pixel_mask = np.array(diff_data['pixel_mask'])[::-1]\n",
    "  galaxy_data = np.array(diff_data['galaxy_data'])[::-1]\n",
    "  image_size = galaxy_data.shape[0]\n",
    "  size_diff = diff_data['size_diff']\n",
    "  \n",
    "  cls = gu.classifications.query('subject_ids == {}'.format(subject_id))\n",
    "  names = cls.user_name \n",
    "  annotations = cls['annotations'].apply(json.loads)\n",
    "\n",
    "  models = annotations.apply(\n",
    "    parsing.parse_annotation,\n",
    "    size_diff=size_diff\n",
    "  )\n",
    "\n",
    "  tqdm.pandas(\n",
    "    desc='Rendering models'.format(subject_id),\n",
    "    leave=False\n",
    "  )\n",
    "  rendered = models.progress_apply(\n",
    "    rendering.calculate_model,\n",
    "    image_size=image_size,\n",
    "    psf=psf\n",
    "  ).rename('rendered')\n",
    "\n",
    "  tqdm.pandas(\n",
    "    desc='Calculating differences'.format(subject_id),\n",
    "    leave=False\n",
    "  )\n",
    "  losses = rendered.apply(\n",
    "    fitting.loss,\n",
    "    args=(galaxy_data, pixel_mask)\n",
    "  ).rename('loss')\n",
    "  all_losses = pd.Series(\n",
    "    losses.values,\n",
    "    index=names.values\n",
    "  ).rename(subject_id)\n",
    "  best_losses = pd.concat((\n",
    "    all_losses.where(\n",
    "      ~all_losses.duplicated(keep=False)\n",
    "    ).dropna(), # all non-duplicates\n",
    "    all_losses.where(\n",
    "      all_losses.duplicated(keep=False)\n",
    "    ).dropna().groupby(level=0).min() # best value of duplicates\n",
    "  ), axis=0)\n",
    "  return best_losses"
   ]
  },
  {
   "cell_type": "code",
   "execution_count": 7,
   "metadata": {
    "collapsed": false,
    "inputHidden": false,
    "outputHidden": false,
    "papermill": {
     "duration": 10.270341,
     "end_time": "2019-09-02T10:21:08.777490",
     "exception": false,
     "start_time": "2019-09-02T10:20:58.507149",
     "status": "completed"
    },
    "tags": []
   },
   "outputs": [
    {
     "name": "stderr",
     "output_type": "stream",
     "text": [
      "\r",
      "Rendering models:   0%|          | 0/31 [00:00<?, ?it/s]"
     ]
    },
    {
     "name": "stderr",
     "output_type": "stream",
     "text": [
      "\r",
      "Rendering models:   6%|▋         | 2/31 [00:05<01:24,  2.91s/it]"
     ]
    },
    {
     "name": "stderr",
     "output_type": "stream",
     "text": [
      "\r",
      "Rendering models:  10%|▉         | 3/31 [00:07<01:10,  2.53s/it]"
     ]
    },
    {
     "name": "stderr",
     "output_type": "stream",
     "text": [
      "\r",
      "Rendering models:  13%|█▎        | 4/31 [00:07<00:49,  1.83s/it]"
     ]
    },
    {
     "name": "stderr",
     "output_type": "stream",
     "text": [
      "\r",
      "Rendering models:  19%|█▉        | 6/31 [00:07<00:32,  1.31s/it]"
     ]
    },
    {
     "name": "stderr",
     "output_type": "stream",
     "text": [
      "\r",
      "Rendering models:  26%|██▌       | 8/31 [00:07<00:21,  1.07it/s]"
     ]
    },
    {
     "name": "stderr",
     "output_type": "stream",
     "text": [
      "\r",
      "Rendering models:  32%|███▏      | 10/31 [00:08<00:14,  1.44it/s]"
     ]
    },
    {
     "name": "stderr",
     "output_type": "stream",
     "text": [
      "\r",
      "Rendering models:  35%|███▌      | 11/31 [00:08<00:10,  1.89it/s]"
     ]
    },
    {
     "name": "stderr",
     "output_type": "stream",
     "text": [
      "\r",
      "Rendering models:  39%|███▊      | 12/31 [00:08<00:08,  2.32it/s]"
     ]
    },
    {
     "name": "stderr",
     "output_type": "stream",
     "text": [
      "\r",
      "Rendering models:  42%|████▏     | 13/31 [00:08<00:06,  2.88it/s]"
     ]
    },
    {
     "name": "stderr",
     "output_type": "stream",
     "text": [
      "\r",
      "Rendering models:  48%|████▊     | 15/31 [00:08<00:04,  3.77it/s]"
     ]
    },
    {
     "name": "stderr",
     "output_type": "stream",
     "text": [
      "\r",
      "Rendering models:  55%|█████▍    | 17/31 [00:09<00:02,  4.69it/s]"
     ]
    },
    {
     "name": "stderr",
     "output_type": "stream",
     "text": [
      "\r",
      "Rendering models:  58%|█████▊    | 18/31 [00:09<00:02,  5.57it/s]"
     ]
    },
    {
     "name": "stderr",
     "output_type": "stream",
     "text": [
      "\r",
      "Rendering models:  61%|██████▏   | 19/31 [00:09<00:01,  6.40it/s]"
     ]
    },
    {
     "name": "stderr",
     "output_type": "stream",
     "text": [
      "\r",
      "Rendering models:  65%|██████▍   | 20/31 [00:09<00:01,  6.83it/s]"
     ]
    },
    {
     "name": "stderr",
     "output_type": "stream",
     "text": [
      "\r",
      "Rendering models:  74%|███████▍  | 23/31 [00:09<00:00,  8.49it/s]"
     ]
    },
    {
     "name": "stderr",
     "output_type": "stream",
     "text": [
      "\r",
      "Rendering models:  81%|████████  | 25/31 [00:09<00:00,  8.48it/s]"
     ]
    },
    {
     "name": "stderr",
     "output_type": "stream",
     "text": [
      "\r",
      "Rendering models:  87%|████████▋ | 27/31 [00:10<00:00,  8.23it/s]"
     ]
    },
    {
     "name": "stderr",
     "output_type": "stream",
     "text": [
      "\r",
      "                                                                 "
     ]
    },
    {
     "name": "stderr",
     "output_type": "stream",
     "text": [
      "\r"
     ]
    },
    {
     "data": {
      "text/plain": [
       "Meckert7597                           0.001090\n",
       "not-logged-in-0ed3d164fd32cee0b7f7    0.000910\n",
       "CThomas                               0.000971\n",
       "Camelron                              0.000749\n",
       "SavinSpaceEngineer                    0.000587\n",
       "not-logged-in-2159616075e1803d6325    0.004637\n",
       "djswanso                              0.001249\n",
       "austingasbarra                        0.002360\n",
       "klmasters                             0.000441\n",
       "kjkavene                              0.000612\n",
       "not-logged-in-7aef656f86917a55b5e6    0.030092\n",
       "not-logged-in-5f30b2bb9b7f9d49da41    0.017134\n",
       "relseidy                              0.002906\n",
       "crush202020                           0.025192\n",
       "Planetme                              0.001262\n",
       "Tacocat1127                           0.002642\n",
       "pangeli5                              0.001351\n",
       "acapirala                             0.001299\n",
       "chavez01                              0.001597\n",
       "Lavadude                              0.002275\n",
       "clars915                              0.001201\n",
       "entzo                                 0.002349\n",
       "not-logged-in-03045e8a7c9a0bf5b936    0.001561\n",
       "not-logged-in-b79145bb64292e223990    0.001548\n",
       "cooper.hull                           0.024955\n",
       "joshmackwilliams                      0.000794\n",
       "Susymuller                            0.004546\n",
       "andy65killer                          0.004546\n",
       "not-logged-in-4ced0e6ab9bb6a619b4a    0.004546\n",
       "Name: 21686585, dtype: float64"
      ]
     },
     "execution_count": 7,
     "metadata": {},
     "output_type": "execute_result"
    }
   ],
   "source": [
    "losses = get_losses_by_user(subject_id)\n",
    "losses"
   ]
  },
  {
   "cell_type": "code",
   "execution_count": 8,
   "metadata": {
    "collapsed": false,
    "inputHidden": false,
    "outputHidden": false,
    "papermill": {
     "duration": 0.064919,
     "end_time": "2019-09-02T10:21:08.857941",
     "exception": false,
     "start_time": "2019-09-02T10:21:08.793022",
     "status": "completed"
    },
    "tags": []
   },
   "outputs": [
    {
     "data": {
      "application/scrapbook.scrap.json+json": {
       "data": 21686585,
       "encoder": "json",
       "name": "subject_id",
       "version": 1
      }
     },
     "metadata": {
      "scrapbook": {
       "data": true,
       "display": false,
       "name": "subject_id"
      }
     },
     "output_type": "display_data"
    },
    {
     "data": {
      "application/scrapbook.scrap.json+json": {
       "data": {
        "CThomas": 0.0009708084136768057,
        "Camelron": 0.0007492331825136977,
        "Lavadude": 0.002275266009150176,
        "Meckert7597": 0.0010902579229166004,
        "Planetme": 0.0012619355195948253,
        "SavinSpaceEngineer": 0.000586679854423035,
        "Susymuller": 0.0045455924430932325,
        "Tacocat1127": 0.002642120370697117,
        "acapirala": 0.0012994286451673638,
        "andy65killer": 0.0045455924430932325,
        "austingasbarra": 0.0023602533849189163,
        "chavez01": 0.0015970661155838253,
        "clars915": 0.0012014650381681315,
        "cooper.hull": 0.024954685632415336,
        "crush202020": 0.025191900964702536,
        "djswanso": 0.0012489630445759313,
        "entzo": 0.0023492495614800043,
        "joshmackwilliams": 0.0007939467955556495,
        "kjkavene": 0.0006124450199965053,
        "klmasters": 0.0004409430125205956,
        "not-logged-in-03045e8a7c9a0bf5b936": 0.0015609944849801242,
        "not-logged-in-0ed3d164fd32cee0b7f7": 0.0009097281198898052,
        "not-logged-in-2159616075e1803d6325": 0.004636756256866866,
        "not-logged-in-4ced0e6ab9bb6a619b4a": 0.0045455924430932325,
        "not-logged-in-5f30b2bb9b7f9d49da41": 0.017134416370105585,
        "not-logged-in-7aef656f86917a55b5e6": 0.030091856081220527,
        "not-logged-in-b79145bb64292e223990": 0.0015477010959492775,
        "pangeli5": 0.0013508155808372845,
        "relseidy": 0.0029064876679830375
       },
       "encoder": "json",
       "name": "losses",
       "version": 1
      }
     },
     "metadata": {
      "scrapbook": {
       "data": true,
       "display": false,
       "name": "losses"
      }
     },
     "output_type": "display_data"
    }
   ],
   "source": [
    "sb.glue('subject_id', subject_id)\n",
    "sb.glue('losses', losses.to_dict())"
   ]
  }
 ],
 "metadata": {
  "kernel_info": {
   "name": "python3"
  },
  "kernelspec": {
   "display_name": "Python 3",
   "language": "python",
   "name": "python3"
  },
  "language_info": {
   "codemirror_mode": {
    "name": "ipython",
    "version": 3
   },
   "file_extension": ".py",
   "mimetype": "text/x-python",
   "name": "python",
   "nbconvert_exporter": "python",
   "pygments_lexer": "ipython3",
   "version": "3.7.3"
  },
  "nteract": {
   "version": "0.14.3"
  },
  "papermill": {
   "duration": 18.106977,
   "end_time": "2019-09-02T10:21:10.039085",
   "environment_variables": {},
   "exception": null,
   "input_path": "/users/tingard/gzbuilder_results/input_files/volunteer_losses.ipynb",
   "output_path": "/users/tingard/gzbuilder_results/output_files/volunteer_losses/21686585.ipynb",
   "parameters": {
    "subject_id": 21686585
   },
   "start_time": "2019-09-02T10:20:51.932108",
   "version": "1.0.1"
  }
 },
 "nbformat": 4,
 "nbformat_minor": 0
}