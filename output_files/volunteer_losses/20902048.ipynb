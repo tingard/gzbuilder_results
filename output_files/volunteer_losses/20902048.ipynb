{
 "cells": [
  {
   "cell_type": "markdown",
   "metadata": {
    "papermill": {
     "duration": 0.008502,
     "end_time": "2019-09-02T10:20:14.436466",
     "exception": false,
     "start_time": "2019-09-02T10:20:14.427964",
     "status": "completed"
    },
    "tags": []
   },
   "source": [
    "# Volunteer model loss calculation\n",
    "\n",
    "This notebook takes a `subject_id` and calculates the MSE of each volunteer's model to the galaxy data. These losses are then glued to the notebook for use elsewhere."
   ]
  },
  {
   "cell_type": "code",
   "execution_count": 1,
   "metadata": {
    "collapsed": false,
    "inputHidden": false,
    "outputHidden": false,
    "papermill": {
     "duration": 0.024549,
     "end_time": "2019-09-02T10:20:14.469096",
     "exception": false,
     "start_time": "2019-09-02T10:20:14.444547",
     "status": "completed"
    },
    "tags": []
   },
   "outputs": [],
   "source": [
    "%load_ext autoreload\n",
    "%autoreload 2"
   ]
  },
  {
   "cell_type": "code",
   "execution_count": 2,
   "metadata": {
    "collapsed": false,
    "inputHidden": false,
    "outputHidden": false,
    "papermill": {
     "duration": 5.018381,
     "end_time": "2019-09-02T10:20:19.495589",
     "exception": false,
     "start_time": "2019-09-02T10:20:14.477208",
     "status": "completed"
    },
    "tags": []
   },
   "outputs": [
    {
     "name": "stderr",
     "output_type": "stream",
     "text": [
      "/opt/apps/pkgs/anaconda3/2019.03/intel64/lib/python3.7/site-packages/dask/config.py:168: YAMLLoadWarning: calling yaml.load() without Loader=... is deprecated, as the default Loader is unsafe. Please read https://msg.pyyaml.org/load for full details.\n",
      "  data = yaml.load(f.read()) or {}\n"
     ]
    }
   ],
   "source": [
    "import json\n",
    "import numpy as np\n",
    "import pandas as pd\n",
    "from tqdm import tqdm\n",
    "import matplotlib.pyplot as plt\n",
    "import seaborn as sns\n",
    "from gzbuilder_analysis import parsing, rendering, fitting\n",
    "import lib.galaxy_utilities as gu\n",
    "import scrapbook as sb"
   ]
  },
  {
   "cell_type": "code",
   "execution_count": 3,
   "metadata": {
    "collapsed": false,
    "inputHidden": false,
    "outputHidden": false,
    "papermill": {
     "duration": 0.047618,
     "end_time": "2019-09-02T10:20:19.552193",
     "exception": false,
     "start_time": "2019-09-02T10:20:19.504575",
     "status": "completed"
    },
    "tags": [
     "parameters"
    ]
   },
   "outputs": [],
   "source": [
    "subject_id = 20902040"
   ]
  },
  {
   "cell_type": "code",
   "execution_count": 4,
   "metadata": {
    "papermill": {
     "duration": 1.950154,
     "end_time": "2019-09-02T10:20:21.511133",
     "exception": false,
     "start_time": "2019-09-02T10:20:19.560979",
     "status": "completed"
    },
    "tags": [
     "injected-parameters"
    ]
   },
   "outputs": [],
   "source": [
    "# Parameters\n",
    "subject_id = 20902048\n"
   ]
  },
  {
   "cell_type": "code",
   "execution_count": 5,
   "metadata": {
    "collapsed": false,
    "inputHidden": false,
    "outputHidden": false,
    "papermill": {
     "duration": 0.134543,
     "end_time": "2019-09-02T10:20:21.653950",
     "exception": false,
     "start_time": "2019-09-02T10:20:21.519407",
     "status": "completed"
    },
    "tags": []
   },
   "outputs": [],
   "source": [
    "diff_data_df = pd.read_pickle('lib/fitting_metadata.pkl')"
   ]
  },
  {
   "cell_type": "code",
   "execution_count": 6,
   "metadata": {
    "collapsed": false,
    "inputHidden": false,
    "outputHidden": false,
    "papermill": {
     "duration": 0.047216,
     "end_time": "2019-09-02T10:20:21.709084",
     "exception": false,
     "start_time": "2019-09-02T10:20:21.661868",
     "status": "completed"
    },
    "tags": []
   },
   "outputs": [],
   "source": [
    "def get_losses_by_user(subject_id):\n",
    "  diff_data = diff_data_df.loc[subject_id]\n",
    "  psf = diff_data['psf']\n",
    "  pixel_mask = np.array(diff_data['pixel_mask'])[::-1]\n",
    "  galaxy_data = np.array(diff_data['galaxy_data'])[::-1]\n",
    "  image_size = galaxy_data.shape[0]\n",
    "  size_diff = diff_data['size_diff']\n",
    "  \n",
    "  cls = gu.classifications.query('subject_ids == {}'.format(subject_id))\n",
    "  names = cls.user_name \n",
    "  annotations = cls['annotations'].apply(json.loads)\n",
    "\n",
    "  models = annotations.apply(\n",
    "    parsing.parse_annotation,\n",
    "    size_diff=size_diff\n",
    "  )\n",
    "\n",
    "  tqdm.pandas(\n",
    "    desc='Rendering models'.format(subject_id),\n",
    "    leave=False\n",
    "  )\n",
    "  rendered = models.progress_apply(\n",
    "    rendering.calculate_model,\n",
    "    image_size=image_size,\n",
    "    psf=psf\n",
    "  ).rename('rendered')\n",
    "\n",
    "  tqdm.pandas(\n",
    "    desc='Calculating differences'.format(subject_id),\n",
    "    leave=False\n",
    "  )\n",
    "  losses = rendered.apply(\n",
    "    fitting.loss,\n",
    "    args=(galaxy_data, pixel_mask)\n",
    "  ).rename('loss')\n",
    "  all_losses = pd.Series(\n",
    "    losses.values,\n",
    "    index=names.values\n",
    "  ).rename(subject_id)\n",
    "  best_losses = pd.concat((\n",
    "    all_losses.where(\n",
    "      ~all_losses.duplicated(keep=False)\n",
    "    ).dropna(), # all non-duplicates\n",
    "    all_losses.where(\n",
    "      all_losses.duplicated(keep=False)\n",
    "    ).dropna().groupby(level=0).min() # best value of duplicates\n",
    "  ), axis=0)\n",
    "  return best_losses"
   ]
  },
  {
   "cell_type": "code",
   "execution_count": 7,
   "metadata": {
    "collapsed": false,
    "inputHidden": false,
    "outputHidden": false,
    "papermill": {
     "duration": 8.654731,
     "end_time": "2019-09-02T10:20:30.372000",
     "exception": false,
     "start_time": "2019-09-02T10:20:21.717269",
     "status": "completed"
    },
    "tags": []
   },
   "outputs": [
    {
     "name": "stderr",
     "output_type": "stream",
     "text": [
      "\r",
      "Rendering models:   0%|          | 0/31 [00:00<?, ?it/s]"
     ]
    },
    {
     "name": "stderr",
     "output_type": "stream",
     "text": [
      "\r",
      "Rendering models:   6%|▋         | 2/31 [00:02<00:39,  1.37s/it]"
     ]
    },
    {
     "name": "stderr",
     "output_type": "stream",
     "text": [
      "\r",
      "Rendering models:  13%|█▎        | 4/31 [00:04<00:31,  1.17s/it]"
     ]
    },
    {
     "name": "stderr",
     "output_type": "stream",
     "text": [
      "\r",
      "Rendering models:  23%|██▎       | 7/31 [00:06<00:26,  1.09s/it]"
     ]
    },
    {
     "name": "stderr",
     "output_type": "stream",
     "text": [
      "\r",
      "Rendering models:  32%|███▏      | 10/31 [00:07<00:16,  1.28it/s]"
     ]
    },
    {
     "name": "stderr",
     "output_type": "stream",
     "text": [
      "\r",
      "Rendering models:  45%|████▌     | 14/31 [00:07<00:09,  1.78it/s]"
     ]
    },
    {
     "name": "stderr",
     "output_type": "stream",
     "text": [
      "\r",
      "Rendering models:  55%|█████▍    | 17/31 [00:07<00:05,  2.40it/s]"
     ]
    },
    {
     "name": "stderr",
     "output_type": "stream",
     "text": [
      "\r",
      "Rendering models:  68%|██████▊   | 21/31 [00:07<00:03,  3.23it/s]"
     ]
    },
    {
     "name": "stderr",
     "output_type": "stream",
     "text": [
      "\r",
      "Rendering models:  74%|███████▍  | 23/31 [00:07<00:01,  4.13it/s]"
     ]
    },
    {
     "name": "stderr",
     "output_type": "stream",
     "text": [
      "\r",
      "Rendering models:  81%|████████  | 25/31 [00:08<00:01,  4.95it/s]"
     ]
    },
    {
     "name": "stderr",
     "output_type": "stream",
     "text": [
      "\r",
      "Rendering models:  87%|████████▋ | 27/31 [00:08<00:00,  6.22it/s]"
     ]
    },
    {
     "name": "stderr",
     "output_type": "stream",
     "text": [
      "\r",
      "Rendering models:  94%|█████████▎| 29/31 [00:08<00:00,  7.52it/s]"
     ]
    },
    {
     "name": "stderr",
     "output_type": "stream",
     "text": [
      "\r",
      "                                                                 "
     ]
    },
    {
     "name": "stderr",
     "output_type": "stream",
     "text": [
      "\r"
     ]
    },
    {
     "data": {
      "text/plain": [
       "equidad1                              0.000252\n",
       "Mark_Moffatt                          0.000407\n",
       "kayleebug2017                         0.007320\n",
       "JessieDawn                            0.002710\n",
       "ZigZagoon999                          0.004423\n",
       "nickoftona                            0.000820\n",
       "not-logged-in-0b0736c8991a7cc2017a    0.007279\n",
       "not-logged-in-8ca9191f589d7b339215    0.373311\n",
       "pollux2728                            0.009912\n",
       "not-logged-in-dabd20e53f02c0431022    0.005106\n",
       "not-logged-in-41e9fe197dc7a2be8424    0.020657\n",
       "not-logged-in-4cd99e50bbc7058bf4e8    0.000671\n",
       "acapirala                             0.025403\n",
       "rhondacard                            0.002664\n",
       "seppe.ds                              0.016020\n",
       "Lavadude                              0.013698\n",
       "jordanrushworth                       0.010532\n",
       "not-logged-in-4ea23f5fffc8b98635af    0.022740\n",
       "Denny2507                             0.002661\n",
       "pirxi                                 0.000881\n",
       "ywan3529                              0.000612\n",
       "swalla46                              0.000759\n",
       "mcooke27                              0.000524\n",
       "arestrepo                             0.057270\n",
       "not-logged-in-490f77176b83d659546b    0.003991\n",
       "TRISTANM18                            0.006529\n",
       "mariafarhat                           0.006529\n",
       "nicoletraher                          0.006529\n",
       "not-logged-in-03b60317d6ee47942c58    0.006529\n",
       "taisribeiro                           0.006529\n",
       "xperry9702                            0.006529\n",
       "Name: 20902048, dtype: float64"
      ]
     },
     "execution_count": 7,
     "metadata": {},
     "output_type": "execute_result"
    }
   ],
   "source": [
    "losses = get_losses_by_user(subject_id)\n",
    "losses"
   ]
  },
  {
   "cell_type": "code",
   "execution_count": 8,
   "metadata": {
    "collapsed": false,
    "inputHidden": false,
    "outputHidden": false,
    "papermill": {
     "duration": 0.095007,
     "end_time": "2019-09-02T10:20:30.495255",
     "exception": false,
     "start_time": "2019-09-02T10:20:30.400248",
     "status": "completed"
    },
    "tags": []
   },
   "outputs": [
    {
     "data": {
      "application/scrapbook.scrap.json+json": {
       "data": 20902048,
       "encoder": "json",
       "name": "subject_id",
       "version": 1
      }
     },
     "metadata": {
      "scrapbook": {
       "data": true,
       "display": false,
       "name": "subject_id"
      }
     },
     "output_type": "display_data"
    },
    {
     "data": {
      "application/scrapbook.scrap.json+json": {
       "data": {
        "Denny2507": 0.0026605360136616875,
        "JessieDawn": 0.002709612923239785,
        "Lavadude": 0.013697999782587301,
        "Mark_Moffatt": 0.00040743374111665027,
        "TRISTANM18": 0.006528767541492227,
        "ZigZagoon999": 0.004422698925356184,
        "acapirala": 0.025403139642097134,
        "arestrepo": 0.05727009434777235,
        "equidad1": 0.00025224992981330753,
        "jordanrushworth": 0.010531852203991604,
        "kayleebug2017": 0.007319934110493078,
        "mariafarhat": 0.006528767541492227,
        "mcooke27": 0.000523814112068304,
        "nickoftona": 0.000820068600811893,
        "nicoletraher": 0.006528767541492227,
        "not-logged-in-03b60317d6ee47942c58": 0.006528767541492227,
        "not-logged-in-0b0736c8991a7cc2017a": 0.007278667368280472,
        "not-logged-in-41e9fe197dc7a2be8424": 0.020656671389039583,
        "not-logged-in-490f77176b83d659546b": 0.003990711704403515,
        "not-logged-in-4cd99e50bbc7058bf4e8": 0.0006705486378376672,
        "not-logged-in-4ea23f5fffc8b98635af": 0.02273992907014715,
        "not-logged-in-8ca9191f589d7b339215": 0.3733114866854086,
        "not-logged-in-dabd20e53f02c0431022": 0.005105890983387581,
        "pirxi": 0.0008812111470050846,
        "pollux2728": 0.00991174446077891,
        "rhondacard": 0.002663591017061703,
        "seppe.ds": 0.016019999816350515,
        "swalla46": 0.000758890488168196,
        "taisribeiro": 0.006528767541492227,
        "xperry9702": 0.006528767541492227,
        "ywan3529": 0.0006120592988325748
       },
       "encoder": "json",
       "name": "losses",
       "version": 1
      }
     },
     "metadata": {
      "scrapbook": {
       "data": true,
       "display": false,
       "name": "losses"
      }
     },
     "output_type": "display_data"
    }
   ],
   "source": [
    "sb.glue('subject_id', subject_id)\n",
    "sb.glue('losses', losses.to_dict())"
   ]
  }
 ],
 "metadata": {
  "kernel_info": {
   "name": "python3"
  },
  "kernelspec": {
   "display_name": "Python 3",
   "language": "python",
   "name": "python3"
  },
  "language_info": {
   "codemirror_mode": {
    "name": "ipython",
    "version": 3
   },
   "file_extension": ".py",
   "mimetype": "text/x-python",
   "name": "python",
   "nbconvert_exporter": "python",
   "pygments_lexer": "ipython3",
   "version": "3.7.3"
  },
  "nteract": {
   "version": "0.14.3"
  },
  "papermill": {
   "duration": 20.192121,
   "end_time": "2019-09-02T10:20:31.939507",
   "environment_variables": {},
   "exception": null,
   "input_path": "/users/tingard/gzbuilder_results/input_files/volunteer_losses.ipynb",
   "output_path": "/users/tingard/gzbuilder_results/output_files/volunteer_losses/20902048.ipynb",
   "parameters": {
    "subject_id": 20902048
   },
   "start_time": "2019-09-02T10:20:11.747386",
   "version": "1.0.1"
  }
 },
 "nbformat": 4,
 "nbformat_minor": 0
}