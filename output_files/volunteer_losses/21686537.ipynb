{
 "cells": [
  {
   "cell_type": "markdown",
   "metadata": {
    "papermill": {
     "duration": 0.007892,
     "end_time": "2019-09-02T10:20:51.529271",
     "exception": false,
     "start_time": "2019-09-02T10:20:51.521379",
     "status": "completed"
    },
    "tags": []
   },
   "source": [
    "# Volunteer model loss calculation\n",
    "\n",
    "This notebook takes a `subject_id` and calculates the MSE of each volunteer's model to the galaxy data. These losses are then glued to the notebook for use elsewhere."
   ]
  },
  {
   "cell_type": "code",
   "execution_count": 1,
   "metadata": {
    "collapsed": false,
    "inputHidden": false,
    "outputHidden": false,
    "papermill": {
     "duration": 0.026759,
     "end_time": "2019-09-02T10:20:51.565856",
     "exception": false,
     "start_time": "2019-09-02T10:20:51.539097",
     "status": "completed"
    },
    "tags": []
   },
   "outputs": [],
   "source": [
    "%load_ext autoreload\n",
    "%autoreload 2"
   ]
  },
  {
   "cell_type": "code",
   "execution_count": 2,
   "metadata": {
    "collapsed": false,
    "inputHidden": false,
    "outputHidden": false,
    "papermill": {
     "duration": 7.35537,
     "end_time": "2019-09-02T10:20:58.928999",
     "exception": false,
     "start_time": "2019-09-02T10:20:51.573629",
     "status": "completed"
    },
    "tags": []
   },
   "outputs": [
    {
     "name": "stderr",
     "output_type": "stream",
     "text": [
      "/opt/apps/pkgs/anaconda3/2019.03/intel64/lib/python3.7/site-packages/dask/config.py:168: YAMLLoadWarning: calling yaml.load() without Loader=... is deprecated, as the default Loader is unsafe. Please read https://msg.pyyaml.org/load for full details.\n",
      "  data = yaml.load(f.read()) or {}\n"
     ]
    }
   ],
   "source": [
    "import json\n",
    "import numpy as np\n",
    "import pandas as pd\n",
    "from tqdm import tqdm\n",
    "import matplotlib.pyplot as plt\n",
    "import seaborn as sns\n",
    "from gzbuilder_analysis import parsing, rendering, fitting\n",
    "import lib.galaxy_utilities as gu\n",
    "import scrapbook as sb"
   ]
  },
  {
   "cell_type": "code",
   "execution_count": 3,
   "metadata": {
    "collapsed": false,
    "inputHidden": false,
    "outputHidden": false,
    "papermill": {
     "duration": 0.049056,
     "end_time": "2019-09-02T10:20:58.986772",
     "exception": false,
     "start_time": "2019-09-02T10:20:58.937716",
     "status": "completed"
    },
    "tags": [
     "parameters"
    ]
   },
   "outputs": [],
   "source": [
    "subject_id = 20902040"
   ]
  },
  {
   "cell_type": "code",
   "execution_count": 4,
   "metadata": {
    "papermill": {
     "duration": 0.056267,
     "end_time": "2019-09-02T10:20:59.053248",
     "exception": false,
     "start_time": "2019-09-02T10:20:58.996981",
     "status": "completed"
    },
    "tags": [
     "injected-parameters"
    ]
   },
   "outputs": [],
   "source": [
    "# Parameters\n",
    "subject_id = 21686537\n"
   ]
  },
  {
   "cell_type": "code",
   "execution_count": 5,
   "metadata": {
    "collapsed": false,
    "inputHidden": false,
    "outputHidden": false,
    "papermill": {
     "duration": 0.165019,
     "end_time": "2019-09-02T10:20:59.226143",
     "exception": false,
     "start_time": "2019-09-02T10:20:59.061124",
     "status": "completed"
    },
    "tags": []
   },
   "outputs": [],
   "source": [
    "diff_data_df = pd.read_pickle('lib/fitting_metadata.pkl')"
   ]
  },
  {
   "cell_type": "code",
   "execution_count": 6,
   "metadata": {
    "collapsed": false,
    "inputHidden": false,
    "outputHidden": false,
    "papermill": {
     "duration": 0.052066,
     "end_time": "2019-09-02T10:20:59.287069",
     "exception": false,
     "start_time": "2019-09-02T10:20:59.235003",
     "status": "completed"
    },
    "tags": []
   },
   "outputs": [],
   "source": [
    "def get_losses_by_user(subject_id):\n",
    "  diff_data = diff_data_df.loc[subject_id]\n",
    "  psf = diff_data['psf']\n",
    "  pixel_mask = np.array(diff_data['pixel_mask'])[::-1]\n",
    "  galaxy_data = np.array(diff_data['galaxy_data'])[::-1]\n",
    "  image_size = galaxy_data.shape[0]\n",
    "  size_diff = diff_data['size_diff']\n",
    "  \n",
    "  cls = gu.classifications.query('subject_ids == {}'.format(subject_id))\n",
    "  names = cls.user_name \n",
    "  annotations = cls['annotations'].apply(json.loads)\n",
    "\n",
    "  models = annotations.apply(\n",
    "    parsing.parse_annotation,\n",
    "    size_diff=size_diff\n",
    "  )\n",
    "\n",
    "  tqdm.pandas(\n",
    "    desc='Rendering models'.format(subject_id),\n",
    "    leave=False\n",
    "  )\n",
    "  rendered = models.progress_apply(\n",
    "    rendering.calculate_model,\n",
    "    image_size=image_size,\n",
    "    psf=psf\n",
    "  ).rename('rendered')\n",
    "\n",
    "  tqdm.pandas(\n",
    "    desc='Calculating differences'.format(subject_id),\n",
    "    leave=False\n",
    "  )\n",
    "  losses = rendered.apply(\n",
    "    fitting.loss,\n",
    "    args=(galaxy_data, pixel_mask)\n",
    "  ).rename('loss')\n",
    "  all_losses = pd.Series(\n",
    "    losses.values,\n",
    "    index=names.values\n",
    "  ).rename(subject_id)\n",
    "  best_losses = pd.concat((\n",
    "    all_losses.where(\n",
    "      ~all_losses.duplicated(keep=False)\n",
    "    ).dropna(), # all non-duplicates\n",
    "    all_losses.where(\n",
    "      all_losses.duplicated(keep=False)\n",
    "    ).dropna().groupby(level=0).min() # best value of duplicates\n",
    "  ), axis=0)\n",
    "  return best_losses"
   ]
  },
  {
   "cell_type": "code",
   "execution_count": 7,
   "metadata": {
    "collapsed": false,
    "inputHidden": false,
    "outputHidden": false,
    "papermill": {
     "duration": 13.339739,
     "end_time": "2019-09-02T10:21:12.634127",
     "exception": false,
     "start_time": "2019-09-02T10:20:59.294388",
     "status": "completed"
    },
    "tags": []
   },
   "outputs": [
    {
     "name": "stderr",
     "output_type": "stream",
     "text": [
      "\r",
      "Rendering models:   0%|          | 0/30 [00:00<?, ?it/s]"
     ]
    },
    {
     "name": "stderr",
     "output_type": "stream",
     "text": [
      "\r",
      "Rendering models:   7%|▋         | 2/30 [00:05<01:20,  2.88s/it]"
     ]
    },
    {
     "name": "stderr",
     "output_type": "stream",
     "text": [
      "\r",
      "Rendering models:  10%|█         | 3/30 [00:07<01:08,  2.52s/it]"
     ]
    },
    {
     "name": "stderr",
     "output_type": "stream",
     "text": [
      "\r",
      "Rendering models:  13%|█▎        | 4/30 [00:07<00:49,  1.90s/it]"
     ]
    },
    {
     "name": "stderr",
     "output_type": "stream",
     "text": [
      "\r",
      "Rendering models:  17%|█▋        | 5/30 [00:08<00:34,  1.39s/it]"
     ]
    },
    {
     "name": "stderr",
     "output_type": "stream",
     "text": [
      "\r",
      "Rendering models:  20%|██        | 6/30 [00:08<00:24,  1.03s/it]"
     ]
    },
    {
     "name": "stderr",
     "output_type": "stream",
     "text": [
      "\r",
      "Rendering models:  23%|██▎       | 7/30 [00:08<00:18,  1.27it/s]"
     ]
    },
    {
     "name": "stderr",
     "output_type": "stream",
     "text": [
      "\r",
      "Rendering models:  27%|██▋       | 8/30 [00:08<00:14,  1.55it/s]"
     ]
    },
    {
     "name": "stderr",
     "output_type": "stream",
     "text": [
      "\r",
      "Rendering models:  30%|███       | 9/30 [00:09<00:11,  1.82it/s]"
     ]
    },
    {
     "name": "stderr",
     "output_type": "stream",
     "text": [
      "\r",
      "Rendering models:  33%|███▎      | 10/30 [00:09<00:09,  2.17it/s]"
     ]
    },
    {
     "name": "stderr",
     "output_type": "stream",
     "text": [
      "\r",
      "Rendering models:  47%|████▋     | 14/30 [00:09<00:05,  2.95it/s]"
     ]
    },
    {
     "name": "stderr",
     "output_type": "stream",
     "text": [
      "\r",
      "Rendering models:  50%|█████     | 15/30 [00:09<00:04,  3.15it/s]"
     ]
    },
    {
     "name": "stderr",
     "output_type": "stream",
     "text": [
      "\r",
      "Rendering models:  53%|█████▎    | 16/30 [00:10<00:04,  2.88it/s]"
     ]
    },
    {
     "name": "stderr",
     "output_type": "stream",
     "text": [
      "\r",
      "Rendering models:  60%|██████    | 18/30 [00:10<00:03,  3.36it/s]"
     ]
    },
    {
     "name": "stderr",
     "output_type": "stream",
     "text": [
      "\r",
      "Rendering models:  70%|███████   | 21/30 [00:11<00:02,  4.07it/s]"
     ]
    },
    {
     "name": "stderr",
     "output_type": "stream",
     "text": [
      "\r",
      "Rendering models:  73%|███████▎  | 22/30 [00:11<00:01,  4.42it/s]"
     ]
    },
    {
     "name": "stderr",
     "output_type": "stream",
     "text": [
      "\r",
      "Rendering models:  77%|███████▋  | 23/30 [00:11<00:01,  3.92it/s]"
     ]
    },
    {
     "name": "stderr",
     "output_type": "stream",
     "text": [
      "\r",
      "Rendering models:  80%|████████  | 24/30 [00:11<00:01,  3.43it/s]"
     ]
    },
    {
     "name": "stderr",
     "output_type": "stream",
     "text": [
      "\r",
      "Rendering models:  83%|████████▎ | 25/30 [00:12<00:01,  3.89it/s]"
     ]
    },
    {
     "name": "stderr",
     "output_type": "stream",
     "text": [
      "\r",
      "Rendering models:  87%|████████▋ | 26/30 [00:12<00:01,  3.87it/s]"
     ]
    },
    {
     "name": "stderr",
     "output_type": "stream",
     "text": [
      "\r",
      "Rendering models:  90%|█████████ | 27/30 [00:12<00:00,  3.60it/s]"
     ]
    },
    {
     "name": "stderr",
     "output_type": "stream",
     "text": [
      "\r",
      "Rendering models:  93%|█████████▎| 28/30 [00:12<00:00,  3.74it/s]"
     ]
    },
    {
     "name": "stderr",
     "output_type": "stream",
     "text": [
      "\r",
      "Rendering models:  97%|█████████▋| 29/30 [00:13<00:00,  4.10it/s]"
     ]
    },
    {
     "name": "stderr",
     "output_type": "stream",
     "text": [
      "\r",
      "                                                                 "
     ]
    },
    {
     "name": "stderr",
     "output_type": "stream",
     "text": [
      "\r"
     ]
    },
    {
     "data": {
      "text/plain": [
       "not-logged-in-3e461b5a5635ce55ae0f    0.070878\n",
       "not-logged-in-562d9daec75faadff5d4    0.005792\n",
       "zac8151                               0.000393\n",
       "cschwefl                              0.000548\n",
       "shirogane                             0.000436\n",
       "Dynamatt                              0.000351\n",
       "ellianderjoy                          0.001630\n",
       "not-logged-in-7e36d1f05e1fdd4c2b64    0.000674\n",
       "not-logged-in-cbabef9bb5bb1fbb5b75    0.015794\n",
       "AlexYoung35                           0.000413\n",
       "gabrielweiss                          0.007967\n",
       "arad98                                0.004531\n",
       "fitzpatrick7                          0.078125\n",
       "Lavadude                              0.014244\n",
       "Russell_Hoch                          0.034868\n",
       "ktayl47                               0.000494\n",
       "syt18                                 0.003493\n",
       "raydang                               0.000310\n",
       "not-logged-in-04a9ceae95d36fd70b9a    0.000939\n",
       "nicholas.                             0.003253\n",
       "not-logged-in-340a28051a320c10499e    0.001746\n",
       "not-logged-in-f2d27cddccc2f48b972e    0.002602\n",
       "mhaloftis                             0.001623\n",
       "Maddomero                             0.001106\n",
       "W7252291                              0.003247\n",
       "holte116                              0.003247\n",
       "mariafarhat                           0.003247\n",
       "ncaro                                 0.003247\n",
       "not-logged-in-51509888297c316c34ce    0.003247\n",
       "not-logged-in-59096a83d89ab5a9471b    0.003247\n",
       "Name: 21686537, dtype: float64"
      ]
     },
     "execution_count": 7,
     "metadata": {},
     "output_type": "execute_result"
    }
   ],
   "source": [
    "losses = get_losses_by_user(subject_id)\n",
    "losses"
   ]
  },
  {
   "cell_type": "code",
   "execution_count": 8,
   "metadata": {
    "collapsed": false,
    "inputHidden": false,
    "outputHidden": false,
    "papermill": {
     "duration": 0.074457,
     "end_time": "2019-09-02T10:21:12.722303",
     "exception": false,
     "start_time": "2019-09-02T10:21:12.647846",
     "status": "completed"
    },
    "tags": []
   },
   "outputs": [
    {
     "data": {
      "application/scrapbook.scrap.json+json": {
       "data": 21686537,
       "encoder": "json",
       "name": "subject_id",
       "version": 1
      }
     },
     "metadata": {
      "scrapbook": {
       "data": true,
       "display": false,
       "name": "subject_id"
      }
     },
     "output_type": "display_data"
    },
    {
     "data": {
      "application/scrapbook.scrap.json+json": {
       "data": {
        "AlexYoung35": 0.00041259961797354076,
        "Dynamatt": 0.00035110049323320246,
        "Lavadude": 0.01424386144980811,
        "Maddomero": 0.0011055807650257692,
        "Russell_Hoch": 0.03486765532966749,
        "W7252291": 0.003246619829844704,
        "arad98": 0.004531299241388867,
        "cschwefl": 0.0005477957607360019,
        "ellianderjoy": 0.0016295687275615616,
        "fitzpatrick7": 0.07812476677551168,
        "gabrielweiss": 0.007966685459661064,
        "holte116": 0.003246619829844704,
        "ktayl47": 0.0004941081004417975,
        "mariafarhat": 0.003246619829844704,
        "mhaloftis": 0.001622669010130137,
        "ncaro": 0.003246619829844704,
        "nicholas.": 0.0032532476915415726,
        "not-logged-in-04a9ceae95d36fd70b9a": 0.0009388800428654134,
        "not-logged-in-340a28051a320c10499e": 0.0017460880672582049,
        "not-logged-in-3e461b5a5635ce55ae0f": 0.0708776173311907,
        "not-logged-in-51509888297c316c34ce": 0.003246619829844704,
        "not-logged-in-562d9daec75faadff5d4": 0.0057922919747061775,
        "not-logged-in-59096a83d89ab5a9471b": 0.003246619829844704,
        "not-logged-in-7e36d1f05e1fdd4c2b64": 0.0006735275807951399,
        "not-logged-in-cbabef9bb5bb1fbb5b75": 0.01579405496521516,
        "not-logged-in-f2d27cddccc2f48b972e": 0.002601590690547906,
        "raydang": 0.0003103401109206071,
        "shirogane": 0.00043611476017735567,
        "syt18": 0.0034930624668160163,
        "zac8151": 0.0003929305281563681
       },
       "encoder": "json",
       "name": "losses",
       "version": 1
      }
     },
     "metadata": {
      "scrapbook": {
       "data": true,
       "display": false,
       "name": "losses"
      }
     },
     "output_type": "display_data"
    }
   ],
   "source": [
    "sb.glue('subject_id', subject_id)\n",
    "sb.glue('losses', losses.to_dict())"
   ]
  }
 ],
 "metadata": {
  "kernel_info": {
   "name": "python3"
  },
  "kernelspec": {
   "display_name": "Python 3",
   "language": "python",
   "name": "python3"
  },
  "language_info": {
   "codemirror_mode": {
    "name": "ipython",
    "version": 3
   },
   "file_extension": ".py",
   "mimetype": "text/x-python",
   "name": "python",
   "nbconvert_exporter": "python",
   "pygments_lexer": "ipython3",
   "version": "3.7.3"
  },
  "nteract": {
   "version": "0.14.3"
  },
  "papermill": {
   "duration": 23.91668,
   "end_time": "2019-09-02T10:21:13.782567",
   "environment_variables": {},
   "exception": null,
   "input_path": "/users/tingard/gzbuilder_results/input_files/volunteer_losses.ipynb",
   "output_path": "/users/tingard/gzbuilder_results/output_files/volunteer_losses/21686537.ipynb",
   "parameters": {
    "subject_id": 21686537
   },
   "start_time": "2019-09-02T10:20:49.865887",
   "version": "1.0.1"
  }
 },
 "nbformat": 4,
 "nbformat_minor": 0
}