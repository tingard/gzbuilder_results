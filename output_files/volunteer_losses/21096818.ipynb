{
 "cells": [
  {
   "cell_type": "markdown",
   "metadata": {
    "papermill": {
     "duration": 0.008877,
     "end_time": "2019-09-02T10:20:47.076199",
     "exception": false,
     "start_time": "2019-09-02T10:20:47.067322",
     "status": "completed"
    },
    "tags": []
   },
   "source": [
    "# Volunteer model loss calculation\n",
    "\n",
    "This notebook takes a `subject_id` and calculates the MSE of each volunteer's model to the galaxy data. These losses are then glued to the notebook for use elsewhere."
   ]
  },
  {
   "cell_type": "code",
   "execution_count": 1,
   "metadata": {
    "collapsed": false,
    "inputHidden": false,
    "outputHidden": false,
    "papermill": {
     "duration": 0.026933,
     "end_time": "2019-09-02T10:20:47.111052",
     "exception": false,
     "start_time": "2019-09-02T10:20:47.084119",
     "status": "completed"
    },
    "tags": []
   },
   "outputs": [],
   "source": [
    "%load_ext autoreload\n",
    "%autoreload 2"
   ]
  },
  {
   "cell_type": "code",
   "execution_count": 2,
   "metadata": {
    "collapsed": false,
    "inputHidden": false,
    "outputHidden": false,
    "papermill": {
     "duration": 4.621738,
     "end_time": "2019-09-02T10:20:51.740939",
     "exception": false,
     "start_time": "2019-09-02T10:20:47.119201",
     "status": "completed"
    },
    "tags": []
   },
   "outputs": [
    {
     "name": "stderr",
     "output_type": "stream",
     "text": [
      "/opt/apps/pkgs/anaconda3/2019.03/intel64/lib/python3.7/site-packages/dask/config.py:168: YAMLLoadWarning: calling yaml.load() without Loader=... is deprecated, as the default Loader is unsafe. Please read https://msg.pyyaml.org/load for full details.\n",
      "  data = yaml.load(f.read()) or {}\n"
     ]
    }
   ],
   "source": [
    "import json\n",
    "import numpy as np\n",
    "import pandas as pd\n",
    "from tqdm import tqdm\n",
    "import matplotlib.pyplot as plt\n",
    "import seaborn as sns\n",
    "from gzbuilder_analysis import parsing, rendering, fitting\n",
    "import lib.galaxy_utilities as gu\n",
    "import scrapbook as sb"
   ]
  },
  {
   "cell_type": "code",
   "execution_count": 3,
   "metadata": {
    "collapsed": false,
    "inputHidden": false,
    "outputHidden": false,
    "papermill": {
     "duration": 0.05001,
     "end_time": "2019-09-02T10:20:51.799793",
     "exception": false,
     "start_time": "2019-09-02T10:20:51.749783",
     "status": "completed"
    },
    "tags": [
     "parameters"
    ]
   },
   "outputs": [],
   "source": [
    "subject_id = 20902040"
   ]
  },
  {
   "cell_type": "code",
   "execution_count": 4,
   "metadata": {
    "papermill": {
     "duration": 0.049343,
     "end_time": "2019-09-02T10:20:51.856921",
     "exception": false,
     "start_time": "2019-09-02T10:20:51.807578",
     "status": "completed"
    },
    "tags": [
     "injected-parameters"
    ]
   },
   "outputs": [],
   "source": [
    "# Parameters\n",
    "subject_id = 21096818\n"
   ]
  },
  {
   "cell_type": "code",
   "execution_count": 5,
   "metadata": {
    "collapsed": false,
    "inputHidden": false,
    "outputHidden": false,
    "papermill": {
     "duration": 0.15101,
     "end_time": "2019-09-02T10:20:52.015946",
     "exception": false,
     "start_time": "2019-09-02T10:20:51.864936",
     "status": "completed"
    },
    "tags": []
   },
   "outputs": [],
   "source": [
    "diff_data_df = pd.read_pickle('lib/fitting_metadata.pkl')"
   ]
  },
  {
   "cell_type": "code",
   "execution_count": 6,
   "metadata": {
    "collapsed": false,
    "inputHidden": false,
    "outputHidden": false,
    "papermill": {
     "duration": 0.088771,
     "end_time": "2019-09-02T10:20:52.114042",
     "exception": false,
     "start_time": "2019-09-02T10:20:52.025271",
     "status": "completed"
    },
    "tags": []
   },
   "outputs": [],
   "source": [
    "def get_losses_by_user(subject_id):\n",
    "  diff_data = diff_data_df.loc[subject_id]\n",
    "  psf = diff_data['psf']\n",
    "  pixel_mask = np.array(diff_data['pixel_mask'])[::-1]\n",
    "  galaxy_data = np.array(diff_data['galaxy_data'])[::-1]\n",
    "  image_size = galaxy_data.shape[0]\n",
    "  size_diff = diff_data['size_diff']\n",
    "  \n",
    "  cls = gu.classifications.query('subject_ids == {}'.format(subject_id))\n",
    "  names = cls.user_name \n",
    "  annotations = cls['annotations'].apply(json.loads)\n",
    "\n",
    "  models = annotations.apply(\n",
    "    parsing.parse_annotation,\n",
    "    size_diff=size_diff\n",
    "  )\n",
    "\n",
    "  tqdm.pandas(\n",
    "    desc='Rendering models'.format(subject_id),\n",
    "    leave=False\n",
    "  )\n",
    "  rendered = models.progress_apply(\n",
    "    rendering.calculate_model,\n",
    "    image_size=image_size,\n",
    "    psf=psf\n",
    "  ).rename('rendered')\n",
    "\n",
    "  tqdm.pandas(\n",
    "    desc='Calculating differences'.format(subject_id),\n",
    "    leave=False\n",
    "  )\n",
    "  losses = rendered.apply(\n",
    "    fitting.loss,\n",
    "    args=(galaxy_data, pixel_mask)\n",
    "  ).rename('loss')\n",
    "  all_losses = pd.Series(\n",
    "    losses.values,\n",
    "    index=names.values\n",
    "  ).rename(subject_id)\n",
    "  best_losses = pd.concat((\n",
    "    all_losses.where(\n",
    "      ~all_losses.duplicated(keep=False)\n",
    "    ).dropna(), # all non-duplicates\n",
    "    all_losses.where(\n",
    "      all_losses.duplicated(keep=False)\n",
    "    ).dropna().groupby(level=0).min() # best value of duplicates\n",
    "  ), axis=0)\n",
    "  return best_losses"
   ]
  },
  {
   "cell_type": "code",
   "execution_count": 7,
   "metadata": {
    "collapsed": false,
    "inputHidden": false,
    "outputHidden": false,
    "papermill": {
     "duration": 28.689535,
     "end_time": "2019-09-02T10:21:20.811447",
     "exception": false,
     "start_time": "2019-09-02T10:20:52.121912",
     "status": "completed"
    },
    "tags": []
   },
   "outputs": [
    {
     "name": "stderr",
     "output_type": "stream",
     "text": [
      "\r",
      "Rendering models:   0%|          | 0/31 [00:00<?, ?it/s]"
     ]
    },
    {
     "name": "stderr",
     "output_type": "stream",
     "text": [
      "\r",
      "Rendering models:   6%|▋         | 2/31 [00:07<01:50,  3.81s/it]"
     ]
    },
    {
     "name": "stderr",
     "output_type": "stream",
     "text": [
      "\r",
      "Rendering models:  10%|▉         | 3/31 [00:08<01:21,  2.90s/it]"
     ]
    },
    {
     "name": "stderr",
     "output_type": "stream",
     "text": [
      "\r",
      "Rendering models:  13%|█▎        | 4/31 [00:09<01:04,  2.40s/it]"
     ]
    },
    {
     "name": "stderr",
     "output_type": "stream",
     "text": [
      "\r",
      "Rendering models:  16%|█▌        | 5/31 [00:10<00:49,  1.89s/it]"
     ]
    },
    {
     "name": "stderr",
     "output_type": "stream",
     "text": [
      "\r",
      "Rendering models:  19%|█▉        | 6/31 [00:11<00:38,  1.55s/it]"
     ]
    },
    {
     "name": "stderr",
     "output_type": "stream",
     "text": [
      "\r",
      "Rendering models:  23%|██▎       | 7/31 [00:12<00:32,  1.36s/it]"
     ]
    },
    {
     "name": "stderr",
     "output_type": "stream",
     "text": [
      "\r",
      "Rendering models:  26%|██▌       | 8/31 [00:13<00:30,  1.32s/it]"
     ]
    },
    {
     "name": "stderr",
     "output_type": "stream",
     "text": [
      "\r",
      "Rendering models:  29%|██▉       | 9/31 [00:14<00:28,  1.28s/it]"
     ]
    },
    {
     "name": "stderr",
     "output_type": "stream",
     "text": [
      "\r",
      "Rendering models:  32%|███▏      | 10/31 [00:15<00:26,  1.27s/it]"
     ]
    },
    {
     "name": "stderr",
     "output_type": "stream",
     "text": [
      "\r",
      "Rendering models:  35%|███▌      | 11/31 [00:16<00:21,  1.08s/it]"
     ]
    },
    {
     "name": "stderr",
     "output_type": "stream",
     "text": [
      "\r",
      "Rendering models:  39%|███▊      | 12/31 [00:17<00:20,  1.09s/it]"
     ]
    },
    {
     "name": "stderr",
     "output_type": "stream",
     "text": [
      "\r",
      "Rendering models:  45%|████▌     | 14/31 [00:17<00:13,  1.23it/s]"
     ]
    },
    {
     "name": "stderr",
     "output_type": "stream",
     "text": [
      "\r",
      "Rendering models:  52%|█████▏    | 16/31 [00:18<00:11,  1.35it/s]"
     ]
    },
    {
     "name": "stderr",
     "output_type": "stream",
     "text": [
      "\r",
      "Rendering models:  58%|█████▊    | 18/31 [00:19<00:07,  1.63it/s]"
     ]
    },
    {
     "name": "stderr",
     "output_type": "stream",
     "text": [
      "\r",
      "Rendering models:  61%|██████▏   | 19/31 [00:20<00:07,  1.63it/s]"
     ]
    },
    {
     "name": "stderr",
     "output_type": "stream",
     "text": [
      "\r",
      "Rendering models:  65%|██████▍   | 20/31 [00:20<00:07,  1.56it/s]"
     ]
    },
    {
     "name": "stderr",
     "output_type": "stream",
     "text": [
      "\r",
      "Rendering models:  68%|██████▊   | 21/31 [00:21<00:07,  1.30it/s]"
     ]
    },
    {
     "name": "stderr",
     "output_type": "stream",
     "text": [
      "\r",
      "Rendering models:  71%|███████   | 22/31 [00:22<00:06,  1.35it/s]"
     ]
    },
    {
     "name": "stderr",
     "output_type": "stream",
     "text": [
      "\r",
      "Rendering models:  74%|███████▍  | 23/31 [00:23<00:05,  1.45it/s]"
     ]
    },
    {
     "name": "stderr",
     "output_type": "stream",
     "text": [
      "\r",
      "Rendering models:  77%|███████▋  | 24/31 [00:23<00:03,  1.83it/s]"
     ]
    },
    {
     "name": "stderr",
     "output_type": "stream",
     "text": [
      "\r",
      "Rendering models:  81%|████████  | 25/31 [00:24<00:03,  1.62it/s]"
     ]
    },
    {
     "name": "stderr",
     "output_type": "stream",
     "text": [
      "\r",
      "Rendering models:  84%|████████▍ | 26/31 [00:24<00:02,  1.70it/s]"
     ]
    },
    {
     "name": "stderr",
     "output_type": "stream",
     "text": [
      "\r",
      "Rendering models:  87%|████████▋ | 27/31 [00:25<00:02,  1.46it/s]"
     ]
    },
    {
     "name": "stderr",
     "output_type": "stream",
     "text": [
      "\r",
      "Rendering models:  90%|█████████ | 28/31 [00:26<00:01,  1.62it/s]"
     ]
    },
    {
     "name": "stderr",
     "output_type": "stream",
     "text": [
      "\r",
      "Rendering models:  94%|█████████▎| 29/31 [00:27<00:01,  1.36it/s]"
     ]
    },
    {
     "name": "stderr",
     "output_type": "stream",
     "text": [
      "\r",
      "Rendering models:  97%|█████████▋| 30/31 [00:27<00:00,  1.55it/s]"
     ]
    },
    {
     "name": "stderr",
     "output_type": "stream",
     "text": [
      "\r",
      "Rendering models: 100%|██████████| 31/31 [00:27<00:00,  1.69it/s]"
     ]
    },
    {
     "name": "stderr",
     "output_type": "stream",
     "text": [
      "\r",
      "                                                                 "
     ]
    },
    {
     "name": "stderr",
     "output_type": "stream",
     "text": [
      "\r"
     ]
    },
    {
     "data": {
      "text/plain": [
       "Jnursssmith5263                        0.000993\n",
       "not-logged-in-f45cae824435ec815f31     0.057589\n",
       "Alexander00                            0.000220\n",
       "universehead-1                         0.000218\n",
       "Jonas_Cross                            0.000310\n",
       "not-logged-in-7edd9b2ab9752961abc1     0.078981\n",
       "jnarayanbvg                            0.023153\n",
       "c196948                                0.015759\n",
       "Quarkgc                                0.000265\n",
       "not-logged-in-e7932b1588574fe4dae2     0.008520\n",
       "mr_willock                             0.000293\n",
       "not-logged-in-9a45911eb71184fe7c7f     0.000263\n",
       "Giantjack14                           59.597102\n",
       "acapirala                              0.000318\n",
       "vctjones                               0.057269\n",
       "Lavadude                               0.041087\n",
       "not-logged-in-8ed37f989908c6fada03     0.002191\n",
       "lgonzalez62                            0.003004\n",
       "tdanyluk                               0.000161\n",
       "tdanyluk                               0.000196\n",
       "IdeasInSpace                           0.001222\n",
       "ywan3529                               0.000108\n",
       "swalla46                               0.000258\n",
       "not-logged-in-fc0fffd0b7fe097394c8     0.000203\n",
       "not-logged-in-df3005ef78a24d2d1908     0.020228\n",
       "Mkcls                                  0.000410\n",
       "mstew.27                               0.001218\n",
       "h4ranek                                0.000529\n",
       "Rodger11                               0.001431\n",
       "mariafarhat                            0.001431\n",
       "not-logged-in-214814e52004b42491a4     0.001431\n",
       "Name: 21096818, dtype: float64"
      ]
     },
     "execution_count": 7,
     "metadata": {},
     "output_type": "execute_result"
    }
   ],
   "source": [
    "losses = get_losses_by_user(subject_id)\n",
    "losses"
   ]
  },
  {
   "cell_type": "code",
   "execution_count": 8,
   "metadata": {
    "collapsed": false,
    "inputHidden": false,
    "outputHidden": false,
    "papermill": {
     "duration": 0.080372,
     "end_time": "2019-09-02T10:21:20.906269",
     "exception": false,
     "start_time": "2019-09-02T10:21:20.825897",
     "status": "completed"
    },
    "tags": []
   },
   "outputs": [
    {
     "data": {
      "application/scrapbook.scrap.json+json": {
       "data": 21096818,
       "encoder": "json",
       "name": "subject_id",
       "version": 1
      }
     },
     "metadata": {
      "scrapbook": {
       "data": true,
       "display": false,
       "name": "subject_id"
      }
     },
     "output_type": "display_data"
    },
    {
     "data": {
      "application/scrapbook.scrap.json+json": {
       "data": {
        "Alexander00": 0.00022046932498688099,
        "Giantjack14": 59.597102028465,
        "IdeasInSpace": 0.0012224646150329106,
        "Jnursssmith5263": 0.0009925664108443853,
        "Jonas_Cross": 0.0003104400060579909,
        "Lavadude": 0.041087193889029996,
        "Mkcls": 0.0004096453135518581,
        "Quarkgc": 0.00026464777289223276,
        "Rodger11": 0.0014308382895341066,
        "acapirala": 0.00031793622662524526,
        "c196948": 0.015759310260974373,
        "h4ranek": 0.0005287834081015607,
        "jnarayanbvg": 0.02315302900588498,
        "lgonzalez62": 0.003004493929533586,
        "mariafarhat": 0.0014308382895341066,
        "mr_willock": 0.000293067822941982,
        "mstew.27": 0.0012175285291134135,
        "not-logged-in-214814e52004b42491a4": 0.0014308382895341066,
        "not-logged-in-7edd9b2ab9752961abc1": 0.07898149528955091,
        "not-logged-in-8ed37f989908c6fada03": 0.002191444495561836,
        "not-logged-in-9a45911eb71184fe7c7f": 0.00026268156195627905,
        "not-logged-in-df3005ef78a24d2d1908": 0.020227945881212555,
        "not-logged-in-e7932b1588574fe4dae2": 0.008519610264966466,
        "not-logged-in-f45cae824435ec815f31": 0.057589478376997426,
        "not-logged-in-fc0fffd0b7fe097394c8": 0.00020287292236155372,
        "swalla46": 0.0002575087334887285,
        "tdanyluk": 0.00019551781229458742,
        "universehead-1": 0.0002182638644941257,
        "vctjones": 0.057269396706693725,
        "ywan3529": 0.00010782953871959858
       },
       "encoder": "json",
       "name": "losses",
       "version": 1
      }
     },
     "metadata": {
      "scrapbook": {
       "data": true,
       "display": false,
       "name": "losses"
      }
     },
     "output_type": "display_data"
    }
   ],
   "source": [
    "sb.glue('subject_id', subject_id)\n",
    "sb.glue('losses', losses.to_dict())"
   ]
  }
 ],
 "metadata": {
  "kernel_info": {
   "name": "python3"
  },
  "kernelspec": {
   "display_name": "Python 3",
   "language": "python",
   "name": "python3"
  },
  "language_info": {
   "codemirror_mode": {
    "name": "ipython",
    "version": 3
   },
   "file_extension": ".py",
   "mimetype": "text/x-python",
   "name": "python",
   "nbconvert_exporter": "python",
   "pygments_lexer": "ipython3",
   "version": "3.7.3"
  },
  "nteract": {
   "version": "0.14.3"
  },
  "papermill": {
   "duration": 36.917791,
   "end_time": "2019-09-02T10:21:22.318546",
   "environment_variables": {},
   "exception": null,
   "input_path": "/users/tingard/gzbuilder_results/input_files/volunteer_losses.ipynb",
   "output_path": "/users/tingard/gzbuilder_results/output_files/volunteer_losses/21096818.ipynb",
   "parameters": {
    "subject_id": 21096818
   },
   "start_time": "2019-09-02T10:20:45.400755",
   "version": "1.0.1"
  }
 },
 "nbformat": 4,
 "nbformat_minor": 0
}