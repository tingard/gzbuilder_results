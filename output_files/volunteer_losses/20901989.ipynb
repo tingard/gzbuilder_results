{
 "cells": [
  {
   "cell_type": "markdown",
   "metadata": {
    "papermill": {
     "duration": 0.01085,
     "end_time": "2019-09-02T10:20:13.786086",
     "exception": false,
     "start_time": "2019-09-02T10:20:13.775236",
     "status": "completed"
    },
    "tags": []
   },
   "source": [
    "# Volunteer model loss calculation\n",
    "\n",
    "This notebook takes a `subject_id` and calculates the MSE of each volunteer's model to the galaxy data. These losses are then glued to the notebook for use elsewhere."
   ]
  },
  {
   "cell_type": "code",
   "execution_count": 1,
   "metadata": {
    "collapsed": false,
    "inputHidden": false,
    "outputHidden": false,
    "papermill": {
     "duration": 0.026179,
     "end_time": "2019-09-02T10:20:13.821412",
     "exception": false,
     "start_time": "2019-09-02T10:20:13.795233",
     "status": "completed"
    },
    "tags": []
   },
   "outputs": [],
   "source": [
    "%load_ext autoreload\n",
    "%autoreload 2"
   ]
  },
  {
   "cell_type": "code",
   "execution_count": 2,
   "metadata": {
    "collapsed": false,
    "inputHidden": false,
    "outputHidden": false,
    "papermill": {
     "duration": 5.613872,
     "end_time": "2019-09-02T10:20:19.444105",
     "exception": false,
     "start_time": "2019-09-02T10:20:13.830233",
     "status": "completed"
    },
    "tags": []
   },
   "outputs": [
    {
     "name": "stderr",
     "output_type": "stream",
     "text": [
      "/opt/apps/pkgs/anaconda3/2019.03/intel64/lib/python3.7/site-packages/dask/config.py:168: YAMLLoadWarning: calling yaml.load() without Loader=... is deprecated, as the default Loader is unsafe. Please read https://msg.pyyaml.org/load for full details.\n",
      "  data = yaml.load(f.read()) or {}\n"
     ]
    }
   ],
   "source": [
    "import json\n",
    "import numpy as np\n",
    "import pandas as pd\n",
    "from tqdm import tqdm\n",
    "import matplotlib.pyplot as plt\n",
    "import seaborn as sns\n",
    "from gzbuilder_analysis import parsing, rendering, fitting\n",
    "import lib.galaxy_utilities as gu\n",
    "import scrapbook as sb"
   ]
  },
  {
   "cell_type": "code",
   "execution_count": 3,
   "metadata": {
    "collapsed": false,
    "inputHidden": false,
    "outputHidden": false,
    "papermill": {
     "duration": 0.04403,
     "end_time": "2019-09-02T10:20:19.496940",
     "exception": false,
     "start_time": "2019-09-02T10:20:19.452910",
     "status": "completed"
    },
    "tags": [
     "parameters"
    ]
   },
   "outputs": [],
   "source": [
    "subject_id = 20902040"
   ]
  },
  {
   "cell_type": "code",
   "execution_count": 4,
   "metadata": {
    "papermill": {
     "duration": 0.191501,
     "end_time": "2019-09-02T10:20:19.697495",
     "exception": false,
     "start_time": "2019-09-02T10:20:19.505994",
     "status": "completed"
    },
    "tags": [
     "injected-parameters"
    ]
   },
   "outputs": [],
   "source": [
    "# Parameters\n",
    "subject_id = 20901989\n"
   ]
  },
  {
   "cell_type": "code",
   "execution_count": 5,
   "metadata": {
    "collapsed": false,
    "inputHidden": false,
    "outputHidden": false,
    "papermill": {
     "duration": 0.147745,
     "end_time": "2019-09-02T10:20:19.852885",
     "exception": false,
     "start_time": "2019-09-02T10:20:19.705140",
     "status": "completed"
    },
    "tags": []
   },
   "outputs": [],
   "source": [
    "diff_data_df = pd.read_pickle('lib/fitting_metadata.pkl')"
   ]
  },
  {
   "cell_type": "code",
   "execution_count": 6,
   "metadata": {
    "collapsed": false,
    "inputHidden": false,
    "outputHidden": false,
    "papermill": {
     "duration": 0.051156,
     "end_time": "2019-09-02T10:20:19.911912",
     "exception": false,
     "start_time": "2019-09-02T10:20:19.860756",
     "status": "completed"
    },
    "tags": []
   },
   "outputs": [],
   "source": [
    "def get_losses_by_user(subject_id):\n",
    "  diff_data = diff_data_df.loc[subject_id]\n",
    "  psf = diff_data['psf']\n",
    "  pixel_mask = np.array(diff_data['pixel_mask'])[::-1]\n",
    "  galaxy_data = np.array(diff_data['galaxy_data'])[::-1]\n",
    "  image_size = galaxy_data.shape[0]\n",
    "  size_diff = diff_data['size_diff']\n",
    "  \n",
    "  cls = gu.classifications.query('subject_ids == {}'.format(subject_id))\n",
    "  names = cls.user_name \n",
    "  annotations = cls['annotations'].apply(json.loads)\n",
    "\n",
    "  models = annotations.apply(\n",
    "    parsing.parse_annotation,\n",
    "    size_diff=size_diff\n",
    "  )\n",
    "\n",
    "  tqdm.pandas(\n",
    "    desc='Rendering models'.format(subject_id),\n",
    "    leave=False\n",
    "  )\n",
    "  rendered = models.progress_apply(\n",
    "    rendering.calculate_model,\n",
    "    image_size=image_size,\n",
    "    psf=psf\n",
    "  ).rename('rendered')\n",
    "\n",
    "  tqdm.pandas(\n",
    "    desc='Calculating differences'.format(subject_id),\n",
    "    leave=False\n",
    "  )\n",
    "  losses = rendered.apply(\n",
    "    fitting.loss,\n",
    "    args=(galaxy_data, pixel_mask)\n",
    "  ).rename('loss')\n",
    "  all_losses = pd.Series(\n",
    "    losses.values,\n",
    "    index=names.values\n",
    "  ).rename(subject_id)\n",
    "  best_losses = pd.concat((\n",
    "    all_losses.where(\n",
    "      ~all_losses.duplicated(keep=False)\n",
    "    ).dropna(), # all non-duplicates\n",
    "    all_losses.where(\n",
    "      all_losses.duplicated(keep=False)\n",
    "    ).dropna().groupby(level=0).min() # best value of duplicates\n",
    "  ), axis=0)\n",
    "  return best_losses"
   ]
  },
  {
   "cell_type": "code",
   "execution_count": 7,
   "metadata": {
    "collapsed": false,
    "inputHidden": false,
    "outputHidden": false,
    "papermill": {
     "duration": 7.707398,
     "end_time": "2019-09-02T10:20:27.626588",
     "exception": false,
     "start_time": "2019-09-02T10:20:19.919190",
     "status": "completed"
    },
    "tags": []
   },
   "outputs": [
    {
     "name": "stderr",
     "output_type": "stream",
     "text": [
      "\r",
      "Rendering models:   0%|          | 0/31 [00:00<?, ?it/s]"
     ]
    },
    {
     "name": "stderr",
     "output_type": "stream",
     "text": [
      "\r",
      "Rendering models:   6%|▋         | 2/31 [00:01<00:20,  1.39it/s]"
     ]
    },
    {
     "name": "stderr",
     "output_type": "stream",
     "text": [
      "\r",
      "Rendering models:  10%|▉         | 3/31 [00:02<00:22,  1.23it/s]"
     ]
    },
    {
     "name": "stderr",
     "output_type": "stream",
     "text": [
      "\r",
      "Rendering models:  16%|█▌        | 5/31 [00:03<00:20,  1.27it/s]"
     ]
    },
    {
     "name": "stderr",
     "output_type": "stream",
     "text": [
      "\r",
      "Rendering models:  32%|███▏      | 10/31 [00:04<00:11,  1.79it/s]"
     ]
    },
    {
     "name": "stderr",
     "output_type": "stream",
     "text": [
      "\r",
      "Rendering models:  39%|███▊      | 12/31 [00:06<00:14,  1.28it/s]"
     ]
    },
    {
     "name": "stderr",
     "output_type": "stream",
     "text": [
      "\r",
      "Rendering models:  45%|████▌     | 14/31 [00:06<00:09,  1.78it/s]"
     ]
    },
    {
     "name": "stderr",
     "output_type": "stream",
     "text": [
      "\r",
      "Rendering models:  58%|█████▊    | 18/31 [00:06<00:05,  2.47it/s]"
     ]
    },
    {
     "name": "stderr",
     "output_type": "stream",
     "text": [
      "\r",
      "Rendering models:  68%|██████▊   | 21/31 [00:07<00:02,  3.34it/s]"
     ]
    },
    {
     "name": "stderr",
     "output_type": "stream",
     "text": [
      "\r",
      "Rendering models:  77%|███████▋  | 24/31 [00:07<00:01,  4.53it/s]"
     ]
    },
    {
     "name": "stderr",
     "output_type": "stream",
     "text": [
      "\r",
      "Rendering models:  87%|████████▋ | 27/31 [00:07<00:00,  6.03it/s]"
     ]
    },
    {
     "name": "stderr",
     "output_type": "stream",
     "text": [
      "\r",
      "Rendering models:  97%|█████████▋| 30/31 [00:07<00:00,  7.62it/s]"
     ]
    },
    {
     "name": "stderr",
     "output_type": "stream",
     "text": [
      "\r",
      "                                                                 "
     ]
    },
    {
     "name": "stderr",
     "output_type": "stream",
     "text": [
      "\r"
     ]
    },
    {
     "data": {
      "text/plain": [
       "equidad1                              0.001996\n",
       "Bertrand15                            0.008786\n",
       "not-logged-in-e0d22fca112ab22e0f7f    0.002949\n",
       "CTidwell3                             0.000311\n",
       "not-logged-in-204fc099209d1816fe0b    0.000348\n",
       "bkbolli                               0.001159\n",
       "kenyandall                            0.002875\n",
       "not-logged-in-076d4b51a9c3210cfd57    0.002455\n",
       "not-logged-in-75af55cf19be29c510aa    0.146192\n",
       "Jboy2000                              0.673355\n",
       "not-logged-in-f09819078c043556a4da    0.000682\n",
       "browny811                             0.000858\n",
       "Jessica_Korkmaz                       0.000965\n",
       "not-logged-in-c7d2e7cd49f9072ed0e6    0.485147\n",
       "not-logged-in-efc6ca268a17c35083af    0.194586\n",
       "not-logged-in-d04ed8c60cd5453cb408    0.000518\n",
       "AlexYoung35                           0.000451\n",
       "acapirala                             0.000316\n",
       "pangeli5                              0.000222\n",
       "Mr_DMan                               0.003539\n",
       "Lavadude                              0.051993\n",
       "not-logged-in-873227d79645e4708632    0.182124\n",
       "wedgwood_bluebtinternet.com           0.001677\n",
       "Denny2507                             0.000527\n",
       "not-logged-in-fc0fffd0b7fe097394c8    0.000239\n",
       "KaitlynW21                            0.004524\n",
       "TonyJay                               0.004524\n",
       "mariafarhat                           0.004524\n",
       "not-logged-in-41e9fe197dc7a2be8424    0.004524\n",
       "not-logged-in-66880d921e998997b392    0.004524\n",
       "not-logged-in-8447ab44be476f813f7d    0.004524\n",
       "Name: 20901989, dtype: float64"
      ]
     },
     "execution_count": 7,
     "metadata": {},
     "output_type": "execute_result"
    }
   ],
   "source": [
    "losses = get_losses_by_user(subject_id)\n",
    "losses"
   ]
  },
  {
   "cell_type": "code",
   "execution_count": 8,
   "metadata": {
    "collapsed": false,
    "inputHidden": false,
    "outputHidden": false,
    "papermill": {
     "duration": 0.060306,
     "end_time": "2019-09-02T10:20:27.700766",
     "exception": false,
     "start_time": "2019-09-02T10:20:27.640460",
     "status": "completed"
    },
    "tags": []
   },
   "outputs": [
    {
     "data": {
      "application/scrapbook.scrap.json+json": {
       "data": 20901989,
       "encoder": "json",
       "name": "subject_id",
       "version": 1
      }
     },
     "metadata": {
      "scrapbook": {
       "data": true,
       "display": false,
       "name": "subject_id"
      }
     },
     "output_type": "display_data"
    },
    {
     "data": {
      "application/scrapbook.scrap.json+json": {
       "data": {
        "AlexYoung35": 0.00045121157007286194,
        "Bertrand15": 0.008786245523882864,
        "CTidwell3": 0.0003112110249866016,
        "Denny2507": 0.0005267957682148273,
        "Jboy2000": 0.673355134825658,
        "Jessica_Korkmaz": 0.0009645307118516021,
        "KaitlynW21": 0.004524181837167,
        "Lavadude": 0.051992730374789985,
        "Mr_DMan": 0.0035385630349833194,
        "TonyJay": 0.004524181837167,
        "acapirala": 0.00031604556989775316,
        "bkbolli": 0.0011590661849108003,
        "browny811": 0.0008584517066833751,
        "equidad1": 0.0019955076064427603,
        "kenyandall": 0.002875098594445714,
        "mariafarhat": 0.004524181837167,
        "not-logged-in-076d4b51a9c3210cfd57": 0.0024545466592355357,
        "not-logged-in-204fc099209d1816fe0b": 0.00034753670556063787,
        "not-logged-in-41e9fe197dc7a2be8424": 0.004524181837167,
        "not-logged-in-66880d921e998997b392": 0.004524181837167,
        "not-logged-in-75af55cf19be29c510aa": 0.1461922002033575,
        "not-logged-in-8447ab44be476f813f7d": 0.004524181837167,
        "not-logged-in-873227d79645e4708632": 0.18212364197692682,
        "not-logged-in-c7d2e7cd49f9072ed0e6": 0.48514661938483133,
        "not-logged-in-d04ed8c60cd5453cb408": 0.0005183907440058624,
        "not-logged-in-e0d22fca112ab22e0f7f": 0.002949457523073608,
        "not-logged-in-efc6ca268a17c35083af": 0.19458558555183536,
        "not-logged-in-f09819078c043556a4da": 0.0006818359429106858,
        "not-logged-in-fc0fffd0b7fe097394c8": 0.00023935490762408388,
        "pangeli5": 0.00022164791428020127,
        "wedgwood_bluebtinternet.com": 0.0016771942209421657
       },
       "encoder": "json",
       "name": "losses",
       "version": 1
      }
     },
     "metadata": {
      "scrapbook": {
       "data": true,
       "display": false,
       "name": "losses"
      }
     },
     "output_type": "display_data"
    }
   ],
   "source": [
    "sb.glue('subject_id', subject_id)\n",
    "sb.glue('losses', losses.to_dict())"
   ]
  }
 ],
 "metadata": {
  "kernel_info": {
   "name": "python3"
  },
  "kernelspec": {
   "display_name": "Python 3",
   "language": "python",
   "name": "python3"
  },
  "language_info": {
   "codemirror_mode": {
    "name": "ipython",
    "version": 3
   },
   "file_extension": ".py",
   "mimetype": "text/x-python",
   "name": "python",
   "nbconvert_exporter": "python",
   "pygments_lexer": "ipython3",
   "version": "3.7.3"
  },
  "nteract": {
   "version": "0.14.3"
  },
  "papermill": {
   "duration": 17.001459,
   "end_time": "2019-09-02T10:20:28.733908",
   "environment_variables": {},
   "exception": null,
   "input_path": "/users/tingard/gzbuilder_results/input_files/volunteer_losses.ipynb",
   "output_path": "/users/tingard/gzbuilder_results/output_files/volunteer_losses/20901989.ipynb",
   "parameters": {
    "subject_id": 20901989
   },
   "start_time": "2019-09-02T10:20:11.732449",
   "version": "1.0.1"
  }
 },
 "nbformat": 4,
 "nbformat_minor": 0
}