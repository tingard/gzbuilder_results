{
 "cells": [
  {
   "cell_type": "markdown",
   "metadata": {
    "papermill": {
     "duration": 0.011818,
     "end_time": "2019-09-02T10:20:21.224503",
     "exception": false,
     "start_time": "2019-09-02T10:20:21.212685",
     "status": "completed"
    },
    "tags": []
   },
   "source": [
    "# Volunteer model loss calculation\n",
    "\n",
    "This notebook takes a `subject_id` and calculates the MSE of each volunteer's model to the galaxy data. These losses are then glued to the notebook for use elsewhere."
   ]
  },
  {
   "cell_type": "code",
   "execution_count": 1,
   "metadata": {
    "collapsed": false,
    "inputHidden": false,
    "outputHidden": false,
    "papermill": {
     "duration": 0.035599,
     "end_time": "2019-09-02T10:20:21.270889",
     "exception": false,
     "start_time": "2019-09-02T10:20:21.235290",
     "status": "completed"
    },
    "tags": []
   },
   "outputs": [],
   "source": [
    "%load_ext autoreload\n",
    "%autoreload 2"
   ]
  },
  {
   "cell_type": "code",
   "execution_count": 2,
   "metadata": {
    "collapsed": false,
    "inputHidden": false,
    "outputHidden": false,
    "papermill": {
     "duration": 7.040105,
     "end_time": "2019-09-02T10:20:28.320120",
     "exception": false,
     "start_time": "2019-09-02T10:20:21.280015",
     "status": "completed"
    },
    "tags": []
   },
   "outputs": [
    {
     "name": "stderr",
     "output_type": "stream",
     "text": [
      "/opt/apps/pkgs/anaconda3/2019.03/intel64/lib/python3.7/site-packages/dask/config.py:168: YAMLLoadWarning: calling yaml.load() without Loader=... is deprecated, as the default Loader is unsafe. Please read https://msg.pyyaml.org/load for full details.\n",
      "  data = yaml.load(f.read()) or {}\n"
     ]
    }
   ],
   "source": [
    "import json\n",
    "import numpy as np\n",
    "import pandas as pd\n",
    "from tqdm import tqdm\n",
    "import matplotlib.pyplot as plt\n",
    "import seaborn as sns\n",
    "from gzbuilder_analysis import parsing, rendering, fitting\n",
    "import lib.galaxy_utilities as gu\n",
    "import scrapbook as sb"
   ]
  },
  {
   "cell_type": "code",
   "execution_count": 3,
   "metadata": {
    "collapsed": false,
    "inputHidden": false,
    "outputHidden": false,
    "papermill": {
     "duration": 0.042314,
     "end_time": "2019-09-02T10:20:28.371126",
     "exception": false,
     "start_time": "2019-09-02T10:20:28.328812",
     "status": "completed"
    },
    "tags": [
     "parameters"
    ]
   },
   "outputs": [],
   "source": [
    "subject_id = 20902040"
   ]
  },
  {
   "cell_type": "code",
   "execution_count": 4,
   "metadata": {
    "papermill": {
     "duration": 0.042631,
     "end_time": "2019-09-02T10:20:28.421596",
     "exception": false,
     "start_time": "2019-09-02T10:20:28.378965",
     "status": "completed"
    },
    "tags": [
     "injected-parameters"
    ]
   },
   "outputs": [],
   "source": [
    "# Parameters\n",
    "subject_id = 20902074\n"
   ]
  },
  {
   "cell_type": "code",
   "execution_count": 5,
   "metadata": {
    "collapsed": false,
    "inputHidden": false,
    "outputHidden": false,
    "papermill": {
     "duration": 0.151616,
     "end_time": "2019-09-02T10:20:28.581425",
     "exception": false,
     "start_time": "2019-09-02T10:20:28.429809",
     "status": "completed"
    },
    "tags": []
   },
   "outputs": [],
   "source": [
    "diff_data_df = pd.read_pickle('lib/fitting_metadata.pkl')"
   ]
  },
  {
   "cell_type": "code",
   "execution_count": 6,
   "metadata": {
    "collapsed": false,
    "inputHidden": false,
    "outputHidden": false,
    "papermill": {
     "duration": 0.049163,
     "end_time": "2019-09-02T10:20:28.639833",
     "exception": false,
     "start_time": "2019-09-02T10:20:28.590670",
     "status": "completed"
    },
    "tags": []
   },
   "outputs": [],
   "source": [
    "def get_losses_by_user(subject_id):\n",
    "  diff_data = diff_data_df.loc[subject_id]\n",
    "  psf = diff_data['psf']\n",
    "  pixel_mask = np.array(diff_data['pixel_mask'])[::-1]\n",
    "  galaxy_data = np.array(diff_data['galaxy_data'])[::-1]\n",
    "  image_size = galaxy_data.shape[0]\n",
    "  size_diff = diff_data['size_diff']\n",
    "  \n",
    "  cls = gu.classifications.query('subject_ids == {}'.format(subject_id))\n",
    "  names = cls.user_name \n",
    "  annotations = cls['annotations'].apply(json.loads)\n",
    "\n",
    "  models = annotations.apply(\n",
    "    parsing.parse_annotation,\n",
    "    size_diff=size_diff\n",
    "  )\n",
    "\n",
    "  tqdm.pandas(\n",
    "    desc='Rendering models'.format(subject_id),\n",
    "    leave=False\n",
    "  )\n",
    "  rendered = models.progress_apply(\n",
    "    rendering.calculate_model,\n",
    "    image_size=image_size,\n",
    "    psf=psf\n",
    "  ).rename('rendered')\n",
    "\n",
    "  tqdm.pandas(\n",
    "    desc='Calculating differences'.format(subject_id),\n",
    "    leave=False\n",
    "  )\n",
    "  losses = rendered.apply(\n",
    "    fitting.loss,\n",
    "    args=(galaxy_data, pixel_mask)\n",
    "  ).rename('loss')\n",
    "  all_losses = pd.Series(\n",
    "    losses.values,\n",
    "    index=names.values\n",
    "  ).rename(subject_id)\n",
    "  best_losses = pd.concat((\n",
    "    all_losses.where(\n",
    "      ~all_losses.duplicated(keep=False)\n",
    "    ).dropna(), # all non-duplicates\n",
    "    all_losses.where(\n",
    "      all_losses.duplicated(keep=False)\n",
    "    ).dropna().groupby(level=0).min() # best value of duplicates\n",
    "  ), axis=0)\n",
    "  return best_losses"
   ]
  },
  {
   "cell_type": "code",
   "execution_count": 7,
   "metadata": {
    "collapsed": false,
    "inputHidden": false,
    "outputHidden": false,
    "papermill": {
     "duration": 10.885493,
     "end_time": "2019-09-02T10:20:39.534126",
     "exception": false,
     "start_time": "2019-09-02T10:20:28.648633",
     "status": "completed"
    },
    "tags": []
   },
   "outputs": [
    {
     "name": "stderr",
     "output_type": "stream",
     "text": [
      "\r",
      "Rendering models:   0%|          | 0/41 [00:00<?, ?it/s]"
     ]
    },
    {
     "name": "stderr",
     "output_type": "stream",
     "text": [
      "\r",
      "Rendering models:   5%|▍         | 2/41 [00:04<01:20,  2.07s/it]"
     ]
    },
    {
     "name": "stderr",
     "output_type": "stream",
     "text": [
      "\r",
      "Rendering models:   7%|▋         | 3/41 [00:05<01:10,  1.86s/it]"
     ]
    },
    {
     "name": "stderr",
     "output_type": "stream",
     "text": [
      "\r",
      "Rendering models:  15%|█▍        | 6/41 [00:05<00:46,  1.32s/it]"
     ]
    },
    {
     "name": "stderr",
     "output_type": "stream",
     "text": [
      "\r",
      "Rendering models:  20%|█▉        | 8/41 [00:05<00:31,  1.05it/s]"
     ]
    },
    {
     "name": "stderr",
     "output_type": "stream",
     "text": [
      "\r",
      "Rendering models:  24%|██▍       | 10/41 [00:06<00:21,  1.45it/s]"
     ]
    },
    {
     "name": "stderr",
     "output_type": "stream",
     "text": [
      "\r",
      "Rendering models:  29%|██▉       | 12/41 [00:06<00:14,  1.98it/s]"
     ]
    },
    {
     "name": "stderr",
     "output_type": "stream",
     "text": [
      "\r",
      "Rendering models:  34%|███▍      | 14/41 [00:06<00:10,  2.62it/s]"
     ]
    },
    {
     "name": "stderr",
     "output_type": "stream",
     "text": [
      "\r",
      "Rendering models:  39%|███▉      | 16/41 [00:06<00:07,  3.45it/s]"
     ]
    },
    {
     "name": "stderr",
     "output_type": "stream",
     "text": [
      "\r",
      "Rendering models:  44%|████▍     | 18/41 [00:06<00:05,  4.37it/s]"
     ]
    },
    {
     "name": "stderr",
     "output_type": "stream",
     "text": [
      "\r",
      "Rendering models:  49%|████▉     | 20/41 [00:08<00:09,  2.28it/s]"
     ]
    },
    {
     "name": "stderr",
     "output_type": "stream",
     "text": [
      "\r",
      "Rendering models:  51%|█████     | 21/41 [00:08<00:07,  2.76it/s]"
     ]
    },
    {
     "name": "stderr",
     "output_type": "stream",
     "text": [
      "\r",
      "Rendering models:  56%|█████▌    | 23/41 [00:08<00:04,  3.69it/s]"
     ]
    },
    {
     "name": "stderr",
     "output_type": "stream",
     "text": [
      "\r",
      "Rendering models:  61%|██████    | 25/41 [00:09<00:03,  4.49it/s]"
     ]
    },
    {
     "name": "stderr",
     "output_type": "stream",
     "text": [
      "\r",
      "Rendering models:  63%|██████▎   | 26/41 [00:09<00:02,  5.32it/s]"
     ]
    },
    {
     "name": "stderr",
     "output_type": "stream",
     "text": [
      "\r",
      "Rendering models:  66%|██████▌   | 27/41 [00:09<00:02,  4.94it/s]"
     ]
    },
    {
     "name": "stderr",
     "output_type": "stream",
     "text": [
      "\r",
      "Rendering models:  71%|███████   | 29/41 [00:09<00:02,  5.45it/s]"
     ]
    },
    {
     "name": "stderr",
     "output_type": "stream",
     "text": [
      "\r",
      "Rendering models:  73%|███████▎  | 30/41 [00:09<00:02,  5.45it/s]"
     ]
    },
    {
     "name": "stderr",
     "output_type": "stream",
     "text": [
      "\r",
      "Rendering models:  76%|███████▌  | 31/41 [00:09<00:01,  6.15it/s]"
     ]
    },
    {
     "name": "stderr",
     "output_type": "stream",
     "text": [
      "\r",
      "Rendering models:  80%|████████  | 33/41 [00:10<00:01,  7.54it/s]"
     ]
    },
    {
     "name": "stderr",
     "output_type": "stream",
     "text": [
      "\r",
      "Rendering models:  90%|█████████ | 37/41 [00:10<00:00,  9.28it/s]"
     ]
    },
    {
     "name": "stderr",
     "output_type": "stream",
     "text": [
      "\r",
      "Rendering models:  95%|█████████▌| 39/41 [00:10<00:00,  8.60it/s]"
     ]
    },
    {
     "name": "stderr",
     "output_type": "stream",
     "text": [
      "\r",
      "                                                                 "
     ]
    },
    {
     "name": "stderr",
     "output_type": "stream",
     "text": [
      "\r"
     ]
    },
    {
     "data": {
      "text/plain": [
       "equidad1                              0.226882\n",
       "welshgirlie                           0.165119\n",
       "kayleebug2017                         0.004733\n",
       "Lukes0404                             0.002919\n",
       "not-logged-in-cae133427d99aac1e554    0.000865\n",
       "Drew_Farnsworth                       0.005733\n",
       "3lite                                 0.004514\n",
       "Thedunkmasta                          0.004947\n",
       "Thedunkmasta                          0.004706\n",
       "Thedunkmasta                          0.004918\n",
       "Thedunkmasta                          0.004327\n",
       "Thedunkmasta                          0.005271\n",
       "Thedunkmasta                          0.005235\n",
       "Thedunkmasta                          0.004640\n",
       "Thedunkmasta                          0.005000\n",
       "Thedunkmasta                          0.004652\n",
       "not-logged-in-7526601586eaa938b3ee    0.004705\n",
       "Thedunkmasta                          0.004627\n",
       "not-logged-in-c66f4fc0a6fdbc2ff731    0.006013\n",
       "cmk24                                 0.000524\n",
       "Jessica_Korkmaz                       0.005915\n",
       "not-logged-in-5f30b2bb9b7f9d49da41    0.010679\n",
       "not-logged-in-85b8889f1dc046a97347    0.002460\n",
       "not-logged-in-376bb2d1d25cc05fc9f1    0.002912\n",
       "clairedeu                             0.000681\n",
       "Planetme                              0.003016\n",
       "Lavadude                              0.029892\n",
       "hithereeveryone                       0.003101\n",
       "w7250369                              0.004214\n",
       "Fla                                   0.003914\n",
       "Alissa18                              0.042511\n",
       "not-logged-in-6cdc6c36435b7c7ca90e    0.073744\n",
       "jiipee                                0.000706\n",
       "Peyton.Harvey                         0.130932\n",
       "Peyton.Harvey                         0.001464\n",
       "Koro132                               0.007836\n",
       "Vickyb123                             0.007836\n",
       "holte116                              0.007836\n",
       "not-logged-in-04ed9ae880f18762cd9e    4.196552\n",
       "not-logged-in-e1b22a975d845434145c    0.007836\n",
       "Name: 20902074, dtype: float64"
      ]
     },
     "execution_count": 7,
     "metadata": {},
     "output_type": "execute_result"
    }
   ],
   "source": [
    "losses = get_losses_by_user(subject_id)\n",
    "losses"
   ]
  },
  {
   "cell_type": "code",
   "execution_count": 8,
   "metadata": {
    "collapsed": false,
    "inputHidden": false,
    "outputHidden": false,
    "papermill": {
     "duration": 0.064376,
     "end_time": "2019-09-02T10:20:39.616619",
     "exception": false,
     "start_time": "2019-09-02T10:20:39.552243",
     "status": "completed"
    },
    "tags": []
   },
   "outputs": [
    {
     "data": {
      "application/scrapbook.scrap.json+json": {
       "data": 20902074,
       "encoder": "json",
       "name": "subject_id",
       "version": 1
      }
     },
     "metadata": {
      "scrapbook": {
       "data": true,
       "display": false,
       "name": "subject_id"
      }
     },
     "output_type": "display_data"
    },
    {
     "data": {
      "application/scrapbook.scrap.json+json": {
       "data": {
        "3lite": 0.004514325693839223,
        "Alissa18": 0.042510728448158945,
        "Drew_Farnsworth": 0.005732580477024064,
        "Fla": 0.003914246328465934,
        "Jessica_Korkmaz": 0.005915341340426492,
        "Koro132": 0.00783613422031436,
        "Lavadude": 0.029892203895137744,
        "Lukes0404": 0.0029191789632196864,
        "Peyton.Harvey": 0.0014635515109575172,
        "Planetme": 0.0030162311431170905,
        "Thedunkmasta": 0.0046270972594408145,
        "Vickyb123": 0.00783613422031436,
        "clairedeu": 0.0006806560601287163,
        "cmk24": 0.0005235487592566522,
        "equidad1": 0.226882330585828,
        "hithereeveryone": 0.003100751716171808,
        "holte116": 0.00783613422031436,
        "jiipee": 0.000706060375835801,
        "kayleebug2017": 0.004732550570515993,
        "not-logged-in-04ed9ae880f18762cd9e": 4.196552045712284,
        "not-logged-in-376bb2d1d25cc05fc9f1": 0.0029124215778489216,
        "not-logged-in-5f30b2bb9b7f9d49da41": 0.010678594433442004,
        "not-logged-in-6cdc6c36435b7c7ca90e": 0.07374399137818305,
        "not-logged-in-7526601586eaa938b3ee": 0.004704689984678592,
        "not-logged-in-85b8889f1dc046a97347": 0.0024599112188178666,
        "not-logged-in-c66f4fc0a6fdbc2ff731": 0.006012635522297319,
        "not-logged-in-cae133427d99aac1e554": 0.0008645478011291515,
        "not-logged-in-e1b22a975d845434145c": 0.00783613422031436,
        "w7250369": 0.004213601149786643,
        "welshgirlie": 0.16511943299651285
       },
       "encoder": "json",
       "name": "losses",
       "version": 1
      }
     },
     "metadata": {
      "scrapbook": {
       "data": true,
       "display": false,
       "name": "losses"
      }
     },
     "output_type": "display_data"
    }
   ],
   "source": [
    "sb.glue('subject_id', subject_id)\n",
    "sb.glue('losses', losses.to_dict())"
   ]
  }
 ],
 "metadata": {
  "kernel_info": {
   "name": "python3"
  },
  "kernelspec": {
   "display_name": "Python 3",
   "language": "python",
   "name": "python3"
  },
  "language_info": {
   "codemirror_mode": {
    "name": "ipython",
    "version": 3
   },
   "file_extension": ".py",
   "mimetype": "text/x-python",
   "name": "python",
   "nbconvert_exporter": "python",
   "pygments_lexer": "ipython3",
   "version": "3.7.3"
  },
  "nteract": {
   "version": "0.14.3"
  },
  "papermill": {
   "duration": 27.230875,
   "end_time": "2019-09-02T10:20:40.890727",
   "environment_variables": {},
   "exception": null,
   "input_path": "/users/tingard/gzbuilder_results/input_files/volunteer_losses.ipynb",
   "output_path": "/users/tingard/gzbuilder_results/output_files/volunteer_losses/20902074.ipynb",
   "parameters": {
    "subject_id": 20902074
   },
   "start_time": "2019-09-02T10:20:13.659852",
   "version": "1.0.1"
  }
 },
 "nbformat": 4,
 "nbformat_minor": 0
}