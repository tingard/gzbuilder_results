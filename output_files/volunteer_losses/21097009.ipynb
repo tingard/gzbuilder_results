{
 "cells": [
  {
   "cell_type": "markdown",
   "metadata": {
    "papermill": {
     "duration": 0.008308,
     "end_time": "2019-09-02T10:20:47.198132",
     "exception": false,
     "start_time": "2019-09-02T10:20:47.189824",
     "status": "completed"
    },
    "tags": []
   },
   "source": [
    "# Volunteer model loss calculation\n",
    "\n",
    "This notebook takes a `subject_id` and calculates the MSE of each volunteer's model to the galaxy data. These losses are then glued to the notebook for use elsewhere."
   ]
  },
  {
   "cell_type": "code",
   "execution_count": 1,
   "metadata": {
    "collapsed": false,
    "inputHidden": false,
    "outputHidden": false,
    "papermill": {
     "duration": 0.025663,
     "end_time": "2019-09-02T10:20:47.231292",
     "exception": false,
     "start_time": "2019-09-02T10:20:47.205629",
     "status": "completed"
    },
    "tags": []
   },
   "outputs": [],
   "source": [
    "%load_ext autoreload\n",
    "%autoreload 2"
   ]
  },
  {
   "cell_type": "code",
   "execution_count": 2,
   "metadata": {
    "collapsed": false,
    "inputHidden": false,
    "outputHidden": false,
    "papermill": {
     "duration": 4.258702,
     "end_time": "2019-09-02T10:20:51.497205",
     "exception": false,
     "start_time": "2019-09-02T10:20:47.238503",
     "status": "completed"
    },
    "tags": []
   },
   "outputs": [
    {
     "name": "stderr",
     "output_type": "stream",
     "text": [
      "/opt/apps/pkgs/anaconda3/2019.03/intel64/lib/python3.7/site-packages/dask/config.py:168: YAMLLoadWarning: calling yaml.load() without Loader=... is deprecated, as the default Loader is unsafe. Please read https://msg.pyyaml.org/load for full details.\n",
      "  data = yaml.load(f.read()) or {}\n"
     ]
    }
   ],
   "source": [
    "import json\n",
    "import numpy as np\n",
    "import pandas as pd\n",
    "from tqdm import tqdm\n",
    "import matplotlib.pyplot as plt\n",
    "import seaborn as sns\n",
    "from gzbuilder_analysis import parsing, rendering, fitting\n",
    "import lib.galaxy_utilities as gu\n",
    "import scrapbook as sb"
   ]
  },
  {
   "cell_type": "code",
   "execution_count": 3,
   "metadata": {
    "collapsed": false,
    "inputHidden": false,
    "outputHidden": false,
    "papermill": {
     "duration": 0.046466,
     "end_time": "2019-09-02T10:20:51.551899",
     "exception": false,
     "start_time": "2019-09-02T10:20:51.505433",
     "status": "completed"
    },
    "tags": [
     "parameters"
    ]
   },
   "outputs": [],
   "source": [
    "subject_id = 20902040"
   ]
  },
  {
   "cell_type": "code",
   "execution_count": 4,
   "metadata": {
    "papermill": {
     "duration": 0.746239,
     "end_time": "2019-09-02T10:20:52.306783",
     "exception": false,
     "start_time": "2019-09-02T10:20:51.560544",
     "status": "completed"
    },
    "tags": [
     "injected-parameters"
    ]
   },
   "outputs": [],
   "source": [
    "# Parameters\n",
    "subject_id = 21097009\n"
   ]
  },
  {
   "cell_type": "code",
   "execution_count": 5,
   "metadata": {
    "collapsed": false,
    "inputHidden": false,
    "outputHidden": false,
    "papermill": {
     "duration": 0.193926,
     "end_time": "2019-09-02T10:20:52.508491",
     "exception": false,
     "start_time": "2019-09-02T10:20:52.314565",
     "status": "completed"
    },
    "tags": []
   },
   "outputs": [],
   "source": [
    "diff_data_df = pd.read_pickle('lib/fitting_metadata.pkl')"
   ]
  },
  {
   "cell_type": "code",
   "execution_count": 6,
   "metadata": {
    "collapsed": false,
    "inputHidden": false,
    "outputHidden": false,
    "papermill": {
     "duration": 0.051073,
     "end_time": "2019-09-02T10:20:52.567496",
     "exception": false,
     "start_time": "2019-09-02T10:20:52.516423",
     "status": "completed"
    },
    "tags": []
   },
   "outputs": [],
   "source": [
    "def get_losses_by_user(subject_id):\n",
    "  diff_data = diff_data_df.loc[subject_id]\n",
    "  psf = diff_data['psf']\n",
    "  pixel_mask = np.array(diff_data['pixel_mask'])[::-1]\n",
    "  galaxy_data = np.array(diff_data['galaxy_data'])[::-1]\n",
    "  image_size = galaxy_data.shape[0]\n",
    "  size_diff = diff_data['size_diff']\n",
    "  \n",
    "  cls = gu.classifications.query('subject_ids == {}'.format(subject_id))\n",
    "  names = cls.user_name \n",
    "  annotations = cls['annotations'].apply(json.loads)\n",
    "\n",
    "  models = annotations.apply(\n",
    "    parsing.parse_annotation,\n",
    "    size_diff=size_diff\n",
    "  )\n",
    "\n",
    "  tqdm.pandas(\n",
    "    desc='Rendering models'.format(subject_id),\n",
    "    leave=False\n",
    "  )\n",
    "  rendered = models.progress_apply(\n",
    "    rendering.calculate_model,\n",
    "    image_size=image_size,\n",
    "    psf=psf\n",
    "  ).rename('rendered')\n",
    "\n",
    "  tqdm.pandas(\n",
    "    desc='Calculating differences'.format(subject_id),\n",
    "    leave=False\n",
    "  )\n",
    "  losses = rendered.apply(\n",
    "    fitting.loss,\n",
    "    args=(galaxy_data, pixel_mask)\n",
    "  ).rename('loss')\n",
    "  all_losses = pd.Series(\n",
    "    losses.values,\n",
    "    index=names.values\n",
    "  ).rename(subject_id)\n",
    "  best_losses = pd.concat((\n",
    "    all_losses.where(\n",
    "      ~all_losses.duplicated(keep=False)\n",
    "    ).dropna(), # all non-duplicates\n",
    "    all_losses.where(\n",
    "      all_losses.duplicated(keep=False)\n",
    "    ).dropna().groupby(level=0).min() # best value of duplicates\n",
    "  ), axis=0)\n",
    "  return best_losses"
   ]
  },
  {
   "cell_type": "code",
   "execution_count": 7,
   "metadata": {
    "collapsed": false,
    "inputHidden": false,
    "outputHidden": false,
    "papermill": {
     "duration": 9.224057,
     "end_time": "2019-09-02T10:21:01.799299",
     "exception": false,
     "start_time": "2019-09-02T10:20:52.575242",
     "status": "completed"
    },
    "tags": []
   },
   "outputs": [
    {
     "name": "stderr",
     "output_type": "stream",
     "text": [
      "\r",
      "Rendering models:   0%|          | 0/30 [00:00<?, ?it/s]"
     ]
    },
    {
     "name": "stderr",
     "output_type": "stream",
     "text": [
      "\r",
      "Rendering models:   7%|▋         | 2/30 [00:05<01:12,  2.58s/it]"
     ]
    },
    {
     "name": "stderr",
     "output_type": "stream",
     "text": [
      "\r",
      "Rendering models:  13%|█▎        | 4/30 [00:06<00:53,  2.05s/it]"
     ]
    },
    {
     "name": "stderr",
     "output_type": "stream",
     "text": [
      "\r",
      "Rendering models:  17%|█▋        | 5/30 [00:06<00:36,  1.47s/it]"
     ]
    },
    {
     "name": "stderr",
     "output_type": "stream",
     "text": [
      "\r",
      "Rendering models:  23%|██▎       | 7/30 [00:07<00:24,  1.05s/it]"
     ]
    },
    {
     "name": "stderr",
     "output_type": "stream",
     "text": [
      "\r",
      "Rendering models:  27%|██▋       | 8/30 [00:07<00:16,  1.30it/s]"
     ]
    },
    {
     "name": "stderr",
     "output_type": "stream",
     "text": [
      "\r",
      "Rendering models:  30%|███       | 9/30 [00:07<00:12,  1.69it/s]"
     ]
    },
    {
     "name": "stderr",
     "output_type": "stream",
     "text": [
      "\r",
      "Rendering models:  37%|███▋      | 11/30 [00:07<00:08,  2.26it/s]"
     ]
    },
    {
     "name": "stderr",
     "output_type": "stream",
     "text": [
      "\r",
      "Rendering models:  47%|████▋     | 14/30 [00:07<00:05,  3.07it/s]"
     ]
    },
    {
     "name": "stderr",
     "output_type": "stream",
     "text": [
      "\r",
      "Rendering models:  53%|█████▎    | 16/30 [00:07<00:03,  3.83it/s]"
     ]
    },
    {
     "name": "stderr",
     "output_type": "stream",
     "text": [
      "\r",
      "Rendering models:  60%|██████    | 18/30 [00:08<00:02,  4.79it/s]"
     ]
    },
    {
     "name": "stderr",
     "output_type": "stream",
     "text": [
      "\r",
      "Rendering models:  70%|███████   | 21/30 [00:08<00:01,  6.08it/s]"
     ]
    },
    {
     "name": "stderr",
     "output_type": "stream",
     "text": [
      "\r",
      "Rendering models:  77%|███████▋  | 23/30 [00:08<00:00,  7.18it/s]"
     ]
    },
    {
     "name": "stderr",
     "output_type": "stream",
     "text": [
      "\r",
      "Rendering models:  83%|████████▎ | 25/30 [00:08<00:00,  7.82it/s]"
     ]
    },
    {
     "name": "stderr",
     "output_type": "stream",
     "text": [
      "\r",
      "Rendering models:  93%|█████████▎| 28/30 [00:08<00:00, 10.03it/s]"
     ]
    },
    {
     "name": "stderr",
     "output_type": "stream",
     "text": [
      "\r",
      "Rendering models: 100%|██████████| 30/30 [00:09<00:00,  9.13it/s]"
     ]
    },
    {
     "name": "stderr",
     "output_type": "stream",
     "text": [
      "\r",
      "                                                                 "
     ]
    },
    {
     "name": "stderr",
     "output_type": "stream",
     "text": [
      "\r"
     ]
    },
    {
     "data": {
      "text/plain": [
       "deivad                                0.052298\n",
       "awright5                              0.000974\n",
       "not-logged-in-d78ab5a3057206e8280b    1.883753\n",
       "TSM_Ginga                             0.000287\n",
       "rmz4160                               0.000287\n",
       "Kartoon1x                             0.000272\n",
       "not-logged-in-6cf01ec1c1cb535db647    0.003581\n",
       "Slayz                                 0.074179\n",
       "not-logged-in-bc5fdb9ea8d611e60b8b    0.000127\n",
       "shirogane                             0.000309\n",
       "not-logged-in-5a8bb7be433678ade709    0.000241\n",
       "not-logged-in-9454a205d149d7907cd0    0.425943\n",
       "not-logged-in-44c2a2616c2e5fbe7859    0.001254\n",
       "not-logged-in-76a9c02fe5d62b1c2cae    0.000681\n",
       "ComeMyChild                           0.001386\n",
       "AlexYoung35                           0.000206\n",
       "pangeli5                              0.000221\n",
       "not-logged-in-3b0bff3092365bd5e47f    0.004428\n",
       "acapirala                             0.000247\n",
       "Susymuller                            0.008853\n",
       "Lavadude                              0.032056\n",
       "DrFloyd                               0.013910\n",
       "Fla                                   0.007014\n",
       "atoderov                              0.000532\n",
       "LocoBlock                             0.000976\n",
       "donny1423                             0.001243\n",
       "fflint                                0.001243\n",
       "holte116                              0.001243\n",
       "mariafarhat                           0.001243\n",
       "not-logged-in-f0b458ebef543c641b88    0.001243\n",
       "Name: 21097009, dtype: float64"
      ]
     },
     "execution_count": 7,
     "metadata": {},
     "output_type": "execute_result"
    }
   ],
   "source": [
    "losses = get_losses_by_user(subject_id)\n",
    "losses"
   ]
  },
  {
   "cell_type": "code",
   "execution_count": 8,
   "metadata": {
    "collapsed": false,
    "inputHidden": false,
    "outputHidden": false,
    "papermill": {
     "duration": 0.135746,
     "end_time": "2019-09-02T10:21:01.954367",
     "exception": false,
     "start_time": "2019-09-02T10:21:01.818621",
     "status": "completed"
    },
    "tags": []
   },
   "outputs": [
    {
     "data": {
      "application/scrapbook.scrap.json+json": {
       "data": 21097009,
       "encoder": "json",
       "name": "subject_id",
       "version": 1
      }
     },
     "metadata": {
      "scrapbook": {
       "data": true,
       "display": false,
       "name": "subject_id"
      }
     },
     "output_type": "display_data"
    },
    {
     "data": {
      "application/scrapbook.scrap.json+json": {
       "data": {
        "AlexYoung35": 0.00020573798872273338,
        "ComeMyChild": 0.0013862413815158685,
        "DrFloyd": 0.013909762254681582,
        "Fla": 0.007014243109596561,
        "Kartoon1x": 0.0002724825809978592,
        "Lavadude": 0.03205632968078173,
        "LocoBlock": 0.0009756487817061585,
        "Slayz": 0.07417855186382727,
        "Susymuller": 0.008853392071568598,
        "TSM_Ginga": 0.00028722088480655987,
        "acapirala": 0.00024713721516052885,
        "atoderov": 0.0005323677858577457,
        "awright5": 0.0009744693468129767,
        "deivad": 0.052298215369196877,
        "donny1423": 0.0012432835831574724,
        "fflint": 0.0012432835831574724,
        "holte116": 0.0012432835831574724,
        "mariafarhat": 0.0012432835831574724,
        "not-logged-in-3b0bff3092365bd5e47f": 0.004427714277367834,
        "not-logged-in-44c2a2616c2e5fbe7859": 0.0012542611472216854,
        "not-logged-in-5a8bb7be433678ade709": 0.00024148985523670213,
        "not-logged-in-6cf01ec1c1cb535db647": 0.00358082662721659,
        "not-logged-in-76a9c02fe5d62b1c2cae": 0.0006813107895682718,
        "not-logged-in-9454a205d149d7907cd0": 0.42594299583840034,
        "not-logged-in-bc5fdb9ea8d611e60b8b": 0.00012674553958541803,
        "not-logged-in-d78ab5a3057206e8280b": 1.88375348760376,
        "not-logged-in-f0b458ebef543c641b88": 0.0012432835831574724,
        "pangeli5": 0.00022137527753971715,
        "rmz4160": 0.0002866468446762822,
        "shirogane": 0.00030854114364794056
       },
       "encoder": "json",
       "name": "losses",
       "version": 1
      }
     },
     "metadata": {
      "scrapbook": {
       "data": true,
       "display": false,
       "name": "losses"
      }
     },
     "output_type": "display_data"
    }
   ],
   "source": [
    "sb.glue('subject_id', subject_id)\n",
    "sb.glue('losses', losses.to_dict())"
   ]
  }
 ],
 "metadata": {
  "kernel_info": {
   "name": "python3"
  },
  "kernelspec": {
   "display_name": "Python 3",
   "language": "python",
   "name": "python3"
  },
  "language_info": {
   "codemirror_mode": {
    "name": "ipython",
    "version": 3
   },
   "file_extension": ".py",
   "mimetype": "text/x-python",
   "name": "python",
   "nbconvert_exporter": "python",
   "pygments_lexer": "ipython3",
   "version": "3.7.3"
  },
  "nteract": {
   "version": "0.14.3"
  },
  "papermill": {
   "duration": 17.9065,
   "end_time": "2019-09-02T10:21:03.435336",
   "environment_variables": {},
   "exception": null,
   "input_path": "/users/tingard/gzbuilder_results/input_files/volunteer_losses.ipynb",
   "output_path": "/users/tingard/gzbuilder_results/output_files/volunteer_losses/21097009.ipynb",
   "parameters": {
    "subject_id": 21097009
   },
   "start_time": "2019-09-02T10:20:45.528836",
   "version": "1.0.1"
  }
 },
 "nbformat": 4,
 "nbformat_minor": 0
}