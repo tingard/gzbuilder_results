{
 "cells": [
  {
   "cell_type": "markdown",
   "metadata": {
    "papermill": {
     "duration": 0.009218,
     "end_time": "2019-09-02T10:20:15.020443",
     "exception": false,
     "start_time": "2019-09-02T10:20:15.011225",
     "status": "completed"
    },
    "tags": []
   },
   "source": [
    "# Volunteer model loss calculation\n",
    "\n",
    "This notebook takes a `subject_id` and calculates the MSE of each volunteer's model to the galaxy data. These losses are then glued to the notebook for use elsewhere."
   ]
  },
  {
   "cell_type": "code",
   "execution_count": 1,
   "metadata": {
    "collapsed": false,
    "inputHidden": false,
    "outputHidden": false,
    "papermill": {
     "duration": 0.025097,
     "end_time": "2019-09-02T10:20:15.054094",
     "exception": false,
     "start_time": "2019-09-02T10:20:15.028997",
     "status": "completed"
    },
    "tags": []
   },
   "outputs": [],
   "source": [
    "%load_ext autoreload\n",
    "%autoreload 2"
   ]
  },
  {
   "cell_type": "code",
   "execution_count": 2,
   "metadata": {
    "collapsed": false,
    "inputHidden": false,
    "outputHidden": false,
    "papermill": {
     "duration": 4.564284,
     "end_time": "2019-09-02T10:20:19.626366",
     "exception": false,
     "start_time": "2019-09-02T10:20:15.062082",
     "status": "completed"
    },
    "tags": []
   },
   "outputs": [
    {
     "name": "stderr",
     "output_type": "stream",
     "text": [
      "/opt/apps/pkgs/anaconda3/2019.03/intel64/lib/python3.7/site-packages/dask/config.py:168: YAMLLoadWarning: calling yaml.load() without Loader=... is deprecated, as the default Loader is unsafe. Please read https://msg.pyyaml.org/load for full details.\n",
      "  data = yaml.load(f.read()) or {}\n"
     ]
    }
   ],
   "source": [
    "import json\n",
    "import numpy as np\n",
    "import pandas as pd\n",
    "from tqdm import tqdm\n",
    "import matplotlib.pyplot as plt\n",
    "import seaborn as sns\n",
    "from gzbuilder_analysis import parsing, rendering, fitting\n",
    "import lib.galaxy_utilities as gu\n",
    "import scrapbook as sb"
   ]
  },
  {
   "cell_type": "code",
   "execution_count": 3,
   "metadata": {
    "collapsed": false,
    "inputHidden": false,
    "outputHidden": false,
    "papermill": {
     "duration": 0.044628,
     "end_time": "2019-09-02T10:20:19.680466",
     "exception": false,
     "start_time": "2019-09-02T10:20:19.635838",
     "status": "completed"
    },
    "tags": [
     "parameters"
    ]
   },
   "outputs": [],
   "source": [
    "subject_id = 20902040"
   ]
  },
  {
   "cell_type": "code",
   "execution_count": 4,
   "metadata": {
    "papermill": {
     "duration": 0.048705,
     "end_time": "2019-09-02T10:20:19.736785",
     "exception": false,
     "start_time": "2019-09-02T10:20:19.688080",
     "status": "completed"
    },
    "tags": [
     "injected-parameters"
    ]
   },
   "outputs": [],
   "source": [
    "# Parameters\n",
    "subject_id = 20902065\n"
   ]
  },
  {
   "cell_type": "code",
   "execution_count": 5,
   "metadata": {
    "collapsed": false,
    "inputHidden": false,
    "outputHidden": false,
    "papermill": {
     "duration": 0.145467,
     "end_time": "2019-09-02T10:20:19.889653",
     "exception": false,
     "start_time": "2019-09-02T10:20:19.744186",
     "status": "completed"
    },
    "tags": []
   },
   "outputs": [],
   "source": [
    "diff_data_df = pd.read_pickle('lib/fitting_metadata.pkl')"
   ]
  },
  {
   "cell_type": "code",
   "execution_count": 6,
   "metadata": {
    "collapsed": false,
    "inputHidden": false,
    "outputHidden": false,
    "papermill": {
     "duration": 2.652355,
     "end_time": "2019-09-02T10:20:22.549710",
     "exception": false,
     "start_time": "2019-09-02T10:20:19.897355",
     "status": "completed"
    },
    "tags": []
   },
   "outputs": [],
   "source": [
    "def get_losses_by_user(subject_id):\n",
    "  diff_data = diff_data_df.loc[subject_id]\n",
    "  psf = diff_data['psf']\n",
    "  pixel_mask = np.array(diff_data['pixel_mask'])[::-1]\n",
    "  galaxy_data = np.array(diff_data['galaxy_data'])[::-1]\n",
    "  image_size = galaxy_data.shape[0]\n",
    "  size_diff = diff_data['size_diff']\n",
    "  \n",
    "  cls = gu.classifications.query('subject_ids == {}'.format(subject_id))\n",
    "  names = cls.user_name \n",
    "  annotations = cls['annotations'].apply(json.loads)\n",
    "\n",
    "  models = annotations.apply(\n",
    "    parsing.parse_annotation,\n",
    "    size_diff=size_diff\n",
    "  )\n",
    "\n",
    "  tqdm.pandas(\n",
    "    desc='Rendering models'.format(subject_id),\n",
    "    leave=False\n",
    "  )\n",
    "  rendered = models.progress_apply(\n",
    "    rendering.calculate_model,\n",
    "    image_size=image_size,\n",
    "    psf=psf\n",
    "  ).rename('rendered')\n",
    "\n",
    "  tqdm.pandas(\n",
    "    desc='Calculating differences'.format(subject_id),\n",
    "    leave=False\n",
    "  )\n",
    "  losses = rendered.apply(\n",
    "    fitting.loss,\n",
    "    args=(galaxy_data, pixel_mask)\n",
    "  ).rename('loss')\n",
    "  all_losses = pd.Series(\n",
    "    losses.values,\n",
    "    index=names.values\n",
    "  ).rename(subject_id)\n",
    "  best_losses = pd.concat((\n",
    "    all_losses.where(\n",
    "      ~all_losses.duplicated(keep=False)\n",
    "    ).dropna(), # all non-duplicates\n",
    "    all_losses.where(\n",
    "      all_losses.duplicated(keep=False)\n",
    "    ).dropna().groupby(level=0).min() # best value of duplicates\n",
    "  ), axis=0)\n",
    "  return best_losses"
   ]
  },
  {
   "cell_type": "code",
   "execution_count": 7,
   "metadata": {
    "collapsed": false,
    "inputHidden": false,
    "outputHidden": false,
    "papermill": {
     "duration": 11.307314,
     "end_time": "2019-09-02T10:20:33.865107",
     "exception": false,
     "start_time": "2019-09-02T10:20:22.557793",
     "status": "completed"
    },
    "tags": []
   },
   "outputs": [
    {
     "name": "stderr",
     "output_type": "stream",
     "text": [
      "\r",
      "Rendering models:   0%|          | 0/31 [00:00<?, ?it/s]"
     ]
    },
    {
     "name": "stderr",
     "output_type": "stream",
     "text": [
      "\r",
      "Rendering models:   6%|▋         | 2/31 [00:04<01:02,  2.16s/it]"
     ]
    },
    {
     "name": "stderr",
     "output_type": "stream",
     "text": [
      "\r",
      "Rendering models:  10%|▉         | 3/31 [00:04<00:43,  1.55s/it]"
     ]
    },
    {
     "name": "stderr",
     "output_type": "stream",
     "text": [
      "\r",
      "Rendering models:  16%|█▌        | 5/31 [00:04<00:28,  1.11s/it]"
     ]
    },
    {
     "name": "stderr",
     "output_type": "stream",
     "text": [
      "\r",
      "Rendering models:  19%|█▉        | 6/31 [00:07<00:40,  1.64s/it]"
     ]
    },
    {
     "name": "stderr",
     "output_type": "stream",
     "text": [
      "\r",
      "Rendering models:  23%|██▎       | 7/31 [00:07<00:29,  1.23s/it]"
     ]
    },
    {
     "name": "stderr",
     "output_type": "stream",
     "text": [
      "\r",
      "Rendering models:  26%|██▌       | 8/31 [00:08<00:21,  1.07it/s]"
     ]
    },
    {
     "name": "stderr",
     "output_type": "stream",
     "text": [
      "\r",
      "Rendering models:  29%|██▉       | 9/31 [00:08<00:15,  1.45it/s]"
     ]
    },
    {
     "name": "stderr",
     "output_type": "stream",
     "text": [
      "\r",
      "Rendering models:  32%|███▏      | 10/31 [00:08<00:10,  1.95it/s]"
     ]
    },
    {
     "name": "stderr",
     "output_type": "stream",
     "text": [
      "\r",
      "Rendering models:  35%|███▌      | 11/31 [00:08<00:08,  2.42it/s]"
     ]
    },
    {
     "name": "stderr",
     "output_type": "stream",
     "text": [
      "\r",
      "Rendering models:  39%|███▊      | 12/31 [00:08<00:06,  3.13it/s]"
     ]
    },
    {
     "name": "stderr",
     "output_type": "stream",
     "text": [
      "\r",
      "Rendering models:  45%|████▌     | 14/31 [00:08<00:04,  4.08it/s]"
     ]
    },
    {
     "name": "stderr",
     "output_type": "stream",
     "text": [
      "\r",
      "Rendering models:  48%|████▊     | 15/31 [00:08<00:04,  3.99it/s]"
     ]
    },
    {
     "name": "stderr",
     "output_type": "stream",
     "text": [
      "\r",
      "Rendering models:  52%|█████▏    | 16/31 [00:09<00:03,  4.86it/s]"
     ]
    },
    {
     "name": "stderr",
     "output_type": "stream",
     "text": [
      "\r",
      "Rendering models:  55%|█████▍    | 17/31 [00:09<00:02,  5.60it/s]"
     ]
    },
    {
     "name": "stderr",
     "output_type": "stream",
     "text": [
      "\r",
      "Rendering models:  61%|██████▏   | 19/31 [00:09<00:01,  6.84it/s]"
     ]
    },
    {
     "name": "stderr",
     "output_type": "stream",
     "text": [
      "\r",
      "Rendering models:  71%|███████   | 22/31 [00:09<00:01,  7.62it/s]"
     ]
    },
    {
     "name": "stderr",
     "output_type": "stream",
     "text": [
      "\r",
      "Rendering models:  77%|███████▋  | 24/31 [00:10<00:01,  6.22it/s]"
     ]
    },
    {
     "name": "stderr",
     "output_type": "stream",
     "text": [
      "\r",
      "Rendering models:  81%|████████  | 25/31 [00:10<00:01,  5.20it/s]"
     ]
    },
    {
     "name": "stderr",
     "output_type": "stream",
     "text": [
      "\r",
      "Rendering models:  84%|████████▍ | 26/31 [00:10<00:00,  5.64it/s]"
     ]
    },
    {
     "name": "stderr",
     "output_type": "stream",
     "text": [
      "\r",
      "Rendering models:  87%|████████▋ | 27/31 [00:10<00:00,  6.45it/s]"
     ]
    },
    {
     "name": "stderr",
     "output_type": "stream",
     "text": [
      "\r",
      "Rendering models:  90%|█████████ | 28/31 [00:10<00:00,  6.69it/s]"
     ]
    },
    {
     "name": "stderr",
     "output_type": "stream",
     "text": [
      "\r",
      "Rendering models:  94%|█████████▎| 29/31 [00:10<00:00,  5.62it/s]"
     ]
    },
    {
     "name": "stderr",
     "output_type": "stream",
     "text": [
      "\r",
      "Rendering models: 100%|██████████| 31/31 [00:11<00:00,  7.12it/s]"
     ]
    },
    {
     "name": "stderr",
     "output_type": "stream",
     "text": [
      "\r",
      "                                                                 "
     ]
    },
    {
     "name": "stderr",
     "output_type": "stream",
     "text": [
      "\r"
     ]
    },
    {
     "data": {
      "text/plain": [
       "equidad1                              0.000141\n",
       "not-logged-in-cae133427d99aac1e554    0.000109\n",
       "kayleebug2017                         0.000478\n",
       "JessieDawn                            0.000142\n",
       "ElisabethB                            0.000144\n",
       "vosskftw                              0.006128\n",
       "not-logged-in-f5061ed7c6ff388b798c    0.005012\n",
       "bbergerud                             0.000140\n",
       "Thedunkmasta                          0.000241\n",
       "Chelskee                              0.000090\n",
       "not-logged-in-7526601586eaa938b3ee    0.000279\n",
       "Synapsestar                           0.000135\n",
       "not-logged-in-1df2dc33157510bbec3e    0.000158\n",
       "crush202020                           0.000120\n",
       "quirito19                             0.000118\n",
       "aidenr                                0.000345\n",
       "not-logged-in-f87600b62b6963cef865    0.001169\n",
       "not-logged-in-68c93388f62f1185dba6    0.000135\n",
       "not-logged-in-986357d841d09bf87b26    0.243127\n",
       "LeusaneLordelo                        0.000207\n",
       "TortleBoi                             0.045090\n",
       "rmacmi2                               0.000140\n",
       "not-logged-in-3a93234a2311f6df1afd    0.000135\n",
       "h4ranek                               0.000300\n",
       "tingard                               0.000119\n",
       "AspenTreez                            0.000979\n",
       "Lavadude                              0.000979\n",
       "not-logged-in-008bad404e76fb7ba2fd    0.000979\n",
       "not-logged-in-0a83e9249b0dc2ca775e    0.000979\n",
       "rcauchi3                              0.000979\n",
       "sam.curran                            0.000979\n",
       "Name: 20902065, dtype: float64"
      ]
     },
     "execution_count": 7,
     "metadata": {},
     "output_type": "execute_result"
    }
   ],
   "source": [
    "losses = get_losses_by_user(subject_id)\n",
    "losses"
   ]
  },
  {
   "cell_type": "code",
   "execution_count": 8,
   "metadata": {
    "collapsed": false,
    "inputHidden": false,
    "outputHidden": false,
    "papermill": {
     "duration": 0.061532,
     "end_time": "2019-09-02T10:20:33.940625",
     "exception": false,
     "start_time": "2019-09-02T10:20:33.879093",
     "status": "completed"
    },
    "tags": []
   },
   "outputs": [
    {
     "data": {
      "application/scrapbook.scrap.json+json": {
       "data": 20902065,
       "encoder": "json",
       "name": "subject_id",
       "version": 1
      }
     },
     "metadata": {
      "scrapbook": {
       "data": true,
       "display": false,
       "name": "subject_id"
      }
     },
     "output_type": "display_data"
    },
    {
     "data": {
      "application/scrapbook.scrap.json+json": {
       "data": {
        "AspenTreez": 0.0009791717556252085,
        "Chelskee": 9.045544916396305e-05,
        "ElisabethB": 0.00014387279841029038,
        "JessieDawn": 0.00014194211817264446,
        "Lavadude": 0.0009791717556252085,
        "LeusaneLordelo": 0.00020703818765977467,
        "Synapsestar": 0.0001354995626025207,
        "Thedunkmasta": 0.00024101495141329982,
        "TortleBoi": 0.04508961529020603,
        "aidenr": 0.00034499378883333636,
        "bbergerud": 0.00013975561731817163,
        "crush202020": 0.00011986240605348456,
        "equidad1": 0.00014051886528120578,
        "h4ranek": 0.0002998334919895105,
        "kayleebug2017": 0.00047832531623877506,
        "not-logged-in-008bad404e76fb7ba2fd": 0.0009791717556252085,
        "not-logged-in-0a83e9249b0dc2ca775e": 0.0009791717556252085,
        "not-logged-in-1df2dc33157510bbec3e": 0.00015755972494390432,
        "not-logged-in-3a93234a2311f6df1afd": 0.00013538521939152217,
        "not-logged-in-68c93388f62f1185dba6": 0.00013495880204572185,
        "not-logged-in-7526601586eaa938b3ee": 0.00027934889811051956,
        "not-logged-in-986357d841d09bf87b26": 0.24312656099940996,
        "not-logged-in-cae133427d99aac1e554": 0.00010878010619201219,
        "not-logged-in-f5061ed7c6ff388b798c": 0.005012136989637056,
        "not-logged-in-f87600b62b6963cef865": 0.0011688920529957926,
        "quirito19": 0.00011845068406577861,
        "rcauchi3": 0.0009791717556252085,
        "rmacmi2": 0.0001398303747563457,
        "sam.curran": 0.0009791717556252085,
        "tingard": 0.00011947653434224537,
        "vosskftw": 0.006128217224835572
       },
       "encoder": "json",
       "name": "losses",
       "version": 1
      }
     },
     "metadata": {
      "scrapbook": {
       "data": true,
       "display": false,
       "name": "losses"
      }
     },
     "output_type": "display_data"
    }
   ],
   "source": [
    "sb.glue('subject_id', subject_id)\n",
    "sb.glue('losses', losses.to_dict())"
   ]
  }
 ],
 "metadata": {
  "kernel_info": {
   "name": "python3"
  },
  "kernelspec": {
   "display_name": "Python 3",
   "language": "python",
   "name": "python3"
  },
  "language_info": {
   "codemirror_mode": {
    "name": "ipython",
    "version": 3
   },
   "file_extension": ".py",
   "mimetype": "text/x-python",
   "name": "python",
   "nbconvert_exporter": "python",
   "pygments_lexer": "ipython3",
   "version": "3.7.3"
  },
  "nteract": {
   "version": "0.14.3"
  },
  "papermill": {
   "duration": 24.006358,
   "end_time": "2019-09-02T10:20:35.742847",
   "environment_variables": {},
   "exception": null,
   "input_path": "/users/tingard/gzbuilder_results/input_files/volunteer_losses.ipynb",
   "output_path": "/users/tingard/gzbuilder_results/output_files/volunteer_losses/20902065.ipynb",
   "parameters": {
    "subject_id": 20902065
   },
   "start_time": "2019-09-02T10:20:11.736489",
   "version": "1.0.1"
  }
 },
 "nbformat": 4,
 "nbformat_minor": 0
}