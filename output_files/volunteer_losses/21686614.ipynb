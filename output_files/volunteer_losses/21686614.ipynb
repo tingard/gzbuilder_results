{
 "cells": [
  {
   "cell_type": "markdown",
   "metadata": {
    "papermill": {
     "duration": 0.008407,
     "end_time": "2019-09-02T10:21:08.570974",
     "exception": false,
     "start_time": "2019-09-02T10:21:08.562567",
     "status": "completed"
    },
    "tags": []
   },
   "source": [
    "# Volunteer model loss calculation\n",
    "\n",
    "This notebook takes a `subject_id` and calculates the MSE of each volunteer's model to the galaxy data. These losses are then glued to the notebook for use elsewhere."
   ]
  },
  {
   "cell_type": "code",
   "execution_count": 1,
   "metadata": {
    "collapsed": false,
    "inputHidden": false,
    "outputHidden": false,
    "papermill": {
     "duration": 0.033208,
     "end_time": "2019-09-02T10:21:08.613288",
     "exception": false,
     "start_time": "2019-09-02T10:21:08.580080",
     "status": "completed"
    },
    "tags": []
   },
   "outputs": [],
   "source": [
    "%load_ext autoreload\n",
    "%autoreload 2"
   ]
  },
  {
   "cell_type": "code",
   "execution_count": 2,
   "metadata": {
    "collapsed": false,
    "inputHidden": false,
    "outputHidden": false,
    "papermill": {
     "duration": 4.217417,
     "end_time": "2019-09-02T10:21:12.840926",
     "exception": false,
     "start_time": "2019-09-02T10:21:08.623509",
     "status": "completed"
    },
    "tags": []
   },
   "outputs": [
    {
     "name": "stderr",
     "output_type": "stream",
     "text": [
      "/opt/apps/pkgs/anaconda3/2019.03/intel64/lib/python3.7/site-packages/dask/config.py:168: YAMLLoadWarning: calling yaml.load() without Loader=... is deprecated, as the default Loader is unsafe. Please read https://msg.pyyaml.org/load for full details.\n",
      "  data = yaml.load(f.read()) or {}\n"
     ]
    }
   ],
   "source": [
    "import json\n",
    "import numpy as np\n",
    "import pandas as pd\n",
    "from tqdm import tqdm\n",
    "import matplotlib.pyplot as plt\n",
    "import seaborn as sns\n",
    "from gzbuilder_analysis import parsing, rendering, fitting\n",
    "import lib.galaxy_utilities as gu\n",
    "import scrapbook as sb"
   ]
  },
  {
   "cell_type": "code",
   "execution_count": 3,
   "metadata": {
    "collapsed": false,
    "inputHidden": false,
    "outputHidden": false,
    "papermill": {
     "duration": 0.04914,
     "end_time": "2019-09-02T10:21:12.898236",
     "exception": false,
     "start_time": "2019-09-02T10:21:12.849096",
     "status": "completed"
    },
    "tags": [
     "parameters"
    ]
   },
   "outputs": [],
   "source": [
    "subject_id = 20902040"
   ]
  },
  {
   "cell_type": "code",
   "execution_count": 4,
   "metadata": {
    "papermill": {
     "duration": 0.245354,
     "end_time": "2019-09-02T10:21:13.151303",
     "exception": false,
     "start_time": "2019-09-02T10:21:12.905949",
     "status": "completed"
    },
    "tags": [
     "injected-parameters"
    ]
   },
   "outputs": [],
   "source": [
    "# Parameters\n",
    "subject_id = 21686614\n"
   ]
  },
  {
   "cell_type": "code",
   "execution_count": 5,
   "metadata": {
    "collapsed": false,
    "inputHidden": false,
    "outputHidden": false,
    "papermill": {
     "duration": 0.15042,
     "end_time": "2019-09-02T10:21:13.309925",
     "exception": false,
     "start_time": "2019-09-02T10:21:13.159505",
     "status": "completed"
    },
    "tags": []
   },
   "outputs": [],
   "source": [
    "diff_data_df = pd.read_pickle('lib/fitting_metadata.pkl')"
   ]
  },
  {
   "cell_type": "code",
   "execution_count": 6,
   "metadata": {
    "collapsed": false,
    "inputHidden": false,
    "outputHidden": false,
    "papermill": {
     "duration": 0.050578,
     "end_time": "2019-09-02T10:21:13.368322",
     "exception": false,
     "start_time": "2019-09-02T10:21:13.317744",
     "status": "completed"
    },
    "tags": []
   },
   "outputs": [],
   "source": [
    "def get_losses_by_user(subject_id):\n",
    "  diff_data = diff_data_df.loc[subject_id]\n",
    "  psf = diff_data['psf']\n",
    "  pixel_mask = np.array(diff_data['pixel_mask'])[::-1]\n",
    "  galaxy_data = np.array(diff_data['galaxy_data'])[::-1]\n",
    "  image_size = galaxy_data.shape[0]\n",
    "  size_diff = diff_data['size_diff']\n",
    "  \n",
    "  cls = gu.classifications.query('subject_ids == {}'.format(subject_id))\n",
    "  names = cls.user_name \n",
    "  annotations = cls['annotations'].apply(json.loads)\n",
    "\n",
    "  models = annotations.apply(\n",
    "    parsing.parse_annotation,\n",
    "    size_diff=size_diff\n",
    "  )\n",
    "\n",
    "  tqdm.pandas(\n",
    "    desc='Rendering models'.format(subject_id),\n",
    "    leave=False\n",
    "  )\n",
    "  rendered = models.progress_apply(\n",
    "    rendering.calculate_model,\n",
    "    image_size=image_size,\n",
    "    psf=psf\n",
    "  ).rename('rendered')\n",
    "\n",
    "  tqdm.pandas(\n",
    "    desc='Calculating differences'.format(subject_id),\n",
    "    leave=False\n",
    "  )\n",
    "  losses = rendered.apply(\n",
    "    fitting.loss,\n",
    "    args=(galaxy_data, pixel_mask)\n",
    "  ).rename('loss')\n",
    "  all_losses = pd.Series(\n",
    "    losses.values,\n",
    "    index=names.values\n",
    "  ).rename(subject_id)\n",
    "  best_losses = pd.concat((\n",
    "    all_losses.where(\n",
    "      ~all_losses.duplicated(keep=False)\n",
    "    ).dropna(), # all non-duplicates\n",
    "    all_losses.where(\n",
    "      all_losses.duplicated(keep=False)\n",
    "    ).dropna().groupby(level=0).min() # best value of duplicates\n",
    "  ), axis=0)\n",
    "  return best_losses"
   ]
  },
  {
   "cell_type": "code",
   "execution_count": 7,
   "metadata": {
    "collapsed": false,
    "inputHidden": false,
    "outputHidden": false,
    "papermill": {
     "duration": 8.657713,
     "end_time": "2019-09-02T10:21:22.033889",
     "exception": false,
     "start_time": "2019-09-02T10:21:13.376176",
     "status": "completed"
    },
    "tags": []
   },
   "outputs": [
    {
     "name": "stderr",
     "output_type": "stream",
     "text": [
      "\r",
      "Rendering models:   0%|          | 0/30 [00:00<?, ?it/s]"
     ]
    },
    {
     "name": "stderr",
     "output_type": "stream",
     "text": [
      "\r",
      "Rendering models:   7%|▋         | 2/30 [00:05<01:18,  2.80s/it]"
     ]
    },
    {
     "name": "stderr",
     "output_type": "stream",
     "text": [
      "\r",
      "Rendering models:  10%|█         | 3/30 [00:06<01:01,  2.27s/it]"
     ]
    },
    {
     "name": "stderr",
     "output_type": "stream",
     "text": [
      "\r",
      "Rendering models:  17%|█▋        | 5/30 [00:06<00:40,  1.61s/it]"
     ]
    },
    {
     "name": "stderr",
     "output_type": "stream",
     "text": [
      "\r",
      "Rendering models:  23%|██▎       | 7/30 [00:06<00:26,  1.14s/it]"
     ]
    },
    {
     "name": "stderr",
     "output_type": "stream",
     "text": [
      "\r",
      "Rendering models:  30%|███       | 9/30 [00:06<00:17,  1.22it/s]"
     ]
    },
    {
     "name": "stderr",
     "output_type": "stream",
     "text": [
      "\r",
      "Rendering models:  37%|███▋      | 11/30 [00:07<00:11,  1.68it/s]"
     ]
    },
    {
     "name": "stderr",
     "output_type": "stream",
     "text": [
      "\r",
      "Rendering models:  43%|████▎     | 13/30 [00:07<00:07,  2.28it/s]"
     ]
    },
    {
     "name": "stderr",
     "output_type": "stream",
     "text": [
      "\r",
      "Rendering models:  50%|█████     | 15/30 [00:07<00:04,  3.03it/s]"
     ]
    },
    {
     "name": "stderr",
     "output_type": "stream",
     "text": [
      "\r",
      "Rendering models:  57%|█████▋    | 17/30 [00:07<00:03,  3.87it/s]"
     ]
    },
    {
     "name": "stderr",
     "output_type": "stream",
     "text": [
      "\r",
      "Rendering models:  63%|██████▎   | 19/30 [00:07<00:02,  4.82it/s]"
     ]
    },
    {
     "name": "stderr",
     "output_type": "stream",
     "text": [
      "\r",
      "Rendering models:  70%|███████   | 21/30 [00:07<00:01,  5.89it/s]"
     ]
    },
    {
     "name": "stderr",
     "output_type": "stream",
     "text": [
      "\r",
      "Rendering models:  77%|███████▋  | 23/30 [00:08<00:00,  7.00it/s]"
     ]
    },
    {
     "name": "stderr",
     "output_type": "stream",
     "text": [
      "\r",
      "Rendering models:  83%|████████▎ | 25/30 [00:08<00:00,  8.55it/s]"
     ]
    },
    {
     "name": "stderr",
     "output_type": "stream",
     "text": [
      "\r",
      "Rendering models:  93%|█████████▎| 28/30 [00:08<00:00, 10.51it/s]"
     ]
    },
    {
     "name": "stderr",
     "output_type": "stream",
     "text": [
      "\r",
      "                                                                 "
     ]
    },
    {
     "name": "stderr",
     "output_type": "stream",
     "text": [
      "\r"
     ]
    },
    {
     "data": {
      "text/plain": [
       "Petrusperes                           0.001096\n",
       "CThomas                               0.001560\n",
       "not-logged-in-0b3c4d412fae103c1ef6    0.005342\n",
       "Camelron                              0.000260\n",
       "OjO                                   0.001364\n",
       "not-logged-in-87d7b7ba881f074d8468    0.014170\n",
       "mtajnai                               0.000336\n",
       "bldelacr                              0.000367\n",
       "jmfranci                              0.001533\n",
       "justsomenoodles                       0.000388\n",
       "not-logged-in-923f38b394a04ae3a577    0.033597\n",
       "not-logged-in-5f30b2bb9b7f9d49da41    0.001918\n",
       "databanana                            0.000853\n",
       "aidenr                                0.001179\n",
       "Lavadude                              0.011489\n",
       "not-logged-in-15498ebaa693dd5a198d    0.000276\n",
       "not-logged-in-8700ff8251e0704f745c    0.007313\n",
       "ShirleyL                              0.000364\n",
       "bboyle23                              0.001949\n",
       "vceccare                              0.000770\n",
       "Getrekt10127                          0.012350\n",
       "Mkcls                                 0.001812\n",
       "not-logged-in-4e7cd8cb396970cca95c    0.064686\n",
       "Octavius_Augustus                     0.000173\n",
       "not-logged-in-1d9a865f86340f3472e4    0.001090\n",
       "not-logged-in-e5015a872e4a0f43792d    0.002389\n",
       "h4ranek                               0.002508\n",
       "not-logged-in-1016d923d029c10e9911    0.001065\n",
       "ckkmomma                              0.005345\n",
       "not-logged-in-1d9a865f86340f3472e4    0.005345\n",
       "Name: 21686614, dtype: float64"
      ]
     },
     "execution_count": 7,
     "metadata": {},
     "output_type": "execute_result"
    }
   ],
   "source": [
    "losses = get_losses_by_user(subject_id)\n",
    "losses"
   ]
  },
  {
   "cell_type": "code",
   "execution_count": 8,
   "metadata": {
    "collapsed": false,
    "inputHidden": false,
    "outputHidden": false,
    "papermill": {
     "duration": 0.055868,
     "end_time": "2019-09-02T10:21:22.101197",
     "exception": false,
     "start_time": "2019-09-02T10:21:22.045329",
     "status": "completed"
    },
    "tags": []
   },
   "outputs": [
    {
     "data": {
      "application/scrapbook.scrap.json+json": {
       "data": 21686614,
       "encoder": "json",
       "name": "subject_id",
       "version": 1
      }
     },
     "metadata": {
      "scrapbook": {
       "data": true,
       "display": false,
       "name": "subject_id"
      }
     },
     "output_type": "display_data"
    },
    {
     "data": {
      "application/scrapbook.scrap.json+json": {
       "data": {
        "CThomas": 0.001559979555171384,
        "Camelron": 0.0002599660059545312,
        "Getrekt10127": 0.012350006910408643,
        "Lavadude": 0.011488799266786146,
        "Mkcls": 0.0018123956772130112,
        "Octavius_Augustus": 0.00017278119519739026,
        "OjO": 0.0013636644298196557,
        "Petrusperes": 0.0010963803300966099,
        "ShirleyL": 0.00036387689778743284,
        "aidenr": 0.0011788319539858517,
        "bboyle23": 0.0019489842632520315,
        "bldelacr": 0.00036749431334856606,
        "ckkmomma": 0.005344744002383395,
        "databanana": 0.000853136319699498,
        "h4ranek": 0.0025076681903218856,
        "jmfranci": 0.0015326535453193178,
        "justsomenoodles": 0.00038806280120784323,
        "mtajnai": 0.0003360033422582587,
        "not-logged-in-0b3c4d412fae103c1ef6": 0.005341758634254596,
        "not-logged-in-1016d923d029c10e9911": 0.0010653588454963357,
        "not-logged-in-15498ebaa693dd5a198d": 0.0002763753141538763,
        "not-logged-in-1d9a865f86340f3472e4": 0.005344744002383395,
        "not-logged-in-4e7cd8cb396970cca95c": 0.0646862184125703,
        "not-logged-in-5f30b2bb9b7f9d49da41": 0.0019176023188928045,
        "not-logged-in-8700ff8251e0704f745c": 0.0073125342903224404,
        "not-logged-in-87d7b7ba881f074d8468": 0.014170353499407035,
        "not-logged-in-923f38b394a04ae3a577": 0.033596883398972065,
        "not-logged-in-e5015a872e4a0f43792d": 0.002389292981044251,
        "vceccare": 0.0007700516311273766
       },
       "encoder": "json",
       "name": "losses",
       "version": 1
      }
     },
     "metadata": {
      "scrapbook": {
       "data": true,
       "display": false,
       "name": "losses"
      }
     },
     "output_type": "display_data"
    }
   ],
   "source": [
    "sb.glue('subject_id', subject_id)\n",
    "sb.glue('losses', losses.to_dict())"
   ]
  }
 ],
 "metadata": {
  "kernel_info": {
   "name": "python3"
  },
  "kernelspec": {
   "display_name": "Python 3",
   "language": "python",
   "name": "python3"
  },
  "language_info": {
   "codemirror_mode": {
    "name": "ipython",
    "version": 3
   },
   "file_extension": ".py",
   "mimetype": "text/x-python",
   "name": "python",
   "nbconvert_exporter": "python",
   "pygments_lexer": "ipython3",
   "version": "3.7.3"
  },
  "nteract": {
   "version": "0.14.3"
  },
  "papermill": {
   "duration": 16.907524,
   "end_time": "2019-09-02T10:21:23.857336",
   "environment_variables": {},
   "exception": null,
   "input_path": "/users/tingard/gzbuilder_results/input_files/volunteer_losses.ipynb",
   "output_path": "/users/tingard/gzbuilder_results/output_files/volunteer_losses/21686614.ipynb",
   "parameters": {
    "subject_id": 21686614
   },
   "start_time": "2019-09-02T10:21:06.949812",
   "version": "1.0.1"
  }
 },
 "nbformat": 4,
 "nbformat_minor": 0
}