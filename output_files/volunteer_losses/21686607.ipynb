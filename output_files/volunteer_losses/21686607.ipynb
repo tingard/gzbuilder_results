{
 "cells": [
  {
   "cell_type": "markdown",
   "metadata": {
    "papermill": {
     "duration": 0.008921,
     "end_time": "2019-09-02T10:20:49.099183",
     "exception": false,
     "start_time": "2019-09-02T10:20:49.090262",
     "status": "completed"
    },
    "tags": []
   },
   "source": [
    "# Volunteer model loss calculation\n",
    "\n",
    "This notebook takes a `subject_id` and calculates the MSE of each volunteer's model to the galaxy data. These losses are then glued to the notebook for use elsewhere."
   ]
  },
  {
   "cell_type": "code",
   "execution_count": 1,
   "metadata": {
    "collapsed": false,
    "inputHidden": false,
    "outputHidden": false,
    "papermill": {
     "duration": 0.026538,
     "end_time": "2019-09-02T10:20:49.134018",
     "exception": false,
     "start_time": "2019-09-02T10:20:49.107480",
     "status": "completed"
    },
    "tags": []
   },
   "outputs": [],
   "source": [
    "%load_ext autoreload\n",
    "%autoreload 2"
   ]
  },
  {
   "cell_type": "code",
   "execution_count": 2,
   "metadata": {
    "collapsed": false,
    "inputHidden": false,
    "outputHidden": false,
    "papermill": {
     "duration": 4.371029,
     "end_time": "2019-09-02T10:20:53.512916",
     "exception": false,
     "start_time": "2019-09-02T10:20:49.141887",
     "status": "completed"
    },
    "tags": []
   },
   "outputs": [
    {
     "name": "stderr",
     "output_type": "stream",
     "text": [
      "/opt/apps/pkgs/anaconda3/2019.03/intel64/lib/python3.7/site-packages/dask/config.py:168: YAMLLoadWarning: calling yaml.load() without Loader=... is deprecated, as the default Loader is unsafe. Please read https://msg.pyyaml.org/load for full details.\n",
      "  data = yaml.load(f.read()) or {}\n"
     ]
    }
   ],
   "source": [
    "import json\n",
    "import numpy as np\n",
    "import pandas as pd\n",
    "from tqdm import tqdm\n",
    "import matplotlib.pyplot as plt\n",
    "import seaborn as sns\n",
    "from gzbuilder_analysis import parsing, rendering, fitting\n",
    "import lib.galaxy_utilities as gu\n",
    "import scrapbook as sb"
   ]
  },
  {
   "cell_type": "code",
   "execution_count": 3,
   "metadata": {
    "collapsed": false,
    "inputHidden": false,
    "outputHidden": false,
    "papermill": {
     "duration": 0.046012,
     "end_time": "2019-09-02T10:20:53.566746",
     "exception": false,
     "start_time": "2019-09-02T10:20:53.520734",
     "status": "completed"
    },
    "tags": [
     "parameters"
    ]
   },
   "outputs": [],
   "source": [
    "subject_id = 20902040"
   ]
  },
  {
   "cell_type": "code",
   "execution_count": 4,
   "metadata": {
    "papermill": {
     "duration": 0.111706,
     "end_time": "2019-09-02T10:20:53.686868",
     "exception": false,
     "start_time": "2019-09-02T10:20:53.575162",
     "status": "completed"
    },
    "tags": [
     "injected-parameters"
    ]
   },
   "outputs": [],
   "source": [
    "# Parameters\n",
    "subject_id = 21686607\n"
   ]
  },
  {
   "cell_type": "code",
   "execution_count": 5,
   "metadata": {
    "collapsed": false,
    "inputHidden": false,
    "outputHidden": false,
    "papermill": {
     "duration": 0.144722,
     "end_time": "2019-09-02T10:20:53.839221",
     "exception": false,
     "start_time": "2019-09-02T10:20:53.694499",
     "status": "completed"
    },
    "tags": []
   },
   "outputs": [],
   "source": [
    "diff_data_df = pd.read_pickle('lib/fitting_metadata.pkl')"
   ]
  },
  {
   "cell_type": "code",
   "execution_count": 6,
   "metadata": {
    "collapsed": false,
    "inputHidden": false,
    "outputHidden": false,
    "papermill": {
     "duration": 0.048561,
     "end_time": "2019-09-02T10:20:53.895380",
     "exception": false,
     "start_time": "2019-09-02T10:20:53.846819",
     "status": "completed"
    },
    "tags": []
   },
   "outputs": [],
   "source": [
    "def get_losses_by_user(subject_id):\n",
    "  diff_data = diff_data_df.loc[subject_id]\n",
    "  psf = diff_data['psf']\n",
    "  pixel_mask = np.array(diff_data['pixel_mask'])[::-1]\n",
    "  galaxy_data = np.array(diff_data['galaxy_data'])[::-1]\n",
    "  image_size = galaxy_data.shape[0]\n",
    "  size_diff = diff_data['size_diff']\n",
    "  \n",
    "  cls = gu.classifications.query('subject_ids == {}'.format(subject_id))\n",
    "  names = cls.user_name \n",
    "  annotations = cls['annotations'].apply(json.loads)\n",
    "\n",
    "  models = annotations.apply(\n",
    "    parsing.parse_annotation,\n",
    "    size_diff=size_diff\n",
    "  )\n",
    "\n",
    "  tqdm.pandas(\n",
    "    desc='Rendering models'.format(subject_id),\n",
    "    leave=False\n",
    "  )\n",
    "  rendered = models.progress_apply(\n",
    "    rendering.calculate_model,\n",
    "    image_size=image_size,\n",
    "    psf=psf\n",
    "  ).rename('rendered')\n",
    "\n",
    "  tqdm.pandas(\n",
    "    desc='Calculating differences'.format(subject_id),\n",
    "    leave=False\n",
    "  )\n",
    "  losses = rendered.apply(\n",
    "    fitting.loss,\n",
    "    args=(galaxy_data, pixel_mask)\n",
    "  ).rename('loss')\n",
    "  all_losses = pd.Series(\n",
    "    losses.values,\n",
    "    index=names.values\n",
    "  ).rename(subject_id)\n",
    "  best_losses = pd.concat((\n",
    "    all_losses.where(\n",
    "      ~all_losses.duplicated(keep=False)\n",
    "    ).dropna(), # all non-duplicates\n",
    "    all_losses.where(\n",
    "      all_losses.duplicated(keep=False)\n",
    "    ).dropna().groupby(level=0).min() # best value of duplicates\n",
    "  ), axis=0)\n",
    "  return best_losses"
   ]
  },
  {
   "cell_type": "code",
   "execution_count": 7,
   "metadata": {
    "collapsed": false,
    "inputHidden": false,
    "outputHidden": false,
    "papermill": {
     "duration": 12.431579,
     "end_time": "2019-09-02T10:21:06.334928",
     "exception": false,
     "start_time": "2019-09-02T10:20:53.903349",
     "status": "completed"
    },
    "tags": []
   },
   "outputs": [
    {
     "name": "stderr",
     "output_type": "stream",
     "text": [
      "\r",
      "Rendering models:   0%|          | 0/33 [00:00<?, ?it/s]"
     ]
    },
    {
     "name": "stderr",
     "output_type": "stream",
     "text": [
      "\r",
      "Rendering models:   6%|▌         | 2/33 [00:01<00:27,  1.13it/s]"
     ]
    },
    {
     "name": "stderr",
     "output_type": "stream",
     "text": [
      "\r",
      "Rendering models:   9%|▉         | 3/33 [00:05<00:53,  1.78s/it]"
     ]
    },
    {
     "name": "stderr",
     "output_type": "stream",
     "text": [
      "\r",
      "Rendering models:  12%|█▏        | 4/33 [00:07<00:51,  1.78s/it]"
     ]
    },
    {
     "name": "stderr",
     "output_type": "stream",
     "text": [
      "\r",
      "Rendering models:  15%|█▌        | 5/33 [00:07<00:36,  1.29s/it]"
     ]
    },
    {
     "name": "stderr",
     "output_type": "stream",
     "text": [
      "\r",
      "Rendering models:  24%|██▍       | 8/33 [00:07<00:23,  1.08it/s]"
     ]
    },
    {
     "name": "stderr",
     "output_type": "stream",
     "text": [
      "\r",
      "Rendering models:  33%|███▎      | 11/33 [00:08<00:14,  1.48it/s]"
     ]
    },
    {
     "name": "stderr",
     "output_type": "stream",
     "text": [
      "\r",
      "Rendering models:  36%|███▋      | 12/33 [00:08<00:10,  1.96it/s]"
     ]
    },
    {
     "name": "stderr",
     "output_type": "stream",
     "text": [
      "\r",
      "Rendering models:  39%|███▉      | 13/33 [00:08<00:08,  2.42it/s]"
     ]
    },
    {
     "name": "stderr",
     "output_type": "stream",
     "text": [
      "\r",
      "Rendering models:  42%|████▏     | 14/33 [00:08<00:06,  2.89it/s]"
     ]
    },
    {
     "name": "stderr",
     "output_type": "stream",
     "text": [
      "\r",
      "Rendering models:  45%|████▌     | 15/33 [00:08<00:05,  3.35it/s]"
     ]
    },
    {
     "name": "stderr",
     "output_type": "stream",
     "text": [
      "\r",
      "Rendering models:  48%|████▊     | 16/33 [00:08<00:04,  3.75it/s]"
     ]
    },
    {
     "name": "stderr",
     "output_type": "stream",
     "text": [
      "\r",
      "Rendering models:  52%|█████▏    | 17/33 [00:09<00:03,  4.17it/s]"
     ]
    },
    {
     "name": "stderr",
     "output_type": "stream",
     "text": [
      "\r",
      "Rendering models:  61%|██████    | 20/33 [00:09<00:02,  4.66it/s]"
     ]
    },
    {
     "name": "stderr",
     "output_type": "stream",
     "text": [
      "\r",
      "Rendering models:  67%|██████▋   | 22/33 [00:10<00:02,  4.69it/s]"
     ]
    },
    {
     "name": "stderr",
     "output_type": "stream",
     "text": [
      "\r",
      "Rendering models:  70%|██████▉   | 23/33 [00:10<00:01,  5.12it/s]"
     ]
    },
    {
     "name": "stderr",
     "output_type": "stream",
     "text": [
      "\r",
      "Rendering models:  73%|███████▎  | 24/33 [00:10<00:01,  5.45it/s]"
     ]
    },
    {
     "name": "stderr",
     "output_type": "stream",
     "text": [
      "\r",
      "Rendering models:  76%|███████▌  | 25/33 [00:10<00:01,  5.67it/s]"
     ]
    },
    {
     "name": "stderr",
     "output_type": "stream",
     "text": [
      "\r",
      "Rendering models:  79%|███████▉  | 26/33 [00:10<00:01,  4.71it/s]"
     ]
    },
    {
     "name": "stderr",
     "output_type": "stream",
     "text": [
      "\r",
      "Rendering models:  82%|████████▏ | 27/33 [00:10<00:01,  5.07it/s]"
     ]
    },
    {
     "name": "stderr",
     "output_type": "stream",
     "text": [
      "\r",
      "Rendering models:  85%|████████▍ | 28/33 [00:11<00:00,  5.03it/s]"
     ]
    },
    {
     "name": "stderr",
     "output_type": "stream",
     "text": [
      "\r",
      "Rendering models:  88%|████████▊ | 29/33 [00:11<00:00,  5.60it/s]"
     ]
    },
    {
     "name": "stderr",
     "output_type": "stream",
     "text": [
      "\r",
      "Rendering models:  91%|█████████ | 30/33 [00:11<00:00,  4.97it/s]"
     ]
    },
    {
     "name": "stderr",
     "output_type": "stream",
     "text": [
      "\r",
      "Rendering models:  94%|█████████▍| 31/33 [00:11<00:00,  5.54it/s]"
     ]
    },
    {
     "name": "stderr",
     "output_type": "stream",
     "text": [
      "\r",
      "Rendering models:  97%|█████████▋| 32/33 [00:11<00:00,  5.16it/s]"
     ]
    },
    {
     "name": "stderr",
     "output_type": "stream",
     "text": [
      "\r",
      "Rendering models: 100%|██████████| 33/33 [00:12<00:00,  4.90it/s]"
     ]
    },
    {
     "name": "stderr",
     "output_type": "stream",
     "text": [
      "\r",
      "                                                                 "
     ]
    },
    {
     "name": "stderr",
     "output_type": "stream",
     "text": [
      "\r"
     ]
    },
    {
     "data": {
      "text/plain": [
       "Stargazer28211                        0.001977\n",
       "framosuw                              0.000518\n",
       "CThomas                               0.000321\n",
       "cschwefl                              0.000250\n",
       "djswanso                              0.000156\n",
       "not-logged-in-ff40b895d06514783cbc    0.001593\n",
       "mtajnai                               0.000219\n",
       "theetick                              0.002297\n",
       "sn346808                              0.024263\n",
       "sn346808                              0.038557\n",
       "sn346808                              0.019477\n",
       "sn346808                              0.022412\n",
       "ryanwong                              0.001657\n",
       "not-logged-in-8abbc4e3c4658fb03367    0.018051\n",
       "not-logged-in-623cb7cd00f5dbcaf5ac    0.000365\n",
       "Nicola123                             0.018391\n",
       "caseyroberto                          0.000178\n",
       "puic                                  0.000238\n",
       "Tenorclef                             0.000473\n",
       "Linda_J._Berkel                       0.000175\n",
       "superphoton                           0.000288\n",
       "not-logged-in-2105317ef1ec85b34132    0.000288\n",
       "nbloewen                              0.000160\n",
       "connorstone628                        0.000226\n",
       "ElisabethB                            0.000206\n",
       "KevinKosa                             0.000304\n",
       "Mongin                                0.000605\n",
       "Hansson                               0.016131\n",
       "OnkarSadekar                          0.000207\n",
       "mkehrli                               0.001663\n",
       "ncaro                                 0.001663\n",
       "not-logged-in-65b11d07c026c3352be7    0.001663\n",
       "not-logged-in-d928e2f817e610da607c    0.001663\n",
       "Name: 21686607, dtype: float64"
      ]
     },
     "execution_count": 7,
     "metadata": {},
     "output_type": "execute_result"
    }
   ],
   "source": [
    "losses = get_losses_by_user(subject_id)\n",
    "losses"
   ]
  },
  {
   "cell_type": "code",
   "execution_count": 8,
   "metadata": {
    "collapsed": false,
    "inputHidden": false,
    "outputHidden": false,
    "papermill": {
     "duration": 0.065492,
     "end_time": "2019-09-02T10:21:06.414778",
     "exception": false,
     "start_time": "2019-09-02T10:21:06.349286",
     "status": "completed"
    },
    "tags": []
   },
   "outputs": [
    {
     "data": {
      "application/scrapbook.scrap.json+json": {
       "data": 21686607,
       "encoder": "json",
       "name": "subject_id",
       "version": 1
      }
     },
     "metadata": {
      "scrapbook": {
       "data": true,
       "display": false,
       "name": "subject_id"
      }
     },
     "output_type": "display_data"
    },
    {
     "data": {
      "application/scrapbook.scrap.json+json": {
       "data": {
        "CThomas": 0.00032132174971616345,
        "ElisabethB": 0.00020606333380221537,
        "Hansson": 0.016130951028976458,
        "KevinKosa": 0.0003040759532437065,
        "Linda_J._Berkel": 0.00017509548516449257,
        "Mongin": 0.0006047545391376085,
        "Nicola123": 0.018391162284015907,
        "OnkarSadekar": 0.0002067499670711331,
        "Stargazer28211": 0.001977063310553197,
        "Tenorclef": 0.00047330756469074107,
        "caseyroberto": 0.0001784113060366426,
        "connorstone628": 0.00022636399173328245,
        "cschwefl": 0.0002500699958148879,
        "djswanso": 0.00015642418333849757,
        "framosuw": 0.000517730747818437,
        "mkehrli": 0.0016630559788237548,
        "mtajnai": 0.00021944495322711704,
        "nbloewen": 0.0001600882133976931,
        "ncaro": 0.0016630559788237548,
        "not-logged-in-2105317ef1ec85b34132": 0.0002882979201568638,
        "not-logged-in-623cb7cd00f5dbcaf5ac": 0.0003645833206863156,
        "not-logged-in-65b11d07c026c3352be7": 0.0016630559788237548,
        "not-logged-in-8abbc4e3c4658fb03367": 0.018051398575871225,
        "not-logged-in-d928e2f817e610da607c": 0.0016630559788237548,
        "not-logged-in-ff40b895d06514783cbc": 0.0015930610437058644,
        "puic": 0.00023821261906628612,
        "ryanwong": 0.0016569577996655442,
        "sn346808": 0.022411975664328544,
        "superphoton": 0.0002875532783221956,
        "theetick": 0.002296902739561252
       },
       "encoder": "json",
       "name": "losses",
       "version": 1
      }
     },
     "metadata": {
      "scrapbook": {
       "data": true,
       "display": false,
       "name": "losses"
      }
     },
     "output_type": "display_data"
    }
   ],
   "source": [
    "sb.glue('subject_id', subject_id)\n",
    "sb.glue('losses', losses.to_dict())"
   ]
  }
 ],
 "metadata": {
  "kernel_info": {
   "name": "python3"
  },
  "kernelspec": {
   "display_name": "Python 3",
   "language": "python",
   "name": "python3"
  },
  "language_info": {
   "codemirror_mode": {
    "name": "ipython",
    "version": 3
   },
   "file_extension": ".py",
   "mimetype": "text/x-python",
   "name": "python",
   "nbconvert_exporter": "python",
   "pygments_lexer": "ipython3",
   "version": "3.7.3"
  },
  "nteract": {
   "version": "0.14.3"
  },
  "papermill": {
   "duration": 20.004331,
   "end_time": "2019-09-02T10:21:07.435749",
   "environment_variables": {},
   "exception": null,
   "input_path": "/users/tingard/gzbuilder_results/input_files/volunteer_losses.ipynb",
   "output_path": "/users/tingard/gzbuilder_results/output_files/volunteer_losses/21686607.ipynb",
   "parameters": {
    "subject_id": 21686607
   },
   "start_time": "2019-09-02T10:20:47.431418",
   "version": "1.0.1"
  }
 },
 "nbformat": 4,
 "nbformat_minor": 0
}