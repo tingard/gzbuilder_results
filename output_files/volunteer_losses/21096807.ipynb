{
 "cells": [
  {
   "cell_type": "markdown",
   "metadata": {
    "papermill": {
     "duration": 0.008781,
     "end_time": "2019-09-02T10:20:43.130775",
     "exception": false,
     "start_time": "2019-09-02T10:20:43.121994",
     "status": "completed"
    },
    "tags": []
   },
   "source": [
    "# Volunteer model loss calculation\n",
    "\n",
    "This notebook takes a `subject_id` and calculates the MSE of each volunteer's model to the galaxy data. These losses are then glued to the notebook for use elsewhere."
   ]
  },
  {
   "cell_type": "code",
   "execution_count": 1,
   "metadata": {
    "collapsed": false,
    "inputHidden": false,
    "outputHidden": false,
    "papermill": {
     "duration": 0.027644,
     "end_time": "2019-09-02T10:20:43.166878",
     "exception": false,
     "start_time": "2019-09-02T10:20:43.139234",
     "status": "completed"
    },
    "tags": []
   },
   "outputs": [],
   "source": [
    "%load_ext autoreload\n",
    "%autoreload 2"
   ]
  },
  {
   "cell_type": "code",
   "execution_count": 2,
   "metadata": {
    "collapsed": false,
    "inputHidden": false,
    "outputHidden": false,
    "papermill": {
     "duration": 4.197405,
     "end_time": "2019-09-02T10:20:47.371742",
     "exception": false,
     "start_time": "2019-09-02T10:20:43.174337",
     "status": "completed"
    },
    "tags": []
   },
   "outputs": [
    {
     "name": "stderr",
     "output_type": "stream",
     "text": [
      "/opt/apps/pkgs/anaconda3/2019.03/intel64/lib/python3.7/site-packages/dask/config.py:168: YAMLLoadWarning: calling yaml.load() without Loader=... is deprecated, as the default Loader is unsafe. Please read https://msg.pyyaml.org/load for full details.\n",
      "  data = yaml.load(f.read()) or {}\n"
     ]
    }
   ],
   "source": [
    "import json\n",
    "import numpy as np\n",
    "import pandas as pd\n",
    "from tqdm import tqdm\n",
    "import matplotlib.pyplot as plt\n",
    "import seaborn as sns\n",
    "from gzbuilder_analysis import parsing, rendering, fitting\n",
    "import lib.galaxy_utilities as gu\n",
    "import scrapbook as sb"
   ]
  },
  {
   "cell_type": "code",
   "execution_count": 3,
   "metadata": {
    "collapsed": false,
    "inputHidden": false,
    "outputHidden": false,
    "papermill": {
     "duration": 0.048217,
     "end_time": "2019-09-02T10:20:47.428265",
     "exception": false,
     "start_time": "2019-09-02T10:20:47.380048",
     "status": "completed"
    },
    "tags": [
     "parameters"
    ]
   },
   "outputs": [],
   "source": [
    "subject_id = 20902040"
   ]
  },
  {
   "cell_type": "code",
   "execution_count": 4,
   "metadata": {
    "papermill": {
     "duration": 1.152968,
     "end_time": "2019-09-02T10:20:48.589086",
     "exception": false,
     "start_time": "2019-09-02T10:20:47.436118",
     "status": "completed"
    },
    "tags": [
     "injected-parameters"
    ]
   },
   "outputs": [],
   "source": [
    "# Parameters\n",
    "subject_id = 21096807\n"
   ]
  },
  {
   "cell_type": "code",
   "execution_count": 5,
   "metadata": {
    "collapsed": false,
    "inputHidden": false,
    "outputHidden": false,
    "papermill": {
     "duration": 0.151007,
     "end_time": "2019-09-02T10:20:48.747671",
     "exception": false,
     "start_time": "2019-09-02T10:20:48.596664",
     "status": "completed"
    },
    "tags": []
   },
   "outputs": [],
   "source": [
    "diff_data_df = pd.read_pickle('lib/fitting_metadata.pkl')"
   ]
  },
  {
   "cell_type": "code",
   "execution_count": 6,
   "metadata": {
    "collapsed": false,
    "inputHidden": false,
    "outputHidden": false,
    "papermill": {
     "duration": 0.055055,
     "end_time": "2019-09-02T10:20:48.810445",
     "exception": false,
     "start_time": "2019-09-02T10:20:48.755390",
     "status": "completed"
    },
    "tags": []
   },
   "outputs": [],
   "source": [
    "def get_losses_by_user(subject_id):\n",
    "  diff_data = diff_data_df.loc[subject_id]\n",
    "  psf = diff_data['psf']\n",
    "  pixel_mask = np.array(diff_data['pixel_mask'])[::-1]\n",
    "  galaxy_data = np.array(diff_data['galaxy_data'])[::-1]\n",
    "  image_size = galaxy_data.shape[0]\n",
    "  size_diff = diff_data['size_diff']\n",
    "  \n",
    "  cls = gu.classifications.query('subject_ids == {}'.format(subject_id))\n",
    "  names = cls.user_name \n",
    "  annotations = cls['annotations'].apply(json.loads)\n",
    "\n",
    "  models = annotations.apply(\n",
    "    parsing.parse_annotation,\n",
    "    size_diff=size_diff\n",
    "  )\n",
    "\n",
    "  tqdm.pandas(\n",
    "    desc='Rendering models'.format(subject_id),\n",
    "    leave=False\n",
    "  )\n",
    "  rendered = models.progress_apply(\n",
    "    rendering.calculate_model,\n",
    "    image_size=image_size,\n",
    "    psf=psf\n",
    "  ).rename('rendered')\n",
    "\n",
    "  tqdm.pandas(\n",
    "    desc='Calculating differences'.format(subject_id),\n",
    "    leave=False\n",
    "  )\n",
    "  losses = rendered.apply(\n",
    "    fitting.loss,\n",
    "    args=(galaxy_data, pixel_mask)\n",
    "  ).rename('loss')\n",
    "  all_losses = pd.Series(\n",
    "    losses.values,\n",
    "    index=names.values\n",
    "  ).rename(subject_id)\n",
    "  best_losses = pd.concat((\n",
    "    all_losses.where(\n",
    "      ~all_losses.duplicated(keep=False)\n",
    "    ).dropna(), # all non-duplicates\n",
    "    all_losses.where(\n",
    "      all_losses.duplicated(keep=False)\n",
    "    ).dropna().groupby(level=0).min() # best value of duplicates\n",
    "  ), axis=0)\n",
    "  return best_losses"
   ]
  },
  {
   "cell_type": "code",
   "execution_count": 7,
   "metadata": {
    "collapsed": false,
    "inputHidden": false,
    "outputHidden": false,
    "papermill": {
     "duration": 9.824152,
     "end_time": "2019-09-02T10:20:58.642917",
     "exception": false,
     "start_time": "2019-09-02T10:20:48.818765",
     "status": "completed"
    },
    "tags": []
   },
   "outputs": [
    {
     "name": "stderr",
     "output_type": "stream",
     "text": [
      "\r",
      "Rendering models:   0%|          | 0/30 [00:00<?, ?it/s]"
     ]
    },
    {
     "name": "stderr",
     "output_type": "stream",
     "text": [
      "\r",
      "Rendering models:   7%|▋         | 2/30 [00:07<01:38,  3.52s/it]"
     ]
    },
    {
     "name": "stderr",
     "output_type": "stream",
     "text": [
      "\r",
      "Rendering models:  13%|█▎        | 4/30 [00:07<01:04,  2.48s/it]"
     ]
    },
    {
     "name": "stderr",
     "output_type": "stream",
     "text": [
      "\r",
      "Rendering models:  17%|█▋        | 5/30 [00:07<00:44,  1.77s/it]"
     ]
    },
    {
     "name": "stderr",
     "output_type": "stream",
     "text": [
      "\r",
      "Rendering models:  20%|██        | 6/30 [00:07<00:30,  1.27s/it]"
     ]
    },
    {
     "name": "stderr",
     "output_type": "stream",
     "text": [
      "\r",
      "Rendering models:  27%|██▋       | 8/30 [00:07<00:20,  1.09it/s]"
     ]
    },
    {
     "name": "stderr",
     "output_type": "stream",
     "text": [
      "\r",
      "Rendering models:  33%|███▎      | 10/30 [00:07<00:13,  1.52it/s]"
     ]
    },
    {
     "name": "stderr",
     "output_type": "stream",
     "text": [
      "\r",
      "Rendering models:  40%|████      | 12/30 [00:07<00:08,  2.05it/s]"
     ]
    },
    {
     "name": "stderr",
     "output_type": "stream",
     "text": [
      "\r",
      "Rendering models:  47%|████▋     | 14/30 [00:08<00:06,  2.63it/s]"
     ]
    },
    {
     "name": "stderr",
     "output_type": "stream",
     "text": [
      "\r",
      "Rendering models:  53%|█████▎    | 16/30 [00:08<00:04,  3.41it/s]"
     ]
    },
    {
     "name": "stderr",
     "output_type": "stream",
     "text": [
      "\r",
      "Rendering models:  60%|██████    | 18/30 [00:08<00:02,  4.50it/s]"
     ]
    },
    {
     "name": "stderr",
     "output_type": "stream",
     "text": [
      "\r",
      "Rendering models:  67%|██████▋   | 20/30 [00:08<00:01,  5.61it/s]"
     ]
    },
    {
     "name": "stderr",
     "output_type": "stream",
     "text": [
      "\r",
      "Rendering models:  73%|███████▎  | 22/30 [00:08<00:01,  6.11it/s]"
     ]
    },
    {
     "name": "stderr",
     "output_type": "stream",
     "text": [
      "\r",
      "Rendering models:  80%|████████  | 24/30 [00:09<00:00,  6.81it/s]"
     ]
    },
    {
     "name": "stderr",
     "output_type": "stream",
     "text": [
      "\r",
      "Rendering models:  87%|████████▋ | 26/30 [00:09<00:00,  7.24it/s]"
     ]
    },
    {
     "name": "stderr",
     "output_type": "stream",
     "text": [
      "\r",
      "Rendering models:  93%|█████████▎| 28/30 [00:09<00:00,  7.96it/s]"
     ]
    },
    {
     "name": "stderr",
     "output_type": "stream",
     "text": [
      "\r",
      "Rendering models: 100%|██████████| 30/30 [00:09<00:00,  9.07it/s]"
     ]
    },
    {
     "name": "stderr",
     "output_type": "stream",
     "text": [
      "\r",
      "                                                                 "
     ]
    },
    {
     "name": "stderr",
     "output_type": "stream",
     "text": [
      "\r"
     ]
    },
    {
     "data": {
      "text/plain": [
       "not-logged-in-3b0b929f4475fd276561    0.025884\n",
       "Jnursssmith5263                       0.001660\n",
       "ddemarco5                             0.144230\n",
       "jnarayanbvg                           0.002143\n",
       "awright5                              0.002096\n",
       "RTitchenal                            0.046198\n",
       "framosuw                              0.000505\n",
       "jaksonA                               1.083307\n",
       "not-logged-in-6ead6661c7dcef165774    0.055707\n",
       "lsautter                              0.000407\n",
       "not-logged-in-777c491ddad2ebcf9bb1    0.024996\n",
       "Jessica_Korkmaz                       0.010728\n",
       "jmartinez468                          0.003697\n",
       "acapirala                             0.000910\n",
       "alexmnelson18                         0.000425\n",
       "not-logged-in-fcfcbc88feb1aa0ed0a7    0.000633\n",
       "Lavadude                              0.005381\n",
       "not-logged-in-e991c008411b56a8790d    0.014949\n",
       "ShirleyL                              0.000372\n",
       "equidad1                              0.008420\n",
       "ZoshiePoshie                          0.000841\n",
       "not-logged-in-c5c35d38f95060274d07    0.016541\n",
       "Jassels2                              0.000746\n",
       "not-logged-in-4af3c47d6773c8dfc131    0.001694\n",
       "swalla46                              0.003306\n",
       "LAMBO101799                           0.004594\n",
       "fortnitemarter                        0.004594\n",
       "not-logged-in-0384de7fdcfa12a27ff6    0.004594\n",
       "not-logged-in-daf3a679a3a90cd95231    0.004594\n",
       "not-logged-in-e04cd671defdd11518ae    0.004594\n",
       "Name: 21096807, dtype: float64"
      ]
     },
     "execution_count": 7,
     "metadata": {},
     "output_type": "execute_result"
    }
   ],
   "source": [
    "losses = get_losses_by_user(subject_id)\n",
    "losses"
   ]
  },
  {
   "cell_type": "code",
   "execution_count": 8,
   "metadata": {
    "collapsed": false,
    "inputHidden": false,
    "outputHidden": false,
    "papermill": {
     "duration": 0.077222,
     "end_time": "2019-09-02T10:20:58.732763",
     "exception": false,
     "start_time": "2019-09-02T10:20:58.655541",
     "status": "completed"
    },
    "tags": []
   },
   "outputs": [
    {
     "data": {
      "application/scrapbook.scrap.json+json": {
       "data": 21096807,
       "encoder": "json",
       "name": "subject_id",
       "version": 1
      }
     },
     "metadata": {
      "scrapbook": {
       "data": true,
       "display": false,
       "name": "subject_id"
      }
     },
     "output_type": "display_data"
    },
    {
     "data": {
      "application/scrapbook.scrap.json+json": {
       "data": {
        "Jassels2": 0.0007464632849738837,
        "Jessica_Korkmaz": 0.010728478139478087,
        "Jnursssmith5263": 0.0016596455738865134,
        "LAMBO101799": 0.004593823016109357,
        "Lavadude": 0.005381098684072569,
        "RTitchenal": 0.04619832227699325,
        "ShirleyL": 0.00037236136563197227,
        "ZoshiePoshie": 0.0008410542274258185,
        "acapirala": 0.000910299418263077,
        "alexmnelson18": 0.0004249053529349589,
        "awright5": 0.002096190167192619,
        "ddemarco5": 0.14422952006215653,
        "equidad1": 0.008420025656453512,
        "fortnitemarter": 0.004593823016109357,
        "framosuw": 0.0005050227044870896,
        "jaksonA": 1.0833070827488847,
        "jmartinez468": 0.0036967480116064677,
        "jnarayanbvg": 0.0021434075901079533,
        "lsautter": 0.00040728083718341796,
        "not-logged-in-0384de7fdcfa12a27ff6": 0.004593823016109357,
        "not-logged-in-3b0b929f4475fd276561": 0.025884385944632934,
        "not-logged-in-4af3c47d6773c8dfc131": 0.001693957406726722,
        "not-logged-in-6ead6661c7dcef165774": 0.05570731696609055,
        "not-logged-in-777c491ddad2ebcf9bb1": 0.024996128453568866,
        "not-logged-in-c5c35d38f95060274d07": 0.016540721672796212,
        "not-logged-in-daf3a679a3a90cd95231": 0.004593823016109357,
        "not-logged-in-e04cd671defdd11518ae": 0.004593823016109357,
        "not-logged-in-e991c008411b56a8790d": 0.014948969157276441,
        "not-logged-in-fcfcbc88feb1aa0ed0a7": 0.000632673453612635,
        "swalla46": 0.0033059821954523547
       },
       "encoder": "json",
       "name": "losses",
       "version": 1
      }
     },
     "metadata": {
      "scrapbook": {
       "data": true,
       "display": false,
       "name": "losses"
      }
     },
     "output_type": "display_data"
    }
   ],
   "source": [
    "sb.glue('subject_id', subject_id)\n",
    "sb.glue('losses', losses.to_dict())"
   ]
  }
 ],
 "metadata": {
  "kernel_info": {
   "name": "python3"
  },
  "kernelspec": {
   "display_name": "Python 3",
   "language": "python",
   "name": "python3"
  },
  "language_info": {
   "codemirror_mode": {
    "name": "ipython",
    "version": 3
   },
   "file_extension": ".py",
   "mimetype": "text/x-python",
   "name": "python",
   "nbconvert_exporter": "python",
   "pygments_lexer": "ipython3",
   "version": "3.7.3"
  },
  "nteract": {
   "version": "0.14.3"
  },
  "papermill": {
   "duration": 19.010061,
   "end_time": "2019-09-02T10:21:00.453900",
   "environment_variables": {},
   "exception": null,
   "input_path": "/users/tingard/gzbuilder_results/input_files/volunteer_losses.ipynb",
   "output_path": "/users/tingard/gzbuilder_results/output_files/volunteer_losses/21096807.ipynb",
   "parameters": {
    "subject_id": 21096807
   },
   "start_time": "2019-09-02T10:20:41.443839",
   "version": "1.0.1"
  }
 },
 "nbformat": 4,
 "nbformat_minor": 0
}