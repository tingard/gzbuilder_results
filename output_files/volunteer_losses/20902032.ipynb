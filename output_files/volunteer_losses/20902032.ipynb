{
 "cells": [
  {
   "cell_type": "markdown",
   "metadata": {
    "papermill": {
     "duration": 0.007104,
     "end_time": "2019-09-02T10:20:16.185759",
     "exception": false,
     "start_time": "2019-09-02T10:20:16.178655",
     "status": "completed"
    },
    "tags": []
   },
   "source": [
    "# Volunteer model loss calculation\n",
    "\n",
    "This notebook takes a `subject_id` and calculates the MSE of each volunteer's model to the galaxy data. These losses are then glued to the notebook for use elsewhere."
   ]
  },
  {
   "cell_type": "code",
   "execution_count": 1,
   "metadata": {
    "collapsed": false,
    "inputHidden": false,
    "outputHidden": false,
    "papermill": {
     "duration": 0.081804,
     "end_time": "2019-09-02T10:20:16.275015",
     "exception": false,
     "start_time": "2019-09-02T10:20:16.193211",
     "status": "completed"
    },
    "tags": []
   },
   "outputs": [],
   "source": [
    "%load_ext autoreload\n",
    "%autoreload 2"
   ]
  },
  {
   "cell_type": "code",
   "execution_count": 2,
   "metadata": {
    "collapsed": false,
    "inputHidden": false,
    "outputHidden": false,
    "papermill": {
     "duration": 9.101542,
     "end_time": "2019-09-02T10:20:25.383887",
     "exception": false,
     "start_time": "2019-09-02T10:20:16.282345",
     "status": "completed"
    },
    "tags": []
   },
   "outputs": [
    {
     "name": "stderr",
     "output_type": "stream",
     "text": [
      "/opt/apps/pkgs/anaconda3/2019.03/intel64/lib/python3.7/site-packages/dask/config.py:168: YAMLLoadWarning: calling yaml.load() without Loader=... is deprecated, as the default Loader is unsafe. Please read https://msg.pyyaml.org/load for full details.\n",
      "  data = yaml.load(f.read()) or {}\n"
     ]
    }
   ],
   "source": [
    "import json\n",
    "import numpy as np\n",
    "import pandas as pd\n",
    "from tqdm import tqdm\n",
    "import matplotlib.pyplot as plt\n",
    "import seaborn as sns\n",
    "from gzbuilder_analysis import parsing, rendering, fitting\n",
    "import lib.galaxy_utilities as gu\n",
    "import scrapbook as sb"
   ]
  },
  {
   "cell_type": "code",
   "execution_count": 3,
   "metadata": {
    "collapsed": false,
    "inputHidden": false,
    "outputHidden": false,
    "papermill": {
     "duration": 0.057663,
     "end_time": "2019-09-02T10:20:25.451596",
     "exception": false,
     "start_time": "2019-09-02T10:20:25.393933",
     "status": "completed"
    },
    "tags": [
     "parameters"
    ]
   },
   "outputs": [],
   "source": [
    "subject_id = 20902040"
   ]
  },
  {
   "cell_type": "code",
   "execution_count": 4,
   "metadata": {
    "papermill": {
     "duration": 2.199638,
     "end_time": "2019-09-02T10:20:27.659692",
     "exception": false,
     "start_time": "2019-09-02T10:20:25.460054",
     "status": "completed"
    },
    "tags": [
     "injected-parameters"
    ]
   },
   "outputs": [],
   "source": [
    "# Parameters\n",
    "subject_id = 20902032\n"
   ]
  },
  {
   "cell_type": "code",
   "execution_count": 5,
   "metadata": {
    "collapsed": false,
    "inputHidden": false,
    "outputHidden": false,
    "papermill": {
     "duration": 0.154982,
     "end_time": "2019-09-02T10:20:27.823281",
     "exception": false,
     "start_time": "2019-09-02T10:20:27.668299",
     "status": "completed"
    },
    "tags": []
   },
   "outputs": [],
   "source": [
    "diff_data_df = pd.read_pickle('lib/fitting_metadata.pkl')"
   ]
  },
  {
   "cell_type": "code",
   "execution_count": 6,
   "metadata": {
    "collapsed": false,
    "inputHidden": false,
    "outputHidden": false,
    "papermill": {
     "duration": 0.058024,
     "end_time": "2019-09-02T10:20:27.890459",
     "exception": false,
     "start_time": "2019-09-02T10:20:27.832435",
     "status": "completed"
    },
    "tags": []
   },
   "outputs": [],
   "source": [
    "def get_losses_by_user(subject_id):\n",
    "  diff_data = diff_data_df.loc[subject_id]\n",
    "  psf = diff_data['psf']\n",
    "  pixel_mask = np.array(diff_data['pixel_mask'])[::-1]\n",
    "  galaxy_data = np.array(diff_data['galaxy_data'])[::-1]\n",
    "  image_size = galaxy_data.shape[0]\n",
    "  size_diff = diff_data['size_diff']\n",
    "  \n",
    "  cls = gu.classifications.query('subject_ids == {}'.format(subject_id))\n",
    "  names = cls.user_name \n",
    "  annotations = cls['annotations'].apply(json.loads)\n",
    "\n",
    "  models = annotations.apply(\n",
    "    parsing.parse_annotation,\n",
    "    size_diff=size_diff\n",
    "  )\n",
    "\n",
    "  tqdm.pandas(\n",
    "    desc='Rendering models'.format(subject_id),\n",
    "    leave=False\n",
    "  )\n",
    "  rendered = models.progress_apply(\n",
    "    rendering.calculate_model,\n",
    "    image_size=image_size,\n",
    "    psf=psf\n",
    "  ).rename('rendered')\n",
    "\n",
    "  tqdm.pandas(\n",
    "    desc='Calculating differences'.format(subject_id),\n",
    "    leave=False\n",
    "  )\n",
    "  losses = rendered.apply(\n",
    "    fitting.loss,\n",
    "    args=(galaxy_data, pixel_mask)\n",
    "  ).rename('loss')\n",
    "  all_losses = pd.Series(\n",
    "    losses.values,\n",
    "    index=names.values\n",
    "  ).rename(subject_id)\n",
    "  best_losses = pd.concat((\n",
    "    all_losses.where(\n",
    "      ~all_losses.duplicated(keep=False)\n",
    "    ).dropna(), # all non-duplicates\n",
    "    all_losses.where(\n",
    "      all_losses.duplicated(keep=False)\n",
    "    ).dropna().groupby(level=0).min() # best value of duplicates\n",
    "  ), axis=0)\n",
    "  return best_losses"
   ]
  },
  {
   "cell_type": "code",
   "execution_count": 7,
   "metadata": {
    "collapsed": false,
    "inputHidden": false,
    "outputHidden": false,
    "papermill": {
     "duration": 29.279684,
     "end_time": "2019-09-02T10:20:57.178273",
     "exception": false,
     "start_time": "2019-09-02T10:20:27.898589",
     "status": "completed"
    },
    "tags": []
   },
   "outputs": [
    {
     "name": "stderr",
     "output_type": "stream",
     "text": [
      "\r",
      "Rendering models:   0%|          | 0/32 [00:00<?, ?it/s]"
     ]
    },
    {
     "name": "stderr",
     "output_type": "stream",
     "text": [
      "\r",
      "Rendering models:   6%|▋         | 2/32 [00:05<01:28,  2.95s/it]"
     ]
    },
    {
     "name": "stderr",
     "output_type": "stream",
     "text": [
      "\r",
      "Rendering models:   9%|▉         | 3/32 [00:06<01:02,  2.14s/it]"
     ]
    },
    {
     "name": "stderr",
     "output_type": "stream",
     "text": [
      "\r",
      "Rendering models:  12%|█▎        | 4/32 [00:08<01:04,  2.30s/it]"
     ]
    },
    {
     "name": "stderr",
     "output_type": "stream",
     "text": [
      "\r",
      "Rendering models:  16%|█▌        | 5/32 [00:10<00:53,  2.00s/it]"
     ]
    },
    {
     "name": "stderr",
     "output_type": "stream",
     "text": [
      "\r",
      "Rendering models:  19%|█▉        | 6/32 [00:10<00:40,  1.55s/it]"
     ]
    },
    {
     "name": "stderr",
     "output_type": "stream",
     "text": [
      "\r",
      "Rendering models:  22%|██▏       | 7/32 [00:11<00:33,  1.34s/it]"
     ]
    },
    {
     "name": "stderr",
     "output_type": "stream",
     "text": [
      "\r",
      "Rendering models:  25%|██▌       | 8/32 [00:12<00:27,  1.14s/it]"
     ]
    },
    {
     "name": "stderr",
     "output_type": "stream",
     "text": [
      "\r",
      "Rendering models:  28%|██▊       | 9/32 [00:12<00:22,  1.01it/s]"
     ]
    },
    {
     "name": "stderr",
     "output_type": "stream",
     "text": [
      "\r",
      "Rendering models:  31%|███▏      | 10/32 [00:13<00:21,  1.02it/s]"
     ]
    },
    {
     "name": "stderr",
     "output_type": "stream",
     "text": [
      "\r",
      "Rendering models:  34%|███▍      | 11/32 [00:14<00:19,  1.10it/s]"
     ]
    },
    {
     "name": "stderr",
     "output_type": "stream",
     "text": [
      "\r",
      "Rendering models:  38%|███▊      | 12/32 [00:15<00:17,  1.12it/s]"
     ]
    },
    {
     "name": "stderr",
     "output_type": "stream",
     "text": [
      "\r",
      "Rendering models:  41%|████      | 13/32 [00:15<00:13,  1.41it/s]"
     ]
    },
    {
     "name": "stderr",
     "output_type": "stream",
     "text": [
      "\r",
      "Rendering models:  44%|████▍     | 14/32 [00:15<00:10,  1.75it/s]"
     ]
    },
    {
     "name": "stderr",
     "output_type": "stream",
     "text": [
      "\r",
      "Rendering models:  47%|████▋     | 15/32 [00:16<00:11,  1.54it/s]"
     ]
    },
    {
     "name": "stderr",
     "output_type": "stream",
     "text": [
      "\r",
      "Rendering models:  53%|█████▎    | 17/32 [00:17<00:08,  1.83it/s]"
     ]
    },
    {
     "name": "stderr",
     "output_type": "stream",
     "text": [
      "\r",
      "Rendering models:  56%|█████▋    | 18/32 [00:17<00:07,  1.86it/s]"
     ]
    },
    {
     "name": "stderr",
     "output_type": "stream",
     "text": [
      "\r",
      "Rendering models:  59%|█████▉    | 19/32 [00:18<00:09,  1.39it/s]"
     ]
    },
    {
     "name": "stderr",
     "output_type": "stream",
     "text": [
      "\r",
      "Rendering models:  62%|██████▎   | 20/32 [00:19<00:08,  1.40it/s]"
     ]
    },
    {
     "name": "stderr",
     "output_type": "stream",
     "text": [
      "\r",
      "Rendering models:  66%|██████▌   | 21/32 [00:20<00:07,  1.46it/s]"
     ]
    },
    {
     "name": "stderr",
     "output_type": "stream",
     "text": [
      "\r",
      "Rendering models:  69%|██████▉   | 22/32 [00:20<00:06,  1.51it/s]"
     ]
    },
    {
     "name": "stderr",
     "output_type": "stream",
     "text": [
      "\r",
      "Rendering models:  72%|███████▏  | 23/32 [00:21<00:06,  1.36it/s]"
     ]
    },
    {
     "name": "stderr",
     "output_type": "stream",
     "text": [
      "\r",
      "Rendering models:  75%|███████▌  | 24/32 [00:22<00:05,  1.48it/s]"
     ]
    },
    {
     "name": "stderr",
     "output_type": "stream",
     "text": [
      "\r",
      "Rendering models:  78%|███████▊  | 25/32 [00:22<00:04,  1.59it/s]"
     ]
    },
    {
     "name": "stderr",
     "output_type": "stream",
     "text": [
      "\r",
      "Rendering models:  81%|████████▏ | 26/32 [00:24<00:04,  1.26it/s]"
     ]
    },
    {
     "name": "stderr",
     "output_type": "stream",
     "text": [
      "\r",
      "Rendering models:  88%|████████▊ | 28/32 [00:24<00:02,  1.49it/s]"
     ]
    },
    {
     "name": "stderr",
     "output_type": "stream",
     "text": [
      "\r",
      "Rendering models:  91%|█████████ | 29/32 [00:25<00:01,  1.58it/s]"
     ]
    },
    {
     "name": "stderr",
     "output_type": "stream",
     "text": [
      "\r",
      "Rendering models:  94%|█████████▍| 30/32 [00:25<00:01,  1.70it/s]"
     ]
    },
    {
     "name": "stderr",
     "output_type": "stream",
     "text": [
      "\r",
      "Rendering models:  97%|█████████▋| 31/32 [00:27<00:00,  1.31it/s]"
     ]
    },
    {
     "name": "stderr",
     "output_type": "stream",
     "text": [
      "\r",
      "Rendering models: 100%|██████████| 32/32 [00:27<00:00,  1.29it/s]"
     ]
    },
    {
     "name": "stderr",
     "output_type": "stream",
     "text": [
      "\r",
      "                                                                 "
     ]
    },
    {
     "name": "stderr",
     "output_type": "stream",
     "text": [
      "\r"
     ]
    },
    {
     "data": {
      "text/plain": [
       "equidad1                               0.020132\n",
       "kayleebug2017                          0.000640\n",
       "CTidwell3                              0.000222\n",
       "tingard                                0.000174\n",
       "Betelgeuse12                           0.000253\n",
       "not-logged-in-87ebe289c5b4fb76a06c     0.733145\n",
       "nickoftona                             0.000337\n",
       "mollollo                               0.000192\n",
       "ElisabethB                             0.000205\n",
       "not-logged-in-75af55cf19be29c510aa     0.019994\n",
       "not-logged-in-8c0c44faf754d344b18a     0.014581\n",
       "astro_lab_ncmns                        0.000618\n",
       "astro_lab_ncmns                        0.000625\n",
       "not-logged-in-258b74099ecf199aff36     2.827471\n",
       "not-logged-in-d6cc15fe4c5aab399c3f     0.000251\n",
       "pangeli5                               0.002136\n",
       "clairedeu                              0.000274\n",
       "gabrielweiss                           0.002932\n",
       "Planetme                               0.000380\n",
       "not-logged-in-214814e52004b42491a4     0.093612\n",
       "Saharisunshine                         0.000257\n",
       "acapirala                              0.000689\n",
       "not-logged-in-3569dcff4dbd0ee90f50     0.002523\n",
       "SDamian                                0.000204\n",
       "rhondacard                             0.003607\n",
       "not-logged-in-ee6dc0c635dc3bc01435     0.000477\n",
       "Lavadude                               0.014090\n",
       "not-logged-in-873227d79645e4708632    32.550135\n",
       "not-logged-in-704ca07c4131cfda3ea2     0.001948\n",
       "not-logged-in-0a5c46abe4a4b6d51e31     0.000319\n",
       "Susymuller                             0.001184\n",
       "mariafarhat                            0.001184\n",
       "Name: 20902032, dtype: float64"
      ]
     },
     "execution_count": 7,
     "metadata": {},
     "output_type": "execute_result"
    }
   ],
   "source": [
    "losses = get_losses_by_user(subject_id)\n",
    "losses"
   ]
  },
  {
   "cell_type": "code",
   "execution_count": 8,
   "metadata": {
    "collapsed": false,
    "inputHidden": false,
    "outputHidden": false,
    "papermill": {
     "duration": 0.064761,
     "end_time": "2019-09-02T10:20:57.261451",
     "exception": false,
     "start_time": "2019-09-02T10:20:57.196690",
     "status": "completed"
    },
    "tags": []
   },
   "outputs": [
    {
     "data": {
      "application/scrapbook.scrap.json+json": {
       "data": 20902032,
       "encoder": "json",
       "name": "subject_id",
       "version": 1
      }
     },
     "metadata": {
      "scrapbook": {
       "data": true,
       "display": false,
       "name": "subject_id"
      }
     },
     "output_type": "display_data"
    },
    {
     "data": {
      "application/scrapbook.scrap.json+json": {
       "data": {
        "Betelgeuse12": 0.00025341458196057916,
        "CTidwell3": 0.00022242922096584115,
        "ElisabethB": 0.0002054392649874031,
        "Lavadude": 0.014089565511145766,
        "Planetme": 0.00038038166564945705,
        "SDamian": 0.00020381023411731724,
        "Saharisunshine": 0.0002572110710271707,
        "Susymuller": 0.001183794996999239,
        "acapirala": 0.0006889267756647609,
        "astro_lab_ncmns": 0.0006248284554963659,
        "clairedeu": 0.0002737470698147942,
        "equidad1": 0.020132007381145952,
        "gabrielweiss": 0.002931642676167913,
        "kayleebug2017": 0.0006402073621139693,
        "mariafarhat": 0.001183794996999239,
        "mollollo": 0.00019211862133068375,
        "nickoftona": 0.00033668823421597075,
        "not-logged-in-0a5c46abe4a4b6d51e31": 0.0003190974758503695,
        "not-logged-in-214814e52004b42491a4": 0.09361202901725223,
        "not-logged-in-258b74099ecf199aff36": 2.8274712440520298,
        "not-logged-in-3569dcff4dbd0ee90f50": 0.002522502634642019,
        "not-logged-in-704ca07c4131cfda3ea2": 0.00194812462067631,
        "not-logged-in-75af55cf19be29c510aa": 0.019994446063643218,
        "not-logged-in-873227d79645e4708632": 32.550135392982654,
        "not-logged-in-87ebe289c5b4fb76a06c": 0.73314498875538,
        "not-logged-in-8c0c44faf754d344b18a": 0.014581453516969848,
        "not-logged-in-d6cc15fe4c5aab399c3f": 0.00025096019449888563,
        "not-logged-in-ee6dc0c635dc3bc01435": 0.00047690905242094147,
        "pangeli5": 0.0021356119383199143,
        "rhondacard": 0.003606623551968226,
        "tingard": 0.00017379710179177152
       },
       "encoder": "json",
       "name": "losses",
       "version": 1
      }
     },
     "metadata": {
      "scrapbook": {
       "data": true,
       "display": false,
       "name": "losses"
      }
     },
     "output_type": "display_data"
    }
   ],
   "source": [
    "sb.glue('subject_id', subject_id)\n",
    "sb.glue('losses', losses.to_dict())"
   ]
  }
 ],
 "metadata": {
  "kernel_info": {
   "name": "python3"
  },
  "kernelspec": {
   "display_name": "Python 3",
   "language": "python",
   "name": "python3"
  },
  "language_info": {
   "codemirror_mode": {
    "name": "ipython",
    "version": 3
   },
   "file_extension": ".py",
   "mimetype": "text/x-python",
   "name": "python",
   "nbconvert_exporter": "python",
   "pygments_lexer": "ipython3",
   "version": "3.7.3"
  },
  "nteract": {
   "version": "0.14.3"
  },
  "papermill": {
   "duration": 45.17004,
   "end_time": "2019-09-02T10:20:58.829462",
   "environment_variables": {},
   "exception": null,
   "input_path": "/users/tingard/gzbuilder_results/input_files/volunteer_losses.ipynb",
   "output_path": "/users/tingard/gzbuilder_results/output_files/volunteer_losses/20902032.ipynb",
   "parameters": {
    "subject_id": 20902032
   },
   "start_time": "2019-09-02T10:20:13.659422",
   "version": "1.0.1"
  }
 },
 "nbformat": 4,
 "nbformat_minor": 0
}