{
 "cells": [
  {
   "cell_type": "markdown",
   "metadata": {
    "papermill": {
     "duration": 0.007994,
     "end_time": "2019-09-02T10:20:16.970058",
     "exception": false,
     "start_time": "2019-09-02T10:20:16.962064",
     "status": "completed"
    },
    "tags": []
   },
   "source": [
    "# Volunteer model loss calculation\n",
    "\n",
    "This notebook takes a `subject_id` and calculates the MSE of each volunteer's model to the galaxy data. These losses are then glued to the notebook for use elsewhere."
   ]
  },
  {
   "cell_type": "code",
   "execution_count": 1,
   "metadata": {
    "collapsed": false,
    "inputHidden": false,
    "outputHidden": false,
    "papermill": {
     "duration": 0.024404,
     "end_time": "2019-09-02T10:20:17.002060",
     "exception": false,
     "start_time": "2019-09-02T10:20:16.977656",
     "status": "completed"
    },
    "tags": []
   },
   "outputs": [],
   "source": [
    "%load_ext autoreload\n",
    "%autoreload 2"
   ]
  },
  {
   "cell_type": "code",
   "execution_count": 2,
   "metadata": {
    "collapsed": false,
    "inputHidden": false,
    "outputHidden": false,
    "papermill": {
     "duration": 5.94205,
     "end_time": "2019-09-02T10:20:22.951169",
     "exception": false,
     "start_time": "2019-09-02T10:20:17.009119",
     "status": "completed"
    },
    "tags": []
   },
   "outputs": [
    {
     "name": "stderr",
     "output_type": "stream",
     "text": [
      "/opt/apps/pkgs/anaconda3/2019.03/intel64/lib/python3.7/site-packages/dask/config.py:168: YAMLLoadWarning: calling yaml.load() without Loader=... is deprecated, as the default Loader is unsafe. Please read https://msg.pyyaml.org/load for full details.\n",
      "  data = yaml.load(f.read()) or {}\n"
     ]
    }
   ],
   "source": [
    "import json\n",
    "import numpy as np\n",
    "import pandas as pd\n",
    "from tqdm import tqdm\n",
    "import matplotlib.pyplot as plt\n",
    "import seaborn as sns\n",
    "from gzbuilder_analysis import parsing, rendering, fitting\n",
    "import lib.galaxy_utilities as gu\n",
    "import scrapbook as sb"
   ]
  },
  {
   "cell_type": "code",
   "execution_count": 3,
   "metadata": {
    "collapsed": false,
    "inputHidden": false,
    "outputHidden": false,
    "papermill": {
     "duration": 0.043197,
     "end_time": "2019-09-02T10:20:23.003540",
     "exception": false,
     "start_time": "2019-09-02T10:20:22.960343",
     "status": "completed"
    },
    "tags": [
     "parameters"
    ]
   },
   "outputs": [],
   "source": [
    "subject_id = 20902040"
   ]
  },
  {
   "cell_type": "code",
   "execution_count": 4,
   "metadata": {
    "papermill": {
     "duration": 5.109228,
     "end_time": "2019-09-02T10:20:28.124474",
     "exception": false,
     "start_time": "2019-09-02T10:20:23.015246",
     "status": "completed"
    },
    "tags": [
     "injected-parameters"
    ]
   },
   "outputs": [],
   "source": [
    "# Parameters\n",
    "subject_id = 20902082\n"
   ]
  },
  {
   "cell_type": "code",
   "execution_count": 5,
   "metadata": {
    "collapsed": false,
    "inputHidden": false,
    "outputHidden": false,
    "papermill": {
     "duration": 0.154621,
     "end_time": "2019-09-02T10:20:28.287378",
     "exception": false,
     "start_time": "2019-09-02T10:20:28.132757",
     "status": "completed"
    },
    "tags": []
   },
   "outputs": [],
   "source": [
    "diff_data_df = pd.read_pickle('lib/fitting_metadata.pkl')"
   ]
  },
  {
   "cell_type": "code",
   "execution_count": 6,
   "metadata": {
    "collapsed": false,
    "inputHidden": false,
    "outputHidden": false,
    "papermill": {
     "duration": 0.057307,
     "end_time": "2019-09-02T10:20:28.352783",
     "exception": false,
     "start_time": "2019-09-02T10:20:28.295476",
     "status": "completed"
    },
    "tags": []
   },
   "outputs": [],
   "source": [
    "def get_losses_by_user(subject_id):\n",
    "  diff_data = diff_data_df.loc[subject_id]\n",
    "  psf = diff_data['psf']\n",
    "  pixel_mask = np.array(diff_data['pixel_mask'])[::-1]\n",
    "  galaxy_data = np.array(diff_data['galaxy_data'])[::-1]\n",
    "  image_size = galaxy_data.shape[0]\n",
    "  size_diff = diff_data['size_diff']\n",
    "  \n",
    "  cls = gu.classifications.query('subject_ids == {}'.format(subject_id))\n",
    "  names = cls.user_name \n",
    "  annotations = cls['annotations'].apply(json.loads)\n",
    "\n",
    "  models = annotations.apply(\n",
    "    parsing.parse_annotation,\n",
    "    size_diff=size_diff\n",
    "  )\n",
    "\n",
    "  tqdm.pandas(\n",
    "    desc='Rendering models'.format(subject_id),\n",
    "    leave=False\n",
    "  )\n",
    "  rendered = models.progress_apply(\n",
    "    rendering.calculate_model,\n",
    "    image_size=image_size,\n",
    "    psf=psf\n",
    "  ).rename('rendered')\n",
    "\n",
    "  tqdm.pandas(\n",
    "    desc='Calculating differences'.format(subject_id),\n",
    "    leave=False\n",
    "  )\n",
    "  losses = rendered.apply(\n",
    "    fitting.loss,\n",
    "    args=(galaxy_data, pixel_mask)\n",
    "  ).rename('loss')\n",
    "  all_losses = pd.Series(\n",
    "    losses.values,\n",
    "    index=names.values\n",
    "  ).rename(subject_id)\n",
    "  best_losses = pd.concat((\n",
    "    all_losses.where(\n",
    "      ~all_losses.duplicated(keep=False)\n",
    "    ).dropna(), # all non-duplicates\n",
    "    all_losses.where(\n",
    "      all_losses.duplicated(keep=False)\n",
    "    ).dropna().groupby(level=0).min() # best value of duplicates\n",
    "  ), axis=0)\n",
    "  return best_losses"
   ]
  },
  {
   "cell_type": "code",
   "execution_count": 7,
   "metadata": {
    "collapsed": false,
    "inputHidden": false,
    "outputHidden": false,
    "papermill": {
     "duration": 15.812897,
     "end_time": "2019-09-02T10:20:44.175601",
     "exception": false,
     "start_time": "2019-09-02T10:20:28.362704",
     "status": "completed"
    },
    "tags": []
   },
   "outputs": [
    {
     "name": "stderr",
     "output_type": "stream",
     "text": [
      "\r",
      "Rendering models:   0%|          | 0/88 [00:00<?, ?it/s]"
     ]
    },
    {
     "name": "stderr",
     "output_type": "stream",
     "text": [
      "\r",
      "Rendering models:   2%|▏         | 2/88 [00:02<02:03,  1.43s/it]"
     ]
    },
    {
     "name": "stderr",
     "output_type": "stream",
     "text": [
      "\r",
      "Rendering models:   5%|▍         | 4/88 [00:04<01:45,  1.26s/it]"
     ]
    },
    {
     "name": "stderr",
     "output_type": "stream",
     "text": [
      "\r",
      "Rendering models:   7%|▋         | 6/88 [00:07<01:46,  1.30s/it]"
     ]
    },
    {
     "name": "stderr",
     "output_type": "stream",
     "text": [
      "\r",
      "Rendering models:   8%|▊         | 7/88 [00:07<01:17,  1.05it/s]"
     ]
    },
    {
     "name": "stderr",
     "output_type": "stream",
     "text": [
      "\r",
      "Rendering models:  10%|█         | 9/88 [00:07<00:55,  1.42it/s]"
     ]
    },
    {
     "name": "stderr",
     "output_type": "stream",
     "text": [
      "\r",
      "Rendering models:  12%|█▎        | 11/88 [00:07<00:40,  1.90it/s]"
     ]
    },
    {
     "name": "stderr",
     "output_type": "stream",
     "text": [
      "\r",
      "Rendering models:  15%|█▍        | 13/88 [00:08<00:29,  2.53it/s]"
     ]
    },
    {
     "name": "stderr",
     "output_type": "stream",
     "text": [
      "\r",
      "Rendering models:  16%|█▌        | 14/88 [00:08<00:23,  3.17it/s]"
     ]
    },
    {
     "name": "stderr",
     "output_type": "stream",
     "text": [
      "\r",
      "Rendering models:  26%|██▌       | 23/88 [00:08<00:14,  4.46it/s]"
     ]
    },
    {
     "name": "stderr",
     "output_type": "stream",
     "text": [
      "\r",
      "Rendering models:  31%|███       | 27/88 [00:08<00:12,  5.04it/s]"
     ]
    },
    {
     "name": "stderr",
     "output_type": "stream",
     "text": [
      "\r",
      "Rendering models:  34%|███▍      | 30/88 [00:09<00:10,  5.40it/s]"
     ]
    },
    {
     "name": "stderr",
     "output_type": "stream",
     "text": [
      "\r",
      "Rendering models:  36%|███▋      | 32/88 [00:09<00:09,  6.09it/s]"
     ]
    },
    {
     "name": "stderr",
     "output_type": "stream",
     "text": [
      "\r",
      "Rendering models:  39%|███▊      | 34/88 [00:09<00:08,  6.54it/s]"
     ]
    },
    {
     "name": "stderr",
     "output_type": "stream",
     "text": [
      "\r",
      "Rendering models:  41%|████      | 36/88 [00:10<00:07,  7.15it/s]"
     ]
    },
    {
     "name": "stderr",
     "output_type": "stream",
     "text": [
      "\r",
      "Rendering models:  43%|████▎     | 38/88 [00:10<00:05,  8.63it/s]"
     ]
    },
    {
     "name": "stderr",
     "output_type": "stream",
     "text": [
      "\r",
      "Rendering models:  45%|████▌     | 40/88 [00:10<00:06,  7.99it/s]"
     ]
    },
    {
     "name": "stderr",
     "output_type": "stream",
     "text": [
      "\r",
      "Rendering models:  48%|████▊     | 42/88 [00:10<00:05,  8.16it/s]"
     ]
    },
    {
     "name": "stderr",
     "output_type": "stream",
     "text": [
      "\r",
      "Rendering models:  50%|█████     | 44/88 [00:11<00:05,  7.59it/s]"
     ]
    },
    {
     "name": "stderr",
     "output_type": "stream",
     "text": [
      "\r",
      "Rendering models:  51%|█████     | 45/88 [00:11<00:06,  7.01it/s]"
     ]
    },
    {
     "name": "stderr",
     "output_type": "stream",
     "text": [
      "\r",
      "Rendering models:  52%|█████▏    | 46/88 [00:11<00:05,  7.44it/s]"
     ]
    },
    {
     "name": "stderr",
     "output_type": "stream",
     "text": [
      "\r",
      "Rendering models:  53%|█████▎    | 47/88 [00:11<00:05,  6.96it/s]"
     ]
    },
    {
     "name": "stderr",
     "output_type": "stream",
     "text": [
      "\r",
      "Rendering models:  55%|█████▍    | 48/88 [00:11<00:06,  6.57it/s]"
     ]
    },
    {
     "name": "stderr",
     "output_type": "stream",
     "text": [
      "\r",
      "Rendering models:  56%|█████▌    | 49/88 [00:11<00:06,  6.50it/s]"
     ]
    },
    {
     "name": "stderr",
     "output_type": "stream",
     "text": [
      "\r",
      "Rendering models:  57%|█████▋    | 50/88 [00:11<00:05,  6.41it/s]"
     ]
    },
    {
     "name": "stderr",
     "output_type": "stream",
     "text": [
      "\r",
      "Rendering models:  59%|█████▉    | 52/88 [00:12<00:04,  7.44it/s]"
     ]
    },
    {
     "name": "stderr",
     "output_type": "stream",
     "text": [
      "\r",
      "Rendering models:  60%|██████    | 53/88 [00:12<00:05,  6.97it/s]"
     ]
    },
    {
     "name": "stderr",
     "output_type": "stream",
     "text": [
      "\r",
      "Rendering models:  61%|██████▏   | 54/88 [00:12<00:05,  6.50it/s]"
     ]
    },
    {
     "name": "stderr",
     "output_type": "stream",
     "text": [
      "\r",
      "Rendering models:  62%|██████▎   | 55/88 [00:12<00:04,  7.03it/s]"
     ]
    },
    {
     "name": "stderr",
     "output_type": "stream",
     "text": [
      "\r",
      "Rendering models:  69%|██████▉   | 61/88 [00:12<00:02,  9.07it/s]"
     ]
    },
    {
     "name": "stderr",
     "output_type": "stream",
     "text": [
      "\r",
      "Rendering models:  72%|███████▏  | 63/88 [00:13<00:03,  7.02it/s]"
     ]
    },
    {
     "name": "stderr",
     "output_type": "stream",
     "text": [
      "\r",
      "Rendering models:  74%|███████▍  | 65/88 [00:13<00:03,  6.74it/s]"
     ]
    },
    {
     "name": "stderr",
     "output_type": "stream",
     "text": [
      "\r",
      "Rendering models:  75%|███████▌  | 66/88 [00:13<00:03,  6.52it/s]"
     ]
    },
    {
     "name": "stderr",
     "output_type": "stream",
     "text": [
      "\r",
      "Rendering models:  76%|███████▌  | 67/88 [00:13<00:02,  7.12it/s]"
     ]
    },
    {
     "name": "stderr",
     "output_type": "stream",
     "text": [
      "\r",
      "Rendering models:  77%|███████▋  | 68/88 [00:13<00:02,  7.64it/s]"
     ]
    },
    {
     "name": "stderr",
     "output_type": "stream",
     "text": [
      "\r",
      "Rendering models:  78%|███████▊  | 69/88 [00:14<00:02,  8.14it/s]"
     ]
    },
    {
     "name": "stderr",
     "output_type": "stream",
     "text": [
      "\r",
      "Rendering models:  80%|███████▉  | 70/88 [00:14<00:02,  8.36it/s]"
     ]
    },
    {
     "name": "stderr",
     "output_type": "stream",
     "text": [
      "\r",
      "Rendering models:  82%|████████▏ | 72/88 [00:14<00:01,  9.40it/s]"
     ]
    },
    {
     "name": "stderr",
     "output_type": "stream",
     "text": [
      "\r",
      "Rendering models:  84%|████████▍ | 74/88 [00:14<00:01,  8.96it/s]"
     ]
    },
    {
     "name": "stderr",
     "output_type": "stream",
     "text": [
      "\r",
      "Rendering models:  85%|████████▌ | 75/88 [00:14<00:01,  9.12it/s]"
     ]
    },
    {
     "name": "stderr",
     "output_type": "stream",
     "text": [
      "\r",
      "Rendering models:  86%|████████▋ | 76/88 [00:14<00:01,  8.57it/s]"
     ]
    },
    {
     "name": "stderr",
     "output_type": "stream",
     "text": [
      "\r",
      "Rendering models:  88%|████████▊ | 77/88 [00:14<00:01,  8.82it/s]"
     ]
    },
    {
     "name": "stderr",
     "output_type": "stream",
     "text": [
      "\r",
      "Rendering models:  93%|█████████▎| 82/88 [00:15<00:00, 11.46it/s]"
     ]
    },
    {
     "name": "stderr",
     "output_type": "stream",
     "text": [
      "\r",
      "Rendering models:  97%|█████████▋| 85/88 [00:15<00:00, 12.40it/s]"
     ]
    },
    {
     "name": "stderr",
     "output_type": "stream",
     "text": [
      "\r",
      "Rendering models:  99%|█████████▉| 87/88 [00:15<00:00, 13.65it/s]"
     ]
    },
    {
     "name": "stderr",
     "output_type": "stream",
     "text": [
      "\r",
      "                                                                 "
     ]
    },
    {
     "name": "stderr",
     "output_type": "stream",
     "text": [
      "\r"
     ]
    },
    {
     "data": {
      "text/plain": [
       "kayleebug2017                         0.002086\n",
       "not-logged-in-a99d366ea300f07366a6    0.041025\n",
       "Drew_Farnsworth                       0.001262\n",
       "Thedunkmasta                          0.001960\n",
       "Thedunkmasta                          0.001414\n",
       "not-logged-in-ab387df784182aa5a555    0.001185\n",
       "not-logged-in-ea8ed61a7274cfb6a43b    0.002314\n",
       "nothanku                              0.001032\n",
       "esazure                               0.009243\n",
       "not-logged-in-1124b2639e37eb70f4c6    0.000488\n",
       "Spinne1                               0.001296\n",
       "Paddy_van_CH                          0.000521\n",
       "msalin03                              0.000586\n",
       "msross                                0.000553\n",
       "clizardo                              0.000730\n",
       "mkirms                                0.000522\n",
       "mchaffin                              0.000475\n",
       "djcameron                             0.000470\n",
       "stgomes                               0.000492\n",
       "wthammas                              0.000654\n",
       "atinkess                              0.001134\n",
       "not-logged-in-d4bf4d941a1b00de226b    0.001779\n",
       "creinbol                              0.000569\n",
       "cchen88                               0.000861\n",
       "Corradini023                          0.001695\n",
       "Corradini015                          0.001177\n",
       "denzel.ayala                          0.001201\n",
       "helm0883                              0.001007\n",
       "sn346808                              0.020388\n",
       "manse99                               0.000661\n",
       "                                        ...   \n",
       "dmosier13                             0.001533\n",
       "dmosier13                             0.001160\n",
       "dmosier13                             0.001198\n",
       "tdrabic                               0.000670\n",
       "campanellimichael13                   0.002579\n",
       "campanellimichael13                   0.001093\n",
       "not-logged-in-812b279e0836b083d452    0.006556\n",
       "not-logged-in-812b279e0836b083d452    0.000548\n",
       "not-logged-in-812b279e0836b083d452    0.000497\n",
       "not-logged-in-812b279e0836b083d452    0.000494\n",
       "not-logged-in-812b279e0836b083d452    0.000504\n",
       "not-logged-in-812b279e0836b083d452    0.000481\n",
       "aardvark321                           0.001345\n",
       "ksheahon                              0.001142\n",
       "lmhob14                               0.000742\n",
       "redpanda26                            0.007575\n",
       "GabeGramy                             0.002991\n",
       "Lavadude                              0.002991\n",
       "campanellimichael13                   0.002991\n",
       "ckkmomma                              0.002991\n",
       "heathmonie                            0.002991\n",
       "ksheahon                              0.002991\n",
       "maxdinesen                            0.002991\n",
       "ncaro                                 0.002991\n",
       "not-logged-in-01996053aa6787354595    0.002991\n",
       "not-logged-in-76918bdd20a38d590b95    0.002991\n",
       "not-logged-in-7c33d6a0ca9ac4648bdf    0.002991\n",
       "not-logged-in-cd6a5cac0334cc279337    0.002991\n",
       "not-logged-in-ded5be56ebd77626fe54    0.002991\n",
       "not-logged-in-ffec57c1355443475ba8    0.002991\n",
       "Name: 20902082, Length: 76, dtype: float64"
      ]
     },
     "execution_count": 7,
     "metadata": {},
     "output_type": "execute_result"
    }
   ],
   "source": [
    "losses = get_losses_by_user(subject_id)\n",
    "losses"
   ]
  },
  {
   "cell_type": "code",
   "execution_count": 8,
   "metadata": {
    "collapsed": false,
    "inputHidden": false,
    "outputHidden": false,
    "papermill": {
     "duration": 0.0658,
     "end_time": "2019-09-02T10:20:44.262883",
     "exception": false,
     "start_time": "2019-09-02T10:20:44.197083",
     "status": "completed"
    },
    "tags": []
   },
   "outputs": [
    {
     "data": {
      "application/scrapbook.scrap.json+json": {
       "data": 20902082,
       "encoder": "json",
       "name": "subject_id",
       "version": 1
      }
     },
     "metadata": {
      "scrapbook": {
       "data": true,
       "display": false,
       "name": "subject_id"
      }
     },
     "output_type": "display_data"
    },
    {
     "data": {
      "application/scrapbook.scrap.json+json": {
       "data": {
        "CBAIN25": 0.054838881946193276,
        "Corradini015": 0.001177225178613883,
        "Corradini023": 0.0016945378602944506,
        "Drew_Farnsworth": 0.001262037021759315,
        "GabeGramy": 0.002990763119014865,
        "Lavadude": 0.002990763119014865,
        "Paddy_van_CH": 0.0005211623856675317,
        "Rian_NL": 0.00600832334180395,
        "Spinne1": 0.0012960985128231957,
        "Thedunkmasta": 0.0014141602556745694,
        "aardvark321": 0.0013449392980228706,
        "atinkess": 0.0011341787936467154,
        "campanellimichael13": 0.002990763119014865,
        "cchen88": 0.000860666128949054,
        "ckkmomma": 0.002990763119014865,
        "clizardo": 0.0007302477674308528,
        "creinbol": 0.0005694455176923071,
        "denzel.ayala": 0.001201282011798017,
        "djcameron": 0.0004697425077105635,
        "dmosier13": 0.001198234227515761,
        "edgardo.e.nogueira": 0.009957666249433311,
        "esazure": 0.00924338688139003,
        "heathmonie": 0.002990763119014865,
        "helm0883": 0.0010068590232151205,
        "kayleebug2017": 0.0020855620632846635,
        "ksheahon": 0.002990763119014865,
        "lmhob14": 0.0007422510525462918,
        "manse99": 0.0006606956634344525,
        "maxdinesen": 0.002990763119014865,
        "mchaffin": 0.00047466911435161915,
        "mkirms": 0.0005216119449231107,
        "msalin03": 0.0005857749573448223,
        "msross": 0.0005527940533719913,
        "ncaro": 0.002990763119014865,
        "not-logged-in-01996053aa6787354595": 0.002990763119014865,
        "not-logged-in-1124b2639e37eb70f4c6": 0.00048813469973448307,
        "not-logged-in-76918bdd20a38d590b95": 0.002990763119014865,
        "not-logged-in-7c33d6a0ca9ac4648bdf": 0.002990763119014865,
        "not-logged-in-812b279e0836b083d452": 0.0004812248508119952,
        "not-logged-in-a99d366ea300f07366a6": 0.041025266534144796,
        "not-logged-in-ab387df784182aa5a555": 0.001185426815127937,
        "not-logged-in-cd6a5cac0334cc279337": 0.002990763119014865,
        "not-logged-in-d4bf4d941a1b00de226b": 0.001778769427428083,
        "not-logged-in-ded5be56ebd77626fe54": 0.002990763119014865,
        "not-logged-in-e3e71df08416010c73b7": 0.0004889423535198497,
        "not-logged-in-ea8ed61a7274cfb6a43b": 0.002313988263716321,
        "not-logged-in-f82a6d15a1dafa9bbfae": 0.000497839657495221,
        "not-logged-in-ffec57c1355443475ba8": 0.002990763119014865,
        "nothanku": 0.001032236737059871,
        "redpanda26": 0.007574909139814596,
        "sn346808": 0.020388437374604062,
        "stgomes": 0.0004923053780898958,
        "tdrabic": 0.0006696651054099504,
        "wthammas": 0.0006540737869258848
       },
       "encoder": "json",
       "name": "losses",
       "version": 1
      }
     },
     "metadata": {
      "scrapbook": {
       "data": true,
       "display": false,
       "name": "losses"
      }
     },
     "output_type": "display_data"
    }
   ],
   "source": [
    "sb.glue('subject_id', subject_id)\n",
    "sb.glue('losses', losses.to_dict())"
   ]
  }
 ],
 "metadata": {
  "kernel_info": {
   "name": "python3"
  },
  "kernelspec": {
   "display_name": "Python 3",
   "language": "python",
   "name": "python3"
  },
  "language_info": {
   "codemirror_mode": {
    "name": "ipython",
    "version": 3
   },
   "file_extension": ".py",
   "mimetype": "text/x-python",
   "name": "python",
   "nbconvert_exporter": "python",
   "pygments_lexer": "ipython3",
   "version": "3.7.3"
  },
  "nteract": {
   "version": "0.14.3"
  },
  "papermill": {
   "duration": 32.112624,
   "end_time": "2019-09-02T10:20:45.164238",
   "environment_variables": {},
   "exception": null,
   "input_path": "/users/tingard/gzbuilder_results/input_files/volunteer_losses.ipynb",
   "output_path": "/users/tingard/gzbuilder_results/output_files/volunteer_losses/20902082.ipynb",
   "parameters": {
    "subject_id": 20902082
   },
   "start_time": "2019-09-02T10:20:13.051614",
   "version": "1.0.1"
  }
 },
 "nbformat": 4,
 "nbformat_minor": 0
}