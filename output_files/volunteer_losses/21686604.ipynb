{
 "cells": [
  {
   "cell_type": "markdown",
   "metadata": {
    "papermill": {
     "duration": 0.008842,
     "end_time": "2019-09-02T10:20:51.628104",
     "exception": false,
     "start_time": "2019-09-02T10:20:51.619262",
     "status": "completed"
    },
    "tags": []
   },
   "source": [
    "# Volunteer model loss calculation\n",
    "\n",
    "This notebook takes a `subject_id` and calculates the MSE of each volunteer's model to the galaxy data. These losses are then glued to the notebook for use elsewhere."
   ]
  },
  {
   "cell_type": "code",
   "execution_count": 1,
   "metadata": {
    "collapsed": false,
    "inputHidden": false,
    "outputHidden": false,
    "papermill": {
     "duration": 0.029194,
     "end_time": "2019-09-02T10:20:51.665688",
     "exception": false,
     "start_time": "2019-09-02T10:20:51.636494",
     "status": "completed"
    },
    "tags": []
   },
   "outputs": [],
   "source": [
    "%load_ext autoreload\n",
    "%autoreload 2"
   ]
  },
  {
   "cell_type": "code",
   "execution_count": 2,
   "metadata": {
    "collapsed": false,
    "inputHidden": false,
    "outputHidden": false,
    "papermill": {
     "duration": 4.288301,
     "end_time": "2019-09-02T10:20:55.961513",
     "exception": false,
     "start_time": "2019-09-02T10:20:51.673212",
     "status": "completed"
    },
    "tags": []
   },
   "outputs": [
    {
     "name": "stderr",
     "output_type": "stream",
     "text": [
      "/opt/apps/pkgs/anaconda3/2019.03/intel64/lib/python3.7/site-packages/dask/config.py:168: YAMLLoadWarning: calling yaml.load() without Loader=... is deprecated, as the default Loader is unsafe. Please read https://msg.pyyaml.org/load for full details.\n",
      "  data = yaml.load(f.read()) or {}\n"
     ]
    }
   ],
   "source": [
    "import json\n",
    "import numpy as np\n",
    "import pandas as pd\n",
    "from tqdm import tqdm\n",
    "import matplotlib.pyplot as plt\n",
    "import seaborn as sns\n",
    "from gzbuilder_analysis import parsing, rendering, fitting\n",
    "import lib.galaxy_utilities as gu\n",
    "import scrapbook as sb"
   ]
  },
  {
   "cell_type": "code",
   "execution_count": 3,
   "metadata": {
    "collapsed": false,
    "inputHidden": false,
    "outputHidden": false,
    "papermill": {
     "duration": 0.043774,
     "end_time": "2019-09-02T10:20:56.014559",
     "exception": false,
     "start_time": "2019-09-02T10:20:55.970785",
     "status": "completed"
    },
    "tags": [
     "parameters"
    ]
   },
   "outputs": [],
   "source": [
    "subject_id = 20902040"
   ]
  },
  {
   "cell_type": "code",
   "execution_count": 4,
   "metadata": {
    "papermill": {
     "duration": 0.246391,
     "end_time": "2019-09-02T10:20:56.268675",
     "exception": false,
     "start_time": "2019-09-02T10:20:56.022284",
     "status": "completed"
    },
    "tags": [
     "injected-parameters"
    ]
   },
   "outputs": [],
   "source": [
    "# Parameters\n",
    "subject_id = 21686604\n"
   ]
  },
  {
   "cell_type": "code",
   "execution_count": 5,
   "metadata": {
    "collapsed": false,
    "inputHidden": false,
    "outputHidden": false,
    "papermill": {
     "duration": 0.155227,
     "end_time": "2019-09-02T10:20:56.433004",
     "exception": false,
     "start_time": "2019-09-02T10:20:56.277777",
     "status": "completed"
    },
    "tags": []
   },
   "outputs": [],
   "source": [
    "diff_data_df = pd.read_pickle('lib/fitting_metadata.pkl')"
   ]
  },
  {
   "cell_type": "code",
   "execution_count": 6,
   "metadata": {
    "collapsed": false,
    "inputHidden": false,
    "outputHidden": false,
    "papermill": {
     "duration": 0.04987,
     "end_time": "2019-09-02T10:20:56.490522",
     "exception": false,
     "start_time": "2019-09-02T10:20:56.440652",
     "status": "completed"
    },
    "tags": []
   },
   "outputs": [],
   "source": [
    "def get_losses_by_user(subject_id):\n",
    "  diff_data = diff_data_df.loc[subject_id]\n",
    "  psf = diff_data['psf']\n",
    "  pixel_mask = np.array(diff_data['pixel_mask'])[::-1]\n",
    "  galaxy_data = np.array(diff_data['galaxy_data'])[::-1]\n",
    "  image_size = galaxy_data.shape[0]\n",
    "  size_diff = diff_data['size_diff']\n",
    "  \n",
    "  cls = gu.classifications.query('subject_ids == {}'.format(subject_id))\n",
    "  names = cls.user_name \n",
    "  annotations = cls['annotations'].apply(json.loads)\n",
    "\n",
    "  models = annotations.apply(\n",
    "    parsing.parse_annotation,\n",
    "    size_diff=size_diff\n",
    "  )\n",
    "\n",
    "  tqdm.pandas(\n",
    "    desc='Rendering models'.format(subject_id),\n",
    "    leave=False\n",
    "  )\n",
    "  rendered = models.progress_apply(\n",
    "    rendering.calculate_model,\n",
    "    image_size=image_size,\n",
    "    psf=psf\n",
    "  ).rename('rendered')\n",
    "\n",
    "  tqdm.pandas(\n",
    "    desc='Calculating differences'.format(subject_id),\n",
    "    leave=False\n",
    "  )\n",
    "  losses = rendered.apply(\n",
    "    fitting.loss,\n",
    "    args=(galaxy_data, pixel_mask)\n",
    "  ).rename('loss')\n",
    "  all_losses = pd.Series(\n",
    "    losses.values,\n",
    "    index=names.values\n",
    "  ).rename(subject_id)\n",
    "  best_losses = pd.concat((\n",
    "    all_losses.where(\n",
    "      ~all_losses.duplicated(keep=False)\n",
    "    ).dropna(), # all non-duplicates\n",
    "    all_losses.where(\n",
    "      all_losses.duplicated(keep=False)\n",
    "    ).dropna().groupby(level=0).min() # best value of duplicates\n",
    "  ), axis=0)\n",
    "  return best_losses"
   ]
  },
  {
   "cell_type": "code",
   "execution_count": 7,
   "metadata": {
    "collapsed": false,
    "inputHidden": false,
    "outputHidden": false,
    "papermill": {
     "duration": 8.708621,
     "end_time": "2019-09-02T10:21:05.207732",
     "exception": false,
     "start_time": "2019-09-02T10:20:56.499111",
     "status": "completed"
    },
    "tags": []
   },
   "outputs": [
    {
     "name": "stderr",
     "output_type": "stream",
     "text": [
      "\r",
      "Rendering models:   0%|          | 0/30 [00:00<?, ?it/s]"
     ]
    },
    {
     "name": "stderr",
     "output_type": "stream",
     "text": [
      "\r",
      "Rendering models:   7%|▋         | 2/30 [00:02<00:39,  1.40s/it]"
     ]
    },
    {
     "name": "stderr",
     "output_type": "stream",
     "text": [
      "\r",
      "Rendering models:  13%|█▎        | 4/30 [00:06<00:41,  1.61s/it]"
     ]
    },
    {
     "name": "stderr",
     "output_type": "stream",
     "text": [
      "\r",
      "Rendering models:  20%|██        | 6/30 [00:07<00:27,  1.15s/it]"
     ]
    },
    {
     "name": "stderr",
     "output_type": "stream",
     "text": [
      "\r",
      "Rendering models:  27%|██▋       | 8/30 [00:07<00:18,  1.20it/s]"
     ]
    },
    {
     "name": "stderr",
     "output_type": "stream",
     "text": [
      "\r",
      "Rendering models:  37%|███▋      | 11/30 [00:07<00:11,  1.69it/s]"
     ]
    },
    {
     "name": "stderr",
     "output_type": "stream",
     "text": [
      "\r",
      "Rendering models:  47%|████▋     | 14/30 [00:07<00:06,  2.34it/s]"
     ]
    },
    {
     "name": "stderr",
     "output_type": "stream",
     "text": [
      "\r",
      "Rendering models:  53%|█████▎    | 16/30 [00:07<00:04,  2.94it/s]"
     ]
    },
    {
     "name": "stderr",
     "output_type": "stream",
     "text": [
      "\r",
      "Rendering models:  63%|██████▎   | 19/30 [00:07<00:02,  3.94it/s]"
     ]
    },
    {
     "name": "stderr",
     "output_type": "stream",
     "text": [
      "\r",
      "Rendering models:  70%|███████   | 21/30 [00:08<00:01,  4.99it/s]"
     ]
    },
    {
     "name": "stderr",
     "output_type": "stream",
     "text": [
      "\r",
      "Rendering models:  83%|████████▎ | 25/30 [00:08<00:00,  6.47it/s]"
     ]
    },
    {
     "name": "stderr",
     "output_type": "stream",
     "text": [
      "\r",
      "Rendering models:  93%|█████████▎| 28/30 [00:08<00:00,  8.25it/s]"
     ]
    },
    {
     "name": "stderr",
     "output_type": "stream",
     "text": [
      "\r",
      "                                                                 "
     ]
    },
    {
     "name": "stderr",
     "output_type": "stream",
     "text": [
      "\r"
     ]
    },
    {
     "data": {
      "text/plain": [
       "not-logged-in-840ddeb2efc43eb3b360    0.000686\n",
       "MissDonkey                            0.000285\n",
       "zac8151                               0.000446\n",
       "not-logged-in-f6fac0763296d5759c01    0.015171\n",
       "ElisabethB                            0.084817\n",
       "janinecr                              0.003397\n",
       "SavinSpaceEngineer                    0.001842\n",
       "mkehrli                               0.064126\n",
       "austingasbarra                        0.000660\n",
       "AdamMorse                             0.000234\n",
       "peakscience7                          0.001641\n",
       "pangeli5                              0.000804\n",
       "Lavadude                              0.125109\n",
       "crush202020                           0.000322\n",
       "ShirleyL                              0.000773\n",
       "Bambura                               0.013174\n",
       "not-logged-in-e9900be6759309fd7692    0.001127\n",
       "mcooke27                              0.000765\n",
       "not-logged-in-257beb46445de6db16fb    0.000323\n",
       "UnbiasedBrigade                       0.001553\n",
       "h4ranek                               0.002360\n",
       "not-logged-in-8fc584188a90e1b9c7a1    0.003412\n",
       "not-logged-in-9cb88fa5ea5e4d818563    0.041331\n",
       "spannerfarm                           0.000670\n",
       "ckkmomma                              0.006297\n",
       "ldissouk                              0.006297\n",
       "mariafarhat                           0.006297\n",
       "not-logged-in-4ea23f5fffc8b98635af    0.006297\n",
       "not-logged-in-744a6fd88f0eab44525e    0.006297\n",
       "shocko61                              0.006297\n",
       "Name: 21686604, dtype: float64"
      ]
     },
     "execution_count": 7,
     "metadata": {},
     "output_type": "execute_result"
    }
   ],
   "source": [
    "losses = get_losses_by_user(subject_id)\n",
    "losses"
   ]
  },
  {
   "cell_type": "code",
   "execution_count": 8,
   "metadata": {
    "collapsed": false,
    "inputHidden": false,
    "outputHidden": false,
    "papermill": {
     "duration": 0.069167,
     "end_time": "2019-09-02T10:21:05.289044",
     "exception": false,
     "start_time": "2019-09-02T10:21:05.219877",
     "status": "completed"
    },
    "tags": []
   },
   "outputs": [
    {
     "data": {
      "application/scrapbook.scrap.json+json": {
       "data": 21686604,
       "encoder": "json",
       "name": "subject_id",
       "version": 1
      }
     },
     "metadata": {
      "scrapbook": {
       "data": true,
       "display": false,
       "name": "subject_id"
      }
     },
     "output_type": "display_data"
    },
    {
     "data": {
      "application/scrapbook.scrap.json+json": {
       "data": {
        "AdamMorse": 0.00023353867235745892,
        "Bambura": 0.01317353592331675,
        "ElisabethB": 0.08481655685783362,
        "Lavadude": 0.12510911966749658,
        "MissDonkey": 0.000284681141560161,
        "SavinSpaceEngineer": 0.0018415981583146724,
        "ShirleyL": 0.0007731865000464042,
        "UnbiasedBrigade": 0.0015534558527427083,
        "austingasbarra": 0.0006601890274687539,
        "ckkmomma": 0.0062965421983448054,
        "crush202020": 0.00032209388057922436,
        "h4ranek": 0.002359660693658374,
        "janinecr": 0.00339720780855037,
        "ldissouk": 0.0062965421983448054,
        "mariafarhat": 0.0062965421983448054,
        "mcooke27": 0.0007651094515369392,
        "mkehrli": 0.06412630353845525,
        "not-logged-in-257beb46445de6db16fb": 0.0003230212866064459,
        "not-logged-in-4ea23f5fffc8b98635af": 0.0062965421983448054,
        "not-logged-in-744a6fd88f0eab44525e": 0.0062965421983448054,
        "not-logged-in-840ddeb2efc43eb3b360": 0.0006864042550904361,
        "not-logged-in-8fc584188a90e1b9c7a1": 0.0034117655033243234,
        "not-logged-in-9cb88fa5ea5e4d818563": 0.04133110057637803,
        "not-logged-in-e9900be6759309fd7692": 0.0011265857787032775,
        "not-logged-in-f6fac0763296d5759c01": 0.01517083537130856,
        "pangeli5": 0.0008037600396341172,
        "peakscience7": 0.0016406980454728255,
        "shocko61": 0.0062965421983448054,
        "spannerfarm": 0.0006702655663541192,
        "zac8151": 0.000445639167873483
       },
       "encoder": "json",
       "name": "losses",
       "version": 1
      }
     },
     "metadata": {
      "scrapbook": {
       "data": true,
       "display": false,
       "name": "losses"
      }
     },
     "output_type": "display_data"
    }
   ],
   "source": [
    "sb.glue('subject_id', subject_id)\n",
    "sb.glue('losses', losses.to_dict())"
   ]
  }
 ],
 "metadata": {
  "kernel_info": {
   "name": "python3"
  },
  "kernelspec": {
   "display_name": "Python 3",
   "language": "python",
   "name": "python3"
  },
  "language_info": {
   "codemirror_mode": {
    "name": "ipython",
    "version": 3
   },
   "file_extension": ".py",
   "mimetype": "text/x-python",
   "name": "python",
   "nbconvert_exporter": "python",
   "pygments_lexer": "ipython3",
   "version": "3.7.3"
  },
  "nteract": {
   "version": "0.14.3"
  },
  "papermill": {
   "duration": 16.905023,
   "end_time": "2019-09-02T10:21:06.662488",
   "environment_variables": {},
   "exception": null,
   "input_path": "/users/tingard/gzbuilder_results/input_files/volunteer_losses.ipynb",
   "output_path": "/users/tingard/gzbuilder_results/output_files/volunteer_losses/21686604.ipynb",
   "parameters": {
    "subject_id": 21686604
   },
   "start_time": "2019-09-02T10:20:49.757465",
   "version": "1.0.1"
  }
 },
 "nbformat": 4,
 "nbformat_minor": 0
}