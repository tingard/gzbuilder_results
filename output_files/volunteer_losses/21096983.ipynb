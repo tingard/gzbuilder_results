{
 "cells": [
  {
   "cell_type": "markdown",
   "metadata": {
    "papermill": {
     "duration": 0.007532,
     "end_time": "2019-09-02T10:20:20.607468",
     "exception": false,
     "start_time": "2019-09-02T10:20:20.599936",
     "status": "completed"
    },
    "tags": []
   },
   "source": [
    "# Volunteer model loss calculation\n",
    "\n",
    "This notebook takes a `subject_id` and calculates the MSE of each volunteer's model to the galaxy data. These losses are then glued to the notebook for use elsewhere."
   ]
  },
  {
   "cell_type": "code",
   "execution_count": 1,
   "metadata": {
    "collapsed": false,
    "inputHidden": false,
    "outputHidden": false,
    "papermill": {
     "duration": 0.02112,
     "end_time": "2019-09-02T10:20:20.635409",
     "exception": false,
     "start_time": "2019-09-02T10:20:20.614289",
     "status": "completed"
    },
    "tags": []
   },
   "outputs": [],
   "source": [
    "%load_ext autoreload\n",
    "%autoreload 2"
   ]
  },
  {
   "cell_type": "code",
   "execution_count": 2,
   "metadata": {
    "collapsed": false,
    "inputHidden": false,
    "outputHidden": false,
    "papermill": {
     "duration": 3.567284,
     "end_time": "2019-09-02T10:20:24.209343",
     "exception": false,
     "start_time": "2019-09-02T10:20:20.642059",
     "status": "completed"
    },
    "tags": []
   },
   "outputs": [
    {
     "name": "stderr",
     "output_type": "stream",
     "text": [
      "/opt/apps/pkgs/anaconda3/2019.03/intel64/lib/python3.7/site-packages/dask/config.py:168: YAMLLoadWarning: calling yaml.load() without Loader=... is deprecated, as the default Loader is unsafe. Please read https://msg.pyyaml.org/load for full details.\n",
      "  data = yaml.load(f.read()) or {}\n"
     ]
    }
   ],
   "source": [
    "import json\n",
    "import numpy as np\n",
    "import pandas as pd\n",
    "from tqdm import tqdm\n",
    "import matplotlib.pyplot as plt\n",
    "import seaborn as sns\n",
    "from gzbuilder_analysis import parsing, rendering, fitting\n",
    "import lib.galaxy_utilities as gu\n",
    "import scrapbook as sb"
   ]
  },
  {
   "cell_type": "code",
   "execution_count": 3,
   "metadata": {
    "collapsed": false,
    "inputHidden": false,
    "outputHidden": false,
    "papermill": {
     "duration": 1.493282,
     "end_time": "2019-09-02T10:20:25.711087",
     "exception": false,
     "start_time": "2019-09-02T10:20:24.217805",
     "status": "completed"
    },
    "tags": [
     "parameters"
    ]
   },
   "outputs": [
    {
     "name": "stdout",
     "output_type": "stream",
     "text": [
      "The history saving thread hit an unexpected error (OperationalError('database is locked')).History will not be written to the database.\n"
     ]
    }
   ],
   "source": [
    "subject_id = 20902040"
   ]
  },
  {
   "cell_type": "code",
   "execution_count": 4,
   "metadata": {
    "papermill": {
     "duration": 0.043286,
     "end_time": "2019-09-02T10:20:25.762454",
     "exception": false,
     "start_time": "2019-09-02T10:20:25.719168",
     "status": "completed"
    },
    "tags": [
     "injected-parameters"
    ]
   },
   "outputs": [],
   "source": [
    "# Parameters\n",
    "subject_id = 21096983\n"
   ]
  },
  {
   "cell_type": "code",
   "execution_count": 5,
   "metadata": {
    "collapsed": false,
    "inputHidden": false,
    "outputHidden": false,
    "papermill": {
     "duration": 0.146014,
     "end_time": "2019-09-02T10:20:25.916540",
     "exception": false,
     "start_time": "2019-09-02T10:20:25.770526",
     "status": "completed"
    },
    "tags": []
   },
   "outputs": [],
   "source": [
    "diff_data_df = pd.read_pickle('lib/fitting_metadata.pkl')"
   ]
  },
  {
   "cell_type": "code",
   "execution_count": 6,
   "metadata": {
    "collapsed": false,
    "inputHidden": false,
    "outputHidden": false,
    "papermill": {
     "duration": 0.050453,
     "end_time": "2019-09-02T10:20:25.975188",
     "exception": false,
     "start_time": "2019-09-02T10:20:25.924735",
     "status": "completed"
    },
    "tags": []
   },
   "outputs": [],
   "source": [
    "def get_losses_by_user(subject_id):\n",
    "  diff_data = diff_data_df.loc[subject_id]\n",
    "  psf = diff_data['psf']\n",
    "  pixel_mask = np.array(diff_data['pixel_mask'])[::-1]\n",
    "  galaxy_data = np.array(diff_data['galaxy_data'])[::-1]\n",
    "  image_size = galaxy_data.shape[0]\n",
    "  size_diff = diff_data['size_diff']\n",
    "  \n",
    "  cls = gu.classifications.query('subject_ids == {}'.format(subject_id))\n",
    "  names = cls.user_name \n",
    "  annotations = cls['annotations'].apply(json.loads)\n",
    "\n",
    "  models = annotations.apply(\n",
    "    parsing.parse_annotation,\n",
    "    size_diff=size_diff\n",
    "  )\n",
    "\n",
    "  tqdm.pandas(\n",
    "    desc='Rendering models'.format(subject_id),\n",
    "    leave=False\n",
    "  )\n",
    "  rendered = models.progress_apply(\n",
    "    rendering.calculate_model,\n",
    "    image_size=image_size,\n",
    "    psf=psf\n",
    "  ).rename('rendered')\n",
    "\n",
    "  tqdm.pandas(\n",
    "    desc='Calculating differences'.format(subject_id),\n",
    "    leave=False\n",
    "  )\n",
    "  losses = rendered.apply(\n",
    "    fitting.loss,\n",
    "    args=(galaxy_data, pixel_mask)\n",
    "  ).rename('loss')\n",
    "  all_losses = pd.Series(\n",
    "    losses.values,\n",
    "    index=names.values\n",
    "  ).rename(subject_id)\n",
    "  best_losses = pd.concat((\n",
    "    all_losses.where(\n",
    "      ~all_losses.duplicated(keep=False)\n",
    "    ).dropna(), # all non-duplicates\n",
    "    all_losses.where(\n",
    "      all_losses.duplicated(keep=False)\n",
    "    ).dropna().groupby(level=0).min() # best value of duplicates\n",
    "  ), axis=0)\n",
    "  return best_losses"
   ]
  },
  {
   "cell_type": "code",
   "execution_count": 7,
   "metadata": {
    "collapsed": false,
    "inputHidden": false,
    "outputHidden": false,
    "papermill": {
     "duration": 8.541184,
     "end_time": "2019-09-02T10:20:34.525210",
     "exception": false,
     "start_time": "2019-09-02T10:20:25.984026",
     "status": "completed"
    },
    "tags": []
   },
   "outputs": [
    {
     "name": "stderr",
     "output_type": "stream",
     "text": [
      "\r",
      "Rendering models:   0%|          | 0/30 [00:00<?, ?it/s]"
     ]
    },
    {
     "name": "stderr",
     "output_type": "stream",
     "text": [
      "\r",
      "Rendering models:   7%|▋         | 2/30 [00:03<00:45,  1.61s/it]"
     ]
    },
    {
     "name": "stderr",
     "output_type": "stream",
     "text": [
      "\r",
      "Rendering models:  10%|█         | 3/30 [00:07<01:03,  2.35s/it]"
     ]
    },
    {
     "name": "stderr",
     "output_type": "stream",
     "text": [
      "\r",
      "Rendering models:  20%|██        | 6/30 [00:07<00:39,  1.66s/it]"
     ]
    },
    {
     "name": "stderr",
     "output_type": "stream",
     "text": [
      "\r",
      "Rendering models:  30%|███       | 9/30 [00:07<00:24,  1.17s/it]"
     ]
    },
    {
     "name": "stderr",
     "output_type": "stream",
     "text": [
      "\r",
      "Rendering models:  40%|████      | 12/30 [00:07<00:15,  1.20it/s]"
     ]
    },
    {
     "name": "stderr",
     "output_type": "stream",
     "text": [
      "\r",
      "Rendering models:  57%|█████▋    | 17/30 [00:07<00:07,  1.69it/s]"
     ]
    },
    {
     "name": "stderr",
     "output_type": "stream",
     "text": [
      "\r",
      "Rendering models:  67%|██████▋   | 20/30 [00:07<00:04,  2.32it/s]"
     ]
    },
    {
     "name": "stderr",
     "output_type": "stream",
     "text": [
      "\r",
      "Rendering models:  77%|███████▋  | 23/30 [00:08<00:02,  3.17it/s]"
     ]
    },
    {
     "name": "stderr",
     "output_type": "stream",
     "text": [
      "\r",
      "Rendering models:  90%|█████████ | 27/30 [00:08<00:00,  4.33it/s]"
     ]
    },
    {
     "name": "stderr",
     "output_type": "stream",
     "text": [
      "\r",
      "Rendering models: 100%|██████████| 30/30 [00:08<00:00,  5.59it/s]"
     ]
    },
    {
     "name": "stderr",
     "output_type": "stream",
     "text": [
      "\r",
      "                                                                 "
     ]
    },
    {
     "name": "stderr",
     "output_type": "stream",
     "text": [
      "\r"
     ]
    },
    {
     "data": {
      "text/plain": [
       "not-logged-in-14800bc0cb17aef85ae6    0.000553\n",
       "not-logged-in-f68127b03437a78136a8    0.002976\n",
       "matiasd123                            0.001556\n",
       "aliabdulhameed                        0.000919\n",
       "not-logged-in-673e227f920b24558cc1    0.000724\n",
       "sorenjensen01                         0.000639\n",
       "not-logged-in-7d01fb53d3c3d3999bca    0.000515\n",
       "jnarayanbvg                           0.018668\n",
       "awright5                              0.002334\n",
       "not-logged-in-6ead6661c7dcef165774    0.685865\n",
       "not-logged-in-7c0e3b1ae8dc7fbb6b66    0.009803\n",
       "not-logged-in-a76dd994176a1ff14298    0.001405\n",
       "not-logged-in-214814e52004b42491a4    0.003365\n",
       "not-logged-in-9f30f411df9d28d2c541    0.001173\n",
       "alexmnelson18                         0.000655\n",
       "SDamian                               0.000594\n",
       "megamikey0903                         0.017121\n",
       "Lavadude                              0.069427\n",
       "w7300953                              0.042103\n",
       "w7250369                              0.001539\n",
       "Theshoestargazers                     0.001814\n",
       "not-logged-in-d55d56ff31d5a738495f    0.001540\n",
       "Isteinberg05                          0.049795\n",
       "rmacmi2                               0.001452\n",
       "ykuzmits                              0.001700\n",
       "not-logged-in-3f943314f949670d61b8    0.052556\n",
       "LAMBO101799                           0.003477\n",
       "chavez01                              0.003477\n",
       "holte116                              0.003477\n",
       "not-logged-in-3b0b929f4475fd276561    0.003477\n",
       "Name: 21096983, dtype: float64"
      ]
     },
     "execution_count": 7,
     "metadata": {},
     "output_type": "execute_result"
    }
   ],
   "source": [
    "losses = get_losses_by_user(subject_id)\n",
    "losses"
   ]
  },
  {
   "cell_type": "code",
   "execution_count": 8,
   "metadata": {
    "collapsed": false,
    "inputHidden": false,
    "outputHidden": false,
    "papermill": {
     "duration": 0.063954,
     "end_time": "2019-09-02T10:20:34.601060",
     "exception": false,
     "start_time": "2019-09-02T10:20:34.537106",
     "status": "completed"
    },
    "tags": []
   },
   "outputs": [
    {
     "data": {
      "application/scrapbook.scrap.json+json": {
       "data": 21096983,
       "encoder": "json",
       "name": "subject_id",
       "version": 1
      }
     },
     "metadata": {
      "scrapbook": {
       "data": true,
       "display": false,
       "name": "subject_id"
      }
     },
     "output_type": "display_data"
    },
    {
     "data": {
      "application/scrapbook.scrap.json+json": {
       "data": {
        "Isteinberg05": 0.04979523783267314,
        "LAMBO101799": 0.0034769827421428047,
        "Lavadude": 0.06942748066099759,
        "SDamian": 0.0005935201167227129,
        "Theshoestargazers": 0.0018135322366723263,
        "alexmnelson18": 0.0006551447682736723,
        "aliabdulhameed": 0.0009190336780543152,
        "awright5": 0.0023340208224776056,
        "chavez01": 0.0034769827421428047,
        "holte116": 0.0034769827421428047,
        "jnarayanbvg": 0.018667594560184325,
        "matiasd123": 0.0015561350946187995,
        "megamikey0903": 0.01712103483679242,
        "not-logged-in-14800bc0cb17aef85ae6": 0.0005531199878210279,
        "not-logged-in-214814e52004b42491a4": 0.0033649553334508695,
        "not-logged-in-3b0b929f4475fd276561": 0.0034769827421428047,
        "not-logged-in-3f943314f949670d61b8": 0.052555591967437955,
        "not-logged-in-673e227f920b24558cc1": 0.0007237859968186591,
        "not-logged-in-6ead6661c7dcef165774": 0.685864812296519,
        "not-logged-in-7c0e3b1ae8dc7fbb6b66": 0.00980278403994192,
        "not-logged-in-7d01fb53d3c3d3999bca": 0.0005145104306438429,
        "not-logged-in-9f30f411df9d28d2c541": 0.0011732603816750847,
        "not-logged-in-a76dd994176a1ff14298": 0.0014045302109661646,
        "not-logged-in-d55d56ff31d5a738495f": 0.0015403861930389873,
        "not-logged-in-f68127b03437a78136a8": 0.002976382133446834,
        "rmacmi2": 0.0014521364791633318,
        "sorenjensen01": 0.0006391345448154942,
        "w7250369": 0.0015392843045532048,
        "w7300953": 0.042103492264647664,
        "ykuzmits": 0.0017002581997269017
       },
       "encoder": "json",
       "name": "losses",
       "version": 1
      }
     },
     "metadata": {
      "scrapbook": {
       "data": true,
       "display": false,
       "name": "losses"
      }
     },
     "output_type": "display_data"
    }
   ],
   "source": [
    "sb.glue('subject_id', subject_id)\n",
    "sb.glue('losses', losses.to_dict())"
   ]
  }
 ],
 "metadata": {
  "kernel_info": {
   "name": "python3"
  },
  "kernelspec": {
   "display_name": "Python 3",
   "language": "python",
   "name": "python3"
  },
  "language_info": {
   "codemirror_mode": {
    "name": "ipython",
    "version": 3
   },
   "file_extension": ".py",
   "mimetype": "text/x-python",
   "name": "python",
   "nbconvert_exporter": "python",
   "pygments_lexer": "ipython3",
   "version": "3.7.3"
  },
  "nteract": {
   "version": "0.14.3"
  },
  "papermill": {
   "duration": 16.92246,
   "end_time": "2019-09-02T10:20:35.861254",
   "environment_variables": {},
   "exception": null,
   "input_path": "/users/tingard/gzbuilder_results/input_files/volunteer_losses.ipynb",
   "output_path": "/users/tingard/gzbuilder_results/output_files/volunteer_losses/21096983.ipynb",
   "parameters": {
    "subject_id": 21096983
   },
   "start_time": "2019-09-02T10:20:18.938794",
   "version": "1.0.1"
  }
 },
 "nbformat": 4,
 "nbformat_minor": 0
}