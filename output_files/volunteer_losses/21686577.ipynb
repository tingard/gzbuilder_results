{
 "cells": [
  {
   "cell_type": "markdown",
   "metadata": {
    "papermill": {
     "duration": 0.009377,
     "end_time": "2019-09-02T10:20:55.600597",
     "exception": false,
     "start_time": "2019-09-02T10:20:55.591220",
     "status": "completed"
    },
    "tags": []
   },
   "source": [
    "# Volunteer model loss calculation\n",
    "\n",
    "This notebook takes a `subject_id` and calculates the MSE of each volunteer's model to the galaxy data. These losses are then glued to the notebook for use elsewhere."
   ]
  },
  {
   "cell_type": "code",
   "execution_count": 1,
   "metadata": {
    "collapsed": false,
    "inputHidden": false,
    "outputHidden": false,
    "papermill": {
     "duration": 0.034156,
     "end_time": "2019-09-02T10:20:55.642711",
     "exception": false,
     "start_time": "2019-09-02T10:20:55.608555",
     "status": "completed"
    },
    "tags": []
   },
   "outputs": [],
   "source": [
    "%load_ext autoreload\n",
    "%autoreload 2"
   ]
  },
  {
   "cell_type": "code",
   "execution_count": 2,
   "metadata": {
    "collapsed": false,
    "inputHidden": false,
    "outputHidden": false,
    "papermill": {
     "duration": 4.346295,
     "end_time": "2019-09-02T10:20:59.996876",
     "exception": false,
     "start_time": "2019-09-02T10:20:55.650581",
     "status": "completed"
    },
    "tags": []
   },
   "outputs": [
    {
     "name": "stderr",
     "output_type": "stream",
     "text": [
      "/opt/apps/pkgs/anaconda3/2019.03/intel64/lib/python3.7/site-packages/dask/config.py:168: YAMLLoadWarning: calling yaml.load() without Loader=... is deprecated, as the default Loader is unsafe. Please read https://msg.pyyaml.org/load for full details.\n",
      "  data = yaml.load(f.read()) or {}\n"
     ]
    }
   ],
   "source": [
    "import json\n",
    "import numpy as np\n",
    "import pandas as pd\n",
    "from tqdm import tqdm\n",
    "import matplotlib.pyplot as plt\n",
    "import seaborn as sns\n",
    "from gzbuilder_analysis import parsing, rendering, fitting\n",
    "import lib.galaxy_utilities as gu\n",
    "import scrapbook as sb"
   ]
  },
  {
   "cell_type": "code",
   "execution_count": 3,
   "metadata": {
    "collapsed": false,
    "inputHidden": false,
    "outputHidden": false,
    "papermill": {
     "duration": 0.045624,
     "end_time": "2019-09-02T10:21:00.050851",
     "exception": false,
     "start_time": "2019-09-02T10:21:00.005227",
     "status": "completed"
    },
    "tags": [
     "parameters"
    ]
   },
   "outputs": [],
   "source": [
    "subject_id = 20902040"
   ]
  },
  {
   "cell_type": "code",
   "execution_count": 4,
   "metadata": {
    "papermill": {
     "duration": 0.656266,
     "end_time": "2019-09-02T10:21:00.715607",
     "exception": false,
     "start_time": "2019-09-02T10:21:00.059341",
     "status": "completed"
    },
    "tags": [
     "injected-parameters"
    ]
   },
   "outputs": [],
   "source": [
    "# Parameters\n",
    "subject_id = 21686577\n"
   ]
  },
  {
   "cell_type": "code",
   "execution_count": 5,
   "metadata": {
    "collapsed": false,
    "inputHidden": false,
    "outputHidden": false,
    "papermill": {
     "duration": 0.165045,
     "end_time": "2019-09-02T10:21:00.888715",
     "exception": false,
     "start_time": "2019-09-02T10:21:00.723670",
     "status": "completed"
    },
    "tags": []
   },
   "outputs": [],
   "source": [
    "diff_data_df = pd.read_pickle('lib/fitting_metadata.pkl')"
   ]
  },
  {
   "cell_type": "code",
   "execution_count": 6,
   "metadata": {
    "collapsed": false,
    "inputHidden": false,
    "outputHidden": false,
    "papermill": {
     "duration": 0.051994,
     "end_time": "2019-09-02T10:21:00.948642",
     "exception": false,
     "start_time": "2019-09-02T10:21:00.896648",
     "status": "completed"
    },
    "tags": []
   },
   "outputs": [],
   "source": [
    "def get_losses_by_user(subject_id):\n",
    "  diff_data = diff_data_df.loc[subject_id]\n",
    "  psf = diff_data['psf']\n",
    "  pixel_mask = np.array(diff_data['pixel_mask'])[::-1]\n",
    "  galaxy_data = np.array(diff_data['galaxy_data'])[::-1]\n",
    "  image_size = galaxy_data.shape[0]\n",
    "  size_diff = diff_data['size_diff']\n",
    "  \n",
    "  cls = gu.classifications.query('subject_ids == {}'.format(subject_id))\n",
    "  names = cls.user_name \n",
    "  annotations = cls['annotations'].apply(json.loads)\n",
    "\n",
    "  models = annotations.apply(\n",
    "    parsing.parse_annotation,\n",
    "    size_diff=size_diff\n",
    "  )\n",
    "\n",
    "  tqdm.pandas(\n",
    "    desc='Rendering models'.format(subject_id),\n",
    "    leave=False\n",
    "  )\n",
    "  rendered = models.progress_apply(\n",
    "    rendering.calculate_model,\n",
    "    image_size=image_size,\n",
    "    psf=psf\n",
    "  ).rename('rendered')\n",
    "\n",
    "  tqdm.pandas(\n",
    "    desc='Calculating differences'.format(subject_id),\n",
    "    leave=False\n",
    "  )\n",
    "  losses = rendered.apply(\n",
    "    fitting.loss,\n",
    "    args=(galaxy_data, pixel_mask)\n",
    "  ).rename('loss')\n",
    "  all_losses = pd.Series(\n",
    "    losses.values,\n",
    "    index=names.values\n",
    "  ).rename(subject_id)\n",
    "  best_losses = pd.concat((\n",
    "    all_losses.where(\n",
    "      ~all_losses.duplicated(keep=False)\n",
    "    ).dropna(), # all non-duplicates\n",
    "    all_losses.where(\n",
    "      all_losses.duplicated(keep=False)\n",
    "    ).dropna().groupby(level=0).min() # best value of duplicates\n",
    "  ), axis=0)\n",
    "  return best_losses"
   ]
  },
  {
   "cell_type": "code",
   "execution_count": 7,
   "metadata": {
    "collapsed": false,
    "inputHidden": false,
    "outputHidden": false,
    "papermill": {
     "duration": 9.435667,
     "end_time": "2019-09-02T10:21:10.392996",
     "exception": false,
     "start_time": "2019-09-02T10:21:00.957329",
     "status": "completed"
    },
    "tags": []
   },
   "outputs": [
    {
     "name": "stderr",
     "output_type": "stream",
     "text": [
      "\r",
      "Rendering models:   0%|          | 0/31 [00:00<?, ?it/s]"
     ]
    },
    {
     "name": "stderr",
     "output_type": "stream",
     "text": [
      "\r",
      "Rendering models:   6%|▋         | 2/31 [00:04<01:04,  2.22s/it]"
     ]
    },
    {
     "name": "stderr",
     "output_type": "stream",
     "text": [
      "\r",
      "Rendering models:  13%|█▎        | 4/31 [00:07<00:52,  1.96s/it]"
     ]
    },
    {
     "name": "stderr",
     "output_type": "stream",
     "text": [
      "\r",
      "Rendering models:  23%|██▎       | 7/31 [00:07<00:33,  1.39s/it]"
     ]
    },
    {
     "name": "stderr",
     "output_type": "stream",
     "text": [
      "\r",
      "Rendering models:  29%|██▉       | 9/31 [00:07<00:21,  1.01it/s]"
     ]
    },
    {
     "name": "stderr",
     "output_type": "stream",
     "text": [
      "\r",
      "Rendering models:  35%|███▌      | 11/31 [00:07<00:14,  1.40it/s]"
     ]
    },
    {
     "name": "stderr",
     "output_type": "stream",
     "text": [
      "\r",
      "Rendering models:  42%|████▏     | 13/31 [00:07<00:09,  1.85it/s]"
     ]
    },
    {
     "name": "stderr",
     "output_type": "stream",
     "text": [
      "\r",
      "Rendering models:  45%|████▌     | 14/31 [00:07<00:07,  2.38it/s]"
     ]
    },
    {
     "name": "stderr",
     "output_type": "stream",
     "text": [
      "\r",
      "Rendering models:  48%|████▊     | 15/31 [00:08<00:05,  2.98it/s]"
     ]
    },
    {
     "name": "stderr",
     "output_type": "stream",
     "text": [
      "\r",
      "Rendering models:  55%|█████▍    | 17/31 [00:08<00:03,  3.82it/s]"
     ]
    },
    {
     "name": "stderr",
     "output_type": "stream",
     "text": [
      "\r",
      "Rendering models:  58%|█████▊    | 18/31 [00:08<00:02,  4.42it/s]"
     ]
    },
    {
     "name": "stderr",
     "output_type": "stream",
     "text": [
      "\r",
      "Rendering models:  71%|███████   | 22/31 [00:08<00:01,  5.68it/s]"
     ]
    },
    {
     "name": "stderr",
     "output_type": "stream",
     "text": [
      "\r",
      "Rendering models:  77%|███████▋  | 24/31 [00:08<00:01,  6.72it/s]"
     ]
    },
    {
     "name": "stderr",
     "output_type": "stream",
     "text": [
      "\r",
      "Rendering models:  87%|████████▋ | 27/31 [00:09<00:00,  8.30it/s]"
     ]
    },
    {
     "name": "stderr",
     "output_type": "stream",
     "text": [
      "\r",
      "Rendering models:  94%|█████████▎| 29/31 [00:09<00:00,  9.32it/s]"
     ]
    },
    {
     "name": "stderr",
     "output_type": "stream",
     "text": [
      "\r",
      "                                                                 "
     ]
    },
    {
     "name": "stderr",
     "output_type": "stream",
     "text": [
      "\r"
     ]
    },
    {
     "data": {
      "text/plain": [
       "hailstorm3812                         0.000897\n",
       "shirogane                             0.000650\n",
       "Dynamatt                              0.000527\n",
       "not-logged-in-742cef5e1a82d2ddd0fb    0.000567\n",
       "mtajnai                               0.001231\n",
       "nsyee                                 0.000392\n",
       "justsomenoodles                       0.001235\n",
       "jmfranci                              0.002500\n",
       "insert_name                           0.000664\n",
       "ElisabethB                            0.000371\n",
       "not-logged-in-5704ea8f3a0f12b5bfb2    0.000789\n",
       "acapirala                             0.001287\n",
       "Lavadude                              0.238337\n",
       "Lavadude                              0.064186\n",
       "karl_stark                            0.009569\n",
       "not-logged-in-704ca07c4131cfda3ea2    0.002137\n",
       "not-logged-in-15498ebaa693dd5a198d    0.000392\n",
       "not-logged-in-8700ff8251e0704f745c    0.021354\n",
       "ShirleyL                              0.000480\n",
       "not-logged-in-2027f1f6703c19b00bd8    0.006852\n",
       "GrantCrooks                           0.001315\n",
       "nyoung55                              0.001432\n",
       "not-logged-in-fc0fffd0b7fe097394c8    0.001333\n",
       "not-logged-in-ff45e3cd7c2e4b01ee78    0.001893\n",
       "Mkcls                                 0.008504\n",
       "tingard                               0.000472\n",
       "Petrusperes                           0.006529\n",
       "Vickyb123                             0.006529\n",
       "W7252291                              0.006529\n",
       "not-logged-in-744a6fd88f0eab44525e    0.006529\n",
       "not-logged-in-a6ec81c5d234ecc451ad    0.006529\n",
       "Name: 21686577, dtype: float64"
      ]
     },
     "execution_count": 7,
     "metadata": {},
     "output_type": "execute_result"
    }
   ],
   "source": [
    "losses = get_losses_by_user(subject_id)\n",
    "losses"
   ]
  },
  {
   "cell_type": "code",
   "execution_count": 8,
   "metadata": {
    "collapsed": false,
    "inputHidden": false,
    "outputHidden": false,
    "papermill": {
     "duration": 0.069462,
     "end_time": "2019-09-02T10:21:10.474789",
     "exception": false,
     "start_time": "2019-09-02T10:21:10.405327",
     "status": "completed"
    },
    "tags": []
   },
   "outputs": [
    {
     "data": {
      "application/scrapbook.scrap.json+json": {
       "data": 21686577,
       "encoder": "json",
       "name": "subject_id",
       "version": 1
      }
     },
     "metadata": {
      "scrapbook": {
       "data": true,
       "display": false,
       "name": "subject_id"
      }
     },
     "output_type": "display_data"
    },
    {
     "data": {
      "application/scrapbook.scrap.json+json": {
       "data": {
        "Dynamatt": 0.0005269358232344153,
        "ElisabethB": 0.0003708587874681568,
        "GrantCrooks": 0.001315095188819045,
        "Lavadude": 0.06418565255354516,
        "Mkcls": 0.0085035034114027,
        "Petrusperes": 0.006528767541492227,
        "ShirleyL": 0.000479689820730106,
        "Vickyb123": 0.006528767541492227,
        "W7252291": 0.006528767541492227,
        "acapirala": 0.0012865029378690447,
        "hailstorm3812": 0.000897192488452367,
        "insert_name": 0.0006638003576034658,
        "jmfranci": 0.0024998260575621436,
        "justsomenoodles": 0.0012346121665420301,
        "karl_stark": 0.00956930232430548,
        "mtajnai": 0.0012308445673499856,
        "not-logged-in-15498ebaa693dd5a198d": 0.0003922746280340926,
        "not-logged-in-2027f1f6703c19b00bd8": 0.006851727912697059,
        "not-logged-in-5704ea8f3a0f12b5bfb2": 0.0007889463872777791,
        "not-logged-in-704ca07c4131cfda3ea2": 0.002136723672178847,
        "not-logged-in-742cef5e1a82d2ddd0fb": 0.0005667012631759107,
        "not-logged-in-744a6fd88f0eab44525e": 0.006528767541492227,
        "not-logged-in-8700ff8251e0704f745c": 0.02135421354542334,
        "not-logged-in-a6ec81c5d234ecc451ad": 0.006528767541492227,
        "not-logged-in-fc0fffd0b7fe097394c8": 0.00133289051889892,
        "not-logged-in-ff45e3cd7c2e4b01ee78": 0.0018925392893184682,
        "nsyee": 0.0003917673108655842,
        "nyoung55": 0.001432490347427638,
        "shirogane": 0.0006498538227140621,
        "tingard": 0.0004718882724589181
       },
       "encoder": "json",
       "name": "losses",
       "version": 1
      }
     },
     "metadata": {
      "scrapbook": {
       "data": true,
       "display": false,
       "name": "losses"
      }
     },
     "output_type": "display_data"
    }
   ],
   "source": [
    "sb.glue('subject_id', subject_id)\n",
    "sb.glue('losses', losses.to_dict())"
   ]
  }
 ],
 "metadata": {
  "kernel_info": {
   "name": "python3"
  },
  "kernelspec": {
   "display_name": "Python 3",
   "language": "python",
   "name": "python3"
  },
  "language_info": {
   "codemirror_mode": {
    "name": "ipython",
    "version": 3
   },
   "file_extension": ".py",
   "mimetype": "text/x-python",
   "name": "python",
   "nbconvert_exporter": "python",
   "pygments_lexer": "ipython3",
   "version": "3.7.3"
  },
  "nteract": {
   "version": "0.14.3"
  },
  "papermill": {
   "duration": 17.999834,
   "end_time": "2019-09-02T10:21:11.969078",
   "environment_variables": {},
   "exception": null,
   "input_path": "/users/tingard/gzbuilder_results/input_files/volunteer_losses.ipynb",
   "output_path": "/users/tingard/gzbuilder_results/output_files/volunteer_losses/21686577.ipynb",
   "parameters": {
    "subject_id": 21686577
   },
   "start_time": "2019-09-02T10:20:53.969244",
   "version": "1.0.1"
  }
 },
 "nbformat": 4,
 "nbformat_minor": 0
}