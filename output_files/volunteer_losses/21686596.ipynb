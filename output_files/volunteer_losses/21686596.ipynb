{
 "cells": [
  {
   "cell_type": "markdown",
   "metadata": {
    "papermill": {
     "duration": 0.008516,
     "end_time": "2019-09-02T10:21:06.864062",
     "exception": false,
     "start_time": "2019-09-02T10:21:06.855546",
     "status": "completed"
    },
    "tags": []
   },
   "source": [
    "# Volunteer model loss calculation\n",
    "\n",
    "This notebook takes a `subject_id` and calculates the MSE of each volunteer's model to the galaxy data. These losses are then glued to the notebook for use elsewhere."
   ]
  },
  {
   "cell_type": "code",
   "execution_count": 1,
   "metadata": {
    "collapsed": false,
    "inputHidden": false,
    "outputHidden": false,
    "papermill": {
     "duration": 0.025353,
     "end_time": "2019-09-02T10:21:06.898616",
     "exception": false,
     "start_time": "2019-09-02T10:21:06.873263",
     "status": "completed"
    },
    "tags": []
   },
   "outputs": [],
   "source": [
    "%load_ext autoreload\n",
    "%autoreload 2"
   ]
  },
  {
   "cell_type": "code",
   "execution_count": 2,
   "metadata": {
    "collapsed": false,
    "inputHidden": false,
    "outputHidden": false,
    "papermill": {
     "duration": 4.19896,
     "end_time": "2019-09-02T10:21:11.105828",
     "exception": false,
     "start_time": "2019-09-02T10:21:06.906868",
     "status": "completed"
    },
    "tags": []
   },
   "outputs": [
    {
     "name": "stderr",
     "output_type": "stream",
     "text": [
      "/opt/apps/pkgs/anaconda3/2019.03/intel64/lib/python3.7/site-packages/dask/config.py:168: YAMLLoadWarning: calling yaml.load() without Loader=... is deprecated, as the default Loader is unsafe. Please read https://msg.pyyaml.org/load for full details.\n",
      "  data = yaml.load(f.read()) or {}\n"
     ]
    }
   ],
   "source": [
    "import json\n",
    "import numpy as np\n",
    "import pandas as pd\n",
    "from tqdm import tqdm\n",
    "import matplotlib.pyplot as plt\n",
    "import seaborn as sns\n",
    "from gzbuilder_analysis import parsing, rendering, fitting\n",
    "import lib.galaxy_utilities as gu\n",
    "import scrapbook as sb"
   ]
  },
  {
   "cell_type": "code",
   "execution_count": 3,
   "metadata": {
    "collapsed": false,
    "inputHidden": false,
    "outputHidden": false,
    "papermill": {
     "duration": 0.04586,
     "end_time": "2019-09-02T10:21:11.159901",
     "exception": false,
     "start_time": "2019-09-02T10:21:11.114041",
     "status": "completed"
    },
    "tags": [
     "parameters"
    ]
   },
   "outputs": [],
   "source": [
    "subject_id = 20902040"
   ]
  },
  {
   "cell_type": "code",
   "execution_count": 4,
   "metadata": {
    "papermill": {
     "duration": 0.045621,
     "end_time": "2019-09-02T10:21:11.214165",
     "exception": false,
     "start_time": "2019-09-02T10:21:11.168544",
     "status": "completed"
    },
    "tags": [
     "injected-parameters"
    ]
   },
   "outputs": [],
   "source": [
    "# Parameters\n",
    "subject_id = 21686596\n"
   ]
  },
  {
   "cell_type": "code",
   "execution_count": 5,
   "metadata": {
    "collapsed": false,
    "inputHidden": false,
    "outputHidden": false,
    "papermill": {
     "duration": 0.151183,
     "end_time": "2019-09-02T10:21:11.374815",
     "exception": false,
     "start_time": "2019-09-02T10:21:11.223632",
     "status": "completed"
    },
    "tags": []
   },
   "outputs": [],
   "source": [
    "diff_data_df = pd.read_pickle('lib/fitting_metadata.pkl')"
   ]
  },
  {
   "cell_type": "code",
   "execution_count": 6,
   "metadata": {
    "collapsed": false,
    "inputHidden": false,
    "outputHidden": false,
    "papermill": {
     "duration": 0.05337,
     "end_time": "2019-09-02T10:21:11.436703",
     "exception": false,
     "start_time": "2019-09-02T10:21:11.383333",
     "status": "completed"
    },
    "tags": []
   },
   "outputs": [],
   "source": [
    "def get_losses_by_user(subject_id):\n",
    "  diff_data = diff_data_df.loc[subject_id]\n",
    "  psf = diff_data['psf']\n",
    "  pixel_mask = np.array(diff_data['pixel_mask'])[::-1]\n",
    "  galaxy_data = np.array(diff_data['galaxy_data'])[::-1]\n",
    "  image_size = galaxy_data.shape[0]\n",
    "  size_diff = diff_data['size_diff']\n",
    "  \n",
    "  cls = gu.classifications.query('subject_ids == {}'.format(subject_id))\n",
    "  names = cls.user_name \n",
    "  annotations = cls['annotations'].apply(json.loads)\n",
    "\n",
    "  models = annotations.apply(\n",
    "    parsing.parse_annotation,\n",
    "    size_diff=size_diff\n",
    "  )\n",
    "\n",
    "  tqdm.pandas(\n",
    "    desc='Rendering models'.format(subject_id),\n",
    "    leave=False\n",
    "  )\n",
    "  rendered = models.progress_apply(\n",
    "    rendering.calculate_model,\n",
    "    image_size=image_size,\n",
    "    psf=psf\n",
    "  ).rename('rendered')\n",
    "\n",
    "  tqdm.pandas(\n",
    "    desc='Calculating differences'.format(subject_id),\n",
    "    leave=False\n",
    "  )\n",
    "  losses = rendered.apply(\n",
    "    fitting.loss,\n",
    "    args=(galaxy_data, pixel_mask)\n",
    "  ).rename('loss')\n",
    "  all_losses = pd.Series(\n",
    "    losses.values,\n",
    "    index=names.values\n",
    "  ).rename(subject_id)\n",
    "  best_losses = pd.concat((\n",
    "    all_losses.where(\n",
    "      ~all_losses.duplicated(keep=False)\n",
    "    ).dropna(), # all non-duplicates\n",
    "    all_losses.where(\n",
    "      all_losses.duplicated(keep=False)\n",
    "    ).dropna().groupby(level=0).min() # best value of duplicates\n",
    "  ), axis=0)\n",
    "  return best_losses"
   ]
  },
  {
   "cell_type": "code",
   "execution_count": 7,
   "metadata": {
    "collapsed": false,
    "inputHidden": false,
    "outputHidden": false,
    "papermill": {
     "duration": 8.000905,
     "end_time": "2019-09-02T10:21:19.445039",
     "exception": false,
     "start_time": "2019-09-02T10:21:11.444134",
     "status": "completed"
    },
    "tags": []
   },
   "outputs": [
    {
     "name": "stderr",
     "output_type": "stream",
     "text": [
      "\r",
      "Rendering models:   0%|          | 0/31 [00:00<?, ?it/s]"
     ]
    },
    {
     "name": "stderr",
     "output_type": "stream",
     "text": [
      "\r",
      "Rendering models:   6%|▋         | 2/31 [00:06<01:34,  3.26s/it]"
     ]
    },
    {
     "name": "stderr",
     "output_type": "stream",
     "text": [
      "\r",
      "Rendering models:  13%|█▎        | 4/31 [00:06<01:02,  2.31s/it]"
     ]
    },
    {
     "name": "stderr",
     "output_type": "stream",
     "text": [
      "\r",
      "Rendering models:  23%|██▎       | 7/31 [00:06<00:38,  1.62s/it]"
     ]
    },
    {
     "name": "stderr",
     "output_type": "stream",
     "text": [
      "\r",
      "Rendering models:  29%|██▉       | 9/31 [00:06<00:25,  1.15s/it]"
     ]
    },
    {
     "name": "stderr",
     "output_type": "stream",
     "text": [
      "\r",
      "Rendering models:  35%|███▌      | 11/31 [00:07<00:16,  1.21it/s]"
     ]
    },
    {
     "name": "stderr",
     "output_type": "stream",
     "text": [
      "\r",
      "Rendering models:  45%|████▌     | 14/31 [00:07<00:10,  1.70it/s]"
     ]
    },
    {
     "name": "stderr",
     "output_type": "stream",
     "text": [
      "\r",
      "Rendering models:  52%|█████▏    | 16/31 [00:07<00:06,  2.34it/s]"
     ]
    },
    {
     "name": "stderr",
     "output_type": "stream",
     "text": [
      "\r",
      "Rendering models:  58%|█████▊    | 18/31 [00:07<00:04,  3.09it/s]"
     ]
    },
    {
     "name": "stderr",
     "output_type": "stream",
     "text": [
      "\r",
      "Rendering models:  68%|██████▊   | 21/31 [00:07<00:02,  4.14it/s]"
     ]
    },
    {
     "name": "stderr",
     "output_type": "stream",
     "text": [
      "\r",
      "Rendering models:  90%|█████████ | 28/31 [00:07<00:00,  5.71it/s]"
     ]
    },
    {
     "name": "stderr",
     "output_type": "stream",
     "text": [
      "\r",
      "Rendering models: 100%|██████████| 31/31 [00:07<00:00,  7.22it/s]"
     ]
    },
    {
     "name": "stderr",
     "output_type": "stream",
     "text": [
      "\r",
      "                                                                 "
     ]
    },
    {
     "name": "stderr",
     "output_type": "stream",
     "text": [
      "\r"
     ]
    },
    {
     "data": {
      "text/plain": [
       "not-logged-in-20a275b53abec8db9f41    0.109953\n",
       "Linda_J._Berkel                       0.000177\n",
       "ElisabethB                            0.113393\n",
       "not-logged-in-742cef5e1a82d2ddd0fb    0.000274\n",
       "Camelron                              0.000433\n",
       "shocko61                              0.000193\n",
       "shocko61                              0.000148\n",
       "kjkavene                              0.000224\n",
       "mtajnai                               0.005577\n",
       "jmfranci                              0.001772\n",
       "justsomenoodles                       0.000203\n",
       "Jboy2000                              0.002768\n",
       "Jessica_Korkmaz                       0.002278\n",
       "not-logged-in-5f30b2bb9b7f9d49da41    0.008474\n",
       "shin_ai                               0.518860\n",
       "Ellaida                               0.000309\n",
       "pangeli5                              0.000701\n",
       "Saharisunshine                        0.000246\n",
       "aidenr                                0.000282\n",
       "acapirala                             0.002489\n",
       "mlee195                               0.002101\n",
       "r.sundstrom3                          0.000164\n",
       "not-logged-in-b17f3544626bb2196b16    0.024234\n",
       "McMaster.Sam                          0.000265\n",
       "mhaloftis                             0.000986\n",
       "h4ranek                               0.000858\n",
       "Lavadude                              0.002934\n",
       "crush202020                           0.002934\n",
       "not-logged-in-04ed9ae880f18762cd9e    0.002934\n",
       "not-logged-in-f5ac928c4dcd4e9cb619    0.002934\n",
       "seppe.ds                              0.002934\n",
       "Name: 21686596, dtype: float64"
      ]
     },
     "execution_count": 7,
     "metadata": {},
     "output_type": "execute_result"
    }
   ],
   "source": [
    "losses = get_losses_by_user(subject_id)\n",
    "losses"
   ]
  },
  {
   "cell_type": "code",
   "execution_count": 8,
   "metadata": {
    "collapsed": false,
    "inputHidden": false,
    "outputHidden": false,
    "papermill": {
     "duration": 0.063415,
     "end_time": "2019-09-02T10:21:19.519849",
     "exception": false,
     "start_time": "2019-09-02T10:21:19.456434",
     "status": "completed"
    },
    "tags": []
   },
   "outputs": [
    {
     "data": {
      "application/scrapbook.scrap.json+json": {
       "data": 21686596,
       "encoder": "json",
       "name": "subject_id",
       "version": 1
      }
     },
     "metadata": {
      "scrapbook": {
       "data": true,
       "display": false,
       "name": "subject_id"
      }
     },
     "output_type": "display_data"
    },
    {
     "data": {
      "application/scrapbook.scrap.json+json": {
       "data": {
        "Camelron": 0.0004328529242831067,
        "ElisabethB": 0.11339263892262154,
        "Ellaida": 0.000308536453309558,
        "Jboy2000": 0.0027679178570850734,
        "Jessica_Korkmaz": 0.0022779391444712163,
        "Lavadude": 0.0029338416452399656,
        "Linda_J._Berkel": 0.00017712990526018828,
        "McMaster.Sam": 0.00026529710812158504,
        "Saharisunshine": 0.0002460243790755898,
        "acapirala": 0.0024885847502319827,
        "aidenr": 0.00028153555100879265,
        "crush202020": 0.0029338416452399656,
        "h4ranek": 0.000858159466010229,
        "jmfranci": 0.0017719552476704804,
        "justsomenoodles": 0.00020287809880321095,
        "kjkavene": 0.00022441628305097162,
        "mhaloftis": 0.0009857525605581501,
        "mlee195": 0.0021014632315314308,
        "mtajnai": 0.005576617721132177,
        "not-logged-in-04ed9ae880f18762cd9e": 0.0029338416452399656,
        "not-logged-in-20a275b53abec8db9f41": 0.10995298896083097,
        "not-logged-in-5f30b2bb9b7f9d49da41": 0.008473555471054307,
        "not-logged-in-742cef5e1a82d2ddd0fb": 0.0002740413671179216,
        "not-logged-in-b17f3544626bb2196b16": 0.024233559622072107,
        "not-logged-in-f5ac928c4dcd4e9cb619": 0.0029338416452399656,
        "pangeli5": 0.0007013463285030933,
        "r.sundstrom3": 0.00016445010075703616,
        "seppe.ds": 0.0029338416452399656,
        "shin_ai": 0.5188604123170022,
        "shocko61": 0.0001476479454758224
       },
       "encoder": "json",
       "name": "losses",
       "version": 1
      }
     },
     "metadata": {
      "scrapbook": {
       "data": true,
       "display": false,
       "name": "losses"
      }
     },
     "output_type": "display_data"
    }
   ],
   "source": [
    "sb.glue('subject_id', subject_id)\n",
    "sb.glue('losses', losses.to_dict())"
   ]
  }
 ],
 "metadata": {
  "kernel_info": {
   "name": "python3"
  },
  "kernelspec": {
   "display_name": "Python 3",
   "language": "python",
   "name": "python3"
  },
  "language_info": {
   "codemirror_mode": {
    "name": "ipython",
    "version": 3
   },
   "file_extension": ".py",
   "mimetype": "text/x-python",
   "name": "python",
   "nbconvert_exporter": "python",
   "pygments_lexer": "ipython3",
   "version": "3.7.3"
  },
  "nteract": {
   "version": "0.14.3"
  },
  "papermill": {
   "duration": 16.107816,
   "end_time": "2019-09-02T10:21:21.018905",
   "environment_variables": {},
   "exception": null,
   "input_path": "/users/tingard/gzbuilder_results/input_files/volunteer_losses.ipynb",
   "output_path": "/users/tingard/gzbuilder_results/output_files/volunteer_losses/21686596.ipynb",
   "parameters": {
    "subject_id": 21686596
   },
   "start_time": "2019-09-02T10:21:04.911089",
   "version": "1.0.1"
  }
 },
 "nbformat": 4,
 "nbformat_minor": 0
}