{
 "cells": [
  {
   "cell_type": "markdown",
   "metadata": {
    "papermill": {
     "duration": 0.009564,
     "end_time": "2019-09-02T10:20:14.934174",
     "exception": false,
     "start_time": "2019-09-02T10:20:14.924610",
     "status": "completed"
    },
    "tags": []
   },
   "source": [
    "# Volunteer model loss calculation\n",
    "\n",
    "This notebook takes a `subject_id` and calculates the MSE of each volunteer's model to the galaxy data. These losses are then glued to the notebook for use elsewhere."
   ]
  },
  {
   "cell_type": "code",
   "execution_count": 1,
   "metadata": {
    "collapsed": false,
    "inputHidden": false,
    "outputHidden": false,
    "papermill": {
     "duration": 0.025868,
     "end_time": "2019-09-02T10:20:14.969242",
     "exception": false,
     "start_time": "2019-09-02T10:20:14.943374",
     "status": "completed"
    },
    "tags": []
   },
   "outputs": [],
   "source": [
    "%load_ext autoreload\n",
    "%autoreload 2"
   ]
  },
  {
   "cell_type": "code",
   "execution_count": 2,
   "metadata": {
    "collapsed": false,
    "inputHidden": false,
    "outputHidden": false,
    "papermill": {
     "duration": 4.775597,
     "end_time": "2019-09-02T10:20:19.753554",
     "exception": false,
     "start_time": "2019-09-02T10:20:14.977957",
     "status": "completed"
    },
    "tags": []
   },
   "outputs": [
    {
     "name": "stderr",
     "output_type": "stream",
     "text": [
      "/opt/apps/pkgs/anaconda3/2019.03/intel64/lib/python3.7/site-packages/dask/config.py:168: YAMLLoadWarning: calling yaml.load() without Loader=... is deprecated, as the default Loader is unsafe. Please read https://msg.pyyaml.org/load for full details.\n",
      "  data = yaml.load(f.read()) or {}\n"
     ]
    }
   ],
   "source": [
    "import json\n",
    "import numpy as np\n",
    "import pandas as pd\n",
    "from tqdm import tqdm\n",
    "import matplotlib.pyplot as plt\n",
    "import seaborn as sns\n",
    "from gzbuilder_analysis import parsing, rendering, fitting\n",
    "import lib.galaxy_utilities as gu\n",
    "import scrapbook as sb"
   ]
  },
  {
   "cell_type": "code",
   "execution_count": 3,
   "metadata": {
    "collapsed": false,
    "inputHidden": false,
    "outputHidden": false,
    "papermill": {
     "duration": 0.04358,
     "end_time": "2019-09-02T10:20:19.807178",
     "exception": false,
     "start_time": "2019-09-02T10:20:19.763598",
     "status": "completed"
    },
    "tags": [
     "parameters"
    ]
   },
   "outputs": [],
   "source": [
    "subject_id = 20902040"
   ]
  },
  {
   "cell_type": "code",
   "execution_count": 4,
   "metadata": {
    "papermill": {
     "duration": 0.042895,
     "end_time": "2019-09-02T10:20:19.858548",
     "exception": false,
     "start_time": "2019-09-02T10:20:19.815653",
     "status": "completed"
    },
    "tags": [
     "injected-parameters"
    ]
   },
   "outputs": [],
   "source": [
    "# Parameters\n",
    "subject_id = 20902000\n"
   ]
  },
  {
   "cell_type": "code",
   "execution_count": 5,
   "metadata": {
    "collapsed": false,
    "inputHidden": false,
    "outputHidden": false,
    "papermill": {
     "duration": 0.220732,
     "end_time": "2019-09-02T10:20:20.087741",
     "exception": false,
     "start_time": "2019-09-02T10:20:19.867009",
     "status": "completed"
    },
    "tags": []
   },
   "outputs": [],
   "source": [
    "diff_data_df = pd.read_pickle('lib/fitting_metadata.pkl')"
   ]
  },
  {
   "cell_type": "code",
   "execution_count": 6,
   "metadata": {
    "collapsed": false,
    "inputHidden": false,
    "outputHidden": false,
    "papermill": {
     "duration": 0.04636,
     "end_time": "2019-09-02T10:20:20.141635",
     "exception": false,
     "start_time": "2019-09-02T10:20:20.095275",
     "status": "completed"
    },
    "tags": []
   },
   "outputs": [],
   "source": [
    "def get_losses_by_user(subject_id):\n",
    "  diff_data = diff_data_df.loc[subject_id]\n",
    "  psf = diff_data['psf']\n",
    "  pixel_mask = np.array(diff_data['pixel_mask'])[::-1]\n",
    "  galaxy_data = np.array(diff_data['galaxy_data'])[::-1]\n",
    "  image_size = galaxy_data.shape[0]\n",
    "  size_diff = diff_data['size_diff']\n",
    "  \n",
    "  cls = gu.classifications.query('subject_ids == {}'.format(subject_id))\n",
    "  names = cls.user_name \n",
    "  annotations = cls['annotations'].apply(json.loads)\n",
    "\n",
    "  models = annotations.apply(\n",
    "    parsing.parse_annotation,\n",
    "    size_diff=size_diff\n",
    "  )\n",
    "\n",
    "  tqdm.pandas(\n",
    "    desc='Rendering models'.format(subject_id),\n",
    "    leave=False\n",
    "  )\n",
    "  rendered = models.progress_apply(\n",
    "    rendering.calculate_model,\n",
    "    image_size=image_size,\n",
    "    psf=psf\n",
    "  ).rename('rendered')\n",
    "\n",
    "  tqdm.pandas(\n",
    "    desc='Calculating differences'.format(subject_id),\n",
    "    leave=False\n",
    "  )\n",
    "  losses = rendered.apply(\n",
    "    fitting.loss,\n",
    "    args=(galaxy_data, pixel_mask)\n",
    "  ).rename('loss')\n",
    "  all_losses = pd.Series(\n",
    "    losses.values,\n",
    "    index=names.values\n",
    "  ).rename(subject_id)\n",
    "  best_losses = pd.concat((\n",
    "    all_losses.where(\n",
    "      ~all_losses.duplicated(keep=False)\n",
    "    ).dropna(), # all non-duplicates\n",
    "    all_losses.where(\n",
    "      all_losses.duplicated(keep=False)\n",
    "    ).dropna().groupby(level=0).min() # best value of duplicates\n",
    "  ), axis=0)\n",
    "  return best_losses"
   ]
  },
  {
   "cell_type": "code",
   "execution_count": 7,
   "metadata": {
    "collapsed": false,
    "inputHidden": false,
    "outputHidden": false,
    "papermill": {
     "duration": 16.209533,
     "end_time": "2019-09-02T10:20:36.358727",
     "exception": false,
     "start_time": "2019-09-02T10:20:20.149194",
     "status": "completed"
    },
    "tags": []
   },
   "outputs": [
    {
     "name": "stderr",
     "output_type": "stream",
     "text": [
      "\r",
      "Rendering models:   0%|          | 0/31 [00:00<?, ?it/s]"
     ]
    },
    {
     "name": "stderr",
     "output_type": "stream",
     "text": [
      "\r",
      "Rendering models:   6%|▋         | 2/31 [00:01<00:23,  1.21it/s]"
     ]
    },
    {
     "name": "stderr",
     "output_type": "stream",
     "text": [
      "\r",
      "Rendering models:  10%|▉         | 3/31 [00:06<01:00,  2.17s/it]"
     ]
    },
    {
     "name": "stderr",
     "output_type": "stream",
     "text": [
      "\r",
      "Rendering models:  13%|█▎        | 4/31 [00:07<00:46,  1.71s/it]"
     ]
    },
    {
     "name": "stderr",
     "output_type": "stream",
     "text": [
      "\r",
      "Rendering models:  16%|█▌        | 5/31 [00:07<00:32,  1.27s/it]"
     ]
    },
    {
     "name": "stderr",
     "output_type": "stream",
     "text": [
      "\r",
      "Rendering models:  19%|█▉        | 6/31 [00:07<00:23,  1.08it/s]"
     ]
    },
    {
     "name": "stderr",
     "output_type": "stream",
     "text": [
      "\r",
      "Rendering models:  23%|██▎       | 7/31 [00:08<00:16,  1.46it/s]"
     ]
    },
    {
     "name": "stderr",
     "output_type": "stream",
     "text": [
      "\r",
      "Rendering models:  26%|██▌       | 8/31 [00:08<00:11,  1.93it/s]"
     ]
    },
    {
     "name": "stderr",
     "output_type": "stream",
     "text": [
      "\r",
      "Rendering models:  29%|██▉       | 9/31 [00:08<00:09,  2.28it/s]"
     ]
    },
    {
     "name": "stderr",
     "output_type": "stream",
     "text": [
      "\r",
      "Rendering models:  32%|███▏      | 10/31 [00:08<00:08,  2.39it/s]"
     ]
    },
    {
     "name": "stderr",
     "output_type": "stream",
     "text": [
      "\r",
      "Rendering models:  35%|███▌      | 11/31 [00:09<00:08,  2.31it/s]"
     ]
    },
    {
     "name": "stderr",
     "output_type": "stream",
     "text": [
      "\r",
      "Rendering models:  39%|███▊      | 12/31 [00:09<00:07,  2.51it/s]"
     ]
    },
    {
     "name": "stderr",
     "output_type": "stream",
     "text": [
      "\r",
      "Rendering models:  42%|████▏     | 13/31 [00:09<00:07,  2.54it/s]"
     ]
    },
    {
     "name": "stderr",
     "output_type": "stream",
     "text": [
      "\r",
      "Rendering models:  48%|████▊     | 15/31 [00:10<00:05,  3.13it/s]"
     ]
    },
    {
     "name": "stderr",
     "output_type": "stream",
     "text": [
      "\r",
      "Rendering models:  52%|█████▏    | 16/31 [00:10<00:04,  3.29it/s]"
     ]
    },
    {
     "name": "stderr",
     "output_type": "stream",
     "text": [
      "\r",
      "Rendering models:  55%|█████▍    | 17/31 [00:10<00:04,  3.36it/s]"
     ]
    },
    {
     "name": "stderr",
     "output_type": "stream",
     "text": [
      "\r",
      "Rendering models:  58%|█████▊    | 18/31 [00:11<00:03,  3.45it/s]"
     ]
    },
    {
     "name": "stderr",
     "output_type": "stream",
     "text": [
      "\r",
      "Rendering models:  61%|██████▏   | 19/31 [00:11<00:04,  2.64it/s]"
     ]
    },
    {
     "name": "stderr",
     "output_type": "stream",
     "text": [
      "\r",
      "Rendering models:  65%|██████▍   | 20/31 [00:12<00:04,  2.64it/s]"
     ]
    },
    {
     "name": "stderr",
     "output_type": "stream",
     "text": [
      "\r",
      "Rendering models:  68%|██████▊   | 21/31 [00:12<00:03,  3.23it/s]"
     ]
    },
    {
     "name": "stderr",
     "output_type": "stream",
     "text": [
      "\r",
      "Rendering models:  71%|███████   | 22/31 [00:12<00:02,  3.36it/s]"
     ]
    },
    {
     "name": "stderr",
     "output_type": "stream",
     "text": [
      "\r",
      "Rendering models:  74%|███████▍  | 23/31 [00:12<00:02,  3.07it/s]"
     ]
    },
    {
     "name": "stderr",
     "output_type": "stream",
     "text": [
      "\r",
      "Rendering models:  77%|███████▋  | 24/31 [00:13<00:02,  3.27it/s]"
     ]
    },
    {
     "name": "stderr",
     "output_type": "stream",
     "text": [
      "\r",
      "Rendering models:  81%|████████  | 25/31 [00:13<00:01,  3.26it/s]"
     ]
    },
    {
     "name": "stderr",
     "output_type": "stream",
     "text": [
      "\r",
      "Rendering models:  84%|████████▍ | 26/31 [00:13<00:01,  3.24it/s]"
     ]
    },
    {
     "name": "stderr",
     "output_type": "stream",
     "text": [
      "\r",
      "Rendering models:  87%|████████▋ | 27/31 [00:14<00:01,  3.20it/s]"
     ]
    },
    {
     "name": "stderr",
     "output_type": "stream",
     "text": [
      "\r",
      "Rendering models:  90%|█████████ | 28/31 [00:14<00:00,  3.30it/s]"
     ]
    },
    {
     "name": "stderr",
     "output_type": "stream",
     "text": [
      "\r",
      "Rendering models:  94%|█████████▎| 29/31 [00:14<00:00,  3.28it/s]"
     ]
    },
    {
     "name": "stderr",
     "output_type": "stream",
     "text": [
      "\r",
      "Rendering models:  97%|█████████▋| 30/31 [00:15<00:00,  2.55it/s]"
     ]
    },
    {
     "name": "stderr",
     "output_type": "stream",
     "text": [
      "\r",
      "Rendering models: 100%|██████████| 31/31 [00:15<00:00,  2.19it/s]"
     ]
    },
    {
     "name": "stderr",
     "output_type": "stream",
     "text": [
      "\r",
      "                                                                 "
     ]
    },
    {
     "name": "stderr",
     "output_type": "stream",
     "text": [
      "\r"
     ]
    },
    {
     "data": {
      "text/plain": [
       "equidad1                              0.000986\n",
       "CTidwell3                             0.000304\n",
       "klmasters                             0.000380\n",
       "YugnatD                               0.001771\n",
       "not-logged-in-d254cc3304773762c2aa    0.396102\n",
       "not-logged-in-dacb6c2f9eb6080c5e9f    0.000438\n",
       "not-logged-in-745edeb38ef217ac29f9    0.001555\n",
       "not-logged-in-61c60101aa7fea3372e3    0.000302\n",
       "not-logged-in-b2ab6eb00573e0111cbd    0.000583\n",
       "dianapenguinp                         0.000575\n",
       "TheoBe                                0.000296\n",
       "not-logged-in-7cc17a8a1e6ff5a23d80    0.000978\n",
       "mariafarhat                           0.002212\n",
       "not-logged-in-d05770f05ee9ee0b9740    0.001317\n",
       "not-logged-in-adaa8793e217e17a4a47    0.000362\n",
       "UnbiasedBrigade                       0.001546\n",
       "not-logged-in-d04ed8c60cd5453cb408    0.000416\n",
       "BraxtonKinney                         0.000317\n",
       "acapirala                             0.000480\n",
       "not-logged-in-3569dcff4dbd0ee90f50    0.001020\n",
       "not-logged-in-fcfcbc88feb1aa0ed0a7    0.000688\n",
       "Lavadude                              0.027671\n",
       "jordanrushworth                       0.001778\n",
       "not-logged-in-8ed37f989908c6fada03    0.029701\n",
       "not-logged-in-15498ebaa693dd5a198d    0.000289\n",
       "perepausancho                         0.000312\n",
       "Denny2507                             0.001466\n",
       "FabioGalasso                          0.001849\n",
       "not-logged-in-243ecd760a5ad294f57a    1.415568\n",
       "raydang                               0.000431\n",
       "nyoung55                              0.000574\n",
       "Name: 20902000, dtype: float64"
      ]
     },
     "execution_count": 7,
     "metadata": {},
     "output_type": "execute_result"
    }
   ],
   "source": [
    "losses = get_losses_by_user(subject_id)\n",
    "losses"
   ]
  },
  {
   "cell_type": "code",
   "execution_count": 8,
   "metadata": {
    "collapsed": false,
    "inputHidden": false,
    "outputHidden": false,
    "papermill": {
     "duration": 0.10749,
     "end_time": "2019-09-02T10:20:36.484091",
     "exception": false,
     "start_time": "2019-09-02T10:20:36.376601",
     "status": "completed"
    },
    "tags": []
   },
   "outputs": [
    {
     "data": {
      "application/scrapbook.scrap.json+json": {
       "data": 20902000,
       "encoder": "json",
       "name": "subject_id",
       "version": 1
      }
     },
     "metadata": {
      "scrapbook": {
       "data": true,
       "display": false,
       "name": "subject_id"
      }
     },
     "output_type": "display_data"
    },
    {
     "data": {
      "application/scrapbook.scrap.json+json": {
       "data": {
        "BraxtonKinney": 0.0003165882152480044,
        "CTidwell3": 0.0003044920063355259,
        "Denny2507": 0.0014656849504575107,
        "FabioGalasso": 0.0018493295152054417,
        "Lavadude": 0.02767104865620804,
        "TheoBe": 0.00029612083683495314,
        "UnbiasedBrigade": 0.0015462234715181988,
        "YugnatD": 0.0017709448886904602,
        "acapirala": 0.0004803596068273869,
        "dianapenguinp": 0.0005754012976692459,
        "equidad1": 0.0009857758712647083,
        "jordanrushworth": 0.0017777167101308076,
        "klmasters": 0.00037967222119181525,
        "mariafarhat": 0.0022117517778876454,
        "not-logged-in-15498ebaa693dd5a198d": 0.00028888432205667505,
        "not-logged-in-243ecd760a5ad294f57a": 1.4155684501122285,
        "not-logged-in-3569dcff4dbd0ee90f50": 0.001019612883112697,
        "not-logged-in-61c60101aa7fea3372e3": 0.0003022609455863358,
        "not-logged-in-745edeb38ef217ac29f9": 0.0015548131060202927,
        "not-logged-in-7cc17a8a1e6ff5a23d80": 0.000977786000226301,
        "not-logged-in-8ed37f989908c6fada03": 0.02970128960197372,
        "not-logged-in-adaa8793e217e17a4a47": 0.00036223357301907674,
        "not-logged-in-b2ab6eb00573e0111cbd": 0.0005833359643145039,
        "not-logged-in-d04ed8c60cd5453cb408": 0.000416305947821661,
        "not-logged-in-d05770f05ee9ee0b9740": 0.0013174513998018497,
        "not-logged-in-d254cc3304773762c2aa": 0.39610191835073555,
        "not-logged-in-dacb6c2f9eb6080c5e9f": 0.00043781173445870753,
        "not-logged-in-fcfcbc88feb1aa0ed0a7": 0.000687531763776382,
        "nyoung55": 0.000573731518049487,
        "perepausancho": 0.0003119254766967538,
        "raydang": 0.0004314306110341751
       },
       "encoder": "json",
       "name": "losses",
       "version": 1
      }
     },
     "metadata": {
      "scrapbook": {
       "data": true,
       "display": false,
       "name": "losses"
      }
     },
     "output_type": "display_data"
    }
   ],
   "source": [
    "sb.glue('subject_id', subject_id)\n",
    "sb.glue('losses', losses.to_dict())"
   ]
  }
 ],
 "metadata": {
  "kernel_info": {
   "name": "python3"
  },
  "kernelspec": {
   "display_name": "Python 3",
   "language": "python",
   "name": "python3"
  },
  "language_info": {
   "codemirror_mode": {
    "name": "ipython",
    "version": 3
   },
   "file_extension": ".py",
   "mimetype": "text/x-python",
   "name": "python",
   "nbconvert_exporter": "python",
   "pygments_lexer": "ipython3",
   "version": "3.7.3"
  },
  "nteract": {
   "version": "0.14.3"
  },
  "papermill": {
   "duration": 26.010092,
   "end_time": "2019-09-02T10:20:37.752980",
   "environment_variables": {},
   "exception": null,
   "input_path": "/users/tingard/gzbuilder_results/input_files/volunteer_losses.ipynb",
   "output_path": "/users/tingard/gzbuilder_results/output_files/volunteer_losses/20902000.ipynb",
   "parameters": {
    "subject_id": 20902000
   },
   "start_time": "2019-09-02T10:20:11.742888",
   "version": "1.0.1"
  }
 },
 "nbformat": 4,
 "nbformat_minor": 0
}