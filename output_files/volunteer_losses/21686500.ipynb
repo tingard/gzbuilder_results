{
 "cells": [
  {
   "cell_type": "markdown",
   "metadata": {
    "papermill": {
     "duration": 0.008596,
     "end_time": "2019-09-02T10:21:06.791367",
     "exception": false,
     "start_time": "2019-09-02T10:21:06.782771",
     "status": "completed"
    },
    "tags": []
   },
   "source": [
    "# Volunteer model loss calculation\n",
    "\n",
    "This notebook takes a `subject_id` and calculates the MSE of each volunteer's model to the galaxy data. These losses are then glued to the notebook for use elsewhere."
   ]
  },
  {
   "cell_type": "code",
   "execution_count": 1,
   "metadata": {
    "collapsed": false,
    "inputHidden": false,
    "outputHidden": false,
    "papermill": {
     "duration": 0.026719,
     "end_time": "2019-09-02T10:21:06.826258",
     "exception": false,
     "start_time": "2019-09-02T10:21:06.799539",
     "status": "completed"
    },
    "tags": []
   },
   "outputs": [],
   "source": [
    "%load_ext autoreload\n",
    "%autoreload 2"
   ]
  },
  {
   "cell_type": "code",
   "execution_count": 2,
   "metadata": {
    "collapsed": false,
    "inputHidden": false,
    "outputHidden": false,
    "papermill": {
     "duration": 4.244911,
     "end_time": "2019-09-02T10:21:11.078473",
     "exception": false,
     "start_time": "2019-09-02T10:21:06.833562",
     "status": "completed"
    },
    "tags": []
   },
   "outputs": [
    {
     "name": "stderr",
     "output_type": "stream",
     "text": [
      "/opt/apps/pkgs/anaconda3/2019.03/intel64/lib/python3.7/site-packages/dask/config.py:168: YAMLLoadWarning: calling yaml.load() without Loader=... is deprecated, as the default Loader is unsafe. Please read https://msg.pyyaml.org/load for full details.\n",
      "  data = yaml.load(f.read()) or {}\n"
     ]
    }
   ],
   "source": [
    "import json\n",
    "import numpy as np\n",
    "import pandas as pd\n",
    "from tqdm import tqdm\n",
    "import matplotlib.pyplot as plt\n",
    "import seaborn as sns\n",
    "from gzbuilder_analysis import parsing, rendering, fitting\n",
    "import lib.galaxy_utilities as gu\n",
    "import scrapbook as sb"
   ]
  },
  {
   "cell_type": "code",
   "execution_count": 3,
   "metadata": {
    "collapsed": false,
    "inputHidden": false,
    "outputHidden": false,
    "papermill": {
     "duration": 0.048004,
     "end_time": "2019-09-02T10:21:11.135662",
     "exception": false,
     "start_time": "2019-09-02T10:21:11.087658",
     "status": "completed"
    },
    "tags": [
     "parameters"
    ]
   },
   "outputs": [],
   "source": [
    "subject_id = 20902040"
   ]
  },
  {
   "cell_type": "code",
   "execution_count": 4,
   "metadata": {
    "papermill": {
     "duration": 0.047601,
     "end_time": "2019-09-02T10:21:11.190745",
     "exception": false,
     "start_time": "2019-09-02T10:21:11.143144",
     "status": "completed"
    },
    "tags": [
     "injected-parameters"
    ]
   },
   "outputs": [],
   "source": [
    "# Parameters\n",
    "subject_id = 21686500\n"
   ]
  },
  {
   "cell_type": "code",
   "execution_count": 5,
   "metadata": {
    "collapsed": false,
    "inputHidden": false,
    "outputHidden": false,
    "papermill": {
     "duration": 0.158179,
     "end_time": "2019-09-02T10:21:11.356998",
     "exception": false,
     "start_time": "2019-09-02T10:21:11.198819",
     "status": "completed"
    },
    "tags": []
   },
   "outputs": [],
   "source": [
    "diff_data_df = pd.read_pickle('lib/fitting_metadata.pkl')"
   ]
  },
  {
   "cell_type": "code",
   "execution_count": 6,
   "metadata": {
    "collapsed": false,
    "inputHidden": false,
    "outputHidden": false,
    "papermill": {
     "duration": 0.052189,
     "end_time": "2019-09-02T10:21:11.417186",
     "exception": false,
     "start_time": "2019-09-02T10:21:11.364997",
     "status": "completed"
    },
    "tags": []
   },
   "outputs": [],
   "source": [
    "def get_losses_by_user(subject_id):\n",
    "  diff_data = diff_data_df.loc[subject_id]\n",
    "  psf = diff_data['psf']\n",
    "  pixel_mask = np.array(diff_data['pixel_mask'])[::-1]\n",
    "  galaxy_data = np.array(diff_data['galaxy_data'])[::-1]\n",
    "  image_size = galaxy_data.shape[0]\n",
    "  size_diff = diff_data['size_diff']\n",
    "  \n",
    "  cls = gu.classifications.query('subject_ids == {}'.format(subject_id))\n",
    "  names = cls.user_name \n",
    "  annotations = cls['annotations'].apply(json.loads)\n",
    "\n",
    "  models = annotations.apply(\n",
    "    parsing.parse_annotation,\n",
    "    size_diff=size_diff\n",
    "  )\n",
    "\n",
    "  tqdm.pandas(\n",
    "    desc='Rendering models'.format(subject_id),\n",
    "    leave=False\n",
    "  )\n",
    "  rendered = models.progress_apply(\n",
    "    rendering.calculate_model,\n",
    "    image_size=image_size,\n",
    "    psf=psf\n",
    "  ).rename('rendered')\n",
    "\n",
    "  tqdm.pandas(\n",
    "    desc='Calculating differences'.format(subject_id),\n",
    "    leave=False\n",
    "  )\n",
    "  losses = rendered.apply(\n",
    "    fitting.loss,\n",
    "    args=(galaxy_data, pixel_mask)\n",
    "  ).rename('loss')\n",
    "  all_losses = pd.Series(\n",
    "    losses.values,\n",
    "    index=names.values\n",
    "  ).rename(subject_id)\n",
    "  best_losses = pd.concat((\n",
    "    all_losses.where(\n",
    "      ~all_losses.duplicated(keep=False)\n",
    "    ).dropna(), # all non-duplicates\n",
    "    all_losses.where(\n",
    "      all_losses.duplicated(keep=False)\n",
    "    ).dropna().groupby(level=0).min() # best value of duplicates\n",
    "  ), axis=0)\n",
    "  return best_losses"
   ]
  },
  {
   "cell_type": "code",
   "execution_count": 7,
   "metadata": {
    "collapsed": false,
    "inputHidden": false,
    "outputHidden": false,
    "papermill": {
     "duration": 10.76286,
     "end_time": "2019-09-02T10:21:22.187754",
     "exception": false,
     "start_time": "2019-09-02T10:21:11.424894",
     "status": "completed"
    },
    "tags": []
   },
   "outputs": [
    {
     "name": "stderr",
     "output_type": "stream",
     "text": [
      "\r",
      "Rendering models:   0%|          | 0/31 [00:00<?, ?it/s]"
     ]
    },
    {
     "name": "stderr",
     "output_type": "stream",
     "text": [
      "\r",
      "Rendering models:   6%|▋         | 2/31 [00:06<01:38,  3.39s/it]"
     ]
    },
    {
     "name": "stderr",
     "output_type": "stream",
     "text": [
      "\r",
      "Rendering models:  10%|▉         | 3/31 [00:06<01:08,  2.43s/it]"
     ]
    },
    {
     "name": "stderr",
     "output_type": "stream",
     "text": [
      "\r",
      "Rendering models:  13%|█▎        | 4/31 [00:07<00:47,  1.75s/it]"
     ]
    },
    {
     "name": "stderr",
     "output_type": "stream",
     "text": [
      "\r",
      "Rendering models:  19%|█▉        | 6/31 [00:07<00:31,  1.26s/it]"
     ]
    },
    {
     "name": "stderr",
     "output_type": "stream",
     "text": [
      "\r",
      "Rendering models:  23%|██▎       | 7/31 [00:07<00:22,  1.07it/s]"
     ]
    },
    {
     "name": "stderr",
     "output_type": "stream",
     "text": [
      "\r",
      "Rendering models:  26%|██▌       | 8/31 [00:07<00:16,  1.43it/s]"
     ]
    },
    {
     "name": "stderr",
     "output_type": "stream",
     "text": [
      "\r",
      "Rendering models:  29%|██▉       | 9/31 [00:07<00:11,  1.86it/s]"
     ]
    },
    {
     "name": "stderr",
     "output_type": "stream",
     "text": [
      "\r",
      "Rendering models:  32%|███▏      | 10/31 [00:08<00:09,  2.14it/s]"
     ]
    },
    {
     "name": "stderr",
     "output_type": "stream",
     "text": [
      "\r",
      "Rendering models:  35%|███▌      | 11/31 [00:08<00:07,  2.76it/s]"
     ]
    },
    {
     "name": "stderr",
     "output_type": "stream",
     "text": [
      "\r",
      "Rendering models:  39%|███▊      | 12/31 [00:08<00:05,  3.46it/s]"
     ]
    },
    {
     "name": "stderr",
     "output_type": "stream",
     "text": [
      "\r",
      "Rendering models:  42%|████▏     | 13/31 [00:08<00:04,  4.19it/s]"
     ]
    },
    {
     "name": "stderr",
     "output_type": "stream",
     "text": [
      "\r",
      "Rendering models:  58%|█████▊    | 18/31 [00:08<00:02,  5.59it/s]"
     ]
    },
    {
     "name": "stderr",
     "output_type": "stream",
     "text": [
      "\r",
      "Rendering models:  65%|██████▍   | 20/31 [00:09<00:01,  5.76it/s]"
     ]
    },
    {
     "name": "stderr",
     "output_type": "stream",
     "text": [
      "\r",
      "Rendering models:  71%|███████   | 22/31 [00:09<00:01,  5.97it/s]"
     ]
    },
    {
     "name": "stderr",
     "output_type": "stream",
     "text": [
      "\r",
      "Rendering models:  77%|███████▋  | 24/31 [00:09<00:01,  6.36it/s]"
     ]
    },
    {
     "name": "stderr",
     "output_type": "stream",
     "text": [
      "\r",
      "Rendering models:  81%|████████  | 25/31 [00:09<00:00,  6.89it/s]"
     ]
    },
    {
     "name": "stderr",
     "output_type": "stream",
     "text": [
      "\r",
      "Rendering models:  84%|████████▍ | 26/31 [00:09<00:00,  6.37it/s]"
     ]
    },
    {
     "name": "stderr",
     "output_type": "stream",
     "text": [
      "\r",
      "Rendering models:  87%|████████▋ | 27/31 [00:10<00:00,  6.29it/s]"
     ]
    },
    {
     "name": "stderr",
     "output_type": "stream",
     "text": [
      "\r",
      "Rendering models:  90%|█████████ | 28/31 [00:10<00:00,  6.94it/s]"
     ]
    },
    {
     "name": "stderr",
     "output_type": "stream",
     "text": [
      "\r",
      "Rendering models:  94%|█████████▎| 29/31 [00:10<00:00,  6.04it/s]"
     ]
    },
    {
     "name": "stderr",
     "output_type": "stream",
     "text": [
      "\r",
      "Rendering models: 100%|██████████| 31/31 [00:10<00:00,  7.20it/s]"
     ]
    },
    {
     "name": "stderr",
     "output_type": "stream",
     "text": [
      "\r",
      "                                                                 "
     ]
    },
    {
     "name": "stderr",
     "output_type": "stream",
     "text": [
      "\r"
     ]
    },
    {
     "data": {
      "text/plain": [
       "not-logged-in-20a275b53abec8db9f41    0.019196\n",
       "not-logged-in-20a275b53abec8db9f41    0.055360\n",
       "ElisabethB                            0.000087\n",
       "not-logged-in-31e7b02d91e286c7f9b3    0.001241\n",
       "shocko61                              0.000094\n",
       "shocko61                              0.000100\n",
       "thedarktree                           0.000297\n",
       "kcarte13                              0.000067\n",
       "mtajnai                               0.000076\n",
       "jmfranci                              0.000495\n",
       "ncaro                                 0.000337\n",
       "not-logged-in-3bf20897ad3067a962a6    0.000103\n",
       "not-logged-in-2aaf71de46fc8e66d4f8    0.000334\n",
       "clairedeu                             0.000081\n",
       "acapirala                             0.000084\n",
       "Lavadude                              0.006431\n",
       "Rollingr                              0.001481\n",
       "not-logged-in-92531cfb2471bb613fa9    0.004102\n",
       "Fortnitesucks                         0.000110\n",
       "nicholas.                             0.008868\n",
       "not-logged-in-f2d27cddccc2f48b972e    0.000680\n",
       "vceccare                              0.000611\n",
       "not-logged-in-b7ad217dd74ab65a977b    0.000157\n",
       "tingard                               0.000420\n",
       "spannerfarm                           0.000077\n",
       "LAMBO101799                           0.001059\n",
       "Maverna                               0.001059\n",
       "ckkmomma                              0.001059\n",
       "donny1423                             0.001059\n",
       "not-logged-in-634c823a94fe13b68c07    0.001059\n",
       "not-logged-in-a92eec1e533a1ebdb655    0.001059\n",
       "Name: 21686500, dtype: float64"
      ]
     },
     "execution_count": 7,
     "metadata": {},
     "output_type": "execute_result"
    }
   ],
   "source": [
    "losses = get_losses_by_user(subject_id)\n",
    "losses"
   ]
  },
  {
   "cell_type": "code",
   "execution_count": 8,
   "metadata": {
    "collapsed": false,
    "inputHidden": false,
    "outputHidden": false,
    "papermill": {
     "duration": 0.055636,
     "end_time": "2019-09-02T10:21:22.256599",
     "exception": false,
     "start_time": "2019-09-02T10:21:22.200963",
     "status": "completed"
    },
    "tags": []
   },
   "outputs": [
    {
     "data": {
      "application/scrapbook.scrap.json+json": {
       "data": 21686500,
       "encoder": "json",
       "name": "subject_id",
       "version": 1
      }
     },
     "metadata": {
      "scrapbook": {
       "data": true,
       "display": false,
       "name": "subject_id"
      }
     },
     "output_type": "display_data"
    },
    {
     "data": {
      "application/scrapbook.scrap.json+json": {
       "data": {
        "ElisabethB": 8.727546579691571e-05,
        "Fortnitesucks": 0.00011028100279273192,
        "LAMBO101799": 0.001058788945073374,
        "Lavadude": 0.006431454716501286,
        "Maverna": 0.001058788945073374,
        "Rollingr": 0.0014811540011873297,
        "acapirala": 8.405542370411664e-05,
        "ckkmomma": 0.001058788945073374,
        "clairedeu": 8.112657680674256e-05,
        "donny1423": 0.001058788945073374,
        "jmfranci": 0.0004948121254491396,
        "kcarte13": 6.713612214613723e-05,
        "mtajnai": 7.64031483790205e-05,
        "ncaro": 0.0003372708244243598,
        "nicholas.": 0.008867870624443233,
        "not-logged-in-20a275b53abec8db9f41": 0.055359711575893984,
        "not-logged-in-2aaf71de46fc8e66d4f8": 0.0003337283686420549,
        "not-logged-in-31e7b02d91e286c7f9b3": 0.0012407628563442133,
        "not-logged-in-3bf20897ad3067a962a6": 0.00010322484506735545,
        "not-logged-in-634c823a94fe13b68c07": 0.001058788945073374,
        "not-logged-in-92531cfb2471bb613fa9": 0.004102030528512142,
        "not-logged-in-a92eec1e533a1ebdb655": 0.001058788945073374,
        "not-logged-in-b7ad217dd74ab65a977b": 0.00015714106311636355,
        "not-logged-in-f2d27cddccc2f48b972e": 0.000679873650833328,
        "shocko61": 9.991902400413122e-05,
        "spannerfarm": 7.656157611760774e-05,
        "thedarktree": 0.00029721007668101593,
        "tingard": 0.000420138692277435,
        "vceccare": 0.0006109795499515359
       },
       "encoder": "json",
       "name": "losses",
       "version": 1
      }
     },
     "metadata": {
      "scrapbook": {
       "data": true,
       "display": false,
       "name": "losses"
      }
     },
     "output_type": "display_data"
    }
   ],
   "source": [
    "sb.glue('subject_id', subject_id)\n",
    "sb.glue('losses', losses.to_dict())"
   ]
  }
 ],
 "metadata": {
  "kernel_info": {
   "name": "python3"
  },
  "kernelspec": {
   "display_name": "Python 3",
   "language": "python",
   "name": "python3"
  },
  "language_info": {
   "codemirror_mode": {
    "name": "ipython",
    "version": 3
   },
   "file_extension": ".py",
   "mimetype": "text/x-python",
   "name": "python",
   "nbconvert_exporter": "python",
   "pygments_lexer": "ipython3",
   "version": "3.7.3"
  },
  "nteract": {
   "version": "0.14.3"
  },
  "papermill": {
   "duration": 18.808351,
   "end_time": "2019-09-02T10:21:23.717694",
   "environment_variables": {},
   "exception": null,
   "input_path": "/users/tingard/gzbuilder_results/input_files/volunteer_losses.ipynb",
   "output_path": "/users/tingard/gzbuilder_results/output_files/volunteer_losses/21686500.ipynb",
   "parameters": {
    "subject_id": 21686500
   },
   "start_time": "2019-09-02T10:21:04.909343",
   "version": "1.0.1"
  }
 },
 "nbformat": 4,
 "nbformat_minor": 0
}