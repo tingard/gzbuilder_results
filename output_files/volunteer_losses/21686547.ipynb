{
 "cells": [
  {
   "cell_type": "markdown",
   "metadata": {
    "papermill": {
     "duration": 0.008908,
     "end_time": "2019-09-02T10:21:10.814310",
     "exception": false,
     "start_time": "2019-09-02T10:21:10.805402",
     "status": "completed"
    },
    "tags": []
   },
   "source": [
    "# Volunteer model loss calculation\n",
    "\n",
    "This notebook takes a `subject_id` and calculates the MSE of each volunteer's model to the galaxy data. These losses are then glued to the notebook for use elsewhere."
   ]
  },
  {
   "cell_type": "code",
   "execution_count": 1,
   "metadata": {
    "collapsed": false,
    "inputHidden": false,
    "outputHidden": false,
    "papermill": {
     "duration": 0.027434,
     "end_time": "2019-09-02T10:21:10.850150",
     "exception": false,
     "start_time": "2019-09-02T10:21:10.822716",
     "status": "completed"
    },
    "tags": []
   },
   "outputs": [],
   "source": [
    "%load_ext autoreload\n",
    "%autoreload 2"
   ]
  },
  {
   "cell_type": "code",
   "execution_count": 2,
   "metadata": {
    "collapsed": false,
    "inputHidden": false,
    "outputHidden": false,
    "papermill": {
     "duration": 3.965708,
     "end_time": "2019-09-02T10:21:14.823300",
     "exception": false,
     "start_time": "2019-09-02T10:21:10.857592",
     "status": "completed"
    },
    "tags": []
   },
   "outputs": [
    {
     "name": "stderr",
     "output_type": "stream",
     "text": [
      "/opt/apps/pkgs/anaconda3/2019.03/intel64/lib/python3.7/site-packages/dask/config.py:168: YAMLLoadWarning: calling yaml.load() without Loader=... is deprecated, as the default Loader is unsafe. Please read https://msg.pyyaml.org/load for full details.\n",
      "  data = yaml.load(f.read()) or {}\n"
     ]
    }
   ],
   "source": [
    "import json\n",
    "import numpy as np\n",
    "import pandas as pd\n",
    "from tqdm import tqdm\n",
    "import matplotlib.pyplot as plt\n",
    "import seaborn as sns\n",
    "from gzbuilder_analysis import parsing, rendering, fitting\n",
    "import lib.galaxy_utilities as gu\n",
    "import scrapbook as sb"
   ]
  },
  {
   "cell_type": "code",
   "execution_count": 3,
   "metadata": {
    "collapsed": false,
    "inputHidden": false,
    "outputHidden": false,
    "papermill": {
     "duration": 0.046036,
     "end_time": "2019-09-02T10:21:14.877309",
     "exception": false,
     "start_time": "2019-09-02T10:21:14.831273",
     "status": "completed"
    },
    "tags": [
     "parameters"
    ]
   },
   "outputs": [],
   "source": [
    "subject_id = 20902040"
   ]
  },
  {
   "cell_type": "code",
   "execution_count": 4,
   "metadata": {
    "papermill": {
     "duration": 0.191967,
     "end_time": "2019-09-02T10:21:15.079823",
     "exception": false,
     "start_time": "2019-09-02T10:21:14.887856",
     "status": "completed"
    },
    "tags": [
     "injected-parameters"
    ]
   },
   "outputs": [],
   "source": [
    "# Parameters\n",
    "subject_id = 21686547\n"
   ]
  },
  {
   "cell_type": "code",
   "execution_count": 5,
   "metadata": {
    "collapsed": false,
    "inputHidden": false,
    "outputHidden": false,
    "papermill": {
     "duration": 0.146014,
     "end_time": "2019-09-02T10:21:15.234349",
     "exception": false,
     "start_time": "2019-09-02T10:21:15.088335",
     "status": "completed"
    },
    "tags": []
   },
   "outputs": [],
   "source": [
    "diff_data_df = pd.read_pickle('lib/fitting_metadata.pkl')"
   ]
  },
  {
   "cell_type": "code",
   "execution_count": 6,
   "metadata": {
    "collapsed": false,
    "inputHidden": false,
    "outputHidden": false,
    "papermill": {
     "duration": 0.050665,
     "end_time": "2019-09-02T10:21:15.293645",
     "exception": false,
     "start_time": "2019-09-02T10:21:15.242980",
     "status": "completed"
    },
    "tags": []
   },
   "outputs": [],
   "source": [
    "def get_losses_by_user(subject_id):\n",
    "  diff_data = diff_data_df.loc[subject_id]\n",
    "  psf = diff_data['psf']\n",
    "  pixel_mask = np.array(diff_data['pixel_mask'])[::-1]\n",
    "  galaxy_data = np.array(diff_data['galaxy_data'])[::-1]\n",
    "  image_size = galaxy_data.shape[0]\n",
    "  size_diff = diff_data['size_diff']\n",
    "  \n",
    "  cls = gu.classifications.query('subject_ids == {}'.format(subject_id))\n",
    "  names = cls.user_name \n",
    "  annotations = cls['annotations'].apply(json.loads)\n",
    "\n",
    "  models = annotations.apply(\n",
    "    parsing.parse_annotation,\n",
    "    size_diff=size_diff\n",
    "  )\n",
    "\n",
    "  tqdm.pandas(\n",
    "    desc='Rendering models'.format(subject_id),\n",
    "    leave=False\n",
    "  )\n",
    "  rendered = models.progress_apply(\n",
    "    rendering.calculate_model,\n",
    "    image_size=image_size,\n",
    "    psf=psf\n",
    "  ).rename('rendered')\n",
    "\n",
    "  tqdm.pandas(\n",
    "    desc='Calculating differences'.format(subject_id),\n",
    "    leave=False\n",
    "  )\n",
    "  losses = rendered.apply(\n",
    "    fitting.loss,\n",
    "    args=(galaxy_data, pixel_mask)\n",
    "  ).rename('loss')\n",
    "  all_losses = pd.Series(\n",
    "    losses.values,\n",
    "    index=names.values\n",
    "  ).rename(subject_id)\n",
    "  best_losses = pd.concat((\n",
    "    all_losses.where(\n",
    "      ~all_losses.duplicated(keep=False)\n",
    "    ).dropna(), # all non-duplicates\n",
    "    all_losses.where(\n",
    "      all_losses.duplicated(keep=False)\n",
    "    ).dropna().groupby(level=0).min() # best value of duplicates\n",
    "  ), axis=0)\n",
    "  return best_losses"
   ]
  },
  {
   "cell_type": "code",
   "execution_count": 7,
   "metadata": {
    "collapsed": false,
    "inputHidden": false,
    "outputHidden": false,
    "papermill": {
     "duration": 19.617906,
     "end_time": "2019-09-02T10:21:34.918857",
     "exception": false,
     "start_time": "2019-09-02T10:21:15.300951",
     "status": "completed"
    },
    "tags": []
   },
   "outputs": [
    {
     "name": "stderr",
     "output_type": "stream",
     "text": [
      "\r",
      "Rendering models:   0%|          | 0/30 [00:00<?, ?it/s]"
     ]
    },
    {
     "name": "stderr",
     "output_type": "stream",
     "text": [
      "\r",
      "Rendering models:   7%|▋         | 2/30 [00:04<01:09,  2.48s/it]"
     ]
    },
    {
     "name": "stderr",
     "output_type": "stream",
     "text": [
      "\r",
      "Rendering models:  10%|█         | 3/30 [00:06<01:02,  2.33s/it]"
     ]
    },
    {
     "name": "stderr",
     "output_type": "stream",
     "text": [
      "\r",
      "Rendering models:  13%|█▎        | 4/30 [00:07<00:45,  1.77s/it]"
     ]
    },
    {
     "name": "stderr",
     "output_type": "stream",
     "text": [
      "\r",
      "Rendering models:  17%|█▋        | 5/30 [00:07<00:34,  1.38s/it]"
     ]
    },
    {
     "name": "stderr",
     "output_type": "stream",
     "text": [
      "\r",
      "Rendering models:  20%|██        | 6/30 [00:08<00:27,  1.13s/it]"
     ]
    },
    {
     "name": "stderr",
     "output_type": "stream",
     "text": [
      "\r",
      "Rendering models:  23%|██▎       | 7/30 [00:08<00:21,  1.09it/s]"
     ]
    },
    {
     "name": "stderr",
     "output_type": "stream",
     "text": [
      "\r",
      "Rendering models:  27%|██▋       | 8/30 [00:09<00:16,  1.32it/s]"
     ]
    },
    {
     "name": "stderr",
     "output_type": "stream",
     "text": [
      "\r",
      "Rendering models:  30%|███       | 9/30 [00:09<00:12,  1.68it/s]"
     ]
    },
    {
     "name": "stderr",
     "output_type": "stream",
     "text": [
      "\r",
      "Rendering models:  37%|███▋      | 11/30 [00:09<00:09,  2.09it/s]"
     ]
    },
    {
     "name": "stderr",
     "output_type": "stream",
     "text": [
      "\r",
      "Rendering models:  40%|████      | 12/30 [00:10<00:07,  2.50it/s]"
     ]
    },
    {
     "name": "stderr",
     "output_type": "stream",
     "text": [
      "\r",
      "Rendering models:  43%|████▎     | 13/30 [00:10<00:07,  2.21it/s]"
     ]
    },
    {
     "name": "stderr",
     "output_type": "stream",
     "text": [
      "\r",
      "Rendering models:  50%|█████     | 15/30 [00:11<00:05,  2.58it/s]"
     ]
    },
    {
     "name": "stderr",
     "output_type": "stream",
     "text": [
      "\r",
      "Rendering models:  53%|█████▎    | 16/30 [00:11<00:06,  2.17it/s]"
     ]
    },
    {
     "name": "stderr",
     "output_type": "stream",
     "text": [
      "\r",
      "Rendering models:  57%|█████▋    | 17/30 [00:12<00:06,  2.00it/s]"
     ]
    },
    {
     "name": "stderr",
     "output_type": "stream",
     "text": [
      "\r",
      "Rendering models:  60%|██████    | 18/30 [00:12<00:05,  2.04it/s]"
     ]
    },
    {
     "name": "stderr",
     "output_type": "stream",
     "text": [
      "\r",
      "Rendering models:  63%|██████▎   | 19/30 [00:13<00:05,  2.14it/s]"
     ]
    },
    {
     "name": "stderr",
     "output_type": "stream",
     "text": [
      "\r",
      "Rendering models:  67%|██████▋   | 20/30 [00:13<00:04,  2.29it/s]"
     ]
    },
    {
     "name": "stderr",
     "output_type": "stream",
     "text": [
      "\r",
      "Rendering models:  70%|███████   | 21/30 [00:13<00:03,  2.40it/s]"
     ]
    },
    {
     "name": "stderr",
     "output_type": "stream",
     "text": [
      "\r",
      "Rendering models:  73%|███████▎  | 22/30 [00:14<00:03,  2.49it/s]"
     ]
    },
    {
     "name": "stderr",
     "output_type": "stream",
     "text": [
      "\r",
      "Rendering models:  77%|███████▋  | 23/30 [00:15<00:03,  1.82it/s]"
     ]
    },
    {
     "name": "stderr",
     "output_type": "stream",
     "text": [
      "\r",
      "Rendering models:  80%|████████  | 24/30 [00:15<00:03,  1.98it/s]"
     ]
    },
    {
     "name": "stderr",
     "output_type": "stream",
     "text": [
      "\r",
      "Rendering models:  83%|████████▎ | 25/30 [00:16<00:03,  1.63it/s]"
     ]
    },
    {
     "name": "stderr",
     "output_type": "stream",
     "text": [
      "\r",
      "Rendering models:  87%|████████▋ | 26/30 [00:16<00:01,  2.06it/s]"
     ]
    },
    {
     "name": "stderr",
     "output_type": "stream",
     "text": [
      "\r",
      "Rendering models:  90%|█████████ | 27/30 [00:16<00:01,  2.51it/s]"
     ]
    },
    {
     "name": "stderr",
     "output_type": "stream",
     "text": [
      "\r",
      "Rendering models:  93%|█████████▎| 28/30 [00:17<00:01,  2.00it/s]"
     ]
    },
    {
     "name": "stderr",
     "output_type": "stream",
     "text": [
      "\r",
      "Rendering models:  97%|█████████▋| 29/30 [00:18<00:00,  1.63it/s]"
     ]
    },
    {
     "name": "stderr",
     "output_type": "stream",
     "text": [
      "\r",
      "Rendering models: 100%|██████████| 30/30 [00:18<00:00,  1.78it/s]"
     ]
    },
    {
     "name": "stderr",
     "output_type": "stream",
     "text": [
      "\r",
      "                                                                 "
     ]
    },
    {
     "name": "stderr",
     "output_type": "stream",
     "text": [
      "\r"
     ]
    },
    {
     "data": {
      "text/plain": [
       "AlexMercer                            0.000609\n",
       "not-logged-in-a9247261537fa1da33fe    0.380777\n",
       "shirogane                             0.000218\n",
       "jamescross20                          0.000370\n",
       "not-logged-in-f7e2260ed4a9517a3e4a    0.000256\n",
       "kjkavene                              0.000287\n",
       "rnevils                               0.000304\n",
       "jmfranci                              0.001941\n",
       "mbaker23                              0.000595\n",
       "not-logged-in-ef704c739eb8412f355e    0.003155\n",
       "sn346808                              0.023350\n",
       "Rmarks1701                            0.000389\n",
       "ToriPizza                             0.003027\n",
       "LeeJoseph                             0.006869\n",
       "KrisKeogh                             0.010669\n",
       "Sylverone                             0.000546\n",
       "not-logged-in-120167733761deee9007    0.000267\n",
       "ayluminati                            0.000865\n",
       "ovincent                              0.000348\n",
       "Carlos5                               0.007423\n",
       "ControlledChaos                       0.000423\n",
       "CromarFutureGroup                     0.028959\n",
       "ELight                                0.613619\n",
       "SilliconStar                          0.002032\n",
       "ElisabethB                            0.000298\n",
       "Dargaan                               0.002365\n",
       "not-logged-in-069bc1021db9c2bbe0ad    0.002212\n",
       "Cosmic_Jerk                           0.064894\n",
       "ncaro                                 0.002245\n",
       "sn345012                              0.002245\n",
       "Name: 21686547, dtype: float64"
      ]
     },
     "execution_count": 7,
     "metadata": {},
     "output_type": "execute_result"
    }
   ],
   "source": [
    "losses = get_losses_by_user(subject_id)\n",
    "losses"
   ]
  },
  {
   "cell_type": "code",
   "execution_count": 8,
   "metadata": {
    "collapsed": false,
    "inputHidden": false,
    "outputHidden": false,
    "papermill": {
     "duration": 0.053465,
     "end_time": "2019-09-02T10:21:34.986689",
     "exception": false,
     "start_time": "2019-09-02T10:21:34.933224",
     "status": "completed"
    },
    "tags": []
   },
   "outputs": [
    {
     "data": {
      "application/scrapbook.scrap.json+json": {
       "data": 21686547,
       "encoder": "json",
       "name": "subject_id",
       "version": 1
      }
     },
     "metadata": {
      "scrapbook": {
       "data": true,
       "display": false,
       "name": "subject_id"
      }
     },
     "output_type": "display_data"
    },
    {
     "data": {
      "application/scrapbook.scrap.json+json": {
       "data": {
        "AlexMercer": 0.0006086025533901338,
        "Carlos5": 0.007423493931844547,
        "ControlledChaos": 0.0004234221237628683,
        "Cosmic_Jerk": 0.06489396097392444,
        "CromarFutureGroup": 0.02895855709186248,
        "Dargaan": 0.0023652948654145113,
        "ELight": 0.6136185498940248,
        "ElisabethB": 0.0002981878401628165,
        "KrisKeogh": 0.010669225341386113,
        "LeeJoseph": 0.006869376216668207,
        "Rmarks1701": 0.0003885309951390659,
        "SilliconStar": 0.002032020714393345,
        "Sylverone": 0.0005462954793927674,
        "ToriPizza": 0.003027366639002711,
        "ayluminati": 0.0008646888334620055,
        "jamescross20": 0.00036986716178837335,
        "jmfranci": 0.0019408107145917769,
        "kjkavene": 0.0002871988489039637,
        "mbaker23": 0.0005947994931894394,
        "ncaro": 0.0022452113837123254,
        "not-logged-in-069bc1021db9c2bbe0ad": 0.0022118296640527783,
        "not-logged-in-120167733761deee9007": 0.00026653035337428384,
        "not-logged-in-a9247261537fa1da33fe": 0.380777455543003,
        "not-logged-in-ef704c739eb8412f355e": 0.0031547495144229293,
        "not-logged-in-f7e2260ed4a9517a3e4a": 0.0002557315596664548,
        "ovincent": 0.00034837321334874223,
        "rnevils": 0.0003037543511740877,
        "shirogane": 0.00021763868586989235,
        "sn345012": 0.0022452113837123254,
        "sn346808": 0.023349741536697503
       },
       "encoder": "json",
       "name": "losses",
       "version": 1
      }
     },
     "metadata": {
      "scrapbook": {
       "data": true,
       "display": false,
       "name": "losses"
      }
     },
     "output_type": "display_data"
    }
   ],
   "source": [
    "sb.glue('subject_id', subject_id)\n",
    "sb.glue('losses', losses.to_dict())"
   ]
  }
 ],
 "metadata": {
  "kernel_info": {
   "name": "python3"
  },
  "kernelspec": {
   "display_name": "Python 3",
   "language": "python",
   "name": "python3"
  },
  "language_info": {
   "codemirror_mode": {
    "name": "ipython",
    "version": 3
   },
   "file_extension": ".py",
   "mimetype": "text/x-python",
   "name": "python",
   "nbconvert_exporter": "python",
   "pygments_lexer": "ipython3",
   "version": "3.7.3"
  },
  "nteract": {
   "version": "0.14.3"
  },
  "papermill": {
   "duration": 26.820577,
   "end_time": "2019-09-02T10:21:35.968490",
   "environment_variables": {},
   "exception": null,
   "input_path": "/users/tingard/gzbuilder_results/input_files/volunteer_losses.ipynb",
   "output_path": "/users/tingard/gzbuilder_results/output_files/volunteer_losses/21686547.ipynb",
   "parameters": {
    "subject_id": 21686547
   },
   "start_time": "2019-09-02T10:21:09.147913",
   "version": "1.0.1"
  }
 },
 "nbformat": 4,
 "nbformat_minor": 0
}