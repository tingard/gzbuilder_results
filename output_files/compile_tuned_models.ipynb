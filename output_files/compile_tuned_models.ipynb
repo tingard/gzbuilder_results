{
 "cells": [
  {
   "cell_type": "markdown",
   "metadata": {
    "papermill": {
     "duration": 0.013334,
     "end_time": "2019-08-22T09:50:33.249456",
     "exception": false,
     "start_time": "2019-08-22T09:50:33.236122",
     "status": "completed"
    },
    "tags": []
   },
   "source": [
    "# Compile Tuned models\n",
    "\n",
    "We grab the tuned models (performed using the Levenberg Marquadt algorithm on the Sciama HPC)."
   ]
  },
  {
   "cell_type": "code",
   "execution_count": 1,
   "metadata": {
    "collapsed": false,
    "inputHidden": false,
    "outputHidden": false,
    "papermill": {
     "duration": 0.041347,
     "end_time": "2019-08-22T09:50:33.303055",
     "exception": false,
     "start_time": "2019-08-22T09:50:33.261708",
     "status": "completed"
    },
    "tags": []
   },
   "outputs": [],
   "source": [
    "%load_ext autoreload\n",
    "%autoreload 2"
   ]
  },
  {
   "cell_type": "code",
   "execution_count": 2,
   "metadata": {
    "collapsed": false,
    "inputHidden": false,
    "outputHidden": false,
    "papermill": {
     "duration": 5.187811,
     "end_time": "2019-08-22T09:50:38.502701",
     "exception": false,
     "start_time": "2019-08-22T09:50:33.314890",
     "status": "completed"
    },
    "tags": []
   },
   "outputs": [],
   "source": [
    "import os\n",
    "import re\n",
    "import json\n",
    "import numpy as np\n",
    "import scipy.stats as st\n",
    "import pandas as pd\n",
    "import matplotlib.pyplot as plt\n",
    "import seaborn as sns\n",
    "from tqdm import tqdm\n",
    "from gzbuilder_analysis.parsing import unmake_json\n",
    "from gzbuilder_analysis.fitting import Model, loss\n",
    "import lib.galaxy_utilities as gu"
   ]
  },
  {
   "cell_type": "code",
   "execution_count": 3,
   "metadata": {
    "collapsed": false,
    "inputHidden": false,
    "outputHidden": false,
    "papermill": {
     "duration": 0.047414,
     "end_time": "2019-08-22T09:50:38.562908",
     "exception": false,
     "start_time": "2019-08-22T09:50:38.515494",
     "status": "completed"
    },
    "tags": []
   },
   "outputs": [],
   "source": [
    "def make_model(subject_id, m):\n",
    "    psf = gu.get_psf(subject_id)\n",
    "    diff_data = gu.get_diff_data(subject_id)\n",
    "    pixel_mask = 1 - np.array(diff_data['mask'])[::-1]\n",
    "    galaxy_data = np.array(diff_data['imageData'])[::-1]\n",
    "    return Model(m, galaxy_data, psf=psf, pixel_mask=pixel_mask)"
   ]
  },
  {
   "cell_type": "code",
   "execution_count": 4,
   "metadata": {
    "collapsed": false,
    "inputHidden": false,
    "outputHidden": false,
    "papermill": {
     "duration": 0.039556,
     "end_time": "2019-08-22T09:50:38.614500",
     "exception": false,
     "start_time": "2019-08-22T09:50:38.574944",
     "status": "completed"
    },
    "tags": [
     "parameters"
    ]
   },
   "outputs": [],
   "source": [
    "AGG_MODEL_PATH = 'output_files/tuned_models/agg'\n",
    "BI_MODEL_PATH = 'output_files/tuned_models/bi'"
   ]
  },
  {
   "cell_type": "code",
   "execution_count": 5,
   "metadata": {
    "papermill": {
     "duration": 0.03716,
     "end_time": "2019-08-22T09:50:38.663727",
     "exception": false,
     "start_time": "2019-08-22T09:50:38.626567",
     "status": "completed"
    },
    "tags": [
     "injected-parameters"
    ]
   },
   "outputs": [],
   "source": [
    "# Parameters\n",
    "AGG_MODEL_PATH = \"/users/tingard/gzbuilder_results/output_files/tuned_models/agg\"\n",
    "BI_MODEL_PATH = \"/users/tingard/gzbuilder_results/output_files/tuned_models/bi\"\n"
   ]
  },
  {
   "cell_type": "code",
   "execution_count": 6,
   "metadata": {
    "collapsed": false,
    "inputHidden": false,
    "outputHidden": false,
    "papermill": {
     "duration": 0.050998,
     "end_time": "2019-08-22T09:50:38.727686",
     "exception": false,
     "start_time": "2019-08-22T09:50:38.676688",
     "status": "completed"
    },
    "tags": []
   },
   "outputs": [],
   "source": [
    "available_agg_models = [\n",
    "  i for i in os.listdir(AGG_MODEL_PATH)\n",
    "  if re.match(r'[0-9]+\\.json', i)\n",
    "]\n",
    "available_bi_models = [\n",
    "  i for i in os.listdir(BI_MODEL_PATH)\n",
    "  if re.match(r'[0-9]+\\.json', i)\n",
    "]"
   ]
  },
  {
   "cell_type": "code",
   "execution_count": 7,
   "metadata": {
    "collapsed": false,
    "inputHidden": false,
    "outputHidden": false,
    "papermill": {
     "duration": 176.093534,
     "end_time": "2019-08-22T09:53:34.833294",
     "exception": false,
     "start_time": "2019-08-22T09:50:38.739760",
     "status": "completed"
    },
    "tags": []
   },
   "outputs": [
    {
     "name": "stderr",
     "output_type": "stream",
     "text": [
      "\r",
      "Aggregate:   0%|          | 0/276 [00:00<?, ?it/s]"
     ]
    },
    {
     "name": "stderr",
     "output_type": "stream",
     "text": [
      "\r",
      "Aggregate:   0%|          | 1/276 [00:01<08:39,  1.89s/it]"
     ]
    },
    {
     "name": "stderr",
     "output_type": "stream",
     "text": [
      "\r",
      "Aggregate:   1%|          | 2/276 [00:05<10:34,  2.32s/it]"
     ]
    },
    {
     "name": "stderr",
     "output_type": "stream",
     "text": [
      "\r",
      "Aggregate:   1%|          | 3/276 [00:05<07:49,  1.72s/it]"
     ]
    },
    {
     "name": "stderr",
     "output_type": "stream",
     "text": [
      "\r",
      "Aggregate:   1%|▏         | 4/276 [00:05<06:02,  1.33s/it]"
     ]
    },
    {
     "name": "stderr",
     "output_type": "stream",
     "text": [
      "\r",
      "Aggregate:   2%|▏         | 5/276 [00:07<06:03,  1.34s/it]"
     ]
    },
    {
     "name": "stderr",
     "output_type": "stream",
     "text": [
      "\r",
      "Aggregate:   2%|▏         | 6/276 [00:07<04:52,  1.08s/it]"
     ]
    },
    {
     "name": "stderr",
     "output_type": "stream",
     "text": [
      "\r",
      "Aggregate:   3%|▎         | 7/276 [00:11<07:50,  1.75s/it]"
     ]
    },
    {
     "name": "stderr",
     "output_type": "stream",
     "text": [
      "\r",
      "Aggregate:   3%|▎         | 8/276 [00:11<06:00,  1.34s/it]"
     ]
    },
    {
     "name": "stderr",
     "output_type": "stream",
     "text": [
      "\r",
      "Aggregate:   3%|▎         | 9/276 [00:11<04:45,  1.07s/it]"
     ]
    },
    {
     "name": "stderr",
     "output_type": "stream",
     "text": [
      "\r",
      "Aggregate:   4%|▍         | 11/276 [00:13<04:08,  1.07it/s]"
     ]
    },
    {
     "name": "stderr",
     "output_type": "stream",
     "text": [
      "\r",
      "Aggregate:   4%|▍         | 12/276 [00:13<03:18,  1.33it/s]"
     ]
    },
    {
     "name": "stderr",
     "output_type": "stream",
     "text": [
      "\r",
      "Aggregate:   5%|▍         | 13/276 [00:13<02:31,  1.74it/s]"
     ]
    },
    {
     "name": "stderr",
     "output_type": "stream",
     "text": [
      "\r",
      "Aggregate:   5%|▌         | 14/276 [00:13<01:55,  2.27it/s]"
     ]
    },
    {
     "name": "stderr",
     "output_type": "stream",
     "text": [
      "\r",
      "Aggregate:   5%|▌         | 15/276 [00:14<01:49,  2.38it/s]"
     ]
    },
    {
     "name": "stderr",
     "output_type": "stream",
     "text": [
      "\r",
      "Aggregate:   6%|▌         | 16/276 [00:15<02:55,  1.48it/s]"
     ]
    },
    {
     "name": "stderr",
     "output_type": "stream",
     "text": [
      "\r",
      "Aggregate:   6%|▌         | 17/276 [00:15<02:17,  1.88it/s]"
     ]
    },
    {
     "name": "stderr",
     "output_type": "stream",
     "text": [
      "\r",
      "Aggregate:   7%|▋         | 18/276 [00:16<02:41,  1.60it/s]"
     ]
    },
    {
     "name": "stderr",
     "output_type": "stream",
     "text": [
      "\r",
      "Aggregate:   7%|▋         | 20/276 [00:16<02:04,  2.06it/s]"
     ]
    },
    {
     "name": "stderr",
     "output_type": "stream",
     "text": [
      "\r",
      "Aggregate:   8%|▊         | 21/276 [00:17<02:15,  1.88it/s]"
     ]
    },
    {
     "name": "stderr",
     "output_type": "stream",
     "text": [
      "\r",
      "Aggregate:   8%|▊         | 22/276 [00:18<02:33,  1.65it/s]"
     ]
    },
    {
     "name": "stderr",
     "output_type": "stream",
     "text": [
      "\r",
      "Aggregate:   8%|▊         | 23/276 [00:18<02:23,  1.76it/s]"
     ]
    },
    {
     "name": "stderr",
     "output_type": "stream",
     "text": [
      "\r",
      "Aggregate:   9%|▊         | 24/276 [00:18<01:57,  2.14it/s]"
     ]
    },
    {
     "name": "stderr",
     "output_type": "stream",
     "text": [
      "\r",
      "Aggregate:   9%|▉         | 25/276 [00:19<02:01,  2.07it/s]"
     ]
    },
    {
     "name": "stderr",
     "output_type": "stream",
     "text": [
      "\r",
      "Aggregate:   9%|▉         | 26/276 [00:20<02:19,  1.80it/s]"
     ]
    },
    {
     "name": "stderr",
     "output_type": "stream",
     "text": [
      "\r",
      "Aggregate:  10%|▉         | 27/276 [00:20<02:35,  1.60it/s]"
     ]
    },
    {
     "name": "stderr",
     "output_type": "stream",
     "text": [
      "\r",
      "Aggregate:  10%|█         | 28/276 [00:21<02:34,  1.61it/s]"
     ]
    },
    {
     "name": "stderr",
     "output_type": "stream",
     "text": [
      "\r",
      "Aggregate:  11%|█         | 29/276 [00:21<02:17,  1.80it/s]"
     ]
    },
    {
     "name": "stderr",
     "output_type": "stream",
     "text": [
      "\r",
      "Aggregate:  11%|█         | 30/276 [00:22<01:52,  2.19it/s]"
     ]
    },
    {
     "name": "stderr",
     "output_type": "stream",
     "text": [
      "\r",
      "Aggregate:  11%|█         | 31/276 [00:23<02:27,  1.66it/s]"
     ]
    },
    {
     "name": "stderr",
     "output_type": "stream",
     "text": [
      "\r",
      "Aggregate:  12%|█▏        | 32/276 [00:23<02:11,  1.86it/s]"
     ]
    },
    {
     "name": "stderr",
     "output_type": "stream",
     "text": [
      "\r",
      "Aggregate:  12%|█▏        | 33/276 [00:24<02:25,  1.67it/s]"
     ]
    },
    {
     "name": "stderr",
     "output_type": "stream",
     "text": [
      "\r",
      "Aggregate:  12%|█▏        | 34/276 [00:24<02:03,  1.95it/s]"
     ]
    },
    {
     "name": "stderr",
     "output_type": "stream",
     "text": [
      "\r",
      "Aggregate:  13%|█▎        | 35/276 [00:25<02:08,  1.88it/s]"
     ]
    },
    {
     "name": "stderr",
     "output_type": "stream",
     "text": [
      "\r",
      "Aggregate:  13%|█▎        | 36/276 [00:26<02:57,  1.35it/s]"
     ]
    },
    {
     "name": "stderr",
     "output_type": "stream",
     "text": [
      "\r",
      "Aggregate:  13%|█▎        | 37/276 [00:26<02:32,  1.57it/s]"
     ]
    },
    {
     "name": "stderr",
     "output_type": "stream",
     "text": [
      "\r",
      "Aggregate:  14%|█▍        | 38/276 [00:27<02:17,  1.73it/s]"
     ]
    },
    {
     "name": "stderr",
     "output_type": "stream",
     "text": [
      "\r",
      "Aggregate:  14%|█▍        | 39/276 [00:27<01:46,  2.23it/s]"
     ]
    },
    {
     "name": "stderr",
     "output_type": "stream",
     "text": [
      "\r",
      "Aggregate:  14%|█▍        | 40/276 [00:27<01:37,  2.43it/s]"
     ]
    },
    {
     "name": "stderr",
     "output_type": "stream",
     "text": [
      "\r",
      "Aggregate:  15%|█▍        | 41/276 [00:27<01:15,  3.11it/s]"
     ]
    },
    {
     "name": "stderr",
     "output_type": "stream",
     "text": [
      "\r",
      "Aggregate:  15%|█▌        | 42/276 [00:28<01:06,  3.53it/s]"
     ]
    },
    {
     "name": "stderr",
     "output_type": "stream",
     "text": [
      "\r",
      "Aggregate:  16%|█▌        | 43/276 [00:28<01:21,  2.85it/s]"
     ]
    },
    {
     "name": "stderr",
     "output_type": "stream",
     "text": [
      "\r",
      "Aggregate:  16%|█▌        | 44/276 [00:28<01:23,  2.76it/s]"
     ]
    },
    {
     "name": "stderr",
     "output_type": "stream",
     "text": [
      "\r",
      "Aggregate:  16%|█▋        | 45/276 [00:29<01:20,  2.88it/s]"
     ]
    },
    {
     "name": "stderr",
     "output_type": "stream",
     "text": [
      "\r",
      "Aggregate:  17%|█▋        | 46/276 [00:29<01:16,  3.00it/s]"
     ]
    },
    {
     "name": "stderr",
     "output_type": "stream",
     "text": [
      "\r",
      "Aggregate:  17%|█▋        | 47/276 [00:29<01:13,  3.11it/s]"
     ]
    },
    {
     "name": "stderr",
     "output_type": "stream",
     "text": [
      "\r",
      "Aggregate:  17%|█▋        | 48/276 [00:30<01:08,  3.31it/s]"
     ]
    },
    {
     "name": "stderr",
     "output_type": "stream",
     "text": [
      "\r",
      "Aggregate:  18%|█▊        | 49/276 [00:31<02:55,  1.29it/s]"
     ]
    },
    {
     "name": "stderr",
     "output_type": "stream",
     "text": [
      "\r",
      "Aggregate:  18%|█▊        | 50/276 [00:32<02:15,  1.66it/s]"
     ]
    },
    {
     "name": "stderr",
     "output_type": "stream",
     "text": [
      "\r",
      "Aggregate:  19%|█▉        | 52/276 [00:33<02:28,  1.51it/s]"
     ]
    },
    {
     "name": "stderr",
     "output_type": "stream",
     "text": [
      "\r",
      "Aggregate:  19%|█▉        | 53/276 [00:33<01:51,  1.99it/s]"
     ]
    },
    {
     "name": "stderr",
     "output_type": "stream",
     "text": [
      "\r",
      "Aggregate:  20%|█▉        | 54/276 [00:34<01:32,  2.39it/s]"
     ]
    },
    {
     "name": "stderr",
     "output_type": "stream",
     "text": [
      "\r",
      "Aggregate:  20%|█▉        | 55/276 [00:34<01:49,  2.03it/s]"
     ]
    },
    {
     "name": "stderr",
     "output_type": "stream",
     "text": [
      "\r",
      "Aggregate:  20%|██        | 56/276 [00:35<01:40,  2.19it/s]"
     ]
    },
    {
     "name": "stderr",
     "output_type": "stream",
     "text": [
      "\r",
      "Aggregate:  21%|██        | 57/276 [00:35<01:37,  2.24it/s]"
     ]
    },
    {
     "name": "stderr",
     "output_type": "stream",
     "text": [
      "\r",
      "Aggregate:  21%|██        | 58/276 [00:36<02:38,  1.38it/s]"
     ]
    },
    {
     "name": "stderr",
     "output_type": "stream",
     "text": [
      "\r",
      "Aggregate:  21%|██▏       | 59/276 [00:37<02:05,  1.72it/s]"
     ]
    },
    {
     "name": "stderr",
     "output_type": "stream",
     "text": [
      "\r",
      "Aggregate:  22%|██▏       | 60/276 [00:37<01:36,  2.24it/s]"
     ]
    },
    {
     "name": "stderr",
     "output_type": "stream",
     "text": [
      "\r",
      "Aggregate:  22%|██▏       | 61/276 [00:37<01:50,  1.94it/s]"
     ]
    },
    {
     "name": "stderr",
     "output_type": "stream",
     "text": [
      "\r",
      "Aggregate:  22%|██▏       | 62/276 [00:38<01:28,  2.41it/s]"
     ]
    },
    {
     "name": "stderr",
     "output_type": "stream",
     "text": [
      "\r",
      "Aggregate:  23%|██▎       | 63/276 [00:39<02:01,  1.75it/s]"
     ]
    },
    {
     "name": "stderr",
     "output_type": "stream",
     "text": [
      "\r",
      "Aggregate:  23%|██▎       | 64/276 [00:39<01:51,  1.90it/s]"
     ]
    },
    {
     "name": "stderr",
     "output_type": "stream",
     "text": [
      "\r",
      "Aggregate:  24%|██▎       | 65/276 [00:40<01:48,  1.94it/s]"
     ]
    },
    {
     "name": "stderr",
     "output_type": "stream",
     "text": [
      "\r",
      "Aggregate:  24%|██▍       | 66/276 [00:40<01:53,  1.85it/s]"
     ]
    },
    {
     "name": "stderr",
     "output_type": "stream",
     "text": [
      "\r",
      "Aggregate:  24%|██▍       | 67/276 [00:40<01:33,  2.23it/s]"
     ]
    },
    {
     "name": "stderr",
     "output_type": "stream",
     "text": [
      "\r",
      "Aggregate:  25%|██▍       | 68/276 [00:41<01:30,  2.31it/s]"
     ]
    },
    {
     "name": "stderr",
     "output_type": "stream",
     "text": [
      "\r",
      "Aggregate:  25%|██▌       | 69/276 [00:41<01:09,  2.99it/s]"
     ]
    },
    {
     "name": "stderr",
     "output_type": "stream",
     "text": [
      "\r",
      "Aggregate:  25%|██▌       | 70/276 [00:41<01:05,  3.14it/s]"
     ]
    },
    {
     "name": "stderr",
     "output_type": "stream",
     "text": [
      "\r",
      "Aggregate:  26%|██▌       | 71/276 [00:42<01:13,  2.80it/s]"
     ]
    },
    {
     "name": "stderr",
     "output_type": "stream",
     "text": [
      "\r",
      "Aggregate:  26%|██▌       | 72/276 [00:42<01:15,  2.69it/s]"
     ]
    },
    {
     "name": "stderr",
     "output_type": "stream",
     "text": [
      "\r",
      "Aggregate:  26%|██▋       | 73/276 [00:42<01:02,  3.27it/s]"
     ]
    },
    {
     "name": "stderr",
     "output_type": "stream",
     "text": [
      "\r",
      "Aggregate:  27%|██▋       | 74/276 [00:42<01:01,  3.29it/s]"
     ]
    },
    {
     "name": "stderr",
     "output_type": "stream",
     "text": [
      "\r",
      "Aggregate:  27%|██▋       | 75/276 [00:43<01:02,  3.20it/s]"
     ]
    },
    {
     "name": "stderr",
     "output_type": "stream",
     "text": [
      "\r",
      "Aggregate:  28%|██▊       | 76/276 [00:44<01:45,  1.90it/s]"
     ]
    },
    {
     "name": "stderr",
     "output_type": "stream",
     "text": [
      "\r",
      "Aggregate:  28%|██▊       | 77/276 [00:44<01:48,  1.84it/s]"
     ]
    },
    {
     "name": "stderr",
     "output_type": "stream",
     "text": [
      "\r",
      "Aggregate:  28%|██▊       | 78/276 [00:45<01:31,  2.17it/s]"
     ]
    },
    {
     "name": "stderr",
     "output_type": "stream",
     "text": [
      "\r",
      "Aggregate:  29%|██▊       | 79/276 [00:47<03:32,  1.08s/it]"
     ]
    },
    {
     "name": "stderr",
     "output_type": "stream",
     "text": [
      "\r",
      "Aggregate:  29%|██▉       | 80/276 [00:48<02:58,  1.10it/s]"
     ]
    },
    {
     "name": "stderr",
     "output_type": "stream",
     "text": [
      "\r",
      "Aggregate:  29%|██▉       | 81/276 [00:48<02:19,  1.40it/s]"
     ]
    },
    {
     "name": "stderr",
     "output_type": "stream",
     "text": [
      "\r",
      "Aggregate:  30%|███       | 83/276 [00:49<01:56,  1.66it/s]"
     ]
    },
    {
     "name": "stderr",
     "output_type": "stream",
     "text": [
      "\r",
      "Aggregate:  30%|███       | 84/276 [00:49<02:03,  1.55it/s]"
     ]
    },
    {
     "name": "stderr",
     "output_type": "stream",
     "text": [
      "\r",
      "Aggregate:  31%|███       | 85/276 [00:50<02:06,  1.51it/s]"
     ]
    },
    {
     "name": "stderr",
     "output_type": "stream",
     "text": [
      "\r",
      "Aggregate:  31%|███       | 86/276 [00:50<01:46,  1.78it/s]"
     ]
    },
    {
     "name": "stderr",
     "output_type": "stream",
     "text": [
      "\r",
      "Aggregate:  32%|███▏      | 87/276 [00:51<01:53,  1.67it/s]"
     ]
    },
    {
     "name": "stderr",
     "output_type": "stream",
     "text": [
      "\r",
      "Aggregate:  32%|███▏      | 88/276 [00:52<01:45,  1.78it/s]"
     ]
    },
    {
     "name": "stderr",
     "output_type": "stream",
     "text": [
      "\r",
      "Aggregate:  32%|███▏      | 89/276 [00:52<01:34,  1.99it/s]"
     ]
    },
    {
     "name": "stderr",
     "output_type": "stream",
     "text": [
      "\r",
      "Aggregate:  33%|███▎      | 90/276 [00:52<01:21,  2.29it/s]"
     ]
    },
    {
     "name": "stderr",
     "output_type": "stream",
     "text": [
      "\r",
      "Aggregate:  33%|███▎      | 91/276 [00:53<01:29,  2.06it/s]"
     ]
    },
    {
     "name": "stderr",
     "output_type": "stream",
     "text": [
      "\r",
      "Aggregate:  33%|███▎      | 92/276 [00:53<01:19,  2.31it/s]"
     ]
    },
    {
     "name": "stderr",
     "output_type": "stream",
     "text": [
      "\r",
      "Aggregate:  34%|███▎      | 93/276 [00:54<02:03,  1.48it/s]"
     ]
    },
    {
     "name": "stderr",
     "output_type": "stream",
     "text": [
      "\r",
      "Aggregate:  34%|███▍      | 94/276 [00:55<02:02,  1.48it/s]"
     ]
    },
    {
     "name": "stderr",
     "output_type": "stream",
     "text": [
      "\r",
      "Aggregate:  34%|███▍      | 95/276 [00:56<02:02,  1.48it/s]"
     ]
    },
    {
     "name": "stderr",
     "output_type": "stream",
     "text": [
      "\r",
      "Aggregate:  35%|███▍      | 96/276 [00:56<01:45,  1.70it/s]"
     ]
    },
    {
     "name": "stderr",
     "output_type": "stream",
     "text": [
      "\r",
      "Aggregate:  35%|███▌      | 97/276 [00:56<01:27,  2.05it/s]"
     ]
    },
    {
     "name": "stderr",
     "output_type": "stream",
     "text": [
      "\r",
      "Aggregate:  36%|███▌      | 98/276 [00:57<01:16,  2.33it/s]"
     ]
    },
    {
     "name": "stderr",
     "output_type": "stream",
     "text": [
      "\r",
      "Aggregate:  36%|███▌      | 99/276 [00:57<01:31,  1.94it/s]"
     ]
    },
    {
     "name": "stderr",
     "output_type": "stream",
     "text": [
      "\r",
      "Aggregate:  36%|███▌      | 100/276 [00:58<01:25,  2.06it/s]"
     ]
    },
    {
     "name": "stderr",
     "output_type": "stream",
     "text": [
      "\r",
      "Aggregate:  37%|███▋      | 101/276 [00:58<01:15,  2.33it/s]"
     ]
    },
    {
     "name": "stderr",
     "output_type": "stream",
     "text": [
      "\r",
      "Aggregate:  37%|███▋      | 102/276 [00:58<01:10,  2.47it/s]"
     ]
    },
    {
     "name": "stderr",
     "output_type": "stream",
     "text": [
      "\r",
      "Aggregate:  37%|███▋      | 103/276 [00:59<01:04,  2.66it/s]"
     ]
    },
    {
     "name": "stderr",
     "output_type": "stream",
     "text": [
      "\r",
      "Aggregate:  38%|███▊      | 104/276 [01:02<03:58,  1.38s/it]"
     ]
    },
    {
     "name": "stderr",
     "output_type": "stream",
     "text": [
      "\r",
      "Aggregate:  38%|███▊      | 105/276 [01:03<02:59,  1.05s/it]"
     ]
    },
    {
     "name": "stderr",
     "output_type": "stream",
     "text": [
      "\r",
      "Aggregate:  38%|███▊      | 106/276 [01:04<02:52,  1.01s/it]"
     ]
    },
    {
     "name": "stderr",
     "output_type": "stream",
     "text": [
      "\r",
      "Aggregate:  39%|███▉      | 107/276 [01:05<03:03,  1.08s/it]"
     ]
    },
    {
     "name": "stderr",
     "output_type": "stream",
     "text": [
      "\r",
      "Aggregate:  39%|███▉      | 108/276 [01:05<02:22,  1.18it/s]"
     ]
    },
    {
     "name": "stderr",
     "output_type": "stream",
     "text": [
      "\r",
      "Aggregate:  39%|███▉      | 109/276 [01:05<01:46,  1.57it/s]"
     ]
    },
    {
     "name": "stderr",
     "output_type": "stream",
     "text": [
      "\r",
      "Aggregate:  40%|███▉      | 110/276 [01:07<02:31,  1.09it/s]"
     ]
    },
    {
     "name": "stderr",
     "output_type": "stream",
     "text": [
      "\r",
      "Aggregate:  40%|████      | 111/276 [01:08<02:32,  1.08it/s]"
     ]
    },
    {
     "name": "stderr",
     "output_type": "stream",
     "text": [
      "\r",
      "Aggregate:  41%|████      | 112/276 [01:08<02:10,  1.26it/s]"
     ]
    },
    {
     "name": "stderr",
     "output_type": "stream",
     "text": [
      "\r",
      "Aggregate:  41%|████      | 113/276 [01:10<02:31,  1.07it/s]"
     ]
    },
    {
     "name": "stderr",
     "output_type": "stream",
     "text": [
      "\r",
      "Aggregate:  41%|████▏     | 114/276 [01:11<03:00,  1.11s/it]"
     ]
    },
    {
     "name": "stderr",
     "output_type": "stream",
     "text": [
      "\r",
      "Aggregate:  42%|████▏     | 115/276 [01:11<02:15,  1.19it/s]"
     ]
    },
    {
     "name": "stderr",
     "output_type": "stream",
     "text": [
      "\r",
      "Aggregate:  42%|████▏     | 116/276 [01:12<01:55,  1.38it/s]"
     ]
    },
    {
     "name": "stderr",
     "output_type": "stream",
     "text": [
      "\r",
      "Aggregate:  42%|████▏     | 117/276 [01:14<03:16,  1.24s/it]"
     ]
    },
    {
     "name": "stderr",
     "output_type": "stream",
     "text": [
      "\r",
      "Aggregate:  43%|████▎     | 118/276 [01:15<03:13,  1.23s/it]"
     ]
    },
    {
     "name": "stderr",
     "output_type": "stream",
     "text": [
      "\r",
      "Aggregate:  43%|████▎     | 119/276 [01:16<02:27,  1.07it/s]"
     ]
    },
    {
     "name": "stderr",
     "output_type": "stream",
     "text": [
      "\r",
      "Aggregate:  43%|████▎     | 120/276 [01:16<02:02,  1.27it/s]"
     ]
    },
    {
     "name": "stderr",
     "output_type": "stream",
     "text": [
      "\r",
      "Aggregate:  44%|████▍     | 121/276 [01:17<01:49,  1.41it/s]"
     ]
    },
    {
     "name": "stderr",
     "output_type": "stream",
     "text": [
      "\r",
      "Aggregate:  44%|████▍     | 122/276 [01:17<01:22,  1.88it/s]"
     ]
    },
    {
     "name": "stderr",
     "output_type": "stream",
     "text": [
      "\r",
      "Aggregate:  45%|████▍     | 123/276 [01:17<01:15,  2.02it/s]"
     ]
    },
    {
     "name": "stderr",
     "output_type": "stream",
     "text": [
      "\r",
      "Aggregate:  45%|████▍     | 124/276 [01:18<01:14,  2.05it/s]"
     ]
    },
    {
     "name": "stderr",
     "output_type": "stream",
     "text": [
      "\r",
      "Aggregate:  45%|████▌     | 125/276 [01:18<01:11,  2.11it/s]"
     ]
    },
    {
     "name": "stderr",
     "output_type": "stream",
     "text": [
      "\r",
      "Aggregate:  46%|████▌     | 126/276 [01:18<00:58,  2.56it/s]"
     ]
    },
    {
     "name": "stderr",
     "output_type": "stream",
     "text": [
      "\r",
      "Aggregate:  46%|████▌     | 127/276 [01:19<00:59,  2.49it/s]"
     ]
    },
    {
     "name": "stderr",
     "output_type": "stream",
     "text": [
      "\r",
      "Aggregate:  46%|████▋     | 128/276 [01:20<01:27,  1.69it/s]"
     ]
    },
    {
     "name": "stderr",
     "output_type": "stream",
     "text": [
      "\r",
      "Aggregate:  47%|████▋     | 129/276 [01:20<01:13,  1.99it/s]"
     ]
    },
    {
     "name": "stderr",
     "output_type": "stream",
     "text": [
      "\r",
      "Aggregate:  47%|████▋     | 130/276 [01:21<01:29,  1.64it/s]"
     ]
    },
    {
     "name": "stderr",
     "output_type": "stream",
     "text": [
      "\r",
      "Aggregate:  47%|████▋     | 131/276 [01:21<01:21,  1.77it/s]"
     ]
    },
    {
     "name": "stderr",
     "output_type": "stream",
     "text": [
      "\r",
      "Aggregate:  48%|████▊     | 132/276 [01:22<01:10,  2.03it/s]"
     ]
    },
    {
     "name": "stderr",
     "output_type": "stream",
     "text": [
      "\r",
      "Aggregate:  48%|████▊     | 133/276 [01:22<01:04,  2.22it/s]"
     ]
    },
    {
     "name": "stderr",
     "output_type": "stream",
     "text": [
      "\r",
      "Aggregate:  49%|████▊     | 134/276 [01:23<01:14,  1.92it/s]"
     ]
    },
    {
     "name": "stderr",
     "output_type": "stream",
     "text": [
      "\r",
      "Aggregate:  49%|████▉     | 135/276 [01:23<01:05,  2.16it/s]"
     ]
    },
    {
     "name": "stderr",
     "output_type": "stream",
     "text": [
      "\r",
      "Aggregate:  49%|████▉     | 136/276 [01:24<01:34,  1.49it/s]"
     ]
    },
    {
     "name": "stderr",
     "output_type": "stream",
     "text": [
      "\r",
      "Aggregate:  50%|████▉     | 137/276 [01:25<01:38,  1.41it/s]"
     ]
    },
    {
     "name": "stderr",
     "output_type": "stream",
     "text": [
      "\r",
      "Aggregate:  50%|█████     | 138/276 [01:25<01:27,  1.57it/s]"
     ]
    },
    {
     "name": "stderr",
     "output_type": "stream",
     "text": [
      "\r",
      "Aggregate:  50%|█████     | 139/276 [01:27<01:46,  1.28it/s]"
     ]
    },
    {
     "name": "stderr",
     "output_type": "stream",
     "text": [
      "\r",
      "Aggregate:  51%|█████     | 140/276 [01:27<01:27,  1.55it/s]"
     ]
    },
    {
     "name": "stderr",
     "output_type": "stream",
     "text": [
      "\r",
      "Aggregate:  51%|█████     | 141/276 [01:28<01:57,  1.15it/s]"
     ]
    },
    {
     "name": "stderr",
     "output_type": "stream",
     "text": [
      "\r",
      "Aggregate:  51%|█████▏    | 142/276 [01:29<01:57,  1.14it/s]"
     ]
    },
    {
     "name": "stderr",
     "output_type": "stream",
     "text": [
      "\r",
      "Aggregate:  52%|█████▏    | 143/276 [01:30<01:59,  1.12it/s]"
     ]
    },
    {
     "name": "stderr",
     "output_type": "stream",
     "text": [
      "\r",
      "Aggregate:  52%|█████▏    | 144/276 [01:32<02:28,  1.12s/it]"
     ]
    },
    {
     "name": "stderr",
     "output_type": "stream",
     "text": [
      "\r",
      "Aggregate:  53%|█████▎    | 145/276 [01:34<03:23,  1.55s/it]"
     ]
    },
    {
     "name": "stderr",
     "output_type": "stream",
     "text": [
      "\r",
      "Aggregate:  53%|█████▎    | 147/276 [01:35<02:35,  1.21s/it]"
     ]
    },
    {
     "name": "stderr",
     "output_type": "stream",
     "text": [
      "\r",
      "Aggregate:  54%|█████▎    | 148/276 [01:36<02:10,  1.02s/it]"
     ]
    },
    {
     "name": "stderr",
     "output_type": "stream",
     "text": [
      "\r",
      "Aggregate:  54%|█████▍    | 149/276 [01:36<01:44,  1.21it/s]"
     ]
    },
    {
     "name": "stderr",
     "output_type": "stream",
     "text": [
      "\r",
      "Aggregate:  54%|█████▍    | 150/276 [01:36<01:26,  1.46it/s]"
     ]
    },
    {
     "name": "stderr",
     "output_type": "stream",
     "text": [
      "\r",
      "Aggregate:  55%|█████▍    | 151/276 [01:39<02:37,  1.26s/it]"
     ]
    },
    {
     "name": "stderr",
     "output_type": "stream",
     "text": [
      "\r",
      "Aggregate:  55%|█████▌    | 152/276 [01:40<02:15,  1.09s/it]"
     ]
    },
    {
     "name": "stderr",
     "output_type": "stream",
     "text": [
      "\r",
      "Aggregate:  55%|█████▌    | 153/276 [01:40<01:50,  1.11it/s]"
     ]
    },
    {
     "name": "stderr",
     "output_type": "stream",
     "text": [
      "\r",
      "Aggregate:  56%|█████▌    | 154/276 [01:41<01:40,  1.21it/s]"
     ]
    },
    {
     "name": "stderr",
     "output_type": "stream",
     "text": [
      "\r",
      "Aggregate:  56%|█████▌    | 155/276 [01:42<01:41,  1.19it/s]"
     ]
    },
    {
     "name": "stderr",
     "output_type": "stream",
     "text": [
      "\r",
      "Aggregate:  57%|█████▋    | 156/276 [01:43<01:38,  1.22it/s]"
     ]
    },
    {
     "name": "stderr",
     "output_type": "stream",
     "text": [
      "\r",
      "Aggregate:  57%|█████▋    | 157/276 [01:43<01:15,  1.58it/s]"
     ]
    },
    {
     "name": "stderr",
     "output_type": "stream",
     "text": [
      "\r",
      "Aggregate:  57%|█████▋    | 158/276 [01:44<01:23,  1.42it/s]"
     ]
    },
    {
     "name": "stderr",
     "output_type": "stream",
     "text": [
      "\r",
      "Aggregate:  58%|█████▊    | 159/276 [01:44<01:18,  1.49it/s]"
     ]
    },
    {
     "name": "stderr",
     "output_type": "stream",
     "text": [
      "\r",
      "Aggregate:  58%|█████▊    | 160/276 [01:45<01:08,  1.71it/s]"
     ]
    },
    {
     "name": "stderr",
     "output_type": "stream",
     "text": [
      "\r",
      "Aggregate:  58%|█████▊    | 161/276 [01:45<00:58,  1.96it/s]"
     ]
    },
    {
     "name": "stderr",
     "output_type": "stream",
     "text": [
      "\r",
      "Aggregate:  59%|█████▊    | 162/276 [01:45<00:48,  2.35it/s]"
     ]
    },
    {
     "name": "stderr",
     "output_type": "stream",
     "text": [
      "\r",
      "Aggregate:  59%|█████▉    | 163/276 [01:46<00:46,  2.41it/s]"
     ]
    },
    {
     "name": "stderr",
     "output_type": "stream",
     "text": [
      "\r",
      "Aggregate:  59%|█████▉    | 164/276 [01:46<00:48,  2.32it/s]"
     ]
    },
    {
     "name": "stderr",
     "output_type": "stream",
     "text": [
      "\r",
      "Aggregate:  60%|█████▉    | 165/276 [01:47<00:58,  1.91it/s]"
     ]
    },
    {
     "name": "stderr",
     "output_type": "stream",
     "text": [
      "\r",
      "Aggregate:  60%|██████    | 166/276 [01:47<00:48,  2.27it/s]"
     ]
    },
    {
     "name": "stderr",
     "output_type": "stream",
     "text": [
      "\r",
      "Aggregate:  61%|██████    | 167/276 [01:48<00:55,  1.97it/s]"
     ]
    },
    {
     "name": "stderr",
     "output_type": "stream",
     "text": [
      "\r",
      "Aggregate:  61%|██████    | 168/276 [01:48<00:44,  2.41it/s]"
     ]
    },
    {
     "name": "stderr",
     "output_type": "stream",
     "text": [
      "\r",
      "Aggregate:  61%|██████    | 169/276 [01:48<00:40,  2.62it/s]"
     ]
    },
    {
     "name": "stderr",
     "output_type": "stream",
     "text": [
      "\r",
      "Aggregate:  62%|██████▏   | 170/276 [01:48<00:32,  3.22it/s]"
     ]
    },
    {
     "name": "stderr",
     "output_type": "stream",
     "text": [
      "\r",
      "Aggregate:  62%|██████▏   | 171/276 [01:49<00:33,  3.10it/s]"
     ]
    },
    {
     "name": "stderr",
     "output_type": "stream",
     "text": [
      "\r",
      "Aggregate:  62%|██████▏   | 172/276 [01:49<00:27,  3.83it/s]"
     ]
    },
    {
     "name": "stderr",
     "output_type": "stream",
     "text": [
      "\r",
      "Aggregate:  63%|██████▎   | 173/276 [01:50<00:45,  2.27it/s]"
     ]
    },
    {
     "name": "stderr",
     "output_type": "stream",
     "text": [
      "\r",
      "Aggregate:  63%|██████▎   | 174/276 [01:50<00:52,  1.94it/s]"
     ]
    },
    {
     "name": "stderr",
     "output_type": "stream",
     "text": [
      "\r",
      "Aggregate:  63%|██████▎   | 175/276 [01:51<00:44,  2.26it/s]"
     ]
    },
    {
     "name": "stderr",
     "output_type": "stream",
     "text": [
      "\r",
      "Aggregate:  64%|██████▍   | 176/276 [01:51<00:53,  1.87it/s]"
     ]
    },
    {
     "name": "stderr",
     "output_type": "stream",
     "text": [
      "\r",
      "Aggregate:  64%|██████▍   | 177/276 [01:52<01:03,  1.57it/s]"
     ]
    },
    {
     "name": "stderr",
     "output_type": "stream",
     "text": [
      "\r",
      "Aggregate:  64%|██████▍   | 178/276 [01:52<00:47,  2.06it/s]"
     ]
    },
    {
     "name": "stderr",
     "output_type": "stream",
     "text": [
      "\r",
      "Aggregate:  65%|██████▍   | 179/276 [01:53<00:50,  1.93it/s]"
     ]
    },
    {
     "name": "stderr",
     "output_type": "stream",
     "text": [
      "\r",
      "Aggregate:  65%|██████▌   | 180/276 [01:53<00:40,  2.40it/s]"
     ]
    },
    {
     "name": "stderr",
     "output_type": "stream",
     "text": [
      "\r",
      "Aggregate:  66%|██████▌   | 181/276 [01:54<00:38,  2.45it/s]"
     ]
    },
    {
     "name": "stderr",
     "output_type": "stream",
     "text": [
      "\r",
      "Aggregate:  66%|██████▌   | 182/276 [01:54<00:31,  2.97it/s]"
     ]
    },
    {
     "name": "stderr",
     "output_type": "stream",
     "text": [
      "\r",
      "Aggregate:  66%|██████▋   | 183/276 [01:54<00:41,  2.25it/s]"
     ]
    },
    {
     "name": "stderr",
     "output_type": "stream",
     "text": [
      "\r",
      "Aggregate:  67%|██████▋   | 184/276 [01:55<00:38,  2.41it/s]"
     ]
    },
    {
     "name": "stderr",
     "output_type": "stream",
     "text": [
      "\r",
      "Aggregate:  67%|██████▋   | 185/276 [01:55<00:35,  2.53it/s]"
     ]
    },
    {
     "name": "stderr",
     "output_type": "stream",
     "text": [
      "\r",
      "Aggregate:  67%|██████▋   | 186/276 [01:55<00:28,  3.20it/s]"
     ]
    },
    {
     "name": "stderr",
     "output_type": "stream",
     "text": [
      "\r",
      "Aggregate:  68%|██████▊   | 187/276 [01:57<01:05,  1.37it/s]"
     ]
    },
    {
     "name": "stderr",
     "output_type": "stream",
     "text": [
      "\r",
      "Aggregate:  68%|██████▊   | 188/276 [01:58<01:17,  1.14it/s]"
     ]
    },
    {
     "name": "stderr",
     "output_type": "stream",
     "text": [
      "\r",
      "Aggregate:  68%|██████▊   | 189/276 [02:00<01:31,  1.06s/it]"
     ]
    },
    {
     "name": "stderr",
     "output_type": "stream",
     "text": [
      "\r",
      "Aggregate:  69%|██████▉   | 190/276 [02:01<01:31,  1.06s/it]"
     ]
    },
    {
     "name": "stderr",
     "output_type": "stream",
     "text": [
      "\r",
      "Aggregate:  69%|██████▉   | 191/276 [02:01<01:08,  1.25it/s]"
     ]
    },
    {
     "name": "stderr",
     "output_type": "stream",
     "text": [
      "\r",
      "Aggregate:  70%|██████▉   | 192/276 [02:01<01:01,  1.36it/s]"
     ]
    },
    {
     "name": "stderr",
     "output_type": "stream",
     "text": [
      "\r",
      "Aggregate:  70%|██████▉   | 193/276 [02:02<00:45,  1.82it/s]"
     ]
    },
    {
     "name": "stderr",
     "output_type": "stream",
     "text": [
      "\r",
      "Aggregate:  70%|███████   | 194/276 [02:04<01:20,  1.02it/s]"
     ]
    },
    {
     "name": "stderr",
     "output_type": "stream",
     "text": [
      "\r",
      "Aggregate:  71%|███████   | 195/276 [02:05<01:20,  1.01it/s]"
     ]
    },
    {
     "name": "stderr",
     "output_type": "stream",
     "text": [
      "\r",
      "Aggregate:  71%|███████   | 196/276 [02:05<01:05,  1.22it/s]"
     ]
    },
    {
     "name": "stderr",
     "output_type": "stream",
     "text": [
      "\r",
      "Aggregate:  71%|███████▏  | 197/276 [02:07<01:23,  1.06s/it]"
     ]
    },
    {
     "name": "stderr",
     "output_type": "stream",
     "text": [
      "\r",
      "Aggregate:  72%|███████▏  | 198/276 [02:07<01:17,  1.00it/s]"
     ]
    },
    {
     "name": "stderr",
     "output_type": "stream",
     "text": [
      "\r",
      "Aggregate:  72%|███████▏  | 199/276 [02:08<00:56,  1.36it/s]"
     ]
    },
    {
     "name": "stderr",
     "output_type": "stream",
     "text": [
      "\r",
      "Aggregate:  72%|███████▏  | 200/276 [02:08<00:44,  1.71it/s]"
     ]
    },
    {
     "name": "stderr",
     "output_type": "stream",
     "text": [
      "\r",
      "Aggregate:  73%|███████▎  | 201/276 [02:08<00:39,  1.91it/s]"
     ]
    },
    {
     "name": "stderr",
     "output_type": "stream",
     "text": [
      "\r",
      "Aggregate:  73%|███████▎  | 202/276 [02:09<00:40,  1.85it/s]"
     ]
    },
    {
     "name": "stderr",
     "output_type": "stream",
     "text": [
      "\r",
      "Aggregate:  74%|███████▎  | 203/276 [02:09<00:40,  1.79it/s]"
     ]
    },
    {
     "name": "stderr",
     "output_type": "stream",
     "text": [
      "\r",
      "Aggregate:  74%|███████▍  | 204/276 [02:10<00:36,  1.99it/s]"
     ]
    },
    {
     "name": "stderr",
     "output_type": "stream",
     "text": [
      "\r",
      "Aggregate:  74%|███████▍  | 205/276 [02:10<00:37,  1.92it/s]"
     ]
    },
    {
     "name": "stderr",
     "output_type": "stream",
     "text": [
      "\r",
      "Aggregate:  75%|███████▍  | 206/276 [02:11<00:38,  1.80it/s]"
     ]
    },
    {
     "name": "stderr",
     "output_type": "stream",
     "text": [
      "\r",
      "Aggregate:  75%|███████▌  | 207/276 [02:11<00:33,  2.05it/s]"
     ]
    },
    {
     "name": "stderr",
     "output_type": "stream",
     "text": [
      "\r",
      "Aggregate:  75%|███████▌  | 208/276 [02:13<01:04,  1.06it/s]"
     ]
    },
    {
     "name": "stderr",
     "output_type": "stream",
     "text": [
      "\r",
      "Aggregate:  76%|███████▌  | 209/276 [02:14<00:59,  1.13it/s]"
     ]
    },
    {
     "name": "stderr",
     "output_type": "stream",
     "text": [
      "\r",
      "Aggregate:  76%|███████▌  | 210/276 [02:15<01:08,  1.03s/it]"
     ]
    },
    {
     "name": "stderr",
     "output_type": "stream",
     "text": [
      "\r",
      "Aggregate:  76%|███████▋  | 211/276 [02:16<00:50,  1.29it/s]"
     ]
    },
    {
     "name": "stderr",
     "output_type": "stream",
     "text": [
      "\r",
      "Aggregate:  77%|███████▋  | 212/276 [02:16<00:37,  1.72it/s]"
     ]
    },
    {
     "name": "stderr",
     "output_type": "stream",
     "text": [
      "\r",
      "Aggregate:  77%|███████▋  | 213/276 [02:16<00:36,  1.74it/s]"
     ]
    },
    {
     "name": "stderr",
     "output_type": "stream",
     "text": [
      "\r",
      "Aggregate:  78%|███████▊  | 214/276 [02:17<00:36,  1.72it/s]"
     ]
    },
    {
     "name": "stderr",
     "output_type": "stream",
     "text": [
      "\r",
      "Aggregate:  78%|███████▊  | 215/276 [02:17<00:33,  1.80it/s]"
     ]
    },
    {
     "name": "stderr",
     "output_type": "stream",
     "text": [
      "\r",
      "Aggregate:  78%|███████▊  | 216/276 [02:19<00:59,  1.00it/s]"
     ]
    },
    {
     "name": "stderr",
     "output_type": "stream",
     "text": [
      "\r",
      "Aggregate:  79%|███████▊  | 217/276 [02:21<01:09,  1.17s/it]"
     ]
    },
    {
     "name": "stderr",
     "output_type": "stream",
     "text": [
      "\r",
      "Aggregate:  79%|███████▉  | 218/276 [02:21<00:52,  1.11it/s]"
     ]
    },
    {
     "name": "stderr",
     "output_type": "stream",
     "text": [
      "\r",
      "Aggregate:  79%|███████▉  | 219/276 [02:22<00:50,  1.12it/s]"
     ]
    },
    {
     "name": "stderr",
     "output_type": "stream",
     "text": [
      "\r",
      "Aggregate:  80%|███████▉  | 220/276 [02:23<00:54,  1.04it/s]"
     ]
    },
    {
     "name": "stderr",
     "output_type": "stream",
     "text": [
      "\r",
      "Aggregate:  80%|████████  | 221/276 [02:23<00:40,  1.34it/s]"
     ]
    },
    {
     "name": "stderr",
     "output_type": "stream",
     "text": [
      "\r",
      "Aggregate:  80%|████████  | 222/276 [02:25<00:46,  1.15it/s]"
     ]
    },
    {
     "name": "stderr",
     "output_type": "stream",
     "text": [
      "\r",
      "Aggregate:  81%|████████  | 223/276 [02:25<00:37,  1.43it/s]"
     ]
    },
    {
     "name": "stderr",
     "output_type": "stream",
     "text": [
      "\r",
      "Aggregate:  81%|████████  | 224/276 [02:25<00:31,  1.66it/s]"
     ]
    },
    {
     "name": "stderr",
     "output_type": "stream",
     "text": [
      "\r",
      "Aggregate:  82%|████████▏ | 225/276 [02:26<00:26,  1.92it/s]"
     ]
    },
    {
     "name": "stderr",
     "output_type": "stream",
     "text": [
      "\r",
      "Aggregate:  82%|████████▏ | 227/276 [02:26<00:21,  2.32it/s]"
     ]
    },
    {
     "name": "stderr",
     "output_type": "stream",
     "text": [
      "\r",
      "Aggregate:  83%|████████▎ | 228/276 [02:27<00:21,  2.26it/s]"
     ]
    },
    {
     "name": "stderr",
     "output_type": "stream",
     "text": [
      "\r",
      "Aggregate:  83%|████████▎ | 229/276 [02:27<00:20,  2.30it/s]"
     ]
    },
    {
     "name": "stderr",
     "output_type": "stream",
     "text": [
      "\r",
      "Aggregate:  83%|████████▎ | 230/276 [02:27<00:20,  2.28it/s]"
     ]
    },
    {
     "name": "stderr",
     "output_type": "stream",
     "text": [
      "\r",
      "Aggregate:  84%|████████▎ | 231/276 [02:28<00:16,  2.71it/s]"
     ]
    },
    {
     "name": "stderr",
     "output_type": "stream",
     "text": [
      "\r",
      "Aggregate:  84%|████████▍ | 232/276 [02:30<00:44,  1.02s/it]"
     ]
    },
    {
     "name": "stderr",
     "output_type": "stream",
     "text": [
      "\r",
      "Aggregate:  84%|████████▍ | 233/276 [02:31<00:37,  1.14it/s]"
     ]
    },
    {
     "name": "stderr",
     "output_type": "stream",
     "text": [
      "\r",
      "Aggregate:  85%|████████▍ | 234/276 [02:32<00:46,  1.11s/it]"
     ]
    },
    {
     "name": "stderr",
     "output_type": "stream",
     "text": [
      "\r",
      "Aggregate:  85%|████████▌ | 235/276 [02:33<00:34,  1.19it/s]"
     ]
    },
    {
     "name": "stderr",
     "output_type": "stream",
     "text": [
      "\r",
      "Aggregate:  86%|████████▌ | 236/276 [02:35<00:51,  1.28s/it]"
     ]
    },
    {
     "name": "stderr",
     "output_type": "stream",
     "text": [
      "\r",
      "Aggregate:  86%|████████▌ | 237/276 [02:36<00:44,  1.15s/it]"
     ]
    },
    {
     "name": "stderr",
     "output_type": "stream",
     "text": [
      "\r",
      "Aggregate:  86%|████████▌ | 238/276 [02:36<00:34,  1.09it/s]"
     ]
    },
    {
     "name": "stderr",
     "output_type": "stream",
     "text": [
      "\r",
      "Aggregate:  87%|████████▋ | 239/276 [02:36<00:27,  1.35it/s]"
     ]
    },
    {
     "name": "stderr",
     "output_type": "stream",
     "text": [
      "\r",
      "Aggregate:  87%|████████▋ | 240/276 [02:37<00:21,  1.71it/s]"
     ]
    },
    {
     "name": "stderr",
     "output_type": "stream",
     "text": [
      "\r",
      "Aggregate:  87%|████████▋ | 241/276 [02:37<00:17,  2.01it/s]"
     ]
    },
    {
     "name": "stderr",
     "output_type": "stream",
     "text": [
      "\r",
      "Aggregate:  88%|████████▊ | 242/276 [02:37<00:14,  2.32it/s]"
     ]
    },
    {
     "name": "stderr",
     "output_type": "stream",
     "text": [
      "\r",
      "Aggregate:  88%|████████▊ | 243/276 [02:38<00:17,  1.85it/s]"
     ]
    },
    {
     "name": "stderr",
     "output_type": "stream",
     "text": [
      "\r",
      "Aggregate:  89%|████████▉ | 245/276 [02:38<00:13,  2.34it/s]"
     ]
    },
    {
     "name": "stderr",
     "output_type": "stream",
     "text": [
      "\r",
      "Aggregate:  89%|████████▉ | 246/276 [02:39<00:16,  1.81it/s]"
     ]
    },
    {
     "name": "stderr",
     "output_type": "stream",
     "text": [
      "\r",
      "Aggregate:  89%|████████▉ | 247/276 [02:39<00:13,  2.07it/s]"
     ]
    },
    {
     "name": "stderr",
     "output_type": "stream",
     "text": [
      "\r",
      "Aggregate:  90%|████████▉ | 248/276 [02:40<00:17,  1.62it/s]"
     ]
    },
    {
     "name": "stderr",
     "output_type": "stream",
     "text": [
      "\r",
      "Aggregate:  90%|█████████ | 249/276 [02:41<00:20,  1.33it/s]"
     ]
    },
    {
     "name": "stderr",
     "output_type": "stream",
     "text": [
      "\r",
      "Aggregate:  91%|█████████ | 250/276 [02:42<00:17,  1.52it/s]"
     ]
    },
    {
     "name": "stderr",
     "output_type": "stream",
     "text": [
      "\r",
      "Aggregate:  91%|█████████ | 251/276 [02:42<00:13,  1.89it/s]"
     ]
    },
    {
     "name": "stderr",
     "output_type": "stream",
     "text": [
      "\r",
      "Aggregate:  91%|█████████▏| 252/276 [02:43<00:13,  1.81it/s]"
     ]
    },
    {
     "name": "stderr",
     "output_type": "stream",
     "text": [
      "\r",
      "Aggregate:  92%|█████████▏| 253/276 [02:43<00:13,  1.73it/s]"
     ]
    },
    {
     "name": "stderr",
     "output_type": "stream",
     "text": [
      "\r",
      "Aggregate:  92%|█████████▏| 254/276 [02:44<00:11,  1.84it/s]"
     ]
    },
    {
     "name": "stderr",
     "output_type": "stream",
     "text": [
      "\r",
      "Aggregate:  92%|█████████▏| 255/276 [02:44<00:09,  2.24it/s]"
     ]
    },
    {
     "name": "stderr",
     "output_type": "stream",
     "text": [
      "\r",
      "Aggregate:  93%|█████████▎| 256/276 [02:47<00:26,  1.32s/it]"
     ]
    },
    {
     "name": "stderr",
     "output_type": "stream",
     "text": [
      "\r",
      "Aggregate:  93%|█████████▎| 257/276 [02:48<00:19,  1.00s/it]"
     ]
    },
    {
     "name": "stderr",
     "output_type": "stream",
     "text": [
      "\r",
      "Aggregate:  93%|█████████▎| 258/276 [02:48<00:13,  1.32it/s]"
     ]
    },
    {
     "name": "stderr",
     "output_type": "stream",
     "text": [
      "\r",
      "Aggregate:  94%|█████████▍| 259/276 [02:48<00:11,  1.46it/s]"
     ]
    },
    {
     "name": "stderr",
     "output_type": "stream",
     "text": [
      "\r",
      "Aggregate:  94%|█████████▍| 260/276 [02:49<00:10,  1.51it/s]"
     ]
    },
    {
     "name": "stderr",
     "output_type": "stream",
     "text": [
      "\r",
      "Aggregate:  95%|█████████▍| 262/276 [02:49<00:07,  1.96it/s]"
     ]
    },
    {
     "name": "stderr",
     "output_type": "stream",
     "text": [
      "\r",
      "Aggregate:  95%|█████████▌| 263/276 [02:50<00:05,  2.34it/s]"
     ]
    },
    {
     "name": "stderr",
     "output_type": "stream",
     "text": [
      "\r",
      "Aggregate:  96%|█████████▌| 264/276 [02:50<00:04,  2.56it/s]"
     ]
    },
    {
     "name": "stderr",
     "output_type": "stream",
     "text": [
      "\r",
      "Aggregate:  96%|█████████▌| 265/276 [02:50<00:03,  3.04it/s]"
     ]
    },
    {
     "name": "stderr",
     "output_type": "stream",
     "text": [
      "\r",
      "Aggregate:  96%|█████████▋| 266/276 [02:50<00:03,  2.79it/s]"
     ]
    },
    {
     "name": "stderr",
     "output_type": "stream",
     "text": [
      "\r",
      "Aggregate:  97%|█████████▋| 267/276 [02:51<00:02,  3.44it/s]"
     ]
    },
    {
     "name": "stderr",
     "output_type": "stream",
     "text": [
      "\r",
      "Aggregate:  97%|█████████▋| 268/276 [02:51<00:02,  3.21it/s]"
     ]
    },
    {
     "name": "stderr",
     "output_type": "stream",
     "text": [
      "\r",
      "Aggregate:  97%|█████████▋| 269/276 [02:51<00:01,  3.85it/s]"
     ]
    },
    {
     "name": "stderr",
     "output_type": "stream",
     "text": [
      "\r",
      "Aggregate:  98%|█████████▊| 270/276 [02:52<00:03,  1.97it/s]"
     ]
    },
    {
     "name": "stderr",
     "output_type": "stream",
     "text": [
      "\r",
      "Aggregate:  98%|█████████▊| 271/276 [02:53<00:02,  1.69it/s]"
     ]
    },
    {
     "name": "stderr",
     "output_type": "stream",
     "text": [
      "\r",
      "Aggregate:  99%|█████████▊| 272/276 [02:54<00:02,  1.59it/s]"
     ]
    },
    {
     "name": "stderr",
     "output_type": "stream",
     "text": [
      "\r",
      "Aggregate:  99%|█████████▉| 274/276 [02:54<00:00,  2.02it/s]"
     ]
    },
    {
     "name": "stderr",
     "output_type": "stream",
     "text": [
      "\r",
      "Aggregate: 100%|█████████▉| 275/276 [02:54<00:00,  2.46it/s]"
     ]
    },
    {
     "name": "stderr",
     "output_type": "stream",
     "text": [
      "\r",
      "Aggregate: 100%|██████████| 276/276 [02:55<00:00,  1.58it/s]"
     ]
    },
    {
     "name": "stderr",
     "output_type": "stream",
     "text": [
      "\n"
     ]
    }
   ],
   "source": [
    "agg_models = pd.Series([])\n",
    "agg_losses = pd.Series([]).rename('agg_loss')\n",
    "with tqdm(available_agg_models, desc='Aggregate') as bar:\n",
    "  for f in bar:\n",
    "    subject_id = int(f.split('.')[0])\n",
    "    with open(os.path.join(AGG_MODEL_PATH, f)) as f_in:\n",
    "      model = unmake_json(json.load(f_in))\n",
    "    model_obj = make_model(subject_id, model)\n",
    "    agg_models[subject_id] = model_obj\n",
    "\n",
    "    r = model_obj.render()\n",
    "    agg_losses[subject_id] = loss(\n",
    "      r,\n",
    "      model_obj.data,\n",
    "      pixel_mask=model_obj.pixel_mask\n",
    "    )"
   ]
  },
  {
   "cell_type": "code",
   "execution_count": 8,
   "metadata": {
    "collapsed": false,
    "inputHidden": false,
    "outputHidden": false,
    "papermill": {
     "duration": 183.662026,
     "end_time": "2019-08-22T09:56:38.567764",
     "exception": false,
     "start_time": "2019-08-22T09:53:34.905738",
     "status": "completed"
    },
    "tags": []
   },
   "outputs": [
    {
     "name": "stderr",
     "output_type": "stream",
     "text": [
      "\r",
      "Best Individual:   0%|          | 0/272 [00:00<?, ?it/s]"
     ]
    },
    {
     "name": "stderr",
     "output_type": "stream",
     "text": [
      "\r",
      "Best Individual:   0%|          | 1/272 [00:02<12:48,  2.84s/it]"
     ]
    },
    {
     "name": "stderr",
     "output_type": "stream",
     "text": [
      "\r",
      "Best Individual:   1%|          | 2/272 [00:04<11:19,  2.52s/it]"
     ]
    },
    {
     "name": "stderr",
     "output_type": "stream",
     "text": [
      "\r",
      "Best Individual:   1%|          | 3/272 [00:05<09:30,  2.12s/it]"
     ]
    },
    {
     "name": "stderr",
     "output_type": "stream",
     "text": [
      "\r",
      "Best Individual:   1%|▏         | 4/272 [00:06<07:15,  1.63s/it]"
     ]
    },
    {
     "name": "stderr",
     "output_type": "stream",
     "text": [
      "\r",
      "Best Individual:   2%|▏         | 5/272 [00:08<08:27,  1.90s/it]"
     ]
    },
    {
     "name": "stderr",
     "output_type": "stream",
     "text": [
      "\r",
      "Best Individual:   2%|▏         | 6/272 [00:09<07:10,  1.62s/it]"
     ]
    },
    {
     "name": "stderr",
     "output_type": "stream",
     "text": [
      "\r",
      "Best Individual:   3%|▎         | 7/272 [00:11<07:36,  1.72s/it]"
     ]
    },
    {
     "name": "stderr",
     "output_type": "stream",
     "text": [
      "\r",
      "Best Individual:   3%|▎         | 8/272 [00:12<05:41,  1.29s/it]"
     ]
    },
    {
     "name": "stderr",
     "output_type": "stream",
     "text": [
      "\r",
      "Best Individual:   3%|▎         | 9/272 [00:12<04:31,  1.03s/it]"
     ]
    },
    {
     "name": "stderr",
     "output_type": "stream",
     "text": [
      "\r",
      "Best Individual:   4%|▎         | 10/272 [00:12<03:26,  1.27it/s]"
     ]
    },
    {
     "name": "stderr",
     "output_type": "stream",
     "text": [
      "\r",
      "Best Individual:   4%|▍         | 11/272 [00:13<03:56,  1.10it/s]"
     ]
    },
    {
     "name": "stderr",
     "output_type": "stream",
     "text": [
      "\r",
      "Best Individual:   4%|▍         | 12/272 [00:13<02:56,  1.48it/s]"
     ]
    },
    {
     "name": "stderr",
     "output_type": "stream",
     "text": [
      "\r",
      "Best Individual:   5%|▌         | 14/272 [00:14<02:10,  1.98it/s]"
     ]
    },
    {
     "name": "stderr",
     "output_type": "stream",
     "text": [
      "\r",
      "Best Individual:   6%|▌         | 15/272 [00:14<01:59,  2.14it/s]"
     ]
    },
    {
     "name": "stderr",
     "output_type": "stream",
     "text": [
      "\r",
      "Best Individual:   6%|▌         | 16/272 [00:15<02:10,  1.96it/s]"
     ]
    },
    {
     "name": "stderr",
     "output_type": "stream",
     "text": [
      "\r",
      "Best Individual:   6%|▋         | 17/272 [00:15<01:49,  2.33it/s]"
     ]
    },
    {
     "name": "stderr",
     "output_type": "stream",
     "text": [
      "\r",
      "Best Individual:   7%|▋         | 18/272 [00:16<03:12,  1.32it/s]"
     ]
    },
    {
     "name": "stderr",
     "output_type": "stream",
     "text": [
      "\r",
      "Best Individual:   7%|▋         | 19/272 [00:17<02:34,  1.64it/s]"
     ]
    },
    {
     "name": "stderr",
     "output_type": "stream",
     "text": [
      "\r",
      "Best Individual:   7%|▋         | 20/272 [00:17<02:24,  1.74it/s]"
     ]
    },
    {
     "name": "stderr",
     "output_type": "stream",
     "text": [
      "\r",
      "Best Individual:   8%|▊         | 21/272 [00:18<02:25,  1.72it/s]"
     ]
    },
    {
     "name": "stderr",
     "output_type": "stream",
     "text": [
      "\r",
      "Best Individual:   8%|▊         | 22/272 [00:19<02:39,  1.56it/s]"
     ]
    },
    {
     "name": "stderr",
     "output_type": "stream",
     "text": [
      "\r",
      "Best Individual:   8%|▊         | 23/272 [00:19<02:27,  1.69it/s]"
     ]
    },
    {
     "name": "stderr",
     "output_type": "stream",
     "text": [
      "\r",
      "Best Individual:   9%|▉         | 24/272 [00:19<02:00,  2.07it/s]"
     ]
    },
    {
     "name": "stderr",
     "output_type": "stream",
     "text": [
      "\r",
      "Best Individual:   9%|▉         | 25/272 [00:20<02:02,  2.01it/s]"
     ]
    },
    {
     "name": "stderr",
     "output_type": "stream",
     "text": [
      "\r",
      "Best Individual:  10%|▉         | 26/272 [00:21<03:10,  1.29it/s]"
     ]
    },
    {
     "name": "stderr",
     "output_type": "stream",
     "text": [
      "\r",
      "Best Individual:  10%|▉         | 27/272 [00:22<03:03,  1.33it/s]"
     ]
    },
    {
     "name": "stderr",
     "output_type": "stream",
     "text": [
      "\r",
      "Best Individual:  10%|█         | 28/272 [00:23<02:51,  1.42it/s]"
     ]
    },
    {
     "name": "stderr",
     "output_type": "stream",
     "text": [
      "\r",
      "Best Individual:  11%|█         | 29/272 [00:23<02:28,  1.64it/s]"
     ]
    },
    {
     "name": "stderr",
     "output_type": "stream",
     "text": [
      "\r",
      "Best Individual:  11%|█         | 30/272 [00:23<01:59,  2.03it/s]"
     ]
    },
    {
     "name": "stderr",
     "output_type": "stream",
     "text": [
      "\r",
      "Best Individual:  11%|█▏        | 31/272 [00:24<02:32,  1.58it/s]"
     ]
    },
    {
     "name": "stderr",
     "output_type": "stream",
     "text": [
      "\r",
      "Best Individual:  12%|█▏        | 32/272 [00:24<02:14,  1.79it/s]"
     ]
    },
    {
     "name": "stderr",
     "output_type": "stream",
     "text": [
      "\r",
      "Best Individual:  12%|█▏        | 33/272 [00:25<02:24,  1.66it/s]"
     ]
    },
    {
     "name": "stderr",
     "output_type": "stream",
     "text": [
      "\r",
      "Best Individual:  12%|█▎        | 34/272 [00:25<02:00,  1.97it/s]"
     ]
    },
    {
     "name": "stderr",
     "output_type": "stream",
     "text": [
      "\r",
      "Best Individual:  13%|█▎        | 35/272 [00:27<02:53,  1.37it/s]"
     ]
    },
    {
     "name": "stderr",
     "output_type": "stream",
     "text": [
      "\r",
      "Best Individual:  13%|█▎        | 36/272 [00:28<03:27,  1.14it/s]"
     ]
    },
    {
     "name": "stderr",
     "output_type": "stream",
     "text": [
      "\r",
      "Best Individual:  14%|█▎        | 37/272 [00:28<02:52,  1.36it/s]"
     ]
    },
    {
     "name": "stderr",
     "output_type": "stream",
     "text": [
      "\r",
      "Best Individual:  14%|█▍        | 38/272 [00:29<02:29,  1.57it/s]"
     ]
    },
    {
     "name": "stderr",
     "output_type": "stream",
     "text": [
      "\r",
      "Best Individual:  14%|█▍        | 39/272 [00:29<01:54,  2.04it/s]"
     ]
    },
    {
     "name": "stderr",
     "output_type": "stream",
     "text": [
      "\r",
      "Best Individual:  15%|█▍        | 40/272 [00:29<01:41,  2.28it/s]"
     ]
    },
    {
     "name": "stderr",
     "output_type": "stream",
     "text": [
      "\r",
      "Best Individual:  15%|█▌        | 41/272 [00:29<01:18,  2.94it/s]"
     ]
    },
    {
     "name": "stderr",
     "output_type": "stream",
     "text": [
      "\r",
      "Best Individual:  15%|█▌        | 42/272 [00:30<01:18,  2.93it/s]"
     ]
    },
    {
     "name": "stderr",
     "output_type": "stream",
     "text": [
      "\r",
      "Best Individual:  16%|█▌        | 43/272 [00:30<01:27,  2.62it/s]"
     ]
    },
    {
     "name": "stderr",
     "output_type": "stream",
     "text": [
      "\r",
      "Best Individual:  16%|█▌        | 44/272 [00:31<01:35,  2.39it/s]"
     ]
    },
    {
     "name": "stderr",
     "output_type": "stream",
     "text": [
      "\r",
      "Best Individual:  17%|█▋        | 45/272 [00:31<01:28,  2.55it/s]"
     ]
    },
    {
     "name": "stderr",
     "output_type": "stream",
     "text": [
      "\r",
      "Best Individual:  17%|█▋        | 46/272 [00:32<01:41,  2.23it/s]"
     ]
    },
    {
     "name": "stderr",
     "output_type": "stream",
     "text": [
      "\r",
      "Best Individual:  17%|█▋        | 47/272 [00:32<01:32,  2.44it/s]"
     ]
    },
    {
     "name": "stderr",
     "output_type": "stream",
     "text": [
      "\r",
      "Best Individual:  18%|█▊        | 48/272 [00:32<01:35,  2.34it/s]"
     ]
    },
    {
     "name": "stderr",
     "output_type": "stream",
     "text": [
      "\r",
      "Best Individual:  18%|█▊        | 49/272 [00:33<02:15,  1.65it/s]"
     ]
    },
    {
     "name": "stderr",
     "output_type": "stream",
     "text": [
      "\r",
      "Best Individual:  18%|█▊        | 50/272 [00:34<01:46,  2.08it/s]"
     ]
    },
    {
     "name": "stderr",
     "output_type": "stream",
     "text": [
      "\r",
      "Best Individual:  19%|█▉        | 52/272 [00:35<02:10,  1.69it/s]"
     ]
    },
    {
     "name": "stderr",
     "output_type": "stream",
     "text": [
      "\r",
      "Best Individual:  19%|█▉        | 53/272 [00:36<01:51,  1.97it/s]"
     ]
    },
    {
     "name": "stderr",
     "output_type": "stream",
     "text": [
      "\r",
      "Best Individual:  20%|█▉        | 54/272 [00:36<01:30,  2.42it/s]"
     ]
    },
    {
     "name": "stderr",
     "output_type": "stream",
     "text": [
      "\r",
      "Best Individual:  20%|██        | 55/272 [00:36<01:45,  2.05it/s]"
     ]
    },
    {
     "name": "stderr",
     "output_type": "stream",
     "text": [
      "\r",
      "Best Individual:  21%|██        | 56/272 [00:37<01:38,  2.20it/s]"
     ]
    },
    {
     "name": "stderr",
     "output_type": "stream",
     "text": [
      "\r",
      "Best Individual:  21%|██        | 57/272 [00:37<01:36,  2.23it/s]"
     ]
    },
    {
     "name": "stderr",
     "output_type": "stream",
     "text": [
      "\r",
      "Best Individual:  21%|██▏       | 58/272 [00:39<03:12,  1.11it/s]"
     ]
    },
    {
     "name": "stderr",
     "output_type": "stream",
     "text": [
      "\r",
      "Best Individual:  22%|██▏       | 59/272 [00:39<02:27,  1.45it/s]"
     ]
    },
    {
     "name": "stderr",
     "output_type": "stream",
     "text": [
      "\r",
      "Best Individual:  22%|██▏       | 60/272 [00:40<01:50,  1.91it/s]"
     ]
    },
    {
     "name": "stderr",
     "output_type": "stream",
     "text": [
      "\r",
      "Best Individual:  22%|██▏       | 61/272 [00:40<02:04,  1.69it/s]"
     ]
    },
    {
     "name": "stderr",
     "output_type": "stream",
     "text": [
      "\r",
      "Best Individual:  23%|██▎       | 62/272 [00:40<01:36,  2.18it/s]"
     ]
    },
    {
     "name": "stderr",
     "output_type": "stream",
     "text": [
      "\r",
      "Best Individual:  23%|██▎       | 63/272 [00:41<02:06,  1.65it/s]"
     ]
    },
    {
     "name": "stderr",
     "output_type": "stream",
     "text": [
      "\r",
      "Best Individual:  24%|██▎       | 64/272 [00:42<02:02,  1.70it/s]"
     ]
    },
    {
     "name": "stderr",
     "output_type": "stream",
     "text": [
      "\r",
      "Best Individual:  24%|██▍       | 65/272 [00:42<01:55,  1.79it/s]"
     ]
    },
    {
     "name": "stderr",
     "output_type": "stream",
     "text": [
      "\r",
      "Best Individual:  24%|██▍       | 66/272 [00:43<01:39,  2.08it/s]"
     ]
    },
    {
     "name": "stderr",
     "output_type": "stream",
     "text": [
      "\r",
      "Best Individual:  25%|██▍       | 67/272 [00:43<01:23,  2.45it/s]"
     ]
    },
    {
     "name": "stderr",
     "output_type": "stream",
     "text": [
      "\r",
      "Best Individual:  25%|██▌       | 68/272 [00:44<01:42,  2.00it/s]"
     ]
    },
    {
     "name": "stderr",
     "output_type": "stream",
     "text": [
      "\r",
      "Best Individual:  25%|██▌       | 69/272 [00:44<01:28,  2.30it/s]"
     ]
    },
    {
     "name": "stderr",
     "output_type": "stream",
     "text": [
      "\r",
      "Best Individual:  26%|██▌       | 70/272 [00:44<01:17,  2.59it/s]"
     ]
    },
    {
     "name": "stderr",
     "output_type": "stream",
     "text": [
      "\r",
      "Best Individual:  26%|██▌       | 71/272 [00:45<01:21,  2.45it/s]"
     ]
    },
    {
     "name": "stderr",
     "output_type": "stream",
     "text": [
      "\r",
      "Best Individual:  26%|██▋       | 72/272 [00:45<01:09,  2.89it/s]"
     ]
    },
    {
     "name": "stderr",
     "output_type": "stream",
     "text": [
      "\r",
      "Best Individual:  27%|██▋       | 73/272 [00:45<01:05,  3.05it/s]"
     ]
    },
    {
     "name": "stderr",
     "output_type": "stream",
     "text": [
      "\r",
      "Best Individual:  27%|██▋       | 74/272 [00:45<01:03,  3.13it/s]"
     ]
    },
    {
     "name": "stderr",
     "output_type": "stream",
     "text": [
      "\r",
      "Best Individual:  28%|██▊       | 75/272 [00:46<01:04,  3.07it/s]"
     ]
    },
    {
     "name": "stderr",
     "output_type": "stream",
     "text": [
      "\r",
      "Best Individual:  28%|██▊       | 76/272 [00:47<01:44,  1.88it/s]"
     ]
    },
    {
     "name": "stderr",
     "output_type": "stream",
     "text": [
      "\r",
      "Best Individual:  28%|██▊       | 77/272 [00:47<01:44,  1.87it/s]"
     ]
    },
    {
     "name": "stderr",
     "output_type": "stream",
     "text": [
      "\r",
      "Best Individual:  29%|██▊       | 78/272 [00:48<01:30,  2.15it/s]"
     ]
    },
    {
     "name": "stderr",
     "output_type": "stream",
     "text": [
      "\r",
      "Best Individual:  29%|██▉       | 79/272 [00:50<03:33,  1.11s/it]"
     ]
    },
    {
     "name": "stderr",
     "output_type": "stream",
     "text": [
      "\r",
      "Best Individual:  29%|██▉       | 80/272 [00:51<02:56,  1.09it/s]"
     ]
    },
    {
     "name": "stderr",
     "output_type": "stream",
     "text": [
      "\r",
      "Best Individual:  30%|██▉       | 81/272 [00:51<02:16,  1.40it/s]"
     ]
    },
    {
     "name": "stderr",
     "output_type": "stream",
     "text": [
      "\r",
      "Best Individual:  30%|███       | 82/272 [00:51<01:50,  1.72it/s]"
     ]
    },
    {
     "name": "stderr",
     "output_type": "stream",
     "text": [
      "\r",
      "Best Individual:  31%|███       | 83/272 [00:52<01:36,  1.96it/s]"
     ]
    },
    {
     "name": "stderr",
     "output_type": "stream",
     "text": [
      "\r",
      "Best Individual:  31%|███       | 84/272 [00:52<01:16,  2.47it/s]"
     ]
    },
    {
     "name": "stderr",
     "output_type": "stream",
     "text": [
      "\r",
      "Best Individual:  31%|███▏      | 85/272 [00:53<01:33,  2.00it/s]"
     ]
    },
    {
     "name": "stderr",
     "output_type": "stream",
     "text": [
      "\r",
      "Best Individual:  32%|███▏      | 86/272 [00:53<01:24,  2.21it/s]"
     ]
    },
    {
     "name": "stderr",
     "output_type": "stream",
     "text": [
      "\r",
      "Best Individual:  32%|███▏      | 87/272 [00:53<01:34,  1.97it/s]"
     ]
    },
    {
     "name": "stderr",
     "output_type": "stream",
     "text": [
      "\r",
      "Best Individual:  32%|███▏      | 88/272 [00:54<01:54,  1.61it/s]"
     ]
    },
    {
     "name": "stderr",
     "output_type": "stream",
     "text": [
      "\r",
      "Best Individual:  33%|███▎      | 89/272 [00:55<01:39,  1.83it/s]"
     ]
    },
    {
     "name": "stderr",
     "output_type": "stream",
     "text": [
      "\r",
      "Best Individual:  33%|███▎      | 90/272 [00:55<01:23,  2.19it/s]"
     ]
    },
    {
     "name": "stderr",
     "output_type": "stream",
     "text": [
      "\r",
      "Best Individual:  33%|███▎      | 91/272 [00:55<01:05,  2.78it/s]"
     ]
    },
    {
     "name": "stderr",
     "output_type": "stream",
     "text": [
      "\r",
      "Best Individual:  34%|███▍      | 92/272 [00:56<01:18,  2.28it/s]"
     ]
    },
    {
     "name": "stderr",
     "output_type": "stream",
     "text": [
      "\r",
      "Best Individual:  34%|███▍      | 93/272 [00:57<02:05,  1.42it/s]"
     ]
    },
    {
     "name": "stderr",
     "output_type": "stream",
     "text": [
      "\r",
      "Best Individual:  35%|███▍      | 94/272 [00:57<01:47,  1.65it/s]"
     ]
    },
    {
     "name": "stderr",
     "output_type": "stream",
     "text": [
      "\r",
      "Best Individual:  35%|███▍      | 95/272 [00:58<01:48,  1.63it/s]"
     ]
    },
    {
     "name": "stderr",
     "output_type": "stream",
     "text": [
      "\r",
      "Best Individual:  35%|███▌      | 96/272 [00:58<01:37,  1.81it/s]"
     ]
    },
    {
     "name": "stderr",
     "output_type": "stream",
     "text": [
      "\r",
      "Best Individual:  36%|███▌      | 97/272 [00:59<01:14,  2.34it/s]"
     ]
    },
    {
     "name": "stderr",
     "output_type": "stream",
     "text": [
      "\r",
      "Best Individual:  36%|███▌      | 98/272 [00:59<01:07,  2.59it/s]"
     ]
    },
    {
     "name": "stderr",
     "output_type": "stream",
     "text": [
      "\r",
      "Best Individual:  36%|███▋      | 99/272 [01:00<01:23,  2.07it/s]"
     ]
    },
    {
     "name": "stderr",
     "output_type": "stream",
     "text": [
      "\r",
      "Best Individual:  37%|███▋      | 100/272 [01:00<01:20,  2.14it/s]"
     ]
    },
    {
     "name": "stderr",
     "output_type": "stream",
     "text": [
      "\r",
      "Best Individual:  37%|███▋      | 101/272 [01:00<01:10,  2.41it/s]"
     ]
    },
    {
     "name": "stderr",
     "output_type": "stream",
     "text": [
      "\r",
      "Best Individual:  38%|███▊      | 102/272 [01:01<00:58,  2.92it/s]"
     ]
    },
    {
     "name": "stderr",
     "output_type": "stream",
     "text": [
      "\r",
      "Best Individual:  38%|███▊      | 103/272 [01:01<00:50,  3.33it/s]"
     ]
    },
    {
     "name": "stderr",
     "output_type": "stream",
     "text": [
      "\r",
      "Best Individual:  38%|███▊      | 104/272 [01:08<06:18,  2.25s/it]"
     ]
    },
    {
     "name": "stderr",
     "output_type": "stream",
     "text": [
      "\r",
      "Best Individual:  39%|███▊      | 105/272 [01:08<04:37,  1.66s/it]"
     ]
    },
    {
     "name": "stderr",
     "output_type": "stream",
     "text": [
      "\r",
      "Best Individual:  39%|███▉      | 106/272 [01:09<03:59,  1.44s/it]"
     ]
    },
    {
     "name": "stderr",
     "output_type": "stream",
     "text": [
      "\r",
      "Best Individual:  39%|███▉      | 107/272 [01:10<03:48,  1.39s/it]"
     ]
    },
    {
     "name": "stderr",
     "output_type": "stream",
     "text": [
      "\r",
      "Best Individual:  40%|███▉      | 108/272 [01:10<02:52,  1.05s/it]"
     ]
    },
    {
     "name": "stderr",
     "output_type": "stream",
     "text": [
      "\r",
      "Best Individual:  40%|████      | 109/272 [01:10<02:07,  1.28it/s]"
     ]
    },
    {
     "name": "stderr",
     "output_type": "stream",
     "text": [
      "\r",
      "Best Individual:  40%|████      | 110/272 [01:12<02:45,  1.02s/it]"
     ]
    },
    {
     "name": "stderr",
     "output_type": "stream",
     "text": [
      "\r",
      "Best Individual:  41%|████      | 111/272 [01:13<02:31,  1.06it/s]"
     ]
    },
    {
     "name": "stderr",
     "output_type": "stream",
     "text": [
      "\r",
      "Best Individual:  41%|████      | 112/272 [01:13<02:08,  1.24it/s]"
     ]
    },
    {
     "name": "stderr",
     "output_type": "stream",
     "text": [
      "\r",
      "Best Individual:  42%|████▏     | 113/272 [01:14<02:28,  1.07it/s]"
     ]
    },
    {
     "name": "stderr",
     "output_type": "stream",
     "text": [
      "\r",
      "Best Individual:  42%|████▏     | 114/272 [01:15<02:24,  1.09it/s]"
     ]
    },
    {
     "name": "stderr",
     "output_type": "stream",
     "text": [
      "\r",
      "Best Individual:  42%|████▏     | 115/272 [01:15<01:45,  1.48it/s]"
     ]
    },
    {
     "name": "stderr",
     "output_type": "stream",
     "text": [
      "\r",
      "Best Individual:  43%|████▎     | 116/272 [01:16<01:44,  1.50it/s]"
     ]
    },
    {
     "name": "stderr",
     "output_type": "stream",
     "text": [
      "\r",
      "Best Individual:  43%|████▎     | 117/272 [01:18<03:02,  1.18s/it]"
     ]
    },
    {
     "name": "stderr",
     "output_type": "stream",
     "text": [
      "\r",
      "Best Individual:  43%|████▎     | 118/272 [01:19<02:37,  1.02s/it]"
     ]
    },
    {
     "name": "stderr",
     "output_type": "stream",
     "text": [
      "\r",
      "Best Individual:  44%|████▍     | 119/272 [01:20<02:19,  1.09it/s]"
     ]
    },
    {
     "name": "stderr",
     "output_type": "stream",
     "text": [
      "\r",
      "Best Individual:  44%|████▍     | 120/272 [01:20<01:56,  1.31it/s]"
     ]
    },
    {
     "name": "stderr",
     "output_type": "stream",
     "text": [
      "\r",
      "Best Individual:  44%|████▍     | 121/272 [01:21<01:43,  1.46it/s]"
     ]
    },
    {
     "name": "stderr",
     "output_type": "stream",
     "text": [
      "\r",
      "Best Individual:  45%|████▍     | 122/272 [01:21<01:17,  1.93it/s]"
     ]
    },
    {
     "name": "stderr",
     "output_type": "stream",
     "text": [
      "\r",
      "Best Individual:  45%|████▌     | 123/272 [01:21<01:11,  2.10it/s]"
     ]
    },
    {
     "name": "stderr",
     "output_type": "stream",
     "text": [
      "\r",
      "Best Individual:  46%|████▌     | 124/272 [01:22<01:11,  2.06it/s]"
     ]
    },
    {
     "name": "stderr",
     "output_type": "stream",
     "text": [
      "\r",
      "Best Individual:  46%|████▌     | 125/272 [01:22<01:10,  2.07it/s]"
     ]
    },
    {
     "name": "stderr",
     "output_type": "stream",
     "text": [
      "\r",
      "Best Individual:  46%|████▋     | 126/272 [01:23<01:04,  2.27it/s]"
     ]
    },
    {
     "name": "stderr",
     "output_type": "stream",
     "text": [
      "\r",
      "Best Individual:  47%|████▋     | 127/272 [01:23<01:02,  2.30it/s]"
     ]
    },
    {
     "name": "stderr",
     "output_type": "stream",
     "text": [
      "\r",
      "Best Individual:  47%|████▋     | 128/272 [01:24<01:27,  1.64it/s]"
     ]
    },
    {
     "name": "stderr",
     "output_type": "stream",
     "text": [
      "\r",
      "Best Individual:  47%|████▋     | 129/272 [01:24<01:13,  1.93it/s]"
     ]
    },
    {
     "name": "stderr",
     "output_type": "stream",
     "text": [
      "\r",
      "Best Individual:  48%|████▊     | 130/272 [01:25<01:28,  1.60it/s]"
     ]
    },
    {
     "name": "stderr",
     "output_type": "stream",
     "text": [
      "\r",
      "Best Individual:  48%|████▊     | 131/272 [01:26<01:37,  1.45it/s]"
     ]
    },
    {
     "name": "stderr",
     "output_type": "stream",
     "text": [
      "\r",
      "Best Individual:  49%|████▊     | 132/272 [01:26<01:20,  1.74it/s]"
     ]
    },
    {
     "name": "stderr",
     "output_type": "stream",
     "text": [
      "\r",
      "Best Individual:  49%|████▉     | 133/272 [01:27<01:12,  1.91it/s]"
     ]
    },
    {
     "name": "stderr",
     "output_type": "stream",
     "text": [
      "\r",
      "Best Individual:  49%|████▉     | 134/272 [01:27<01:18,  1.76it/s]"
     ]
    },
    {
     "name": "stderr",
     "output_type": "stream",
     "text": [
      "\r",
      "Best Individual:  50%|████▉     | 135/272 [01:28<01:07,  2.03it/s]"
     ]
    },
    {
     "name": "stderr",
     "output_type": "stream",
     "text": [
      "\r",
      "Best Individual:  50%|█████     | 136/272 [01:29<01:35,  1.42it/s]"
     ]
    },
    {
     "name": "stderr",
     "output_type": "stream",
     "text": [
      "\r",
      "Best Individual:  50%|█████     | 137/272 [01:30<01:35,  1.41it/s]"
     ]
    },
    {
     "name": "stderr",
     "output_type": "stream",
     "text": [
      "\r",
      "Best Individual:  51%|█████     | 138/272 [01:30<01:24,  1.58it/s]"
     ]
    },
    {
     "name": "stderr",
     "output_type": "stream",
     "text": [
      "\r",
      "Best Individual:  51%|█████     | 139/272 [01:31<01:40,  1.32it/s]"
     ]
    },
    {
     "name": "stderr",
     "output_type": "stream",
     "text": [
      "\r",
      "Best Individual:  51%|█████▏    | 140/272 [01:31<01:22,  1.60it/s]"
     ]
    },
    {
     "name": "stderr",
     "output_type": "stream",
     "text": [
      "\r",
      "Best Individual:  52%|█████▏    | 141/272 [01:33<01:52,  1.17it/s]"
     ]
    },
    {
     "name": "stderr",
     "output_type": "stream",
     "text": [
      "\r",
      "Best Individual:  52%|█████▏    | 142/272 [01:34<01:55,  1.12it/s]"
     ]
    },
    {
     "name": "stderr",
     "output_type": "stream",
     "text": [
      "\r",
      "Best Individual:  53%|█████▎    | 143/272 [01:35<01:57,  1.10it/s]"
     ]
    },
    {
     "name": "stderr",
     "output_type": "stream",
     "text": [
      "\r",
      "Best Individual:  53%|█████▎    | 144/272 [01:36<02:24,  1.13s/it]"
     ]
    },
    {
     "name": "stderr",
     "output_type": "stream",
     "text": [
      "\r",
      "Best Individual:  53%|█████▎    | 145/272 [01:39<03:20,  1.58s/it]"
     ]
    },
    {
     "name": "stderr",
     "output_type": "stream",
     "text": [
      "\r",
      "Best Individual:  54%|█████▍    | 147/272 [01:40<02:33,  1.23s/it]"
     ]
    },
    {
     "name": "stderr",
     "output_type": "stream",
     "text": [
      "\r",
      "Best Individual:  54%|█████▍    | 148/272 [01:41<02:26,  1.18s/it]"
     ]
    },
    {
     "name": "stderr",
     "output_type": "stream",
     "text": [
      "\r",
      "Best Individual:  55%|█████▍    | 149/272 [01:41<01:59,  1.03it/s]"
     ]
    },
    {
     "name": "stderr",
     "output_type": "stream",
     "text": [
      "\r",
      "Best Individual:  55%|█████▌    | 150/272 [01:42<01:36,  1.27it/s]"
     ]
    },
    {
     "name": "stderr",
     "output_type": "stream",
     "text": [
      "\r",
      "Best Individual:  56%|█████▌    | 151/272 [01:44<02:35,  1.29s/it]"
     ]
    },
    {
     "name": "stderr",
     "output_type": "stream",
     "text": [
      "\r",
      "Best Individual:  56%|█████▌    | 152/272 [01:45<02:27,  1.23s/it]"
     ]
    },
    {
     "name": "stderr",
     "output_type": "stream",
     "text": [
      "\r",
      "Best Individual:  56%|█████▋    | 153/272 [01:46<01:58,  1.00it/s]"
     ]
    },
    {
     "name": "stderr",
     "output_type": "stream",
     "text": [
      "\r",
      "Best Individual:  57%|█████▋    | 154/272 [01:46<01:46,  1.11it/s]"
     ]
    },
    {
     "name": "stderr",
     "output_type": "stream",
     "text": [
      "\r",
      "Best Individual:  57%|█████▋    | 155/272 [01:47<01:43,  1.13it/s]"
     ]
    },
    {
     "name": "stderr",
     "output_type": "stream",
     "text": [
      "\r",
      "Best Individual:  57%|█████▋    | 156/272 [01:48<01:41,  1.14it/s]"
     ]
    },
    {
     "name": "stderr",
     "output_type": "stream",
     "text": [
      "\r",
      "Best Individual:  58%|█████▊    | 157/272 [01:48<01:16,  1.50it/s]"
     ]
    },
    {
     "name": "stderr",
     "output_type": "stream",
     "text": [
      "\r",
      "Best Individual:  58%|█████▊    | 158/272 [01:49<01:23,  1.37it/s]"
     ]
    },
    {
     "name": "stderr",
     "output_type": "stream",
     "text": [
      "\r",
      "Best Individual:  58%|█████▊    | 159/272 [01:50<01:17,  1.47it/s]"
     ]
    },
    {
     "name": "stderr",
     "output_type": "stream",
     "text": [
      "\r",
      "Best Individual:  59%|█████▉    | 160/272 [01:51<01:17,  1.44it/s]"
     ]
    },
    {
     "name": "stderr",
     "output_type": "stream",
     "text": [
      "\r",
      "Best Individual:  59%|█████▉    | 161/272 [01:51<01:05,  1.71it/s]"
     ]
    },
    {
     "name": "stderr",
     "output_type": "stream",
     "text": [
      "\r",
      "Best Individual:  60%|█████▉    | 162/272 [01:51<00:52,  2.09it/s]"
     ]
    },
    {
     "name": "stderr",
     "output_type": "stream",
     "text": [
      "\r",
      "Best Individual:  60%|█████▉    | 163/272 [01:51<00:49,  2.22it/s]"
     ]
    },
    {
     "name": "stderr",
     "output_type": "stream",
     "text": [
      "\r",
      "Best Individual:  60%|██████    | 164/272 [01:52<00:49,  2.19it/s]"
     ]
    },
    {
     "name": "stderr",
     "output_type": "stream",
     "text": [
      "\r",
      "Best Individual:  61%|██████    | 165/272 [01:53<00:58,  1.83it/s]"
     ]
    },
    {
     "name": "stderr",
     "output_type": "stream",
     "text": [
      "\r",
      "Best Individual:  61%|██████    | 166/272 [01:53<00:58,  1.81it/s]"
     ]
    },
    {
     "name": "stderr",
     "output_type": "stream",
     "text": [
      "\r",
      "Best Individual:  61%|██████▏   | 167/272 [01:54<00:51,  2.06it/s]"
     ]
    },
    {
     "name": "stderr",
     "output_type": "stream",
     "text": [
      "\r",
      "Best Individual:  62%|██████▏   | 168/272 [01:54<00:47,  2.18it/s]"
     ]
    },
    {
     "name": "stderr",
     "output_type": "stream",
     "text": [
      "\r",
      "Best Individual:  62%|██████▏   | 169/272 [01:54<00:42,  2.44it/s]"
     ]
    },
    {
     "name": "stderr",
     "output_type": "stream",
     "text": [
      "\r",
      "Best Individual:  62%|██████▎   | 170/272 [01:54<00:33,  3.04it/s]"
     ]
    },
    {
     "name": "stderr",
     "output_type": "stream",
     "text": [
      "\r",
      "Best Individual:  63%|██████▎   | 171/272 [01:55<00:33,  3.01it/s]"
     ]
    },
    {
     "name": "stderr",
     "output_type": "stream",
     "text": [
      "\r",
      "Best Individual:  63%|██████▎   | 172/272 [01:55<00:26,  3.76it/s]"
     ]
    },
    {
     "name": "stderr",
     "output_type": "stream",
     "text": [
      "\r",
      "Best Individual:  64%|██████▎   | 173/272 [01:57<01:09,  1.43it/s]"
     ]
    },
    {
     "name": "stderr",
     "output_type": "stream",
     "text": [
      "\r",
      "Best Individual:  64%|██████▍   | 174/272 [01:57<01:07,  1.46it/s]"
     ]
    },
    {
     "name": "stderr",
     "output_type": "stream",
     "text": [
      "\r",
      "Best Individual:  64%|██████▍   | 175/272 [01:58<00:54,  1.78it/s]"
     ]
    },
    {
     "name": "stderr",
     "output_type": "stream",
     "text": [
      "\r",
      "Best Individual:  65%|██████▍   | 176/272 [01:58<00:58,  1.65it/s]"
     ]
    },
    {
     "name": "stderr",
     "output_type": "stream",
     "text": [
      "\r",
      "Best Individual:  65%|██████▌   | 177/272 [01:59<00:53,  1.78it/s]"
     ]
    },
    {
     "name": "stderr",
     "output_type": "stream",
     "text": [
      "\r",
      "Best Individual:  65%|██████▌   | 178/272 [01:59<00:40,  2.32it/s]"
     ]
    },
    {
     "name": "stderr",
     "output_type": "stream",
     "text": [
      "\r",
      "Best Individual:  66%|██████▌   | 179/272 [02:00<01:00,  1.54it/s]"
     ]
    },
    {
     "name": "stderr",
     "output_type": "stream",
     "text": [
      "\r",
      "Best Individual:  66%|██████▌   | 180/272 [02:00<00:46,  1.96it/s]"
     ]
    },
    {
     "name": "stderr",
     "output_type": "stream",
     "text": [
      "\r",
      "Best Individual:  67%|██████▋   | 181/272 [02:01<00:51,  1.77it/s]"
     ]
    },
    {
     "name": "stderr",
     "output_type": "stream",
     "text": [
      "\r",
      "Best Individual:  67%|██████▋   | 183/272 [02:04<01:14,  1.19it/s]"
     ]
    },
    {
     "name": "stderr",
     "output_type": "stream",
     "text": [
      "\r",
      "Best Individual:  68%|██████▊   | 184/272 [02:04<00:57,  1.54it/s]"
     ]
    },
    {
     "name": "stderr",
     "output_type": "stream",
     "text": [
      "\r",
      "Best Individual:  68%|██████▊   | 185/272 [02:04<00:48,  1.78it/s]"
     ]
    },
    {
     "name": "stderr",
     "output_type": "stream",
     "text": [
      "\r",
      "Best Individual:  68%|██████▊   | 186/272 [02:04<00:36,  2.33it/s]"
     ]
    },
    {
     "name": "stderr",
     "output_type": "stream",
     "text": [
      "\r",
      "Best Individual:  69%|██████▉   | 187/272 [02:06<00:58,  1.46it/s]"
     ]
    },
    {
     "name": "stderr",
     "output_type": "stream",
     "text": [
      "\r",
      "Best Individual:  69%|██████▉   | 188/272 [02:07<01:19,  1.05it/s]"
     ]
    },
    {
     "name": "stderr",
     "output_type": "stream",
     "text": [
      "\r",
      "Best Individual:  69%|██████▉   | 189/272 [02:10<02:03,  1.49s/it]"
     ]
    },
    {
     "name": "stderr",
     "output_type": "stream",
     "text": [
      "\r",
      "Best Individual:  70%|██████▉   | 190/272 [02:12<02:11,  1.61s/it]"
     ]
    },
    {
     "name": "stderr",
     "output_type": "stream",
     "text": [
      "\r",
      "Best Individual:  70%|███████   | 191/272 [02:12<01:35,  1.18s/it]"
     ]
    },
    {
     "name": "stderr",
     "output_type": "stream",
     "text": [
      "\r",
      "Best Individual:  71%|███████   | 192/272 [02:13<01:20,  1.01s/it]"
     ]
    },
    {
     "name": "stderr",
     "output_type": "stream",
     "text": [
      "\r",
      "Best Individual:  71%|███████   | 193/272 [02:13<00:58,  1.35it/s]"
     ]
    },
    {
     "name": "stderr",
     "output_type": "stream",
     "text": [
      "\r",
      "Best Individual:  71%|███████▏  | 194/272 [02:16<01:44,  1.34s/it]"
     ]
    },
    {
     "name": "stderr",
     "output_type": "stream",
     "text": [
      "\r",
      "Best Individual:  72%|███████▏  | 195/272 [02:17<01:35,  1.24s/it]"
     ]
    },
    {
     "name": "stderr",
     "output_type": "stream",
     "text": [
      "\r",
      "Best Individual:  72%|███████▏  | 196/272 [02:17<01:15,  1.00it/s]"
     ]
    },
    {
     "name": "stderr",
     "output_type": "stream",
     "text": [
      "\r",
      "Best Individual:  72%|███████▏  | 197/272 [02:19<01:27,  1.17s/it]"
     ]
    },
    {
     "name": "stderr",
     "output_type": "stream",
     "text": [
      "\r",
      "Best Individual:  73%|███████▎  | 198/272 [02:20<01:33,  1.27s/it]"
     ]
    },
    {
     "name": "stderr",
     "output_type": "stream",
     "text": [
      "\r",
      "Best Individual:  73%|███████▎  | 199/272 [02:20<01:09,  1.05it/s]"
     ]
    },
    {
     "name": "stderr",
     "output_type": "stream",
     "text": [
      "\r",
      "Best Individual:  74%|███████▎  | 200/272 [02:21<01:03,  1.13it/s]"
     ]
    },
    {
     "name": "stderr",
     "output_type": "stream",
     "text": [
      "\r",
      "Best Individual:  74%|███████▍  | 201/272 [02:22<00:55,  1.27it/s]"
     ]
    },
    {
     "name": "stderr",
     "output_type": "stream",
     "text": [
      "\r",
      "Best Individual:  74%|███████▍  | 202/272 [02:22<00:51,  1.37it/s]"
     ]
    },
    {
     "name": "stderr",
     "output_type": "stream",
     "text": [
      "\r",
      "Best Individual:  75%|███████▍  | 203/272 [02:22<00:39,  1.77it/s]"
     ]
    },
    {
     "name": "stderr",
     "output_type": "stream",
     "text": [
      "\r",
      "Best Individual:  75%|███████▌  | 204/272 [02:23<00:37,  1.79it/s]"
     ]
    },
    {
     "name": "stderr",
     "output_type": "stream",
     "text": [
      "\r",
      "Best Individual:  75%|███████▌  | 205/272 [02:24<00:38,  1.76it/s]"
     ]
    },
    {
     "name": "stderr",
     "output_type": "stream",
     "text": [
      "\r",
      "Best Individual:  76%|███████▌  | 206/272 [02:24<00:32,  2.00it/s]"
     ]
    },
    {
     "name": "stderr",
     "output_type": "stream",
     "text": [
      "\r",
      "Best Individual:  76%|███████▌  | 207/272 [02:25<00:48,  1.34it/s]"
     ]
    },
    {
     "name": "stderr",
     "output_type": "stream",
     "text": [
      "\r",
      "Best Individual:  76%|███████▋  | 208/272 [02:26<00:39,  1.62it/s]"
     ]
    },
    {
     "name": "stderr",
     "output_type": "stream",
     "text": [
      "\r",
      "Best Individual:  77%|███████▋  | 209/272 [02:26<00:45,  1.38it/s]"
     ]
    },
    {
     "name": "stderr",
     "output_type": "stream",
     "text": [
      "\r",
      "Best Individual:  77%|███████▋  | 210/272 [02:27<00:37,  1.67it/s]"
     ]
    },
    {
     "name": "stderr",
     "output_type": "stream",
     "text": [
      "\r",
      "Best Individual:  78%|███████▊  | 211/272 [02:27<00:27,  2.19it/s]"
     ]
    },
    {
     "name": "stderr",
     "output_type": "stream",
     "text": [
      "\r",
      "Best Individual:  78%|███████▊  | 212/272 [02:27<00:29,  2.05it/s]"
     ]
    },
    {
     "name": "stderr",
     "output_type": "stream",
     "text": [
      "\r",
      "Best Individual:  78%|███████▊  | 213/272 [02:28<00:30,  1.93it/s]"
     ]
    },
    {
     "name": "stderr",
     "output_type": "stream",
     "text": [
      "\r",
      "Best Individual:  79%|███████▊  | 214/272 [02:29<00:29,  1.95it/s]"
     ]
    },
    {
     "name": "stderr",
     "output_type": "stream",
     "text": [
      "\r",
      "Best Individual:  79%|███████▉  | 215/272 [02:30<00:45,  1.27it/s]"
     ]
    },
    {
     "name": "stderr",
     "output_type": "stream",
     "text": [
      "\r",
      "Best Individual:  79%|███████▉  | 216/272 [02:31<00:55,  1.01it/s]"
     ]
    },
    {
     "name": "stderr",
     "output_type": "stream",
     "text": [
      "\r",
      "Best Individual:  80%|███████▉  | 217/272 [02:32<00:42,  1.30it/s]"
     ]
    },
    {
     "name": "stderr",
     "output_type": "stream",
     "text": [
      "\r",
      "Best Individual:  80%|████████  | 218/272 [02:33<00:55,  1.03s/it]"
     ]
    },
    {
     "name": "stderr",
     "output_type": "stream",
     "text": [
      "\r",
      "Best Individual:  81%|████████  | 219/272 [02:34<00:54,  1.03s/it]"
     ]
    },
    {
     "name": "stderr",
     "output_type": "stream",
     "text": [
      "\r",
      "Best Individual:  81%|████████  | 220/272 [02:35<00:40,  1.27it/s]"
     ]
    },
    {
     "name": "stderr",
     "output_type": "stream",
     "text": [
      "\r",
      "Best Individual:  81%|████████▏ | 221/272 [02:36<00:45,  1.13it/s]"
     ]
    },
    {
     "name": "stderr",
     "output_type": "stream",
     "text": [
      "\r",
      "Best Individual:  82%|████████▏ | 222/272 [02:36<00:35,  1.41it/s]"
     ]
    },
    {
     "name": "stderr",
     "output_type": "stream",
     "text": [
      "\r",
      "Best Individual:  82%|████████▏ | 223/272 [02:36<00:29,  1.68it/s]"
     ]
    },
    {
     "name": "stderr",
     "output_type": "stream",
     "text": [
      "\r",
      "Best Individual:  83%|████████▎ | 225/272 [02:37<00:21,  2.17it/s]"
     ]
    },
    {
     "name": "stderr",
     "output_type": "stream",
     "text": [
      "\r",
      "Best Individual:  83%|████████▎ | 226/272 [02:37<00:20,  2.20it/s]"
     ]
    },
    {
     "name": "stderr",
     "output_type": "stream",
     "text": [
      "\r",
      "Best Individual:  83%|████████▎ | 227/272 [02:38<00:20,  2.24it/s]"
     ]
    },
    {
     "name": "stderr",
     "output_type": "stream",
     "text": [
      "\r",
      "Best Individual:  84%|████████▍ | 228/272 [02:38<00:24,  1.77it/s]"
     ]
    },
    {
     "name": "stderr",
     "output_type": "stream",
     "text": [
      "\r",
      "Best Individual:  84%|████████▍ | 229/272 [02:39<00:19,  2.22it/s]"
     ]
    },
    {
     "name": "stderr",
     "output_type": "stream",
     "text": [
      "\r",
      "Best Individual:  85%|████████▍ | 230/272 [02:41<00:44,  1.06s/it]"
     ]
    },
    {
     "name": "stderr",
     "output_type": "stream",
     "text": [
      "\r",
      "Best Individual:  85%|████████▍ | 231/272 [02:42<00:36,  1.12it/s]"
     ]
    },
    {
     "name": "stderr",
     "output_type": "stream",
     "text": [
      "\r",
      "Best Individual:  85%|████████▌ | 232/272 [02:42<00:27,  1.45it/s]"
     ]
    },
    {
     "name": "stderr",
     "output_type": "stream",
     "text": [
      "\r",
      "Best Individual:  86%|████████▌ | 233/272 [02:43<00:32,  1.20it/s]"
     ]
    },
    {
     "name": "stderr",
     "output_type": "stream",
     "text": [
      "\r",
      "Best Individual:  86%|████████▌ | 234/272 [02:43<00:27,  1.36it/s]"
     ]
    },
    {
     "name": "stderr",
     "output_type": "stream",
     "text": [
      "\r",
      "Best Individual:  86%|████████▋ | 235/272 [02:44<00:21,  1.74it/s]"
     ]
    },
    {
     "name": "stderr",
     "output_type": "stream",
     "text": [
      "\r",
      "Best Individual:  87%|████████▋ | 236/272 [02:44<00:18,  1.99it/s]"
     ]
    },
    {
     "name": "stderr",
     "output_type": "stream",
     "text": [
      "\r",
      "Best Individual:  87%|████████▋ | 237/272 [02:44<00:14,  2.41it/s]"
     ]
    },
    {
     "name": "stderr",
     "output_type": "stream",
     "text": [
      "\r",
      "Best Individual:  88%|████████▊ | 238/272 [02:44<00:12,  2.64it/s]"
     ]
    },
    {
     "name": "stderr",
     "output_type": "stream",
     "text": [
      "\r",
      "Best Individual:  88%|████████▊ | 239/272 [02:45<00:11,  2.91it/s]"
     ]
    },
    {
     "name": "stderr",
     "output_type": "stream",
     "text": [
      "\r",
      "Best Individual:  88%|████████▊ | 240/272 [02:45<00:15,  2.11it/s]"
     ]
    },
    {
     "name": "stderr",
     "output_type": "stream",
     "text": [
      "\r",
      "Best Individual:  89%|████████▉ | 242/272 [02:46<00:10,  2.75it/s]"
     ]
    },
    {
     "name": "stderr",
     "output_type": "stream",
     "text": [
      "\r",
      "Best Individual:  89%|████████▉ | 243/272 [02:47<00:15,  1.90it/s]"
     ]
    },
    {
     "name": "stderr",
     "output_type": "stream",
     "text": [
      "\r",
      "Best Individual:  90%|████████▉ | 244/272 [02:47<00:13,  2.15it/s]"
     ]
    },
    {
     "name": "stderr",
     "output_type": "stream",
     "text": [
      "\r",
      "Best Individual:  90%|█████████ | 245/272 [02:48<00:19,  1.40it/s]"
     ]
    },
    {
     "name": "stderr",
     "output_type": "stream",
     "text": [
      "\r",
      "Best Individual:  90%|█████████ | 246/272 [02:49<00:21,  1.23it/s]"
     ]
    },
    {
     "name": "stderr",
     "output_type": "stream",
     "text": [
      "\r",
      "Best Individual:  91%|█████████ | 247/272 [02:50<00:20,  1.23it/s]"
     ]
    },
    {
     "name": "stderr",
     "output_type": "stream",
     "text": [
      "\r",
      "Best Individual:  91%|█████████ | 248/272 [02:50<00:14,  1.60it/s]"
     ]
    },
    {
     "name": "stderr",
     "output_type": "stream",
     "text": [
      "\r",
      "Best Individual:  92%|█████████▏| 249/272 [02:51<00:14,  1.63it/s]"
     ]
    },
    {
     "name": "stderr",
     "output_type": "stream",
     "text": [
      "\r",
      "Best Individual:  92%|█████████▏| 250/272 [02:51<00:11,  1.88it/s]"
     ]
    },
    {
     "name": "stderr",
     "output_type": "stream",
     "text": [
      "\r",
      "Best Individual:  92%|█████████▏| 251/272 [02:52<00:11,  1.78it/s]"
     ]
    },
    {
     "name": "stderr",
     "output_type": "stream",
     "text": [
      "\r",
      "Best Individual:  93%|█████████▎| 252/272 [02:52<00:08,  2.23it/s]"
     ]
    },
    {
     "name": "stderr",
     "output_type": "stream",
     "text": [
      "\r",
      "Best Individual:  93%|█████████▎| 253/272 [02:54<00:17,  1.07it/s]"
     ]
    },
    {
     "name": "stderr",
     "output_type": "stream",
     "text": [
      "\r",
      "Best Individual:  93%|█████████▎| 254/272 [02:54<00:12,  1.40it/s]"
     ]
    },
    {
     "name": "stderr",
     "output_type": "stream",
     "text": [
      "\r",
      "Best Individual:  94%|█████████▍| 255/272 [02:54<00:09,  1.82it/s]"
     ]
    },
    {
     "name": "stderr",
     "output_type": "stream",
     "text": [
      "\r",
      "Best Individual:  94%|█████████▍| 256/272 [02:55<00:10,  1.51it/s]"
     ]
    },
    {
     "name": "stderr",
     "output_type": "stream",
     "text": [
      "\r",
      "Best Individual:  94%|█████████▍| 257/272 [02:56<00:11,  1.28it/s]"
     ]
    },
    {
     "name": "stderr",
     "output_type": "stream",
     "text": [
      "\r",
      "Best Individual:  95%|█████████▍| 258/272 [02:57<00:08,  1.58it/s]"
     ]
    },
    {
     "name": "stderr",
     "output_type": "stream",
     "text": [
      "\r",
      "Best Individual:  95%|█████████▌| 259/272 [02:57<00:06,  1.99it/s]"
     ]
    },
    {
     "name": "stderr",
     "output_type": "stream",
     "text": [
      "\r",
      "Best Individual:  96%|█████████▌| 260/272 [02:57<00:05,  2.39it/s]"
     ]
    },
    {
     "name": "stderr",
     "output_type": "stream",
     "text": [
      "\r",
      "Best Individual:  96%|█████████▌| 261/272 [02:57<00:04,  2.70it/s]"
     ]
    },
    {
     "name": "stderr",
     "output_type": "stream",
     "text": [
      "\r",
      "Best Individual:  96%|█████████▋| 262/272 [02:58<00:04,  2.46it/s]"
     ]
    },
    {
     "name": "stderr",
     "output_type": "stream",
     "text": [
      "\r",
      "Best Individual:  97%|█████████▋| 263/272 [02:58<00:02,  3.08it/s]"
     ]
    },
    {
     "name": "stderr",
     "output_type": "stream",
     "text": [
      "\r",
      "Best Individual:  97%|█████████▋| 264/272 [02:58<00:02,  3.03it/s]"
     ]
    },
    {
     "name": "stderr",
     "output_type": "stream",
     "text": [
      "\r",
      "Best Individual:  97%|█████████▋| 265/272 [02:59<00:02,  3.05it/s]"
     ]
    },
    {
     "name": "stderr",
     "output_type": "stream",
     "text": [
      "\r",
      "Best Individual:  98%|█████████▊| 266/272 [03:00<00:03,  1.87it/s]"
     ]
    },
    {
     "name": "stderr",
     "output_type": "stream",
     "text": [
      "\r",
      "Best Individual:  98%|█████████▊| 267/272 [03:00<00:02,  1.99it/s]"
     ]
    },
    {
     "name": "stderr",
     "output_type": "stream",
     "text": [
      "\r",
      "Best Individual:  99%|█████████▊| 268/272 [03:01<00:02,  1.33it/s]"
     ]
    },
    {
     "name": "stderr",
     "output_type": "stream",
     "text": [
      "\r",
      "Best Individual:  99%|█████████▉| 270/272 [03:02<00:01,  1.79it/s]"
     ]
    },
    {
     "name": "stderr",
     "output_type": "stream",
     "text": [
      "\r",
      "Best Individual: 100%|█████████▉| 271/272 [03:02<00:00,  2.01it/s]"
     ]
    },
    {
     "name": "stderr",
     "output_type": "stream",
     "text": [
      "\r",
      "Best Individual: 100%|██████████| 272/272 [03:03<00:00,  1.91it/s]"
     ]
    },
    {
     "name": "stderr",
     "output_type": "stream",
     "text": [
      "\n"
     ]
    }
   ],
   "source": [
    "bi_models = pd.Series([])\n",
    "bi_losses = pd.Series([]).rename('bi_loss')\n",
    "with tqdm(available_bi_models, desc='Best Individual') as bar:\n",
    "  for f in bar:\n",
    "    subject_id = int(f.split('.')[0])\n",
    "    with open(os.path.join(BI_MODEL_PATH, f)) as f_in:\n",
    "      model = unmake_json(json.load(f_in))\n",
    "    model_obj = make_model(subject_id, model)\n",
    "    bi_models[subject_id] = model_obj\n",
    "    r = model_obj.render(model_obj._model)\n",
    "    bi_losses[subject_id] = loss(\n",
    "      r,\n",
    "      model_obj.data,\n",
    "      pixel_mask=model_obj.pixel_mask\n",
    "    )"
   ]
  },
  {
   "cell_type": "code",
   "execution_count": 9,
   "metadata": {
    "collapsed": false,
    "inputHidden": false,
    "outputHidden": false,
    "papermill": {
     "duration": 0.902328,
     "end_time": "2019-08-22T09:56:39.599836",
     "exception": false,
     "start_time": "2019-08-22T09:56:38.697508",
     "status": "completed"
    },
    "tags": []
   },
   "outputs": [
    {
     "data": {
      "text/plain": [
       "<matplotlib.image.AxesImage at 0x7f8cb4213cc0>"
      ]
     },
     "execution_count": 9,
     "metadata": {},
     "output_type": "execute_result"
    },
    {
     "data": {
      "image/png": "[encoded data removed]",
      "text/plain": [
       "<Figure size 600x400 with 3 Axes>"
      ]
     },
     "metadata": {
      "needs_background": "light"
     },
     "output_type": "display_data"
    }
   ],
   "source": [
    "plt.figure(dpi=100)\n",
    "plt.subplot(131)\n",
    "plt.imshow(bi_models.iloc[13].render())\n",
    "plt.subplot(132)\n",
    "plt.imshow(agg_models.iloc[13].render())\n",
    "plt.subplot(133)\n",
    "plt.imshow(bi_models.iloc[13].data)"
   ]
  },
  {
   "cell_type": "code",
   "execution_count": 10,
   "metadata": {
    "collapsed": false,
    "inputHidden": false,
    "outputHidden": false,
    "papermill": {
     "duration": 0.203206,
     "end_time": "2019-08-22T09:56:39.932747",
     "exception": false,
     "start_time": "2019-08-22T09:56:39.729541",
     "status": "completed"
    },
    "tags": []
   },
   "outputs": [],
   "source": [
    "from gzbuilder_analysis.fitting.jupyter import live_fit"
   ]
  },
  {
   "cell_type": "code",
   "execution_count": 11,
   "metadata": {
    "collapsed": false,
    "inputHidden": false,
    "outputHidden": false,
    "papermill": {
     "duration": 0.161488,
     "end_time": "2019-08-22T09:56:40.223373",
     "exception": false,
     "start_time": "2019-08-22T09:56:40.061885",
     "status": "completed"
    },
    "tags": []
   },
   "outputs": [
    {
     "data": {
      "text/plain": [
       "0.0004365231613910679"
      ]
     },
     "execution_count": 11,
     "metadata": {},
     "output_type": "execute_result"
    }
   ],
   "source": [
    "agg_losses.loc[20902052]"
   ]
  },
  {
   "cell_type": "code",
   "execution_count": 12,
   "metadata": {
    "collapsed": false,
    "inputHidden": false,
    "outputHidden": false,
    "papermill": {
     "duration": 0.493186,
     "end_time": "2019-08-22T09:56:40.845589",
     "exception": false,
     "start_time": "2019-08-22T09:56:40.352403",
     "status": "completed"
    },
    "tags": []
   },
   "outputs": [
    {
     "data": {
      "text/html": [
       "Running:<br><code>fitted_model, res = model_fitter.fit()</code>"
      ],
      "text/plain": [
       "<IPython.core.display.HTML object>"
      ]
     },
     "metadata": {},
     "output_type": "display_data"
    },
    {
     "data": {
      "text/html": [
       "<table border=\"1\" class=\"dataframe\">\n",
       "  <thead>\n",
       "    <tr style=\"text-align: right;\">\n",
       "      <th></th>\n",
       "      <th>axRatio</th>\n",
       "      <th>c</th>\n",
       "      <th>i0</th>\n",
       "      <th>mu</th>\n",
       "      <th>n</th>\n",
       "      <th>rEff</th>\n",
       "      <th>roll</th>\n",
       "    </tr>\n",
       "  </thead>\n",
       "  <tbody>\n",
       "    <tr>\n",
       "      <th>disk</th>\n",
       "      <td>0.405398</td>\n",
       "      <td>2.0</td>\n",
       "      <td>0.041974</td>\n",
       "      <td>[38.497555015015294, 38.152308211400374]</td>\n",
       "      <td>1.0000</td>\n",
       "      <td>13.176997</td>\n",
       "      <td>2.409766</td>\n",
       "    </tr>\n",
       "    <tr>\n",
       "      <th>bulge</th>\n",
       "      <td>0.912810</td>\n",
       "      <td>2.0</td>\n",
       "      <td>0.967713</td>\n",
       "      <td>[38.098145422208354, 37.903816925384916]</td>\n",
       "      <td>2.1675</td>\n",
       "      <td>2.816694</td>\n",
       "      <td>2.713640</td>\n",
       "    </tr>\n",
       "    <tr>\n",
       "      <th>bar</th>\n",
       "      <td>NaN</td>\n",
       "      <td>NaN</td>\n",
       "      <td>NaN</td>\n",
       "      <td>NaN</td>\n",
       "      <td>NaN</td>\n",
       "      <td>NaN</td>\n",
       "      <td>NaN</td>\n",
       "    </tr>\n",
       "  </tbody>\n",
       "</table><table border=\"1\" class=\"dataframe\">\n",
       "  <thead>\n",
       "    <tr style=\"text-align: right;\">\n",
       "      <th></th>\n",
       "      <th>falloff</th>\n",
       "      <th>i0</th>\n",
       "      <th>spread</th>\n",
       "    </tr>\n",
       "    <tr>\n",
       "      <th>Spiral number</th>\n",
       "      <th></th>\n",
       "      <th></th>\n",
       "      <th></th>\n",
       "    </tr>\n",
       "  </thead>\n",
       "  <tbody>\n",
       "    <tr>\n",
       "      <th>0</th>\n",
       "      <td>0.626632</td>\n",
       "      <td>0.208973</td>\n",
       "      <td>10.547994</td>\n",
       "    </tr>\n",
       "    <tr>\n",
       "      <th>1</th>\n",
       "      <td>0.323379</td>\n",
       "      <td>0.074055</td>\n",
       "      <td>4.934954</td>\n",
       "    </tr>\n",
       "  </tbody>\n",
       "</table>"
      ],
      "text/plain": [
       "<IPython.core.display.HTML object>"
      ]
     },
     "metadata": {},
     "output_type": "display_data"
    },
    {
     "name": "stderr",
     "output_type": "stream",
     "text": [
      "\r",
      "Fitting model: 0it [00:00, ?it/s]"
     ]
    },
    {
     "name": "stderr",
     "output_type": "stream",
     "text": [
      "\r",
      "                                 "
     ]
    },
    {
     "name": "stderr",
     "output_type": "stream",
     "text": [
      "\r"
     ]
    }
   ],
   "source": [
    "nm, res = live_fit(agg_models.iloc[13])"
   ]
  },
  {
   "cell_type": "code",
   "execution_count": 13,
   "metadata": {
    "collapsed": false,
    "inputHidden": false,
    "outputHidden": false,
    "papermill": {
     "duration": 0.182037,
     "end_time": "2019-08-22T09:56:41.159464",
     "exception": false,
     "start_time": "2019-08-22T09:56:40.977427",
     "status": "completed"
    },
    "tags": []
   },
   "outputs": [
    {
     "data": {
      "text/plain": [
       "'1.01060e-04 -> 1.01060e-04'"
      ]
     },
     "execution_count": 13,
     "metadata": {},
     "output_type": "execute_result"
    }
   ],
   "source": [
    "'{:.5e} -> {:.5e}'.format(agg_losses.iloc[13], res['fun'])"
   ]
  },
  {
   "cell_type": "code",
   "execution_count": 14,
   "metadata": {
    "collapsed": false,
    "inputHidden": false,
    "outputHidden": false,
    "papermill": {
     "duration": 0.548168,
     "end_time": "2019-08-22T09:56:41.839450",
     "exception": false,
     "start_time": "2019-08-22T09:56:41.291282",
     "status": "completed"
    },
    "tags": []
   },
   "outputs": [
    {
     "data": {
      "image/png": "[encoded data removed]",
      "text/plain": [
       "<Figure size 1200x400 with 2 Axes>"
      ]
     },
     "metadata": {
      "needs_background": "light"
     },
     "output_type": "display_data"
    }
   ],
   "source": [
    "_, axs = plt.subplots(ncols=2, figsize=(12, 4), dpi=100)\n",
    "plt.sca(axs[0])\n",
    "sns.kdeplot(agg_losses)\n",
    "sns.kdeplot(bi_losses)\n",
    "\n",
    "plt.sca(axs[1])\n",
    "diff = agg_losses - bi_losses\n",
    "sns.kdeplot(diff.dropna(), shade=True)\n",
    "plt.xlabel('Agg loss - BI loss (>0 if BI better)')\n",
    "l = plt.ylim()[1]\n",
    "plt.vlines(diff.median(), -10, l, alpha=0.2)\n",
    "plt.ylim(0, l);"
   ]
  },
  {
   "cell_type": "code",
   "execution_count": 15,
   "metadata": {
    "collapsed": false,
    "inputHidden": false,
    "outputHidden": false,
    "papermill": {
     "duration": 0.321413,
     "end_time": "2019-08-22T09:56:42.294689",
     "exception": false,
     "start_time": "2019-08-22T09:56:41.973276",
     "status": "completed"
    },
    "tags": []
   },
   "outputs": [
    {
     "data": {
      "image/png": "[encoded data removed]",
      "text/plain": [
       "<Figure size 432x288 with 1 Axes>"
      ]
     },
     "metadata": {
      "needs_background": "light"
     },
     "output_type": "display_data"
    }
   ],
   "source": [
    "diff = agg_losses - bi_losses\n",
    "sns.kdeplot(diff.dropna(), shade=True)\n",
    "plt.xlabel('Agg loss - BI loss (>0 if BI better)')\n",
    "l = plt.ylim()[1]\n",
    "plt.vlines(diff.median(), -10, l, alpha=0.2)\n",
    "plt.ylim(0, l);"
   ]
  },
  {
   "cell_type": "code",
   "execution_count": 16,
   "metadata": {
    "collapsed": false,
    "inputHidden": false,
    "outputHidden": false,
    "papermill": {
     "duration": 0.453755,
     "end_time": "2019-08-22T09:56:42.883131",
     "exception": false,
     "start_time": "2019-08-22T09:56:42.429376",
     "status": "completed"
    },
    "tags": []
   },
   "outputs": [
    {
     "data": {
      "image/png": "[encoded data removed]",
      "text/plain": [
       "<Figure size 1152x288 with 1 Axes>"
      ]
     },
     "metadata": {
      "needs_background": "light"
     },
     "output_type": "display_data"
    }
   ],
   "source": [
    "x = np.linspace(0, 1, 1000)\n",
    "p_agg_better = st.beta.pdf(x, 1 + (diff < 0).sum(), 1 + len(diff) - (diff < 0).sum())\n",
    "p_bi_better = st.beta.pdf(x, 1 + (diff > 0).sum(), 1 + len(diff) - (diff > 0).sum())\n",
    "plt.figure(figsize=(16, 4))\n",
    "plt.plot(x, p_agg_better, label='P(Aggregate better than Best Individual)')\n",
    "plt.fill_between(x, 0, p_agg_better, alpha=0.2)\n",
    "plt.plot(x, p_bi_better, label='P(Best Individual better than Aggregate)')\n",
    "plt.fill_between(x, 0, p_bi_better, alpha=0.2)\n",
    "plt.legend()\n",
    "plt.yticks([]);"
   ]
  },
  {
   "cell_type": "markdown",
   "metadata": {
    "papermill": {
     "duration": 0.135381,
     "end_time": "2019-08-22T09:56:43.153789",
     "exception": false,
     "start_time": "2019-08-22T09:56:43.018408",
     "status": "completed"
    },
    "tags": []
   },
   "source": [
    "What do the models look like where the differences between aggregate and models are largest?"
   ]
  },
  {
   "cell_type": "code",
   "execution_count": 17,
   "metadata": {
    "collapsed": false,
    "inputHidden": true,
    "outputHidden": false,
    "papermill": {
     "duration": 2.498669,
     "end_time": "2019-08-22T09:56:45.788063",
     "exception": false,
     "start_time": "2019-08-22T09:56:43.289394",
     "status": "completed"
    },
    "tags": []
   },
   "outputs": [
    {
     "data": {
      "image/png": "[encoded data removed]",
      "text/plain": [
       "<Figure size 1400x700 with 8 Axes>"
      ]
     },
     "metadata": {
      "needs_background": "light"
     },
     "output_type": "display_data"
    }
   ],
   "source": [
    "_, ax = plt.subplots(nrows=2, ncols=4, figsize=(14, 7), dpi=100)\n",
    "for i, idx in enumerate(diff.abs().sort_values(ascending=False).index[:4]):\n",
    "  agg_better = agg_losses.loc[idx] < bi_losses.loc[idx]\n",
    "  a = agg_models.loc[idx]\n",
    "  b = bi_models.loc[idx]\n",
    "  ax[0][i].imshow(a.render() * a.pixel_mask ,\n",
    "                  cmap=('Blues' if agg_better else 'Reds'))\n",
    "  ax[0][i].set_title('Aggregate: {:.4e}'.format(agg_losses.loc[idx]))\n",
    "  ax[1][i].imshow(b.render() * b.pixel_mask,\n",
    "                  cmap=('Reds' if agg_better else 'Blues'))\n",
    "  ax[1][i].set_title('Best Individual: {:.4e}'.format(bi_losses.loc[idx]))\n",
    "plt.tight_layout()"
   ]
  },
  {
   "cell_type": "markdown",
   "metadata": {
    "papermill": {
     "duration": 0.138271,
     "end_time": "2019-08-22T09:56:46.067164",
     "exception": false,
     "start_time": "2019-08-22T09:56:45.928893",
     "status": "completed"
    },
    "tags": []
   },
   "source": [
    "What about when the models are the most similar?"
   ]
  },
  {
   "cell_type": "code",
   "execution_count": 18,
   "metadata": {
    "collapsed": false,
    "inputHidden": true,
    "outputHidden": false,
    "papermill": {
     "duration": 3.731672,
     "end_time": "2019-08-22T09:56:49.937485",
     "exception": false,
     "start_time": "2019-08-22T09:56:46.205813",
     "status": "completed"
    },
    "tags": []
   },
   "outputs": [
    {
     "data": {
      "image/png": "[encoded data removed]",
      "text/plain": [
       "<Figure size 1400x700 with 8 Axes>"
      ]
     },
     "metadata": {
      "needs_background": "light"
     },
     "output_type": "display_data"
    }
   ],
   "source": [
    "_, ax = plt.subplots(nrows=2, ncols=4, figsize=(14, 7), dpi=100)\n",
    "for i, idx in enumerate(diff.abs().sort_values(ascending=True).index[:4]):\n",
    "  agg_better = agg_losses.loc[idx] < bi_losses.loc[idx]\n",
    "  a = agg_models.loc[idx]\n",
    "  b = bi_models.loc[idx]\n",
    "  ax[0][i].imshow(a.render() * a.pixel_mask ,\n",
    "                  cmap=('Blues' if agg_better else 'Reds'))\n",
    "  ax[0][i].set_title('Aggregate: {:.4e}'.format(agg_losses.loc[idx]))\n",
    "  ax[1][i].imshow(b.render() * b.pixel_mask,\n",
    "                  cmap=('Reds' if agg_better else 'Blues'))\n",
    "  ax[1][i].set_title('Best Individual: {:.4e}'.format(bi_losses.loc[idx]))\n",
    "plt.tight_layout()"
   ]
  },
  {
   "cell_type": "code",
   "execution_count": 19,
   "metadata": {
    "collapsed": false,
    "inputHidden": false,
    "outputHidden": false,
    "papermill": {
     "duration": 0.741828,
     "end_time": "2019-08-22T09:56:50.823586",
     "exception": false,
     "start_time": "2019-08-22T09:56:50.081758",
     "status": "completed"
    },
    "tags": []
   },
   "outputs": [
    {
     "name": "stdout",
     "output_type": "stream",
     "text": [
      "Saving fitted models\n"
     ]
    }
   ],
   "source": [
    "print('Saving fitted models')\n",
    "fitted_models = pd.DataFrame([], columns=('agg', 'bi', 'agg_loss', 'bi_loss'))\n",
    "for i in bi_models.index:\n",
    "  fitted_models.loc[i] = dict(\n",
    "    agg=agg_models.loc[i]._model,\n",
    "    bi=bi_models.loc[i]._model,\n",
    "    agg_loss=agg_losses.loc[i],\n",
    "    bi_loss=bi_losses.loc[i],\n",
    "  )\n",
    "fitted_models.to_pickle('lib/fitted_models.pickle')"
   ]
  }
 ],
 "metadata": {
  "kernel_info": {
   "name": "python3"
  },
  "kernelspec": {
   "display_name": "Python 3",
   "language": "python",
   "name": "python3"
  },
  "language_info": {
   "codemirror_mode": {
    "name": "ipython",
    "version": 3
   },
   "file_extension": ".py",
   "mimetype": "text/x-python",
   "name": "python",
   "nbconvert_exporter": "python",
   "pygments_lexer": "ipython3",
   "version": "3.7.3"
  },
  "nteract": {
   "version": "0.14.3"
  },
  "papermill": {
   "duration": 380.332544,
   "end_time": "2019-08-22T09:56:51.923583",
   "environment_variables": {},
   "exception": null,
   "input_path": "/users/tingard/gzbuilder_results/input_files/compile_tuned_models.ipynb",
   "output_path": "/users/tingard/gzbuilder_results/output_files/compile_tuned_models.ipynb",
   "parameters": {
    "AGG_MODEL_PATH": "/users/tingard/gzbuilder_results/output_files/tuned_models/agg",
    "BI_MODEL_PATH": "/users/tingard/gzbuilder_results/output_files/tuned_models/bi"
   },
   "start_time": "2019-08-22T09:50:31.591039",
   "version": "1.0.1"
  }
 },
 "nbformat": 4,
 "nbformat_minor": 0
}