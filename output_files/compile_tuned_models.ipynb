{
 "cells": [
  {
   "cell_type": "markdown",
   "metadata": {
    "papermill": {
     "duration": 0.021117,
     "end_time": "2019-08-21T09:35:37.295989",
     "exception": false,
     "start_time": "2019-08-21T09:35:37.274872",
     "status": "completed"
    },
    "tags": []
   },
   "source": [
    "# Compile Tuned models\n",
    "\n",
    "We grab the tuned models (performed using the Levenberg Marquadt algorithm on the Sciama HPC)."
   ]
  },
  {
   "cell_type": "code",
   "execution_count": 1,
   "metadata": {
    "collapsed": false,
    "inputHidden": false,
    "outputHidden": false,
    "papermill": {
     "duration": 0.103178,
     "end_time": "2019-08-21T09:35:37.412740",
     "exception": false,
     "start_time": "2019-08-21T09:35:37.309562",
     "status": "completed"
    },
    "tags": []
   },
   "outputs": [],
   "source": [
    "%load_ext autoreload\n",
    "%autoreload 2"
   ]
  },
  {
   "cell_type": "code",
   "execution_count": 2,
   "metadata": {
    "collapsed": false,
    "inputHidden": false,
    "outputHidden": false,
    "papermill": {
     "duration": 15.095677,
     "end_time": "2019-08-21T09:35:52.524002",
     "exception": false,
     "start_time": "2019-08-21T09:35:37.428325",
     "status": "completed"
    },
    "tags": []
   },
   "outputs": [],
   "source": [
    "import os\n",
    "import re\n",
    "import json\n",
    "import numpy as np\n",
    "import scipy.stats as st\n",
    "import pandas as pd\n",
    "import matplotlib.pyplot as plt\n",
    "import seaborn as sns\n",
    "from tqdm import tqdm\n",
    "from gzbuilder_analysis.parsing import unmake_json\n",
    "from gzbuilder_analysis.fitting import Model, loss\n",
    "import lib.galaxy_utilities as gu"
   ]
  },
  {
   "cell_type": "code",
   "execution_count": 3,
   "metadata": {
    "collapsed": false,
    "inputHidden": false,
    "outputHidden": false,
    "papermill": {
     "duration": 0.148422,
     "end_time": "2019-08-21T09:35:52.687492",
     "exception": false,
     "start_time": "2019-08-21T09:35:52.539070",
     "status": "completed"
    },
    "tags": []
   },
   "outputs": [],
   "source": [
    "def make_model(subject_id, m):\n",
    "    psf = gu.get_psf(subject_id)\n",
    "    diff_data = gu.get_diff_data(subject_id)\n",
    "    pixel_mask = 1 - np.array(diff_data['mask'])[::-1]\n",
    "    galaxy_data = np.array(diff_data['imageData'])[::-1]\n",
    "    return Model(m, galaxy_data, psf=psf, pixel_mask=pixel_mask)"
   ]
  },
  {
   "cell_type": "code",
   "execution_count": 4,
   "metadata": {
    "collapsed": false,
    "inputHidden": false,
    "outputHidden": false,
    "papermill": {
     "duration": 0.122044,
     "end_time": "2019-08-21T09:35:52.819391",
     "exception": false,
     "start_time": "2019-08-21T09:35:52.697347",
     "status": "completed"
    },
    "tags": []
   },
   "outputs": [],
   "source": [
    "AGG_MODEL_PATH = 'output_notebooks/tuned_models/agg'\n",
    "BI_MODEL_PATH = 'output_notebooks/tuned_models/bi'\n",
    "\n",
    "available_agg_models = [\n",
    "  i for i in os.listdir(AGG_MODEL_PATH)\n",
    "  if re.match(r'[0-9]+\\.json', i)\n",
    "]\n",
    "available_bi_models = [\n",
    "  i for i in os.listdir(BI_MODEL_PATH)\n",
    "  if re.match(r'[0-9]+\\.json', i)\n",
    "]"
   ]
  },
  {
   "cell_type": "code",
   "execution_count": 5,
   "metadata": {
    "collapsed": false,
    "inputHidden": true,
    "outputHidden": false,
    "papermill": {
     "duration": 216.032624,
     "end_time": "2019-08-21T09:39:28.869113",
     "exception": false,
     "start_time": "2019-08-21T09:35:52.836489",
     "status": "completed"
    },
    "tags": []
   },
   "outputs": [
    {
     "name": "stderr",
     "output_type": "stream",
     "text": [
      "\r",
      "Aggregate:   0%|          | 0/296 [00:00<?, ?it/s]"
     ]
    },
    {
     "name": "stderr",
     "output_type": "stream",
     "text": [
      "\r",
      "Aggregate:   0%|          | 1/296 [00:09<46:29,  9.46s/it]"
     ]
    },
    {
     "name": "stderr",
     "output_type": "stream",
     "text": [
      "\r",
      "Aggregate:   1%|          | 2/296 [00:10<33:30,  6.84s/it]"
     ]
    },
    {
     "name": "stderr",
     "output_type": "stream",
     "text": [
      "\r",
      "Aggregate:   1%|          | 3/296 [00:10<23:48,  4.87s/it]"
     ]
    },
    {
     "name": "stderr",
     "output_type": "stream",
     "text": [
      "\r",
      "Aggregate:   1%|▏         | 4/296 [00:11<17:56,  3.69s/it]"
     ]
    },
    {
     "name": "stderr",
     "output_type": "stream",
     "text": [
      "\r",
      "Aggregate:   2%|▏         | 5/296 [00:12<13:44,  2.83s/it]"
     ]
    },
    {
     "name": "stderr",
     "output_type": "stream",
     "text": [
      "\r",
      "Aggregate:   2%|▏         | 6/296 [00:13<11:19,  2.34s/it]"
     ]
    },
    {
     "name": "stderr",
     "output_type": "stream",
     "text": [
      "\r",
      "Aggregate:   2%|▏         | 7/296 [00:14<08:48,  1.83s/it]"
     ]
    },
    {
     "name": "stderr",
     "output_type": "stream",
     "text": [
      "\r",
      "Aggregate:   3%|▎         | 8/296 [00:14<06:54,  1.44s/it]"
     ]
    },
    {
     "name": "stderr",
     "output_type": "stream",
     "text": [
      "\r",
      "Aggregate:   3%|▎         | 9/296 [00:14<05:19,  1.11s/it]"
     ]
    },
    {
     "name": "stderr",
     "output_type": "stream",
     "text": [
      "\r",
      "Aggregate:   3%|▎         | 10/296 [00:15<04:41,  1.02it/s]"
     ]
    },
    {
     "name": "stderr",
     "output_type": "stream",
     "text": [
      "\r",
      "Aggregate:   4%|▎         | 11/296 [00:16<03:55,  1.21it/s]"
     ]
    },
    {
     "name": "stderr",
     "output_type": "stream",
     "text": [
      "\r",
      "Aggregate:   4%|▍         | 12/296 [00:16<03:12,  1.47it/s]"
     ]
    },
    {
     "name": "stderr",
     "output_type": "stream",
     "text": [
      "\r",
      "Aggregate:   4%|▍         | 13/296 [00:16<02:26,  1.93it/s]"
     ]
    },
    {
     "name": "stderr",
     "output_type": "stream",
     "text": [
      "\r",
      "Aggregate:   5%|▍         | 14/296 [00:17<02:49,  1.66it/s]"
     ]
    },
    {
     "name": "stderr",
     "output_type": "stream",
     "text": [
      "\r",
      "Aggregate:   5%|▌         | 15/296 [00:18<02:58,  1.57it/s]"
     ]
    },
    {
     "name": "stderr",
     "output_type": "stream",
     "text": [
      "\r",
      "Aggregate:   5%|▌         | 16/296 [00:18<03:04,  1.52it/s]"
     ]
    },
    {
     "name": "stderr",
     "output_type": "stream",
     "text": [
      "\r",
      "Aggregate:   6%|▌         | 17/296 [00:20<04:04,  1.14it/s]"
     ]
    },
    {
     "name": "stderr",
     "output_type": "stream",
     "text": [
      "\r",
      "Aggregate:   6%|▌         | 18/296 [00:20<03:44,  1.24it/s]"
     ]
    },
    {
     "name": "stderr",
     "output_type": "stream",
     "text": [
      "\r",
      "Aggregate:   6%|▋         | 19/296 [00:21<03:39,  1.26it/s]"
     ]
    },
    {
     "name": "stderr",
     "output_type": "stream",
     "text": [
      "\r",
      "Aggregate:   7%|▋         | 20/296 [00:21<03:04,  1.49it/s]"
     ]
    },
    {
     "name": "stderr",
     "output_type": "stream",
     "text": [
      "\r",
      "Aggregate:   7%|▋         | 21/296 [00:22<03:17,  1.39it/s]"
     ]
    },
    {
     "name": "stderr",
     "output_type": "stream",
     "text": [
      "\r",
      "Aggregate:   7%|▋         | 22/296 [00:23<02:40,  1.71it/s]"
     ]
    },
    {
     "name": "stderr",
     "output_type": "stream",
     "text": [
      "\r",
      "Aggregate:   8%|▊         | 23/296 [00:23<02:51,  1.59it/s]"
     ]
    },
    {
     "name": "stderr",
     "output_type": "stream",
     "text": [
      "\r",
      "Aggregate:   8%|▊         | 24/296 [00:24<02:43,  1.67it/s]"
     ]
    },
    {
     "name": "stderr",
     "output_type": "stream",
     "text": [
      "\r",
      "Aggregate:   8%|▊         | 25/296 [00:25<03:04,  1.47it/s]"
     ]
    },
    {
     "name": "stderr",
     "output_type": "stream",
     "text": [
      "\r",
      "Aggregate:   9%|▉         | 26/296 [00:25<02:38,  1.71it/s]"
     ]
    },
    {
     "name": "stderr",
     "output_type": "stream",
     "text": [
      "\r",
      "Aggregate:   9%|▉         | 27/296 [00:26<02:55,  1.54it/s]"
     ]
    },
    {
     "name": "stderr",
     "output_type": "stream",
     "text": [
      "\r",
      "Aggregate:   9%|▉         | 28/296 [00:27<03:23,  1.31it/s]"
     ]
    },
    {
     "name": "stderr",
     "output_type": "stream",
     "text": [
      "\r",
      "Aggregate:  10%|▉         | 29/296 [00:27<02:37,  1.70it/s]"
     ]
    },
    {
     "name": "stderr",
     "output_type": "stream",
     "text": [
      "\r",
      "Aggregate:  10%|█         | 30/296 [00:27<02:16,  1.95it/s]"
     ]
    },
    {
     "name": "stderr",
     "output_type": "stream",
     "text": [
      "\r",
      "Aggregate:  10%|█         | 31/296 [00:31<06:58,  1.58s/it]"
     ]
    },
    {
     "name": "stderr",
     "output_type": "stream",
     "text": [
      "\r",
      "Aggregate:  11%|█         | 32/296 [00:32<05:11,  1.18s/it]"
     ]
    },
    {
     "name": "stderr",
     "output_type": "stream",
     "text": [
      "\r",
      "Aggregate:  11%|█         | 33/296 [00:32<04:24,  1.00s/it]"
     ]
    },
    {
     "name": "stderr",
     "output_type": "stream",
     "text": [
      "\r",
      "Aggregate:  11%|█▏        | 34/296 [00:33<03:56,  1.11it/s]"
     ]
    },
    {
     "name": "stderr",
     "output_type": "stream",
     "text": [
      "\r",
      "Aggregate:  12%|█▏        | 35/296 [00:33<03:15,  1.33it/s]"
     ]
    },
    {
     "name": "stderr",
     "output_type": "stream",
     "text": [
      "\r",
      "Aggregate:  12%|█▏        | 36/296 [00:34<02:50,  1.52it/s]"
     ]
    },
    {
     "name": "stderr",
     "output_type": "stream",
     "text": [
      "\r",
      "Aggregate:  12%|█▎        | 37/296 [00:34<02:38,  1.64it/s]"
     ]
    },
    {
     "name": "stderr",
     "output_type": "stream",
     "text": [
      "\r",
      "Aggregate:  13%|█▎        | 38/296 [00:35<03:18,  1.30it/s]"
     ]
    },
    {
     "name": "stderr",
     "output_type": "stream",
     "text": [
      "\r",
      "Aggregate:  13%|█▎        | 39/296 [00:36<02:58,  1.44it/s]"
     ]
    },
    {
     "name": "stderr",
     "output_type": "stream",
     "text": [
      "\r",
      "Aggregate:  14%|█▎        | 40/296 [00:37<03:35,  1.19it/s]"
     ]
    },
    {
     "name": "stderr",
     "output_type": "stream",
     "text": [
      "\r",
      "Aggregate:  14%|█▍        | 41/296 [00:38<03:25,  1.24it/s]"
     ]
    },
    {
     "name": "stderr",
     "output_type": "stream",
     "text": [
      "\r",
      "Aggregate:  14%|█▍        | 42/296 [00:38<02:40,  1.59it/s]"
     ]
    },
    {
     "name": "stderr",
     "output_type": "stream",
     "text": [
      "\r",
      "Aggregate:  15%|█▍        | 43/296 [00:38<02:18,  1.83it/s]"
     ]
    },
    {
     "name": "stderr",
     "output_type": "stream",
     "text": [
      "\r",
      "Aggregate:  15%|█▍        | 44/296 [00:39<02:54,  1.44it/s]"
     ]
    },
    {
     "name": "stderr",
     "output_type": "stream",
     "text": [
      "\r",
      "Aggregate:  15%|█▌        | 45/296 [00:40<02:59,  1.40it/s]"
     ]
    },
    {
     "name": "stderr",
     "output_type": "stream",
     "text": [
      "\r",
      "Aggregate:  16%|█▌        | 46/296 [00:41<02:26,  1.71it/s]"
     ]
    },
    {
     "name": "stderr",
     "output_type": "stream",
     "text": [
      "\r",
      "Aggregate:  16%|█▌        | 47/296 [00:41<02:00,  2.06it/s]"
     ]
    },
    {
     "name": "stderr",
     "output_type": "stream",
     "text": [
      "\r",
      "Aggregate:  16%|█▌        | 48/296 [00:41<02:04,  1.99it/s]"
     ]
    },
    {
     "name": "stderr",
     "output_type": "stream",
     "text": [
      "\r",
      "Aggregate:  17%|█▋        | 49/296 [00:42<01:57,  2.10it/s]"
     ]
    },
    {
     "name": "stderr",
     "output_type": "stream",
     "text": [
      "\r",
      "Aggregate:  17%|█▋        | 50/296 [00:42<01:42,  2.40it/s]"
     ]
    },
    {
     "name": "stderr",
     "output_type": "stream",
     "text": [
      "\r",
      "Aggregate:  17%|█▋        | 51/296 [00:43<02:20,  1.74it/s]"
     ]
    },
    {
     "name": "stderr",
     "output_type": "stream",
     "text": [
      "\r",
      "Aggregate:  18%|█▊        | 52/296 [00:43<02:00,  2.02it/s]"
     ]
    },
    {
     "name": "stderr",
     "output_type": "stream",
     "text": [
      "\r",
      "Aggregate:  18%|█▊        | 53/296 [00:45<03:02,  1.33it/s]"
     ]
    },
    {
     "name": "stderr",
     "output_type": "stream",
     "text": [
      "\r",
      "Aggregate:  18%|█▊        | 54/296 [00:47<04:25,  1.10s/it]"
     ]
    },
    {
     "name": "stderr",
     "output_type": "stream",
     "text": [
      "\r",
      "Aggregate:  19%|█▊        | 55/296 [00:47<03:35,  1.12it/s]"
     ]
    },
    {
     "name": "stderr",
     "output_type": "stream",
     "text": [
      "\r",
      "Aggregate:  19%|█▉        | 56/296 [00:48<03:58,  1.01it/s]"
     ]
    },
    {
     "name": "stderr",
     "output_type": "stream",
     "text": [
      "\r",
      "Aggregate:  19%|█▉        | 57/296 [00:49<03:09,  1.26it/s]"
     ]
    },
    {
     "name": "stderr",
     "output_type": "stream",
     "text": [
      "\r",
      "Aggregate:  20%|█▉        | 58/296 [00:49<02:31,  1.57it/s]"
     ]
    },
    {
     "name": "stderr",
     "output_type": "stream",
     "text": [
      "\r",
      "Aggregate:  20%|█▉        | 59/296 [00:49<02:29,  1.59it/s]"
     ]
    },
    {
     "name": "stderr",
     "output_type": "stream",
     "text": [
      "\r",
      "Aggregate:  20%|██        | 60/296 [00:50<02:20,  1.69it/s]"
     ]
    },
    {
     "name": "stderr",
     "output_type": "stream",
     "text": [
      "\r",
      "Aggregate:  21%|██        | 61/296 [00:50<02:01,  1.93it/s]"
     ]
    },
    {
     "name": "stderr",
     "output_type": "stream",
     "text": [
      "\r",
      "Aggregate:  21%|██        | 62/296 [00:51<02:03,  1.90it/s]"
     ]
    },
    {
     "name": "stderr",
     "output_type": "stream",
     "text": [
      "\r",
      "Aggregate:  21%|██▏       | 63/296 [00:51<01:49,  2.13it/s]"
     ]
    },
    {
     "name": "stderr",
     "output_type": "stream",
     "text": [
      "\r",
      "Aggregate:  22%|██▏       | 64/296 [00:51<01:30,  2.56it/s]"
     ]
    },
    {
     "name": "stderr",
     "output_type": "stream",
     "text": [
      "\r",
      "Aggregate:  22%|██▏       | 65/296 [00:52<02:09,  1.79it/s]"
     ]
    },
    {
     "name": "stderr",
     "output_type": "stream",
     "text": [
      "\r",
      "Aggregate:  22%|██▏       | 66/296 [00:52<01:40,  2.29it/s]"
     ]
    },
    {
     "name": "stderr",
     "output_type": "stream",
     "text": [
      "\r",
      "Aggregate:  23%|██▎       | 67/296 [00:53<01:19,  2.90it/s]"
     ]
    },
    {
     "name": "stderr",
     "output_type": "stream",
     "text": [
      "\r",
      "Aggregate:  23%|██▎       | 68/296 [00:54<02:08,  1.77it/s]"
     ]
    },
    {
     "name": "stderr",
     "output_type": "stream",
     "text": [
      "\r",
      "Aggregate:  23%|██▎       | 69/296 [00:55<02:52,  1.32it/s]"
     ]
    },
    {
     "name": "stderr",
     "output_type": "stream",
     "text": [
      "\r",
      "Aggregate:  24%|██▎       | 70/296 [00:56<03:06,  1.21it/s]"
     ]
    },
    {
     "name": "stderr",
     "output_type": "stream",
     "text": [
      "\r",
      "Aggregate:  24%|██▍       | 71/296 [00:56<02:54,  1.29it/s]"
     ]
    },
    {
     "name": "stderr",
     "output_type": "stream",
     "text": [
      "\r",
      "Aggregate:  24%|██▍       | 72/296 [00:58<04:01,  1.08s/it]"
     ]
    },
    {
     "name": "stderr",
     "output_type": "stream",
     "text": [
      "\r",
      "Aggregate:  25%|██▍       | 73/296 [00:59<03:30,  1.06it/s]"
     ]
    },
    {
     "name": "stderr",
     "output_type": "stream",
     "text": [
      "\r",
      "Aggregate:  25%|██▌       | 74/296 [01:00<03:55,  1.06s/it]"
     ]
    },
    {
     "name": "stderr",
     "output_type": "stream",
     "text": [
      "\r",
      "Aggregate:  25%|██▌       | 75/296 [01:01<03:08,  1.17it/s]"
     ]
    },
    {
     "name": "stderr",
     "output_type": "stream",
     "text": [
      "\r",
      "Aggregate:  26%|██▌       | 76/296 [01:02<03:11,  1.15it/s]"
     ]
    },
    {
     "name": "stderr",
     "output_type": "stream",
     "text": [
      "\r",
      "Aggregate:  26%|██▌       | 77/296 [01:02<02:42,  1.35it/s]"
     ]
    },
    {
     "name": "stderr",
     "output_type": "stream",
     "text": [
      "\r",
      "Aggregate:  26%|██▋       | 78/296 [01:03<03:27,  1.05it/s]"
     ]
    },
    {
     "name": "stderr",
     "output_type": "stream",
     "text": [
      "\r",
      "Aggregate:  27%|██▋       | 79/296 [01:05<04:30,  1.25s/it]"
     ]
    },
    {
     "name": "stderr",
     "output_type": "stream",
     "text": [
      "\r",
      "Aggregate:  27%|██▋       | 80/296 [01:06<04:22,  1.21s/it]"
     ]
    },
    {
     "name": "stderr",
     "output_type": "stream",
     "text": [
      "\r",
      "Aggregate:  27%|██▋       | 81/296 [01:09<05:24,  1.51s/it]"
     ]
    },
    {
     "name": "stderr",
     "output_type": "stream",
     "text": [
      "\r",
      "Aggregate:  28%|██▊       | 82/296 [01:09<03:58,  1.12s/it]"
     ]
    },
    {
     "name": "stderr",
     "output_type": "stream",
     "text": [
      "\r",
      "Aggregate:  28%|██▊       | 83/296 [01:09<02:55,  1.21it/s]"
     ]
    },
    {
     "name": "stderr",
     "output_type": "stream",
     "text": [
      "\r",
      "Aggregate:  28%|██▊       | 84/296 [01:10<02:36,  1.36it/s]"
     ]
    },
    {
     "name": "stderr",
     "output_type": "stream",
     "text": [
      "\r",
      "Aggregate:  29%|██▊       | 85/296 [01:10<02:06,  1.67it/s]"
     ]
    },
    {
     "name": "stderr",
     "output_type": "stream",
     "text": [
      "\r",
      "Aggregate:  29%|██▉       | 86/296 [01:11<02:52,  1.22it/s]"
     ]
    },
    {
     "name": "stderr",
     "output_type": "stream",
     "text": [
      "\r",
      "Aggregate:  29%|██▉       | 87/296 [01:12<02:36,  1.34it/s]"
     ]
    },
    {
     "name": "stderr",
     "output_type": "stream",
     "text": [
      "\r",
      "Aggregate:  30%|██▉       | 88/296 [01:13<03:19,  1.04it/s]"
     ]
    },
    {
     "name": "stderr",
     "output_type": "stream",
     "text": [
      "\r",
      "Aggregate:  30%|███       | 89/296 [01:14<02:50,  1.21it/s]"
     ]
    },
    {
     "name": "stderr",
     "output_type": "stream",
     "text": [
      "\r",
      "Aggregate:  30%|███       | 90/296 [01:14<02:25,  1.41it/s]"
     ]
    },
    {
     "name": "stderr",
     "output_type": "stream",
     "text": [
      "\r",
      "Aggregate:  31%|███       | 91/296 [01:15<02:16,  1.50it/s]"
     ]
    },
    {
     "name": "stderr",
     "output_type": "stream",
     "text": [
      "\r",
      "Aggregate:  31%|███       | 92/296 [01:15<02:02,  1.67it/s]"
     ]
    },
    {
     "name": "stderr",
     "output_type": "stream",
     "text": [
      "\r",
      "Aggregate:  31%|███▏      | 93/296 [01:16<02:06,  1.61it/s]"
     ]
    },
    {
     "name": "stderr",
     "output_type": "stream",
     "text": [
      "\r",
      "Aggregate:  32%|███▏      | 94/296 [01:16<01:41,  2.00it/s]"
     ]
    },
    {
     "name": "stderr",
     "output_type": "stream",
     "text": [
      "\r",
      "Aggregate:  32%|███▏      | 95/296 [01:17<01:37,  2.06it/s]"
     ]
    },
    {
     "name": "stderr",
     "output_type": "stream",
     "text": [
      "\r",
      "Aggregate:  32%|███▏      | 96/296 [01:17<02:02,  1.63it/s]"
     ]
    },
    {
     "name": "stderr",
     "output_type": "stream",
     "text": [
      "\r",
      "Aggregate:  33%|███▎      | 97/296 [01:19<03:01,  1.10it/s]"
     ]
    },
    {
     "name": "stderr",
     "output_type": "stream",
     "text": [
      "\r",
      "Aggregate:  33%|███▎      | 98/296 [01:19<02:19,  1.42it/s]"
     ]
    },
    {
     "name": "stderr",
     "output_type": "stream",
     "text": [
      "\r",
      "Aggregate:  33%|███▎      | 99/296 [01:20<01:52,  1.75it/s]"
     ]
    },
    {
     "name": "stderr",
     "output_type": "stream",
     "text": [
      "\r",
      "Aggregate:  34%|███▍      | 100/296 [01:21<02:36,  1.25it/s]"
     ]
    },
    {
     "name": "stderr",
     "output_type": "stream",
     "text": [
      "\r",
      "Aggregate:  34%|███▍      | 101/296 [01:21<02:03,  1.58it/s]"
     ]
    },
    {
     "name": "stderr",
     "output_type": "stream",
     "text": [
      "\r",
      "Aggregate:  34%|███▍      | 102/296 [01:21<01:39,  1.95it/s]"
     ]
    },
    {
     "name": "stderr",
     "output_type": "stream",
     "text": [
      "\r",
      "Aggregate:  35%|███▍      | 103/296 [01:22<01:22,  2.35it/s]"
     ]
    },
    {
     "name": "stderr",
     "output_type": "stream",
     "text": [
      "\r",
      "Aggregate:  35%|███▌      | 104/296 [01:22<01:15,  2.53it/s]"
     ]
    },
    {
     "name": "stderr",
     "output_type": "stream",
     "text": [
      "\r",
      "Aggregate:  35%|███▌      | 105/296 [01:22<01:16,  2.49it/s]"
     ]
    },
    {
     "name": "stderr",
     "output_type": "stream",
     "text": [
      "\r",
      "Aggregate:  36%|███▌      | 106/296 [01:23<01:17,  2.44it/s]"
     ]
    },
    {
     "name": "stderr",
     "output_type": "stream",
     "text": [
      "\r",
      "Aggregate:  36%|███▌      | 107/296 [01:23<01:32,  2.04it/s]"
     ]
    },
    {
     "name": "stderr",
     "output_type": "stream",
     "text": [
      "\r",
      "Aggregate:  36%|███▋      | 108/296 [01:24<01:34,  1.98it/s]"
     ]
    },
    {
     "name": "stderr",
     "output_type": "stream",
     "text": [
      "\r",
      "Aggregate:  37%|███▋      | 109/296 [01:24<01:20,  2.32it/s]"
     ]
    },
    {
     "name": "stderr",
     "output_type": "stream",
     "text": [
      "\r",
      "Aggregate:  37%|███▋      | 110/296 [01:25<01:37,  1.91it/s]"
     ]
    },
    {
     "name": "stderr",
     "output_type": "stream",
     "text": [
      "\r",
      "Aggregate:  38%|███▊      | 112/296 [01:25<01:13,  2.50it/s]"
     ]
    },
    {
     "name": "stderr",
     "output_type": "stream",
     "text": [
      "\r",
      "Aggregate:  38%|███▊      | 113/296 [01:26<01:11,  2.55it/s]"
     ]
    },
    {
     "name": "stderr",
     "output_type": "stream",
     "text": [
      "\r",
      "Aggregate:  39%|███▊      | 114/296 [01:26<01:01,  2.95it/s]"
     ]
    },
    {
     "name": "stderr",
     "output_type": "stream",
     "text": [
      "\r",
      "Aggregate:  39%|███▉      | 115/296 [01:26<01:01,  2.93it/s]"
     ]
    },
    {
     "name": "stderr",
     "output_type": "stream",
     "text": [
      "\r",
      "Aggregate:  39%|███▉      | 116/296 [01:28<02:23,  1.26it/s]"
     ]
    },
    {
     "name": "stderr",
     "output_type": "stream",
     "text": [
      "\r",
      "Aggregate:  40%|███▉      | 117/296 [01:28<01:52,  1.59it/s]"
     ]
    },
    {
     "name": "stderr",
     "output_type": "stream",
     "text": [
      "\r",
      "Aggregate:  40%|███▉      | 118/296 [01:29<01:42,  1.74it/s]"
     ]
    },
    {
     "name": "stderr",
     "output_type": "stream",
     "text": [
      "\r",
      "Aggregate:  40%|████      | 119/296 [01:29<01:28,  2.01it/s]"
     ]
    },
    {
     "name": "stderr",
     "output_type": "stream",
     "text": [
      "\r",
      "Aggregate:  41%|████      | 120/296 [01:29<01:19,  2.21it/s]"
     ]
    },
    {
     "name": "stderr",
     "output_type": "stream",
     "text": [
      "\r",
      "Aggregate:  41%|████      | 121/296 [01:29<01:04,  2.71it/s]"
     ]
    },
    {
     "name": "stderr",
     "output_type": "stream",
     "text": [
      "\r",
      "Aggregate:  41%|████      | 122/296 [01:30<01:09,  2.51it/s]"
     ]
    },
    {
     "name": "stderr",
     "output_type": "stream",
     "text": [
      "\r",
      "Aggregate:  42%|████▏     | 123/296 [01:31<01:34,  1.83it/s]"
     ]
    },
    {
     "name": "stderr",
     "output_type": "stream",
     "text": [
      "\r",
      "Aggregate:  42%|████▏     | 124/296 [01:31<01:30,  1.90it/s]"
     ]
    },
    {
     "name": "stderr",
     "output_type": "stream",
     "text": [
      "\r",
      "Aggregate:  42%|████▏     | 125/296 [01:33<02:10,  1.31it/s]"
     ]
    },
    {
     "name": "stderr",
     "output_type": "stream",
     "text": [
      "\r",
      "Aggregate:  43%|████▎     | 126/296 [01:33<01:38,  1.72it/s]"
     ]
    },
    {
     "name": "stderr",
     "output_type": "stream",
     "text": [
      "\r",
      "Aggregate:  43%|████▎     | 127/296 [01:33<01:38,  1.72it/s]"
     ]
    },
    {
     "name": "stderr",
     "output_type": "stream",
     "text": [
      "\r",
      "Aggregate:  43%|████▎     | 128/296 [01:34<01:48,  1.55it/s]"
     ]
    },
    {
     "name": "stderr",
     "output_type": "stream",
     "text": [
      "\r",
      "Aggregate:  44%|████▎     | 129/296 [01:35<01:35,  1.75it/s]"
     ]
    },
    {
     "name": "stderr",
     "output_type": "stream",
     "text": [
      "\r",
      "Aggregate:  44%|████▍     | 130/296 [01:36<02:03,  1.35it/s]"
     ]
    },
    {
     "name": "stderr",
     "output_type": "stream",
     "text": [
      "\r",
      "Aggregate:  44%|████▍     | 131/296 [01:36<01:49,  1.51it/s]"
     ]
    },
    {
     "name": "stderr",
     "output_type": "stream",
     "text": [
      "\r",
      "Aggregate:  45%|████▍     | 132/296 [01:37<02:16,  1.20it/s]"
     ]
    },
    {
     "name": "stderr",
     "output_type": "stream",
     "text": [
      "\r",
      "Aggregate:  45%|████▍     | 133/296 [01:39<02:38,  1.03it/s]"
     ]
    },
    {
     "name": "stderr",
     "output_type": "stream",
     "text": [
      "\r",
      "Aggregate:  45%|████▌     | 134/296 [01:40<02:35,  1.04it/s]"
     ]
    },
    {
     "name": "stderr",
     "output_type": "stream",
     "text": [
      "\r",
      "Aggregate:  46%|████▌     | 135/296 [01:40<02:00,  1.34it/s]"
     ]
    },
    {
     "name": "stderr",
     "output_type": "stream",
     "text": [
      "\r",
      "Aggregate:  46%|████▌     | 136/296 [01:42<03:20,  1.25s/it]"
     ]
    },
    {
     "name": "stderr",
     "output_type": "stream",
     "text": [
      "\r",
      "Aggregate:  46%|████▋     | 137/296 [01:43<02:44,  1.04s/it]"
     ]
    },
    {
     "name": "stderr",
     "output_type": "stream",
     "text": [
      "\r",
      "Aggregate:  47%|████▋     | 138/296 [01:46<04:33,  1.73s/it]"
     ]
    },
    {
     "name": "stderr",
     "output_type": "stream",
     "text": [
      "\r",
      "Aggregate:  47%|████▋     | 139/296 [01:47<03:37,  1.39s/it]"
     ]
    },
    {
     "name": "stderr",
     "output_type": "stream",
     "text": [
      "\r",
      "Aggregate:  47%|████▋     | 140/296 [01:49<03:56,  1.51s/it]"
     ]
    },
    {
     "name": "stderr",
     "output_type": "stream",
     "text": [
      "\r",
      "Aggregate:  48%|████▊     | 141/296 [01:50<03:42,  1.44s/it]"
     ]
    },
    {
     "name": "stderr",
     "output_type": "stream",
     "text": [
      "\r",
      "Aggregate:  48%|████▊     | 142/296 [01:51<03:12,  1.25s/it]"
     ]
    },
    {
     "name": "stderr",
     "output_type": "stream",
     "text": [
      "\r",
      "Aggregate:  48%|████▊     | 143/296 [01:51<02:31,  1.01it/s]"
     ]
    },
    {
     "name": "stderr",
     "output_type": "stream",
     "text": [
      "\r",
      "Aggregate:  49%|████▊     | 144/296 [01:52<02:08,  1.18it/s]"
     ]
    },
    {
     "name": "stderr",
     "output_type": "stream",
     "text": [
      "\r",
      "Aggregate:  49%|████▉     | 145/296 [01:52<01:40,  1.50it/s]"
     ]
    },
    {
     "name": "stderr",
     "output_type": "stream",
     "text": [
      "\r",
      "Aggregate:  49%|████▉     | 146/296 [01:52<01:25,  1.75it/s]"
     ]
    },
    {
     "name": "stderr",
     "output_type": "stream",
     "text": [
      "\r",
      "Aggregate:  50%|████▉     | 147/296 [01:53<01:19,  1.87it/s]"
     ]
    },
    {
     "name": "stderr",
     "output_type": "stream",
     "text": [
      "\r",
      "Aggregate:  50%|█████     | 148/296 [01:54<01:45,  1.40it/s]"
     ]
    },
    {
     "name": "stderr",
     "output_type": "stream",
     "text": [
      "\r",
      "Aggregate:  50%|█████     | 149/296 [01:54<01:42,  1.43it/s]"
     ]
    },
    {
     "name": "stderr",
     "output_type": "stream",
     "text": [
      "\r",
      "Aggregate:  51%|█████     | 150/296 [01:55<01:23,  1.76it/s]"
     ]
    },
    {
     "name": "stderr",
     "output_type": "stream",
     "text": [
      "\r",
      "Aggregate:  51%|█████     | 151/296 [01:56<01:52,  1.28it/s]"
     ]
    },
    {
     "name": "stderr",
     "output_type": "stream",
     "text": [
      "\r",
      "Aggregate:  51%|█████▏    | 152/296 [01:56<01:37,  1.48it/s]"
     ]
    },
    {
     "name": "stderr",
     "output_type": "stream",
     "text": [
      "\r",
      "Aggregate:  52%|█████▏    | 153/296 [01:57<01:30,  1.58it/s]"
     ]
    },
    {
     "name": "stderr",
     "output_type": "stream",
     "text": [
      "\r",
      "Aggregate:  52%|█████▏    | 154/296 [01:57<01:13,  1.92it/s]"
     ]
    },
    {
     "name": "stderr",
     "output_type": "stream",
     "text": [
      "\r",
      "Aggregate:  52%|█████▏    | 155/296 [01:59<01:56,  1.21it/s]"
     ]
    },
    {
     "name": "stderr",
     "output_type": "stream",
     "text": [
      "\r",
      "Aggregate:  53%|█████▎    | 156/296 [01:59<01:48,  1.29it/s]"
     ]
    },
    {
     "name": "stderr",
     "output_type": "stream",
     "text": [
      "\r",
      "Aggregate:  53%|█████▎    | 157/296 [02:00<01:45,  1.31it/s]"
     ]
    },
    {
     "name": "stderr",
     "output_type": "stream",
     "text": [
      "\r",
      "Aggregate:  53%|█████▎    | 158/296 [02:01<01:35,  1.45it/s]"
     ]
    },
    {
     "name": "stderr",
     "output_type": "stream",
     "text": [
      "\r",
      "Aggregate:  54%|█████▎    | 159/296 [02:01<01:21,  1.68it/s]"
     ]
    },
    {
     "name": "stderr",
     "output_type": "stream",
     "text": [
      "\r",
      "Aggregate:  54%|█████▍    | 160/296 [02:01<01:04,  2.09it/s]"
     ]
    },
    {
     "name": "stderr",
     "output_type": "stream",
     "text": [
      "\r",
      "Aggregate:  54%|█████▍    | 161/296 [02:02<01:28,  1.52it/s]"
     ]
    },
    {
     "name": "stderr",
     "output_type": "stream",
     "text": [
      "\r",
      "Aggregate:  55%|█████▍    | 162/296 [02:03<01:17,  1.72it/s]"
     ]
    },
    {
     "name": "stderr",
     "output_type": "stream",
     "text": [
      "\r",
      "Aggregate:  55%|█████▌    | 163/296 [02:03<01:11,  1.86it/s]"
     ]
    },
    {
     "name": "stderr",
     "output_type": "stream",
     "text": [
      "\r",
      "Aggregate:  55%|█████▌    | 164/296 [02:04<01:20,  1.63it/s]"
     ]
    },
    {
     "name": "stderr",
     "output_type": "stream",
     "text": [
      "\r",
      "Aggregate:  56%|█████▌    | 165/296 [02:04<01:11,  1.84it/s]"
     ]
    },
    {
     "name": "stderr",
     "output_type": "stream",
     "text": [
      "\r",
      "Aggregate:  56%|█████▌    | 166/296 [02:06<01:45,  1.23it/s]"
     ]
    },
    {
     "name": "stderr",
     "output_type": "stream",
     "text": [
      "\r",
      "Aggregate:  56%|█████▋    | 167/296 [02:06<01:35,  1.35it/s]"
     ]
    },
    {
     "name": "stderr",
     "output_type": "stream",
     "text": [
      "\r",
      "Aggregate:  57%|█████▋    | 168/296 [02:07<01:34,  1.35it/s]"
     ]
    },
    {
     "name": "stderr",
     "output_type": "stream",
     "text": [
      "\r",
      "Aggregate:  57%|█████▋    | 169/296 [02:08<01:25,  1.49it/s]"
     ]
    },
    {
     "name": "stderr",
     "output_type": "stream",
     "text": [
      "\r",
      "Aggregate:  57%|█████▋    | 170/296 [02:08<01:14,  1.68it/s]"
     ]
    },
    {
     "name": "stderr",
     "output_type": "stream",
     "text": [
      "\r",
      "Aggregate:  58%|█████▊    | 171/296 [02:08<01:01,  2.03it/s]"
     ]
    },
    {
     "name": "stderr",
     "output_type": "stream",
     "text": [
      "\r",
      "Aggregate:  58%|█████▊    | 172/296 [02:08<00:52,  2.37it/s]"
     ]
    },
    {
     "name": "stderr",
     "output_type": "stream",
     "text": [
      "\r",
      "Aggregate:  58%|█████▊    | 173/296 [02:09<00:46,  2.63it/s]"
     ]
    },
    {
     "name": "stderr",
     "output_type": "stream",
     "text": [
      "\r",
      "Aggregate:  59%|█████▉    | 174/296 [02:10<01:04,  1.90it/s]"
     ]
    },
    {
     "name": "stderr",
     "output_type": "stream",
     "text": [
      "\r",
      "Aggregate:  59%|█████▉    | 175/296 [02:10<00:51,  2.34it/s]"
     ]
    },
    {
     "name": "stderr",
     "output_type": "stream",
     "text": [
      "\r",
      "Aggregate:  59%|█████▉    | 176/296 [02:11<01:02,  1.92it/s]"
     ]
    },
    {
     "name": "stderr",
     "output_type": "stream",
     "text": [
      "\r",
      "Aggregate:  60%|█████▉    | 177/296 [02:11<00:54,  2.18it/s]"
     ]
    },
    {
     "name": "stderr",
     "output_type": "stream",
     "text": [
      "\r",
      "Aggregate:  60%|██████    | 178/296 [02:13<01:45,  1.11it/s]"
     ]
    },
    {
     "name": "stderr",
     "output_type": "stream",
     "text": [
      "\r",
      "Aggregate:  60%|██████    | 179/296 [02:13<01:32,  1.27it/s]"
     ]
    },
    {
     "name": "stderr",
     "output_type": "stream",
     "text": [
      "\r",
      "Aggregate:  61%|██████    | 180/296 [02:15<01:54,  1.01it/s]"
     ]
    },
    {
     "name": "stderr",
     "output_type": "stream",
     "text": [
      "\r",
      "Aggregate:  61%|██████    | 181/296 [02:15<01:28,  1.30it/s]"
     ]
    },
    {
     "name": "stderr",
     "output_type": "stream",
     "text": [
      "\r",
      "Aggregate:  61%|██████▏   | 182/296 [02:15<01:11,  1.59it/s]"
     ]
    },
    {
     "name": "stderr",
     "output_type": "stream",
     "text": [
      "\r",
      "Aggregate:  62%|██████▏   | 183/296 [02:16<01:03,  1.78it/s]"
     ]
    },
    {
     "name": "stderr",
     "output_type": "stream",
     "text": [
      "\r",
      "Aggregate:  62%|██████▏   | 184/296 [02:16<01:08,  1.64it/s]"
     ]
    },
    {
     "name": "stderr",
     "output_type": "stream",
     "text": [
      "\r",
      "Aggregate:  62%|██████▎   | 185/296 [02:17<01:19,  1.40it/s]"
     ]
    },
    {
     "name": "stderr",
     "output_type": "stream",
     "text": [
      "\r",
      "Aggregate:  63%|██████▎   | 186/296 [02:19<01:43,  1.06it/s]"
     ]
    },
    {
     "name": "stderr",
     "output_type": "stream",
     "text": [
      "\r",
      "Aggregate:  63%|██████▎   | 187/296 [02:20<01:33,  1.17it/s]"
     ]
    },
    {
     "name": "stderr",
     "output_type": "stream",
     "text": [
      "\r",
      "Aggregate:  64%|██████▎   | 188/296 [02:21<02:03,  1.14s/it]"
     ]
    },
    {
     "name": "stderr",
     "output_type": "stream",
     "text": [
      "\r",
      "Aggregate:  64%|██████▍   | 189/296 [02:22<01:52,  1.05s/it]"
     ]
    },
    {
     "name": "stderr",
     "output_type": "stream",
     "text": [
      "\r",
      "Aggregate:  64%|██████▍   | 190/296 [02:22<01:21,  1.31it/s]"
     ]
    },
    {
     "name": "stderr",
     "output_type": "stream",
     "text": [
      "\r",
      "Aggregate:  65%|██████▍   | 191/296 [02:23<01:30,  1.16it/s]"
     ]
    },
    {
     "name": "stderr",
     "output_type": "stream",
     "text": [
      "\r",
      "Aggregate:  65%|██████▍   | 192/296 [02:26<02:16,  1.31s/it]"
     ]
    },
    {
     "name": "stderr",
     "output_type": "stream",
     "text": [
      "\r",
      "Aggregate:  65%|██████▌   | 193/296 [02:29<03:03,  1.78s/it]"
     ]
    },
    {
     "name": "stderr",
     "output_type": "stream",
     "text": [
      "\r",
      "Aggregate:  66%|██████▌   | 194/296 [02:29<02:16,  1.34s/it]"
     ]
    },
    {
     "name": "stderr",
     "output_type": "stream",
     "text": [
      "\r",
      "Aggregate:  66%|██████▌   | 195/296 [02:29<01:39,  1.02it/s]"
     ]
    },
    {
     "name": "stderr",
     "output_type": "stream",
     "text": [
      "\r",
      "Aggregate:  66%|██████▌   | 196/296 [02:29<01:17,  1.29it/s]"
     ]
    },
    {
     "name": "stderr",
     "output_type": "stream",
     "text": [
      "\r",
      "Aggregate:  67%|██████▋   | 197/296 [02:31<01:30,  1.10it/s]"
     ]
    },
    {
     "name": "stderr",
     "output_type": "stream",
     "text": [
      "\r",
      "Aggregate:  67%|██████▋   | 198/296 [02:31<01:08,  1.44it/s]"
     ]
    },
    {
     "name": "stderr",
     "output_type": "stream",
     "text": [
      "\r",
      "Aggregate:  67%|██████▋   | 199/296 [02:32<01:17,  1.24it/s]"
     ]
    },
    {
     "name": "stderr",
     "output_type": "stream",
     "text": [
      "\r",
      "Aggregate:  68%|██████▊   | 200/296 [02:33<01:34,  1.02it/s]"
     ]
    },
    {
     "name": "stderr",
     "output_type": "stream",
     "text": [
      "\r",
      "Aggregate:  68%|██████▊   | 201/296 [02:35<01:42,  1.08s/it]"
     ]
    },
    {
     "name": "stderr",
     "output_type": "stream",
     "text": [
      "\r",
      "Aggregate:  68%|██████▊   | 202/296 [02:36<02:03,  1.32s/it]"
     ]
    },
    {
     "name": "stderr",
     "output_type": "stream",
     "text": [
      "\r",
      "Aggregate:  69%|██████▊   | 203/296 [02:38<02:21,  1.52s/it]"
     ]
    },
    {
     "name": "stderr",
     "output_type": "stream",
     "text": [
      "\r",
      "Aggregate:  69%|██████▉   | 204/296 [02:39<01:57,  1.27s/it]"
     ]
    },
    {
     "name": "stderr",
     "output_type": "stream",
     "text": [
      "\r",
      "Aggregate:  69%|██████▉   | 205/296 [02:40<01:34,  1.04s/it]"
     ]
    },
    {
     "name": "stderr",
     "output_type": "stream",
     "text": [
      "\r",
      "Aggregate:  70%|██████▉   | 206/296 [02:41<01:33,  1.04s/it]"
     ]
    },
    {
     "name": "stderr",
     "output_type": "stream",
     "text": [
      "\r",
      "Aggregate:  70%|██████▉   | 207/296 [02:41<01:13,  1.21it/s]"
     ]
    },
    {
     "name": "stderr",
     "output_type": "stream",
     "text": [
      "\r",
      "Aggregate:  70%|███████   | 208/296 [02:41<00:55,  1.58it/s]"
     ]
    },
    {
     "name": "stderr",
     "output_type": "stream",
     "text": [
      "\r",
      "Aggregate:  71%|███████   | 209/296 [02:42<00:49,  1.75it/s]"
     ]
    },
    {
     "name": "stderr",
     "output_type": "stream",
     "text": [
      "\r",
      "Aggregate:  71%|███████   | 210/296 [02:42<00:42,  2.03it/s]"
     ]
    },
    {
     "name": "stderr",
     "output_type": "stream",
     "text": [
      "\r",
      "Aggregate:  71%|███████▏  | 211/296 [02:43<00:48,  1.73it/s]"
     ]
    },
    {
     "name": "stderr",
     "output_type": "stream",
     "text": [
      "\r",
      "Aggregate:  72%|███████▏  | 212/296 [02:43<00:38,  2.18it/s]"
     ]
    },
    {
     "name": "stderr",
     "output_type": "stream",
     "text": [
      "\r",
      "Aggregate:  72%|███████▏  | 213/296 [02:43<00:38,  2.16it/s]"
     ]
    },
    {
     "name": "stderr",
     "output_type": "stream",
     "text": [
      "\r",
      "Aggregate:  72%|███████▏  | 214/296 [02:44<00:31,  2.57it/s]"
     ]
    },
    {
     "name": "stderr",
     "output_type": "stream",
     "text": [
      "\r",
      "Aggregate:  73%|███████▎  | 215/296 [02:44<00:26,  3.11it/s]"
     ]
    },
    {
     "name": "stderr",
     "output_type": "stream",
     "text": [
      "\r",
      "Aggregate:  73%|███████▎  | 216/296 [02:44<00:22,  3.51it/s]"
     ]
    },
    {
     "name": "stderr",
     "output_type": "stream",
     "text": [
      "\r",
      "Aggregate:  73%|███████▎  | 217/296 [02:44<00:26,  2.95it/s]"
     ]
    },
    {
     "name": "stderr",
     "output_type": "stream",
     "text": [
      "\r",
      "Aggregate:  74%|███████▎  | 218/296 [02:45<00:24,  3.16it/s]"
     ]
    },
    {
     "name": "stderr",
     "output_type": "stream",
     "text": [
      "\r",
      "Aggregate:  74%|███████▍  | 219/296 [02:45<00:19,  3.88it/s]"
     ]
    },
    {
     "name": "stderr",
     "output_type": "stream",
     "text": [
      "\r",
      "Aggregate:  74%|███████▍  | 220/296 [02:45<00:24,  3.08it/s]"
     ]
    },
    {
     "name": "stderr",
     "output_type": "stream",
     "text": [
      "\r",
      "Aggregate:  75%|███████▍  | 221/296 [02:46<00:42,  1.78it/s]"
     ]
    },
    {
     "name": "stderr",
     "output_type": "stream",
     "text": [
      "\r",
      "Aggregate:  75%|███████▌  | 222/296 [02:49<01:20,  1.09s/it]"
     ]
    },
    {
     "name": "stderr",
     "output_type": "stream",
     "text": [
      "\r",
      "Aggregate:  75%|███████▌  | 223/296 [02:49<00:59,  1.22it/s]"
     ]
    },
    {
     "name": "stderr",
     "output_type": "stream",
     "text": [
      "\r",
      "Aggregate:  76%|███████▌  | 224/296 [02:49<00:50,  1.44it/s]"
     ]
    },
    {
     "name": "stderr",
     "output_type": "stream",
     "text": [
      "\r",
      "Aggregate:  76%|███████▌  | 225/296 [02:49<00:37,  1.91it/s]"
     ]
    },
    {
     "name": "stderr",
     "output_type": "stream",
     "text": [
      "\r",
      "Aggregate:  76%|███████▋  | 226/296 [02:51<00:50,  1.40it/s]"
     ]
    },
    {
     "name": "stderr",
     "output_type": "stream",
     "text": [
      "\r",
      "Aggregate:  77%|███████▋  | 227/296 [02:51<00:43,  1.59it/s]"
     ]
    },
    {
     "name": "stderr",
     "output_type": "stream",
     "text": [
      "\r",
      "Aggregate:  77%|███████▋  | 228/296 [02:51<00:35,  1.92it/s]"
     ]
    },
    {
     "name": "stderr",
     "output_type": "stream",
     "text": [
      "\r",
      "Aggregate:  77%|███████▋  | 229/296 [02:52<00:36,  1.82it/s]"
     ]
    },
    {
     "name": "stderr",
     "output_type": "stream",
     "text": [
      "\r",
      "Aggregate:  78%|███████▊  | 230/296 [02:52<00:28,  2.29it/s]"
     ]
    },
    {
     "name": "stderr",
     "output_type": "stream",
     "text": [
      "\r",
      "Aggregate:  78%|███████▊  | 231/296 [02:53<00:33,  1.93it/s]"
     ]
    },
    {
     "name": "stderr",
     "output_type": "stream",
     "text": [
      "\r",
      "Aggregate:  78%|███████▊  | 232/296 [02:53<00:27,  2.35it/s]"
     ]
    },
    {
     "name": "stderr",
     "output_type": "stream",
     "text": [
      "\r",
      "Aggregate:  79%|███████▊  | 233/296 [02:54<00:40,  1.57it/s]"
     ]
    },
    {
     "name": "stderr",
     "output_type": "stream",
     "text": [
      "\r",
      "Aggregate:  79%|███████▉  | 234/296 [02:55<00:38,  1.60it/s]"
     ]
    },
    {
     "name": "stderr",
     "output_type": "stream",
     "text": [
      "\r",
      "Aggregate:  79%|███████▉  | 235/296 [02:55<00:39,  1.56it/s]"
     ]
    },
    {
     "name": "stderr",
     "output_type": "stream",
     "text": [
      "\r",
      "Aggregate:  80%|███████▉  | 236/296 [02:56<00:45,  1.32it/s]"
     ]
    },
    {
     "name": "stderr",
     "output_type": "stream",
     "text": [
      "\r",
      "Aggregate:  80%|████████  | 237/296 [02:57<00:37,  1.56it/s]"
     ]
    },
    {
     "name": "stderr",
     "output_type": "stream",
     "text": [
      "\r",
      "Aggregate:  80%|████████  | 238/296 [02:57<00:39,  1.47it/s]"
     ]
    },
    {
     "name": "stderr",
     "output_type": "stream",
     "text": [
      "\r",
      "Aggregate:  81%|████████  | 239/296 [02:59<00:51,  1.11it/s]"
     ]
    },
    {
     "name": "stderr",
     "output_type": "stream",
     "text": [
      "\r",
      "Aggregate:  81%|████████  | 240/296 [02:59<00:37,  1.49it/s]"
     ]
    },
    {
     "name": "stderr",
     "output_type": "stream",
     "text": [
      "\r",
      "Aggregate:  81%|████████▏ | 241/296 [03:00<00:35,  1.53it/s]"
     ]
    },
    {
     "name": "stderr",
     "output_type": "stream",
     "text": [
      "\r",
      "Aggregate:  82%|████████▏ | 242/296 [03:00<00:34,  1.54it/s]"
     ]
    },
    {
     "name": "stderr",
     "output_type": "stream",
     "text": [
      "\r",
      "Aggregate:  82%|████████▏ | 243/296 [03:01<00:29,  1.79it/s]"
     ]
    },
    {
     "name": "stderr",
     "output_type": "stream",
     "text": [
      "\r",
      "Aggregate:  82%|████████▏ | 244/296 [03:02<00:38,  1.34it/s]"
     ]
    },
    {
     "name": "stderr",
     "output_type": "stream",
     "text": [
      "\r",
      "Aggregate:  83%|████████▎ | 245/296 [03:02<00:34,  1.47it/s]"
     ]
    },
    {
     "name": "stderr",
     "output_type": "stream",
     "text": [
      "\r",
      "Aggregate:  83%|████████▎ | 246/296 [03:03<00:29,  1.69it/s]"
     ]
    },
    {
     "name": "stderr",
     "output_type": "stream",
     "text": [
      "\r",
      "Aggregate:  83%|████████▎ | 247/296 [03:03<00:23,  2.05it/s]"
     ]
    },
    {
     "name": "stderr",
     "output_type": "stream",
     "text": [
      "\r",
      "Aggregate:  84%|████████▍ | 248/296 [03:04<00:36,  1.33it/s]"
     ]
    },
    {
     "name": "stderr",
     "output_type": "stream",
     "text": [
      "\r",
      "Aggregate:  84%|████████▍ | 249/296 [03:05<00:27,  1.71it/s]"
     ]
    },
    {
     "name": "stderr",
     "output_type": "stream",
     "text": [
      "\r",
      "Aggregate:  84%|████████▍ | 250/296 [03:05<00:25,  1.81it/s]"
     ]
    },
    {
     "name": "stderr",
     "output_type": "stream",
     "text": [
      "\r",
      "Aggregate:  85%|████████▍ | 251/296 [03:05<00:21,  2.10it/s]"
     ]
    },
    {
     "name": "stderr",
     "output_type": "stream",
     "text": [
      "\r",
      "Aggregate:  85%|████████▌ | 252/296 [03:06<00:28,  1.55it/s]"
     ]
    },
    {
     "name": "stderr",
     "output_type": "stream",
     "text": [
      "\r",
      "Aggregate:  85%|████████▌ | 253/296 [03:07<00:31,  1.36it/s]"
     ]
    },
    {
     "name": "stderr",
     "output_type": "stream",
     "text": [
      "\r",
      "Aggregate:  86%|████████▌ | 254/296 [03:08<00:26,  1.57it/s]"
     ]
    },
    {
     "name": "stderr",
     "output_type": "stream",
     "text": [
      "\r",
      "Aggregate:  86%|████████▌ | 255/296 [03:08<00:23,  1.72it/s]"
     ]
    },
    {
     "name": "stderr",
     "output_type": "stream",
     "text": [
      "\r",
      "Aggregate:  86%|████████▋ | 256/296 [03:09<00:22,  1.79it/s]"
     ]
    },
    {
     "name": "stderr",
     "output_type": "stream",
     "text": [
      "\r",
      "Aggregate:  87%|████████▋ | 257/296 [03:09<00:22,  1.77it/s]"
     ]
    },
    {
     "name": "stderr",
     "output_type": "stream",
     "text": [
      "\r",
      "Aggregate:  87%|████████▋ | 258/296 [03:10<00:20,  1.88it/s]"
     ]
    },
    {
     "name": "stderr",
     "output_type": "stream",
     "text": [
      "\r",
      "Aggregate:  88%|████████▊ | 259/296 [03:11<00:23,  1.55it/s]"
     ]
    },
    {
     "name": "stderr",
     "output_type": "stream",
     "text": [
      "\r",
      "Aggregate:  88%|████████▊ | 260/296 [03:11<00:23,  1.51it/s]"
     ]
    },
    {
     "name": "stderr",
     "output_type": "stream",
     "text": [
      "\r",
      "Aggregate:  88%|████████▊ | 261/296 [03:12<00:25,  1.36it/s]"
     ]
    },
    {
     "name": "stderr",
     "output_type": "stream",
     "text": [
      "\r",
      "Aggregate:  89%|████████▊ | 262/296 [03:13<00:22,  1.48it/s]"
     ]
    },
    {
     "name": "stderr",
     "output_type": "stream",
     "text": [
      "\r",
      "Aggregate:  89%|████████▉ | 263/296 [03:13<00:20,  1.62it/s]"
     ]
    },
    {
     "name": "stderr",
     "output_type": "stream",
     "text": [
      "\r",
      "Aggregate:  89%|████████▉ | 264/296 [03:14<00:18,  1.70it/s]"
     ]
    },
    {
     "name": "stderr",
     "output_type": "stream",
     "text": [
      "\r",
      "Aggregate:  90%|████████▉ | 265/296 [03:14<00:16,  1.93it/s]"
     ]
    },
    {
     "name": "stderr",
     "output_type": "stream",
     "text": [
      "\r",
      "Aggregate:  90%|█████████ | 267/296 [03:15<00:12,  2.27it/s]"
     ]
    },
    {
     "name": "stderr",
     "output_type": "stream",
     "text": [
      "\r",
      "Aggregate:  91%|█████████ | 268/296 [03:16<00:16,  1.70it/s]"
     ]
    },
    {
     "name": "stderr",
     "output_type": "stream",
     "text": [
      "\r",
      "Aggregate:  91%|█████████ | 269/296 [03:16<00:14,  1.89it/s]"
     ]
    },
    {
     "name": "stderr",
     "output_type": "stream",
     "text": [
      "\r",
      "Aggregate:  91%|█████████ | 270/296 [03:16<00:11,  2.21it/s]"
     ]
    },
    {
     "name": "stderr",
     "output_type": "stream",
     "text": [
      "\r",
      "Aggregate:  92%|█████████▏| 271/296 [03:17<00:11,  2.13it/s]"
     ]
    },
    {
     "name": "stderr",
     "output_type": "stream",
     "text": [
      "\r",
      "Aggregate:  92%|█████████▏| 272/296 [03:18<00:16,  1.50it/s]"
     ]
    },
    {
     "name": "stderr",
     "output_type": "stream",
     "text": [
      "\r",
      "Aggregate:  92%|█████████▏| 273/296 [03:19<00:17,  1.32it/s]"
     ]
    },
    {
     "name": "stderr",
     "output_type": "stream",
     "text": [
      "\r",
      "Aggregate:  93%|█████████▎| 274/296 [03:19<00:14,  1.52it/s]"
     ]
    },
    {
     "name": "stderr",
     "output_type": "stream",
     "text": [
      "\r",
      "Aggregate:  93%|█████████▎| 275/296 [03:20<00:13,  1.60it/s]"
     ]
    },
    {
     "name": "stderr",
     "output_type": "stream",
     "text": [
      "\r",
      "Aggregate:  93%|█████████▎| 276/296 [03:22<00:22,  1.10s/it]"
     ]
    },
    {
     "name": "stderr",
     "output_type": "stream",
     "text": [
      "\r",
      "Aggregate:  94%|█████████▎| 277/296 [03:23<00:19,  1.02s/it]"
     ]
    },
    {
     "name": "stderr",
     "output_type": "stream",
     "text": [
      "\r",
      "Aggregate:  94%|█████████▍| 278/296 [03:24<00:21,  1.20s/it]"
     ]
    },
    {
     "name": "stderr",
     "output_type": "stream",
     "text": [
      "\r",
      "Aggregate:  94%|█████████▍| 279/296 [03:25<00:18,  1.10s/it]"
     ]
    },
    {
     "name": "stderr",
     "output_type": "stream",
     "text": [
      "\r",
      "Aggregate:  95%|█████████▍| 280/296 [03:27<00:21,  1.33s/it]"
     ]
    },
    {
     "name": "stderr",
     "output_type": "stream",
     "text": [
      "\r",
      "Aggregate:  95%|█████████▍| 281/296 [03:28<00:15,  1.03s/it]"
     ]
    },
    {
     "name": "stderr",
     "output_type": "stream",
     "text": [
      "\r",
      "Aggregate:  95%|█████████▌| 282/296 [03:28<00:10,  1.30it/s]"
     ]
    },
    {
     "name": "stderr",
     "output_type": "stream",
     "text": [
      "\r",
      "Aggregate:  96%|█████████▌| 283/296 [03:29<00:13,  1.02s/it]"
     ]
    },
    {
     "name": "stderr",
     "output_type": "stream",
     "text": [
      "\r",
      "Aggregate:  96%|█████████▌| 284/296 [03:30<00:09,  1.29it/s]"
     ]
    },
    {
     "name": "stderr",
     "output_type": "stream",
     "text": [
      "\r",
      "Aggregate:  96%|█████████▋| 285/296 [03:30<00:07,  1.48it/s]"
     ]
    },
    {
     "name": "stderr",
     "output_type": "stream",
     "text": [
      "\r",
      "Aggregate:  97%|█████████▋| 286/296 [03:30<00:05,  1.71it/s]"
     ]
    },
    {
     "name": "stderr",
     "output_type": "stream",
     "text": [
      "\r",
      "Aggregate:  97%|█████████▋| 287/296 [03:31<00:04,  1.80it/s]"
     ]
    },
    {
     "name": "stderr",
     "output_type": "stream",
     "text": [
      "\r",
      "Aggregate:  97%|█████████▋| 288/296 [03:31<00:03,  2.09it/s]"
     ]
    },
    {
     "name": "stderr",
     "output_type": "stream",
     "text": [
      "\r",
      "Aggregate:  98%|█████████▊| 289/296 [03:32<00:03,  1.90it/s]"
     ]
    },
    {
     "name": "stderr",
     "output_type": "stream",
     "text": [
      "\r",
      "Aggregate:  98%|█████████▊| 290/296 [03:33<00:03,  1.55it/s]"
     ]
    },
    {
     "name": "stderr",
     "output_type": "stream",
     "text": [
      "\r",
      "Aggregate:  99%|█████████▊| 292/296 [03:33<00:02,  1.99it/s]"
     ]
    },
    {
     "name": "stderr",
     "output_type": "stream",
     "text": [
      "\r",
      "Aggregate:  99%|█████████▉| 293/296 [03:34<00:01,  1.82it/s]"
     ]
    },
    {
     "name": "stderr",
     "output_type": "stream",
     "text": [
      "\r",
      "Aggregate:  99%|█████████▉| 294/296 [03:34<00:01,  1.64it/s]"
     ]
    },
    {
     "name": "stderr",
     "output_type": "stream",
     "text": [
      "\r",
      "Aggregate: 100%|█████████▉| 295/296 [03:35<00:00,  2.06it/s]"
     ]
    },
    {
     "name": "stderr",
     "output_type": "stream",
     "text": [
      "\r",
      "Aggregate: 100%|██████████| 296/296 [03:35<00:00,  1.99it/s]"
     ]
    },
    {
     "name": "stderr",
     "output_type": "stream",
     "text": [
      "\n"
     ]
    }
   ],
   "source": [
    "agg_models = pd.Series([])\n",
    "agg_losses = pd.Series([]).rename('agg_loss')\n",
    "with tqdm(available_agg_models, desc='Aggregate') as bar:\n",
    "  for f in bar:\n",
    "    subject_id = int(f.split('.')[0])\n",
    "    with open(os.path.join(AGG_MODEL_PATH, f)) as f_in:\n",
    "      model = unmake_json(json.load(f_in))\n",
    "    model_obj = make_model(subject_id, model)\n",
    "    agg_models[subject_id] = model_obj\n",
    "\n",
    "    r = model_obj.render()\n",
    "    agg_losses[subject_id] = loss(\n",
    "      r,\n",
    "      model_obj.data,\n",
    "      pixel_mask=model_obj.pixel_mask\n",
    "    )"
   ]
  },
  {
   "cell_type": "code",
   "execution_count": 6,
   "metadata": {
    "collapsed": false,
    "inputHidden": true,
    "outputHidden": false,
    "papermill": {
     "duration": 216.898524,
     "end_time": "2019-08-21T09:43:05.908596",
     "exception": false,
     "start_time": "2019-08-21T09:39:29.010072",
     "status": "completed"
    },
    "tags": []
   },
   "outputs": [
    {
     "name": "stderr",
     "output_type": "stream",
     "text": [
      "\r",
      "Best Individual:   0%|          | 0/296 [00:00<?, ?it/s]"
     ]
    },
    {
     "name": "stderr",
     "output_type": "stream",
     "text": [
      "\r",
      "Best Individual:   0%|          | 1/296 [00:05<28:01,  5.70s/it]"
     ]
    },
    {
     "name": "stderr",
     "output_type": "stream",
     "text": [
      "\r",
      "Best Individual:   1%|          | 2/296 [00:06<20:37,  4.21s/it]"
     ]
    },
    {
     "name": "stderr",
     "output_type": "stream",
     "text": [
      "\r",
      "Best Individual:   1%|          | 3/296 [00:06<14:42,  3.01s/it]"
     ]
    },
    {
     "name": "stderr",
     "output_type": "stream",
     "text": [
      "\r",
      "Best Individual:   1%|▏         | 4/296 [00:07<11:33,  2.38s/it]"
     ]
    },
    {
     "name": "stderr",
     "output_type": "stream",
     "text": [
      "\r",
      "Best Individual:   2%|▏         | 5/296 [00:08<08:47,  1.81s/it]"
     ]
    },
    {
     "name": "stderr",
     "output_type": "stream",
     "text": [
      "\r",
      "Best Individual:   2%|▏         | 6/296 [00:09<07:50,  1.62s/it]"
     ]
    },
    {
     "name": "stderr",
     "output_type": "stream",
     "text": [
      "\r",
      "Best Individual:   2%|▏         | 7/296 [00:09<06:19,  1.31s/it]"
     ]
    },
    {
     "name": "stderr",
     "output_type": "stream",
     "text": [
      "\r",
      "Best Individual:   3%|▎         | 8/296 [00:10<05:21,  1.12s/it]"
     ]
    },
    {
     "name": "stderr",
     "output_type": "stream",
     "text": [
      "\r",
      "Best Individual:   3%|▎         | 9/296 [00:10<04:13,  1.13it/s]"
     ]
    },
    {
     "name": "stderr",
     "output_type": "stream",
     "text": [
      "\r",
      "Best Individual:   3%|▎         | 10/296 [00:11<03:58,  1.20it/s]"
     ]
    },
    {
     "name": "stderr",
     "output_type": "stream",
     "text": [
      "\r",
      "Best Individual:   4%|▎         | 11/296 [00:12<03:30,  1.36it/s]"
     ]
    },
    {
     "name": "stderr",
     "output_type": "stream",
     "text": [
      "\r",
      "Best Individual:   4%|▍         | 12/296 [00:12<02:50,  1.67it/s]"
     ]
    },
    {
     "name": "stderr",
     "output_type": "stream",
     "text": [
      "\r",
      "Best Individual:   4%|▍         | 13/296 [00:12<02:13,  2.12it/s]"
     ]
    },
    {
     "name": "stderr",
     "output_type": "stream",
     "text": [
      "\r",
      "Best Individual:   5%|▍         | 14/296 [00:13<02:44,  1.72it/s]"
     ]
    },
    {
     "name": "stderr",
     "output_type": "stream",
     "text": [
      "\r",
      "Best Individual:   5%|▌         | 15/296 [00:13<02:13,  2.10it/s]"
     ]
    },
    {
     "name": "stderr",
     "output_type": "stream",
     "text": [
      "\r",
      "Best Individual:   5%|▌         | 16/296 [00:14<02:32,  1.83it/s]"
     ]
    },
    {
     "name": "stderr",
     "output_type": "stream",
     "text": [
      "\r",
      "Best Individual:   6%|▌         | 17/296 [00:15<03:17,  1.41it/s]"
     ]
    },
    {
     "name": "stderr",
     "output_type": "stream",
     "text": [
      "\r",
      "Best Individual:   6%|▌         | 18/296 [00:15<03:04,  1.51it/s]"
     ]
    },
    {
     "name": "stderr",
     "output_type": "stream",
     "text": [
      "\r",
      "Best Individual:   6%|▋         | 19/296 [00:16<03:12,  1.44it/s]"
     ]
    },
    {
     "name": "stderr",
     "output_type": "stream",
     "text": [
      "\r",
      "Best Individual:   7%|▋         | 20/296 [00:17<03:21,  1.37it/s]"
     ]
    },
    {
     "name": "stderr",
     "output_type": "stream",
     "text": [
      "\r",
      "Best Individual:   7%|▋         | 21/296 [00:18<03:27,  1.32it/s]"
     ]
    },
    {
     "name": "stderr",
     "output_type": "stream",
     "text": [
      "\r",
      "Best Individual:   7%|▋         | 22/296 [00:18<02:46,  1.64it/s]"
     ]
    },
    {
     "name": "stderr",
     "output_type": "stream",
     "text": [
      "\r",
      "Best Individual:   8%|▊         | 23/296 [00:19<02:57,  1.54it/s]"
     ]
    },
    {
     "name": "stderr",
     "output_type": "stream",
     "text": [
      "\r",
      "Best Individual:   8%|▊         | 24/296 [00:19<02:45,  1.64it/s]"
     ]
    },
    {
     "name": "stderr",
     "output_type": "stream",
     "text": [
      "\r",
      "Best Individual:   8%|▊         | 25/296 [00:21<03:54,  1.16it/s]"
     ]
    },
    {
     "name": "stderr",
     "output_type": "stream",
     "text": [
      "\r",
      "Best Individual:   9%|▉         | 26/296 [00:21<03:20,  1.35it/s]"
     ]
    },
    {
     "name": "stderr",
     "output_type": "stream",
     "text": [
      "\r",
      "Best Individual:   9%|▉         | 27/296 [00:22<03:18,  1.35it/s]"
     ]
    },
    {
     "name": "stderr",
     "output_type": "stream",
     "text": [
      "\r",
      "Best Individual:   9%|▉         | 28/296 [00:23<03:45,  1.19it/s]"
     ]
    },
    {
     "name": "stderr",
     "output_type": "stream",
     "text": [
      "\r",
      "Best Individual:  10%|▉         | 29/296 [00:23<02:53,  1.54it/s]"
     ]
    },
    {
     "name": "stderr",
     "output_type": "stream",
     "text": [
      "\r",
      "Best Individual:  10%|█         | 30/296 [00:23<02:19,  1.91it/s]"
     ]
    },
    {
     "name": "stderr",
     "output_type": "stream",
     "text": [
      "\r",
      "Best Individual:  10%|█         | 31/296 [00:30<09:51,  2.23s/it]"
     ]
    },
    {
     "name": "stderr",
     "output_type": "stream",
     "text": [
      "\r",
      "Best Individual:  11%|█         | 32/296 [00:30<07:11,  1.63s/it]"
     ]
    },
    {
     "name": "stderr",
     "output_type": "stream",
     "text": [
      "\r",
      "Best Individual:  11%|█         | 33/296 [00:30<05:40,  1.30s/it]"
     ]
    },
    {
     "name": "stderr",
     "output_type": "stream",
     "text": [
      "\r",
      "Best Individual:  11%|█▏        | 34/296 [00:31<04:49,  1.10s/it]"
     ]
    },
    {
     "name": "stderr",
     "output_type": "stream",
     "text": [
      "\r",
      "Best Individual:  12%|█▏        | 35/296 [00:31<03:49,  1.14it/s]"
     ]
    },
    {
     "name": "stderr",
     "output_type": "stream",
     "text": [
      "\r",
      "Best Individual:  12%|█▏        | 36/296 [00:32<03:13,  1.34it/s]"
     ]
    },
    {
     "name": "stderr",
     "output_type": "stream",
     "text": [
      "\r",
      "Best Individual:  12%|█▎        | 37/296 [00:33<03:05,  1.40it/s]"
     ]
    },
    {
     "name": "stderr",
     "output_type": "stream",
     "text": [
      "\r",
      "Best Individual:  13%|█▎        | 38/296 [00:34<04:25,  1.03s/it]"
     ]
    },
    {
     "name": "stderr",
     "output_type": "stream",
     "text": [
      "\r",
      "Best Individual:  13%|█▎        | 39/296 [00:35<03:55,  1.09it/s]"
     ]
    },
    {
     "name": "stderr",
     "output_type": "stream",
     "text": [
      "\r",
      "Best Individual:  14%|█▎        | 40/296 [00:35<03:21,  1.27it/s]"
     ]
    },
    {
     "name": "stderr",
     "output_type": "stream",
     "text": [
      "\r",
      "Best Individual:  14%|█▍        | 41/296 [00:36<03:32,  1.20it/s]"
     ]
    },
    {
     "name": "stderr",
     "output_type": "stream",
     "text": [
      "\r",
      "Best Individual:  14%|█▍        | 42/296 [00:37<02:56,  1.44it/s]"
     ]
    },
    {
     "name": "stderr",
     "output_type": "stream",
     "text": [
      "\r",
      "Best Individual:  15%|█▍        | 43/296 [00:37<02:26,  1.73it/s]"
     ]
    },
    {
     "name": "stderr",
     "output_type": "stream",
     "text": [
      "\r",
      "Best Individual:  15%|█▍        | 44/296 [00:38<02:53,  1.45it/s]"
     ]
    },
    {
     "name": "stderr",
     "output_type": "stream",
     "text": [
      "\r",
      "Best Individual:  15%|█▌        | 45/296 [00:39<03:14,  1.29it/s]"
     ]
    },
    {
     "name": "stderr",
     "output_type": "stream",
     "text": [
      "\r",
      "Best Individual:  16%|█▌        | 46/296 [00:39<02:40,  1.56it/s]"
     ]
    },
    {
     "name": "stderr",
     "output_type": "stream",
     "text": [
      "\r",
      "Best Individual:  16%|█▌        | 47/296 [00:40<02:10,  1.90it/s]"
     ]
    },
    {
     "name": "stderr",
     "output_type": "stream",
     "text": [
      "\r",
      "Best Individual:  16%|█▌        | 48/296 [00:40<02:07,  1.95it/s]"
     ]
    },
    {
     "name": "stderr",
     "output_type": "stream",
     "text": [
      "\r",
      "Best Individual:  17%|█▋        | 49/296 [00:40<01:59,  2.07it/s]"
     ]
    },
    {
     "name": "stderr",
     "output_type": "stream",
     "text": [
      "\r",
      "Best Individual:  17%|█▋        | 50/296 [00:41<01:44,  2.36it/s]"
     ]
    },
    {
     "name": "stderr",
     "output_type": "stream",
     "text": [
      "\r",
      "Best Individual:  17%|█▋        | 51/296 [00:42<02:41,  1.52it/s]"
     ]
    },
    {
     "name": "stderr",
     "output_type": "stream",
     "text": [
      "\r",
      "Best Individual:  18%|█▊        | 52/296 [00:42<02:07,  1.91it/s]"
     ]
    },
    {
     "name": "stderr",
     "output_type": "stream",
     "text": [
      "\r",
      "Best Individual:  18%|█▊        | 53/296 [00:44<03:07,  1.30it/s]"
     ]
    },
    {
     "name": "stderr",
     "output_type": "stream",
     "text": [
      "\r",
      "Best Individual:  18%|█▊        | 54/296 [00:45<04:19,  1.07s/it]"
     ]
    },
    {
     "name": "stderr",
     "output_type": "stream",
     "text": [
      "\r",
      "Best Individual:  19%|█▊        | 55/296 [00:46<03:18,  1.22it/s]"
     ]
    },
    {
     "name": "stderr",
     "output_type": "stream",
     "text": [
      "\r",
      "Best Individual:  19%|█▉        | 56/296 [00:47<03:59,  1.00it/s]"
     ]
    },
    {
     "name": "stderr",
     "output_type": "stream",
     "text": [
      "\r",
      "Best Individual:  19%|█▉        | 57/296 [00:47<03:08,  1.27it/s]"
     ]
    },
    {
     "name": "stderr",
     "output_type": "stream",
     "text": [
      "\r",
      "Best Individual:  20%|█▉        | 58/296 [00:47<02:29,  1.59it/s]"
     ]
    },
    {
     "name": "stderr",
     "output_type": "stream",
     "text": [
      "\r",
      "Best Individual:  20%|█▉        | 59/296 [00:48<02:25,  1.62it/s]"
     ]
    },
    {
     "name": "stderr",
     "output_type": "stream",
     "text": [
      "\r",
      "Best Individual:  20%|██        | 60/296 [00:49<02:14,  1.76it/s]"
     ]
    },
    {
     "name": "stderr",
     "output_type": "stream",
     "text": [
      "\r",
      "Best Individual:  21%|██        | 61/296 [00:49<01:49,  2.14it/s]"
     ]
    },
    {
     "name": "stderr",
     "output_type": "stream",
     "text": [
      "\r",
      "Best Individual:  21%|██        | 62/296 [00:49<01:52,  2.08it/s]"
     ]
    },
    {
     "name": "stderr",
     "output_type": "stream",
     "text": [
      "\r",
      "Best Individual:  21%|██▏       | 63/296 [00:50<01:41,  2.30it/s]"
     ]
    },
    {
     "name": "stderr",
     "output_type": "stream",
     "text": [
      "\r",
      "Best Individual:  22%|██▏       | 64/296 [00:50<01:20,  2.90it/s]"
     ]
    },
    {
     "name": "stderr",
     "output_type": "stream",
     "text": [
      "\r",
      "Best Individual:  22%|██▏       | 65/296 [00:51<01:58,  1.95it/s]"
     ]
    },
    {
     "name": "stderr",
     "output_type": "stream",
     "text": [
      "\r",
      "Best Individual:  22%|██▏       | 66/296 [00:51<01:32,  2.49it/s]"
     ]
    },
    {
     "name": "stderr",
     "output_type": "stream",
     "text": [
      "\r",
      "Best Individual:  23%|██▎       | 67/296 [00:51<01:23,  2.74it/s]"
     ]
    },
    {
     "name": "stderr",
     "output_type": "stream",
     "text": [
      "\r",
      "Best Individual:  23%|██▎       | 68/296 [00:52<02:15,  1.69it/s]"
     ]
    },
    {
     "name": "stderr",
     "output_type": "stream",
     "text": [
      "\r",
      "Best Individual:  23%|██▎       | 69/296 [00:53<02:58,  1.27it/s]"
     ]
    },
    {
     "name": "stderr",
     "output_type": "stream",
     "text": [
      "\r",
      "Best Individual:  24%|██▎       | 70/296 [00:54<03:00,  1.25it/s]"
     ]
    },
    {
     "name": "stderr",
     "output_type": "stream",
     "text": [
      "\r",
      "Best Individual:  24%|██▍       | 71/296 [00:55<02:52,  1.31it/s]"
     ]
    },
    {
     "name": "stderr",
     "output_type": "stream",
     "text": [
      "\r",
      "Best Individual:  24%|██▍       | 72/296 [00:57<04:45,  1.28s/it]"
     ]
    },
    {
     "name": "stderr",
     "output_type": "stream",
     "text": [
      "\r",
      "Best Individual:  25%|██▍       | 73/296 [00:58<03:59,  1.07s/it]"
     ]
    },
    {
     "name": "stderr",
     "output_type": "stream",
     "text": [
      "\r",
      "Best Individual:  25%|██▌       | 74/296 [00:59<04:12,  1.14s/it]"
     ]
    },
    {
     "name": "stderr",
     "output_type": "stream",
     "text": [
      "\r",
      "Best Individual:  25%|██▌       | 75/296 [01:00<03:09,  1.16it/s]"
     ]
    },
    {
     "name": "stderr",
     "output_type": "stream",
     "text": [
      "\r",
      "Best Individual:  26%|██▌       | 76/296 [01:00<03:03,  1.20it/s]"
     ]
    },
    {
     "name": "stderr",
     "output_type": "stream",
     "text": [
      "\r",
      "Best Individual:  26%|██▌       | 77/296 [01:01<02:31,  1.45it/s]"
     ]
    },
    {
     "name": "stderr",
     "output_type": "stream",
     "text": [
      "\r",
      "Best Individual:  26%|██▋       | 78/296 [01:02<03:17,  1.10it/s]"
     ]
    },
    {
     "name": "stderr",
     "output_type": "stream",
     "text": [
      "\r",
      "Best Individual:  27%|██▋       | 79/296 [01:05<05:08,  1.42s/it]"
     ]
    },
    {
     "name": "stderr",
     "output_type": "stream",
     "text": [
      "\r",
      "Best Individual:  27%|██▋       | 80/296 [01:05<04:17,  1.19s/it]"
     ]
    },
    {
     "name": "stderr",
     "output_type": "stream",
     "text": [
      "\r",
      "Best Individual:  27%|██▋       | 81/296 [01:08<05:25,  1.52s/it]"
     ]
    },
    {
     "name": "stderr",
     "output_type": "stream",
     "text": [
      "\r",
      "Best Individual:  28%|██▊       | 82/296 [01:08<03:59,  1.12s/it]"
     ]
    },
    {
     "name": "stderr",
     "output_type": "stream",
     "text": [
      "\r",
      "Best Individual:  28%|██▊       | 83/296 [01:08<02:53,  1.23it/s]"
     ]
    },
    {
     "name": "stderr",
     "output_type": "stream",
     "text": [
      "\r",
      "Best Individual:  28%|██▊       | 84/296 [01:09<03:18,  1.07it/s]"
     ]
    },
    {
     "name": "stderr",
     "output_type": "stream",
     "text": [
      "\r",
      "Best Individual:  29%|██▊       | 85/296 [01:09<02:30,  1.40it/s]"
     ]
    },
    {
     "name": "stderr",
     "output_type": "stream",
     "text": [
      "\r",
      "Best Individual:  29%|██▉       | 86/296 [01:10<02:39,  1.31it/s]"
     ]
    },
    {
     "name": "stderr",
     "output_type": "stream",
     "text": [
      "\r",
      "Best Individual:  29%|██▉       | 87/296 [01:11<02:12,  1.58it/s]"
     ]
    },
    {
     "name": "stderr",
     "output_type": "stream",
     "text": [
      "\r",
      "Best Individual:  30%|██▉       | 88/296 [01:12<03:02,  1.14it/s]"
     ]
    },
    {
     "name": "stderr",
     "output_type": "stream",
     "text": [
      "\r",
      "Best Individual:  30%|███       | 89/296 [01:13<02:50,  1.22it/s]"
     ]
    },
    {
     "name": "stderr",
     "output_type": "stream",
     "text": [
      "\r",
      "Best Individual:  30%|███       | 90/296 [01:13<02:18,  1.49it/s]"
     ]
    },
    {
     "name": "stderr",
     "output_type": "stream",
     "text": [
      "\r",
      "Best Individual:  31%|███       | 91/296 [01:14<02:09,  1.59it/s]"
     ]
    },
    {
     "name": "stderr",
     "output_type": "stream",
     "text": [
      "\r",
      "Best Individual:  31%|███       | 92/296 [01:14<02:04,  1.64it/s]"
     ]
    },
    {
     "name": "stderr",
     "output_type": "stream",
     "text": [
      "\r",
      "Best Individual:  31%|███▏      | 93/296 [01:15<02:08,  1.58it/s]"
     ]
    },
    {
     "name": "stderr",
     "output_type": "stream",
     "text": [
      "\r",
      "Best Individual:  32%|███▏      | 94/296 [01:15<01:36,  2.10it/s]"
     ]
    },
    {
     "name": "stderr",
     "output_type": "stream",
     "text": [
      "\r",
      "Best Individual:  32%|███▏      | 95/296 [01:15<01:29,  2.26it/s]"
     ]
    },
    {
     "name": "stderr",
     "output_type": "stream",
     "text": [
      "\r",
      "Best Individual:  32%|███▏      | 96/296 [01:16<02:02,  1.63it/s]"
     ]
    },
    {
     "name": "stderr",
     "output_type": "stream",
     "text": [
      "\r",
      "Best Individual:  33%|███▎      | 97/296 [01:18<03:37,  1.09s/it]"
     ]
    },
    {
     "name": "stderr",
     "output_type": "stream",
     "text": [
      "\r",
      "Best Individual:  33%|███▎      | 98/296 [01:19<02:50,  1.16it/s]"
     ]
    },
    {
     "name": "stderr",
     "output_type": "stream",
     "text": [
      "\r",
      "Best Individual:  33%|███▎      | 99/296 [01:19<02:13,  1.47it/s]"
     ]
    },
    {
     "name": "stderr",
     "output_type": "stream",
     "text": [
      "\r",
      "Best Individual:  34%|███▍      | 100/296 [01:21<03:17,  1.01s/it]"
     ]
    },
    {
     "name": "stderr",
     "output_type": "stream",
     "text": [
      "\r",
      "Best Individual:  34%|███▍      | 101/296 [01:21<02:27,  1.32it/s]"
     ]
    },
    {
     "name": "stderr",
     "output_type": "stream",
     "text": [
      "\r",
      "Best Individual:  34%|███▍      | 102/296 [01:21<01:57,  1.65it/s]"
     ]
    },
    {
     "name": "stderr",
     "output_type": "stream",
     "text": [
      "\r",
      "Best Individual:  35%|███▍      | 103/296 [01:22<01:42,  1.88it/s]"
     ]
    },
    {
     "name": "stderr",
     "output_type": "stream",
     "text": [
      "\r",
      "Best Individual:  35%|███▌      | 104/296 [01:22<01:29,  2.14it/s]"
     ]
    },
    {
     "name": "stderr",
     "output_type": "stream",
     "text": [
      "\r",
      "Best Individual:  35%|███▌      | 105/296 [01:23<01:36,  1.98it/s]"
     ]
    },
    {
     "name": "stderr",
     "output_type": "stream",
     "text": [
      "\r",
      "Best Individual:  36%|███▌      | 106/296 [01:23<01:34,  2.01it/s]"
     ]
    },
    {
     "name": "stderr",
     "output_type": "stream",
     "text": [
      "\r",
      "Best Individual:  36%|███▌      | 107/296 [01:24<02:00,  1.57it/s]"
     ]
    },
    {
     "name": "stderr",
     "output_type": "stream",
     "text": [
      "\r",
      "Best Individual:  36%|███▋      | 108/296 [01:24<01:49,  1.72it/s]"
     ]
    },
    {
     "name": "stderr",
     "output_type": "stream",
     "text": [
      "\r",
      "Best Individual:  37%|███▋      | 109/296 [01:25<01:25,  2.18it/s]"
     ]
    },
    {
     "name": "stderr",
     "output_type": "stream",
     "text": [
      "\r",
      "Best Individual:  37%|███▋      | 110/296 [01:25<01:30,  2.07it/s]"
     ]
    },
    {
     "name": "stderr",
     "output_type": "stream",
     "text": [
      "\r",
      "Best Individual:  38%|███▊      | 111/296 [01:25<01:08,  2.70it/s]"
     ]
    },
    {
     "name": "stderr",
     "output_type": "stream",
     "text": [
      "\r",
      "Best Individual:  38%|███▊      | 112/296 [01:25<00:54,  3.36it/s]"
     ]
    },
    {
     "name": "stderr",
     "output_type": "stream",
     "text": [
      "\r",
      "Best Individual:  38%|███▊      | 113/296 [01:26<01:11,  2.55it/s]"
     ]
    },
    {
     "name": "stderr",
     "output_type": "stream",
     "text": [
      "\r",
      "Best Individual:  39%|███▊      | 114/296 [01:26<00:59,  3.07it/s]"
     ]
    },
    {
     "name": "stderr",
     "output_type": "stream",
     "text": [
      "\r",
      "Best Individual:  39%|███▉      | 115/296 [01:26<01:00,  3.01it/s]"
     ]
    },
    {
     "name": "stderr",
     "output_type": "stream",
     "text": [
      "\r",
      "Best Individual:  39%|███▉      | 116/296 [01:29<02:56,  1.02it/s]"
     ]
    },
    {
     "name": "stderr",
     "output_type": "stream",
     "text": [
      "\r",
      "Best Individual:  40%|███▉      | 117/296 [01:29<02:11,  1.36it/s]"
     ]
    },
    {
     "name": "stderr",
     "output_type": "stream",
     "text": [
      "\r",
      "Best Individual:  40%|███▉      | 118/296 [01:30<01:55,  1.54it/s]"
     ]
    },
    {
     "name": "stderr",
     "output_type": "stream",
     "text": [
      "\r",
      "Best Individual:  40%|████      | 119/296 [01:30<01:33,  1.88it/s]"
     ]
    },
    {
     "name": "stderr",
     "output_type": "stream",
     "text": [
      "\r",
      "Best Individual:  41%|████      | 120/296 [01:30<01:21,  2.15it/s]"
     ]
    },
    {
     "name": "stderr",
     "output_type": "stream",
     "text": [
      "\r",
      "Best Individual:  41%|████      | 121/296 [01:30<01:07,  2.58it/s]"
     ]
    },
    {
     "name": "stderr",
     "output_type": "stream",
     "text": [
      "\r",
      "Best Individual:  41%|████      | 122/296 [01:31<01:11,  2.43it/s]"
     ]
    },
    {
     "name": "stderr",
     "output_type": "stream",
     "text": [
      "\r",
      "Best Individual:  42%|████▏     | 123/296 [01:31<01:21,  2.13it/s]"
     ]
    },
    {
     "name": "stderr",
     "output_type": "stream",
     "text": [
      "\r",
      "Best Individual:  42%|████▏     | 124/296 [01:32<01:07,  2.56it/s]"
     ]
    },
    {
     "name": "stderr",
     "output_type": "stream",
     "text": [
      "\r",
      "Best Individual:  42%|████▏     | 125/296 [01:32<01:27,  1.96it/s]"
     ]
    },
    {
     "name": "stderr",
     "output_type": "stream",
     "text": [
      "\r",
      "Best Individual:  43%|████▎     | 126/296 [01:33<01:05,  2.58it/s]"
     ]
    },
    {
     "name": "stderr",
     "output_type": "stream",
     "text": [
      "\r",
      "Best Individual:  43%|████▎     | 127/296 [01:33<01:20,  2.09it/s]"
     ]
    },
    {
     "name": "stderr",
     "output_type": "stream",
     "text": [
      "\r",
      "Best Individual:  43%|████▎     | 128/296 [01:34<01:25,  1.96it/s]"
     ]
    },
    {
     "name": "stderr",
     "output_type": "stream",
     "text": [
      "\r",
      "Best Individual:  44%|████▎     | 129/296 [01:34<01:24,  1.98it/s]"
     ]
    },
    {
     "name": "stderr",
     "output_type": "stream",
     "text": [
      "\r",
      "Best Individual:  44%|████▍     | 130/296 [01:35<01:34,  1.76it/s]"
     ]
    },
    {
     "name": "stderr",
     "output_type": "stream",
     "text": [
      "\r",
      "Best Individual:  44%|████▍     | 131/296 [01:35<01:21,  2.04it/s]"
     ]
    },
    {
     "name": "stderr",
     "output_type": "stream",
     "text": [
      "\r",
      "Best Individual:  45%|████▍     | 132/296 [01:36<01:30,  1.81it/s]"
     ]
    },
    {
     "name": "stderr",
     "output_type": "stream",
     "text": [
      "\r",
      "Best Individual:  45%|████▍     | 133/296 [01:37<01:43,  1.58it/s]"
     ]
    },
    {
     "name": "stderr",
     "output_type": "stream",
     "text": [
      "\r",
      "Best Individual:  45%|████▌     | 134/296 [01:38<01:49,  1.48it/s]"
     ]
    },
    {
     "name": "stderr",
     "output_type": "stream",
     "text": [
      "\r",
      "Best Individual:  46%|████▌     | 135/296 [01:38<01:30,  1.78it/s]"
     ]
    },
    {
     "name": "stderr",
     "output_type": "stream",
     "text": [
      "\r",
      "Best Individual:  46%|████▌     | 136/296 [01:40<02:56,  1.11s/it]"
     ]
    },
    {
     "name": "stderr",
     "output_type": "stream",
     "text": [
      "\r",
      "Best Individual:  46%|████▋     | 137/296 [01:41<02:28,  1.07it/s]"
     ]
    },
    {
     "name": "stderr",
     "output_type": "stream",
     "text": [
      "\r",
      "Best Individual:  47%|████▋     | 138/296 [01:43<03:29,  1.33s/it]"
     ]
    },
    {
     "name": "stderr",
     "output_type": "stream",
     "text": [
      "\r",
      "Best Individual:  47%|████▋     | 139/296 [01:44<02:50,  1.09s/it]"
     ]
    },
    {
     "name": "stderr",
     "output_type": "stream",
     "text": [
      "\r",
      "Best Individual:  47%|████▋     | 140/296 [01:45<02:55,  1.13s/it]"
     ]
    },
    {
     "name": "stderr",
     "output_type": "stream",
     "text": [
      "\r",
      "Best Individual:  48%|████▊     | 141/296 [01:46<02:48,  1.09s/it]"
     ]
    },
    {
     "name": "stderr",
     "output_type": "stream",
     "text": [
      "\r",
      "Best Individual:  48%|████▊     | 142/296 [01:46<02:28,  1.04it/s]"
     ]
    },
    {
     "name": "stderr",
     "output_type": "stream",
     "text": [
      "\r",
      "Best Individual:  48%|████▊     | 143/296 [01:47<02:02,  1.25it/s]"
     ]
    },
    {
     "name": "stderr",
     "output_type": "stream",
     "text": [
      "\r",
      "Best Individual:  49%|████▊     | 144/296 [01:47<01:48,  1.40it/s]"
     ]
    },
    {
     "name": "stderr",
     "output_type": "stream",
     "text": [
      "\r",
      "Best Individual:  49%|████▉     | 145/296 [01:48<01:33,  1.62it/s]"
     ]
    },
    {
     "name": "stderr",
     "output_type": "stream",
     "text": [
      "\r",
      "Best Individual:  49%|████▉     | 146/296 [01:48<01:15,  1.99it/s]"
     ]
    },
    {
     "name": "stderr",
     "output_type": "stream",
     "text": [
      "\r",
      "Best Individual:  50%|████▉     | 147/296 [01:49<01:15,  1.96it/s]"
     ]
    },
    {
     "name": "stderr",
     "output_type": "stream",
     "text": [
      "\r",
      "Best Individual:  50%|█████     | 148/296 [01:50<01:44,  1.42it/s]"
     ]
    },
    {
     "name": "stderr",
     "output_type": "stream",
     "text": [
      "\r",
      "Best Individual:  50%|█████     | 149/296 [01:50<01:28,  1.66it/s]"
     ]
    },
    {
     "name": "stderr",
     "output_type": "stream",
     "text": [
      "\r",
      "Best Individual:  51%|█████     | 150/296 [01:51<01:20,  1.81it/s]"
     ]
    },
    {
     "name": "stderr",
     "output_type": "stream",
     "text": [
      "\r",
      "Best Individual:  51%|█████     | 151/296 [01:52<01:48,  1.33it/s]"
     ]
    },
    {
     "name": "stderr",
     "output_type": "stream",
     "text": [
      "\r",
      "Best Individual:  51%|█████▏    | 152/296 [01:52<01:33,  1.55it/s]"
     ]
    },
    {
     "name": "stderr",
     "output_type": "stream",
     "text": [
      "\r",
      "Best Individual:  52%|█████▏    | 153/296 [01:53<01:21,  1.75it/s]"
     ]
    },
    {
     "name": "stderr",
     "output_type": "stream",
     "text": [
      "\r",
      "Best Individual:  52%|█████▏    | 154/296 [01:53<01:05,  2.18it/s]"
     ]
    },
    {
     "name": "stderr",
     "output_type": "stream",
     "text": [
      "\r",
      "Best Individual:  52%|█████▏    | 155/296 [01:54<01:47,  1.31it/s]"
     ]
    },
    {
     "name": "stderr",
     "output_type": "stream",
     "text": [
      "\r",
      "Best Individual:  53%|█████▎    | 156/296 [01:55<01:33,  1.50it/s]"
     ]
    },
    {
     "name": "stderr",
     "output_type": "stream",
     "text": [
      "\r",
      "Best Individual:  53%|█████▎    | 157/296 [01:55<01:36,  1.44it/s]"
     ]
    },
    {
     "name": "stderr",
     "output_type": "stream",
     "text": [
      "\r",
      "Best Individual:  53%|█████▎    | 158/296 [01:56<01:30,  1.53it/s]"
     ]
    },
    {
     "name": "stderr",
     "output_type": "stream",
     "text": [
      "\r",
      "Best Individual:  54%|█████▎    | 159/296 [01:56<01:12,  1.90it/s]"
     ]
    },
    {
     "name": "stderr",
     "output_type": "stream",
     "text": [
      "\r",
      "Best Individual:  54%|█████▍    | 160/296 [01:56<00:58,  2.31it/s]"
     ]
    },
    {
     "name": "stderr",
     "output_type": "stream",
     "text": [
      "\r",
      "Best Individual:  54%|█████▍    | 161/296 [01:57<01:10,  1.91it/s]"
     ]
    },
    {
     "name": "stderr",
     "output_type": "stream",
     "text": [
      "\r",
      "Best Individual:  55%|█████▍    | 162/296 [01:58<01:05,  2.04it/s]"
     ]
    },
    {
     "name": "stderr",
     "output_type": "stream",
     "text": [
      "\r",
      "Best Individual:  55%|█████▌    | 163/296 [01:58<01:00,  2.20it/s]"
     ]
    },
    {
     "name": "stderr",
     "output_type": "stream",
     "text": [
      "\r",
      "Best Individual:  55%|█████▌    | 164/296 [01:59<01:10,  1.88it/s]"
     ]
    },
    {
     "name": "stderr",
     "output_type": "stream",
     "text": [
      "\r",
      "Best Individual:  56%|█████▌    | 165/296 [01:59<01:03,  2.08it/s]"
     ]
    },
    {
     "name": "stderr",
     "output_type": "stream",
     "text": [
      "\r",
      "Best Individual:  56%|█████▌    | 166/296 [02:00<01:39,  1.31it/s]"
     ]
    },
    {
     "name": "stderr",
     "output_type": "stream",
     "text": [
      "\r",
      "Best Individual:  56%|█████▋    | 167/296 [02:01<01:28,  1.45it/s]"
     ]
    },
    {
     "name": "stderr",
     "output_type": "stream",
     "text": [
      "\r",
      "Best Individual:  57%|█████▋    | 168/296 [02:02<01:31,  1.40it/s]"
     ]
    },
    {
     "name": "stderr",
     "output_type": "stream",
     "text": [
      "\r",
      "Best Individual:  57%|█████▋    | 169/296 [02:02<01:22,  1.55it/s]"
     ]
    },
    {
     "name": "stderr",
     "output_type": "stream",
     "text": [
      "\r",
      "Best Individual:  57%|█████▋    | 170/296 [02:03<01:09,  1.81it/s]"
     ]
    },
    {
     "name": "stderr",
     "output_type": "stream",
     "text": [
      "\r",
      "Best Individual:  58%|█████▊    | 171/296 [02:03<01:03,  1.97it/s]"
     ]
    },
    {
     "name": "stderr",
     "output_type": "stream",
     "text": [
      "\r",
      "Best Individual:  58%|█████▊    | 172/296 [02:03<00:54,  2.29it/s]"
     ]
    },
    {
     "name": "stderr",
     "output_type": "stream",
     "text": [
      "\r",
      "Best Individual:  58%|█████▊    | 173/296 [02:03<00:46,  2.66it/s]"
     ]
    },
    {
     "name": "stderr",
     "output_type": "stream",
     "text": [
      "\r",
      "Best Individual:  59%|█████▉    | 174/296 [02:05<01:14,  1.63it/s]"
     ]
    },
    {
     "name": "stderr",
     "output_type": "stream",
     "text": [
      "\r",
      "Best Individual:  59%|█████▉    | 175/296 [02:05<00:59,  2.03it/s]"
     ]
    },
    {
     "name": "stderr",
     "output_type": "stream",
     "text": [
      "\r",
      "Best Individual:  59%|█████▉    | 176/296 [02:06<01:07,  1.77it/s]"
     ]
    },
    {
     "name": "stderr",
     "output_type": "stream",
     "text": [
      "\r",
      "Best Individual:  60%|█████▉    | 177/296 [02:06<00:56,  2.09it/s]"
     ]
    },
    {
     "name": "stderr",
     "output_type": "stream",
     "text": [
      "\r",
      "Best Individual:  60%|██████    | 178/296 [02:08<01:47,  1.09it/s]"
     ]
    },
    {
     "name": "stderr",
     "output_type": "stream",
     "text": [
      "\r",
      "Best Individual:  60%|██████    | 179/296 [02:09<01:45,  1.11it/s]"
     ]
    },
    {
     "name": "stderr",
     "output_type": "stream",
     "text": [
      "\r",
      "Best Individual:  61%|██████    | 180/296 [02:10<02:03,  1.06s/it]"
     ]
    },
    {
     "name": "stderr",
     "output_type": "stream",
     "text": [
      "\r",
      "Best Individual:  61%|██████    | 181/296 [02:10<01:36,  1.19it/s]"
     ]
    },
    {
     "name": "stderr",
     "output_type": "stream",
     "text": [
      "\r",
      "Best Individual:  61%|██████▏   | 182/296 [02:11<01:20,  1.42it/s]"
     ]
    },
    {
     "name": "stderr",
     "output_type": "stream",
     "text": [
      "\r",
      "Best Individual:  62%|██████▏   | 183/296 [02:11<01:08,  1.65it/s]"
     ]
    },
    {
     "name": "stderr",
     "output_type": "stream",
     "text": [
      "\r",
      "Best Individual:  62%|██████▏   | 184/296 [02:12<01:25,  1.31it/s]"
     ]
    },
    {
     "name": "stderr",
     "output_type": "stream",
     "text": [
      "\r",
      "Best Individual:  62%|██████▎   | 185/296 [02:13<01:25,  1.30it/s]"
     ]
    },
    {
     "name": "stderr",
     "output_type": "stream",
     "text": [
      "\r",
      "Best Individual:  63%|██████▎   | 186/296 [02:15<01:53,  1.03s/it]"
     ]
    },
    {
     "name": "stderr",
     "output_type": "stream",
     "text": [
      "\r",
      "Best Individual:  63%|██████▎   | 187/296 [02:16<01:45,  1.03it/s]"
     ]
    },
    {
     "name": "stderr",
     "output_type": "stream",
     "text": [
      "\r",
      "Best Individual:  64%|██████▎   | 188/296 [02:17<01:56,  1.08s/it]"
     ]
    },
    {
     "name": "stderr",
     "output_type": "stream",
     "text": [
      "\r",
      "Best Individual:  64%|██████▍   | 189/296 [02:17<01:38,  1.09it/s]"
     ]
    },
    {
     "name": "stderr",
     "output_type": "stream",
     "text": [
      "\r",
      "Best Individual:  64%|██████▍   | 190/296 [02:18<01:11,  1.48it/s]"
     ]
    },
    {
     "name": "stderr",
     "output_type": "stream",
     "text": [
      "\r",
      "Best Individual:  65%|██████▍   | 191/296 [02:19<01:44,  1.00it/s]"
     ]
    },
    {
     "name": "stderr",
     "output_type": "stream",
     "text": [
      "\r",
      "Best Individual:  65%|██████▍   | 192/296 [02:21<02:19,  1.34s/it]"
     ]
    },
    {
     "name": "stderr",
     "output_type": "stream",
     "text": [
      "\r",
      "Best Individual:  65%|██████▌   | 193/296 [02:24<02:48,  1.63s/it]"
     ]
    },
    {
     "name": "stderr",
     "output_type": "stream",
     "text": [
      "\r",
      "Best Individual:  66%|██████▌   | 194/296 [02:24<02:04,  1.22s/it]"
     ]
    },
    {
     "name": "stderr",
     "output_type": "stream",
     "text": [
      "\r",
      "Best Individual:  66%|██████▌   | 195/296 [02:24<01:30,  1.12it/s]"
     ]
    },
    {
     "name": "stderr",
     "output_type": "stream",
     "text": [
      "\r",
      "Best Individual:  66%|██████▌   | 196/296 [02:24<01:08,  1.47it/s]"
     ]
    },
    {
     "name": "stderr",
     "output_type": "stream",
     "text": [
      "\r",
      "Best Individual:  67%|██████▋   | 197/296 [02:26<01:23,  1.18it/s]"
     ]
    },
    {
     "name": "stderr",
     "output_type": "stream",
     "text": [
      "\r",
      "Best Individual:  67%|██████▋   | 198/296 [02:26<01:01,  1.60it/s]"
     ]
    },
    {
     "name": "stderr",
     "output_type": "stream",
     "text": [
      "\r",
      "Best Individual:  67%|██████▋   | 199/296 [02:27<01:15,  1.28it/s]"
     ]
    },
    {
     "name": "stderr",
     "output_type": "stream",
     "text": [
      "\r",
      "Best Individual:  68%|██████▊   | 200/296 [02:28<01:35,  1.00it/s]"
     ]
    },
    {
     "name": "stderr",
     "output_type": "stream",
     "text": [
      "\r",
      "Best Individual:  68%|██████▊   | 201/296 [02:29<01:39,  1.05s/it]"
     ]
    },
    {
     "name": "stderr",
     "output_type": "stream",
     "text": [
      "\r",
      "Best Individual:  68%|██████▊   | 202/296 [02:31<02:02,  1.31s/it]"
     ]
    },
    {
     "name": "stderr",
     "output_type": "stream",
     "text": [
      "\r",
      "Best Individual:  69%|██████▊   | 203/296 [02:33<02:03,  1.33s/it]"
     ]
    },
    {
     "name": "stderr",
     "output_type": "stream",
     "text": [
      "\r",
      "Best Individual:  69%|██████▉   | 204/296 [02:33<01:45,  1.15s/it]"
     ]
    },
    {
     "name": "stderr",
     "output_type": "stream",
     "text": [
      "\r",
      "Best Individual:  69%|██████▉   | 205/296 [02:34<01:25,  1.07it/s]"
     ]
    },
    {
     "name": "stderr",
     "output_type": "stream",
     "text": [
      "\r",
      "Best Individual:  70%|██████▉   | 206/296 [02:36<02:06,  1.41s/it]"
     ]
    },
    {
     "name": "stderr",
     "output_type": "stream",
     "text": [
      "\r",
      "Best Individual:  70%|██████▉   | 207/296 [02:37<01:38,  1.10s/it]"
     ]
    },
    {
     "name": "stderr",
     "output_type": "stream",
     "text": [
      "\r",
      "Best Individual:  70%|███████   | 208/296 [02:37<01:12,  1.21it/s]"
     ]
    },
    {
     "name": "stderr",
     "output_type": "stream",
     "text": [
      "\r",
      "Best Individual:  71%|███████   | 209/296 [02:37<01:00,  1.43it/s]"
     ]
    },
    {
     "name": "stderr",
     "output_type": "stream",
     "text": [
      "\r",
      "Best Individual:  71%|███████   | 210/296 [02:38<00:48,  1.76it/s]"
     ]
    },
    {
     "name": "stderr",
     "output_type": "stream",
     "text": [
      "\r",
      "Best Individual:  71%|███████▏  | 211/296 [02:39<00:57,  1.47it/s]"
     ]
    },
    {
     "name": "stderr",
     "output_type": "stream",
     "text": [
      "\r",
      "Best Individual:  72%|███████▏  | 212/296 [02:39<00:43,  1.94it/s]"
     ]
    },
    {
     "name": "stderr",
     "output_type": "stream",
     "text": [
      "\r",
      "Best Individual:  72%|███████▏  | 213/296 [02:39<00:42,  1.93it/s]"
     ]
    },
    {
     "name": "stderr",
     "output_type": "stream",
     "text": [
      "\r",
      "Best Individual:  72%|███████▏  | 214/296 [02:40<00:37,  2.20it/s]"
     ]
    },
    {
     "name": "stderr",
     "output_type": "stream",
     "text": [
      "\r",
      "Best Individual:  73%|███████▎  | 215/296 [02:40<00:29,  2.72it/s]"
     ]
    },
    {
     "name": "stderr",
     "output_type": "stream",
     "text": [
      "\r",
      "Best Individual:  73%|███████▎  | 216/296 [02:40<00:23,  3.34it/s]"
     ]
    },
    {
     "name": "stderr",
     "output_type": "stream",
     "text": [
      "\r",
      "Best Individual:  73%|███████▎  | 217/296 [02:41<00:34,  2.30it/s]"
     ]
    },
    {
     "name": "stderr",
     "output_type": "stream",
     "text": [
      "\r",
      "Best Individual:  74%|███████▎  | 218/296 [02:41<00:28,  2.70it/s]"
     ]
    },
    {
     "name": "stderr",
     "output_type": "stream",
     "text": [
      "\r",
      "Best Individual:  74%|███████▍  | 219/296 [02:41<00:22,  3.45it/s]"
     ]
    },
    {
     "name": "stderr",
     "output_type": "stream",
     "text": [
      "\r",
      "Best Individual:  74%|███████▍  | 220/296 [02:41<00:27,  2.76it/s]"
     ]
    },
    {
     "name": "stderr",
     "output_type": "stream",
     "text": [
      "\r",
      "Best Individual:  75%|███████▍  | 221/296 [02:43<00:52,  1.42it/s]"
     ]
    },
    {
     "name": "stderr",
     "output_type": "stream",
     "text": [
      "\r",
      "Best Individual:  75%|███████▌  | 222/296 [02:45<01:26,  1.17s/it]"
     ]
    },
    {
     "name": "stderr",
     "output_type": "stream",
     "text": [
      "\r",
      "Best Individual:  75%|███████▌  | 223/296 [02:45<01:02,  1.16it/s]"
     ]
    },
    {
     "name": "stderr",
     "output_type": "stream",
     "text": [
      "\r",
      "Best Individual:  76%|███████▌  | 224/296 [02:46<00:50,  1.44it/s]"
     ]
    },
    {
     "name": "stderr",
     "output_type": "stream",
     "text": [
      "\r",
      "Best Individual:  76%|███████▌  | 225/296 [02:46<00:40,  1.75it/s]"
     ]
    },
    {
     "name": "stderr",
     "output_type": "stream",
     "text": [
      "\r",
      "Best Individual:  76%|███████▋  | 226/296 [02:47<00:50,  1.37it/s]"
     ]
    },
    {
     "name": "stderr",
     "output_type": "stream",
     "text": [
      "\r",
      "Best Individual:  77%|███████▋  | 227/296 [02:48<00:45,  1.53it/s]"
     ]
    },
    {
     "name": "stderr",
     "output_type": "stream",
     "text": [
      "\r",
      "Best Individual:  77%|███████▋  | 228/296 [02:48<00:37,  1.83it/s]"
     ]
    },
    {
     "name": "stderr",
     "output_type": "stream",
     "text": [
      "\r",
      "Best Individual:  77%|███████▋  | 229/296 [02:48<00:35,  1.88it/s]"
     ]
    },
    {
     "name": "stderr",
     "output_type": "stream",
     "text": [
      "\r",
      "Best Individual:  78%|███████▊  | 230/296 [02:48<00:27,  2.42it/s]"
     ]
    },
    {
     "name": "stderr",
     "output_type": "stream",
     "text": [
      "\r",
      "Best Individual:  78%|███████▊  | 231/296 [02:49<00:35,  1.83it/s]"
     ]
    },
    {
     "name": "stderr",
     "output_type": "stream",
     "text": [
      "\r",
      "Best Individual:  78%|███████▊  | 232/296 [02:50<00:28,  2.22it/s]"
     ]
    },
    {
     "name": "stderr",
     "output_type": "stream",
     "text": [
      "\r",
      "Best Individual:  79%|███████▊  | 233/296 [02:50<00:32,  1.94it/s]"
     ]
    },
    {
     "name": "stderr",
     "output_type": "stream",
     "text": [
      "\r",
      "Best Individual:  79%|███████▉  | 234/296 [02:51<00:36,  1.69it/s]"
     ]
    },
    {
     "name": "stderr",
     "output_type": "stream",
     "text": [
      "\r",
      "Best Individual:  79%|███████▉  | 235/296 [02:52<00:42,  1.45it/s]"
     ]
    },
    {
     "name": "stderr",
     "output_type": "stream",
     "text": [
      "\r",
      "Best Individual:  80%|███████▉  | 236/296 [02:53<00:56,  1.06it/s]"
     ]
    },
    {
     "name": "stderr",
     "output_type": "stream",
     "text": [
      "\r",
      "Best Individual:  80%|████████  | 237/296 [02:54<00:49,  1.19it/s]"
     ]
    },
    {
     "name": "stderr",
     "output_type": "stream",
     "text": [
      "\r",
      "Best Individual:  80%|████████  | 238/296 [02:55<00:48,  1.20it/s]"
     ]
    },
    {
     "name": "stderr",
     "output_type": "stream",
     "text": [
      "\r",
      "Best Individual:  81%|████████  | 239/296 [02:56<00:59,  1.04s/it]"
     ]
    },
    {
     "name": "stderr",
     "output_type": "stream",
     "text": [
      "\r",
      "Best Individual:  81%|████████  | 240/296 [02:56<00:42,  1.31it/s]"
     ]
    },
    {
     "name": "stderr",
     "output_type": "stream",
     "text": [
      "\r",
      "Best Individual:  81%|████████▏ | 241/296 [02:57<00:35,  1.54it/s]"
     ]
    },
    {
     "name": "stderr",
     "output_type": "stream",
     "text": [
      "\r",
      "Best Individual:  82%|████████▏ | 242/296 [02:57<00:31,  1.70it/s]"
     ]
    },
    {
     "name": "stderr",
     "output_type": "stream",
     "text": [
      "\r",
      "Best Individual:  82%|████████▏ | 243/296 [02:58<00:27,  1.96it/s]"
     ]
    },
    {
     "name": "stderr",
     "output_type": "stream",
     "text": [
      "\r",
      "Best Individual:  82%|████████▏ | 244/296 [02:59<00:34,  1.52it/s]"
     ]
    },
    {
     "name": "stderr",
     "output_type": "stream",
     "text": [
      "\r",
      "Best Individual:  83%|████████▎ | 245/296 [02:59<00:30,  1.68it/s]"
     ]
    },
    {
     "name": "stderr",
     "output_type": "stream",
     "text": [
      "\r",
      "Best Individual:  83%|████████▎ | 246/296 [02:59<00:26,  1.88it/s]"
     ]
    },
    {
     "name": "stderr",
     "output_type": "stream",
     "text": [
      "\r",
      "Best Individual:  83%|████████▎ | 247/296 [03:00<00:21,  2.26it/s]"
     ]
    },
    {
     "name": "stderr",
     "output_type": "stream",
     "text": [
      "\r",
      "Best Individual:  84%|████████▍ | 248/296 [03:01<00:34,  1.40it/s]"
     ]
    },
    {
     "name": "stderr",
     "output_type": "stream",
     "text": [
      "\r",
      "Best Individual:  84%|████████▍ | 249/296 [03:01<00:26,  1.80it/s]"
     ]
    },
    {
     "name": "stderr",
     "output_type": "stream",
     "text": [
      "\r",
      "Best Individual:  84%|████████▍ | 250/296 [03:02<00:25,  1.78it/s]"
     ]
    },
    {
     "name": "stderr",
     "output_type": "stream",
     "text": [
      "\r",
      "Best Individual:  85%|████████▍ | 251/296 [03:02<00:21,  2.12it/s]"
     ]
    },
    {
     "name": "stderr",
     "output_type": "stream",
     "text": [
      "\r",
      "Best Individual:  85%|████████▌ | 252/296 [03:04<00:33,  1.31it/s]"
     ]
    },
    {
     "name": "stderr",
     "output_type": "stream",
     "text": [
      "\r",
      "Best Individual:  85%|████████▌ | 253/296 [03:04<00:33,  1.27it/s]"
     ]
    },
    {
     "name": "stderr",
     "output_type": "stream",
     "text": [
      "\r",
      "Best Individual:  86%|████████▌ | 254/296 [03:05<00:28,  1.47it/s]"
     ]
    },
    {
     "name": "stderr",
     "output_type": "stream",
     "text": [
      "\r",
      "Best Individual:  86%|████████▌ | 255/296 [03:05<00:25,  1.62it/s]"
     ]
    },
    {
     "name": "stderr",
     "output_type": "stream",
     "text": [
      "\r",
      "Best Individual:  86%|████████▋ | 256/296 [03:06<00:22,  1.78it/s]"
     ]
    },
    {
     "name": "stderr",
     "output_type": "stream",
     "text": [
      "\r",
      "Best Individual:  87%|████████▋ | 257/296 [03:06<00:17,  2.22it/s]"
     ]
    },
    {
     "name": "stderr",
     "output_type": "stream",
     "text": [
      "\r",
      "Best Individual:  87%|████████▋ | 258/296 [03:06<00:15,  2.44it/s]"
     ]
    },
    {
     "name": "stderr",
     "output_type": "stream",
     "text": [
      "\r",
      "Best Individual:  88%|████████▊ | 259/296 [03:07<00:18,  1.97it/s]"
     ]
    },
    {
     "name": "stderr",
     "output_type": "stream",
     "text": [
      "\r",
      "Best Individual:  88%|████████▊ | 260/296 [03:08<00:19,  1.84it/s]"
     ]
    },
    {
     "name": "stderr",
     "output_type": "stream",
     "text": [
      "\r",
      "Best Individual:  88%|████████▊ | 261/296 [03:09<00:23,  1.49it/s]"
     ]
    },
    {
     "name": "stderr",
     "output_type": "stream",
     "text": [
      "\r",
      "Best Individual:  89%|████████▊ | 262/296 [03:09<00:20,  1.65it/s]"
     ]
    },
    {
     "name": "stderr",
     "output_type": "stream",
     "text": [
      "\r",
      "Best Individual:  89%|████████▉ | 263/296 [03:10<00:21,  1.52it/s]"
     ]
    },
    {
     "name": "stderr",
     "output_type": "stream",
     "text": [
      "\r",
      "Best Individual:  89%|████████▉ | 264/296 [03:11<00:22,  1.45it/s]"
     ]
    },
    {
     "name": "stderr",
     "output_type": "stream",
     "text": [
      "\r",
      "Best Individual:  90%|████████▉ | 265/296 [03:11<00:17,  1.82it/s]"
     ]
    },
    {
     "name": "stderr",
     "output_type": "stream",
     "text": [
      "\r",
      "Best Individual:  90%|████████▉ | 266/296 [03:11<00:13,  2.20it/s]"
     ]
    },
    {
     "name": "stderr",
     "output_type": "stream",
     "text": [
      "\r",
      "Best Individual:  90%|█████████ | 267/296 [03:12<00:14,  2.03it/s]"
     ]
    },
    {
     "name": "stderr",
     "output_type": "stream",
     "text": [
      "\r",
      "Best Individual:  91%|█████████ | 268/296 [03:13<00:20,  1.38it/s]"
     ]
    },
    {
     "name": "stderr",
     "output_type": "stream",
     "text": [
      "\r",
      "Best Individual:  91%|█████████ | 269/296 [03:13<00:17,  1.56it/s]"
     ]
    },
    {
     "name": "stderr",
     "output_type": "stream",
     "text": [
      "\r",
      "Best Individual:  91%|█████████ | 270/296 [03:14<00:13,  1.95it/s]"
     ]
    },
    {
     "name": "stderr",
     "output_type": "stream",
     "text": [
      "\r",
      "Best Individual:  92%|█████████▏| 271/296 [03:14<00:11,  2.13it/s]"
     ]
    },
    {
     "name": "stderr",
     "output_type": "stream",
     "text": [
      "\r",
      "Best Individual:  92%|█████████▏| 272/296 [03:15<00:16,  1.45it/s]"
     ]
    },
    {
     "name": "stderr",
     "output_type": "stream",
     "text": [
      "\r",
      "Best Individual:  92%|█████████▏| 273/296 [03:17<00:22,  1.01it/s]"
     ]
    },
    {
     "name": "stderr",
     "output_type": "stream",
     "text": [
      "\r",
      "Best Individual:  93%|█████████▎| 274/296 [03:17<00:17,  1.24it/s]"
     ]
    },
    {
     "name": "stderr",
     "output_type": "stream",
     "text": [
      "\r",
      "Best Individual:  93%|█████████▎| 275/296 [03:18<00:17,  1.20it/s]"
     ]
    },
    {
     "name": "stderr",
     "output_type": "stream",
     "text": [
      "\r",
      "Best Individual:  93%|█████████▎| 276/296 [03:21<00:28,  1.43s/it]"
     ]
    },
    {
     "name": "stderr",
     "output_type": "stream",
     "text": [
      "\r",
      "Best Individual:  94%|█████████▎| 277/296 [03:22<00:26,  1.38s/it]"
     ]
    },
    {
     "name": "stderr",
     "output_type": "stream",
     "text": [
      "\r",
      "Best Individual:  94%|█████████▍| 278/296 [03:24<00:26,  1.46s/it]"
     ]
    },
    {
     "name": "stderr",
     "output_type": "stream",
     "text": [
      "\r",
      "Best Individual:  94%|█████████▍| 279/296 [03:25<00:22,  1.32s/it]"
     ]
    },
    {
     "name": "stderr",
     "output_type": "stream",
     "text": [
      "\r",
      "Best Individual:  95%|█████████▍| 280/296 [03:27<00:24,  1.52s/it]"
     ]
    },
    {
     "name": "stderr",
     "output_type": "stream",
     "text": [
      "\r",
      "Best Individual:  95%|█████████▍| 281/296 [03:27<00:17,  1.15s/it]"
     ]
    },
    {
     "name": "stderr",
     "output_type": "stream",
     "text": [
      "\r",
      "Best Individual:  95%|█████████▌| 282/296 [03:27<00:12,  1.15it/s]"
     ]
    },
    {
     "name": "stderr",
     "output_type": "stream",
     "text": [
      "\r",
      "Best Individual:  96%|█████████▌| 283/296 [03:30<00:17,  1.31s/it]"
     ]
    },
    {
     "name": "stderr",
     "output_type": "stream",
     "text": [
      "\r",
      "Best Individual:  96%|█████████▌| 284/296 [03:30<00:11,  1.01it/s]"
     ]
    },
    {
     "name": "stderr",
     "output_type": "stream",
     "text": [
      "\r",
      "Best Individual:  96%|█████████▋| 285/296 [03:30<00:09,  1.21it/s]"
     ]
    },
    {
     "name": "stderr",
     "output_type": "stream",
     "text": [
      "\r",
      "Best Individual:  97%|█████████▋| 286/296 [03:31<00:07,  1.41it/s]"
     ]
    },
    {
     "name": "stderr",
     "output_type": "stream",
     "text": [
      "\r",
      "Best Individual:  97%|█████████▋| 287/296 [03:31<00:05,  1.60it/s]"
     ]
    },
    {
     "name": "stderr",
     "output_type": "stream",
     "text": [
      "\r",
      "Best Individual:  97%|█████████▋| 288/296 [03:31<00:04,  1.98it/s]"
     ]
    },
    {
     "name": "stderr",
     "output_type": "stream",
     "text": [
      "\r",
      "Best Individual:  98%|█████████▊| 289/296 [03:32<00:03,  2.00it/s]"
     ]
    },
    {
     "name": "stderr",
     "output_type": "stream",
     "text": [
      "\r",
      "Best Individual:  98%|█████████▊| 290/296 [03:33<00:04,  1.35it/s]"
     ]
    },
    {
     "name": "stderr",
     "output_type": "stream",
     "text": [
      "\r",
      "Best Individual:  98%|█████████▊| 291/296 [03:33<00:02,  1.71it/s]"
     ]
    },
    {
     "name": "stderr",
     "output_type": "stream",
     "text": [
      "\r",
      "Best Individual:  99%|█████████▊| 292/296 [03:34<00:01,  2.07it/s]"
     ]
    },
    {
     "name": "stderr",
     "output_type": "stream",
     "text": [
      "\r",
      "Best Individual:  99%|█████████▉| 293/296 [03:34<00:01,  2.04it/s]"
     ]
    },
    {
     "name": "stderr",
     "output_type": "stream",
     "text": [
      "\r",
      "Best Individual:  99%|█████████▉| 294/296 [03:35<00:01,  1.86it/s]"
     ]
    },
    {
     "name": "stderr",
     "output_type": "stream",
     "text": [
      "\r",
      "Best Individual: 100%|█████████▉| 295/296 [03:35<00:00,  2.31it/s]"
     ]
    },
    {
     "name": "stderr",
     "output_type": "stream",
     "text": [
      "\r",
      "Best Individual: 100%|██████████| 296/296 [03:36<00:00,  1.80it/s]"
     ]
    },
    {
     "name": "stderr",
     "output_type": "stream",
     "text": [
      "\n"
     ]
    }
   ],
   "source": [
    "bi_models = pd.Series([])\n",
    "bi_losses = pd.Series([]).rename('bi_loss')\n",
    "with tqdm(available_bi_models, desc='Best Individual') as bar:\n",
    "  for f in bar:\n",
    "    subject_id = int(f.split('.')[0])\n",
    "    with open(os.path.join(BI_MODEL_PATH, f)) as f_in:\n",
    "      model = unmake_json(json.load(f_in))\n",
    "    model_obj = make_model(subject_id, model)\n",
    "    bi_models[subject_id] = model_obj\n",
    "    r = model_obj.render(model_obj._model)\n",
    "    bi_losses[subject_id] = loss(\n",
    "      r,\n",
    "      model_obj.data,\n",
    "      pixel_mask=model_obj.pixel_mask\n",
    "    )"
   ]
  },
  {
   "cell_type": "code",
   "execution_count": 7,
   "metadata": {
    "collapsed": false,
    "inputHidden": false,
    "outputHidden": false,
    "papermill": {
     "duration": 3.886303,
     "end_time": "2019-08-21T09:43:10.026552",
     "exception": false,
     "start_time": "2019-08-21T09:43:06.140249",
     "status": "completed"
    },
    "tags": []
   },
   "outputs": [
    {
     "data": {
      "image/png": "[encoded data removed]",
      "text/plain": [
       "<Figure size 1200x400 with 2 Axes>"
      ]
     },
     "metadata": {
      "needs_background": "light"
     },
     "output_type": "display_data"
    }
   ],
   "source": [
    "_, axs = plt.subplots(ncols=2, figsize=(12, 4), dpi=100)\n",
    "plt.sca(axs[0])\n",
    "sns.kdeplot(agg_losses)\n",
    "sns.kdeplot(bi_losses)\n",
    "\n",
    "plt.sca(axs[1])\n",
    "diff = agg_losses - bi_losses\n",
    "sns.kdeplot(diff.dropna(), shade=True)\n",
    "plt.xlabel('Agg loss - BI loss (>0 if BI better)')\n",
    "l = plt.ylim()[1]\n",
    "plt.vlines(diff.median(), -10, l, alpha=0.2)\n",
    "plt.ylim(0, l);"
   ]
  },
  {
   "cell_type": "code",
   "execution_count": 8,
   "metadata": {
    "collapsed": false,
    "inputHidden": false,
    "outputHidden": false,
    "papermill": {
     "duration": 0.723243,
     "end_time": "2019-08-21T09:43:10.987016",
     "exception": false,
     "start_time": "2019-08-21T09:43:10.263773",
     "status": "completed"
    },
    "tags": []
   },
   "outputs": [
    {
     "data": {
      "image/png": "[encoded data removed]",
      "text/plain": [
       "<Figure size 432x288 with 1 Axes>"
      ]
     },
     "metadata": {
      "needs_background": "light"
     },
     "output_type": "display_data"
    }
   ],
   "source": [
    "diff = agg_losses - bi_losses\n",
    "sns.kdeplot(diff.dropna(), shade=True)\n",
    "plt.xlabel('Agg loss - BI loss (>0 if BI better)')\n",
    "l = plt.ylim()[1]\n",
    "plt.vlines(diff.median(), -10, l, alpha=0.2)\n",
    "plt.ylim(0, l);"
   ]
  },
  {
   "cell_type": "code",
   "execution_count": 9,
   "metadata": {
    "collapsed": false,
    "inputHidden": false,
    "outputHidden": false,
    "papermill": {
     "duration": 0.763715,
     "end_time": "2019-08-21T09:43:12.025778",
     "exception": false,
     "start_time": "2019-08-21T09:43:11.262063",
     "status": "completed"
    },
    "tags": []
   },
   "outputs": [
    {
     "data": {
      "image/png": "[encoded data removed]",
      "text/plain": [
       "<Figure size 1152x288 with 1 Axes>"
      ]
     },
     "metadata": {
      "needs_background": "light"
     },
     "output_type": "display_data"
    }
   ],
   "source": [
    "x = np.linspace(0, 1, 1000)\n",
    "p_agg_better = st.beta.pdf(x, 1 + (diff < 0).sum(), 1 + len(diff) - (diff < 0).sum())\n",
    "p_bi_better = st.beta.pdf(x, 1 + (diff > 0).sum(), 1 + len(diff) - (diff > 0).sum())\n",
    "plt.figure(figsize=(16, 4))\n",
    "plt.plot(x, p_agg_better, label='P(Aggregate better than Best Individual)')\n",
    "plt.fill_between(x, 0, p_agg_better, alpha=0.2)\n",
    "plt.plot(x, p_bi_better, label='P(Best Individual better than Aggregate)')\n",
    "plt.fill_between(x, 0, p_bi_better, alpha=0.2)\n",
    "plt.legend()\n",
    "plt.yticks([]);"
   ]
  },
  {
   "cell_type": "markdown",
   "metadata": {
    "papermill": {
     "duration": 0.501664,
     "end_time": "2019-08-21T09:43:12.820117",
     "exception": false,
     "start_time": "2019-08-21T09:43:12.318453",
     "status": "completed"
    },
    "tags": []
   },
   "source": [
    "What do the models look like where the differences between aggregate and models are largest?"
   ]
  },
  {
   "cell_type": "code",
   "execution_count": 10,
   "metadata": {
    "collapsed": false,
    "inputHidden": true,
    "outputHidden": false,
    "papermill": {
     "duration": 4.667549,
     "end_time": "2019-08-21T09:43:17.795607",
     "exception": false,
     "start_time": "2019-08-21T09:43:13.128058",
     "status": "completed"
    },
    "tags": []
   },
   "outputs": [
    {
     "data": {
      "image/png": "[encoded data removed]",
      "text/plain": [
       "<Figure size 1400x700 with 8 Axes>"
      ]
     },
     "metadata": {
      "needs_background": "light"
     },
     "output_type": "display_data"
    }
   ],
   "source": [
    "_, ax = plt.subplots(nrows=2, ncols=4, figsize=(14, 7), dpi=100)\n",
    "for i, idx in enumerate(diff.abs().sort_values(ascending=False).index[:4]):\n",
    "  agg_better = agg_losses.loc[idx] < bi_losses.loc[idx]\n",
    "  a = agg_models.loc[idx]\n",
    "  b = bi_models.loc[idx]\n",
    "  ax[0][i].imshow(a.render() * a.pixel_mask ,\n",
    "                  cmap=('Blues' if agg_better else 'Reds'))\n",
    "  ax[0][i].set_title('Aggregate: {:.4e}'.format(agg_losses.loc[idx]))\n",
    "  ax[1][i].imshow(b.render() * b.pixel_mask,\n",
    "                  cmap=('Reds' if agg_better else 'Blues'))\n",
    "  ax[1][i].set_title('Best Individual: {:.4e}'.format(bi_losses.loc[idx]))\n",
    "plt.tight_layout()"
   ]
  },
  {
   "cell_type": "markdown",
   "metadata": {
    "papermill": {
     "duration": 0.299498,
     "end_time": "2019-08-21T09:43:18.401086",
     "exception": false,
     "start_time": "2019-08-21T09:43:18.101588",
     "status": "completed"
    },
    "tags": []
   },
   "source": [
    "What about when the models are the most similar?"
   ]
  },
  {
   "cell_type": "code",
   "execution_count": 11,
   "metadata": {
    "collapsed": false,
    "inputHidden": true,
    "outputHidden": false,
    "papermill": {
     "duration": 6.259629,
     "end_time": "2019-08-21T09:43:24.928676",
     "exception": false,
     "start_time": "2019-08-21T09:43:18.669047",
     "status": "completed"
    },
    "tags": []
   },
   "outputs": [
    {
     "data": {
      "image/png": "[encoded data removed]",
      "text/plain": [
       "<Figure size 1400x700 with 8 Axes>"
      ]
     },
     "metadata": {
      "needs_background": "light"
     },
     "output_type": "display_data"
    }
   ],
   "source": [
    "_, ax = plt.subplots(nrows=2, ncols=4, figsize=(14, 7), dpi=100)\n",
    "for i, idx in enumerate(diff.abs().sort_values(ascending=True).index[:4]):\n",
    "  agg_better = agg_losses.loc[idx] < bi_losses.loc[idx]\n",
    "  a = agg_models.loc[idx]\n",
    "  b = bi_models.loc[idx]\n",
    "  ax[0][i].imshow(a.render() * a.pixel_mask ,\n",
    "                  cmap=('Blues' if agg_better else 'Reds'))\n",
    "  ax[0][i].set_title('Aggregate: {:.4e}'.format(agg_losses.loc[idx]))\n",
    "  ax[1][i].imshow(b.render() * b.pixel_mask,\n",
    "                  cmap=('Reds' if agg_better else 'Blues'))\n",
    "  ax[1][i].set_title('Best Individual: {:.4e}'.format(bi_losses.loc[idx]))\n",
    "plt.tight_layout()"
   ]
  },
  {
   "cell_type": "code",
   "execution_count": 12,
   "metadata": {
    "collapsed": false,
    "inputHidden": false,
    "outputHidden": false,
    "papermill": {
     "duration": 1.939398,
     "end_time": "2019-08-21T09:43:27.112151",
     "exception": false,
     "start_time": "2019-08-21T09:43:25.172753",
     "status": "completed"
    },
    "tags": []
   },
   "outputs": [
    {
     "name": "stdout",
     "output_type": "stream",
     "text": [
      "Saving fitted models\n"
     ]
    }
   ],
   "source": [
    "print('Saving fitted models')\n",
    "fitted_models = pd.DataFrame([], columns=('agg', 'bi', 'agg_loss', 'bi_loss'))\n",
    "for i in bi_models.index:\n",
    "  fitted_models.loc[i] = dict(\n",
    "    agg=agg_models.loc[i]._model,\n",
    "    bi=bi_models.loc[i]._model,\n",
    "    agg_loss=agg_losses.loc[i],\n",
    "    bi_loss=bi_losses.loc[i],\n",
    "  )\n",
    "fitted_models.to_pickle('lib/fitted_models.pickle')"
   ]
  }
 ],
 "metadata": {
  "kernel_info": {
   "name": "python3"
  },
  "kernelspec": {
   "display_name": "Python 3",
   "language": "python",
   "name": "python3"
  },
  "language_info": {
   "codemirror_mode": {
    "name": "ipython",
    "version": 3
   },
   "file_extension": ".py",
   "mimetype": "text/x-python",
   "name": "python",
   "nbconvert_exporter": "python",
   "pygments_lexer": "ipython3",
   "version": "3.6.7"
  },
  "nteract": {
   "version": "0.14.3"
  },
  "papermill": {
   "duration": 479.472602,
   "end_time": "2019-08-21T09:43:29.718221",
   "environment_variables": {},
   "exception": null,
   "input_path": "compile_tuned_models.ipynb",
   "output_path": "output_notebooks/compile_tuned_models.ipynb",
   "parameters": {},
   "start_time": "2019-08-21T09:35:30.245619",
   "version": "1.0.1"
  }
 },
 "nbformat": 4,
 "nbformat_minor": 0
}