{
  "cells": [
    {
      "cell_type": "markdown",
      "source": [
        "## How well do volunteers do against the aggregate model?\n",
        "\n",
        "Note this requires the `volunteer_skill_exploration.ipynb` notebook to have been on each `subject_id` and the output notebooks to be saved to `/volunteer_losses`."
      ],
      "metadata": {}
    },
    {
      "cell_type": "code",
      "source": [
        "%load_ext autoreload\n",
        "%autoreload 2"
      ],
      "outputs": [],
      "execution_count": 1,
      "metadata": {
        "collapsed": false,
        "outputHidden": false,
        "inputHidden": false
      }
    },
    {
      "cell_type": "code",
      "source": [
        "import os\n",
        "import re\n",
        "import json\n",
        "import numpy as np\n",
        "import scipy.stats as st\n",
        "import pandas as pd\n",
        "import matplotlib.pyplot as plt\n",
        "import seaborn as sns\n",
        "from tqdm import tqdm\n",
        "from gzbuilder_analysis.parsing import unmake_json\n",
        "from gzbuilder_analysis.fitting import Model, chisq\n",
        "import lib.galaxy_utilities as gu"
      ],
      "outputs": [],
      "execution_count": 2,
      "metadata": {
        "collapsed": false,
        "outputHidden": false,
        "inputHidden": false
      }
    },
    {
      "cell_type": "code",
      "source": [
        "models = pd.read_pickle('lib/models.pickle')"
      ],
      "outputs": [],
      "execution_count": 3,
      "metadata": {
        "collapsed": false,
        "outputHidden": false,
        "inputHidden": false
      }
    },
    {
      "cell_type": "code",
      "source": [
        "models.columns"
      ],
      "outputs": [
        {
          "output_type": "execute_result",
          "execution_count": 4,
          "data": {
            "text/plain": [
              "Index(['aggregate', 'best_individual', 'best_individual_chisq',\n",
              "       'tuned_aggregate', 'tuned_best_individual', 'tuned_aggregate_chisq',\n",
              "       'tuned_best_individual_chisq'],\n",
              "      dtype='object')"
            ]
          },
          "metadata": {}
        }
      ],
      "execution_count": 4,
      "metadata": {
        "collapsed": false,
        "outputHidden": false,
        "inputHidden": false
      }
    },
    {
      "cell_type": "code",
      "source": [
        "tuned_aggregate_chisq = models.tuned_aggregate_chisq\n",
        "best_individual_chisq = models.best_individual_chisq\n",
        "tuned_best_individual_chisq = models.tuned_best_individual_chisq"
      ],
      "outputs": [],
      "execution_count": 5,
      "metadata": {
        "collapsed": false,
        "outputHidden": false,
        "inputHidden": false
      }
    },
    {
      "cell_type": "code",
      "source": [
        "volunteer_losses = pd.Series([], name='best_individual_chisq')\n",
        "for sid in models.index:\n",
        "    cluster = pd.read_pickle(f'lib/volunteer_models/{sid}.pickle')\n",
        "    names = gu.classifications.set_index('classification_id')['user_name'].reindex(cluster.index)\n",
        "    df = pd.concat((names, cluster['chisq']), axis=1)\\\n",
        "        .sort_values('chisq', ascending=True)\\\n",
        "        .drop_duplicates('user_name')\\\n",
        "        .set_index('user_name')\\\n",
        "        ['chisq']\\\n",
        "        .rename(sid)\n",
        "    assert df.index.is_unique\n",
        "    volunteer_losses.loc[sid] = df"
      ],
      "outputs": [],
      "execution_count": 6,
      "metadata": {
        "collapsed": false,
        "outputHidden": false,
        "inputHidden": false
      }
    },
    {
      "cell_type": "code",
      "source": [
        "loss_df = pd.concat(\n",
        "    volunteer_losses.values,\n",
        "    axis=1,\n",
        "    sort=False,\n",
        ").T"
      ],
      "outputs": [],
      "execution_count": 7,
      "metadata": {
        "collapsed": false,
        "outputHidden": false,
        "inputHidden": false
      }
    },
    {
      "cell_type": "code",
      "source": [
        "assert np.allclose(best_individual_chisq, loss_df.min(axis=1))"
      ],
      "outputs": [],
      "execution_count": 8,
      "metadata": {
        "collapsed": false,
        "outputHidden": false,
        "inputHidden": false
      }
    },
    {
      "cell_type": "code",
      "source": [
        "!ls lib/la*"
      ],
      "outputs": [
        {
          "output_type": "stream",
          "name": "stdout",
          "text": [
            "lib/lackner_nb1.csv lib/lackner_nb4.csv\r\n"
          ]
        }
      ],
      "execution_count": 9,
      "metadata": {
        "collapsed": false,
        "outputHidden": false,
        "inputHidden": false
      }
    },
    {
      "cell_type": "code",
      "source": [
        "lb1 = pd.read_csv('lib/lackner_nb1.csv')\n",
        "lb4 = pd.read_csv('lib/lackner_nb4.csv')\n",
        "sns.distplot(lb1['CHI_SQ_R'], label='Lackner exp+exp', kde=False)\n",
        "sns.distplot(lb4['CHI_SQ_R'], label='Lackner exp+exp', kde=False)\n",
        "sns.distplot(tuned_best_individual_chisq,\n",
        "             label='Tuned Best individual', kde=False)\n",
        "sns.distplot(tuned_aggregate_chisq,\n",
        "             label='Tuned Aggregate', kde=False)"
      ],
      "outputs": [
        {
          "output_type": "execute_result",
          "execution_count": 10,
          "data": {
            "text/plain": [
              "<matplotlib.axes._subplots.AxesSubplot at 0x1c2cc05320>"
            ]
          },
          "metadata": {}
        },
        {
          "output_type": "display_data",
          "data": {
            "text/plain": [
              "<Figure size 432x288 with 1 Axes>"
            ],
            "image/png": "[encoded data removed]"
          },
          "metadata": {
            "needs_background": "light"
          }
        }
      ],
      "execution_count": 10,
      "metadata": {
        "collapsed": false,
        "outputHidden": false,
        "inputHidden": false
      }
    },
    {
      "cell_type": "code",
      "source": [
        "plt.figure(dpi=100)\n",
        "sns.distplot(best_individual_chisq,\n",
        "             label='Best individual', kde=False)\n",
        "sns.distplot(tuned_best_individual_chisq,\n",
        "             label='Tuned Best individual', kde=False)\n",
        "sns.distplot(tuned_aggregate_chisq,\n",
        "             label='Tuned Aggregate', kde=False)\n",
        "plt.legend()\n",
        "plt.xlabel(r'$\\chi_\\nu^2$');"
      ],
      "outputs": [
        {
          "output_type": "display_data",
          "data": {
            "text/plain": [
              "<Figure size 600x400 with 1 Axes>"
            ],
            "image/png": "[encoded data removed]"
          },
          "metadata": {
            "needs_background": "light"
          }
        }
      ],
      "execution_count": 11,
      "metadata": {
        "collapsed": false,
        "outputHidden": false,
        "inputHidden": false
      }
    },
    {
      "cell_type": "code",
      "source": [
        "sns.kdeplot(tuned_aggregate_chisq - tuned_best_individual_chisq)\n",
        "display((tuned_aggregate_chisq - tuned_best_individual_chisq).describe())"
      ],
      "outputs": [
        {
          "output_type": "display_data",
          "data": {
            "text/plain": [
              "count    2.960000e+02\n",
              "mean     7.235010e-02\n",
              "std      6.550450e-01\n",
              "min     -2.606426e+00\n",
              "25%     -5.312907e-02\n",
              "50%      6.397466e-08\n",
              "75%      6.657015e-02\n",
              "max      5.422077e+00\n",
              "dtype: float64"
            ]
          },
          "metadata": {}
        },
        {
          "output_type": "display_data",
          "data": {
            "text/plain": [
              "<Figure size 432x288 with 1 Axes>"
            ],
            "image/png": "[encoded data removed]"
          },
          "metadata": {
            "needs_background": "light"
          }
        }
      ],
      "execution_count": 12,
      "metadata": {
        "collapsed": false,
        "outputHidden": false,
        "inputHidden": false
      }
    },
    {
      "cell_type": "code",
      "source": [
        "p_better_than_agg = pd.Series([])\n",
        "for name in loss_df.columns:\n",
        "  res = loss_df[name].dropna()\n",
        "  if len(res) > 0:\n",
        "    better = (res - tuned_aggregate_chisq.reindex(res.index) < 0)\n",
        "    p_better_than_agg.loc[name] = (better < 0).astype(int).sum() / len(res)"
      ],
      "outputs": [],
      "execution_count": 13,
      "metadata": {
        "collapsed": false,
        "outputHidden": false,
        "inputHidden": false
      }
    },
    {
      "cell_type": "markdown",
      "source": [
        "$$\\mathrm{Ability} = \\beta(1 + N_\\mathrm{better}, 1 + N_\\mathrm{classifications} - N_\\mathrm{better})$$"
      ],
      "metadata": {}
    },
    {
      "cell_type": "code",
      "source": [
        "x = np.linspace(0, 1, 500)\n",
        "five_percentile = pd.Series([])\n",
        "ninety_five_percentile = pd.Series([])\n",
        "means = pd.Series([])\n",
        "medians = pd.Series([])\n",
        "plt.figure(figsize=(16, 4), dpi=100)\n",
        "for name in loss_df.columns:\n",
        "    res = loss_df[name].dropna()\n",
        "    if len(res) >= 10:\n",
        "        better = (res - tuned_aggregate_chisq.reindex(res.index) < 0)\n",
        "        dist = st.beta.pdf(x, 1 + better.sum(), 1 + len(res) - better.sum())\n",
        "        rvs = st.beta.rvs(1 + better.sum(), 1 + len(res) - better.sum(), size=10000)\n",
        "        dist_median = st.beta.median(1 + better.sum(), 1 + len(res) - better.sum())\n",
        "        medians.loc[name] = st.beta.median(1 + better.sum(), 1 + len(res) - better.sum())\n",
        "        means.loc[name] = st.beta.mean(1 + better.sum(), 1 + len(res) - better.sum())\n",
        "        five_percentile.loc[name] = np.percentile(rvs, 5)\n",
        "        ninety_five_percentile.loc[name] = np.percentile(rvs, 95)\n",
        "        plt.fill_between(x, 0, dist, alpha=0.05, color='k')\n",
        "plt.xlim(0, 1);"
      ],
      "outputs": [
        {
          "output_type": "display_data",
          "data": {
            "text/plain": [
              "<Figure size 1600x400 with 1 Axes>"
            ],
            "image/png": "[encoded data removed]"
          },
          "metadata": {
            "needs_background": "light"
          }
        }
      ],
      "execution_count": 14,
      "metadata": {
        "collapsed": false,
        "outputHidden": false,
        "inputHidden": false
      }
    },
    {
      "cell_type": "code",
      "source": [
        "plt.figure(figsize=(16, 4), dpi=100)\n",
        "for i, name in enumerate(('klmasters', 'tingard', 'ElisabethB')):\n",
        "    res = loss_df[name].dropna()\n",
        "    c = 'C{}'.format(i)\n",
        "    better = (res - tuned_aggregate_chisq.reindex(res.index) < 0)\n",
        "    dist = st.beta.pdf(x, 1 + better.sum(), 1 + len(res) - better.sum())\n",
        "    plt.fill_between(x, 0, dist, alpha=0.2, color=c)\n",
        "    plt.plot(x, dist, c, linewidth=0.5, alpha=1, label='{} ({} classifications)'.format(name, len(res)))\n",
        "plt.legend()\n",
        "plt.xlim(0, 0.6);"
      ],
      "outputs": [
        {
          "output_type": "display_data",
          "data": {
            "text/plain": [
              "<Figure size 1600x400 with 1 Axes>"
            ],
            "image/png": "[encoded data removed]"
          },
          "metadata": {
            "needs_background": "light"
          }
        }
      ],
      "execution_count": 15,
      "metadata": {
        "collapsed": false,
        "outputHidden": false,
        "inputHidden": false
      }
    },
    {
      "cell_type": "markdown",
      "source": [
        "## Upper 95% confidence bound\n",
        "\n",
        "What are the upper bounds for volunteers that we are 95% sure they will perform worse than?"
      ],
      "metadata": {}
    },
    {
      "cell_type": "code",
      "source": [
        "ninety_five_percentile.sort_values(ascending=False).head()"
      ],
      "outputs": [
        {
          "output_type": "execute_result",
          "execution_count": 16,
          "data": {
            "text/plain": [
              "bldelacr                              0.365593\n",
              "not-logged-in-c3e2bb63f9ec3bdeea91    0.363557\n",
              "klmasters                             0.263197\n",
              "Petrusperes                           0.242960\n",
              "not-logged-in-0b0736c8991a7cc2017a    0.242945\n",
              "dtype: float64"
            ]
          },
          "metadata": {}
        }
      ],
      "execution_count": 16,
      "metadata": {
        "collapsed": false,
        "outputHidden": false,
        "inputHidden": false
      }
    },
    {
      "cell_type": "code",
      "source": [
        "sns.kdeplot(ninety_five_percentile, shade=True, label='95% upper bound')\n",
        "sns.kdeplot(medians, shade=True, label='medians')\n",
        "sns.kdeplot(means, shade=True, label='means')\n",
        "ninety_five_percentile.describe()"
      ],
      "outputs": [
        {
          "output_type": "execute_result",
          "execution_count": 17,
          "data": {
            "text/plain": [
              "count    198.000000\n",
              "mean       0.161301\n",
              "std        0.066624\n",
              "min        0.011743\n",
              "25%        0.111747\n",
              "50%        0.171171\n",
              "75%        0.215792\n",
              "max        0.365593\n",
              "dtype: float64"
            ]
          },
          "metadata": {}
        },
        {
          "output_type": "display_data",
          "data": {
            "text/plain": [
              "<Figure size 432x288 with 1 Axes>"
            ],
            "image/png": "[encoded data removed]"
          },
          "metadata": {
            "needs_background": "light"
          }
        }
      ],
      "execution_count": 17,
      "metadata": {
        "collapsed": false,
        "outputHidden": false,
        "inputHidden": false
      }
    },
    {
      "cell_type": "markdown",
      "source": [
        "So what does this all mean? It means that the tuned best individual model consistently outperforms the tuned aggregate (around 70% of the time). However, for any individual volunteer, we can say with greater than 95% confidence that their raw model will be worse than the tuned aggregate model more than half the time. "
      ],
      "metadata": {}
    },
    {
      "cell_type": "markdown",
      "source": [
        "# Identifying Bad fits\n",
        "- Any component has $R_e=0$ or $I = 0$\n",
        "- $R_{e, \\text{disk}} > 500$\n",
        "- $R_{e, \\text{bulge}} = 0$\n",
        "- $R_{e, \\text{bulge}} > R_{e, \\text{disk}}$ or $R_{e, \\text{bar}} > R_{e, \\text{disk}}$\n",
        "- $q_\\text{bar} > 0.5$\n",
        "- Bar position is outside disk effective radius (not accounting for ellipticity)"
      ],
      "metadata": {}
    },
    {
      "cell_type": "code",
      "source": [
        "def is_bad(model):\n",
        "    disk = model['disk'] if model['disk'] is not None else {}\n",
        "    bulge = model['bulge'] if model['bulge'] is not None else {}\n",
        "    bar = model['bar'] if model['bar'] is not None else {}\n",
        "    bar_offset = np.sqrt(\n",
        "        (bar.get('mux', disk.get('mux', 0)) - disk.get('mux', 0))**2\n",
        "        + (bar.get('muy', disk.get('muy', 0)) - disk.get('muy', 0))**2\n",
        "    ) \n",
        "    return {\n",
        "        d'no_disk': disk == {},\n",
        "        'disk_size': disk.get('Re', np.inf) == 0 or disk.get('Re', 0) > 300,\n",
        "        'bulge_size_zero': bulge.get('Re', np.inf) == 0,\n",
        "        'bulge_size_big': disk.get('Re', np.inf) < bulge.get('Re', -np.inf),\n",
        "        'bar_size_zero': bar.get('Re', np.inf) == 0,\n",
        "        'bar_size_big': disk.get('Re', np.inf) < bar.get('Re', 0),\n",
        "        'zero_brightness_disk': disk.get('I', np.inf) == 0,\n",
        "        'zero_brightness_bulge': bulge.get('I', np.inf) == 0,\n",
        "        'zero_brightness_bar': bar.get('I', np.inf) == 0,\n",
        "        'bar_q': bar.get('q', 0) > 0.5,\n",
        "        'bar_offset': bar_offset > disk.get('Re', np.inf),\n",
        "    }\n",
        "\n",
        "agg_bad = models['aggregate'].apply(is_bad).apply(pd.Series)\n",
        "tuned_agg_bad = models['tuned_aggregate'].apply(is_bad).apply(pd.Series)\n",
        "\n",
        "bi_bad = models['best_individual'].apply(is_bad).apply(pd.Series)\n",
        "tuned_bi_bad = models['tuned_best_individual'].apply(is_bad).apply(pd.Series)\n",
        "\n",
        "pd.concat((\n",
        "    agg_bad.sum().rename('aggregate').apply(lambda a: f'{a}/{len(agg_bad)}'),\n",
        "    tuned_agg_bad.sum().rename('tuned_aggregate').apply(lambda a: f'{a}/{len(tuned_agg_bad)}'),\n",
        "    bi_bad.sum().rename('best_individual').apply(lambda a: f'{a}/{len(bi_bad)}'),\n",
        "    tuned_bi_bad.sum().rename('tuned_best_individual').apply(lambda a: f'{a}/{len(tuned_bi_bad)}'),\n",
        "), axis=1)"
      ],
      "outputs": [
        {
          "output_type": "execute_result",
          "execution_count": 44,
          "data": {
            "text/plain": [
              "                      aggregate tuned_aggregate best_individual  \\\n",
              "no_disk                   4/296           4/296           0/296   \n",
              "disk_size                 0/296           0/296           0/296   \n",
              "bulge_size_zero           0/296          75/296           0/296   \n",
              "bulge_size_big            0/296           1/296           1/296   \n",
              "bar_size_zero             0/296           1/296           0/296   \n",
              "bar_size_big              3/296           5/296           2/296   \n",
              "zero_brightness_disk      0/296           2/296           1/296   \n",
              "zero_brightness_bulge     0/296          46/296           5/296   \n",
              "zero_brightness_bar       0/296           6/296           7/296   \n",
              "bar_q                    17/296          26/296          20/296   \n",
              "bar_offset                0/296           0/296           1/296   \n",
              "\n",
              "                      tuned_best_individual  \n",
              "no_disk                               0/296  \n",
              "disk_size                             1/296  \n",
              "bulge_size_zero                      23/296  \n",
              "bulge_size_big                       10/296  \n",
              "bar_size_zero                         5/296  \n",
              "bar_size_big                          1/296  \n",
              "zero_brightness_disk                  1/296  \n",
              "zero_brightness_bulge                32/296  \n",
              "zero_brightness_bar                   6/296  \n",
              "bar_q                                29/296  \n",
              "bar_offset                            0/296  "
            ],
            "text/html": [
              "<div>\n",
              "<style scoped>\n",
              "    .dataframe tbody tr th:only-of-type {\n",
              "        vertical-align: middle;\n",
              "    }\n",
              "\n",
              "    .dataframe tbody tr th {\n",
              "        vertical-align: top;\n",
              "    }\n",
              "\n",
              "    .dataframe thead th {\n",
              "        text-align: right;\n",
              "    }\n",
              "</style>\n",
              "<table border=\"1\" class=\"dataframe\">\n",
              "  <thead>\n",
              "    <tr style=\"text-align: right;\">\n",
              "      <th></th>\n",
              "      <th>aggregate</th>\n",
              "      <th>tuned_aggregate</th>\n",
              "      <th>best_individual</th>\n",
              "      <th>tuned_best_individual</th>\n",
              "    </tr>\n",
              "  </thead>\n",
              "  <tbody>\n",
              "    <tr>\n",
              "      <th>no_disk</th>\n",
              "      <td>4/296</td>\n",
              "      <td>4/296</td>\n",
              "      <td>0/296</td>\n",
              "      <td>0/296</td>\n",
              "    </tr>\n",
              "    <tr>\n",
              "      <th>disk_size</th>\n",
              "      <td>0/296</td>\n",
              "      <td>0/296</td>\n",
              "      <td>0/296</td>\n",
              "      <td>1/296</td>\n",
              "    </tr>\n",
              "    <tr>\n",
              "      <th>bulge_size_zero</th>\n",
              "      <td>0/296</td>\n",
              "      <td>75/296</td>\n",
              "      <td>0/296</td>\n",
              "      <td>23/296</td>\n",
              "    </tr>\n",
              "    <tr>\n",
              "      <th>bulge_size_big</th>\n",
              "      <td>0/296</td>\n",
              "      <td>1/296</td>\n",
              "      <td>1/296</td>\n",
              "      <td>10/296</td>\n",
              "    </tr>\n",
              "    <tr>\n",
              "      <th>bar_size_zero</th>\n",
              "      <td>0/296</td>\n",
              "      <td>1/296</td>\n",
              "      <td>0/296</td>\n",
              "      <td>5/296</td>\n",
              "    </tr>\n",
              "    <tr>\n",
              "      <th>bar_size_big</th>\n",
              "      <td>3/296</td>\n",
              "      <td>5/296</td>\n",
              "      <td>2/296</td>\n",
              "      <td>1/296</td>\n",
              "    </tr>\n",
              "    <tr>\n",
              "      <th>zero_brightness_disk</th>\n",
              "      <td>0/296</td>\n",
              "      <td>2/296</td>\n",
              "      <td>1/296</td>\n",
              "      <td>1/296</td>\n",
              "    </tr>\n",
              "    <tr>\n",
              "      <th>zero_brightness_bulge</th>\n",
              "      <td>0/296</td>\n",
              "      <td>46/296</td>\n",
              "      <td>5/296</td>\n",
              "      <td>32/296</td>\n",
              "    </tr>\n",
              "    <tr>\n",
              "      <th>zero_brightness_bar</th>\n",
              "      <td>0/296</td>\n",
              "      <td>6/296</td>\n",
              "      <td>7/296</td>\n",
              "      <td>6/296</td>\n",
              "    </tr>\n",
              "    <tr>\n",
              "      <th>bar_q</th>\n",
              "      <td>17/296</td>\n",
              "      <td>26/296</td>\n",
              "      <td>20/296</td>\n",
              "      <td>29/296</td>\n",
              "    </tr>\n",
              "    <tr>\n",
              "      <th>bar_offset</th>\n",
              "      <td>0/296</td>\n",
              "      <td>0/296</td>\n",
              "      <td>1/296</td>\n",
              "      <td>0/296</td>\n",
              "    </tr>\n",
              "  </tbody>\n",
              "</table>\n",
              "</div>"
            ]
          },
          "metadata": {}
        }
      ],
      "execution_count": 44,
      "metadata": {
        "collapsed": false,
        "outputHidden": false,
        "inputHidden": false
      }
    }
  ],
  "metadata": {
    "kernel_info": {
      "name": "python3"
    },
    "language_info": {
      "name": "python",
      "version": "3.6.7",
      "mimetype": "text/x-python",
      "codemirror_mode": {
        "name": "ipython",
        "version": 3
      },
      "pygments_lexer": "ipython3",
      "nbconvert_exporter": "python",
      "file_extension": ".py"
    },
    "kernelspec": {
      "name": "python3",
      "language": "python",
      "display_name": "Python 3"
    },
    "nteract": {
      "version": "0.15.0"
    }
  },
  "nbformat": 4,
  "nbformat_minor": 0
}