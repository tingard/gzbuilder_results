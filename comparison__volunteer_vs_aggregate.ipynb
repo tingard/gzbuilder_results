{
  "cells": [
    {
      "cell_type": "markdown",
      "source": [
        "## How well do volunteers do against the aggregate model?\n",
        "\n",
        "Note this requires the `volunteer_skill_exploration.ipynb` notebook to have been on each `subject_id` and the output notebooks to be saved to `/volunteer_losses`."
      ],
      "metadata": {}
    },
    {
      "cell_type": "code",
      "source": [
        "%load_ext autoreload\n",
        "%autoreload 2"
      ],
      "outputs": [],
      "execution_count": 1,
      "metadata": {
        "collapsed": false,
        "outputHidden": false,
        "inputHidden": false
      }
    },
    {
      "cell_type": "code",
      "source": [
        "import os\n",
        "import re\n",
        "import json\n",
        "import numpy as np\n",
        "import scipy.stats as st\n",
        "import pandas as pd\n",
        "import matplotlib.pyplot as plt\n",
        "import seaborn as sns\n",
        "from tqdm import tqdm\n",
        "from gzbuilder_analysis.parsing import unmake_json\n",
        "from gzbuilder_analysis.fitting import Model, loss\n",
        "import lib.galaxy_utilities as gu\n",
        "import scrapbook as sb"
      ],
      "outputs": [],
      "execution_count": 2,
      "metadata": {
        "collapsed": false,
        "outputHidden": false,
        "inputHidden": false
      }
    },
    {
      "cell_type": "code",
      "source": [
        "fitted_models = pd.read_pickle('lib/fitted_models.pickle')"
      ],
      "outputs": [],
      "execution_count": 3,
      "metadata": {
        "collapsed": false,
        "outputHidden": false,
        "inputHidden": false
      }
    },
    {
      "cell_type": "code",
      "source": [
        "agg_losses = fitted_models.agg_loss"
      ],
      "outputs": [],
      "execution_count": 4,
      "metadata": {
        "collapsed": false,
        "outputHidden": false,
        "inputHidden": false
      }
    },
    {
      "cell_type": "code",
      "source": [
        "nbs = sb.read_notebooks('output_files/volunteer_losses')\n",
        "loss_df = pd.concat([\n",
        "  pd.Series(d.get('losses', np.nan)).rename(d.get('subject_id', np.nan))\n",
        "  for d in (j.scraps.data_dict for i, j in nbs.items())\n",
        "], axis=1).T"
      ],
      "outputs": [],
      "execution_count": 5,
      "metadata": {
        "collapsed": false,
        "outputHidden": false,
        "inputHidden": false
      }
    },
    {
      "cell_type": "code",
      "source": [
        "p_better_than_agg = pd.Series([])\n",
        "for name in loss_df.columns:\n",
        "  res = loss_df[name].dropna()\n",
        "  if len(res) > 0:\n",
        "    better = (res - agg_losses.reindex(res.index) < 0)\n",
        "    p_better_than_agg.loc[name] = (better < 0).astype(int).sum() / len(res)"
      ],
      "outputs": [],
      "execution_count": 6,
      "metadata": {
        "collapsed": false,
        "outputHidden": false,
        "inputHidden": false
      }
    },
    {
      "cell_type": "markdown",
      "source": [
        "$$\\mathrm{Ability} = \\beta(1 + N_\\mathrm{better}, 1 + N_\\mathrm{classifications} - N_\\mathrm{better})$$"
      ],
      "metadata": {}
    },
    {
      "cell_type": "code",
      "source": [
        "x = np.linspace(0, 1, 500)\n",
        "five_percentile = pd.Series([])\n",
        "ninety_five_percentile = pd.Series([])\n",
        "means = pd.Series([])\n",
        "medians = pd.Series([])\n",
        "plt.figure(figsize=(16, 4), dpi=100)\n",
        "for name in loss_df.columns:\n",
        "  res = loss_df[name].dropna()\n",
        "  if len(res) >= 10:\n",
        "    better = (res - agg_losses.reindex(res.index) < 0)\n",
        "    dist = st.beta.pdf(x, 1 + better.sum(), 1 + len(res) - better.sum())\n",
        "    rvs = st.beta.rvs(1 + better.sum(), 1 + len(res) - better.sum(), size=10000)\n",
        "    dist_median = st.beta.median(1 + better.sum(), 1 + len(res) - better.sum())\n",
        "    medians.loc[name] = st.beta.median(1 + better.sum(), 1 + len(res) - better.sum())\n",
        "    means.loc[name] = st.beta.mean(1 + better.sum(), 1 + len(res) - better.sum())\n",
        "    five_percentile.loc[name] = np.percentile(rvs, 5)\n",
        "    ninety_five_percentile.loc[name] = np.percentile(rvs, 95)\n",
        "    plt.fill_between(x, 0, dist, alpha=0.05, color='k')\n",
        "plt.xlim(0, 1);"
      ],
      "outputs": [
        {
          "output_type": "display_data",
          "data": {
            "text/plain": [
              "<Figure size 1600x400 with 1 Axes>"
            ],
            "image/png": "[encoded data removed]"
          },
          "metadata": {
            "needs_background": "light"
          }
        }
      ],
      "execution_count": 7,
      "metadata": {
        "collapsed": false,
        "outputHidden": false,
        "inputHidden": false
      }
    },
    {
      "cell_type": "code",
      "source": [
        "plt.figure(figsize=(16, 4), dpi=100)\n",
        "for i, name in enumerate(('klmasters', 'tingard', 'ElisabethB')):\n",
        "  res = loss_df[name].dropna()\n",
        "  c = 'C{}'.format(i)\n",
        "  better = (res - agg_losses.reindex(res.index) < 0)\n",
        "  dist = st.beta.pdf(x, 1 + better.sum(), 1 + len(res) - better.sum())\n",
        "  plt.fill_between(x, 0, dist, alpha=0.2, color=c)\n",
        "  plt.plot(x, dist, c, linewidth=0.5, alpha=1, label='{} ({} classifications)'.format(name, len(res)))\n",
        "plt.legend()\n",
        "plt.xlim(0, 0.6);"
      ],
      "outputs": [
        {
          "output_type": "stream",
          "name": "stdout",
          "text": [
            "20901992.0    True\n",
            "20901995.0    True\n",
            "20901997.0    True\n",
            "20902000.0    True\n",
            "20902009.0    True\n",
            "20902012.0    True\n",
            "20902017.0    True\n",
            "20902021.0    True\n",
            "20902022.0    True\n",
            "20902023.0    True\n",
            "20902025.0    True\n",
            "20902035.0    True\n",
            "20902040.0    True\n",
            "20902044.0    True\n",
            "21686585.0    True\n",
            "dtype: bool\n",
            "20901996.0    True\n",
            "20902007.0    True\n",
            "20902009.0    True\n",
            "20902013.0    True\n",
            "20902018.0    True\n",
            "20902020.0    True\n",
            "20902021.0    True\n",
            "20902022.0    True\n",
            "20902023.0    True\n",
            "20902027.0    True\n",
            "20902032.0    True\n",
            "20902037.0    True\n",
            "20902038.0    True\n",
            "20902039.0    True\n",
            "20902045.0    True\n",
            "20902065.0    True\n",
            "20902075.0    True\n",
            "21096791.0    True\n",
            "21096804.0    True\n",
            "21096824.0    True\n",
            "21096833.0    True\n",
            "21096857.0    True\n",
            "21096860.0    True\n",
            "21096874.0    True\n",
            "21096902.0    True\n",
            "21096952.0    True\n",
            "21096994.0    True\n",
            "21686495.0    True\n",
            "21686500.0    True\n",
            "21686501.0    True\n",
            "21686508.0    True\n",
            "21686521.0    True\n",
            "21686532.0    True\n",
            "21686548.0    True\n",
            "21686549.0    True\n",
            "21686554.0    True\n",
            "21686561.0    True\n",
            "21686567.0    True\n",
            "21686577.0    True\n",
            "21686592.0    True\n",
            "21686602.0    True\n",
            "dtype: bool\n",
            "20901990.0    True\n",
            "20901991.0    True\n",
            "20901993.0    True\n",
            "20901994.0    True\n",
            "20901995.0    True\n",
            "20901997.0    True\n",
            "20901998.0    True\n",
            "20901999.0    True\n",
            "20902005.0    True\n",
            "20902010.0    True\n",
            "20902011.0    True\n",
            "20902014.0    True\n",
            "20902015.0    True\n",
            "20902018.0    True\n",
            "20902022.0    True\n",
            "20902023.0    True\n",
            "20902027.0    True\n",
            "20902030.0    True\n",
            "20902031.0    True\n",
            "20902032.0    True\n",
            "20902034.0    True\n",
            "20902036.0    True\n",
            "20902039.0    True\n",
            "20902040.0    True\n",
            "20902041.0    True\n",
            "20902043.0    True\n",
            "20902044.0    True\n",
            "20902045.0    True\n",
            "20902047.0    True\n",
            "20902050.0    True\n",
            "              ... \n",
            "21686498.0    True\n",
            "21686499.0    True\n",
            "21686500.0    True\n",
            "21686517.0    True\n",
            "21686523.0    True\n",
            "21686544.0    True\n",
            "21686547.0    True\n",
            "21686551.0    True\n",
            "21686552.0    True\n",
            "21686554.0    True\n",
            "21686560.0    True\n",
            "21686566.0    True\n",
            "21686570.0    True\n",
            "21686576.0    True\n",
            "21686577.0    True\n",
            "21686583.0    True\n",
            "21686584.0    True\n",
            "21686586.0    True\n",
            "21686587.0    True\n",
            "21686588.0    True\n",
            "21686591.0    True\n",
            "21686593.0    True\n",
            "21686595.0    True\n",
            "21686596.0    True\n",
            "21686602.0    True\n",
            "21686603.0    True\n",
            "21686604.0    True\n",
            "21686607.0    True\n",
            "21686610.0    True\n",
            "21686612.0    True\n",
            "Length: 121, dtype: bool\n"
          ]
        },
        {
          "output_type": "display_data",
          "data": {
            "text/plain": [
              "<Figure size 1600x400 with 1 Axes>"
            ],
            "image/png": "[encoded data removed]"
          },
          "metadata": {
            "needs_background": "light"
          }
        }
      ],
      "execution_count": 13,
      "metadata": {
        "collapsed": false,
        "outputHidden": false,
        "inputHidden": false
      }
    },
    {
      "cell_type": "markdown",
      "source": [
        "## Upper 95% confidence bound\n",
        "\n",
        "What are the upper bounds for volunteers that we are 95% sure they will perform worse than?"
      ],
      "metadata": {}
    },
    {
      "cell_type": "code",
      "source": [
        "ninety_five_percentile.sort_values(ascending=False).head()"
      ],
      "outputs": [
        {
          "output_type": "execute_result",
          "execution_count": 9,
          "data": {
            "text/plain": [
              "equidad1       0.999570\n",
              "ElisabethB     0.999567\n",
              "acapirala      0.999492\n",
              "pangeli5       0.999474\n",
              "jnarayanbvg    0.999359\n",
              "dtype: float64"
            ]
          },
          "metadata": {}
        }
      ],
      "execution_count": 9,
      "metadata": {
        "collapsed": false,
        "outputHidden": false,
        "inputHidden": false
      }
    },
    {
      "cell_type": "code",
      "source": [
        "sns.kdeplot(ninety_five_percentile, shade=True, label='95% upper bound')\n",
        "sns.kdeplot(medians, shade=True, label='medians')\n",
        "sns.kdeplot(means, shade=True, label='means')\n",
        "ninety_five_percentile.describe()"
      ],
      "outputs": [
        {
          "output_type": "execute_result",
          "execution_count": 10,
          "data": {
            "text/plain": [
              "count    197.000000\n",
              "mean       0.992686\n",
              "std        0.017608\n",
              "min        0.864697\n",
              "25%        0.995509\n",
              "50%        0.996382\n",
              "75%        0.997846\n",
              "max        0.999570\n",
              "dtype: float64"
            ]
          },
          "metadata": {}
        },
        {
          "output_type": "display_data",
          "data": {
            "text/plain": [
              "<Figure size 432x288 with 1 Axes>"
            ],
            "image/png": "[encoded data removed]"
          },
          "metadata": {
            "needs_background": "light"
          }
        }
      ],
      "execution_count": 10,
      "metadata": {
        "collapsed": false,
        "outputHidden": false,
        "inputHidden": false
      }
    },
    {
      "cell_type": "markdown",
      "source": [
        "So what does this all mean? It means that the tuned best individual model consistently outperforms the tuned aggregate (around 70% of the time). However, for any individual volunteer, we can say with greater than 95% confidence that their raw model will be worse than the tuned aggregate model more than half the time. "
      ],
      "metadata": {}
    }
  ],
  "metadata": {
    "kernel_info": {
      "name": "python3"
    },
    "language_info": {
      "name": "python",
      "version": "3.6.7",
      "mimetype": "text/x-python",
      "codemirror_mode": {
        "name": "ipython",
        "version": 3
      },
      "pygments_lexer": "ipython3",
      "nbconvert_exporter": "python",
      "file_extension": ".py"
    },
    "kernelspec": {
      "name": "python3",
      "language": "python",
      "display_name": "Python 3"
    },
    "nteract": {
      "version": "0.15.0"
    }
  },
  "nbformat": 4,
  "nbformat_minor": 0
}