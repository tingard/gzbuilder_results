{
  "cells": [
    {
      "cell_type": "code",
      "source": [
        "%load_ext autoreload\n",
        "%autoreload 2"
      ],
      "outputs": [],
      "execution_count": 1,
      "metadata": {
        "collapsed": false,
        "outputHidden": false,
        "inputHidden": false
      }
    },
    {
      "cell_type": "code",
      "source": [
        "import os\n",
        "import re\n",
        "import json\n",
        "import numpy as np\n",
        "import pandas as pd\n",
        "import matplotlib.pyplot as plt\n",
        "import seaborn as sns\n",
        "from tqdm import tqdm\n",
        "from PIL import Image\n",
        "import gzbuilder_analysis.parsing as pg\n",
        "try:\n",
        "    from gzbuilder_analysis.rendering.cuda import calculate_model\n",
        "except ModuleNotFoundError:\n",
        "    from gzbuilder_analysis.rendering import calculate_model\n",
        "import gzbuilder_analysis.fitting as fg\n",
        "import gzbuilder_analysis.config as cfg\n",
        "from gzbuilder_analysis.fitting import Model, fit_model\n",
        "import lib.galaxy_utilities as gu"
      ],
      "outputs": [],
      "execution_count": 13,
      "metadata": {
        "collapsed": false,
        "outputHidden": false,
        "inputHidden": false
      }
    },
    {
      "cell_type": "code",
      "source": [
        "expert_cls = gu.classifications.query('user_name == \"tingard\" and workflow_version >= 61.107')\n",
        "assert expert_cls['subject_ids'].is_unique"
      ],
      "outputs": [],
      "execution_count": 15,
      "metadata": {
        "collapsed": false,
        "outputHidden": false,
        "inputHidden": false
      }
    },
    {
      "cell_type": "code",
      "source": [
        "fitting_metadata = pd.read_pickle('lib/fitting_metadata.pkl')\n",
        "gal_angle_df = pd.read_csv('lib/gal-metadata.csv', index_col=0)"
      ],
      "outputs": [],
      "execution_count": 16,
      "metadata": {
        "collapsed": false,
        "outputHidden": false,
        "inputHidden": false
      }
    },
    {
      "cell_type": "code",
      "source": [
        "models = pd.Series([], name='models')\n",
        "for _, cls in expert_cls.iterrows():\n",
        "    subject_id = cls['subject_ids']\n",
        "    if subject_id not in fitting_metadata.index:\n",
        "        continue\n",
        "    im = np.array(Image.open('lib/subject_data/{}/image.png'.format(subject_id)))[::-1]\n",
        "    fm = fitting_metadata.loc[subject_id]\n",
        "    data = fm['galaxy_data']\n",
        "    sigma = fm['sigma_image']\n",
        "    psf = fm['psf']\n",
        "    gal = gal_angle_df.loc[subject_id]\n",
        "    zoo_model = pg.parse_classification(\n",
        "        cls,\n",
        "        image_size=np.array(im.shape),\n",
        "        size_diff=im.shape[0] / data.shape[0]\n",
        "    )\n",
        "    scaled_model = pg.scale_model(zoo_model, fm['size_diff'])\n",
        "    model_dict = pg.reproject_model(\n",
        "        scaled_model,\n",
        "        wcs_in=fm['montage_wcs'],\n",
        "        wcs_out=fm['original_wcs'],\n",
        "    )\n",
        "    models.loc[subject_id] = Model(\n",
        "        model_dict,\n",
        "        data,\n",
        "        psf=psf,\n",
        "        sigma_image=sigma\n",
        "    )"
      ],
      "outputs": [],
      "execution_count": 20,
      "metadata": {
        "collapsed": false,
        "outputHidden": false,
        "inputHidden": false
      }
    },
    {
      "cell_type": "code",
      "source": [
        "models.to_pickle('lib/expert_models.pickle')\n",
        "len(models)"
      ],
      "outputs": [
        {
          "output_type": "execute_result",
          "execution_count": 26,
          "data": {
            "text/plain": [
              "41"
            ]
          },
          "metadata": {}
        }
      ],
      "execution_count": 26,
      "metadata": {
        "collapsed": false,
        "outputHidden": false,
        "inputHidden": false
      }
    }
  ],
  "metadata": {
    "kernel_info": {
      "name": "python3"
    },
    "language_info": {
      "name": "python",
      "version": "3.6.7",
      "mimetype": "text/x-python",
      "codemirror_mode": {
        "name": "ipython",
        "version": 3
      },
      "pygments_lexer": "ipython3",
      "nbconvert_exporter": "python",
      "file_extension": ".py"
    },
    "kernelspec": {
      "name": "python3",
      "language": "python",
      "display_name": "Python 3"
    },
    "nteract": {
      "version": "0.15.0"
    }
  },
  "nbformat": 4,
  "nbformat_minor": 0
}