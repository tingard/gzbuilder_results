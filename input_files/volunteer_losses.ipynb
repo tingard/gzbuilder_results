{
  "cells": [
    {
      "cell_type": "markdown",
      "source": [
        "# Volunteer model loss calculation\n",
        "\n",
        "This notebook takes a `subject_id` and calculates the MSE of each volunteer's model to the galaxy data. These losses are then glued to the notebook for use elsewhere."
      ],
      "metadata": {}
    },
    {
      "cell_type": "code",
      "source": [
        "%load_ext autoreload\n",
        "%autoreload 2"
      ],
      "outputs": [],
      "execution_count": null,
      "metadata": {
        "collapsed": false,
        "outputHidden": false,
        "inputHidden": false
      }
    },
    {
      "cell_type": "code",
      "source": [
        "import json\n",
        "import numpy as np\n",
        "import pandas as pd\n",
        "from tqdm import tqdm\n",
        "import matplotlib.pyplot as plt\n",
        "import seaborn as sns\n",
        "from gzbuilder_analysis import parsing, rendering, fitting\n",
        "import lib.galaxy_utilities as gu\n",
        "import scrapbook as sb"
      ],
      "outputs": [],
      "execution_count": null,
      "metadata": {
        "collapsed": false,
        "outputHidden": false,
        "inputHidden": false
      }
    },
    {
      "cell_type": "code",
      "source": [
        "subject_id = 20902040"
      ],
      "outputs": [],
      "execution_count": null,
      "metadata": {
        "collapsed": false,
        "outputHidden": false,
        "inputHidden": false,
        "tags": [
          "parameters"
        ]
      }
    },
    {
      "cell_type": "code",
      "source": [
        "diff_data_df = pd.read_pickle('lib/fitting_metadata.pkl')"
      ],
      "outputs": [],
      "execution_count": null,
      "metadata": {
        "collapsed": false,
        "outputHidden": false,
        "inputHidden": false
      }
    },
    {
      "cell_type": "code",
      "source": [
        "def get_losses_by_user(subject_id):\n",
        "  diff_data = diff_data_df.loc[subject_id]\n",
        "  psf = diff_data['psf']\n",
        "  pixel_mask = np.array(diff_data['pixel_mask'])[::-1]\n",
        "  galaxy_data = np.array(diff_data['galaxy_data'])[::-1]\n",
        "  image_size = galaxy_data.shape[0]\n",
        "  size_diff = diff_data['size_diff']\n",
        "  \n",
        "  cls = gu.classifications.query('subject_ids == {}'.format(subject_id))\n",
        "  names = cls.user_name \n",
        "  annotations = cls['annotations'].apply(json.loads)\n",
        "\n",
        "  models = annotations.apply(\n",
        "    parsing.parse_annotation,\n",
        "    size_diff=size_diff\n",
        "  )\n",
        "\n",
        "  tqdm.pandas(\n",
        "    desc='Rendering models'.format(subject_id),\n",
        "    leave=False\n",
        "  )\n",
        "  rendered = models.progress_apply(\n",
        "    rendering.calculate_model,\n",
        "    image_size=image_size,\n",
        "    psf=psf\n",
        "  ).rename('rendered')\n",
        "\n",
        "  tqdm.pandas(\n",
        "    desc='Calculating differences'.format(subject_id),\n",
        "    leave=False\n",
        "  )\n",
        "  losses = rendered.apply(\n",
        "    fitting.loss,\n",
        "    args=(galaxy_data, pixel_mask)\n",
        "  ).rename('loss')\n",
        "  all_losses = pd.Series(\n",
        "    losses.values,\n",
        "    index=names.values\n",
        "  ).rename(subject_id)\n",
        "  best_losses = pd.concat((\n",
        "    all_losses.where(\n",
        "      ~all_losses.duplicated(keep=False)\n",
        "    ).dropna(), # all non-duplicates\n",
        "    all_losses.where(\n",
        "      all_losses.duplicated(keep=False)\n",
        "    ).dropna().groupby(level=0).min() # best value of duplicates\n",
        "  ), axis=0)\n",
        "  return best_losses"
      ],
      "outputs": [],
      "execution_count": null,
      "metadata": {
        "collapsed": false,
        "outputHidden": false,
        "inputHidden": false
      }
    },
    {
      "cell_type": "code",
      "source": [
        "losses = get_losses_by_user(subject_id)\n",
        "losses"
      ],
      "outputs": [],
      "execution_count": null,
      "metadata": {
        "collapsed": false,
        "outputHidden": false,
        "inputHidden": false
      }
    },
    {
      "cell_type": "code",
      "source": [
        "sb.glue('subject_id', subject_id)\n",
        "sb.glue('losses', losses.to_dict())"
      ],
      "outputs": [],
      "execution_count": null,
      "metadata": {
        "collapsed": false,
        "outputHidden": false,
        "inputHidden": false
      }
    }
  ],
  "metadata": {
    "kernel_info": {
      "name": "python3"
    },
    "language_info": {
      "name": "python",
      "version": "3.6.7",
      "mimetype": "text/x-python",
      "codemirror_mode": {
        "name": "ipython",
        "version": 3
      },
      "pygments_lexer": "ipython3",
      "nbconvert_exporter": "python",
      "file_extension": ".py"
    },
    "kernelspec": {
      "name": "python3",
      "language": "python",
      "display_name": "Python 3"
    },
    "nteract": {
      "version": "0.14.3"
    }
  },
  "nbformat": 4,
  "nbformat_minor": 0
}