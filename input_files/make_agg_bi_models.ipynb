{
  "cells": [
    {
      "cell_type": "markdown",
      "source": [
        "# Model calculation\n",
        "\n",
        "This notebook obtains an aggregate model and a best individual classification for each model in galaxy builder's original 296 subjects."
      ],
      "metadata": {}
    },
    {
      "cell_type": "code",
      "source": [
        "%load_ext autoreload\n",
        "%autoreload 2"
      ],
      "outputs": [],
      "execution_count": 1,
      "metadata": {
        "collapsed": false,
        "outputHidden": false,
        "inputHidden": false
      }
    },
    {
      "cell_type": "code",
      "source": [
        "import os\n",
        "if os.getcwd().split('/')[-1] != 'gzbuilder_results':\n",
        "    os.chdir('..')\n",
        "print(os.getcwd())"
      ],
      "outputs": [
        {
          "output_type": "stream",
          "name": "stdout",
          "text": [
            "/Users/tlingard/PhD/gzbuilder_collection/gzbuilder_results\n"
          ]
        }
      ],
      "execution_count": 2,
      "metadata": {
        "collapsed": false,
        "outputHidden": false,
        "inputHidden": false
      }
    },
    {
      "cell_type": "code",
      "source": [
        "import os\n",
        "import json\n",
        "import numpy as np\n",
        "import pandas as pd\n",
        "from copy import deepcopy\n",
        "import matplotlib.pyplot as plt\n",
        "from tqdm import tqdm\n",
        "import lib.galaxy_utilities as gu\n",
        "import gzbuilder_analysis.parsing as parsing\n",
        "import gzbuilder_analysis.rendering as rendering\n",
        "import gzbuilder_analysis.aggregation as aggregation\n",
        "import gzbuilder_analysis.fitting as fitting\n",
        "from gzbuilder_analysis.fitting.jupyter import UpdatableDisplay\n",
        "from IPython.display import HTML"
      ],
      "outputs": [],
      "execution_count": 3,
      "metadata": {
        "collapsed": false,
        "outputHidden": false,
        "inputHidden": false
      }
    },
    {
      "cell_type": "markdown",
      "source": [
        "Parameters of input (or output) file locations, and some opertational flags"
      ],
      "metadata": {}
    },
    {
      "cell_type": "code",
      "source": [
        "AGGREGATE_LOCATION = 'lib/aggregation_results.pickle'\n",
        "BEST_INDIVIDUAL_LOCATION = 'lib/best_individual.pickle'"
      ],
      "outputs": [],
      "execution_count": 4,
      "metadata": {
        "collapsed": false,
        "outputHidden": false,
        "inputHidden": false,
        "tags": [
          "parameters"
        ]
      }
    },
    {
      "cell_type": "markdown",
      "source": [
        "Load in the list of subject ids to use"
      ],
      "metadata": {}
    },
    {
      "cell_type": "code",
      "source": [
        "sid_list = np.loadtxt('lib/subject-id-list.csv', dtype='u8')\n",
        "gal_angle_df = pd.read_csv('lib/gal-metadata.csv', index_col=0)\n",
        "fitting_metadata = pd.read_pickle('lib/fitting_metadata.pkl')"
      ],
      "outputs": [],
      "execution_count": 5,
      "metadata": {
        "collapsed": false,
        "outputHidden": false,
        "inputHidden": false
      }
    },
    {
      "cell_type": "code",
      "source": [
        "(\n",
        "    fitting_metadata['pixel_mask'].apply(lambda a: a.shape)\n",
        "    ==\n",
        "    fitting_metadata['sigma_image'].apply(lambda a: a.shape)\n",
        ").describe()"
      ],
      "outputs": [
        {
          "output_type": "execute_result",
          "execution_count": 6,
          "data": {
            "text/plain": [
              "count      296\n",
              "unique       1\n",
              "top       True\n",
              "freq       296\n",
              "dtype: object"
            ]
          },
          "metadata": {}
        }
      ],
      "execution_count": 6,
      "metadata": {
        "collapsed": false,
        "outputHidden": false,
        "inputHidden": false
      }
    },
    {
      "cell_type": "markdown",
      "source": [
        "## Preparation"
      ],
      "metadata": {}
    },
    {
      "cell_type": "markdown",
      "source": [
        "Define functions to obtain the best individual classification for a galaxy, and its aggregate model"
      ],
      "metadata": {}
    },
    {
      "cell_type": "code",
      "source": [
        "def get_agg_model(subject_id):\n",
        "    gal = gal_angle_df.loc[subject_id]\n",
        "    angle = gal['angle']\n",
        "    diff_data = fitting_metadata.loc[subject_id]\n",
        "    size_diff = diff_data['size_diff']\n",
        "    cls = gu.classifications.query(\n",
        "        'subject_ids == {}'.format(subject_id)\n",
        "    )\n",
        "    model, error, masks, arms = aggregation.make_model(\n",
        "        cls, gal, angle\n",
        "    )\n",
        "    scaled_model = parsing.scale_aggregate_model(\n",
        "        model,\n",
        "        size_diff=size_diff,\n",
        "        image_size=np.array(diff_data['galaxy_data']).shape,\n",
        "        wcs_in=diff_data['montage_wcs'],\n",
        "        wcs_out=diff_data['original_wcs'],\n",
        "    )\n",
        "    scaled_errors = parsing.scale_model_errors(error, size_diff=size_diff)\n",
        "    return scaled_model, scaled_errors, masks, arms\n",
        "  \n",
        "def get_best_cls(subject_id):\n",
        "    gal = gal_angle_df.loc[subject_id]\n",
        "    angle = gal['angle']\n",
        "    diff_data = fitting_metadata.loc[subject_id]\n",
        "\n",
        "    ba = gal['PETRO_BA90']\n",
        "    psf = diff_data['psf']\n",
        "    pixel_mask = np.array(diff_data['pixel_mask'])\n",
        "    galaxy_data = np.array(diff_data['galaxy_data'])\n",
        "    sigma_image = np.array(diff_data['sigma_image'])\n",
        "    size_diff = diff_data['size_diff']\n",
        "\n",
        "\n",
        "    cls = gu.classifications.query(\n",
        "        'subject_ids == {}'.format(subject_id)\n",
        "    )\n",
        "    annotations = cls['annotations'].apply(json.loads)\n",
        "\n",
        "    models = annotations.apply(\n",
        "        parsing.parse_annotation,\n",
        "        args=(galaxy_data.shape,),\n",
        "        size_diff=size_diff,\n",
        "        wcs_in=diff_data['montage_wcs'],\n",
        "        wcs_out=diff_data['original_wcs'],\n",
        "    )\n",
        "    rendered = models.apply(\n",
        "        rendering.calculate_model,\n",
        "        image_size=galaxy_data.shape,\n",
        "        psf=psf\n",
        "    )\n",
        "    losses = rendered.apply(\n",
        "        fitting.loss,\n",
        "        args=(galaxy_data,),\n",
        "        pixel_mask=pixel_mask,\n",
        "        sigma_image=sigma_image\n",
        "    )\n",
        "    pd.concat(\n",
        "        (models, rendered, losses),\n",
        "        axis=0\n",
        "    ).to_pickle('lib/volunteer_models/{}.pickle'.format(subject_id))\n",
        "    return losses.idxmin(), losses.min(), models.loc[losses.idxmin()]"
      ],
      "outputs": [],
      "execution_count": 19,
      "metadata": {
        "collapsed": false,
        "outputHidden": false,
        "inputHidden": false
      }
    },
    {
      "cell_type": "markdown",
      "source": [
        "Calculate the list of best individual models"
      ],
      "metadata": {}
    },
    {
      "cell_type": "code",
      "source": [
        "best_indiv = pd.Series([])\n",
        "with tqdm(sid_list, desc='Finding best individual', leave=True) as bar:\n",
        "    for subject_id in bar:\n",
        "        try:\n",
        "            best_indiv.loc[subject_id] = get_best_cls(subject_id)\n",
        "        except ValueError:\n",
        "            print(subject_id)\n",
        "            break\n",
        "best_indiv = best_indiv.apply(pd.Series)\n",
        "best_indiv.columns = ('cls_index', 'chisq', 'Model')\n",
        "best_indiv.to_pickle(BEST_INDIVIDUAL_LOCATION)"
      ],
      "outputs": [
        {
          "output_type": "stream",
          "name": "stderr",
          "text": [
            "Finding best individual: 100%|██████████| 296/296 [38:13<00:00,  3.95s/it] \n"
          ]
        }
      ],
      "execution_count": 15,
      "metadata": {
        "collapsed": false,
        "outputHidden": false,
        "inputHidden": false
      }
    },
    {
      "cell_type": "code",
      "source": [
        "best_indiv.sample(5)"
      ],
      "outputs": [
        {
          "output_type": "error",
          "ename": "ValueError",
          "evalue": "'a' must be greater than 0 unless no samples are taken",
          "traceback": [
            "\u001b[0;31m---------------------------------------------------------------------------\u001b[0m",
            "\u001b[0;31mValueError\u001b[0m                                Traceback (most recent call last)",
            "\u001b[0;32m<ipython-input-9-bd42e5d0c4df>\u001b[0m in \u001b[0;36m<module>\u001b[0;34m\u001b[0m\n\u001b[0;32m----> 1\u001b[0;31m \u001b[0mbest_indiv\u001b[0m\u001b[0;34m.\u001b[0m\u001b[0msample\u001b[0m\u001b[0;34m(\u001b[0m\u001b[0;36m5\u001b[0m\u001b[0;34m)\u001b[0m\u001b[0;34m\u001b[0m\u001b[0;34m\u001b[0m\u001b[0m\n\u001b[0m",
            "\u001b[0;32m~/anaconda3/lib/python3.6/site-packages/pandas/core/generic.py\u001b[0m in \u001b[0;36msample\u001b[0;34m(self, n, frac, replace, weights, random_state, axis)\u001b[0m\n\u001b[1;32m   4863\u001b[0m                              \"provide positive value.\")\n\u001b[1;32m   4864\u001b[0m \u001b[0;34m\u001b[0m\u001b[0m\n\u001b[0;32m-> 4865\u001b[0;31m         \u001b[0mlocs\u001b[0m \u001b[0;34m=\u001b[0m \u001b[0mrs\u001b[0m\u001b[0;34m.\u001b[0m\u001b[0mchoice\u001b[0m\u001b[0;34m(\u001b[0m\u001b[0maxis_length\u001b[0m\u001b[0;34m,\u001b[0m \u001b[0msize\u001b[0m\u001b[0;34m=\u001b[0m\u001b[0mn\u001b[0m\u001b[0;34m,\u001b[0m \u001b[0mreplace\u001b[0m\u001b[0;34m=\u001b[0m\u001b[0mreplace\u001b[0m\u001b[0;34m,\u001b[0m \u001b[0mp\u001b[0m\u001b[0;34m=\u001b[0m\u001b[0mweights\u001b[0m\u001b[0;34m)\u001b[0m\u001b[0;34m\u001b[0m\u001b[0;34m\u001b[0m\u001b[0m\n\u001b[0m\u001b[1;32m   4866\u001b[0m         \u001b[0;32mreturn\u001b[0m \u001b[0mself\u001b[0m\u001b[0;34m.\u001b[0m\u001b[0mtake\u001b[0m\u001b[0;34m(\u001b[0m\u001b[0mlocs\u001b[0m\u001b[0;34m,\u001b[0m \u001b[0maxis\u001b[0m\u001b[0;34m=\u001b[0m\u001b[0maxis\u001b[0m\u001b[0;34m,\u001b[0m \u001b[0mis_copy\u001b[0m\u001b[0;34m=\u001b[0m\u001b[0;32mFalse\u001b[0m\u001b[0;34m)\u001b[0m\u001b[0;34m\u001b[0m\u001b[0;34m\u001b[0m\u001b[0m\n\u001b[1;32m   4867\u001b[0m \u001b[0;34m\u001b[0m\u001b[0m\n",
            "\u001b[0;32mmtrand.pyx\u001b[0m in \u001b[0;36mmtrand.RandomState.choice\u001b[0;34m()\u001b[0m\n",
            "\u001b[0;31mValueError\u001b[0m: 'a' must be greater than 0 unless no samples are taken"
          ]
        }
      ],
      "execution_count": 9,
      "metadata": {
        "collapsed": false,
        "outputHidden": false,
        "inputHidden": false
      }
    },
    {
      "cell_type": "markdown",
      "source": [
        "Calculate the list of aggregate models"
      ],
      "metadata": {}
    },
    {
      "cell_type": "code",
      "source": [
        "tqdm.pandas(desc='Calculating aggregate', leave=True)\n",
        "aggregation_results = pd.Series(\n",
        "    sid_list, index=sid_list\n",
        ").progress_apply(get_agg_model)\\\n",
        "    .apply(pd.Series)\n",
        "aggregation_results.columns = ('Model', 'Errors', 'Masks', 'Arms')\n",
        "aggregation_results.to_pickle(AGGREGATE_LOCATION)"
      ],
      "outputs": [],
      "execution_count": null,
      "metadata": {
        "collapsed": false,
        "outputHidden": false,
        "inputHidden": false
      }
    }
  ],
  "metadata": {
    "kernel_info": {
      "name": "python3"
    },
    "language_info": {
      "name": "python",
      "version": "3.6.7",
      "mimetype": "text/x-python",
      "codemirror_mode": {
        "name": "ipython",
        "version": 3
      },
      "pygments_lexer": "ipython3",
      "nbconvert_exporter": "python",
      "file_extension": ".py"
    },
    "kernelspec": {
      "name": "python3",
      "language": "python",
      "display_name": "Python 3"
    },
    "nteract": {
      "version": "0.15.0"
    }
  },
  "nbformat": 4,
  "nbformat_minor": 0
}