{
  "cells": [
    {
      "cell_type": "markdown",
      "source": [
        "# Model calculation\n",
        "\n",
        "This notebook obtains an aggregate model and a best individual classification for each model in galaxy builder's original 296 subjects."
      ],
      "metadata": {}
    },
    {
      "cell_type": "code",
      "source": [
        "%load_ext autoreload\n",
        "%autoreload 2"
      ],
      "outputs": [],
      "execution_count": 1,
      "metadata": {
        "collapsed": false,
        "outputHidden": false,
        "inputHidden": false
      }
    },
    {
      "cell_type": "code",
      "source": [
        "import os\n",
        "if os.getcwd().split('/')[-1] != 'gzbuilder_results':\n",
        "    os.chdir('..')\n",
        "print(os.getcwd())"
      ],
      "outputs": [
        {
          "output_type": "stream",
          "name": "stdout",
          "text": [
            "/Users/tlingard/PhD/gzbuilder_collection/gzbuilder_results\n"
          ]
        }
      ],
      "execution_count": 2,
      "metadata": {
        "collapsed": false,
        "outputHidden": false,
        "inputHidden": false
      }
    },
    {
      "cell_type": "code",
      "source": [
        "import os\n",
        "import json\n",
        "import numpy as np\n",
        "import pandas as pd\n",
        "from copy import deepcopy\n",
        "import matplotlib.pyplot as plt\n",
        "from tqdm import tqdm\n",
        "import lib.galaxy_utilities as gu\n",
        "import gzbuilder_analysis.parsing as parsing\n",
        "import gzbuilder_analysis.rendering as rendering\n",
        "import gzbuilder_analysis.aggregation as aggregation\n",
        "import gzbuilder_analysis.fitting as fitting\n",
        "from gzbuilder_analysis.fitting.jupyter import UpdatableDisplay\n",
        "from IPython.display import HTML"
      ],
      "outputs": [],
      "execution_count": 3,
      "metadata": {
        "collapsed": false,
        "outputHidden": false,
        "inputHidden": false
      }
    },
    {
      "cell_type": "markdown",
      "source": [
        "Parameters of input (or output) file locations, and some opertational flags"
      ],
      "metadata": {}
    },
    {
      "cell_type": "code",
      "source": [
        "AGGREGATE_LOCATION = 'lib/aggregation_results.pickle'\n",
        "BEST_INDIVIDUAL_LOCATION = 'lib/best_individual.pickle'"
      ],
      "outputs": [],
      "execution_count": 4,
      "metadata": {
        "collapsed": false,
        "outputHidden": false,
        "inputHidden": false,
        "tags": [
          "parameters"
        ]
      }
    },
    {
      "cell_type": "markdown",
      "source": [
        "Load in the list of subject ids to use"
      ],
      "metadata": {}
    },
    {
      "cell_type": "code",
      "source": [
        "sid_list = np.loadtxt('lib/subject-id-list.csv', dtype='u8')\n",
        "gal_angle_df = pd.read_csv('lib/gal-metadata.csv', index_col=0)\n",
        "fitting_metadata = pd.read_pickle('lib/fitting_metadata.pkl')"
      ],
      "outputs": [],
      "execution_count": 5,
      "metadata": {
        "collapsed": false,
        "outputHidden": false,
        "inputHidden": false
      }
    },
    {
      "cell_type": "markdown",
      "source": [
        "## Preparation"
      ],
      "metadata": {}
    },
    {
      "cell_type": "markdown",
      "source": [
        "Define functions to obtain the best individual classification for a galaxy, and its aggregate model"
      ],
      "metadata": {}
    },
    {
      "cell_type": "code",
      "source": [
        "def get_agg_model(subject_id):\n",
        "    gal = gal_angle_df.loc[subject_id]\n",
        "    angle = gal['angle']\n",
        "    diff_data = fitting_metadata.loc[subject_id]\n",
        "    size_diff = diff_data['size_diff']\n",
        "    cls = gu.classifications.query(\n",
        "        'subject_ids == {}'.format(subject_id)\n",
        "    )\n",
        "    model, error, masks, arms = aggregation.make_model(\n",
        "        cls, gal, angle\n",
        "    )\n",
        "    scaled_model = parsing.scale_aggregate_model(model, size_diff=size_diff)\n",
        "    scaled_errors = parsing.scale_model_errors(error, size_diff=size_diff)\n",
        "    return scaled_model, scaled_errors, masks, arms\n",
        "  \n",
        "def get_best_cls(subject_id):\n",
        "    gal = gal_angle_df.loc[subject_id]\n",
        "    angle = gal['angle']\n",
        "    diff_data = fitting_metadata.loc[subject_id]\n",
        "\n",
        "    ba = gal['PETRO_BA90']\n",
        "    psf = diff_data['psf']\n",
        "    pixel_mask = np.array(diff_data['pixel_mask'])[::-1]\n",
        "    galaxy_data = np.array(diff_data['galaxy_data'])[::-1]\n",
        "    sigma_image = np.array(diff_data['sigma_image'])[::-1]\n",
        "    size_diff = diff_data['size_diff']\n",
        "\n",
        "\n",
        "    cls = gu.classifications.query(\n",
        "        'subject_ids == {}'.format(subject_id)\n",
        "    )\n",
        "    annotations = cls['annotations'].apply(json.loads)\n",
        "\n",
        "    models = annotations.apply(parsing.parse_annotation, size_diff=size_diff)\n",
        "    rendered = models.apply(\n",
        "        rendering.calculate_model,\n",
        "        image_size=galaxy_data.shape[0],\n",
        "        psf=psf\n",
        "    )\n",
        "    losses = rendered.apply(\n",
        "        fitting.loss,\n",
        "        args=(galaxy_data,),\n",
        "        pixel_mask=pixel_mask,\n",
        "        sigma_image=sigma_image\n",
        "    )\n",
        "    return losses.idxmin(), models.loc[losses.idxmin()]"
      ],
      "outputs": [],
      "execution_count": 6,
      "metadata": {
        "collapsed": false,
        "outputHidden": false,
        "inputHidden": false
      }
    },
    {
      "cell_type": "markdown",
      "source": [
        "Calculate the list of best individual models"
      ],
      "metadata": {}
    },
    {
      "cell_type": "code",
      "source": [
        "best_indiv = pd.Series([])\n",
        "with tqdm(sid_list, desc='Finding best individual', leave=True) as bar:\n",
        "    for subject_id in bar:\n",
        "        best_indiv.loc[subject_id] = get_best_cls(subject_id)\n",
        "best_indiv = best_indiv.apply(pd.Series)\n",
        "best_indiv.columns = ('Index', 'Model')\n",
        "best_indiv.to_pickle(BEST_INDIVIDUAL_LOCATION)"
      ],
      "outputs": [
        {
          "output_type": "stream",
          "name": "stderr",
          "text": [
            "Finding best individual: 100%|██████████| 296/296 [38:26<00:00,  3.64s/it] \n"
          ]
        }
      ],
      "execution_count": 7,
      "metadata": {
        "collapsed": false,
        "outputHidden": false,
        "inputHidden": false
      }
    },
    {
      "cell_type": "code",
      "source": [
        "best_indiv.sample(5)"
      ],
      "outputs": [
        {
          "output_type": "execute_result",
          "execution_count": 10,
          "data": {
            "text/plain": [
              "          Index                                              Model\n",
              "21096847   8566  {'disk': {'mu': [117.01575428247452, 118.30514...\n",
              "21096891   4904  {'disk': {'mu': [104.9871826171875, 103.609313...\n",
              "20902061   2337  {'disk': {'mu': [43.23891520500183, 42.9580732...\n",
              "21096996   7546  {'disk': {'mu': [45.5218505859375, 45.45867919...\n",
              "20902055   7094  {'disk': {'mu': [116.64576721191406, 115.97914..."
            ],
            "text/html": [
              "<div>\n",
              "<style scoped>\n",
              "    .dataframe tbody tr th:only-of-type {\n",
              "        vertical-align: middle;\n",
              "    }\n",
              "\n",
              "    .dataframe tbody tr th {\n",
              "        vertical-align: top;\n",
              "    }\n",
              "\n",
              "    .dataframe thead th {\n",
              "        text-align: right;\n",
              "    }\n",
              "</style>\n",
              "<table border=\"1\" class=\"dataframe\">\n",
              "  <thead>\n",
              "    <tr style=\"text-align: right;\">\n",
              "      <th></th>\n",
              "      <th>Index</th>\n",
              "      <th>Model</th>\n",
              "    </tr>\n",
              "  </thead>\n",
              "  <tbody>\n",
              "    <tr>\n",
              "      <th>21096847</th>\n",
              "      <td>8566</td>\n",
              "      <td>{'disk': {'mu': [117.01575428247452, 118.30514...</td>\n",
              "    </tr>\n",
              "    <tr>\n",
              "      <th>21096891</th>\n",
              "      <td>4904</td>\n",
              "      <td>{'disk': {'mu': [104.9871826171875, 103.609313...</td>\n",
              "    </tr>\n",
              "    <tr>\n",
              "      <th>20902061</th>\n",
              "      <td>2337</td>\n",
              "      <td>{'disk': {'mu': [43.23891520500183, 42.9580732...</td>\n",
              "    </tr>\n",
              "    <tr>\n",
              "      <th>21096996</th>\n",
              "      <td>7546</td>\n",
              "      <td>{'disk': {'mu': [45.5218505859375, 45.45867919...</td>\n",
              "    </tr>\n",
              "    <tr>\n",
              "      <th>20902055</th>\n",
              "      <td>7094</td>\n",
              "      <td>{'disk': {'mu': [116.64576721191406, 115.97914...</td>\n",
              "    </tr>\n",
              "  </tbody>\n",
              "</table>\n",
              "</div>"
            ]
          },
          "metadata": {}
        }
      ],
      "execution_count": 10,
      "metadata": {
        "collapsed": false,
        "outputHidden": false,
        "inputHidden": false
      }
    },
    {
      "cell_type": "markdown",
      "source": [
        "Calculate the list of aggregate models"
      ],
      "metadata": {}
    },
    {
      "cell_type": "code",
      "source": [
        "tqdm.pandas(desc='Calculating aggregate', leave=True)\n",
        "aggregation_results = pd.Series(\n",
        "    sid_list, index=sid_list\n",
        ").progress_apply(get_agg_model)\\\n",
        "    .apply(pd.Series)\n",
        "aggregation_results.columns = ('Model', 'Errors', 'Masks', 'Arms')\n",
        "aggregation_results.to_pickle(AGGREGATE_LOCATION)"
      ],
      "outputs": [
        {
          "output_type": "stream",
          "name": "stderr",
          "text": [
            "Calculating aggregate: 100%|██████████| 296/296 [1:03:45<00:00, 11.65s/it]\n"
          ]
        }
      ],
      "execution_count": 9,
      "metadata": {
        "collapsed": false,
        "outputHidden": false,
        "inputHidden": false
      }
    }
  ],
  "metadata": {
    "kernel_info": {
      "name": "python3"
    },
    "language_info": {
      "name": "python",
      "version": "3.6.7",
      "mimetype": "text/x-python",
      "codemirror_mode": {
        "name": "ipython",
        "version": 3
      },
      "pygments_lexer": "ipython3",
      "nbconvert_exporter": "python",
      "file_extension": ".py"
    },
    "kernelspec": {
      "name": "python3",
      "language": "python",
      "display_name": "Python 3"
    },
    "nteract": {
      "version": "0.15.0"
    }
  },
  "nbformat": 4,
  "nbformat_minor": 0
}