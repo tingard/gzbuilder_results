{
  "cells": [
    {
      "cell_type": "markdown",
      "source": [
        "# Compile Tuned models\n",
        "\n",
        "We grab the tuned models (performed using the Levenberg Marquadt algorithm on the Sciama HPC)."
      ],
      "metadata": {}
    },
    {
      "cell_type": "code",
      "source": [
        "%load_ext autoreload\n",
        "%autoreload 2"
      ],
      "outputs": [],
      "execution_count": null,
      "metadata": {
        "collapsed": false,
        "outputHidden": false,
        "inputHidden": false
      }
    },
    {
      "cell_type": "code",
      "source": [
        "import os\n",
        "import re\n",
        "import json\n",
        "import numpy as np\n",
        "import scipy.stats as st\n",
        "import pandas as pd\n",
        "import matplotlib.pyplot as plt\n",
        "import seaborn as sns\n",
        "from tqdm import tqdm\n",
        "from gzbuilder_analysis.parsing import unmake_json\n",
        "from gzbuilder_analysis.fitting import Model, loss\n",
        "import lib.galaxy_utilities as gu"
      ],
      "outputs": [],
      "execution_count": null,
      "metadata": {
        "collapsed": false,
        "outputHidden": false,
        "inputHidden": false
      }
    },
    {
      "cell_type": "code",
      "source": [
        "def make_model(subject_id, m):\n",
        "    psf = gu.get_psf(subject_id)\n",
        "    diff_data = gu.get_diff_data(subject_id)\n",
        "    pixel_mask = 1 - np.array(diff_data['mask'])[::-1]\n",
        "    galaxy_data = np.array(diff_data['imageData'])[::-1]\n",
        "    return Model(m, galaxy_data, psf=psf, pixel_mask=pixel_mask)"
      ],
      "outputs": [],
      "execution_count": null,
      "metadata": {
        "collapsed": false,
        "outputHidden": false,
        "inputHidden": false
      }
    },
    {
      "cell_type": "code",
      "source": [
        "AGG_MODEL_PATH = 'output_notebooks/tuned_models/agg'\n",
        "BI_MODEL_PATH = 'output_notebooks/tuned_models/bi'"
      ],
      "outputs": [],
      "execution_count": null,
      "metadata": {
        "collapsed": false,
        "outputHidden": false,
        "inputHidden": false,
        "tags": [
          "parameters"
        ]
      }
    },
    {
      "cell_type": "code",
      "source": [
        "available_agg_models = [\n",
        "  i for i in os.listdir(AGG_MODEL_PATH)\n",
        "  if re.match(r'[0-9]+\\.json', i)\n",
        "]\n",
        "available_bi_models = [\n",
        "  i for i in os.listdir(BI_MODEL_PATH)\n",
        "  if re.match(r'[0-9]+\\.json', i)\n",
        "]"
      ],
      "outputs": [],
      "execution_count": null,
      "metadata": {
        "collapsed": false,
        "outputHidden": false,
        "inputHidden": false
      }
    },
    {
      "cell_type": "code",
      "source": [
        "agg_models = pd.Series([])\n",
        "agg_losses = pd.Series([]).rename('agg_loss')\n",
        "with tqdm(available_agg_models, desc='Aggregate') as bar:\n",
        "  for f in bar:\n",
        "    subject_id = int(f.split('.')[0])\n",
        "    with open(os.path.join(AGG_MODEL_PATH, f)) as f_in:\n",
        "      model = unmake_json(json.load(f_in))\n",
        "    model_obj = make_model(subject_id, model)\n",
        "    agg_models[subject_id] = model_obj\n",
        "\n",
        "    r = model_obj.render()\n",
        "    agg_losses[subject_id] = loss(\n",
        "      r,\n",
        "      model_obj.data,\n",
        "      pixel_mask=model_obj.pixel_mask\n",
        "    )"
      ],
      "outputs": [],
      "execution_count": null,
      "metadata": {
        "collapsed": false,
        "outputHidden": false,
        "inputHidden": false
      }
    },
    {
      "cell_type": "code",
      "source": [
        "bi_models = pd.Series([])\n",
        "bi_losses = pd.Series([]).rename('bi_loss')\n",
        "with tqdm(available_bi_models, desc='Best Individual') as bar:\n",
        "  for f in bar:\n",
        "    subject_id = int(f.split('.')[0])\n",
        "    with open(os.path.join(BI_MODEL_PATH, f)) as f_in:\n",
        "      model = unmake_json(json.load(f_in))\n",
        "    model_obj = make_model(subject_id, model)\n",
        "    bi_models[subject_id] = model_obj\n",
        "    r = model_obj.render(model_obj._model)\n",
        "    bi_losses[subject_id] = loss(\n",
        "      r,\n",
        "      model_obj.data,\n",
        "      pixel_mask=model_obj.pixel_mask\n",
        "    )"
      ],
      "outputs": [],
      "execution_count": null,
      "metadata": {
        "collapsed": false,
        "outputHidden": false,
        "inputHidden": false
      }
    },
    {
      "cell_type": "code",
      "source": [
        "plt.figure(dpi=100)\n",
        "plt.subplot(131)\n",
        "plt.imshow(bi_models.iloc[13].render())\n",
        "plt.subplot(132)\n",
        "plt.imshow(agg_models.iloc[13].render())\n",
        "plt.subplot(133)\n",
        "plt.imshow(bi_models.iloc[13].data)"
      ],
      "outputs": [],
      "execution_count": null,
      "metadata": {
        "collapsed": false,
        "outputHidden": false,
        "inputHidden": false
      }
    },
    {
      "cell_type": "code",
      "source": [
        "from gzbuilder_analysis.fitting.jupyter import live_fit"
      ],
      "outputs": [],
      "execution_count": null,
      "metadata": {
        "collapsed": false,
        "outputHidden": false,
        "inputHidden": false
      }
    },
    {
      "cell_type": "code",
      "source": [
        "agg_losses.loc[20902052]"
      ],
      "outputs": [],
      "execution_count": null,
      "metadata": {
        "collapsed": false,
        "outputHidden": false,
        "inputHidden": false
      }
    },
    {
      "cell_type": "code",
      "source": [
        "nm, res = live_fit(agg_models.iloc[13])"
      ],
      "outputs": [],
      "execution_count": null,
      "metadata": {
        "collapsed": false,
        "outputHidden": false,
        "inputHidden": false
      }
    },
    {
      "cell_type": "code",
      "source": [
        "'{:.5e} -> {:.5e}'.format(agg_losses.iloc[13], res['fun'])"
      ],
      "outputs": [],
      "execution_count": null,
      "metadata": {
        "collapsed": false,
        "outputHidden": false,
        "inputHidden": false
      }
    },
    {
      "cell_type": "code",
      "source": [
        "_, axs = plt.subplots(ncols=2, figsize=(12, 4), dpi=100)\n",
        "plt.sca(axs[0])\n",
        "sns.kdeplot(agg_losses)\n",
        "sns.kdeplot(bi_losses)\n",
        "\n",
        "plt.sca(axs[1])\n",
        "diff = agg_losses - bi_losses\n",
        "sns.kdeplot(diff.dropna(), shade=True)\n",
        "plt.xlabel('Agg loss - BI loss (>0 if BI better)')\n",
        "l = plt.ylim()[1]\n",
        "plt.vlines(diff.median(), -10, l, alpha=0.2)\n",
        "plt.ylim(0, l);"
      ],
      "outputs": [],
      "execution_count": null,
      "metadata": {
        "collapsed": false,
        "outputHidden": false,
        "inputHidden": false
      }
    },
    {
      "cell_type": "code",
      "source": [
        "diff = agg_losses - bi_losses\n",
        "sns.kdeplot(diff.dropna(), shade=True)\n",
        "plt.xlabel('Agg loss - BI loss (>0 if BI better)')\n",
        "l = plt.ylim()[1]\n",
        "plt.vlines(diff.median(), -10, l, alpha=0.2)\n",
        "plt.ylim(0, l);"
      ],
      "outputs": [],
      "execution_count": null,
      "metadata": {
        "collapsed": false,
        "outputHidden": false,
        "inputHidden": false
      }
    },
    {
      "cell_type": "code",
      "source": [
        "x = np.linspace(0, 1, 1000)\n",
        "p_agg_better = st.beta.pdf(x, 1 + (diff < 0).sum(), 1 + len(diff) - (diff < 0).sum())\n",
        "p_bi_better = st.beta.pdf(x, 1 + (diff > 0).sum(), 1 + len(diff) - (diff > 0).sum())\n",
        "plt.figure(figsize=(16, 4))\n",
        "plt.plot(x, p_agg_better, label='P(Aggregate better than Best Individual)')\n",
        "plt.fill_between(x, 0, p_agg_better, alpha=0.2)\n",
        "plt.plot(x, p_bi_better, label='P(Best Individual better than Aggregate)')\n",
        "plt.fill_between(x, 0, p_bi_better, alpha=0.2)\n",
        "plt.legend()\n",
        "plt.yticks([]);"
      ],
      "outputs": [],
      "execution_count": null,
      "metadata": {
        "collapsed": false,
        "outputHidden": false,
        "inputHidden": false
      }
    },
    {
      "cell_type": "markdown",
      "source": [
        "What do the models look like where the differences between aggregate and models are largest?"
      ],
      "metadata": {}
    },
    {
      "cell_type": "code",
      "source": [
        "_, ax = plt.subplots(nrows=2, ncols=4, figsize=(14, 7), dpi=100)\n",
        "for i, idx in enumerate(diff.abs().sort_values(ascending=False).index[:4]):\n",
        "  agg_better = agg_losses.loc[idx] < bi_losses.loc[idx]\n",
        "  a = agg_models.loc[idx]\n",
        "  b = bi_models.loc[idx]\n",
        "  ax[0][i].imshow(a.render() * a.pixel_mask ,\n",
        "                  cmap=('Blues' if agg_better else 'Reds'))\n",
        "  ax[0][i].set_title('Aggregate: {:.4e}'.format(agg_losses.loc[idx]))\n",
        "  ax[1][i].imshow(b.render() * b.pixel_mask,\n",
        "                  cmap=('Reds' if agg_better else 'Blues'))\n",
        "  ax[1][i].set_title('Best Individual: {:.4e}'.format(bi_losses.loc[idx]))\n",
        "plt.tight_layout()"
      ],
      "outputs": [],
      "execution_count": null,
      "metadata": {
        "collapsed": false,
        "outputHidden": false,
        "inputHidden": true
      }
    },
    {
      "cell_type": "markdown",
      "source": [
        "What about when the models are the most similar?"
      ],
      "metadata": {}
    },
    {
      "cell_type": "code",
      "source": [
        "_, ax = plt.subplots(nrows=2, ncols=4, figsize=(14, 7), dpi=100)\n",
        "for i, idx in enumerate(diff.abs().sort_values(ascending=True).index[:4]):\n",
        "  agg_better = agg_losses.loc[idx] < bi_losses.loc[idx]\n",
        "  a = agg_models.loc[idx]\n",
        "  b = bi_models.loc[idx]\n",
        "  ax[0][i].imshow(a.render() * a.pixel_mask ,\n",
        "                  cmap=('Blues' if agg_better else 'Reds'))\n",
        "  ax[0][i].set_title('Aggregate: {:.4e}'.format(agg_losses.loc[idx]))\n",
        "  ax[1][i].imshow(b.render() * b.pixel_mask,\n",
        "                  cmap=('Reds' if agg_better else 'Blues'))\n",
        "  ax[1][i].set_title('Best Individual: {:.4e}'.format(bi_losses.loc[idx]))\n",
        "plt.tight_layout()"
      ],
      "outputs": [],
      "execution_count": null,
      "metadata": {
        "collapsed": false,
        "outputHidden": false,
        "inputHidden": true
      }
    },
    {
      "cell_type": "code",
      "source": [
        "print('Saving fitted models')\n",
        "fitted_models = pd.DataFrame([], columns=('agg', 'bi', 'agg_loss', 'bi_loss'))\n",
        "for i in bi_models.index:\n",
        "  fitted_models.loc[i] = dict(\n",
        "    agg=agg_models.loc[i]._model,\n",
        "    bi=bi_models.loc[i]._model,\n",
        "    agg_loss=agg_losses.loc[i],\n",
        "    bi_loss=bi_losses.loc[i],\n",
        "  )\n",
        "fitted_models.to_pickle('lib/fitted_models.pickle')"
      ],
      "outputs": [],
      "execution_count": null,
      "metadata": {
        "collapsed": false,
        "outputHidden": false,
        "inputHidden": false
      }
    }
  ],
  "metadata": {
    "kernel_info": {
      "name": "python3"
    },
    "language_info": {
      "name": "python",
      "version": "3.6.7",
      "mimetype": "text/x-python",
      "codemirror_mode": {
        "name": "ipython",
        "version": 3
      },
      "pygments_lexer": "ipython3",
      "nbconvert_exporter": "python",
      "file_extension": ".py"
    },
    "kernelspec": {
      "name": "python3",
      "language": "python",
      "display_name": "Python 3"
    },
    "nteract": {
      "version": "0.14.3"
    }
  },
  "nbformat": 4,
  "nbformat_minor": 0
}